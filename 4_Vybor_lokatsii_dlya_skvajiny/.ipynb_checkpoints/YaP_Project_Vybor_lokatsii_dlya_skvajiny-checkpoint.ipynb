{
 "cells": [
  {
   "cell_type": "markdown",
   "metadata": {},
   "source": [
    "# Выбор локации для скважины"
   ]
  },
  {
   "cell_type": "markdown",
   "metadata": {},
   "source": [
    "<div style=\"border-radius: 15px; border: 1px solid grey; padding: 15px;\">\n",
    "   \n",
    "Нужно решить, где бурить новую скважину.\n",
    "\n",
    "Вам предоставлены пробы нефти в трёх регионах: в каждом 10 000 месторождений, где измерили качество нефти и объём её запасов. Постройте модель машинного обучения, которая поможет определить регион, где добыча принесёт наибольшую прибыль. Проанализируйте возможную прибыль и риски.\n",
    "\n",
    "</div>\n"
   ]
  },
  {
   "cell_type": "markdown",
   "metadata": {},
   "source": [
    "<div style=\"border-radius: 15px; border: 1px solid grey; padding: 15px;\">\n",
    "<b> Описание данных:</b>\n",
    "    \n",
    "Данные геологоразведки трёх регионов находятся в трех файлах.\n",
    "\n",
    "- id — уникальный идентификатор скважины;\n",
    "\n",
    "- f0, f1, f2 — три признака точек (неважно, что они означают, но сами признаки значимы);\n",
    "\n",
    "- product — объём запасов в скважине (тыс. баррелей).\n",
    "\n",
    "</div>\n"
   ]
  },
  {
   "cell_type": "markdown",
   "metadata": {},
   "source": [
    "## Загрузка и подготовка данных"
   ]
  },
  {
   "cell_type": "markdown",
   "metadata": {},
   "source": [
    "### Загрузка и проверка данных"
   ]
  },
  {
   "cell_type": "code",
   "execution_count": 1,
   "metadata": {},
   "outputs": [],
   "source": [
    "import pandas as pd\n",
    "import numpy as np\n",
    "import matplotlib.pyplot as plt\n",
    "pd.options.mode.chained_assignment = None\n",
    "from sklearn.preprocessing import StandardScaler \n",
    "from sklearn.model_selection import train_test_split\n",
    "from sklearn.linear_model import LinearRegression\n",
    "from sklearn.metrics import precision_score, recall_score, mean_squared_error\n",
    "from sklearn.utils import shuffle"
   ]
  },
  {
   "cell_type": "code",
   "execution_count": 2,
   "metadata": {},
   "outputs": [],
   "source": [
    "df0 = pd.read_csv('/geo_data_0.csv')\n",
    "df1 = pd.read_csv('/geo_data_1.csv')\n",
    "df2 = pd.read_csv('/geo_data_2.csv')"
   ]
  },
  {
   "cell_type": "markdown",
   "metadata": {},
   "source": [
    "<div style=\"border-radius: 15px; border: 1px solid grey; padding: 15px;\">\n",
    "    Подгрузили данные из CSV. Проверим содержимое.\n",
    "</div>"
   ]
  },
  {
   "cell_type": "code",
   "execution_count": 3,
   "metadata": {},
   "outputs": [
    {
     "name": "stdout",
     "output_type": "stream",
     "text": [
      "<class 'pandas.core.frame.DataFrame'>\n",
      "RangeIndex: 100000 entries, 0 to 99999\n",
      "Data columns (total 5 columns):\n",
      "id         100000 non-null object\n",
      "f0         100000 non-null float64\n",
      "f1         100000 non-null float64\n",
      "f2         100000 non-null float64\n",
      "product    100000 non-null float64\n",
      "dtypes: float64(4), object(1)\n",
      "memory usage: 3.8+ MB\n"
     ]
    },
    {
     "data": {
      "text/html": [
       "<div>\n",
       "<style scoped>\n",
       "    .dataframe tbody tr th:only-of-type {\n",
       "        vertical-align: middle;\n",
       "    }\n",
       "\n",
       "    .dataframe tbody tr th {\n",
       "        vertical-align: top;\n",
       "    }\n",
       "\n",
       "    .dataframe thead th {\n",
       "        text-align: right;\n",
       "    }\n",
       "</style>\n",
       "<table border=\"1\" class=\"dataframe\">\n",
       "  <thead>\n",
       "    <tr style=\"text-align: right;\">\n",
       "      <th></th>\n",
       "      <th>id</th>\n",
       "      <th>f0</th>\n",
       "      <th>f1</th>\n",
       "      <th>f2</th>\n",
       "      <th>product</th>\n",
       "    </tr>\n",
       "  </thead>\n",
       "  <tbody>\n",
       "    <tr>\n",
       "      <td>0</td>\n",
       "      <td>txEyH</td>\n",
       "      <td>0.705745</td>\n",
       "      <td>-0.497823</td>\n",
       "      <td>1.221170</td>\n",
       "      <td>105.280062</td>\n",
       "    </tr>\n",
       "    <tr>\n",
       "      <td>1</td>\n",
       "      <td>2acmU</td>\n",
       "      <td>1.334711</td>\n",
       "      <td>-0.340164</td>\n",
       "      <td>4.365080</td>\n",
       "      <td>73.037750</td>\n",
       "    </tr>\n",
       "    <tr>\n",
       "      <td>2</td>\n",
       "      <td>409Wp</td>\n",
       "      <td>1.022732</td>\n",
       "      <td>0.151990</td>\n",
       "      <td>1.419926</td>\n",
       "      <td>85.265647</td>\n",
       "    </tr>\n",
       "    <tr>\n",
       "      <td>3</td>\n",
       "      <td>iJLyR</td>\n",
       "      <td>-0.032172</td>\n",
       "      <td>0.139033</td>\n",
       "      <td>2.978566</td>\n",
       "      <td>168.620776</td>\n",
       "    </tr>\n",
       "    <tr>\n",
       "      <td>4</td>\n",
       "      <td>Xdl7t</td>\n",
       "      <td>1.988431</td>\n",
       "      <td>0.155413</td>\n",
       "      <td>4.751769</td>\n",
       "      <td>154.036647</td>\n",
       "    </tr>\n",
       "    <tr>\n",
       "      <td>5</td>\n",
       "      <td>wX4Hy</td>\n",
       "      <td>0.969570</td>\n",
       "      <td>0.489775</td>\n",
       "      <td>-0.735383</td>\n",
       "      <td>64.741541</td>\n",
       "    </tr>\n",
       "    <tr>\n",
       "      <td>6</td>\n",
       "      <td>tL6pL</td>\n",
       "      <td>0.645075</td>\n",
       "      <td>0.530656</td>\n",
       "      <td>1.780266</td>\n",
       "      <td>49.055285</td>\n",
       "    </tr>\n",
       "    <tr>\n",
       "      <td>7</td>\n",
       "      <td>BYPU6</td>\n",
       "      <td>-0.400648</td>\n",
       "      <td>0.808337</td>\n",
       "      <td>-5.624670</td>\n",
       "      <td>72.943292</td>\n",
       "    </tr>\n",
       "    <tr>\n",
       "      <td>8</td>\n",
       "      <td>j9Oui</td>\n",
       "      <td>0.643105</td>\n",
       "      <td>-0.551583</td>\n",
       "      <td>2.372141</td>\n",
       "      <td>113.356160</td>\n",
       "    </tr>\n",
       "    <tr>\n",
       "      <td>9</td>\n",
       "      <td>OLuZU</td>\n",
       "      <td>2.173381</td>\n",
       "      <td>0.563698</td>\n",
       "      <td>9.441852</td>\n",
       "      <td>127.910945</td>\n",
       "    </tr>\n",
       "  </tbody>\n",
       "</table>\n",
       "</div>"
      ],
      "text/plain": [
       "      id        f0        f1        f2     product\n",
       "0  txEyH  0.705745 -0.497823  1.221170  105.280062\n",
       "1  2acmU  1.334711 -0.340164  4.365080   73.037750\n",
       "2  409Wp  1.022732  0.151990  1.419926   85.265647\n",
       "3  iJLyR -0.032172  0.139033  2.978566  168.620776\n",
       "4  Xdl7t  1.988431  0.155413  4.751769  154.036647\n",
       "5  wX4Hy  0.969570  0.489775 -0.735383   64.741541\n",
       "6  tL6pL  0.645075  0.530656  1.780266   49.055285\n",
       "7  BYPU6 -0.400648  0.808337 -5.624670   72.943292\n",
       "8  j9Oui  0.643105 -0.551583  2.372141  113.356160\n",
       "9  OLuZU  2.173381  0.563698  9.441852  127.910945"
      ]
     },
     "execution_count": 3,
     "metadata": {},
     "output_type": "execute_result"
    }
   ],
   "source": [
    "df0.info()\n",
    "df0.head(10)"
   ]
  },
  {
   "cell_type": "code",
   "execution_count": 4,
   "metadata": {},
   "outputs": [
    {
     "name": "stdout",
     "output_type": "stream",
     "text": [
      "<class 'pandas.core.frame.DataFrame'>\n",
      "RangeIndex: 100000 entries, 0 to 99999\n",
      "Data columns (total 5 columns):\n",
      "id         100000 non-null object\n",
      "f0         100000 non-null float64\n",
      "f1         100000 non-null float64\n",
      "f2         100000 non-null float64\n",
      "product    100000 non-null float64\n",
      "dtypes: float64(4), object(1)\n",
      "memory usage: 3.8+ MB\n"
     ]
    },
    {
     "data": {
      "text/html": [
       "<div>\n",
       "<style scoped>\n",
       "    .dataframe tbody tr th:only-of-type {\n",
       "        vertical-align: middle;\n",
       "    }\n",
       "\n",
       "    .dataframe tbody tr th {\n",
       "        vertical-align: top;\n",
       "    }\n",
       "\n",
       "    .dataframe thead th {\n",
       "        text-align: right;\n",
       "    }\n",
       "</style>\n",
       "<table border=\"1\" class=\"dataframe\">\n",
       "  <thead>\n",
       "    <tr style=\"text-align: right;\">\n",
       "      <th></th>\n",
       "      <th>id</th>\n",
       "      <th>f0</th>\n",
       "      <th>f1</th>\n",
       "      <th>f2</th>\n",
       "      <th>product</th>\n",
       "    </tr>\n",
       "  </thead>\n",
       "  <tbody>\n",
       "    <tr>\n",
       "      <td>0</td>\n",
       "      <td>kBEdx</td>\n",
       "      <td>-15.001348</td>\n",
       "      <td>-8.276000</td>\n",
       "      <td>-0.005876</td>\n",
       "      <td>3.179103</td>\n",
       "    </tr>\n",
       "    <tr>\n",
       "      <td>1</td>\n",
       "      <td>62mP7</td>\n",
       "      <td>14.272088</td>\n",
       "      <td>-3.475083</td>\n",
       "      <td>0.999183</td>\n",
       "      <td>26.953261</td>\n",
       "    </tr>\n",
       "    <tr>\n",
       "      <td>2</td>\n",
       "      <td>vyE1P</td>\n",
       "      <td>6.263187</td>\n",
       "      <td>-5.948386</td>\n",
       "      <td>5.001160</td>\n",
       "      <td>134.766305</td>\n",
       "    </tr>\n",
       "    <tr>\n",
       "      <td>3</td>\n",
       "      <td>KcrkZ</td>\n",
       "      <td>-13.081196</td>\n",
       "      <td>-11.506057</td>\n",
       "      <td>4.999415</td>\n",
       "      <td>137.945408</td>\n",
       "    </tr>\n",
       "    <tr>\n",
       "      <td>4</td>\n",
       "      <td>AHL4O</td>\n",
       "      <td>12.702195</td>\n",
       "      <td>-8.147433</td>\n",
       "      <td>5.004363</td>\n",
       "      <td>134.766305</td>\n",
       "    </tr>\n",
       "    <tr>\n",
       "      <td>5</td>\n",
       "      <td>HHckp</td>\n",
       "      <td>-3.327590</td>\n",
       "      <td>-2.205276</td>\n",
       "      <td>3.003647</td>\n",
       "      <td>84.038886</td>\n",
       "    </tr>\n",
       "    <tr>\n",
       "      <td>6</td>\n",
       "      <td>h5Ujo</td>\n",
       "      <td>-11.142655</td>\n",
       "      <td>-10.133399</td>\n",
       "      <td>4.002382</td>\n",
       "      <td>110.992147</td>\n",
       "    </tr>\n",
       "    <tr>\n",
       "      <td>7</td>\n",
       "      <td>muH9x</td>\n",
       "      <td>4.234715</td>\n",
       "      <td>-0.001354</td>\n",
       "      <td>2.004588</td>\n",
       "      <td>53.906522</td>\n",
       "    </tr>\n",
       "    <tr>\n",
       "      <td>8</td>\n",
       "      <td>YiRkx</td>\n",
       "      <td>13.355129</td>\n",
       "      <td>-0.332068</td>\n",
       "      <td>4.998647</td>\n",
       "      <td>134.766305</td>\n",
       "    </tr>\n",
       "    <tr>\n",
       "      <td>9</td>\n",
       "      <td>jG6Gi</td>\n",
       "      <td>1.069227</td>\n",
       "      <td>-11.025667</td>\n",
       "      <td>4.997844</td>\n",
       "      <td>137.945408</td>\n",
       "    </tr>\n",
       "  </tbody>\n",
       "</table>\n",
       "</div>"
      ],
      "text/plain": [
       "      id         f0         f1        f2     product\n",
       "0  kBEdx -15.001348  -8.276000 -0.005876    3.179103\n",
       "1  62mP7  14.272088  -3.475083  0.999183   26.953261\n",
       "2  vyE1P   6.263187  -5.948386  5.001160  134.766305\n",
       "3  KcrkZ -13.081196 -11.506057  4.999415  137.945408\n",
       "4  AHL4O  12.702195  -8.147433  5.004363  134.766305\n",
       "5  HHckp  -3.327590  -2.205276  3.003647   84.038886\n",
       "6  h5Ujo -11.142655 -10.133399  4.002382  110.992147\n",
       "7  muH9x   4.234715  -0.001354  2.004588   53.906522\n",
       "8  YiRkx  13.355129  -0.332068  4.998647  134.766305\n",
       "9  jG6Gi   1.069227 -11.025667  4.997844  137.945408"
      ]
     },
     "execution_count": 4,
     "metadata": {},
     "output_type": "execute_result"
    }
   ],
   "source": [
    "df1.info()\n",
    "df1.head(10)"
   ]
  },
  {
   "cell_type": "code",
   "execution_count": 5,
   "metadata": {},
   "outputs": [
    {
     "name": "stdout",
     "output_type": "stream",
     "text": [
      "<class 'pandas.core.frame.DataFrame'>\n",
      "RangeIndex: 100000 entries, 0 to 99999\n",
      "Data columns (total 5 columns):\n",
      "id         100000 non-null object\n",
      "f0         100000 non-null float64\n",
      "f1         100000 non-null float64\n",
      "f2         100000 non-null float64\n",
      "product    100000 non-null float64\n",
      "dtypes: float64(4), object(1)\n",
      "memory usage: 3.8+ MB\n"
     ]
    },
    {
     "data": {
      "text/html": [
       "<div>\n",
       "<style scoped>\n",
       "    .dataframe tbody tr th:only-of-type {\n",
       "        vertical-align: middle;\n",
       "    }\n",
       "\n",
       "    .dataframe tbody tr th {\n",
       "        vertical-align: top;\n",
       "    }\n",
       "\n",
       "    .dataframe thead th {\n",
       "        text-align: right;\n",
       "    }\n",
       "</style>\n",
       "<table border=\"1\" class=\"dataframe\">\n",
       "  <thead>\n",
       "    <tr style=\"text-align: right;\">\n",
       "      <th></th>\n",
       "      <th>id</th>\n",
       "      <th>f0</th>\n",
       "      <th>f1</th>\n",
       "      <th>f2</th>\n",
       "      <th>product</th>\n",
       "    </tr>\n",
       "  </thead>\n",
       "  <tbody>\n",
       "    <tr>\n",
       "      <td>0</td>\n",
       "      <td>fwXo0</td>\n",
       "      <td>-1.146987</td>\n",
       "      <td>0.963328</td>\n",
       "      <td>-0.828965</td>\n",
       "      <td>27.758673</td>\n",
       "    </tr>\n",
       "    <tr>\n",
       "      <td>1</td>\n",
       "      <td>WJtFt</td>\n",
       "      <td>0.262778</td>\n",
       "      <td>0.269839</td>\n",
       "      <td>-2.530187</td>\n",
       "      <td>56.069697</td>\n",
       "    </tr>\n",
       "    <tr>\n",
       "      <td>2</td>\n",
       "      <td>ovLUW</td>\n",
       "      <td>0.194587</td>\n",
       "      <td>0.289035</td>\n",
       "      <td>-5.586433</td>\n",
       "      <td>62.871910</td>\n",
       "    </tr>\n",
       "    <tr>\n",
       "      <td>3</td>\n",
       "      <td>q6cA6</td>\n",
       "      <td>2.236060</td>\n",
       "      <td>-0.553760</td>\n",
       "      <td>0.930038</td>\n",
       "      <td>114.572842</td>\n",
       "    </tr>\n",
       "    <tr>\n",
       "      <td>4</td>\n",
       "      <td>WPMUX</td>\n",
       "      <td>-0.515993</td>\n",
       "      <td>1.716266</td>\n",
       "      <td>5.899011</td>\n",
       "      <td>149.600746</td>\n",
       "    </tr>\n",
       "    <tr>\n",
       "      <td>5</td>\n",
       "      <td>LzZXx</td>\n",
       "      <td>-0.758092</td>\n",
       "      <td>0.710691</td>\n",
       "      <td>2.585887</td>\n",
       "      <td>90.222465</td>\n",
       "    </tr>\n",
       "    <tr>\n",
       "      <td>6</td>\n",
       "      <td>WBHRv</td>\n",
       "      <td>-0.574891</td>\n",
       "      <td>0.317727</td>\n",
       "      <td>1.773745</td>\n",
       "      <td>45.641478</td>\n",
       "    </tr>\n",
       "    <tr>\n",
       "      <td>7</td>\n",
       "      <td>XO8fn</td>\n",
       "      <td>-1.906649</td>\n",
       "      <td>-2.458350</td>\n",
       "      <td>-0.177097</td>\n",
       "      <td>72.480640</td>\n",
       "    </tr>\n",
       "    <tr>\n",
       "      <td>8</td>\n",
       "      <td>ybmQ5</td>\n",
       "      <td>1.776292</td>\n",
       "      <td>-0.279356</td>\n",
       "      <td>3.004156</td>\n",
       "      <td>106.616832</td>\n",
       "    </tr>\n",
       "    <tr>\n",
       "      <td>9</td>\n",
       "      <td>OilcN</td>\n",
       "      <td>-1.214452</td>\n",
       "      <td>-0.439314</td>\n",
       "      <td>5.922514</td>\n",
       "      <td>52.954532</td>\n",
       "    </tr>\n",
       "  </tbody>\n",
       "</table>\n",
       "</div>"
      ],
      "text/plain": [
       "      id        f0        f1        f2     product\n",
       "0  fwXo0 -1.146987  0.963328 -0.828965   27.758673\n",
       "1  WJtFt  0.262778  0.269839 -2.530187   56.069697\n",
       "2  ovLUW  0.194587  0.289035 -5.586433   62.871910\n",
       "3  q6cA6  2.236060 -0.553760  0.930038  114.572842\n",
       "4  WPMUX -0.515993  1.716266  5.899011  149.600746\n",
       "5  LzZXx -0.758092  0.710691  2.585887   90.222465\n",
       "6  WBHRv -0.574891  0.317727  1.773745   45.641478\n",
       "7  XO8fn -1.906649 -2.458350 -0.177097   72.480640\n",
       "8  ybmQ5  1.776292 -0.279356  3.004156  106.616832\n",
       "9  OilcN -1.214452 -0.439314  5.922514   52.954532"
      ]
     },
     "execution_count": 5,
     "metadata": {},
     "output_type": "execute_result"
    }
   ],
   "source": [
    "df2.info()\n",
    "df2.head(10)"
   ]
  },
  {
   "cell_type": "markdown",
   "metadata": {},
   "source": [
    "<div style=\"border-radius: 15px; border: 1px solid grey; padding: 15px;\">\n",
    "\n",
    "Пропусков в данных не обнаружено, можем переходить к формированию выборок, но прежде создадим переменную с именами колнок с цифровыми данными, которые станут признаками для обучения моделей, так как ID не может быть таким признаком, но и убрать его нельзя.\n",
    "    \n",
    "</div>"
   ]
  },
  {
   "cell_type": "code",
   "execution_count": 6,
   "metadata": {},
   "outputs": [],
   "source": [
    "num_features = ['f0', 'f1', 'f2']"
   ]
  },
  {
   "cell_type": "markdown",
   "metadata": {},
   "source": [
    "### Разбиение на подвыборки"
   ]
  },
  {
   "cell_type": "markdown",
   "metadata": {},
   "source": [
    "<div style=\"border-radius: 15px; border: 1px solid grey; padding: 15px;\">\n",
    "Разделяем фреймы на обучающие и валидационные выборки в соотношении 75/25.\n",
    "</div>"
   ]
  },
  {
   "cell_type": "code",
   "execution_count": 7,
   "metadata": {},
   "outputs": [],
   "source": [
    "df_train_0, df_valid_0 = train_test_split(df0, test_size=0.25, random_state=12345)"
   ]
  },
  {
   "cell_type": "code",
   "execution_count": 8,
   "metadata": {},
   "outputs": [],
   "source": [
    "df_train_1, df_valid_1 = train_test_split(df1, test_size=0.25, random_state=12345)"
   ]
  },
  {
   "cell_type": "code",
   "execution_count": 9,
   "metadata": {},
   "outputs": [],
   "source": [
    "df_train_2, df_valid_2 = train_test_split(df2, test_size=0.25, random_state=12345)"
   ]
  },
  {
   "cell_type": "markdown",
   "metadata": {},
   "source": [
    "<div style=\"border-radius: 15px; border: 1px solid grey; padding: 15px;\">\n",
    "Получившиеся выборки делим на признаки и целевой признак. Начнем с обучающих:\n",
    "</div>"
   ]
  },
  {
   "cell_type": "code",
   "execution_count": 10,
   "metadata": {},
   "outputs": [],
   "source": [
    "features_train_0 = df_train_0.drop(['product'], axis=1)\n",
    "target_train_0 = df_train_0['product']"
   ]
  },
  {
   "cell_type": "code",
   "execution_count": 11,
   "metadata": {},
   "outputs": [],
   "source": [
    "features_train_1 = df_train_1.drop(['product'], axis=1)\n",
    "target_train_1 = df_train_1['product']"
   ]
  },
  {
   "cell_type": "code",
   "execution_count": 12,
   "metadata": {},
   "outputs": [],
   "source": [
    "features_train_2 = df_train_2.drop(['product'], axis=1)\n",
    "target_train_2 = df_train_2['product']"
   ]
  },
  {
   "cell_type": "markdown",
   "metadata": {},
   "source": [
    "<div style=\"border-radius: 15px; border: 1px solid grey; padding: 15px;\">\n",
    "Валидационные:\n",
    "</div>"
   ]
  },
  {
   "cell_type": "code",
   "execution_count": 13,
   "metadata": {},
   "outputs": [],
   "source": [
    "features_valid_0 = df_valid_0.drop(['product'], axis=1)\n",
    "target_valid_0 = df_valid_0['product']"
   ]
  },
  {
   "cell_type": "code",
   "execution_count": 14,
   "metadata": {},
   "outputs": [],
   "source": [
    "features_valid_1 = df_valid_1.drop(['product'], axis=1)\n",
    "target_valid_1 = df_valid_1['product']"
   ]
  },
  {
   "cell_type": "code",
   "execution_count": 15,
   "metadata": {},
   "outputs": [],
   "source": [
    "features_valid_2 = df_valid_2.drop(['product'], axis=1)\n",
    "target_valid_2 = df_valid_2['product']"
   ]
  },
  {
   "cell_type": "markdown",
   "metadata": {},
   "source": [
    "### Масштабирование колличественных признаков"
   ]
  },
  {
   "cell_type": "code",
   "execution_count": 16,
   "metadata": {},
   "outputs": [
    {
     "data": {
      "text/html": [
       "<div>\n",
       "<style scoped>\n",
       "    .dataframe tbody tr th:only-of-type {\n",
       "        vertical-align: middle;\n",
       "    }\n",
       "\n",
       "    .dataframe tbody tr th {\n",
       "        vertical-align: top;\n",
       "    }\n",
       "\n",
       "    .dataframe thead th {\n",
       "        text-align: right;\n",
       "    }\n",
       "</style>\n",
       "<table border=\"1\" class=\"dataframe\">\n",
       "  <thead>\n",
       "    <tr style=\"text-align: right;\">\n",
       "      <th></th>\n",
       "      <th>f0</th>\n",
       "      <th>f1</th>\n",
       "      <th>f2</th>\n",
       "    </tr>\n",
       "  </thead>\n",
       "  <tbody>\n",
       "    <tr>\n",
       "      <td>count</td>\n",
       "      <td>75000.000000</td>\n",
       "      <td>75000.000000</td>\n",
       "      <td>75000.000000</td>\n",
       "    </tr>\n",
       "    <tr>\n",
       "      <td>mean</td>\n",
       "      <td>0.497441</td>\n",
       "      <td>0.250064</td>\n",
       "      <td>2.505917</td>\n",
       "    </tr>\n",
       "    <tr>\n",
       "      <td>std</td>\n",
       "      <td>0.871824</td>\n",
       "      <td>0.504203</td>\n",
       "      <td>3.249684</td>\n",
       "    </tr>\n",
       "    <tr>\n",
       "      <td>min</td>\n",
       "      <td>-1.408605</td>\n",
       "      <td>-0.848218</td>\n",
       "      <td>-10.138341</td>\n",
       "    </tr>\n",
       "    <tr>\n",
       "      <td>25%</td>\n",
       "      <td>-0.075827</td>\n",
       "      <td>-0.199952</td>\n",
       "      <td>0.296284</td>\n",
       "    </tr>\n",
       "    <tr>\n",
       "      <td>50%</td>\n",
       "      <td>0.499079</td>\n",
       "      <td>0.249690</td>\n",
       "      <td>2.519854</td>\n",
       "    </tr>\n",
       "    <tr>\n",
       "      <td>75%</td>\n",
       "      <td>1.070328</td>\n",
       "      <td>0.700239</td>\n",
       "      <td>4.725356</td>\n",
       "    </tr>\n",
       "    <tr>\n",
       "      <td>max</td>\n",
       "      <td>2.362331</td>\n",
       "      <td>1.343769</td>\n",
       "      <td>16.003790</td>\n",
       "    </tr>\n",
       "  </tbody>\n",
       "</table>\n",
       "</div>"
      ],
      "text/plain": [
       "                 f0            f1            f2\n",
       "count  75000.000000  75000.000000  75000.000000\n",
       "mean       0.497441      0.250064      2.505917\n",
       "std        0.871824      0.504203      3.249684\n",
       "min       -1.408605     -0.848218    -10.138341\n",
       "25%       -0.075827     -0.199952      0.296284\n",
       "50%        0.499079      0.249690      2.519854\n",
       "75%        1.070328      0.700239      4.725356\n",
       "max        2.362331      1.343769     16.003790"
      ]
     },
     "execution_count": 16,
     "metadata": {},
     "output_type": "execute_result"
    }
   ],
   "source": [
    "features_train_0.describe()"
   ]
  },
  {
   "cell_type": "markdown",
   "metadata": {},
   "source": [
    "<div style=\"border-radius: 15px; border: 1px solid grey; padding: 15px;\">\n",
    "В фреймах присутствуют столбци с количественными данными с разным диапазонм максимальных и минимальных значений, модели будут востпринимать значимость таких данных по разному, избавимся от этого стандартизируя данные. \n",
    "</div>"
   ]
  },
  {
   "cell_type": "code",
   "execution_count": 17,
   "metadata": {},
   "outputs": [],
   "source": [
    "scaler = StandardScaler()\n",
    "scaler.fit(features_train_0[num_features]) \n",
    "features_train_0[num_features] = scaler.transform(features_train_0[num_features])\n",
    "features_valid_0[num_features] = scaler.transform(features_valid_0[num_features])"
   ]
  },
  {
   "cell_type": "code",
   "execution_count": 18,
   "metadata": {},
   "outputs": [],
   "source": [
    "scaler = StandardScaler()\n",
    "scaler.fit(features_train_1[num_features]) \n",
    "features_train_1[num_features] = scaler.transform(features_train_1[num_features])\n",
    "features_valid_1[num_features] = scaler.transform(features_valid_1[num_features])"
   ]
  },
  {
   "cell_type": "code",
   "execution_count": 19,
   "metadata": {},
   "outputs": [],
   "source": [
    "scaler = StandardScaler()\n",
    "scaler.fit(features_train_2[num_features]) \n",
    "features_train_2[num_features] = scaler.transform(features_train_2[num_features])\n",
    "features_valid_2[num_features] = scaler.transform(features_valid_2[num_features])"
   ]
  },
  {
   "cell_type": "markdown",
   "metadata": {},
   "source": [
    "<div style=\"border-radius: 15px; border: 1px solid grey; padding: 15px;\">\n",
    "Проверим результат.\n",
    "</div>"
   ]
  },
  {
   "cell_type": "code",
   "execution_count": 20,
   "metadata": {},
   "outputs": [
    {
     "data": {
      "text/html": [
       "<div>\n",
       "<style scoped>\n",
       "    .dataframe tbody tr th:only-of-type {\n",
       "        vertical-align: middle;\n",
       "    }\n",
       "\n",
       "    .dataframe tbody tr th {\n",
       "        vertical-align: top;\n",
       "    }\n",
       "\n",
       "    .dataframe thead th {\n",
       "        text-align: right;\n",
       "    }\n",
       "</style>\n",
       "<table border=\"1\" class=\"dataframe\">\n",
       "  <thead>\n",
       "    <tr style=\"text-align: right;\">\n",
       "      <th></th>\n",
       "      <th>f0</th>\n",
       "      <th>f1</th>\n",
       "      <th>f2</th>\n",
       "    </tr>\n",
       "  </thead>\n",
       "  <tbody>\n",
       "    <tr>\n",
       "      <td>count</td>\n",
       "      <td>7.500000e+04</td>\n",
       "      <td>7.500000e+04</td>\n",
       "      <td>7.500000e+04</td>\n",
       "    </tr>\n",
       "    <tr>\n",
       "      <td>mean</td>\n",
       "      <td>1.704118e-16</td>\n",
       "      <td>-3.349025e-17</td>\n",
       "      <td>6.252776e-18</td>\n",
       "    </tr>\n",
       "    <tr>\n",
       "      <td>std</td>\n",
       "      <td>1.000007e+00</td>\n",
       "      <td>1.000007e+00</td>\n",
       "      <td>1.000007e+00</td>\n",
       "    </tr>\n",
       "    <tr>\n",
       "      <td>min</td>\n",
       "      <td>-2.186288e+00</td>\n",
       "      <td>-2.178269e+00</td>\n",
       "      <td>-3.890945e+00</td>\n",
       "    </tr>\n",
       "    <tr>\n",
       "      <td>25%</td>\n",
       "      <td>-6.575544e-01</td>\n",
       "      <td>-8.925344e-01</td>\n",
       "      <td>-6.799576e-01</td>\n",
       "    </tr>\n",
       "    <tr>\n",
       "      <td>50%</td>\n",
       "      <td>1.878842e-03</td>\n",
       "      <td>-7.407961e-04</td>\n",
       "      <td>4.288679e-03</td>\n",
       "    </tr>\n",
       "    <tr>\n",
       "      <td>75%</td>\n",
       "      <td>6.571176e-01</td>\n",
       "      <td>8.928514e-01</td>\n",
       "      <td>6.829752e-01</td>\n",
       "    </tr>\n",
       "    <tr>\n",
       "      <td>max</td>\n",
       "      <td>2.139081e+00</td>\n",
       "      <td>2.169192e+00</td>\n",
       "      <td>4.153623e+00</td>\n",
       "    </tr>\n",
       "  </tbody>\n",
       "</table>\n",
       "</div>"
      ],
      "text/plain": [
       "                 f0            f1            f2\n",
       "count  7.500000e+04  7.500000e+04  7.500000e+04\n",
       "mean   1.704118e-16 -3.349025e-17  6.252776e-18\n",
       "std    1.000007e+00  1.000007e+00  1.000007e+00\n",
       "min   -2.186288e+00 -2.178269e+00 -3.890945e+00\n",
       "25%   -6.575544e-01 -8.925344e-01 -6.799576e-01\n",
       "50%    1.878842e-03 -7.407961e-04  4.288679e-03\n",
       "75%    6.571176e-01  8.928514e-01  6.829752e-01\n",
       "max    2.139081e+00  2.169192e+00  4.153623e+00"
      ]
     },
     "execution_count": 20,
     "metadata": {},
     "output_type": "execute_result"
    }
   ],
   "source": [
    "features_train_0.describe()"
   ]
  },
  {
   "cell_type": "markdown",
   "metadata": {},
   "source": [
    "<div style=\"border-radius: 15px; border: 1px solid grey; padding: 15px;\">\n",
    "Разброс стал значительно меньше, можем переходить к обучению моделей.\n",
    "</div>\n",
    "\n"
   ]
  },
  {
   "cell_type": "markdown",
   "metadata": {},
   "source": [
    "## Обучение и проверка модели"
   ]
  },
  {
   "cell_type": "markdown",
   "metadata": {},
   "source": [
    "<div style=\"border-radius: 15px; border: 1px solid grey; padding: 15px;\">\n",
    "Для увеличения количества обучающих данных объеденим обучающие выборки для всех трех регионов, далее при обучении и валидации моделей будем использовать как обучающие выборки по регионам так и объединеннную.\n",
    "</div>"
   ]
  },
  {
   "cell_type": "code",
   "execution_count": 21,
   "metadata": {},
   "outputs": [],
   "source": [
    "features_train_joint = pd.concat([features_train_0] + [features_train_1] + [features_train_2])\n",
    "target_train_joint = pd.concat([target_train_0] + [target_train_1] + [target_train_2])"
   ]
  },
  {
   "cell_type": "code",
   "execution_count": 22,
   "metadata": {},
   "outputs": [
    {
     "data": {
      "text/html": [
       "<div>\n",
       "<style scoped>\n",
       "    .dataframe tbody tr th:only-of-type {\n",
       "        vertical-align: middle;\n",
       "    }\n",
       "\n",
       "    .dataframe tbody tr th {\n",
       "        vertical-align: top;\n",
       "    }\n",
       "\n",
       "    .dataframe thead th {\n",
       "        text-align: right;\n",
       "    }\n",
       "</style>\n",
       "<table border=\"1\" class=\"dataframe\">\n",
       "  <thead>\n",
       "    <tr style=\"text-align: right;\">\n",
       "      <th></th>\n",
       "      <th>f0</th>\n",
       "      <th>f1</th>\n",
       "      <th>f2</th>\n",
       "    </tr>\n",
       "  </thead>\n",
       "  <tbody>\n",
       "    <tr>\n",
       "      <td>count</td>\n",
       "      <td>2.250000e+05</td>\n",
       "      <td>2.250000e+05</td>\n",
       "      <td>2.250000e+05</td>\n",
       "    </tr>\n",
       "    <tr>\n",
       "      <td>mean</td>\n",
       "      <td>4.951693e-17</td>\n",
       "      <td>-4.335890e-17</td>\n",
       "      <td>-3.356920e-17</td>\n",
       "    </tr>\n",
       "    <tr>\n",
       "      <td>std</td>\n",
       "      <td>1.000002e+00</td>\n",
       "      <td>1.000002e+00</td>\n",
       "      <td>1.000002e+00</td>\n",
       "    </tr>\n",
       "    <tr>\n",
       "      <td>min</td>\n",
       "      <td>-5.060306e+00</td>\n",
       "      <td>-4.206546e+00</td>\n",
       "      <td>-4.167323e+00</td>\n",
       "    </tr>\n",
       "    <tr>\n",
       "      <td>25%</td>\n",
       "      <td>-7.311705e-01</td>\n",
       "      <td>-7.350389e-01</td>\n",
       "      <td>-8.195005e-01</td>\n",
       "    </tr>\n",
       "    <tr>\n",
       "      <td>50%</td>\n",
       "      <td>2.865967e-03</td>\n",
       "      <td>-2.221747e-03</td>\n",
       "      <td>-2.308040e-03</td>\n",
       "    </tr>\n",
       "    <tr>\n",
       "      <td>75%</td>\n",
       "      <td>7.274355e-01</td>\n",
       "      <td>7.317949e-01</td>\n",
       "      <td>8.153131e-01</td>\n",
       "    </tr>\n",
       "    <tr>\n",
       "      <td>max</td>\n",
       "      <td>4.176529e+00</td>\n",
       "      <td>4.588691e+00</td>\n",
       "      <td>4.153623e+00</td>\n",
       "    </tr>\n",
       "  </tbody>\n",
       "</table>\n",
       "</div>"
      ],
      "text/plain": [
       "                 f0            f1            f2\n",
       "count  2.250000e+05  2.250000e+05  2.250000e+05\n",
       "mean   4.951693e-17 -4.335890e-17 -3.356920e-17\n",
       "std    1.000002e+00  1.000002e+00  1.000002e+00\n",
       "min   -5.060306e+00 -4.206546e+00 -4.167323e+00\n",
       "25%   -7.311705e-01 -7.350389e-01 -8.195005e-01\n",
       "50%    2.865967e-03 -2.221747e-03 -2.308040e-03\n",
       "75%    7.274355e-01  7.317949e-01  8.153131e-01\n",
       "max    4.176529e+00  4.588691e+00  4.153623e+00"
      ]
     },
     "execution_count": 22,
     "metadata": {},
     "output_type": "execute_result"
    }
   ],
   "source": [
    "features_train_joint.describe()"
   ]
  },
  {
   "cell_type": "markdown",
   "metadata": {},
   "source": [
    "### Обучение"
   ]
  },
  {
   "cell_type": "markdown",
   "metadata": {},
   "source": [
    "<div style=\"border-radius: 15px; border: 1px solid grey; padding: 15px;\">\n",
    "Создадим модели:\n",
    "</div>"
   ]
  },
  {
   "cell_type": "code",
   "execution_count": 23,
   "metadata": {},
   "outputs": [],
   "source": [
    "model_joint = LinearRegression()\n",
    "model_splited_0 = LinearRegression()\n",
    "model_splited_1 = LinearRegression()\n",
    "model_splited_2 = LinearRegression()"
   ]
  },
  {
   "cell_type": "markdown",
   "metadata": {},
   "source": [
    "<div style=\"border-radius: 15px; border: 1px solid grey; padding: 15px;\">\n",
    "Обучим модель на объедененной выборке, и предскажем целевой признак для каждого региона на вылидационных признаках. Для каждого предсказания сохраним соответсвующее значение квадратного кореня из средней квадратичной ошибки (RMSE), получив такми образом среднюю ошибку в значениях целевого признака, а именно в тысячах баррелей:\n",
    "</div>"
   ]
  },
  {
   "cell_type": "code",
   "execution_count": 24,
   "metadata": {},
   "outputs": [],
   "source": [
    "model_joint.fit(features_train_joint[num_features], target_train_joint)\n",
    "predictions_valid_joint_0 = model_joint.predict(features_valid_0[num_features])\n",
    "RMSE_joint_0 = mean_squared_error(target_valid_0, predictions_valid_joint_0) ** 0.5"
   ]
  },
  {
   "cell_type": "code",
   "execution_count": 25,
   "metadata": {},
   "outputs": [],
   "source": [
    "predictions_valid_joint_1 = model_joint.predict(features_valid_1[num_features])\n",
    "RMSE_joint_1 = mean_squared_error(target_valid_1, predictions_valid_joint_1) ** 0.5"
   ]
  },
  {
   "cell_type": "code",
   "execution_count": 26,
   "metadata": {},
   "outputs": [],
   "source": [
    "predictions_valid_joint_2 = model_joint.predict(features_valid_2[num_features])\n",
    "RMSE_joint_2 = mean_squared_error(target_valid_2, predictions_valid_joint_2) ** 0.5"
   ]
  },
  {
   "cell_type": "markdown",
   "metadata": {},
   "source": [
    "<div style=\"border-radius: 15px; border: 1px solid grey; padding: 15px;\">\n",
    "Очередь моделей обученных на признаках только своего региона, так же сохраним RMSE:\n",
    "</div>"
   ]
  },
  {
   "cell_type": "code",
   "execution_count": 27,
   "metadata": {},
   "outputs": [],
   "source": [
    "model_splited_0.fit(features_train_0[num_features], target_train_0)\n",
    "predictions_valid_0 = model_splited_0.predict(features_valid_0[num_features])\n",
    "RMSE_0 = mean_squared_error(target_valid_0, predictions_valid_0) ** 0.5"
   ]
  },
  {
   "cell_type": "code",
   "execution_count": 28,
   "metadata": {},
   "outputs": [],
   "source": [
    "model_splited_1.fit(features_train_1[num_features], target_train_1)\n",
    "predictions_valid_1 = model_splited_1.predict(features_valid_1[num_features])\n",
    "RMSE_1 = mean_squared_error(target_valid_1, predictions_valid_1) ** 0.5"
   ]
  },
  {
   "cell_type": "code",
   "execution_count": 29,
   "metadata": {},
   "outputs": [],
   "source": [
    "model_splited_2.fit(features_train_2[num_features], target_train_2)\n",
    "predictions_valid_2 = model_splited_2.predict(features_valid_2[num_features])\n",
    "RMSE_2 = mean_squared_error(target_valid_2, predictions_valid_2) ** 0.5"
   ]
  },
  {
   "cell_type": "markdown",
   "metadata": {},
   "source": [
    "### Проверка"
   ]
  },
  {
   "cell_type": "markdown",
   "metadata": {},
   "source": [
    "<div style=\"border-radius: 15px; border: 1px solid grey; padding: 15px;\">\n",
    "Сравним значения сохраненной метрики RMSE:\n",
    "</div>"
   ]
  },
  {
   "cell_type": "code",
   "execution_count": 30,
   "metadata": {},
   "outputs": [
    {
     "name": "stdout",
     "output_type": "stream",
     "text": [
      "RMSE_joint_0: 39.29843252242969\n",
      "RMSE_joint_1: 24.03445993968729\n",
      "RMSE_joint_2: 42.187357981612806\n",
      "\n",
      "RMSE_0: 37.5794217150813\n",
      "RMSE_1: 0.8930992867756158\n",
      "RMSE_2: 40.02970873393434\n"
     ]
    }
   ],
   "source": [
    "print(\"RMSE_joint_0: \", RMSE_joint_0, '\\n', \"RMSE_joint_1: \", RMSE_joint_1, '\\n', \"RMSE_joint_2: \", RMSE_joint_2,\n",
    "      '\\n', '\\n', \"RMSE_0: \", RMSE_0, '\\n', \"RMSE_1: \", RMSE_1, '\\n', \"RMSE_2: \", RMSE_2, sep='')"
   ]
  },
  {
   "cell_type": "markdown",
   "metadata": {},
   "source": [
    "<div style=\"border-radius: 15px; border: 1px solid grey; padding: 15px;\">\n",
    "Модель на данных из фрейма под номером 1 показала феноминальный результат, давайте найдем отличия данных обеспечившие такой результат. А так же делаем вывод, что обучение модели на объединенных пизнаках не дает прироста в точночти предсказания, видимо сказывается влияние данных и из фрейма 1:\n",
    "</div>"
   ]
  },
  {
   "cell_type": "code",
   "execution_count": 31,
   "metadata": {},
   "outputs": [
    {
     "data": {
      "text/plain": [
       "53.906522     2131\n",
       "26.953261     2122\n",
       "30.132364     2117\n",
       "134.766305    2106\n",
       "57.085625     2095\n",
       "80.859783     2095\n",
       "137.945408    2080\n",
       "3.179103      2077\n",
       "0.000000      2069\n",
       "84.038886     2065\n",
       "110.992147    2028\n",
       "107.813044    2015\n",
       "Name: product, dtype: int64"
      ]
     },
     "execution_count": 31,
     "metadata": {},
     "output_type": "execute_result"
    }
   ],
   "source": [
    "target_valid_1.value_counts()"
   ]
  },
  {
   "cell_type": "code",
   "execution_count": 32,
   "metadata": {},
   "outputs": [
    {
     "data": {
      "text/plain": [
       "158.379001    1\n",
       "101.093916    1\n",
       "156.274591    1\n",
       "144.656129    1\n",
       "70.738701     1\n",
       "             ..\n",
       "54.691566     1\n",
       "131.115894    1\n",
       "6.209049      1\n",
       "48.596338     1\n",
       "0.000000      1\n",
       "Name: product, Length: 75000, dtype: int64"
      ]
     },
     "execution_count": 32,
     "metadata": {},
     "output_type": "execute_result"
    }
   ],
   "source": [
    "target_train_0.value_counts()"
   ]
  },
  {
   "cell_type": "code",
   "execution_count": 33,
   "metadata": {},
   "outputs": [
    {
     "data": {
      "text/plain": [
       "133.530141    1\n",
       "64.200390     1\n",
       "46.812550     1\n",
       "67.348560     1\n",
       "148.551386    1\n",
       "             ..\n",
       "119.654403    1\n",
       "188.515650    1\n",
       "36.583590     1\n",
       "120.371769    1\n",
       "105.315293    1\n",
       "Name: product, Length: 75000, dtype: int64"
      ]
     },
     "execution_count": 33,
     "metadata": {},
     "output_type": "execute_result"
    }
   ],
   "source": [
    "target_train_2.value_counts()"
   ]
  },
  {
   "cell_type": "markdown",
   "metadata": {},
   "source": [
    "<div style=\"border-radius: 15px; border: 1px solid grey; padding: 15px;\">\n",
    "Вот и объяснение нашим результатам. Для фрейма 1 задача регрессии с 75000 ответов превратилась в задачу классификации по 12 классам. Тут то и возникают вопросы, с которыми имеет смысл идти к коллегам сформировавшим эти данные. В реальной ситуации необходимо выяснить являются ли эти данные корректными? Можем ли привести к такому виду и данные по остальным регионам? Возможно мы можем кластеризовать данные в фреймах 0 и 2 и т.д.\n",
    "    \n",
    "Но в наших условиях мы исходим из того, что данные верны и продолжаем наше исследование.\n",
    "</div>"
   ]
  },
  {
   "cell_type": "markdown",
   "metadata": {},
   "source": [
    "## Подготовка к расчёту прибыли"
   ]
  },
  {
   "cell_type": "markdown",
   "metadata": {},
   "source": [
    "### Расчет окупаемости"
   ]
  },
  {
   "cell_type": "markdown",
   "metadata": {},
   "source": [
    "<div style=\"border-radius: 15px; border: 1px solid grey; padding: 15px;\">\n",
    "Сохраним ключевые значения используемые при расчете прибыли, а именно Бюджет на разработку, Доходс тысячи баррелей и Порог вероятности убков:\n",
    "</div>"
   ]
  },
  {
   "cell_type": "code",
   "execution_count": 34,
   "metadata": {},
   "outputs": [],
   "source": [
    "BADGET = 10_000_000_000\n",
    "INCOME_BARREL = 450_000\n",
    "Q = 0.025"
   ]
  },
  {
   "cell_type": "markdown",
   "metadata": {},
   "source": [
    "<div style=\"border-radius: 15px; border: 1px solid grey; padding: 15px;\">\n",
    "Посчитаем сколько тысяч баррелей должны принести осовоенные скважины в регионе для окупаемости разработки региона \n",
    "</div>"
   ]
  },
  {
   "cell_type": "code",
   "execution_count": 35,
   "metadata": {},
   "outputs": [],
   "source": [
    "region_profit_level = BADGET / INCOME_BARREL"
   ]
  },
  {
   "cell_type": "code",
   "execution_count": 36,
   "metadata": {},
   "outputs": [
    {
     "data": {
      "text/plain": [
       "22222.222222222223"
      ]
     },
     "execution_count": 36,
     "metadata": {},
     "output_type": "execute_result"
    }
   ],
   "source": [
    "region_profit_level"
   ]
  },
  {
   "cell_type": "markdown",
   "metadata": {},
   "source": [
    "<div style=\"border-radius: 15px; border: 1px solid grey; padding: 15px;\">\n",
    "Так же посчитаем сколько в среднем должна выдавть одна скважина в разработанном регионе для выхода на окупаемость:\n",
    "</div>"
   ]
  },
  {
   "cell_type": "code",
   "execution_count": 37,
   "metadata": {},
   "outputs": [],
   "source": [
    "well_profit_level = region_profit_level / 200"
   ]
  },
  {
   "cell_type": "code",
   "execution_count": 38,
   "metadata": {},
   "outputs": [
    {
     "data": {
      "text/plain": [
       "111.11111111111111"
      ]
     },
     "execution_count": 38,
     "metadata": {},
     "output_type": "execute_result"
    }
   ],
   "source": [
    "well_profit_level"
   ]
  },
  {
   "cell_type": "markdown",
   "metadata": {},
   "source": [
    "<div style=\"border-radius: 15px; border: 1px solid grey; padding: 15px;\">\n",
    "Теперь проверим как обстоят дела со средним значением запаса в скважинах по регионам:\n",
    "</div>"
   ]
  },
  {
   "cell_type": "code",
   "execution_count": 39,
   "metadata": {},
   "outputs": [
    {
     "data": {
      "text/plain": [
       "92.50000000000001"
      ]
     },
     "execution_count": 39,
     "metadata": {},
     "output_type": "execute_result"
    }
   ],
   "source": [
    "df0['product'].mean()"
   ]
  },
  {
   "cell_type": "code",
   "execution_count": 40,
   "metadata": {},
   "outputs": [
    {
     "data": {
      "text/plain": [
       "68.82500000000002"
      ]
     },
     "execution_count": 40,
     "metadata": {},
     "output_type": "execute_result"
    }
   ],
   "source": [
    "df1['product'].mean()"
   ]
  },
  {
   "cell_type": "code",
   "execution_count": 41,
   "metadata": {},
   "outputs": [
    {
     "data": {
      "text/plain": [
       "95.00000000000004"
      ]
     },
     "execution_count": 41,
     "metadata": {},
     "output_type": "execute_result"
    }
   ],
   "source": [
    "df2['product'].mean()"
   ]
  },
  {
   "cell_type": "markdown",
   "metadata": {},
   "source": [
    "<div style=\"border-radius: 15px; border: 1px solid grey; padding: 15px;\">\n",
    "Вот и получаем обоснованность применения ML в этой задаче, если мы будем выбирать скважины случайным образом, то в большинстве случаев не буем выходить на окупаемость, не говоря о прибыли.\n",
    "</div>"
   ]
  },
  {
   "cell_type": "markdown",
   "metadata": {},
   "source": [
    "###  Функция для расчёта прибыли по выбранным скважинам и предсказаниям модели:"
   ]
  },
  {
   "cell_type": "markdown",
   "metadata": {},
   "source": [
    "<div style=\"border-radius: 15px; border: 1px solid grey; padding: 15px;\">\n",
    "Для дальнейших расчетов по регионам нам нужна функция расчета прибыли. Функция будет принимать на вход номер фрейма и 500 отобраных скважин из этого фрейма. Далее фунция:\n",
    "    \n",
    "- Выберет 200 скважин с максимальными значениями предсказаний.\n",
    "    \n",
    "- Просуммирует целевое значение объёма сырья, соответствующее этим предсказаниям.\n",
    "    \n",
    "- Рассчитайт и вернет прибыль для полученного объёма сырья.\n",
    "</div>"
   ]
  },
  {
   "cell_type": "code",
   "execution_count": 42,
   "metadata": {},
   "outputs": [],
   "source": [
    "def profit(df_number, selected):\n",
    "    if df_number == 0:\n",
    "        model = model_splited_0\n",
    "        target_valid = target_valid_0\n",
    "        features_valid  = features_valid_0\n",
    "    elif df_number == 1:\n",
    "        model = model_splited_1\n",
    "        target_valid = target_valid_1\n",
    "        features_valid  = features_valid_1\n",
    "    elif df_number == 2:\n",
    "        model = model_splited_2\n",
    "        target_valid = target_valid_2\n",
    "        features_valid  = features_valid_2\n",
    "    else:\n",
    "        return 'Wrong df number.'\n",
    "    \n",
    "    ind_500 = selected.index\n",
    "    \n",
    "    prediction = pd.Series(model.predict((features_valid.loc[ind_500,num_features])), index=ind_500)\n",
    "    prediction = prediction.sort_values(ascending=False)\n",
    "    \n",
    "    top_200 = prediction.head(200)\n",
    "    \n",
    "    ind_200 = top_200.index\n",
    "           \n",
    "    return (target_valid.loc[ind_200,].sum() * INCOME_BARREL) - BADGET"
   ]
  },
  {
   "cell_type": "markdown",
   "metadata": {},
   "source": [
    "<div style=\"border-radius: 15px; border: 1px solid grey; padding: 15px;\">\n",
    "Функция готова, проверим работу функции на одной случайной выборке:\n",
    "</div>"
   ]
  },
  {
   "cell_type": "code",
   "execution_count": 43,
   "metadata": {},
   "outputs": [
    {
     "data": {
      "text/plain": [
       "679068857.8924236"
      ]
     },
     "execution_count": 43,
     "metadata": {},
     "output_type": "execute_result"
    }
   ],
   "source": [
    "ex = target_valid_0.sample(500, random_state=12345)\n",
    "rez = profit(0, ex)\n",
    "rez"
   ]
  },
  {
   "cell_type": "markdown",
   "metadata": {},
   "source": [
    "<div style=\"border-radius: 15px; border: 1px solid grey; padding: 15px;\">\n",
    "В действительности тестов и отображаемых параметров было больше, но оставим тольк этот для наглядности и переходим к множественным выборкам и сравнению регионов.\n",
    "</div>"
   ]
  },
  {
   "cell_type": "markdown",
   "metadata": {},
   "source": [
    "## Расчёт прибыли и рисков "
   ]
  },
  {
   "cell_type": "markdown",
   "metadata": {},
   "source": [
    "<div style=\"border-radius: 15px; border: 1px solid grey; padding: 15px;\">\n",
    "Пришло время проанализировать наши ругионы применив нашу функцию и технику Bootstrap.\n",
    "    \n",
    "- Техникой Bootstrap получим тысячу выборок и функцией из них получим распределение прибыли.\n",
    "    \n",
    "- Выведем на экран 95%-й доверительный интервал и среднюю прибыль.\n",
    "    \n",
    "- Отдельно посчитаем вероятность убытков.\n",
    "</div>"
   ]
  },
  {
   "cell_type": "markdown",
   "metadata": {},
   "source": [
    "### Регион 0"
   ]
  },
  {
   "cell_type": "code",
   "execution_count": 44,
   "metadata": {},
   "outputs": [
    {
     "name": "stdout",
     "output_type": "stream",
     "text": [
      "Верхняя граница доверительного интервала в 97.5%: 909766941.5534225\n",
      "Среднее значение прибыли по региону 0:            396164984.8023711\n",
      "Нижняя граница доверительного интервала в 2.5%:  -111215545.89049526\n"
     ]
    }
   ],
   "source": [
    "state = np.random.RandomState(12345)\n",
    "values_0 = []\n",
    "for i in range(1000):\n",
    "    subsample = target_valid_0.sample(n=500, replace=True, random_state=state)\n",
    "    prof = profit(0, subsample)\n",
    "    values_0.append(prof)\n",
    "\n",
    "values_0 = pd.Series(values_0)\n",
    "\n",
    "lower = values_0.quantile(Q)\n",
    "upper = values_0.quantile(1 - Q)\n",
    "\n",
    "print('Верхняя граница доверительного интервала в 97.5%:', upper)\n",
    "print('Среднее значение прибыли по региону 0:           ', values_0.mean())\n",
    "print('Нижняя граница доверительного интервала в 2.5%: ', lower)"
   ]
  },
  {
   "cell_type": "code",
   "execution_count": 45,
   "metadata": {
    "scrolled": true
   },
   "outputs": [
    {
     "name": "stdout",
     "output_type": "stream",
     "text": [
      "Вероятность убытковпо региону 0: 6.8%\n"
     ]
    }
   ],
   "source": [
    "loss = 0\n",
    "income = values_0.quantile(loss)\n",
    "while income <= 0:\n",
    "    loss += 0.001\n",
    "    income = values_0.quantile(loss)\n",
    "    \n",
    "loss -= 0.001\n",
    "print('Вероятность убытковпо региону 0: {:.1%}'.format(loss))"
   ]
  },
  {
   "cell_type": "markdown",
   "metadata": {},
   "source": [
    "### Регион 1"
   ]
  },
  {
   "cell_type": "code",
   "execution_count": 46,
   "metadata": {},
   "outputs": [
    {
     "name": "stdout",
     "output_type": "stream",
     "text": [
      "Верхняя граница доверительного интервала в 97.5%: 852289453.866036\n",
      "Среднее значение прибыли по региону 1:            456045105.7866609\n",
      "Нижняя граница доверительного интервала в 2.5%:    33820509.39898549\n"
     ]
    }
   ],
   "source": [
    "state = np.random.RandomState(12345)\n",
    "values_1 = []\n",
    "for i in range(1000):\n",
    "    subsample = target_valid_1.sample(n=500, replace=True, random_state=state)\n",
    "    prof = profit(1, subsample)\n",
    "    values_1.append(prof)\n",
    "\n",
    "values_1 = pd.Series(values_1)\n",
    "lower = values_1.quantile(Q)\n",
    "upper = values_1.quantile(1 - Q)\n",
    "\n",
    "print('Верхняя граница доверительного интервала в 97.5%:', upper)\n",
    "print('Среднее значение прибыли по региону 1:           ', values_1.mean())\n",
    "print('Нижняя граница доверительного интервала в 2.5%:   ', lower)"
   ]
  },
  {
   "cell_type": "code",
   "execution_count": 47,
   "metadata": {},
   "outputs": [
    {
     "name": "stdout",
     "output_type": "stream",
     "text": [
      "Вероятность убытков по региону 1: 1.4%\n"
     ]
    }
   ],
   "source": [
    "loss = 0\n",
    "income = values_0.quantile(loss)\n",
    "while income <= 0:\n",
    "    loss += 0.001\n",
    "    income = values_1.quantile(loss)\n",
    "    \n",
    "loss -= 0.001\n",
    "print('Вероятность убытков по региону 1: {:.1%}'.format(loss))"
   ]
  },
  {
   "cell_type": "markdown",
   "metadata": {},
   "source": [
    "### Регион 2"
   ]
  },
  {
   "cell_type": "code",
   "execution_count": 48,
   "metadata": {},
   "outputs": [
    {
     "name": "stdout",
     "output_type": "stream",
     "text": [
      "Верхняя граница доверительного интервала в 97.5%: 950359574.9237995\n",
      "Среднее значение прибыли по региону 2:            404403866.56835675\n",
      "Нижняя граница доверительного интервала в 2.5%:  -163350413.39559925\n"
     ]
    }
   ],
   "source": [
    "state = np.random.RandomState(12345)\n",
    "values_2 = []\n",
    "for i in range(1000):\n",
    "    subsample = target_valid_2.sample(n=500, replace=True, random_state=state)\n",
    "    prof = profit(2, subsample)\n",
    "    values_2.append(prof)\n",
    "\n",
    "values_2 = pd.Series(values_2)\n",
    "lower = values_2.quantile(Q)\n",
    "upper = values_2.quantile(1 - Q)\n",
    "\n",
    "print('Верхняя граница доверительного интервала в 97.5%:', upper)\n",
    "print('Среднее значение прибыли по региону 2:           ', values_2.mean())\n",
    "print('Нижняя граница доверительного интервала в 2.5%: ', lower)"
   ]
  },
  {
   "cell_type": "code",
   "execution_count": 49,
   "metadata": {},
   "outputs": [
    {
     "name": "stdout",
     "output_type": "stream",
     "text": [
      "Вероятность убытков по региону 2: 7.5%\n"
     ]
    }
   ],
   "source": [
    "loss = 0\n",
    "income = values_0.quantile(loss)\n",
    "while income <= 0:\n",
    "    loss += 0.001\n",
    "    income = values_2.quantile(loss)\n",
    "    \n",
    "loss -= 0.001\n",
    "print('Вероятность убытков по региону 2: {:.1%}'.format(loss))"
   ]
  },
  {
   "cell_type": "markdown",
   "metadata": {},
   "source": [
    "### Вывод"
   ]
  },
  {
   "cell_type": "markdown",
   "metadata": {},
   "source": [
    "<div style=\"border-radius: 15px; border: 1px solid grey; padding: 15px;\">\n",
    "\n",
    "В заданном доверительном диапазоне мы можем рекомендовать к разработке регион 1, так как нижния граница интервала показывает положительную среднюю прибыль, то есть веротность получить убыток в регионе 1 менее 2.5%, а именно 1.4%, так же средняя пибыль у этого региона выше остальных.\n",
    "\n",
    "А вот другие два региона не вписываются в наши ограничения и имеют высокую вероятность убытков, регон 0 с вероятностью 6,8% принесет убытки, а регон 1 с вероятностью в 7,5% покажет отрицательную прибыль.\n",
    "\n",
    "Стоит помнить о особенностях целевого признака для региона 1, но если они верны, то и наш прогноз верен.\n",
    "\n",
    "</div>"
   ]
  }
 ],
 "metadata": {
  "ExecuteTimeLog": [
   {
    "duration": 1859,
    "start_time": "2021-06-23T09:44:02.146Z"
   },
   {
    "duration": 2851,
    "start_time": "2021-06-23T09:44:04.008Z"
   },
   {
    "duration": 17,
    "start_time": "2021-06-23T09:44:06.862Z"
   },
   {
    "duration": 673,
    "start_time": "2021-06-23T09:44:06.882Z"
   },
   {
    "duration": 40,
    "start_time": "2021-06-23T09:44:54.221Z"
   },
   {
    "duration": 28,
    "start_time": "2021-06-23T09:45:14.609Z"
   },
   {
    "duration": 5,
    "start_time": "2021-06-23T09:45:38.437Z"
   },
   {
    "duration": 9,
    "start_time": "2021-06-23T09:46:03.026Z"
   },
   {
    "duration": 22,
    "start_time": "2021-06-23T09:46:25.488Z"
   },
   {
    "duration": 11,
    "start_time": "2021-06-23T10:54:15.049Z"
   },
   {
    "duration": 89,
    "start_time": "2021-06-23T10:54:25.799Z"
   },
   {
    "duration": 115,
    "start_time": "2021-06-23T11:15:39.465Z"
   },
   {
    "duration": 26,
    "start_time": "2021-06-23T11:15:41.639Z"
   },
   {
    "duration": 8,
    "start_time": "2021-06-23T11:32:42.546Z"
   },
   {
    "duration": 288,
    "start_time": "2021-06-23T11:34:52.985Z"
   },
   {
    "duration": 288,
    "start_time": "2021-06-23T11:34:57.106Z"
   },
   {
    "duration": 287,
    "start_time": "2021-06-23T11:35:13.024Z"
   },
   {
    "duration": 5,
    "start_time": "2021-06-23T11:37:37.254Z"
   },
   {
    "duration": 4,
    "start_time": "2021-06-23T11:37:42.400Z"
   },
   {
    "duration": 4,
    "start_time": "2021-06-23T11:37:47.720Z"
   },
   {
    "duration": 4,
    "start_time": "2021-06-23T11:37:47.984Z"
   },
   {
    "duration": 4,
    "start_time": "2021-06-23T11:37:53.568Z"
   },
   {
    "duration": 3,
    "start_time": "2021-06-23T11:38:02.528Z"
   },
   {
    "duration": 3,
    "start_time": "2021-06-23T11:38:02.968Z"
   },
   {
    "duration": 4,
    "start_time": "2021-06-23T11:38:19.576Z"
   },
   {
    "duration": 4,
    "start_time": "2021-06-23T11:38:20.087Z"
   },
   {
    "duration": 13,
    "start_time": "2021-06-23T12:01:33.578Z"
   },
   {
    "duration": 46,
    "start_time": "2021-06-23T12:01:41.081Z"
   },
   {
    "duration": 24,
    "start_time": "2021-06-23T12:02:04.232Z"
   },
   {
    "duration": 52,
    "start_time": "2021-06-23T12:02:47.042Z"
   },
   {
    "duration": 291,
    "start_time": "2021-06-23T12:24:06.186Z"
   },
   {
    "duration": 4,
    "start_time": "2021-06-23T12:24:06.688Z"
   },
   {
    "duration": 273,
    "start_time": "2021-06-23T12:24:20.993Z"
   },
   {
    "duration": 3,
    "start_time": "2021-06-23T12:24:55.864Z"
   },
   {
    "duration": 5,
    "start_time": "2021-06-23T12:24:57.358Z"
   },
   {
    "duration": 5,
    "start_time": "2021-06-23T12:25:05.511Z"
   },
   {
    "duration": 23,
    "start_time": "2021-06-23T12:25:29.049Z"
   },
   {
    "duration": 86,
    "start_time": "2021-06-23T12:25:33.088Z"
   },
   {
    "duration": 5,
    "start_time": "2021-06-23T12:25:37.455Z"
   },
   {
    "duration": 1101,
    "start_time": "2021-06-23T12:25:37.774Z"
   },
   {
    "duration": 15,
    "start_time": "2021-06-23T12:25:38.878Z"
   },
   {
    "duration": 6,
    "start_time": "2021-06-23T12:25:38.896Z"
   },
   {
    "duration": 87,
    "start_time": "2021-06-23T12:25:40.126Z"
   },
   {
    "duration": 27,
    "start_time": "2021-06-23T12:25:47.230Z"
   },
   {
    "duration": 4,
    "start_time": "2021-06-23T12:25:48.246Z"
   },
   {
    "duration": 21,
    "start_time": "2021-06-23T12:25:48.640Z"
   },
   {
    "duration": 33,
    "start_time": "2021-06-23T12:51:17.610Z"
   },
   {
    "duration": 276,
    "start_time": "2021-06-23T12:55:39.201Z"
   },
   {
    "duration": 45,
    "start_time": "2021-06-23T13:09:11.149Z"
   },
   {
    "duration": 5,
    "start_time": "2021-06-23T13:09:29.313Z"
   },
   {
    "duration": 2098,
    "start_time": "2021-06-23T13:09:29.321Z"
   },
   {
    "duration": 17,
    "start_time": "2021-06-23T13:09:31.425Z"
   },
   {
    "duration": 9,
    "start_time": "2021-06-23T13:09:31.445Z"
   },
   {
    "duration": 124,
    "start_time": "2021-06-23T13:09:31.456Z"
   },
   {
    "duration": 26,
    "start_time": "2021-06-23T13:09:31.582Z"
   },
   {
    "duration": 12,
    "start_time": "2021-06-23T13:09:31.625Z"
   },
   {
    "duration": 35,
    "start_time": "2021-06-23T13:09:31.641Z"
   },
   {
    "duration": 280,
    "start_time": "2021-06-23T13:09:31.678Z"
   },
   {
    "duration": -1551,
    "start_time": "2021-06-23T13:09:33.513Z"
   },
   {
    "duration": -1561,
    "start_time": "2021-06-23T13:09:33.525Z"
   },
   {
    "duration": -1575,
    "start_time": "2021-06-23T13:09:33.541Z"
   },
   {
    "duration": -1577,
    "start_time": "2021-06-23T13:09:33.546Z"
   },
   {
    "duration": -1579,
    "start_time": "2021-06-23T13:09:33.550Z"
   },
   {
    "duration": -1580,
    "start_time": "2021-06-23T13:09:33.553Z"
   },
   {
    "duration": -1582,
    "start_time": "2021-06-23T13:09:33.557Z"
   },
   {
    "duration": -1583,
    "start_time": "2021-06-23T13:09:33.560Z"
   },
   {
    "duration": -1587,
    "start_time": "2021-06-23T13:09:33.566Z"
   },
   {
    "duration": -1593,
    "start_time": "2021-06-23T13:09:33.575Z"
   },
   {
    "duration": -1598,
    "start_time": "2021-06-23T13:09:33.582Z"
   },
   {
    "duration": -1599,
    "start_time": "2021-06-23T13:09:33.585Z"
   },
   {
    "duration": -1601,
    "start_time": "2021-06-23T13:09:33.589Z"
   },
   {
    "duration": -1604,
    "start_time": "2021-06-23T13:09:33.594Z"
   },
   {
    "duration": -1616,
    "start_time": "2021-06-23T13:09:33.608Z"
   },
   {
    "duration": -1622,
    "start_time": "2021-06-23T13:09:33.616Z"
   },
   {
    "duration": 8,
    "start_time": "2021-06-23T13:09:44.424Z"
   },
   {
    "duration": 1935,
    "start_time": "2021-06-23T13:09:44.435Z"
   },
   {
    "duration": 19,
    "start_time": "2021-06-23T13:09:46.373Z"
   },
   {
    "duration": 8,
    "start_time": "2021-06-23T13:09:46.395Z"
   },
   {
    "duration": 111,
    "start_time": "2021-06-23T13:09:46.424Z"
   },
   {
    "duration": 26,
    "start_time": "2021-06-23T13:09:46.538Z"
   },
   {
    "duration": 4,
    "start_time": "2021-06-23T13:09:46.566Z"
   },
   {
    "duration": 25,
    "start_time": "2021-06-23T13:09:46.574Z"
   },
   {
    "duration": 31,
    "start_time": "2021-06-23T13:09:46.634Z"
   },
   {
    "duration": 30,
    "start_time": "2021-06-23T13:09:46.668Z"
   },
   {
    "duration": 51,
    "start_time": "2021-06-23T13:09:46.701Z"
   },
   {
    "duration": 10,
    "start_time": "2021-06-23T13:09:46.754Z"
   },
   {
    "duration": 14,
    "start_time": "2021-06-23T13:09:46.768Z"
   },
   {
    "duration": 41,
    "start_time": "2021-06-23T13:09:46.785Z"
   },
   {
    "duration": 11,
    "start_time": "2021-06-23T13:09:46.832Z"
   },
   {
    "duration": 8,
    "start_time": "2021-06-23T13:09:46.845Z"
   },
   {
    "duration": 10,
    "start_time": "2021-06-23T13:09:46.856Z"
   },
   {
    "duration": 87,
    "start_time": "2021-06-23T13:09:46.869Z"
   },
   {
    "duration": 50,
    "start_time": "2021-06-23T13:09:46.959Z"
   },
   {
    "duration": 61,
    "start_time": "2021-06-23T13:09:47.011Z"
   },
   {
    "duration": 22,
    "start_time": "2021-06-23T13:09:47.074Z"
   },
   {
    "duration": 54,
    "start_time": "2021-06-23T13:09:47.098Z"
   },
   {
    "duration": 23,
    "start_time": "2021-06-23T13:09:47.157Z"
   },
   {
    "duration": 77,
    "start_time": "2021-06-23T13:09:47.183Z"
   },
   {
    "duration": 23,
    "start_time": "2021-06-23T13:09:47.264Z"
   },
   {
    "duration": 20,
    "start_time": "2021-06-23T13:10:20.735Z"
   },
   {
    "duration": 16,
    "start_time": "2021-06-23T13:12:25.689Z"
   },
   {
    "duration": 8,
    "start_time": "2021-06-23T13:16:17.470Z"
   },
   {
    "duration": 1220,
    "start_time": "2021-06-23T13:16:17.481Z"
   },
   {
    "duration": 28,
    "start_time": "2021-06-23T13:16:18.705Z"
   },
   {
    "duration": 8,
    "start_time": "2021-06-23T13:16:18.738Z"
   },
   {
    "duration": 121,
    "start_time": "2021-06-23T13:16:18.749Z"
   },
   {
    "duration": 29,
    "start_time": "2021-06-23T13:16:18.872Z"
   },
   {
    "duration": 22,
    "start_time": "2021-06-23T13:16:18.903Z"
   },
   {
    "duration": 28,
    "start_time": "2021-06-23T13:16:18.931Z"
   },
   {
    "duration": 22,
    "start_time": "2021-06-23T13:16:18.962Z"
   },
   {
    "duration": 60,
    "start_time": "2021-06-23T13:16:18.986Z"
   },
   {
    "duration": 22,
    "start_time": "2021-06-23T13:16:19.048Z"
   },
   {
    "duration": 11,
    "start_time": "2021-06-23T13:16:19.072Z"
   },
   {
    "duration": 53,
    "start_time": "2021-06-23T13:16:19.086Z"
   },
   {
    "duration": 16,
    "start_time": "2021-06-23T13:16:19.143Z"
   },
   {
    "duration": 24,
    "start_time": "2021-06-23T13:16:19.162Z"
   },
   {
    "duration": 14,
    "start_time": "2021-06-23T13:16:19.189Z"
   },
   {
    "duration": 26,
    "start_time": "2021-06-23T13:16:19.205Z"
   },
   {
    "duration": 72,
    "start_time": "2021-06-23T13:16:19.234Z"
   },
   {
    "duration": 91,
    "start_time": "2021-06-23T13:16:19.308Z"
   },
   {
    "duration": 89,
    "start_time": "2021-06-23T13:16:19.401Z"
   },
   {
    "duration": 31,
    "start_time": "2021-06-23T13:16:19.493Z"
   },
   {
    "duration": 25,
    "start_time": "2021-06-23T13:16:19.527Z"
   },
   {
    "duration": 17,
    "start_time": "2021-06-23T13:16:19.556Z"
   },
   {
    "duration": 1481,
    "start_time": "2021-06-24T11:37:12.947Z"
   },
   {
    "duration": 1234,
    "start_time": "2021-06-24T11:37:14.431Z"
   },
   {
    "duration": 16,
    "start_time": "2021-06-24T11:37:15.668Z"
   },
   {
    "duration": 9,
    "start_time": "2021-06-24T11:37:15.687Z"
   },
   {
    "duration": 106,
    "start_time": "2021-06-24T11:37:15.699Z"
   },
   {
    "duration": 25,
    "start_time": "2021-06-24T11:37:15.807Z"
   },
   {
    "duration": 3,
    "start_time": "2021-06-24T11:37:15.835Z"
   },
   {
    "duration": 49,
    "start_time": "2021-06-24T11:37:15.842Z"
   },
   {
    "duration": 20,
    "start_time": "2021-06-24T11:37:15.894Z"
   },
   {
    "duration": 22,
    "start_time": "2021-06-24T11:37:15.916Z"
   },
   {
    "duration": 52,
    "start_time": "2021-06-24T11:37:15.940Z"
   },
   {
    "duration": 11,
    "start_time": "2021-06-24T11:37:15.994Z"
   },
   {
    "duration": 18,
    "start_time": "2021-06-24T11:37:16.008Z"
   },
   {
    "duration": 13,
    "start_time": "2021-06-24T11:37:16.029Z"
   },
   {
    "duration": 9,
    "start_time": "2021-06-24T11:37:16.045Z"
   },
   {
    "duration": 30,
    "start_time": "2021-06-24T11:37:16.056Z"
   },
   {
    "duration": 9,
    "start_time": "2021-06-24T11:37:16.089Z"
   },
   {
    "duration": 89,
    "start_time": "2021-06-24T11:37:16.100Z"
   },
   {
    "duration": 69,
    "start_time": "2021-06-24T11:37:16.192Z"
   },
   {
    "duration": 83,
    "start_time": "2021-06-24T11:37:16.263Z"
   },
   {
    "duration": 14,
    "start_time": "2021-06-24T11:37:16.349Z"
   },
   {
    "duration": 13,
    "start_time": "2021-06-24T11:37:16.383Z"
   },
   {
    "duration": 64,
    "start_time": "2021-06-24T11:37:16.400Z"
   },
   {
    "duration": 20,
    "start_time": "2021-06-24T11:37:26.460Z"
   },
   {
    "duration": 401,
    "start_time": "2021-06-24T11:43:40.346Z"
   },
   {
    "duration": 5,
    "start_time": "2021-06-24T11:43:44.738Z"
   },
   {
    "duration": 1320,
    "start_time": "2021-06-24T11:43:44.746Z"
   },
   {
    "duration": 24,
    "start_time": "2021-06-24T11:43:46.072Z"
   },
   {
    "duration": 11,
    "start_time": "2021-06-24T11:43:46.099Z"
   },
   {
    "duration": 122,
    "start_time": "2021-06-24T11:43:46.112Z"
   },
   {
    "duration": 31,
    "start_time": "2021-06-24T11:43:46.237Z"
   },
   {
    "duration": 8,
    "start_time": "2021-06-24T11:43:46.285Z"
   },
   {
    "duration": 26,
    "start_time": "2021-06-24T11:43:46.298Z"
   },
   {
    "duration": 24,
    "start_time": "2021-06-24T11:43:46.327Z"
   },
   {
    "duration": 53,
    "start_time": "2021-06-24T11:43:46.354Z"
   },
   {
    "duration": 23,
    "start_time": "2021-06-24T11:43:46.410Z"
   },
   {
    "duration": 12,
    "start_time": "2021-06-24T11:43:46.436Z"
   },
   {
    "duration": 49,
    "start_time": "2021-06-24T11:43:46.451Z"
   },
   {
    "duration": 14,
    "start_time": "2021-06-24T11:43:46.503Z"
   },
   {
    "duration": 12,
    "start_time": "2021-06-24T11:43:46.520Z"
   },
   {
    "duration": 16,
    "start_time": "2021-06-24T11:43:46.535Z"
   },
   {
    "duration": 29,
    "start_time": "2021-06-24T11:43:46.554Z"
   },
   {
    "duration": 83,
    "start_time": "2021-06-24T11:43:46.587Z"
   },
   {
    "duration": 86,
    "start_time": "2021-06-24T11:43:46.684Z"
   },
   {
    "duration": 82,
    "start_time": "2021-06-24T11:43:46.785Z"
   },
   {
    "duration": 20,
    "start_time": "2021-06-24T11:43:46.883Z"
   },
   {
    "duration": 37,
    "start_time": "2021-06-24T11:43:46.907Z"
   },
   {
    "duration": 80,
    "start_time": "2021-06-24T11:43:46.951Z"
   },
   {
    "duration": 3,
    "start_time": "2021-06-24T11:43:47.033Z"
   },
   {
    "duration": 1541,
    "start_time": "2021-06-24T11:43:47.039Z"
   },
   {
    "duration": 339,
    "start_time": "2021-06-24T17:45:44.664Z"
   },
   {
    "duration": 1455,
    "start_time": "2021-06-24T17:50:25.352Z"
   },
   {
    "duration": 1062,
    "start_time": "2021-06-24T17:50:26.809Z"
   },
   {
    "duration": 25,
    "start_time": "2021-06-24T17:50:27.885Z"
   },
   {
    "duration": 12,
    "start_time": "2021-06-24T17:50:27.913Z"
   },
   {
    "duration": 121,
    "start_time": "2021-06-24T17:50:27.927Z"
   },
   {
    "duration": 38,
    "start_time": "2021-06-24T17:50:28.051Z"
   },
   {
    "duration": 3,
    "start_time": "2021-06-24T17:50:28.092Z"
   },
   {
    "duration": 27,
    "start_time": "2021-06-24T17:50:28.097Z"
   },
   {
    "duration": 20,
    "start_time": "2021-06-24T17:50:28.128Z"
   },
   {
    "duration": 50,
    "start_time": "2021-06-24T17:50:28.151Z"
   },
   {
    "duration": 24,
    "start_time": "2021-06-24T17:50:28.204Z"
   },
   {
    "duration": 10,
    "start_time": "2021-06-24T17:50:28.230Z"
   },
   {
    "duration": 41,
    "start_time": "2021-06-24T17:50:28.243Z"
   },
   {
    "duration": 11,
    "start_time": "2021-06-24T17:50:28.286Z"
   },
   {
    "duration": 14,
    "start_time": "2021-06-24T17:50:28.300Z"
   },
   {
    "duration": 10,
    "start_time": "2021-06-24T17:50:28.317Z"
   },
   {
    "duration": 11,
    "start_time": "2021-06-24T17:50:28.329Z"
   },
   {
    "duration": 105,
    "start_time": "2021-06-24T17:50:28.342Z"
   },
   {
    "duration": 92,
    "start_time": "2021-06-24T17:50:28.450Z"
   },
   {
    "duration": 88,
    "start_time": "2021-06-24T17:50:28.544Z"
   },
   {
    "duration": 16,
    "start_time": "2021-06-24T17:50:28.634Z"
   },
   {
    "duration": 37,
    "start_time": "2021-06-24T17:50:28.652Z"
   },
   {
    "duration": 62,
    "start_time": "2021-06-24T17:50:28.691Z"
   },
   {
    "duration": 27,
    "start_time": "2021-06-24T17:50:28.756Z"
   },
   {
    "duration": 428,
    "start_time": "2021-06-24T17:50:28.786Z"
   },
   {
    "duration": 805,
    "start_time": "2021-06-24T17:50:28.412Z"
   },
   {
    "duration": 792,
    "start_time": "2021-06-24T17:50:28.426Z"
   },
   {
    "duration": 791,
    "start_time": "2021-06-24T17:50:28.429Z"
   },
   {
    "duration": 791,
    "start_time": "2021-06-24T17:50:28.431Z"
   },
   {
    "duration": 791,
    "start_time": "2021-06-24T17:50:28.433Z"
   },
   {
    "duration": 790,
    "start_time": "2021-06-24T17:50:28.435Z"
   },
   {
    "duration": 6,
    "start_time": "2021-06-24T17:51:54.204Z"
   },
   {
    "duration": 937,
    "start_time": "2021-06-24T17:51:54.212Z"
   },
   {
    "duration": 17,
    "start_time": "2021-06-24T17:51:55.151Z"
   },
   {
    "duration": 15,
    "start_time": "2021-06-24T17:51:55.171Z"
   },
   {
    "duration": 95,
    "start_time": "2021-06-24T17:51:55.189Z"
   },
   {
    "duration": 25,
    "start_time": "2021-06-24T17:51:55.287Z"
   },
   {
    "duration": 3,
    "start_time": "2021-06-24T17:51:55.314Z"
   },
   {
    "duration": 23,
    "start_time": "2021-06-24T17:51:55.321Z"
   },
   {
    "duration": 52,
    "start_time": "2021-06-24T17:51:55.347Z"
   },
   {
    "duration": 23,
    "start_time": "2021-06-24T17:51:55.401Z"
   },
   {
    "duration": 22,
    "start_time": "2021-06-24T17:51:55.426Z"
   },
   {
    "duration": 39,
    "start_time": "2021-06-24T17:51:55.451Z"
   },
   {
    "duration": 13,
    "start_time": "2021-06-24T17:51:55.492Z"
   },
   {
    "duration": 13,
    "start_time": "2021-06-24T17:51:55.508Z"
   },
   {
    "duration": 10,
    "start_time": "2021-06-24T17:51:55.523Z"
   },
   {
    "duration": 8,
    "start_time": "2021-06-24T17:51:55.535Z"
   },
   {
    "duration": 12,
    "start_time": "2021-06-24T17:51:55.545Z"
   },
   {
    "duration": 72,
    "start_time": "2021-06-24T17:51:55.583Z"
   },
   {
    "duration": 83,
    "start_time": "2021-06-24T17:51:55.658Z"
   },
   {
    "duration": 85,
    "start_time": "2021-06-24T17:51:55.743Z"
   },
   {
    "duration": 14,
    "start_time": "2021-06-24T17:51:55.830Z"
   },
   {
    "duration": 17,
    "start_time": "2021-06-24T17:51:55.846Z"
   },
   {
    "duration": 53,
    "start_time": "2021-06-24T17:51:55.886Z"
   },
   {
    "duration": 4,
    "start_time": "2021-06-24T17:51:55.941Z"
   },
   {
    "duration": 335,
    "start_time": "2021-06-24T17:51:55.947Z"
   },
   {
    "duration": 836,
    "start_time": "2021-06-24T17:51:55.449Z"
   },
   {
    "duration": 835,
    "start_time": "2021-06-24T17:51:55.452Z"
   },
   {
    "duration": 834,
    "start_time": "2021-06-24T17:51:55.454Z"
   },
   {
    "duration": 834,
    "start_time": "2021-06-24T17:51:55.456Z"
   },
   {
    "duration": 831,
    "start_time": "2021-06-24T17:51:55.460Z"
   },
   {
    "duration": 828,
    "start_time": "2021-06-24T17:51:55.466Z"
   },
   {
    "duration": 5,
    "start_time": "2021-06-24T17:52:57.340Z"
   },
   {
    "duration": 828,
    "start_time": "2021-06-24T17:52:57.348Z"
   },
   {
    "duration": 18,
    "start_time": "2021-06-24T17:52:58.179Z"
   },
   {
    "duration": 7,
    "start_time": "2021-06-24T17:52:58.200Z"
   },
   {
    "duration": 104,
    "start_time": "2021-06-24T17:52:58.209Z"
   },
   {
    "duration": 31,
    "start_time": "2021-06-24T17:52:58.315Z"
   },
   {
    "duration": 3,
    "start_time": "2021-06-24T17:52:58.348Z"
   },
   {
    "duration": 44,
    "start_time": "2021-06-24T17:52:58.353Z"
   },
   {
    "duration": 23,
    "start_time": "2021-06-24T17:52:58.401Z"
   },
   {
    "duration": 22,
    "start_time": "2021-06-24T17:52:58.427Z"
   },
   {
    "duration": 48,
    "start_time": "2021-06-24T17:52:58.451Z"
   },
   {
    "duration": 12,
    "start_time": "2021-06-24T17:52:58.501Z"
   },
   {
    "duration": 18,
    "start_time": "2021-06-24T17:52:58.515Z"
   },
   {
    "duration": 15,
    "start_time": "2021-06-24T17:52:58.535Z"
   },
   {
    "duration": 30,
    "start_time": "2021-06-24T17:52:58.553Z"
   },
   {
    "duration": 8,
    "start_time": "2021-06-24T17:52:58.585Z"
   },
   {
    "duration": 9,
    "start_time": "2021-06-24T17:52:58.596Z"
   },
   {
    "duration": 95,
    "start_time": "2021-06-24T17:52:58.607Z"
   },
   {
    "duration": 79,
    "start_time": "2021-06-24T17:52:58.704Z"
   },
   {
    "duration": 74,
    "start_time": "2021-06-24T17:52:58.785Z"
   },
   {
    "duration": 27,
    "start_time": "2021-06-24T17:52:58.862Z"
   },
   {
    "duration": 29,
    "start_time": "2021-06-24T17:52:58.891Z"
   },
   {
    "duration": 78,
    "start_time": "2021-06-24T17:52:58.923Z"
   },
   {
    "duration": 3,
    "start_time": "2021-06-24T17:52:59.003Z"
   },
   {
    "duration": 83,
    "start_time": "2021-06-24T17:52:59.008Z"
   },
   {
    "duration": 7,
    "start_time": "2021-06-24T17:52:59.184Z"
   },
   {
    "duration": 89,
    "start_time": "2021-06-24T17:52:59.197Z"
   },
   {
    "duration": 198,
    "start_time": "2021-06-24T17:52:59.289Z"
   },
   {
    "duration": 190,
    "start_time": "2021-06-24T17:52:59.496Z"
   },
   {
    "duration": 486,
    "start_time": "2021-06-24T17:52:59.691Z"
   },
   {
    "duration": 835,
    "start_time": "2021-06-24T17:52:59.344Z"
   },
   {
    "duration": 16,
    "start_time": "2021-06-24T17:53:14.479Z"
   },
   {
    "duration": 270,
    "start_time": "2021-06-24T17:53:16.378Z"
   },
   {
    "duration": 7,
    "start_time": "2021-06-24T17:54:24.361Z"
   },
   {
    "duration": 6,
    "start_time": "2021-06-24T17:54:40.488Z"
   },
   {
    "duration": 6,
    "start_time": "2021-06-24T17:55:02.505Z"
   },
   {
    "duration": 6,
    "start_time": "2021-06-24T17:55:32.036Z"
   },
   {
    "duration": 6,
    "start_time": "2021-06-24T18:02:48.388Z"
   },
   {
    "duration": 1256,
    "start_time": "2021-06-24T18:02:48.397Z"
   },
   {
    "duration": 13,
    "start_time": "2021-06-24T18:02:49.657Z"
   },
   {
    "duration": 13,
    "start_time": "2021-06-24T18:02:49.674Z"
   },
   {
    "duration": 116,
    "start_time": "2021-06-24T18:02:49.690Z"
   },
   {
    "duration": 26,
    "start_time": "2021-06-24T18:02:49.809Z"
   },
   {
    "duration": 4,
    "start_time": "2021-06-24T18:02:49.838Z"
   },
   {
    "duration": 47,
    "start_time": "2021-06-24T18:02:49.845Z"
   },
   {
    "duration": 22,
    "start_time": "2021-06-24T18:02:49.897Z"
   },
   {
    "duration": 23,
    "start_time": "2021-06-24T18:02:49.922Z"
   },
   {
    "duration": 50,
    "start_time": "2021-06-24T18:02:49.948Z"
   },
   {
    "duration": 55,
    "start_time": "2021-06-24T18:02:50.000Z"
   },
   {
    "duration": 28,
    "start_time": "2021-06-24T18:02:50.057Z"
   },
   {
    "duration": 16,
    "start_time": "2021-06-24T18:02:50.088Z"
   },
   {
    "duration": 16,
    "start_time": "2021-06-24T18:02:50.107Z"
   },
   {
    "duration": 27,
    "start_time": "2021-06-24T18:02:50.131Z"
   },
   {
    "duration": 12,
    "start_time": "2021-06-24T18:02:50.184Z"
   },
   {
    "duration": 16,
    "start_time": "2021-06-24T18:02:50.199Z"
   },
   {
    "duration": 9,
    "start_time": "2021-06-24T18:02:50.218Z"
   },
   {
    "duration": 16,
    "start_time": "2021-06-24T18:02:50.229Z"
   },
   {
    "duration": 110,
    "start_time": "2021-06-24T18:02:50.248Z"
   },
   {
    "duration": 91,
    "start_time": "2021-06-24T18:02:50.361Z"
   },
   {
    "duration": 115,
    "start_time": "2021-06-24T18:02:50.454Z"
   },
   {
    "duration": 218,
    "start_time": "2021-06-24T18:02:50.572Z"
   },
   {
    "duration": 16,
    "start_time": "2021-06-24T18:02:50.792Z"
   },
   {
    "duration": 7,
    "start_time": "2021-06-24T18:02:50.811Z"
   },
   {
    "duration": 83,
    "start_time": "2021-06-24T18:02:50.823Z"
   },
   {
    "duration": 3,
    "start_time": "2021-06-24T18:02:50.909Z"
   },
   {
    "duration": 76,
    "start_time": "2021-06-24T18:02:50.915Z"
   },
   {
    "duration": 93,
    "start_time": "2021-06-24T18:02:50.994Z"
   },
   {
    "duration": 192,
    "start_time": "2021-06-24T18:02:51.091Z"
   },
   {
    "duration": 106,
    "start_time": "2021-06-24T18:02:51.287Z"
   },
   {
    "duration": 289,
    "start_time": "2021-06-24T18:02:51.397Z"
   },
   {
    "duration": 108,
    "start_time": "2021-06-24T18:02:51.689Z"
   },
   {
    "duration": 88,
    "start_time": "2021-06-24T18:02:51.801Z"
   },
   {
    "duration": 18,
    "start_time": "2021-06-24T18:06:20.765Z"
   },
   {
    "duration": 9,
    "start_time": "2021-06-24T18:06:22.507Z"
   },
   {
    "duration": 18,
    "start_time": "2021-06-24T18:06:41.922Z"
   },
   {
    "duration": 7,
    "start_time": "2021-06-24T18:06:44.334Z"
   },
   {
    "duration": 16,
    "start_time": "2021-06-24T18:08:11.488Z"
   },
   {
    "duration": 15,
    "start_time": "2021-06-24T18:08:32.603Z"
   },
   {
    "duration": 8,
    "start_time": "2021-06-24T18:08:47.668Z"
   },
   {
    "duration": 283,
    "start_time": "2021-06-24T18:09:04.251Z"
   },
   {
    "duration": 9,
    "start_time": "2021-06-24T18:09:10.051Z"
   },
   {
    "duration": 19,
    "start_time": "2021-06-24T18:09:36.109Z"
   },
   {
    "duration": 19,
    "start_time": "2021-06-24T18:09:49.573Z"
   },
   {
    "duration": 8,
    "start_time": "2021-06-24T18:13:50.824Z"
   },
   {
    "duration": 9,
    "start_time": "2021-06-24T18:20:27.493Z"
   },
   {
    "duration": 10,
    "start_time": "2021-06-24T18:20:27.741Z"
   },
   {
    "duration": 6,
    "start_time": "2021-06-24T18:22:03.017Z"
   },
   {
    "duration": 1081,
    "start_time": "2021-06-24T18:22:03.025Z"
   },
   {
    "duration": 21,
    "start_time": "2021-06-24T18:22:04.109Z"
   },
   {
    "duration": 7,
    "start_time": "2021-06-24T18:22:04.133Z"
   },
   {
    "duration": 113,
    "start_time": "2021-06-24T18:22:04.142Z"
   },
   {
    "duration": 44,
    "start_time": "2021-06-24T18:22:04.257Z"
   },
   {
    "duration": 4,
    "start_time": "2021-06-24T18:22:04.303Z"
   },
   {
    "duration": 25,
    "start_time": "2021-06-24T18:22:04.309Z"
   },
   {
    "duration": 64,
    "start_time": "2021-06-24T18:22:04.338Z"
   },
   {
    "duration": 23,
    "start_time": "2021-06-24T18:22:04.405Z"
   },
   {
    "duration": 23,
    "start_time": "2021-06-24T18:22:04.430Z"
   },
   {
    "duration": 60,
    "start_time": "2021-06-24T18:22:04.484Z"
   },
   {
    "duration": 9,
    "start_time": "2021-06-24T18:22:04.547Z"
   },
   {
    "duration": 28,
    "start_time": "2021-06-24T18:22:04.559Z"
   },
   {
    "duration": 13,
    "start_time": "2021-06-24T18:22:04.590Z"
   },
   {
    "duration": 27,
    "start_time": "2021-06-24T18:22:04.606Z"
   },
   {
    "duration": 6,
    "start_time": "2021-06-24T18:22:04.636Z"
   },
   {
    "duration": 41,
    "start_time": "2021-06-24T18:22:04.645Z"
   },
   {
    "duration": 7,
    "start_time": "2021-06-24T18:22:04.688Z"
   },
   {
    "duration": 13,
    "start_time": "2021-06-24T18:22:04.698Z"
   },
   {
    "duration": 105,
    "start_time": "2021-06-24T18:22:04.714Z"
   },
   {
    "duration": 79,
    "start_time": "2021-06-24T18:22:04.822Z"
   },
   {
    "duration": 81,
    "start_time": "2021-06-24T18:22:04.903Z"
   },
   {
    "duration": 208,
    "start_time": "2021-06-24T18:22:04.987Z"
   },
   {
    "duration": 16,
    "start_time": "2021-06-24T18:22:05.197Z"
   },
   {
    "duration": 11,
    "start_time": "2021-06-24T18:22:05.215Z"
   },
   {
    "duration": 74,
    "start_time": "2021-06-24T18:22:05.232Z"
   },
   {
    "duration": 4,
    "start_time": "2021-06-24T18:22:05.309Z"
   },
   {
    "duration": 167,
    "start_time": "2021-06-24T18:22:05.316Z"
   },
   {
    "duration": 9,
    "start_time": "2021-06-24T18:22:05.486Z"
   },
   {
    "duration": 93,
    "start_time": "2021-06-24T18:22:05.500Z"
   },
   {
    "duration": 192,
    "start_time": "2021-06-24T18:22:05.596Z"
   },
   {
    "duration": 208,
    "start_time": "2021-06-24T18:22:05.791Z"
   },
   {
    "duration": 190,
    "start_time": "2021-06-24T18:22:06.003Z"
   },
   {
    "duration": 91,
    "start_time": "2021-06-24T18:22:06.197Z"
   },
   {
    "duration": 97,
    "start_time": "2021-06-24T18:22:06.292Z"
   },
   {
    "duration": 18,
    "start_time": "2021-06-24T18:22:06.393Z"
   },
   {
    "duration": 19,
    "start_time": "2021-06-24T18:22:06.413Z"
   },
   {
    "duration": 49,
    "start_time": "2021-06-24T18:22:06.434Z"
   },
   {
    "duration": 3,
    "start_time": "2021-06-24T18:22:06.486Z"
   },
   {
    "duration": 36,
    "start_time": "2021-06-24T18:22:06.492Z"
   },
   {
    "duration": 197,
    "start_time": "2021-06-24T18:22:06.588Z"
   },
   {
    "duration": 96,
    "start_time": "2021-06-24T18:22:06.787Z"
   },
   {
    "duration": 105,
    "start_time": "2021-06-24T18:22:06.888Z"
   },
   {
    "duration": 190,
    "start_time": "2021-06-24T18:22:06.997Z"
   },
   {
    "duration": 198,
    "start_time": "2021-06-24T18:22:07.190Z"
   },
   {
    "duration": 95,
    "start_time": "2021-06-24T18:22:07.392Z"
   },
   {
    "duration": 10,
    "start_time": "2021-06-24T18:23:26.553Z"
   },
   {
    "duration": 4,
    "start_time": "2021-06-24T18:23:30.269Z"
   },
   {
    "duration": 31,
    "start_time": "2021-06-24T18:23:30.676Z"
   },
   {
    "duration": 8,
    "start_time": "2021-06-24T18:23:31.043Z"
   },
   {
    "duration": 8,
    "start_time": "2021-06-24T18:23:31.449Z"
   },
   {
    "duration": 18,
    "start_time": "2021-06-24T18:23:32.282Z"
   },
   {
    "duration": 17,
    "start_time": "2021-06-24T18:23:32.731Z"
   },
   {
    "duration": 17,
    "start_time": "2021-06-24T18:23:33.160Z"
   },
   {
    "duration": 6,
    "start_time": "2021-06-24T18:23:34.154Z"
   },
   {
    "duration": 8,
    "start_time": "2021-06-24T18:24:31.195Z"
   },
   {
    "duration": 5,
    "start_time": "2021-06-24T18:24:34.439Z"
   },
   {
    "duration": 40,
    "start_time": "2021-06-24T18:24:34.446Z"
   },
   {
    "duration": 192,
    "start_time": "2021-06-24T18:24:34.490Z"
   },
   {
    "duration": 102,
    "start_time": "2021-06-24T18:24:34.685Z"
   },
   {
    "duration": 196,
    "start_time": "2021-06-24T18:24:34.790Z"
   },
   {
    "duration": 193,
    "start_time": "2021-06-24T18:24:34.994Z"
   },
   {
    "duration": 193,
    "start_time": "2021-06-24T18:24:35.195Z"
   },
   {
    "duration": 90,
    "start_time": "2021-06-24T18:24:35.397Z"
   },
   {
    "duration": 8,
    "start_time": "2021-06-24T18:27:09.069Z"
   },
   {
    "duration": 9,
    "start_time": "2021-06-24T18:27:09.633Z"
   },
   {
    "duration": 6,
    "start_time": "2021-06-24T18:27:10.003Z"
   },
   {
    "duration": 45,
    "start_time": "2021-06-24T18:27:39.539Z"
   },
   {
    "duration": 5,
    "start_time": "2021-06-24T18:27:40.119Z"
   },
   {
    "duration": 11,
    "start_time": "2021-06-24T18:28:06.891Z"
   },
   {
    "duration": 8,
    "start_time": "2021-06-24T18:29:55.197Z"
   },
   {
    "duration": 12,
    "start_time": "2021-06-24T18:29:55.732Z"
   },
   {
    "duration": 7,
    "start_time": "2021-06-24T18:30:11.409Z"
   },
   {
    "duration": 11,
    "start_time": "2021-06-24T18:30:13.141Z"
   },
   {
    "duration": 8,
    "start_time": "2021-06-24T18:30:21.864Z"
   },
   {
    "duration": 35,
    "start_time": "2021-06-24T18:30:22.578Z"
   },
   {
    "duration": 282,
    "start_time": "2021-06-24T18:30:54.586Z"
   },
   {
    "duration": 266,
    "start_time": "2021-06-24T18:31:03.233Z"
   },
   {
    "duration": 8,
    "start_time": "2021-06-24T18:31:39.723Z"
   },
   {
    "duration": 10,
    "start_time": "2021-06-24T18:31:44.943Z"
   },
   {
    "duration": 7,
    "start_time": "2021-06-24T18:31:55.302Z"
   },
   {
    "duration": 10,
    "start_time": "2021-06-24T18:31:56.610Z"
   },
   {
    "duration": 8,
    "start_time": "2021-06-24T18:31:59.330Z"
   },
   {
    "duration": 9,
    "start_time": "2021-06-24T18:32:00.764Z"
   },
   {
    "duration": 8,
    "start_time": "2021-06-24T18:32:11.276Z"
   },
   {
    "duration": 9,
    "start_time": "2021-06-24T18:32:11.674Z"
   },
   {
    "duration": 8,
    "start_time": "2021-06-24T18:32:14.802Z"
   },
   {
    "duration": 9,
    "start_time": "2021-06-24T18:32:15.197Z"
   },
   {
    "duration": 8,
    "start_time": "2021-06-24T18:33:55.824Z"
   },
   {
    "duration": 11,
    "start_time": "2021-06-24T18:33:56.261Z"
   },
   {
    "duration": 8,
    "start_time": "2021-06-24T18:34:05.179Z"
   },
   {
    "duration": 10,
    "start_time": "2021-06-24T18:34:05.960Z"
   },
   {
    "duration": 8,
    "start_time": "2021-06-24T18:34:08.447Z"
   },
   {
    "duration": 10,
    "start_time": "2021-06-24T18:34:08.690Z"
   },
   {
    "duration": 3710,
    "start_time": "2021-06-24T18:36:48.070Z"
   },
   {
    "duration": 793,
    "start_time": "2021-06-24T18:36:50.989Z"
   },
   {
    "duration": 3749,
    "start_time": "2021-06-24T18:37:33.726Z"
   },
   {
    "duration": 785,
    "start_time": "2021-06-24T18:37:36.693Z"
   },
   {
    "duration": 3411,
    "start_time": "2021-06-24T18:37:45.206Z"
   },
   {
    "duration": 15,
    "start_time": "2021-06-24T18:38:01.317Z"
   },
   {
    "duration": 10,
    "start_time": "2021-06-24T18:38:06.390Z"
   },
   {
    "duration": 8,
    "start_time": "2021-06-24T18:38:20.747Z"
   },
   {
    "duration": 8,
    "start_time": "2021-06-24T18:38:22.153Z"
   },
   {
    "duration": 5,
    "start_time": "2021-06-24T18:38:28.646Z"
   },
   {
    "duration": 1301,
    "start_time": "2021-06-24T18:38:28.653Z"
   },
   {
    "duration": 17,
    "start_time": "2021-06-24T18:38:29.957Z"
   },
   {
    "duration": 7,
    "start_time": "2021-06-24T18:38:29.984Z"
   },
   {
    "duration": 103,
    "start_time": "2021-06-24T18:38:29.994Z"
   },
   {
    "duration": 31,
    "start_time": "2021-06-24T18:38:30.100Z"
   },
   {
    "duration": 4,
    "start_time": "2021-06-24T18:38:30.134Z"
   },
   {
    "duration": 53,
    "start_time": "2021-06-24T18:38:30.141Z"
   },
   {
    "duration": 24,
    "start_time": "2021-06-24T18:38:30.200Z"
   },
   {
    "duration": 24,
    "start_time": "2021-06-24T18:38:30.228Z"
   },
   {
    "duration": 24,
    "start_time": "2021-06-24T18:38:30.282Z"
   },
   {
    "duration": 88,
    "start_time": "2021-06-24T18:38:30.309Z"
   },
   {
    "duration": 14,
    "start_time": "2021-06-24T18:38:30.399Z"
   },
   {
    "duration": 20,
    "start_time": "2021-06-24T18:38:30.416Z"
   },
   {
    "duration": 23,
    "start_time": "2021-06-24T18:38:30.438Z"
   },
   {
    "duration": 47,
    "start_time": "2021-06-24T18:38:30.463Z"
   },
   {
    "duration": 9,
    "start_time": "2021-06-24T18:38:30.513Z"
   },
   {
    "duration": 16,
    "start_time": "2021-06-24T18:38:30.525Z"
   },
   {
    "duration": 18,
    "start_time": "2021-06-24T18:38:30.543Z"
   },
   {
    "duration": 25,
    "start_time": "2021-06-24T18:38:30.564Z"
   },
   {
    "duration": 91,
    "start_time": "2021-06-24T18:38:30.591Z"
   },
   {
    "duration": 72,
    "start_time": "2021-06-24T18:38:30.685Z"
   },
   {
    "duration": 87,
    "start_time": "2021-06-24T18:38:30.759Z"
   },
   {
    "duration": 216,
    "start_time": "2021-06-24T18:38:30.848Z"
   },
   {
    "duration": 19,
    "start_time": "2021-06-24T18:38:31.067Z"
   },
   {
    "duration": 25,
    "start_time": "2021-06-24T18:38:31.088Z"
   },
   {
    "duration": 61,
    "start_time": "2021-06-24T18:38:31.118Z"
   },
   {
    "duration": 4,
    "start_time": "2021-06-24T18:38:31.182Z"
   },
   {
    "duration": 98,
    "start_time": "2021-06-24T18:38:31.188Z"
   },
   {
    "duration": 99,
    "start_time": "2021-06-24T18:38:31.290Z"
   },
   {
    "duration": 190,
    "start_time": "2021-06-24T18:38:31.394Z"
   },
   {
    "duration": 111,
    "start_time": "2021-06-24T18:38:31.587Z"
   },
   {
    "duration": 95,
    "start_time": "2021-06-24T18:38:31.701Z"
   },
   {
    "duration": 193,
    "start_time": "2021-06-24T18:38:31.799Z"
   },
   {
    "duration": 93,
    "start_time": "2021-06-24T18:38:31.995Z"
   },
   {
    "duration": 94,
    "start_time": "2021-06-24T18:38:32.092Z"
   },
   {
    "duration": 24,
    "start_time": "2021-06-24T18:38:32.189Z"
   },
   {
    "duration": 16,
    "start_time": "2021-06-24T18:38:32.215Z"
   },
   {
    "duration": 49,
    "start_time": "2021-06-24T18:38:32.234Z"
   },
   {
    "duration": 12,
    "start_time": "2021-06-24T18:38:32.285Z"
   },
   {
    "duration": 4,
    "start_time": "2021-06-24T18:38:32.300Z"
   },
   {
    "duration": 77,
    "start_time": "2021-06-24T18:38:32.307Z"
   },
   {
    "duration": 98,
    "start_time": "2021-06-24T18:38:32.390Z"
   },
   {
    "duration": 96,
    "start_time": "2021-06-24T18:38:32.491Z"
   },
   {
    "duration": 195,
    "start_time": "2021-06-24T18:38:32.591Z"
   },
   {
    "duration": 197,
    "start_time": "2021-06-24T18:38:32.790Z"
   },
   {
    "duration": 196,
    "start_time": "2021-06-24T18:38:32.991Z"
   },
   {
    "duration": 97,
    "start_time": "2021-06-24T18:38:33.191Z"
   },
   {
    "duration": 4,
    "start_time": "2021-06-24T18:41:06.828Z"
   },
   {
    "duration": 955,
    "start_time": "2021-06-24T18:41:06.835Z"
   },
   {
    "duration": 20,
    "start_time": "2021-06-24T18:41:07.793Z"
   },
   {
    "duration": 6,
    "start_time": "2021-06-24T18:41:07.816Z"
   },
   {
    "duration": 111,
    "start_time": "2021-06-24T18:41:07.825Z"
   },
   {
    "duration": 25,
    "start_time": "2021-06-24T18:41:07.938Z"
   },
   {
    "duration": 3,
    "start_time": "2021-06-24T18:41:07.982Z"
   },
   {
    "duration": 26,
    "start_time": "2021-06-24T18:41:07.989Z"
   },
   {
    "duration": 22,
    "start_time": "2021-06-24T18:41:08.018Z"
   },
   {
    "duration": 51,
    "start_time": "2021-06-24T18:41:08.042Z"
   },
   {
    "duration": 22,
    "start_time": "2021-06-24T18:41:08.095Z"
   },
   {
    "duration": 80,
    "start_time": "2021-06-24T18:41:08.120Z"
   },
   {
    "duration": 11,
    "start_time": "2021-06-24T18:41:08.202Z"
   },
   {
    "duration": 14,
    "start_time": "2021-06-24T18:41:08.216Z"
   },
   {
    "duration": 16,
    "start_time": "2021-06-24T18:41:08.233Z"
   },
   {
    "duration": 45,
    "start_time": "2021-06-24T18:41:08.251Z"
   },
   {
    "duration": 7,
    "start_time": "2021-06-24T18:41:08.298Z"
   },
   {
    "duration": 12,
    "start_time": "2021-06-24T18:41:08.308Z"
   },
   {
    "duration": 11,
    "start_time": "2021-06-24T18:41:08.322Z"
   },
   {
    "duration": 16,
    "start_time": "2021-06-24T18:41:08.336Z"
   },
   {
    "duration": 104,
    "start_time": "2021-06-24T18:41:08.354Z"
   },
   {
    "duration": 86,
    "start_time": "2021-06-24T18:41:08.460Z"
   },
   {
    "duration": 84,
    "start_time": "2021-06-24T18:41:08.551Z"
   },
   {
    "duration": 223,
    "start_time": "2021-06-24T18:41:08.638Z"
   },
   {
    "duration": 22,
    "start_time": "2021-06-24T18:41:08.863Z"
   },
   {
    "duration": 8,
    "start_time": "2021-06-24T18:41:08.887Z"
   },
   {
    "duration": 54,
    "start_time": "2021-06-24T18:41:08.898Z"
   },
   {
    "duration": 4,
    "start_time": "2021-06-24T18:41:08.954Z"
   },
   {
    "duration": 112,
    "start_time": "2021-06-24T18:41:08.983Z"
   },
   {
    "duration": 13,
    "start_time": "2021-06-24T18:41:09.183Z"
   },
   {
    "duration": 104,
    "start_time": "2021-06-24T18:41:09.284Z"
   },
   {
    "duration": 105,
    "start_time": "2021-06-24T18:41:09.392Z"
   },
   {
    "duration": 185,
    "start_time": "2021-06-24T18:41:09.500Z"
   },
   {
    "duration": 106,
    "start_time": "2021-06-24T18:41:09.688Z"
   },
   {
    "duration": 93,
    "start_time": "2021-06-24T18:41:09.798Z"
   },
   {
    "duration": 96,
    "start_time": "2021-06-24T18:41:09.894Z"
   },
   {
    "duration": 23,
    "start_time": "2021-06-24T18:41:09.992Z"
   },
   {
    "duration": 19,
    "start_time": "2021-06-24T18:41:10.017Z"
   },
   {
    "duration": 10,
    "start_time": "2021-06-24T18:41:10.038Z"
   },
   {
    "duration": 10,
    "start_time": "2021-06-24T18:41:10.084Z"
   },
   {
    "duration": 4,
    "start_time": "2021-06-24T18:41:10.097Z"
   },
   {
    "duration": 82,
    "start_time": "2021-06-24T18:41:10.103Z"
   },
   {
    "duration": 100,
    "start_time": "2021-06-24T18:41:10.188Z"
   },
   {
    "duration": 99,
    "start_time": "2021-06-24T18:41:10.292Z"
   },
   {
    "duration": 108,
    "start_time": "2021-06-24T18:41:10.484Z"
   },
   {
    "duration": 190,
    "start_time": "2021-06-24T18:41:10.596Z"
   },
   {
    "duration": 197,
    "start_time": "2021-06-24T18:41:10.790Z"
   },
   {
    "duration": 97,
    "start_time": "2021-06-24T18:41:10.991Z"
   },
   {
    "duration": 5,
    "start_time": "2021-06-24T18:42:00.654Z"
   },
   {
    "duration": 1054,
    "start_time": "2021-06-24T18:42:00.663Z"
   },
   {
    "duration": 20,
    "start_time": "2021-06-24T18:42:01.721Z"
   },
   {
    "duration": 14,
    "start_time": "2021-06-24T18:42:01.744Z"
   },
   {
    "duration": 103,
    "start_time": "2021-06-24T18:42:01.761Z"
   },
   {
    "duration": 41,
    "start_time": "2021-06-24T18:42:01.866Z"
   },
   {
    "duration": 7,
    "start_time": "2021-06-24T18:42:01.910Z"
   },
   {
    "duration": 33,
    "start_time": "2021-06-24T18:42:01.920Z"
   },
   {
    "duration": 44,
    "start_time": "2021-06-24T18:42:01.957Z"
   },
   {
    "duration": 22,
    "start_time": "2021-06-24T18:42:02.004Z"
   },
   {
    "duration": 22,
    "start_time": "2021-06-24T18:42:02.028Z"
   },
   {
    "duration": 88,
    "start_time": "2021-06-24T18:42:02.053Z"
   },
   {
    "duration": 10,
    "start_time": "2021-06-24T18:42:02.144Z"
   },
   {
    "duration": 29,
    "start_time": "2021-06-24T18:42:02.157Z"
   },
   {
    "duration": 16,
    "start_time": "2021-06-24T18:42:02.189Z"
   },
   {
    "duration": 32,
    "start_time": "2021-06-24T18:42:02.207Z"
   },
   {
    "duration": 8,
    "start_time": "2021-06-24T18:42:02.241Z"
   },
   {
    "duration": 31,
    "start_time": "2021-06-24T18:42:02.252Z"
   },
   {
    "duration": 13,
    "start_time": "2021-06-24T18:42:02.286Z"
   },
   {
    "duration": 22,
    "start_time": "2021-06-24T18:42:02.302Z"
   },
   {
    "duration": 90,
    "start_time": "2021-06-24T18:42:02.327Z"
   },
   {
    "duration": 83,
    "start_time": "2021-06-24T18:42:02.420Z"
   },
   {
    "duration": 96,
    "start_time": "2021-06-24T18:42:02.506Z"
   },
   {
    "duration": 212,
    "start_time": "2021-06-24T18:42:02.605Z"
   },
   {
    "duration": 16,
    "start_time": "2021-06-24T18:42:02.820Z"
   },
   {
    "duration": 4,
    "start_time": "2021-06-24T18:42:02.839Z"
   },
   {
    "duration": 83,
    "start_time": "2021-06-24T18:42:02.848Z"
   },
   {
    "duration": 4,
    "start_time": "2021-06-24T18:42:02.934Z"
   },
   {
    "duration": 51,
    "start_time": "2021-06-24T18:42:02.940Z"
   },
   {
    "duration": 101,
    "start_time": "2021-06-24T18:42:03.085Z"
   },
   {
    "duration": 102,
    "start_time": "2021-06-24T18:42:03.189Z"
   },
   {
    "duration": 192,
    "start_time": "2021-06-24T18:42:03.295Z"
   },
   {
    "duration": 197,
    "start_time": "2021-06-24T18:42:03.491Z"
   },
   {
    "duration": 199,
    "start_time": "2021-06-24T18:42:03.691Z"
   },
   {
    "duration": 93,
    "start_time": "2021-06-24T18:42:03.894Z"
   },
   {
    "duration": 99,
    "start_time": "2021-06-24T18:42:03.991Z"
   },
   {
    "duration": 26,
    "start_time": "2021-06-24T18:42:04.092Z"
   },
   {
    "duration": 17,
    "start_time": "2021-06-24T18:42:04.121Z"
   },
   {
    "duration": 49,
    "start_time": "2021-06-24T18:42:04.140Z"
   },
   {
    "duration": 9,
    "start_time": "2021-06-24T18:42:04.192Z"
   },
   {
    "duration": 12,
    "start_time": "2021-06-24T18:42:04.203Z"
   },
   {
    "duration": 67,
    "start_time": "2021-06-24T18:42:04.217Z"
   },
   {
    "duration": 100,
    "start_time": "2021-06-24T18:42:04.287Z"
   },
   {
    "duration": 101,
    "start_time": "2021-06-24T18:42:04.391Z"
   },
   {
    "duration": 120,
    "start_time": "2021-06-24T18:42:04.584Z"
   },
   {
    "duration": 184,
    "start_time": "2021-06-24T18:42:04.707Z"
   },
   {
    "duration": 192,
    "start_time": "2021-06-24T18:42:04.894Z"
   },
   {
    "duration": 145,
    "start_time": "2021-06-24T18:42:05.089Z"
   },
   {
    "duration": 4,
    "start_time": "2021-06-24T18:42:43.139Z"
   },
   {
    "duration": 17,
    "start_time": "2021-06-24T18:42:43.446Z"
   },
   {
    "duration": 19,
    "start_time": "2021-06-24T18:42:43.765Z"
   },
   {
    "duration": 18,
    "start_time": "2021-06-24T18:42:44.084Z"
   },
   {
    "duration": 5,
    "start_time": "2021-06-24T18:42:59.878Z"
   },
   {
    "duration": 5,
    "start_time": "2021-06-24T18:44:52.266Z"
   },
   {
    "duration": 1720,
    "start_time": "2021-06-24T18:44:52.274Z"
   },
   {
    "duration": 19,
    "start_time": "2021-06-24T18:44:53.997Z"
   },
   {
    "duration": 6,
    "start_time": "2021-06-24T18:44:54.019Z"
   },
   {
    "duration": 106,
    "start_time": "2021-06-24T18:44:54.027Z"
   },
   {
    "duration": 26,
    "start_time": "2021-06-24T18:44:54.135Z"
   },
   {
    "duration": 20,
    "start_time": "2021-06-24T18:44:54.164Z"
   },
   {
    "duration": 24,
    "start_time": "2021-06-24T18:44:54.188Z"
   },
   {
    "duration": 22,
    "start_time": "2021-06-24T18:44:54.215Z"
   },
   {
    "duration": 52,
    "start_time": "2021-06-24T18:44:54.240Z"
   },
   {
    "duration": 22,
    "start_time": "2021-06-24T18:44:54.294Z"
   },
   {
    "duration": 79,
    "start_time": "2021-06-24T18:44:54.319Z"
   },
   {
    "duration": 11,
    "start_time": "2021-06-24T18:44:54.400Z"
   },
   {
    "duration": 14,
    "start_time": "2021-06-24T18:44:54.413Z"
   },
   {
    "duration": 13,
    "start_time": "2021-06-24T18:44:54.429Z"
   },
   {
    "duration": 54,
    "start_time": "2021-06-24T18:44:54.444Z"
   },
   {
    "duration": 7,
    "start_time": "2021-06-24T18:44:54.500Z"
   },
   {
    "duration": 14,
    "start_time": "2021-06-24T18:44:54.510Z"
   },
   {
    "duration": 12,
    "start_time": "2021-06-24T18:44:54.526Z"
   },
   {
    "duration": 14,
    "start_time": "2021-06-24T18:44:54.541Z"
   },
   {
    "duration": 108,
    "start_time": "2021-06-24T18:44:54.557Z"
   },
   {
    "duration": 83,
    "start_time": "2021-06-24T18:44:54.667Z"
   },
   {
    "duration": 79,
    "start_time": "2021-06-24T18:44:54.755Z"
   },
   {
    "duration": 212,
    "start_time": "2021-06-24T18:44:54.837Z"
   },
   {
    "duration": 14,
    "start_time": "2021-06-24T18:44:55.051Z"
   },
   {
    "duration": 19,
    "start_time": "2021-06-24T18:44:55.067Z"
   },
   {
    "duration": 65,
    "start_time": "2021-06-24T18:44:55.088Z"
   },
   {
    "duration": 4,
    "start_time": "2021-06-24T18:44:55.155Z"
   },
   {
    "duration": 49,
    "start_time": "2021-06-24T18:44:55.161Z"
   },
   {
    "duration": 198,
    "start_time": "2021-06-24T18:44:55.285Z"
   },
   {
    "duration": 10,
    "start_time": "2021-06-24T18:44:55.486Z"
   },
   {
    "duration": 111,
    "start_time": "2021-06-24T18:44:55.584Z"
   },
   {
    "duration": 92,
    "start_time": "2021-06-24T18:44:55.699Z"
   },
   {
    "duration": 103,
    "start_time": "2021-06-24T18:44:55.885Z"
   },
   {
    "duration": 96,
    "start_time": "2021-06-24T18:44:55.992Z"
   },
   {
    "duration": 102,
    "start_time": "2021-06-24T18:44:56.092Z"
   },
   {
    "duration": 20,
    "start_time": "2021-06-24T18:44:56.196Z"
   },
   {
    "duration": 17,
    "start_time": "2021-06-24T18:44:56.219Z"
   },
   {
    "duration": 52,
    "start_time": "2021-06-24T18:44:56.239Z"
   },
   {
    "duration": 23,
    "start_time": "2021-06-24T18:44:56.294Z"
   },
   {
    "duration": 5,
    "start_time": "2021-06-24T18:44:56.321Z"
   },
   {
    "duration": 64,
    "start_time": "2021-06-24T18:44:56.330Z"
   },
   {
    "duration": 101,
    "start_time": "2021-06-24T18:44:56.483Z"
   },
   {
    "duration": 108,
    "start_time": "2021-06-24T18:44:56.588Z"
   },
   {
    "duration": 90,
    "start_time": "2021-06-24T18:44:56.700Z"
   },
   {
    "duration": 5,
    "start_time": "2021-06-24T18:46:56.584Z"
   },
   {
    "duration": 843,
    "start_time": "2021-06-24T18:46:56.591Z"
   },
   {
    "duration": 19,
    "start_time": "2021-06-24T18:46:57.437Z"
   },
   {
    "duration": 23,
    "start_time": "2021-06-24T18:46:57.459Z"
   },
   {
    "duration": 78,
    "start_time": "2021-06-24T18:46:57.485Z"
   },
   {
    "duration": 36,
    "start_time": "2021-06-24T18:46:57.582Z"
   },
   {
    "duration": 4,
    "start_time": "2021-06-24T18:46:57.620Z"
   },
   {
    "duration": 26,
    "start_time": "2021-06-24T18:46:57.626Z"
   },
   {
    "duration": 46,
    "start_time": "2021-06-24T18:46:57.656Z"
   },
   {
    "duration": 22,
    "start_time": "2021-06-24T18:46:57.705Z"
   },
   {
    "duration": 23,
    "start_time": "2021-06-24T18:46:57.729Z"
   },
   {
    "duration": 87,
    "start_time": "2021-06-24T18:46:57.754Z"
   },
   {
    "duration": 11,
    "start_time": "2021-06-24T18:46:57.843Z"
   },
   {
    "duration": 33,
    "start_time": "2021-06-24T18:46:57.856Z"
   },
   {
    "duration": 12,
    "start_time": "2021-06-24T18:46:57.892Z"
   },
   {
    "duration": 28,
    "start_time": "2021-06-24T18:46:57.907Z"
   },
   {
    "duration": 7,
    "start_time": "2021-06-24T18:46:57.937Z"
   },
   {
    "duration": 12,
    "start_time": "2021-06-24T18:46:57.946Z"
   },
   {
    "duration": 30,
    "start_time": "2021-06-24T18:46:57.960Z"
   },
   {
    "duration": 15,
    "start_time": "2021-06-24T18:46:57.992Z"
   },
   {
    "duration": 91,
    "start_time": "2021-06-24T18:46:58.010Z"
   },
   {
    "duration": 80,
    "start_time": "2021-06-24T18:46:58.103Z"
   },
   {
    "duration": 72,
    "start_time": "2021-06-24T18:46:58.185Z"
   },
   {
    "duration": 209,
    "start_time": "2021-06-24T18:46:58.259Z"
   },
   {
    "duration": 19,
    "start_time": "2021-06-24T18:46:58.470Z"
   },
   {
    "duration": 5,
    "start_time": "2021-06-24T18:46:58.491Z"
   },
   {
    "duration": 57,
    "start_time": "2021-06-24T18:46:58.501Z"
   },
   {
    "duration": 4,
    "start_time": "2021-06-24T18:46:58.584Z"
   },
   {
    "duration": 95,
    "start_time": "2021-06-24T18:46:58.591Z"
   },
   {
    "duration": 102,
    "start_time": "2021-06-24T18:46:58.690Z"
   },
   {
    "duration": 93,
    "start_time": "2021-06-24T18:46:58.795Z"
   },
   {
    "duration": 194,
    "start_time": "2021-06-24T18:46:58.891Z"
   },
   {
    "duration": 105,
    "start_time": "2021-06-24T18:46:59.087Z"
   },
   {
    "duration": 96,
    "start_time": "2021-06-24T18:46:59.195Z"
   },
   {
    "duration": 99,
    "start_time": "2021-06-24T18:46:59.385Z"
   },
   {
    "duration": 17,
    "start_time": "2021-06-24T18:46:59.487Z"
   },
   {
    "duration": 17,
    "start_time": "2021-06-24T18:46:59.507Z"
   },
   {
    "duration": 18,
    "start_time": "2021-06-24T18:46:59.527Z"
   },
   {
    "duration": 46,
    "start_time": "2021-06-24T18:46:59.548Z"
   },
   {
    "duration": 10,
    "start_time": "2021-06-24T18:46:59.596Z"
   },
   {
    "duration": 3,
    "start_time": "2021-06-24T18:46:59.609Z"
   },
   {
    "duration": 70,
    "start_time": "2021-06-24T18:46:59.614Z"
   },
   {
    "duration": 109,
    "start_time": "2021-06-24T18:46:59.688Z"
   },
   {
    "duration": 187,
    "start_time": "2021-06-24T18:46:59.800Z"
   },
   {
    "duration": 95,
    "start_time": "2021-06-24T18:46:59.991Z"
   },
   {
    "duration": 5,
    "start_time": "2021-06-24T18:51:52.441Z"
   },
   {
    "duration": 1339,
    "start_time": "2021-06-24T18:51:52.448Z"
   },
   {
    "duration": 20,
    "start_time": "2021-06-24T18:51:53.790Z"
   },
   {
    "duration": 6,
    "start_time": "2021-06-24T18:51:53.812Z"
   },
   {
    "duration": 109,
    "start_time": "2021-06-24T18:51:53.821Z"
   },
   {
    "duration": 25,
    "start_time": "2021-06-24T18:51:53.932Z"
   },
   {
    "duration": 24,
    "start_time": "2021-06-24T18:51:53.959Z"
   },
   {
    "duration": 30,
    "start_time": "2021-06-24T18:51:53.985Z"
   },
   {
    "duration": 24,
    "start_time": "2021-06-24T18:51:54.019Z"
   },
   {
    "duration": 45,
    "start_time": "2021-06-24T18:51:54.046Z"
   },
   {
    "duration": 24,
    "start_time": "2021-06-24T18:51:54.094Z"
   },
   {
    "duration": 86,
    "start_time": "2021-06-24T18:51:54.120Z"
   },
   {
    "duration": 12,
    "start_time": "2021-06-24T18:51:54.208Z"
   },
   {
    "duration": 11,
    "start_time": "2021-06-24T18:51:54.223Z"
   },
   {
    "duration": 12,
    "start_time": "2021-06-24T18:51:54.237Z"
   },
   {
    "duration": 51,
    "start_time": "2021-06-24T18:51:54.252Z"
   },
   {
    "duration": 8,
    "start_time": "2021-06-24T18:51:54.306Z"
   },
   {
    "duration": 10,
    "start_time": "2021-06-24T18:51:54.316Z"
   },
   {
    "duration": 11,
    "start_time": "2021-06-24T18:51:54.329Z"
   },
   {
    "duration": 14,
    "start_time": "2021-06-24T18:51:54.344Z"
   },
   {
    "duration": 75,
    "start_time": "2021-06-24T18:51:54.384Z"
   },
   {
    "duration": 93,
    "start_time": "2021-06-24T18:51:54.462Z"
   },
   {
    "duration": 83,
    "start_time": "2021-06-24T18:51:54.557Z"
   },
   {
    "duration": 201,
    "start_time": "2021-06-24T18:51:54.642Z"
   },
   {
    "duration": 14,
    "start_time": "2021-06-24T18:51:54.845Z"
   },
   {
    "duration": 5,
    "start_time": "2021-06-24T18:51:54.862Z"
   },
   {
    "duration": 51,
    "start_time": "2021-06-24T18:51:54.886Z"
   },
   {
    "duration": 3,
    "start_time": "2021-06-24T18:51:54.940Z"
   },
   {
    "duration": 61,
    "start_time": "2021-06-24T18:51:54.945Z"
   },
   {
    "duration": 100,
    "start_time": "2021-06-24T18:51:55.087Z"
   },
   {
    "duration": 99,
    "start_time": "2021-06-24T18:51:55.190Z"
   },
   {
    "duration": 194,
    "start_time": "2021-06-24T18:51:55.293Z"
   },
   {
    "duration": 199,
    "start_time": "2021-06-24T18:51:55.491Z"
   },
   {
    "duration": 192,
    "start_time": "2021-06-24T18:51:55.694Z"
   },
   {
    "duration": 99,
    "start_time": "2021-06-24T18:51:55.890Z"
   },
   {
    "duration": 94,
    "start_time": "2021-06-24T18:51:55.993Z"
   },
   {
    "duration": 20,
    "start_time": "2021-06-24T18:51:56.089Z"
   },
   {
    "duration": 17,
    "start_time": "2021-06-24T18:51:56.112Z"
   },
   {
    "duration": 60,
    "start_time": "2021-06-24T18:51:56.132Z"
   },
   {
    "duration": 12,
    "start_time": "2021-06-24T18:51:56.195Z"
   },
   {
    "duration": 4,
    "start_time": "2021-06-24T18:51:56.210Z"
   },
   {
    "duration": 72,
    "start_time": "2021-06-24T18:51:56.217Z"
   },
   {
    "duration": 107,
    "start_time": "2021-06-24T18:51:56.292Z"
   },
   {
    "duration": 109,
    "start_time": "2021-06-24T18:51:56.483Z"
   },
   {
    "duration": 90,
    "start_time": "2021-06-24T18:51:56.596Z"
   },
   {
    "duration": 5,
    "start_time": "2021-06-24T18:53:08.492Z"
   },
   {
    "duration": 988,
    "start_time": "2021-06-24T18:53:08.500Z"
   },
   {
    "duration": 19,
    "start_time": "2021-06-24T18:53:09.491Z"
   },
   {
    "duration": 7,
    "start_time": "2021-06-24T18:53:09.513Z"
   },
   {
    "duration": 110,
    "start_time": "2021-06-24T18:53:09.523Z"
   },
   {
    "duration": 32,
    "start_time": "2021-06-24T18:53:09.636Z"
   },
   {
    "duration": 4,
    "start_time": "2021-06-24T18:53:09.683Z"
   },
   {
    "duration": 28,
    "start_time": "2021-06-24T18:53:09.689Z"
   },
   {
    "duration": 24,
    "start_time": "2021-06-24T18:53:09.721Z"
   },
   {
    "duration": 47,
    "start_time": "2021-06-24T18:53:09.748Z"
   },
   {
    "duration": 23,
    "start_time": "2021-06-24T18:53:09.797Z"
   },
   {
    "duration": 83,
    "start_time": "2021-06-24T18:53:09.822Z"
   },
   {
    "duration": 11,
    "start_time": "2021-06-24T18:53:09.907Z"
   },
   {
    "duration": 17,
    "start_time": "2021-06-24T18:53:09.920Z"
   },
   {
    "duration": 17,
    "start_time": "2021-06-24T18:53:09.940Z"
   },
   {
    "duration": 42,
    "start_time": "2021-06-24T18:53:09.959Z"
   },
   {
    "duration": 9,
    "start_time": "2021-06-24T18:53:10.003Z"
   },
   {
    "duration": 19,
    "start_time": "2021-06-24T18:53:10.015Z"
   },
   {
    "duration": 22,
    "start_time": "2021-06-24T18:53:10.037Z"
   },
   {
    "duration": 27,
    "start_time": "2021-06-24T18:53:10.062Z"
   },
   {
    "duration": 91,
    "start_time": "2021-06-24T18:53:10.092Z"
   },
   {
    "duration": 76,
    "start_time": "2021-06-24T18:53:10.186Z"
   },
   {
    "duration": 88,
    "start_time": "2021-06-24T18:53:10.264Z"
   },
   {
    "duration": 218,
    "start_time": "2021-06-24T18:53:10.355Z"
   },
   {
    "duration": 18,
    "start_time": "2021-06-24T18:53:10.576Z"
   },
   {
    "duration": 12,
    "start_time": "2021-06-24T18:53:10.597Z"
   },
   {
    "duration": 72,
    "start_time": "2021-06-24T18:53:10.616Z"
   },
   {
    "duration": 5,
    "start_time": "2021-06-24T18:53:10.691Z"
   },
   {
    "duration": 40,
    "start_time": "2021-06-24T18:53:10.698Z"
   },
   {
    "duration": 100,
    "start_time": "2021-06-24T18:53:10.784Z"
   },
   {
    "duration": 104,
    "start_time": "2021-06-24T18:53:10.887Z"
   },
   {
    "duration": 195,
    "start_time": "2021-06-24T18:53:10.995Z"
   },
   {
    "duration": 196,
    "start_time": "2021-06-24T18:53:11.194Z"
   },
   {
    "duration": 191,
    "start_time": "2021-06-24T18:53:11.395Z"
   },
   {
    "duration": 93,
    "start_time": "2021-06-24T18:53:11.595Z"
   },
   {
    "duration": 102,
    "start_time": "2021-06-24T18:53:11.692Z"
   },
   {
    "duration": 18,
    "start_time": "2021-06-24T18:53:11.797Z"
   },
   {
    "duration": 17,
    "start_time": "2021-06-24T18:53:11.818Z"
   },
   {
    "duration": 56,
    "start_time": "2021-06-24T18:53:11.837Z"
   },
   {
    "duration": 10,
    "start_time": "2021-06-24T18:53:11.896Z"
   },
   {
    "duration": 4,
    "start_time": "2021-06-24T18:53:11.908Z"
   },
   {
    "duration": 70,
    "start_time": "2021-06-24T18:53:11.914Z"
   },
   {
    "duration": 108,
    "start_time": "2021-06-24T18:53:11.987Z"
   },
   {
    "duration": 192,
    "start_time": "2021-06-24T18:53:12.098Z"
   },
   {
    "duration": 91,
    "start_time": "2021-06-24T18:53:12.294Z"
   },
   {
    "duration": 7,
    "start_time": "2021-06-24T18:53:41.634Z"
   },
   {
    "duration": 8,
    "start_time": "2021-06-24T18:54:24.049Z"
   },
   {
    "duration": 9,
    "start_time": "2021-06-24T18:54:24.346Z"
   },
   {
    "duration": 4,
    "start_time": "2021-06-24T18:54:24.880Z"
   },
   {
    "duration": 18,
    "start_time": "2021-06-24T18:54:25.123Z"
   },
   {
    "duration": 17,
    "start_time": "2021-06-24T18:54:25.361Z"
   },
   {
    "duration": 17,
    "start_time": "2021-06-24T18:54:25.780Z"
   },
   {
    "duration": 7,
    "start_time": "2021-06-24T18:54:26.387Z"
   },
   {
    "duration": 5,
    "start_time": "2021-06-24T18:55:32.181Z"
   },
   {
    "duration": 880,
    "start_time": "2021-06-24T18:55:32.189Z"
   },
   {
    "duration": 25,
    "start_time": "2021-06-24T18:55:33.072Z"
   },
   {
    "duration": 6,
    "start_time": "2021-06-24T18:55:33.100Z"
   },
   {
    "duration": 98,
    "start_time": "2021-06-24T18:55:33.108Z"
   },
   {
    "duration": 25,
    "start_time": "2021-06-24T18:55:33.208Z"
   },
   {
    "duration": 4,
    "start_time": "2021-06-24T18:55:33.235Z"
   },
   {
    "duration": 47,
    "start_time": "2021-06-24T18:55:33.241Z"
   },
   {
    "duration": 22,
    "start_time": "2021-06-24T18:55:33.292Z"
   },
   {
    "duration": 23,
    "start_time": "2021-06-24T18:55:33.317Z"
   },
   {
    "duration": 46,
    "start_time": "2021-06-24T18:55:33.343Z"
   },
   {
    "duration": 60,
    "start_time": "2021-06-24T18:55:33.391Z"
   },
   {
    "duration": 30,
    "start_time": "2021-06-24T18:55:33.453Z"
   },
   {
    "duration": 14,
    "start_time": "2021-06-24T18:55:33.485Z"
   },
   {
    "duration": 12,
    "start_time": "2021-06-24T18:55:33.502Z"
   },
   {
    "duration": 31,
    "start_time": "2021-06-24T18:55:33.517Z"
   },
   {
    "duration": 6,
    "start_time": "2021-06-24T18:55:33.551Z"
   },
   {
    "duration": 7,
    "start_time": "2021-06-24T18:55:33.583Z"
   },
   {
    "duration": 13,
    "start_time": "2021-06-24T18:55:33.592Z"
   },
   {
    "duration": 13,
    "start_time": "2021-06-24T18:55:33.608Z"
   },
   {
    "duration": 93,
    "start_time": "2021-06-24T18:55:33.623Z"
   },
   {
    "duration": 77,
    "start_time": "2021-06-24T18:55:33.718Z"
   },
   {
    "duration": 71,
    "start_time": "2021-06-24T18:55:33.797Z"
   },
   {
    "duration": 246,
    "start_time": "2021-06-24T18:55:33.871Z"
   },
   {
    "duration": 15,
    "start_time": "2021-06-24T18:55:34.119Z"
   },
   {
    "duration": 6,
    "start_time": "2021-06-24T18:55:34.136Z"
   },
   {
    "duration": 84,
    "start_time": "2021-06-24T18:55:34.147Z"
   },
   {
    "duration": 4,
    "start_time": "2021-06-24T18:55:34.234Z"
   },
   {
    "duration": 55,
    "start_time": "2021-06-24T18:55:34.241Z"
   },
   {
    "duration": 184,
    "start_time": "2021-06-24T18:55:34.300Z"
   },
   {
    "duration": 99,
    "start_time": "2021-06-24T18:55:34.487Z"
   },
   {
    "duration": 99,
    "start_time": "2021-06-24T18:55:34.591Z"
   },
   {
    "duration": 194,
    "start_time": "2021-06-24T18:55:34.694Z"
   },
   {
    "duration": 200,
    "start_time": "2021-06-24T18:55:34.892Z"
   },
   {
    "duration": 100,
    "start_time": "2021-06-24T18:55:35.096Z"
   },
   {
    "duration": 100,
    "start_time": "2021-06-24T18:55:35.199Z"
   },
   {
    "duration": 20,
    "start_time": "2021-06-24T18:55:35.302Z"
   },
   {
    "duration": 19,
    "start_time": "2021-06-24T18:55:35.324Z"
   },
   {
    "duration": 45,
    "start_time": "2021-06-24T18:55:35.345Z"
   },
   {
    "duration": 9,
    "start_time": "2021-06-24T18:55:35.392Z"
   },
   {
    "duration": 9,
    "start_time": "2021-06-24T18:55:35.403Z"
   },
   {
    "duration": 70,
    "start_time": "2021-06-24T18:55:35.414Z"
   },
   {
    "duration": 109,
    "start_time": "2021-06-24T18:55:35.490Z"
   },
   {
    "duration": 185,
    "start_time": "2021-06-24T18:55:35.602Z"
   },
   {
    "duration": 95,
    "start_time": "2021-06-24T18:55:35.792Z"
   },
   {
    "duration": 88,
    "start_time": "2021-06-24T19:04:10.294Z"
   },
   {
    "duration": 262,
    "start_time": "2021-06-24T19:04:17.781Z"
   },
   {
    "duration": 43,
    "start_time": "2021-06-24T19:05:02.952Z"
   },
   {
    "duration": 5,
    "start_time": "2021-06-24T19:05:05.888Z"
   },
   {
    "duration": 1340,
    "start_time": "2021-06-24T19:05:05.896Z"
   },
   {
    "duration": 19,
    "start_time": "2021-06-24T19:05:07.239Z"
   },
   {
    "duration": 7,
    "start_time": "2021-06-24T19:05:07.260Z"
   },
   {
    "duration": 114,
    "start_time": "2021-06-24T19:05:07.269Z"
   },
   {
    "duration": 33,
    "start_time": "2021-06-24T19:05:07.385Z"
   },
   {
    "duration": 3,
    "start_time": "2021-06-24T19:05:07.421Z"
   },
   {
    "duration": 23,
    "start_time": "2021-06-24T19:05:07.428Z"
   },
   {
    "duration": 53,
    "start_time": "2021-06-24T19:05:07.454Z"
   },
   {
    "duration": 23,
    "start_time": "2021-06-24T19:05:07.510Z"
   },
   {
    "duration": 55,
    "start_time": "2021-06-24T19:05:07.535Z"
   },
   {
    "duration": 60,
    "start_time": "2021-06-24T19:05:07.592Z"
   },
   {
    "duration": 10,
    "start_time": "2021-06-24T19:05:07.655Z"
   },
   {
    "duration": 12,
    "start_time": "2021-06-24T19:05:07.683Z"
   },
   {
    "duration": 17,
    "start_time": "2021-06-24T19:05:07.698Z"
   },
   {
    "duration": 31,
    "start_time": "2021-06-24T19:05:07.717Z"
   },
   {
    "duration": 33,
    "start_time": "2021-06-24T19:05:07.750Z"
   },
   {
    "duration": 8,
    "start_time": "2021-06-24T19:05:07.786Z"
   },
   {
    "duration": 11,
    "start_time": "2021-06-24T19:05:07.796Z"
   },
   {
    "duration": 16,
    "start_time": "2021-06-24T19:05:07.809Z"
   },
   {
    "duration": 97,
    "start_time": "2021-06-24T19:05:07.827Z"
   },
   {
    "duration": 79,
    "start_time": "2021-06-24T19:05:07.927Z"
   },
   {
    "duration": 79,
    "start_time": "2021-06-24T19:05:08.011Z"
   },
   {
    "duration": 205,
    "start_time": "2021-06-24T19:05:08.093Z"
   },
   {
    "duration": 14,
    "start_time": "2021-06-24T19:05:08.300Z"
   },
   {
    "duration": 6,
    "start_time": "2021-06-24T19:05:08.317Z"
   },
   {
    "duration": 77,
    "start_time": "2021-06-24T19:05:08.325Z"
   },
   {
    "duration": 4,
    "start_time": "2021-06-24T19:05:08.404Z"
   },
   {
    "duration": 81,
    "start_time": "2021-06-24T19:05:08.410Z"
   },
   {
    "duration": 95,
    "start_time": "2021-06-24T19:05:08.494Z"
   },
   {
    "duration": 101,
    "start_time": "2021-06-24T19:05:08.594Z"
   },
   {
    "duration": 107,
    "start_time": "2021-06-24T19:05:08.786Z"
   },
   {
    "duration": 186,
    "start_time": "2021-06-24T19:05:08.897Z"
   },
   {
    "duration": 103,
    "start_time": "2021-06-24T19:05:09.088Z"
   },
   {
    "duration": 184,
    "start_time": "2021-06-24T19:05:09.199Z"
   },
   {
    "duration": 11,
    "start_time": "2021-06-24T19:05:09.386Z"
   },
   {
    "duration": 18,
    "start_time": "2021-06-24T19:05:09.400Z"
   },
   {
    "duration": 18,
    "start_time": "2021-06-24T19:05:09.421Z"
   },
   {
    "duration": 300,
    "start_time": "2021-06-24T19:05:09.441Z"
   },
   {
    "duration": 816,
    "start_time": "2021-06-24T19:05:08.927Z"
   },
   {
    "duration": 815,
    "start_time": "2021-06-24T19:05:08.930Z"
   },
   {
    "duration": 809,
    "start_time": "2021-06-24T19:05:08.937Z"
   },
   {
    "duration": 808,
    "start_time": "2021-06-24T19:05:08.939Z"
   },
   {
    "duration": 807,
    "start_time": "2021-06-24T19:05:08.942Z"
   },
   {
    "duration": 807,
    "start_time": "2021-06-24T19:05:08.943Z"
   },
   {
    "duration": 284,
    "start_time": "2021-06-24T19:06:53.402Z"
   },
   {
    "duration": 3477,
    "start_time": "2021-06-24T19:07:14.108Z"
   },
   {
    "duration": 286,
    "start_time": "2021-06-24T19:08:58.576Z"
   },
   {
    "duration": 282,
    "start_time": "2021-06-24T19:09:04.856Z"
   },
   {
    "duration": 345,
    "start_time": "2021-06-25T07:38:07.813Z"
   },
   {
    "duration": 1478,
    "start_time": "2021-06-25T07:38:11.480Z"
   },
   {
    "duration": 3044,
    "start_time": "2021-06-25T07:38:12.961Z"
   },
   {
    "duration": 25,
    "start_time": "2021-06-25T07:38:16.008Z"
   },
   {
    "duration": 9,
    "start_time": "2021-06-25T07:38:16.035Z"
   },
   {
    "duration": 112,
    "start_time": "2021-06-25T07:38:16.046Z"
   },
   {
    "duration": 26,
    "start_time": "2021-06-25T07:38:16.160Z"
   },
   {
    "duration": 4,
    "start_time": "2021-06-25T07:38:16.188Z"
   },
   {
    "duration": 45,
    "start_time": "2021-06-25T07:38:16.196Z"
   },
   {
    "duration": 22,
    "start_time": "2021-06-25T07:38:16.244Z"
   },
   {
    "duration": 23,
    "start_time": "2021-06-25T07:38:16.268Z"
   },
   {
    "duration": 52,
    "start_time": "2021-06-25T07:38:16.293Z"
   },
   {
    "duration": 80,
    "start_time": "2021-06-25T07:38:16.347Z"
   },
   {
    "duration": 10,
    "start_time": "2021-06-25T07:38:16.430Z"
   },
   {
    "duration": 15,
    "start_time": "2021-06-25T07:38:16.442Z"
   },
   {
    "duration": 13,
    "start_time": "2021-06-25T07:38:16.459Z"
   },
   {
    "duration": 33,
    "start_time": "2021-06-25T07:38:16.474Z"
   },
   {
    "duration": 7,
    "start_time": "2021-06-25T07:38:16.525Z"
   },
   {
    "duration": 10,
    "start_time": "2021-06-25T07:38:16.535Z"
   },
   {
    "duration": 14,
    "start_time": "2021-06-25T07:38:16.548Z"
   },
   {
    "duration": 14,
    "start_time": "2021-06-25T07:38:16.564Z"
   },
   {
    "duration": 111,
    "start_time": "2021-06-25T07:38:16.581Z"
   },
   {
    "duration": 84,
    "start_time": "2021-06-25T07:38:16.694Z"
   },
   {
    "duration": 80,
    "start_time": "2021-06-25T07:38:16.782Z"
   },
   {
    "duration": 222,
    "start_time": "2021-06-25T07:38:16.865Z"
   },
   {
    "duration": 15,
    "start_time": "2021-06-25T07:38:17.089Z"
   },
   {
    "duration": 18,
    "start_time": "2021-06-25T07:38:17.106Z"
   },
   {
    "duration": 75,
    "start_time": "2021-06-25T07:38:17.126Z"
   },
   {
    "duration": 4,
    "start_time": "2021-06-25T07:38:17.203Z"
   },
   {
    "duration": 129,
    "start_time": "2021-06-25T07:38:17.209Z"
   },
   {
    "duration": 12,
    "start_time": "2021-06-25T07:38:17.425Z"
   },
   {
    "duration": 87,
    "start_time": "2021-06-25T07:38:17.440Z"
   },
   {
    "duration": 112,
    "start_time": "2021-06-25T07:38:17.530Z"
   },
   {
    "duration": 107,
    "start_time": "2021-06-25T07:38:17.724Z"
   },
   {
    "duration": 96,
    "start_time": "2021-06-25T07:38:17.834Z"
   },
   {
    "duration": 96,
    "start_time": "2021-06-25T07:38:17.933Z"
   },
   {
    "duration": 105,
    "start_time": "2021-06-25T07:38:18.032Z"
   },
   {
    "duration": 29,
    "start_time": "2021-06-25T07:38:18.139Z"
   },
   {
    "duration": 19,
    "start_time": "2021-06-25T07:38:18.171Z"
   },
   {
    "duration": 44,
    "start_time": "2021-06-25T07:38:18.192Z"
   },
   {
    "duration": 10,
    "start_time": "2021-06-25T07:38:18.239Z"
   },
   {
    "duration": 3,
    "start_time": "2021-06-25T07:38:18.252Z"
   },
   {
    "duration": 72,
    "start_time": "2021-06-25T07:38:18.257Z"
   },
   {
    "duration": 103,
    "start_time": "2021-06-25T07:38:18.333Z"
   },
   {
    "duration": 92,
    "start_time": "2021-06-25T07:38:18.439Z"
   },
   {
    "duration": 95,
    "start_time": "2021-06-25T07:38:18.534Z"
   },
   {
    "duration": 363,
    "start_time": "2021-06-25T07:39:04.321Z"
   },
   {
    "duration": 11,
    "start_time": "2021-06-25T07:39:16.449Z"
   },
   {
    "duration": 12,
    "start_time": "2021-06-25T07:39:22.568Z"
   },
   {
    "duration": 12,
    "start_time": "2021-06-25T07:39:29.018Z"
   },
   {
    "duration": 9,
    "start_time": "2021-06-25T07:39:52.769Z"
   },
   {
    "duration": 10,
    "start_time": "2021-06-25T07:41:41.655Z"
   },
   {
    "duration": 6,
    "start_time": "2021-06-25T07:43:26.966Z"
   },
   {
    "duration": 1160,
    "start_time": "2021-06-25T07:43:26.974Z"
   },
   {
    "duration": 17,
    "start_time": "2021-06-25T07:43:28.138Z"
   },
   {
    "duration": 7,
    "start_time": "2021-06-25T07:43:28.158Z"
   },
   {
    "duration": 110,
    "start_time": "2021-06-25T07:43:28.169Z"
   },
   {
    "duration": 23,
    "start_time": "2021-06-25T07:43:28.281Z"
   },
   {
    "duration": 4,
    "start_time": "2021-06-25T07:43:28.324Z"
   },
   {
    "duration": 35,
    "start_time": "2021-06-25T07:43:28.333Z"
   },
   {
    "duration": 63,
    "start_time": "2021-06-25T07:43:28.373Z"
   },
   {
    "duration": 26,
    "start_time": "2021-06-25T07:43:28.440Z"
   },
   {
    "duration": 34,
    "start_time": "2021-06-25T07:43:28.468Z"
   },
   {
    "duration": 47,
    "start_time": "2021-06-25T07:43:28.525Z"
   },
   {
    "duration": 11,
    "start_time": "2021-06-25T07:43:28.574Z"
   },
   {
    "duration": 39,
    "start_time": "2021-06-25T07:43:28.587Z"
   },
   {
    "duration": 13,
    "start_time": "2021-06-25T07:43:28.629Z"
   },
   {
    "duration": 24,
    "start_time": "2021-06-25T07:43:28.645Z"
   },
   {
    "duration": 10,
    "start_time": "2021-06-25T07:43:28.672Z"
   },
   {
    "duration": 9,
    "start_time": "2021-06-25T07:43:28.685Z"
   },
   {
    "duration": 8,
    "start_time": "2021-06-25T07:43:28.724Z"
   },
   {
    "duration": 12,
    "start_time": "2021-06-25T07:43:28.734Z"
   },
   {
    "duration": 98,
    "start_time": "2021-06-25T07:43:28.748Z"
   },
   {
    "duration": 88,
    "start_time": "2021-06-25T07:43:28.849Z"
   },
   {
    "duration": 83,
    "start_time": "2021-06-25T07:43:28.942Z"
   },
   {
    "duration": 158,
    "start_time": "2021-06-25T07:43:29.028Z"
   },
   {
    "duration": 16,
    "start_time": "2021-06-25T07:43:29.188Z"
   },
   {
    "duration": 18,
    "start_time": "2021-06-25T07:43:29.206Z"
   },
   {
    "duration": 48,
    "start_time": "2021-06-25T07:43:29.227Z"
   },
   {
    "duration": 3,
    "start_time": "2021-06-25T07:43:29.278Z"
   },
   {
    "duration": 58,
    "start_time": "2021-06-25T07:43:29.283Z"
   },
   {
    "duration": 85,
    "start_time": "2021-06-25T07:43:29.343Z"
   },
   {
    "duration": 100,
    "start_time": "2021-06-25T07:43:29.430Z"
   },
   {
    "duration": 195,
    "start_time": "2021-06-25T07:43:29.533Z"
   },
   {
    "duration": 102,
    "start_time": "2021-06-25T07:43:29.825Z"
   },
   {
    "duration": 200,
    "start_time": "2021-06-25T07:43:29.930Z"
   },
   {
    "duration": 92,
    "start_time": "2021-06-25T07:43:30.137Z"
   },
   {
    "duration": 89,
    "start_time": "2021-06-25T07:43:30.237Z"
   },
   {
    "duration": 32,
    "start_time": "2021-06-25T07:43:30.329Z"
   },
   {
    "duration": 19,
    "start_time": "2021-06-25T07:43:30.363Z"
   },
   {
    "duration": 48,
    "start_time": "2021-06-25T07:43:30.386Z"
   },
   {
    "duration": 12,
    "start_time": "2021-06-25T07:43:30.436Z"
   },
   {
    "duration": 7,
    "start_time": "2021-06-25T07:43:30.451Z"
   },
   {
    "duration": 69,
    "start_time": "2021-06-25T07:43:30.467Z"
   },
   {
    "duration": 108,
    "start_time": "2021-06-25T07:43:30.623Z"
   },
   {
    "duration": 24,
    "start_time": "2021-06-25T07:43:30.824Z"
   },
   {
    "duration": 8,
    "start_time": "2021-06-25T07:43:30.925Z"
   },
   {
    "duration": 6,
    "start_time": "2021-06-25T07:44:27.008Z"
   },
   {
    "duration": 998,
    "start_time": "2021-06-25T07:44:27.018Z"
   },
   {
    "duration": 22,
    "start_time": "2021-06-25T07:44:28.019Z"
   },
   {
    "duration": 6,
    "start_time": "2021-06-25T07:44:28.044Z"
   },
   {
    "duration": 113,
    "start_time": "2021-06-25T07:44:28.053Z"
   },
   {
    "duration": 29,
    "start_time": "2021-06-25T07:44:28.168Z"
   },
   {
    "duration": 3,
    "start_time": "2021-06-25T07:44:28.199Z"
   },
   {
    "duration": 25,
    "start_time": "2021-06-25T07:44:28.224Z"
   },
   {
    "duration": 24,
    "start_time": "2021-06-25T07:44:28.252Z"
   },
   {
    "duration": 49,
    "start_time": "2021-06-25T07:44:28.279Z"
   },
   {
    "duration": 23,
    "start_time": "2021-06-25T07:44:28.331Z"
   },
   {
    "duration": 84,
    "start_time": "2021-06-25T07:44:28.357Z"
   },
   {
    "duration": 12,
    "start_time": "2021-06-25T07:44:28.443Z"
   },
   {
    "duration": 16,
    "start_time": "2021-06-25T07:44:28.457Z"
   },
   {
    "duration": 14,
    "start_time": "2021-06-25T07:44:28.476Z"
   },
   {
    "duration": 47,
    "start_time": "2021-06-25T07:44:28.493Z"
   },
   {
    "duration": 8,
    "start_time": "2021-06-25T07:44:28.542Z"
   },
   {
    "duration": 16,
    "start_time": "2021-06-25T07:44:28.552Z"
   },
   {
    "duration": 14,
    "start_time": "2021-06-25T07:44:28.570Z"
   },
   {
    "duration": 28,
    "start_time": "2021-06-25T07:44:28.586Z"
   },
   {
    "duration": 81,
    "start_time": "2021-06-25T07:44:28.616Z"
   },
   {
    "duration": 88,
    "start_time": "2021-06-25T07:44:28.699Z"
   },
   {
    "duration": 83,
    "start_time": "2021-06-25T07:44:28.789Z"
   },
   {
    "duration": 217,
    "start_time": "2021-06-25T07:44:28.875Z"
   },
   {
    "duration": 17,
    "start_time": "2021-06-25T07:44:29.094Z"
   },
   {
    "duration": 3,
    "start_time": "2021-06-25T07:44:29.125Z"
   },
   {
    "duration": 56,
    "start_time": "2021-06-25T07:44:29.133Z"
   },
   {
    "duration": 4,
    "start_time": "2021-06-25T07:44:29.192Z"
   },
   {
    "duration": 129,
    "start_time": "2021-06-25T07:44:29.198Z"
   },
   {
    "duration": 98,
    "start_time": "2021-06-25T07:44:29.330Z"
   },
   {
    "duration": 95,
    "start_time": "2021-06-25T07:44:29.431Z"
   },
   {
    "duration": 97,
    "start_time": "2021-06-25T07:44:29.529Z"
   },
   {
    "duration": 98,
    "start_time": "2021-06-25T07:44:29.628Z"
   },
   {
    "duration": 103,
    "start_time": "2021-06-25T07:44:29.729Z"
   },
   {
    "duration": 98,
    "start_time": "2021-06-25T07:44:29.927Z"
   },
   {
    "duration": 11,
    "start_time": "2021-06-25T07:44:30.029Z"
   },
   {
    "duration": 20,
    "start_time": "2021-06-25T07:44:30.043Z"
   },
   {
    "duration": 59,
    "start_time": "2021-06-25T07:44:30.067Z"
   },
   {
    "duration": 20,
    "start_time": "2021-06-25T07:44:30.129Z"
   },
   {
    "duration": 20,
    "start_time": "2021-06-25T07:44:30.152Z"
   },
   {
    "duration": 11,
    "start_time": "2021-06-25T07:44:30.174Z"
   },
   {
    "duration": 38,
    "start_time": "2021-06-25T07:44:30.188Z"
   },
   {
    "duration": 216,
    "start_time": "2021-06-25T07:44:30.229Z"
   },
   {
    "duration": 181,
    "start_time": "2021-06-25T07:44:30.449Z"
   },
   {
    "duration": 95,
    "start_time": "2021-06-25T07:44:30.633Z"
   },
   {
    "duration": 4,
    "start_time": "2021-06-25T07:51:11.246Z"
   },
   {
    "duration": 3,
    "start_time": "2021-06-25T07:53:18.109Z"
   },
   {
    "duration": 5,
    "start_time": "2021-06-25T07:53:22.469Z"
   },
   {
    "duration": 4,
    "start_time": "2021-06-25T07:53:33.172Z"
   },
   {
    "duration": 4,
    "start_time": "2021-06-25T07:53:33.755Z"
   },
   {
    "duration": 5,
    "start_time": "2021-06-25T07:53:34.756Z"
   },
   {
    "duration": 1668,
    "start_time": "2021-06-26T10:40:00.518Z"
   },
   {
    "duration": 2540,
    "start_time": "2021-06-26T10:40:02.201Z"
   },
   {
    "duration": 17,
    "start_time": "2021-06-26T10:40:04.744Z"
   },
   {
    "duration": 22,
    "start_time": "2021-06-26T10:40:04.765Z"
   },
   {
    "duration": 126,
    "start_time": "2021-06-26T10:40:04.792Z"
   },
   {
    "duration": 32,
    "start_time": "2021-06-26T10:40:04.921Z"
   },
   {
    "duration": 5,
    "start_time": "2021-06-26T10:40:04.955Z"
   },
   {
    "duration": 54,
    "start_time": "2021-06-26T10:40:04.963Z"
   },
   {
    "duration": 22,
    "start_time": "2021-06-26T10:40:05.021Z"
   },
   {
    "duration": 62,
    "start_time": "2021-06-26T10:40:05.046Z"
   },
   {
    "duration": 31,
    "start_time": "2021-06-26T10:40:05.112Z"
   },
   {
    "duration": 95,
    "start_time": "2021-06-26T10:40:05.146Z"
   },
   {
    "duration": 10,
    "start_time": "2021-06-26T10:40:05.244Z"
   },
   {
    "duration": 14,
    "start_time": "2021-06-26T10:40:05.256Z"
   },
   {
    "duration": 26,
    "start_time": "2021-06-26T10:40:05.272Z"
   },
   {
    "duration": 41,
    "start_time": "2021-06-26T10:40:05.302Z"
   },
   {
    "duration": 22,
    "start_time": "2021-06-26T10:40:05.345Z"
   },
   {
    "duration": 23,
    "start_time": "2021-06-26T10:40:05.370Z"
   },
   {
    "duration": 18,
    "start_time": "2021-06-26T10:40:05.397Z"
   },
   {
    "duration": 25,
    "start_time": "2021-06-26T10:40:05.418Z"
   },
   {
    "duration": 101,
    "start_time": "2021-06-26T10:40:05.446Z"
   },
   {
    "duration": 82,
    "start_time": "2021-06-26T10:40:05.549Z"
   },
   {
    "duration": 85,
    "start_time": "2021-06-26T10:40:05.636Z"
   },
   {
    "duration": 242,
    "start_time": "2021-06-26T10:40:05.726Z"
   },
   {
    "duration": 22,
    "start_time": "2021-06-26T10:40:05.971Z"
   },
   {
    "duration": 8,
    "start_time": "2021-06-26T10:40:05.997Z"
   },
   {
    "duration": 102,
    "start_time": "2021-06-26T10:40:06.008Z"
   },
   {
    "duration": 4,
    "start_time": "2021-06-26T10:40:06.113Z"
   },
   {
    "duration": 164,
    "start_time": "2021-06-26T10:40:06.121Z"
   },
   {
    "duration": 97,
    "start_time": "2021-06-26T10:40:06.289Z"
   },
   {
    "duration": 99,
    "start_time": "2021-06-26T10:40:06.389Z"
   },
   {
    "duration": 118,
    "start_time": "2021-06-26T10:40:06.492Z"
   },
   {
    "duration": 120,
    "start_time": "2021-06-26T10:40:06.691Z"
   },
   {
    "duration": 173,
    "start_time": "2021-06-26T10:40:06.815Z"
   },
   {
    "duration": 13,
    "start_time": "2021-06-26T10:40:06.991Z"
   },
   {
    "duration": 85,
    "start_time": "2021-06-26T10:40:07.010Z"
   },
   {
    "duration": 118,
    "start_time": "2021-06-26T10:40:07.098Z"
   },
   {
    "duration": 18,
    "start_time": "2021-06-26T10:40:07.219Z"
   },
   {
    "duration": 25,
    "start_time": "2021-06-26T10:40:07.240Z"
   },
   {
    "duration": 23,
    "start_time": "2021-06-26T10:40:07.267Z"
   },
   {
    "duration": 6,
    "start_time": "2021-06-26T10:40:07.293Z"
   },
   {
    "duration": 85,
    "start_time": "2021-06-26T10:40:07.302Z"
   },
   {
    "duration": 101,
    "start_time": "2021-06-26T10:40:07.391Z"
   },
   {
    "duration": 101,
    "start_time": "2021-06-26T10:40:07.496Z"
   },
   {
    "duration": 181,
    "start_time": "2021-06-26T10:40:07.604Z"
   },
   {
    "duration": 12,
    "start_time": "2021-06-26T10:40:07.790Z"
   },
   {
    "duration": 5,
    "start_time": "2021-06-26T10:40:07.807Z"
   },
   {
    "duration": 9,
    "start_time": "2021-06-26T10:40:07.815Z"
   },
   {
    "duration": 7,
    "start_time": "2021-06-26T10:40:07.827Z"
   },
   {
    "duration": 11,
    "start_time": "2021-06-26T10:40:07.837Z"
   },
   {
    "duration": -418,
    "start_time": "2021-06-26T10:41:25.733Z"
   },
   {
    "duration": 7,
    "start_time": "2021-06-26T10:41:33.146Z"
   },
   {
    "duration": 7818,
    "start_time": "2021-06-26T10:41:33.798Z"
   },
   {
    "duration": -450,
    "start_time": "2021-06-26T10:41:42.069Z"
   },
   {
    "duration": 8,
    "start_time": "2021-06-26T10:41:43.717Z"
   },
   {
    "duration": 7,
    "start_time": "2021-06-26T10:41:47.560Z"
   },
   {
    "duration": 112,
    "start_time": "2021-06-26T10:58:41.398Z"
   },
   {
    "duration": 5,
    "start_time": "2021-06-26T10:58:53.476Z"
   },
   {
    "duration": 5,
    "start_time": "2021-06-26T11:04:28.847Z"
   },
   {
    "duration": 6,
    "start_time": "2021-06-26T11:04:35.499Z"
   },
   {
    "duration": 379,
    "start_time": "2021-06-26T11:07:49.567Z"
   },
   {
    "duration": 65,
    "start_time": "2021-06-26T11:08:53.911Z"
   },
   {
    "duration": 15,
    "start_time": "2021-06-26T11:09:52.455Z"
   },
   {
    "duration": 51,
    "start_time": "2021-06-26T11:10:56.499Z"
   },
   {
    "duration": 14,
    "start_time": "2021-06-26T11:11:03.245Z"
   },
   {
    "duration": 300,
    "start_time": "2021-06-26T11:11:26.559Z"
   },
   {
    "duration": 62,
    "start_time": "2021-06-26T11:11:33.147Z"
   },
   {
    "duration": 7,
    "start_time": "2021-06-26T11:11:36.208Z"
   },
   {
    "duration": 405,
    "start_time": "2021-06-26T11:12:32.322Z"
   },
   {
    "duration": 8,
    "start_time": "2021-06-26T11:12:56.774Z"
   },
   {
    "duration": 10,
    "start_time": "2021-06-26T11:12:59.023Z"
   },
   {
    "duration": 17,
    "start_time": "2021-06-26T11:16:07.417Z"
   },
   {
    "duration": 2159,
    "start_time": "2021-06-26T11:16:14.999Z"
   },
   {
    "duration": 311,
    "start_time": "2021-06-26T11:16:30.200Z"
   },
   {
    "duration": 17,
    "start_time": "2021-06-26T11:17:12.658Z"
   },
   {
    "duration": 1011,
    "start_time": "2021-06-26T11:18:06.172Z"
   },
   {
    "duration": 7,
    "start_time": "2021-06-26T11:18:33.306Z"
   },
   {
    "duration": 7,
    "start_time": "2021-06-26T11:18:33.877Z"
   },
   {
    "duration": 598,
    "start_time": "2021-06-26T11:18:45.756Z"
   },
   {
    "duration": 8,
    "start_time": "2021-06-26T11:19:58.977Z"
   },
   {
    "duration": 5,
    "start_time": "2021-06-26T11:20:32.027Z"
   },
   {
    "duration": 10,
    "start_time": "2021-06-26T11:20:35.487Z"
   },
   {
    "duration": 10,
    "start_time": "2021-06-26T11:20:59.391Z"
   },
   {
    "duration": 9,
    "start_time": "2021-06-26T11:21:05.112Z"
   },
   {
    "duration": 5,
    "start_time": "2021-06-26T11:21:12.223Z"
   },
   {
    "duration": 5,
    "start_time": "2021-06-26T11:21:16.740Z"
   },
   {
    "duration": 1410,
    "start_time": "2021-06-26T11:21:16.748Z"
   },
   {
    "duration": 24,
    "start_time": "2021-06-26T11:21:18.161Z"
   },
   {
    "duration": 6,
    "start_time": "2021-06-26T11:21:18.191Z"
   },
   {
    "duration": 105,
    "start_time": "2021-06-26T11:21:18.199Z"
   },
   {
    "duration": 28,
    "start_time": "2021-06-26T11:21:18.307Z"
   },
   {
    "duration": 4,
    "start_time": "2021-06-26T11:21:18.337Z"
   },
   {
    "duration": 54,
    "start_time": "2021-06-26T11:21:18.345Z"
   },
   {
    "duration": 22,
    "start_time": "2021-06-26T11:21:18.403Z"
   },
   {
    "duration": 23,
    "start_time": "2021-06-26T11:21:18.427Z"
   },
   {
    "duration": 57,
    "start_time": "2021-06-26T11:21:18.452Z"
   },
   {
    "duration": 61,
    "start_time": "2021-06-26T11:21:18.511Z"
   },
   {
    "duration": 16,
    "start_time": "2021-06-26T11:21:18.575Z"
   },
   {
    "duration": 18,
    "start_time": "2021-06-26T11:21:18.594Z"
   },
   {
    "duration": 14,
    "start_time": "2021-06-26T11:21:18.615Z"
   },
   {
    "duration": 28,
    "start_time": "2021-06-26T11:21:18.632Z"
   },
   {
    "duration": 32,
    "start_time": "2021-06-26T11:21:18.662Z"
   },
   {
    "duration": 11,
    "start_time": "2021-06-26T11:21:18.696Z"
   },
   {
    "duration": 11,
    "start_time": "2021-06-26T11:21:18.710Z"
   },
   {
    "duration": 15,
    "start_time": "2021-06-26T11:21:18.723Z"
   },
   {
    "duration": 97,
    "start_time": "2021-06-26T11:21:18.741Z"
   },
   {
    "duration": 111,
    "start_time": "2021-06-26T11:21:18.840Z"
   },
   {
    "duration": 121,
    "start_time": "2021-06-26T11:21:18.960Z"
   },
   {
    "duration": 219,
    "start_time": "2021-06-26T11:21:19.088Z"
   },
   {
    "duration": 20,
    "start_time": "2021-06-26T11:21:19.310Z"
   },
   {
    "duration": 4,
    "start_time": "2021-06-26T11:21:19.333Z"
   },
   {
    "duration": 88,
    "start_time": "2021-06-26T11:21:19.340Z"
   },
   {
    "duration": 4,
    "start_time": "2021-06-26T11:21:19.430Z"
   },
   {
    "duration": 155,
    "start_time": "2021-06-26T11:21:19.436Z"
   },
   {
    "duration": 86,
    "start_time": "2021-06-26T11:21:19.600Z"
   },
   {
    "duration": 103,
    "start_time": "2021-06-26T11:21:19.688Z"
   },
   {
    "duration": 109,
    "start_time": "2021-06-26T11:21:19.795Z"
   },
   {
    "duration": 97,
    "start_time": "2021-06-26T11:21:19.909Z"
   },
   {
    "duration": 104,
    "start_time": "2021-06-26T11:21:20.086Z"
   },
   {
    "duration": 92,
    "start_time": "2021-06-26T11:21:20.193Z"
   },
   {
    "duration": 16,
    "start_time": "2021-06-26T11:21:20.289Z"
   },
   {
    "duration": 21,
    "start_time": "2021-06-26T11:21:20.387Z"
   },
   {
    "duration": 20,
    "start_time": "2021-06-26T11:21:20.411Z"
   },
   {
    "duration": 3,
    "start_time": "2021-06-26T11:21:20.433Z"
   },
   {
    "duration": 64,
    "start_time": "2021-06-26T11:21:20.439Z"
   },
   {
    "duration": 4,
    "start_time": "2021-06-26T11:21:20.506Z"
   },
   {
    "duration": 85,
    "start_time": "2021-06-26T11:21:20.512Z"
   },
   {
    "duration": 101,
    "start_time": "2021-06-26T11:21:20.603Z"
   },
   {
    "duration": 185,
    "start_time": "2021-06-26T11:21:20.707Z"
   },
   {
    "duration": 96,
    "start_time": "2021-06-26T11:21:20.895Z"
   },
   {
    "duration": 5,
    "start_time": "2021-06-26T11:21:20.994Z"
   },
   {
    "duration": 11,
    "start_time": "2021-06-26T11:21:21.002Z"
   },
   {
    "duration": 8,
    "start_time": "2021-06-26T11:21:21.015Z"
   },
   {
    "duration": 6,
    "start_time": "2021-06-26T11:21:21.026Z"
   },
   {
    "duration": 9,
    "start_time": "2021-06-26T11:21:21.034Z"
   },
   {
    "duration": 17,
    "start_time": "2021-06-26T11:21:21.046Z"
   },
   {
    "duration": 20,
    "start_time": "2021-06-26T11:21:21.086Z"
   },
   {
    "duration": 8,
    "start_time": "2021-06-26T11:21:21.109Z"
   },
   {
    "duration": 9,
    "start_time": "2021-06-26T11:21:21.120Z"
   },
   {
    "duration": 10,
    "start_time": "2021-06-26T11:21:21.132Z"
   },
   {
    "duration": 58,
    "start_time": "2021-06-26T11:21:21.144Z"
   },
   {
    "duration": 21,
    "start_time": "2021-06-26T11:21:21.205Z"
   },
   {
    "duration": 7,
    "start_time": "2021-06-26T11:21:21.229Z"
   },
   {
    "duration": 13,
    "start_time": "2021-06-26T11:21:21.238Z"
   },
   {
    "duration": 37,
    "start_time": "2021-06-26T11:21:21.254Z"
   },
   {
    "duration": 10,
    "start_time": "2021-06-26T11:21:21.293Z"
   },
   {
    "duration": 10,
    "start_time": "2021-06-26T11:21:21.306Z"
   },
   {
    "duration": 13,
    "start_time": "2021-06-26T11:21:21.318Z"
   },
   {
    "duration": 9,
    "start_time": "2021-06-26T11:21:21.334Z"
   },
   {
    "duration": 8,
    "start_time": "2021-06-26T11:22:13.031Z"
   },
   {
    "duration": 5,
    "start_time": "2021-06-26T11:23:04.475Z"
   },
   {
    "duration": 9,
    "start_time": "2021-06-26T11:23:05.583Z"
   },
   {
    "duration": 10,
    "start_time": "2021-06-26T11:23:06.136Z"
   },
   {
    "duration": 6,
    "start_time": "2021-06-26T11:23:06.589Z"
   },
   {
    "duration": 5,
    "start_time": "2021-06-26T11:23:09.549Z"
   },
   {
    "duration": 7,
    "start_time": "2021-06-26T11:23:09.919Z"
   },
   {
    "duration": 13,
    "start_time": "2021-06-26T11:23:10.413Z"
   },
   {
    "duration": 5,
    "start_time": "2021-06-26T11:23:10.831Z"
   },
   {
    "duration": 6,
    "start_time": "2021-06-26T11:23:20.160Z"
   },
   {
    "duration": 10,
    "start_time": "2021-06-26T11:23:20.585Z"
   },
   {
    "duration": 12,
    "start_time": "2021-06-26T11:23:22.107Z"
   },
   {
    "duration": 7,
    "start_time": "2021-06-26T11:23:22.598Z"
   },
   {
    "duration": 5,
    "start_time": "2021-06-26T11:23:33.365Z"
   },
   {
    "duration": 10,
    "start_time": "2021-06-26T11:23:33.695Z"
   },
   {
    "duration": 10,
    "start_time": "2021-06-26T11:23:34.082Z"
   },
   {
    "duration": 5,
    "start_time": "2021-06-26T11:23:34.574Z"
   },
   {
    "duration": 18,
    "start_time": "2021-06-26T11:24:25.196Z"
   },
   {
    "duration": 13,
    "start_time": "2021-06-26T11:24:27.209Z"
   },
   {
    "duration": 12,
    "start_time": "2021-06-26T11:24:30.305Z"
   },
   {
    "duration": 13,
    "start_time": "2021-06-26T11:24:32.774Z"
   },
   {
    "duration": 15,
    "start_time": "2021-06-26T11:24:33.691Z"
   },
   {
    "duration": 12,
    "start_time": "2021-06-26T11:24:34.463Z"
   },
   {
    "duration": 13,
    "start_time": "2021-06-26T11:24:35.242Z"
   },
   {
    "duration": 13,
    "start_time": "2021-06-26T11:24:35.934Z"
   },
   {
    "duration": 13,
    "start_time": "2021-06-26T11:24:36.703Z"
   },
   {
    "duration": 13,
    "start_time": "2021-06-26T11:24:37.367Z"
   },
   {
    "duration": 16,
    "start_time": "2021-06-26T11:24:38.086Z"
   },
   {
    "duration": 12,
    "start_time": "2021-06-26T11:24:38.653Z"
   },
   {
    "duration": 14,
    "start_time": "2021-06-26T11:24:39.187Z"
   },
   {
    "duration": 6,
    "start_time": "2021-06-26T11:26:42.319Z"
   },
   {
    "duration": 13,
    "start_time": "2021-06-26T11:26:50.871Z"
   },
   {
    "duration": 14,
    "start_time": "2021-06-26T11:26:55.455Z"
   },
   {
    "duration": 6,
    "start_time": "2021-06-26T11:27:35.055Z"
   },
   {
    "duration": 8,
    "start_time": "2021-06-26T11:27:37.594Z"
   },
   {
    "duration": 15,
    "start_time": "2021-06-26T11:27:42.922Z"
   },
   {
    "duration": 6,
    "start_time": "2021-06-26T11:29:52.852Z"
   },
   {
    "duration": 16,
    "start_time": "2021-06-26T11:30:00.416Z"
   },
   {
    "duration": 453,
    "start_time": "2021-06-26T11:31:21.278Z"
   },
   {
    "duration": 3937,
    "start_time": "2021-06-26T11:31:29.074Z"
   },
   {
    "duration": 8,
    "start_time": "2021-06-26T11:31:44.785Z"
   },
   {
    "duration": 8,
    "start_time": "2021-06-26T11:32:15.402Z"
   },
   {
    "duration": 22,
    "start_time": "2021-06-26T11:32:19.576Z"
   },
   {
    "duration": 17,
    "start_time": "2021-06-26T11:32:24.721Z"
   },
   {
    "duration": 17,
    "start_time": "2021-06-26T11:32:26.213Z"
   },
   {
    "duration": 17,
    "start_time": "2021-06-26T11:32:27.198Z"
   },
   {
    "duration": 19,
    "start_time": "2021-06-26T11:32:28.670Z"
   },
   {
    "duration": 22,
    "start_time": "2021-06-26T11:32:29.575Z"
   },
   {
    "duration": 16,
    "start_time": "2021-06-26T11:32:30.345Z"
   },
   {
    "duration": 18,
    "start_time": "2021-06-26T11:32:59.434Z"
   },
   {
    "duration": 23,
    "start_time": "2021-06-26T11:33:05.486Z"
   },
   {
    "duration": 16,
    "start_time": "2021-06-26T11:33:08.862Z"
   },
   {
    "duration": 7,
    "start_time": "2021-06-26T11:33:44.436Z"
   },
   {
    "duration": 17,
    "start_time": "2021-06-26T11:33:49.453Z"
   },
   {
    "duration": 16,
    "start_time": "2021-06-26T11:33:54.113Z"
   },
   {
    "duration": 17,
    "start_time": "2021-06-26T11:33:57.189Z"
   },
   {
    "duration": 7,
    "start_time": "2021-06-26T11:34:20.433Z"
   },
   {
    "duration": 5103,
    "start_time": "2021-06-26T11:34:26.075Z"
   },
   {
    "duration": 8,
    "start_time": "2021-06-26T11:36:04.151Z"
   },
   {
    "duration": 18,
    "start_time": "2021-06-26T11:36:08.559Z"
   },
   {
    "duration": 8,
    "start_time": "2021-06-26T11:36:31.959Z"
   },
   {
    "duration": 19,
    "start_time": "2021-06-26T11:36:35.656Z"
   },
   {
    "duration": 17,
    "start_time": "2021-06-26T11:36:41.004Z"
   },
   {
    "duration": 16,
    "start_time": "2021-06-26T11:36:48.939Z"
   },
   {
    "duration": 18,
    "start_time": "2021-06-26T11:36:51.568Z"
   },
   {
    "duration": 17,
    "start_time": "2021-06-26T11:36:52.869Z"
   },
   {
    "duration": 17,
    "start_time": "2021-06-26T11:38:12.210Z"
   },
   {
    "duration": 17,
    "start_time": "2021-06-26T11:38:14.709Z"
   },
   {
    "duration": 18,
    "start_time": "2021-06-26T11:38:21.161Z"
   },
   {
    "duration": 17,
    "start_time": "2021-06-26T11:38:23.601Z"
   },
   {
    "duration": 17,
    "start_time": "2021-06-26T11:38:24.928Z"
   },
   {
    "duration": 18,
    "start_time": "2021-06-26T11:38:26.444Z"
   },
   {
    "duration": 17,
    "start_time": "2021-06-26T11:38:27.628Z"
   },
   {
    "duration": 22,
    "start_time": "2021-06-26T11:38:28.678Z"
   },
   {
    "duration": 16,
    "start_time": "2021-06-26T11:41:03.615Z"
   },
   {
    "duration": 8,
    "start_time": "2021-06-26T11:41:11.142Z"
   },
   {
    "duration": 19,
    "start_time": "2021-06-26T11:41:11.152Z"
   },
   {
    "duration": 15,
    "start_time": "2021-06-26T11:41:26.658Z"
   },
   {
    "duration": 8,
    "start_time": "2021-06-26T11:41:36.664Z"
   },
   {
    "duration": 18,
    "start_time": "2021-06-26T11:41:37.554Z"
   },
   {
    "duration": 6,
    "start_time": "2021-06-26T11:41:50.133Z"
   },
   {
    "duration": 13,
    "start_time": "2021-06-26T11:41:50.524Z"
   },
   {
    "duration": 10,
    "start_time": "2021-06-26T11:42:07.020Z"
   },
   {
    "duration": 19,
    "start_time": "2021-06-26T11:42:07.410Z"
   },
   {
    "duration": 7,
    "start_time": "2021-06-26T11:42:24.057Z"
   },
   {
    "duration": 586,
    "start_time": "2021-06-26T11:42:24.432Z"
   },
   {
    "duration": 8,
    "start_time": "2021-06-26T11:42:28.897Z"
   },
   {
    "duration": 15,
    "start_time": "2021-06-26T11:42:29.242Z"
   },
   {
    "duration": 7,
    "start_time": "2021-06-26T11:42:37.259Z"
   },
   {
    "duration": 12,
    "start_time": "2021-06-26T11:42:37.749Z"
   },
   {
    "duration": 6,
    "start_time": "2021-06-26T11:43:20.338Z"
   },
   {
    "duration": 14,
    "start_time": "2021-06-26T11:43:20.704Z"
   },
   {
    "duration": 457,
    "start_time": "2021-06-26T11:51:03.773Z"
   },
   {
    "duration": 4448,
    "start_time": "2021-06-26T11:51:10.956Z"
   },
   {
    "duration": 4052,
    "start_time": "2021-06-26T11:51:53.958Z"
   },
   {
    "duration": 4085,
    "start_time": "2021-06-26T11:54:01.771Z"
   },
   {
    "duration": 4263,
    "start_time": "2021-06-26T11:54:06.841Z"
   },
   {
    "duration": 4216,
    "start_time": "2021-06-26T11:54:11.106Z"
   },
   {
    "duration": 3910,
    "start_time": "2021-06-26T11:57:32.264Z"
   },
   {
    "duration": 3847,
    "start_time": "2021-06-26T11:57:48.361Z"
   },
   {
    "duration": 4,
    "start_time": "2021-06-26T11:58:43.823Z"
   },
   {
    "duration": 4380,
    "start_time": "2021-06-26T11:59:04.742Z"
   },
   {
    "duration": 3858,
    "start_time": "2021-06-26T11:59:46.314Z"
   },
   {
    "duration": 4142,
    "start_time": "2021-06-26T12:00:09.831Z"
   },
   {
    "duration": 4474,
    "start_time": "2021-06-26T12:00:17.218Z"
   },
   {
    "duration": 3989,
    "start_time": "2021-06-26T12:00:25.085Z"
   },
   {
    "duration": 4015,
    "start_time": "2021-06-26T12:00:32.195Z"
   },
   {
    "duration": 4063,
    "start_time": "2021-06-26T12:00:45.795Z"
   },
   {
    "duration": 5,
    "start_time": "2021-06-26T12:05:29.371Z"
   },
   {
    "duration": 1501,
    "start_time": "2021-06-26T12:05:29.379Z"
   },
   {
    "duration": 20,
    "start_time": "2021-06-26T12:05:30.884Z"
   },
   {
    "duration": 19,
    "start_time": "2021-06-26T12:05:30.908Z"
   },
   {
    "duration": 147,
    "start_time": "2021-06-26T12:05:30.930Z"
   },
   {
    "duration": 33,
    "start_time": "2021-06-26T12:05:31.079Z"
   },
   {
    "duration": 4,
    "start_time": "2021-06-26T12:05:31.115Z"
   },
   {
    "duration": 42,
    "start_time": "2021-06-26T12:05:31.121Z"
   },
   {
    "duration": 44,
    "start_time": "2021-06-26T12:05:31.167Z"
   },
   {
    "duration": 22,
    "start_time": "2021-06-26T12:05:31.214Z"
   },
   {
    "duration": 23,
    "start_time": "2021-06-26T12:05:31.238Z"
   },
   {
    "duration": 68,
    "start_time": "2021-06-26T12:05:31.289Z"
   },
   {
    "duration": 11,
    "start_time": "2021-06-26T12:05:31.360Z"
   },
   {
    "duration": 31,
    "start_time": "2021-06-26T12:05:31.374Z"
   },
   {
    "duration": 22,
    "start_time": "2021-06-26T12:05:31.407Z"
   },
   {
    "duration": 45,
    "start_time": "2021-06-26T12:05:31.431Z"
   },
   {
    "duration": 16,
    "start_time": "2021-06-26T12:05:31.478Z"
   },
   {
    "duration": 26,
    "start_time": "2021-06-26T12:05:31.497Z"
   },
   {
    "duration": 21,
    "start_time": "2021-06-26T12:05:31.525Z"
   },
   {
    "duration": 28,
    "start_time": "2021-06-26T12:05:31.548Z"
   },
   {
    "duration": 100,
    "start_time": "2021-06-26T12:05:31.578Z"
   },
   {
    "duration": 78,
    "start_time": "2021-06-26T12:05:31.681Z"
   },
   {
    "duration": 89,
    "start_time": "2021-06-26T12:05:31.762Z"
   },
   {
    "duration": 242,
    "start_time": "2021-06-26T12:05:31.854Z"
   },
   {
    "duration": 17,
    "start_time": "2021-06-26T12:05:32.099Z"
   },
   {
    "duration": 9,
    "start_time": "2021-06-26T12:05:32.119Z"
   },
   {
    "duration": 76,
    "start_time": "2021-06-26T12:05:32.135Z"
   },
   {
    "duration": 5,
    "start_time": "2021-06-26T12:05:32.215Z"
   },
   {
    "duration": 72,
    "start_time": "2021-06-26T12:05:32.223Z"
   },
   {
    "duration": 103,
    "start_time": "2021-06-26T12:05:32.299Z"
   },
   {
    "duration": 11,
    "start_time": "2021-06-26T12:05:32.487Z"
   },
   {
    "duration": 191,
    "start_time": "2021-06-26T12:05:32.501Z"
   },
   {
    "duration": 104,
    "start_time": "2021-06-26T12:05:32.695Z"
   },
   {
    "duration": 196,
    "start_time": "2021-06-26T12:05:32.805Z"
   },
   {
    "duration": 17,
    "start_time": "2021-06-26T12:05:33.086Z"
   },
   {
    "duration": 17,
    "start_time": "2021-06-26T12:05:33.191Z"
   },
   {
    "duration": 18,
    "start_time": "2021-06-26T12:05:33.211Z"
   },
   {
    "duration": 18,
    "start_time": "2021-06-26T12:05:33.231Z"
   },
   {
    "duration": 3,
    "start_time": "2021-06-26T12:05:33.251Z"
   },
   {
    "duration": 22,
    "start_time": "2021-06-26T12:05:33.286Z"
   },
   {
    "duration": 4,
    "start_time": "2021-06-26T12:05:33.311Z"
   },
   {
    "duration": 68,
    "start_time": "2021-06-26T12:05:33.318Z"
   },
   {
    "duration": 106,
    "start_time": "2021-06-26T12:05:33.397Z"
   },
   {
    "duration": 182,
    "start_time": "2021-06-26T12:05:33.506Z"
   },
   {
    "duration": 91,
    "start_time": "2021-06-26T12:05:33.696Z"
   },
   {
    "duration": 10,
    "start_time": "2021-06-26T12:05:33.790Z"
   },
   {
    "duration": 86,
    "start_time": "2021-06-26T12:05:33.803Z"
   },
   {
    "duration": 5,
    "start_time": "2021-06-26T12:05:33.902Z"
   },
   {
    "duration": 5,
    "start_time": "2021-06-26T12:05:33.910Z"
   },
   {
    "duration": 8,
    "start_time": "2021-06-26T12:05:33.917Z"
   },
   {
    "duration": 9,
    "start_time": "2021-06-26T12:05:33.928Z"
   },
   {
    "duration": 51,
    "start_time": "2021-06-26T12:05:33.940Z"
   },
   {
    "duration": 12,
    "start_time": "2021-06-26T12:05:33.993Z"
   },
   {
    "duration": 7,
    "start_time": "2021-06-26T12:05:34.007Z"
   },
   {
    "duration": 20,
    "start_time": "2021-06-26T12:05:34.016Z"
   },
   {
    "duration": 4,
    "start_time": "2021-06-26T12:05:34.038Z"
   },
   {
    "duration": 3956,
    "start_time": "2021-06-26T12:05:34.044Z"
   },
   {
    "duration": 3922,
    "start_time": "2021-06-26T12:05:38.003Z"
   },
   {
    "duration": 3922,
    "start_time": "2021-06-26T12:05:41.927Z"
   },
   {
    "duration": 4107,
    "start_time": "2021-06-26T12:06:06.053Z"
   },
   {
    "duration": 3966,
    "start_time": "2021-06-26T12:06:24.136Z"
   },
   {
    "duration": 304,
    "start_time": "2021-06-26T12:10:18.683Z"
   },
   {
    "duration": 97,
    "start_time": "2021-06-26T12:11:48.302Z"
   },
   {
    "duration": 14,
    "start_time": "2021-06-26T12:11:54.239Z"
   },
   {
    "duration": 13,
    "start_time": "2021-06-26T12:11:56.421Z"
   },
   {
    "duration": 13,
    "start_time": "2021-06-26T12:11:58.459Z"
   },
   {
    "duration": 6,
    "start_time": "2021-06-26T12:12:06.756Z"
   },
   {
    "duration": 1666,
    "start_time": "2021-06-26T12:12:06.765Z"
   },
   {
    "duration": 17,
    "start_time": "2021-06-26T12:12:08.434Z"
   },
   {
    "duration": 5,
    "start_time": "2021-06-26T12:12:08.454Z"
   },
   {
    "duration": 92,
    "start_time": "2021-06-26T12:12:08.486Z"
   },
   {
    "duration": 32,
    "start_time": "2021-06-26T12:12:08.585Z"
   },
   {
    "duration": 4,
    "start_time": "2021-06-26T12:12:08.619Z"
   },
   {
    "duration": 26,
    "start_time": "2021-06-26T12:12:08.627Z"
   },
   {
    "duration": 25,
    "start_time": "2021-06-26T12:12:08.686Z"
   },
   {
    "duration": 25,
    "start_time": "2021-06-26T12:12:08.713Z"
   },
   {
    "duration": 56,
    "start_time": "2021-06-26T12:12:08.741Z"
   },
   {
    "duration": 62,
    "start_time": "2021-06-26T12:12:08.800Z"
   },
   {
    "duration": 30,
    "start_time": "2021-06-26T12:12:08.864Z"
   },
   {
    "duration": 18,
    "start_time": "2021-06-26T12:12:08.897Z"
   },
   {
    "duration": 20,
    "start_time": "2021-06-26T12:12:08.917Z"
   },
   {
    "duration": 36,
    "start_time": "2021-06-26T12:12:08.940Z"
   },
   {
    "duration": 12,
    "start_time": "2021-06-26T12:12:08.978Z"
   },
   {
    "duration": 12,
    "start_time": "2021-06-26T12:12:08.992Z"
   },
   {
    "duration": 11,
    "start_time": "2021-06-26T12:12:09.008Z"
   },
   {
    "duration": 19,
    "start_time": "2021-06-26T12:12:09.023Z"
   },
   {
    "duration": 106,
    "start_time": "2021-06-26T12:12:09.045Z"
   },
   {
    "duration": 88,
    "start_time": "2021-06-26T12:12:09.153Z"
   },
   {
    "duration": 98,
    "start_time": "2021-06-26T12:12:09.247Z"
   },
   {
    "duration": 232,
    "start_time": "2021-06-26T12:12:09.349Z"
   },
   {
    "duration": 19,
    "start_time": "2021-06-26T12:12:09.585Z"
   },
   {
    "duration": 19,
    "start_time": "2021-06-26T12:12:09.606Z"
   },
   {
    "duration": 85,
    "start_time": "2021-06-26T12:12:09.627Z"
   },
   {
    "duration": 3,
    "start_time": "2021-06-26T12:12:09.714Z"
   },
   {
    "duration": 83,
    "start_time": "2021-06-26T12:12:09.720Z"
   },
   {
    "duration": 91,
    "start_time": "2021-06-26T12:12:09.806Z"
   },
   {
    "duration": 104,
    "start_time": "2021-06-26T12:12:09.905Z"
   },
   {
    "duration": 106,
    "start_time": "2021-06-26T12:12:10.094Z"
   },
   {
    "duration": 101,
    "start_time": "2021-06-26T12:12:10.204Z"
   },
   {
    "duration": 97,
    "start_time": "2021-06-26T12:12:10.309Z"
   },
   {
    "duration": 15,
    "start_time": "2021-06-26T12:12:10.486Z"
   },
   {
    "duration": 94,
    "start_time": "2021-06-26T12:12:10.507Z"
   },
   {
    "duration": 28,
    "start_time": "2021-06-26T12:12:10.603Z"
   },
   {
    "duration": 19,
    "start_time": "2021-06-26T12:12:10.634Z"
   },
   {
    "duration": 3,
    "start_time": "2021-06-26T12:12:10.655Z"
   },
   {
    "duration": 46,
    "start_time": "2021-06-26T12:12:10.660Z"
   },
   {
    "duration": 4,
    "start_time": "2021-06-26T12:12:10.708Z"
   },
   {
    "duration": 90,
    "start_time": "2021-06-26T12:12:10.714Z"
   },
   {
    "duration": 94,
    "start_time": "2021-06-26T12:12:10.809Z"
   },
   {
    "duration": 97,
    "start_time": "2021-06-26T12:12:10.906Z"
   },
   {
    "duration": 86,
    "start_time": "2021-06-26T12:12:11.008Z"
   },
   {
    "duration": 100,
    "start_time": "2021-06-26T12:12:11.097Z"
   },
   {
    "duration": 6,
    "start_time": "2021-06-26T12:12:11.200Z"
   },
   {
    "duration": 14,
    "start_time": "2021-06-26T12:12:11.208Z"
   },
   {
    "duration": 23,
    "start_time": "2021-06-26T12:12:11.225Z"
   },
   {
    "duration": 13,
    "start_time": "2021-06-26T12:12:11.251Z"
   },
   {
    "duration": 10,
    "start_time": "2021-06-26T12:12:11.267Z"
   },
   {
    "duration": 21,
    "start_time": "2021-06-26T12:12:11.279Z"
   },
   {
    "duration": 18,
    "start_time": "2021-06-26T12:12:11.303Z"
   },
   {
    "duration": 16,
    "start_time": "2021-06-26T12:12:11.324Z"
   },
   {
    "duration": 28,
    "start_time": "2021-06-26T12:12:11.342Z"
   },
   {
    "duration": 4250,
    "start_time": "2021-06-26T12:12:11.373Z"
   },
   {
    "duration": 4013,
    "start_time": "2021-06-26T12:12:15.626Z"
   },
   {
    "duration": 3874,
    "start_time": "2021-06-26T12:12:19.642Z"
   },
   {
    "duration": 13,
    "start_time": "2021-06-26T12:12:23.522Z"
   },
   {
    "duration": 14,
    "start_time": "2021-06-26T12:12:24.956Z"
   },
   {
    "duration": 14,
    "start_time": "2021-06-26T12:12:27.980Z"
   },
   {
    "duration": 5,
    "start_time": "2021-06-26T12:14:11.198Z"
   },
   {
    "duration": 1505,
    "start_time": "2021-06-26T12:14:11.206Z"
   },
   {
    "duration": 16,
    "start_time": "2021-06-26T12:14:12.714Z"
   },
   {
    "duration": 6,
    "start_time": "2021-06-26T12:14:12.733Z"
   },
   {
    "duration": 116,
    "start_time": "2021-06-26T12:14:12.741Z"
   },
   {
    "duration": 42,
    "start_time": "2021-06-26T12:14:12.859Z"
   },
   {
    "duration": 4,
    "start_time": "2021-06-26T12:14:12.904Z"
   },
   {
    "duration": 9,
    "start_time": "2021-06-26T12:14:12.914Z"
   },
   {
    "duration": 26,
    "start_time": "2021-06-26T12:14:12.926Z"
   },
   {
    "duration": 55,
    "start_time": "2021-06-26T12:14:12.954Z"
   },
   {
    "duration": 25,
    "start_time": "2021-06-26T12:14:13.011Z"
   },
   {
    "duration": 54,
    "start_time": "2021-06-26T12:14:13.038Z"
   },
   {
    "duration": 66,
    "start_time": "2021-06-26T12:14:13.095Z"
   },
   {
    "duration": 27,
    "start_time": "2021-06-26T12:14:13.163Z"
   },
   {
    "duration": 17,
    "start_time": "2021-06-26T12:14:13.192Z"
   },
   {
    "duration": 28,
    "start_time": "2021-06-26T12:14:13.211Z"
   },
   {
    "duration": 38,
    "start_time": "2021-06-26T12:14:13.241Z"
   },
   {
    "duration": 17,
    "start_time": "2021-06-26T12:14:13.281Z"
   },
   {
    "duration": 8,
    "start_time": "2021-06-26T12:14:13.300Z"
   },
   {
    "duration": 10,
    "start_time": "2021-06-26T12:14:13.310Z"
   },
   {
    "duration": 15,
    "start_time": "2021-06-26T12:14:13.322Z"
   },
   {
    "duration": 100,
    "start_time": "2021-06-26T12:14:13.340Z"
   },
   {
    "duration": 89,
    "start_time": "2021-06-26T12:14:13.446Z"
   },
   {
    "duration": 87,
    "start_time": "2021-06-26T12:14:13.538Z"
   },
   {
    "duration": 222,
    "start_time": "2021-06-26T12:14:13.628Z"
   },
   {
    "duration": 15,
    "start_time": "2021-06-26T12:14:13.852Z"
   },
   {
    "duration": 8,
    "start_time": "2021-06-26T12:14:13.885Z"
   },
   {
    "duration": 77,
    "start_time": "2021-06-26T12:14:13.902Z"
   },
   {
    "duration": 8,
    "start_time": "2021-06-26T12:14:13.990Z"
   },
   {
    "duration": 36,
    "start_time": "2021-06-26T12:14:14.002Z"
   },
   {
    "duration": 157,
    "start_time": "2021-06-26T12:14:14.041Z"
   },
   {
    "duration": 97,
    "start_time": "2021-06-26T12:14:14.207Z"
   },
   {
    "duration": 200,
    "start_time": "2021-06-26T12:14:14.307Z"
   },
   {
    "duration": 193,
    "start_time": "2021-06-26T12:14:14.510Z"
   },
   {
    "duration": 99,
    "start_time": "2021-06-26T12:14:14.707Z"
   },
   {
    "duration": 87,
    "start_time": "2021-06-26T12:14:14.810Z"
   },
   {
    "duration": 90,
    "start_time": "2021-06-26T12:14:14.905Z"
   },
   {
    "duration": 27,
    "start_time": "2021-06-26T12:14:14.998Z"
   },
   {
    "duration": 20,
    "start_time": "2021-06-26T12:14:15.027Z"
   },
   {
    "duration": 3,
    "start_time": "2021-06-26T12:14:15.049Z"
   },
   {
    "duration": 20,
    "start_time": "2021-06-26T12:14:15.093Z"
   },
   {
    "duration": 4,
    "start_time": "2021-06-26T12:14:15.116Z"
   },
   {
    "duration": 66,
    "start_time": "2021-06-26T12:14:15.123Z"
   },
   {
    "duration": 116,
    "start_time": "2021-06-26T12:14:15.191Z"
   },
   {
    "duration": 121,
    "start_time": "2021-06-26T12:14:15.387Z"
   },
   {
    "duration": 15,
    "start_time": "2021-06-26T12:14:15.587Z"
   },
   {
    "duration": 91,
    "start_time": "2021-06-26T12:14:15.605Z"
   },
   {
    "duration": 5,
    "start_time": "2021-06-26T12:14:15.699Z"
   },
   {
    "duration": 11,
    "start_time": "2021-06-26T12:14:15.706Z"
   },
   {
    "duration": 5,
    "start_time": "2021-06-26T12:14:15.720Z"
   },
   {
    "duration": 7,
    "start_time": "2021-06-26T12:14:15.727Z"
   },
   {
    "duration": 8,
    "start_time": "2021-06-26T12:14:15.736Z"
   },
   {
    "duration": 43,
    "start_time": "2021-06-26T12:14:15.746Z"
   },
   {
    "duration": 6,
    "start_time": "2021-06-26T12:14:15.798Z"
   },
   {
    "duration": 8,
    "start_time": "2021-06-26T12:14:15.806Z"
   },
   {
    "duration": 21,
    "start_time": "2021-06-26T12:14:15.816Z"
   },
   {
    "duration": 4067,
    "start_time": "2021-06-26T12:14:15.839Z"
   },
   {
    "duration": 3906,
    "start_time": "2021-06-26T12:14:19.909Z"
   },
   {
    "duration": 4042,
    "start_time": "2021-06-26T12:14:23.818Z"
   },
   {
    "duration": 26,
    "start_time": "2021-06-26T12:14:27.864Z"
   },
   {
    "duration": 14,
    "start_time": "2021-06-26T12:14:29.095Z"
   },
   {
    "duration": 12,
    "start_time": "2021-06-26T12:15:32.244Z"
   },
   {
    "duration": 12,
    "start_time": "2021-06-26T12:15:34.608Z"
   },
   {
    "duration": 12,
    "start_time": "2021-06-26T12:15:36.122Z"
   },
   {
    "duration": 13,
    "start_time": "2021-06-26T12:16:32.356Z"
   },
   {
    "duration": 12,
    "start_time": "2021-06-26T12:16:34.149Z"
   },
   {
    "duration": 13,
    "start_time": "2021-06-26T12:16:35.254Z"
   },
   {
    "duration": 15,
    "start_time": "2021-06-26T12:16:38.692Z"
   },
   {
    "duration": 13,
    "start_time": "2021-06-26T12:16:40.219Z"
   },
   {
    "duration": 15,
    "start_time": "2021-06-26T12:16:41.386Z"
   },
   {
    "duration": 14,
    "start_time": "2021-06-26T12:16:42.904Z"
   },
   {
    "duration": 13,
    "start_time": "2021-06-26T12:16:45.314Z"
   },
   {
    "duration": 14,
    "start_time": "2021-06-26T12:16:50.700Z"
   },
   {
    "duration": 12,
    "start_time": "2021-06-26T12:16:52.311Z"
   },
   {
    "duration": 5,
    "start_time": "2021-06-26T12:18:18.497Z"
   },
   {
    "duration": 2810,
    "start_time": "2021-06-26T12:18:18.505Z"
   },
   {
    "duration": 20,
    "start_time": "2021-06-26T12:18:21.319Z"
   },
   {
    "duration": 7,
    "start_time": "2021-06-26T12:18:21.342Z"
   },
   {
    "duration": 128,
    "start_time": "2021-06-26T12:18:21.351Z"
   },
   {
    "duration": 32,
    "start_time": "2021-06-26T12:18:21.481Z"
   },
   {
    "duration": 4,
    "start_time": "2021-06-26T12:18:21.516Z"
   },
   {
    "duration": 28,
    "start_time": "2021-06-26T12:18:21.524Z"
   },
   {
    "duration": 25,
    "start_time": "2021-06-26T12:18:21.586Z"
   },
   {
    "duration": 22,
    "start_time": "2021-06-26T12:18:21.613Z"
   },
   {
    "duration": 60,
    "start_time": "2021-06-26T12:18:21.637Z"
   },
   {
    "duration": 65,
    "start_time": "2021-06-26T12:18:21.700Z"
   },
   {
    "duration": 27,
    "start_time": "2021-06-26T12:18:21.768Z"
   },
   {
    "duration": 29,
    "start_time": "2021-06-26T12:18:21.798Z"
   },
   {
    "duration": 26,
    "start_time": "2021-06-26T12:18:21.830Z"
   },
   {
    "duration": 35,
    "start_time": "2021-06-26T12:18:21.859Z"
   },
   {
    "duration": 8,
    "start_time": "2021-06-26T12:18:21.898Z"
   },
   {
    "duration": 48,
    "start_time": "2021-06-26T12:18:21.909Z"
   },
   {
    "duration": 24,
    "start_time": "2021-06-26T12:18:21.960Z"
   },
   {
    "duration": 27,
    "start_time": "2021-06-26T12:18:21.986Z"
   },
   {
    "duration": 98,
    "start_time": "2021-06-26T12:18:22.016Z"
   },
   {
    "duration": 90,
    "start_time": "2021-06-26T12:18:22.117Z"
   },
   {
    "duration": 91,
    "start_time": "2021-06-26T12:18:22.213Z"
   },
   {
    "duration": 230,
    "start_time": "2021-06-26T12:18:22.308Z"
   },
   {
    "duration": 16,
    "start_time": "2021-06-26T12:18:22.541Z"
   },
   {
    "duration": 26,
    "start_time": "2021-06-26T12:18:22.559Z"
   },
   {
    "duration": 61,
    "start_time": "2021-06-26T12:18:22.593Z"
   },
   {
    "duration": 3,
    "start_time": "2021-06-26T12:18:22.657Z"
   },
   {
    "duration": 53,
    "start_time": "2021-06-26T12:18:22.663Z"
   },
   {
    "duration": 89,
    "start_time": "2021-06-26T12:18:22.719Z"
   },
   {
    "duration": 16,
    "start_time": "2021-06-26T12:18:22.886Z"
   },
   {
    "duration": 114,
    "start_time": "2021-06-26T12:18:22.990Z"
   },
   {
    "duration": 177,
    "start_time": "2021-06-26T12:18:23.109Z"
   },
   {
    "duration": 99,
    "start_time": "2021-06-26T12:18:23.288Z"
   },
   {
    "duration": 11,
    "start_time": "2021-06-26T12:18:23.390Z"
   },
   {
    "duration": 94,
    "start_time": "2021-06-26T12:18:23.406Z"
   },
   {
    "duration": 20,
    "start_time": "2021-06-26T12:18:23.503Z"
   },
   {
    "duration": 20,
    "start_time": "2021-06-26T12:18:23.526Z"
   },
   {
    "duration": 44,
    "start_time": "2021-06-26T12:18:23.549Z"
   },
   {
    "duration": 19,
    "start_time": "2021-06-26T12:18:23.598Z"
   },
   {
    "duration": 3,
    "start_time": "2021-06-26T12:18:23.620Z"
   },
   {
    "duration": 73,
    "start_time": "2021-06-26T12:18:23.626Z"
   },
   {
    "duration": 194,
    "start_time": "2021-06-26T12:18:23.702Z"
   },
   {
    "duration": 114,
    "start_time": "2021-06-26T12:18:23.900Z"
   },
   {
    "duration": 83,
    "start_time": "2021-06-26T12:18:24.017Z"
   },
   {
    "duration": 7,
    "start_time": "2021-06-26T12:18:24.105Z"
   },
   {
    "duration": 10,
    "start_time": "2021-06-26T12:18:24.190Z"
   },
   {
    "duration": 8,
    "start_time": "2021-06-26T12:18:24.203Z"
   },
   {
    "duration": 12,
    "start_time": "2021-06-26T12:18:24.213Z"
   },
   {
    "duration": 12,
    "start_time": "2021-06-26T12:18:24.228Z"
   },
   {
    "duration": 14,
    "start_time": "2021-06-26T12:18:24.242Z"
   },
   {
    "duration": 28,
    "start_time": "2021-06-26T12:18:24.259Z"
   },
   {
    "duration": 11,
    "start_time": "2021-06-26T12:18:24.294Z"
   },
   {
    "duration": 7,
    "start_time": "2021-06-26T12:18:24.307Z"
   },
   {
    "duration": 21,
    "start_time": "2021-06-26T12:18:24.316Z"
   },
   {
    "duration": 4575,
    "start_time": "2021-06-26T12:18:24.340Z"
   },
   {
    "duration": 5346,
    "start_time": "2021-06-26T12:18:28.917Z"
   },
   {
    "duration": 5063,
    "start_time": "2021-06-26T12:18:34.265Z"
   },
   {
    "duration": 4357,
    "start_time": "2021-06-26T12:19:18.538Z"
   },
   {
    "duration": 4050,
    "start_time": "2021-06-26T12:19:29.194Z"
   },
   {
    "duration": 4027,
    "start_time": "2021-06-26T12:19:42.298Z"
   },
   {
    "duration": 4060,
    "start_time": "2021-06-26T12:19:49.272Z"
   },
   {
    "duration": 4058,
    "start_time": "2021-06-26T12:20:34.374Z"
   },
   {
    "duration": 4,
    "start_time": "2021-06-26T12:21:08.361Z"
   },
   {
    "duration": 4094,
    "start_time": "2021-06-26T12:21:09.647Z"
   },
   {
    "duration": 4122,
    "start_time": "2021-06-26T12:21:13.744Z"
   },
   {
    "duration": 4016,
    "start_time": "2021-06-26T12:21:17.869Z"
   },
   {
    "duration": 3973,
    "start_time": "2021-06-26T12:21:21.889Z"
   },
   {
    "duration": 3946,
    "start_time": "2021-06-26T12:22:09.344Z"
   },
   {
    "duration": 3878,
    "start_time": "2021-06-26T12:22:14.354Z"
   },
   {
    "duration": 4173,
    "start_time": "2021-06-26T12:22:20.753Z"
   },
   {
    "duration": 3934,
    "start_time": "2021-06-26T12:22:28.444Z"
   },
   {
    "duration": 4068,
    "start_time": "2021-06-26T12:22:35.377Z"
   },
   {
    "duration": 4034,
    "start_time": "2021-06-26T12:22:40.752Z"
   },
   {
    "duration": 1922,
    "start_time": "2021-06-28T07:42:24.951Z"
   },
   {
    "duration": 3431,
    "start_time": "2021-06-28T07:42:26.877Z"
   },
   {
    "duration": 19,
    "start_time": "2021-06-28T07:42:30.311Z"
   },
   {
    "duration": 19,
    "start_time": "2021-06-28T07:42:30.334Z"
   },
   {
    "duration": 122,
    "start_time": "2021-06-28T07:42:30.356Z"
   },
   {
    "duration": 36,
    "start_time": "2021-06-28T07:42:30.481Z"
   },
   {
    "duration": 5,
    "start_time": "2021-06-28T07:42:30.520Z"
   },
   {
    "duration": 32,
    "start_time": "2021-06-28T07:42:30.530Z"
   },
   {
    "duration": 51,
    "start_time": "2021-06-28T07:42:30.567Z"
   },
   {
    "duration": 36,
    "start_time": "2021-06-28T07:42:30.621Z"
   },
   {
    "duration": 28,
    "start_time": "2021-06-28T07:42:30.660Z"
   },
   {
    "duration": 74,
    "start_time": "2021-06-28T07:42:30.690Z"
   },
   {
    "duration": 34,
    "start_time": "2021-06-28T07:42:30.766Z"
   },
   {
    "duration": 13,
    "start_time": "2021-06-28T07:42:30.804Z"
   },
   {
    "duration": 32,
    "start_time": "2021-06-28T07:42:30.820Z"
   },
   {
    "duration": 48,
    "start_time": "2021-06-28T07:42:30.855Z"
   },
   {
    "duration": 24,
    "start_time": "2021-06-28T07:42:30.906Z"
   },
   {
    "duration": 32,
    "start_time": "2021-06-28T07:42:30.933Z"
   },
   {
    "duration": 25,
    "start_time": "2021-06-28T07:42:30.968Z"
   },
   {
    "duration": 34,
    "start_time": "2021-06-28T07:42:30.996Z"
   },
   {
    "duration": 102,
    "start_time": "2021-06-28T07:42:31.032Z"
   },
   {
    "duration": 82,
    "start_time": "2021-06-28T07:42:31.136Z"
   },
   {
    "duration": 99,
    "start_time": "2021-06-28T07:42:31.224Z"
   },
   {
    "duration": 232,
    "start_time": "2021-06-28T07:42:31.326Z"
   },
   {
    "duration": 16,
    "start_time": "2021-06-28T07:42:31.561Z"
   },
   {
    "duration": 23,
    "start_time": "2021-06-28T07:42:31.579Z"
   },
   {
    "duration": 85,
    "start_time": "2021-06-28T07:42:31.604Z"
   },
   {
    "duration": 3,
    "start_time": "2021-06-28T07:42:31.691Z"
   },
   {
    "duration": 119,
    "start_time": "2021-06-28T07:42:31.696Z"
   },
   {
    "duration": 8,
    "start_time": "2021-06-28T07:42:31.902Z"
   },
   {
    "duration": 194,
    "start_time": "2021-06-28T07:42:31.912Z"
   },
   {
    "duration": 206,
    "start_time": "2021-06-28T07:42:32.110Z"
   },
   {
    "duration": 189,
    "start_time": "2021-06-28T07:42:32.320Z"
   },
   {
    "duration": 98,
    "start_time": "2021-06-28T07:42:32.513Z"
   },
   {
    "duration": 102,
    "start_time": "2021-06-28T07:42:32.703Z"
   },
   {
    "duration": 17,
    "start_time": "2021-06-28T07:42:32.808Z"
   },
   {
    "duration": 30,
    "start_time": "2021-06-28T07:42:32.827Z"
   },
   {
    "duration": 26,
    "start_time": "2021-06-28T07:42:32.860Z"
   },
   {
    "duration": 3,
    "start_time": "2021-06-28T07:42:32.902Z"
   },
   {
    "duration": 32,
    "start_time": "2021-06-28T07:42:32.908Z"
   },
   {
    "duration": 3,
    "start_time": "2021-06-28T07:42:32.942Z"
   },
   {
    "duration": 54,
    "start_time": "2021-06-28T07:42:32.947Z"
   },
   {
    "duration": 200,
    "start_time": "2021-06-28T07:42:33.004Z"
   },
   {
    "duration": 107,
    "start_time": "2021-06-28T07:42:33.207Z"
   },
   {
    "duration": 184,
    "start_time": "2021-06-28T07:42:33.318Z"
   },
   {
    "duration": 7,
    "start_time": "2021-06-28T07:42:33.505Z"
   },
   {
    "duration": 23,
    "start_time": "2021-06-28T07:42:33.516Z"
   },
   {
    "duration": 30,
    "start_time": "2021-06-28T07:42:33.542Z"
   },
   {
    "duration": 23,
    "start_time": "2021-06-28T07:42:33.576Z"
   },
   {
    "duration": 23,
    "start_time": "2021-06-28T07:42:33.603Z"
   },
   {
    "duration": 26,
    "start_time": "2021-06-28T07:42:33.628Z"
   },
   {
    "duration": 17,
    "start_time": "2021-06-28T07:42:33.657Z"
   },
   {
    "duration": 26,
    "start_time": "2021-06-28T07:42:33.677Z"
   },
   {
    "duration": 22,
    "start_time": "2021-06-28T07:42:33.706Z"
   },
   {
    "duration": 38,
    "start_time": "2021-06-28T07:42:33.731Z"
   },
   {
    "duration": 3886,
    "start_time": "2021-06-28T07:42:33.771Z"
   },
   {
    "duration": 3894,
    "start_time": "2021-06-28T07:42:37.660Z"
   },
   {
    "duration": 699,
    "start_time": "2021-06-28T07:42:41.557Z"
   },
   {
    "duration": 5,
    "start_time": "2021-06-28T08:43:15.058Z"
   },
   {
    "duration": 2528,
    "start_time": "2021-06-28T08:43:15.066Z"
   },
   {
    "duration": 5,
    "start_time": "2021-06-28T08:43:17.597Z"
   },
   {
    "duration": 24,
    "start_time": "2021-06-28T08:43:17.606Z"
   },
   {
    "duration": 24,
    "start_time": "2021-06-28T08:43:17.632Z"
   },
   {
    "duration": 54,
    "start_time": "2021-06-28T08:43:17.658Z"
   },
   {
    "duration": 3,
    "start_time": "2021-06-28T08:43:17.717Z"
   },
   {
    "duration": 13,
    "start_time": "2021-06-28T08:43:17.724Z"
   },
   {
    "duration": 16,
    "start_time": "2021-06-28T08:43:17.739Z"
   },
   {
    "duration": 46,
    "start_time": "2021-06-28T08:43:17.758Z"
   },
   {
    "duration": 11,
    "start_time": "2021-06-28T08:43:17.807Z"
   },
   {
    "duration": 10,
    "start_time": "2021-06-28T08:43:17.820Z"
   },
   {
    "duration": 10,
    "start_time": "2021-06-28T08:43:17.832Z"
   },
   {
    "duration": 9,
    "start_time": "2021-06-28T08:43:17.845Z"
   },
   {
    "duration": 5,
    "start_time": "2021-06-28T08:43:17.857Z"
   },
   {
    "duration": 104,
    "start_time": "2021-06-28T08:43:17.865Z"
   },
   {
    "duration": 93,
    "start_time": "2021-06-28T08:43:17.972Z"
   },
   {
    "duration": 90,
    "start_time": "2021-06-28T08:43:18.068Z"
   },
   {
    "duration": 3,
    "start_time": "2021-06-28T08:43:18.165Z"
   },
   {
    "duration": 34,
    "start_time": "2021-06-28T08:43:18.173Z"
   },
   {
    "duration": 20,
    "start_time": "2021-06-28T08:43:18.210Z"
   },
   {
    "duration": 76,
    "start_time": "2021-06-28T08:43:18.233Z"
   },
   {
    "duration": 3,
    "start_time": "2021-06-28T08:43:18.312Z"
   },
   {
    "duration": 184,
    "start_time": "2021-06-28T08:43:18.317Z"
   },
   {
    "duration": 9,
    "start_time": "2021-06-28T08:43:18.503Z"
   },
   {
    "duration": 187,
    "start_time": "2021-06-28T08:43:18.514Z"
   },
   {
    "duration": 196,
    "start_time": "2021-06-28T08:43:18.705Z"
   },
   {
    "duration": 103,
    "start_time": "2021-06-28T08:43:18.905Z"
   },
   {
    "duration": 105,
    "start_time": "2021-06-28T08:43:19.103Z"
   },
   {
    "duration": 96,
    "start_time": "2021-06-28T08:43:19.212Z"
   },
   {
    "duration": 100,
    "start_time": "2021-06-28T08:43:19.312Z"
   },
   {
    "duration": 18,
    "start_time": "2021-06-28T08:43:19.415Z"
   },
   {
    "duration": 18,
    "start_time": "2021-06-28T08:43:19.436Z"
   },
   {
    "duration": 3,
    "start_time": "2021-06-28T08:43:19.457Z"
   },
   {
    "duration": 61,
    "start_time": "2021-06-28T08:43:19.462Z"
   },
   {
    "duration": 4,
    "start_time": "2021-06-28T08:43:19.526Z"
   },
   {
    "duration": 69,
    "start_time": "2021-06-28T08:43:19.532Z"
   },
   {
    "duration": 106,
    "start_time": "2021-06-28T08:43:19.605Z"
   },
   {
    "duration": 193,
    "start_time": "2021-06-28T08:43:19.714Z"
   },
   {
    "duration": 91,
    "start_time": "2021-06-28T08:43:19.910Z"
   },
   {
    "duration": 97,
    "start_time": "2021-06-28T08:43:20.005Z"
   },
   {
    "duration": 7,
    "start_time": "2021-06-28T08:43:20.105Z"
   },
   {
    "duration": 8,
    "start_time": "2021-06-28T08:43:20.114Z"
   },
   {
    "duration": 5,
    "start_time": "2021-06-28T08:43:20.124Z"
   },
   {
    "duration": 9,
    "start_time": "2021-06-28T08:43:20.131Z"
   },
   {
    "duration": 8,
    "start_time": "2021-06-28T08:43:20.142Z"
   },
   {
    "duration": 6,
    "start_time": "2021-06-28T08:43:20.152Z"
   },
   {
    "duration": 6,
    "start_time": "2021-06-28T08:43:20.202Z"
   },
   {
    "duration": 7,
    "start_time": "2021-06-28T08:43:20.210Z"
   },
   {
    "duration": 20,
    "start_time": "2021-06-28T08:43:20.219Z"
   },
   {
    "duration": 3818,
    "start_time": "2021-06-28T08:43:20.241Z"
   },
   {
    "duration": 4196,
    "start_time": "2021-06-28T08:43:24.061Z"
   },
   {
    "duration": 721,
    "start_time": "2021-06-28T08:43:28.260Z"
   },
   {
    "duration": 11,
    "start_time": "2021-06-28T08:50:59.230Z"
   },
   {
    "duration": 14,
    "start_time": "2021-06-28T08:51:06.380Z"
   },
   {
    "duration": 282,
    "start_time": "2021-06-28T08:51:21.610Z"
   },
   {
    "duration": 27,
    "start_time": "2021-06-28T08:51:27.467Z"
   },
   {
    "duration": 28,
    "start_time": "2021-06-28T08:52:15.437Z"
   },
   {
    "duration": 25,
    "start_time": "2021-06-28T08:52:19.266Z"
   },
   {
    "duration": 23,
    "start_time": "2021-06-28T08:52:33.943Z"
   },
   {
    "duration": 24,
    "start_time": "2021-06-28T08:52:45.170Z"
   },
   {
    "duration": 23,
    "start_time": "2021-06-28T08:53:06.344Z"
   },
   {
    "duration": 23,
    "start_time": "2021-06-28T08:53:07.659Z"
   },
   {
    "duration": 23,
    "start_time": "2021-06-28T08:53:08.251Z"
   },
   {
    "duration": 44,
    "start_time": "2021-06-28T09:03:28.283Z"
   },
   {
    "duration": 33,
    "start_time": "2021-06-28T09:08:44.641Z"
   },
   {
    "duration": 5,
    "start_time": "2021-06-28T09:08:56.592Z"
   },
   {
    "duration": 1593,
    "start_time": "2021-06-28T09:08:56.599Z"
   },
   {
    "duration": 25,
    "start_time": "2021-06-28T09:08:58.195Z"
   },
   {
    "duration": 23,
    "start_time": "2021-06-28T09:08:58.223Z"
   },
   {
    "duration": 65,
    "start_time": "2021-06-28T09:08:58.249Z"
   },
   {
    "duration": 4,
    "start_time": "2021-06-28T09:08:58.316Z"
   },
   {
    "duration": 23,
    "start_time": "2021-06-28T09:08:58.323Z"
   },
   {
    "duration": 53,
    "start_time": "2021-06-28T09:08:58.349Z"
   },
   {
    "duration": 22,
    "start_time": "2021-06-28T09:08:58.404Z"
   },
   {
    "duration": 10,
    "start_time": "2021-06-28T09:08:58.428Z"
   },
   {
    "duration": 14,
    "start_time": "2021-06-28T09:08:58.441Z"
   },
   {
    "duration": 14,
    "start_time": "2021-06-28T09:08:58.458Z"
   },
   {
    "duration": 32,
    "start_time": "2021-06-28T09:08:58.475Z"
   },
   {
    "duration": 15,
    "start_time": "2021-06-28T09:08:58.509Z"
   },
   {
    "duration": 12,
    "start_time": "2021-06-28T09:08:58.526Z"
   },
   {
    "duration": 39,
    "start_time": "2021-06-28T09:08:58.540Z"
   },
   {
    "duration": 87,
    "start_time": "2021-06-28T09:08:58.582Z"
   },
   {
    "duration": 83,
    "start_time": "2021-06-28T09:08:58.672Z"
   },
   {
    "duration": 88,
    "start_time": "2021-06-28T09:08:58.760Z"
   },
   {
    "duration": 36,
    "start_time": "2021-06-28T09:08:58.852Z"
   },
   {
    "duration": 18,
    "start_time": "2021-06-28T09:08:58.901Z"
   },
   {
    "duration": 55,
    "start_time": "2021-06-28T09:08:58.921Z"
   },
   {
    "duration": 4,
    "start_time": "2021-06-28T09:08:59.000Z"
   },
   {
    "duration": 97,
    "start_time": "2021-06-28T09:08:59.006Z"
   },
   {
    "duration": 99,
    "start_time": "2021-06-28T09:08:59.107Z"
   },
   {
    "duration": 100,
    "start_time": "2021-06-28T09:08:59.210Z"
   },
   {
    "duration": 104,
    "start_time": "2021-06-28T09:08:59.403Z"
   },
   {
    "duration": 193,
    "start_time": "2021-06-28T09:08:59.511Z"
   },
   {
    "duration": 195,
    "start_time": "2021-06-28T09:08:59.708Z"
   },
   {
    "duration": 98,
    "start_time": "2021-06-28T09:08:59.907Z"
   },
   {
    "duration": 95,
    "start_time": "2021-06-28T09:09:00.009Z"
   },
   {
    "duration": 22,
    "start_time": "2021-06-28T09:09:00.106Z"
   },
   {
    "duration": 17,
    "start_time": "2021-06-28T09:09:00.130Z"
   },
   {
    "duration": 3,
    "start_time": "2021-06-28T09:09:00.149Z"
   },
   {
    "duration": 58,
    "start_time": "2021-06-28T09:09:00.154Z"
   },
   {
    "duration": 4,
    "start_time": "2021-06-28T09:09:00.214Z"
   },
   {
    "duration": 22,
    "start_time": "2021-06-28T09:09:00.220Z"
   },
   {
    "duration": 158,
    "start_time": "2021-06-28T09:09:00.245Z"
   },
   {
    "duration": 198,
    "start_time": "2021-06-28T09:09:00.406Z"
   },
   {
    "duration": 98,
    "start_time": "2021-06-28T09:09:00.608Z"
   },
   {
    "duration": 92,
    "start_time": "2021-06-28T09:09:00.710Z"
   },
   {
    "duration": 25,
    "start_time": "2021-06-28T09:09:00.805Z"
   },
   {
    "duration": 11,
    "start_time": "2021-06-28T09:09:00.832Z"
   },
   {
    "duration": 11,
    "start_time": "2021-06-28T09:09:00.846Z"
   },
   {
    "duration": 21,
    "start_time": "2021-06-28T09:09:00.860Z"
   },
   {
    "duration": 23,
    "start_time": "2021-06-28T09:09:00.883Z"
   },
   {
    "duration": 9,
    "start_time": "2021-06-28T09:09:00.908Z"
   },
   {
    "duration": 22,
    "start_time": "2021-06-28T09:09:00.920Z"
   },
   {
    "duration": 16,
    "start_time": "2021-06-28T09:09:00.945Z"
   },
   {
    "duration": 25,
    "start_time": "2021-06-28T09:09:00.963Z"
   },
   {
    "duration": 4013,
    "start_time": "2021-06-28T09:09:00.990Z"
   },
   {
    "duration": 3778,
    "start_time": "2021-06-28T09:09:05.006Z"
   },
   {
    "duration": 540,
    "start_time": "2021-06-28T09:09:08.786Z"
   },
   {
    "duration": 8,
    "start_time": "2021-06-28T09:39:07.560Z"
   },
   {
    "duration": 6,
    "start_time": "2021-06-28T09:39:54.904Z"
   },
   {
    "duration": 8,
    "start_time": "2021-06-28T09:40:14.623Z"
   },
   {
    "duration": 8,
    "start_time": "2021-06-28T09:40:51.984Z"
   },
   {
    "duration": 8,
    "start_time": "2021-06-28T09:45:30.461Z"
   },
   {
    "duration": 19,
    "start_time": "2021-06-28T09:45:32.693Z"
   },
   {
    "duration": 18,
    "start_time": "2021-06-28T09:45:33.228Z"
   },
   {
    "duration": 3,
    "start_time": "2021-06-28T10:04:18.717Z"
   },
   {
    "duration": 4,
    "start_time": "2021-06-28T10:04:19.060Z"
   },
   {
    "duration": 7,
    "start_time": "2021-06-28T10:53:37.551Z"
   },
   {
    "duration": 13,
    "start_time": "2021-06-28T10:53:39.478Z"
   },
   {
    "duration": 5,
    "start_time": "2021-06-28T10:55:43.979Z"
   },
   {
    "duration": 1803,
    "start_time": "2021-06-28T10:55:43.986Z"
   },
   {
    "duration": 28,
    "start_time": "2021-06-28T10:55:45.792Z"
   },
   {
    "duration": 25,
    "start_time": "2021-06-28T10:55:45.823Z"
   },
   {
    "duration": 50,
    "start_time": "2021-06-28T10:55:45.850Z"
   },
   {
    "duration": 4,
    "start_time": "2021-06-28T10:55:45.902Z"
   },
   {
    "duration": 33,
    "start_time": "2021-06-28T10:55:45.909Z"
   },
   {
    "duration": 20,
    "start_time": "2021-06-28T10:55:45.945Z"
   },
   {
    "duration": 46,
    "start_time": "2021-06-28T10:55:45.968Z"
   },
   {
    "duration": 11,
    "start_time": "2021-06-28T10:55:46.016Z"
   },
   {
    "duration": 17,
    "start_time": "2021-06-28T10:55:46.030Z"
   },
   {
    "duration": 24,
    "start_time": "2021-06-28T10:55:46.049Z"
   },
   {
    "duration": 19,
    "start_time": "2021-06-28T10:55:46.075Z"
   },
   {
    "duration": 15,
    "start_time": "2021-06-28T10:55:46.096Z"
   },
   {
    "duration": 20,
    "start_time": "2021-06-28T10:55:46.113Z"
   },
   {
    "duration": 58,
    "start_time": "2021-06-28T10:55:46.136Z"
   },
   {
    "duration": 74,
    "start_time": "2021-06-28T10:55:46.197Z"
   },
   {
    "duration": 90,
    "start_time": "2021-06-28T10:55:46.274Z"
   },
   {
    "duration": 81,
    "start_time": "2021-06-28T10:55:46.369Z"
   },
   {
    "duration": 35,
    "start_time": "2021-06-28T10:55:46.453Z"
   },
   {
    "duration": 21,
    "start_time": "2021-06-28T10:55:46.501Z"
   },
   {
    "duration": 55,
    "start_time": "2021-06-28T10:55:46.525Z"
   },
   {
    "duration": 4,
    "start_time": "2021-06-28T10:55:46.600Z"
   },
   {
    "duration": 97,
    "start_time": "2021-06-28T10:55:46.606Z"
   },
   {
    "duration": 194,
    "start_time": "2021-06-28T10:55:46.707Z"
   },
   {
    "duration": 103,
    "start_time": "2021-06-28T10:55:46.905Z"
   },
   {
    "duration": 188,
    "start_time": "2021-06-28T10:55:47.012Z"
   },
   {
    "duration": 101,
    "start_time": "2021-06-28T10:55:47.204Z"
   },
   {
    "duration": 191,
    "start_time": "2021-06-28T10:55:47.310Z"
   },
   {
    "duration": 100,
    "start_time": "2021-06-28T10:55:47.505Z"
   },
   {
    "duration": 14,
    "start_time": "2021-06-28T10:55:47.608Z"
   },
   {
    "duration": 25,
    "start_time": "2021-06-28T10:55:47.624Z"
   },
   {
    "duration": 18,
    "start_time": "2021-06-28T10:55:47.653Z"
   },
   {
    "duration": 3,
    "start_time": "2021-06-28T10:55:47.701Z"
   },
   {
    "duration": 15,
    "start_time": "2021-06-28T10:55:47.706Z"
   },
   {
    "duration": 33,
    "start_time": "2021-06-28T10:55:47.723Z"
   },
   {
    "duration": 23,
    "start_time": "2021-06-28T10:55:47.759Z"
   },
   {
    "duration": 18,
    "start_time": "2021-06-28T10:55:47.785Z"
   },
   {
    "duration": 17,
    "start_time": "2021-06-28T10:55:47.806Z"
   },
   {
    "duration": 28,
    "start_time": "2021-06-28T10:55:47.825Z"
   },
   {
    "duration": 17,
    "start_time": "2021-06-28T10:55:47.856Z"
   },
   {
    "duration": 16,
    "start_time": "2021-06-28T10:55:47.876Z"
   },
   {
    "duration": 46,
    "start_time": "2021-06-28T10:55:47.894Z"
   },
   {
    "duration": 3917,
    "start_time": "2021-06-28T10:55:47.942Z"
   },
   {
    "duration": 3836,
    "start_time": "2021-06-28T10:55:51.861Z"
   },
   {
    "duration": 4003,
    "start_time": "2021-06-28T10:55:55.701Z"
   },
   {
    "duration": 3877,
    "start_time": "2021-06-28T10:56:24.765Z"
   },
   {
    "duration": 3998,
    "start_time": "2021-06-28T10:58:19.167Z"
   },
   {
    "duration": 3941,
    "start_time": "2021-06-28T10:59:06.529Z"
   },
   {
    "duration": 3898,
    "start_time": "2021-06-28T10:59:14.884Z"
   },
   {
    "duration": 3847,
    "start_time": "2021-06-28T10:59:27.402Z"
   },
   {
    "duration": 3876,
    "start_time": "2021-06-28T10:59:33.581Z"
   },
   {
    "duration": 3880,
    "start_time": "2021-06-28T11:00:11.722Z"
   },
   {
    "duration": 4041,
    "start_time": "2021-06-28T11:00:19.868Z"
   },
   {
    "duration": 3796,
    "start_time": "2021-06-28T11:00:41.393Z"
   },
   {
    "duration": 3937,
    "start_time": "2021-06-28T11:01:18.384Z"
   },
   {
    "duration": 4235,
    "start_time": "2021-06-28T11:01:22.324Z"
   },
   {
    "duration": 3862,
    "start_time": "2021-06-28T11:01:26.747Z"
   },
   {
    "duration": 4082,
    "start_time": "2021-06-28T11:01:34.465Z"
   },
   {
    "duration": 3999,
    "start_time": "2021-06-28T11:01:41.252Z"
   },
   {
    "duration": 3924,
    "start_time": "2021-06-28T11:01:45.253Z"
   },
   {
    "duration": 4072,
    "start_time": "2021-06-28T11:01:55.334Z"
   },
   {
    "duration": 3957,
    "start_time": "2021-06-28T11:02:00.746Z"
   },
   {
    "duration": 3849,
    "start_time": "2021-06-28T11:02:17.381Z"
   },
   {
    "duration": 3787,
    "start_time": "2021-06-28T11:02:21.232Z"
   },
   {
    "duration": 3905,
    "start_time": "2021-06-28T11:02:25.022Z"
   },
   {
    "duration": 3935,
    "start_time": "2021-06-28T11:05:06.236Z"
   },
   {
    "duration": 3981,
    "start_time": "2021-06-28T11:05:40.189Z"
   },
   {
    "duration": 3966,
    "start_time": "2021-06-28T11:06:06.318Z"
   },
   {
    "duration": 3813,
    "start_time": "2021-06-28T11:07:24.941Z"
   },
   {
    "duration": 4030,
    "start_time": "2021-06-28T11:07:30.247Z"
   },
   {
    "duration": 3747,
    "start_time": "2021-06-28T11:07:51.026Z"
   },
   {
    "duration": 4230,
    "start_time": "2021-06-28T11:07:57.440Z"
   },
   {
    "duration": 3972,
    "start_time": "2021-06-28T11:08:06.231Z"
   },
   {
    "duration": 4014,
    "start_time": "2021-06-28T11:16:38.750Z"
   },
   {
    "duration": 97,
    "start_time": "2021-06-28T11:16:49.850Z"
   },
   {
    "duration": 4039,
    "start_time": "2021-06-28T11:16:57.388Z"
   },
   {
    "duration": 3806,
    "start_time": "2021-06-28T11:17:06.931Z"
   },
   {
    "duration": 3872,
    "start_time": "2021-06-28T11:17:15.111Z"
   },
   {
    "duration": 4198,
    "start_time": "2021-06-28T11:17:23.352Z"
   },
   {
    "duration": 3877,
    "start_time": "2021-06-28T11:17:32.055Z"
   },
   {
    "duration": 3873,
    "start_time": "2021-06-28T11:17:46.391Z"
   },
   {
    "duration": 4085,
    "start_time": "2021-06-28T11:17:56.685Z"
   },
   {
    "duration": 4034,
    "start_time": "2021-06-28T11:18:05.891Z"
   },
   {
    "duration": 3921,
    "start_time": "2021-06-28T11:18:27.337Z"
   },
   {
    "duration": 3857,
    "start_time": "2021-06-28T11:18:34.810Z"
   },
   {
    "duration": 4024,
    "start_time": "2021-06-28T11:18:42.014Z"
   },
   {
    "duration": 3911,
    "start_time": "2021-06-28T11:18:49.285Z"
   },
   {
    "duration": 4091,
    "start_time": "2021-06-28T11:18:56.184Z"
   },
   {
    "duration": 3842,
    "start_time": "2021-06-28T11:20:11.998Z"
   },
   {
    "duration": 3846,
    "start_time": "2021-06-28T11:20:24.342Z"
   },
   {
    "duration": 3758,
    "start_time": "2021-06-28T11:20:34.193Z"
   },
   {
    "duration": 3772,
    "start_time": "2021-06-28T11:20:45.994Z"
   },
   {
    "duration": 3784,
    "start_time": "2021-06-28T11:20:55.651Z"
   },
   {
    "duration": 3847,
    "start_time": "2021-06-28T11:21:09.976Z"
   },
   {
    "duration": 3878,
    "start_time": "2021-06-28T11:21:17.566Z"
   },
   {
    "duration": 3867,
    "start_time": "2021-06-28T11:21:25.824Z"
   },
   {
    "duration": 3881,
    "start_time": "2021-06-28T11:21:35.871Z"
   },
   {
    "duration": 61,
    "start_time": "2021-06-28T11:25:12.918Z"
   },
   {
    "duration": 19,
    "start_time": "2021-06-28T11:25:51.818Z"
   },
   {
    "duration": 64,
    "start_time": "2021-06-28T11:26:20.657Z"
   },
   {
    "duration": 61,
    "start_time": "2021-06-28T11:27:35.819Z"
   },
   {
    "duration": 65,
    "start_time": "2021-06-28T11:27:58.500Z"
   },
   {
    "duration": 21,
    "start_time": "2021-06-28T11:28:09.012Z"
   },
   {
    "duration": 68,
    "start_time": "2021-06-28T11:30:00.745Z"
   },
   {
    "duration": 22,
    "start_time": "2021-06-28T11:30:05.120Z"
   },
   {
    "duration": 3944,
    "start_time": "2021-06-28T11:30:09.592Z"
   },
   {
    "duration": 89,
    "start_time": "2021-06-28T11:30:13.538Z"
   },
   {
    "duration": 62,
    "start_time": "2021-06-28T11:31:52.168Z"
   },
   {
    "duration": 391,
    "start_time": "2021-06-28T11:32:04.840Z"
   },
   {
    "duration": 66,
    "start_time": "2021-06-28T11:36:39.122Z"
   },
   {
    "duration": 70,
    "start_time": "2021-06-28T11:37:31.051Z"
   },
   {
    "duration": 21,
    "start_time": "2021-06-28T11:37:35.043Z"
   },
   {
    "duration": 3834,
    "start_time": "2021-06-28T11:37:49.533Z"
   },
   {
    "duration": 76,
    "start_time": "2021-06-28T11:37:53.370Z"
   },
   {
    "duration": 3914,
    "start_time": "2021-06-28T11:37:53.449Z"
   },
   {
    "duration": 39,
    "start_time": "2021-06-28T11:37:57.365Z"
   },
   {
    "duration": 3873,
    "start_time": "2021-06-28T11:37:57.406Z"
   },
   {
    "duration": 94,
    "start_time": "2021-06-28T11:38:01.282Z"
   },
   {
    "duration": 4012,
    "start_time": "2021-06-28T11:40:13.876Z"
   },
   {
    "duration": 3909,
    "start_time": "2021-06-28T11:40:20.723Z"
   },
   {
    "duration": 4423,
    "start_time": "2021-06-28T11:40:43.524Z"
   },
   {
    "duration": 1417,
    "start_time": "2021-06-28T11:46:41.988Z"
   },
   {
    "duration": 1650,
    "start_time": "2021-06-28T11:46:43.408Z"
   },
   {
    "duration": 28,
    "start_time": "2021-06-28T11:46:45.061Z"
   },
   {
    "duration": 25,
    "start_time": "2021-06-28T11:46:45.100Z"
   },
   {
    "duration": 27,
    "start_time": "2021-06-28T11:46:45.128Z"
   },
   {
    "duration": 3,
    "start_time": "2021-06-28T11:46:45.158Z"
   },
   {
    "duration": 22,
    "start_time": "2021-06-28T11:46:45.201Z"
   },
   {
    "duration": 21,
    "start_time": "2021-06-28T11:46:45.225Z"
   },
   {
    "duration": 55,
    "start_time": "2021-06-28T11:46:45.250Z"
   },
   {
    "duration": 10,
    "start_time": "2021-06-28T11:46:45.308Z"
   },
   {
    "duration": 15,
    "start_time": "2021-06-28T11:46:45.320Z"
   },
   {
    "duration": 17,
    "start_time": "2021-06-28T11:46:45.338Z"
   },
   {
    "duration": 11,
    "start_time": "2021-06-28T11:46:45.357Z"
   },
   {
    "duration": 32,
    "start_time": "2021-06-28T11:46:45.370Z"
   },
   {
    "duration": 11,
    "start_time": "2021-06-28T11:46:45.405Z"
   },
   {
    "duration": 43,
    "start_time": "2021-06-28T11:46:45.418Z"
   },
   {
    "duration": 98,
    "start_time": "2021-06-28T11:46:45.464Z"
   },
   {
    "duration": 88,
    "start_time": "2021-06-28T11:46:45.564Z"
   },
   {
    "duration": 80,
    "start_time": "2021-06-28T11:46:45.655Z"
   },
   {
    "duration": 36,
    "start_time": "2021-06-28T11:46:45.737Z"
   },
   {
    "duration": 40,
    "start_time": "2021-06-28T11:46:45.776Z"
   },
   {
    "duration": 82,
    "start_time": "2021-06-28T11:46:45.818Z"
   },
   {
    "duration": 5,
    "start_time": "2021-06-28T11:46:45.903Z"
   },
   {
    "duration": 93,
    "start_time": "2021-06-28T11:46:45.911Z"
   },
   {
    "duration": 106,
    "start_time": "2021-06-28T11:46:46.008Z"
   },
   {
    "duration": 108,
    "start_time": "2021-06-28T11:46:46.203Z"
   },
   {
    "duration": 192,
    "start_time": "2021-06-28T11:46:46.318Z"
   },
   {
    "duration": 198,
    "start_time": "2021-06-28T11:46:46.515Z"
   },
   {
    "duration": 191,
    "start_time": "2021-06-28T11:46:46.718Z"
   },
   {
    "duration": 92,
    "start_time": "2021-06-28T11:46:46.913Z"
   },
   {
    "duration": 100,
    "start_time": "2021-06-28T11:46:47.008Z"
   },
   {
    "duration": 19,
    "start_time": "2021-06-28T11:46:47.111Z"
   },
   {
    "duration": 15,
    "start_time": "2021-06-28T11:46:47.133Z"
   },
   {
    "duration": 3,
    "start_time": "2021-06-28T11:46:47.151Z"
   },
   {
    "duration": 45,
    "start_time": "2021-06-28T11:46:47.157Z"
   },
   {
    "duration": 7,
    "start_time": "2021-06-28T11:46:47.205Z"
   },
   {
    "duration": 4,
    "start_time": "2021-06-28T11:46:47.215Z"
   },
   {
    "duration": 53,
    "start_time": "2021-06-28T11:46:47.221Z"
   },
   {
    "duration": 12,
    "start_time": "2021-06-28T11:46:47.277Z"
   },
   {
    "duration": 14,
    "start_time": "2021-06-28T11:46:47.293Z"
   },
   {
    "duration": 13,
    "start_time": "2021-06-28T11:46:47.310Z"
   },
   {
    "duration": 10,
    "start_time": "2021-06-28T11:46:47.327Z"
   },
   {
    "duration": 32,
    "start_time": "2021-06-28T11:46:47.341Z"
   },
   {
    "duration": 4291,
    "start_time": "2021-06-28T11:46:47.377Z"
   },
   {
    "duration": 80,
    "start_time": "2021-06-28T11:46:51.671Z"
   },
   {
    "duration": 4066,
    "start_time": "2021-06-28T11:46:51.753Z"
   },
   {
    "duration": 19,
    "start_time": "2021-06-28T11:46:55.822Z"
   },
   {
    "duration": 4093,
    "start_time": "2021-06-28T11:46:55.844Z"
   },
   {
    "duration": 83,
    "start_time": "2021-06-28T11:46:59.940Z"
   },
   {
    "duration": 1529,
    "start_time": "2021-06-28T13:17:45.088Z"
   },
   {
    "duration": 2319,
    "start_time": "2021-06-28T13:17:46.620Z"
   },
   {
    "duration": 29,
    "start_time": "2021-06-28T13:17:48.942Z"
   },
   {
    "duration": 56,
    "start_time": "2021-06-28T13:17:48.974Z"
   },
   {
    "duration": 35,
    "start_time": "2021-06-28T13:17:49.033Z"
   },
   {
    "duration": 32,
    "start_time": "2021-06-28T13:17:49.071Z"
   },
   {
    "duration": 25,
    "start_time": "2021-06-28T13:17:49.106Z"
   },
   {
    "duration": 21,
    "start_time": "2021-06-28T13:17:49.136Z"
   },
   {
    "duration": 50,
    "start_time": "2021-06-28T13:17:49.160Z"
   },
   {
    "duration": 11,
    "start_time": "2021-06-28T13:17:49.213Z"
   },
   {
    "duration": 14,
    "start_time": "2021-06-28T13:17:49.227Z"
   },
   {
    "duration": 16,
    "start_time": "2021-06-28T13:17:49.244Z"
   },
   {
    "duration": 37,
    "start_time": "2021-06-28T13:17:49.263Z"
   },
   {
    "duration": 9,
    "start_time": "2021-06-28T13:17:49.303Z"
   },
   {
    "duration": 9,
    "start_time": "2021-06-28T13:17:49.315Z"
   },
   {
    "duration": 42,
    "start_time": "2021-06-28T13:17:49.326Z"
   },
   {
    "duration": 89,
    "start_time": "2021-06-28T13:17:49.371Z"
   },
   {
    "duration": 78,
    "start_time": "2021-06-28T13:17:49.462Z"
   },
   {
    "duration": 74,
    "start_time": "2021-06-28T13:17:49.542Z"
   },
   {
    "duration": 37,
    "start_time": "2021-06-28T13:17:49.619Z"
   },
   {
    "duration": 19,
    "start_time": "2021-06-28T13:17:49.658Z"
   },
   {
    "duration": 60,
    "start_time": "2021-06-28T13:17:49.701Z"
   },
   {
    "duration": 4,
    "start_time": "2021-06-28T13:17:49.766Z"
   },
   {
    "duration": 141,
    "start_time": "2021-06-28T13:17:49.774Z"
   },
   {
    "duration": 8,
    "start_time": "2021-06-28T13:17:50.002Z"
   },
   {
    "duration": 188,
    "start_time": "2021-06-28T13:17:50.013Z"
   },
   {
    "duration": 110,
    "start_time": "2021-06-28T13:17:50.205Z"
   },
   {
    "duration": 183,
    "start_time": "2021-06-28T13:17:50.319Z"
   },
   {
    "duration": 104,
    "start_time": "2021-06-28T13:17:50.506Z"
   },
   {
    "duration": 90,
    "start_time": "2021-06-28T13:17:50.614Z"
   },
   {
    "duration": 97,
    "start_time": "2021-06-28T13:17:50.708Z"
   },
   {
    "duration": 19,
    "start_time": "2021-06-28T13:17:50.807Z"
   },
   {
    "duration": 17,
    "start_time": "2021-06-28T13:17:50.828Z"
   },
   {
    "duration": 4,
    "start_time": "2021-06-28T13:17:50.847Z"
   },
   {
    "duration": 49,
    "start_time": "2021-06-28T13:17:50.853Z"
   },
   {
    "duration": 10,
    "start_time": "2021-06-28T13:17:50.905Z"
   },
   {
    "duration": 14,
    "start_time": "2021-06-28T13:17:50.917Z"
   },
   {
    "duration": 17,
    "start_time": "2021-06-28T13:17:50.934Z"
   },
   {
    "duration": 10,
    "start_time": "2021-06-28T13:17:50.954Z"
   },
   {
    "duration": 35,
    "start_time": "2021-06-28T13:17:50.967Z"
   },
   {
    "duration": 6,
    "start_time": "2021-06-28T13:17:51.005Z"
   },
   {
    "duration": 8,
    "start_time": "2021-06-28T13:17:51.013Z"
   },
   {
    "duration": 20,
    "start_time": "2021-06-28T13:17:51.023Z"
   },
   {
    "duration": 3944,
    "start_time": "2021-06-28T13:17:51.046Z"
   },
   {
    "duration": 73,
    "start_time": "2021-06-28T13:17:54.992Z"
   },
   {
    "duration": 3905,
    "start_time": "2021-06-28T13:17:55.067Z"
   },
   {
    "duration": 38,
    "start_time": "2021-06-28T13:17:58.974Z"
   },
   {
    "duration": 4919,
    "start_time": "2021-06-28T13:17:59.015Z"
   },
   {
    "duration": 85,
    "start_time": "2021-06-28T13:18:03.937Z"
   }
  ],
  "kernelspec": {
   "display_name": "Python 3",
   "language": "python",
   "name": "python3"
  },
  "language_info": {
   "codemirror_mode": {
    "name": "ipython",
    "version": 3
   },
   "file_extension": ".py",
   "mimetype": "text/x-python",
   "name": "python",
   "nbconvert_exporter": "python",
   "pygments_lexer": "ipython3",
   "version": "3.8.8"
  },
  "toc": {
   "base_numbering": 1,
   "nav_menu": {},
   "number_sections": true,
   "sideBar": true,
   "skip_h1_title": true,
   "title_cell": "Table of Contents",
   "title_sidebar": "Contents",
   "toc_cell": false,
   "toc_position": {},
   "toc_section_display": true,
   "toc_window_display": true
  }
 },
 "nbformat": 4,
 "nbformat_minor": 2
}
