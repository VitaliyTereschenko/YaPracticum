{
 "cells": [
  {
   "cell_type": "markdown",
   "metadata": {},
   "source": [
    "# Определение стоимости автомобилей"
   ]
  },
  {
   "cell_type": "markdown",
   "metadata": {},
   "source": [
    "\n",
    "\n",
    "Сервис по продаже автомобилей с пробегом «Не бит, не крашен» разрабатывает приложение для привлечения новых клиентов. В нём можно быстро узнать рыночную стоимость своего автомобиля. В вашем распоряжении исторические данные, нужно построить модель для определения стоимости. \n",
    "    \n",
    "<b>Заказчику важны:</b>\n",
    "    \n",
    "- качество предсказания;\n",
    "- скорость предсказания;\n",
    "- время обучения.\n",
    "\n",
    "<b>Признаки:</b>\n",
    "\n",
    "- DateCrawled — дата скачивания анкеты из базы\n",
    "- VehicleType — тип автомобильного кузова\n",
    "- RegistrationYear — год регистрации автомобиля\n",
    "- Gearbox — тип коробки передач\n",
    "- Power — мощность (л. с.)\n",
    "- Model — модель автомобиля\n",
    "- Kilometer — пробег (км)\n",
    "- RegistrationMonth — месяц регистрации автомобиля\n",
    "- FuelType — тип топлива\n",
    "- Brand — марка автомобиля\n",
    "- NotRepaired — была машина в ремонте или нет\n",
    "- DateCreated — дата создания анкеты\n",
    "- NumberOfPictures — количество фотографий автомобиля\n",
    "- PostalCode — почтовый индекс владельца анкеты (пользователя)\n",
    "- LastSeen — дата последней активности пользователя\n",
    "    \n",
    "<b>Целевой признак:</b>\n",
    "\n",
    "- Price — цена (евро)\n",
    "\n"
   ]
  },
  {
   "cell_type": "markdown",
   "metadata": {},
   "source": [
    "## Подготовка данных"
   ]
  },
  {
   "cell_type": "code",
   "execution_count": 1,
   "metadata": {},
   "outputs": [],
   "source": [
    "import pandas as pd\n",
    "import numpy as np\n",
    "import matplotlib.pyplot as plt\n",
    "import lightgbm as lgb\n",
    "pd.options.mode.chained_assignment = None\n",
    "from sklearn.ensemble import RandomForestRegressor\n",
    "from sklearn.linear_model import LinearRegression\n",
    "from sklearn.tree import DecisionTreeRegressor\n",
    "from sklearn.preprocessing import StandardScaler \n",
    "from sklearn.model_selection import train_test_split\n",
    "from sklearn.metrics import mean_squared_error\n",
    "from sklearn.dummy import DummyRegressor\n",
    "import seaborn as sns"
   ]
  },
  {
   "cell_type": "markdown",
   "metadata": {},
   "source": [
    "<div style=\"border-radius: 15px; border: 1px solid grey; padding: 15px;\">\n",
    "Загружаем данные.\n",
    "</div>"
   ]
  },
  {
   "cell_type": "code",
   "execution_count": 2,
   "metadata": {},
   "outputs": [],
   "source": [
    "df = pd.read_csv('/autos.csv')"
   ]
  },
  {
   "cell_type": "markdown",
   "metadata": {},
   "source": [
    "<div style=\"border-radius: 15px; border: 1px solid grey; padding: 15px;\">\n",
    "Теперь проверим содержимое.\n",
    "</div>"
   ]
  },
  {
   "cell_type": "code",
   "execution_count": 3,
   "metadata": {},
   "outputs": [
    {
     "name": "stdout",
     "output_type": "stream",
     "text": [
      "<class 'pandas.core.frame.DataFrame'>\n",
      "RangeIndex: 354369 entries, 0 to 354368\n",
      "Data columns (total 16 columns):\n",
      "DateCrawled          354369 non-null object\n",
      "Price                354369 non-null int64\n",
      "VehicleType          316879 non-null object\n",
      "RegistrationYear     354369 non-null int64\n",
      "Gearbox              334536 non-null object\n",
      "Power                354369 non-null int64\n",
      "Model                334664 non-null object\n",
      "Kilometer            354369 non-null int64\n",
      "RegistrationMonth    354369 non-null int64\n",
      "FuelType             321474 non-null object\n",
      "Brand                354369 non-null object\n",
      "NotRepaired          283215 non-null object\n",
      "DateCreated          354369 non-null object\n",
      "NumberOfPictures     354369 non-null int64\n",
      "PostalCode           354369 non-null int64\n",
      "LastSeen             354369 non-null object\n",
      "dtypes: int64(7), object(9)\n",
      "memory usage: 43.3+ MB\n"
     ]
    }
   ],
   "source": [
    "df.info()"
   ]
  },
  {
   "cell_type": "markdown",
   "metadata": {},
   "source": [
    "<div style=\"border-radius: 15px; border: 1px solid grey; padding: 15px;\">\n",
    "16 столбцов данных, присутствуют пропуски, но начнем с переименования признаков.\n",
    "</div>"
   ]
  },
  {
   "cell_type": "code",
   "execution_count": 4,
   "metadata": {},
   "outputs": [],
   "source": [
    "columns = df.columns.str.lower()"
   ]
  },
  {
   "cell_type": "code",
   "execution_count": 5,
   "metadata": {},
   "outputs": [
    {
     "data": {
      "text/plain": [
       "Index(['datecrawled', 'price', 'vehicletype', 'registrationyear', 'gearbox',\n",
       "       'power', 'model', 'kilometer', 'registrationmonth', 'fueltype', 'brand',\n",
       "       'notrepaired', 'datecreated', 'numberofpictures', 'postalcode',\n",
       "       'lastseen'],\n",
       "      dtype='object')"
      ]
     },
     "execution_count": 5,
     "metadata": {},
     "output_type": "execute_result"
    }
   ],
   "source": [
    "columns"
   ]
  },
  {
   "cell_type": "code",
   "execution_count": 6,
   "metadata": {},
   "outputs": [],
   "source": [
    "columns = ['date_crawled', 'price', 'vehicle_type', 'registration_year', 'gearbox',\n",
    "       'power', 'model', 'kilometer', 'registration_month', 'fuel_type', 'brand',\n",
    "       'not_repaired', 'date_created', 'number_of_pictures', 'postalcode',\n",
    "       'last_seen']"
   ]
  },
  {
   "cell_type": "code",
   "execution_count": 7,
   "metadata": {},
   "outputs": [],
   "source": [
    "df.columns = columns"
   ]
  },
  {
   "cell_type": "code",
   "execution_count": 8,
   "metadata": {},
   "outputs": [
    {
     "name": "stdout",
     "output_type": "stream",
     "text": [
      "<class 'pandas.core.frame.DataFrame'>\n",
      "RangeIndex: 354369 entries, 0 to 354368\n",
      "Data columns (total 16 columns):\n",
      "date_crawled          354369 non-null object\n",
      "price                 354369 non-null int64\n",
      "vehicle_type          316879 non-null object\n",
      "registration_year     354369 non-null int64\n",
      "gearbox               334536 non-null object\n",
      "power                 354369 non-null int64\n",
      "model                 334664 non-null object\n",
      "kilometer             354369 non-null int64\n",
      "registration_month    354369 non-null int64\n",
      "fuel_type             321474 non-null object\n",
      "brand                 354369 non-null object\n",
      "not_repaired          283215 non-null object\n",
      "date_created          354369 non-null object\n",
      "number_of_pictures    354369 non-null int64\n",
      "postalcode            354369 non-null int64\n",
      "last_seen             354369 non-null object\n",
      "dtypes: int64(7), object(9)\n",
      "memory usage: 43.3+ MB\n"
     ]
    }
   ],
   "source": [
    "df.info()"
   ]
  },
  {
   "cell_type": "markdown",
   "metadata": {},
   "source": [
    "<div style=\"border-radius: 15px; border: 1px solid grey; padding: 15px;\">\n",
    "Так то лучше, переходим непосредственно к работе с данными.\n",
    "</div>"
   ]
  },
  {
   "cell_type": "markdown",
   "metadata": {},
   "source": [
    "### Убираем лишние и не адекватные данные"
   ]
  },
  {
   "cell_type": "markdown",
   "metadata": {},
   "source": [
    "<div style=\"border-radius: 15px; border: 1px solid grey; padding: 15px;\">\n",
    "Начнем с проверики чиловых признаков.\n",
    "</div>"
   ]
  },
  {
   "cell_type": "code",
   "execution_count": 9,
   "metadata": {},
   "outputs": [
    {
     "data": {
      "text/html": [
       "<div>\n",
       "<style scoped>\n",
       "    .dataframe tbody tr th:only-of-type {\n",
       "        vertical-align: middle;\n",
       "    }\n",
       "\n",
       "    .dataframe tbody tr th {\n",
       "        vertical-align: top;\n",
       "    }\n",
       "\n",
       "    .dataframe thead th {\n",
       "        text-align: right;\n",
       "    }\n",
       "</style>\n",
       "<table border=\"1\" class=\"dataframe\">\n",
       "  <thead>\n",
       "    <tr style=\"text-align: right;\">\n",
       "      <th></th>\n",
       "      <th>price</th>\n",
       "      <th>registration_year</th>\n",
       "      <th>power</th>\n",
       "      <th>kilometer</th>\n",
       "      <th>registration_month</th>\n",
       "      <th>number_of_pictures</th>\n",
       "      <th>postalcode</th>\n",
       "    </tr>\n",
       "  </thead>\n",
       "  <tbody>\n",
       "    <tr>\n",
       "      <td>count</td>\n",
       "      <td>354369.000000</td>\n",
       "      <td>354369.000000</td>\n",
       "      <td>354369.000000</td>\n",
       "      <td>354369.000000</td>\n",
       "      <td>354369.000000</td>\n",
       "      <td>354369.0</td>\n",
       "      <td>354369.000000</td>\n",
       "    </tr>\n",
       "    <tr>\n",
       "      <td>mean</td>\n",
       "      <td>4416.656776</td>\n",
       "      <td>2004.234448</td>\n",
       "      <td>110.094337</td>\n",
       "      <td>128211.172535</td>\n",
       "      <td>5.714645</td>\n",
       "      <td>0.0</td>\n",
       "      <td>50508.689087</td>\n",
       "    </tr>\n",
       "    <tr>\n",
       "      <td>std</td>\n",
       "      <td>4514.158514</td>\n",
       "      <td>90.227958</td>\n",
       "      <td>189.850405</td>\n",
       "      <td>37905.341530</td>\n",
       "      <td>3.726421</td>\n",
       "      <td>0.0</td>\n",
       "      <td>25783.096248</td>\n",
       "    </tr>\n",
       "    <tr>\n",
       "      <td>min</td>\n",
       "      <td>0.000000</td>\n",
       "      <td>1000.000000</td>\n",
       "      <td>0.000000</td>\n",
       "      <td>5000.000000</td>\n",
       "      <td>0.000000</td>\n",
       "      <td>0.0</td>\n",
       "      <td>1067.000000</td>\n",
       "    </tr>\n",
       "    <tr>\n",
       "      <td>25%</td>\n",
       "      <td>1050.000000</td>\n",
       "      <td>1999.000000</td>\n",
       "      <td>69.000000</td>\n",
       "      <td>125000.000000</td>\n",
       "      <td>3.000000</td>\n",
       "      <td>0.0</td>\n",
       "      <td>30165.000000</td>\n",
       "    </tr>\n",
       "    <tr>\n",
       "      <td>50%</td>\n",
       "      <td>2700.000000</td>\n",
       "      <td>2003.000000</td>\n",
       "      <td>105.000000</td>\n",
       "      <td>150000.000000</td>\n",
       "      <td>6.000000</td>\n",
       "      <td>0.0</td>\n",
       "      <td>49413.000000</td>\n",
       "    </tr>\n",
       "    <tr>\n",
       "      <td>75%</td>\n",
       "      <td>6400.000000</td>\n",
       "      <td>2008.000000</td>\n",
       "      <td>143.000000</td>\n",
       "      <td>150000.000000</td>\n",
       "      <td>9.000000</td>\n",
       "      <td>0.0</td>\n",
       "      <td>71083.000000</td>\n",
       "    </tr>\n",
       "    <tr>\n",
       "      <td>max</td>\n",
       "      <td>20000.000000</td>\n",
       "      <td>9999.000000</td>\n",
       "      <td>20000.000000</td>\n",
       "      <td>150000.000000</td>\n",
       "      <td>12.000000</td>\n",
       "      <td>0.0</td>\n",
       "      <td>99998.000000</td>\n",
       "    </tr>\n",
       "  </tbody>\n",
       "</table>\n",
       "</div>"
      ],
      "text/plain": [
       "               price  registration_year          power      kilometer  \\\n",
       "count  354369.000000      354369.000000  354369.000000  354369.000000   \n",
       "mean     4416.656776        2004.234448     110.094337  128211.172535   \n",
       "std      4514.158514          90.227958     189.850405   37905.341530   \n",
       "min         0.000000        1000.000000       0.000000    5000.000000   \n",
       "25%      1050.000000        1999.000000      69.000000  125000.000000   \n",
       "50%      2700.000000        2003.000000     105.000000  150000.000000   \n",
       "75%      6400.000000        2008.000000     143.000000  150000.000000   \n",
       "max     20000.000000        9999.000000   20000.000000  150000.000000   \n",
       "\n",
       "       registration_month  number_of_pictures     postalcode  \n",
       "count       354369.000000            354369.0  354369.000000  \n",
       "mean             5.714645                 0.0   50508.689087  \n",
       "std              3.726421                 0.0   25783.096248  \n",
       "min              0.000000                 0.0    1067.000000  \n",
       "25%              3.000000                 0.0   30165.000000  \n",
       "50%              6.000000                 0.0   49413.000000  \n",
       "75%              9.000000                 0.0   71083.000000  \n",
       "max             12.000000                 0.0   99998.000000  "
      ]
     },
     "execution_count": 9,
     "metadata": {},
     "output_type": "execute_result"
    }
   ],
   "source": [
    "df.describe()"
   ]
  },
  {
   "cell_type": "markdown",
   "metadata": {},
   "source": [
    "####  Признак количества фотографий и Дата скачивания анкеты из базы"
   ]
  },
  {
   "cell_type": "markdown",
   "metadata": {},
   "source": [
    "<div style=\"border-radius: 15px; border: 1px solid grey; padding: 15px;\">\n",
    "Признак количества фотографий есть, а вот данных в столбце нет, столбец уберем, а в реальной задаче нужно проверить выгрузку данных. Нужно понять почему данных нет, так как эти данные действительно могут быть важным признаком.\n",
    "</div>"
   ]
  },
  {
   "cell_type": "code",
   "execution_count": 10,
   "metadata": {},
   "outputs": [
    {
     "data": {
      "text/plain": [
       "0    354369\n",
       "Name: number_of_pictures, dtype: int64"
      ]
     },
     "execution_count": 10,
     "metadata": {},
     "output_type": "execute_result"
    }
   ],
   "source": [
    "df['number_of_pictures'].value_counts()"
   ]
  },
  {
   "cell_type": "markdown",
   "metadata": {},
   "source": [
    "<div style=\"border-radius: 15px; border: 1px solid grey; padding: 15px;\">\n",
    "Дата скачивания анкеты из базы 'date_crawled' не может быть признаком определяющим цену автомобиля, этот признак так же отбросим. \n",
    "</div>"
   ]
  },
  {
   "cell_type": "code",
   "execution_count": 11,
   "metadata": {},
   "outputs": [],
   "source": [
    "df = df.drop(['date_crawled', 'number_of_pictures'], axis=1)"
   ]
  },
  {
   "cell_type": "markdown",
   "metadata": {},
   "source": [
    "#### Целевой признак Цены"
   ]
  },
  {
   "cell_type": "markdown",
   "metadata": {},
   "source": [
    "<div style=\"border-radius: 15px; border: 1px solid grey; padding: 15px;\">\n",
    "Пришло вермя целевого признака цены.\n",
    "</div>"
   ]
  },
  {
   "cell_type": "code",
   "execution_count": 12,
   "metadata": {},
   "outputs": [
    {
     "data": {
      "text/plain": [
       "0        10772\n",
       "1         1189\n",
       "2           12\n",
       "3            8\n",
       "4            1\n",
       "         ...  \n",
       "19995       10\n",
       "19997        1\n",
       "19998        6\n",
       "19999      278\n",
       "20000      268\n",
       "Name: price, Length: 3731, dtype: int64"
      ]
     },
     "execution_count": 12,
     "metadata": {},
     "output_type": "execute_result"
    }
   ],
   "source": [
    "df['price'].value_counts().sort_index()"
   ]
  },
  {
   "cell_type": "code",
   "execution_count": 13,
   "metadata": {},
   "outputs": [
    {
     "data": {
      "text/plain": [
       "0"
      ]
     },
     "execution_count": 13,
     "metadata": {},
     "output_type": "execute_result"
    }
   ],
   "source": [
    "df['price'].isna().sum()"
   ]
  },
  {
   "cell_type": "markdown",
   "metadata": {},
   "source": [
    "<div style=\"border-radius: 15px; border: 1px solid grey; padding: 15px;\">\n",
    "Транспортное средство с ценой в 100 евро имеет место быть, но вот ТС с ценой ниже уже крайне мало вероятный сценарий, очень похоже на ошибку или на то, что цена намеренно скрывается продавцом. Отбросим строки цены в которых мене 100 евро, прогнозировать их не вижу смысла.\n",
    "</div>"
   ]
  },
  {
   "cell_type": "code",
   "execution_count": 14,
   "metadata": {},
   "outputs": [
    {
     "name": "stdout",
     "output_type": "stream",
     "text": [
      "Количество строк с ценой ниже 100 евро: 13314\n"
     ]
    }
   ],
   "source": [
    "print('Количество строк с ценой ниже 100 евро:', df.loc[df['price'] < 100]['price'].count()) "
   ]
  },
  {
   "cell_type": "code",
   "execution_count": 15,
   "metadata": {},
   "outputs": [],
   "source": [
    "df = df.loc[df['price'] > 100]"
   ]
  },
  {
   "cell_type": "code",
   "execution_count": 16,
   "metadata": {
    "scrolled": true
   },
   "outputs": [
    {
     "name": "stdout",
     "output_type": "stream",
     "text": [
      "<class 'pandas.core.frame.DataFrame'>\n",
      "Int64Index: 340024 entries, 0 to 354368\n",
      "Data columns (total 14 columns):\n",
      "price                 340024 non-null int64\n",
      "vehicle_type          307773 non-null object\n",
      "registration_year     340024 non-null int64\n",
      "gearbox               323939 non-null object\n",
      "power                 340024 non-null int64\n",
      "model                 323135 non-null object\n",
      "kilometer             340024 non-null int64\n",
      "registration_month    340024 non-null int64\n",
      "fuel_type             312020 non-null object\n",
      "brand                 340024 non-null object\n",
      "not_repaired          276157 non-null object\n",
      "date_created          340024 non-null object\n",
      "postalcode            340024 non-null int64\n",
      "last_seen             340024 non-null object\n",
      "dtypes: int64(6), object(8)\n",
      "memory usage: 38.9+ MB\n"
     ]
    }
   ],
   "source": [
    "df.info()"
   ]
  },
  {
   "cell_type": "markdown",
   "metadata": {},
   "source": [
    "#### Признак Год регистрации"
   ]
  },
  {
   "cell_type": "code",
   "execution_count": 17,
   "metadata": {},
   "outputs": [
    {
     "data": {
      "text/plain": [
       "2000    22496\n",
       "1999    21780\n",
       "2005    21341\n",
       "2006    19639\n",
       "2001    19550\n",
       "        ...  \n",
       "1931        1\n",
       "1927        1\n",
       "1925        1\n",
       "3200        1\n",
       "4100        1\n",
       "Name: registration_year, Length: 136, dtype: int64"
      ]
     },
     "execution_count": 17,
     "metadata": {},
     "output_type": "execute_result"
    }
   ],
   "source": [
    "df['registration_year'].value_counts()"
   ]
  },
  {
   "cell_type": "code",
   "execution_count": 18,
   "metadata": {},
   "outputs": [
    {
     "name": "stdout",
     "output_type": "stream",
     "text": [
      "Количество строк с очевидно не корректным годом регисрации: 71\n"
     ]
    }
   ],
   "source": [
    "print('Количество строк с очевидно не корректным годом регисрации:',\n",
    "      df.loc[(1900 < df['registration_year']) & (df['registration_year'] > 2021)]['registration_year'].count())"
   ]
  },
  {
   "cell_type": "code",
   "execution_count": 19,
   "metadata": {},
   "outputs": [],
   "source": [
    "df = df.loc[(1900 < df['registration_year']) & (df['registration_year'] < 2021)]"
   ]
  },
  {
   "cell_type": "code",
   "execution_count": 20,
   "metadata": {
    "scrolled": true
   },
   "outputs": [
    {
     "data": {
      "text/html": [
       "<div>\n",
       "<style scoped>\n",
       "    .dataframe tbody tr th:only-of-type {\n",
       "        vertical-align: middle;\n",
       "    }\n",
       "\n",
       "    .dataframe tbody tr th {\n",
       "        vertical-align: top;\n",
       "    }\n",
       "\n",
       "    .dataframe thead th {\n",
       "        text-align: right;\n",
       "    }\n",
       "</style>\n",
       "<table border=\"1\" class=\"dataframe\">\n",
       "  <thead>\n",
       "    <tr style=\"text-align: right;\">\n",
       "      <th></th>\n",
       "      <th>price</th>\n",
       "      <th>registration_year</th>\n",
       "      <th>power</th>\n",
       "      <th>kilometer</th>\n",
       "      <th>registration_month</th>\n",
       "      <th>postalcode</th>\n",
       "    </tr>\n",
       "  </thead>\n",
       "  <tbody>\n",
       "    <tr>\n",
       "      <td>count</td>\n",
       "      <td>339913.000000</td>\n",
       "      <td>339913.000000</td>\n",
       "      <td>339913.000000</td>\n",
       "      <td>339913.000000</td>\n",
       "      <td>339913.000000</td>\n",
       "      <td>339913.000000</td>\n",
       "    </tr>\n",
       "    <tr>\n",
       "      <td>mean</td>\n",
       "      <td>4602.793244</td>\n",
       "      <td>2003.223860</td>\n",
       "      <td>111.588401</td>\n",
       "      <td>128539.626316</td>\n",
       "      <td>5.807607</td>\n",
       "      <td>50705.652517</td>\n",
       "    </tr>\n",
       "    <tr>\n",
       "      <td>std</td>\n",
       "      <td>4514.789534</td>\n",
       "      <td>7.305211</td>\n",
       "      <td>188.434592</td>\n",
       "      <td>37156.003020</td>\n",
       "      <td>3.685643</td>\n",
       "      <td>25721.592815</td>\n",
       "    </tr>\n",
       "    <tr>\n",
       "      <td>min</td>\n",
       "      <td>101.000000</td>\n",
       "      <td>1910.000000</td>\n",
       "      <td>0.000000</td>\n",
       "      <td>5000.000000</td>\n",
       "      <td>0.000000</td>\n",
       "      <td>1067.000000</td>\n",
       "    </tr>\n",
       "    <tr>\n",
       "      <td>25%</td>\n",
       "      <td>1200.000000</td>\n",
       "      <td>1999.000000</td>\n",
       "      <td>70.000000</td>\n",
       "      <td>125000.000000</td>\n",
       "      <td>3.000000</td>\n",
       "      <td>30455.000000</td>\n",
       "    </tr>\n",
       "    <tr>\n",
       "      <td>50%</td>\n",
       "      <td>2900.000000</td>\n",
       "      <td>2003.000000</td>\n",
       "      <td>105.000000</td>\n",
       "      <td>150000.000000</td>\n",
       "      <td>6.000000</td>\n",
       "      <td>49536.000000</td>\n",
       "    </tr>\n",
       "    <tr>\n",
       "      <td>75%</td>\n",
       "      <td>6500.000000</td>\n",
       "      <td>2008.000000</td>\n",
       "      <td>143.000000</td>\n",
       "      <td>150000.000000</td>\n",
       "      <td>9.000000</td>\n",
       "      <td>71229.000000</td>\n",
       "    </tr>\n",
       "    <tr>\n",
       "      <td>max</td>\n",
       "      <td>20000.000000</td>\n",
       "      <td>2019.000000</td>\n",
       "      <td>20000.000000</td>\n",
       "      <td>150000.000000</td>\n",
       "      <td>12.000000</td>\n",
       "      <td>99998.000000</td>\n",
       "    </tr>\n",
       "  </tbody>\n",
       "</table>\n",
       "</div>"
      ],
      "text/plain": [
       "               price  registration_year          power      kilometer  \\\n",
       "count  339913.000000      339913.000000  339913.000000  339913.000000   \n",
       "mean     4602.793244        2003.223860     111.588401  128539.626316   \n",
       "std      4514.789534           7.305211     188.434592   37156.003020   \n",
       "min       101.000000        1910.000000       0.000000    5000.000000   \n",
       "25%      1200.000000        1999.000000      70.000000  125000.000000   \n",
       "50%      2900.000000        2003.000000     105.000000  150000.000000   \n",
       "75%      6500.000000        2008.000000     143.000000  150000.000000   \n",
       "max     20000.000000        2019.000000   20000.000000  150000.000000   \n",
       "\n",
       "       registration_month     postalcode  \n",
       "count       339913.000000  339913.000000  \n",
       "mean             5.807607   50705.652517  \n",
       "std              3.685643   25721.592815  \n",
       "min              0.000000    1067.000000  \n",
       "25%              3.000000   30455.000000  \n",
       "50%              6.000000   49536.000000  \n",
       "75%              9.000000   71229.000000  \n",
       "max             12.000000   99998.000000  "
      ]
     },
     "execution_count": 20,
     "metadata": {},
     "output_type": "execute_result"
    }
   ],
   "source": [
    "df.describe()"
   ]
  },
  {
   "cell_type": "markdown",
   "metadata": {},
   "source": [
    "#### Признак Месяц регистрации"
   ]
  },
  {
   "cell_type": "code",
   "execution_count": 21,
   "metadata": {},
   "outputs": [
    {
     "data": {
      "text/plain": [
       "3     33622\n",
       "0     31094\n",
       "6     30665\n",
       "4     28510\n",
       "5     28337\n",
       "7     26525\n",
       "10    25494\n",
       "11    23657\n",
       "12    23625\n",
       "9     23256\n",
       "1     22438\n",
       "8     22006\n",
       "2     20684\n",
       "Name: registration_month, dtype: int64"
      ]
     },
     "execution_count": 21,
     "metadata": {},
     "output_type": "execute_result"
    }
   ],
   "source": [
    "df['registration_month'].value_counts()"
   ]
  },
  {
   "cell_type": "markdown",
   "metadata": {},
   "source": [
    "<div style=\"border-radius: 15px; border: 1px solid grey; padding: 15px;\">\n",
    "Признаке месяца регистрации нет пропусков, но есть 13-ый месяц за порядковым номером 0, при том что 12-ый месяц так же присутсвует, и не дает нам воможности предположить, что номерация сдвинута на еденицу и начинается с 0. Удалить ~33 тысячи записей счтиаю расточительным, поэтому превратим пока 0 в пропуски, а потом заполним эти пропуски на соответствующем шаге.\n",
    "</div>"
   ]
  },
  {
   "cell_type": "code",
   "execution_count": 22,
   "metadata": {},
   "outputs": [],
   "source": [
    "df.loc[df['registration_month'] == 0, ['registration_month']] = np.nan"
   ]
  },
  {
   "cell_type": "code",
   "execution_count": 23,
   "metadata": {
    "scrolled": true
   },
   "outputs": [
    {
     "data": {
      "text/plain": [
       "3.0     33622\n",
       "6.0     30665\n",
       "4.0     28510\n",
       "5.0     28337\n",
       "7.0     26525\n",
       "10.0    25494\n",
       "11.0    23657\n",
       "12.0    23625\n",
       "9.0     23256\n",
       "1.0     22438\n",
       "8.0     22006\n",
       "2.0     20684\n",
       "Name: registration_month, dtype: int64"
      ]
     },
     "execution_count": 23,
     "metadata": {},
     "output_type": "execute_result"
    }
   ],
   "source": [
    "df['registration_month'].value_counts()"
   ]
  },
  {
   "cell_type": "markdown",
   "metadata": {},
   "source": [
    "### Заполнение пропусков"
   ]
  },
  {
   "cell_type": "markdown",
   "metadata": {},
   "source": [
    "#### Заполнение признака Модель"
   ]
  },
  {
   "cell_type": "markdown",
   "metadata": {},
   "source": [
    "<div style=\"border-radius: 15px; border: 1px solid grey; padding: 15px;\">\n",
    "Логика основанная на опыте подсказывает, что первыми по важности являются признаки марки и модели автомобиля. В марках пропусков нет, а вот в моделях пропуски присутствуют.\n",
    "</div>"
   ]
  },
  {
   "cell_type": "code",
   "execution_count": 24,
   "metadata": {},
   "outputs": [
    {
     "name": "stdout",
     "output_type": "stream",
     "text": [
      "<class 'pandas.core.frame.DataFrame'>\n",
      "Int64Index: 339913 entries, 0 to 354368\n",
      "Data columns (total 14 columns):\n",
      "price                 339913 non-null int64\n",
      "vehicle_type          307773 non-null object\n",
      "registration_year     339913 non-null int64\n",
      "gearbox               323913 non-null object\n",
      "power                 339913 non-null int64\n",
      "model                 323071 non-null object\n",
      "kilometer             339913 non-null int64\n",
      "registration_month    308819 non-null float64\n",
      "fuel_type             311989 non-null object\n",
      "brand                 339913 non-null object\n",
      "not_repaired          276138 non-null object\n",
      "date_created          339913 non-null object\n",
      "postalcode            339913 non-null int64\n",
      "last_seen             339913 non-null object\n",
      "dtypes: float64(1), int64(5), object(8)\n",
      "memory usage: 38.9+ MB\n"
     ]
    }
   ],
   "source": [
    "df.info()"
   ]
  },
  {
   "cell_type": "markdown",
   "metadata": {},
   "source": [
    "<div style=\"border-radius: 15px; border: 1px solid grey; padding: 15px;\">\n",
    "В столбце модели ~17 тысяч пропусков, довольно много, даже для нашего датасета. Постараемся сохранить данные из этих строк. Для этого заполним пропуски. Для этого посмотрим насколько строко классифицированы автомобили. \n",
    "</div>"
   ]
  },
  {
   "cell_type": "code",
   "execution_count": 25,
   "metadata": {
    "scrolled": true
   },
   "outputs": [
    {
     "name": "stdout",
     "output_type": "stream",
     "text": [
      "brand       model   vehicle_type\n",
      "alfa_romeo  145     coupe             2\n",
      "                    other             1\n",
      "                    sedan            12\n",
      "                    small            19\n",
      "            147     coupe            26\n",
      "                    other             6\n",
      "                    sedan           358\n",
      "                    small            93\n",
      "                    wagon             2\n",
      "            156     coupe             3\n",
      "                    other             1\n",
      "                    sedan           265\n",
      "                    small             2\n",
      "                    wagon           281\n",
      "            159     sedan            55\n",
      "                    wagon           143\n",
      "            other   convertible       1\n",
      "                    coupe           178\n",
      "                    other             4\n",
      "                    sedan           179\n",
      "                    small           114\n",
      "                    wagon             6\n",
      "            spider  convertible     176\n",
      "                    coupe             1\n",
      "audi        100     convertible       1\n",
      "                    coupe             2\n",
      "                    sedan           263\n",
      "                    wagon           103\n",
      "            200     convertible       1\n",
      "                    sedan            15\n",
      "                    wagon             1\n",
      "            80      convertible     156\n",
      "                    coupe            49\n",
      "                    other             8\n",
      "                    sedan           946\n",
      "                    small             2\n",
      "                    wagon           200\n",
      "            90      convertible       1\n",
      "                    coupe             6\n",
      "                    sedan            71\n",
      "                    wagon             1\n",
      "            a1      coupe             1\n",
      "                    sedan            45\n",
      "                    small           526\n",
      "            a2      bus               6\n",
      "                    other             6\n",
      "                    sedan            39\n",
      "                    small           289\n",
      "                    wagon             1\n",
      "            a3      convertible     150\n",
      "Name: model, dtype: int64\n"
     ]
    }
   ],
   "source": [
    "print(df.groupby(['brand', 'model', 'vehicle_type'])['model'].count().head(50))"
   ]
  },
  {
   "cell_type": "markdown",
   "metadata": {},
   "source": [
    "<div style=\"border-radius: 15px; border: 1px solid grey; padding: 15px;\">\n",
    "По данным групировки видно , что в оригинальных данных нет строгой классификации, что кстати должно сказаться на качестве прогноза моделей, в действительности неплохо бы предпринять меры по улучшению ситуации с классификацией.\n",
    "    \n",
    "Для макимального приближеня к вероятным данным мы будем заполнять пропуски воспользовавшись групировкой по основным признакам. Для начала мы возьмем достаточно большое количество ключевых, на мой взгляд, признаков и заполним пропуски методом заполнения последним значением. Далее, по мере уменьшения количества оставшихся пропусков, мы будем делать групировку менее строгой и так заполним все пропуски. \n",
    "</div>"
   ]
  },
  {
   "cell_type": "code",
   "execution_count": 26,
   "metadata": {},
   "outputs": [
    {
     "name": "stdout",
     "output_type": "stream",
     "text": [
      "Пропусков первоначально: 16842\n",
      "Пропусков после 1 шага: 4790\n",
      "Пропусков после 2 шага: 2079\n",
      "Пропусков после 3 шага: 1740\n",
      "Пропусков после 4 шага: 911\n",
      "Пропусков после 5 шага: 0\n"
     ]
    }
   ],
   "source": [
    "print('Пропусков первоначально:', df['model'].isna().sum())\n",
    "df['model'] = df.groupby(['brand', 'vehicle_type', 'registration_year', 'fuel_type', 'gearbox', 'price'])['model'].ffill()\n",
    "df['model'] = df.groupby(['brand', 'vehicle_type', 'registration_year', 'fuel_type', 'gearbox', 'price'])['model'].bfill()\n",
    "print('Пропусков после 1 шага:', df['model'].isna().sum())\n",
    "\n",
    "df['model'] = df.groupby(['brand', 'vehicle_type', 'registration_year', 'fuel_type', 'gearbox'])['model'].ffill()\n",
    "df['model'] = df.groupby(['brand', 'vehicle_type', 'registration_year', 'fuel_type', 'gearbox'])['model'].bfill()\n",
    "print('Пропусков после 2 шага:', df['model'].isna().sum())\n",
    "\n",
    "df['model'] = df.groupby(['brand', 'vehicle_type', 'registration_year', 'fuel_type'])['model'].ffill()\n",
    "df['model'] = df.groupby(['brand', 'vehicle_type', 'registration_year', 'fuel_type'])['model'].bfill()\n",
    "print('Пропусков после 3 шага:', df['model'].isna().sum())\n",
    "\n",
    "df['model'] = df.groupby(['brand', 'vehicle_type', 'registration_year'])['model'].ffill()\n",
    "df['model'] = df.groupby(['brand', 'vehicle_type', 'registration_year'])['model'].bfill()\n",
    "print('Пропусков после 4 шага:', df['model'].isna().sum())\n",
    "\n",
    "df['model'] = df.groupby(['brand', 'vehicle_type'])['model'].ffill()\n",
    "df['model'] = df.groupby(['brand', 'vehicle_type'])['model'].bfill()\n",
    "print('Пропусков после 5 шага:', df['model'].isna().sum())"
   ]
  },
  {
   "cell_type": "markdown",
   "metadata": {},
   "source": [
    "<div style=\"border-radius: 15px; border: 1px solid grey; padding: 15px;\">\n",
    "Пропуски заполнены. Так же можно обратить внимание, что был добавлен метод заполнения значением следующим за пропусками, так как в групировке пропуски оказывались в первой строке, но при этом они попадали по критериям в группу и заполнение их значением из этой группы считаю даиболее логичным.\n",
    "</div>"
   ]
  },
  {
   "cell_type": "code",
   "execution_count": 27,
   "metadata": {
    "scrolled": true
   },
   "outputs": [
    {
     "name": "stdout",
     "output_type": "stream",
     "text": [
      "<class 'pandas.core.frame.DataFrame'>\n",
      "Int64Index: 339913 entries, 0 to 354368\n",
      "Data columns (total 14 columns):\n",
      "price                 339913 non-null int64\n",
      "vehicle_type          307773 non-null object\n",
      "registration_year     339913 non-null int64\n",
      "gearbox               323913 non-null object\n",
      "power                 339913 non-null int64\n",
      "model                 339913 non-null object\n",
      "kilometer             339913 non-null int64\n",
      "registration_month    308819 non-null float64\n",
      "fuel_type             311989 non-null object\n",
      "brand                 339913 non-null object\n",
      "not_repaired          276138 non-null object\n",
      "date_created          339913 non-null object\n",
      "postalcode            339913 non-null int64\n",
      "last_seen             339913 non-null object\n",
      "dtypes: float64(1), int64(5), object(8)\n",
      "memory usage: 38.9+ MB\n"
     ]
    }
   ],
   "source": [
    "df.info()"
   ]
  },
  {
   "cell_type": "markdown",
   "metadata": {},
   "source": [
    "#### Заполнение признака Тип кузова"
   ]
  },
  {
   "cell_type": "code",
   "execution_count": 28,
   "metadata": {},
   "outputs": [
    {
     "data": {
      "text/plain": [
       "sedan          88965\n",
       "small          77029\n",
       "wagon          63384\n",
       "bus            28256\n",
       "convertible    19807\n",
       "coupe          15534\n",
       "suv            11758\n",
       "other           3040\n",
       "Name: vehicle_type, dtype: int64"
      ]
     },
     "execution_count": 28,
     "metadata": {},
     "output_type": "execute_result"
    }
   ],
   "source": [
    "df['vehicle_type'].value_counts()"
   ]
  },
  {
   "cell_type": "code",
   "execution_count": 29,
   "metadata": {},
   "outputs": [
    {
     "data": {
      "text/plain": [
       "<matplotlib.axes._subplots.AxesSubplot at 0x7f3556c70cd0>"
      ]
     },
     "execution_count": 29,
     "metadata": {},
     "output_type": "execute_result"
    },
    {
     "data": {
      "image/png": "[encoded data removed]",
      "text/plain": [
       "<Figure size 1152x360 with 1 Axes>"
      ]
     },
     "metadata": {
      "needs_background": "light"
     },
     "output_type": "display_data"
    }
   ],
   "source": [
    "df['vehicle_type'].value_counts().plot(kind='line',\n",
    "        title='Типы кузовов',\n",
    "        grid=True,\n",
    "        figsize=(16,5),\n",
    "        fontsize=15, \n",
    "        )"
   ]
  },
  {
   "cell_type": "code",
   "execution_count": 30,
   "metadata": {},
   "outputs": [
    {
     "data": {
      "text/plain": [
       "32140"
      ]
     },
     "execution_count": 30,
     "metadata": {},
     "output_type": "execute_result"
    }
   ],
   "source": [
    "df['vehicle_type'].isna().sum()"
   ]
  },
  {
   "cell_type": "markdown",
   "metadata": {},
   "source": [
    "<div style=\"border-radius: 15px; border: 1px solid grey; padding: 15px;\">\n",
    "Опять большое колличество пропусков, будем заполнять. Тип кузова с большой вероятностью востанавливается по марке и модели автомобиля. Воспользуемся методом из предыдущего шага и заполним сгрупировав по марке и модели автомобиля. Приведена кривая распределения по типам кузовов, проверим её же полсле заполнения пропусков.\n",
    "</div>"
   ]
  },
  {
   "cell_type": "code",
   "execution_count": 31,
   "metadata": {},
   "outputs": [
    {
     "name": "stdout",
     "output_type": "stream",
     "text": [
      "Пропусков первоначально: 32140\n",
      "Пропусков после 1 шага: 1117\n",
      "Пропусков после 2 шага: 0\n"
     ]
    }
   ],
   "source": [
    "print('Пропусков первоначально:', df['vehicle_type'].isna().sum())\n",
    "df['vehicle_type'] = df.groupby(['brand', 'model'])['vehicle_type'].ffill()\n",
    "df['vehicle_type'] = df.groupby(['brand', 'model'])['vehicle_type'].bfill()\n",
    "print('Пропусков после 1 шага:', df['vehicle_type'].isna().sum())\n",
    "\n",
    "df['vehicle_type'] = df.groupby(['model'])['vehicle_type'].ffill()\n",
    "print('Пропусков после 2 шага:', df['vehicle_type'].isna().sum())"
   ]
  },
  {
   "cell_type": "code",
   "execution_count": 32,
   "metadata": {},
   "outputs": [
    {
     "data": {
      "text/plain": [
       "sedan          98076\n",
       "small          86726\n",
       "wagon          68777\n",
       "bus            31696\n",
       "convertible    21496\n",
       "coupe          17061\n",
       "suv            12534\n",
       "other           3547\n",
       "Name: vehicle_type, dtype: int64"
      ]
     },
     "execution_count": 32,
     "metadata": {},
     "output_type": "execute_result"
    }
   ],
   "source": [
    "df['vehicle_type'].value_counts()"
   ]
  },
  {
   "cell_type": "code",
   "execution_count": 33,
   "metadata": {},
   "outputs": [
    {
     "data": {
      "text/plain": [
       "<matplotlib.axes._subplots.AxesSubplot at 0x7f354f759b50>"
      ]
     },
     "execution_count": 33,
     "metadata": {},
     "output_type": "execute_result"
    },
    {
     "data": {
      "image/png": "[encoded data removed]",
      "text/plain": [
       "<Figure size 1152x360 with 1 Axes>"
      ]
     },
     "metadata": {
      "needs_background": "light"
     },
     "output_type": "display_data"
    }
   ],
   "source": [
    "df['vehicle_type'].value_counts().plot(kind='line',\n",
    "        title='Типы кузовов',\n",
    "        grid=True,\n",
    "        figsize=(16,5),\n",
    "        fontsize=15, \n",
    "        )"
   ]
  },
  {
   "cell_type": "markdown",
   "metadata": {},
   "source": [
    "<div style=\"border-radius: 15px; border: 1px solid grey; padding: 15px;\">\n",
    "Пропуски заполнены, соотношение сохранено - выбросов не появилось.\n",
    "</div>"
   ]
  },
  {
   "cell_type": "code",
   "execution_count": 34,
   "metadata": {},
   "outputs": [
    {
     "name": "stdout",
     "output_type": "stream",
     "text": [
      "<class 'pandas.core.frame.DataFrame'>\n",
      "Int64Index: 339913 entries, 0 to 354368\n",
      "Data columns (total 14 columns):\n",
      "price                 339913 non-null int64\n",
      "vehicle_type          339913 non-null object\n",
      "registration_year     339913 non-null int64\n",
      "gearbox               323913 non-null object\n",
      "power                 339913 non-null int64\n",
      "model                 339913 non-null object\n",
      "kilometer             339913 non-null int64\n",
      "registration_month    308819 non-null float64\n",
      "fuel_type             311989 non-null object\n",
      "brand                 339913 non-null object\n",
      "not_repaired          276138 non-null object\n",
      "date_created          339913 non-null object\n",
      "postalcode            339913 non-null int64\n",
      "last_seen             339913 non-null object\n",
      "dtypes: float64(1), int64(5), object(8)\n",
      "memory usage: 38.9+ MB\n"
     ]
    }
   ],
   "source": [
    "df.info()"
   ]
  },
  {
   "cell_type": "markdown",
   "metadata": {},
   "source": [
    "#### Заполнение признака Коробка передачь"
   ]
  },
  {
   "cell_type": "markdown",
   "metadata": {},
   "source": [
    "<div style=\"border-radius: 15px; border: 1px solid grey; padding: 15px;\">\n",
    "Аналогичным образом поступим с пропусками в признаке коробки передачь.\n",
    "</div>"
   ]
  },
  {
   "cell_type": "code",
   "execution_count": 35,
   "metadata": {},
   "outputs": [
    {
     "name": "stdout",
     "output_type": "stream",
     "text": [
      "Пропусков первоначально: 16000\n",
      "Пропусков после 1 шага: 851\n",
      "Пропусков после 2 шага: 539\n",
      "Пропусков после 3 шага: 137\n",
      "Пропусков после 4 шага: 0\n"
     ]
    }
   ],
   "source": [
    "print('Пропусков первоначально:', df['gearbox'].isna().sum())\n",
    "df['gearbox'] = df.groupby(['brand', 'model', 'power', 'fuel_type'])['gearbox'].ffill()\n",
    "df['gearbox'] = df.groupby(['brand', 'model', 'power', 'fuel_type'])['gearbox'].bfill()\n",
    "print('Пропусков после 1 шага:', df['gearbox'].isna().sum())\n",
    "\n",
    "df['gearbox'] = df.groupby(['brand', 'model', 'power'])['gearbox'].ffill()\n",
    "df['gearbox'] = df.groupby(['brand', 'model', 'power'])['gearbox'].bfill()\n",
    "print('Пропусков после 2 шага:', df['gearbox'].isna().sum())\n",
    "\n",
    "df['gearbox'] = df.groupby(['brand', 'model'])['gearbox'].ffill()\n",
    "df['gearbox'] = df.groupby(['brand', 'model'])['gearbox'].bfill()\n",
    "print('Пропусков после 3 шага:', df['gearbox'].isna().sum())\n",
    "\n",
    "df['gearbox'] = df.groupby(['model'])['gearbox'].ffill()\n",
    "print('Пропусков после 4 шага:', df['gearbox'].isna().sum())"
   ]
  },
  {
   "cell_type": "code",
   "execution_count": 36,
   "metadata": {},
   "outputs": [
    {
     "name": "stdout",
     "output_type": "stream",
     "text": [
      "<class 'pandas.core.frame.DataFrame'>\n",
      "Int64Index: 339913 entries, 0 to 354368\n",
      "Data columns (total 14 columns):\n",
      "price                 339913 non-null int64\n",
      "vehicle_type          339913 non-null object\n",
      "registration_year     339913 non-null int64\n",
      "gearbox               339913 non-null object\n",
      "power                 339913 non-null int64\n",
      "model                 339913 non-null object\n",
      "kilometer             339913 non-null int64\n",
      "registration_month    308819 non-null float64\n",
      "fuel_type             311989 non-null object\n",
      "brand                 339913 non-null object\n",
      "not_repaired          276138 non-null object\n",
      "date_created          339913 non-null object\n",
      "postalcode            339913 non-null int64\n",
      "last_seen             339913 non-null object\n",
      "dtypes: float64(1), int64(5), object(8)\n",
      "memory usage: 38.9+ MB\n"
     ]
    }
   ],
   "source": [
    "df.info()"
   ]
  },
  {
   "cell_type": "markdown",
   "metadata": {},
   "source": [
    "####  Заполнение признака Тип топлива"
   ]
  },
  {
   "cell_type": "markdown",
   "metadata": {},
   "source": [
    "<div style=\"border-radius: 15px; border: 1px solid grey; padding: 15px;\">\n",
    "Тип топлива будем заполнять базируясь на Марке, Модели и Мощьности автомобиля.\n",
    "</div>"
   ]
  },
  {
   "cell_type": "code",
   "execution_count": 37,
   "metadata": {},
   "outputs": [
    {
     "name": "stdout",
     "output_type": "stream",
     "text": [
      "Пропусков первоначально: 27924\n",
      "Пропусков после 1 шага: 3589\n",
      "Пропусков после 2 шага: 1195\n",
      "Пропусков после 3 шага: 0\n"
     ]
    }
   ],
   "source": [
    "print('Пропусков первоначально:', df['fuel_type'].isna().sum())\n",
    "df['fuel_type'] = df.groupby(['brand', 'model', 'power'])['fuel_type'].ffill()\n",
    "df['fuel_type'] = df.groupby(['brand', 'model', 'power'])['fuel_type'].bfill()\n",
    "print('Пропусков после 1 шага:', df['fuel_type'].isna().sum())\n",
    "\n",
    "df['fuel_type'] = df.groupby(['brand', 'model'])['fuel_type'].ffill()\n",
    "df['fuel_type'] = df.groupby(['brand', 'model'])['fuel_type'].bfill()\n",
    "print('Пропусков после 2 шага:', df['fuel_type'].isna().sum())\n",
    "\n",
    "df['fuel_type'] = df.groupby(['model'])['fuel_type'].ffill()\n",
    "print('Пропусков после 3 шага:', df['fuel_type'].isna().sum())"
   ]
  },
  {
   "cell_type": "code",
   "execution_count": 38,
   "metadata": {},
   "outputs": [
    {
     "name": "stdout",
     "output_type": "stream",
     "text": [
      "<class 'pandas.core.frame.DataFrame'>\n",
      "Int64Index: 339913 entries, 0 to 354368\n",
      "Data columns (total 14 columns):\n",
      "price                 339913 non-null int64\n",
      "vehicle_type          339913 non-null object\n",
      "registration_year     339913 non-null int64\n",
      "gearbox               339913 non-null object\n",
      "power                 339913 non-null int64\n",
      "model                 339913 non-null object\n",
      "kilometer             339913 non-null int64\n",
      "registration_month    308819 non-null float64\n",
      "fuel_type             339913 non-null object\n",
      "brand                 339913 non-null object\n",
      "not_repaired          276138 non-null object\n",
      "date_created          339913 non-null object\n",
      "postalcode            339913 non-null int64\n",
      "last_seen             339913 non-null object\n",
      "dtypes: float64(1), int64(5), object(8)\n",
      "memory usage: 38.9+ MB\n"
     ]
    }
   ],
   "source": [
    "df.info()"
   ]
  },
  {
   "cell_type": "markdown",
   "metadata": {},
   "source": []
  },
  {
   "cell_type": "markdown",
   "metadata": {},
   "source": [
    "#### Заполнение признака Не ремонтировалась"
   ]
  },
  {
   "cell_type": "code",
   "execution_count": 39,
   "metadata": {},
   "outputs": [
    {
     "data": {
      "text/plain": [
       "63775"
      ]
     },
     "execution_count": 39,
     "metadata": {},
     "output_type": "execute_result"
    }
   ],
   "source": [
    "df['not_repaired'].isna().sum()"
   ]
  },
  {
   "cell_type": "code",
   "execution_count": 40,
   "metadata": {},
   "outputs": [
    {
     "data": {
      "text/plain": [
       "no     243052\n",
       "yes     33086\n",
       "Name: not_repaired, dtype: int64"
      ]
     },
     "execution_count": 40,
     "metadata": {},
     "output_type": "execute_result"
    }
   ],
   "source": [
    "df['not_repaired'].value_counts()"
   ]
  },
  {
   "cell_type": "code",
   "execution_count": 41,
   "metadata": {},
   "outputs": [
    {
     "name": "stdout",
     "output_type": "stream",
     "text": [
      "Доля отремонтированных: 0.13612724849003505\n"
     ]
    }
   ],
   "source": [
    "print('Доля отремонтированных:', \n",
    "      df.loc[df['not_repaired'] == 'yes']['not_repaired'].count() / df.loc[df['not_repaired'] == 'no']['not_repaired'].count())"
   ]
  },
  {
   "cell_type": "markdown",
   "metadata": {},
   "source": [
    "<div style=\"border-radius: 15px; border: 1px solid grey; padding: 15px;\">\n",
    "Перед заполнением пропусков посчитали долю отремонтированных автомобилей в имеющихся данных. Заполнять будем на основе данных о годе регистрации и пробеге.\n",
    "</div>"
   ]
  },
  {
   "cell_type": "code",
   "execution_count": 42,
   "metadata": {},
   "outputs": [
    {
     "name": "stdout",
     "output_type": "stream",
     "text": [
      "Доля пропусков в признаке Не ремонтировалась 0.18762153845248636\n"
     ]
    }
   ],
   "source": [
    "print('Доля пропусков в признаке Не ремонтировалась', df['not_repaired'].isna().sum() / len(df))"
   ]
  },
  {
   "cell_type": "code",
   "execution_count": 43,
   "metadata": {},
   "outputs": [
    {
     "name": "stdout",
     "output_type": "stream",
     "text": [
      "Пропусков первоначально: 63775\n",
      "Пропусков после 1 шага: 5\n",
      "Пропусков после 2 шага: 0\n"
     ]
    }
   ],
   "source": [
    "print('Пропусков первоначально:', df['not_repaired'].isna().sum())\n",
    "df['not_repaired'] = df.groupby(['registration_year'])['not_repaired'].ffill()\n",
    "df['not_repaired'] = df.groupby(['registration_year'])['not_repaired'].bfill()\n",
    "print('Пропусков после 1 шага:', df['not_repaired'].isna().sum())\n",
    "\n",
    "df['not_repaired'] = df.groupby(['kilometer'])['not_repaired'].ffill()\n",
    "df['not_repaired'] = df.groupby(['kilometer'])['not_repaired'].bfill()\n",
    "print('Пропусков после 2 шага:', df['not_repaired'].isna().sum())"
   ]
  },
  {
   "cell_type": "code",
   "execution_count": 44,
   "metadata": {},
   "outputs": [
    {
     "name": "stdout",
     "output_type": "stream",
     "text": [
      "<class 'pandas.core.frame.DataFrame'>\n",
      "Int64Index: 339913 entries, 0 to 354368\n",
      "Data columns (total 14 columns):\n",
      "price                 339913 non-null int64\n",
      "vehicle_type          339913 non-null object\n",
      "registration_year     339913 non-null int64\n",
      "gearbox               339913 non-null object\n",
      "power                 339913 non-null int64\n",
      "model                 339913 non-null object\n",
      "kilometer             339913 non-null int64\n",
      "registration_month    308819 non-null float64\n",
      "fuel_type             339913 non-null object\n",
      "brand                 339913 non-null object\n",
      "not_repaired          339913 non-null object\n",
      "date_created          339913 non-null object\n",
      "postalcode            339913 non-null int64\n",
      "last_seen             339913 non-null object\n",
      "dtypes: float64(1), int64(5), object(8)\n",
      "memory usage: 38.9+ MB\n"
     ]
    }
   ],
   "source": [
    "df.info()"
   ]
  },
  {
   "cell_type": "code",
   "execution_count": 45,
   "metadata": {},
   "outputs": [
    {
     "data": {
      "text/plain": [
       "no     297268\n",
       "yes     42645\n",
       "Name: not_repaired, dtype: int64"
      ]
     },
     "execution_count": 45,
     "metadata": {},
     "output_type": "execute_result"
    }
   ],
   "source": [
    "df['not_repaired'].value_counts()"
   ]
  },
  {
   "cell_type": "code",
   "execution_count": 46,
   "metadata": {},
   "outputs": [
    {
     "name": "stdout",
     "output_type": "stream",
     "text": [
      "Доля отремонтиованных: 0.1434564097043745\n"
     ]
    }
   ],
   "source": [
    "print('Доля отремонтиованных:', \n",
    "      df.loc[df['not_repaired'] == 'yes']['not_repaired'].count() / df.loc[df['not_repaired'] == 'no']['not_repaired'].count())"
   ]
  },
  {
   "cell_type": "markdown",
   "metadata": {},
   "source": [
    "<div style=\"border-radius: 15px; border: 1px solid grey; padding: 15px;\">\n",
    "Доля после заполнения изменилась мене чем на процент, при том что заполнено было почти 19 процентов данных. Не идельно, но близко.\n",
    "</div>"
   ]
  },
  {
   "cell_type": "markdown",
   "metadata": {},
   "source": [
    "#### Заполнение признака Месяц регистрации"
   ]
  },
  {
   "cell_type": "markdown",
   "metadata": {},
   "source": [
    "<div style=\"border-radius: 15px; border: 1px solid grey; padding: 15px;\">\n",
    "Возваращаемся к ранее удаленным 0 в признаке месяц регистрации. ЗАполним обычным переносом последнего значения.\n",
    "</div>"
   ]
  },
  {
   "cell_type": "code",
   "execution_count": 47,
   "metadata": {},
   "outputs": [],
   "source": [
    "df['registration_month'] = df['registration_month'].ffill()\n",
    "df['registration_month'] = df['registration_month'].bfill()"
   ]
  },
  {
   "cell_type": "code",
   "execution_count": 48,
   "metadata": {},
   "outputs": [
    {
     "data": {
      "text/plain": [
       "3.0     37074\n",
       "6.0     33732\n",
       "4.0     31329\n",
       "5.0     31064\n",
       "7.0     29259\n",
       "10.0    28030\n",
       "11.0    26086\n",
       "12.0    25942\n",
       "9.0     25592\n",
       "1.0     24797\n",
       "8.0     24244\n",
       "2.0     22764\n",
       "Name: registration_month, dtype: int64"
      ]
     },
     "execution_count": 48,
     "metadata": {},
     "output_type": "execute_result"
    }
   ],
   "source": [
    "df['registration_month'].value_counts()"
   ]
  },
  {
   "cell_type": "code",
   "execution_count": 49,
   "metadata": {},
   "outputs": [
    {
     "name": "stdout",
     "output_type": "stream",
     "text": [
      "<class 'pandas.core.frame.DataFrame'>\n",
      "Int64Index: 339913 entries, 0 to 354368\n",
      "Data columns (total 14 columns):\n",
      "price                 339913 non-null int64\n",
      "vehicle_type          339913 non-null object\n",
      "registration_year     339913 non-null int64\n",
      "gearbox               339913 non-null object\n",
      "power                 339913 non-null int64\n",
      "model                 339913 non-null object\n",
      "kilometer             339913 non-null int64\n",
      "registration_month    339913 non-null float64\n",
      "fuel_type             339913 non-null object\n",
      "brand                 339913 non-null object\n",
      "not_repaired          339913 non-null object\n",
      "date_created          339913 non-null object\n",
      "postalcode            339913 non-null int64\n",
      "last_seen             339913 non-null object\n",
      "dtypes: float64(1), int64(5), object(8)\n",
      "memory usage: 38.9+ MB\n"
     ]
    }
   ],
   "source": [
    "df.info()"
   ]
  },
  {
   "cell_type": "markdown",
   "metadata": {},
   "source": [
    "<div style=\"border-radius: 15px; border: 1px solid grey; padding: 15px;\">\n",
    "Эффект получен, данные заполнены, выбросов не появилось.\n",
    "    \n",
    "Все пропуски заполнены, теперь переходим к преобразованию данных, что бы наши модели могли работать с данными.\n",
    "</div>"
   ]
  },
  {
   "cell_type": "markdown",
   "metadata": {},
   "source": [
    "### Преобразование"
   ]
  },
  {
   "cell_type": "markdown",
   "metadata": {},
   "source": [
    "#### Преобразование Года регистрации"
   ]
  },
  {
   "cell_type": "code",
   "execution_count": 50,
   "metadata": {},
   "outputs": [
    {
     "name": "stdout",
     "output_type": "stream",
     "text": [
      "<class 'pandas.core.frame.DataFrame'>\n",
      "Int64Index: 339913 entries, 0 to 354368\n",
      "Data columns (total 14 columns):\n",
      "price                 339913 non-null int64\n",
      "vehicle_type          339913 non-null object\n",
      "registration_year     339913 non-null int64\n",
      "gearbox               339913 non-null object\n",
      "power                 339913 non-null int64\n",
      "model                 339913 non-null object\n",
      "kilometer             339913 non-null int64\n",
      "registration_month    339913 non-null float64\n",
      "fuel_type             339913 non-null object\n",
      "brand                 339913 non-null object\n",
      "not_repaired          339913 non-null object\n",
      "date_created          339913 non-null object\n",
      "postalcode            339913 non-null int64\n",
      "last_seen             339913 non-null object\n",
      "dtypes: float64(1), int64(5), object(8)\n",
      "memory usage: 38.9+ MB\n"
     ]
    }
   ],
   "source": [
    "df.info()"
   ]
  },
  {
   "cell_type": "code",
   "execution_count": 51,
   "metadata": {},
   "outputs": [
    {
     "data": {
      "text/plain": [
       "0    1993\n",
       "1    2011\n",
       "2    2004\n",
       "3    2001\n",
       "4    2008\n",
       "Name: registration_year, dtype: int64"
      ]
     },
     "execution_count": 51,
     "metadata": {},
     "output_type": "execute_result"
    }
   ],
   "source": [
    "df['registration_year'].head()"
   ]
  },
  {
   "cell_type": "markdown",
   "metadata": {},
   "source": [
    "<div style=\"border-radius: 15px; border: 1px solid grey; padding: 15px;\">\n",
    "На текущий момент год регистрации имеет целочисленный вид, но в целом год это категориальная переменная, поэтому преобразуем значения в строки для дальнейшего перекодирования категориальной переменной методом One Hot Encoding.\n",
    "</div>"
   ]
  },
  {
   "cell_type": "code",
   "execution_count": 52,
   "metadata": {},
   "outputs": [],
   "source": [
    "df['registration_year'] = df['registration_year'].astype(str)"
   ]
  },
  {
   "cell_type": "code",
   "execution_count": 53,
   "metadata": {},
   "outputs": [
    {
     "data": {
      "text/plain": [
       "0         1993\n",
       "1         2011\n",
       "2         2004\n",
       "3         2001\n",
       "4         2008\n",
       "          ... \n",
       "354363    2000\n",
       "354365    2005\n",
       "354366    2000\n",
       "354367    1996\n",
       "354368    2002\n",
       "Name: registration_year, Length: 339913, dtype: object"
      ]
     },
     "execution_count": 53,
     "metadata": {},
     "output_type": "execute_result"
    }
   ],
   "source": [
    "df['registration_year']"
   ]
  },
  {
   "cell_type": "markdown",
   "metadata": {},
   "source": [
    "#### Преобразование Месяца регистрации"
   ]
  },
  {
   "cell_type": "markdown",
   "metadata": {},
   "source": [
    "<div style=\"border-radius: 15px; border: 1px solid grey; padding: 15px;\">\n",
    "Таким же образом поступим с месяцем регистрации.\n",
    "</div>"
   ]
  },
  {
   "cell_type": "code",
   "execution_count": 54,
   "metadata": {},
   "outputs": [
    {
     "data": {
      "text/plain": [
       "0    5.0\n",
       "1    5.0\n",
       "2    8.0\n",
       "3    6.0\n",
       "4    7.0\n",
       "Name: registration_month, dtype: float64"
      ]
     },
     "execution_count": 54,
     "metadata": {},
     "output_type": "execute_result"
    }
   ],
   "source": [
    "df['registration_month'].head()"
   ]
  },
  {
   "cell_type": "code",
   "execution_count": 55,
   "metadata": {},
   "outputs": [],
   "source": [
    "df['registration_month'] = df['registration_month'].astype(int).astype(str)"
   ]
  },
  {
   "cell_type": "code",
   "execution_count": 56,
   "metadata": {},
   "outputs": [
    {
     "data": {
      "text/plain": [
       "0         5\n",
       "1         5\n",
       "2         8\n",
       "3         6\n",
       "4         7\n",
       "         ..\n",
       "354363    3\n",
       "354365    1\n",
       "354366    3\n",
       "354367    3\n",
       "354368    6\n",
       "Name: registration_month, Length: 339913, dtype: object"
      ]
     },
     "execution_count": 56,
     "metadata": {},
     "output_type": "execute_result"
    }
   ],
   "source": [
    "df['registration_month']"
   ]
  },
  {
   "cell_type": "markdown",
   "metadata": {},
   "source": [
    "#### Преобразование Даты создания"
   ]
  },
  {
   "cell_type": "markdown",
   "metadata": {},
   "source": [
    "<div style=\"border-radius: 15px; border: 1px solid grey; padding: 15px;\">\n",
    "С датой создания нельзя поступить так же как с датой регистрации, так как дат слишком много и категорий получится неоправдано много. Поэтому преобразуем текущий строковый вормат в формат даты\\времени, а уже из него преобразуем данные в Unix время. \n",
    "</div>"
   ]
  },
  {
   "cell_type": "code",
   "execution_count": 57,
   "metadata": {},
   "outputs": [
    {
     "data": {
      "text/plain": [
       "2016-04-03 00:00:00    13233\n",
       "2016-04-04 00:00:00    12783\n",
       "2016-03-12 00:00:00    12386\n",
       "2016-03-20 00:00:00    12367\n",
       "2016-03-21 00:00:00    12154\n",
       "                       ...  \n",
       "2015-03-20 00:00:00        1\n",
       "2016-01-06 00:00:00        1\n",
       "2015-09-09 00:00:00        1\n",
       "2016-01-08 00:00:00        1\n",
       "2015-12-17 00:00:00        1\n",
       "Name: date_created, Length: 109, dtype: int64"
      ]
     },
     "execution_count": 57,
     "metadata": {},
     "output_type": "execute_result"
    }
   ],
   "source": [
    "df['date_created'].value_counts()"
   ]
  },
  {
   "cell_type": "code",
   "execution_count": 58,
   "metadata": {},
   "outputs": [],
   "source": [
    "df['date_created'] = pd.to_datetime(df['date_created'], format='%Y-%m-%d')"
   ]
  },
  {
   "cell_type": "code",
   "execution_count": 59,
   "metadata": {},
   "outputs": [],
   "source": [
    "df['date_created'] = df['date_created'].astype(np.int64)"
   ]
  },
  {
   "cell_type": "code",
   "execution_count": 60,
   "metadata": {},
   "outputs": [
    {
     "data": {
      "text/plain": [
       "0    1458777600000000000\n",
       "1    1458777600000000000\n",
       "2    1457913600000000000\n",
       "3    1458172800000000000\n",
       "4    1459382400000000000\n",
       "Name: date_created, dtype: int64"
      ]
     },
     "execution_count": 60,
     "metadata": {},
     "output_type": "execute_result"
    }
   ],
   "source": [
    "df['date_created'].head()"
   ]
  },
  {
   "cell_type": "markdown",
   "metadata": {},
   "source": [
    "#### Преобразование Даты последней активности"
   ]
  },
  {
   "cell_type": "markdown",
   "metadata": {},
   "source": [
    "<div style=\"border-radius: 15px; border: 1px solid grey; padding: 15px;\">\n",
    "Аналогичным способом преобразуем дату последеней активности в Unix формат\n",
    "</div>"
   ]
  },
  {
   "cell_type": "code",
   "execution_count": 61,
   "metadata": {},
   "outputs": [
    {
     "data": {
      "text/plain": [
       "0    2016-04-07 03:16:57\n",
       "1    2016-04-07 01:46:50\n",
       "2    2016-04-05 12:47:46\n",
       "3    2016-03-17 17:40:17\n",
       "4    2016-04-06 10:17:21\n",
       "Name: last_seen, dtype: object"
      ]
     },
     "execution_count": 61,
     "metadata": {},
     "output_type": "execute_result"
    }
   ],
   "source": [
    "df['last_seen'].head()"
   ]
  },
  {
   "cell_type": "code",
   "execution_count": 62,
   "metadata": {},
   "outputs": [],
   "source": [
    "df['last_seen'] = pd.to_datetime(df['last_seen'], format='%Y-%m-%d %H:%M:%S')"
   ]
  },
  {
   "cell_type": "code",
   "execution_count": 63,
   "metadata": {},
   "outputs": [],
   "source": [
    "df['last_seen'] = df['last_seen'].astype(np.int64)"
   ]
  },
  {
   "cell_type": "code",
   "execution_count": 64,
   "metadata": {},
   "outputs": [
    {
     "data": {
      "text/plain": [
       "0         1459999017000000000\n",
       "1         1459993610000000000\n",
       "2         1459860466000000000\n",
       "3         1458236417000000000\n",
       "4         1459937841000000000\n",
       "                 ...         \n",
       "354363    1459246643000000000\n",
       "354365    1459903612000000000\n",
       "354366    1457720232000000000\n",
       "354367    1460013326000000000\n",
       "354368    1458823521000000000\n",
       "Name: last_seen, Length: 339913, dtype: int64"
      ]
     },
     "execution_count": 64,
     "metadata": {},
     "output_type": "execute_result"
    }
   ],
   "source": [
    "df['last_seen']"
   ]
  },
  {
   "cell_type": "markdown",
   "metadata": {},
   "source": [
    "#### Кодирование One Hot Encoding"
   ]
  },
  {
   "cell_type": "code",
   "execution_count": 65,
   "metadata": {},
   "outputs": [
    {
     "name": "stdout",
     "output_type": "stream",
     "text": [
      "<class 'pandas.core.frame.DataFrame'>\n",
      "Int64Index: 339913 entries, 0 to 354368\n",
      "Data columns (total 14 columns):\n",
      "price                 339913 non-null int64\n",
      "vehicle_type          339913 non-null object\n",
      "registration_year     339913 non-null object\n",
      "gearbox               339913 non-null object\n",
      "power                 339913 non-null int64\n",
      "model                 339913 non-null object\n",
      "kilometer             339913 non-null int64\n",
      "registration_month    339913 non-null object\n",
      "fuel_type             339913 non-null object\n",
      "brand                 339913 non-null object\n",
      "not_repaired          339913 non-null object\n",
      "date_created          339913 non-null int64\n",
      "postalcode            339913 non-null int64\n",
      "last_seen             339913 non-null int64\n",
      "dtypes: int64(6), object(8)\n",
      "memory usage: 38.9+ MB\n"
     ]
    }
   ],
   "source": [
    "df.info()"
   ]
  },
  {
   "cell_type": "markdown",
   "metadata": {},
   "source": [
    "<div style=\"border-radius: 15px; border: 1px solid grey; padding: 15px;\">\n",
    "Приведем потенциальное количество категорий в наших категориальных переменных, так же посмотрим на значения почтового индекса, может ли он быть категорией.\n",
    "</div>"
   ]
  },
  {
   "cell_type": "code",
   "execution_count": 66,
   "metadata": {},
   "outputs": [
    {
     "data": {
      "text/plain": [
       "8"
      ]
     },
     "execution_count": 66,
     "metadata": {},
     "output_type": "execute_result"
    }
   ],
   "source": [
    "df['vehicle_type'].value_counts().count()"
   ]
  },
  {
   "cell_type": "code",
   "execution_count": 67,
   "metadata": {},
   "outputs": [
    {
     "data": {
      "text/plain": [
       "2"
      ]
     },
     "execution_count": 67,
     "metadata": {},
     "output_type": "execute_result"
    }
   ],
   "source": [
    "df['gearbox'].value_counts().count()"
   ]
  },
  {
   "cell_type": "code",
   "execution_count": 68,
   "metadata": {},
   "outputs": [
    {
     "data": {
      "text/plain": [
       "250"
      ]
     },
     "execution_count": 68,
     "metadata": {},
     "output_type": "execute_result"
    }
   ],
   "source": [
    "df['model'].value_counts().count()"
   ]
  },
  {
   "cell_type": "code",
   "execution_count": 69,
   "metadata": {},
   "outputs": [
    {
     "data": {
      "text/plain": [
       "7"
      ]
     },
     "execution_count": 69,
     "metadata": {},
     "output_type": "execute_result"
    }
   ],
   "source": [
    "df['fuel_type'].value_counts().count()"
   ]
  },
  {
   "cell_type": "code",
   "execution_count": 70,
   "metadata": {},
   "outputs": [
    {
     "data": {
      "text/plain": [
       "40"
      ]
     },
     "execution_count": 70,
     "metadata": {},
     "output_type": "execute_result"
    }
   ],
   "source": [
    "df['brand'].value_counts().count()"
   ]
  },
  {
   "cell_type": "code",
   "execution_count": 71,
   "metadata": {},
   "outputs": [
    {
     "data": {
      "text/plain": [
       "2"
      ]
     },
     "execution_count": 71,
     "metadata": {},
     "output_type": "execute_result"
    }
   ],
   "source": [
    "df['not_repaired'].value_counts().count()"
   ]
  },
  {
   "cell_type": "code",
   "execution_count": 72,
   "metadata": {},
   "outputs": [
    {
     "data": {
      "text/plain": [
       "12"
      ]
     },
     "execution_count": 72,
     "metadata": {},
     "output_type": "execute_result"
    }
   ],
   "source": [
    "df['registration_month'].value_counts().count()"
   ]
  },
  {
   "cell_type": "code",
   "execution_count": 73,
   "metadata": {},
   "outputs": [
    {
     "data": {
      "text/plain": [
       "95"
      ]
     },
     "execution_count": 73,
     "metadata": {},
     "output_type": "execute_result"
    }
   ],
   "source": [
    "df['registration_year'].value_counts().count()"
   ]
  },
  {
   "cell_type": "code",
   "execution_count": 74,
   "metadata": {},
   "outputs": [
    {
     "data": {
      "text/plain": [
       "8137"
      ]
     },
     "execution_count": 74,
     "metadata": {},
     "output_type": "execute_result"
    }
   ],
   "source": [
    "df['postalcode'].value_counts().count()"
   ]
  },
  {
   "cell_type": "markdown",
   "metadata": {},
   "source": [
    "<div style=\"border-radius: 15px; border: 1px solid grey; padding: 15px;\">\n",
    "Почтовй индекс сделать категориальной переменной делать не целесообразно, опять же, данные вероятно синтетические, так как такое разнообразие идексов и их форматов вызывает вопросы. Эти вопросы стоит задать коллегам которые могут объяснить происхождение данных.\n",
    "</div>"
   ]
  },
  {
   "cell_type": "markdown",
   "metadata": {},
   "source": [
    "<div style=\"border-radius: 15px; border: 1px solid grey; padding: 15px;\">\n",
    "Воспользуемся функцией get_dummies для кодирования наших признаков.\n",
    "</div>"
   ]
  },
  {
   "cell_type": "code",
   "execution_count": 75,
   "metadata": {},
   "outputs": [],
   "source": [
    "df = pd.get_dummies(df, drop_first=True)"
   ]
  },
  {
   "cell_type": "code",
   "execution_count": 76,
   "metadata": {},
   "outputs": [
    {
     "name": "stdout",
     "output_type": "stream",
     "text": [
      "<class 'pandas.core.frame.DataFrame'>\n",
      "Int64Index: 339913 entries, 0 to 354368\n",
      "Columns: 414 entries, price to not_repaired_yes\n",
      "dtypes: int64(6), uint8(408)\n",
      "memory usage: 150.4 MB\n"
     ]
    }
   ],
   "source": [
    "df.info()"
   ]
  },
  {
   "cell_type": "markdown",
   "metadata": {},
   "source": [
    "<div style=\"border-radius: 15px; border: 1px solid grey; padding: 15px;\">\n",
    "Количество признаков значительно увеличилось, что было ожидаемо.\n",
    "</div>"
   ]
  },
  {
   "cell_type": "markdown",
   "metadata": {},
   "source": [
    "#### Разбиение на подвыборик"
   ]
  },
  {
   "cell_type": "markdown",
   "metadata": {},
   "source": [
    "<div style=\"border-radius: 15px; border: 1px solid grey; padding: 15px;\">\n",
    "Перед нормализацией цифровых переменных разобьем наш сет на подвыборки: Обучающую, Валидационную и Тестовую.\n",
    "</div>"
   ]
  },
  {
   "cell_type": "code",
   "execution_count": 77,
   "metadata": {},
   "outputs": [],
   "source": [
    "df_train_valid, df_test = train_test_split(df, test_size=0.2, random_state=12345)\n",
    "df_train, df_valid = train_test_split(df_train_valid, test_size=0.25, random_state=12345)"
   ]
  },
  {
   "cell_type": "code",
   "execution_count": 78,
   "metadata": {},
   "outputs": [
    {
     "data": {
      "text/html": [
       "<div>\n",
       "<style scoped>\n",
       "    .dataframe tbody tr th:only-of-type {\n",
       "        vertical-align: middle;\n",
       "    }\n",
       "\n",
       "    .dataframe tbody tr th {\n",
       "        vertical-align: top;\n",
       "    }\n",
       "\n",
       "    .dataframe thead th {\n",
       "        text-align: right;\n",
       "    }\n",
       "</style>\n",
       "<table border=\"1\" class=\"dataframe\">\n",
       "  <thead>\n",
       "    <tr style=\"text-align: right;\">\n",
       "      <th></th>\n",
       "      <th>price</th>\n",
       "      <th>power</th>\n",
       "      <th>kilometer</th>\n",
       "      <th>date_created</th>\n",
       "      <th>postalcode</th>\n",
       "      <th>last_seen</th>\n",
       "      <th>vehicle_type_convertible</th>\n",
       "      <th>vehicle_type_coupe</th>\n",
       "      <th>vehicle_type_other</th>\n",
       "      <th>vehicle_type_sedan</th>\n",
       "      <th>...</th>\n",
       "      <th>brand_skoda</th>\n",
       "      <th>brand_smart</th>\n",
       "      <th>brand_sonstige_autos</th>\n",
       "      <th>brand_subaru</th>\n",
       "      <th>brand_suzuki</th>\n",
       "      <th>brand_toyota</th>\n",
       "      <th>brand_trabant</th>\n",
       "      <th>brand_volkswagen</th>\n",
       "      <th>brand_volvo</th>\n",
       "      <th>not_repaired_yes</th>\n",
       "    </tr>\n",
       "  </thead>\n",
       "  <tbody>\n",
       "    <tr>\n",
       "      <td>166897</td>\n",
       "      <td>3250</td>\n",
       "      <td>110</td>\n",
       "      <td>150000</td>\n",
       "      <td>1459036800000000000</td>\n",
       "      <td>25337</td>\n",
       "      <td>1459383511000000000</td>\n",
       "      <td>0</td>\n",
       "      <td>0</td>\n",
       "      <td>0</td>\n",
       "      <td>1</td>\n",
       "      <td>...</td>\n",
       "      <td>0</td>\n",
       "      <td>0</td>\n",
       "      <td>0</td>\n",
       "      <td>0</td>\n",
       "      <td>0</td>\n",
       "      <td>0</td>\n",
       "      <td>0</td>\n",
       "      <td>1</td>\n",
       "      <td>0</td>\n",
       "      <td>1</td>\n",
       "    </tr>\n",
       "    <tr>\n",
       "      <td>30149</td>\n",
       "      <td>7800</td>\n",
       "      <td>200</td>\n",
       "      <td>150000</td>\n",
       "      <td>1457481600000000000</td>\n",
       "      <td>24558</td>\n",
       "      <td>1458546627000000000</td>\n",
       "      <td>0</td>\n",
       "      <td>0</td>\n",
       "      <td>0</td>\n",
       "      <td>0</td>\n",
       "      <td>...</td>\n",
       "      <td>0</td>\n",
       "      <td>0</td>\n",
       "      <td>0</td>\n",
       "      <td>0</td>\n",
       "      <td>0</td>\n",
       "      <td>0</td>\n",
       "      <td>0</td>\n",
       "      <td>0</td>\n",
       "      <td>0</td>\n",
       "      <td>0</td>\n",
       "    </tr>\n",
       "    <tr>\n",
       "      <td>308063</td>\n",
       "      <td>7800</td>\n",
       "      <td>70</td>\n",
       "      <td>100000</td>\n",
       "      <td>1457740800000000000</td>\n",
       "      <td>52134</td>\n",
       "      <td>1458517477000000000</td>\n",
       "      <td>0</td>\n",
       "      <td>0</td>\n",
       "      <td>0</td>\n",
       "      <td>0</td>\n",
       "      <td>...</td>\n",
       "      <td>0</td>\n",
       "      <td>0</td>\n",
       "      <td>0</td>\n",
       "      <td>0</td>\n",
       "      <td>0</td>\n",
       "      <td>0</td>\n",
       "      <td>0</td>\n",
       "      <td>1</td>\n",
       "      <td>0</td>\n",
       "      <td>0</td>\n",
       "    </tr>\n",
       "    <tr>\n",
       "      <td>227309</td>\n",
       "      <td>11111</td>\n",
       "      <td>163</td>\n",
       "      <td>150000</td>\n",
       "      <td>1457481600000000000</td>\n",
       "      <td>40625</td>\n",
       "      <td>1459818992000000000</td>\n",
       "      <td>0</td>\n",
       "      <td>0</td>\n",
       "      <td>0</td>\n",
       "      <td>0</td>\n",
       "      <td>...</td>\n",
       "      <td>0</td>\n",
       "      <td>0</td>\n",
       "      <td>0</td>\n",
       "      <td>0</td>\n",
       "      <td>0</td>\n",
       "      <td>0</td>\n",
       "      <td>0</td>\n",
       "      <td>0</td>\n",
       "      <td>0</td>\n",
       "      <td>0</td>\n",
       "    </tr>\n",
       "    <tr>\n",
       "      <td>346727</td>\n",
       "      <td>500</td>\n",
       "      <td>116</td>\n",
       "      <td>150000</td>\n",
       "      <td>1459468800000000000</td>\n",
       "      <td>45257</td>\n",
       "      <td>1459582953000000000</td>\n",
       "      <td>0</td>\n",
       "      <td>0</td>\n",
       "      <td>0</td>\n",
       "      <td>1</td>\n",
       "      <td>...</td>\n",
       "      <td>0</td>\n",
       "      <td>0</td>\n",
       "      <td>0</td>\n",
       "      <td>0</td>\n",
       "      <td>0</td>\n",
       "      <td>0</td>\n",
       "      <td>0</td>\n",
       "      <td>0</td>\n",
       "      <td>0</td>\n",
       "      <td>0</td>\n",
       "    </tr>\n",
       "  </tbody>\n",
       "</table>\n",
       "<p>5 rows × 414 columns</p>\n",
       "</div>"
      ],
      "text/plain": [
       "        price  power  kilometer         date_created  postalcode  \\\n",
       "166897   3250    110     150000  1459036800000000000       25337   \n",
       "30149    7800    200     150000  1457481600000000000       24558   \n",
       "308063   7800     70     100000  1457740800000000000       52134   \n",
       "227309  11111    163     150000  1457481600000000000       40625   \n",
       "346727    500    116     150000  1459468800000000000       45257   \n",
       "\n",
       "                  last_seen  vehicle_type_convertible  vehicle_type_coupe  \\\n",
       "166897  1459383511000000000                         0                   0   \n",
       "30149   1458546627000000000                         0                   0   \n",
       "308063  1458517477000000000                         0                   0   \n",
       "227309  1459818992000000000                         0                   0   \n",
       "346727  1459582953000000000                         0                   0   \n",
       "\n",
       "        vehicle_type_other  vehicle_type_sedan  ...  brand_skoda  brand_smart  \\\n",
       "166897                   0                   1  ...            0            0   \n",
       "30149                    0                   0  ...            0            0   \n",
       "308063                   0                   0  ...            0            0   \n",
       "227309                   0                   0  ...            0            0   \n",
       "346727                   0                   1  ...            0            0   \n",
       "\n",
       "        brand_sonstige_autos  brand_subaru  brand_suzuki  brand_toyota  \\\n",
       "166897                     0             0             0             0   \n",
       "30149                      0             0             0             0   \n",
       "308063                     0             0             0             0   \n",
       "227309                     0             0             0             0   \n",
       "346727                     0             0             0             0   \n",
       "\n",
       "        brand_trabant  brand_volkswagen  brand_volvo  not_repaired_yes  \n",
       "166897              0                 1            0                 1  \n",
       "30149               0                 0            0                 0  \n",
       "308063              0                 1            0                 0  \n",
       "227309              0                 0            0                 0  \n",
       "346727              0                 0            0                 0  \n",
       "\n",
       "[5 rows x 414 columns]"
      ]
     },
     "execution_count": 78,
     "metadata": {},
     "output_type": "execute_result"
    }
   ],
   "source": [
    "df_train.head()"
   ]
  },
  {
   "cell_type": "markdown",
   "metadata": {},
   "source": [
    "<div style=\"border-radius: 15px; border: 1px solid grey; padding: 15px;\">\n",
    "Разделим признаки и целевой признак Цены\n",
    "</div>"
   ]
  },
  {
   "cell_type": "code",
   "execution_count": 79,
   "metadata": {},
   "outputs": [],
   "source": [
    "features_train = df_train.drop(['price'], axis=1)\n",
    "target_train = df_train['price']"
   ]
  },
  {
   "cell_type": "code",
   "execution_count": 80,
   "metadata": {},
   "outputs": [],
   "source": [
    "features_valid = df_valid.drop(['price'], axis=1)\n",
    "target_valid = df_valid['price']"
   ]
  },
  {
   "cell_type": "code",
   "execution_count": 81,
   "metadata": {},
   "outputs": [],
   "source": [
    "features_test = df_test.drop(['price'], axis=1)\n",
    "target_test = df_test['price']"
   ]
  },
  {
   "cell_type": "code",
   "execution_count": 82,
   "metadata": {},
   "outputs": [
    {
     "data": {
      "text/plain": [
       "(203947, 413)"
      ]
     },
     "execution_count": 82,
     "metadata": {},
     "output_type": "execute_result"
    }
   ],
   "source": [
    "features_train.shape"
   ]
  },
  {
   "cell_type": "markdown",
   "metadata": {},
   "source": [
    "<div style=\"border-radius: 15px; border: 1px solid grey; padding: 15px;\">\n",
    "Готово, можно переходить к нормализации данных в признаках.\n",
    "</div>"
   ]
  },
  {
   "cell_type": "markdown",
   "metadata": {},
   "source": [
    "#### Нормализация "
   ]
  },
  {
   "cell_type": "markdown",
   "metadata": {},
   "source": [
    "<div style=\"border-radius: 15px; border: 1px solid grey; padding: 15px;\">\n",
    "Выделим цифровые признаки и произведем скалирование соответствующей функцией.\n",
    "</div>"
   ]
  },
  {
   "cell_type": "code",
   "execution_count": 83,
   "metadata": {},
   "outputs": [],
   "source": [
    "numeric = ['postalcode', 'kilometer', 'power', 'date_created', 'last_seen']"
   ]
  },
  {
   "cell_type": "code",
   "execution_count": 84,
   "metadata": {},
   "outputs": [
    {
     "data": {
      "text/plain": [
       "StandardScaler(copy=True, with_mean=True, with_std=True)"
      ]
     },
     "execution_count": 84,
     "metadata": {},
     "output_type": "execute_result"
    }
   ],
   "source": [
    "scaler = StandardScaler()\n",
    "scaler.fit(features_train[numeric]) "
   ]
  },
  {
   "cell_type": "code",
   "execution_count": 85,
   "metadata": {},
   "outputs": [],
   "source": [
    "features_train[numeric] = scaler.transform(features_train[numeric])\n",
    "features_valid[numeric] = scaler.transform(features_valid[numeric])\n",
    "features_test[numeric] = scaler.transform(features_test[numeric]) "
   ]
  },
  {
   "cell_type": "code",
   "execution_count": 86,
   "metadata": {},
   "outputs": [
    {
     "data": {
      "text/html": [
       "<div>\n",
       "<style scoped>\n",
       "    .dataframe tbody tr th:only-of-type {\n",
       "        vertical-align: middle;\n",
       "    }\n",
       "\n",
       "    .dataframe tbody tr th {\n",
       "        vertical-align: top;\n",
       "    }\n",
       "\n",
       "    .dataframe thead th {\n",
       "        text-align: right;\n",
       "    }\n",
       "</style>\n",
       "<table border=\"1\" class=\"dataframe\">\n",
       "  <thead>\n",
       "    <tr style=\"text-align: right;\">\n",
       "      <th></th>\n",
       "      <th>power</th>\n",
       "      <th>kilometer</th>\n",
       "      <th>date_created</th>\n",
       "      <th>postalcode</th>\n",
       "      <th>last_seen</th>\n",
       "      <th>vehicle_type_convertible</th>\n",
       "      <th>vehicle_type_coupe</th>\n",
       "      <th>vehicle_type_other</th>\n",
       "      <th>vehicle_type_sedan</th>\n",
       "      <th>vehicle_type_small</th>\n",
       "      <th>...</th>\n",
       "      <th>brand_skoda</th>\n",
       "      <th>brand_smart</th>\n",
       "      <th>brand_sonstige_autos</th>\n",
       "      <th>brand_subaru</th>\n",
       "      <th>brand_suzuki</th>\n",
       "      <th>brand_toyota</th>\n",
       "      <th>brand_trabant</th>\n",
       "      <th>brand_volkswagen</th>\n",
       "      <th>brand_volvo</th>\n",
       "      <th>not_repaired_yes</th>\n",
       "    </tr>\n",
       "  </thead>\n",
       "  <tbody>\n",
       "    <tr>\n",
       "      <td>166897</td>\n",
       "      <td>-0.010646</td>\n",
       "      <td>0.578160</td>\n",
       "      <td>0.658288</td>\n",
       "      <td>-0.987850</td>\n",
       "      <td>0.103674</td>\n",
       "      <td>0</td>\n",
       "      <td>0</td>\n",
       "      <td>0</td>\n",
       "      <td>1</td>\n",
       "      <td>0</td>\n",
       "      <td>...</td>\n",
       "      <td>0</td>\n",
       "      <td>0</td>\n",
       "      <td>0</td>\n",
       "      <td>0</td>\n",
       "      <td>0</td>\n",
       "      <td>0</td>\n",
       "      <td>0</td>\n",
       "      <td>1</td>\n",
       "      <td>0</td>\n",
       "      <td>1</td>\n",
       "    </tr>\n",
       "    <tr>\n",
       "      <td>30149</td>\n",
       "      <td>0.429859</td>\n",
       "      <td>0.578160</td>\n",
       "      <td>-1.255726</td>\n",
       "      <td>-1.018151</td>\n",
       "      <td>-0.954480</td>\n",
       "      <td>0</td>\n",
       "      <td>0</td>\n",
       "      <td>0</td>\n",
       "      <td>0</td>\n",
       "      <td>0</td>\n",
       "      <td>...</td>\n",
       "      <td>0</td>\n",
       "      <td>0</td>\n",
       "      <td>0</td>\n",
       "      <td>0</td>\n",
       "      <td>0</td>\n",
       "      <td>0</td>\n",
       "      <td>0</td>\n",
       "      <td>0</td>\n",
       "      <td>0</td>\n",
       "      <td>0</td>\n",
       "    </tr>\n",
       "    <tr>\n",
       "      <td>308063</td>\n",
       "      <td>-0.206426</td>\n",
       "      <td>-0.768482</td>\n",
       "      <td>-0.936724</td>\n",
       "      <td>0.054480</td>\n",
       "      <td>-0.991337</td>\n",
       "      <td>0</td>\n",
       "      <td>0</td>\n",
       "      <td>0</td>\n",
       "      <td>0</td>\n",
       "      <td>1</td>\n",
       "      <td>...</td>\n",
       "      <td>0</td>\n",
       "      <td>0</td>\n",
       "      <td>0</td>\n",
       "      <td>0</td>\n",
       "      <td>0</td>\n",
       "      <td>0</td>\n",
       "      <td>0</td>\n",
       "      <td>1</td>\n",
       "      <td>0</td>\n",
       "      <td>0</td>\n",
       "    </tr>\n",
       "    <tr>\n",
       "      <td>227309</td>\n",
       "      <td>0.248763</td>\n",
       "      <td>0.578160</td>\n",
       "      <td>-1.255726</td>\n",
       "      <td>-0.393189</td>\n",
       "      <td>0.654294</td>\n",
       "      <td>0</td>\n",
       "      <td>0</td>\n",
       "      <td>0</td>\n",
       "      <td>0</td>\n",
       "      <td>0</td>\n",
       "      <td>...</td>\n",
       "      <td>0</td>\n",
       "      <td>0</td>\n",
       "      <td>0</td>\n",
       "      <td>0</td>\n",
       "      <td>0</td>\n",
       "      <td>0</td>\n",
       "      <td>0</td>\n",
       "      <td>0</td>\n",
       "      <td>0</td>\n",
       "      <td>0</td>\n",
       "    </tr>\n",
       "    <tr>\n",
       "      <td>346727</td>\n",
       "      <td>0.018721</td>\n",
       "      <td>0.578160</td>\n",
       "      <td>1.189959</td>\n",
       "      <td>-0.213017</td>\n",
       "      <td>0.355848</td>\n",
       "      <td>0</td>\n",
       "      <td>0</td>\n",
       "      <td>0</td>\n",
       "      <td>1</td>\n",
       "      <td>0</td>\n",
       "      <td>...</td>\n",
       "      <td>0</td>\n",
       "      <td>0</td>\n",
       "      <td>0</td>\n",
       "      <td>0</td>\n",
       "      <td>0</td>\n",
       "      <td>0</td>\n",
       "      <td>0</td>\n",
       "      <td>0</td>\n",
       "      <td>0</td>\n",
       "      <td>0</td>\n",
       "    </tr>\n",
       "  </tbody>\n",
       "</table>\n",
       "<p>5 rows × 413 columns</p>\n",
       "</div>"
      ],
      "text/plain": [
       "           power  kilometer  date_created  postalcode  last_seen  \\\n",
       "166897 -0.010646   0.578160      0.658288   -0.987850   0.103674   \n",
       "30149   0.429859   0.578160     -1.255726   -1.018151  -0.954480   \n",
       "308063 -0.206426  -0.768482     -0.936724    0.054480  -0.991337   \n",
       "227309  0.248763   0.578160     -1.255726   -0.393189   0.654294   \n",
       "346727  0.018721   0.578160      1.189959   -0.213017   0.355848   \n",
       "\n",
       "        vehicle_type_convertible  vehicle_type_coupe  vehicle_type_other  \\\n",
       "166897                         0                   0                   0   \n",
       "30149                          0                   0                   0   \n",
       "308063                         0                   0                   0   \n",
       "227309                         0                   0                   0   \n",
       "346727                         0                   0                   0   \n",
       "\n",
       "        vehicle_type_sedan  vehicle_type_small  ...  brand_skoda  brand_smart  \\\n",
       "166897                   1                   0  ...            0            0   \n",
       "30149                    0                   0  ...            0            0   \n",
       "308063                   0                   1  ...            0            0   \n",
       "227309                   0                   0  ...            0            0   \n",
       "346727                   1                   0  ...            0            0   \n",
       "\n",
       "        brand_sonstige_autos  brand_subaru  brand_suzuki  brand_toyota  \\\n",
       "166897                     0             0             0             0   \n",
       "30149                      0             0             0             0   \n",
       "308063                     0             0             0             0   \n",
       "227309                     0             0             0             0   \n",
       "346727                     0             0             0             0   \n",
       "\n",
       "        brand_trabant  brand_volkswagen  brand_volvo  not_repaired_yes  \n",
       "166897              0                 1            0                 1  \n",
       "30149               0                 0            0                 0  \n",
       "308063              0                 1            0                 0  \n",
       "227309              0                 0            0                 0  \n",
       "346727              0                 0            0                 0  \n",
       "\n",
       "[5 rows x 413 columns]"
      ]
     },
     "execution_count": 86,
     "metadata": {},
     "output_type": "execute_result"
    }
   ],
   "source": [
    "features_train.head()"
   ]
  },
  {
   "cell_type": "markdown",
   "metadata": {},
   "source": [
    "<div style=\"border-radius: 15px; border: 1px solid grey; padding: 15px;\">\n",
    "Результат на шаге выше, а мы можем переходить к обучению моделей, данные готовы.\n",
    "</div>"
   ]
  },
  {
   "cell_type": "markdown",
   "metadata": {},
   "source": [
    "## Обучение моделей"
   ]
  },
  {
   "cell_type": "markdown",
   "metadata": {},
   "source": [
    "<div style=\"border-radius: 15px; border: 1px solid grey; padding: 15px;\">\n",
    "Метрикой с котрой мы будем работать будет RMSE (root-mean-square error) корень из средне квадратичной ошибки. Метрика будет прямо в евро показывать на сколько мы в среднем далеки от правильных ответов при прогнозировании. А начнем мы с расчета RMSE для предсказания в котором все значения будут средним цены автомобилей. Именно ориентируясь на эту цифру мы можем понять адекватна наша модель или среднее число прогнозирует лучше и наша модел ни куда не годится.\n",
    "</div>"
   ]
  },
  {
   "cell_type": "code",
   "execution_count": 87,
   "metadata": {},
   "outputs": [
    {
     "name": "stdout",
     "output_type": "stream",
     "text": [
      "RMSE при заполнении предсказания средним значением целевого признака:  4509.490851629796\n"
     ]
    }
   ],
   "source": [
    "dummy_regressor_rougher = DummyRegressor(strategy=\"mean\")\n",
    "dummy_regressor_rougher.fit(features_train, target_train)\n",
    "dummy_rougher_pred = dummy_regressor_rougher.predict(features_test)\n",
    "rmse = mean_squared_error(target_valid, dummy_rougher_pred) ** 0.5\n",
    "print('RMSE при заполнении предсказания средним значением целевого признака: ', rmse)"
   ]
  },
  {
   "cell_type": "markdown",
   "metadata": {},
   "source": [
    "<div style=\"border-radius: 15px; border: 1px solid grey; padding: 15px;\">\n",
    "Если модель покажет RMSE ниже 4500 евро, то это уже прогресс.\n",
    "</div>"
   ]
  },
  {
   "cell_type": "markdown",
   "metadata": {},
   "source": [
    "### DecisionTreeRegressor"
   ]
  },
  {
   "cell_type": "markdown",
   "metadata": {},
   "source": [
    "<div style=\"border-radius: 15px; border: 1px solid grey; padding: 15px;\">\n",
    "Первой моделью возьмем Дерево решений.\n",
    "</div>"
   ]
  },
  {
   "cell_type": "code",
   "execution_count": 88,
   "metadata": {},
   "outputs": [],
   "source": [
    "#for i in range(1, 23):\n",
    "#    dt_model = DecisionTreeRegressor(random_state = 12345, max_depth = i)\n",
    "#    dt_model.fit(features_train, target_train)\n",
    "#    dt_prediction = dt_model.predict(features_valid)\n",
    "#    dt_rmse = mean_squared_error(target_valid, dt_prediction) ** 0.5\n",
    "#    print(' Максимальная глубина =', i, '\\n', 'RMSE', dt_rmse, '\\n') "
   ]
  },
  {
   "cell_type": "markdown",
   "metadata": {},
   "source": [
    "<div style=\"border-radius: 15px; border: 1px solid grey; padding: 15px;\">\n",
    "Выше в ячейке закоменчек код релизующий поиск оптимальной глубины дерева, исходя из результатов выбрана глубина 15 уровней.\n",
    "</div>"
   ]
  },
  {
   "cell_type": "code",
   "execution_count": 89,
   "metadata": {},
   "outputs": [],
   "source": [
    "dt_model = DecisionTreeRegressor(max_depth=15, presort=True, random_state = 12345)"
   ]
  },
  {
   "cell_type": "code",
   "execution_count": 90,
   "metadata": {},
   "outputs": [
    {
     "name": "stdout",
     "output_type": "stream",
     "text": [
      "CPU times: user 1min 52s, sys: 557 ms, total: 1min 53s\n",
      "Wall time: 1min 53s\n"
     ]
    },
    {
     "data": {
      "text/plain": [
       "DecisionTreeRegressor(criterion='mse', max_depth=15, max_features=None,\n",
       "                      max_leaf_nodes=None, min_impurity_decrease=0.0,\n",
       "                      min_impurity_split=None, min_samples_leaf=1,\n",
       "                      min_samples_split=2, min_weight_fraction_leaf=0.0,\n",
       "                      presort=True, random_state=12345, splitter='best')"
      ]
     },
     "execution_count": 90,
     "metadata": {},
     "output_type": "execute_result"
    }
   ],
   "source": [
    "%%time\n",
    "dt_model.fit(features_train, target_train)"
   ]
  },
  {
   "cell_type": "code",
   "execution_count": 91,
   "metadata": {},
   "outputs": [
    {
     "name": "stdout",
     "output_type": "stream",
     "text": [
      "CPU times: user 92.7 ms, sys: 75.7 ms, total: 168 ms\n",
      "Wall time: 174 ms\n"
     ]
    }
   ],
   "source": [
    "%%time\n",
    "dt_prediction = dt_model.predict(features_valid)"
   ]
  },
  {
   "cell_type": "code",
   "execution_count": 92,
   "metadata": {},
   "outputs": [],
   "source": [
    "dt_rmse = mean_squared_error(target_valid, dt_prediction) ** 0.5"
   ]
  },
  {
   "cell_type": "code",
   "execution_count": 93,
   "metadata": {},
   "outputs": [
    {
     "name": "stdout",
     "output_type": "stream",
     "text": [
      "RMSE для модели Решающего дерева на Валидационной выборке: 2196.276360978482\n"
     ]
    }
   ],
   "source": [
    "print('RMSE для модели Решающего дерева на Валидационной выборке:', dt_rmse)"
   ]
  },
  {
   "cell_type": "markdown",
   "metadata": {},
   "source": [
    "<div style=\"border-radius: 15px; border: 1px solid grey; padding: 15px;\">\n",
    "Проверим на тестовой выборке.\n",
    "</div>"
   ]
  },
  {
   "cell_type": "code",
   "execution_count": 94,
   "metadata": {},
   "outputs": [
    {
     "name": "stdout",
     "output_type": "stream",
     "text": [
      "CPU times: user 62 ms, sys: 104 ms, total: 166 ms\n",
      "Wall time: 168 ms\n"
     ]
    }
   ],
   "source": [
    "%%time\n",
    "dt_prediction_test = dt_model.predict(features_test)"
   ]
  },
  {
   "cell_type": "code",
   "execution_count": 95,
   "metadata": {},
   "outputs": [],
   "source": [
    "dt_rmse_test = mean_squared_error(target_test, dt_prediction_test) ** 0.5"
   ]
  },
  {
   "cell_type": "code",
   "execution_count": 96,
   "metadata": {},
   "outputs": [
    {
     "name": "stdout",
     "output_type": "stream",
     "text": [
      "RMSE для модели Решающего дерева на Тестовой выборке: 2177.868964336849\n"
     ]
    }
   ],
   "source": [
    "print('RMSE для модели Решающего дерева на Тестовой выборке:', dt_rmse_test)"
   ]
  },
  {
   "cell_type": "markdown",
   "metadata": {},
   "source": [
    "<div style=\"border-radius: 15px; border: 1px solid grey; padding: 15px;\">\n",
    "Да, тестовая выборка сформирована из тех же данных, показатели RMSE очень близки.\n",
    "    \n",
    "Фиксируем RMSE 2178 евро, время предсказания ~180мс. \n",
    "</div>"
   ]
  },
  {
   "cell_type": "markdown",
   "metadata": {},
   "source": [
    "### RandomForestRegressor"
   ]
  },
  {
   "cell_type": "markdown",
   "metadata": {},
   "source": [
    "<div style=\"border-radius: 15px; border: 1px solid grey; padding: 15px;\">\n",
    "Следующая в нашем исследовании модель Случайного леса, действовать будем аналогично предыдущему шагу.\n",
    "</div>"
   ]
  },
  {
   "cell_type": "code",
   "execution_count": 97,
   "metadata": {},
   "outputs": [],
   "source": [
    "#%%time\n",
    "#rf_best_model = None\n",
    "#rf_rmse_best = 10000000\n",
    "#rf_best_depth = 0\n",
    "#rf_best_est = 0\n",
    "#for est in range(90, 91, 10):\n",
    "#    for depth in range(14, 17, 1):\n",
    "#        rf_model = RandomForestRegressor(n_estimators=est, max_depth=depth, random_state=12345)\n",
    "#        rf_model.fit(features_train, target_train)\n",
    "#        rf_prediction = rf_model.predict(features_valid)\n",
    "#        rf_rmse = mean_squared_error(target_valid, rf_prediction) ** 0.5\n",
    "#        if rf_rmse < rf_rmse_best:\n",
    "#            rf_best_model = rf_model\n",
    "#            rf_rmse_best = rf_rmse\n",
    "#            rf_best_depth = depth\n",
    "#            rf_best_est = est\n",
    "        \n",
    "\n",
    "#print(' RMSE =', rf_rmse_best, '\\n', 'Количество деревьев =', rf_best_est, '\\n',\n",
    "#      \"Максимальная глубина:\", rf_best_depth) "
   ]
  },
  {
   "cell_type": "markdown",
   "metadata": {},
   "source": [
    "<div style=\"border-radius: 15px; border: 1px solid grey; padding: 15px;\">\n",
    "Выше код с поиском оптимальных гипер параметров. Переходим к обучению и тестированию.\n",
    "</div>"
   ]
  },
  {
   "cell_type": "code",
   "execution_count": 98,
   "metadata": {},
   "outputs": [],
   "source": [
    "rf_model = RandomForestRegressor(n_estimators=90, max_depth=15, random_state=12345)"
   ]
  },
  {
   "cell_type": "code",
   "execution_count": 99,
   "metadata": {},
   "outputs": [
    {
     "name": "stdout",
     "output_type": "stream",
     "text": [
      "CPU times: user 8min 29s, sys: 578 ms, total: 8min 29s\n",
      "Wall time: 8min 29s\n"
     ]
    },
    {
     "data": {
      "text/plain": [
       "RandomForestRegressor(bootstrap=True, criterion='mse', max_depth=15,\n",
       "                      max_features='auto', max_leaf_nodes=None,\n",
       "                      min_impurity_decrease=0.0, min_impurity_split=None,\n",
       "                      min_samples_leaf=1, min_samples_split=2,\n",
       "                      min_weight_fraction_leaf=0.0, n_estimators=90,\n",
       "                      n_jobs=None, oob_score=False, random_state=12345,\n",
       "                      verbose=0, warm_start=False)"
      ]
     },
     "execution_count": 99,
     "metadata": {},
     "output_type": "execute_result"
    }
   ],
   "source": [
    "%%time \n",
    "rf_model.fit(features_train, target_train)"
   ]
  },
  {
   "cell_type": "code",
   "execution_count": 100,
   "metadata": {},
   "outputs": [
    {
     "name": "stdout",
     "output_type": "stream",
     "text": [
      "CPU times: user 1.08 s, sys: 79.9 ms, total: 1.16 s\n",
      "Wall time: 1.17 s\n"
     ]
    }
   ],
   "source": [
    "%%time\n",
    "rf_prediction = rf_model.predict(features_valid)"
   ]
  },
  {
   "cell_type": "code",
   "execution_count": 101,
   "metadata": {},
   "outputs": [],
   "source": [
    "rf_rmse = mean_squared_error(target_valid, rf_prediction) ** 0.5"
   ]
  },
  {
   "cell_type": "code",
   "execution_count": 102,
   "metadata": {},
   "outputs": [
    {
     "name": "stdout",
     "output_type": "stream",
     "text": [
      "RMSE для модели Случайного на Валидационной выборке: 1995.9244192166877\n"
     ]
    }
   ],
   "source": [
    "print('RMSE для модели Случайного на Валидационной выборке:', rf_rmse)"
   ]
  },
  {
   "cell_type": "markdown",
   "metadata": {},
   "source": [
    "<div style=\"border-radius: 15px; border: 1px solid grey; padding: 15px;\">\n",
    "Проверка на тестовой выборке.\n",
    "</div>"
   ]
  },
  {
   "cell_type": "code",
   "execution_count": 103,
   "metadata": {},
   "outputs": [
    {
     "name": "stdout",
     "output_type": "stream",
     "text": [
      "CPU times: user 1.05 s, sys: 87.9 ms, total: 1.14 s\n",
      "Wall time: 1.14 s\n"
     ]
    }
   ],
   "source": [
    "%%time\n",
    "rf_prediction = rf_model.predict(features_test)"
   ]
  },
  {
   "cell_type": "code",
   "execution_count": 104,
   "metadata": {},
   "outputs": [],
   "source": [
    "rf_rmse = mean_squared_error(target_test, rf_prediction) ** 0.5"
   ]
  },
  {
   "cell_type": "code",
   "execution_count": 105,
   "metadata": {},
   "outputs": [
    {
     "name": "stdout",
     "output_type": "stream",
     "text": [
      "RMSE для модели Случайного на Тестовой выборке: 1998.030117425941\n"
     ]
    }
   ],
   "source": [
    "print('RMSE для модели Случайного на Тестовой выборке:', rf_rmse)"
   ]
  },
  {
   "cell_type": "markdown",
   "metadata": {},
   "source": [
    "<div style=\"border-radius: 15px; border: 1px solid grey; padding: 15px;\">\n",
    "Прогресс в точности предсказания очевиден, но и время предсказания вырасло более чем в 7 раз.\n",
    "\n",
    "Фиксируем RMSE 1998 евро, время предсказания ~1.5 с.\n",
    "</div>"
   ]
  },
  {
   "cell_type": "markdown",
   "metadata": {},
   "source": [
    "### LightGBM Regressor"
   ]
  },
  {
   "cell_type": "markdown",
   "metadata": {},
   "source": [
    "<div style=\"border-radius: 15px; border: 1px solid grey; padding: 15px;\">\n",
    "Переходим к градиентному бустингу с использованием LightGBM, создадим словарь параметров, создадим модель и обучим её.\n",
    "</div>"
   ]
  },
  {
   "cell_type": "code",
   "execution_count": 106,
   "metadata": {},
   "outputs": [],
   "source": [
    "params = {\n",
    "    'boosting_type': 'gbdt',\n",
    "    'objective': 'regression',\n",
    "    'max_depth': 16,\n",
    "    'metric': 'rmse',\n",
    "    'learning_rate': 0.05,\n",
    "    \"n_estimators\": 1000\n",
    "}"
   ]
  },
  {
   "cell_type": "code",
   "execution_count": 107,
   "metadata": {},
   "outputs": [],
   "source": [
    "gb_model = lgb.LGBMRegressor(**params)"
   ]
  },
  {
   "cell_type": "code",
   "execution_count": 108,
   "metadata": {
    "scrolled": true
   },
   "outputs": [
    {
     "name": "stdout",
     "output_type": "stream",
     "text": [
      "[1]\tvalid_0's rmse: 4375.76\n",
      "Training until validation scores don't improve for 10 rounds\n",
      "[2]\tvalid_0's rmse: 4252.68\n",
      "[3]\tvalid_0's rmse: 4136.8\n",
      "[4]\tvalid_0's rmse: 4031.32\n",
      "[5]\tvalid_0's rmse: 3929.36\n",
      "[6]\tvalid_0's rmse: 3836.05\n",
      "[7]\tvalid_0's rmse: 3747.32\n",
      "[8]\tvalid_0's rmse: 3664.99\n",
      "[9]\tvalid_0's rmse: 3586.97\n",
      "[10]\tvalid_0's rmse: 3512.34\n",
      "[11]\tvalid_0's rmse: 3444.84\n",
      "[12]\tvalid_0's rmse: 3381.07\n",
      "[13]\tvalid_0's rmse: 3317.69\n",
      "[14]\tvalid_0's rmse: 3259.3\n",
      "[15]\tvalid_0's rmse: 3202.56\n",
      "[16]\tvalid_0's rmse: 3146.29\n",
      "[17]\tvalid_0's rmse: 3094.03\n",
      "[18]\tvalid_0's rmse: 3046.7\n",
      "[19]\tvalid_0's rmse: 3005.6\n",
      "[20]\tvalid_0's rmse: 2963.74\n",
      "[21]\tvalid_0's rmse: 2923.91\n",
      "[22]\tvalid_0's rmse: 2885.78\n",
      "[23]\tvalid_0's rmse: 2847.72\n",
      "[24]\tvalid_0's rmse: 2813.02\n",
      "[25]\tvalid_0's rmse: 2779.3\n",
      "[26]\tvalid_0's rmse: 2747.87\n",
      "[27]\tvalid_0's rmse: 2714.94\n",
      "[28]\tvalid_0's rmse: 2688.45\n",
      "[29]\tvalid_0's rmse: 2665.53\n",
      "[30]\tvalid_0's rmse: 2633.42\n",
      "[31]\tvalid_0's rmse: 2607.88\n",
      "[32]\tvalid_0's rmse: 2586.85\n",
      "[33]\tvalid_0's rmse: 2558.69\n",
      "[34]\tvalid_0's rmse: 2539.9\n",
      "[35]\tvalid_0's rmse: 2512.97\n",
      "[36]\tvalid_0's rmse: 2495.92\n",
      "[37]\tvalid_0's rmse: 2471.92\n",
      "[38]\tvalid_0's rmse: 2454.92\n",
      "[39]\tvalid_0's rmse: 2432.97\n",
      "[40]\tvalid_0's rmse: 2417.58\n",
      "[41]\tvalid_0's rmse: 2403.46\n",
      "[42]\tvalid_0's rmse: 2382.38\n",
      "[43]\tvalid_0's rmse: 2369.3\n",
      "[44]\tvalid_0's rmse: 2352.96\n",
      "[45]\tvalid_0's rmse: 2338.95\n",
      "[46]\tvalid_0's rmse: 2326.19\n",
      "[47]\tvalid_0's rmse: 2310.6\n",
      "[48]\tvalid_0's rmse: 2296.99\n",
      "[49]\tvalid_0's rmse: 2283.02\n",
      "[50]\tvalid_0's rmse: 2269.88\n",
      "[51]\tvalid_0's rmse: 2260.06\n",
      "[52]\tvalid_0's rmse: 2248.3\n",
      "[53]\tvalid_0's rmse: 2234.95\n",
      "[54]\tvalid_0's rmse: 2224.61\n",
      "[55]\tvalid_0's rmse: 2213.12\n",
      "[56]\tvalid_0's rmse: 2205.41\n",
      "[57]\tvalid_0's rmse: 2196.48\n",
      "[58]\tvalid_0's rmse: 2189.35\n",
      "[59]\tvalid_0's rmse: 2179.87\n",
      "[60]\tvalid_0's rmse: 2170.39\n",
      "[61]\tvalid_0's rmse: 2163.19\n",
      "[62]\tvalid_0's rmse: 2154.8\n",
      "[63]\tvalid_0's rmse: 2147.98\n",
      "[64]\tvalid_0's rmse: 2141.63\n",
      "[65]\tvalid_0's rmse: 2131.77\n",
      "[66]\tvalid_0's rmse: 2124.18\n",
      "[67]\tvalid_0's rmse: 2118.99\n",
      "[68]\tvalid_0's rmse: 2112.5\n",
      "[69]\tvalid_0's rmse: 2107.18\n",
      "[70]\tvalid_0's rmse: 2098.4\n",
      "[71]\tvalid_0's rmse: 2094.11\n",
      "[72]\tvalid_0's rmse: 2086.51\n",
      "[73]\tvalid_0's rmse: 2080.83\n",
      "[74]\tvalid_0's rmse: 2075.86\n",
      "[75]\tvalid_0's rmse: 2071.98\n",
      "[76]\tvalid_0's rmse: 2065.76\n",
      "[77]\tvalid_0's rmse: 2061.49\n",
      "[78]\tvalid_0's rmse: 2056.48\n",
      "[79]\tvalid_0's rmse: 2051.9\n",
      "[80]\tvalid_0's rmse: 2048.1\n",
      "[81]\tvalid_0's rmse: 2043.25\n",
      "[82]\tvalid_0's rmse: 2039.21\n",
      "[83]\tvalid_0's rmse: 2036\n",
      "[84]\tvalid_0's rmse: 2031.04\n",
      "[85]\tvalid_0's rmse: 2027.2\n",
      "[86]\tvalid_0's rmse: 2023.37\n",
      "[87]\tvalid_0's rmse: 2020.25\n",
      "[88]\tvalid_0's rmse: 2015.94\n",
      "[89]\tvalid_0's rmse: 2011.74\n",
      "[90]\tvalid_0's rmse: 2008.92\n",
      "[91]\tvalid_0's rmse: 2004.93\n",
      "[92]\tvalid_0's rmse: 2000.63\n",
      "[93]\tvalid_0's rmse: 1998\n",
      "[94]\tvalid_0's rmse: 1994.33\n",
      "[95]\tvalid_0's rmse: 1991.3\n",
      "[96]\tvalid_0's rmse: 1987.31\n",
      "[97]\tvalid_0's rmse: 1984.26\n",
      "[98]\tvalid_0's rmse: 1982\n",
      "[99]\tvalid_0's rmse: 1978.77\n",
      "[100]\tvalid_0's rmse: 1974.99\n",
      "[101]\tvalid_0's rmse: 1972.23\n",
      "[102]\tvalid_0's rmse: 1970.69\n",
      "[103]\tvalid_0's rmse: 1967.92\n",
      "[104]\tvalid_0's rmse: 1965.65\n",
      "[105]\tvalid_0's rmse: 1962.53\n",
      "[106]\tvalid_0's rmse: 1961\n",
      "[107]\tvalid_0's rmse: 1958.59\n",
      "[108]\tvalid_0's rmse: 1955.81\n",
      "[109]\tvalid_0's rmse: 1954.33\n",
      "[110]\tvalid_0's rmse: 1951.85\n",
      "[111]\tvalid_0's rmse: 1949.47\n",
      "[112]\tvalid_0's rmse: 1946.64\n",
      "[113]\tvalid_0's rmse: 1943.76\n",
      "[114]\tvalid_0's rmse: 1941.26\n",
      "[115]\tvalid_0's rmse: 1939.94\n",
      "[116]\tvalid_0's rmse: 1937.55\n",
      "[117]\tvalid_0's rmse: 1936.27\n",
      "[118]\tvalid_0's rmse: 1933.62\n",
      "[119]\tvalid_0's rmse: 1931.26\n",
      "[120]\tvalid_0's rmse: 1929.14\n",
      "[121]\tvalid_0's rmse: 1927.15\n",
      "[122]\tvalid_0's rmse: 1925.58\n",
      "[123]\tvalid_0's rmse: 1924.14\n",
      "[124]\tvalid_0's rmse: 1921.98\n",
      "[125]\tvalid_0's rmse: 1920.09\n",
      "[126]\tvalid_0's rmse: 1917.82\n",
      "[127]\tvalid_0's rmse: 1915.75\n",
      "[128]\tvalid_0's rmse: 1913.62\n",
      "[129]\tvalid_0's rmse: 1912.44\n",
      "[130]\tvalid_0's rmse: 1910.98\n",
      "[131]\tvalid_0's rmse: 1908.58\n",
      "[132]\tvalid_0's rmse: 1906.48\n",
      "[133]\tvalid_0's rmse: 1905.35\n",
      "[134]\tvalid_0's rmse: 1903.48\n",
      "[135]\tvalid_0's rmse: 1901.24\n",
      "[136]\tvalid_0's rmse: 1899.38\n",
      "[137]\tvalid_0's rmse: 1897.72\n",
      "[138]\tvalid_0's rmse: 1896.14\n",
      "[139]\tvalid_0's rmse: 1894.23\n",
      "[140]\tvalid_0's rmse: 1892.52\n",
      "[141]\tvalid_0's rmse: 1890.4\n",
      "[142]\tvalid_0's rmse: 1889.52\n",
      "[143]\tvalid_0's rmse: 1887.58\n",
      "[144]\tvalid_0's rmse: 1886.2\n",
      "[145]\tvalid_0's rmse: 1884.63\n",
      "[146]\tvalid_0's rmse: 1883.06\n",
      "[147]\tvalid_0's rmse: 1881.8\n",
      "[148]\tvalid_0's rmse: 1881.04\n",
      "[149]\tvalid_0's rmse: 1879.41\n",
      "[150]\tvalid_0's rmse: 1877.63\n",
      "[151]\tvalid_0's rmse: 1876.36\n",
      "[152]\tvalid_0's rmse: 1875.12\n",
      "[153]\tvalid_0's rmse: 1873.66\n",
      "[154]\tvalid_0's rmse: 1871.95\n",
      "[155]\tvalid_0's rmse: 1870.92\n",
      "[156]\tvalid_0's rmse: 1869.61\n",
      "[157]\tvalid_0's rmse: 1868.52\n",
      "[158]\tvalid_0's rmse: 1866.93\n",
      "[159]\tvalid_0's rmse: 1865.78\n",
      "[160]\tvalid_0's rmse: 1864.94\n",
      "[161]\tvalid_0's rmse: 1863.99\n",
      "[162]\tvalid_0's rmse: 1862.61\n",
      "[163]\tvalid_0's rmse: 1861.35\n",
      "[164]\tvalid_0's rmse: 1860.46\n",
      "[165]\tvalid_0's rmse: 1859.07\n",
      "[166]\tvalid_0's rmse: 1857.28\n",
      "[167]\tvalid_0's rmse: 1856.24\n",
      "[168]\tvalid_0's rmse: 1854.58\n",
      "[169]\tvalid_0's rmse: 1853.28\n",
      "[170]\tvalid_0's rmse: 1851.8\n",
      "[171]\tvalid_0's rmse: 1850.73\n",
      "[172]\tvalid_0's rmse: 1849.66\n",
      "[173]\tvalid_0's rmse: 1848.72\n",
      "[174]\tvalid_0's rmse: 1847.2\n",
      "[175]\tvalid_0's rmse: 1845.78\n",
      "[176]\tvalid_0's rmse: 1844.58\n",
      "[177]\tvalid_0's rmse: 1844.03\n",
      "[178]\tvalid_0's rmse: 1843.01\n",
      "[179]\tvalid_0's rmse: 1841.86\n",
      "[180]\tvalid_0's rmse: 1840.83\n",
      "[181]\tvalid_0's rmse: 1839.48\n",
      "[182]\tvalid_0's rmse: 1838.34\n",
      "[183]\tvalid_0's rmse: 1837\n",
      "[184]\tvalid_0's rmse: 1836.24\n",
      "[185]\tvalid_0's rmse: 1835.57\n",
      "[186]\tvalid_0's rmse: 1834.63\n",
      "[187]\tvalid_0's rmse: 1833.43\n",
      "[188]\tvalid_0's rmse: 1832.81\n",
      "[189]\tvalid_0's rmse: 1831.55\n",
      "[190]\tvalid_0's rmse: 1830.79\n",
      "[191]\tvalid_0's rmse: 1829.54\n",
      "[192]\tvalid_0's rmse: 1828.9\n",
      "[193]\tvalid_0's rmse: 1827.69\n",
      "[194]\tvalid_0's rmse: 1827.15\n",
      "[195]\tvalid_0's rmse: 1826.15\n",
      "[196]\tvalid_0's rmse: 1825.17\n",
      "[197]\tvalid_0's rmse: 1824.48\n",
      "[198]\tvalid_0's rmse: 1823.62\n",
      "[199]\tvalid_0's rmse: 1822.84\n",
      "[200]\tvalid_0's rmse: 1821.78\n",
      "[201]\tvalid_0's rmse: 1820.85\n",
      "[202]\tvalid_0's rmse: 1820.31\n",
      "[203]\tvalid_0's rmse: 1819.38\n",
      "[204]\tvalid_0's rmse: 1818.92\n",
      "[205]\tvalid_0's rmse: 1818.03\n",
      "[206]\tvalid_0's rmse: 1817.46\n",
      "[207]\tvalid_0's rmse: 1816.47\n",
      "[208]\tvalid_0's rmse: 1815.41\n",
      "[209]\tvalid_0's rmse: 1814.83\n",
      "[210]\tvalid_0's rmse: 1813.88\n",
      "[211]\tvalid_0's rmse: 1813.08\n",
      "[212]\tvalid_0's rmse: 1812.62\n",
      "[213]\tvalid_0's rmse: 1811.82\n",
      "[214]\tvalid_0's rmse: 1810.89\n",
      "[215]\tvalid_0's rmse: 1810.22\n",
      "[216]\tvalid_0's rmse: 1809.47\n",
      "[217]\tvalid_0's rmse: 1808.89\n",
      "[218]\tvalid_0's rmse: 1808.2\n",
      "[219]\tvalid_0's rmse: 1807.39\n",
      "[220]\tvalid_0's rmse: 1806.71\n",
      "[221]\tvalid_0's rmse: 1806.17\n",
      "[222]\tvalid_0's rmse: 1805.41\n",
      "[223]\tvalid_0's rmse: 1804.63\n",
      "[224]\tvalid_0's rmse: 1804.25\n",
      "[225]\tvalid_0's rmse: 1803.61\n",
      "[226]\tvalid_0's rmse: 1802.89\n",
      "[227]\tvalid_0's rmse: 1802.19\n",
      "[228]\tvalid_0's rmse: 1801.29\n",
      "[229]\tvalid_0's rmse: 1800.65\n",
      "[230]\tvalid_0's rmse: 1800.23\n",
      "[231]\tvalid_0's rmse: 1799.73\n",
      "[232]\tvalid_0's rmse: 1799.04\n",
      "[233]\tvalid_0's rmse: 1798.62\n",
      "[234]\tvalid_0's rmse: 1798.12\n",
      "[235]\tvalid_0's rmse: 1797.4\n",
      "[236]\tvalid_0's rmse: 1796.62\n",
      "[237]\tvalid_0's rmse: 1796.26\n",
      "[238]\tvalid_0's rmse: 1795.89\n",
      "[239]\tvalid_0's rmse: 1795.44\n",
      "[240]\tvalid_0's rmse: 1794.8\n",
      "[241]\tvalid_0's rmse: 1794.43\n",
      "[242]\tvalid_0's rmse: 1793.69\n",
      "[243]\tvalid_0's rmse: 1793.15\n",
      "[244]\tvalid_0's rmse: 1792.38\n",
      "[245]\tvalid_0's rmse: 1791.76\n",
      "[246]\tvalid_0's rmse: 1790.88\n",
      "[247]\tvalid_0's rmse: 1790.28\n",
      "[248]\tvalid_0's rmse: 1789.73\n",
      "[249]\tvalid_0's rmse: 1789.26\n",
      "[250]\tvalid_0's rmse: 1788.83\n",
      "[251]\tvalid_0's rmse: 1788.55\n",
      "[252]\tvalid_0's rmse: 1787.71\n",
      "[253]\tvalid_0's rmse: 1787.18\n",
      "[254]\tvalid_0's rmse: 1786.5\n",
      "[255]\tvalid_0's rmse: 1785.82\n",
      "[256]\tvalid_0's rmse: 1785.25\n",
      "[257]\tvalid_0's rmse: 1784.76\n",
      "[258]\tvalid_0's rmse: 1784.2\n",
      "[259]\tvalid_0's rmse: 1783.63\n",
      "[260]\tvalid_0's rmse: 1783.19\n",
      "[261]\tvalid_0's rmse: 1782.59\n",
      "[262]\tvalid_0's rmse: 1782.14\n",
      "[263]\tvalid_0's rmse: 1781.58\n",
      "[264]\tvalid_0's rmse: 1781.06\n",
      "[265]\tvalid_0's rmse: 1780.44\n",
      "[266]\tvalid_0's rmse: 1780\n",
      "[267]\tvalid_0's rmse: 1779.56\n",
      "[268]\tvalid_0's rmse: 1778.91\n",
      "[269]\tvalid_0's rmse: 1778.36\n",
      "[270]\tvalid_0's rmse: 1777.76\n",
      "[271]\tvalid_0's rmse: 1777.18\n",
      "[272]\tvalid_0's rmse: 1776.78\n",
      "[273]\tvalid_0's rmse: 1776.34\n",
      "[274]\tvalid_0's rmse: 1775.63\n",
      "[275]\tvalid_0's rmse: 1775.27\n",
      "[276]\tvalid_0's rmse: 1774.56\n",
      "[277]\tvalid_0's rmse: 1774.03\n",
      "[278]\tvalid_0's rmse: 1773.54\n",
      "[279]\tvalid_0's rmse: 1773.14\n",
      "[280]\tvalid_0's rmse: 1772.53\n",
      "[281]\tvalid_0's rmse: 1772.14\n",
      "[282]\tvalid_0's rmse: 1771.71\n",
      "[283]\tvalid_0's rmse: 1771.36\n",
      "[284]\tvalid_0's rmse: 1770.73\n",
      "[285]\tvalid_0's rmse: 1770.19\n",
      "[286]\tvalid_0's rmse: 1769.75\n",
      "[287]\tvalid_0's rmse: 1769.28\n",
      "[288]\tvalid_0's rmse: 1768.89\n",
      "[289]\tvalid_0's rmse: 1768.56\n",
      "[290]\tvalid_0's rmse: 1768.16\n",
      "[291]\tvalid_0's rmse: 1767.81\n",
      "[292]\tvalid_0's rmse: 1767.36\n",
      "[293]\tvalid_0's rmse: 1767.06\n",
      "[294]\tvalid_0's rmse: 1766.83\n",
      "[295]\tvalid_0's rmse: 1766.21\n",
      "[296]\tvalid_0's rmse: 1765.79\n",
      "[297]\tvalid_0's rmse: 1765.28\n",
      "[298]\tvalid_0's rmse: 1764.69\n",
      "[299]\tvalid_0's rmse: 1764.27\n",
      "[300]\tvalid_0's rmse: 1763.91\n",
      "[301]\tvalid_0's rmse: 1763.52\n",
      "[302]\tvalid_0's rmse: 1763.03\n",
      "[303]\tvalid_0's rmse: 1762.61\n",
      "[304]\tvalid_0's rmse: 1762.05\n",
      "[305]\tvalid_0's rmse: 1761.54\n",
      "[306]\tvalid_0's rmse: 1761.18\n",
      "[307]\tvalid_0's rmse: 1760.81\n",
      "[308]\tvalid_0's rmse: 1760.5\n",
      "[309]\tvalid_0's rmse: 1759.92\n",
      "[310]\tvalid_0's rmse: 1759.6\n",
      "[311]\tvalid_0's rmse: 1759.3\n",
      "[312]\tvalid_0's rmse: 1759.12\n",
      "[313]\tvalid_0's rmse: 1758.66\n",
      "[314]\tvalid_0's rmse: 1758.26\n",
      "[315]\tvalid_0's rmse: 1757.97\n",
      "[316]\tvalid_0's rmse: 1757.49\n",
      "[317]\tvalid_0's rmse: 1757.17\n",
      "[318]\tvalid_0's rmse: 1756.81\n",
      "[319]\tvalid_0's rmse: 1756.53\n",
      "[320]\tvalid_0's rmse: 1756.07\n",
      "[321]\tvalid_0's rmse: 1755.72\n",
      "[322]\tvalid_0's rmse: 1755.14\n",
      "[323]\tvalid_0's rmse: 1754.73\n",
      "[324]\tvalid_0's rmse: 1754.42\n",
      "[325]\tvalid_0's rmse: 1753.99\n",
      "[326]\tvalid_0's rmse: 1753.72\n",
      "[327]\tvalid_0's rmse: 1753.45\n",
      "[328]\tvalid_0's rmse: 1752.99\n",
      "[329]\tvalid_0's rmse: 1752.62\n",
      "[330]\tvalid_0's rmse: 1752.26\n",
      "[331]\tvalid_0's rmse: 1751.89\n",
      "[332]\tvalid_0's rmse: 1751.61\n",
      "[333]\tvalid_0's rmse: 1751.41\n",
      "[334]\tvalid_0's rmse: 1751.02\n",
      "[335]\tvalid_0's rmse: 1750.6\n",
      "[336]\tvalid_0's rmse: 1750.3\n",
      "[337]\tvalid_0's rmse: 1749.89\n",
      "[338]\tvalid_0's rmse: 1749.43\n",
      "[339]\tvalid_0's rmse: 1749.2\n",
      "[340]\tvalid_0's rmse: 1748.9\n",
      "[341]\tvalid_0's rmse: 1748.63\n",
      "[342]\tvalid_0's rmse: 1748.28\n",
      "[343]\tvalid_0's rmse: 1748\n",
      "[344]\tvalid_0's rmse: 1747.79\n",
      "[345]\tvalid_0's rmse: 1747.55\n",
      "[346]\tvalid_0's rmse: 1747.23\n",
      "[347]\tvalid_0's rmse: 1747.06\n",
      "[348]\tvalid_0's rmse: 1746.82\n",
      "[349]\tvalid_0's rmse: 1746.62\n",
      "[350]\tvalid_0's rmse: 1746.24\n",
      "[351]\tvalid_0's rmse: 1745.97\n",
      "[352]\tvalid_0's rmse: 1745.6\n",
      "[353]\tvalid_0's rmse: 1745.18\n",
      "[354]\tvalid_0's rmse: 1744.88\n",
      "[355]\tvalid_0's rmse: 1744.5\n",
      "[356]\tvalid_0's rmse: 1744.31\n",
      "[357]\tvalid_0's rmse: 1744.03\n",
      "[358]\tvalid_0's rmse: 1743.71\n",
      "[359]\tvalid_0's rmse: 1743.5\n",
      "[360]\tvalid_0's rmse: 1743.15\n",
      "[361]\tvalid_0's rmse: 1743.01\n",
      "[362]\tvalid_0's rmse: 1742.65\n",
      "[363]\tvalid_0's rmse: 1742.54\n",
      "[364]\tvalid_0's rmse: 1742.3\n",
      "[365]\tvalid_0's rmse: 1742.11\n",
      "[366]\tvalid_0's rmse: 1741.78\n",
      "[367]\tvalid_0's rmse: 1741.56\n",
      "[368]\tvalid_0's rmse: 1741.17\n",
      "[369]\tvalid_0's rmse: 1741\n",
      "[370]\tvalid_0's rmse: 1740.79\n",
      "[371]\tvalid_0's rmse: 1740.56\n",
      "[372]\tvalid_0's rmse: 1740.39\n",
      "[373]\tvalid_0's rmse: 1740.17\n",
      "[374]\tvalid_0's rmse: 1739.93\n",
      "[375]\tvalid_0's rmse: 1739.71\n",
      "[376]\tvalid_0's rmse: 1739.43\n",
      "[377]\tvalid_0's rmse: 1739.17\n",
      "[378]\tvalid_0's rmse: 1738.63\n",
      "[379]\tvalid_0's rmse: 1738.42\n",
      "[380]\tvalid_0's rmse: 1738.23\n",
      "[381]\tvalid_0's rmse: 1738.01\n",
      "[382]\tvalid_0's rmse: 1737.52\n",
      "[383]\tvalid_0's rmse: 1737.18\n",
      "[384]\tvalid_0's rmse: 1736.97\n",
      "[385]\tvalid_0's rmse: 1736.78\n",
      "[386]\tvalid_0's rmse: 1736.34\n",
      "[387]\tvalid_0's rmse: 1736.1\n",
      "[388]\tvalid_0's rmse: 1735.93\n",
      "[389]\tvalid_0's rmse: 1735.7\n",
      "[390]\tvalid_0's rmse: 1735.46\n",
      "[391]\tvalid_0's rmse: 1735.16\n",
      "[392]\tvalid_0's rmse: 1734.88\n",
      "[393]\tvalid_0's rmse: 1734.75\n",
      "[394]\tvalid_0's rmse: 1734.42\n",
      "[395]\tvalid_0's rmse: 1734.27\n",
      "[396]\tvalid_0's rmse: 1734.03\n",
      "[397]\tvalid_0's rmse: 1733.87\n",
      "[398]\tvalid_0's rmse: 1733.8\n",
      "[399]\tvalid_0's rmse: 1733.67\n",
      "[400]\tvalid_0's rmse: 1733.42\n",
      "[401]\tvalid_0's rmse: 1733.21\n",
      "[402]\tvalid_0's rmse: 1732.98\n",
      "[403]\tvalid_0's rmse: 1732.72\n",
      "[404]\tvalid_0's rmse: 1732.35\n",
      "[405]\tvalid_0's rmse: 1732.1\n",
      "[406]\tvalid_0's rmse: 1731.78\n",
      "[407]\tvalid_0's rmse: 1731.49\n",
      "[408]\tvalid_0's rmse: 1731.15\n",
      "[409]\tvalid_0's rmse: 1730.77\n",
      "[410]\tvalid_0's rmse: 1730.59\n",
      "[411]\tvalid_0's rmse: 1730.4\n",
      "[412]\tvalid_0's rmse: 1730.14\n",
      "[413]\tvalid_0's rmse: 1729.84\n",
      "[414]\tvalid_0's rmse: 1729.62\n",
      "[415]\tvalid_0's rmse: 1729.16\n",
      "[416]\tvalid_0's rmse: 1728.94\n",
      "[417]\tvalid_0's rmse: 1728.81\n",
      "[418]\tvalid_0's rmse: 1728.6\n",
      "[419]\tvalid_0's rmse: 1728.43\n",
      "[420]\tvalid_0's rmse: 1728.25\n",
      "[421]\tvalid_0's rmse: 1728.02\n",
      "[422]\tvalid_0's rmse: 1727.73\n",
      "[423]\tvalid_0's rmse: 1727.24\n",
      "[424]\tvalid_0's rmse: 1727.01\n",
      "[425]\tvalid_0's rmse: 1726.79\n",
      "[426]\tvalid_0's rmse: 1726.55\n",
      "[427]\tvalid_0's rmse: 1726.4\n",
      "[428]\tvalid_0's rmse: 1726.18\n",
      "[429]\tvalid_0's rmse: 1725.84\n",
      "[430]\tvalid_0's rmse: 1725.6\n",
      "[431]\tvalid_0's rmse: 1725.24\n",
      "[432]\tvalid_0's rmse: 1724.94\n",
      "[433]\tvalid_0's rmse: 1724.8\n",
      "[434]\tvalid_0's rmse: 1724.55\n",
      "[435]\tvalid_0's rmse: 1724.43\n",
      "[436]\tvalid_0's rmse: 1724.23\n",
      "[437]\tvalid_0's rmse: 1723.95\n",
      "[438]\tvalid_0's rmse: 1723.81\n",
      "[439]\tvalid_0's rmse: 1723.61\n",
      "[440]\tvalid_0's rmse: 1723.51\n",
      "[441]\tvalid_0's rmse: 1723.34\n",
      "[442]\tvalid_0's rmse: 1723.26\n",
      "[443]\tvalid_0's rmse: 1723.18\n",
      "[444]\tvalid_0's rmse: 1723.06\n",
      "[445]\tvalid_0's rmse: 1722.82\n",
      "[446]\tvalid_0's rmse: 1722.66\n",
      "[447]\tvalid_0's rmse: 1722.56\n",
      "[448]\tvalid_0's rmse: 1722.38\n",
      "[449]\tvalid_0's rmse: 1722.19\n",
      "[450]\tvalid_0's rmse: 1722.03\n",
      "[451]\tvalid_0's rmse: 1721.85\n",
      "[452]\tvalid_0's rmse: 1721.61\n",
      "[453]\tvalid_0's rmse: 1721.26\n",
      "[454]\tvalid_0's rmse: 1721.09\n",
      "[455]\tvalid_0's rmse: 1720.73\n",
      "[456]\tvalid_0's rmse: 1720.54\n",
      "[457]\tvalid_0's rmse: 1720.32\n",
      "[458]\tvalid_0's rmse: 1720.13\n",
      "[459]\tvalid_0's rmse: 1719.95\n",
      "[460]\tvalid_0's rmse: 1719.76\n",
      "[461]\tvalid_0's rmse: 1719.59\n",
      "[462]\tvalid_0's rmse: 1719.42\n",
      "[463]\tvalid_0's rmse: 1719.14\n",
      "[464]\tvalid_0's rmse: 1718.92\n",
      "[465]\tvalid_0's rmse: 1718.79\n",
      "[466]\tvalid_0's rmse: 1718.72\n",
      "[467]\tvalid_0's rmse: 1718.35\n",
      "[468]\tvalid_0's rmse: 1718.11\n",
      "[469]\tvalid_0's rmse: 1718\n",
      "[470]\tvalid_0's rmse: 1717.76\n",
      "[471]\tvalid_0's rmse: 1717.7\n",
      "[472]\tvalid_0's rmse: 1717.53\n",
      "[473]\tvalid_0's rmse: 1717.41\n",
      "[474]\tvalid_0's rmse: 1717.24\n",
      "[475]\tvalid_0's rmse: 1716.97\n",
      "[476]\tvalid_0's rmse: 1716.87\n",
      "[477]\tvalid_0's rmse: 1716.75\n",
      "[478]\tvalid_0's rmse: 1716.57\n",
      "[479]\tvalid_0's rmse: 1716.45\n",
      "[480]\tvalid_0's rmse: 1716.23\n",
      "[481]\tvalid_0's rmse: 1716.05\n",
      "[482]\tvalid_0's rmse: 1715.86\n",
      "[483]\tvalid_0's rmse: 1715.77\n",
      "[484]\tvalid_0's rmse: 1715.63\n",
      "[485]\tvalid_0's rmse: 1715.45\n",
      "[486]\tvalid_0's rmse: 1715.35\n",
      "[487]\tvalid_0's rmse: 1715.26\n",
      "[488]\tvalid_0's rmse: 1715.15\n",
      "[489]\tvalid_0's rmse: 1715.06\n",
      "[490]\tvalid_0's rmse: 1714.98\n",
      "[491]\tvalid_0's rmse: 1714.78\n",
      "[492]\tvalid_0's rmse: 1714.68\n",
      "[493]\tvalid_0's rmse: 1714.4\n",
      "[494]\tvalid_0's rmse: 1714.22\n",
      "[495]\tvalid_0's rmse: 1713.97\n",
      "[496]\tvalid_0's rmse: 1713.64\n",
      "[497]\tvalid_0's rmse: 1713.49\n",
      "[498]\tvalid_0's rmse: 1713.11\n",
      "[499]\tvalid_0's rmse: 1712.88\n",
      "[500]\tvalid_0's rmse: 1712.75\n",
      "[501]\tvalid_0's rmse: 1712.61\n",
      "[502]\tvalid_0's rmse: 1712.42\n",
      "[503]\tvalid_0's rmse: 1712.33\n",
      "[504]\tvalid_0's rmse: 1712.27\n",
      "[505]\tvalid_0's rmse: 1712.03\n",
      "[506]\tvalid_0's rmse: 1711.67\n",
      "[507]\tvalid_0's rmse: 1711.43\n",
      "[508]\tvalid_0's rmse: 1711.16\n",
      "[509]\tvalid_0's rmse: 1711.09\n",
      "[510]\tvalid_0's rmse: 1710.87\n",
      "[511]\tvalid_0's rmse: 1710.76\n",
      "[512]\tvalid_0's rmse: 1710.58\n",
      "[513]\tvalid_0's rmse: 1710.41\n",
      "[514]\tvalid_0's rmse: 1710.34\n",
      "[515]\tvalid_0's rmse: 1710.27\n",
      "[516]\tvalid_0's rmse: 1709.89\n",
      "[517]\tvalid_0's rmse: 1709.66\n",
      "[518]\tvalid_0's rmse: 1709.48\n",
      "[519]\tvalid_0's rmse: 1709.03\n",
      "[520]\tvalid_0's rmse: 1708.82\n",
      "[521]\tvalid_0's rmse: 1708.66\n",
      "[522]\tvalid_0's rmse: 1708.52\n",
      "[523]\tvalid_0's rmse: 1708.4\n",
      "[524]\tvalid_0's rmse: 1708.27\n",
      "[525]\tvalid_0's rmse: 1708.18\n",
      "[526]\tvalid_0's rmse: 1708.02\n",
      "[527]\tvalid_0's rmse: 1707.84\n",
      "[528]\tvalid_0's rmse: 1707.72\n",
      "[529]\tvalid_0's rmse: 1707.6\n",
      "[530]\tvalid_0's rmse: 1707.41\n",
      "[531]\tvalid_0's rmse: 1707.31\n",
      "[532]\tvalid_0's rmse: 1707.05\n",
      "[533]\tvalid_0's rmse: 1706.95\n",
      "[534]\tvalid_0's rmse: 1706.84\n",
      "[535]\tvalid_0's rmse: 1706.66\n",
      "[536]\tvalid_0's rmse: 1706.42\n",
      "[537]\tvalid_0's rmse: 1706.29\n",
      "[538]\tvalid_0's rmse: 1706.16\n",
      "[539]\tvalid_0's rmse: 1706.05\n",
      "[540]\tvalid_0's rmse: 1705.84\n",
      "[541]\tvalid_0's rmse: 1705.66\n",
      "[542]\tvalid_0's rmse: 1705.44\n",
      "[543]\tvalid_0's rmse: 1705.39\n",
      "[544]\tvalid_0's rmse: 1705.24\n",
      "[545]\tvalid_0's rmse: 1705.1\n",
      "[546]\tvalid_0's rmse: 1704.98\n",
      "[547]\tvalid_0's rmse: 1704.9\n",
      "[548]\tvalid_0's rmse: 1704.85\n",
      "[549]\tvalid_0's rmse: 1704.74\n",
      "[550]\tvalid_0's rmse: 1704.61\n",
      "[551]\tvalid_0's rmse: 1704.47\n",
      "[552]\tvalid_0's rmse: 1704.32\n",
      "[553]\tvalid_0's rmse: 1704.21\n",
      "[554]\tvalid_0's rmse: 1704.07\n",
      "[555]\tvalid_0's rmse: 1703.91\n",
      "[556]\tvalid_0's rmse: 1703.77\n",
      "[557]\tvalid_0's rmse: 1703.67\n",
      "[558]\tvalid_0's rmse: 1703.48\n",
      "[559]\tvalid_0's rmse: 1703.41\n",
      "[560]\tvalid_0's rmse: 1703.31\n",
      "[561]\tvalid_0's rmse: 1703.18\n",
      "[562]\tvalid_0's rmse: 1703.07\n",
      "[563]\tvalid_0's rmse: 1702.95\n",
      "[564]\tvalid_0's rmse: 1702.82\n",
      "[565]\tvalid_0's rmse: 1702.64\n",
      "[566]\tvalid_0's rmse: 1702.42\n",
      "[567]\tvalid_0's rmse: 1702.27\n",
      "[568]\tvalid_0's rmse: 1702.21\n",
      "[569]\tvalid_0's rmse: 1702.12\n",
      "[570]\tvalid_0's rmse: 1702.03\n",
      "[571]\tvalid_0's rmse: 1701.87\n",
      "[572]\tvalid_0's rmse: 1701.82\n",
      "[573]\tvalid_0's rmse: 1701.73\n",
      "[574]\tvalid_0's rmse: 1701.72\n",
      "[575]\tvalid_0's rmse: 1701.63\n",
      "[576]\tvalid_0's rmse: 1701.54\n",
      "[577]\tvalid_0's rmse: 1701.54\n",
      "[578]\tvalid_0's rmse: 1701.11\n",
      "[579]\tvalid_0's rmse: 1701.04\n",
      "[580]\tvalid_0's rmse: 1700.89\n",
      "[581]\tvalid_0's rmse: 1700.78\n",
      "[582]\tvalid_0's rmse: 1700.66\n",
      "[583]\tvalid_0's rmse: 1700.55\n",
      "[584]\tvalid_0's rmse: 1700.46\n",
      "[585]\tvalid_0's rmse: 1700.32\n",
      "[586]\tvalid_0's rmse: 1700.19\n",
      "[587]\tvalid_0's rmse: 1700.08\n",
      "[588]\tvalid_0's rmse: 1700.01\n",
      "[589]\tvalid_0's rmse: 1699.89\n",
      "[590]\tvalid_0's rmse: 1699.85\n",
      "[591]\tvalid_0's rmse: 1699.72\n",
      "[592]\tvalid_0's rmse: 1699.63\n",
      "[593]\tvalid_0's rmse: 1699.25\n",
      "[594]\tvalid_0's rmse: 1699.14\n",
      "[595]\tvalid_0's rmse: 1699.06\n",
      "[596]\tvalid_0's rmse: 1698.95\n",
      "[597]\tvalid_0's rmse: 1698.78\n",
      "[598]\tvalid_0's rmse: 1698.58\n",
      "[599]\tvalid_0's rmse: 1698.43\n",
      "[600]\tvalid_0's rmse: 1698.32\n",
      "[601]\tvalid_0's rmse: 1698.24\n",
      "[602]\tvalid_0's rmse: 1698.12\n",
      "[603]\tvalid_0's rmse: 1698.01\n",
      "[604]\tvalid_0's rmse: 1697.93\n",
      "[605]\tvalid_0's rmse: 1697.8\n",
      "[606]\tvalid_0's rmse: 1697.7\n",
      "[607]\tvalid_0's rmse: 1697.58\n",
      "[608]\tvalid_0's rmse: 1697.49\n",
      "[609]\tvalid_0's rmse: 1697.38\n",
      "[610]\tvalid_0's rmse: 1697.26\n",
      "[611]\tvalid_0's rmse: 1697.16\n",
      "[612]\tvalid_0's rmse: 1696.99\n",
      "[613]\tvalid_0's rmse: 1696.92\n",
      "[614]\tvalid_0's rmse: 1696.84\n",
      "[615]\tvalid_0's rmse: 1696.78\n",
      "[616]\tvalid_0's rmse: 1696.73\n",
      "[617]\tvalid_0's rmse: 1696.66\n",
      "[618]\tvalid_0's rmse: 1696.59\n",
      "[619]\tvalid_0's rmse: 1696.42\n",
      "[620]\tvalid_0's rmse: 1696.18\n",
      "[621]\tvalid_0's rmse: 1696.19\n",
      "[622]\tvalid_0's rmse: 1696.08\n",
      "[623]\tvalid_0's rmse: 1695.92\n",
      "[624]\tvalid_0's rmse: 1695.73\n",
      "[625]\tvalid_0's rmse: 1695.63\n",
      "[626]\tvalid_0's rmse: 1695.57\n",
      "[627]\tvalid_0's rmse: 1695.51\n",
      "[628]\tvalid_0's rmse: 1695.37\n",
      "[629]\tvalid_0's rmse: 1695.27\n",
      "[630]\tvalid_0's rmse: 1695.07\n",
      "[631]\tvalid_0's rmse: 1694.89\n",
      "[632]\tvalid_0's rmse: 1694.82\n",
      "[633]\tvalid_0's rmse: 1694.7\n",
      "[634]\tvalid_0's rmse: 1694.46\n",
      "[635]\tvalid_0's rmse: 1694.41\n",
      "[636]\tvalid_0's rmse: 1694.32\n",
      "[637]\tvalid_0's rmse: 1694.08\n",
      "[638]\tvalid_0's rmse: 1694.02\n",
      "[639]\tvalid_0's rmse: 1693.88\n",
      "[640]\tvalid_0's rmse: 1693.77\n",
      "[641]\tvalid_0's rmse: 1693.69\n",
      "[642]\tvalid_0's rmse: 1693.63\n",
      "[643]\tvalid_0's rmse: 1693.54\n",
      "[644]\tvalid_0's rmse: 1693.48\n",
      "[645]\tvalid_0's rmse: 1693.44\n",
      "[646]\tvalid_0's rmse: 1693.41\n",
      "[647]\tvalid_0's rmse: 1693.27\n",
      "[648]\tvalid_0's rmse: 1693.07\n",
      "[649]\tvalid_0's rmse: 1692.93\n",
      "[650]\tvalid_0's rmse: 1692.88\n",
      "[651]\tvalid_0's rmse: 1692.83\n",
      "[652]\tvalid_0's rmse: 1692.7\n",
      "[653]\tvalid_0's rmse: 1692.64\n",
      "[654]\tvalid_0's rmse: 1692.56\n",
      "[655]\tvalid_0's rmse: 1692.5\n",
      "[656]\tvalid_0's rmse: 1692.52\n",
      "[657]\tvalid_0's rmse: 1692.46\n",
      "[658]\tvalid_0's rmse: 1692.43\n",
      "[659]\tvalid_0's rmse: 1692.36\n",
      "[660]\tvalid_0's rmse: 1692.23\n",
      "[661]\tvalid_0's rmse: 1691.95\n",
      "[662]\tvalid_0's rmse: 1691.86\n",
      "[663]\tvalid_0's rmse: 1691.65\n",
      "[664]\tvalid_0's rmse: 1691.58\n",
      "[665]\tvalid_0's rmse: 1691.51\n",
      "[666]\tvalid_0's rmse: 1691.42\n",
      "[667]\tvalid_0's rmse: 1691.28\n",
      "[668]\tvalid_0's rmse: 1691.11\n",
      "[669]\tvalid_0's rmse: 1691.05\n",
      "[670]\tvalid_0's rmse: 1691.01\n",
      "[671]\tvalid_0's rmse: 1690.91\n",
      "[672]\tvalid_0's rmse: 1690.77\n",
      "[673]\tvalid_0's rmse: 1690.62\n",
      "[674]\tvalid_0's rmse: 1690.5\n",
      "[675]\tvalid_0's rmse: 1690.39\n",
      "[676]\tvalid_0's rmse: 1690.16\n",
      "[677]\tvalid_0's rmse: 1690.13\n",
      "[678]\tvalid_0's rmse: 1690.02\n",
      "[679]\tvalid_0's rmse: 1689.86\n",
      "[680]\tvalid_0's rmse: 1689.82\n",
      "[681]\tvalid_0's rmse: 1689.76\n",
      "[682]\tvalid_0's rmse: 1689.67\n",
      "[683]\tvalid_0's rmse: 1689.58\n",
      "[684]\tvalid_0's rmse: 1689.46\n",
      "[685]\tvalid_0's rmse: 1689.45\n",
      "[686]\tvalid_0's rmse: 1689.39\n",
      "[687]\tvalid_0's rmse: 1689.27\n",
      "[688]\tvalid_0's rmse: 1689.2\n",
      "[689]\tvalid_0's rmse: 1689.15\n",
      "[690]\tvalid_0's rmse: 1689.11\n",
      "[691]\tvalid_0's rmse: 1689.06\n",
      "[692]\tvalid_0's rmse: 1689.04\n",
      "[693]\tvalid_0's rmse: 1689\n",
      "[694]\tvalid_0's rmse: 1688.89\n",
      "[695]\tvalid_0's rmse: 1688.66\n",
      "[696]\tvalid_0's rmse: 1688.61\n",
      "[697]\tvalid_0's rmse: 1688.38\n",
      "[698]\tvalid_0's rmse: 1688.09\n",
      "[699]\tvalid_0's rmse: 1688.07\n",
      "[700]\tvalid_0's rmse: 1688.05\n",
      "[701]\tvalid_0's rmse: 1688\n",
      "[702]\tvalid_0's rmse: 1687.84\n",
      "[703]\tvalid_0's rmse: 1687.8\n",
      "[704]\tvalid_0's rmse: 1687.67\n",
      "[705]\tvalid_0's rmse: 1687.53\n",
      "[706]\tvalid_0's rmse: 1687.33\n",
      "[707]\tvalid_0's rmse: 1687.2\n",
      "[708]\tvalid_0's rmse: 1687.08\n",
      "[709]\tvalid_0's rmse: 1686.96\n",
      "[710]\tvalid_0's rmse: 1686.85\n",
      "[711]\tvalid_0's rmse: 1686.72\n",
      "[712]\tvalid_0's rmse: 1686.65\n",
      "[713]\tvalid_0's rmse: 1686.59\n",
      "[714]\tvalid_0's rmse: 1686.55\n",
      "[715]\tvalid_0's rmse: 1686.39\n",
      "[716]\tvalid_0's rmse: 1686.27\n",
      "[717]\tvalid_0's rmse: 1686.25\n",
      "[718]\tvalid_0's rmse: 1686.15\n",
      "[719]\tvalid_0's rmse: 1686.11\n",
      "[720]\tvalid_0's rmse: 1685.98\n",
      "[721]\tvalid_0's rmse: 1685.94\n",
      "[722]\tvalid_0's rmse: 1685.87\n",
      "[723]\tvalid_0's rmse: 1685.84\n",
      "[724]\tvalid_0's rmse: 1685.78\n",
      "[725]\tvalid_0's rmse: 1685.72\n",
      "[726]\tvalid_0's rmse: 1685.65\n",
      "[727]\tvalid_0's rmse: 1685.62\n",
      "[728]\tvalid_0's rmse: 1685.6\n",
      "[729]\tvalid_0's rmse: 1685.53\n",
      "[730]\tvalid_0's rmse: 1685.26\n",
      "[731]\tvalid_0's rmse: 1685.18\n",
      "[732]\tvalid_0's rmse: 1685.07\n",
      "[733]\tvalid_0's rmse: 1685.01\n",
      "[734]\tvalid_0's rmse: 1684.92\n",
      "[735]\tvalid_0's rmse: 1684.76\n",
      "[736]\tvalid_0's rmse: 1684.75\n",
      "[737]\tvalid_0's rmse: 1684.71\n",
      "[738]\tvalid_0's rmse: 1684.51\n",
      "[739]\tvalid_0's rmse: 1684.44\n",
      "[740]\tvalid_0's rmse: 1684.3\n",
      "[741]\tvalid_0's rmse: 1684.24\n",
      "[742]\tvalid_0's rmse: 1684.13\n",
      "[743]\tvalid_0's rmse: 1684.05\n",
      "[744]\tvalid_0's rmse: 1684.06\n",
      "[745]\tvalid_0's rmse: 1684\n",
      "[746]\tvalid_0's rmse: 1683.94\n",
      "[747]\tvalid_0's rmse: 1683.9\n",
      "[748]\tvalid_0's rmse: 1683.82\n",
      "[749]\tvalid_0's rmse: 1683.7\n",
      "[750]\tvalid_0's rmse: 1683.55\n",
      "[751]\tvalid_0's rmse: 1683.36\n",
      "[752]\tvalid_0's rmse: 1683.18\n",
      "[753]\tvalid_0's rmse: 1683.12\n",
      "[754]\tvalid_0's rmse: 1683.08\n",
      "[755]\tvalid_0's rmse: 1682.87\n",
      "[756]\tvalid_0's rmse: 1682.82\n",
      "[757]\tvalid_0's rmse: 1682.79\n",
      "[758]\tvalid_0's rmse: 1682.73\n",
      "[759]\tvalid_0's rmse: 1682.66\n",
      "[760]\tvalid_0's rmse: 1682.63\n",
      "[761]\tvalid_0's rmse: 1682.52\n",
      "[762]\tvalid_0's rmse: 1682.27\n",
      "[763]\tvalid_0's rmse: 1682.19\n",
      "[764]\tvalid_0's rmse: 1681.99\n",
      "[765]\tvalid_0's rmse: 1681.93\n",
      "[766]\tvalid_0's rmse: 1681.89\n",
      "[767]\tvalid_0's rmse: 1681.8\n",
      "[768]\tvalid_0's rmse: 1681.72\n",
      "[769]\tvalid_0's rmse: 1681.65\n",
      "[770]\tvalid_0's rmse: 1681.59\n",
      "[771]\tvalid_0's rmse: 1681.5\n",
      "[772]\tvalid_0's rmse: 1681.45\n",
      "[773]\tvalid_0's rmse: 1681.37\n",
      "[774]\tvalid_0's rmse: 1681.15\n",
      "[775]\tvalid_0's rmse: 1681.07\n",
      "[776]\tvalid_0's rmse: 1680.98\n",
      "[777]\tvalid_0's rmse: 1680.9\n",
      "[778]\tvalid_0's rmse: 1680.76\n",
      "[779]\tvalid_0's rmse: 1680.65\n",
      "[780]\tvalid_0's rmse: 1680.52\n",
      "[781]\tvalid_0's rmse: 1680.5\n",
      "[782]\tvalid_0's rmse: 1680.46\n",
      "[783]\tvalid_0's rmse: 1680.41\n",
      "[784]\tvalid_0's rmse: 1680.28\n",
      "[785]\tvalid_0's rmse: 1680.26\n",
      "[786]\tvalid_0's rmse: 1680.15\n",
      "[787]\tvalid_0's rmse: 1680.08\n",
      "[788]\tvalid_0's rmse: 1680.04\n",
      "[789]\tvalid_0's rmse: 1679.99\n",
      "[790]\tvalid_0's rmse: 1679.92\n",
      "[791]\tvalid_0's rmse: 1679.85\n",
      "[792]\tvalid_0's rmse: 1679.74\n",
      "[793]\tvalid_0's rmse: 1679.71\n",
      "[794]\tvalid_0's rmse: 1679.59\n",
      "[795]\tvalid_0's rmse: 1679.54\n",
      "[796]\tvalid_0's rmse: 1679.48\n",
      "[797]\tvalid_0's rmse: 1679.42\n",
      "[798]\tvalid_0's rmse: 1679.34\n",
      "[799]\tvalid_0's rmse: 1679.26\n",
      "[800]\tvalid_0's rmse: 1679.18\n",
      "[801]\tvalid_0's rmse: 1678.97\n",
      "[802]\tvalid_0's rmse: 1678.93\n",
      "[803]\tvalid_0's rmse: 1678.8\n",
      "[804]\tvalid_0's rmse: 1678.7\n",
      "[805]\tvalid_0's rmse: 1678.71\n",
      "[806]\tvalid_0's rmse: 1678.66\n",
      "[807]\tvalid_0's rmse: 1678.59\n",
      "[808]\tvalid_0's rmse: 1678.54\n",
      "[809]\tvalid_0's rmse: 1678.49\n",
      "[810]\tvalid_0's rmse: 1678.45\n",
      "[811]\tvalid_0's rmse: 1678.35\n",
      "[812]\tvalid_0's rmse: 1678.35\n",
      "[813]\tvalid_0's rmse: 1678.23\n",
      "[814]\tvalid_0's rmse: 1678.21\n",
      "[815]\tvalid_0's rmse: 1678.08\n",
      "[816]\tvalid_0's rmse: 1678.05\n",
      "[817]\tvalid_0's rmse: 1677.98\n",
      "[818]\tvalid_0's rmse: 1677.81\n",
      "[819]\tvalid_0's rmse: 1677.76\n",
      "[820]\tvalid_0's rmse: 1677.74\n",
      "[821]\tvalid_0's rmse: 1677.57\n",
      "[822]\tvalid_0's rmse: 1677.51\n",
      "[823]\tvalid_0's rmse: 1677.5\n",
      "[824]\tvalid_0's rmse: 1677.39\n",
      "[825]\tvalid_0's rmse: 1677.27\n",
      "[826]\tvalid_0's rmse: 1677.18\n",
      "[827]\tvalid_0's rmse: 1677.13\n",
      "[828]\tvalid_0's rmse: 1677.04\n",
      "[829]\tvalid_0's rmse: 1676.98\n",
      "[830]\tvalid_0's rmse: 1676.93\n",
      "[831]\tvalid_0's rmse: 1676.81\n",
      "[832]\tvalid_0's rmse: 1676.74\n",
      "[833]\tvalid_0's rmse: 1676.7\n",
      "[834]\tvalid_0's rmse: 1676.62\n",
      "[835]\tvalid_0's rmse: 1676.53\n",
      "[836]\tvalid_0's rmse: 1676.33\n",
      "[837]\tvalid_0's rmse: 1676.21\n",
      "[838]\tvalid_0's rmse: 1676.07\n",
      "[839]\tvalid_0's rmse: 1676\n",
      "[840]\tvalid_0's rmse: 1675.99\n",
      "[841]\tvalid_0's rmse: 1675.87\n",
      "[842]\tvalid_0's rmse: 1675.87\n",
      "[843]\tvalid_0's rmse: 1675.81\n",
      "[844]\tvalid_0's rmse: 1675.65\n",
      "[845]\tvalid_0's rmse: 1675.62\n",
      "[846]\tvalid_0's rmse: 1675.62\n",
      "[847]\tvalid_0's rmse: 1675.61\n",
      "[848]\tvalid_0's rmse: 1675.41\n",
      "[849]\tvalid_0's rmse: 1675.15\n",
      "[850]\tvalid_0's rmse: 1675.08\n",
      "[851]\tvalid_0's rmse: 1674.84\n",
      "[852]\tvalid_0's rmse: 1674.8\n",
      "[853]\tvalid_0's rmse: 1674.8\n",
      "[854]\tvalid_0's rmse: 1674.66\n",
      "[855]\tvalid_0's rmse: 1674.66\n",
      "[856]\tvalid_0's rmse: 1674.54\n",
      "[857]\tvalid_0's rmse: 1674.48\n",
      "[858]\tvalid_0's rmse: 1674.22\n",
      "[859]\tvalid_0's rmse: 1674.21\n",
      "[860]\tvalid_0's rmse: 1674.16\n",
      "[861]\tvalid_0's rmse: 1674.1\n",
      "[862]\tvalid_0's rmse: 1673.92\n",
      "[863]\tvalid_0's rmse: 1673.82\n",
      "[864]\tvalid_0's rmse: 1673.82\n",
      "[865]\tvalid_0's rmse: 1673.76\n",
      "[866]\tvalid_0's rmse: 1673.73\n",
      "[867]\tvalid_0's rmse: 1673.64\n",
      "[868]\tvalid_0's rmse: 1673.6\n",
      "[869]\tvalid_0's rmse: 1673.55\n",
      "[870]\tvalid_0's rmse: 1673.43\n",
      "[871]\tvalid_0's rmse: 1673.4\n",
      "[872]\tvalid_0's rmse: 1673.33\n",
      "[873]\tvalid_0's rmse: 1673.31\n",
      "[874]\tvalid_0's rmse: 1673.15\n",
      "[875]\tvalid_0's rmse: 1673.1\n",
      "[876]\tvalid_0's rmse: 1673.06\n",
      "[877]\tvalid_0's rmse: 1672.99\n",
      "[878]\tvalid_0's rmse: 1672.97\n",
      "[879]\tvalid_0's rmse: 1672.82\n",
      "[880]\tvalid_0's rmse: 1672.79\n",
      "[881]\tvalid_0's rmse: 1672.69\n",
      "[882]\tvalid_0's rmse: 1672.59\n",
      "[883]\tvalid_0's rmse: 1672.54\n",
      "[884]\tvalid_0's rmse: 1672.53\n",
      "[885]\tvalid_0's rmse: 1672.5\n",
      "[886]\tvalid_0's rmse: 1672.4\n",
      "[887]\tvalid_0's rmse: 1672.35\n",
      "[888]\tvalid_0's rmse: 1672.31\n",
      "[889]\tvalid_0's rmse: 1672.25\n",
      "[890]\tvalid_0's rmse: 1672.22\n",
      "[891]\tvalid_0's rmse: 1672.09\n",
      "[892]\tvalid_0's rmse: 1672.05\n",
      "[893]\tvalid_0's rmse: 1671.98\n",
      "[894]\tvalid_0's rmse: 1671.96\n",
      "[895]\tvalid_0's rmse: 1671.85\n",
      "[896]\tvalid_0's rmse: 1671.83\n",
      "[897]\tvalid_0's rmse: 1671.79\n",
      "[898]\tvalid_0's rmse: 1671.79\n",
      "[899]\tvalid_0's rmse: 1671.61\n",
      "[900]\tvalid_0's rmse: 1671.56\n",
      "[901]\tvalid_0's rmse: 1671.51\n",
      "[902]\tvalid_0's rmse: 1671.43\n",
      "[903]\tvalid_0's rmse: 1671.39\n",
      "[904]\tvalid_0's rmse: 1671.36\n",
      "[905]\tvalid_0's rmse: 1671.35\n",
      "[906]\tvalid_0's rmse: 1671.32\n",
      "[907]\tvalid_0's rmse: 1671.12\n",
      "[908]\tvalid_0's rmse: 1671.03\n",
      "[909]\tvalid_0's rmse: 1671.01\n",
      "[910]\tvalid_0's rmse: 1670.89\n",
      "[911]\tvalid_0's rmse: 1670.81\n",
      "[912]\tvalid_0's rmse: 1670.8\n",
      "[913]\tvalid_0's rmse: 1670.74\n",
      "[914]\tvalid_0's rmse: 1670.65\n",
      "[915]\tvalid_0's rmse: 1670.6\n",
      "[916]\tvalid_0's rmse: 1670.58\n",
      "[917]\tvalid_0's rmse: 1670.54\n",
      "[918]\tvalid_0's rmse: 1670.52\n",
      "[919]\tvalid_0's rmse: 1670.45\n",
      "[920]\tvalid_0's rmse: 1670.36\n",
      "[921]\tvalid_0's rmse: 1670.33\n",
      "[922]\tvalid_0's rmse: 1670.27\n",
      "[923]\tvalid_0's rmse: 1670.26\n",
      "[924]\tvalid_0's rmse: 1670.13\n",
      "[925]\tvalid_0's rmse: 1669.96\n",
      "[926]\tvalid_0's rmse: 1669.91\n",
      "[927]\tvalid_0's rmse: 1669.9\n",
      "[928]\tvalid_0's rmse: 1669.86\n",
      "[929]\tvalid_0's rmse: 1669.81\n",
      "[930]\tvalid_0's rmse: 1669.84\n",
      "[931]\tvalid_0's rmse: 1669.76\n",
      "[932]\tvalid_0's rmse: 1669.71\n",
      "[933]\tvalid_0's rmse: 1669.67\n",
      "[934]\tvalid_0's rmse: 1669.63\n",
      "[935]\tvalid_0's rmse: 1669.57\n",
      "[936]\tvalid_0's rmse: 1669.56\n",
      "[937]\tvalid_0's rmse: 1669.42\n",
      "[938]\tvalid_0's rmse: 1669.36\n",
      "[939]\tvalid_0's rmse: 1669.33\n",
      "[940]\tvalid_0's rmse: 1669.29\n",
      "[941]\tvalid_0's rmse: 1669.28\n",
      "[942]\tvalid_0's rmse: 1669.26\n",
      "[943]\tvalid_0's rmse: 1669.2\n",
      "[944]\tvalid_0's rmse: 1669.08\n",
      "[945]\tvalid_0's rmse: 1669.08\n",
      "[946]\tvalid_0's rmse: 1669.05\n",
      "[947]\tvalid_0's rmse: 1669.02\n",
      "[948]\tvalid_0's rmse: 1668.84\n",
      "[949]\tvalid_0's rmse: 1668.79\n",
      "[950]\tvalid_0's rmse: 1668.53\n",
      "[951]\tvalid_0's rmse: 1668.46\n",
      "[952]\tvalid_0's rmse: 1668.36\n",
      "[953]\tvalid_0's rmse: 1668.23\n",
      "[954]\tvalid_0's rmse: 1668.21\n",
      "[955]\tvalid_0's rmse: 1668.19\n",
      "[956]\tvalid_0's rmse: 1668.16\n",
      "[957]\tvalid_0's rmse: 1668.08\n",
      "[958]\tvalid_0's rmse: 1668.05\n",
      "[959]\tvalid_0's rmse: 1667.99\n",
      "[960]\tvalid_0's rmse: 1667.98\n",
      "[961]\tvalid_0's rmse: 1667.94\n",
      "[962]\tvalid_0's rmse: 1667.92\n",
      "[963]\tvalid_0's rmse: 1667.91\n",
      "[964]\tvalid_0's rmse: 1667.9\n",
      "[965]\tvalid_0's rmse: 1667.86\n",
      "[966]\tvalid_0's rmse: 1667.82\n",
      "[967]\tvalid_0's rmse: 1667.76\n",
      "[968]\tvalid_0's rmse: 1667.68\n",
      "[969]\tvalid_0's rmse: 1667.62\n",
      "[970]\tvalid_0's rmse: 1667.51\n",
      "[971]\tvalid_0's rmse: 1667.45\n",
      "[972]\tvalid_0's rmse: 1667.34\n",
      "[973]\tvalid_0's rmse: 1667.32\n",
      "[974]\tvalid_0's rmse: 1667.31\n",
      "[975]\tvalid_0's rmse: 1667.3\n",
      "[976]\tvalid_0's rmse: 1667.22\n",
      "[977]\tvalid_0's rmse: 1667.18\n",
      "[978]\tvalid_0's rmse: 1667.16\n",
      "[979]\tvalid_0's rmse: 1667.05\n",
      "[980]\tvalid_0's rmse: 1666.91\n",
      "[981]\tvalid_0's rmse: 1666.83\n",
      "[982]\tvalid_0's rmse: 1666.77\n",
      "[983]\tvalid_0's rmse: 1666.75\n",
      "[984]\tvalid_0's rmse: 1666.64\n",
      "[985]\tvalid_0's rmse: 1666.64\n",
      "[986]\tvalid_0's rmse: 1666.61\n",
      "[987]\tvalid_0's rmse: 1666.56\n",
      "[988]\tvalid_0's rmse: 1666.52\n",
      "[989]\tvalid_0's rmse: 1666.48\n",
      "[990]\tvalid_0's rmse: 1666.45\n",
      "[991]\tvalid_0's rmse: 1666.42\n",
      "[992]\tvalid_0's rmse: 1666.34\n",
      "[993]\tvalid_0's rmse: 1666.25\n",
      "[994]\tvalid_0's rmse: 1666.18\n",
      "[995]\tvalid_0's rmse: 1666.17\n",
      "[996]\tvalid_0's rmse: 1666.11\n",
      "[997]\tvalid_0's rmse: 1666.09\n",
      "[998]\tvalid_0's rmse: 1666.09\n",
      "[999]\tvalid_0's rmse: 1665.93\n",
      "[1000]\tvalid_0's rmse: 1665.89\n",
      "Did not meet early stopping. Best iteration is:\n",
      "[1000]\tvalid_0's rmse: 1665.89\n",
      "CPU times: user 1min 30s, sys: 1.39 s, total: 1min 32s\n",
      "Wall time: 1min 33s\n"
     ]
    },
    {
     "data": {
      "text/plain": [
       "LGBMRegressor(boosting_type='gbdt', class_weight=None, colsample_bytree=1.0,\n",
       "              importance_type='split', learning_rate=0.05, max_depth=16,\n",
       "              metric='rmse', min_child_samples=20, min_child_weight=0.001,\n",
       "              min_split_gain=0.0, n_estimators=1000, n_jobs=-1, num_leaves=31,\n",
       "              objective='regression', random_state=None, reg_alpha=0.0,\n",
       "              reg_lambda=0.0, silent=True, subsample=1.0,\n",
       "              subsample_for_bin=200000, subsample_freq=0)"
      ]
     },
     "execution_count": 108,
     "metadata": {},
     "output_type": "execute_result"
    }
   ],
   "source": [
    "%%time\n",
    "gb_model.fit(features_train, target_train, eval_set=[(features_valid, target_valid)], early_stopping_rounds=10)"
   ]
  },
  {
   "cell_type": "markdown",
   "metadata": {},
   "source": [
    "<div style=\"border-radius: 15px; border: 1px solid grey; padding: 15px;\">\n",
    "Обучили модель, теперь проверим время предсказания и результат метрики RMSE на тестовой выборке.\n",
    "</div>"
   ]
  },
  {
   "cell_type": "code",
   "execution_count": 109,
   "metadata": {},
   "outputs": [
    {
     "name": "stdout",
     "output_type": "stream",
     "text": [
      "CPU times: user 8.26 s, sys: 157 ms, total: 8.42 s\n",
      "Wall time: 8.99 s\n"
     ]
    }
   ],
   "source": [
    "%%time\n",
    "gb_model_pred = gb_model.predict(features_test, num_iteration=gb_model.best_iteration_)"
   ]
  },
  {
   "cell_type": "code",
   "execution_count": 110,
   "metadata": {},
   "outputs": [],
   "source": [
    "gb_rmse = mean_squared_error(target_test, gb_model_pred) ** 0.5"
   ]
  },
  {
   "cell_type": "code",
   "execution_count": 111,
   "metadata": {},
   "outputs": [
    {
     "data": {
      "text/plain": [
       "1651.6839844320848"
      ]
     },
     "execution_count": 111,
     "metadata": {},
     "output_type": "execute_result"
    }
   ],
   "source": [
    "gb_rmse"
   ]
  },
  {
   "cell_type": "markdown",
   "metadata": {},
   "source": [
    "<div style=\"border-radius: 15px; border: 1px solid grey; padding: 15px;\">\n",
    "Прогресс в точности предсказания опять очевиден, но вот время предсказания вырасло драматически.\n",
    "\n",
    "Фиксируем RMSE 1652 евро, время предсказания ~9,5 с.\n",
    "</div>"
   ]
  },
  {
   "cell_type": "markdown",
   "metadata": {},
   "source": [
    "## Анализ моделей"
   ]
  },
  {
   "cell_type": "markdown",
   "metadata": {},
   "source": [
    "<div style=\"border-radius: 15px; border: 1px solid grey; padding: 15px;\">\n",
    "У нас есть результаты по трем моделям, визуализируем их, добавих так же отношение RMSE для трех наших моделей.\n",
    "</div>"
   ]
  },
  {
   "cell_type": "code",
   "execution_count": 112,
   "metadata": {},
   "outputs": [
    {
     "data": {
      "text/html": [
       "<div>\n",
       "<style scoped>\n",
       "    .dataframe tbody tr th:only-of-type {\n",
       "        vertical-align: middle;\n",
       "    }\n",
       "\n",
       "    .dataframe tbody tr th {\n",
       "        vertical-align: top;\n",
       "    }\n",
       "\n",
       "    .dataframe thead th {\n",
       "        text-align: right;\n",
       "    }\n",
       "</style>\n",
       "<table border=\"1\" class=\"dataframe\">\n",
       "  <thead>\n",
       "    <tr style=\"text-align: right;\">\n",
       "      <th></th>\n",
       "      <th>RMSE</th>\n",
       "      <th>Prediction_Time</th>\n",
       "      <th>Training_Time</th>\n",
       "      <th>Ratio</th>\n",
       "    </tr>\n",
       "  </thead>\n",
       "  <tbody>\n",
       "    <tr>\n",
       "      <td>DT</td>\n",
       "      <td>2196.276361</td>\n",
       "      <td>0.18</td>\n",
       "      <td>1.12</td>\n",
       "      <td>10.000000</td>\n",
       "    </tr>\n",
       "    <tr>\n",
       "      <td>RF</td>\n",
       "      <td>1998.030117</td>\n",
       "      <td>1.50</td>\n",
       "      <td>5.07</td>\n",
       "      <td>9.097353</td>\n",
       "    </tr>\n",
       "    <tr>\n",
       "      <td>GB</td>\n",
       "      <td>1651.683984</td>\n",
       "      <td>9.50</td>\n",
       "      <td>1.54</td>\n",
       "      <td>7.520383</td>\n",
       "    </tr>\n",
       "  </tbody>\n",
       "</table>\n",
       "</div>"
      ],
      "text/plain": [
       "           RMSE  Prediction_Time  Training_Time      Ratio\n",
       "DT  2196.276361             0.18           1.12  10.000000\n",
       "RF  1998.030117             1.50           5.07   9.097353\n",
       "GB  1651.683984             9.50           1.54   7.520383"
      ]
     },
     "execution_count": 112,
     "metadata": {},
     "output_type": "execute_result"
    }
   ],
   "source": [
    "results = {'RMSE': [dt_rmse, rf_rmse, gb_rmse],\n",
    "           'Prediction_Time': [0.18, 1.5, 9.5],\n",
    "           'Training_Time': [1.12, 5.07, 1.54]}\n",
    "df_results = pd.DataFrame(data=results, index=['DT', 'RF', 'GB'])\n",
    "df_results['Ratio'] = df_results['RMSE'] / dt_rmse * 10\n",
    "df_results"
   ]
  },
  {
   "cell_type": "code",
   "execution_count": 113,
   "metadata": {},
   "outputs": [
    {
     "data": {
      "text/plain": [
       "Text(0, 0.5, 'Показатели')"
      ]
     },
     "execution_count": 113,
     "metadata": {},
     "output_type": "execute_result"
    },
    {
     "data": {
      "image/png": "[encoded data removed]",
      "text/plain": [
       "<Figure size 576x576 with 1 Axes>"
      ]
     },
     "metadata": {
      "needs_background": "light"
     },
     "output_type": "display_data"
    }
   ],
   "source": [
    "df_results[['Prediction_Time', 'Training_Time', 'Ratio']].plot(kind='line',\n",
    "        title='Снижение RMSE, Время предсказаний и ',\n",
    "        grid=True,\n",
    "        figsize=(8,8),\n",
    "        fontsize=10\n",
    "        )\n",
    "\n",
    "plt.xlabel('Модели')\n",
    "plt.ylabel(\"Показатели\")"
   ]
  },
  {
   "cell_type": "markdown",
   "metadata": {},
   "source": [
    "<div style=\"border-radius: 15px; border: 1px solid grey; padding: 15px;\">\n",
    "        В столбец Ratio помещены расчеты на сколько уменьшился показатель RMSE отностительно самой слабой модели Дерева решений. Эти два графика и представлены выше, в показателе Retio убран 0, для наглядности.\n",
    "    \n",
    "Так же масштабированы данные времени обучения для наглядности на одной системе координат. Первоначально замеры взяты в секундах, а записаны на два разряда меньше.  \n",
    "</div>"
   ]
  },
  {
   "cell_type": "markdown",
   "metadata": {},
   "source": [
    "<div style=\"border-radius: 15px; border: 1px solid grey; padding: 15px;\">\n",
    "<b> Итог:</b>\n",
    "    \n",
    "Лучший показатель RMSE меньше худшего на 25%, тогда как время предсказания вырасло более чем на 5000%. Не сложно сделать вывод, что в зависимости от выбраных приоритетов на скорость предсказания или на точность, можно выбирать между применением этих моделей. Если крайне важна скорость предсказания, можно пожертвовать тосчностью и использовать Дерево решений, а если исключить фактор времени предсказания, то однозначным выбором будет Градиентный Бустинг. Так же LightGBM показывает отличный результат по времени обучения и, принимая во внимание качество прогноза, по этому параметру градиентный бустинг однозначный лидер в нашем исследовании.\n",
    "    \n",
    "PS    \n",
    "Посмотрим на веса признаков.\n",
    "\n",
    "</div>"
   ]
  },
  {
   "cell_type": "code",
   "execution_count": 114,
   "metadata": {},
   "outputs": [],
   "source": [
    "def plotImp(model, X , num = 20, fig_size = (40, 20)):\n",
    "    feature_imp = pd.DataFrame({'Value':model.feature_importances_,'Feature':X.columns})\n",
    "    plt.figure(figsize=fig_size)\n",
    "    sns.set(font_scale = 5)\n",
    "    sns.barplot(x=\"Value\", y=\"Feature\", data=feature_imp.sort_values(by=\"Value\", \n",
    "                                                        ascending=False)[0:num])\n",
    "    plt.title('LightGBM Features (avg over folds)')\n",
    "    plt.tight_layout()\n",
    "    plt.savefig('lgbm_importances-01.png')\n",
    "    plt.show()"
   ]
  },
  {
   "cell_type": "code",
   "execution_count": 115,
   "metadata": {},
   "outputs": [
    {
     "data": {
      "image/png": "[encoded data removed]",
      "text/plain": [
       "<Figure size 2880x1440 with 1 Axes>"
      ]
     },
     "metadata": {
      "needs_background": "light"
     },
     "output_type": "display_data"
    }
   ],
   "source": [
    "plotImp(gb_model, features_train)"
   ]
  },
  {
   "cell_type": "markdown",
   "metadata": {},
   "source": [
    "<div style=\"border-radius: 15px; border: 1px solid grey; padding: 15px;\">\n",
    "\n",
    "Интересно...на песпективу можно было бы поиграть с весами, мощьность переоценена, как по мне.\n",
    "    \n",
    "</div>"
   ]
  }
 ],
 "metadata": {
  "ExecuteTimeLog": [
   {
    "duration": 1226,
    "start_time": "2021-08-18T05:54:00.319Z"
   },
   {
    "duration": 8662,
    "start_time": "2021-08-18T05:54:01.547Z"
   },
   {
    "duration": 122,
    "start_time": "2021-08-18T05:54:10.212Z"
   },
   {
    "duration": 18,
    "start_time": "2021-08-18T05:54:10.336Z"
   },
   {
    "duration": 114,
    "start_time": "2021-08-18T05:57:50.629Z"
   },
   {
    "duration": 123,
    "start_time": "2021-08-18T05:57:59.920Z"
   },
   {
    "duration": 130,
    "start_time": "2021-08-18T05:58:04.231Z"
   },
   {
    "duration": 13,
    "start_time": "2021-08-18T05:58:25.045Z"
   },
   {
    "duration": 10932,
    "start_time": "2021-08-18T06:47:33.539Z"
   },
   {
    "duration": 12054,
    "start_time": "2021-08-18T06:51:42.059Z"
   },
   {
    "duration": 695,
    "start_time": "2021-08-18T06:53:39.635Z"
   },
   {
    "duration": 445,
    "start_time": "2021-08-18T06:53:58.139Z"
   },
   {
    "duration": 643,
    "start_time": "2021-08-18T06:54:18.763Z"
   },
   {
    "duration": 4,
    "start_time": "2021-08-18T06:54:38.963Z"
   },
   {
    "duration": 10755,
    "start_time": "2021-08-18T06:54:53.803Z"
   },
   {
    "duration": 1288,
    "start_time": "2021-08-18T06:57:46.771Z"
   },
   {
    "duration": 2006,
    "start_time": "2021-08-18T06:59:14.384Z"
   },
   {
    "duration": 1220,
    "start_time": "2021-08-18T06:59:39.080Z"
   },
   {
    "duration": 93,
    "start_time": "2021-08-18T06:59:52.842Z"
   },
   {
    "duration": 4,
    "start_time": "2021-08-18T07:04:11.599Z"
   },
   {
    "duration": 460,
    "start_time": "2021-08-18T07:04:24.310Z"
   },
   {
    "duration": 449,
    "start_time": "2021-08-18T07:04:31.575Z"
   },
   {
    "duration": 35715,
    "start_time": "2021-08-18T07:04:57.030Z"
   },
   {
    "duration": 10239,
    "start_time": "2021-08-18T07:06:22.414Z"
   },
   {
    "duration": 1503,
    "start_time": "2021-08-18T07:32:05.502Z"
   },
   {
    "duration": 267,
    "start_time": "2021-08-18T07:33:41.712Z"
   },
   {
    "duration": 309,
    "start_time": "2021-08-18T08:00:44.754Z"
   },
   {
    "duration": 306,
    "start_time": "2021-08-18T08:01:02.114Z"
   },
   {
    "duration": 315,
    "start_time": "2021-08-18T08:06:02.918Z"
   },
   {
    "duration": 261,
    "start_time": "2021-08-18T08:06:34.552Z"
   },
   {
    "duration": 92,
    "start_time": "2021-08-18T08:06:57.249Z"
   },
   {
    "duration": 357,
    "start_time": "2021-08-18T08:07:03.088Z"
   },
   {
    "duration": 260,
    "start_time": "2021-08-18T08:08:26.848Z"
   },
   {
    "duration": 270,
    "start_time": "2021-08-18T08:08:34.471Z"
   },
   {
    "duration": 278,
    "start_time": "2021-08-18T08:08:58.464Z"
   },
   {
    "duration": 418,
    "start_time": "2021-08-18T08:09:03.758Z"
   },
   {
    "duration": 94,
    "start_time": "2021-08-18T08:09:10.231Z"
   },
   {
    "duration": 92,
    "start_time": "2021-08-18T08:09:52.856Z"
   },
   {
    "duration": 79,
    "start_time": "2021-08-18T08:10:16.463Z"
   },
   {
    "duration": 72,
    "start_time": "2021-08-18T08:10:29.576Z"
   },
   {
    "duration": 96,
    "start_time": "2021-08-18T08:11:01.688Z"
   },
   {
    "duration": 95,
    "start_time": "2021-08-18T08:11:05.566Z"
   },
   {
    "duration": 4,
    "start_time": "2021-08-18T08:12:13.166Z"
   },
   {
    "duration": 348,
    "start_time": "2021-08-18T08:12:22.709Z"
   },
   {
    "duration": 266,
    "start_time": "2021-08-18T08:12:31.143Z"
   },
   {
    "duration": 316,
    "start_time": "2021-08-18T08:12:35.135Z"
   },
   {
    "duration": 314,
    "start_time": "2021-08-18T08:12:41.286Z"
   },
   {
    "duration": 296,
    "start_time": "2021-08-18T08:12:56.573Z"
   },
   {
    "duration": 525,
    "start_time": "2021-08-18T08:13:03.357Z"
   },
   {
    "duration": 320,
    "start_time": "2021-08-18T08:13:07.976Z"
   },
   {
    "duration": 4,
    "start_time": "2021-08-18T08:13:13.462Z"
   },
   {
    "duration": 5,
    "start_time": "2021-08-18T08:13:27.296Z"
   },
   {
    "duration": 7,
    "start_time": "2021-08-18T08:13:35.454Z"
   },
   {
    "duration": 47,
    "start_time": "2021-08-18T08:13:42.155Z"
   },
   {
    "duration": 292,
    "start_time": "2021-08-18T08:14:03.381Z"
   },
   {
    "duration": 282,
    "start_time": "2021-08-18T08:14:14.806Z"
   },
   {
    "duration": 257,
    "start_time": "2021-08-18T08:14:25.213Z"
   },
   {
    "duration": 90,
    "start_time": "2021-08-18T08:14:30.510Z"
   },
   {
    "duration": 269,
    "start_time": "2021-08-18T08:15:31.694Z"
   },
   {
    "duration": 115,
    "start_time": "2021-08-18T08:15:51.190Z"
   },
   {
    "duration": 117,
    "start_time": "2021-08-18T08:16:12.508Z"
   },
   {
    "duration": 112,
    "start_time": "2021-08-18T08:16:31.016Z"
   },
   {
    "duration": 452,
    "start_time": "2021-08-18T08:16:42.652Z"
   },
   {
    "duration": 418,
    "start_time": "2021-08-18T08:16:50.364Z"
   },
   {
    "duration": 109,
    "start_time": "2021-08-18T08:17:30.124Z"
   },
   {
    "duration": 113,
    "start_time": "2021-08-18T08:18:12.852Z"
   },
   {
    "duration": 108,
    "start_time": "2021-08-18T08:18:16.933Z"
   },
   {
    "duration": 36,
    "start_time": "2021-08-18T08:20:23.628Z"
   },
   {
    "duration": 110,
    "start_time": "2021-08-18T08:21:13.707Z"
   },
   {
    "duration": 288,
    "start_time": "2021-08-18T08:23:25.642Z"
   },
   {
    "duration": 325,
    "start_time": "2021-08-18T08:23:34.563Z"
   },
   {
    "duration": 274,
    "start_time": "2021-08-18T08:23:46.146Z"
   },
   {
    "duration": 369,
    "start_time": "2021-08-18T08:23:59.114Z"
   },
   {
    "duration": 322,
    "start_time": "2021-08-18T08:24:40.819Z"
   },
   {
    "duration": 271,
    "start_time": "2021-08-18T08:24:45.611Z"
   },
   {
    "duration": 120,
    "start_time": "2021-08-18T08:25:43.716Z"
   },
   {
    "duration": 3,
    "start_time": "2021-08-18T08:25:46.140Z"
   },
   {
    "duration": 4,
    "start_time": "2021-08-18T08:25:55.332Z"
   },
   {
    "duration": 292,
    "start_time": "2021-08-18T08:26:02.108Z"
   },
   {
    "duration": 299,
    "start_time": "2021-08-18T08:26:38.582Z"
   },
   {
    "duration": 276,
    "start_time": "2021-08-18T08:27:48.058Z"
   },
   {
    "duration": 285,
    "start_time": "2021-08-18T08:28:09.266Z"
   },
   {
    "duration": 368,
    "start_time": "2021-08-18T08:28:17.225Z"
   },
   {
    "duration": 529,
    "start_time": "2021-08-18T08:28:27.753Z"
   },
   {
    "duration": 270,
    "start_time": "2021-08-18T08:28:42.698Z"
   },
   {
    "duration": 338,
    "start_time": "2021-08-18T08:28:55.272Z"
   },
   {
    "duration": 269,
    "start_time": "2021-08-18T08:29:01.232Z"
   },
   {
    "duration": 279,
    "start_time": "2021-08-18T08:29:11.344Z"
   },
   {
    "duration": 277,
    "start_time": "2021-08-18T08:29:18.385Z"
   },
   {
    "duration": 3,
    "start_time": "2021-08-18T08:29:36.272Z"
   },
   {
    "duration": 4,
    "start_time": "2021-08-18T08:29:36.528Z"
   },
   {
    "duration": 312,
    "start_time": "2021-08-18T08:29:54.825Z"
   },
   {
    "duration": 3,
    "start_time": "2021-08-18T08:30:21.651Z"
   },
   {
    "duration": 4,
    "start_time": "2021-08-18T08:30:23.024Z"
   },
   {
    "duration": 273,
    "start_time": "2021-08-18T08:30:34.896Z"
   },
   {
    "duration": 4,
    "start_time": "2021-08-18T08:33:00.400Z"
   },
   {
    "duration": 4,
    "start_time": "2021-08-18T08:33:01.362Z"
   },
   {
    "duration": 3,
    "start_time": "2021-08-18T08:33:31.271Z"
   },
   {
    "duration": 4,
    "start_time": "2021-08-18T08:33:31.559Z"
   },
   {
    "duration": 3,
    "start_time": "2021-08-18T08:34:26.208Z"
   },
   {
    "duration": 4,
    "start_time": "2021-08-18T08:34:30.071Z"
   },
   {
    "duration": 5,
    "start_time": "2021-08-18T08:34:33.870Z"
   },
   {
    "duration": 3,
    "start_time": "2021-08-18T08:36:53.902Z"
   },
   {
    "duration": 12867,
    "start_time": "2021-08-18T08:37:20.318Z"
   },
   {
    "duration": 134,
    "start_time": "2021-08-18T08:37:33.187Z"
   },
   {
    "duration": 10470,
    "start_time": "2021-08-18T08:37:45.869Z"
   },
   {
    "duration": 129,
    "start_time": "2021-08-18T08:37:57.261Z"
   },
   {
    "duration": 1268,
    "start_time": "2021-08-18T08:38:01.703Z"
   },
   {
    "duration": 135,
    "start_time": "2021-08-18T08:38:10.638Z"
   },
   {
    "duration": 4,
    "start_time": "2021-08-18T08:38:12.569Z"
   },
   {
    "duration": 4,
    "start_time": "2021-08-18T08:38:13.239Z"
   },
   {
    "duration": 2,
    "start_time": "2021-08-18T08:38:14.641Z"
   },
   {
    "duration": 3,
    "start_time": "2021-08-18T08:38:15.167Z"
   },
   {
    "duration": 99,
    "start_time": "2021-08-18T08:38:19.946Z"
   },
   {
    "duration": 14,
    "start_time": "2021-08-18T08:38:25.040Z"
   },
   {
    "duration": 34,
    "start_time": "2021-08-18T08:39:11.835Z"
   },
   {
    "duration": 113,
    "start_time": "2021-08-18T08:39:13.620Z"
   },
   {
    "duration": 286,
    "start_time": "2021-08-18T08:39:55.885Z"
   },
   {
    "duration": 11823,
    "start_time": "2021-08-18T08:40:07.069Z"
   },
   {
    "duration": 280,
    "start_time": "2021-08-18T08:40:24.861Z"
   },
   {
    "duration": 96,
    "start_time": "2021-08-18T08:43:54.084Z"
   },
   {
    "duration": 378,
    "start_time": "2021-08-18T08:45:04.027Z"
   },
   {
    "duration": 352,
    "start_time": "2021-08-18T08:45:15.923Z"
   },
   {
    "duration": 101,
    "start_time": "2021-08-18T08:45:46.213Z"
   },
   {
    "duration": 81,
    "start_time": "2021-08-18T08:46:09.868Z"
   },
   {
    "duration": 280,
    "start_time": "2021-08-18T08:46:57.818Z"
   },
   {
    "duration": 387,
    "start_time": "2021-08-18T08:47:05.387Z"
   },
   {
    "duration": 278,
    "start_time": "2021-08-18T08:47:24.363Z"
   },
   {
    "duration": 309,
    "start_time": "2021-08-18T08:47:54.314Z"
   },
   {
    "duration": 123,
    "start_time": "2021-08-18T08:48:06.988Z"
   },
   {
    "duration": 132,
    "start_time": "2021-08-18T08:48:40.083Z"
   },
   {
    "duration": 4,
    "start_time": "2021-08-18T08:48:44.715Z"
   },
   {
    "duration": 307,
    "start_time": "2021-08-18T08:48:52.514Z"
   },
   {
    "duration": 293,
    "start_time": "2021-08-18T08:49:09.985Z"
   },
   {
    "duration": 284,
    "start_time": "2021-08-18T08:50:54.904Z"
   },
   {
    "duration": 287,
    "start_time": "2021-08-18T08:51:06.561Z"
   },
   {
    "duration": 279,
    "start_time": "2021-08-18T08:51:10.121Z"
   },
   {
    "duration": 89,
    "start_time": "2021-08-18T08:51:22.577Z"
   },
   {
    "duration": 86,
    "start_time": "2021-08-18T08:51:52.810Z"
   },
   {
    "duration": 218,
    "start_time": "2021-08-18T08:53:18.227Z"
   },
   {
    "duration": 211,
    "start_time": "2021-08-18T08:53:36.917Z"
   },
   {
    "duration": 218,
    "start_time": "2021-08-18T08:53:56.066Z"
   },
   {
    "duration": 570,
    "start_time": "2021-08-18T08:54:01.396Z"
   },
   {
    "duration": 381,
    "start_time": "2021-08-18T08:54:16.965Z"
   },
   {
    "duration": 62,
    "start_time": "2021-08-18T08:54:25.051Z"
   },
   {
    "duration": 120,
    "start_time": "2021-08-18T08:54:45.538Z"
   },
   {
    "duration": 300,
    "start_time": "2021-08-18T08:54:50.946Z"
   },
   {
    "duration": 111,
    "start_time": "2021-08-18T08:55:00.050Z"
   },
   {
    "duration": 131,
    "start_time": "2021-08-18T08:55:10.633Z"
   },
   {
    "duration": 216,
    "start_time": "2021-08-18T08:55:17.425Z"
   },
   {
    "duration": 493,
    "start_time": "2021-08-18T08:58:31.954Z"
   },
   {
    "duration": 3563,
    "start_time": "2021-08-18T08:58:42.236Z"
   },
   {
    "duration": 107,
    "start_time": "2021-08-18T09:00:08.992Z"
   },
   {
    "duration": 81,
    "start_time": "2021-08-18T09:00:22.344Z"
   },
   {
    "duration": 4,
    "start_time": "2021-08-18T09:00:36.983Z"
   },
   {
    "duration": 224,
    "start_time": "2021-08-18T09:00:39.313Z"
   },
   {
    "duration": 94,
    "start_time": "2021-08-18T09:01:05.854Z"
   },
   {
    "duration": 513,
    "start_time": "2021-08-18T09:01:09.589Z"
   },
   {
    "duration": 540,
    "start_time": "2021-08-18T09:01:27.958Z"
   },
   {
    "duration": 4216,
    "start_time": "2021-08-18T09:01:41.222Z"
   },
   {
    "duration": 3066,
    "start_time": "2021-08-18T09:01:56.390Z"
   },
   {
    "duration": 482,
    "start_time": "2021-08-18T09:02:35.966Z"
   },
   {
    "duration": 282,
    "start_time": "2021-08-18T09:02:41.349Z"
   },
   {
    "duration": 359,
    "start_time": "2021-08-18T09:03:56.893Z"
   },
   {
    "duration": 338,
    "start_time": "2021-08-18T09:04:22.988Z"
   },
   {
    "duration": 299,
    "start_time": "2021-08-18T09:04:31.212Z"
   },
   {
    "duration": 218,
    "start_time": "2021-08-18T09:06:21.824Z"
   },
   {
    "duration": 631,
    "start_time": "2021-08-18T09:06:38.288Z"
   },
   {
    "duration": 234,
    "start_time": "2021-08-18T09:06:51.502Z"
   },
   {
    "duration": 2287,
    "start_time": "2021-08-18T09:07:07.630Z"
   },
   {
    "duration": 92,
    "start_time": "2021-08-18T09:07:24.038Z"
   },
   {
    "duration": 214,
    "start_time": "2021-08-18T09:07:29.517Z"
   },
   {
    "duration": 4,
    "start_time": "2021-08-18T09:07:46.837Z"
   },
   {
    "duration": 282,
    "start_time": "2021-08-18T09:07:52.821Z"
   },
   {
    "duration": 88,
    "start_time": "2021-08-18T09:08:04.109Z"
   },
   {
    "duration": 90,
    "start_time": "2021-08-18T09:08:30.445Z"
   },
   {
    "duration": 380,
    "start_time": "2021-08-18T09:08:49.422Z"
   },
   {
    "duration": 93,
    "start_time": "2021-08-18T09:08:56.749Z"
   },
   {
    "duration": 5466,
    "start_time": "2021-08-18T09:13:26.645Z"
   },
   {
    "duration": 6042,
    "start_time": "2021-08-18T09:13:49.612Z"
   },
   {
    "duration": 86,
    "start_time": "2021-08-18T09:15:53.243Z"
   },
   {
    "duration": 94,
    "start_time": "2021-08-18T09:16:38.058Z"
   },
   {
    "duration": 86,
    "start_time": "2021-08-18T09:16:42.602Z"
   },
   {
    "duration": 11,
    "start_time": "2021-08-18T09:16:47.978Z"
   },
   {
    "duration": 279,
    "start_time": "2021-08-18T09:18:28.026Z"
   },
   {
    "duration": 85,
    "start_time": "2021-08-18T09:18:31.098Z"
   },
   {
    "duration": 268,
    "start_time": "2021-08-18T09:18:39.233Z"
   },
   {
    "duration": 6870,
    "start_time": "2021-08-18T09:18:51.098Z"
   },
   {
    "duration": 4,
    "start_time": "2021-08-18T09:19:14.369Z"
   },
   {
    "duration": 99,
    "start_time": "2021-08-18T09:19:29.921Z"
   },
   {
    "duration": 7296,
    "start_time": "2021-08-18T09:19:32.777Z"
   },
   {
    "duration": 9077,
    "start_time": "2021-08-18T09:20:00.930Z"
   },
   {
    "duration": 15,
    "start_time": "2021-08-18T09:20:18.586Z"
   },
   {
    "duration": 286,
    "start_time": "2021-08-18T09:21:35.799Z"
   },
   {
    "duration": 272,
    "start_time": "2021-08-18T09:21:46.190Z"
   },
   {
    "duration": 276,
    "start_time": "2021-08-18T09:21:59.686Z"
   },
   {
    "duration": 469,
    "start_time": "2021-08-18T09:22:04.158Z"
   },
   {
    "duration": 7506,
    "start_time": "2021-08-18T09:26:07.598Z"
   },
   {
    "duration": 5,
    "start_time": "2021-08-18T09:26:21.856Z"
   },
   {
    "duration": 7622,
    "start_time": "2021-08-18T09:26:32.607Z"
   },
   {
    "duration": 273,
    "start_time": "2021-08-18T09:26:51.471Z"
   },
   {
    "duration": 265,
    "start_time": "2021-08-18T09:26:55.974Z"
   },
   {
    "duration": 278,
    "start_time": "2021-08-18T09:27:05.399Z"
   },
   {
    "duration": 9,
    "start_time": "2021-08-18T09:27:09.390Z"
   },
   {
    "duration": 3,
    "start_time": "2021-08-18T09:27:17.758Z"
   },
   {
    "duration": 4,
    "start_time": "2021-08-18T09:27:18.488Z"
   },
   {
    "duration": 269,
    "start_time": "2021-08-18T09:27:22.210Z"
   },
   {
    "duration": 5,
    "start_time": "2021-08-18T09:27:22.662Z"
   },
   {
    "duration": 336,
    "start_time": "2021-08-18T09:27:30.023Z"
   },
   {
    "duration": -872,
    "start_time": "2021-08-18T09:27:31.233Z"
   },
   {
    "duration": 3,
    "start_time": "2021-08-18T09:27:42.935Z"
   },
   {
    "duration": 4,
    "start_time": "2021-08-18T09:27:43.945Z"
   },
   {
    "duration": 4,
    "start_time": "2021-08-18T09:27:56.559Z"
   },
   {
    "duration": 364,
    "start_time": "2021-08-18T09:28:03.743Z"
   },
   {
    "duration": 4,
    "start_time": "2021-08-18T09:28:10.479Z"
   },
   {
    "duration": 99,
    "start_time": "2021-08-18T09:28:15.758Z"
   },
   {
    "duration": 366,
    "start_time": "2021-08-18T09:28:44.302Z"
   },
   {
    "duration": 19,
    "start_time": "2021-08-18T09:28:51.023Z"
   },
   {
    "duration": 317,
    "start_time": "2021-08-18T09:30:19.294Z"
   },
   {
    "duration": 19,
    "start_time": "2021-08-18T09:30:25.127Z"
   },
   {
    "duration": 24,
    "start_time": "2021-08-18T09:30:30.142Z"
   },
   {
    "duration": 5273,
    "start_time": "2021-08-18T09:33:06.686Z"
   },
   {
    "duration": 1325,
    "start_time": "2021-08-18T09:33:20.504Z"
   },
   {
    "duration": 75,
    "start_time": "2021-08-18T09:44:43.959Z"
   },
   {
    "duration": 35,
    "start_time": "2021-08-18T09:45:04.655Z"
   },
   {
    "duration": 132,
    "start_time": "2021-08-18T09:45:11.182Z"
   },
   {
    "duration": 4,
    "start_time": "2021-08-18T09:47:40.252Z"
   },
   {
    "duration": 1916,
    "start_time": "2021-08-18T09:47:40.258Z"
   },
   {
    "duration": 129,
    "start_time": "2021-08-18T09:47:42.176Z"
   },
   {
    "duration": 3,
    "start_time": "2021-08-18T09:47:42.307Z"
   },
   {
    "duration": 6,
    "start_time": "2021-08-18T09:47:42.312Z"
   },
   {
    "duration": 4,
    "start_time": "2021-08-18T09:47:42.320Z"
   },
   {
    "duration": 3,
    "start_time": "2021-08-18T09:47:42.342Z"
   },
   {
    "duration": 114,
    "start_time": "2021-08-18T09:47:42.347Z"
   },
   {
    "duration": 13,
    "start_time": "2021-08-18T09:47:42.462Z"
   },
   {
    "duration": 37,
    "start_time": "2021-08-18T09:47:42.477Z"
   },
   {
    "duration": 94,
    "start_time": "2021-08-18T09:47:48.590Z"
   },
   {
    "duration": 34,
    "start_time": "2021-08-18T09:47:49.767Z"
   },
   {
    "duration": 122,
    "start_time": "2021-08-18T09:47:52.854Z"
   },
   {
    "duration": 279,
    "start_time": "2021-08-18T09:48:32.224Z"
   },
   {
    "duration": 126,
    "start_time": "2021-08-18T09:48:36.677Z"
   },
   {
    "duration": 18,
    "start_time": "2021-08-18T09:48:46.800Z"
   },
   {
    "duration": 41,
    "start_time": "2021-08-18T09:49:03.831Z"
   },
   {
    "duration": 122,
    "start_time": "2021-08-18T09:51:04.745Z"
   },
   {
    "duration": 3,
    "start_time": "2021-08-18T09:51:09.296Z"
   },
   {
    "duration": 1502,
    "start_time": "2021-08-18T09:51:09.302Z"
   },
   {
    "duration": 134,
    "start_time": "2021-08-18T09:51:10.807Z"
   },
   {
    "duration": 4,
    "start_time": "2021-08-18T09:51:10.943Z"
   },
   {
    "duration": 19,
    "start_time": "2021-08-18T09:51:10.948Z"
   },
   {
    "duration": 12,
    "start_time": "2021-08-18T09:51:10.969Z"
   },
   {
    "duration": 23,
    "start_time": "2021-08-18T09:51:10.983Z"
   },
   {
    "duration": 122,
    "start_time": "2021-08-18T09:51:11.008Z"
   },
   {
    "duration": 14,
    "start_time": "2021-08-18T09:51:11.133Z"
   },
   {
    "duration": 50,
    "start_time": "2021-08-18T09:51:11.149Z"
   },
   {
    "duration": 115,
    "start_time": "2021-08-18T09:51:15.684Z"
   },
   {
    "duration": 34,
    "start_time": "2021-08-18T09:51:16.444Z"
   },
   {
    "duration": 116,
    "start_time": "2021-08-18T09:51:17.589Z"
   },
   {
    "duration": 40,
    "start_time": "2021-08-18T09:51:24.360Z"
   },
   {
    "duration": 106,
    "start_time": "2021-08-18T09:51:51.460Z"
   },
   {
    "duration": 42,
    "start_time": "2021-08-18T09:51:53.556Z"
   },
   {
    "duration": 118,
    "start_time": "2021-08-18T09:51:53.972Z"
   },
   {
    "duration": 4,
    "start_time": "2021-08-18T09:52:03.679Z"
   },
   {
    "duration": 1426,
    "start_time": "2021-08-18T09:52:03.685Z"
   },
   {
    "duration": 169,
    "start_time": "2021-08-18T09:52:05.113Z"
   },
   {
    "duration": 4,
    "start_time": "2021-08-18T09:52:05.285Z"
   },
   {
    "duration": 37,
    "start_time": "2021-08-18T09:52:05.291Z"
   },
   {
    "duration": 28,
    "start_time": "2021-08-18T09:52:05.330Z"
   },
   {
    "duration": 17,
    "start_time": "2021-08-18T09:52:05.360Z"
   },
   {
    "duration": 129,
    "start_time": "2021-08-18T09:52:05.381Z"
   },
   {
    "duration": 14,
    "start_time": "2021-08-18T09:52:05.512Z"
   },
   {
    "duration": 71,
    "start_time": "2021-08-18T09:52:05.528Z"
   },
   {
    "duration": 118,
    "start_time": "2021-08-18T09:52:13.836Z"
   },
   {
    "duration": 36,
    "start_time": "2021-08-18T09:52:14.622Z"
   },
   {
    "duration": 113,
    "start_time": "2021-08-18T09:52:15.510Z"
   },
   {
    "duration": 4,
    "start_time": "2021-08-18T09:52:33.895Z"
   },
   {
    "duration": 1298,
    "start_time": "2021-08-18T09:52:33.901Z"
   },
   {
    "duration": 126,
    "start_time": "2021-08-18T09:52:35.201Z"
   },
   {
    "duration": 10,
    "start_time": "2021-08-18T09:52:35.330Z"
   },
   {
    "duration": 9,
    "start_time": "2021-08-18T09:52:35.342Z"
   },
   {
    "duration": 8,
    "start_time": "2021-08-18T09:52:35.353Z"
   },
   {
    "duration": 10,
    "start_time": "2021-08-18T09:52:35.364Z"
   },
   {
    "duration": 97,
    "start_time": "2021-08-18T09:52:35.376Z"
   },
   {
    "duration": 12,
    "start_time": "2021-08-18T09:52:35.475Z"
   },
   {
    "duration": 38,
    "start_time": "2021-08-18T09:52:35.489Z"
   },
   {
    "duration": 73,
    "start_time": "2021-08-18T09:52:38.492Z"
   },
   {
    "duration": 35,
    "start_time": "2021-08-18T09:52:38.924Z"
   },
   {
    "duration": 116,
    "start_time": "2021-08-18T09:52:39.500Z"
   },
   {
    "duration": 35,
    "start_time": "2021-08-18T09:52:45.288Z"
   },
   {
    "duration": 73,
    "start_time": "2021-08-18T09:53:18.492Z"
   },
   {
    "duration": 34,
    "start_time": "2021-08-18T09:53:22.629Z"
   },
   {
    "duration": 75,
    "start_time": "2021-08-18T09:53:31.613Z"
   },
   {
    "duration": 21,
    "start_time": "2021-08-18T09:53:32.286Z"
   },
   {
    "duration": 305,
    "start_time": "2021-08-18T09:53:43.252Z"
   },
   {
    "duration": 5,
    "start_time": "2021-08-18T09:53:53.870Z"
   },
   {
    "duration": 1469,
    "start_time": "2021-08-18T09:53:53.877Z"
   },
   {
    "duration": 129,
    "start_time": "2021-08-18T09:53:55.348Z"
   },
   {
    "duration": 3,
    "start_time": "2021-08-18T09:53:55.479Z"
   },
   {
    "duration": 10,
    "start_time": "2021-08-18T09:53:55.484Z"
   },
   {
    "duration": 8,
    "start_time": "2021-08-18T09:53:55.496Z"
   },
   {
    "duration": 8,
    "start_time": "2021-08-18T09:53:55.506Z"
   },
   {
    "duration": 120,
    "start_time": "2021-08-18T09:53:55.516Z"
   },
   {
    "duration": 14,
    "start_time": "2021-08-18T09:53:55.638Z"
   },
   {
    "duration": 39,
    "start_time": "2021-08-18T09:53:55.654Z"
   },
   {
    "duration": 356,
    "start_time": "2021-08-18T09:53:59.109Z"
   },
   {
    "duration": 37,
    "start_time": "2021-08-18T09:53:59.804Z"
   },
   {
    "duration": 558,
    "start_time": "2021-08-18T09:54:11.061Z"
   },
   {
    "duration": 73,
    "start_time": "2021-08-18T09:56:20.527Z"
   },
   {
    "duration": 35,
    "start_time": "2021-08-18T09:56:22.580Z"
   },
   {
    "duration": 117,
    "start_time": "2021-08-18T09:56:23.637Z"
   },
   {
    "duration": 74,
    "start_time": "2021-08-18T09:56:30.947Z"
   },
   {
    "duration": 34,
    "start_time": "2021-08-18T09:56:31.644Z"
   },
   {
    "duration": 120,
    "start_time": "2021-08-18T09:56:32.134Z"
   },
   {
    "duration": 41,
    "start_time": "2021-08-18T09:57:09.911Z"
   },
   {
    "duration": 309,
    "start_time": "2021-08-18T09:57:22.988Z"
   },
   {
    "duration": 380,
    "start_time": "2021-08-18T09:57:27.925Z"
   },
   {
    "duration": 356,
    "start_time": "2021-08-18T09:57:31.117Z"
   },
   {
    "duration": 45,
    "start_time": "2021-08-18T09:58:03.956Z"
   },
   {
    "duration": 43,
    "start_time": "2021-08-18T09:58:13.595Z"
   },
   {
    "duration": 104,
    "start_time": "2021-08-18T09:59:24.171Z"
   },
   {
    "duration": 286,
    "start_time": "2021-08-18T09:59:42.950Z"
   },
   {
    "duration": 124,
    "start_time": "2021-08-18T09:59:55.054Z"
   },
   {
    "duration": 17,
    "start_time": "2021-08-18T09:59:58.823Z"
   },
   {
    "duration": 33,
    "start_time": "2021-08-18T10:00:15.149Z"
   },
   {
    "duration": 136,
    "start_time": "2021-08-18T10:02:16.653Z"
   },
   {
    "duration": 35,
    "start_time": "2021-08-18T10:02:17.557Z"
   },
   {
    "duration": 118,
    "start_time": "2021-08-18T10:02:18.756Z"
   },
   {
    "duration": 21,
    "start_time": "2021-08-18T10:02:24.280Z"
   },
   {
    "duration": 4,
    "start_time": "2021-08-18T10:03:14.079Z"
   },
   {
    "duration": 1624,
    "start_time": "2021-08-18T10:03:14.086Z"
   },
   {
    "duration": 128,
    "start_time": "2021-08-18T10:03:15.713Z"
   },
   {
    "duration": 3,
    "start_time": "2021-08-18T10:03:15.843Z"
   },
   {
    "duration": 9,
    "start_time": "2021-08-18T10:03:15.848Z"
   },
   {
    "duration": 8,
    "start_time": "2021-08-18T10:03:15.858Z"
   },
   {
    "duration": 6,
    "start_time": "2021-08-18T10:03:15.868Z"
   },
   {
    "duration": 113,
    "start_time": "2021-08-18T10:03:15.876Z"
   },
   {
    "duration": 13,
    "start_time": "2021-08-18T10:03:15.990Z"
   },
   {
    "duration": 50,
    "start_time": "2021-08-18T10:03:16.005Z"
   },
   {
    "duration": 180,
    "start_time": "2021-08-18T10:03:23.446Z"
   },
   {
    "duration": 36,
    "start_time": "2021-08-18T10:03:24.371Z"
   },
   {
    "duration": 116,
    "start_time": "2021-08-18T10:03:25.076Z"
   },
   {
    "duration": 34,
    "start_time": "2021-08-18T10:04:33.740Z"
   },
   {
    "duration": 107,
    "start_time": "2021-08-18T10:06:08.179Z"
   },
   {
    "duration": 115,
    "start_time": "2021-08-18T10:06:13.206Z"
   },
   {
    "duration": 4,
    "start_time": "2021-08-18T10:06:22.198Z"
   },
   {
    "duration": 1546,
    "start_time": "2021-08-18T10:06:22.204Z"
   },
   {
    "duration": 139,
    "start_time": "2021-08-18T10:06:23.753Z"
   },
   {
    "duration": 13,
    "start_time": "2021-08-18T10:06:23.894Z"
   },
   {
    "duration": 17,
    "start_time": "2021-08-18T10:06:23.909Z"
   },
   {
    "duration": 21,
    "start_time": "2021-08-18T10:06:23.927Z"
   },
   {
    "duration": 19,
    "start_time": "2021-08-18T10:06:23.950Z"
   },
   {
    "duration": 120,
    "start_time": "2021-08-18T10:06:23.970Z"
   },
   {
    "duration": 13,
    "start_time": "2021-08-18T10:06:24.092Z"
   },
   {
    "duration": 53,
    "start_time": "2021-08-18T10:06:24.107Z"
   },
   {
    "duration": 198,
    "start_time": "2021-08-18T10:06:24.162Z"
   },
   {
    "duration": 36,
    "start_time": "2021-08-18T10:06:24.362Z"
   },
   {
    "duration": 141,
    "start_time": "2021-08-18T10:06:24.400Z"
   },
   {
    "duration": 106,
    "start_time": "2021-08-18T10:06:37.104Z"
   },
   {
    "duration": 113,
    "start_time": "2021-08-18T10:06:37.819Z"
   },
   {
    "duration": 214,
    "start_time": "2021-08-18T10:38:25.379Z"
   },
   {
    "duration": 115,
    "start_time": "2021-08-18T10:38:26.747Z"
   },
   {
    "duration": 4,
    "start_time": "2021-08-18T10:38:48.840Z"
   },
   {
    "duration": 1468,
    "start_time": "2021-08-18T10:38:48.846Z"
   },
   {
    "duration": 123,
    "start_time": "2021-08-18T10:38:50.317Z"
   },
   {
    "duration": 2,
    "start_time": "2021-08-18T10:38:50.443Z"
   },
   {
    "duration": 12,
    "start_time": "2021-08-18T10:38:50.447Z"
   },
   {
    "duration": 6,
    "start_time": "2021-08-18T10:38:50.462Z"
   },
   {
    "duration": 6,
    "start_time": "2021-08-18T10:38:50.470Z"
   },
   {
    "duration": 113,
    "start_time": "2021-08-18T10:38:50.477Z"
   },
   {
    "duration": 15,
    "start_time": "2021-08-18T10:38:50.593Z"
   },
   {
    "duration": 51,
    "start_time": "2021-08-18T10:38:50.611Z"
   },
   {
    "duration": 197,
    "start_time": "2021-08-18T10:38:50.664Z"
   },
   {
    "duration": 36,
    "start_time": "2021-08-18T10:38:50.863Z"
   },
   {
    "duration": 135,
    "start_time": "2021-08-18T10:38:50.900Z"
   },
   {
    "duration": 95,
    "start_time": "2021-08-18T10:39:00.627Z"
   },
   {
    "duration": 117,
    "start_time": "2021-08-18T10:39:01.699Z"
   },
   {
    "duration": 187,
    "start_time": "2021-08-18T10:39:11.322Z"
   },
   {
    "duration": 126,
    "start_time": "2021-08-18T10:39:11.826Z"
   },
   {
    "duration": 4,
    "start_time": "2021-08-18T10:42:40.414Z"
   },
   {
    "duration": 1489,
    "start_time": "2021-08-18T10:42:40.420Z"
   },
   {
    "duration": 123,
    "start_time": "2021-08-18T10:42:41.911Z"
   },
   {
    "duration": 4,
    "start_time": "2021-08-18T10:42:42.040Z"
   },
   {
    "duration": 10,
    "start_time": "2021-08-18T10:42:42.046Z"
   },
   {
    "duration": 4,
    "start_time": "2021-08-18T10:42:42.058Z"
   },
   {
    "duration": 8,
    "start_time": "2021-08-18T10:42:42.064Z"
   },
   {
    "duration": 113,
    "start_time": "2021-08-18T10:42:42.075Z"
   },
   {
    "duration": 14,
    "start_time": "2021-08-18T10:42:42.190Z"
   },
   {
    "duration": 115,
    "start_time": "2021-08-18T10:42:51.554Z"
   },
   {
    "duration": 140,
    "start_time": "2021-08-18T10:43:33.856Z"
   },
   {
    "duration": 118,
    "start_time": "2021-08-18T10:43:39.954Z"
   },
   {
    "duration": 254,
    "start_time": "2021-08-18T10:44:10.432Z"
   },
   {
    "duration": 119,
    "start_time": "2021-08-18T10:44:12.615Z"
   },
   {
    "duration": 339,
    "start_time": "2021-08-18T10:44:32.153Z"
   },
   {
    "duration": 114,
    "start_time": "2021-08-18T10:44:33.299Z"
   },
   {
    "duration": 305,
    "start_time": "2021-08-18T10:44:49.665Z"
   },
   {
    "duration": 120,
    "start_time": "2021-08-18T10:44:50.304Z"
   },
   {
    "duration": 363,
    "start_time": "2021-08-18T10:45:37.536Z"
   },
   {
    "duration": 121,
    "start_time": "2021-08-18T10:45:38.512Z"
   },
   {
    "duration": 3,
    "start_time": "2021-08-18T10:47:23.048Z"
   },
   {
    "duration": 2115,
    "start_time": "2021-08-18T10:47:23.053Z"
   },
   {
    "duration": 121,
    "start_time": "2021-08-18T10:47:25.170Z"
   },
   {
    "duration": 3,
    "start_time": "2021-08-18T10:47:25.293Z"
   },
   {
    "duration": 6,
    "start_time": "2021-08-18T10:47:25.298Z"
   },
   {
    "duration": 5,
    "start_time": "2021-08-18T10:47:25.306Z"
   },
   {
    "duration": 5,
    "start_time": "2021-08-18T10:47:25.313Z"
   },
   {
    "duration": 124,
    "start_time": "2021-08-18T10:47:25.320Z"
   },
   {
    "duration": 14,
    "start_time": "2021-08-18T10:47:25.445Z"
   },
   {
    "duration": 134,
    "start_time": "2021-08-18T10:47:25.460Z"
   },
   {
    "duration": 297,
    "start_time": "2021-08-18T10:47:31.852Z"
   },
   {
    "duration": 120,
    "start_time": "2021-08-18T10:47:32.733Z"
   },
   {
    "duration": 417,
    "start_time": "2021-08-18T10:47:43.651Z"
   },
   {
    "duration": 118,
    "start_time": "2021-08-18T10:47:44.570Z"
   },
   {
    "duration": 512,
    "start_time": "2021-08-18T10:47:55.930Z"
   },
   {
    "duration": 116,
    "start_time": "2021-08-18T10:47:56.698Z"
   },
   {
    "duration": 561,
    "start_time": "2021-08-18T10:48:09.147Z"
   },
   {
    "duration": 115,
    "start_time": "2021-08-18T10:48:10.299Z"
   },
   {
    "duration": 17,
    "start_time": "2021-08-18T10:48:29.666Z"
   },
   {
    "duration": 25,
    "start_time": "2021-08-18T10:48:43.314Z"
   },
   {
    "duration": 330,
    "start_time": "2021-08-18T10:50:10.075Z"
   },
   {
    "duration": 6,
    "start_time": "2021-08-18T10:50:26.041Z"
   },
   {
    "duration": 13,
    "start_time": "2021-08-18T10:50:57.800Z"
   },
   {
    "duration": 614,
    "start_time": "2021-08-18T10:51:07.400Z"
   },
   {
    "duration": 117,
    "start_time": "2021-08-18T10:51:08.199Z"
   },
   {
    "duration": 20,
    "start_time": "2021-08-18T10:51:12.961Z"
   },
   {
    "duration": 13,
    "start_time": "2021-08-18T10:51:22.440Z"
   },
   {
    "duration": 3,
    "start_time": "2021-08-18T11:06:35.770Z"
   },
   {
    "duration": 1643,
    "start_time": "2021-08-18T11:06:35.775Z"
   },
   {
    "duration": 129,
    "start_time": "2021-08-18T11:06:37.440Z"
   },
   {
    "duration": 12,
    "start_time": "2021-08-18T11:06:37.572Z"
   },
   {
    "duration": 23,
    "start_time": "2021-08-18T11:06:37.586Z"
   },
   {
    "duration": 25,
    "start_time": "2021-08-18T11:06:37.612Z"
   },
   {
    "duration": 21,
    "start_time": "2021-08-18T11:06:37.640Z"
   },
   {
    "duration": 123,
    "start_time": "2021-08-18T11:06:37.663Z"
   },
   {
    "duration": 15,
    "start_time": "2021-08-18T11:06:37.788Z"
   },
   {
    "duration": 139,
    "start_time": "2021-08-18T11:06:37.805Z"
   },
   {
    "duration": 341,
    "start_time": "2021-08-18T11:06:44.609Z"
   },
   {
    "duration": 120,
    "start_time": "2021-08-18T11:06:45.801Z"
   },
   {
    "duration": 484,
    "start_time": "2021-08-18T11:06:50.178Z"
   },
   {
    "duration": 121,
    "start_time": "2021-08-18T11:06:52.020Z"
   },
   {
    "duration": 600,
    "start_time": "2021-08-18T11:07:00.724Z"
   },
   {
    "duration": 123,
    "start_time": "2021-08-18T11:07:02.004Z"
   },
   {
    "duration": 817,
    "start_time": "2021-08-18T11:07:15.523Z"
   },
   {
    "duration": 117,
    "start_time": "2021-08-18T11:07:17.020Z"
   },
   {
    "duration": 1143,
    "start_time": "2021-08-18T11:07:34.356Z"
   },
   {
    "duration": 124,
    "start_time": "2021-08-18T11:07:35.501Z"
   },
   {
    "duration": 4,
    "start_time": "2021-08-18T11:07:46.278Z"
   },
   {
    "duration": 1614,
    "start_time": "2021-08-18T11:07:46.284Z"
   },
   {
    "duration": 132,
    "start_time": "2021-08-18T11:07:47.901Z"
   },
   {
    "duration": 5,
    "start_time": "2021-08-18T11:07:48.036Z"
   },
   {
    "duration": 20,
    "start_time": "2021-08-18T11:07:48.043Z"
   },
   {
    "duration": 19,
    "start_time": "2021-08-18T11:07:48.065Z"
   },
   {
    "duration": 10,
    "start_time": "2021-08-18T11:07:48.086Z"
   },
   {
    "duration": 107,
    "start_time": "2021-08-18T11:07:48.099Z"
   },
   {
    "duration": 13,
    "start_time": "2021-08-18T11:07:48.208Z"
   },
   {
    "duration": 135,
    "start_time": "2021-08-18T11:07:48.223Z"
   },
   {
    "duration": 894,
    "start_time": "2021-08-18T11:07:53.986Z"
   },
   {
    "duration": 120,
    "start_time": "2021-08-18T11:07:54.986Z"
   },
   {
    "duration": 4,
    "start_time": "2021-08-18T11:08:06.069Z"
   },
   {
    "duration": 1384,
    "start_time": "2021-08-18T11:08:06.076Z"
   },
   {
    "duration": 125,
    "start_time": "2021-08-18T11:08:07.463Z"
   },
   {
    "duration": 4,
    "start_time": "2021-08-18T11:08:07.591Z"
   },
   {
    "duration": 27,
    "start_time": "2021-08-18T11:08:07.597Z"
   },
   {
    "duration": 16,
    "start_time": "2021-08-18T11:08:07.626Z"
   },
   {
    "duration": 23,
    "start_time": "2021-08-18T11:08:07.644Z"
   },
   {
    "duration": 103,
    "start_time": "2021-08-18T11:08:07.670Z"
   },
   {
    "duration": 14,
    "start_time": "2021-08-18T11:08:07.776Z"
   },
   {
    "duration": 130,
    "start_time": "2021-08-18T11:08:07.792Z"
   },
   {
    "duration": 912,
    "start_time": "2021-08-18T11:08:17.335Z"
   },
   {
    "duration": 122,
    "start_time": "2021-08-18T11:08:21.298Z"
   },
   {
    "duration": 14,
    "start_time": "2021-08-18T11:09:03.947Z"
   },
   {
    "duration": 35,
    "start_time": "2021-08-18T11:09:19.859Z"
   },
   {
    "duration": 90,
    "start_time": "2021-08-18T11:09:21.162Z"
   },
   {
    "duration": 34,
    "start_time": "2021-08-18T11:09:22.922Z"
   },
   {
    "duration": 115,
    "start_time": "2021-08-18T11:09:27.545Z"
   },
   {
    "duration": 175,
    "start_time": "2021-08-18T11:09:37.809Z"
   },
   {
    "duration": 33,
    "start_time": "2021-08-18T11:09:38.481Z"
   },
   {
    "duration": 117,
    "start_time": "2021-08-18T11:09:39.193Z"
   },
   {
    "duration": 4,
    "start_time": "2021-08-18T11:11:17.390Z"
   },
   {
    "duration": 1244,
    "start_time": "2021-08-18T11:11:17.396Z"
   },
   {
    "duration": 130,
    "start_time": "2021-08-18T11:11:18.642Z"
   },
   {
    "duration": 12,
    "start_time": "2021-08-18T11:11:18.775Z"
   },
   {
    "duration": 17,
    "start_time": "2021-08-18T11:11:18.789Z"
   },
   {
    "duration": 29,
    "start_time": "2021-08-18T11:11:18.807Z"
   },
   {
    "duration": 14,
    "start_time": "2021-08-18T11:11:18.837Z"
   },
   {
    "duration": 121,
    "start_time": "2021-08-18T11:11:18.853Z"
   },
   {
    "duration": 13,
    "start_time": "2021-08-18T11:11:18.976Z"
   },
   {
    "duration": 132,
    "start_time": "2021-08-18T11:11:18.991Z"
   },
   {
    "duration": 920,
    "start_time": "2021-08-18T11:11:19.125Z"
   },
   {
    "duration": 125,
    "start_time": "2021-08-18T11:11:20.047Z"
   },
   {
    "duration": 21,
    "start_time": "2021-08-18T11:11:20.173Z"
   },
   {
    "duration": 51,
    "start_time": "2021-08-18T11:11:20.196Z"
   },
   {
    "duration": 170,
    "start_time": "2021-08-18T11:11:56.914Z"
   },
   {
    "duration": 34,
    "start_time": "2021-08-18T11:11:57.922Z"
   },
   {
    "duration": 120,
    "start_time": "2021-08-18T11:11:59.227Z"
   },
   {
    "duration": 40,
    "start_time": "2021-08-18T11:12:22.738Z"
   },
   {
    "duration": 241,
    "start_time": "2021-08-18T11:13:51.003Z"
   },
   {
    "duration": 36,
    "start_time": "2021-08-18T11:13:51.569Z"
   },
   {
    "duration": 121,
    "start_time": "2021-08-18T11:13:52.033Z"
   },
   {
    "duration": 21,
    "start_time": "2021-08-18T11:14:01.692Z"
   },
   {
    "duration": 173,
    "start_time": "2021-08-18T11:14:17.874Z"
   },
   {
    "duration": 120,
    "start_time": "2021-08-18T11:14:21.539Z"
   },
   {
    "duration": 240,
    "start_time": "2021-08-18T11:14:44.970Z"
   },
   {
    "duration": 117,
    "start_time": "2021-08-18T11:14:45.433Z"
   },
   {
    "duration": 87,
    "start_time": "2021-08-18T11:15:35.066Z"
   },
   {
    "duration": 118,
    "start_time": "2021-08-18T11:15:35.433Z"
   },
   {
    "duration": 171,
    "start_time": "2021-08-18T11:15:40.537Z"
   },
   {
    "duration": 118,
    "start_time": "2021-08-18T11:15:41.305Z"
   },
   {
    "duration": 237,
    "start_time": "2021-08-18T11:15:51.562Z"
   },
   {
    "duration": 120,
    "start_time": "2021-08-18T11:15:52.081Z"
   },
   {
    "duration": 33,
    "start_time": "2021-08-18T11:16:51.058Z"
   },
   {
    "duration": 22,
    "start_time": "2021-08-18T11:17:50.062Z"
   },
   {
    "duration": 115,
    "start_time": "2021-08-18T11:18:47.898Z"
   },
   {
    "duration": 492,
    "start_time": "2021-08-18T11:18:54.793Z"
   },
   {
    "duration": 299,
    "start_time": "2021-08-18T11:19:13.178Z"
   },
   {
    "duration": 127,
    "start_time": "2021-08-18T11:19:39.708Z"
   },
   {
    "duration": 180,
    "start_time": "2021-08-18T11:19:53.289Z"
   },
   {
    "duration": 96,
    "start_time": "2021-08-18T11:20:41.705Z"
   },
   {
    "duration": 91,
    "start_time": "2021-08-18T11:20:56.593Z"
   },
   {
    "duration": 92,
    "start_time": "2021-08-18T11:21:44.168Z"
   },
   {
    "duration": 89,
    "start_time": "2021-08-18T11:22:12.632Z"
   },
   {
    "duration": 87,
    "start_time": "2021-08-18T11:22:23.584Z"
   },
   {
    "duration": 745,
    "start_time": "2021-08-18T11:23:22.816Z"
   },
   {
    "duration": 3,
    "start_time": "2021-08-18T11:23:33.843Z"
   },
   {
    "duration": 2366,
    "start_time": "2021-08-18T11:23:33.848Z"
   },
   {
    "duration": 131,
    "start_time": "2021-08-18T11:23:36.216Z"
   },
   {
    "duration": 2,
    "start_time": "2021-08-18T11:23:36.349Z"
   },
   {
    "duration": 12,
    "start_time": "2021-08-18T11:23:36.354Z"
   },
   {
    "duration": 22,
    "start_time": "2021-08-18T11:23:36.368Z"
   },
   {
    "duration": 26,
    "start_time": "2021-08-18T11:23:36.392Z"
   },
   {
    "duration": 115,
    "start_time": "2021-08-18T11:23:36.422Z"
   },
   {
    "duration": 15,
    "start_time": "2021-08-18T11:23:36.540Z"
   },
   {
    "duration": 133,
    "start_time": "2021-08-18T11:23:36.557Z"
   },
   {
    "duration": 928,
    "start_time": "2021-08-18T11:23:36.692Z"
   },
   {
    "duration": 126,
    "start_time": "2021-08-18T11:23:37.622Z"
   },
   {
    "duration": 24,
    "start_time": "2021-08-18T11:23:37.750Z"
   },
   {
    "duration": 40,
    "start_time": "2021-08-18T11:23:37.777Z"
   },
   {
    "duration": 289,
    "start_time": "2021-08-18T11:23:37.819Z"
   },
   {
    "duration": 67,
    "start_time": "2021-08-18T11:23:38.110Z"
   },
   {
    "duration": 206,
    "start_time": "2021-08-18T11:23:38.180Z"
   },
   {
    "duration": 38,
    "start_time": "2021-08-18T11:23:38.388Z"
   },
   {
    "duration": 246,
    "start_time": "2021-08-18T11:23:38.428Z"
   },
   {
    "duration": 130,
    "start_time": "2021-08-18T11:23:38.676Z"
   },
   {
    "duration": 249,
    "start_time": "2021-08-18T11:23:38.808Z"
   },
   {
    "duration": 127,
    "start_time": "2021-08-18T11:23:39.059Z"
   },
   {
    "duration": 17,
    "start_time": "2021-08-18T11:23:39.190Z"
   },
   {
    "duration": 51,
    "start_time": "2021-08-18T11:23:39.209Z"
   },
   {
    "duration": 107,
    "start_time": "2021-08-18T11:23:39.262Z"
   },
   {
    "duration": 751,
    "start_time": "2021-08-18T11:23:42.479Z"
   },
   {
    "duration": 146,
    "start_time": "2021-08-18T11:23:43.774Z"
   },
   {
    "duration": 1528,
    "start_time": "2021-08-18T11:24:02.751Z"
   },
   {
    "duration": 127,
    "start_time": "2021-08-18T11:24:04.281Z"
   },
   {
    "duration": 1573,
    "start_time": "2021-08-18T11:24:30.215Z"
   },
   {
    "duration": 127,
    "start_time": "2021-08-18T11:24:31.791Z"
   },
   {
    "duration": 97,
    "start_time": "2021-08-18T11:24:46.807Z"
   },
   {
    "duration": 34,
    "start_time": "2021-08-18T11:25:03.223Z"
   },
   {
    "duration": 304,
    "start_time": "2021-08-18T11:59:16.922Z"
   },
   {
    "duration": 7,
    "start_time": "2021-08-18T11:59:27.535Z"
   },
   {
    "duration": 117,
    "start_time": "2021-08-18T12:01:53.380Z"
   },
   {
    "duration": 11,
    "start_time": "2021-08-18T12:04:10.070Z"
   },
   {
    "duration": 280,
    "start_time": "2021-08-18T12:04:48.077Z"
   },
   {
    "duration": 18,
    "start_time": "2021-08-18T12:05:01.012Z"
   },
   {
    "duration": 8,
    "start_time": "2021-08-18T12:05:28.452Z"
   },
   {
    "duration": 11,
    "start_time": "2021-08-18T12:09:41.848Z"
   },
   {
    "duration": 361,
    "start_time": "2021-08-18T12:12:36.977Z"
   },
   {
    "duration": 35,
    "start_time": "2021-08-18T12:13:47.217Z"
   },
   {
    "duration": 116,
    "start_time": "2021-08-18T12:13:57.235Z"
   },
   {
    "duration": 92,
    "start_time": "2021-08-18T12:15:08.278Z"
   },
   {
    "duration": 55,
    "start_time": "2021-08-18T12:15:20.774Z"
   },
   {
    "duration": 311,
    "start_time": "2021-08-18T12:15:35.582Z"
   },
   {
    "duration": 23,
    "start_time": "2021-08-18T12:15:47.911Z"
   },
   {
    "duration": 10,
    "start_time": "2021-08-18T12:15:48.933Z"
   },
   {
    "duration": 47,
    "start_time": "2021-08-18T12:15:50.414Z"
   },
   {
    "duration": 36,
    "start_time": "2021-08-18T12:15:50.950Z"
   },
   {
    "duration": 101,
    "start_time": "2021-08-18T12:15:53.653Z"
   },
   {
    "duration": 4,
    "start_time": "2021-08-18T12:16:26.147Z"
   },
   {
    "duration": 1472,
    "start_time": "2021-08-18T12:16:26.153Z"
   },
   {
    "duration": 120,
    "start_time": "2021-08-18T12:16:27.627Z"
   },
   {
    "duration": 12,
    "start_time": "2021-08-18T12:16:27.749Z"
   },
   {
    "duration": 21,
    "start_time": "2021-08-18T12:16:27.763Z"
   },
   {
    "duration": 16,
    "start_time": "2021-08-18T12:16:27.786Z"
   },
   {
    "duration": 16,
    "start_time": "2021-08-18T12:16:27.806Z"
   },
   {
    "duration": 131,
    "start_time": "2021-08-18T12:16:27.824Z"
   },
   {
    "duration": 101,
    "start_time": "2021-08-18T12:16:27.957Z"
   },
   {
    "duration": 8,
    "start_time": "2021-08-18T12:16:28.059Z"
   },
   {
    "duration": 45,
    "start_time": "2021-08-18T12:16:28.068Z"
   },
   {
    "duration": 9,
    "start_time": "2021-08-18T12:16:28.114Z"
   },
   {
    "duration": 54,
    "start_time": "2021-08-18T12:16:28.125Z"
   },
   {
    "duration": 35,
    "start_time": "2021-08-18T12:16:28.180Z"
   },
   {
    "duration": 101,
    "start_time": "2021-08-18T12:16:31.093Z"
   },
   {
    "duration": 323,
    "start_time": "2021-08-18T12:16:53.918Z"
   },
   {
    "duration": 106,
    "start_time": "2021-08-18T12:16:54.822Z"
   },
   {
    "duration": 593,
    "start_time": "2021-08-18T12:17:02.042Z"
   },
   {
    "duration": 106,
    "start_time": "2021-08-18T12:17:02.824Z"
   },
   {
    "duration": 787,
    "start_time": "2021-08-18T12:17:09.743Z"
   },
   {
    "duration": 102,
    "start_time": "2021-08-18T12:17:11.021Z"
   },
   {
    "duration": 907,
    "start_time": "2021-08-18T12:17:20.750Z"
   },
   {
    "duration": 109,
    "start_time": "2021-08-18T12:17:21.659Z"
   },
   {
    "duration": 19,
    "start_time": "2021-08-18T12:17:29.026Z"
   },
   {
    "duration": 34,
    "start_time": "2021-08-18T12:17:33.078Z"
   },
   {
    "duration": 169,
    "start_time": "2021-08-18T12:17:39.405Z"
   },
   {
    "duration": 33,
    "start_time": "2021-08-18T12:17:40.209Z"
   },
   {
    "duration": 102,
    "start_time": "2021-08-18T12:17:41.553Z"
   },
   {
    "duration": 231,
    "start_time": "2021-08-18T12:17:46.141Z"
   },
   {
    "duration": 33,
    "start_time": "2021-08-18T12:17:46.590Z"
   },
   {
    "duration": 102,
    "start_time": "2021-08-18T12:17:46.959Z"
   },
   {
    "duration": 170,
    "start_time": "2021-08-18T12:17:56.948Z"
   },
   {
    "duration": 102,
    "start_time": "2021-08-18T12:17:57.744Z"
   },
   {
    "duration": 233,
    "start_time": "2021-08-18T12:18:03.773Z"
   },
   {
    "duration": 107,
    "start_time": "2021-08-18T12:18:04.437Z"
   },
   {
    "duration": 167,
    "start_time": "2021-08-18T12:18:12.614Z"
   },
   {
    "duration": 105,
    "start_time": "2021-08-18T12:18:13.038Z"
   },
   {
    "duration": 234,
    "start_time": "2021-08-18T12:18:19.125Z"
   },
   {
    "duration": 103,
    "start_time": "2021-08-18T12:18:19.517Z"
   },
   {
    "duration": 20,
    "start_time": "2021-08-18T12:19:16.973Z"
   },
   {
    "duration": 18,
    "start_time": "2021-08-18T12:19:21.845Z"
   },
   {
    "duration": 301,
    "start_time": "2021-08-18T12:19:48.809Z"
   },
   {
    "duration": 328,
    "start_time": "2021-08-18T12:20:01.616Z"
   },
   {
    "duration": 272,
    "start_time": "2021-08-18T12:20:07.581Z"
   },
   {
    "duration": 16,
    "start_time": "2021-08-18T12:20:12.309Z"
   },
   {
    "duration": 33,
    "start_time": "2021-08-18T12:20:17.812Z"
   },
   {
    "duration": 76,
    "start_time": "2021-08-18T12:20:19.838Z"
   },
   {
    "duration": 196,
    "start_time": "2021-08-18T12:20:26.821Z"
   },
   {
    "duration": 101,
    "start_time": "2021-08-18T12:20:27.716Z"
   },
   {
    "duration": 36,
    "start_time": "2021-08-18T12:20:30.604Z"
   },
   {
    "duration": 82,
    "start_time": "2021-08-18T12:20:31.372Z"
   },
   {
    "duration": 3,
    "start_time": "2021-08-18T12:21:15.243Z"
   },
   {
    "duration": 1656,
    "start_time": "2021-08-18T12:21:15.248Z"
   },
   {
    "duration": 122,
    "start_time": "2021-08-18T12:21:16.906Z"
   },
   {
    "duration": 11,
    "start_time": "2021-08-18T12:21:17.030Z"
   },
   {
    "duration": 4,
    "start_time": "2021-08-18T12:21:17.042Z"
   },
   {
    "duration": 5,
    "start_time": "2021-08-18T12:21:17.048Z"
   },
   {
    "duration": 5,
    "start_time": "2021-08-18T12:21:17.055Z"
   },
   {
    "duration": 139,
    "start_time": "2021-08-18T12:21:17.062Z"
   },
   {
    "duration": 113,
    "start_time": "2021-08-18T12:21:17.204Z"
   },
   {
    "duration": 8,
    "start_time": "2021-08-18T12:21:17.319Z"
   },
   {
    "duration": 48,
    "start_time": "2021-08-18T12:21:17.328Z"
   },
   {
    "duration": 9,
    "start_time": "2021-08-18T12:21:17.377Z"
   },
   {
    "duration": 59,
    "start_time": "2021-08-18T12:21:17.388Z"
   },
   {
    "duration": 34,
    "start_time": "2021-08-18T12:21:17.449Z"
   },
   {
    "duration": 113,
    "start_time": "2021-08-18T12:21:17.485Z"
   },
   {
    "duration": 108,
    "start_time": "2021-08-18T12:21:17.599Z"
   },
   {
    "duration": 893,
    "start_time": "2021-08-18T12:21:17.709Z"
   },
   {
    "duration": 113,
    "start_time": "2021-08-18T12:21:18.603Z"
   },
   {
    "duration": 29,
    "start_time": "2021-08-18T12:21:18.718Z"
   },
   {
    "duration": 34,
    "start_time": "2021-08-18T12:21:18.749Z"
   },
   {
    "duration": 256,
    "start_time": "2021-08-18T12:21:18.785Z"
   },
   {
    "duration": 34,
    "start_time": "2021-08-18T12:21:19.042Z"
   },
   {
    "duration": 123,
    "start_time": "2021-08-18T12:21:19.078Z"
   },
   {
    "duration": 32,
    "start_time": "2021-08-18T12:21:19.203Z"
   },
   {
    "duration": 234,
    "start_time": "2021-08-18T12:21:19.237Z"
   },
   {
    "duration": 99,
    "start_time": "2021-08-18T12:21:19.473Z"
   },
   {
    "duration": 233,
    "start_time": "2021-08-18T12:21:19.576Z"
   },
   {
    "duration": 109,
    "start_time": "2021-08-18T12:21:19.811Z"
   },
   {
    "duration": 30,
    "start_time": "2021-08-18T12:21:19.922Z"
   },
   {
    "duration": 41,
    "start_time": "2021-08-18T12:21:19.955Z"
   },
   {
    "duration": 86,
    "start_time": "2021-08-18T12:21:19.997Z"
   },
   {
    "duration": 97,
    "start_time": "2021-08-18T12:21:28.701Z"
   },
   {
    "duration": 100,
    "start_time": "2021-08-18T12:21:30.100Z"
   },
   {
    "duration": 4,
    "start_time": "2021-08-18T12:22:36.873Z"
   },
   {
    "duration": 1581,
    "start_time": "2021-08-18T12:22:36.879Z"
   },
   {
    "duration": 122,
    "start_time": "2021-08-18T12:22:38.462Z"
   },
   {
    "duration": 3,
    "start_time": "2021-08-18T12:22:38.586Z"
   },
   {
    "duration": 11,
    "start_time": "2021-08-18T12:22:38.591Z"
   },
   {
    "duration": 7,
    "start_time": "2021-08-18T12:22:38.603Z"
   },
   {
    "duration": 6,
    "start_time": "2021-08-18T12:22:38.612Z"
   },
   {
    "duration": 138,
    "start_time": "2021-08-18T12:22:38.620Z"
   },
   {
    "duration": 111,
    "start_time": "2021-08-18T12:22:38.760Z"
   },
   {
    "duration": 9,
    "start_time": "2021-08-18T12:22:38.874Z"
   },
   {
    "duration": 56,
    "start_time": "2021-08-18T12:22:38.885Z"
   },
   {
    "duration": 12,
    "start_time": "2021-08-18T12:22:38.943Z"
   },
   {
    "duration": 52,
    "start_time": "2021-08-18T12:22:38.957Z"
   },
   {
    "duration": 63,
    "start_time": "2021-08-18T12:22:39.011Z"
   },
   {
    "duration": 115,
    "start_time": "2021-08-18T12:22:39.076Z"
   },
   {
    "duration": 110,
    "start_time": "2021-08-18T12:22:39.193Z"
   },
   {
    "duration": 1022,
    "start_time": "2021-08-18T12:22:39.305Z"
   },
   {
    "duration": 190,
    "start_time": "2021-08-18T12:22:40.329Z"
   },
   {
    "duration": 25,
    "start_time": "2021-08-18T12:22:40.522Z"
   },
   {
    "duration": 39,
    "start_time": "2021-08-18T12:22:40.549Z"
   },
   {
    "duration": 261,
    "start_time": "2021-08-18T12:22:40.590Z"
   },
   {
    "duration": 35,
    "start_time": "2021-08-18T12:22:40.853Z"
   },
   {
    "duration": 119,
    "start_time": "2021-08-18T12:22:40.889Z"
   },
   {
    "duration": 31,
    "start_time": "2021-08-18T12:22:41.010Z"
   },
   {
    "duration": 239,
    "start_time": "2021-08-18T12:22:41.043Z"
   },
   {
    "duration": 105,
    "start_time": "2021-08-18T12:22:41.284Z"
   },
   {
    "duration": 244,
    "start_time": "2021-08-18T12:22:41.391Z"
   },
   {
    "duration": 111,
    "start_time": "2021-08-18T12:22:41.637Z"
   },
   {
    "duration": 19,
    "start_time": "2021-08-18T12:22:41.750Z"
   },
   {
    "duration": 35,
    "start_time": "2021-08-18T12:22:41.771Z"
   },
   {
    "duration": 104,
    "start_time": "2021-08-18T12:22:41.808Z"
   },
   {
    "duration": 118,
    "start_time": "2021-08-18T12:22:44.253Z"
   },
   {
    "duration": 107,
    "start_time": "2021-08-18T12:22:45.133Z"
   },
   {
    "duration": 215,
    "start_time": "2021-08-18T12:23:02.934Z"
   },
   {
    "duration": 102,
    "start_time": "2021-08-18T12:23:03.453Z"
   },
   {
    "duration": 4,
    "start_time": "2021-08-18T12:23:24.097Z"
   },
   {
    "duration": 1776,
    "start_time": "2021-08-18T12:23:24.103Z"
   },
   {
    "duration": 130,
    "start_time": "2021-08-18T12:23:25.881Z"
   },
   {
    "duration": 3,
    "start_time": "2021-08-18T12:23:26.013Z"
   },
   {
    "duration": 7,
    "start_time": "2021-08-18T12:23:26.018Z"
   },
   {
    "duration": 3,
    "start_time": "2021-08-18T12:23:26.041Z"
   },
   {
    "duration": 10,
    "start_time": "2021-08-18T12:23:26.046Z"
   },
   {
    "duration": 133,
    "start_time": "2021-08-18T12:23:26.058Z"
   },
   {
    "duration": 112,
    "start_time": "2021-08-18T12:23:26.194Z"
   },
   {
    "duration": 8,
    "start_time": "2021-08-18T12:23:26.308Z"
   },
   {
    "duration": 50,
    "start_time": "2021-08-18T12:23:26.318Z"
   },
   {
    "duration": 10,
    "start_time": "2021-08-18T12:23:26.370Z"
   },
   {
    "duration": 61,
    "start_time": "2021-08-18T12:23:26.381Z"
   },
   {
    "duration": 35,
    "start_time": "2021-08-18T12:23:26.444Z"
   },
   {
    "duration": 111,
    "start_time": "2021-08-18T12:23:26.481Z"
   },
   {
    "duration": 114,
    "start_time": "2021-08-18T12:23:26.594Z"
   },
   {
    "duration": 899,
    "start_time": "2021-08-18T12:23:26.710Z"
   },
   {
    "duration": 108,
    "start_time": "2021-08-18T12:23:27.611Z"
   },
   {
    "duration": 27,
    "start_time": "2021-08-18T12:23:27.720Z"
   },
   {
    "duration": 39,
    "start_time": "2021-08-18T12:23:27.749Z"
   },
   {
    "duration": 236,
    "start_time": "2021-08-18T12:23:27.790Z"
   },
   {
    "duration": 36,
    "start_time": "2021-08-18T12:23:28.028Z"
   },
   {
    "duration": 110,
    "start_time": "2021-08-18T12:23:28.067Z"
   },
   {
    "duration": 21,
    "start_time": "2021-08-18T12:23:28.179Z"
   },
   {
    "duration": 250,
    "start_time": "2021-08-18T12:23:28.202Z"
   },
   {
    "duration": 110,
    "start_time": "2021-08-18T12:23:28.454Z"
   },
   {
    "duration": 248,
    "start_time": "2021-08-18T12:23:28.566Z"
   },
   {
    "duration": 115,
    "start_time": "2021-08-18T12:23:28.816Z"
   },
   {
    "duration": 23,
    "start_time": "2021-08-18T12:23:28.934Z"
   },
   {
    "duration": 34,
    "start_time": "2021-08-18T12:23:28.960Z"
   },
   {
    "duration": 101,
    "start_time": "2021-08-18T12:23:28.997Z"
   },
   {
    "duration": 187,
    "start_time": "2021-08-18T12:23:30.459Z"
   },
   {
    "duration": 102,
    "start_time": "2021-08-18T12:23:31.259Z"
   },
   {
    "duration": 33,
    "start_time": "2021-08-18T12:23:41.046Z"
   },
   {
    "duration": 81,
    "start_time": "2021-08-18T12:23:41.604Z"
   },
   {
    "duration": 163,
    "start_time": "2021-08-18T12:23:56.405Z"
   },
   {
    "duration": 102,
    "start_time": "2021-08-18T12:23:56.950Z"
   },
   {
    "duration": 32,
    "start_time": "2021-08-18T12:23:58.293Z"
   },
   {
    "duration": 84,
    "start_time": "2021-08-18T12:23:59.711Z"
   },
   {
    "duration": 3,
    "start_time": "2021-08-18T12:24:04.429Z"
   },
   {
    "duration": 1229,
    "start_time": "2021-08-18T12:24:04.434Z"
   },
   {
    "duration": 123,
    "start_time": "2021-08-18T12:24:05.665Z"
   },
   {
    "duration": 3,
    "start_time": "2021-08-18T12:24:05.790Z"
   },
   {
    "duration": 10,
    "start_time": "2021-08-18T12:24:05.795Z"
   },
   {
    "duration": 6,
    "start_time": "2021-08-18T12:24:05.807Z"
   },
   {
    "duration": 9,
    "start_time": "2021-08-18T12:24:05.814Z"
   },
   {
    "duration": 136,
    "start_time": "2021-08-18T12:24:05.841Z"
   },
   {
    "duration": 116,
    "start_time": "2021-08-18T12:24:05.979Z"
   },
   {
    "duration": 8,
    "start_time": "2021-08-18T12:24:06.097Z"
   },
   {
    "duration": 53,
    "start_time": "2021-08-18T12:24:06.107Z"
   },
   {
    "duration": 9,
    "start_time": "2021-08-18T12:24:06.162Z"
   },
   {
    "duration": 50,
    "start_time": "2021-08-18T12:24:06.173Z"
   },
   {
    "duration": 51,
    "start_time": "2021-08-18T12:24:06.225Z"
   },
   {
    "duration": 113,
    "start_time": "2021-08-18T12:24:06.278Z"
   },
   {
    "duration": 113,
    "start_time": "2021-08-18T12:24:06.393Z"
   },
   {
    "duration": 905,
    "start_time": "2021-08-18T12:24:06.508Z"
   },
   {
    "duration": 108,
    "start_time": "2021-08-18T12:24:07.415Z"
   },
   {
    "duration": 28,
    "start_time": "2021-08-18T12:24:07.524Z"
   },
   {
    "duration": 35,
    "start_time": "2021-08-18T12:24:07.554Z"
   },
   {
    "duration": 249,
    "start_time": "2021-08-18T12:24:07.591Z"
   },
   {
    "duration": 37,
    "start_time": "2021-08-18T12:24:07.842Z"
   },
   {
    "duration": 119,
    "start_time": "2021-08-18T12:24:07.883Z"
   },
   {
    "duration": 21,
    "start_time": "2021-08-18T12:24:08.005Z"
   },
   {
    "duration": 243,
    "start_time": "2021-08-18T12:24:08.042Z"
   },
   {
    "duration": 111,
    "start_time": "2021-08-18T12:24:08.287Z"
   },
   {
    "duration": 241,
    "start_time": "2021-08-18T12:24:08.400Z"
   },
   {
    "duration": 114,
    "start_time": "2021-08-18T12:24:08.642Z"
   },
   {
    "duration": 17,
    "start_time": "2021-08-18T12:24:08.758Z"
   },
   {
    "duration": 34,
    "start_time": "2021-08-18T12:24:08.777Z"
   },
   {
    "duration": 98,
    "start_time": "2021-08-18T12:24:08.812Z"
   },
   {
    "duration": 175,
    "start_time": "2021-08-18T12:24:08.912Z"
   },
   {
    "duration": 106,
    "start_time": "2021-08-18T12:24:09.089Z"
   },
   {
    "duration": 46,
    "start_time": "2021-08-18T12:24:09.197Z"
   },
   {
    "duration": 98,
    "start_time": "2021-08-18T12:24:09.244Z"
   },
   {
    "duration": 5,
    "start_time": "2021-08-18T12:27:53.159Z"
   },
   {
    "duration": 1448,
    "start_time": "2021-08-18T12:27:53.166Z"
   },
   {
    "duration": 130,
    "start_time": "2021-08-18T12:27:54.616Z"
   },
   {
    "duration": 3,
    "start_time": "2021-08-18T12:27:54.748Z"
   },
   {
    "duration": 9,
    "start_time": "2021-08-18T12:27:54.753Z"
   },
   {
    "duration": 5,
    "start_time": "2021-08-18T12:27:54.764Z"
   },
   {
    "duration": 11,
    "start_time": "2021-08-18T12:27:54.770Z"
   },
   {
    "duration": 140,
    "start_time": "2021-08-18T12:27:54.784Z"
   },
   {
    "duration": 104,
    "start_time": "2021-08-18T12:27:54.926Z"
   },
   {
    "duration": 13,
    "start_time": "2021-08-18T12:27:55.032Z"
   },
   {
    "duration": 40,
    "start_time": "2021-08-18T12:27:55.046Z"
   },
   {
    "duration": 9,
    "start_time": "2021-08-18T12:27:55.088Z"
   },
   {
    "duration": 74,
    "start_time": "2021-08-18T12:27:55.099Z"
   },
   {
    "duration": 37,
    "start_time": "2021-08-18T12:27:55.175Z"
   },
   {
    "duration": 119,
    "start_time": "2021-08-18T12:27:55.214Z"
   },
   {
    "duration": 116,
    "start_time": "2021-08-18T12:27:55.335Z"
   },
   {
    "duration": 909,
    "start_time": "2021-08-18T12:27:55.453Z"
   },
   {
    "duration": 104,
    "start_time": "2021-08-18T12:27:56.364Z"
   },
   {
    "duration": 20,
    "start_time": "2021-08-18T12:27:56.469Z"
   },
   {
    "duration": 51,
    "start_time": "2021-08-18T12:27:56.491Z"
   },
   {
    "duration": 240,
    "start_time": "2021-08-18T12:27:56.544Z"
   },
   {
    "duration": 37,
    "start_time": "2021-08-18T12:27:56.786Z"
   },
   {
    "duration": 110,
    "start_time": "2021-08-18T12:27:56.844Z"
   },
   {
    "duration": 22,
    "start_time": "2021-08-18T12:27:56.956Z"
   },
   {
    "duration": 254,
    "start_time": "2021-08-18T12:27:56.980Z"
   },
   {
    "duration": 108,
    "start_time": "2021-08-18T12:27:57.236Z"
   },
   {
    "duration": 233,
    "start_time": "2021-08-18T12:27:57.346Z"
   },
   {
    "duration": 109,
    "start_time": "2021-08-18T12:27:57.581Z"
   },
   {
    "duration": 17,
    "start_time": "2021-08-18T12:27:57.692Z"
   },
   {
    "duration": 52,
    "start_time": "2021-08-18T12:27:57.711Z"
   },
   {
    "duration": 82,
    "start_time": "2021-08-18T12:27:57.765Z"
   },
   {
    "duration": 125,
    "start_time": "2021-08-18T12:27:59.771Z"
   },
   {
    "duration": 103,
    "start_time": "2021-08-18T12:28:00.411Z"
   },
   {
    "duration": 223,
    "start_time": "2021-08-18T12:28:20.075Z"
   },
   {
    "duration": 105,
    "start_time": "2021-08-18T12:28:20.820Z"
   },
   {
    "duration": 35,
    "start_time": "2021-08-18T12:28:34.825Z"
   },
   {
    "duration": 85,
    "start_time": "2021-08-18T12:28:35.443Z"
   },
   {
    "duration": 295,
    "start_time": "2021-08-18T12:28:41.842Z"
   },
   {
    "duration": 103,
    "start_time": "2021-08-18T12:28:42.611Z"
   },
   {
    "duration": 32,
    "start_time": "2021-08-18T12:28:43.338Z"
   },
   {
    "duration": 85,
    "start_time": "2021-08-18T12:28:44.514Z"
   },
   {
    "duration": 4,
    "start_time": "2021-08-18T12:28:53.855Z"
   },
   {
    "duration": 1259,
    "start_time": "2021-08-18T12:28:53.861Z"
   },
   {
    "duration": 135,
    "start_time": "2021-08-18T12:28:55.123Z"
   },
   {
    "duration": 3,
    "start_time": "2021-08-18T12:28:55.260Z"
   },
   {
    "duration": 6,
    "start_time": "2021-08-18T12:28:55.265Z"
   },
   {
    "duration": 4,
    "start_time": "2021-08-18T12:28:55.273Z"
   },
   {
    "duration": 8,
    "start_time": "2021-08-18T12:28:55.279Z"
   },
   {
    "duration": 188,
    "start_time": "2021-08-18T12:28:55.290Z"
   },
   {
    "duration": 111,
    "start_time": "2021-08-18T12:28:55.481Z"
   },
   {
    "duration": 8,
    "start_time": "2021-08-18T12:28:55.594Z"
   },
   {
    "duration": 59,
    "start_time": "2021-08-18T12:28:55.604Z"
   },
   {
    "duration": 9,
    "start_time": "2021-08-18T12:28:55.665Z"
   },
   {
    "duration": 76,
    "start_time": "2021-08-18T12:28:55.676Z"
   },
   {
    "duration": 48,
    "start_time": "2021-08-18T12:28:55.754Z"
   },
   {
    "duration": 140,
    "start_time": "2021-08-18T12:28:55.804Z"
   },
   {
    "duration": 114,
    "start_time": "2021-08-18T12:28:55.946Z"
   },
   {
    "duration": 1006,
    "start_time": "2021-08-18T12:28:56.062Z"
   },
   {
    "duration": 123,
    "start_time": "2021-08-18T12:28:57.070Z"
   },
   {
    "duration": 21,
    "start_time": "2021-08-18T12:28:57.195Z"
   },
   {
    "duration": 41,
    "start_time": "2021-08-18T12:28:57.241Z"
   },
   {
    "duration": 237,
    "start_time": "2021-08-18T12:28:57.284Z"
   },
   {
    "duration": 34,
    "start_time": "2021-08-18T12:28:57.522Z"
   },
   {
    "duration": 114,
    "start_time": "2021-08-18T12:28:57.559Z"
   },
   {
    "duration": 23,
    "start_time": "2021-08-18T12:28:57.675Z"
   },
   {
    "duration": 264,
    "start_time": "2021-08-18T12:28:57.699Z"
   },
   {
    "duration": 109,
    "start_time": "2021-08-18T12:28:57.965Z"
   },
   {
    "duration": 291,
    "start_time": "2021-08-18T12:28:58.076Z"
   },
   {
    "duration": 130,
    "start_time": "2021-08-18T12:28:58.369Z"
   },
   {
    "duration": 17,
    "start_time": "2021-08-18T12:28:58.541Z"
   },
   {
    "duration": 42,
    "start_time": "2021-08-18T12:28:58.559Z"
   },
   {
    "duration": 112,
    "start_time": "2021-08-18T12:28:58.603Z"
   },
   {
    "duration": 260,
    "start_time": "2021-08-18T12:29:02.427Z"
   },
   {
    "duration": 106,
    "start_time": "2021-08-18T12:29:05.466Z"
   },
   {
    "duration": 38,
    "start_time": "2021-08-18T12:29:07.175Z"
   },
   {
    "duration": 115,
    "start_time": "2021-08-18T12:29:07.849Z"
   },
   {
    "duration": 105,
    "start_time": "2021-08-18T13:04:32.720Z"
   },
   {
    "duration": 3590,
    "start_time": "2021-08-18T13:11:59.163Z"
   },
   {
    "duration": 5,
    "start_time": "2021-08-18T13:13:15.955Z"
   },
   {
    "duration": 3541,
    "start_time": "2021-08-18T13:14:18.866Z"
   },
   {
    "duration": 10,
    "start_time": "2021-08-18T13:15:26.325Z"
   },
   {
    "duration": 285,
    "start_time": "2021-08-18T13:16:56.329Z"
   },
   {
    "duration": 275,
    "start_time": "2021-08-18T13:17:21.366Z"
   },
   {
    "duration": 280,
    "start_time": "2021-08-18T13:18:13.670Z"
   },
   {
    "duration": 89,
    "start_time": "2021-08-18T13:19:40.502Z"
   },
   {
    "duration": 37,
    "start_time": "2021-08-18T13:19:54.869Z"
   },
   {
    "duration": 90,
    "start_time": "2021-08-18T13:20:07.429Z"
   },
   {
    "duration": 43,
    "start_time": "2021-08-18T13:20:32.535Z"
   },
   {
    "duration": 4,
    "start_time": "2021-08-18T13:20:36.315Z"
   },
   {
    "duration": 1532,
    "start_time": "2021-08-18T13:20:36.321Z"
   },
   {
    "duration": 134,
    "start_time": "2021-08-18T13:20:37.855Z"
   },
   {
    "duration": 3,
    "start_time": "2021-08-18T13:20:37.991Z"
   },
   {
    "duration": 12,
    "start_time": "2021-08-18T13:20:37.996Z"
   },
   {
    "duration": 10,
    "start_time": "2021-08-18T13:20:38.010Z"
   },
   {
    "duration": 12,
    "start_time": "2021-08-18T13:20:38.023Z"
   },
   {
    "duration": 134,
    "start_time": "2021-08-18T13:20:38.037Z"
   },
   {
    "duration": 105,
    "start_time": "2021-08-18T13:20:38.173Z"
   },
   {
    "duration": 9,
    "start_time": "2021-08-18T13:20:38.279Z"
   },
   {
    "duration": 60,
    "start_time": "2021-08-18T13:20:38.290Z"
   },
   {
    "duration": 11,
    "start_time": "2021-08-18T13:20:38.352Z"
   },
   {
    "duration": 48,
    "start_time": "2021-08-18T13:20:38.365Z"
   },
   {
    "duration": 52,
    "start_time": "2021-08-18T13:20:38.415Z"
   },
   {
    "duration": 117,
    "start_time": "2021-08-18T13:20:38.469Z"
   },
   {
    "duration": 17,
    "start_time": "2021-08-18T13:20:38.587Z"
   },
   {
    "duration": 38,
    "start_time": "2021-08-18T13:20:44.163Z"
   },
   {
    "duration": 82,
    "start_time": "2021-08-18T13:20:44.924Z"
   },
   {
    "duration": 4,
    "start_time": "2021-08-18T13:21:08.503Z"
   },
   {
    "duration": 1676,
    "start_time": "2021-08-18T13:21:08.509Z"
   },
   {
    "duration": 127,
    "start_time": "2021-08-18T13:21:10.187Z"
   },
   {
    "duration": 14,
    "start_time": "2021-08-18T13:21:10.317Z"
   },
   {
    "duration": 24,
    "start_time": "2021-08-18T13:21:10.333Z"
   },
   {
    "duration": 20,
    "start_time": "2021-08-18T13:21:10.359Z"
   },
   {
    "duration": 31,
    "start_time": "2021-08-18T13:21:10.381Z"
   },
   {
    "duration": 139,
    "start_time": "2021-08-18T13:21:10.414Z"
   },
   {
    "duration": 102,
    "start_time": "2021-08-18T13:21:10.555Z"
   },
   {
    "duration": 7,
    "start_time": "2021-08-18T13:21:10.658Z"
   },
   {
    "duration": 39,
    "start_time": "2021-08-18T13:21:10.667Z"
   },
   {
    "duration": 10,
    "start_time": "2021-08-18T13:21:10.707Z"
   },
   {
    "duration": 64,
    "start_time": "2021-08-18T13:21:10.719Z"
   },
   {
    "duration": 36,
    "start_time": "2021-08-18T13:21:10.785Z"
   },
   {
    "duration": 124,
    "start_time": "2021-08-18T13:21:10.823Z"
   },
   {
    "duration": 8,
    "start_time": "2021-08-18T13:21:10.949Z"
   },
   {
    "duration": 37,
    "start_time": "2021-08-18T13:21:14.670Z"
   },
   {
    "duration": 86,
    "start_time": "2021-08-18T13:21:16.086Z"
   },
   {
    "duration": 4,
    "start_time": "2021-08-18T13:21:44.060Z"
   },
   {
    "duration": 1547,
    "start_time": "2021-08-18T13:21:44.066Z"
   },
   {
    "duration": 133,
    "start_time": "2021-08-18T13:21:45.615Z"
   },
   {
    "duration": 3,
    "start_time": "2021-08-18T13:21:45.750Z"
   },
   {
    "duration": 11,
    "start_time": "2021-08-18T13:21:45.755Z"
   },
   {
    "duration": 8,
    "start_time": "2021-08-18T13:21:45.767Z"
   },
   {
    "duration": 9,
    "start_time": "2021-08-18T13:21:45.777Z"
   },
   {
    "duration": 135,
    "start_time": "2021-08-18T13:21:45.788Z"
   },
   {
    "duration": 97,
    "start_time": "2021-08-18T13:21:45.925Z"
   },
   {
    "duration": 20,
    "start_time": "2021-08-18T13:21:46.024Z"
   },
   {
    "duration": 39,
    "start_time": "2021-08-18T13:21:46.045Z"
   },
   {
    "duration": 9,
    "start_time": "2021-08-18T13:21:46.086Z"
   },
   {
    "duration": 76,
    "start_time": "2021-08-18T13:21:46.097Z"
   },
   {
    "duration": 35,
    "start_time": "2021-08-18T13:21:46.175Z"
   },
   {
    "duration": 116,
    "start_time": "2021-08-18T13:21:46.212Z"
   },
   {
    "duration": 16,
    "start_time": "2021-08-18T13:21:46.330Z"
   },
   {
    "duration": 49,
    "start_time": "2021-08-18T13:21:46.348Z"
   },
   {
    "duration": 94,
    "start_time": "2021-08-18T13:21:46.399Z"
   },
   {
    "duration": 113,
    "start_time": "2021-08-18T13:21:46.497Z"
   },
   {
    "duration": 901,
    "start_time": "2021-08-18T13:21:46.612Z"
   },
   {
    "duration": 111,
    "start_time": "2021-08-18T13:21:47.515Z"
   },
   {
    "duration": 25,
    "start_time": "2021-08-18T13:21:47.628Z"
   },
   {
    "duration": 40,
    "start_time": "2021-08-18T13:21:47.655Z"
   },
   {
    "duration": 239,
    "start_time": "2021-08-18T13:21:47.697Z"
   },
   {
    "duration": 34,
    "start_time": "2021-08-18T13:21:47.938Z"
   },
   {
    "duration": 114,
    "start_time": "2021-08-18T13:21:47.974Z"
   },
   {
    "duration": 20,
    "start_time": "2021-08-18T13:21:48.090Z"
   },
   {
    "duration": 260,
    "start_time": "2021-08-18T13:21:48.112Z"
   },
   {
    "duration": 109,
    "start_time": "2021-08-18T13:21:48.373Z"
   },
   {
    "duration": 247,
    "start_time": "2021-08-18T13:21:48.484Z"
   },
   {
    "duration": 124,
    "start_time": "2021-08-18T13:21:48.733Z"
   },
   {
    "duration": 16,
    "start_time": "2021-08-18T13:21:48.859Z"
   },
   {
    "duration": 35,
    "start_time": "2021-08-18T13:21:48.877Z"
   },
   {
    "duration": 100,
    "start_time": "2021-08-18T13:21:48.914Z"
   },
   {
    "duration": 180,
    "start_time": "2021-08-18T13:21:49.016Z"
   },
   {
    "duration": 124,
    "start_time": "2021-08-18T13:21:49.198Z"
   },
   {
    "duration": 58,
    "start_time": "2021-08-18T13:21:49.324Z"
   },
   {
    "duration": 106,
    "start_time": "2021-08-18T13:21:49.384Z"
   },
   {
    "duration": 109,
    "start_time": "2021-08-18T13:21:49.492Z"
   },
   {
    "duration": 6,
    "start_time": "2021-08-18T13:21:49.603Z"
   },
   {
    "duration": 14,
    "start_time": "2021-08-18T13:21:54.420Z"
   },
   {
    "duration": 7,
    "start_time": "2021-08-18T13:22:07.309Z"
   },
   {
    "duration": 6,
    "start_time": "2021-08-18T13:22:55.516Z"
   },
   {
    "duration": 10,
    "start_time": "2021-08-18T13:23:55.068Z"
   },
   {
    "duration": 6,
    "start_time": "2021-08-18T13:27:00.150Z"
   },
   {
    "duration": 123,
    "start_time": "2021-08-18T13:36:08.327Z"
   },
   {
    "duration": 12,
    "start_time": "2021-08-18T13:36:15.006Z"
   },
   {
    "duration": 7,
    "start_time": "2021-08-18T13:37:28.199Z"
   },
   {
    "duration": 10,
    "start_time": "2021-08-18T13:37:56.158Z"
   },
   {
    "duration": 13,
    "start_time": "2021-08-18T13:38:12.362Z"
   },
   {
    "duration": 6,
    "start_time": "2021-08-18T13:38:30.230Z"
   },
   {
    "duration": 9,
    "start_time": "2021-08-18T13:39:09.687Z"
   },
   {
    "duration": 13,
    "start_time": "2021-08-18T13:39:10.679Z"
   },
   {
    "duration": 6,
    "start_time": "2021-08-18T13:39:15.262Z"
   },
   {
    "duration": 23,
    "start_time": "2021-08-18T13:39:31.863Z"
   },
   {
    "duration": 6,
    "start_time": "2021-08-18T13:39:40.381Z"
   },
   {
    "duration": 37,
    "start_time": "2021-08-18T13:40:50.957Z"
   },
   {
    "duration": 1915,
    "start_time": "2021-08-18T13:42:14.550Z"
   },
   {
    "duration": 54,
    "start_time": "2021-08-18T13:42:27.112Z"
   },
   {
    "duration": 9,
    "start_time": "2021-08-18T13:42:33.447Z"
   },
   {
    "duration": 6,
    "start_time": "2021-08-18T13:42:52.605Z"
   },
   {
    "duration": 14,
    "start_time": "2021-08-18T13:42:56.044Z"
   },
   {
    "duration": 239,
    "start_time": "2021-08-18T13:44:13.237Z"
   },
   {
    "duration": 65,
    "start_time": "2021-08-18T13:44:52.660Z"
   },
   {
    "duration": 24,
    "start_time": "2021-08-18T13:44:58.279Z"
   },
   {
    "duration": 7,
    "start_time": "2021-08-18T13:45:20.588Z"
   },
   {
    "duration": 26,
    "start_time": "2021-08-18T13:45:21.221Z"
   },
   {
    "duration": 6,
    "start_time": "2021-08-18T13:46:18.060Z"
   },
   {
    "duration": 27,
    "start_time": "2021-08-18T13:46:18.699Z"
   },
   {
    "duration": 6,
    "start_time": "2021-08-18T13:47:43.493Z"
   },
   {
    "duration": 27,
    "start_time": "2021-08-18T13:47:44.205Z"
   },
   {
    "duration": 7,
    "start_time": "2021-08-18T13:48:04.581Z"
   },
   {
    "duration": 27,
    "start_time": "2021-08-18T13:48:06.198Z"
   },
   {
    "duration": 6,
    "start_time": "2021-08-18T13:48:19.788Z"
   },
   {
    "duration": 3,
    "start_time": "2021-08-18T13:48:38.697Z"
   },
   {
    "duration": 1851,
    "start_time": "2021-08-18T13:48:38.704Z"
   },
   {
    "duration": 124,
    "start_time": "2021-08-18T13:48:40.558Z"
   },
   {
    "duration": 3,
    "start_time": "2021-08-18T13:48:40.684Z"
   },
   {
    "duration": 17,
    "start_time": "2021-08-18T13:48:40.690Z"
   },
   {
    "duration": 12,
    "start_time": "2021-08-18T13:48:40.709Z"
   },
   {
    "duration": 12,
    "start_time": "2021-08-18T13:48:40.723Z"
   },
   {
    "duration": 137,
    "start_time": "2021-08-18T13:48:40.736Z"
   },
   {
    "duration": 100,
    "start_time": "2021-08-18T13:48:40.875Z"
   },
   {
    "duration": 8,
    "start_time": "2021-08-18T13:48:40.977Z"
   },
   {
    "duration": 57,
    "start_time": "2021-08-18T13:48:40.986Z"
   },
   {
    "duration": 18,
    "start_time": "2021-08-18T13:48:41.045Z"
   },
   {
    "duration": 42,
    "start_time": "2021-08-18T13:48:41.065Z"
   },
   {
    "duration": 46,
    "start_time": "2021-08-18T13:48:41.109Z"
   },
   {
    "duration": 107,
    "start_time": "2021-08-18T13:48:41.157Z"
   },
   {
    "duration": 9,
    "start_time": "2021-08-18T13:48:41.265Z"
   },
   {
    "duration": 66,
    "start_time": "2021-08-18T13:48:41.276Z"
   },
   {
    "duration": 110,
    "start_time": "2021-08-18T13:48:41.345Z"
   },
   {
    "duration": 10,
    "start_time": "2021-08-18T13:48:41.457Z"
   },
   {
    "duration": 127,
    "start_time": "2021-08-18T13:48:41.469Z"
   },
   {
    "duration": 13,
    "start_time": "2021-08-18T13:48:41.598Z"
   },
   {
    "duration": 135,
    "start_time": "2021-08-18T13:48:41.614Z"
   },
   {
    "duration": 944,
    "start_time": "2021-08-18T13:48:41.752Z"
   },
   {
    "duration": 114,
    "start_time": "2021-08-18T13:48:42.701Z"
   },
   {
    "duration": 34,
    "start_time": "2021-08-18T13:48:42.818Z"
   },
   {
    "duration": 37,
    "start_time": "2021-08-18T13:48:42.854Z"
   },
   {
    "duration": 265,
    "start_time": "2021-08-18T13:48:42.893Z"
   },
   {
    "duration": 33,
    "start_time": "2021-08-18T13:48:43.160Z"
   },
   {
    "duration": 117,
    "start_time": "2021-08-18T13:48:43.195Z"
   },
   {
    "duration": 28,
    "start_time": "2021-08-18T13:48:43.314Z"
   },
   {
    "duration": 277,
    "start_time": "2021-08-18T13:48:43.343Z"
   },
   {
    "duration": 126,
    "start_time": "2021-08-18T13:48:43.622Z"
   },
   {
    "duration": 296,
    "start_time": "2021-08-18T13:48:43.750Z"
   },
   {
    "duration": 112,
    "start_time": "2021-08-18T13:48:44.048Z"
   },
   {
    "duration": 19,
    "start_time": "2021-08-18T13:48:44.162Z"
   },
   {
    "duration": 34,
    "start_time": "2021-08-18T13:48:44.183Z"
   },
   {
    "duration": 96,
    "start_time": "2021-08-18T13:48:44.219Z"
   },
   {
    "duration": 199,
    "start_time": "2021-08-18T13:48:44.317Z"
   },
   {
    "duration": 131,
    "start_time": "2021-08-18T13:48:44.518Z"
   },
   {
    "duration": 36,
    "start_time": "2021-08-18T13:48:44.651Z"
   },
   {
    "duration": 103,
    "start_time": "2021-08-18T13:48:44.689Z"
   },
   {
    "duration": 9,
    "start_time": "2021-08-18T13:48:44.794Z"
   },
   {
    "duration": 13,
    "start_time": "2021-08-18T13:48:44.805Z"
   },
   {
    "duration": 157,
    "start_time": "2021-08-18T13:48:44.841Z"
   },
   {
    "duration": 6,
    "start_time": "2021-08-18T13:48:44.999Z"
   },
   {
    "duration": 39,
    "start_time": "2021-08-18T13:48:45.007Z"
   },
   {
    "duration": 6,
    "start_time": "2021-08-18T13:48:45.047Z"
   },
   {
    "duration": 16,
    "start_time": "2021-08-18T13:48:45.055Z"
   },
   {
    "duration": 28,
    "start_time": "2021-08-18T13:48:45.073Z"
   },
   {
    "duration": 5,
    "start_time": "2021-08-18T13:48:45.103Z"
   },
   {
    "duration": 51,
    "start_time": "2021-08-18T13:48:45.110Z"
   },
   {
    "duration": 62,
    "start_time": "2021-08-18T13:48:45.163Z"
   },
   {
    "duration": 22,
    "start_time": "2021-08-18T13:48:45.227Z"
   },
   {
    "duration": 259,
    "start_time": "2021-08-18T13:48:45.250Z"
   },
   {
    "duration": 67,
    "start_time": "2021-08-18T13:48:51.501Z"
   },
   {
    "duration": 6,
    "start_time": "2021-08-18T13:48:52.316Z"
   },
   {
    "duration": 5,
    "start_time": "2021-08-18T13:49:02.428Z"
   },
   {
    "duration": 4,
    "start_time": "2021-08-18T13:49:05.428Z"
   },
   {
    "duration": 1399,
    "start_time": "2021-08-18T13:49:05.434Z"
   },
   {
    "duration": 134,
    "start_time": "2021-08-18T13:49:06.835Z"
   },
   {
    "duration": 3,
    "start_time": "2021-08-18T13:49:06.971Z"
   },
   {
    "duration": 12,
    "start_time": "2021-08-18T13:49:06.976Z"
   },
   {
    "duration": 5,
    "start_time": "2021-08-18T13:49:06.990Z"
   },
   {
    "duration": 6,
    "start_time": "2021-08-18T13:49:06.998Z"
   },
   {
    "duration": 149,
    "start_time": "2021-08-18T13:49:07.006Z"
   },
   {
    "duration": 424,
    "start_time": "2021-08-18T13:49:07.157Z"
   },
   {
    "duration": 11,
    "start_time": "2021-08-18T13:49:07.583Z"
   },
   {
    "duration": 66,
    "start_time": "2021-08-18T13:49:07.596Z"
   },
   {
    "duration": 13,
    "start_time": "2021-08-18T13:49:07.664Z"
   },
   {
    "duration": 81,
    "start_time": "2021-08-18T13:49:07.679Z"
   },
   {
    "duration": 45,
    "start_time": "2021-08-18T13:49:07.763Z"
   },
   {
    "duration": 131,
    "start_time": "2021-08-18T13:49:07.810Z"
   },
   {
    "duration": 9,
    "start_time": "2021-08-18T13:49:07.943Z"
   },
   {
    "duration": 40,
    "start_time": "2021-08-18T13:49:07.954Z"
   },
   {
    "duration": 114,
    "start_time": "2021-08-18T13:49:07.996Z"
   },
   {
    "duration": 7,
    "start_time": "2021-08-18T13:49:08.114Z"
   },
   {
    "duration": 135,
    "start_time": "2021-08-18T13:49:08.124Z"
   },
   {
    "duration": 13,
    "start_time": "2021-08-18T13:49:08.261Z"
   },
   {
    "duration": 131,
    "start_time": "2021-08-18T13:49:08.276Z"
   },
   {
    "duration": 959,
    "start_time": "2021-08-18T13:49:08.409Z"
   },
   {
    "duration": 111,
    "start_time": "2021-08-18T13:49:09.370Z"
   },
   {
    "duration": 26,
    "start_time": "2021-08-18T13:49:09.483Z"
   },
   {
    "duration": 50,
    "start_time": "2021-08-18T13:49:09.511Z"
   },
   {
    "duration": 277,
    "start_time": "2021-08-18T13:49:09.563Z"
   },
   {
    "duration": 35,
    "start_time": "2021-08-18T13:49:09.841Z"
   },
   {
    "duration": 136,
    "start_time": "2021-08-18T13:49:09.877Z"
   },
   {
    "duration": 26,
    "start_time": "2021-08-18T13:49:10.015Z"
   },
   {
    "duration": 273,
    "start_time": "2021-08-18T13:49:10.043Z"
   },
   {
    "duration": 109,
    "start_time": "2021-08-18T13:49:10.317Z"
   },
   {
    "duration": 267,
    "start_time": "2021-08-18T13:49:10.428Z"
   },
   {
    "duration": 113,
    "start_time": "2021-08-18T13:49:10.696Z"
   },
   {
    "duration": 17,
    "start_time": "2021-08-18T13:49:10.810Z"
   },
   {
    "duration": 33,
    "start_time": "2021-08-18T13:49:10.842Z"
   },
   {
    "duration": 88,
    "start_time": "2021-08-18T13:49:10.877Z"
   },
   {
    "duration": 186,
    "start_time": "2021-08-18T13:49:10.966Z"
   },
   {
    "duration": 121,
    "start_time": "2021-08-18T13:49:11.154Z"
   },
   {
    "duration": 36,
    "start_time": "2021-08-18T13:49:11.277Z"
   },
   {
    "duration": 114,
    "start_time": "2021-08-18T13:49:11.315Z"
   },
   {
    "duration": 10,
    "start_time": "2021-08-18T13:49:11.431Z"
   },
   {
    "duration": 19,
    "start_time": "2021-08-18T13:49:11.442Z"
   },
   {
    "duration": 120,
    "start_time": "2021-08-18T13:49:11.462Z"
   },
   {
    "duration": 5,
    "start_time": "2021-08-18T13:49:11.584Z"
   },
   {
    "duration": 31,
    "start_time": "2021-08-18T13:49:11.590Z"
   },
   {
    "duration": 20,
    "start_time": "2021-08-18T13:49:11.623Z"
   },
   {
    "duration": 8,
    "start_time": "2021-08-18T13:49:11.645Z"
   },
   {
    "duration": 28,
    "start_time": "2021-08-18T13:49:11.654Z"
   },
   {
    "duration": 7,
    "start_time": "2021-08-18T13:49:11.684Z"
   },
   {
    "duration": 62,
    "start_time": "2021-08-18T13:49:11.694Z"
   },
   {
    "duration": 65,
    "start_time": "2021-08-18T13:49:11.758Z"
   },
   {
    "duration": 23,
    "start_time": "2021-08-18T13:49:11.825Z"
   },
   {
    "duration": 6,
    "start_time": "2021-08-18T13:49:11.850Z"
   },
   {
    "duration": 22,
    "start_time": "2021-08-18T13:49:55.459Z"
   },
   {
    "duration": 20,
    "start_time": "2021-08-18T13:50:04.635Z"
   },
   {
    "duration": 22,
    "start_time": "2021-08-18T13:50:33.482Z"
   },
   {
    "duration": 238,
    "start_time": "2021-08-18T13:51:01.563Z"
   },
   {
    "duration": 7,
    "start_time": "2021-08-18T13:51:38.946Z"
   },
   {
    "duration": 22,
    "start_time": "2021-08-18T13:55:37.802Z"
   },
   {
    "duration": 21,
    "start_time": "2021-08-18T13:55:41.881Z"
   },
   {
    "duration": 359,
    "start_time": "2021-08-18T13:59:34.619Z"
   },
   {
    "duration": 3,
    "start_time": "2021-08-18T14:00:19.243Z"
   },
   {
    "duration": 2201,
    "start_time": "2021-08-18T14:00:19.248Z"
   },
   {
    "duration": 234,
    "start_time": "2021-08-18T14:00:21.452Z"
   },
   {
    "duration": 3,
    "start_time": "2021-08-18T14:00:21.688Z"
   },
   {
    "duration": 11,
    "start_time": "2021-08-18T14:00:21.693Z"
   },
   {
    "duration": 8,
    "start_time": "2021-08-18T14:00:21.706Z"
   },
   {
    "duration": 6,
    "start_time": "2021-08-18T14:00:21.718Z"
   },
   {
    "duration": 251,
    "start_time": "2021-08-18T14:00:21.727Z"
   },
   {
    "duration": 138,
    "start_time": "2021-08-18T14:00:21.980Z"
   },
   {
    "duration": 9,
    "start_time": "2021-08-18T14:00:22.120Z"
   },
   {
    "duration": 39,
    "start_time": "2021-08-18T14:00:22.141Z"
   },
   {
    "duration": 9,
    "start_time": "2021-08-18T14:00:22.182Z"
   },
   {
    "duration": 65,
    "start_time": "2021-08-18T14:00:22.193Z"
   },
   {
    "duration": 36,
    "start_time": "2021-08-18T14:00:22.259Z"
   },
   {
    "duration": 113,
    "start_time": "2021-08-18T14:00:22.297Z"
   },
   {
    "duration": 17,
    "start_time": "2021-08-18T14:00:22.412Z"
   },
   {
    "duration": 53,
    "start_time": "2021-08-18T14:00:22.431Z"
   },
   {
    "duration": 97,
    "start_time": "2021-08-18T14:00:22.486Z"
   },
   {
    "duration": 8,
    "start_time": "2021-08-18T14:00:22.588Z"
   },
   {
    "duration": 132,
    "start_time": "2021-08-18T14:00:22.598Z"
   },
   {
    "duration": 13,
    "start_time": "2021-08-18T14:00:22.732Z"
   },
   {
    "duration": 21,
    "start_time": "2021-08-18T14:00:22.747Z"
   },
   {
    "duration": 141,
    "start_time": "2021-08-18T14:00:22.770Z"
   },
   {
    "duration": 953,
    "start_time": "2021-08-18T14:00:22.913Z"
   },
   {
    "duration": 156,
    "start_time": "2021-08-18T14:00:23.868Z"
   },
   {
    "duration": 49,
    "start_time": "2021-08-18T14:00:24.027Z"
   },
   {
    "duration": 35,
    "start_time": "2021-08-18T14:00:24.079Z"
   },
   {
    "duration": 278,
    "start_time": "2021-08-18T14:00:24.116Z"
   },
   {
    "duration": 35,
    "start_time": "2021-08-18T14:00:24.396Z"
   },
   {
    "duration": 127,
    "start_time": "2021-08-18T14:00:24.433Z"
   },
   {
    "duration": 20,
    "start_time": "2021-08-18T14:00:24.562Z"
   },
   {
    "duration": 275,
    "start_time": "2021-08-18T14:00:24.583Z"
   },
   {
    "duration": 116,
    "start_time": "2021-08-18T14:00:24.860Z"
   },
   {
    "duration": 271,
    "start_time": "2021-08-18T14:00:24.978Z"
   },
   {
    "duration": 109,
    "start_time": "2021-08-18T14:00:25.251Z"
   },
   {
    "duration": 17,
    "start_time": "2021-08-18T14:00:25.361Z"
   },
   {
    "duration": 41,
    "start_time": "2021-08-18T14:00:25.380Z"
   },
   {
    "duration": 87,
    "start_time": "2021-08-18T14:00:25.423Z"
   },
   {
    "duration": 203,
    "start_time": "2021-08-18T14:00:25.512Z"
   },
   {
    "duration": 124,
    "start_time": "2021-08-18T14:00:25.717Z"
   },
   {
    "duration": 34,
    "start_time": "2021-08-18T14:00:25.843Z"
   },
   {
    "duration": 102,
    "start_time": "2021-08-18T14:00:25.880Z"
   },
   {
    "duration": 9,
    "start_time": "2021-08-18T14:00:25.984Z"
   },
   {
    "duration": 20,
    "start_time": "2021-08-18T14:00:25.995Z"
   },
   {
    "duration": 37,
    "start_time": "2021-08-18T14:00:29.921Z"
   },
   {
    "duration": 6,
    "start_time": "2021-08-18T14:00:35.208Z"
   },
   {
    "duration": 102,
    "start_time": "2021-08-18T14:01:03.361Z"
   },
   {
    "duration": 6,
    "start_time": "2021-08-18T14:01:06.569Z"
   },
   {
    "duration": 42,
    "start_time": "2021-08-18T14:01:15.673Z"
   },
   {
    "duration": 6,
    "start_time": "2021-08-18T14:01:16.625Z"
   },
   {
    "duration": 4,
    "start_time": "2021-08-18T14:01:23.055Z"
   },
   {
    "duration": 1307,
    "start_time": "2021-08-18T14:01:23.061Z"
   },
   {
    "duration": 143,
    "start_time": "2021-08-18T14:01:24.370Z"
   },
   {
    "duration": 12,
    "start_time": "2021-08-18T14:01:24.515Z"
   },
   {
    "duration": 17,
    "start_time": "2021-08-18T14:01:24.529Z"
   },
   {
    "duration": 18,
    "start_time": "2021-08-18T14:01:24.548Z"
   },
   {
    "duration": 11,
    "start_time": "2021-08-18T14:01:24.569Z"
   },
   {
    "duration": 148,
    "start_time": "2021-08-18T14:01:24.582Z"
   },
   {
    "duration": 104,
    "start_time": "2021-08-18T14:01:24.731Z"
   },
   {
    "duration": 7,
    "start_time": "2021-08-18T14:01:24.841Z"
   },
   {
    "duration": 54,
    "start_time": "2021-08-18T14:01:24.850Z"
   },
   {
    "duration": 9,
    "start_time": "2021-08-18T14:01:24.906Z"
   },
   {
    "duration": 73,
    "start_time": "2021-08-18T14:01:24.916Z"
   },
   {
    "duration": 36,
    "start_time": "2021-08-18T14:01:24.991Z"
   },
   {
    "duration": 120,
    "start_time": "2021-08-18T14:01:25.029Z"
   },
   {
    "duration": 10,
    "start_time": "2021-08-18T14:01:25.151Z"
   },
   {
    "duration": 51,
    "start_time": "2021-08-18T14:01:25.163Z"
   },
   {
    "duration": 98,
    "start_time": "2021-08-18T14:01:25.216Z"
   },
   {
    "duration": 7,
    "start_time": "2021-08-18T14:01:25.318Z"
   },
   {
    "duration": 122,
    "start_time": "2021-08-18T14:01:25.342Z"
   },
   {
    "duration": 12,
    "start_time": "2021-08-18T14:01:25.466Z"
   },
   {
    "duration": 30,
    "start_time": "2021-08-18T14:01:25.480Z"
   },
   {
    "duration": 141,
    "start_time": "2021-08-18T14:01:25.512Z"
   },
   {
    "duration": 968,
    "start_time": "2021-08-18T14:01:25.655Z"
   },
   {
    "duration": 116,
    "start_time": "2021-08-18T14:01:26.625Z"
   },
   {
    "duration": 26,
    "start_time": "2021-08-18T14:01:26.742Z"
   },
   {
    "duration": 37,
    "start_time": "2021-08-18T14:01:26.770Z"
   },
   {
    "duration": 277,
    "start_time": "2021-08-18T14:01:26.809Z"
   },
   {
    "duration": 34,
    "start_time": "2021-08-18T14:01:27.087Z"
   },
   {
    "duration": 133,
    "start_time": "2021-08-18T14:01:27.123Z"
   },
   {
    "duration": 21,
    "start_time": "2021-08-18T14:01:27.258Z"
   },
   {
    "duration": 436,
    "start_time": "2021-08-18T14:01:27.281Z"
   },
   {
    "duration": 190,
    "start_time": "2021-08-18T14:01:27.720Z"
   },
   {
    "duration": 455,
    "start_time": "2021-08-18T14:01:27.912Z"
   },
   {
    "duration": 210,
    "start_time": "2021-08-18T14:01:28.369Z"
   },
   {
    "duration": 28,
    "start_time": "2021-08-18T14:01:28.582Z"
   },
   {
    "duration": 50,
    "start_time": "2021-08-18T14:01:28.612Z"
   },
   {
    "duration": 95,
    "start_time": "2021-08-18T14:01:28.664Z"
   },
   {
    "duration": 184,
    "start_time": "2021-08-18T14:01:28.761Z"
   },
   {
    "duration": 114,
    "start_time": "2021-08-18T14:01:28.947Z"
   },
   {
    "duration": 32,
    "start_time": "2021-08-18T14:01:29.063Z"
   },
   {
    "duration": 96,
    "start_time": "2021-08-18T14:01:29.097Z"
   },
   {
    "duration": 8,
    "start_time": "2021-08-18T14:01:29.195Z"
   },
   {
    "duration": 21,
    "start_time": "2021-08-18T14:01:29.204Z"
   },
   {
    "duration": 40,
    "start_time": "2021-08-18T14:02:59.065Z"
   },
   {
    "duration": 5,
    "start_time": "2021-08-18T14:02:59.745Z"
   },
   {
    "duration": 8,
    "start_time": "2021-08-18T14:03:44.337Z"
   },
   {
    "duration": 6,
    "start_time": "2021-08-18T14:05:04.264Z"
   },
   {
    "duration": 9,
    "start_time": "2021-08-18T14:05:06.896Z"
   },
   {
    "duration": 5,
    "start_time": "2021-08-18T14:05:11.409Z"
   },
   {
    "duration": 8,
    "start_time": "2021-08-18T14:05:14.105Z"
   },
   {
    "duration": 13,
    "start_time": "2021-08-18T14:05:14.673Z"
   },
   {
    "duration": 39,
    "start_time": "2021-08-18T14:06:16.289Z"
   },
   {
    "duration": 6,
    "start_time": "2021-08-18T14:06:20.745Z"
   },
   {
    "duration": 4,
    "start_time": "2021-08-18T14:06:58.874Z"
   },
   {
    "duration": 1688,
    "start_time": "2021-08-18T14:06:58.880Z"
   },
   {
    "duration": 137,
    "start_time": "2021-08-18T14:07:00.570Z"
   },
   {
    "duration": 12,
    "start_time": "2021-08-18T14:07:00.709Z"
   },
   {
    "duration": 17,
    "start_time": "2021-08-18T14:07:00.723Z"
   },
   {
    "duration": 26,
    "start_time": "2021-08-18T14:07:00.741Z"
   },
   {
    "duration": 30,
    "start_time": "2021-08-18T14:07:00.769Z"
   },
   {
    "duration": 139,
    "start_time": "2021-08-18T14:07:00.801Z"
   },
   {
    "duration": 111,
    "start_time": "2021-08-18T14:07:00.943Z"
   },
   {
    "duration": 8,
    "start_time": "2021-08-18T14:07:01.056Z"
   },
   {
    "duration": 64,
    "start_time": "2021-08-18T14:07:01.066Z"
   },
   {
    "duration": 17,
    "start_time": "2021-08-18T14:07:01.132Z"
   },
   {
    "duration": 52,
    "start_time": "2021-08-18T14:07:01.151Z"
   },
   {
    "duration": 49,
    "start_time": "2021-08-18T14:07:01.205Z"
   },
   {
    "duration": 113,
    "start_time": "2021-08-18T14:07:01.255Z"
   },
   {
    "duration": 30,
    "start_time": "2021-08-18T14:07:01.370Z"
   },
   {
    "duration": 54,
    "start_time": "2021-08-18T14:07:01.402Z"
   },
   {
    "duration": 100,
    "start_time": "2021-08-18T14:07:01.458Z"
   },
   {
    "duration": 9,
    "start_time": "2021-08-18T14:07:01.560Z"
   },
   {
    "duration": 129,
    "start_time": "2021-08-18T14:07:01.570Z"
   },
   {
    "duration": 12,
    "start_time": "2021-08-18T14:07:01.701Z"
   },
   {
    "duration": 58,
    "start_time": "2021-08-18T14:07:01.714Z"
   },
   {
    "duration": 166,
    "start_time": "2021-08-18T14:07:01.774Z"
   },
   {
    "duration": 958,
    "start_time": "2021-08-18T14:07:01.942Z"
   },
   {
    "duration": 114,
    "start_time": "2021-08-18T14:07:02.902Z"
   },
   {
    "duration": 35,
    "start_time": "2021-08-18T14:07:03.018Z"
   },
   {
    "duration": 33,
    "start_time": "2021-08-18T14:07:03.057Z"
   },
   {
    "duration": 293,
    "start_time": "2021-08-18T14:07:03.092Z"
   },
   {
    "duration": 35,
    "start_time": "2021-08-18T14:07:03.387Z"
   },
   {
    "duration": 138,
    "start_time": "2021-08-18T14:07:03.424Z"
   },
   {
    "duration": 21,
    "start_time": "2021-08-18T14:07:03.564Z"
   },
   {
    "duration": 282,
    "start_time": "2021-08-18T14:07:03.587Z"
   },
   {
    "duration": 159,
    "start_time": "2021-08-18T14:07:03.871Z"
   },
   {
    "duration": 307,
    "start_time": "2021-08-18T14:07:04.033Z"
   },
   {
    "duration": 120,
    "start_time": "2021-08-18T14:07:04.342Z"
   },
   {
    "duration": 16,
    "start_time": "2021-08-18T14:07:04.464Z"
   },
   {
    "duration": 54,
    "start_time": "2021-08-18T14:07:04.482Z"
   },
   {
    "duration": 93,
    "start_time": "2021-08-18T14:07:04.538Z"
   },
   {
    "duration": 181,
    "start_time": "2021-08-18T14:07:04.633Z"
   },
   {
    "duration": 117,
    "start_time": "2021-08-18T14:07:04.816Z"
   },
   {
    "duration": 38,
    "start_time": "2021-08-18T14:07:04.935Z"
   },
   {
    "duration": 99,
    "start_time": "2021-08-18T14:07:04.975Z"
   },
   {
    "duration": 5,
    "start_time": "2021-08-18T14:07:05.076Z"
   },
   {
    "duration": 37,
    "start_time": "2021-08-18T14:07:05.083Z"
   },
   {
    "duration": 22,
    "start_time": "2021-08-18T14:07:05.122Z"
   },
   {
    "duration": 24,
    "start_time": "2021-08-18T14:07:05.146Z"
   },
   {
    "duration": 27,
    "start_time": "2021-08-18T14:07:05.171Z"
   },
   {
    "duration": 38,
    "start_time": "2021-08-18T14:07:06.296Z"
   },
   {
    "duration": 6,
    "start_time": "2021-08-18T14:07:06.831Z"
   },
   {
    "duration": 4,
    "start_time": "2021-08-18T14:07:21.687Z"
   },
   {
    "duration": 1323,
    "start_time": "2021-08-18T14:07:21.693Z"
   },
   {
    "duration": 131,
    "start_time": "2021-08-18T14:07:23.018Z"
   },
   {
    "duration": 3,
    "start_time": "2021-08-18T14:07:23.152Z"
   },
   {
    "duration": 14,
    "start_time": "2021-08-18T14:07:23.157Z"
   },
   {
    "duration": 5,
    "start_time": "2021-08-18T14:07:23.173Z"
   },
   {
    "duration": 7,
    "start_time": "2021-08-18T14:07:23.179Z"
   },
   {
    "duration": 158,
    "start_time": "2021-08-18T14:07:23.188Z"
   },
   {
    "duration": 134,
    "start_time": "2021-08-18T14:07:23.349Z"
   },
   {
    "duration": 10,
    "start_time": "2021-08-18T14:07:23.485Z"
   },
   {
    "duration": 69,
    "start_time": "2021-08-18T14:07:23.497Z"
   },
   {
    "duration": 12,
    "start_time": "2021-08-18T14:07:23.568Z"
   },
   {
    "duration": 81,
    "start_time": "2021-08-18T14:07:23.582Z"
   },
   {
    "duration": 47,
    "start_time": "2021-08-18T14:07:23.665Z"
   },
   {
    "duration": 213,
    "start_time": "2021-08-18T14:07:23.714Z"
   },
   {
    "duration": 16,
    "start_time": "2021-08-18T14:07:23.929Z"
   },
   {
    "duration": 50,
    "start_time": "2021-08-18T14:07:23.947Z"
   },
   {
    "duration": 127,
    "start_time": "2021-08-18T14:07:23.999Z"
   },
   {
    "duration": 18,
    "start_time": "2021-08-18T14:07:24.129Z"
   },
   {
    "duration": 186,
    "start_time": "2021-08-18T14:07:24.149Z"
   },
   {
    "duration": 17,
    "start_time": "2021-08-18T14:07:24.337Z"
   },
   {
    "duration": 35,
    "start_time": "2021-08-18T14:07:24.356Z"
   },
   {
    "duration": 230,
    "start_time": "2021-08-18T14:07:24.395Z"
   },
   {
    "duration": 1555,
    "start_time": "2021-08-18T14:07:24.627Z"
   },
   {
    "duration": 207,
    "start_time": "2021-08-18T14:07:26.184Z"
   },
   {
    "duration": 51,
    "start_time": "2021-08-18T14:07:26.394Z"
   },
   {
    "duration": 58,
    "start_time": "2021-08-18T14:07:26.447Z"
   },
   {
    "duration": 280,
    "start_time": "2021-08-18T14:07:26.507Z"
   },
   {
    "duration": 43,
    "start_time": "2021-08-18T14:07:26.789Z"
   },
   {
    "duration": 120,
    "start_time": "2021-08-18T14:07:26.841Z"
   },
   {
    "duration": 22,
    "start_time": "2021-08-18T14:07:26.963Z"
   },
   {
    "duration": 276,
    "start_time": "2021-08-18T14:07:26.987Z"
   },
   {
    "duration": 115,
    "start_time": "2021-08-18T14:07:27.265Z"
   },
   {
    "duration": 274,
    "start_time": "2021-08-18T14:07:27.382Z"
   },
   {
    "duration": 114,
    "start_time": "2021-08-18T14:07:27.658Z"
   },
   {
    "duration": 17,
    "start_time": "2021-08-18T14:07:27.774Z"
   },
   {
    "duration": 53,
    "start_time": "2021-08-18T14:07:27.793Z"
   },
   {
    "duration": 78,
    "start_time": "2021-08-18T14:07:27.848Z"
   },
   {
    "duration": 187,
    "start_time": "2021-08-18T14:07:27.928Z"
   },
   {
    "duration": 117,
    "start_time": "2021-08-18T14:07:28.117Z"
   },
   {
    "duration": 32,
    "start_time": "2021-08-18T14:07:28.235Z"
   },
   {
    "duration": 105,
    "start_time": "2021-08-18T14:07:28.268Z"
   },
   {
    "duration": 5,
    "start_time": "2021-08-18T14:07:28.374Z"
   },
   {
    "duration": 19,
    "start_time": "2021-08-18T14:07:28.381Z"
   },
   {
    "duration": 14,
    "start_time": "2021-08-18T14:07:28.401Z"
   },
   {
    "duration": 25,
    "start_time": "2021-08-18T14:07:28.416Z"
   },
   {
    "duration": 12,
    "start_time": "2021-08-18T14:07:28.443Z"
   },
   {
    "duration": 54,
    "start_time": "2021-08-18T14:07:30.545Z"
   },
   {
    "duration": 7,
    "start_time": "2021-08-18T14:07:31.344Z"
   },
   {
    "duration": 4,
    "start_time": "2021-08-18T14:07:46.897Z"
   },
   {
    "duration": 1606,
    "start_time": "2021-08-18T14:07:46.903Z"
   },
   {
    "duration": 213,
    "start_time": "2021-08-18T14:07:48.512Z"
   },
   {
    "duration": 4,
    "start_time": "2021-08-18T14:07:48.727Z"
   },
   {
    "duration": 5,
    "start_time": "2021-08-18T14:07:48.742Z"
   },
   {
    "duration": 5,
    "start_time": "2021-08-18T14:07:48.749Z"
   },
   {
    "duration": 6,
    "start_time": "2021-08-18T14:07:48.757Z"
   },
   {
    "duration": 168,
    "start_time": "2021-08-18T14:07:48.766Z"
   },
   {
    "duration": 117,
    "start_time": "2021-08-18T14:07:48.936Z"
   },
   {
    "duration": 10,
    "start_time": "2021-08-18T14:07:49.055Z"
   },
   {
    "duration": 47,
    "start_time": "2021-08-18T14:07:49.068Z"
   },
   {
    "duration": 31,
    "start_time": "2021-08-18T14:07:49.118Z"
   },
   {
    "duration": 46,
    "start_time": "2021-08-18T14:07:49.151Z"
   },
   {
    "duration": 63,
    "start_time": "2021-08-18T14:07:49.198Z"
   },
   {
    "duration": 144,
    "start_time": "2021-08-18T14:07:49.263Z"
   },
   {
    "duration": 9,
    "start_time": "2021-08-18T14:07:49.409Z"
   },
   {
    "duration": 56,
    "start_time": "2021-08-18T14:07:49.420Z"
   },
   {
    "duration": 103,
    "start_time": "2021-08-18T14:07:49.478Z"
   },
   {
    "duration": 8,
    "start_time": "2021-08-18T14:07:49.585Z"
   },
   {
    "duration": 128,
    "start_time": "2021-08-18T14:07:49.595Z"
   },
   {
    "duration": 17,
    "start_time": "2021-08-18T14:07:49.725Z"
   },
   {
    "duration": 23,
    "start_time": "2021-08-18T14:07:49.744Z"
   },
   {
    "duration": 142,
    "start_time": "2021-08-18T14:07:49.768Z"
   },
   {
    "duration": 1010,
    "start_time": "2021-08-18T14:07:49.912Z"
   },
   {
    "duration": 133,
    "start_time": "2021-08-18T14:07:50.923Z"
   },
   {
    "duration": 28,
    "start_time": "2021-08-18T14:07:51.058Z"
   },
   {
    "duration": 40,
    "start_time": "2021-08-18T14:07:51.088Z"
   },
   {
    "duration": 281,
    "start_time": "2021-08-18T14:07:51.141Z"
   },
   {
    "duration": 41,
    "start_time": "2021-08-18T14:07:51.424Z"
   },
   {
    "duration": 125,
    "start_time": "2021-08-18T14:07:51.467Z"
   },
   {
    "duration": 21,
    "start_time": "2021-08-18T14:07:51.593Z"
   },
   {
    "duration": 284,
    "start_time": "2021-08-18T14:07:51.616Z"
   },
   {
    "duration": 115,
    "start_time": "2021-08-18T14:07:51.902Z"
   },
   {
    "duration": 316,
    "start_time": "2021-08-18T14:07:52.019Z"
   },
   {
    "duration": 200,
    "start_time": "2021-08-18T14:07:52.337Z"
   },
   {
    "duration": 24,
    "start_time": "2021-08-18T14:07:52.541Z"
   },
   {
    "duration": 52,
    "start_time": "2021-08-18T14:07:52.567Z"
   },
   {
    "duration": 92,
    "start_time": "2021-08-18T14:07:52.621Z"
   },
   {
    "duration": 190,
    "start_time": "2021-08-18T14:07:52.715Z"
   },
   {
    "duration": 119,
    "start_time": "2021-08-18T14:07:52.906Z"
   },
   {
    "duration": 46,
    "start_time": "2021-08-18T14:07:53.027Z"
   },
   {
    "duration": 107,
    "start_time": "2021-08-18T14:07:53.076Z"
   },
   {
    "duration": 5,
    "start_time": "2021-08-18T14:07:53.185Z"
   },
   {
    "duration": 34,
    "start_time": "2021-08-18T14:07:53.192Z"
   },
   {
    "duration": 24,
    "start_time": "2021-08-18T14:07:53.228Z"
   },
   {
    "duration": 22,
    "start_time": "2021-08-18T14:07:53.254Z"
   },
   {
    "duration": 17,
    "start_time": "2021-08-18T14:07:53.278Z"
   },
   {
    "duration": 52,
    "start_time": "2021-08-18T14:07:55.758Z"
   },
   {
    "duration": 6,
    "start_time": "2021-08-18T14:07:56.887Z"
   },
   {
    "duration": 5,
    "start_time": "2021-08-18T14:09:11.983Z"
   },
   {
    "duration": 1596,
    "start_time": "2021-08-18T14:09:11.990Z"
   },
   {
    "duration": 138,
    "start_time": "2021-08-18T14:09:13.588Z"
   },
   {
    "duration": 3,
    "start_time": "2021-08-18T14:09:13.729Z"
   },
   {
    "duration": 7,
    "start_time": "2021-08-18T14:09:13.741Z"
   },
   {
    "duration": 16,
    "start_time": "2021-08-18T14:09:13.750Z"
   },
   {
    "duration": 12,
    "start_time": "2021-08-18T14:09:13.768Z"
   },
   {
    "duration": 256,
    "start_time": "2021-08-18T14:09:13.783Z"
   },
   {
    "duration": 108,
    "start_time": "2021-08-18T14:09:14.042Z"
   },
   {
    "duration": 10,
    "start_time": "2021-08-18T14:09:14.152Z"
   },
   {
    "duration": 44,
    "start_time": "2021-08-18T14:09:14.165Z"
   },
   {
    "duration": 32,
    "start_time": "2021-08-18T14:09:14.210Z"
   },
   {
    "duration": 47,
    "start_time": "2021-08-18T14:09:14.244Z"
   },
   {
    "duration": 58,
    "start_time": "2021-08-18T14:09:14.293Z"
   },
   {
    "duration": 119,
    "start_time": "2021-08-18T14:09:14.353Z"
   },
   {
    "duration": 27,
    "start_time": "2021-08-18T14:09:14.474Z"
   },
   {
    "duration": 54,
    "start_time": "2021-08-18T14:09:14.503Z"
   },
   {
    "duration": 104,
    "start_time": "2021-08-18T14:09:14.559Z"
   },
   {
    "duration": 8,
    "start_time": "2021-08-18T14:09:14.665Z"
   },
   {
    "duration": 171,
    "start_time": "2021-08-18T14:09:14.675Z"
   },
   {
    "duration": 15,
    "start_time": "2021-08-18T14:09:14.848Z"
   },
   {
    "duration": 35,
    "start_time": "2021-08-18T14:09:14.865Z"
   },
   {
    "duration": 144,
    "start_time": "2021-08-18T14:09:14.904Z"
   },
   {
    "duration": 997,
    "start_time": "2021-08-18T14:09:15.051Z"
   },
   {
    "duration": 115,
    "start_time": "2021-08-18T14:09:16.049Z"
   },
   {
    "duration": 36,
    "start_time": "2021-08-18T14:09:16.166Z"
   },
   {
    "duration": 50,
    "start_time": "2021-08-18T14:09:16.203Z"
   },
   {
    "duration": 274,
    "start_time": "2021-08-18T14:09:16.255Z"
   },
   {
    "duration": 42,
    "start_time": "2021-08-18T14:09:16.531Z"
   },
   {
    "duration": 126,
    "start_time": "2021-08-18T14:09:16.575Z"
   },
   {
    "duration": 23,
    "start_time": "2021-08-18T14:09:16.703Z"
   },
   {
    "duration": 272,
    "start_time": "2021-08-18T14:09:16.728Z"
   },
   {
    "duration": 112,
    "start_time": "2021-08-18T14:09:17.002Z"
   },
   {
    "duration": 270,
    "start_time": "2021-08-18T14:09:17.116Z"
   },
   {
    "duration": 114,
    "start_time": "2021-08-18T14:09:17.388Z"
   },
   {
    "duration": 17,
    "start_time": "2021-08-18T14:09:17.504Z"
   },
   {
    "duration": 49,
    "start_time": "2021-08-18T14:09:17.522Z"
   },
   {
    "duration": 83,
    "start_time": "2021-08-18T14:09:17.573Z"
   },
   {
    "duration": 288,
    "start_time": "2021-08-18T14:09:17.658Z"
   },
   {
    "duration": 206,
    "start_time": "2021-08-18T14:09:17.948Z"
   },
   {
    "duration": 60,
    "start_time": "2021-08-18T14:09:18.156Z"
   },
   {
    "duration": 103,
    "start_time": "2021-08-18T14:09:18.218Z"
   },
   {
    "duration": 5,
    "start_time": "2021-08-18T14:09:18.322Z"
   },
   {
    "duration": 9,
    "start_time": "2021-08-18T14:09:18.341Z"
   },
   {
    "duration": 6,
    "start_time": "2021-08-18T14:09:18.352Z"
   },
   {
    "duration": 13,
    "start_time": "2021-08-18T14:09:18.360Z"
   },
   {
    "duration": 14,
    "start_time": "2021-08-18T14:09:18.375Z"
   },
   {
    "duration": 23,
    "start_time": "2021-08-18T14:09:19.813Z"
   },
   {
    "duration": 42,
    "start_time": "2021-08-18T14:09:39.739Z"
   },
   {
    "duration": 6,
    "start_time": "2021-08-18T14:09:40.750Z"
   },
   {
    "duration": 18,
    "start_time": "2021-08-18T14:09:47.159Z"
   },
   {
    "duration": 4,
    "start_time": "2021-08-18T14:10:38.694Z"
   },
   {
    "duration": 1404,
    "start_time": "2021-08-18T14:10:38.700Z"
   },
   {
    "duration": 142,
    "start_time": "2021-08-18T14:10:40.106Z"
   },
   {
    "duration": 4,
    "start_time": "2021-08-18T14:10:40.250Z"
   },
   {
    "duration": 8,
    "start_time": "2021-08-18T14:10:40.256Z"
   },
   {
    "duration": 5,
    "start_time": "2021-08-18T14:10:40.266Z"
   },
   {
    "duration": 9,
    "start_time": "2021-08-18T14:10:40.274Z"
   },
   {
    "duration": 150,
    "start_time": "2021-08-18T14:10:40.286Z"
   },
   {
    "duration": 102,
    "start_time": "2021-08-18T14:10:40.440Z"
   },
   {
    "duration": 8,
    "start_time": "2021-08-18T14:10:40.544Z"
   },
   {
    "duration": 46,
    "start_time": "2021-08-18T14:10:40.553Z"
   },
   {
    "duration": 10,
    "start_time": "2021-08-18T14:10:40.601Z"
   },
   {
    "duration": 80,
    "start_time": "2021-08-18T14:10:40.613Z"
   },
   {
    "duration": 46,
    "start_time": "2021-08-18T14:10:40.695Z"
   },
   {
    "duration": 112,
    "start_time": "2021-08-18T14:10:40.743Z"
   },
   {
    "duration": 9,
    "start_time": "2021-08-18T14:10:40.857Z"
   },
   {
    "duration": 44,
    "start_time": "2021-08-18T14:10:40.868Z"
   },
   {
    "duration": 103,
    "start_time": "2021-08-18T14:10:40.914Z"
   },
   {
    "duration": 20,
    "start_time": "2021-08-18T14:10:41.022Z"
   },
   {
    "duration": 123,
    "start_time": "2021-08-18T14:10:41.044Z"
   },
   {
    "duration": 14,
    "start_time": "2021-08-18T14:10:41.171Z"
   },
   {
    "duration": 24,
    "start_time": "2021-08-18T14:10:41.187Z"
   },
   {
    "duration": 135,
    "start_time": "2021-08-18T14:10:41.213Z"
   },
   {
    "duration": 1050,
    "start_time": "2021-08-18T14:10:41.350Z"
   },
   {
    "duration": 118,
    "start_time": "2021-08-18T14:10:42.402Z"
   },
   {
    "duration": 33,
    "start_time": "2021-08-18T14:10:42.522Z"
   },
   {
    "duration": 47,
    "start_time": "2021-08-18T14:10:42.557Z"
   },
   {
    "duration": 277,
    "start_time": "2021-08-18T14:10:42.606Z"
   },
   {
    "duration": 36,
    "start_time": "2021-08-18T14:10:42.884Z"
   },
   {
    "duration": 138,
    "start_time": "2021-08-18T14:10:42.921Z"
   },
   {
    "duration": 21,
    "start_time": "2021-08-18T14:10:43.061Z"
   },
   {
    "duration": 281,
    "start_time": "2021-08-18T14:10:43.085Z"
   },
   {
    "duration": 119,
    "start_time": "2021-08-18T14:10:43.368Z"
   },
   {
    "duration": 269,
    "start_time": "2021-08-18T14:10:43.489Z"
   },
   {
    "duration": 120,
    "start_time": "2021-08-18T14:10:43.760Z"
   },
   {
    "duration": 18,
    "start_time": "2021-08-18T14:10:43.882Z"
   },
   {
    "duration": 52,
    "start_time": "2021-08-18T14:10:43.902Z"
   },
   {
    "duration": 93,
    "start_time": "2021-08-18T14:10:43.956Z"
   },
   {
    "duration": 194,
    "start_time": "2021-08-18T14:10:44.051Z"
   },
   {
    "duration": 126,
    "start_time": "2021-08-18T14:10:44.247Z"
   },
   {
    "duration": 34,
    "start_time": "2021-08-18T14:10:44.375Z"
   },
   {
    "duration": 103,
    "start_time": "2021-08-18T14:10:44.410Z"
   },
   {
    "duration": 7,
    "start_time": "2021-08-18T14:10:44.515Z"
   },
   {
    "duration": 22,
    "start_time": "2021-08-18T14:10:44.526Z"
   },
   {
    "duration": 6,
    "start_time": "2021-08-18T14:10:44.550Z"
   },
   {
    "duration": 15,
    "start_time": "2021-08-18T14:10:44.558Z"
   },
   {
    "duration": 18,
    "start_time": "2021-08-18T14:10:44.575Z"
   },
   {
    "duration": 46,
    "start_time": "2021-08-18T14:10:44.595Z"
   },
   {
    "duration": 300,
    "start_time": "2021-08-18T14:10:48.375Z"
   },
   {
    "duration": 73,
    "start_time": "2021-08-18T14:14:35.406Z"
   },
   {
    "duration": 19,
    "start_time": "2021-08-18T14:14:36.397Z"
   },
   {
    "duration": 4,
    "start_time": "2021-08-18T14:15:49.926Z"
   },
   {
    "duration": 1830,
    "start_time": "2021-08-18T14:15:49.932Z"
   },
   {
    "duration": 136,
    "start_time": "2021-08-18T14:15:51.764Z"
   },
   {
    "duration": 3,
    "start_time": "2021-08-18T14:15:51.902Z"
   },
   {
    "duration": 18,
    "start_time": "2021-08-18T14:15:51.906Z"
   },
   {
    "duration": 12,
    "start_time": "2021-08-18T14:15:51.926Z"
   },
   {
    "duration": 17,
    "start_time": "2021-08-18T14:15:51.941Z"
   },
   {
    "duration": 141,
    "start_time": "2021-08-18T14:15:51.961Z"
   },
   {
    "duration": 106,
    "start_time": "2021-08-18T14:15:52.104Z"
   },
   {
    "duration": 8,
    "start_time": "2021-08-18T14:15:52.212Z"
   },
   {
    "duration": 58,
    "start_time": "2021-08-18T14:15:52.222Z"
   },
   {
    "duration": 10,
    "start_time": "2021-08-18T14:15:52.281Z"
   },
   {
    "duration": 70,
    "start_time": "2021-08-18T14:15:52.293Z"
   },
   {
    "duration": 40,
    "start_time": "2021-08-18T14:15:52.365Z"
   },
   {
    "duration": 123,
    "start_time": "2021-08-18T14:15:52.407Z"
   },
   {
    "duration": 24,
    "start_time": "2021-08-18T14:15:52.532Z"
   },
   {
    "duration": 49,
    "start_time": "2021-08-18T14:15:52.559Z"
   },
   {
    "duration": 84,
    "start_time": "2021-08-18T14:15:52.610Z"
   },
   {
    "duration": 7,
    "start_time": "2021-08-18T14:15:52.698Z"
   },
   {
    "duration": 132,
    "start_time": "2021-08-18T14:15:52.707Z"
   },
   {
    "duration": 13,
    "start_time": "2021-08-18T14:15:52.841Z"
   },
   {
    "duration": 22,
    "start_time": "2021-08-18T14:15:52.856Z"
   },
   {
    "duration": 139,
    "start_time": "2021-08-18T14:15:52.880Z"
   },
   {
    "duration": 957,
    "start_time": "2021-08-18T14:15:53.021Z"
   },
   {
    "duration": 117,
    "start_time": "2021-08-18T14:15:53.980Z"
   },
   {
    "duration": 26,
    "start_time": "2021-08-18T14:15:54.099Z"
   },
   {
    "duration": 45,
    "start_time": "2021-08-18T14:15:54.127Z"
   },
   {
    "duration": 281,
    "start_time": "2021-08-18T14:15:54.174Z"
   },
   {
    "duration": 34,
    "start_time": "2021-08-18T14:15:54.458Z"
   },
   {
    "duration": 133,
    "start_time": "2021-08-18T14:15:54.494Z"
   },
   {
    "duration": 20,
    "start_time": "2021-08-18T14:15:54.629Z"
   },
   {
    "duration": 281,
    "start_time": "2021-08-18T14:15:54.650Z"
   },
   {
    "duration": 112,
    "start_time": "2021-08-18T14:15:54.933Z"
   },
   {
    "duration": 271,
    "start_time": "2021-08-18T14:15:55.047Z"
   },
   {
    "duration": 114,
    "start_time": "2021-08-18T14:15:55.320Z"
   },
   {
    "duration": 17,
    "start_time": "2021-08-18T14:15:55.440Z"
   },
   {
    "duration": 51,
    "start_time": "2021-08-18T14:15:55.459Z"
   },
   {
    "duration": 92,
    "start_time": "2021-08-18T14:15:55.512Z"
   },
   {
    "duration": 376,
    "start_time": "2021-08-18T14:15:55.607Z"
   },
   {
    "duration": 213,
    "start_time": "2021-08-18T14:15:55.985Z"
   },
   {
    "duration": 67,
    "start_time": "2021-08-18T14:15:56.200Z"
   },
   {
    "duration": 147,
    "start_time": "2021-08-18T14:15:56.269Z"
   },
   {
    "duration": 7,
    "start_time": "2021-08-18T14:15:56.418Z"
   },
   {
    "duration": 20,
    "start_time": "2021-08-18T14:15:56.426Z"
   },
   {
    "duration": 7,
    "start_time": "2021-08-18T14:15:56.448Z"
   },
   {
    "duration": 23,
    "start_time": "2021-08-18T14:15:56.456Z"
   },
   {
    "duration": 12,
    "start_time": "2021-08-18T14:15:56.481Z"
   },
   {
    "duration": 6,
    "start_time": "2021-08-18T14:16:09.789Z"
   },
   {
    "duration": 76,
    "start_time": "2021-08-18T14:16:11.727Z"
   },
   {
    "duration": 6,
    "start_time": "2021-08-18T14:16:18.829Z"
   },
   {
    "duration": 4,
    "start_time": "2021-08-18T14:16:33.699Z"
   },
   {
    "duration": 1377,
    "start_time": "2021-08-18T14:16:33.706Z"
   },
   {
    "duration": 136,
    "start_time": "2021-08-18T14:16:35.085Z"
   },
   {
    "duration": 4,
    "start_time": "2021-08-18T14:16:35.223Z"
   },
   {
    "duration": 13,
    "start_time": "2021-08-18T14:16:35.229Z"
   },
   {
    "duration": 12,
    "start_time": "2021-08-18T14:16:35.244Z"
   },
   {
    "duration": 10,
    "start_time": "2021-08-18T14:16:35.259Z"
   },
   {
    "duration": 149,
    "start_time": "2021-08-18T14:16:35.272Z"
   },
   {
    "duration": 101,
    "start_time": "2021-08-18T14:16:35.423Z"
   },
   {
    "duration": 16,
    "start_time": "2021-08-18T14:16:35.526Z"
   },
   {
    "duration": 41,
    "start_time": "2021-08-18T14:16:35.543Z"
   },
   {
    "duration": 9,
    "start_time": "2021-08-18T14:16:35.586Z"
   },
   {
    "duration": 84,
    "start_time": "2021-08-18T14:16:35.597Z"
   },
   {
    "duration": 37,
    "start_time": "2021-08-18T14:16:35.682Z"
   },
   {
    "duration": 123,
    "start_time": "2021-08-18T14:16:35.721Z"
   },
   {
    "duration": 8,
    "start_time": "2021-08-18T14:16:35.846Z"
   },
   {
    "duration": 48,
    "start_time": "2021-08-18T14:16:35.856Z"
   },
   {
    "duration": 110,
    "start_time": "2021-08-18T14:16:35.906Z"
   },
   {
    "duration": 22,
    "start_time": "2021-08-18T14:16:36.020Z"
   },
   {
    "duration": 181,
    "start_time": "2021-08-18T14:16:36.046Z"
   },
   {
    "duration": 20,
    "start_time": "2021-08-18T14:16:36.230Z"
   },
   {
    "duration": 38,
    "start_time": "2021-08-18T14:16:36.253Z"
   },
   {
    "duration": 218,
    "start_time": "2021-08-18T14:16:36.293Z"
   },
   {
    "duration": 996,
    "start_time": "2021-08-18T14:16:36.514Z"
   },
   {
    "duration": 116,
    "start_time": "2021-08-18T14:16:37.512Z"
   },
   {
    "duration": 30,
    "start_time": "2021-08-18T14:16:37.631Z"
   },
   {
    "duration": 33,
    "start_time": "2021-08-18T14:16:37.664Z"
   },
   {
    "duration": 280,
    "start_time": "2021-08-18T14:16:37.699Z"
   },
   {
    "duration": 34,
    "start_time": "2021-08-18T14:16:37.981Z"
   },
   {
    "duration": 127,
    "start_time": "2021-08-18T14:16:38.018Z"
   },
   {
    "duration": 21,
    "start_time": "2021-08-18T14:16:38.147Z"
   },
   {
    "duration": 274,
    "start_time": "2021-08-18T14:16:38.169Z"
   },
   {
    "duration": 115,
    "start_time": "2021-08-18T14:16:38.445Z"
   },
   {
    "duration": 273,
    "start_time": "2021-08-18T14:16:38.561Z"
   },
   {
    "duration": 129,
    "start_time": "2021-08-18T14:16:38.836Z"
   },
   {
    "duration": 18,
    "start_time": "2021-08-18T14:16:38.968Z"
   },
   {
    "duration": 53,
    "start_time": "2021-08-18T14:16:38.988Z"
   },
   {
    "duration": 80,
    "start_time": "2021-08-18T14:16:39.043Z"
   },
   {
    "duration": 191,
    "start_time": "2021-08-18T14:16:39.125Z"
   },
   {
    "duration": 116,
    "start_time": "2021-08-18T14:16:39.318Z"
   },
   {
    "duration": 32,
    "start_time": "2021-08-18T14:16:39.436Z"
   },
   {
    "duration": 98,
    "start_time": "2021-08-18T14:16:39.470Z"
   },
   {
    "duration": 5,
    "start_time": "2021-08-18T14:16:39.570Z"
   },
   {
    "duration": 13,
    "start_time": "2021-08-18T14:16:39.577Z"
   },
   {
    "duration": 6,
    "start_time": "2021-08-18T14:16:39.592Z"
   },
   {
    "duration": 14,
    "start_time": "2021-08-18T14:16:39.600Z"
   },
   {
    "duration": 29,
    "start_time": "2021-08-18T14:16:39.616Z"
   },
   {
    "duration": 5,
    "start_time": "2021-08-18T14:16:39.647Z"
   },
   {
    "duration": 88,
    "start_time": "2021-08-18T14:16:39.654Z"
   },
   {
    "duration": 5,
    "start_time": "2021-08-18T14:16:39.744Z"
   },
   {
    "duration": 120,
    "start_time": "2021-08-18T14:16:39.751Z"
   },
   {
    "duration": 6,
    "start_time": "2021-08-18T14:16:39.873Z"
   },
   {
    "duration": 35,
    "start_time": "2021-08-18T14:16:39.881Z"
   },
   {
    "duration": 24,
    "start_time": "2021-08-18T14:16:39.918Z"
   },
   {
    "duration": 6,
    "start_time": "2021-08-18T14:16:39.948Z"
   },
   {
    "duration": 35,
    "start_time": "2021-08-18T14:16:39.956Z"
   },
   {
    "duration": 6,
    "start_time": "2021-08-18T14:16:39.994Z"
   },
   {
    "duration": 78,
    "start_time": "2021-08-18T14:16:40.002Z"
   },
   {
    "duration": 106,
    "start_time": "2021-08-18T14:16:40.082Z"
   },
   {
    "duration": 15,
    "start_time": "2021-08-18T14:16:40.190Z"
   },
   {
    "duration": 34,
    "start_time": "2021-08-18T14:16:46.131Z"
   },
   {
    "duration": 7,
    "start_time": "2021-08-18T14:16:52.403Z"
   },
   {
    "duration": 92,
    "start_time": "2021-08-18T14:16:55.532Z"
   },
   {
    "duration": 6,
    "start_time": "2021-08-18T14:16:56.587Z"
   },
   {
    "duration": 95,
    "start_time": "2021-08-18T14:37:14.521Z"
   },
   {
    "duration": 34,
    "start_time": "2021-08-18T14:37:51.137Z"
   },
   {
    "duration": 280,
    "start_time": "2021-08-18T14:38:09.257Z"
   },
   {
    "duration": 281,
    "start_time": "2021-08-18T14:38:13.433Z"
   },
   {
    "duration": 302,
    "start_time": "2021-08-18T14:38:16.928Z"
   },
   {
    "duration": 299,
    "start_time": "2021-08-18T14:38:41.647Z"
   },
   {
    "duration": 1014,
    "start_time": "2021-08-18T14:38:45.161Z"
   },
   {
    "duration": 33,
    "start_time": "2021-08-18T14:38:53.576Z"
   },
   {
    "duration": 33,
    "start_time": "2021-08-18T14:40:07.082Z"
   },
   {
    "duration": 34,
    "start_time": "2021-08-18T14:40:07.888Z"
   },
   {
    "duration": 35,
    "start_time": "2021-08-18T14:40:08.503Z"
   },
   {
    "duration": 34,
    "start_time": "2021-08-18T14:40:09.560Z"
   },
   {
    "duration": 33,
    "start_time": "2021-08-18T14:40:10.032Z"
   },
   {
    "duration": 1017,
    "start_time": "2021-08-18T14:41:43.056Z"
   },
   {
    "duration": 94,
    "start_time": "2021-08-18T14:41:51.807Z"
   },
   {
    "duration": 39,
    "start_time": "2021-08-18T14:49:15.514Z"
   },
   {
    "duration": 2323,
    "start_time": "2021-08-18T14:49:32.910Z"
   },
   {
    "duration": 3,
    "start_time": "2021-08-18T14:50:23.257Z"
   },
   {
    "duration": 1922,
    "start_time": "2021-08-18T14:51:02.422Z"
   },
   {
    "duration": 1641,
    "start_time": "2021-08-18T14:51:26.487Z"
   },
   {
    "duration": 4,
    "start_time": "2021-08-18T14:51:42.608Z"
   },
   {
    "duration": 1762,
    "start_time": "2021-08-18T14:51:42.614Z"
   },
   {
    "duration": 245,
    "start_time": "2021-08-18T14:51:44.379Z"
   },
   {
    "duration": 15,
    "start_time": "2021-08-18T14:51:44.626Z"
   },
   {
    "duration": 11,
    "start_time": "2021-08-18T14:51:44.643Z"
   },
   {
    "duration": 12,
    "start_time": "2021-08-18T14:51:44.656Z"
   },
   {
    "duration": 9,
    "start_time": "2021-08-18T14:51:44.671Z"
   },
   {
    "duration": 208,
    "start_time": "2021-08-18T14:51:44.683Z"
   },
   {
    "duration": 148,
    "start_time": "2021-08-18T14:51:44.894Z"
   },
   {
    "duration": 11,
    "start_time": "2021-08-18T14:51:45.044Z"
   },
   {
    "duration": 54,
    "start_time": "2021-08-18T14:51:45.058Z"
   },
   {
    "duration": 28,
    "start_time": "2021-08-18T14:51:45.114Z"
   },
   {
    "duration": 68,
    "start_time": "2021-08-18T14:51:45.144Z"
   },
   {
    "duration": 65,
    "start_time": "2021-08-18T14:51:45.214Z"
   },
   {
    "duration": 208,
    "start_time": "2021-08-18T14:51:45.281Z"
   },
   {
    "duration": 11,
    "start_time": "2021-08-18T14:51:45.491Z"
   },
   {
    "duration": 62,
    "start_time": "2021-08-18T14:51:45.504Z"
   },
   {
    "duration": 103,
    "start_time": "2021-08-18T14:51:45.568Z"
   },
   {
    "duration": 8,
    "start_time": "2021-08-18T14:51:45.675Z"
   },
   {
    "duration": 139,
    "start_time": "2021-08-18T14:51:45.686Z"
   },
   {
    "duration": 13,
    "start_time": "2021-08-18T14:51:45.828Z"
   },
   {
    "duration": 20,
    "start_time": "2021-08-18T14:51:45.843Z"
   },
   {
    "duration": 225,
    "start_time": "2021-08-18T14:51:45.865Z"
   },
   {
    "duration": 1556,
    "start_time": "2021-08-18T14:51:46.093Z"
   },
   {
    "duration": 181,
    "start_time": "2021-08-18T14:51:47.651Z"
   },
   {
    "duration": 47,
    "start_time": "2021-08-18T14:51:47.834Z"
   },
   {
    "duration": 35,
    "start_time": "2021-08-18T14:51:47.883Z"
   },
   {
    "duration": 283,
    "start_time": "2021-08-18T14:51:47.920Z"
   },
   {
    "duration": 37,
    "start_time": "2021-08-18T14:51:48.205Z"
   },
   {
    "duration": 112,
    "start_time": "2021-08-18T14:51:48.243Z"
   },
   {
    "duration": 21,
    "start_time": "2021-08-18T14:51:48.357Z"
   },
   {
    "duration": 277,
    "start_time": "2021-08-18T14:51:48.381Z"
   },
   {
    "duration": 128,
    "start_time": "2021-08-18T14:51:48.660Z"
   },
   {
    "duration": 276,
    "start_time": "2021-08-18T14:51:48.790Z"
   },
   {
    "duration": 113,
    "start_time": "2021-08-18T14:51:49.068Z"
   },
   {
    "duration": 18,
    "start_time": "2021-08-18T14:51:49.183Z"
   },
   {
    "duration": 46,
    "start_time": "2021-08-18T14:51:49.202Z"
   },
   {
    "duration": 91,
    "start_time": "2021-08-18T14:51:49.250Z"
   },
   {
    "duration": 179,
    "start_time": "2021-08-18T14:51:49.343Z"
   },
   {
    "duration": 109,
    "start_time": "2021-08-18T14:51:49.524Z"
   },
   {
    "duration": 33,
    "start_time": "2021-08-18T14:51:49.641Z"
   },
   {
    "duration": 98,
    "start_time": "2021-08-18T14:51:49.676Z"
   },
   {
    "duration": 5,
    "start_time": "2021-08-18T14:51:49.776Z"
   },
   {
    "duration": 25,
    "start_time": "2021-08-18T14:51:49.782Z"
   },
   {
    "duration": 28,
    "start_time": "2021-08-18T14:51:49.809Z"
   },
   {
    "duration": 28,
    "start_time": "2021-08-18T14:51:49.839Z"
   },
   {
    "duration": 32,
    "start_time": "2021-08-18T14:51:49.869Z"
   },
   {
    "duration": 18,
    "start_time": "2021-08-18T14:51:49.903Z"
   },
   {
    "duration": 80,
    "start_time": "2021-08-18T14:51:49.924Z"
   },
   {
    "duration": 34,
    "start_time": "2021-08-18T14:51:50.007Z"
   },
   {
    "duration": 118,
    "start_time": "2021-08-18T14:51:50.043Z"
   },
   {
    "duration": 6,
    "start_time": "2021-08-18T14:51:50.163Z"
   },
   {
    "duration": 31,
    "start_time": "2021-08-18T14:51:50.171Z"
   },
   {
    "duration": 7,
    "start_time": "2021-08-18T14:51:50.204Z"
   },
   {
    "duration": 27,
    "start_time": "2021-08-18T14:51:50.216Z"
   },
   {
    "duration": 35,
    "start_time": "2021-08-18T14:51:50.246Z"
   },
   {
    "duration": 6,
    "start_time": "2021-08-18T14:51:50.283Z"
   },
   {
    "duration": 59,
    "start_time": "2021-08-18T14:51:50.290Z"
   },
   {
    "duration": 75,
    "start_time": "2021-08-18T14:51:50.351Z"
   },
   {
    "duration": 36,
    "start_time": "2021-08-18T14:51:50.428Z"
   },
   {
    "duration": 38,
    "start_time": "2021-08-18T14:51:50.466Z"
   },
   {
    "duration": 87,
    "start_time": "2021-08-18T14:51:50.506Z"
   },
   {
    "duration": 22,
    "start_time": "2021-08-18T14:51:50.595Z"
   },
   {
    "duration": 113,
    "start_time": "2021-08-18T14:51:50.619Z"
   },
   {
    "duration": 36,
    "start_time": "2021-08-18T14:51:50.734Z"
   },
   {
    "duration": 70,
    "start_time": "2021-08-18T14:51:50.772Z"
   },
   {
    "duration": 51,
    "start_time": "2021-08-18T14:51:50.845Z"
   },
   {
    "duration": 53,
    "start_time": "2021-08-18T14:51:50.899Z"
   },
   {
    "duration": 57,
    "start_time": "2021-08-18T14:51:50.954Z"
   },
   {
    "duration": 63,
    "start_time": "2021-08-18T14:51:51.013Z"
   },
   {
    "duration": 1005,
    "start_time": "2021-08-18T14:52:06.668Z"
   },
   {
    "duration": 267,
    "start_time": "2021-08-18T14:52:16.860Z"
   },
   {
    "duration": 312,
    "start_time": "2021-08-18T14:52:18.809Z"
   },
   {
    "duration": 7,
    "start_time": "2021-08-18T14:53:31.211Z"
   },
   {
    "duration": 106,
    "start_time": "2021-08-18T14:53:42.929Z"
   },
   {
    "duration": 2111,
    "start_time": "2021-08-18T14:53:49.051Z"
   },
   {
    "duration": 1309,
    "start_time": "2021-08-18T14:54:07.277Z"
   },
   {
    "duration": 1364,
    "start_time": "2021-08-18T14:54:19.082Z"
   },
   {
    "duration": 4,
    "start_time": "2021-08-18T14:59:20.563Z"
   },
   {
    "duration": 2222,
    "start_time": "2021-08-18T14:59:20.569Z"
   },
   {
    "duration": 125,
    "start_time": "2021-08-18T14:59:22.793Z"
   },
   {
    "duration": 3,
    "start_time": "2021-08-18T14:59:22.921Z"
   },
   {
    "duration": 5,
    "start_time": "2021-08-18T14:59:22.942Z"
   },
   {
    "duration": 16,
    "start_time": "2021-08-18T14:59:22.949Z"
   },
   {
    "duration": 23,
    "start_time": "2021-08-18T14:59:22.967Z"
   },
   {
    "duration": 140,
    "start_time": "2021-08-18T14:59:22.993Z"
   },
   {
    "duration": 110,
    "start_time": "2021-08-18T14:59:23.140Z"
   },
   {
    "duration": 8,
    "start_time": "2021-08-18T14:59:23.252Z"
   },
   {
    "duration": 60,
    "start_time": "2021-08-18T14:59:23.262Z"
   },
   {
    "duration": 23,
    "start_time": "2021-08-18T14:59:23.323Z"
   },
   {
    "duration": 51,
    "start_time": "2021-08-18T14:59:23.348Z"
   },
   {
    "duration": 60,
    "start_time": "2021-08-18T14:59:23.401Z"
   },
   {
    "duration": 122,
    "start_time": "2021-08-18T14:59:23.462Z"
   },
   {
    "duration": 8,
    "start_time": "2021-08-18T14:59:23.586Z"
   },
   {
    "duration": 60,
    "start_time": "2021-08-18T14:59:23.596Z"
   },
   {
    "duration": 91,
    "start_time": "2021-08-18T14:59:23.658Z"
   },
   {
    "duration": 11,
    "start_time": "2021-08-18T14:59:23.751Z"
   },
   {
    "duration": 139,
    "start_time": "2021-08-18T14:59:23.764Z"
   },
   {
    "duration": 12,
    "start_time": "2021-08-18T14:59:23.905Z"
   },
   {
    "duration": 46,
    "start_time": "2021-08-18T14:59:23.919Z"
   },
   {
    "duration": 152,
    "start_time": "2021-08-18T14:59:23.971Z"
   },
   {
    "duration": 939,
    "start_time": "2021-08-18T14:59:24.125Z"
   },
   {
    "duration": 115,
    "start_time": "2021-08-18T14:59:25.066Z"
   },
   {
    "duration": 27,
    "start_time": "2021-08-18T14:59:25.183Z"
   },
   {
    "duration": 52,
    "start_time": "2021-08-18T14:59:25.212Z"
   },
   {
    "duration": 264,
    "start_time": "2021-08-18T14:59:25.266Z"
   },
   {
    "duration": 36,
    "start_time": "2021-08-18T14:59:25.532Z"
   },
   {
    "duration": 123,
    "start_time": "2021-08-18T14:59:25.570Z"
   },
   {
    "duration": 23,
    "start_time": "2021-08-18T14:59:25.695Z"
   },
   {
    "duration": 280,
    "start_time": "2021-08-18T14:59:25.720Z"
   },
   {
    "duration": 118,
    "start_time": "2021-08-18T14:59:26.002Z"
   },
   {
    "duration": 287,
    "start_time": "2021-08-18T14:59:26.122Z"
   },
   {
    "duration": 114,
    "start_time": "2021-08-18T14:59:26.410Z"
   },
   {
    "duration": 21,
    "start_time": "2021-08-18T14:59:26.525Z"
   },
   {
    "duration": 42,
    "start_time": "2021-08-18T14:59:26.548Z"
   },
   {
    "duration": 87,
    "start_time": "2021-08-18T14:59:26.591Z"
   },
   {
    "duration": 190,
    "start_time": "2021-08-18T14:59:26.680Z"
   },
   {
    "duration": 114,
    "start_time": "2021-08-18T14:59:26.872Z"
   },
   {
    "duration": 58,
    "start_time": "2021-08-18T14:59:26.989Z"
   },
   {
    "duration": 131,
    "start_time": "2021-08-18T14:59:27.049Z"
   },
   {
    "duration": 6,
    "start_time": "2021-08-18T14:59:27.183Z"
   },
   {
    "duration": 19,
    "start_time": "2021-08-18T14:59:27.192Z"
   },
   {
    "duration": 6,
    "start_time": "2021-08-18T14:59:27.213Z"
   },
   {
    "duration": 26,
    "start_time": "2021-08-18T14:59:27.221Z"
   },
   {
    "duration": 14,
    "start_time": "2021-08-18T14:59:27.249Z"
   },
   {
    "duration": 7,
    "start_time": "2021-08-18T14:59:27.265Z"
   },
   {
    "duration": 104,
    "start_time": "2021-08-18T14:59:27.274Z"
   },
   {
    "duration": 6,
    "start_time": "2021-08-18T14:59:27.380Z"
   },
   {
    "duration": 121,
    "start_time": "2021-08-18T14:59:27.387Z"
   },
   {
    "duration": 5,
    "start_time": "2021-08-18T14:59:27.510Z"
   },
   {
    "duration": 34,
    "start_time": "2021-08-18T14:59:27.517Z"
   },
   {
    "duration": 7,
    "start_time": "2021-08-18T14:59:27.553Z"
   },
   {
    "duration": 15,
    "start_time": "2021-08-18T14:59:27.562Z"
   },
   {
    "duration": 35,
    "start_time": "2021-08-18T14:59:27.579Z"
   },
   {
    "duration": 5,
    "start_time": "2021-08-18T14:59:27.616Z"
   },
   {
    "duration": 61,
    "start_time": "2021-08-18T14:59:27.622Z"
   },
   {
    "duration": 65,
    "start_time": "2021-08-18T14:59:27.685Z"
   },
   {
    "duration": 15,
    "start_time": "2021-08-18T14:59:27.753Z"
   },
   {
    "duration": 6,
    "start_time": "2021-08-18T14:59:27.770Z"
   },
   {
    "duration": 88,
    "start_time": "2021-08-18T14:59:27.777Z"
   },
   {
    "duration": 5,
    "start_time": "2021-08-18T14:59:27.867Z"
   },
   {
    "duration": 104,
    "start_time": "2021-08-18T14:59:27.874Z"
   },
   {
    "duration": 37,
    "start_time": "2021-08-18T14:59:27.979Z"
   },
   {
    "duration": 59,
    "start_time": "2021-08-18T14:59:28.019Z"
   },
   {
    "duration": 39,
    "start_time": "2021-08-18T14:59:28.080Z"
   },
   {
    "duration": 43,
    "start_time": "2021-08-18T14:59:28.125Z"
   },
   {
    "duration": 39,
    "start_time": "2021-08-18T14:59:28.171Z"
   },
   {
    "duration": 51,
    "start_time": "2021-08-18T14:59:28.212Z"
   },
   {
    "duration": 11,
    "start_time": "2021-08-18T14:59:40.106Z"
   },
   {
    "duration": 1108,
    "start_time": "2021-08-19T08:11:43.659Z"
   },
   {
    "duration": 1732,
    "start_time": "2021-08-19T08:11:44.769Z"
   },
   {
    "duration": 118,
    "start_time": "2021-08-19T08:11:46.503Z"
   },
   {
    "duration": 3,
    "start_time": "2021-08-19T08:11:46.622Z"
   },
   {
    "duration": 14,
    "start_time": "2021-08-19T08:11:46.627Z"
   },
   {
    "duration": 7,
    "start_time": "2021-08-19T08:11:46.643Z"
   },
   {
    "duration": 9,
    "start_time": "2021-08-19T08:11:46.653Z"
   },
   {
    "duration": 131,
    "start_time": "2021-08-19T08:11:46.665Z"
   },
   {
    "duration": 133,
    "start_time": "2021-08-19T08:11:46.798Z"
   },
   {
    "duration": 14,
    "start_time": "2021-08-19T08:11:46.933Z"
   },
   {
    "duration": 46,
    "start_time": "2021-08-19T08:11:46.949Z"
   },
   {
    "duration": 20,
    "start_time": "2021-08-19T08:11:46.996Z"
   },
   {
    "duration": 71,
    "start_time": "2021-08-19T08:11:47.017Z"
   },
   {
    "duration": 33,
    "start_time": "2021-08-19T08:11:47.090Z"
   },
   {
    "duration": 110,
    "start_time": "2021-08-19T08:11:47.124Z"
   },
   {
    "duration": 14,
    "start_time": "2021-08-19T08:11:47.236Z"
   },
   {
    "duration": 43,
    "start_time": "2021-08-19T08:11:47.252Z"
   },
   {
    "duration": 97,
    "start_time": "2021-08-19T08:11:47.297Z"
   },
   {
    "duration": 7,
    "start_time": "2021-08-19T08:11:47.396Z"
   },
   {
    "duration": 112,
    "start_time": "2021-08-19T08:11:47.404Z"
   },
   {
    "duration": 11,
    "start_time": "2021-08-19T08:11:47.517Z"
   },
   {
    "duration": 29,
    "start_time": "2021-08-19T08:11:47.530Z"
   },
   {
    "duration": 124,
    "start_time": "2021-08-19T08:11:47.564Z"
   },
   {
    "duration": 910,
    "start_time": "2021-08-19T08:11:47.692Z"
   },
   {
    "duration": 107,
    "start_time": "2021-08-19T08:11:48.604Z"
   },
   {
    "duration": 43,
    "start_time": "2021-08-19T08:11:48.713Z"
   },
   {
    "duration": 31,
    "start_time": "2021-08-19T08:11:48.758Z"
   },
   {
    "duration": 273,
    "start_time": "2021-08-19T08:11:48.791Z"
   },
   {
    "duration": 31,
    "start_time": "2021-08-19T08:11:49.066Z"
   },
   {
    "duration": 133,
    "start_time": "2021-08-19T08:11:49.099Z"
   },
   {
    "duration": 25,
    "start_time": "2021-08-19T08:11:49.240Z"
   },
   {
    "duration": 259,
    "start_time": "2021-08-19T08:11:49.266Z"
   },
   {
    "duration": 105,
    "start_time": "2021-08-19T08:11:49.527Z"
   },
   {
    "duration": 275,
    "start_time": "2021-08-19T08:11:49.634Z"
   },
   {
    "duration": 105,
    "start_time": "2021-08-19T08:11:49.910Z"
   },
   {
    "duration": 25,
    "start_time": "2021-08-19T08:11:50.017Z"
   },
   {
    "duration": 37,
    "start_time": "2021-08-19T08:11:50.045Z"
   },
   {
    "duration": 91,
    "start_time": "2021-08-19T08:11:50.084Z"
   },
   {
    "duration": 184,
    "start_time": "2021-08-19T08:11:50.177Z"
   },
   {
    "duration": 113,
    "start_time": "2021-08-19T08:11:50.363Z"
   },
   {
    "duration": 31,
    "start_time": "2021-08-19T08:11:50.477Z"
   },
   {
    "duration": 94,
    "start_time": "2021-08-19T08:11:50.510Z"
   },
   {
    "duration": 5,
    "start_time": "2021-08-19T08:11:50.605Z"
   },
   {
    "duration": 21,
    "start_time": "2021-08-19T08:11:50.611Z"
   },
   {
    "duration": 13,
    "start_time": "2021-08-19T08:11:50.634Z"
   },
   {
    "duration": 8,
    "start_time": "2021-08-19T08:11:50.649Z"
   },
   {
    "duration": 12,
    "start_time": "2021-08-19T08:11:50.659Z"
   },
   {
    "duration": 5,
    "start_time": "2021-08-19T08:11:50.673Z"
   },
   {
    "duration": 88,
    "start_time": "2021-08-19T08:11:50.680Z"
   },
   {
    "duration": 6,
    "start_time": "2021-08-19T08:11:50.770Z"
   },
   {
    "duration": 125,
    "start_time": "2021-08-19T08:11:50.778Z"
   },
   {
    "duration": 5,
    "start_time": "2021-08-19T08:11:50.905Z"
   },
   {
    "duration": 36,
    "start_time": "2021-08-19T08:11:50.912Z"
   },
   {
    "duration": 9,
    "start_time": "2021-08-19T08:11:50.950Z"
   },
   {
    "duration": 15,
    "start_time": "2021-08-19T08:11:50.961Z"
   },
   {
    "duration": 26,
    "start_time": "2021-08-19T08:11:50.978Z"
   },
   {
    "duration": 5,
    "start_time": "2021-08-19T08:11:51.006Z"
   },
   {
    "duration": 60,
    "start_time": "2021-08-19T08:11:51.012Z"
   },
   {
    "duration": 54,
    "start_time": "2021-08-19T08:11:51.073Z"
   },
   {
    "duration": 26,
    "start_time": "2021-08-19T08:11:51.128Z"
   },
   {
    "duration": 8,
    "start_time": "2021-08-19T08:11:51.157Z"
   },
   {
    "duration": 93,
    "start_time": "2021-08-19T08:11:51.168Z"
   },
   {
    "duration": 6,
    "start_time": "2021-08-19T08:11:51.264Z"
   },
   {
    "duration": 101,
    "start_time": "2021-08-19T08:11:51.272Z"
   },
   {
    "duration": 31,
    "start_time": "2021-08-19T08:11:51.374Z"
   },
   {
    "duration": 47,
    "start_time": "2021-08-19T08:11:51.407Z"
   },
   {
    "duration": 35,
    "start_time": "2021-08-19T08:11:51.456Z"
   },
   {
    "duration": 50,
    "start_time": "2021-08-19T08:11:51.496Z"
   },
   {
    "duration": 37,
    "start_time": "2021-08-19T08:11:51.548Z"
   },
   {
    "duration": 29,
    "start_time": "2021-08-19T08:11:51.587Z"
   },
   {
    "duration": 36,
    "start_time": "2021-08-19T08:11:51.618Z"
   },
   {
    "duration": 771,
    "start_time": "2021-08-19T08:11:51.657Z"
   },
   {
    "duration": 92,
    "start_time": "2021-08-19T08:11:52.429Z"
   },
   {
    "duration": 2,
    "start_time": "2021-08-19T08:11:52.523Z"
   },
   {
    "duration": 689,
    "start_time": "2021-08-19T08:20:07.052Z"
   },
   {
    "duration": 334,
    "start_time": "2021-08-19T08:21:16.273Z"
   },
   {
    "duration": 17,
    "start_time": "2021-08-19T08:23:27.919Z"
   },
   {
    "duration": 3,
    "start_time": "2021-08-19T08:25:59.602Z"
   },
   {
    "duration": 1362,
    "start_time": "2021-08-19T08:25:59.608Z"
   },
   {
    "duration": 112,
    "start_time": "2021-08-19T08:26:00.972Z"
   },
   {
    "duration": 12,
    "start_time": "2021-08-19T08:26:01.086Z"
   },
   {
    "duration": 21,
    "start_time": "2021-08-19T08:26:01.100Z"
   },
   {
    "duration": 21,
    "start_time": "2021-08-19T08:26:01.123Z"
   },
   {
    "duration": 28,
    "start_time": "2021-08-19T08:26:01.146Z"
   },
   {
    "duration": 125,
    "start_time": "2021-08-19T08:26:01.176Z"
   },
   {
    "duration": 89,
    "start_time": "2021-08-19T08:26:01.304Z"
   },
   {
    "duration": 7,
    "start_time": "2021-08-19T08:26:01.395Z"
   },
   {
    "duration": 49,
    "start_time": "2021-08-19T08:26:01.403Z"
   },
   {
    "duration": 11,
    "start_time": "2021-08-19T08:26:01.453Z"
   },
   {
    "duration": 52,
    "start_time": "2021-08-19T08:26:01.465Z"
   },
   {
    "duration": 48,
    "start_time": "2021-08-19T08:26:01.518Z"
   },
   {
    "duration": 101,
    "start_time": "2021-08-19T08:26:01.568Z"
   },
   {
    "duration": 24,
    "start_time": "2021-08-19T08:26:01.671Z"
   },
   {
    "duration": 52,
    "start_time": "2021-08-19T08:26:01.697Z"
   },
   {
    "duration": 73,
    "start_time": "2021-08-19T08:26:01.751Z"
   },
   {
    "duration": 7,
    "start_time": "2021-08-19T08:26:01.826Z"
   },
   {
    "duration": 113,
    "start_time": "2021-08-19T08:26:01.841Z"
   },
   {
    "duration": 11,
    "start_time": "2021-08-19T08:26:01.955Z"
   },
   {
    "duration": 23,
    "start_time": "2021-08-19T08:26:01.967Z"
   },
   {
    "duration": 121,
    "start_time": "2021-08-19T08:26:01.991Z"
   },
   {
    "duration": 848,
    "start_time": "2021-08-19T08:26:02.116Z"
   },
   {
    "duration": 99,
    "start_time": "2021-08-19T08:26:02.966Z"
   },
   {
    "duration": 23,
    "start_time": "2021-08-19T08:26:03.067Z"
   },
   {
    "duration": 31,
    "start_time": "2021-08-19T08:26:03.091Z"
   },
   {
    "duration": 244,
    "start_time": "2021-08-19T08:26:03.141Z"
   },
   {
    "duration": 33,
    "start_time": "2021-08-19T08:26:03.386Z"
   },
   {
    "duration": 103,
    "start_time": "2021-08-19T08:26:03.421Z"
   },
   {
    "duration": 27,
    "start_time": "2021-08-19T08:26:03.525Z"
   },
   {
    "duration": 254,
    "start_time": "2021-08-19T08:26:03.553Z"
   },
   {
    "duration": 103,
    "start_time": "2021-08-19T08:26:03.808Z"
   },
   {
    "duration": 240,
    "start_time": "2021-08-19T08:26:03.912Z"
   },
   {
    "duration": 99,
    "start_time": "2021-08-19T08:26:04.154Z"
   },
   {
    "duration": 15,
    "start_time": "2021-08-19T08:26:04.254Z"
   },
   {
    "duration": 30,
    "start_time": "2021-08-19T08:26:04.270Z"
   },
   {
    "duration": 87,
    "start_time": "2021-08-19T08:26:04.302Z"
   },
   {
    "duration": 169,
    "start_time": "2021-08-19T08:26:04.391Z"
   },
   {
    "duration": 102,
    "start_time": "2021-08-19T08:26:04.562Z"
   },
   {
    "duration": 30,
    "start_time": "2021-08-19T08:26:04.666Z"
   },
   {
    "duration": 87,
    "start_time": "2021-08-19T08:26:04.697Z"
   },
   {
    "duration": 5,
    "start_time": "2021-08-19T08:26:04.786Z"
   },
   {
    "duration": 9,
    "start_time": "2021-08-19T08:26:04.792Z"
   },
   {
    "duration": 5,
    "start_time": "2021-08-19T08:26:04.803Z"
   },
   {
    "duration": 32,
    "start_time": "2021-08-19T08:26:04.809Z"
   },
   {
    "duration": 11,
    "start_time": "2021-08-19T08:26:04.843Z"
   },
   {
    "duration": 5,
    "start_time": "2021-08-19T08:26:04.855Z"
   },
   {
    "duration": 79,
    "start_time": "2021-08-19T08:26:04.862Z"
   },
   {
    "duration": 5,
    "start_time": "2021-08-19T08:26:04.943Z"
   },
   {
    "duration": 111,
    "start_time": "2021-08-19T08:26:04.950Z"
   },
   {
    "duration": 4,
    "start_time": "2021-08-19T08:26:05.063Z"
   },
   {
    "duration": 26,
    "start_time": "2021-08-19T08:26:05.069Z"
   },
   {
    "duration": 5,
    "start_time": "2021-08-19T08:26:05.097Z"
   },
   {
    "duration": 9,
    "start_time": "2021-08-19T08:26:05.103Z"
   },
   {
    "duration": 45,
    "start_time": "2021-08-19T08:26:05.113Z"
   },
   {
    "duration": 5,
    "start_time": "2021-08-19T08:26:05.159Z"
   },
   {
    "duration": 43,
    "start_time": "2021-08-19T08:26:05.165Z"
   },
   {
    "duration": 63,
    "start_time": "2021-08-19T08:26:05.209Z"
   },
   {
    "duration": 12,
    "start_time": "2021-08-19T08:26:05.274Z"
   },
   {
    "duration": 5,
    "start_time": "2021-08-19T08:26:05.288Z"
   },
   {
    "duration": 104,
    "start_time": "2021-08-19T08:26:05.294Z"
   },
   {
    "duration": 6,
    "start_time": "2021-08-19T08:26:05.400Z"
   },
   {
    "duration": 95,
    "start_time": "2021-08-19T08:26:05.408Z"
   },
   {
    "duration": 36,
    "start_time": "2021-08-19T08:26:05.505Z"
   },
   {
    "duration": 31,
    "start_time": "2021-08-19T08:26:05.542Z"
   },
   {
    "duration": 45,
    "start_time": "2021-08-19T08:26:05.574Z"
   },
   {
    "duration": 48,
    "start_time": "2021-08-19T08:26:05.621Z"
   },
   {
    "duration": 38,
    "start_time": "2021-08-19T08:26:05.674Z"
   },
   {
    "duration": 41,
    "start_time": "2021-08-19T08:26:05.714Z"
   },
   {
    "duration": 11,
    "start_time": "2021-08-19T08:26:05.757Z"
   },
   {
    "duration": 680,
    "start_time": "2021-08-19T08:26:17.115Z"
   },
   {
    "duration": 103,
    "start_time": "2021-08-19T08:26:19.018Z"
   },
   {
    "duration": 699,
    "start_time": "2021-08-19T08:26:29.938Z"
   },
   {
    "duration": 42,
    "start_time": "2021-08-19T08:26:31.981Z"
   },
   {
    "duration": 5,
    "start_time": "2021-08-19T08:28:11.015Z"
   },
   {
    "duration": 5,
    "start_time": "2021-08-19T08:28:16.037Z"
   },
   {
    "duration": 19,
    "start_time": "2021-08-19T08:30:07.871Z"
   },
   {
    "duration": 109,
    "start_time": "2021-08-19T08:30:38.892Z"
   },
   {
    "duration": 6,
    "start_time": "2021-08-19T08:30:45.196Z"
   },
   {
    "duration": 280,
    "start_time": "2021-08-19T08:31:05.363Z"
   },
   {
    "duration": 8,
    "start_time": "2021-08-19T08:31:12.926Z"
   },
   {
    "duration": 12,
    "start_time": "2021-08-19T08:31:23.872Z"
   },
   {
    "duration": 6,
    "start_time": "2021-08-19T08:31:37.353Z"
   },
   {
    "duration": 7,
    "start_time": "2021-08-19T08:31:44.607Z"
   },
   {
    "duration": 4,
    "start_time": "2021-08-19T08:32:00.579Z"
   },
   {
    "duration": 1489,
    "start_time": "2021-08-19T08:32:00.585Z"
   },
   {
    "duration": 118,
    "start_time": "2021-08-19T08:32:02.076Z"
   },
   {
    "duration": 3,
    "start_time": "2021-08-19T08:32:02.196Z"
   },
   {
    "duration": 16,
    "start_time": "2021-08-19T08:32:02.201Z"
   },
   {
    "duration": 6,
    "start_time": "2021-08-19T08:32:02.219Z"
   },
   {
    "duration": 16,
    "start_time": "2021-08-19T08:32:02.227Z"
   },
   {
    "duration": 125,
    "start_time": "2021-08-19T08:32:02.245Z"
   },
   {
    "duration": 94,
    "start_time": "2021-08-19T08:32:02.372Z"
   },
   {
    "duration": 8,
    "start_time": "2021-08-19T08:32:02.468Z"
   },
   {
    "duration": 42,
    "start_time": "2021-08-19T08:32:02.478Z"
   },
   {
    "duration": 12,
    "start_time": "2021-08-19T08:32:02.541Z"
   },
   {
    "duration": 5,
    "start_time": "2021-08-19T08:32:02.555Z"
   },
   {
    "duration": 5,
    "start_time": "2021-08-19T08:32:16.065Z"
   },
   {
    "duration": 4,
    "start_time": "2021-08-19T08:33:02.586Z"
   },
   {
    "duration": 4677,
    "start_time": "2021-08-19T08:33:02.591Z"
   },
   {
    "duration": 130,
    "start_time": "2021-08-19T08:33:07.270Z"
   },
   {
    "duration": 4,
    "start_time": "2021-08-19T08:33:07.402Z"
   },
   {
    "duration": 8,
    "start_time": "2021-08-19T08:33:07.407Z"
   },
   {
    "duration": 4,
    "start_time": "2021-08-19T08:33:07.417Z"
   },
   {
    "duration": 24,
    "start_time": "2021-08-19T08:33:07.423Z"
   },
   {
    "duration": 127,
    "start_time": "2021-08-19T08:33:07.449Z"
   },
   {
    "duration": 96,
    "start_time": "2021-08-19T08:33:07.578Z"
   },
   {
    "duration": 6,
    "start_time": "2021-08-19T08:33:07.676Z"
   },
   {
    "duration": 58,
    "start_time": "2021-08-19T08:33:07.684Z"
   },
   {
    "duration": 11,
    "start_time": "2021-08-19T08:33:22.723Z"
   },
   {
    "duration": 5,
    "start_time": "2021-08-19T08:33:24.723Z"
   },
   {
    "duration": 43,
    "start_time": "2021-08-19T08:33:47.582Z"
   },
   {
    "duration": 96,
    "start_time": "2021-08-19T08:33:56.762Z"
   },
   {
    "duration": 5,
    "start_time": "2021-08-19T08:34:09.728Z"
   },
   {
    "duration": 3,
    "start_time": "2021-08-19T08:34:31.228Z"
   },
   {
    "duration": 1369,
    "start_time": "2021-08-19T08:34:31.233Z"
   },
   {
    "duration": 118,
    "start_time": "2021-08-19T08:34:32.604Z"
   },
   {
    "duration": 3,
    "start_time": "2021-08-19T08:34:32.723Z"
   },
   {
    "duration": 17,
    "start_time": "2021-08-19T08:34:32.728Z"
   },
   {
    "duration": 15,
    "start_time": "2021-08-19T08:34:32.746Z"
   },
   {
    "duration": 16,
    "start_time": "2021-08-19T08:34:32.763Z"
   },
   {
    "duration": 129,
    "start_time": "2021-08-19T08:34:32.782Z"
   },
   {
    "duration": 88,
    "start_time": "2021-08-19T08:34:32.913Z"
   },
   {
    "duration": 7,
    "start_time": "2021-08-19T08:34:33.002Z"
   },
   {
    "duration": 59,
    "start_time": "2021-08-19T08:34:33.010Z"
   },
   {
    "duration": 10,
    "start_time": "2021-08-19T08:34:33.071Z"
   },
   {
    "duration": 5,
    "start_time": "2021-08-19T08:34:33.083Z"
   },
   {
    "duration": 60,
    "start_time": "2021-08-19T08:34:33.089Z"
   },
   {
    "duration": 101,
    "start_time": "2021-08-19T08:34:33.151Z"
   },
   {
    "duration": 8,
    "start_time": "2021-08-19T08:34:33.253Z"
   },
   {
    "duration": 47,
    "start_time": "2021-08-19T08:34:33.263Z"
   },
   {
    "duration": 88,
    "start_time": "2021-08-19T08:34:33.311Z"
   },
   {
    "duration": 7,
    "start_time": "2021-08-19T08:34:33.401Z"
   },
   {
    "duration": 111,
    "start_time": "2021-08-19T08:34:33.410Z"
   },
   {
    "duration": 11,
    "start_time": "2021-08-19T08:34:33.522Z"
   },
   {
    "duration": 25,
    "start_time": "2021-08-19T08:34:33.540Z"
   },
   {
    "duration": 115,
    "start_time": "2021-08-19T08:34:33.571Z"
   },
   {
    "duration": 905,
    "start_time": "2021-08-19T08:34:33.689Z"
   },
   {
    "duration": 109,
    "start_time": "2021-08-19T08:34:34.595Z"
   },
   {
    "duration": 22,
    "start_time": "2021-08-19T08:34:34.706Z"
   },
   {
    "duration": 29,
    "start_time": "2021-08-19T08:34:34.741Z"
   },
   {
    "duration": 245,
    "start_time": "2021-08-19T08:34:34.772Z"
   },
   {
    "duration": 35,
    "start_time": "2021-08-19T08:34:35.019Z"
   },
   {
    "duration": 108,
    "start_time": "2021-08-19T08:34:35.056Z"
   },
   {
    "duration": 19,
    "start_time": "2021-08-19T08:34:35.166Z"
   },
   {
    "duration": 246,
    "start_time": "2021-08-19T08:34:35.187Z"
   },
   {
    "duration": 106,
    "start_time": "2021-08-19T08:34:35.434Z"
   },
   {
    "duration": 238,
    "start_time": "2021-08-19T08:34:35.542Z"
   },
   {
    "duration": 100,
    "start_time": "2021-08-19T08:34:35.782Z"
   },
   {
    "duration": 14,
    "start_time": "2021-08-19T08:34:35.884Z"
   },
   {
    "duration": 46,
    "start_time": "2021-08-19T08:34:35.899Z"
   },
   {
    "duration": 72,
    "start_time": "2021-08-19T08:34:35.946Z"
   },
   {
    "duration": 164,
    "start_time": "2021-08-19T08:34:36.019Z"
   },
   {
    "duration": 101,
    "start_time": "2021-08-19T08:34:36.185Z"
   },
   {
    "duration": 28,
    "start_time": "2021-08-19T08:34:36.288Z"
   },
   {
    "duration": 88,
    "start_time": "2021-08-19T08:34:36.318Z"
   },
   {
    "duration": 5,
    "start_time": "2021-08-19T08:34:36.408Z"
   },
   {
    "duration": 8,
    "start_time": "2021-08-19T08:34:36.414Z"
   },
   {
    "duration": 18,
    "start_time": "2021-08-19T08:34:36.424Z"
   },
   {
    "duration": 7,
    "start_time": "2021-08-19T08:34:36.443Z"
   },
   {
    "duration": 10,
    "start_time": "2021-08-19T08:34:36.452Z"
   },
   {
    "duration": 5,
    "start_time": "2021-08-19T08:34:36.464Z"
   },
   {
    "duration": 96,
    "start_time": "2021-08-19T08:34:36.471Z"
   },
   {
    "duration": 6,
    "start_time": "2021-08-19T08:34:36.569Z"
   },
   {
    "duration": 111,
    "start_time": "2021-08-19T08:34:36.577Z"
   },
   {
    "duration": 5,
    "start_time": "2021-08-19T08:34:36.690Z"
   },
   {
    "duration": 27,
    "start_time": "2021-08-19T08:34:36.697Z"
   },
   {
    "duration": 16,
    "start_time": "2021-08-19T08:34:36.726Z"
   },
   {
    "duration": 15,
    "start_time": "2021-08-19T08:34:36.744Z"
   },
   {
    "duration": 34,
    "start_time": "2021-08-19T08:34:36.760Z"
   },
   {
    "duration": 7,
    "start_time": "2021-08-19T08:34:36.796Z"
   },
   {
    "duration": 44,
    "start_time": "2021-08-19T08:34:36.805Z"
   },
   {
    "duration": 81,
    "start_time": "2021-08-19T08:34:36.851Z"
   },
   {
    "duration": 12,
    "start_time": "2021-08-19T08:34:36.934Z"
   },
   {
    "duration": 5,
    "start_time": "2021-08-19T08:34:36.948Z"
   },
   {
    "duration": 90,
    "start_time": "2021-08-19T08:34:36.954Z"
   },
   {
    "duration": 5,
    "start_time": "2021-08-19T08:34:37.046Z"
   },
   {
    "duration": 89,
    "start_time": "2021-08-19T08:34:37.052Z"
   },
   {
    "duration": 30,
    "start_time": "2021-08-19T08:34:37.142Z"
   },
   {
    "duration": 33,
    "start_time": "2021-08-19T08:34:37.174Z"
   },
   {
    "duration": 42,
    "start_time": "2021-08-19T08:34:37.209Z"
   },
   {
    "duration": 32,
    "start_time": "2021-08-19T08:34:37.256Z"
   },
   {
    "duration": 33,
    "start_time": "2021-08-19T08:34:37.290Z"
   },
   {
    "duration": 37,
    "start_time": "2021-08-19T08:34:37.325Z"
   },
   {
    "duration": 13,
    "start_time": "2021-08-19T08:34:37.364Z"
   },
   {
    "duration": 714,
    "start_time": "2021-08-19T08:34:37.378Z"
   },
   {
    "duration": 111,
    "start_time": "2021-08-19T08:34:38.094Z"
   },
   {
    "duration": 2,
    "start_time": "2021-08-19T08:34:38.207Z"
   },
   {
    "duration": 691,
    "start_time": "2021-08-19T08:34:38.210Z"
   },
   {
    "duration": 60,
    "start_time": "2021-08-19T08:34:38.903Z"
   },
   {
    "duration": 3,
    "start_time": "2021-08-19T08:36:29.652Z"
   },
   {
    "duration": 1204,
    "start_time": "2021-08-19T08:36:29.657Z"
   },
   {
    "duration": 122,
    "start_time": "2021-08-19T08:36:30.863Z"
   },
   {
    "duration": 15,
    "start_time": "2021-08-19T08:36:30.987Z"
   },
   {
    "duration": 25,
    "start_time": "2021-08-19T08:36:31.004Z"
   },
   {
    "duration": 16,
    "start_time": "2021-08-19T08:36:31.031Z"
   },
   {
    "duration": 26,
    "start_time": "2021-08-19T08:36:31.050Z"
   },
   {
    "duration": 122,
    "start_time": "2021-08-19T08:36:31.078Z"
   },
   {
    "duration": 87,
    "start_time": "2021-08-19T08:36:31.201Z"
   },
   {
    "duration": 6,
    "start_time": "2021-08-19T08:36:31.290Z"
   },
   {
    "duration": 61,
    "start_time": "2021-08-19T08:36:31.298Z"
   },
   {
    "duration": 9,
    "start_time": "2021-08-19T08:36:31.361Z"
   },
   {
    "duration": 16,
    "start_time": "2021-08-19T08:36:31.371Z"
   },
   {
    "duration": 62,
    "start_time": "2021-08-19T08:36:31.388Z"
   },
   {
    "duration": 97,
    "start_time": "2021-08-19T08:36:31.451Z"
   },
   {
    "duration": 17,
    "start_time": "2021-08-19T08:36:31.549Z"
   },
   {
    "duration": 44,
    "start_time": "2021-08-19T08:36:31.567Z"
   },
   {
    "duration": 72,
    "start_time": "2021-08-19T08:36:31.613Z"
   },
   {
    "duration": 7,
    "start_time": "2021-08-19T08:36:35.665Z"
   },
   {
    "duration": 13,
    "start_time": "2021-08-19T08:36:36.761Z"
   },
   {
    "duration": 7,
    "start_time": "2021-08-19T08:36:37.906Z"
   },
   {
    "duration": 113,
    "start_time": "2021-08-19T08:37:08.707Z"
   },
   {
    "duration": 13,
    "start_time": "2021-08-19T08:37:22.874Z"
   },
   {
    "duration": 11,
    "start_time": "2021-08-19T08:37:23.722Z"
   },
   {
    "duration": 101,
    "start_time": "2021-08-19T08:37:25.762Z"
   },
   {
    "duration": 20,
    "start_time": "2021-08-19T08:37:44.488Z"
   },
   {
    "duration": 103,
    "start_time": "2021-08-19T08:38:03.778Z"
   },
   {
    "duration": 789,
    "start_time": "2021-08-19T08:38:08.305Z"
   },
   {
    "duration": 96,
    "start_time": "2021-08-19T08:38:12.978Z"
   },
   {
    "duration": 18,
    "start_time": "2021-08-19T08:38:17.722Z"
   },
   {
    "duration": 5,
    "start_time": "2021-08-19T08:38:30.779Z"
   },
   {
    "duration": 97,
    "start_time": "2021-08-19T08:38:45.655Z"
   },
   {
    "duration": 1117,
    "start_time": "2021-08-19T08:39:32.344Z"
   },
   {
    "duration": 1210,
    "start_time": "2021-08-19T08:39:33.463Z"
   },
   {
    "duration": 115,
    "start_time": "2021-08-19T08:39:34.675Z"
   },
   {
    "duration": 2,
    "start_time": "2021-08-19T08:39:34.792Z"
   },
   {
    "duration": 8,
    "start_time": "2021-08-19T08:39:34.796Z"
   },
   {
    "duration": 5,
    "start_time": "2021-08-19T08:39:34.805Z"
   },
   {
    "duration": 5,
    "start_time": "2021-08-19T08:39:34.811Z"
   },
   {
    "duration": 128,
    "start_time": "2021-08-19T08:39:34.818Z"
   },
   {
    "duration": 132,
    "start_time": "2021-08-19T08:39:34.948Z"
   },
   {
    "duration": 6,
    "start_time": "2021-08-19T08:39:35.082Z"
   },
   {
    "duration": 60,
    "start_time": "2021-08-19T08:39:35.090Z"
   },
   {
    "duration": 18,
    "start_time": "2021-08-19T08:39:35.152Z"
   },
   {
    "duration": 4,
    "start_time": "2021-08-19T08:39:35.172Z"
   },
   {
    "duration": 64,
    "start_time": "2021-08-19T08:39:35.177Z"
   },
   {
    "duration": 99,
    "start_time": "2021-08-19T08:39:35.242Z"
   },
   {
    "duration": 8,
    "start_time": "2021-08-19T08:39:35.343Z"
   },
   {
    "duration": 50,
    "start_time": "2021-08-19T08:39:35.352Z"
   },
   {
    "duration": 89,
    "start_time": "2021-08-19T08:39:35.403Z"
   },
   {
    "duration": 7,
    "start_time": "2021-08-19T08:39:35.493Z"
   },
   {
    "duration": 14,
    "start_time": "2021-08-19T08:39:35.502Z"
   },
   {
    "duration": 30,
    "start_time": "2021-08-19T08:39:35.517Z"
   },
   {
    "duration": 93,
    "start_time": "2021-08-19T08:39:42.913Z"
   },
   {
    "duration": 815,
    "start_time": "2021-08-19T08:39:50.346Z"
   },
   {
    "duration": 95,
    "start_time": "2021-08-19T08:39:52.121Z"
   },
   {
    "duration": 18,
    "start_time": "2021-08-19T08:39:54.961Z"
   },
   {
    "duration": 30,
    "start_time": "2021-08-19T08:39:59.881Z"
   },
   {
    "duration": 229,
    "start_time": "2021-08-19T08:40:05.872Z"
   },
   {
    "duration": 33,
    "start_time": "2021-08-19T08:40:06.664Z"
   },
   {
    "duration": 96,
    "start_time": "2021-08-19T08:40:07.920Z"
   },
   {
    "duration": 20,
    "start_time": "2021-08-19T08:40:09.136Z"
   },
   {
    "duration": 212,
    "start_time": "2021-08-19T08:40:14.529Z"
   },
   {
    "duration": 93,
    "start_time": "2021-08-19T08:40:15.025Z"
   },
   {
    "duration": 212,
    "start_time": "2021-08-19T08:40:29.802Z"
   },
   {
    "duration": 95,
    "start_time": "2021-08-19T08:40:30.410Z"
   },
   {
    "duration": 15,
    "start_time": "2021-08-19T08:40:36.018Z"
   },
   {
    "duration": 30,
    "start_time": "2021-08-19T08:40:36.849Z"
   },
   {
    "duration": 75,
    "start_time": "2021-08-19T08:40:39.448Z"
   },
   {
    "duration": 152,
    "start_time": "2021-08-19T08:40:41.641Z"
   },
   {
    "duration": 95,
    "start_time": "2021-08-19T08:40:42.593Z"
   },
   {
    "duration": 34,
    "start_time": "2021-08-19T08:40:43.920Z"
   },
   {
    "duration": 79,
    "start_time": "2021-08-19T08:40:46.465Z"
   },
   {
    "duration": 6,
    "start_time": "2021-08-19T08:41:05.457Z"
   },
   {
    "duration": 9,
    "start_time": "2021-08-19T08:41:26.769Z"
   },
   {
    "duration": 12,
    "start_time": "2021-08-19T08:41:27.272Z"
   },
   {
    "duration": 94,
    "start_time": "2021-08-19T08:41:35.562Z"
   },
   {
    "duration": 3,
    "start_time": "2021-08-19T08:47:05.189Z"
   },
   {
    "duration": 1477,
    "start_time": "2021-08-19T08:47:05.194Z"
   },
   {
    "duration": 131,
    "start_time": "2021-08-19T08:47:06.673Z"
   },
   {
    "duration": 3,
    "start_time": "2021-08-19T08:47:06.806Z"
   },
   {
    "duration": 8,
    "start_time": "2021-08-19T08:47:06.811Z"
   },
   {
    "duration": 6,
    "start_time": "2021-08-19T08:47:06.821Z"
   },
   {
    "duration": 3,
    "start_time": "2021-08-19T08:47:06.842Z"
   },
   {
    "duration": 135,
    "start_time": "2021-08-19T08:47:06.847Z"
   },
   {
    "duration": 103,
    "start_time": "2021-08-19T08:47:06.984Z"
   },
   {
    "duration": 7,
    "start_time": "2021-08-19T08:47:07.089Z"
   },
   {
    "duration": 57,
    "start_time": "2021-08-19T08:47:07.097Z"
   },
   {
    "duration": 9,
    "start_time": "2021-08-19T08:47:07.156Z"
   },
   {
    "duration": 5,
    "start_time": "2021-08-19T08:47:07.166Z"
   },
   {
    "duration": 36,
    "start_time": "2021-08-19T08:47:07.173Z"
   },
   {
    "duration": 124,
    "start_time": "2021-08-19T08:47:07.211Z"
   },
   {
    "duration": 8,
    "start_time": "2021-08-19T08:47:07.340Z"
   },
   {
    "duration": 43,
    "start_time": "2021-08-19T08:47:07.350Z"
   },
   {
    "duration": 100,
    "start_time": "2021-08-19T08:47:07.395Z"
   },
   {
    "duration": 8,
    "start_time": "2021-08-19T08:47:07.498Z"
   },
   {
    "duration": 18,
    "start_time": "2021-08-19T08:47:07.508Z"
   },
   {
    "duration": 32,
    "start_time": "2021-08-19T08:47:07.528Z"
   },
   {
    "duration": 109,
    "start_time": "2021-08-19T08:47:07.562Z"
   },
   {
    "duration": 917,
    "start_time": "2021-08-19T08:47:07.673Z"
   },
   {
    "duration": 116,
    "start_time": "2021-08-19T08:47:08.591Z"
   },
   {
    "duration": 33,
    "start_time": "2021-08-19T08:47:08.709Z"
   },
   {
    "duration": 36,
    "start_time": "2021-08-19T08:47:08.744Z"
   },
   {
    "duration": 257,
    "start_time": "2021-08-19T08:47:08.783Z"
   },
   {
    "duration": 36,
    "start_time": "2021-08-19T08:47:09.042Z"
   },
   {
    "duration": 118,
    "start_time": "2021-08-19T08:47:09.079Z"
   },
   {
    "duration": 20,
    "start_time": "2021-08-19T08:47:09.199Z"
   },
   {
    "duration": 249,
    "start_time": "2021-08-19T08:47:09.221Z"
   },
   {
    "duration": 112,
    "start_time": "2021-08-19T08:47:09.472Z"
   },
   {
    "duration": 242,
    "start_time": "2021-08-19T08:47:09.586Z"
   },
   {
    "duration": 116,
    "start_time": "2021-08-19T08:47:09.830Z"
   },
   {
    "duration": 17,
    "start_time": "2021-08-19T08:47:09.948Z"
   },
   {
    "duration": 34,
    "start_time": "2021-08-19T08:47:09.966Z"
   },
   {
    "duration": 100,
    "start_time": "2021-08-19T08:47:10.002Z"
   },
   {
    "duration": 173,
    "start_time": "2021-08-19T08:47:10.104Z"
   },
   {
    "duration": 114,
    "start_time": "2021-08-19T08:47:10.279Z"
   },
   {
    "duration": 34,
    "start_time": "2021-08-19T08:47:10.395Z"
   },
   {
    "duration": 87,
    "start_time": "2021-08-19T08:47:10.441Z"
   },
   {
    "duration": 16,
    "start_time": "2021-08-19T08:47:10.530Z"
   },
   {
    "duration": 12,
    "start_time": "2021-08-19T08:47:10.548Z"
   },
   {
    "duration": 120,
    "start_time": "2021-08-19T08:47:10.562Z"
   },
   {
    "duration": 121,
    "start_time": "2021-08-19T08:47:10.684Z"
   },
   {
    "duration": 5,
    "start_time": "2021-08-19T08:47:10.808Z"
   },
   {
    "duration": 31,
    "start_time": "2021-08-19T08:47:10.815Z"
   },
   {
    "duration": 6,
    "start_time": "2021-08-19T08:47:10.848Z"
   },
   {
    "duration": 7,
    "start_time": "2021-08-19T08:47:10.856Z"
   },
   {
    "duration": 24,
    "start_time": "2021-08-19T08:47:10.865Z"
   },
   {
    "duration": 6,
    "start_time": "2021-08-19T08:47:10.892Z"
   },
   {
    "duration": 70,
    "start_time": "2021-08-19T08:47:10.900Z"
   },
   {
    "duration": 71,
    "start_time": "2021-08-19T08:47:10.972Z"
   },
   {
    "duration": 13,
    "start_time": "2021-08-19T08:47:11.044Z"
   },
   {
    "duration": 5,
    "start_time": "2021-08-19T08:47:11.061Z"
   },
   {
    "duration": 96,
    "start_time": "2021-08-19T08:47:11.068Z"
   },
   {
    "duration": 6,
    "start_time": "2021-08-19T08:47:11.166Z"
   },
   {
    "duration": 106,
    "start_time": "2021-08-19T08:47:11.173Z"
   },
   {
    "duration": 34,
    "start_time": "2021-08-19T08:47:11.280Z"
   },
   {
    "duration": 57,
    "start_time": "2021-08-19T08:47:11.315Z"
   },
   {
    "duration": 37,
    "start_time": "2021-08-19T08:47:11.374Z"
   },
   {
    "duration": 48,
    "start_time": "2021-08-19T08:47:11.413Z"
   },
   {
    "duration": 39,
    "start_time": "2021-08-19T08:47:11.463Z"
   },
   {
    "duration": 44,
    "start_time": "2021-08-19T08:47:11.504Z"
   },
   {
    "duration": 13,
    "start_time": "2021-08-19T08:47:11.550Z"
   },
   {
    "duration": 784,
    "start_time": "2021-08-19T08:47:11.565Z"
   },
   {
    "duration": 104,
    "start_time": "2021-08-19T08:47:55.594Z"
   },
   {
    "duration": 686,
    "start_time": "2021-08-19T08:48:11.798Z"
   },
   {
    "duration": 53,
    "start_time": "2021-08-19T08:48:13.216Z"
   },
   {
    "duration": 17,
    "start_time": "2021-08-19T08:48:32.359Z"
   },
   {
    "duration": 84,
    "start_time": "2021-08-19T08:48:46.215Z"
   },
   {
    "duration": 31,
    "start_time": "2021-08-19T08:48:47.197Z"
   },
   {
    "duration": 4,
    "start_time": "2021-08-19T08:48:58.933Z"
   },
   {
    "duration": 3,
    "start_time": "2021-08-19T08:53:07.963Z"
   },
   {
    "duration": 20,
    "start_time": "2021-08-19T08:53:08.891Z"
   },
   {
    "duration": 533,
    "start_time": "2021-08-19T08:53:09.683Z"
   },
   {
    "duration": 192,
    "start_time": "2021-08-19T08:53:26.934Z"
   },
   {
    "duration": 30,
    "start_time": "2021-08-19T08:53:35.987Z"
   },
   {
    "duration": 3,
    "start_time": "2021-08-19T08:57:05.300Z"
   },
   {
    "duration": 5326,
    "start_time": "2021-08-19T08:57:47.378Z"
   },
   {
    "duration": 3,
    "start_time": "2021-08-19T08:59:22.610Z"
   },
   {
    "duration": 3,
    "start_time": "2021-08-19T09:00:16.553Z"
   },
   {
    "duration": 4891,
    "start_time": "2021-08-19T09:00:18.362Z"
   },
   {
    "duration": 7,
    "start_time": "2021-08-19T09:04:33.308Z"
   },
   {
    "duration": 5,
    "start_time": "2021-08-19T09:04:35.140Z"
   },
   {
    "duration": 3,
    "start_time": "2021-08-19T09:04:40.601Z"
   },
   {
    "duration": 1187,
    "start_time": "2021-08-19T09:04:40.605Z"
   },
   {
    "duration": 116,
    "start_time": "2021-08-19T09:04:41.794Z"
   },
   {
    "duration": 6,
    "start_time": "2021-08-19T09:04:41.912Z"
   },
   {
    "duration": 14,
    "start_time": "2021-08-19T09:04:41.919Z"
   },
   {
    "duration": 15,
    "start_time": "2021-08-19T09:04:41.935Z"
   },
   {
    "duration": 16,
    "start_time": "2021-08-19T09:04:41.952Z"
   },
   {
    "duration": 116,
    "start_time": "2021-08-19T09:04:41.970Z"
   },
   {
    "duration": 91,
    "start_time": "2021-08-19T09:04:42.087Z"
   },
   {
    "duration": 6,
    "start_time": "2021-08-19T09:04:42.180Z"
   },
   {
    "duration": 40,
    "start_time": "2021-08-19T09:04:42.188Z"
   },
   {
    "duration": 17,
    "start_time": "2021-08-19T09:04:42.230Z"
   },
   {
    "duration": 4,
    "start_time": "2021-08-19T09:04:42.249Z"
   },
   {
    "duration": 44,
    "start_time": "2021-08-19T09:04:42.254Z"
   },
   {
    "duration": 112,
    "start_time": "2021-08-19T09:04:42.300Z"
   },
   {
    "duration": 6,
    "start_time": "2021-08-19T09:04:42.414Z"
   },
   {
    "duration": 44,
    "start_time": "2021-08-19T09:04:42.422Z"
   },
   {
    "duration": 78,
    "start_time": "2021-08-19T09:04:42.467Z"
   },
   {
    "duration": 7,
    "start_time": "2021-08-19T09:04:42.548Z"
   },
   {
    "duration": 11,
    "start_time": "2021-08-19T09:04:42.557Z"
   },
   {
    "duration": 11,
    "start_time": "2021-08-19T09:04:42.570Z"
   },
   {
    "duration": 117,
    "start_time": "2021-08-19T09:04:42.582Z"
   },
   {
    "duration": 805,
    "start_time": "2021-08-19T09:04:42.701Z"
   },
   {
    "duration": 95,
    "start_time": "2021-08-19T09:04:43.508Z"
   },
   {
    "duration": 20,
    "start_time": "2021-08-19T09:04:43.605Z"
   },
   {
    "duration": 39,
    "start_time": "2021-08-19T09:04:43.627Z"
   },
   {
    "duration": 221,
    "start_time": "2021-08-19T09:04:43.667Z"
   },
   {
    "duration": 32,
    "start_time": "2021-08-19T09:04:43.890Z"
   },
   {
    "duration": 104,
    "start_time": "2021-08-19T09:04:43.924Z"
   },
   {
    "duration": 19,
    "start_time": "2021-08-19T09:04:44.040Z"
   },
   {
    "duration": 216,
    "start_time": "2021-08-19T09:04:44.060Z"
   },
   {
    "duration": 97,
    "start_time": "2021-08-19T09:04:44.278Z"
   },
   {
    "duration": 216,
    "start_time": "2021-08-19T09:04:44.376Z"
   },
   {
    "duration": 98,
    "start_time": "2021-08-19T09:04:44.594Z"
   },
   {
    "duration": 14,
    "start_time": "2021-08-19T09:04:44.694Z"
   },
   {
    "duration": 44,
    "start_time": "2021-08-19T09:04:44.710Z"
   },
   {
    "duration": 73,
    "start_time": "2021-08-19T09:04:44.756Z"
   },
   {
    "duration": 156,
    "start_time": "2021-08-19T09:04:44.840Z"
   },
   {
    "duration": 95,
    "start_time": "2021-08-19T09:04:44.998Z"
   },
   {
    "duration": 31,
    "start_time": "2021-08-19T09:04:45.094Z"
   },
   {
    "duration": 86,
    "start_time": "2021-08-19T09:04:45.127Z"
   },
   {
    "duration": 7,
    "start_time": "2021-08-19T09:04:45.215Z"
   },
   {
    "duration": 12,
    "start_time": "2021-08-19T09:04:45.240Z"
   },
   {
    "duration": 103,
    "start_time": "2021-08-19T09:04:45.254Z"
   },
   {
    "duration": 109,
    "start_time": "2021-08-19T09:04:45.359Z"
   },
   {
    "duration": 8,
    "start_time": "2021-08-19T09:04:45.469Z"
   },
   {
    "duration": 8,
    "start_time": "2021-08-19T09:04:48.926Z"
   },
   {
    "duration": 6,
    "start_time": "2021-08-19T09:04:49.865Z"
   },
   {
    "duration": 32,
    "start_time": "2021-08-19T09:05:28.545Z"
   },
   {
    "duration": 10,
    "start_time": "2021-08-19T09:05:30.178Z"
   },
   {
    "duration": 4,
    "start_time": "2021-08-19T09:05:34.290Z"
   },
   {
    "duration": 1216,
    "start_time": "2021-08-19T09:05:34.295Z"
   },
   {
    "duration": 115,
    "start_time": "2021-08-19T09:05:35.513Z"
   },
   {
    "duration": 3,
    "start_time": "2021-08-19T09:05:35.630Z"
   },
   {
    "duration": 15,
    "start_time": "2021-08-19T09:05:35.634Z"
   },
   {
    "duration": 6,
    "start_time": "2021-08-19T09:05:35.650Z"
   },
   {
    "duration": 8,
    "start_time": "2021-08-19T09:05:35.658Z"
   },
   {
    "duration": 118,
    "start_time": "2021-08-19T09:05:35.667Z"
   },
   {
    "duration": 88,
    "start_time": "2021-08-19T09:05:35.786Z"
   },
   {
    "duration": 7,
    "start_time": "2021-08-19T09:05:35.876Z"
   },
   {
    "duration": 39,
    "start_time": "2021-08-19T09:05:35.884Z"
   },
   {
    "duration": 22,
    "start_time": "2021-08-19T09:05:35.925Z"
   },
   {
    "duration": 19,
    "start_time": "2021-08-19T09:05:35.949Z"
   },
   {
    "duration": 55,
    "start_time": "2021-08-19T09:05:35.970Z"
   },
   {
    "duration": 96,
    "start_time": "2021-08-19T09:05:36.027Z"
   },
   {
    "duration": 16,
    "start_time": "2021-08-19T09:05:36.125Z"
   },
   {
    "duration": 46,
    "start_time": "2021-08-19T09:05:36.143Z"
   },
   {
    "duration": 74,
    "start_time": "2021-08-19T09:05:36.191Z"
   },
   {
    "duration": 8,
    "start_time": "2021-08-19T09:05:36.269Z"
   },
   {
    "duration": 13,
    "start_time": "2021-08-19T09:05:36.279Z"
   },
   {
    "duration": 13,
    "start_time": "2021-08-19T09:05:36.293Z"
   },
   {
    "duration": 123,
    "start_time": "2021-08-19T09:05:36.308Z"
   },
   {
    "duration": 795,
    "start_time": "2021-08-19T09:05:36.440Z"
   },
   {
    "duration": 105,
    "start_time": "2021-08-19T09:05:37.236Z"
   },
   {
    "duration": 20,
    "start_time": "2021-08-19T09:05:37.342Z"
   },
   {
    "duration": 33,
    "start_time": "2021-08-19T09:05:37.364Z"
   },
   {
    "duration": 223,
    "start_time": "2021-08-19T09:05:37.399Z"
   },
   {
    "duration": 36,
    "start_time": "2021-08-19T09:05:37.624Z"
   },
   {
    "duration": 107,
    "start_time": "2021-08-19T09:05:37.662Z"
   },
   {
    "duration": 20,
    "start_time": "2021-08-19T09:05:37.771Z"
   },
   {
    "duration": 218,
    "start_time": "2021-08-19T09:05:37.793Z"
   },
   {
    "duration": 100,
    "start_time": "2021-08-19T09:05:38.013Z"
   },
   {
    "duration": 227,
    "start_time": "2021-08-19T09:05:38.115Z"
   },
   {
    "duration": 102,
    "start_time": "2021-08-19T09:05:38.343Z"
   },
   {
    "duration": 15,
    "start_time": "2021-08-19T09:05:38.446Z"
   },
   {
    "duration": 32,
    "start_time": "2021-08-19T09:05:38.462Z"
   },
   {
    "duration": 85,
    "start_time": "2021-08-19T09:05:38.496Z"
   },
   {
    "duration": 157,
    "start_time": "2021-08-19T09:05:38.583Z"
   },
   {
    "duration": 99,
    "start_time": "2021-08-19T09:05:38.742Z"
   },
   {
    "duration": 31,
    "start_time": "2021-08-19T09:05:38.842Z"
   },
   {
    "duration": 93,
    "start_time": "2021-08-19T09:05:38.874Z"
   },
   {
    "duration": 7,
    "start_time": "2021-08-19T09:05:38.969Z"
   },
   {
    "duration": 37,
    "start_time": "2021-08-19T09:05:38.977Z"
   },
   {
    "duration": 93,
    "start_time": "2021-08-19T09:05:39.016Z"
   },
   {
    "duration": 96,
    "start_time": "2021-08-19T09:05:39.110Z"
   },
   {
    "duration": 4,
    "start_time": "2021-08-19T09:05:39.208Z"
   },
   {
    "duration": 5,
    "start_time": "2021-08-19T09:05:43.418Z"
   },
   {
    "duration": 174,
    "start_time": "2021-08-19T09:05:44.097Z"
   },
   {
    "duration": 5,
    "start_time": "2021-08-19T09:05:44.652Z"
   },
   {
    "duration": 6,
    "start_time": "2021-08-19T09:06:05.337Z"
   },
   {
    "duration": 120,
    "start_time": "2021-08-19T09:06:05.922Z"
   },
   {
    "duration": 5,
    "start_time": "2021-08-19T09:06:06.732Z"
   },
   {
    "duration": 259,
    "start_time": "2021-08-19T09:06:18.402Z"
   },
   {
    "duration": 3,
    "start_time": "2021-08-19T09:06:24.283Z"
   },
   {
    "duration": 1188,
    "start_time": "2021-08-19T09:06:24.288Z"
   },
   {
    "duration": 119,
    "start_time": "2021-08-19T09:06:25.478Z"
   },
   {
    "duration": 4,
    "start_time": "2021-08-19T09:06:25.599Z"
   },
   {
    "duration": 10,
    "start_time": "2021-08-19T09:06:25.605Z"
   },
   {
    "duration": 7,
    "start_time": "2021-08-19T09:06:25.616Z"
   },
   {
    "duration": 7,
    "start_time": "2021-08-19T09:06:25.626Z"
   },
   {
    "duration": 120,
    "start_time": "2021-08-19T09:06:25.641Z"
   },
   {
    "duration": 89,
    "start_time": "2021-08-19T09:06:25.762Z"
   },
   {
    "duration": 7,
    "start_time": "2021-08-19T09:06:25.853Z"
   },
   {
    "duration": 38,
    "start_time": "2021-08-19T09:06:25.861Z"
   },
   {
    "duration": 8,
    "start_time": "2021-08-19T09:06:25.901Z"
   },
   {
    "duration": 3,
    "start_time": "2021-08-19T09:06:25.911Z"
   },
   {
    "duration": 43,
    "start_time": "2021-08-19T09:06:25.941Z"
   },
   {
    "duration": 103,
    "start_time": "2021-08-19T09:06:25.986Z"
   },
   {
    "duration": 7,
    "start_time": "2021-08-19T09:06:26.091Z"
   },
   {
    "duration": 47,
    "start_time": "2021-08-19T09:06:26.100Z"
   },
   {
    "duration": 80,
    "start_time": "2021-08-19T09:06:26.149Z"
   },
   {
    "duration": 8,
    "start_time": "2021-08-19T09:06:26.240Z"
   },
   {
    "duration": 10,
    "start_time": "2021-08-19T09:06:26.250Z"
   },
   {
    "duration": 13,
    "start_time": "2021-08-19T09:06:26.262Z"
   },
   {
    "duration": 120,
    "start_time": "2021-08-19T09:06:26.277Z"
   },
   {
    "duration": 816,
    "start_time": "2021-08-19T09:06:26.399Z"
   },
   {
    "duration": 99,
    "start_time": "2021-08-19T09:06:27.217Z"
   },
   {
    "duration": 28,
    "start_time": "2021-08-19T09:06:27.318Z"
   },
   {
    "duration": 32,
    "start_time": "2021-08-19T09:06:27.348Z"
   },
   {
    "duration": 227,
    "start_time": "2021-08-19T09:06:27.382Z"
   },
   {
    "duration": 36,
    "start_time": "2021-08-19T09:06:27.611Z"
   },
   {
    "duration": 103,
    "start_time": "2021-08-19T09:06:27.649Z"
   },
   {
    "duration": 19,
    "start_time": "2021-08-19T09:06:27.754Z"
   },
   {
    "duration": 221,
    "start_time": "2021-08-19T09:06:27.774Z"
   },
   {
    "duration": 101,
    "start_time": "2021-08-19T09:06:27.997Z"
   },
   {
    "duration": 216,
    "start_time": "2021-08-19T09:06:28.101Z"
   },
   {
    "duration": 98,
    "start_time": "2021-08-19T09:06:28.319Z"
   },
   {
    "duration": 24,
    "start_time": "2021-08-19T09:06:28.419Z"
   },
   {
    "duration": 30,
    "start_time": "2021-08-19T09:06:28.444Z"
   },
   {
    "duration": 85,
    "start_time": "2021-08-19T09:06:28.476Z"
   },
   {
    "duration": 159,
    "start_time": "2021-08-19T09:06:28.563Z"
   },
   {
    "duration": 99,
    "start_time": "2021-08-19T09:06:28.723Z"
   },
   {
    "duration": 35,
    "start_time": "2021-08-19T09:06:28.823Z"
   },
   {
    "duration": 99,
    "start_time": "2021-08-19T09:06:28.860Z"
   },
   {
    "duration": 7,
    "start_time": "2021-08-19T09:06:28.961Z"
   },
   {
    "duration": 12,
    "start_time": "2021-08-19T09:06:28.970Z"
   },
   {
    "duration": 108,
    "start_time": "2021-08-19T09:06:28.983Z"
   },
   {
    "duration": 101,
    "start_time": "2021-08-19T09:06:29.093Z"
   },
   {
    "duration": 4,
    "start_time": "2021-08-19T09:06:29.195Z"
   },
   {
    "duration": 186,
    "start_time": "2021-08-19T09:06:29.201Z"
   },
   {
    "duration": 5,
    "start_time": "2021-08-19T09:06:29.389Z"
   },
   {
    "duration": 8,
    "start_time": "2021-08-19T09:06:29.395Z"
   },
   {
    "duration": 668,
    "start_time": "2021-08-19T09:06:33.097Z"
   },
   {
    "duration": 178,
    "start_time": "2021-08-19T09:06:46.307Z"
   },
   {
    "duration": 5,
    "start_time": "2021-08-19T09:06:47.473Z"
   },
   {
    "duration": 261,
    "start_time": "2021-08-19T09:07:06.370Z"
   },
   {
    "duration": 39,
    "start_time": "2021-08-19T09:07:10.553Z"
   },
   {
    "duration": 5,
    "start_time": "2021-08-19T09:07:28.115Z"
   },
   {
    "duration": 30,
    "start_time": "2021-08-19T09:09:35.734Z"
   },
   {
    "duration": 2169,
    "start_time": "2021-08-19T09:09:36.705Z"
   },
   {
    "duration": 2182,
    "start_time": "2021-08-19T09:09:50.506Z"
   },
   {
    "duration": 57,
    "start_time": "2021-08-19T09:10:23.827Z"
   },
   {
    "duration": 13,
    "start_time": "2021-08-19T09:10:26.412Z"
   },
   {
    "duration": 5,
    "start_time": "2021-08-19T09:10:39.640Z"
   },
   {
    "duration": 8,
    "start_time": "2021-08-19T09:11:01.961Z"
   },
   {
    "duration": 5,
    "start_time": "2021-08-19T09:11:02.704Z"
   },
   {
    "duration": 256,
    "start_time": "2021-08-19T09:11:15.176Z"
   },
   {
    "duration": 4,
    "start_time": "2021-08-19T09:12:19.993Z"
   },
   {
    "duration": 12,
    "start_time": "2021-08-19T09:12:20.919Z"
   },
   {
    "duration": 4,
    "start_time": "2021-08-19T09:12:37.290Z"
   },
   {
    "duration": 1147,
    "start_time": "2021-08-19T09:12:37.296Z"
   },
   {
    "duration": 113,
    "start_time": "2021-08-19T09:12:38.445Z"
   },
   {
    "duration": 11,
    "start_time": "2021-08-19T09:12:38.560Z"
   },
   {
    "duration": 13,
    "start_time": "2021-08-19T09:12:38.572Z"
   },
   {
    "duration": 18,
    "start_time": "2021-08-19T09:12:38.587Z"
   },
   {
    "duration": 10,
    "start_time": "2021-08-19T09:12:38.607Z"
   },
   {
    "duration": 129,
    "start_time": "2021-08-19T09:12:38.618Z"
   },
   {
    "duration": 85,
    "start_time": "2021-08-19T09:12:38.749Z"
   },
   {
    "duration": 6,
    "start_time": "2021-08-19T09:12:38.841Z"
   },
   {
    "duration": 55,
    "start_time": "2021-08-19T09:12:38.849Z"
   },
   {
    "duration": 8,
    "start_time": "2021-08-19T09:12:38.905Z"
   },
   {
    "duration": 13,
    "start_time": "2021-08-19T09:12:38.915Z"
   },
   {
    "duration": 60,
    "start_time": "2021-08-19T09:12:38.930Z"
   },
   {
    "duration": 94,
    "start_time": "2021-08-19T09:12:38.991Z"
   },
   {
    "duration": 10,
    "start_time": "2021-08-19T09:12:39.087Z"
   },
   {
    "duration": 50,
    "start_time": "2021-08-19T09:12:39.099Z"
   },
   {
    "duration": 74,
    "start_time": "2021-08-19T09:12:39.151Z"
   },
   {
    "duration": 15,
    "start_time": "2021-08-19T09:12:39.229Z"
   },
   {
    "duration": 14,
    "start_time": "2021-08-19T09:12:39.246Z"
   },
   {
    "duration": 19,
    "start_time": "2021-08-19T09:12:39.262Z"
   },
   {
    "duration": 100,
    "start_time": "2021-08-19T09:12:39.283Z"
   },
   {
    "duration": 795,
    "start_time": "2021-08-19T09:12:39.385Z"
   },
   {
    "duration": 97,
    "start_time": "2021-08-19T09:12:40.182Z"
   },
   {
    "duration": 23,
    "start_time": "2021-08-19T09:12:40.281Z"
   },
   {
    "duration": 39,
    "start_time": "2021-08-19T09:12:40.305Z"
   },
   {
    "duration": 213,
    "start_time": "2021-08-19T09:12:40.345Z"
   },
   {
    "duration": 30,
    "start_time": "2021-08-19T09:12:40.560Z"
   },
   {
    "duration": 102,
    "start_time": "2021-08-19T09:12:40.592Z"
   },
   {
    "duration": 17,
    "start_time": "2021-08-19T09:12:40.696Z"
   },
   {
    "duration": 217,
    "start_time": "2021-08-19T09:12:40.714Z"
   },
   {
    "duration": 92,
    "start_time": "2021-08-19T09:12:40.933Z"
   },
   {
    "duration": 213,
    "start_time": "2021-08-19T09:12:41.027Z"
   },
   {
    "duration": 99,
    "start_time": "2021-08-19T09:12:41.242Z"
   },
   {
    "duration": 14,
    "start_time": "2021-08-19T09:12:41.343Z"
   },
   {
    "duration": 30,
    "start_time": "2021-08-19T09:12:41.359Z"
   },
   {
    "duration": 88,
    "start_time": "2021-08-19T09:12:41.391Z"
   },
   {
    "duration": 156,
    "start_time": "2021-08-19T09:12:41.480Z"
   },
   {
    "duration": 94,
    "start_time": "2021-08-19T09:12:41.638Z"
   },
   {
    "duration": 31,
    "start_time": "2021-08-19T09:12:41.740Z"
   },
   {
    "duration": 92,
    "start_time": "2021-08-19T09:12:41.772Z"
   },
   {
    "duration": 6,
    "start_time": "2021-08-19T09:12:41.866Z"
   },
   {
    "duration": 13,
    "start_time": "2021-08-19T09:12:41.874Z"
   },
   {
    "duration": 107,
    "start_time": "2021-08-19T09:12:41.889Z"
   },
   {
    "duration": 96,
    "start_time": "2021-08-19T09:12:41.998Z"
   },
   {
    "duration": 5,
    "start_time": "2021-08-19T09:12:42.095Z"
   },
   {
    "duration": 187,
    "start_time": "2021-08-19T09:12:42.101Z"
   },
   {
    "duration": 5,
    "start_time": "2021-08-19T09:12:42.289Z"
   },
   {
    "duration": 7,
    "start_time": "2021-08-19T09:12:42.296Z"
   },
   {
    "duration": 193,
    "start_time": "2021-08-19T09:12:42.305Z"
   },
   {
    "duration": 5,
    "start_time": "2021-08-19T09:12:42.500Z"
   },
   {
    "duration": 42,
    "start_time": "2021-08-19T09:12:42.506Z"
   },
   {
    "duration": 1108,
    "start_time": "2021-08-19T09:12:44.818Z"
   },
   {
    "duration": -751,
    "start_time": "2021-08-19T09:12:46.679Z"
   },
   {
    "duration": 48,
    "start_time": "2021-08-19T09:12:53.287Z"
   },
   {
    "duration": 4,
    "start_time": "2021-08-19T09:12:54.938Z"
   },
   {
    "duration": 16,
    "start_time": "2021-08-19T09:12:54.943Z"
   },
   {
    "duration": 5,
    "start_time": "2021-08-19T09:13:01.178Z"
   },
   {
    "duration": 74,
    "start_time": "2021-08-19T09:13:20.256Z"
   },
   {
    "duration": 4,
    "start_time": "2021-08-19T09:13:20.760Z"
   },
   {
    "duration": 5,
    "start_time": "2021-08-19T09:13:22.119Z"
   },
   {
    "duration": 3,
    "start_time": "2021-08-19T09:14:29.772Z"
   },
   {
    "duration": 1301,
    "start_time": "2021-08-19T09:14:29.777Z"
   },
   {
    "duration": 115,
    "start_time": "2021-08-19T09:14:31.080Z"
   },
   {
    "duration": 4,
    "start_time": "2021-08-19T09:14:31.198Z"
   },
   {
    "duration": 17,
    "start_time": "2021-08-19T09:14:31.204Z"
   },
   {
    "duration": 7,
    "start_time": "2021-08-19T09:14:31.223Z"
   },
   {
    "duration": 14,
    "start_time": "2021-08-19T09:14:31.232Z"
   },
   {
    "duration": 113,
    "start_time": "2021-08-19T09:14:31.248Z"
   },
   {
    "duration": 85,
    "start_time": "2021-08-19T09:14:31.365Z"
   },
   {
    "duration": 12,
    "start_time": "2021-08-19T09:14:31.452Z"
   },
   {
    "duration": 37,
    "start_time": "2021-08-19T09:14:31.465Z"
   },
   {
    "duration": 9,
    "start_time": "2021-08-19T09:14:31.503Z"
   },
   {
    "duration": 29,
    "start_time": "2021-08-19T09:14:31.513Z"
   },
   {
    "duration": 66,
    "start_time": "2021-08-19T09:14:31.543Z"
   },
   {
    "duration": 95,
    "start_time": "2021-08-19T09:14:31.610Z"
   },
   {
    "duration": 15,
    "start_time": "2021-08-19T09:14:31.706Z"
   },
   {
    "duration": 44,
    "start_time": "2021-08-19T09:14:31.722Z"
   },
   {
    "duration": 80,
    "start_time": "2021-08-19T09:14:31.768Z"
   },
   {
    "duration": 7,
    "start_time": "2021-08-19T09:14:31.849Z"
   },
   {
    "duration": 19,
    "start_time": "2021-08-19T09:14:31.858Z"
   },
   {
    "duration": 19,
    "start_time": "2021-08-19T09:14:31.878Z"
   },
   {
    "duration": 110,
    "start_time": "2021-08-19T09:14:31.898Z"
   },
   {
    "duration": 819,
    "start_time": "2021-08-19T09:14:32.010Z"
   },
   {
    "duration": 95,
    "start_time": "2021-08-19T09:14:32.830Z"
   },
   {
    "duration": 19,
    "start_time": "2021-08-19T09:14:32.940Z"
   },
   {
    "duration": 33,
    "start_time": "2021-08-19T09:14:32.960Z"
   },
   {
    "duration": 227,
    "start_time": "2021-08-19T09:14:32.998Z"
   },
   {
    "duration": 36,
    "start_time": "2021-08-19T09:14:33.228Z"
   },
   {
    "duration": 102,
    "start_time": "2021-08-19T09:14:33.266Z"
   },
   {
    "duration": 21,
    "start_time": "2021-08-19T09:14:33.370Z"
   },
   {
    "duration": 229,
    "start_time": "2021-08-19T09:14:33.393Z"
   },
   {
    "duration": 101,
    "start_time": "2021-08-19T09:14:33.624Z"
   },
   {
    "duration": 257,
    "start_time": "2021-08-19T09:14:33.726Z"
   },
   {
    "duration": 120,
    "start_time": "2021-08-19T09:14:33.986Z"
   },
   {
    "duration": 15,
    "start_time": "2021-08-19T09:14:34.108Z"
   },
   {
    "duration": 41,
    "start_time": "2021-08-19T09:14:34.124Z"
   },
   {
    "duration": 80,
    "start_time": "2021-08-19T09:14:34.167Z"
   },
   {
    "duration": 162,
    "start_time": "2021-08-19T09:14:34.248Z"
   },
   {
    "duration": 99,
    "start_time": "2021-08-19T09:14:34.412Z"
   },
   {
    "duration": 43,
    "start_time": "2021-08-19T09:14:34.513Z"
   },
   {
    "duration": 90,
    "start_time": "2021-08-19T09:14:34.558Z"
   },
   {
    "duration": 7,
    "start_time": "2021-08-19T09:14:34.650Z"
   },
   {
    "duration": 25,
    "start_time": "2021-08-19T09:14:34.659Z"
   },
   {
    "duration": 97,
    "start_time": "2021-08-19T09:14:34.685Z"
   },
   {
    "duration": 104,
    "start_time": "2021-08-19T09:14:34.783Z"
   },
   {
    "duration": 4,
    "start_time": "2021-08-19T09:14:34.889Z"
   },
   {
    "duration": 195,
    "start_time": "2021-08-19T09:14:34.895Z"
   },
   {
    "duration": 5,
    "start_time": "2021-08-19T09:14:35.091Z"
   },
   {
    "duration": 12,
    "start_time": "2021-08-19T09:14:35.097Z"
   },
   {
    "duration": 189,
    "start_time": "2021-08-19T09:14:35.111Z"
   },
   {
    "duration": 4,
    "start_time": "2021-08-19T09:14:35.302Z"
   },
   {
    "duration": 44,
    "start_time": "2021-08-19T09:14:35.308Z"
   },
   {
    "duration": 58,
    "start_time": "2021-08-19T09:14:35.354Z"
   },
   {
    "duration": 4,
    "start_time": "2021-08-19T09:14:35.413Z"
   },
   {
    "duration": 12,
    "start_time": "2021-08-19T09:14:35.418Z"
   },
   {
    "duration": 20,
    "start_time": "2021-08-19T09:14:35.431Z"
   },
   {
    "duration": 74,
    "start_time": "2021-08-19T09:14:35.452Z"
   },
   {
    "duration": 8,
    "start_time": "2021-08-19T09:14:35.528Z"
   },
   {
    "duration": 17,
    "start_time": "2021-08-19T09:14:35.538Z"
   },
   {
    "duration": 186,
    "start_time": "2021-08-19T09:14:35.557Z"
   },
   {
    "duration": 31,
    "start_time": "2021-08-19T09:14:35.745Z"
   },
   {
    "duration": 34,
    "start_time": "2021-08-19T09:14:35.778Z"
   },
   {
    "duration": 49,
    "start_time": "2021-08-19T09:14:35.814Z"
   },
   {
    "duration": 33,
    "start_time": "2021-08-19T09:14:35.865Z"
   },
   {
    "duration": 42,
    "start_time": "2021-08-19T09:14:35.900Z"
   },
   {
    "duration": 30,
    "start_time": "2021-08-19T09:14:35.943Z"
   },
   {
    "duration": 12,
    "start_time": "2021-08-19T09:14:35.974Z"
   },
   {
    "duration": 815,
    "start_time": "2021-08-19T09:14:39.774Z"
   },
   {
    "duration": 122,
    "start_time": "2021-08-19T09:14:41.207Z"
   },
   {
    "duration": 3,
    "start_time": "2021-08-19T09:15:48.952Z"
   },
   {
    "duration": 1166,
    "start_time": "2021-08-19T09:15:48.957Z"
   },
   {
    "duration": 123,
    "start_time": "2021-08-19T09:15:50.125Z"
   },
   {
    "duration": 3,
    "start_time": "2021-08-19T09:15:50.250Z"
   },
   {
    "duration": 24,
    "start_time": "2021-08-19T09:15:50.254Z"
   },
   {
    "duration": 8,
    "start_time": "2021-08-19T09:15:50.279Z"
   },
   {
    "duration": 22,
    "start_time": "2021-08-19T09:15:50.289Z"
   },
   {
    "duration": 125,
    "start_time": "2021-08-19T09:15:50.313Z"
   },
   {
    "duration": 86,
    "start_time": "2021-08-19T09:15:50.440Z"
   },
   {
    "duration": 15,
    "start_time": "2021-08-19T09:15:50.528Z"
   },
   {
    "duration": 43,
    "start_time": "2021-08-19T09:15:50.544Z"
   },
   {
    "duration": 8,
    "start_time": "2021-08-19T09:15:50.589Z"
   },
   {
    "duration": 21,
    "start_time": "2021-08-19T09:15:50.599Z"
   },
   {
    "duration": 60,
    "start_time": "2021-08-19T09:15:50.621Z"
   },
   {
    "duration": 101,
    "start_time": "2021-08-19T09:15:50.683Z"
   },
   {
    "duration": 20,
    "start_time": "2021-08-19T09:15:50.786Z"
   },
   {
    "duration": 43,
    "start_time": "2021-08-19T09:15:50.807Z"
   },
   {
    "duration": 79,
    "start_time": "2021-08-19T09:15:50.851Z"
   },
   {
    "duration": 11,
    "start_time": "2021-08-19T09:15:50.934Z"
   },
   {
    "duration": 23,
    "start_time": "2021-08-19T09:15:50.947Z"
   },
   {
    "duration": 30,
    "start_time": "2021-08-19T09:15:50.972Z"
   },
   {
    "duration": 102,
    "start_time": "2021-08-19T09:15:51.004Z"
   },
   {
    "duration": 814,
    "start_time": "2021-08-19T09:15:51.108Z"
   },
   {
    "duration": 99,
    "start_time": "2021-08-19T09:15:51.923Z"
   },
   {
    "duration": 27,
    "start_time": "2021-08-19T09:15:52.024Z"
   },
   {
    "duration": 43,
    "start_time": "2021-08-19T09:15:52.052Z"
   },
   {
    "duration": 279,
    "start_time": "2021-08-19T09:15:52.097Z"
   },
   {
    "duration": 64,
    "start_time": "2021-08-19T09:15:52.378Z"
   },
   {
    "duration": 110,
    "start_time": "2021-08-19T09:15:52.444Z"
   },
   {
    "duration": 20,
    "start_time": "2021-08-19T09:15:52.556Z"
   },
   {
    "duration": 229,
    "start_time": "2021-08-19T09:15:52.577Z"
   },
   {
    "duration": 99,
    "start_time": "2021-08-19T09:15:52.807Z"
   },
   {
    "duration": 215,
    "start_time": "2021-08-19T09:15:52.908Z"
   },
   {
    "duration": 98,
    "start_time": "2021-08-19T09:15:53.125Z"
   },
   {
    "duration": 25,
    "start_time": "2021-08-19T09:15:53.224Z"
   },
   {
    "duration": 41,
    "start_time": "2021-08-19T09:15:53.251Z"
   },
   {
    "duration": 99,
    "start_time": "2021-08-19T09:15:53.294Z"
   },
   {
    "duration": 162,
    "start_time": "2021-08-19T09:15:53.395Z"
   },
   {
    "duration": 99,
    "start_time": "2021-08-19T09:15:53.559Z"
   },
   {
    "duration": 31,
    "start_time": "2021-08-19T09:15:53.660Z"
   },
   {
    "duration": 95,
    "start_time": "2021-08-19T09:15:53.692Z"
   },
   {
    "duration": 7,
    "start_time": "2021-08-19T09:15:53.789Z"
   },
   {
    "duration": 15,
    "start_time": "2021-08-19T09:15:53.797Z"
   },
   {
    "duration": 108,
    "start_time": "2021-08-19T09:15:53.814Z"
   },
   {
    "duration": 105,
    "start_time": "2021-08-19T09:15:53.924Z"
   },
   {
    "duration": 13,
    "start_time": "2021-08-19T09:15:54.030Z"
   },
   {
    "duration": 193,
    "start_time": "2021-08-19T09:15:54.045Z"
   },
   {
    "duration": 5,
    "start_time": "2021-08-19T09:15:54.240Z"
   },
   {
    "duration": 19,
    "start_time": "2021-08-19T09:15:54.246Z"
   },
   {
    "duration": 188,
    "start_time": "2021-08-19T09:15:54.266Z"
   },
   {
    "duration": 6,
    "start_time": "2021-08-19T09:15:54.455Z"
   },
   {
    "duration": 45,
    "start_time": "2021-08-19T09:15:54.462Z"
   },
   {
    "duration": 66,
    "start_time": "2021-08-19T09:15:54.509Z"
   },
   {
    "duration": 4,
    "start_time": "2021-08-19T09:15:54.576Z"
   },
   {
    "duration": 30,
    "start_time": "2021-08-19T09:15:54.584Z"
   },
   {
    "duration": 21,
    "start_time": "2021-08-19T09:15:54.616Z"
   },
   {
    "duration": 88,
    "start_time": "2021-08-19T09:15:54.638Z"
   },
   {
    "duration": 22,
    "start_time": "2021-08-19T09:15:54.727Z"
   },
   {
    "duration": 28,
    "start_time": "2021-08-19T09:15:54.751Z"
   },
   {
    "duration": 201,
    "start_time": "2021-08-19T09:15:54.780Z"
   },
   {
    "duration": 30,
    "start_time": "2021-08-19T09:15:54.982Z"
   },
   {
    "duration": 47,
    "start_time": "2021-08-19T09:15:55.014Z"
   },
   {
    "duration": 45,
    "start_time": "2021-08-19T09:15:55.063Z"
   },
   {
    "duration": 50,
    "start_time": "2021-08-19T09:15:55.109Z"
   },
   {
    "duration": 57,
    "start_time": "2021-08-19T09:15:55.160Z"
   },
   {
    "duration": 51,
    "start_time": "2021-08-19T09:15:55.219Z"
   },
   {
    "duration": 28,
    "start_time": "2021-08-19T09:15:55.271Z"
   },
   {
    "duration": 842,
    "start_time": "2021-08-19T09:15:55.301Z"
   },
   {
    "duration": 127,
    "start_time": "2021-08-19T09:15:56.145Z"
   },
   {
    "duration": 2,
    "start_time": "2021-08-19T09:15:56.274Z"
   },
   {
    "duration": 866,
    "start_time": "2021-08-19T09:15:56.277Z"
   },
   {
    "duration": 14,
    "start_time": "2021-08-19T09:15:57.145Z"
   },
   {
    "duration": 127,
    "start_time": "2021-08-19T09:15:57.160Z"
   },
   {
    "duration": 39,
    "start_time": "2021-08-19T09:15:57.289Z"
   },
   {
    "duration": 10,
    "start_time": "2021-08-19T09:15:57.330Z"
   },
   {
    "duration": 15,
    "start_time": "2021-08-19T09:15:57.342Z"
   },
   {
    "duration": 47,
    "start_time": "2021-08-19T09:15:57.359Z"
   },
   {
    "duration": 205,
    "start_time": "2021-08-19T09:16:03.238Z"
   },
   {
    "duration": 16,
    "start_time": "2021-08-19T09:16:04.227Z"
   },
   {
    "duration": 3,
    "start_time": "2021-08-19T09:16:36.026Z"
   },
   {
    "duration": 123518,
    "start_time": "2021-08-19T09:16:36.923Z"
   },
   {
    "duration": 310,
    "start_time": "2021-08-19T09:19:58.614Z"
   },
   {
    "duration": 252,
    "start_time": "2021-08-19T09:21:22.535Z"
   },
   {
    "duration": 256,
    "start_time": "2021-08-19T09:22:51.493Z"
   },
   {
    "duration": 255,
    "start_time": "2021-08-19T09:23:01.993Z"
   },
   {
    "duration": 3,
    "start_time": "2021-08-19T09:23:08.885Z"
   },
   {
    "duration": 4,
    "start_time": "2021-08-19T09:23:10.460Z"
   },
   {
    "duration": 4,
    "start_time": "2021-08-19T09:23:36.678Z"
   },
   {
    "duration": 269,
    "start_time": "2021-08-19T09:24:25.501Z"
   },
   {
    "duration": 272,
    "start_time": "2021-08-19T09:26:19.028Z"
   },
   {
    "duration": 262,
    "start_time": "2021-08-19T09:26:31.503Z"
   },
   {
    "duration": 4,
    "start_time": "2021-08-19T09:27:32.003Z"
   },
   {
    "duration": 4,
    "start_time": "2021-08-19T09:27:38.452Z"
   },
   {
    "duration": 530,
    "start_time": "2021-08-19T09:28:39.276Z"
   },
   {
    "duration": 3,
    "start_time": "2021-08-19T09:28:45.460Z"
   },
   {
    "duration": 246433,
    "start_time": "2021-08-19T09:29:34.508Z"
   },
   {
    "duration": 304,
    "start_time": "2021-08-19T09:34:32.858Z"
   },
   {
    "duration": 3,
    "start_time": "2021-08-19T09:34:34.682Z"
   },
   {
    "duration": 3,
    "start_time": "2021-08-19T09:34:50.700Z"
   },
   {
    "duration": 4,
    "start_time": "2021-08-19T09:34:55.634Z"
   },
   {
    "duration": 4,
    "start_time": "2021-08-19T09:35:05.018Z"
   },
   {
    "duration": 4,
    "start_time": "2021-08-19T09:35:05.978Z"
   },
   {
    "duration": 4,
    "start_time": "2021-08-19T09:35:13.186Z"
   },
   {
    "duration": 4,
    "start_time": "2021-08-19T09:35:13.866Z"
   },
   {
    "duration": 305,
    "start_time": "2021-08-19T09:35:16.929Z"
   },
   {
    "duration": 138,
    "start_time": "2021-08-19T09:35:24.807Z"
   },
   {
    "duration": 4,
    "start_time": "2021-08-19T09:35:25.535Z"
   },
   {
    "duration": 3,
    "start_time": "2021-08-19T09:35:26.007Z"
   },
   {
    "duration": 264,
    "start_time": "2021-08-19T09:37:53.631Z"
   },
   {
    "duration": 3,
    "start_time": "2021-08-19T09:37:57.800Z"
   },
   {
    "duration": 249,
    "start_time": "2021-08-19T09:38:01.006Z"
   },
   {
    "duration": 3,
    "start_time": "2021-08-19T09:38:07.065Z"
   },
   {
    "duration": 3,
    "start_time": "2021-08-19T09:38:44.623Z"
   },
   {
    "duration": 4220,
    "start_time": "2021-08-19T09:39:03.439Z"
   },
   {
    "duration": 169,
    "start_time": "2021-08-19T09:39:11.656Z"
   },
   {
    "duration": 4,
    "start_time": "2021-08-19T09:39:12.382Z"
   },
   {
    "duration": 4,
    "start_time": "2021-08-19T09:39:12.991Z"
   },
   {
    "duration": 29584,
    "start_time": "2021-08-19T09:39:27.359Z"
   },
   {
    "duration": 166,
    "start_time": "2021-08-19T09:40:42.175Z"
   },
   {
    "duration": 4,
    "start_time": "2021-08-19T09:40:43.118Z"
   },
   {
    "duration": 3,
    "start_time": "2021-08-19T09:40:43.894Z"
   },
   {
    "duration": 3,
    "start_time": "2021-08-19T09:40:55.790Z"
   },
   {
    "duration": 30209,
    "start_time": "2021-08-19T09:40:56.634Z"
   },
   {
    "duration": 158,
    "start_time": "2021-08-19T09:41:28.886Z"
   },
   {
    "duration": 4,
    "start_time": "2021-08-19T09:41:29.792Z"
   },
   {
    "duration": 3,
    "start_time": "2021-08-19T09:41:30.473Z"
   },
   {
    "duration": 3,
    "start_time": "2021-08-19T09:41:59.325Z"
   },
   {
    "duration": 4,
    "start_time": "2021-08-19T09:42:14.934Z"
   },
   {
    "duration": 6,
    "start_time": "2021-08-19T09:42:30.317Z"
   },
   {
    "duration": 5700,
    "start_time": "2021-08-19T09:44:26.793Z"
   },
   {
    "duration": 2,
    "start_time": "2021-08-19T09:44:32.496Z"
   },
   {
    "duration": 41719,
    "start_time": "2021-08-19T09:44:33.934Z"
   },
   {
    "duration": 211,
    "start_time": "2021-08-19T09:45:18.646Z"
   },
   {
    "duration": 3,
    "start_time": "2021-08-19T09:45:19.596Z"
   },
   {
    "duration": 4,
    "start_time": "2021-08-19T09:45:20.045Z"
   },
   {
    "duration": 3,
    "start_time": "2021-08-19T09:45:27.580Z"
   },
   {
    "duration": 406377,
    "start_time": "2021-08-19T09:45:28.124Z"
   },
   {
    "duration": 633,
    "start_time": "2021-08-19T09:52:19.172Z"
   },
   {
    "duration": 4,
    "start_time": "2021-08-19T09:52:19.806Z"
   },
   {
    "duration": 4,
    "start_time": "2021-08-19T09:52:20.898Z"
   },
   {
    "duration": 8653,
    "start_time": "2021-08-19T09:55:41.835Z"
   },
   {
    "duration": 9599,
    "start_time": "2021-08-19T09:55:57.815Z"
   },
   {
    "duration": 19003,
    "start_time": "2021-08-19T09:56:22.531Z"
   },
   {
    "duration": 1015142,
    "start_time": "2021-08-19T09:56:47.412Z"
   },
   {
    "duration": 2752261,
    "start_time": "2021-08-19T10:54:18.024Z"
   },
   {
    "duration": 2315258,
    "start_time": "2021-08-19T11:47:09.556Z"
   },
   {
    "duration": 14,
    "start_time": "2021-08-19T12:25:44.816Z"
   },
   {
    "duration": 124497,
    "start_time": "2021-08-19T12:26:42.495Z"
   },
   {
    "duration": 262,
    "start_time": "2021-08-19T12:28:55.168Z"
   },
   {
    "duration": 19639,
    "start_time": "2021-08-19T12:29:09.728Z"
   },
   {
    "duration": 13128,
    "start_time": "2021-08-19T12:29:43.577Z"
   },
   {
    "duration": 128754,
    "start_time": "2021-08-19T12:30:02.216Z"
   },
   {
    "duration": 302,
    "start_time": "2021-08-19T12:34:09.432Z"
   },
   {
    "duration": 1448,
    "start_time": "2021-08-19T12:35:10.113Z"
   },
   {
    "duration": 1472,
    "start_time": "2021-08-19T12:35:11.563Z"
   },
   {
    "duration": 111,
    "start_time": "2021-08-19T12:35:13.037Z"
   },
   {
    "duration": 2,
    "start_time": "2021-08-19T12:35:13.150Z"
   },
   {
    "duration": 11,
    "start_time": "2021-08-19T12:35:13.154Z"
   },
   {
    "duration": 5,
    "start_time": "2021-08-19T12:35:13.166Z"
   },
   {
    "duration": 5,
    "start_time": "2021-08-19T12:35:13.172Z"
   },
   {
    "duration": 120,
    "start_time": "2021-08-19T12:35:13.179Z"
   },
   {
    "duration": 129,
    "start_time": "2021-08-19T12:35:13.303Z"
   },
   {
    "duration": 8,
    "start_time": "2021-08-19T12:35:13.434Z"
   },
   {
    "duration": 49,
    "start_time": "2021-08-19T12:35:13.443Z"
   },
   {
    "duration": 19,
    "start_time": "2021-08-19T12:35:13.494Z"
   },
   {
    "duration": 4,
    "start_time": "2021-08-19T12:35:13.514Z"
   },
   {
    "duration": 66,
    "start_time": "2021-08-19T12:35:13.520Z"
   },
   {
    "duration": 101,
    "start_time": "2021-08-19T12:35:13.588Z"
   },
   {
    "duration": 9,
    "start_time": "2021-08-19T12:35:13.691Z"
   },
   {
    "duration": 57,
    "start_time": "2021-08-19T12:35:13.701Z"
   },
   {
    "duration": 81,
    "start_time": "2021-08-19T12:35:13.760Z"
   },
   {
    "duration": 7,
    "start_time": "2021-08-19T12:35:13.843Z"
   },
   {
    "duration": 15,
    "start_time": "2021-08-19T12:35:13.851Z"
   },
   {
    "duration": 11,
    "start_time": "2021-08-19T12:35:13.867Z"
   },
   {
    "duration": 110,
    "start_time": "2021-08-19T12:35:13.880Z"
   },
   {
    "duration": 786,
    "start_time": "2021-08-19T12:35:13.992Z"
   },
   {
    "duration": 98,
    "start_time": "2021-08-19T12:35:14.779Z"
   },
   {
    "duration": 19,
    "start_time": "2021-08-19T12:35:14.878Z"
   },
   {
    "duration": 59,
    "start_time": "2021-08-19T12:35:14.898Z"
   },
   {
    "duration": 216,
    "start_time": "2021-08-19T12:35:14.961Z"
   },
   {
    "duration": 31,
    "start_time": "2021-08-19T12:35:15.179Z"
   },
   {
    "duration": 104,
    "start_time": "2021-08-19T12:35:15.212Z"
   },
   {
    "duration": 23,
    "start_time": "2021-08-19T12:35:15.318Z"
   },
   {
    "duration": 236,
    "start_time": "2021-08-19T12:35:15.343Z"
   },
   {
    "duration": 96,
    "start_time": "2021-08-19T12:35:15.580Z"
   },
   {
    "duration": 211,
    "start_time": "2021-08-19T12:35:15.678Z"
   },
   {
    "duration": 97,
    "start_time": "2021-08-19T12:35:15.890Z"
   },
   {
    "duration": 14,
    "start_time": "2021-08-19T12:35:15.988Z"
   },
   {
    "duration": 44,
    "start_time": "2021-08-19T12:35:16.004Z"
   },
   {
    "duration": 76,
    "start_time": "2021-08-19T12:35:16.049Z"
   },
   {
    "duration": 155,
    "start_time": "2021-08-19T12:35:16.126Z"
   },
   {
    "duration": 95,
    "start_time": "2021-08-19T12:35:16.283Z"
   },
   {
    "duration": 35,
    "start_time": "2021-08-19T12:35:16.380Z"
   },
   {
    "duration": 90,
    "start_time": "2021-08-19T12:35:16.416Z"
   },
   {
    "duration": 8,
    "start_time": "2021-08-19T12:35:16.507Z"
   },
   {
    "duration": 14,
    "start_time": "2021-08-19T12:35:16.516Z"
   },
   {
    "duration": 91,
    "start_time": "2021-08-19T12:35:16.541Z"
   },
   {
    "duration": 105,
    "start_time": "2021-08-19T12:35:16.641Z"
   },
   {
    "duration": 4,
    "start_time": "2021-08-19T12:35:16.748Z"
   },
   {
    "duration": 182,
    "start_time": "2021-08-19T12:35:16.753Z"
   },
   {
    "duration": 6,
    "start_time": "2021-08-19T12:35:16.937Z"
   },
   {
    "duration": 9,
    "start_time": "2021-08-19T12:35:16.944Z"
   },
   {
    "duration": 180,
    "start_time": "2021-08-19T12:35:16.955Z"
   },
   {
    "duration": 6,
    "start_time": "2021-08-19T12:35:17.137Z"
   },
   {
    "duration": 32,
    "start_time": "2021-08-19T12:35:17.145Z"
   },
   {
    "duration": 71,
    "start_time": "2021-08-19T12:35:17.179Z"
   },
   {
    "duration": 5,
    "start_time": "2021-08-19T12:35:17.251Z"
   },
   {
    "duration": 6,
    "start_time": "2021-08-19T12:35:17.258Z"
   },
   {
    "duration": 8,
    "start_time": "2021-08-19T12:35:17.266Z"
   },
   {
    "duration": 82,
    "start_time": "2021-08-19T12:35:17.275Z"
   },
   {
    "duration": 5,
    "start_time": "2021-08-19T12:35:17.358Z"
   },
   {
    "duration": 7,
    "start_time": "2021-08-19T12:35:17.365Z"
   },
   {
    "duration": 271,
    "start_time": "2021-08-19T12:35:17.374Z"
   },
   {
    "duration": 28,
    "start_time": "2021-08-19T12:35:17.647Z"
   },
   {
    "duration": 79,
    "start_time": "2021-08-19T12:35:17.677Z"
   },
   {
    "duration": 108,
    "start_time": "2021-08-19T12:35:17.758Z"
   },
   {
    "duration": 91,
    "start_time": "2021-08-19T12:35:17.868Z"
   },
   {
    "duration": 32,
    "start_time": "2021-08-19T12:35:17.961Z"
   },
   {
    "duration": 30,
    "start_time": "2021-08-19T12:35:17.995Z"
   },
   {
    "duration": 19,
    "start_time": "2021-08-19T12:35:18.041Z"
   },
   {
    "duration": 862,
    "start_time": "2021-08-19T12:35:18.062Z"
   },
   {
    "duration": 144,
    "start_time": "2021-08-19T12:35:18.926Z"
   },
   {
    "duration": 2,
    "start_time": "2021-08-19T12:35:19.072Z"
   },
   {
    "duration": 868,
    "start_time": "2021-08-19T12:35:19.076Z"
   },
   {
    "duration": 13,
    "start_time": "2021-08-19T12:35:19.945Z"
   },
   {
    "duration": 120,
    "start_time": "2021-08-19T12:35:19.959Z"
   },
   {
    "duration": 37,
    "start_time": "2021-08-19T12:35:20.080Z"
   },
   {
    "duration": 4,
    "start_time": "2021-08-19T12:35:20.119Z"
   },
   {
    "duration": 3,
    "start_time": "2021-08-19T12:35:20.141Z"
   },
   {
    "duration": 30,
    "start_time": "2021-08-19T12:35:20.146Z"
   },
   {
    "duration": 214,
    "start_time": "2021-08-19T12:35:20.178Z"
   },
   {
    "duration": 15,
    "start_time": "2021-08-19T12:35:20.394Z"
   },
   {
    "duration": 2,
    "start_time": "2021-08-19T12:35:20.411Z"
   },
   {
    "duration": 304,
    "start_time": "2021-08-19T12:35:20.419Z"
   },
   {
    "duration": -1027,
    "start_time": "2021-08-19T12:35:21.752Z"
   },
   {
    "duration": -1032,
    "start_time": "2021-08-19T12:35:21.758Z"
   },
   {
    "duration": -1036,
    "start_time": "2021-08-19T12:35:21.764Z"
   },
   {
    "duration": -1042,
    "start_time": "2021-08-19T12:35:21.771Z"
   },
   {
    "duration": -1046,
    "start_time": "2021-08-19T12:35:21.777Z"
   },
   {
    "duration": -1062,
    "start_time": "2021-08-19T12:35:21.794Z"
   },
   {
    "duration": 8436,
    "start_time": "2021-08-19T12:36:25.005Z"
   },
   {
    "duration": 154273,
    "start_time": "2021-08-19T12:36:39.640Z"
   },
   {
    "duration": 3,
    "start_time": "2021-08-19T12:39:33.074Z"
   },
   {
    "duration": 153587,
    "start_time": "2021-08-19T12:39:34.419Z"
   },
   {
    "duration": 177,
    "start_time": "2021-08-19T12:42:13.871Z"
   },
   {
    "duration": 4,
    "start_time": "2021-08-19T12:42:14.655Z"
   },
   {
    "duration": 4,
    "start_time": "2021-08-19T12:42:16.390Z"
   },
   {
    "duration": 8,
    "start_time": "2021-08-19T12:43:10.040Z"
   },
   {
    "duration": 11615,
    "start_time": "2021-08-19T12:43:11.183Z"
   },
   {
    "duration": 182,
    "start_time": "2021-08-19T12:43:24.703Z"
   },
   {
    "duration": 3,
    "start_time": "2021-08-19T12:43:25.608Z"
   },
   {
    "duration": 3,
    "start_time": "2021-08-19T12:43:26.207Z"
   },
   {
    "duration": 1986762,
    "start_time": "2021-08-19T12:44:29.080Z"
   },
   {
    "duration": 3,
    "start_time": "2021-08-19T13:18:05.589Z"
   },
   {
    "duration": 3,
    "start_time": "2021-08-19T13:18:06.607Z"
   },
   {
    "duration": 352,
    "start_time": "2021-08-19T13:18:07.431Z"
   },
   {
    "duration": 3,
    "start_time": "2021-08-19T13:18:53.486Z"
   },
   {
    "duration": 2,
    "start_time": "2021-08-19T13:18:54.078Z"
   },
   {
    "duration": 179,
    "start_time": "2021-08-19T13:18:55.686Z"
   },
   {
    "duration": 3,
    "start_time": "2021-08-19T13:19:21.846Z"
   },
   {
    "duration": 7,
    "start_time": "2021-08-19T13:19:22.440Z"
   },
   {
    "duration": 194,
    "start_time": "2021-08-19T13:19:23.174Z"
   },
   {
    "duration": 2,
    "start_time": "2021-08-19T13:19:59.696Z"
   },
   {
    "duration": 3,
    "start_time": "2021-08-19T13:20:00.231Z"
   },
   {
    "duration": 188,
    "start_time": "2021-08-19T13:20:00.766Z"
   },
   {
    "duration": 171,
    "start_time": "2021-08-19T13:20:17.325Z"
   },
   {
    "duration": 169,
    "start_time": "2021-08-19T13:20:24.254Z"
   },
   {
    "duration": 3,
    "start_time": "2021-08-19T13:21:26.254Z"
   },
   {
    "duration": 2,
    "start_time": "2021-08-19T13:21:26.798Z"
   },
   {
    "duration": 26423,
    "start_time": "2021-08-19T13:21:27.334Z"
   },
   {
    "duration": 3,
    "start_time": "2021-08-19T13:23:31.770Z"
   },
   {
    "duration": 3,
    "start_time": "2021-08-19T13:23:32.310Z"
   },
   {
    "duration": 29873,
    "start_time": "2021-08-19T13:23:32.678Z"
   },
   {
    "duration": 3,
    "start_time": "2021-08-19T13:26:59.123Z"
   },
   {
    "duration": 3,
    "start_time": "2021-08-19T13:26:59.586Z"
   },
   {
    "duration": 65120,
    "start_time": "2021-08-19T13:27:00.104Z"
   },
   {
    "duration": 3,
    "start_time": "2021-08-19T13:28:10.107Z"
   },
   {
    "duration": 3,
    "start_time": "2021-08-19T13:28:10.656Z"
   },
   {
    "duration": 235237,
    "start_time": "2021-08-19T13:28:11.513Z"
   },
   {
    "duration": 4,
    "start_time": "2021-08-19T14:19:00.242Z"
   },
   {
    "duration": 3,
    "start_time": "2021-08-19T14:19:00.743Z"
   },
   {
    "duration": 138411,
    "start_time": "2021-08-19T14:19:01.195Z"
   },
   {
    "duration": 2,
    "start_time": "2021-08-19T14:21:22.664Z"
   },
   {
    "duration": 2,
    "start_time": "2021-08-19T14:21:23.731Z"
   },
   {
    "duration": 21665,
    "start_time": "2021-08-19T14:21:24.151Z"
   },
   {
    "duration": 3,
    "start_time": "2021-08-19T14:23:51.981Z"
   },
   {
    "duration": 4,
    "start_time": "2021-08-19T14:23:52.645Z"
   },
   {
    "duration": 352597,
    "start_time": "2021-08-19T14:23:53.158Z"
   },
   {
    "duration": 4,
    "start_time": "2021-08-19T14:29:54.872Z"
   },
   {
    "duration": 1561,
    "start_time": "2021-08-19T14:29:54.877Z"
   },
   {
    "duration": 123,
    "start_time": "2021-08-19T14:29:56.440Z"
   },
   {
    "duration": 7,
    "start_time": "2021-08-19T14:29:56.565Z"
   },
   {
    "duration": 21,
    "start_time": "2021-08-19T14:29:56.573Z"
   },
   {
    "duration": 16,
    "start_time": "2021-08-19T14:29:56.596Z"
   },
   {
    "duration": 26,
    "start_time": "2021-08-19T14:29:56.614Z"
   },
   {
    "duration": 126,
    "start_time": "2021-08-19T14:29:56.642Z"
   },
   {
    "duration": 117,
    "start_time": "2021-08-19T14:29:56.770Z"
   },
   {
    "duration": 6,
    "start_time": "2021-08-19T14:29:56.888Z"
   },
   {
    "duration": 57,
    "start_time": "2021-08-19T14:29:56.896Z"
   },
   {
    "duration": 10,
    "start_time": "2021-08-19T14:29:56.954Z"
   },
   {
    "duration": 25,
    "start_time": "2021-08-19T14:29:56.965Z"
   },
   {
    "duration": 57,
    "start_time": "2021-08-19T14:29:56.992Z"
   },
   {
    "duration": 104,
    "start_time": "2021-08-19T14:29:57.052Z"
   },
   {
    "duration": 20,
    "start_time": "2021-08-19T14:29:57.158Z"
   },
   {
    "duration": 49,
    "start_time": "2021-08-19T14:29:57.180Z"
   },
   {
    "duration": 81,
    "start_time": "2021-08-19T14:29:57.230Z"
   },
   {
    "duration": 7,
    "start_time": "2021-08-19T14:29:57.314Z"
   },
   {
    "duration": 31,
    "start_time": "2021-08-19T14:29:57.323Z"
   },
   {
    "duration": 25,
    "start_time": "2021-08-19T14:29:57.356Z"
   },
   {
    "duration": 107,
    "start_time": "2021-08-19T14:29:57.383Z"
   },
   {
    "duration": 840,
    "start_time": "2021-08-19T14:29:57.491Z"
   },
   {
    "duration": 111,
    "start_time": "2021-08-19T14:29:58.333Z"
   },
   {
    "duration": 26,
    "start_time": "2021-08-19T14:29:58.446Z"
   },
   {
    "duration": 52,
    "start_time": "2021-08-19T14:29:58.473Z"
   },
   {
    "duration": 246,
    "start_time": "2021-08-19T14:29:58.526Z"
   },
   {
    "duration": 31,
    "start_time": "2021-08-19T14:29:58.774Z"
   },
   {
    "duration": 135,
    "start_time": "2021-08-19T14:29:58.806Z"
   },
   {
    "duration": 20,
    "start_time": "2021-08-19T14:29:58.943Z"
   },
   {
    "duration": 235,
    "start_time": "2021-08-19T14:29:58.965Z"
   },
   {
    "duration": 105,
    "start_time": "2021-08-19T14:29:59.202Z"
   },
   {
    "duration": 224,
    "start_time": "2021-08-19T14:29:59.309Z"
   },
   {
    "duration": 106,
    "start_time": "2021-08-19T14:29:59.535Z"
   },
   {
    "duration": 22,
    "start_time": "2021-08-19T14:29:59.646Z"
   },
   {
    "duration": 44,
    "start_time": "2021-08-19T14:29:59.669Z"
   },
   {
    "duration": 93,
    "start_time": "2021-08-19T14:29:59.714Z"
   },
   {
    "duration": 165,
    "start_time": "2021-08-19T14:29:59.809Z"
   },
   {
    "duration": 108,
    "start_time": "2021-08-19T14:29:59.975Z"
   },
   {
    "duration": 45,
    "start_time": "2021-08-19T14:30:00.084Z"
   },
   {
    "duration": 124,
    "start_time": "2021-08-19T14:30:00.131Z"
   },
   {
    "duration": 8,
    "start_time": "2021-08-19T14:30:00.257Z"
   },
   {
    "duration": 47,
    "start_time": "2021-08-19T14:30:00.266Z"
   },
   {
    "duration": 147,
    "start_time": "2021-08-19T14:30:00.315Z"
   },
   {
    "duration": 101,
    "start_time": "2021-08-19T14:30:00.464Z"
   },
   {
    "duration": 14,
    "start_time": "2021-08-19T14:30:00.566Z"
   },
   {
    "duration": 223,
    "start_time": "2021-08-19T14:30:00.581Z"
   },
   {
    "duration": 5,
    "start_time": "2021-08-19T14:30:00.805Z"
   },
   {
    "duration": 21,
    "start_time": "2021-08-19T14:30:00.812Z"
   },
   {
    "duration": 184,
    "start_time": "2021-08-19T14:30:00.835Z"
   },
   {
    "duration": 6,
    "start_time": "2021-08-19T14:30:01.021Z"
   },
   {
    "duration": 55,
    "start_time": "2021-08-19T14:30:01.028Z"
   },
   {
    "duration": 98,
    "start_time": "2021-08-19T14:30:01.085Z"
   },
   {
    "duration": 4,
    "start_time": "2021-08-19T14:30:01.184Z"
   },
   {
    "duration": 62,
    "start_time": "2021-08-19T14:30:01.193Z"
   },
   {
    "duration": 25,
    "start_time": "2021-08-19T14:30:01.258Z"
   },
   {
    "duration": 106,
    "start_time": "2021-08-19T14:30:01.285Z"
   },
   {
    "duration": 20,
    "start_time": "2021-08-19T14:30:01.393Z"
   },
   {
    "duration": 38,
    "start_time": "2021-08-19T14:30:01.415Z"
   },
   {
    "duration": 227,
    "start_time": "2021-08-19T14:30:01.455Z"
   },
   {
    "duration": 32,
    "start_time": "2021-08-19T14:30:01.684Z"
   },
   {
    "duration": 79,
    "start_time": "2021-08-19T14:30:01.718Z"
   },
   {
    "duration": 61,
    "start_time": "2021-08-19T14:30:01.799Z"
   },
   {
    "duration": 66,
    "start_time": "2021-08-19T14:30:01.862Z"
   },
   {
    "duration": 71,
    "start_time": "2021-08-19T14:30:01.929Z"
   },
   {
    "duration": 101,
    "start_time": "2021-08-19T14:30:02.002Z"
   },
   {
    "duration": 33,
    "start_time": "2021-08-19T14:30:02.105Z"
   },
   {
    "duration": 942,
    "start_time": "2021-08-19T14:30:02.140Z"
   },
   {
    "duration": 126,
    "start_time": "2021-08-19T14:30:03.084Z"
   },
   {
    "duration": 3,
    "start_time": "2021-08-19T14:30:03.212Z"
   },
   {
    "duration": 1825,
    "start_time": "2021-08-19T14:30:03.216Z"
   },
   {
    "duration": 15,
    "start_time": "2021-08-19T14:30:05.043Z"
   },
   {
    "duration": 104,
    "start_time": "2021-08-19T14:30:05.061Z"
   },
   {
    "duration": 22,
    "start_time": "2021-08-19T14:30:05.166Z"
   },
   {
    "duration": 22,
    "start_time": "2021-08-19T14:30:05.189Z"
   },
   {
    "duration": 3,
    "start_time": "2021-08-19T14:30:05.212Z"
   },
   {
    "duration": 13,
    "start_time": "2021-08-19T14:30:05.217Z"
   },
   {
    "duration": 49,
    "start_time": "2021-08-19T14:30:05.231Z"
   },
   {
    "duration": 195,
    "start_time": "2021-08-19T14:30:05.282Z"
   },
   {
    "duration": 17,
    "start_time": "2021-08-19T14:30:05.480Z"
   },
   {
    "duration": 10,
    "start_time": "2021-08-19T14:30:05.499Z"
   },
   {
    "duration": 26,
    "start_time": "2021-08-19T14:30:05.510Z"
   },
   {
    "duration": 29,
    "start_time": "2021-08-19T14:30:05.538Z"
   },
   {
    "duration": 20,
    "start_time": "2021-08-19T14:30:05.569Z"
   },
   {
    "duration": 14,
    "start_time": "2021-08-19T14:30:05.591Z"
   },
   {
    "duration": 12,
    "start_time": "2021-08-19T14:30:05.606Z"
   },
   {
    "duration": 14,
    "start_time": "2021-08-19T14:30:05.620Z"
   },
   {
    "duration": 9027,
    "start_time": "2021-08-19T14:30:05.635Z"
   },
   {
    "duration": 157,
    "start_time": "2021-08-19T14:30:14.663Z"
   },
   {
    "duration": 3,
    "start_time": "2021-08-19T14:30:14.822Z"
   },
   {
    "duration": 43,
    "start_time": "2021-08-19T14:30:14.826Z"
   },
   {
    "duration": 27,
    "start_time": "2021-08-19T14:30:14.871Z"
   },
   {
    "duration": 40,
    "start_time": "2021-08-19T14:30:14.900Z"
   },
   {
    "duration": 521419,
    "start_time": "2021-08-19T14:30:14.942Z"
   },
   {
    "duration": 1120,
    "start_time": "2021-08-19T14:38:56.363Z"
   },
   {
    "duration": 3,
    "start_time": "2021-08-19T14:38:57.485Z"
   },
   {
    "duration": 7,
    "start_time": "2021-08-19T14:38:57.489Z"
   },
   {
    "duration": 6,
    "start_time": "2021-08-19T14:38:57.497Z"
   },
   {
    "duration": 319,
    "start_time": "2021-08-19T14:38:57.505Z"
   },
   {
    "duration": -431,
    "start_time": "2021-08-19T14:38:58.257Z"
   },
   {
    "duration": -438,
    "start_time": "2021-08-19T14:38:58.265Z"
   },
   {
    "duration": -444,
    "start_time": "2021-08-19T14:38:58.272Z"
   },
   {
    "duration": -451,
    "start_time": "2021-08-19T14:38:58.280Z"
   },
   {
    "duration": -459,
    "start_time": "2021-08-19T14:38:58.289Z"
   },
   {
    "duration": 1140,
    "start_time": "2021-08-19T14:39:29.638Z"
   },
   {
    "duration": 9,
    "start_time": "2021-08-19T14:39:31.550Z"
   },
   {
    "duration": 4,
    "start_time": "2021-08-19T14:39:32.375Z"
   },
   {
    "duration": 3,
    "start_time": "2021-08-19T14:39:46.325Z"
   },
   {
    "duration": 4,
    "start_time": "2021-08-19T14:39:55.320Z"
   },
   {
    "duration": 257,
    "start_time": "2021-08-19T14:41:36.865Z"
   },
   {
    "duration": 8,
    "start_time": "2021-08-19T14:41:48.859Z"
   },
   {
    "duration": 6,
    "start_time": "2021-08-19T14:42:09.719Z"
   },
   {
    "duration": 3,
    "start_time": "2021-08-19T14:42:33.150Z"
   },
   {
    "duration": 27374,
    "start_time": "2021-08-19T14:42:33.573Z"
   },
   {
    "duration": 141,
    "start_time": "2021-08-19T14:43:03.201Z"
   },
   {
    "duration": 4,
    "start_time": "2021-08-19T14:43:04.456Z"
   },
   {
    "duration": 4,
    "start_time": "2021-08-19T14:43:04.769Z"
   },
   {
    "duration": 3,
    "start_time": "2021-08-19T14:43:49.505Z"
   },
   {
    "duration": 3,
    "start_time": "2021-08-19T14:43:50.669Z"
   },
   {
    "duration": 198116,
    "start_time": "2021-08-19T14:43:53.351Z"
   },
   {
    "duration": 249,
    "start_time": "2021-08-19T14:50:53.758Z"
   },
   {
    "duration": 8912,
    "start_time": "2021-08-19T14:51:32.345Z"
   },
   {
    "duration": 3,
    "start_time": "2021-08-19T14:51:50.918Z"
   },
   {
    "duration": 3,
    "start_time": "2021-08-19T14:51:56.007Z"
   },
   {
    "duration": 8898,
    "start_time": "2021-08-19T14:52:13.357Z"
   },
   {
    "duration": 138,
    "start_time": "2021-08-19T14:53:05.126Z"
   },
   {
    "duration": 1039,
    "start_time": "2021-08-19T14:53:10.613Z"
   },
   {
    "duration": 4,
    "start_time": "2021-08-20T06:38:10.559Z"
   },
   {
    "duration": 198,
    "start_time": "2021-08-20T06:38:23.524Z"
   },
   {
    "duration": 14,
    "start_time": "2021-08-20T06:38:36.151Z"
   },
   {
    "duration": 4,
    "start_time": "2021-08-20T06:38:59.838Z"
   },
   {
    "duration": 1928,
    "start_time": "2021-08-20T07:16:50.560Z"
   },
   {
    "duration": 2288,
    "start_time": "2021-08-20T07:16:52.491Z"
   },
   {
    "duration": 155,
    "start_time": "2021-08-20T07:16:54.785Z"
   },
   {
    "duration": 3,
    "start_time": "2021-08-20T07:16:54.943Z"
   },
   {
    "duration": 14,
    "start_time": "2021-08-20T07:16:54.949Z"
   },
   {
    "duration": 31,
    "start_time": "2021-08-20T07:16:54.965Z"
   },
   {
    "duration": 14,
    "start_time": "2021-08-20T07:16:54.999Z"
   },
   {
    "duration": 168,
    "start_time": "2021-08-20T07:16:55.017Z"
   },
   {
    "duration": 180,
    "start_time": "2021-08-20T07:16:55.188Z"
   },
   {
    "duration": 20,
    "start_time": "2021-08-20T07:16:55.370Z"
   },
   {
    "duration": 68,
    "start_time": "2021-08-20T07:16:55.392Z"
   },
   {
    "duration": 39,
    "start_time": "2021-08-20T07:16:55.462Z"
   },
   {
    "duration": 6,
    "start_time": "2021-08-20T07:16:55.503Z"
   },
   {
    "duration": 98,
    "start_time": "2021-08-20T07:16:55.511Z"
   },
   {
    "duration": 134,
    "start_time": "2021-08-20T07:16:55.612Z"
   },
   {
    "duration": 37,
    "start_time": "2021-08-20T07:16:55.749Z"
   },
   {
    "duration": 289,
    "start_time": "2021-08-20T07:17:09.937Z"
   },
   {
    "duration": 6,
    "start_time": "2021-08-20T07:17:23.582Z"
   },
   {
    "duration": 2808,
    "start_time": "2021-08-20T07:17:23.590Z"
   },
   {
    "duration": 160,
    "start_time": "2021-08-20T07:17:26.401Z"
   },
   {
    "duration": 4,
    "start_time": "2021-08-20T07:17:26.563Z"
   },
   {
    "duration": 9,
    "start_time": "2021-08-20T07:17:26.570Z"
   },
   {
    "duration": 6,
    "start_time": "2021-08-20T07:17:26.585Z"
   },
   {
    "duration": 14,
    "start_time": "2021-08-20T07:17:26.594Z"
   },
   {
    "duration": 160,
    "start_time": "2021-08-20T07:17:26.610Z"
   },
   {
    "duration": 120,
    "start_time": "2021-08-20T07:17:26.772Z"
   },
   {
    "duration": 11,
    "start_time": "2021-08-20T07:17:26.895Z"
   },
   {
    "duration": 66,
    "start_time": "2021-08-20T07:17:26.909Z"
   },
   {
    "duration": 14,
    "start_time": "2021-08-20T07:17:26.985Z"
   },
   {
    "duration": 6,
    "start_time": "2021-08-20T07:17:27.001Z"
   },
   {
    "duration": 81,
    "start_time": "2021-08-20T07:17:27.009Z"
   },
   {
    "duration": 135,
    "start_time": "2021-08-20T07:17:27.093Z"
   },
   {
    "duration": 16,
    "start_time": "2021-08-20T07:17:27.230Z"
   },
   {
    "duration": 256,
    "start_time": "2021-08-20T07:17:38.557Z"
   },
   {
    "duration": 7,
    "start_time": "2021-08-20T07:19:00.658Z"
   },
   {
    "duration": 4347,
    "start_time": "2021-08-20T07:19:00.668Z"
   },
   {
    "duration": 168,
    "start_time": "2021-08-20T07:19:05.018Z"
   },
   {
    "duration": 4,
    "start_time": "2021-08-20T07:19:05.189Z"
   },
   {
    "duration": 12,
    "start_time": "2021-08-20T07:19:05.196Z"
   },
   {
    "duration": 11,
    "start_time": "2021-08-20T07:19:05.211Z"
   },
   {
    "duration": 10,
    "start_time": "2021-08-20T07:19:05.226Z"
   },
   {
    "duration": 188,
    "start_time": "2021-08-20T07:19:05.239Z"
   },
   {
    "duration": 136,
    "start_time": "2021-08-20T07:19:05.430Z"
   },
   {
    "duration": 18,
    "start_time": "2021-08-20T07:19:05.569Z"
   },
   {
    "duration": 77,
    "start_time": "2021-08-20T07:19:05.590Z"
   },
   {
    "duration": 20,
    "start_time": "2021-08-20T07:19:05.670Z"
   },
   {
    "duration": 12,
    "start_time": "2021-08-20T07:19:05.693Z"
   },
   {
    "duration": 105,
    "start_time": "2021-08-20T07:19:05.709Z"
   },
   {
    "duration": 143,
    "start_time": "2021-08-20T07:19:05.817Z"
   },
   {
    "duration": 29,
    "start_time": "2021-08-20T07:19:05.963Z"
   },
   {
    "duration": 82,
    "start_time": "2021-08-20T07:19:10.638Z"
   },
   {
    "duration": 72,
    "start_time": "2021-08-20T07:19:20.958Z"
   },
   {
    "duration": 5,
    "start_time": "2021-08-20T07:19:34.185Z"
   },
   {
    "duration": 1935,
    "start_time": "2021-08-20T07:19:34.196Z"
   },
   {
    "duration": 167,
    "start_time": "2021-08-20T07:19:36.134Z"
   },
   {
    "duration": 4,
    "start_time": "2021-08-20T07:19:36.305Z"
   },
   {
    "duration": 8,
    "start_time": "2021-08-20T07:19:36.312Z"
   },
   {
    "duration": 11,
    "start_time": "2021-08-20T07:19:36.323Z"
   },
   {
    "duration": 9,
    "start_time": "2021-08-20T07:19:36.336Z"
   },
   {
    "duration": 193,
    "start_time": "2021-08-20T07:19:36.347Z"
   },
   {
    "duration": 170,
    "start_time": "2021-08-20T07:19:36.544Z"
   },
   {
    "duration": 14,
    "start_time": "2021-08-20T07:19:36.717Z"
   },
   {
    "duration": 103,
    "start_time": "2021-08-20T07:19:36.733Z"
   },
   {
    "duration": 18,
    "start_time": "2021-08-20T07:19:36.839Z"
   },
   {
    "duration": 27,
    "start_time": "2021-08-20T07:19:36.860Z"
   },
   {
    "duration": 102,
    "start_time": "2021-08-20T07:19:36.890Z"
   },
   {
    "duration": 137,
    "start_time": "2021-08-20T07:19:36.994Z"
   },
   {
    "duration": 13,
    "start_time": "2021-08-20T07:19:37.134Z"
   },
   {
    "duration": 10,
    "start_time": "2021-08-20T07:19:53.799Z"
   },
   {
    "duration": 7,
    "start_time": "2021-08-20T07:20:06.648Z"
   },
   {
    "duration": 3283,
    "start_time": "2021-08-20T07:20:06.659Z"
   },
   {
    "duration": 233,
    "start_time": "2021-08-20T07:20:09.945Z"
   },
   {
    "duration": 5,
    "start_time": "2021-08-20T07:20:10.184Z"
   },
   {
    "duration": 21,
    "start_time": "2021-08-20T07:20:10.192Z"
   },
   {
    "duration": 5,
    "start_time": "2021-08-20T07:20:10.215Z"
   },
   {
    "duration": 8,
    "start_time": "2021-08-20T07:20:10.224Z"
   },
   {
    "duration": 175,
    "start_time": "2021-08-20T07:20:10.235Z"
   },
   {
    "duration": 134,
    "start_time": "2021-08-20T07:20:10.412Z"
   },
   {
    "duration": 13,
    "start_time": "2021-08-20T07:20:10.549Z"
   },
   {
    "duration": 83,
    "start_time": "2021-08-20T07:20:10.565Z"
   },
   {
    "duration": 37,
    "start_time": "2021-08-20T07:20:10.650Z"
   },
   {
    "duration": 7,
    "start_time": "2021-08-20T07:20:10.689Z"
   },
   {
    "duration": 100,
    "start_time": "2021-08-20T07:20:10.698Z"
   },
   {
    "duration": 140,
    "start_time": "2021-08-20T07:20:10.800Z"
   },
   {
    "duration": 12,
    "start_time": "2021-08-20T07:20:10.943Z"
   },
   {
    "duration": 13,
    "start_time": "2021-08-20T07:21:04.519Z"
   },
   {
    "duration": 9,
    "start_time": "2021-08-20T07:21:20.056Z"
   },
   {
    "duration": 9,
    "start_time": "2021-08-20T07:22:50.389Z"
   },
   {
    "duration": 10,
    "start_time": "2021-08-20T07:23:29.108Z"
   },
   {
    "duration": 10,
    "start_time": "2021-08-20T07:24:05.171Z"
   },
   {
    "duration": 3,
    "start_time": "2021-08-20T07:24:06.412Z"
   },
   {
    "duration": 568,
    "start_time": "2021-08-20T07:36:34.289Z"
   },
   {
    "duration": 15,
    "start_time": "2021-08-20T07:37:13.097Z"
   },
   {
    "duration": 16,
    "start_time": "2021-08-20T07:37:21.503Z"
   },
   {
    "duration": 15,
    "start_time": "2021-08-20T07:37:33.072Z"
   },
   {
    "duration": 14,
    "start_time": "2021-08-20T07:37:49.266Z"
   },
   {
    "duration": 15,
    "start_time": "2021-08-20T07:38:18.623Z"
   },
   {
    "duration": 5,
    "start_time": "2021-08-20T07:38:25.900Z"
   },
   {
    "duration": 66024,
    "start_time": "2021-08-20T07:38:25.908Z"
   },
   {
    "duration": -1012,
    "start_time": "2021-08-20T07:39:32.948Z"
   },
   {
    "duration": -1024,
    "start_time": "2021-08-20T07:39:32.961Z"
   },
   {
    "duration": -1033,
    "start_time": "2021-08-20T07:39:32.972Z"
   },
   {
    "duration": -1038,
    "start_time": "2021-08-20T07:39:32.978Z"
   },
   {
    "duration": -1045,
    "start_time": "2021-08-20T07:39:32.987Z"
   },
   {
    "duration": -1050,
    "start_time": "2021-08-20T07:39:32.993Z"
   },
   {
    "duration": -1069,
    "start_time": "2021-08-20T07:39:33.013Z"
   },
   {
    "duration": -1072,
    "start_time": "2021-08-20T07:39:33.018Z"
   },
   {
    "duration": -1079,
    "start_time": "2021-08-20T07:39:33.026Z"
   },
   {
    "duration": 6,
    "start_time": "2021-08-20T07:39:37.948Z"
   },
   {
    "duration": 1752,
    "start_time": "2021-08-20T07:39:37.957Z"
   },
   {
    "duration": 159,
    "start_time": "2021-08-20T07:39:39.712Z"
   },
   {
    "duration": 4,
    "start_time": "2021-08-20T07:39:39.873Z"
   },
   {
    "duration": 18,
    "start_time": "2021-08-20T07:39:39.886Z"
   },
   {
    "duration": 9,
    "start_time": "2021-08-20T07:39:39.907Z"
   },
   {
    "duration": 9,
    "start_time": "2021-08-20T07:39:39.919Z"
   },
   {
    "duration": 193,
    "start_time": "2021-08-20T07:39:39.931Z"
   },
   {
    "duration": 132,
    "start_time": "2021-08-20T07:39:40.127Z"
   },
   {
    "duration": 11,
    "start_time": "2021-08-20T07:39:40.262Z"
   },
   {
    "duration": 60,
    "start_time": "2021-08-20T07:39:40.286Z"
   },
   {
    "duration": 14,
    "start_time": "2021-08-20T07:39:43.486Z"
   },
   {
    "duration": 14,
    "start_time": "2021-08-20T07:39:54.338Z"
   },
   {
    "duration": 14,
    "start_time": "2021-08-20T07:40:05.889Z"
   },
   {
    "duration": 88,
    "start_time": "2021-08-20T07:43:23.572Z"
   },
   {
    "duration": 187,
    "start_time": "2021-08-20T07:43:36.360Z"
   },
   {
    "duration": 63,
    "start_time": "2021-08-20T07:43:45.021Z"
   },
   {
    "duration": 17,
    "start_time": "2021-08-20T07:43:52.925Z"
   },
   {
    "duration": 16,
    "start_time": "2021-08-20T07:44:31.786Z"
   },
   {
    "duration": 16,
    "start_time": "2021-08-20T07:44:53.668Z"
   },
   {
    "duration": 65,
    "start_time": "2021-08-20T07:45:05.281Z"
   },
   {
    "duration": 132,
    "start_time": "2021-08-20T07:45:05.939Z"
   },
   {
    "duration": 60,
    "start_time": "2021-08-20T07:45:13.542Z"
   },
   {
    "duration": 143,
    "start_time": "2021-08-20T07:45:14.603Z"
   },
   {
    "duration": 12,
    "start_time": "2021-08-20T07:46:20.019Z"
   },
   {
    "duration": 12,
    "start_time": "2021-08-20T07:46:25.011Z"
   },
   {
    "duration": 64,
    "start_time": "2021-08-20T07:46:41.947Z"
   },
   {
    "duration": 100,
    "start_time": "2021-08-20T07:46:42.569Z"
   },
   {
    "duration": 20,
    "start_time": "2021-08-20T07:50:45.471Z"
   },
   {
    "duration": 17,
    "start_time": "2021-08-20T07:50:46.991Z"
   },
   {
    "duration": 132,
    "start_time": "2021-08-20T07:53:21.523Z"
   },
   {
    "duration": 143,
    "start_time": "2021-08-20T07:57:03.550Z"
   },
   {
    "duration": 528,
    "start_time": "2021-08-20T07:57:09.845Z"
   },
   {
    "duration": 130,
    "start_time": "2021-08-20T07:57:11.411Z"
   },
   {
    "duration": 882,
    "start_time": "2021-08-20T07:57:22.903Z"
   },
   {
    "duration": 133,
    "start_time": "2021-08-20T07:57:23.967Z"
   },
   {
    "duration": 1218,
    "start_time": "2021-08-20T07:57:32.604Z"
   },
   {
    "duration": 136,
    "start_time": "2021-08-20T07:57:34.138Z"
   },
   {
    "duration": 1344,
    "start_time": "2021-08-20T07:57:53.667Z"
   },
   {
    "duration": 141,
    "start_time": "2021-08-20T07:57:55.014Z"
   },
   {
    "duration": 1551,
    "start_time": "2021-08-20T07:58:08.699Z"
   },
   {
    "duration": 143,
    "start_time": "2021-08-20T07:58:10.253Z"
   },
   {
    "duration": 1671,
    "start_time": "2021-08-20T07:58:33.679Z"
   },
   {
    "duration": 140,
    "start_time": "2021-08-20T07:58:35.352Z"
   },
   {
    "duration": 1655,
    "start_time": "2021-08-20T07:58:49.408Z"
   },
   {
    "duration": 148,
    "start_time": "2021-08-20T07:58:51.066Z"
   },
   {
    "duration": 5,
    "start_time": "2021-08-20T08:00:15.465Z"
   },
   {
    "duration": 3619,
    "start_time": "2021-08-20T08:00:15.472Z"
   },
   {
    "duration": 175,
    "start_time": "2021-08-20T08:00:19.094Z"
   },
   {
    "duration": 4,
    "start_time": "2021-08-20T08:00:19.272Z"
   },
   {
    "duration": 5,
    "start_time": "2021-08-20T08:00:19.286Z"
   },
   {
    "duration": 12,
    "start_time": "2021-08-20T08:00:19.294Z"
   },
   {
    "duration": 9,
    "start_time": "2021-08-20T08:00:19.309Z"
   },
   {
    "duration": 183,
    "start_time": "2021-08-20T08:00:19.321Z"
   },
   {
    "duration": 120,
    "start_time": "2021-08-20T08:00:19.507Z"
   },
   {
    "duration": 13,
    "start_time": "2021-08-20T08:00:19.629Z"
   },
   {
    "duration": 96,
    "start_time": "2021-08-20T08:00:19.644Z"
   },
   {
    "duration": 22,
    "start_time": "2021-08-20T08:00:19.742Z"
   },
   {
    "duration": 22,
    "start_time": "2021-08-20T08:00:19.767Z"
   },
   {
    "duration": 34,
    "start_time": "2021-08-20T08:00:19.791Z"
   },
   {
    "duration": 85,
    "start_time": "2021-08-20T08:00:19.827Z"
   },
   {
    "duration": 140,
    "start_time": "2021-08-20T08:00:19.915Z"
   },
   {
    "duration": 12,
    "start_time": "2021-08-20T08:00:20.058Z"
   },
   {
    "duration": 21,
    "start_time": "2021-08-20T08:00:20.072Z"
   },
   {
    "duration": 87,
    "start_time": "2021-08-20T08:00:20.098Z"
   },
   {
    "duration": 115,
    "start_time": "2021-08-20T08:00:20.188Z"
   },
   {
    "duration": 12,
    "start_time": "2021-08-20T08:00:20.305Z"
   },
   {
    "duration": 15,
    "start_time": "2021-08-20T08:00:20.319Z"
   },
   {
    "duration": 16,
    "start_time": "2021-08-20T08:00:20.337Z"
   },
   {
    "duration": 136,
    "start_time": "2021-08-20T08:00:20.386Z"
   },
   {
    "duration": 1783,
    "start_time": "2021-08-20T08:01:35.995Z"
   },
   {
    "duration": 5,
    "start_time": "2021-08-20T08:02:09.532Z"
   },
   {
    "duration": 3692,
    "start_time": "2021-08-20T08:02:09.544Z"
   },
   {
    "duration": 166,
    "start_time": "2021-08-20T08:02:13.239Z"
   },
   {
    "duration": 3,
    "start_time": "2021-08-20T08:02:13.408Z"
   },
   {
    "duration": 17,
    "start_time": "2021-08-20T08:02:13.414Z"
   },
   {
    "duration": 14,
    "start_time": "2021-08-20T08:02:13.433Z"
   },
   {
    "duration": 14,
    "start_time": "2021-08-20T08:02:13.449Z"
   },
   {
    "duration": 173,
    "start_time": "2021-08-20T08:02:13.465Z"
   },
   {
    "duration": 129,
    "start_time": "2021-08-20T08:02:13.642Z"
   },
   {
    "duration": 20,
    "start_time": "2021-08-20T08:02:13.773Z"
   },
   {
    "duration": 68,
    "start_time": "2021-08-20T08:02:13.795Z"
   },
   {
    "duration": 38,
    "start_time": "2021-08-20T08:02:13.866Z"
   },
   {
    "duration": 7,
    "start_time": "2021-08-20T08:02:13.906Z"
   },
   {
    "duration": 27,
    "start_time": "2021-08-20T08:02:13.916Z"
   },
   {
    "duration": 110,
    "start_time": "2021-08-20T08:02:13.946Z"
   },
   {
    "duration": 139,
    "start_time": "2021-08-20T08:02:14.058Z"
   },
   {
    "duration": 12,
    "start_time": "2021-08-20T08:02:14.200Z"
   },
   {
    "duration": 9,
    "start_time": "2021-08-20T08:02:14.214Z"
   },
   {
    "duration": 100,
    "start_time": "2021-08-20T08:02:14.225Z"
   },
   {
    "duration": 111,
    "start_time": "2021-08-20T08:02:14.328Z"
   },
   {
    "duration": 12,
    "start_time": "2021-08-20T08:02:14.442Z"
   },
   {
    "duration": 35,
    "start_time": "2021-08-20T08:02:14.456Z"
   },
   {
    "duration": 18,
    "start_time": "2021-08-20T08:02:14.494Z"
   },
   {
    "duration": 149,
    "start_time": "2021-08-20T08:02:14.516Z"
   },
   {
    "duration": 1860,
    "start_time": "2021-08-20T08:02:30.771Z"
   },
   {
    "duration": 5,
    "start_time": "2021-08-20T08:04:28.726Z"
   },
   {
    "duration": 3386,
    "start_time": "2021-08-20T08:04:28.734Z"
   },
   {
    "duration": 169,
    "start_time": "2021-08-20T08:04:32.123Z"
   },
   {
    "duration": 4,
    "start_time": "2021-08-20T08:04:32.294Z"
   },
   {
    "duration": 19,
    "start_time": "2021-08-20T08:04:32.300Z"
   },
   {
    "duration": 16,
    "start_time": "2021-08-20T08:04:32.321Z"
   },
   {
    "duration": 15,
    "start_time": "2021-08-20T08:04:32.340Z"
   },
   {
    "duration": 203,
    "start_time": "2021-08-20T08:04:32.358Z"
   },
   {
    "duration": 123,
    "start_time": "2021-08-20T08:04:32.564Z"
   },
   {
    "duration": 11,
    "start_time": "2021-08-20T08:04:32.689Z"
   },
   {
    "duration": 87,
    "start_time": "2021-08-20T08:04:32.703Z"
   },
   {
    "duration": 21,
    "start_time": "2021-08-20T08:04:32.793Z"
   },
   {
    "duration": 7,
    "start_time": "2021-08-20T08:04:32.816Z"
   },
   {
    "duration": 30,
    "start_time": "2021-08-20T08:04:32.826Z"
   },
   {
    "duration": 99,
    "start_time": "2021-08-20T08:04:32.859Z"
   },
   {
    "duration": 142,
    "start_time": "2021-08-20T08:04:32.960Z"
   },
   {
    "duration": 76,
    "start_time": "2021-08-20T08:04:33.104Z"
   },
   {
    "duration": 36,
    "start_time": "2021-08-20T08:04:33.182Z"
   },
   {
    "duration": 83,
    "start_time": "2021-08-20T08:04:33.222Z"
   },
   {
    "duration": 109,
    "start_time": "2021-08-20T08:04:33.307Z"
   },
   {
    "duration": 12,
    "start_time": "2021-08-20T08:04:33.418Z"
   },
   {
    "duration": 63,
    "start_time": "2021-08-20T08:04:33.432Z"
   },
   {
    "duration": 27,
    "start_time": "2021-08-20T08:04:33.497Z"
   },
   {
    "duration": 7,
    "start_time": "2021-08-20T08:04:56.262Z"
   },
   {
    "duration": 4,
    "start_time": "2021-08-20T08:05:06.270Z"
   },
   {
    "duration": 224,
    "start_time": "2021-08-20T08:05:15.774Z"
   },
   {
    "duration": 115,
    "start_time": "2021-08-20T08:05:44.999Z"
   },
   {
    "duration": 119,
    "start_time": "2021-08-20T08:06:36.822Z"
   },
   {
    "duration": 111,
    "start_time": "2021-08-20T08:07:14.601Z"
   },
   {
    "duration": 20,
    "start_time": "2021-08-20T08:23:40.778Z"
   },
   {
    "duration": 377,
    "start_time": "2021-08-20T08:27:09.134Z"
   },
   {
    "duration": 6,
    "start_time": "2021-08-20T08:27:19.402Z"
   },
   {
    "duration": 5219,
    "start_time": "2021-08-20T08:27:19.410Z"
   },
   {
    "duration": 160,
    "start_time": "2021-08-20T08:27:24.632Z"
   },
   {
    "duration": 4,
    "start_time": "2021-08-20T08:27:24.795Z"
   },
   {
    "duration": 10,
    "start_time": "2021-08-20T08:27:24.802Z"
   },
   {
    "duration": 7,
    "start_time": "2021-08-20T08:27:24.814Z"
   },
   {
    "duration": 5,
    "start_time": "2021-08-20T08:27:24.825Z"
   },
   {
    "duration": 180,
    "start_time": "2021-08-20T08:27:24.833Z"
   },
   {
    "duration": 132,
    "start_time": "2021-08-20T08:27:25.016Z"
   },
   {
    "duration": 12,
    "start_time": "2021-08-20T08:27:25.150Z"
   },
   {
    "duration": 68,
    "start_time": "2021-08-20T08:27:25.164Z"
   },
   {
    "duration": 14,
    "start_time": "2021-08-20T08:27:25.235Z"
   },
   {
    "duration": 7,
    "start_time": "2021-08-20T08:27:25.252Z"
   },
   {
    "duration": 29,
    "start_time": "2021-08-20T08:27:25.262Z"
   },
   {
    "duration": 74,
    "start_time": "2021-08-20T08:27:25.294Z"
   },
   {
    "duration": 132,
    "start_time": "2021-08-20T08:27:25.371Z"
   },
   {
    "duration": 12,
    "start_time": "2021-08-20T08:27:25.505Z"
   },
   {
    "duration": 12,
    "start_time": "2021-08-20T08:27:25.519Z"
   },
   {
    "duration": 76,
    "start_time": "2021-08-20T08:27:25.535Z"
   },
   {
    "duration": 105,
    "start_time": "2021-08-20T08:27:25.614Z"
   },
   {
    "duration": 12,
    "start_time": "2021-08-20T08:27:25.721Z"
   },
   {
    "duration": 16,
    "start_time": "2021-08-20T08:27:25.735Z"
   },
   {
    "duration": 22,
    "start_time": "2021-08-20T08:27:25.753Z"
   },
   {
    "duration": 131,
    "start_time": "2021-08-20T08:27:25.778Z"
   },
   {
    "duration": 125,
    "start_time": "2021-08-20T08:27:25.912Z"
   },
   {
    "duration": 2290,
    "start_time": "2021-08-20T08:27:26.040Z"
   },
   {
    "duration": 156,
    "start_time": "2021-08-20T08:27:28.333Z"
   },
   {
    "duration": 43,
    "start_time": "2021-08-20T08:27:28.491Z"
   },
   {
    "duration": 21,
    "start_time": "2021-08-20T08:27:28.537Z"
   },
   {
    "duration": 267,
    "start_time": "2021-08-20T08:27:56.073Z"
   },
   {
    "duration": 6,
    "start_time": "2021-08-20T08:28:09.022Z"
   },
   {
    "duration": 1804,
    "start_time": "2021-08-20T08:28:09.030Z"
   },
   {
    "duration": 170,
    "start_time": "2021-08-20T08:28:10.836Z"
   },
   {
    "duration": 4,
    "start_time": "2021-08-20T08:28:11.009Z"
   },
   {
    "duration": 9,
    "start_time": "2021-08-20T08:28:11.016Z"
   },
   {
    "duration": 7,
    "start_time": "2021-08-20T08:28:11.027Z"
   },
   {
    "duration": 6,
    "start_time": "2021-08-20T08:28:11.038Z"
   },
   {
    "duration": 189,
    "start_time": "2021-08-20T08:28:11.047Z"
   },
   {
    "duration": 128,
    "start_time": "2021-08-20T08:28:11.238Z"
   },
   {
    "duration": 24,
    "start_time": "2021-08-20T08:28:11.369Z"
   },
   {
    "duration": 89,
    "start_time": "2021-08-20T08:28:11.397Z"
   },
   {
    "duration": 17,
    "start_time": "2021-08-20T08:28:11.489Z"
   },
   {
    "duration": 8,
    "start_time": "2021-08-20T08:28:11.508Z"
   },
   {
    "duration": 23,
    "start_time": "2021-08-20T08:28:11.519Z"
   },
   {
    "duration": 113,
    "start_time": "2021-08-20T08:28:11.544Z"
   },
   {
    "duration": 159,
    "start_time": "2021-08-20T08:28:11.660Z"
   },
   {
    "duration": 13,
    "start_time": "2021-08-20T08:28:11.822Z"
   },
   {
    "duration": 11,
    "start_time": "2021-08-20T08:28:11.837Z"
   },
   {
    "duration": 96,
    "start_time": "2021-08-20T08:28:11.852Z"
   },
   {
    "duration": 109,
    "start_time": "2021-08-20T08:28:11.951Z"
   },
   {
    "duration": 24,
    "start_time": "2021-08-20T08:28:12.063Z"
   },
   {
    "duration": 14,
    "start_time": "2021-08-20T08:28:12.089Z"
   },
   {
    "duration": 20,
    "start_time": "2021-08-20T08:28:12.106Z"
   },
   {
    "duration": 164,
    "start_time": "2021-08-20T08:28:12.128Z"
   },
   {
    "duration": 120,
    "start_time": "2021-08-20T08:28:12.295Z"
   },
   {
    "duration": 1852,
    "start_time": "2021-08-20T08:28:12.418Z"
   },
   {
    "duration": 141,
    "start_time": "2021-08-20T08:28:14.273Z"
   },
   {
    "duration": 82,
    "start_time": "2021-08-20T08:28:14.417Z"
   },
   {
    "duration": 34,
    "start_time": "2021-08-20T08:28:14.502Z"
   },
   {
    "duration": 356,
    "start_time": "2021-08-20T08:28:17.808Z"
   },
   {
    "duration": 420,
    "start_time": "2021-08-20T08:28:51.466Z"
   },
   {
    "duration": 263,
    "start_time": "2021-08-20T08:31:01.608Z"
   },
   {
    "duration": 273,
    "start_time": "2021-08-20T08:31:37.245Z"
   },
   {
    "duration": 139,
    "start_time": "2021-08-20T08:35:30.526Z"
   },
   {
    "duration": 565,
    "start_time": "2021-08-20T08:35:36.914Z"
   },
   {
    "duration": 381,
    "start_time": "2021-08-20T08:35:49.838Z"
   },
   {
    "duration": 177,
    "start_time": "2021-08-20T08:36:38.206Z"
   },
   {
    "duration": 1298,
    "start_time": "2021-08-20T08:36:43.397Z"
   },
   {
    "duration": 1451,
    "start_time": "2021-08-20T08:37:22.264Z"
   },
   {
    "duration": 1232,
    "start_time": "2021-08-20T08:37:34.814Z"
   },
   {
    "duration": 1340,
    "start_time": "2021-08-20T08:37:40.048Z"
   },
   {
    "duration": 264,
    "start_time": "2021-08-20T08:38:27.705Z"
   },
   {
    "duration": 330,
    "start_time": "2021-08-20T08:38:38.544Z"
   },
   {
    "duration": 794,
    "start_time": "2021-08-20T08:41:52.644Z"
   },
   {
    "duration": 481,
    "start_time": "2021-08-20T08:42:43.964Z"
   },
   {
    "duration": 784,
    "start_time": "2021-08-20T08:43:22.942Z"
   },
   {
    "duration": 386,
    "start_time": "2021-08-20T08:43:34.976Z"
   },
   {
    "duration": 44,
    "start_time": "2021-08-20T08:44:00.721Z"
   },
   {
    "duration": 401,
    "start_time": "2021-08-20T08:44:05.837Z"
   },
   {
    "duration": 6,
    "start_time": "2021-08-20T08:44:18.457Z"
   },
   {
    "duration": 4555,
    "start_time": "2021-08-20T08:44:18.465Z"
   },
   {
    "duration": 165,
    "start_time": "2021-08-20T08:44:23.023Z"
   },
   {
    "duration": 4,
    "start_time": "2021-08-20T08:44:23.191Z"
   },
   {
    "duration": 13,
    "start_time": "2021-08-20T08:44:23.197Z"
   },
   {
    "duration": 9,
    "start_time": "2021-08-20T08:44:23.212Z"
   },
   {
    "duration": 10,
    "start_time": "2021-08-20T08:44:23.225Z"
   },
   {
    "duration": 181,
    "start_time": "2021-08-20T08:44:23.238Z"
   },
   {
    "duration": 130,
    "start_time": "2021-08-20T08:44:23.422Z"
   },
   {
    "duration": 13,
    "start_time": "2021-08-20T08:44:23.554Z"
   },
   {
    "duration": 64,
    "start_time": "2021-08-20T08:44:23.585Z"
   },
   {
    "duration": 38,
    "start_time": "2021-08-20T08:44:23.652Z"
   },
   {
    "duration": 9,
    "start_time": "2021-08-20T08:44:23.693Z"
   },
   {
    "duration": 36,
    "start_time": "2021-08-20T08:44:23.705Z"
   },
   {
    "duration": 85,
    "start_time": "2021-08-20T08:44:23.744Z"
   },
   {
    "duration": 148,
    "start_time": "2021-08-20T08:44:23.832Z"
   },
   {
    "duration": 14,
    "start_time": "2021-08-20T08:44:23.986Z"
   },
   {
    "duration": 11,
    "start_time": "2021-08-20T08:44:24.003Z"
   },
   {
    "duration": 97,
    "start_time": "2021-08-20T08:44:24.019Z"
   },
   {
    "duration": 103,
    "start_time": "2021-08-20T08:44:24.119Z"
   },
   {
    "duration": 11,
    "start_time": "2021-08-20T08:44:24.225Z"
   },
   {
    "duration": 14,
    "start_time": "2021-08-20T08:44:24.238Z"
   },
   {
    "duration": 37,
    "start_time": "2021-08-20T08:44:24.254Z"
   },
   {
    "duration": 153,
    "start_time": "2021-08-20T08:44:24.293Z"
   },
   {
    "duration": 133,
    "start_time": "2021-08-20T08:44:24.449Z"
   },
   {
    "duration": 2093,
    "start_time": "2021-08-20T08:44:24.586Z"
   },
   {
    "duration": 221,
    "start_time": "2021-08-20T08:44:26.686Z"
   },
   {
    "duration": 78,
    "start_time": "2021-08-20T08:44:26.910Z"
   },
   {
    "duration": 404,
    "start_time": "2021-08-20T08:44:26.991Z"
   },
   {
    "duration": 21,
    "start_time": "2021-08-20T08:44:27.397Z"
   },
   {
    "duration": 396,
    "start_time": "2021-08-20T08:44:27.421Z"
   },
   {
    "duration": 45,
    "start_time": "2021-08-20T08:44:27.820Z"
   },
   {
    "duration": 447,
    "start_time": "2021-08-20T08:44:27.886Z"
   },
   {
    "duration": 138,
    "start_time": "2021-08-20T08:45:14.376Z"
   },
   {
    "duration": 34,
    "start_time": "2021-08-20T08:49:31.008Z"
   },
   {
    "duration": 365,
    "start_time": "2021-08-20T08:49:50.037Z"
   },
   {
    "duration": 759,
    "start_time": "2021-08-20T08:50:16.872Z"
   },
   {
    "duration": 908,
    "start_time": "2021-08-20T08:50:33.387Z"
   },
   {
    "duration": 1019,
    "start_time": "2021-08-20T08:50:50.125Z"
   },
   {
    "duration": 6,
    "start_time": "2021-08-20T08:51:07.088Z"
   },
   {
    "duration": 1930,
    "start_time": "2021-08-20T08:51:07.096Z"
   },
   {
    "duration": 179,
    "start_time": "2021-08-20T08:51:09.029Z"
   },
   {
    "duration": 10,
    "start_time": "2021-08-20T08:51:09.212Z"
   },
   {
    "duration": 37,
    "start_time": "2021-08-20T08:51:09.225Z"
   },
   {
    "duration": 42,
    "start_time": "2021-08-20T08:51:09.264Z"
   },
   {
    "duration": 42,
    "start_time": "2021-08-20T08:51:09.309Z"
   },
   {
    "duration": 243,
    "start_time": "2021-08-20T08:51:09.354Z"
   },
   {
    "duration": 133,
    "start_time": "2021-08-20T08:51:09.600Z"
   },
   {
    "duration": 12,
    "start_time": "2021-08-20T08:51:09.735Z"
   },
   {
    "duration": 90,
    "start_time": "2021-08-20T08:51:09.749Z"
   },
   {
    "duration": 15,
    "start_time": "2021-08-20T08:51:09.841Z"
   },
   {
    "duration": 27,
    "start_time": "2021-08-20T08:51:09.858Z"
   },
   {
    "duration": 19,
    "start_time": "2021-08-20T08:51:09.888Z"
   },
   {
    "duration": 94,
    "start_time": "2021-08-20T08:51:09.909Z"
   },
   {
    "duration": 198,
    "start_time": "2021-08-20T08:51:10.006Z"
   },
   {
    "duration": 12,
    "start_time": "2021-08-20T08:51:10.207Z"
   },
   {
    "duration": 14,
    "start_time": "2021-08-20T08:51:10.222Z"
   },
   {
    "duration": 93,
    "start_time": "2021-08-20T08:51:10.240Z"
   },
   {
    "duration": 116,
    "start_time": "2021-08-20T08:51:10.335Z"
   },
   {
    "duration": 11,
    "start_time": "2021-08-20T08:51:10.454Z"
   },
   {
    "duration": 34,
    "start_time": "2021-08-20T08:51:10.467Z"
   },
   {
    "duration": 23,
    "start_time": "2021-08-20T08:51:10.504Z"
   },
   {
    "duration": 143,
    "start_time": "2021-08-20T08:51:10.530Z"
   },
   {
    "duration": 125,
    "start_time": "2021-08-20T08:51:10.676Z"
   },
   {
    "duration": 1837,
    "start_time": "2021-08-20T08:51:10.803Z"
   },
   {
    "duration": 151,
    "start_time": "2021-08-20T08:51:12.643Z"
   },
   {
    "duration": 42,
    "start_time": "2021-08-20T08:51:12.796Z"
   },
   {
    "duration": 411,
    "start_time": "2021-08-20T08:51:12.841Z"
   },
   {
    "duration": 21,
    "start_time": "2021-08-20T08:51:13.254Z"
   },
   {
    "duration": 400,
    "start_time": "2021-08-20T08:51:13.286Z"
   },
   {
    "duration": 45,
    "start_time": "2021-08-20T08:51:13.689Z"
   },
   {
    "duration": 422,
    "start_time": "2021-08-20T08:51:13.736Z"
   },
   {
    "duration": 142,
    "start_time": "2021-08-20T08:51:14.160Z"
   },
   {
    "duration": 1030,
    "start_time": "2021-08-20T08:51:17.515Z"
   },
   {
    "duration": 139,
    "start_time": "2021-08-20T08:51:45.482Z"
   },
   {
    "duration": 5,
    "start_time": "2021-08-20T08:52:53.635Z"
   },
   {
    "duration": 3379,
    "start_time": "2021-08-20T08:52:53.643Z"
   },
   {
    "duration": 169,
    "start_time": "2021-08-20T08:52:57.025Z"
   },
   {
    "duration": 5,
    "start_time": "2021-08-20T08:52:57.196Z"
   },
   {
    "duration": 10,
    "start_time": "2021-08-20T08:52:57.203Z"
   },
   {
    "duration": 14,
    "start_time": "2021-08-20T08:52:57.215Z"
   },
   {
    "duration": 12,
    "start_time": "2021-08-20T08:52:57.231Z"
   },
   {
    "duration": 186,
    "start_time": "2021-08-20T08:52:57.246Z"
   },
   {
    "duration": 125,
    "start_time": "2021-08-20T08:52:57.437Z"
   },
   {
    "duration": 21,
    "start_time": "2021-08-20T08:52:57.565Z"
   },
   {
    "duration": 61,
    "start_time": "2021-08-20T08:52:57.589Z"
   },
   {
    "duration": 35,
    "start_time": "2021-08-20T08:52:57.653Z"
   },
   {
    "duration": 6,
    "start_time": "2021-08-20T08:52:57.690Z"
   },
   {
    "duration": 29,
    "start_time": "2021-08-20T08:52:57.699Z"
   },
   {
    "duration": 87,
    "start_time": "2021-08-20T08:52:57.730Z"
   },
   {
    "duration": 138,
    "start_time": "2021-08-20T08:52:57.820Z"
   },
   {
    "duration": 30,
    "start_time": "2021-08-20T08:52:57.960Z"
   },
   {
    "duration": 8,
    "start_time": "2021-08-20T08:52:57.993Z"
   },
   {
    "duration": 84,
    "start_time": "2021-08-20T08:52:58.003Z"
   },
   {
    "duration": 121,
    "start_time": "2021-08-20T08:52:58.089Z"
   },
   {
    "duration": 12,
    "start_time": "2021-08-20T08:52:58.212Z"
   },
   {
    "duration": 19,
    "start_time": "2021-08-20T08:52:58.226Z"
   },
   {
    "duration": 40,
    "start_time": "2021-08-20T08:52:58.247Z"
   },
   {
    "duration": 137,
    "start_time": "2021-08-20T08:52:58.289Z"
   },
   {
    "duration": 129,
    "start_time": "2021-08-20T08:52:58.429Z"
   },
   {
    "duration": 1869,
    "start_time": "2021-08-20T08:52:58.560Z"
   },
   {
    "duration": 139,
    "start_time": "2021-08-20T08:53:00.433Z"
   },
   {
    "duration": 50,
    "start_time": "2021-08-20T08:53:00.586Z"
   },
   {
    "duration": 411,
    "start_time": "2021-08-20T08:53:00.639Z"
   },
   {
    "duration": 33,
    "start_time": "2021-08-20T08:53:01.052Z"
   },
   {
    "duration": 382,
    "start_time": "2021-08-20T08:53:01.088Z"
   },
   {
    "duration": 52,
    "start_time": "2021-08-20T08:53:01.473Z"
   },
   {
    "duration": 414,
    "start_time": "2021-08-20T08:53:01.528Z"
   },
   {
    "duration": 156,
    "start_time": "2021-08-20T08:53:01.944Z"
   },
   {
    "duration": 1033,
    "start_time": "2021-08-20T08:53:14.003Z"
   },
   {
    "duration": 131,
    "start_time": "2021-08-20T08:53:21.038Z"
   },
   {
    "duration": 421,
    "start_time": "2021-08-20T08:54:19.432Z"
   },
   {
    "duration": 5,
    "start_time": "2021-08-20T08:54:31.713Z"
   },
   {
    "duration": 3413,
    "start_time": "2021-08-20T08:54:31.723Z"
   },
   {
    "duration": 172,
    "start_time": "2021-08-20T08:54:35.138Z"
   },
   {
    "duration": 4,
    "start_time": "2021-08-20T08:54:35.313Z"
   },
   {
    "duration": 10,
    "start_time": "2021-08-20T08:54:35.320Z"
   },
   {
    "duration": 7,
    "start_time": "2021-08-20T08:54:35.333Z"
   },
   {
    "duration": 14,
    "start_time": "2021-08-20T08:54:35.344Z"
   },
   {
    "duration": 191,
    "start_time": "2021-08-20T08:54:35.360Z"
   },
   {
    "duration": 131,
    "start_time": "2021-08-20T08:54:35.556Z"
   },
   {
    "duration": 13,
    "start_time": "2021-08-20T08:54:35.690Z"
   },
   {
    "duration": 87,
    "start_time": "2021-08-20T08:54:35.706Z"
   },
   {
    "duration": 15,
    "start_time": "2021-08-20T08:54:35.795Z"
   },
   {
    "duration": 6,
    "start_time": "2021-08-20T08:54:35.813Z"
   },
   {
    "duration": 25,
    "start_time": "2021-08-20T08:54:35.821Z"
   },
   {
    "duration": 107,
    "start_time": "2021-08-20T08:54:35.848Z"
   },
   {
    "duration": 142,
    "start_time": "2021-08-20T08:54:35.958Z"
   },
   {
    "duration": 12,
    "start_time": "2021-08-20T08:54:36.103Z"
   },
   {
    "duration": 11,
    "start_time": "2021-08-20T08:54:36.118Z"
   },
   {
    "duration": 104,
    "start_time": "2021-08-20T08:54:36.132Z"
   },
   {
    "duration": 114,
    "start_time": "2021-08-20T08:54:36.239Z"
   },
   {
    "duration": 12,
    "start_time": "2021-08-20T08:54:36.356Z"
   },
   {
    "duration": 14,
    "start_time": "2021-08-20T08:54:36.386Z"
   },
   {
    "duration": 18,
    "start_time": "2021-08-20T08:54:36.403Z"
   },
   {
    "duration": 166,
    "start_time": "2021-08-20T08:54:36.426Z"
   },
   {
    "duration": 133,
    "start_time": "2021-08-20T08:54:36.594Z"
   },
   {
    "duration": 1817,
    "start_time": "2021-08-20T08:54:36.730Z"
   },
   {
    "duration": 149,
    "start_time": "2021-08-20T08:54:38.550Z"
   },
   {
    "duration": 42,
    "start_time": "2021-08-20T08:54:38.701Z"
   },
   {
    "duration": 514,
    "start_time": "2021-08-20T08:54:38.745Z"
   },
   {
    "duration": 28,
    "start_time": "2021-08-20T08:54:39.262Z"
   },
   {
    "duration": 364,
    "start_time": "2021-08-20T08:54:39.293Z"
   },
   {
    "duration": 51,
    "start_time": "2021-08-20T08:54:39.659Z"
   },
   {
    "duration": 420,
    "start_time": "2021-08-20T08:54:39.712Z"
   },
   {
    "duration": 157,
    "start_time": "2021-08-20T08:54:40.134Z"
   },
   {
    "duration": 967,
    "start_time": "2021-08-20T08:54:40.294Z"
   },
   {
    "duration": 139,
    "start_time": "2021-08-20T08:54:41.264Z"
   },
   {
    "duration": 417,
    "start_time": "2021-08-20T08:54:44.398Z"
   },
   {
    "duration": 553,
    "start_time": "2021-08-20T08:55:04.435Z"
   },
   {
    "duration": 655,
    "start_time": "2021-08-20T08:55:27.873Z"
   },
   {
    "duration": 6,
    "start_time": "2021-08-20T08:55:36.017Z"
   },
   {
    "duration": 2052,
    "start_time": "2021-08-20T08:55:36.025Z"
   },
   {
    "duration": 176,
    "start_time": "2021-08-20T08:55:38.081Z"
   },
   {
    "duration": 4,
    "start_time": "2021-08-20T08:55:38.261Z"
   },
   {
    "duration": 25,
    "start_time": "2021-08-20T08:55:38.268Z"
   },
   {
    "duration": 12,
    "start_time": "2021-08-20T08:55:38.295Z"
   },
   {
    "duration": 14,
    "start_time": "2021-08-20T08:55:38.311Z"
   },
   {
    "duration": 179,
    "start_time": "2021-08-20T08:55:38.328Z"
   },
   {
    "duration": 120,
    "start_time": "2021-08-20T08:55:38.509Z"
   },
   {
    "duration": 11,
    "start_time": "2021-08-20T08:55:38.631Z"
   },
   {
    "duration": 92,
    "start_time": "2021-08-20T08:55:38.645Z"
   },
   {
    "duration": 17,
    "start_time": "2021-08-20T08:55:38.740Z"
   },
   {
    "duration": 27,
    "start_time": "2021-08-20T08:55:38.760Z"
   },
   {
    "duration": 18,
    "start_time": "2021-08-20T08:55:38.790Z"
   },
   {
    "duration": 108,
    "start_time": "2021-08-20T08:55:38.810Z"
   },
   {
    "duration": 146,
    "start_time": "2021-08-20T08:55:38.921Z"
   },
   {
    "duration": 20,
    "start_time": "2021-08-20T08:55:39.070Z"
   },
   {
    "duration": 10,
    "start_time": "2021-08-20T08:55:39.093Z"
   },
   {
    "duration": 85,
    "start_time": "2021-08-20T08:55:39.107Z"
   },
   {
    "duration": 112,
    "start_time": "2021-08-20T08:55:39.195Z"
   },
   {
    "duration": 11,
    "start_time": "2021-08-20T08:55:39.310Z"
   },
   {
    "duration": 19,
    "start_time": "2021-08-20T08:55:39.324Z"
   },
   {
    "duration": 41,
    "start_time": "2021-08-20T08:55:39.346Z"
   },
   {
    "duration": 155,
    "start_time": "2021-08-20T08:55:39.390Z"
   },
   {
    "duration": 137,
    "start_time": "2021-08-20T08:55:39.548Z"
   },
   {
    "duration": 1811,
    "start_time": "2021-08-20T08:55:39.688Z"
   },
   {
    "duration": 146,
    "start_time": "2021-08-20T08:55:41.502Z"
   },
   {
    "duration": 55,
    "start_time": "2021-08-20T08:55:41.650Z"
   },
   {
    "duration": 390,
    "start_time": "2021-08-20T08:55:41.708Z"
   },
   {
    "duration": 20,
    "start_time": "2021-08-20T08:55:42.100Z"
   },
   {
    "duration": 375,
    "start_time": "2021-08-20T08:55:42.122Z"
   },
   {
    "duration": 45,
    "start_time": "2021-08-20T08:55:42.500Z"
   },
   {
    "duration": 414,
    "start_time": "2021-08-20T08:55:42.548Z"
   },
   {
    "duration": 148,
    "start_time": "2021-08-20T08:55:42.965Z"
   },
   {
    "duration": 999,
    "start_time": "2021-08-20T08:55:43.116Z"
   },
   {
    "duration": 141,
    "start_time": "2021-08-20T08:55:44.117Z"
   },
   {
    "duration": 667,
    "start_time": "2021-08-20T08:55:48.223Z"
   },
   {
    "duration": 136,
    "start_time": "2021-08-20T08:56:43.021Z"
   },
   {
    "duration": 20,
    "start_time": "2021-08-20T08:58:34.806Z"
   },
   {
    "duration": 41,
    "start_time": "2021-08-20T08:58:35.522Z"
   },
   {
    "duration": 118,
    "start_time": "2021-08-20T08:58:39.396Z"
   },
   {
    "duration": 116,
    "start_time": "2021-08-20T08:58:58.325Z"
   },
   {
    "duration": 278,
    "start_time": "2021-08-20T08:59:52.833Z"
   },
   {
    "duration": 137,
    "start_time": "2021-08-20T09:00:04.961Z"
   },
   {
    "duration": 43,
    "start_time": "2021-08-20T09:00:08.393Z"
   },
   {
    "duration": 130,
    "start_time": "2021-08-20T09:00:10.137Z"
   },
   {
    "duration": 6,
    "start_time": "2021-08-20T11:00:09.353Z"
   },
   {
    "duration": 1730,
    "start_time": "2021-08-20T11:00:09.365Z"
   },
   {
    "duration": 198,
    "start_time": "2021-08-20T11:00:11.098Z"
   },
   {
    "duration": 3,
    "start_time": "2021-08-20T11:00:11.299Z"
   },
   {
    "duration": 10,
    "start_time": "2021-08-20T11:00:11.305Z"
   },
   {
    "duration": 7,
    "start_time": "2021-08-20T11:00:11.318Z"
   },
   {
    "duration": 7,
    "start_time": "2021-08-20T11:00:11.327Z"
   },
   {
    "duration": 199,
    "start_time": "2021-08-20T11:00:11.336Z"
   },
   {
    "duration": 125,
    "start_time": "2021-08-20T11:00:11.538Z"
   },
   {
    "duration": 24,
    "start_time": "2021-08-20T11:00:11.666Z"
   },
   {
    "duration": 66,
    "start_time": "2021-08-20T11:00:11.692Z"
   },
   {
    "duration": 31,
    "start_time": "2021-08-20T11:00:11.760Z"
   },
   {
    "duration": 5,
    "start_time": "2021-08-20T11:00:11.794Z"
   },
   {
    "duration": 20,
    "start_time": "2021-08-20T11:00:11.802Z"
   },
   {
    "duration": 110,
    "start_time": "2021-08-20T11:00:11.825Z"
   },
   {
    "duration": 152,
    "start_time": "2021-08-20T11:00:11.938Z"
   },
   {
    "duration": 13,
    "start_time": "2021-08-20T11:00:12.092Z"
   },
   {
    "duration": 8,
    "start_time": "2021-08-20T11:00:12.107Z"
   },
   {
    "duration": 98,
    "start_time": "2021-08-20T11:00:12.118Z"
   },
   {
    "duration": 115,
    "start_time": "2021-08-20T11:00:12.218Z"
   },
   {
    "duration": 13,
    "start_time": "2021-08-20T11:00:12.335Z"
   },
   {
    "duration": 38,
    "start_time": "2021-08-20T11:00:12.350Z"
   },
   {
    "duration": 17,
    "start_time": "2021-08-20T11:00:12.390Z"
   },
   {
    "duration": 159,
    "start_time": "2021-08-20T11:00:12.411Z"
   },
   {
    "duration": 134,
    "start_time": "2021-08-20T11:00:12.573Z"
   },
   {
    "duration": 1898,
    "start_time": "2021-08-20T11:00:12.710Z"
   },
   {
    "duration": 157,
    "start_time": "2021-08-20T11:00:14.611Z"
   },
   {
    "duration": 56,
    "start_time": "2021-08-20T11:00:14.770Z"
   },
   {
    "duration": 415,
    "start_time": "2021-08-20T11:00:14.829Z"
   },
   {
    "duration": 21,
    "start_time": "2021-08-20T11:00:15.247Z"
   },
   {
    "duration": 393,
    "start_time": "2021-08-20T11:00:15.286Z"
   },
   {
    "duration": 46,
    "start_time": "2021-08-20T11:00:15.685Z"
   },
   {
    "duration": 447,
    "start_time": "2021-08-20T11:00:15.733Z"
   },
   {
    "duration": 152,
    "start_time": "2021-08-20T11:00:16.186Z"
   },
   {
    "duration": 1045,
    "start_time": "2021-08-20T11:00:16.340Z"
   },
   {
    "duration": 156,
    "start_time": "2021-08-20T11:00:17.388Z"
   },
   {
    "duration": 705,
    "start_time": "2021-08-20T11:00:17.547Z"
   },
   {
    "duration": 150,
    "start_time": "2021-08-20T11:00:18.254Z"
   },
   {
    "duration": 22,
    "start_time": "2021-08-20T11:00:18.406Z"
   },
   {
    "duration": 75,
    "start_time": "2021-08-20T11:00:18.430Z"
   },
   {
    "duration": 139,
    "start_time": "2021-08-20T11:00:18.507Z"
   },
   {
    "duration": 127,
    "start_time": "2021-08-20T11:02:55.884Z"
   },
   {
    "duration": 21,
    "start_time": "2021-08-20T11:03:06.332Z"
   },
   {
    "duration": 20,
    "start_time": "2021-08-20T11:04:43.779Z"
   },
   {
    "duration": 368,
    "start_time": "2021-08-20T11:24:54.128Z"
   },
   {
    "duration": 146,
    "start_time": "2021-08-20T11:25:04.968Z"
   },
   {
    "duration": 6,
    "start_time": "2021-08-20T11:25:31.693Z"
   },
   {
    "duration": 5139,
    "start_time": "2021-08-20T11:25:31.702Z"
   },
   {
    "duration": 185,
    "start_time": "2021-08-20T11:25:36.844Z"
   },
   {
    "duration": 3,
    "start_time": "2021-08-20T11:25:37.032Z"
   },
   {
    "duration": 14,
    "start_time": "2021-08-20T11:25:37.038Z"
   },
   {
    "duration": 31,
    "start_time": "2021-08-20T11:25:37.055Z"
   },
   {
    "duration": 13,
    "start_time": "2021-08-20T11:25:37.090Z"
   },
   {
    "duration": 190,
    "start_time": "2021-08-20T11:25:37.106Z"
   },
   {
    "duration": 131,
    "start_time": "2021-08-20T11:25:37.298Z"
   },
   {
    "duration": 12,
    "start_time": "2021-08-20T11:25:37.432Z"
   },
   {
    "duration": 88,
    "start_time": "2021-08-20T11:25:37.447Z"
   },
   {
    "duration": 16,
    "start_time": "2021-08-20T11:25:37.537Z"
   },
   {
    "duration": 31,
    "start_time": "2021-08-20T11:25:37.555Z"
   },
   {
    "duration": 20,
    "start_time": "2021-08-20T11:25:37.589Z"
   },
   {
    "duration": 113,
    "start_time": "2021-08-20T11:25:37.611Z"
   },
   {
    "duration": 148,
    "start_time": "2021-08-20T11:25:37.727Z"
   },
   {
    "duration": 17,
    "start_time": "2021-08-20T11:25:37.877Z"
   },
   {
    "duration": 8,
    "start_time": "2021-08-20T11:25:37.897Z"
   },
   {
    "duration": 107,
    "start_time": "2021-08-20T11:25:37.910Z"
   },
   {
    "duration": 112,
    "start_time": "2021-08-20T11:25:38.021Z"
   },
   {
    "duration": 11,
    "start_time": "2021-08-20T11:25:38.136Z"
   },
   {
    "duration": 39,
    "start_time": "2021-08-20T11:25:38.150Z"
   },
   {
    "duration": 21,
    "start_time": "2021-08-20T11:25:38.193Z"
   },
   {
    "duration": 254,
    "start_time": "2021-08-20T11:25:38.218Z"
   },
   {
    "duration": 211,
    "start_time": "2021-08-20T11:25:38.475Z"
   },
   {
    "duration": 1999,
    "start_time": "2021-08-20T11:25:38.690Z"
   },
   {
    "duration": 146,
    "start_time": "2021-08-20T11:25:40.692Z"
   },
   {
    "duration": 52,
    "start_time": "2021-08-20T11:25:40.841Z"
   },
   {
    "duration": 597,
    "start_time": "2021-08-20T11:25:40.896Z"
   },
   {
    "duration": 33,
    "start_time": "2021-08-20T11:25:41.496Z"
   },
   {
    "duration": 381,
    "start_time": "2021-08-20T11:25:41.532Z"
   },
   {
    "duration": 44,
    "start_time": "2021-08-20T11:25:41.916Z"
   },
   {
    "duration": 528,
    "start_time": "2021-08-20T11:25:41.962Z"
   },
   {
    "duration": 152,
    "start_time": "2021-08-20T11:25:42.493Z"
   },
   {
    "duration": 1017,
    "start_time": "2021-08-20T11:25:42.647Z"
   },
   {
    "duration": 142,
    "start_time": "2021-08-20T11:25:43.666Z"
   },
   {
    "duration": 760,
    "start_time": "2021-08-20T11:25:43.810Z"
   },
   {
    "duration": 157,
    "start_time": "2021-08-20T11:25:44.574Z"
   },
   {
    "duration": 56,
    "start_time": "2021-08-20T11:25:44.733Z"
   },
   {
    "duration": 99,
    "start_time": "2021-08-20T11:25:44.791Z"
   },
   {
    "duration": 128,
    "start_time": "2021-08-20T11:25:44.893Z"
   },
   {
    "duration": 21,
    "start_time": "2021-08-20T11:25:45.023Z"
   },
   {
    "duration": 302,
    "start_time": "2021-08-20T11:25:45.046Z"
   },
   {
    "duration": 144,
    "start_time": "2021-08-20T11:25:45.350Z"
   },
   {
    "duration": 44,
    "start_time": "2021-08-20T11:25:45.497Z"
   },
   {
    "duration": 160,
    "start_time": "2021-08-20T11:25:45.543Z"
   },
   {
    "duration": 9,
    "start_time": "2021-08-20T11:25:45.705Z"
   },
   {
    "duration": 17,
    "start_time": "2021-08-20T11:25:45.717Z"
   },
   {
    "duration": 162,
    "start_time": "2021-08-20T11:25:45.737Z"
   },
   {
    "duration": 224,
    "start_time": "2021-08-20T11:25:52.733Z"
   },
   {
    "duration": 322,
    "start_time": "2021-08-20T11:28:35.411Z"
   },
   {
    "duration": 7,
    "start_time": "2021-08-20T11:28:36.437Z"
   },
   {
    "duration": 8,
    "start_time": "2021-08-20T11:29:46.672Z"
   },
   {
    "duration": 282,
    "start_time": "2021-08-20T11:29:47.468Z"
   },
   {
    "duration": 11,
    "start_time": "2021-08-20T11:29:48.490Z"
   },
   {
    "duration": 45,
    "start_time": "2021-08-20T11:33:15.370Z"
   },
   {
    "duration": 87,
    "start_time": "2021-08-20T11:33:16.429Z"
   },
   {
    "duration": 5,
    "start_time": "2021-08-20T11:33:17.080Z"
   },
   {
    "duration": 7,
    "start_time": "2021-08-20T11:33:17.591Z"
   },
   {
    "duration": 7,
    "start_time": "2021-08-20T11:34:58.139Z"
   },
   {
    "duration": 109,
    "start_time": "2021-08-20T11:34:58.803Z"
   },
   {
    "duration": 5,
    "start_time": "2021-08-20T11:34:59.243Z"
   },
   {
    "duration": 8,
    "start_time": "2021-08-20T11:34:59.681Z"
   },
   {
    "duration": 36,
    "start_time": "2021-08-20T11:36:37.521Z"
   },
   {
    "duration": 64,
    "start_time": "2021-08-20T11:36:51.074Z"
   },
   {
    "duration": 54,
    "start_time": "2021-08-20T11:37:00.273Z"
   },
   {
    "duration": 1754,
    "start_time": "2021-08-20T11:42:47.677Z"
   },
   {
    "duration": 159,
    "start_time": "2021-08-20T11:42:51.246Z"
   },
   {
    "duration": 2956,
    "start_time": "2021-08-20T11:45:09.781Z"
   },
   {
    "duration": 23,
    "start_time": "2021-08-20T11:45:13.906Z"
   },
   {
    "duration": 100,
    "start_time": "2021-08-20T11:45:56.756Z"
   },
   {
    "duration": 31,
    "start_time": "2021-08-20T11:45:57.382Z"
   },
   {
    "duration": 31,
    "start_time": "2021-08-20T11:45:57.863Z"
   },
   {
    "duration": 5,
    "start_time": "2021-08-20T11:45:58.350Z"
   },
   {
    "duration": 3,
    "start_time": "2021-08-20T11:48:05.281Z"
   },
   {
    "duration": 27,
    "start_time": "2021-08-20T11:48:05.816Z"
   },
   {
    "duration": 332,
    "start_time": "2021-08-20T11:48:06.392Z"
   },
   {
    "duration": 27,
    "start_time": "2021-08-20T11:48:06.877Z"
   },
   {
    "duration": 7,
    "start_time": "2021-08-20T11:53:18.275Z"
   },
   {
    "duration": 193,
    "start_time": "2021-08-20T11:54:08.333Z"
   },
   {
    "duration": 7,
    "start_time": "2021-08-20T11:54:15.903Z"
   },
   {
    "duration": 5,
    "start_time": "2021-08-20T11:57:55.207Z"
   },
   {
    "duration": 4,
    "start_time": "2021-08-20T12:00:20.025Z"
   },
   {
    "duration": 624,
    "start_time": "2021-08-20T12:00:21.328Z"
   },
   {
    "duration": 2615,
    "start_time": "2021-08-20T12:00:26.761Z"
   },
   {
    "duration": 3437,
    "start_time": "2021-08-20T12:00:29.379Z"
   },
   {
    "duration": 162,
    "start_time": "2021-08-20T12:00:32.819Z"
   },
   {
    "duration": 12,
    "start_time": "2021-08-20T12:00:32.987Z"
   },
   {
    "duration": 13,
    "start_time": "2021-08-20T12:00:33.001Z"
   },
   {
    "duration": 10,
    "start_time": "2021-08-20T12:00:33.016Z"
   },
   {
    "duration": 9,
    "start_time": "2021-08-20T12:00:33.028Z"
   },
   {
    "duration": 171,
    "start_time": "2021-08-20T12:00:33.041Z"
   },
   {
    "duration": 216,
    "start_time": "2021-08-20T12:00:33.215Z"
   },
   {
    "duration": 13,
    "start_time": "2021-08-20T12:00:33.434Z"
   },
   {
    "duration": 95,
    "start_time": "2021-08-20T12:00:33.449Z"
   },
   {
    "duration": 38,
    "start_time": "2021-08-20T12:00:33.547Z"
   },
   {
    "duration": 7,
    "start_time": "2021-08-20T12:00:33.587Z"
   },
   {
    "duration": 36,
    "start_time": "2021-08-20T12:00:33.597Z"
   },
   {
    "duration": 101,
    "start_time": "2021-08-20T12:00:33.636Z"
   },
   {
    "duration": 146,
    "start_time": "2021-08-20T12:00:33.739Z"
   },
   {
    "duration": 14,
    "start_time": "2021-08-20T12:00:33.888Z"
   },
   {
    "duration": 13,
    "start_time": "2021-08-20T12:00:33.905Z"
   },
   {
    "duration": 122,
    "start_time": "2021-08-20T12:00:33.920Z"
   },
   {
    "duration": 143,
    "start_time": "2021-08-20T12:00:34.044Z"
   },
   {
    "duration": 14,
    "start_time": "2021-08-20T12:00:34.190Z"
   },
   {
    "duration": 31,
    "start_time": "2021-08-20T12:00:34.208Z"
   },
   {
    "duration": 22,
    "start_time": "2021-08-20T12:00:34.246Z"
   },
   {
    "duration": 156,
    "start_time": "2021-08-20T12:00:34.284Z"
   },
   {
    "duration": 130,
    "start_time": "2021-08-20T12:00:34.443Z"
   },
   {
    "duration": 1854,
    "start_time": "2021-08-20T12:00:34.576Z"
   },
   {
    "duration": 141,
    "start_time": "2021-08-20T12:00:36.432Z"
   },
   {
    "duration": 50,
    "start_time": "2021-08-20T12:00:36.576Z"
   },
   {
    "duration": 398,
    "start_time": "2021-08-20T12:00:36.628Z"
   },
   {
    "duration": 19,
    "start_time": "2021-08-20T12:00:37.029Z"
   },
   {
    "duration": 407,
    "start_time": "2021-08-20T12:00:37.051Z"
   },
   {
    "duration": 51,
    "start_time": "2021-08-20T12:00:37.461Z"
   },
   {
    "duration": 408,
    "start_time": "2021-08-20T12:00:37.515Z"
   },
   {
    "duration": 145,
    "start_time": "2021-08-20T12:00:37.926Z"
   },
   {
    "duration": 1058,
    "start_time": "2021-08-20T12:00:38.073Z"
   },
   {
    "duration": 137,
    "start_time": "2021-08-20T12:00:39.134Z"
   },
   {
    "duration": 770,
    "start_time": "2021-08-20T12:00:39.274Z"
   },
   {
    "duration": 182,
    "start_time": "2021-08-20T12:00:40.047Z"
   },
   {
    "duration": 56,
    "start_time": "2021-08-20T12:00:40.232Z"
   },
   {
    "duration": 55,
    "start_time": "2021-08-20T12:00:40.291Z"
   },
   {
    "duration": 144,
    "start_time": "2021-08-20T12:00:40.349Z"
   },
   {
    "duration": 23,
    "start_time": "2021-08-20T12:00:40.495Z"
   },
   {
    "duration": 313,
    "start_time": "2021-08-20T12:00:40.520Z"
   },
   {
    "duration": 151,
    "start_time": "2021-08-20T12:00:40.835Z"
   },
   {
    "duration": 45,
    "start_time": "2021-08-20T12:00:40.988Z"
   },
   {
    "duration": 162,
    "start_time": "2021-08-20T12:00:41.036Z"
   },
   {
    "duration": 10,
    "start_time": "2021-08-20T12:00:41.201Z"
   },
   {
    "duration": 27,
    "start_time": "2021-08-20T12:00:41.214Z"
   },
   {
    "duration": 150,
    "start_time": "2021-08-20T12:00:41.243Z"
   },
   {
    "duration": 137,
    "start_time": "2021-08-20T12:00:41.396Z"
   },
   {
    "duration": 7,
    "start_time": "2021-08-20T12:00:41.536Z"
   },
   {
    "duration": 345,
    "start_time": "2021-08-20T12:00:41.545Z"
   },
   {
    "duration": 8,
    "start_time": "2021-08-20T12:00:41.892Z"
   },
   {
    "duration": 10,
    "start_time": "2021-08-20T12:00:41.903Z"
   },
   {
    "duration": 328,
    "start_time": "2021-08-20T12:00:41.915Z"
   },
   {
    "duration": 8,
    "start_time": "2021-08-20T12:00:42.245Z"
   },
   {
    "duration": 68,
    "start_time": "2021-08-20T12:00:42.256Z"
   },
   {
    "duration": 94,
    "start_time": "2021-08-20T12:00:42.328Z"
   },
   {
    "duration": 7,
    "start_time": "2021-08-20T12:00:42.425Z"
   },
   {
    "duration": 23,
    "start_time": "2021-08-20T12:00:42.435Z"
   },
   {
    "duration": 24,
    "start_time": "2021-08-20T12:00:42.461Z"
   },
   {
    "duration": 117,
    "start_time": "2021-08-20T12:00:42.488Z"
   },
   {
    "duration": 13,
    "start_time": "2021-08-20T12:00:42.608Z"
   },
   {
    "duration": 25,
    "start_time": "2021-08-20T12:00:42.623Z"
   },
   {
    "duration": 265,
    "start_time": "2021-08-20T12:00:42.650Z"
   },
   {
    "duration": 42,
    "start_time": "2021-08-20T12:00:42.917Z"
   },
   {
    "duration": 62,
    "start_time": "2021-08-20T12:00:42.961Z"
   },
   {
    "duration": 59,
    "start_time": "2021-08-20T12:00:43.031Z"
   },
   {
    "duration": 44,
    "start_time": "2021-08-20T12:00:43.092Z"
   },
   {
    "duration": 66,
    "start_time": "2021-08-20T12:00:43.139Z"
   },
   {
    "duration": 55,
    "start_time": "2021-08-20T12:00:43.208Z"
   },
   {
    "duration": 64,
    "start_time": "2021-08-20T12:00:43.265Z"
   },
   {
    "duration": 73,
    "start_time": "2021-08-20T12:00:43.331Z"
   },
   {
    "duration": 26,
    "start_time": "2021-08-20T12:00:43.407Z"
   },
   {
    "duration": 1651,
    "start_time": "2021-08-20T12:00:43.436Z"
   },
   {
    "duration": 165,
    "start_time": "2021-08-20T12:00:45.089Z"
   },
   {
    "duration": 3334,
    "start_time": "2021-08-20T12:00:45.256Z"
   },
   {
    "duration": 23,
    "start_time": "2021-08-20T12:00:48.593Z"
   },
   {
    "duration": 130,
    "start_time": "2021-08-20T12:00:48.619Z"
   },
   {
    "duration": 38,
    "start_time": "2021-08-20T12:00:48.751Z"
   },
   {
    "duration": 28,
    "start_time": "2021-08-20T12:00:48.792Z"
   },
   {
    "duration": 5,
    "start_time": "2021-08-20T12:00:48.822Z"
   },
   {
    "duration": 14,
    "start_time": "2021-08-20T12:00:48.829Z"
   },
   {
    "duration": 49,
    "start_time": "2021-08-20T12:00:48.845Z"
   },
   {
    "duration": 311,
    "start_time": "2021-08-20T12:00:48.896Z"
   },
   {
    "duration": 24,
    "start_time": "2021-08-20T12:00:49.209Z"
   },
   {
    "duration": 7,
    "start_time": "2021-08-20T12:00:49.236Z"
   },
   {
    "duration": 7,
    "start_time": "2021-08-20T12:00:49.245Z"
   },
   {
    "duration": 4,
    "start_time": "2021-08-20T12:01:09.484Z"
   },
   {
    "duration": 152400,
    "start_time": "2021-08-20T12:01:11.373Z"
   },
   {
    "duration": 185,
    "start_time": "2021-08-20T12:03:52.783Z"
   },
   {
    "duration": 6,
    "start_time": "2021-08-20T12:03:58.404Z"
   },
   {
    "duration": 957,
    "start_time": "2021-08-20T12:04:54.556Z"
   },
   {
    "duration": 1261,
    "start_time": "2021-08-20T12:04:57.807Z"
   },
   {
    "duration": 6,
    "start_time": "2021-08-20T12:05:04.845Z"
   },
   {
    "duration": 4,
    "start_time": "2021-08-20T12:06:14.662Z"
   },
   {
    "duration": 6,
    "start_time": "2021-08-20T12:06:23.988Z"
   },
   {
    "duration": 5,
    "start_time": "2021-08-20T12:06:28.787Z"
   },
   {
    "duration": 5,
    "start_time": "2021-08-20T12:06:29.891Z"
   },
   {
    "duration": 184,
    "start_time": "2021-08-20T12:07:06.236Z"
   },
   {
    "duration": 5,
    "start_time": "2021-08-20T12:07:07.642Z"
   },
   {
    "duration": 4,
    "start_time": "2021-08-20T12:07:08.235Z"
   },
   {
    "duration": 5,
    "start_time": "2021-08-20T12:07:18.567Z"
   },
   {
    "duration": 5,
    "start_time": "2021-08-20T12:07:19.037Z"
   },
   {
    "duration": 4,
    "start_time": "2021-08-20T12:10:20.898Z"
   },
   {
    "duration": 649869,
    "start_time": "2021-08-20T12:10:22.308Z"
   },
   {
    "duration": 1408,
    "start_time": "2021-08-20T12:21:18.650Z"
   },
   {
    "duration": 1437,
    "start_time": "2021-08-20T12:21:22.287Z"
   },
   {
    "duration": 1414,
    "start_time": "2021-08-20T12:21:26.182Z"
   },
   {
    "duration": 5,
    "start_time": "2021-08-20T12:21:28.855Z"
   },
   {
    "duration": 5,
    "start_time": "2021-08-20T12:21:31.470Z"
   },
   {
    "duration": 1367,
    "start_time": "2021-08-20T12:21:54.299Z"
   },
   {
    "duration": 5,
    "start_time": "2021-08-20T12:21:56.319Z"
   },
   {
    "duration": 5,
    "start_time": "2021-08-20T12:21:56.944Z"
   },
   {
    "duration": 4,
    "start_time": "2021-08-20T12:24:23.438Z"
   },
   {
    "duration": 4,
    "start_time": "2021-08-20T12:24:24.227Z"
   },
   {
    "duration": 118019,
    "start_time": "2021-08-20T12:24:36.583Z"
   },
   {
    "duration": 4,
    "start_time": "2021-08-20T12:27:54.214Z"
   },
   {
    "duration": 4,
    "start_time": "2021-08-20T12:27:54.814Z"
   },
   {
    "duration": 151136,
    "start_time": "2021-08-20T12:27:55.255Z"
   },
   {
    "duration": 1566,
    "start_time": "2021-08-20T12:31:30.166Z"
   },
   {
    "duration": 3226,
    "start_time": "2021-08-20T12:31:31.735Z"
   },
   {
    "duration": 168,
    "start_time": "2021-08-20T12:31:34.964Z"
   },
   {
    "duration": 4,
    "start_time": "2021-08-20T12:31:35.135Z"
   },
   {
    "duration": 16,
    "start_time": "2021-08-20T12:31:35.141Z"
   },
   {
    "duration": 8,
    "start_time": "2021-08-20T12:31:35.160Z"
   },
   {
    "duration": 16,
    "start_time": "2021-08-20T12:31:35.171Z"
   },
   {
    "duration": 166,
    "start_time": "2021-08-20T12:31:35.190Z"
   },
   {
    "duration": 172,
    "start_time": "2021-08-20T12:31:35.360Z"
   },
   {
    "duration": 11,
    "start_time": "2021-08-20T12:31:35.535Z"
   },
   {
    "duration": 95,
    "start_time": "2021-08-20T12:31:35.549Z"
   },
   {
    "duration": 30,
    "start_time": "2021-08-20T12:31:35.647Z"
   },
   {
    "duration": 10,
    "start_time": "2021-08-20T12:31:35.679Z"
   },
   {
    "duration": 24,
    "start_time": "2021-08-20T12:31:35.691Z"
   },
   {
    "duration": 104,
    "start_time": "2021-08-20T12:31:35.718Z"
   },
   {
    "duration": 137,
    "start_time": "2021-08-20T12:31:35.825Z"
   },
   {
    "duration": 26,
    "start_time": "2021-08-20T12:31:35.964Z"
   },
   {
    "duration": 8,
    "start_time": "2021-08-20T12:31:35.992Z"
   },
   {
    "duration": 99,
    "start_time": "2021-08-20T12:31:36.003Z"
   },
   {
    "duration": 110,
    "start_time": "2021-08-20T12:31:36.104Z"
   },
   {
    "duration": 12,
    "start_time": "2021-08-20T12:31:36.217Z"
   },
   {
    "duration": 14,
    "start_time": "2021-08-20T12:31:36.231Z"
   },
   {
    "duration": 43,
    "start_time": "2021-08-20T12:31:36.252Z"
   },
   {
    "duration": 138,
    "start_time": "2021-08-20T12:31:36.298Z"
   },
   {
    "duration": 125,
    "start_time": "2021-08-20T12:31:36.438Z"
   },
   {
    "duration": 1809,
    "start_time": "2021-08-20T12:31:36.565Z"
   },
   {
    "duration": 147,
    "start_time": "2021-08-20T12:31:38.376Z"
   },
   {
    "duration": 61,
    "start_time": "2021-08-20T12:31:38.526Z"
   },
   {
    "duration": 415,
    "start_time": "2021-08-20T12:31:38.590Z"
   },
   {
    "duration": 30,
    "start_time": "2021-08-20T12:31:39.008Z"
   },
   {
    "duration": 399,
    "start_time": "2021-08-20T12:31:39.041Z"
   },
   {
    "duration": 52,
    "start_time": "2021-08-20T12:31:39.443Z"
   },
   {
    "duration": 572,
    "start_time": "2021-08-20T12:31:39.498Z"
   },
   {
    "duration": 198,
    "start_time": "2021-08-20T12:31:40.073Z"
   },
   {
    "duration": 973,
    "start_time": "2021-08-20T12:31:40.286Z"
   },
   {
    "duration": 148,
    "start_time": "2021-08-20T12:31:41.262Z"
   },
   {
    "duration": 657,
    "start_time": "2021-08-20T12:31:41.413Z"
   },
   {
    "duration": 143,
    "start_time": "2021-08-20T12:31:42.073Z"
   },
   {
    "duration": 21,
    "start_time": "2021-08-20T12:31:42.219Z"
   },
   {
    "duration": 73,
    "start_time": "2021-08-20T12:31:42.243Z"
   },
   {
    "duration": 127,
    "start_time": "2021-08-20T12:31:42.319Z"
   },
   {
    "duration": 21,
    "start_time": "2021-08-20T12:31:42.449Z"
   },
   {
    "duration": 300,
    "start_time": "2021-08-20T12:31:42.472Z"
   },
   {
    "duration": 134,
    "start_time": "2021-08-20T12:31:42.775Z"
   },
   {
    "duration": 43,
    "start_time": "2021-08-20T12:31:42.912Z"
   },
   {
    "duration": 161,
    "start_time": "2021-08-20T12:31:42.957Z"
   },
   {
    "duration": 9,
    "start_time": "2021-08-20T12:31:43.120Z"
   },
   {
    "duration": 18,
    "start_time": "2021-08-20T12:31:43.132Z"
   },
   {
    "duration": 157,
    "start_time": "2021-08-20T12:31:43.153Z"
   },
   {
    "duration": 148,
    "start_time": "2021-08-20T12:31:43.313Z"
   },
   {
    "duration": 7,
    "start_time": "2021-08-20T12:31:43.463Z"
   },
   {
    "duration": 304,
    "start_time": "2021-08-20T12:31:43.472Z"
   },
   {
    "duration": 12,
    "start_time": "2021-08-20T12:31:43.778Z"
   },
   {
    "duration": 8,
    "start_time": "2021-08-20T12:31:43.793Z"
   },
   {
    "duration": 391,
    "start_time": "2021-08-20T12:31:43.804Z"
   },
   {
    "duration": 8,
    "start_time": "2021-08-20T12:31:44.197Z"
   },
   {
    "duration": 49,
    "start_time": "2021-08-20T12:31:44.207Z"
   },
   {
    "duration": 107,
    "start_time": "2021-08-20T12:31:44.259Z"
   },
   {
    "duration": 18,
    "start_time": "2021-08-20T12:31:44.369Z"
   },
   {
    "duration": 14,
    "start_time": "2021-08-20T12:31:44.389Z"
   },
   {
    "duration": 12,
    "start_time": "2021-08-20T12:31:44.405Z"
   },
   {
    "duration": 120,
    "start_time": "2021-08-20T12:31:44.419Z"
   },
   {
    "duration": 5,
    "start_time": "2021-08-20T12:31:44.541Z"
   },
   {
    "duration": 13,
    "start_time": "2021-08-20T12:31:44.548Z"
   },
   {
    "duration": 269,
    "start_time": "2021-08-20T12:31:44.564Z"
   },
   {
    "duration": 52,
    "start_time": "2021-08-20T12:31:44.836Z"
   },
   {
    "duration": 66,
    "start_time": "2021-08-20T12:31:44.891Z"
   },
   {
    "duration": 48,
    "start_time": "2021-08-20T12:31:44.966Z"
   },
   {
    "duration": 62,
    "start_time": "2021-08-20T12:31:45.017Z"
   },
   {
    "duration": 53,
    "start_time": "2021-08-20T12:31:45.082Z"
   },
   {
    "duration": 55,
    "start_time": "2021-08-20T12:31:45.137Z"
   },
   {
    "duration": 63,
    "start_time": "2021-08-20T12:31:45.194Z"
   },
   {
    "duration": 68,
    "start_time": "2021-08-20T12:31:45.260Z"
   },
   {
    "duration": 23,
    "start_time": "2021-08-20T12:31:45.331Z"
   },
   {
    "duration": 1551,
    "start_time": "2021-08-20T12:31:45.356Z"
   },
   {
    "duration": 167,
    "start_time": "2021-08-20T12:31:46.910Z"
   },
   {
    "duration": 2789,
    "start_time": "2021-08-20T12:31:47.079Z"
   },
   {
    "duration": 24,
    "start_time": "2021-08-20T12:31:49.870Z"
   },
   {
    "duration": 105,
    "start_time": "2021-08-20T12:31:49.897Z"
   },
   {
    "duration": 29,
    "start_time": "2021-08-20T12:31:50.005Z"
   },
   {
    "duration": 33,
    "start_time": "2021-08-20T12:31:50.036Z"
   },
   {
    "duration": 5,
    "start_time": "2021-08-20T12:31:50.071Z"
   },
   {
    "duration": 28,
    "start_time": "2021-08-20T12:31:50.078Z"
   },
   {
    "duration": 49,
    "start_time": "2021-08-20T12:31:50.108Z"
   },
   {
    "duration": 828,
    "start_time": "2021-08-20T12:31:50.159Z"
   },
   {
    "duration": 29,
    "start_time": "2021-08-20T12:31:50.991Z"
   },
   {
    "duration": 14,
    "start_time": "2021-08-20T12:31:51.022Z"
   },
   {
    "duration": 20,
    "start_time": "2021-08-20T12:31:51.038Z"
   },
   {
    "duration": 27,
    "start_time": "2021-08-20T12:31:51.061Z"
   },
   {
    "duration": 149990,
    "start_time": "2021-08-20T12:31:51.090Z"
   },
   {
    "duration": 192,
    "start_time": "2021-08-20T12:34:21.086Z"
   },
   {
    "duration": 6,
    "start_time": "2021-08-20T12:34:21.280Z"
   },
   {
    "duration": 18,
    "start_time": "2021-08-20T12:34:21.288Z"
   },
   {
    "duration": 193,
    "start_time": "2021-08-20T12:34:21.309Z"
   },
   {
    "duration": 4,
    "start_time": "2021-08-20T12:34:21.505Z"
   },
   {
    "duration": 10,
    "start_time": "2021-08-20T12:34:21.512Z"
   },
   {
    "duration": 19,
    "start_time": "2021-08-20T12:34:21.524Z"
   },
   {
    "duration": 11,
    "start_time": "2021-08-20T12:34:21.545Z"
   },
   {
    "duration": 626431,
    "start_time": "2021-08-20T12:34:21.559Z"
   },
   {
    "duration": 1497,
    "start_time": "2021-08-20T12:44:47.993Z"
   },
   {
    "duration": 5,
    "start_time": "2021-08-20T12:44:49.493Z"
   },
   {
    "duration": 10,
    "start_time": "2021-08-20T12:44:49.501Z"
   },
   {
    "duration": 1544,
    "start_time": "2021-08-20T12:44:49.514Z"
   },
   {
    "duration": 5,
    "start_time": "2021-08-20T12:44:51.060Z"
   },
   {
    "duration": 22,
    "start_time": "2021-08-20T12:44:51.067Z"
   },
   {
    "duration": 18,
    "start_time": "2021-08-20T12:44:51.091Z"
   },
   {
    "duration": 21,
    "start_time": "2021-08-20T12:44:51.111Z"
   },
   {
    "duration": 128268,
    "start_time": "2021-08-20T12:44:51.135Z"
   },
   {
    "duration": 9593,
    "start_time": "2021-08-20T12:46:59.405Z"
   },
   {
    "duration": 6,
    "start_time": "2021-08-20T12:47:09.001Z"
   },
   {
    "duration": 12,
    "start_time": "2021-08-20T12:47:09.010Z"
   },
   {
    "duration": 11,
    "start_time": "2021-08-20T12:54:12.261Z"
   },
   {
    "duration": 12,
    "start_time": "2021-08-20T12:57:57.154Z"
   },
   {
    "duration": 422,
    "start_time": "2021-08-20T12:57:59.510Z"
   },
   {
    "duration": 121,
    "start_time": "2021-08-20T12:59:32.480Z"
   },
   {
    "duration": 13,
    "start_time": "2021-08-20T13:00:15.925Z"
   },
   {
    "duration": 392,
    "start_time": "2021-08-20T13:00:17.958Z"
   },
   {
    "duration": 386,
    "start_time": "2021-08-20T13:00:31.950Z"
   },
   {
    "duration": 399,
    "start_time": "2021-08-20T13:00:44.182Z"
   },
   {
    "duration": 430,
    "start_time": "2021-08-20T13:02:42.483Z"
   },
   {
    "duration": 134,
    "start_time": "2021-08-20T13:02:59.548Z"
   },
   {
    "duration": 407,
    "start_time": "2021-08-20T13:03:02.764Z"
   },
   {
    "duration": 362,
    "start_time": "2021-08-20T13:03:08.563Z"
   },
   {
    "duration": 328,
    "start_time": "2021-08-20T13:03:21.004Z"
   },
   {
    "duration": 12,
    "start_time": "2021-08-20T13:03:28.244Z"
   },
   {
    "duration": 320,
    "start_time": "2021-08-20T13:03:29.668Z"
   },
   {
    "duration": 21,
    "start_time": "2021-08-20T13:06:00.724Z"
   },
   {
    "duration": 15,
    "start_time": "2021-08-20T13:06:15.314Z"
   },
   {
    "duration": 18,
    "start_time": "2021-08-20T13:06:41.419Z"
   },
   {
    "duration": 15,
    "start_time": "2021-08-20T13:06:52.202Z"
   },
   {
    "duration": 14,
    "start_time": "2021-08-20T13:07:02.988Z"
   },
   {
    "duration": 328,
    "start_time": "2021-08-20T13:07:08.442Z"
   },
   {
    "duration": 339,
    "start_time": "2021-08-20T13:08:27.563Z"
   },
   {
    "duration": 14,
    "start_time": "2021-08-20T13:08:48.355Z"
   },
   {
    "duration": 19,
    "start_time": "2021-08-20T13:08:59.158Z"
   },
   {
    "duration": 14,
    "start_time": "2021-08-20T13:09:06.419Z"
   },
   {
    "duration": 333,
    "start_time": "2021-08-20T13:09:07.986Z"
   },
   {
    "duration": 361,
    "start_time": "2021-08-20T13:09:20.674Z"
   },
   {
    "duration": 406,
    "start_time": "2021-08-20T13:09:25.554Z"
   },
   {
    "duration": 367,
    "start_time": "2021-08-20T13:09:50.051Z"
   },
   {
    "duration": 480,
    "start_time": "2021-08-20T13:10:53.539Z"
   },
   {
    "duration": 220,
    "start_time": "2021-08-21T10:17:45.452Z"
   },
   {
    "duration": 1091,
    "start_time": "2021-08-21T10:18:09.834Z"
   },
   {
    "duration": 4663,
    "start_time": "2021-08-21T10:18:10.927Z"
   },
   {
    "duration": 122,
    "start_time": "2021-08-21T10:18:15.592Z"
   },
   {
    "duration": 3,
    "start_time": "2021-08-21T10:18:15.716Z"
   },
   {
    "duration": 17,
    "start_time": "2021-08-21T10:18:15.721Z"
   },
   {
    "duration": 16,
    "start_time": "2021-08-21T10:18:15.739Z"
   },
   {
    "duration": 6,
    "start_time": "2021-08-21T10:18:15.757Z"
   },
   {
    "duration": 117,
    "start_time": "2021-08-21T10:18:15.766Z"
   },
   {
    "duration": 140,
    "start_time": "2021-08-21T10:18:15.886Z"
   },
   {
    "duration": 7,
    "start_time": "2021-08-21T10:18:16.028Z"
   },
   {
    "duration": 65,
    "start_time": "2021-08-21T10:18:16.036Z"
   },
   {
    "duration": 25,
    "start_time": "2021-08-21T10:18:16.102Z"
   },
   {
    "duration": 5,
    "start_time": "2021-08-21T10:18:16.128Z"
   },
   {
    "duration": 13,
    "start_time": "2021-08-21T10:18:16.134Z"
   },
   {
    "duration": 58,
    "start_time": "2021-08-21T10:18:16.148Z"
   },
   {
    "duration": 108,
    "start_time": "2021-08-21T10:18:16.208Z"
   },
   {
    "duration": 8,
    "start_time": "2021-08-21T10:18:16.319Z"
   },
   {
    "duration": 13,
    "start_time": "2021-08-21T10:18:16.329Z"
   },
   {
    "duration": 67,
    "start_time": "2021-08-21T10:18:16.344Z"
   },
   {
    "duration": 92,
    "start_time": "2021-08-21T10:18:16.413Z"
   },
   {
    "duration": 8,
    "start_time": "2021-08-21T10:18:16.507Z"
   },
   {
    "duration": 12,
    "start_time": "2021-08-21T10:18:16.516Z"
   },
   {
    "duration": 11,
    "start_time": "2021-08-21T10:18:16.532Z"
   },
   {
    "duration": 124,
    "start_time": "2021-08-21T10:18:16.546Z"
   },
   {
    "duration": 87,
    "start_time": "2021-08-21T10:18:16.672Z"
   },
   {
    "duration": 1294,
    "start_time": "2021-08-21T10:18:16.761Z"
   },
   {
    "duration": 105,
    "start_time": "2021-08-21T10:18:18.058Z"
   },
   {
    "duration": 38,
    "start_time": "2021-08-21T10:18:18.165Z"
   },
   {
    "duration": 280,
    "start_time": "2021-08-21T10:18:18.204Z"
   },
   {
    "duration": 15,
    "start_time": "2021-08-21T10:18:18.486Z"
   },
   {
    "duration": 268,
    "start_time": "2021-08-21T10:18:18.503Z"
   },
   {
    "duration": 35,
    "start_time": "2021-08-21T10:18:18.773Z"
   },
   {
    "duration": 265,
    "start_time": "2021-08-21T10:18:18.810Z"
   },
   {
    "duration": 108,
    "start_time": "2021-08-21T10:18:19.076Z"
   },
   {
    "duration": 715,
    "start_time": "2021-08-21T10:18:19.186Z"
   },
   {
    "duration": 103,
    "start_time": "2021-08-21T10:18:19.903Z"
   },
   {
    "duration": 497,
    "start_time": "2021-08-21T10:18:20.008Z"
   },
   {
    "duration": 110,
    "start_time": "2021-08-21T10:18:20.508Z"
   },
   {
    "duration": 17,
    "start_time": "2021-08-21T10:18:20.621Z"
   },
   {
    "duration": 53,
    "start_time": "2021-08-21T10:18:20.640Z"
   },
   {
    "duration": 90,
    "start_time": "2021-08-21T10:18:20.695Z"
   },
   {
    "duration": 16,
    "start_time": "2021-08-21T10:18:20.788Z"
   },
   {
    "duration": 224,
    "start_time": "2021-08-21T10:18:20.806Z"
   },
   {
    "duration": 116,
    "start_time": "2021-08-21T10:18:21.032Z"
   },
   {
    "duration": 41,
    "start_time": "2021-08-21T10:18:21.150Z"
   },
   {
    "duration": 99,
    "start_time": "2021-08-21T10:18:21.193Z"
   },
   {
    "duration": 9,
    "start_time": "2021-08-21T10:18:21.294Z"
   },
   {
    "duration": 15,
    "start_time": "2021-08-21T10:18:21.305Z"
   },
   {
    "duration": 126,
    "start_time": "2021-08-21T10:18:21.322Z"
   },
   {
    "duration": 116,
    "start_time": "2021-08-21T10:18:21.451Z"
   },
   {
    "duration": 19,
    "start_time": "2021-08-21T10:18:21.569Z"
   },
   {
    "duration": 227,
    "start_time": "2021-08-21T10:18:21.590Z"
   },
   {
    "duration": 6,
    "start_time": "2021-08-21T10:18:21.819Z"
   },
   {
    "duration": 7,
    "start_time": "2021-08-21T10:18:21.827Z"
   },
   {
    "duration": 223,
    "start_time": "2021-08-21T10:18:21.836Z"
   },
   {
    "duration": 6,
    "start_time": "2021-08-21T10:18:22.061Z"
   },
   {
    "duration": 49,
    "start_time": "2021-08-21T10:18:22.069Z"
   },
   {
    "duration": 76,
    "start_time": "2021-08-21T10:18:22.121Z"
   },
   {
    "duration": 5,
    "start_time": "2021-08-21T10:18:22.198Z"
   },
   {
    "duration": 7,
    "start_time": "2021-08-21T10:18:22.205Z"
   },
   {
    "duration": 7,
    "start_time": "2021-08-21T10:18:22.214Z"
   },
   {
    "duration": 97,
    "start_time": "2021-08-21T10:18:22.223Z"
   },
   {
    "duration": 4,
    "start_time": "2021-08-21T10:18:22.321Z"
   },
   {
    "duration": 11,
    "start_time": "2021-08-21T10:18:22.327Z"
   },
   {
    "duration": 204,
    "start_time": "2021-08-21T10:18:22.339Z"
   },
   {
    "duration": 40,
    "start_time": "2021-08-21T10:18:22.544Z"
   },
   {
    "duration": 33,
    "start_time": "2021-08-21T10:18:22.586Z"
   },
   {
    "duration": 33,
    "start_time": "2021-08-21T10:18:22.626Z"
   },
   {
    "duration": 52,
    "start_time": "2021-08-21T10:18:22.662Z"
   },
   {
    "duration": 40,
    "start_time": "2021-08-21T10:18:22.716Z"
   },
   {
    "duration": 36,
    "start_time": "2021-08-21T10:18:22.758Z"
   },
   {
    "duration": 43,
    "start_time": "2021-08-21T10:18:22.796Z"
   },
   {
    "duration": 54,
    "start_time": "2021-08-21T10:18:22.841Z"
   },
   {
    "duration": 14,
    "start_time": "2021-08-21T10:18:22.897Z"
   },
   {
    "duration": 977,
    "start_time": "2021-08-21T10:18:22.913Z"
   },
   {
    "duration": 142,
    "start_time": "2021-08-21T10:18:23.892Z"
   },
   {
    "duration": 1937,
    "start_time": "2021-08-21T10:18:24.035Z"
   },
   {
    "duration": 18,
    "start_time": "2021-08-21T10:18:25.974Z"
   },
   {
    "duration": 111,
    "start_time": "2021-08-21T10:18:25.994Z"
   },
   {
    "duration": 31,
    "start_time": "2021-08-21T10:18:26.106Z"
   },
   {
    "duration": 47,
    "start_time": "2021-08-21T10:18:26.138Z"
   },
   {
    "duration": 3,
    "start_time": "2021-08-21T10:18:26.187Z"
   },
   {
    "duration": 15,
    "start_time": "2021-08-21T10:18:26.192Z"
   },
   {
    "duration": 31,
    "start_time": "2021-08-21T10:18:26.208Z"
   },
   {
    "duration": 217,
    "start_time": "2021-08-21T10:18:26.241Z"
   },
   {
    "duration": 16,
    "start_time": "2021-08-21T10:18:26.460Z"
   },
   {
    "duration": 9,
    "start_time": "2021-08-21T10:18:26.478Z"
   },
   {
    "duration": 10,
    "start_time": "2021-08-21T10:18:26.489Z"
   },
   {
    "duration": 6,
    "start_time": "2021-08-21T10:18:26.501Z"
   },
   {
    "duration": 112145,
    "start_time": "2021-08-21T10:18:26.508Z"
   },
   {
    "duration": 174,
    "start_time": "2021-08-21T10:20:18.655Z"
   },
   {
    "duration": 3,
    "start_time": "2021-08-21T10:20:18.831Z"
   },
   {
    "duration": 9,
    "start_time": "2021-08-21T10:20:18.836Z"
   },
   {
    "duration": 178,
    "start_time": "2021-08-21T10:20:18.846Z"
   },
   {
    "duration": 3,
    "start_time": "2021-08-21T10:20:19.026Z"
   },
   {
    "duration": 7,
    "start_time": "2021-08-21T10:20:19.031Z"
   },
   {
    "duration": 8,
    "start_time": "2021-08-21T10:20:19.040Z"
   },
   {
    "duration": 10,
    "start_time": "2021-08-21T10:20:19.050Z"
   },
   {
    "duration": 507797,
    "start_time": "2021-08-21T10:20:19.061Z"
   },
   {
    "duration": 1182,
    "start_time": "2021-08-21T10:28:46.860Z"
   },
   {
    "duration": 4,
    "start_time": "2021-08-21T10:28:48.044Z"
   },
   {
    "duration": 7,
    "start_time": "2021-08-21T10:28:48.049Z"
   },
   {
    "duration": 1205,
    "start_time": "2021-08-21T10:28:48.057Z"
   },
   {
    "duration": 4,
    "start_time": "2021-08-21T10:28:49.264Z"
   },
   {
    "duration": 16,
    "start_time": "2021-08-21T10:28:49.270Z"
   },
   {
    "duration": 5,
    "start_time": "2021-08-21T10:28:49.288Z"
   },
   {
    "duration": 5,
    "start_time": "2021-08-21T10:28:49.295Z"
   },
   {
    "duration": 154792,
    "start_time": "2021-08-21T10:28:49.301Z"
   },
   {
    "duration": 8413,
    "start_time": "2021-08-21T10:31:24.095Z"
   },
   {
    "duration": 4,
    "start_time": "2021-08-21T10:31:32.510Z"
   },
   {
    "duration": 15,
    "start_time": "2021-08-21T10:31:32.516Z"
   },
   {
    "duration": 29,
    "start_time": "2021-08-21T10:31:32.532Z"
   },
   {
    "duration": 248,
    "start_time": "2021-08-21T10:31:32.562Z"
   },
   {
    "duration": 272,
    "start_time": "2021-08-21T10:31:32.811Z"
   },
   {
    "duration": 12,
    "start_time": "2021-08-21T10:32:41.764Z"
   },
   {
    "duration": 235,
    "start_time": "2021-08-21T10:32:42.839Z"
   },
   {
    "duration": 219,
    "start_time": "2021-08-21T10:32:46.421Z"
   },
   {
    "duration": 300,
    "start_time": "2021-08-21T10:34:16.885Z"
   },
   {
    "duration": 11,
    "start_time": "2021-08-21T10:34:23.475Z"
   },
   {
    "duration": 237,
    "start_time": "2021-08-21T10:34:24.208Z"
   },
   {
    "duration": 238,
    "start_time": "2021-08-21T10:35:48.730Z"
   },
   {
    "duration": 171,
    "start_time": "2021-08-21T10:40:18.599Z"
   },
   {
    "duration": 181,
    "start_time": "2021-08-21T10:40:21.220Z"
   },
   {
    "duration": 5,
    "start_time": "2021-08-21T10:41:42.772Z"
   },
   {
    "duration": 193,
    "start_time": "2021-08-21T10:42:30.178Z"
   },
   {
    "duration": 187,
    "start_time": "2021-08-21T10:42:40.002Z"
   },
   {
    "duration": 909,
    "start_time": "2021-08-21T10:44:38.799Z"
   },
   {
    "duration": 997,
    "start_time": "2021-08-21T10:44:47.841Z"
   },
   {
    "duration": 194,
    "start_time": "2021-08-21T10:45:59.005Z"
   },
   {
    "duration": 58,
    "start_time": "2021-08-21T10:49:58.653Z"
   },
   {
    "duration": 174,
    "start_time": "2021-08-21T10:50:08.893Z"
   },
   {
    "duration": 186,
    "start_time": "2021-08-21T10:50:21.995Z"
   },
   {
    "duration": 61,
    "start_time": "2021-08-21T10:53:10.665Z"
   },
   {
    "duration": 6,
    "start_time": "2021-08-21T10:53:14.987Z"
   },
   {
    "duration": 4,
    "start_time": "2021-08-21T10:53:46.844Z"
   },
   {
    "duration": 363,
    "start_time": "2021-08-21T10:54:19.747Z"
   },
   {
    "duration": 4,
    "start_time": "2021-08-21T10:54:32.642Z"
   },
   {
    "duration": 338,
    "start_time": "2021-08-21T10:54:33.641Z"
   },
   {
    "duration": 4,
    "start_time": "2021-08-21T10:54:37.476Z"
   },
   {
    "duration": 361,
    "start_time": "2021-08-21T10:54:38.031Z"
   },
   {
    "duration": 5,
    "start_time": "2021-08-21T10:54:50.904Z"
   },
   {
    "duration": 2293,
    "start_time": "2021-08-21T10:54:51.616Z"
   },
   {
    "duration": 6,
    "start_time": "2021-08-21T10:56:32.506Z"
   },
   {
    "duration": 1421,
    "start_time": "2021-08-21T10:56:32.865Z"
   },
   {
    "duration": 5,
    "start_time": "2021-08-21T10:57:04.304Z"
   },
   {
    "duration": 1183,
    "start_time": "2021-08-21T10:57:04.698Z"
   },
   {
    "duration": 4,
    "start_time": "2021-08-21T10:57:18.750Z"
   },
   {
    "duration": 1090,
    "start_time": "2021-08-21T10:57:19.291Z"
   },
   {
    "duration": 6,
    "start_time": "2021-08-21T10:57:33.500Z"
   },
   {
    "duration": 1515,
    "start_time": "2021-08-21T10:57:34.079Z"
   },
   {
    "duration": 11,
    "start_time": "2021-08-21T10:57:50.234Z"
   },
   {
    "duration": 1513,
    "start_time": "2021-08-21T10:57:50.654Z"
   },
   {
    "duration": 4,
    "start_time": "2021-08-21T10:57:59.383Z"
   },
   {
    "duration": 1401,
    "start_time": "2021-08-21T10:57:59.958Z"
   },
   {
    "duration": 12,
    "start_time": "2021-08-21T11:07:42.302Z"
   },
   {
    "duration": 306,
    "start_time": "2021-08-21T11:07:43.043Z"
   },
   {
    "duration": 313,
    "start_time": "2021-08-21T11:07:54.616Z"
   },
   {
    "duration": 316,
    "start_time": "2021-08-21T11:08:27.693Z"
   },
   {
    "duration": 12,
    "start_time": "2021-08-21T11:08:36.074Z"
   },
   {
    "duration": 317,
    "start_time": "2021-08-21T11:08:36.685Z"
   },
   {
    "duration": 292,
    "start_time": "2021-08-21T11:08:55.067Z"
   },
   {
    "duration": 286,
    "start_time": "2021-08-21T11:09:01.554Z"
   },
   {
    "duration": 11,
    "start_time": "2021-08-21T11:09:16.091Z"
   },
   {
    "duration": 293,
    "start_time": "2021-08-21T11:09:16.407Z"
   },
   {
    "duration": 62,
    "start_time": "2021-08-21T11:09:21.907Z"
   },
   {
    "duration": 4,
    "start_time": "2021-08-21T11:09:24.076Z"
   },
   {
    "duration": 291,
    "start_time": "2021-08-21T11:09:32.139Z"
   },
   {
    "duration": 4,
    "start_time": "2021-08-21T11:10:00.332Z"
   },
   {
    "duration": 309,
    "start_time": "2021-08-21T11:10:06.582Z"
   },
   {
    "duration": 293,
    "start_time": "2021-08-21T11:12:35.219Z"
   },
   {
    "duration": 616,
    "start_time": "2021-08-21T11:12:38.491Z"
   },
   {
    "duration": 308,
    "start_time": "2021-08-21T11:12:47.816Z"
   },
   {
    "duration": 427,
    "start_time": "2021-08-21T11:12:51.957Z"
   },
   {
    "duration": 322,
    "start_time": "2021-08-21T11:12:54.353Z"
   },
   {
    "duration": 294,
    "start_time": "2021-08-21T11:13:00.911Z"
   },
   {
    "duration": 282,
    "start_time": "2021-08-21T11:13:12.228Z"
   },
   {
    "duration": 304,
    "start_time": "2021-08-21T11:13:17.478Z"
   },
   {
    "duration": 285,
    "start_time": "2021-08-21T11:13:23.521Z"
   },
   {
    "duration": 281,
    "start_time": "2021-08-21T11:13:27.599Z"
   },
   {
    "duration": 3,
    "start_time": "2021-08-21T11:15:12.045Z"
   },
   {
    "duration": 4,
    "start_time": "2021-08-21T11:15:15.478Z"
   },
   {
    "duration": 2122,
    "start_time": "2021-08-21T11:15:17.693Z"
   },
   {
    "duration": 309,
    "start_time": "2021-08-21T11:15:25.592Z"
   },
   {
    "duration": 1180,
    "start_time": "2021-08-21T11:15:40.396Z"
   },
   {
    "duration": 3049,
    "start_time": "2021-08-21T11:15:41.578Z"
   },
   {
    "duration": 123,
    "start_time": "2021-08-21T11:15:44.629Z"
   },
   {
    "duration": 3,
    "start_time": "2021-08-21T11:15:44.754Z"
   },
   {
    "duration": 9,
    "start_time": "2021-08-21T11:15:44.758Z"
   },
   {
    "duration": 3,
    "start_time": "2021-08-21T11:15:44.784Z"
   },
   {
    "duration": 4,
    "start_time": "2021-08-21T11:15:44.789Z"
   },
   {
    "duration": 131,
    "start_time": "2021-08-21T11:15:44.796Z"
   },
   {
    "duration": 147,
    "start_time": "2021-08-21T11:15:44.930Z"
   },
   {
    "duration": 11,
    "start_time": "2021-08-21T11:15:45.079Z"
   },
   {
    "duration": 49,
    "start_time": "2021-08-21T11:15:45.091Z"
   },
   {
    "duration": 17,
    "start_time": "2021-08-21T11:15:45.142Z"
   },
   {
    "duration": 26,
    "start_time": "2021-08-21T11:15:45.160Z"
   },
   {
    "duration": 13,
    "start_time": "2021-08-21T11:15:45.187Z"
   },
   {
    "duration": 47,
    "start_time": "2021-08-21T11:15:45.202Z"
   },
   {
    "duration": 119,
    "start_time": "2021-08-21T11:15:45.251Z"
   },
   {
    "duration": 15,
    "start_time": "2021-08-21T11:15:45.372Z"
   },
   {
    "duration": 5,
    "start_time": "2021-08-21T11:15:45.389Z"
   },
   {
    "duration": 47,
    "start_time": "2021-08-21T11:15:45.396Z"
   },
   {
    "duration": 103,
    "start_time": "2021-08-21T11:15:45.445Z"
   },
   {
    "duration": 8,
    "start_time": "2021-08-21T11:15:45.549Z"
   },
   {
    "duration": 11,
    "start_time": "2021-08-21T11:15:45.559Z"
   },
   {
    "duration": 12,
    "start_time": "2021-08-21T11:15:45.586Z"
   },
   {
    "duration": 107,
    "start_time": "2021-08-21T11:15:45.601Z"
   },
   {
    "duration": 94,
    "start_time": "2021-08-21T11:15:45.710Z"
   },
   {
    "duration": 1297,
    "start_time": "2021-08-21T11:15:45.806Z"
   },
   {
    "duration": 104,
    "start_time": "2021-08-21T11:15:47.105Z"
   },
   {
    "duration": 30,
    "start_time": "2021-08-21T11:15:47.211Z"
   },
   {
    "duration": 268,
    "start_time": "2021-08-21T11:15:47.243Z"
   },
   {
    "duration": 15,
    "start_time": "2021-08-21T11:15:47.512Z"
   },
   {
    "duration": 273,
    "start_time": "2021-08-21T11:15:47.528Z"
   },
   {
    "duration": 33,
    "start_time": "2021-08-21T11:15:47.803Z"
   },
   {
    "duration": 262,
    "start_time": "2021-08-21T11:15:47.838Z"
   },
   {
    "duration": 106,
    "start_time": "2021-08-21T11:15:48.102Z"
   },
   {
    "duration": 736,
    "start_time": "2021-08-21T11:15:48.209Z"
   },
   {
    "duration": 105,
    "start_time": "2021-08-21T11:15:48.947Z"
   },
   {
    "duration": 477,
    "start_time": "2021-08-21T11:15:49.053Z"
   },
   {
    "duration": 105,
    "start_time": "2021-08-21T11:15:49.531Z"
   },
   {
    "duration": 16,
    "start_time": "2021-08-21T11:15:49.638Z"
   },
   {
    "duration": 48,
    "start_time": "2021-08-21T11:15:49.656Z"
   },
   {
    "duration": 87,
    "start_time": "2021-08-21T11:15:49.706Z"
   },
   {
    "duration": 16,
    "start_time": "2021-08-21T11:15:49.794Z"
   },
   {
    "duration": 214,
    "start_time": "2021-08-21T11:15:49.811Z"
   },
   {
    "duration": 113,
    "start_time": "2021-08-21T11:15:50.027Z"
   },
   {
    "duration": 31,
    "start_time": "2021-08-21T11:15:50.141Z"
   },
   {
    "duration": 85,
    "start_time": "2021-08-21T11:15:50.185Z"
   },
   {
    "duration": 16,
    "start_time": "2021-08-21T11:15:50.272Z"
   },
   {
    "duration": 13,
    "start_time": "2021-08-21T11:15:50.290Z"
   },
   {
    "duration": 115,
    "start_time": "2021-08-21T11:15:50.305Z"
   },
   {
    "duration": 109,
    "start_time": "2021-08-21T11:15:50.422Z"
   },
   {
    "duration": 4,
    "start_time": "2021-08-21T11:15:50.533Z"
   },
   {
    "duration": 201,
    "start_time": "2021-08-21T11:15:50.539Z"
   },
   {
    "duration": 5,
    "start_time": "2021-08-21T11:15:50.742Z"
   },
   {
    "duration": 8,
    "start_time": "2021-08-21T11:15:50.749Z"
   },
   {
    "duration": 197,
    "start_time": "2021-08-21T11:15:50.759Z"
   },
   {
    "duration": 6,
    "start_time": "2021-08-21T11:15:50.957Z"
   },
   {
    "duration": 42,
    "start_time": "2021-08-21T11:15:50.964Z"
   },
   {
    "duration": 58,
    "start_time": "2021-08-21T11:15:51.007Z"
   },
   {
    "duration": 4,
    "start_time": "2021-08-21T11:15:51.067Z"
   },
   {
    "duration": 14,
    "start_time": "2021-08-21T11:15:51.073Z"
   },
   {
    "duration": 6,
    "start_time": "2021-08-21T11:15:51.089Z"
   },
   {
    "duration": 68,
    "start_time": "2021-08-21T11:15:51.097Z"
   },
   {
    "duration": 20,
    "start_time": "2021-08-21T11:15:51.167Z"
   },
   {
    "duration": 5,
    "start_time": "2021-08-21T11:15:51.189Z"
   },
   {
    "duration": 200,
    "start_time": "2021-08-21T11:15:51.196Z"
   },
   {
    "duration": 31,
    "start_time": "2021-08-21T11:15:51.398Z"
   },
   {
    "duration": 34,
    "start_time": "2021-08-21T11:15:51.431Z"
   },
   {
    "duration": 31,
    "start_time": "2021-08-21T11:15:51.486Z"
   },
   {
    "duration": 33,
    "start_time": "2021-08-21T11:15:51.520Z"
   },
   {
    "duration": 68,
    "start_time": "2021-08-21T11:15:51.555Z"
   },
   {
    "duration": 58,
    "start_time": "2021-08-21T11:15:51.630Z"
   },
   {
    "duration": 61,
    "start_time": "2021-08-21T11:15:51.690Z"
   },
   {
    "duration": 40,
    "start_time": "2021-08-21T11:15:51.752Z"
   },
   {
    "duration": 12,
    "start_time": "2021-08-21T11:15:51.794Z"
   },
   {
    "duration": 947,
    "start_time": "2021-08-21T11:15:51.808Z"
   },
   {
    "duration": 147,
    "start_time": "2021-08-21T11:15:52.756Z"
   },
   {
    "duration": 1637,
    "start_time": "2021-08-21T11:15:52.905Z"
   },
   {
    "duration": 14,
    "start_time": "2021-08-21T11:15:54.544Z"
   },
   {
    "duration": 110,
    "start_time": "2021-08-21T11:15:54.560Z"
   },
   {
    "duration": 37,
    "start_time": "2021-08-21T11:15:54.672Z"
   },
   {
    "duration": 30,
    "start_time": "2021-08-21T11:15:54.710Z"
   },
   {
    "duration": 4,
    "start_time": "2021-08-21T11:15:54.741Z"
   },
   {
    "duration": 5,
    "start_time": "2021-08-21T11:15:54.747Z"
   },
   {
    "duration": 39,
    "start_time": "2021-08-21T11:15:54.753Z"
   },
   {
    "duration": 210,
    "start_time": "2021-08-21T11:15:54.793Z"
   },
   {
    "duration": 16,
    "start_time": "2021-08-21T11:15:55.005Z"
   },
   {
    "duration": 5,
    "start_time": "2021-08-21T11:15:55.022Z"
   },
   {
    "duration": 3,
    "start_time": "2021-08-21T11:15:55.029Z"
   },
   {
    "duration": 6,
    "start_time": "2021-08-21T11:15:55.033Z"
   },
   {
    "duration": 113686,
    "start_time": "2021-08-21T11:15:55.041Z"
   },
   {
    "duration": 177,
    "start_time": "2021-08-21T11:17:48.729Z"
   },
   {
    "duration": 4,
    "start_time": "2021-08-21T11:17:48.908Z"
   },
   {
    "duration": 11,
    "start_time": "2021-08-21T11:17:48.914Z"
   },
   {
    "duration": 183,
    "start_time": "2021-08-21T11:17:48.927Z"
   },
   {
    "duration": 5,
    "start_time": "2021-08-21T11:17:49.112Z"
   },
   {
    "duration": 12,
    "start_time": "2021-08-21T11:17:49.118Z"
   },
   {
    "duration": 16,
    "start_time": "2021-08-21T11:17:49.132Z"
   },
   {
    "duration": 22,
    "start_time": "2021-08-21T11:17:49.149Z"
   },
   {
    "duration": 510003,
    "start_time": "2021-08-21T11:17:49.173Z"
   },
   {
    "duration": 1174,
    "start_time": "2021-08-21T11:26:19.177Z"
   },
   {
    "duration": 3,
    "start_time": "2021-08-21T11:26:20.352Z"
   },
   {
    "duration": 8,
    "start_time": "2021-08-21T11:26:20.357Z"
   },
   {
    "duration": 1153,
    "start_time": "2021-08-21T11:26:20.367Z"
   },
   {
    "duration": 3,
    "start_time": "2021-08-21T11:26:21.522Z"
   },
   {
    "duration": 7,
    "start_time": "2021-08-21T11:26:21.526Z"
   },
   {
    "duration": 5,
    "start_time": "2021-08-21T11:26:21.534Z"
   },
   {
    "duration": 6,
    "start_time": "2021-08-21T11:26:21.540Z"
   },
   {
    "duration": 93454,
    "start_time": "2021-08-21T11:26:21.548Z"
   },
   {
    "duration": 8996,
    "start_time": "2021-08-21T11:27:55.004Z"
   },
   {
    "duration": 4,
    "start_time": "2021-08-21T11:28:04.002Z"
   },
   {
    "duration": 9,
    "start_time": "2021-08-21T11:28:04.007Z"
   },
   {
    "duration": 31,
    "start_time": "2021-08-21T11:28:04.018Z"
   },
   {
    "duration": 254,
    "start_time": "2021-08-21T11:28:04.051Z"
   },
   {
    "duration": 4,
    "start_time": "2021-08-21T11:28:04.307Z"
   },
   {
    "duration": 2153,
    "start_time": "2021-08-21T11:28:04.312Z"
   }
  ],
  "kernelspec": {
   "display_name": "Python 3",
   "language": "python",
   "name": "python3"
  },
  "language_info": {
   "codemirror_mode": {
    "name": "ipython",
    "version": 3
   },
   "file_extension": ".py",
   "mimetype": "text/x-python",
   "name": "python",
   "nbconvert_exporter": "python",
   "pygments_lexer": "ipython3",
   "version": "3.8.8"
  },
  "toc": {
   "base_numbering": 1,
   "nav_menu": {},
   "number_sections": true,
   "sideBar": true,
   "skip_h1_title": true,
   "title_cell": "Table of Contents",
   "title_sidebar": "Contents",
   "toc_cell": false,
   "toc_position": {
    "height": "calc(100% - 180px)",
    "left": "10px",
    "top": "150px",
    "width": "366.388px"
   },
   "toc_section_display": true,
   "toc_window_display": true
  }
 },
 "nbformat": 4,
 "nbformat_minor": 2
}
