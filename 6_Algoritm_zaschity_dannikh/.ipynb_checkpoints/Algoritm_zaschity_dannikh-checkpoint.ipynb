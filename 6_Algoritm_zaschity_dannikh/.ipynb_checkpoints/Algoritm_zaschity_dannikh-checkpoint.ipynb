{
 "cells": [
  {
   "cell_type": "markdown",
   "metadata": {
    "toc": true
   },
   "source": [
    "<h1>Содержание<span class=\"tocSkip\"></span></h1>\n",
    "<div class=\"toc\"><ul class=\"toc-item\"><li><span><a href=\"#Загрузка-данных\" data-toc-modified-id=\"Загрузка-данных-1\"><span class=\"toc-item-num\">1&nbsp;&nbsp;</span>Загрузка данных</a></span><ul class=\"toc-item\"><li><span><a href=\"#Загрузка-и-проверка-данных\" data-toc-modified-id=\"Загрузка-и-проверка-данных-1.1\"><span class=\"toc-item-num\">1.1&nbsp;&nbsp;</span>Загрузка и проверка данных</a></span></li><li><span><a href=\"#Обучение-линейной-регрессии\" data-toc-modified-id=\"Обучение-линейной-регрессии-1.2\"><span class=\"toc-item-num\">1.2&nbsp;&nbsp;</span>Обучение линейной регрессии</a></span></li></ul></li><li><span><a href=\"#Умножение-матриц\" data-toc-modified-id=\"Умножение-матриц-2\"><span class=\"toc-item-num\">2&nbsp;&nbsp;</span>Умножение матриц</a></span></li><li><span><a href=\"#Алгоритм-преобразования\" data-toc-modified-id=\"Алгоритм-преобразования-3\"><span class=\"toc-item-num\">3&nbsp;&nbsp;</span>Алгоритм преобразования</a></span></li><li><span><a href=\"#Проверка-алгоритма\" data-toc-modified-id=\"Проверка-алгоритма-4\"><span class=\"toc-item-num\">4&nbsp;&nbsp;</span>Проверка алгоритма</a></span><ul class=\"toc-item\"><li><span><a href=\"#Функция-шифрования\" data-toc-modified-id=\"Функция-шифрования-4.1\"><span class=\"toc-item-num\">4.1&nbsp;&nbsp;</span>Функция шифрования</a></span></li><li><span><a href=\"#Функция-дешефровки\" data-toc-modified-id=\"Функция-дешефровки-4.2\"><span class=\"toc-item-num\">4.2&nbsp;&nbsp;</span>Функция дешефровки</a></span></li><li><span><a href=\"#Проверка-функцийи-шифровка-признаков\" data-toc-modified-id=\"Проверка-функцийи-шифровка-признаков-4.3\"><span class=\"toc-item-num\">4.3&nbsp;&nbsp;</span>Проверка функцийи шифровка признаков</a></span></li><li><span><a href=\"#Обучение-модели-на-шифрованных-данных\" data-toc-modified-id=\"Обучение-модели-на-шифрованных-данных-4.4\"><span class=\"toc-item-num\">4.4&nbsp;&nbsp;</span>Обучение модели на шифрованных данных</a></span></li></ul></li><li><span><a href=\"#Чек-лист-проверки\" data-toc-modified-id=\"Чек-лист-проверки-5\"><span class=\"toc-item-num\">5&nbsp;&nbsp;</span>Чек-лист проверки</a></span></li></ul></div>"
   ]
  },
  {
   "cell_type": "markdown",
   "metadata": {},
   "source": [
    "# Защита персональных данных клиентов"
   ]
  },
  {
   "cell_type": "markdown",
   "metadata": {},
   "source": [
    "Вам нужно защитить данные клиентов страховой компании «Хоть потоп». Разработайте такой метод преобразования данных, чтобы по ним было сложно восстановить персональную информацию. Обоснуйте корректность его работы.\n",
    "\n",
    "Нужно защитить данные, чтобы при преобразовании качество моделей машинного обучения не ухудшилось. Подбирать наилучшую модель не требуется."
   ]
  },
  {
   "cell_type": "markdown",
   "metadata": {},
   "source": [
    "## Загрузка данных"
   ]
  },
  {
   "cell_type": "markdown",
   "metadata": {},
   "source": [
    "### Загрузка и проверка данных"
   ]
  },
  {
   "cell_type": "code",
   "execution_count": 1,
   "metadata": {},
   "outputs": [],
   "source": [
    "import pandas as pd\n",
    "import numpy as np\n",
    "from sklearn.model_selection import train_test_split\n",
    "import matplotlib.pyplot as plt\n",
    "pd.options.mode.chained_assignment = None\n",
    "from sklearn.linear_model import LinearRegression\n",
    "from sklearn.metrics import r2_score"
   ]
  },
  {
   "cell_type": "code",
   "execution_count": 2,
   "metadata": {},
   "outputs": [],
   "source": [
    "df = pd.read_csv('/insurance.csv')"
   ]
  },
  {
   "cell_type": "code",
   "execution_count": 3,
   "metadata": {},
   "outputs": [
    {
     "name": "stdout",
     "output_type": "stream",
     "text": [
      "<class 'pandas.core.frame.DataFrame'>\n",
      "RangeIndex: 5000 entries, 0 to 4999\n",
      "Data columns (total 5 columns):\n",
      "Пол                  5000 non-null int64\n",
      "Возраст              5000 non-null float64\n",
      "Зарплата             5000 non-null float64\n",
      "Члены семьи          5000 non-null int64\n",
      "Страховые выплаты    5000 non-null int64\n",
      "dtypes: float64(2), int64(3)\n",
      "memory usage: 195.4 KB\n"
     ]
    }
   ],
   "source": [
    "df.info()"
   ]
  },
  {
   "cell_type": "markdown",
   "metadata": {},
   "source": [
    "<div style=\"border-radius: 15px; border: 1px solid grey; padding: 15px;\">\n",
    "Загрузили данные, проверим что там.\n",
    "</div>\n"
   ]
  },
  {
   "cell_type": "code",
   "execution_count": 4,
   "metadata": {},
   "outputs": [
    {
     "data": {
      "text/html": [
       "<div>\n",
       "<style scoped>\n",
       "    .dataframe tbody tr th:only-of-type {\n",
       "        vertical-align: middle;\n",
       "    }\n",
       "\n",
       "    .dataframe tbody tr th {\n",
       "        vertical-align: top;\n",
       "    }\n",
       "\n",
       "    .dataframe thead th {\n",
       "        text-align: right;\n",
       "    }\n",
       "</style>\n",
       "<table border=\"1\" class=\"dataframe\">\n",
       "  <thead>\n",
       "    <tr style=\"text-align: right;\">\n",
       "      <th></th>\n",
       "      <th>Пол</th>\n",
       "      <th>Возраст</th>\n",
       "      <th>Зарплата</th>\n",
       "      <th>Члены семьи</th>\n",
       "      <th>Страховые выплаты</th>\n",
       "    </tr>\n",
       "  </thead>\n",
       "  <tbody>\n",
       "    <tr>\n",
       "      <td>count</td>\n",
       "      <td>5000.000000</td>\n",
       "      <td>5000.000000</td>\n",
       "      <td>5000.000000</td>\n",
       "      <td>5000.000000</td>\n",
       "      <td>5000.000000</td>\n",
       "    </tr>\n",
       "    <tr>\n",
       "      <td>mean</td>\n",
       "      <td>0.499000</td>\n",
       "      <td>30.952800</td>\n",
       "      <td>39916.360000</td>\n",
       "      <td>1.194200</td>\n",
       "      <td>0.148000</td>\n",
       "    </tr>\n",
       "    <tr>\n",
       "      <td>std</td>\n",
       "      <td>0.500049</td>\n",
       "      <td>8.440807</td>\n",
       "      <td>9900.083569</td>\n",
       "      <td>1.091387</td>\n",
       "      <td>0.463183</td>\n",
       "    </tr>\n",
       "    <tr>\n",
       "      <td>min</td>\n",
       "      <td>0.000000</td>\n",
       "      <td>18.000000</td>\n",
       "      <td>5300.000000</td>\n",
       "      <td>0.000000</td>\n",
       "      <td>0.000000</td>\n",
       "    </tr>\n",
       "    <tr>\n",
       "      <td>25%</td>\n",
       "      <td>0.000000</td>\n",
       "      <td>24.000000</td>\n",
       "      <td>33300.000000</td>\n",
       "      <td>0.000000</td>\n",
       "      <td>0.000000</td>\n",
       "    </tr>\n",
       "    <tr>\n",
       "      <td>50%</td>\n",
       "      <td>0.000000</td>\n",
       "      <td>30.000000</td>\n",
       "      <td>40200.000000</td>\n",
       "      <td>1.000000</td>\n",
       "      <td>0.000000</td>\n",
       "    </tr>\n",
       "    <tr>\n",
       "      <td>75%</td>\n",
       "      <td>1.000000</td>\n",
       "      <td>37.000000</td>\n",
       "      <td>46600.000000</td>\n",
       "      <td>2.000000</td>\n",
       "      <td>0.000000</td>\n",
       "    </tr>\n",
       "    <tr>\n",
       "      <td>max</td>\n",
       "      <td>1.000000</td>\n",
       "      <td>65.000000</td>\n",
       "      <td>79000.000000</td>\n",
       "      <td>6.000000</td>\n",
       "      <td>5.000000</td>\n",
       "    </tr>\n",
       "  </tbody>\n",
       "</table>\n",
       "</div>"
      ],
      "text/plain": [
       "               Пол      Возраст      Зарплата  Члены семьи  Страховые выплаты\n",
       "count  5000.000000  5000.000000   5000.000000  5000.000000        5000.000000\n",
       "mean      0.499000    30.952800  39916.360000     1.194200           0.148000\n",
       "std       0.500049     8.440807   9900.083569     1.091387           0.463183\n",
       "min       0.000000    18.000000   5300.000000     0.000000           0.000000\n",
       "25%       0.000000    24.000000  33300.000000     0.000000           0.000000\n",
       "50%       0.000000    30.000000  40200.000000     1.000000           0.000000\n",
       "75%       1.000000    37.000000  46600.000000     2.000000           0.000000\n",
       "max       1.000000    65.000000  79000.000000     6.000000           5.000000"
      ]
     },
     "execution_count": 4,
     "metadata": {},
     "output_type": "execute_result"
    }
   ],
   "source": [
    "df.describe()"
   ]
  },
  {
   "cell_type": "code",
   "execution_count": 5,
   "metadata": {},
   "outputs": [
    {
     "data": {
      "text/html": [
       "<div>\n",
       "<style scoped>\n",
       "    .dataframe tbody tr th:only-of-type {\n",
       "        vertical-align: middle;\n",
       "    }\n",
       "\n",
       "    .dataframe tbody tr th {\n",
       "        vertical-align: top;\n",
       "    }\n",
       "\n",
       "    .dataframe thead th {\n",
       "        text-align: right;\n",
       "    }\n",
       "</style>\n",
       "<table border=\"1\" class=\"dataframe\">\n",
       "  <thead>\n",
       "    <tr style=\"text-align: right;\">\n",
       "      <th></th>\n",
       "      <th>Пол</th>\n",
       "      <th>Возраст</th>\n",
       "      <th>Зарплата</th>\n",
       "      <th>Члены семьи</th>\n",
       "      <th>Страховые выплаты</th>\n",
       "    </tr>\n",
       "  </thead>\n",
       "  <tbody>\n",
       "    <tr>\n",
       "      <td>0</td>\n",
       "      <td>1</td>\n",
       "      <td>41.0</td>\n",
       "      <td>49600.0</td>\n",
       "      <td>1</td>\n",
       "      <td>0</td>\n",
       "    </tr>\n",
       "    <tr>\n",
       "      <td>1</td>\n",
       "      <td>0</td>\n",
       "      <td>46.0</td>\n",
       "      <td>38000.0</td>\n",
       "      <td>1</td>\n",
       "      <td>1</td>\n",
       "    </tr>\n",
       "    <tr>\n",
       "      <td>2</td>\n",
       "      <td>0</td>\n",
       "      <td>29.0</td>\n",
       "      <td>21000.0</td>\n",
       "      <td>0</td>\n",
       "      <td>0</td>\n",
       "    </tr>\n",
       "    <tr>\n",
       "      <td>3</td>\n",
       "      <td>0</td>\n",
       "      <td>21.0</td>\n",
       "      <td>41700.0</td>\n",
       "      <td>2</td>\n",
       "      <td>0</td>\n",
       "    </tr>\n",
       "    <tr>\n",
       "      <td>4</td>\n",
       "      <td>1</td>\n",
       "      <td>28.0</td>\n",
       "      <td>26100.0</td>\n",
       "      <td>0</td>\n",
       "      <td>0</td>\n",
       "    </tr>\n",
       "  </tbody>\n",
       "</table>\n",
       "</div>"
      ],
      "text/plain": [
       "   Пол  Возраст  Зарплата  Члены семьи  Страховые выплаты\n",
       "0    1     41.0   49600.0            1                  0\n",
       "1    0     46.0   38000.0            1                  1\n",
       "2    0     29.0   21000.0            0                  0\n",
       "3    0     21.0   41700.0            2                  0\n",
       "4    1     28.0   26100.0            0                  0"
      ]
     },
     "execution_count": 5,
     "metadata": {},
     "output_type": "execute_result"
    }
   ],
   "source": [
    "df.head()"
   ]
  },
  {
   "cell_type": "markdown",
   "metadata": {},
   "source": [
    "<div style=\"border-radius: 15px; border: 1px solid grey; padding: 15px;\">\n",
    "5 тысяч строк без пропусков, выглядит адекватно, давайте обучим Линейную регрессию и замерим R2, что бы в дальнейшем проверить адекватность наших манипуляций.\n",
    "</div>\n"
   ]
  },
  {
   "cell_type": "markdown",
   "metadata": {},
   "source": [
    "### Обучение линейной регрессии"
   ]
  },
  {
   "cell_type": "markdown",
   "metadata": {},
   "source": [
    "<div style=\"border-radius: 15px; border: 1px solid grey; padding: 15px;\">\n",
    "Делим данные на выборки, а так же на признаки и целевой признак.\n",
    "</div>"
   ]
  },
  {
   "cell_type": "code",
   "execution_count": 6,
   "metadata": {},
   "outputs": [],
   "source": [
    "df_train, df_valid = train_test_split(df, test_size=0.25, random_state=12345)"
   ]
  },
  {
   "cell_type": "code",
   "execution_count": 7,
   "metadata": {},
   "outputs": [
    {
     "data": {
      "text/plain": [
       "(3750, 5)"
      ]
     },
     "execution_count": 7,
     "metadata": {},
     "output_type": "execute_result"
    }
   ],
   "source": [
    "df_train.shape"
   ]
  },
  {
   "cell_type": "code",
   "execution_count": 8,
   "metadata": {},
   "outputs": [],
   "source": [
    "features_train = df_train.drop('Страховые выплаты', axis=1)\n",
    "target_train = df_train['Страховые выплаты']"
   ]
  },
  {
   "cell_type": "code",
   "execution_count": 9,
   "metadata": {},
   "outputs": [],
   "source": [
    "features_valid = df_valid.drop('Страховые выплаты', axis=1)\n",
    "target_valid = df_valid['Страховые выплаты']"
   ]
  },
  {
   "cell_type": "markdown",
   "metadata": {},
   "source": [
    "<div style=\"border-radius: 15px; border: 1px solid grey; padding: 15px;\">\n",
    "Создаем и обучаем модель, замеряем R2 которая показывает качество предсказания нашей модели, точнее она показывает зависимость, но нам эта метрика подходит.\n",
    "</div>"
   ]
  },
  {
   "cell_type": "code",
   "execution_count": 10,
   "metadata": {},
   "outputs": [],
   "source": [
    "model = LinearRegression()"
   ]
  },
  {
   "cell_type": "code",
   "execution_count": 11,
   "metadata": {},
   "outputs": [],
   "source": [
    "model.fit(features_train, target_train)\n",
    "predictions = model.predict(features_valid)\n",
    "r2 = r2_score(target_valid, predictions)"
   ]
  },
  {
   "cell_type": "code",
   "execution_count": 12,
   "metadata": {},
   "outputs": [
    {
     "name": "stdout",
     "output_type": "stream",
     "text": [
      "0.435227571270266\n"
     ]
    }
   ],
   "source": [
    "print(r2)"
   ]
  },
  {
   "cell_type": "markdown",
   "metadata": {},
   "source": [
    "<div style=\"border-radius: 15px; border: 1px solid grey; padding: 15px;\">\n",
    "Есть отправная точка, переходи к следующему пункуту.\n",
    "</div>"
   ]
  },
  {
   "cell_type": "markdown",
   "metadata": {},
   "source": [
    "## Умножение матриц"
   ]
  },
  {
   "cell_type": "markdown",
   "metadata": {},
   "source": [
    "<div style=\"border-radius: 15px; border: 1px solid grey; padding: 15px;\">\n",
    "\n",
    "\n",
    "**Ответ:**  Качество линейной регрессии не изменится при умножении на обратимую (невыраженную) матрицу.\n",
    "<div>"
   ]
  },
  {
   "cell_type": "markdown",
   "metadata": {},
   "source": [
    "<div style=\"border-radius: 15px; border: 1px solid grey; padding: 15px;\">\n",
    "    \n",
    "**Обоснование:**\n",
    "\n",
    "1) Элементарные преобразования не меняют ранг матрицы (Рнаг - максимальное число линейно независимых строк\\столбцов). Доказано Теоремой об инвариантности ранга при элементарных преобразованиях.\n",
    "\n",
    "2) Любая невырожденная квадратная матрица является элементарной, другими словами, любая невырожденная квадратная матрица эквивалентна единичной матрице того же порядка. Если $ A $ — невырожденная квадратная матрица n-го порядка, то $ {rg}A=n $ . Поэтому, приводя элементарными преобразованиями матрицу $ A $ к простейшему виду, получим единичную матрицу $ \\Lambda=E_n $, так как $ {rg}A=\\operatorname{rg}\\Lambda=n $. Следовательно, матрица $ A $ эквивалентна единичной матрице $ E_n $ и может быть получена из нее в результате конечного числа элементарных преобразований. Это означает, что матрица $ A $ элементарная. Это следствие Теоремы об инвариантности ранга при элементарных преобразованиях.\n",
    "\n",
    "3) Умножение на обратимую (невыраженную) матрицу эквивалентно обратимому набору элементарных преобразований и не изменит ранг матрицы, другими словами, не изменит линейной зависимости строк\\столбцов в матрице признаков. Таким образом линейная регрессия определит линейные зависимости между признаками так же как и на оригинальных признаках, а в формуле предсказания  $ a = Xw $ на ряду с матрицей признаков $ X $ изменится вектор весов $ w $, а результат $ a $ останется неизменным.\n",
    "</div>"
   ]
  },
  {
   "cell_type": "markdown",
   "metadata": {},
   "source": [
    "<div style=\"border-radius: 15px; border: 1px solid grey; padding: 15px;\">\n",
    "    \n",
    "**Математическое обоснование:**\n",
    "    \n",
    "   **1) Расчет целевого признака без домнождения на обратимую матрицу:**\n",
    "    \n",
    "    \n",
    "Чтобы получить вектор предсказаний $ a $ в ленейной регрессии, мы умножаем матрицу $ X $ на вектор $ w $ и прибавляем величину сдвига $ w0 $.\n",
    "Для сокращения записи изменим обозначения. В матрицу $ X $ добавим столбец, состоящий только из единиц (он идёт нулевым); а параметр $ w0 $ — к вектору $ w $, получим: $$ a = Xw $$\n",
    "Далее приведем формулу расчета $ w $, она же формула минимизации потерь и решение задачи линейной регресии: $$ w = (X^TX)^{-1}X^Ty $$\n",
    "Подставим эту формулу в формулу расчета вектора предсказания $$ a = X(X^TX)^{-1}X^Ty $$\n",
    "    \n",
    "    \n",
    "    \n",
    "   \n",
    "   **2) Расчет целевого признака с умножением на обратимую матрицу $ A $:**\n",
    "\n",
    "Формулу расчета вектора предсказания будет иметь вид $$ a = XAw $$\n",
    "\n",
    "Формула минимизации потерь и решение задачи линейной регресии примет вид: $$ w = ((XA)^T(XA))^{-1}(XA)^Ty $$\n",
    "    \n",
    "Раскрываем скобки с транспонированием: $$ w = (A^TX^TXA)^{-1}A^TX^Ty $$\n",
    "    \n",
    "Преобразуем матрицу в первых скобках с обратимостью $$ w = (A)^{-1}(X^TX)^{-1}(A^T)^{-1}A^TX^Ty $$\n",
    "\n",
    "$ (A^T)^{-1}A^T $ можем сократить, как умножение на обратную матрицу, получаем: $$ w = (A)^{-1}(X^TX)^{-1}X^Ty $$\n",
    "    \n",
    "Подставим эту формулу в формулу расчета вектора предсказания: $$ a = XA(A)^{-1}(X^TX)^{-1}X^Ty $$\n",
    "\n",
    "$ A(A)^{-1} $ можем сократить, получаем: $$ a = X(X^TX)^{-1}X^Ty $$ что в свою очередь равно $ a $ без умножения на обратимую мартицу.\n",
    "    \n",
    "   **Вывод**\n",
    "    \n",
    "Таким образом, путем элементарных преобразований мы получаем, что вектор предсказаний $ a $ расчитывается идентично как при домнажении на обратимую матрицу $ A $, так и без этого домножения.\n",
    "    \n",
    "А так же, исходя из формулы расчета вектора весов $ w $: $ w = (A)^{-1}(X^TX)^{-1}X^Ty $ мы видим, что расчет весов при домножении на матрицу $ A $ отличатся от расчета без умножения, только тем что матрица обратная матрице $ A $ умножается на формулу расчета матрицы весов. \n",
    "</div>\n",
    "\n"
   ]
  },
  {
   "cell_type": "markdown",
   "metadata": {},
   "source": [
    "## Алгоритм преобразования"
   ]
  },
  {
   "cell_type": "markdown",
   "metadata": {},
   "source": [
    "<div style=\"border-radius: 15px; border: 1px solid grey; padding: 15px;\">\n",
    "\n",
    "\n",
    "**Алгоритм**\n",
    " \n",
    "    1) Шифрование признаков происходит умножением матрици признаков на обратимую матрицу.\n",
    "    2) Дешифровка признаков происходит умножением зашифрованой матрици признаков на матрицу обратную той, что использовалась для шифровки.\n",
    "</div>\n"
   ]
  },
  {
   "cell_type": "markdown",
   "metadata": {},
   "source": [
    "<div style=\"border-radius: 15px; border: 1px solid grey; padding: 15px;\">\n",
    "\n",
    "**Обоснование**\n",
    "\n",
    " 1) Как обосновано в разделе два, мы можем умножить матрицу наших признаков на обратимую матрицу и при этом не повлиять на качество предсказания линейной регрессии.\n",
    "    \n",
    " 2) Шифрующая обратимая матрица генерируется с использованием метода np.random.seed(), параметр этого значения будет ключем шифрования, так как именно от этого параметра будет зависеть какая матрица будет сгенерирована.\n",
    "    \n",
    " 3) При дешифровке мы будем обязаны указать парметр метода .seed() который был указан при шифровании. Так мы будем учверены, что получим матрицу обратную той, что использовалась при шифровании. \n",
    "</div>\n"
   ]
  },
  {
   "cell_type": "markdown",
   "metadata": {},
   "source": [
    "## Проверка алгоритма"
   ]
  },
  {
   "cell_type": "markdown",
   "metadata": {},
   "source": [
    "### Функция шифрования"
   ]
  },
  {
   "cell_type": "markdown",
   "metadata": {},
   "source": [
    "<div style=\"border-radius: 15px; border: 1px solid grey; padding: 15px;\">\n",
    "Создадим функцию шифрования марицы признаков, на вход она будет получать признаки и парметр для генерации шифрующей матрицы, а возвращает матрицу шифрованных признаков. Так же реализуем проверку матрицы на обратимость внутри функции.\n",
    "</div>\n"
   ]
  },
  {
   "cell_type": "code",
   "execution_count": 13,
   "metadata": {},
   "outputs": [],
   "source": [
    "def encrypting(features, random_seed):\n",
    "    np.random.seed(random_seed)\n",
    "    m_len = len(features.columns)\n",
    "    invertible_matrix = np.random.rand(m_len, m_len)\n",
    "    \n",
    "    try:\n",
    "        inverted_matrix = np.linalg.inv(invertible_matrix)\n",
    "            \n",
    "    except:\n",
    "        print(\"Матрица не обратима (выражена), поробуйте изменить ключь шифрования.\")\n",
    "        \n",
    "    return np.dot(features, invertible_matrix)"
   ]
  },
  {
   "cell_type": "markdown",
   "metadata": {},
   "source": [
    "### Функция дешефровки"
   ]
  },
  {
   "cell_type": "markdown",
   "metadata": {},
   "source": [
    "<div style=\"border-radius: 15px; border: 1px solid grey; padding: 15px;\">\n",
    "Следующим шагом реализуем функцию дешифровки, на вход она получает шифрованные признаки? параметр метода Seed для генерации обратной матрици и имена столбцов. Функция возвращает датафрейм с расшифрованными признаками. \n",
    "</div>\n"
   ]
  },
  {
   "cell_type": "code",
   "execution_count": 14,
   "metadata": {},
   "outputs": [],
   "source": [
    "def decrypting(features, random_seed, columns):\n",
    "    np.random.seed(random_seed)\n",
    "    m_len = len(features[0])\n",
    "    inverted_matrix = np.linalg.inv(np.random.rand(m_len, m_len))\n",
    "    return pd.DataFrame(np.dot(features, inverted_matrix).round().astype(int),\n",
    "                        columns=columns)"
   ]
  },
  {
   "cell_type": "markdown",
   "metadata": {},
   "source": [
    "### Проверка функцийи шифровка признаков"
   ]
  },
  {
   "cell_type": "markdown",
   "metadata": {},
   "source": [
    "<div style=\"border-radius: 15px; border: 1px solid grey; padding: 15px;\">\n",
    "Шифруем признаки тренировочной и валидационной выборок.\n",
    "</div>"
   ]
  },
  {
   "cell_type": "code",
   "execution_count": 15,
   "metadata": {},
   "outputs": [],
   "source": [
    "features_train_encrypted = encrypting(features_train, 12345)\n",
    "features_valid_encrypted = encrypting(features_valid, 12345)"
   ]
  },
  {
   "cell_type": "markdown",
   "metadata": {},
   "source": [
    "<div style=\"border-radius: 15px; border: 1px solid grey; padding: 15px;\">\n",
    "Проверяем результат.\n",
    "</div>"
   ]
  },
  {
   "cell_type": "code",
   "execution_count": 16,
   "metadata": {},
   "outputs": [
    {
     "data": {
      "text/plain": [
       "array([[27135.77045937, 23685.26056699, 27109.23284249, 34828.25143246],\n",
       "       [43157.25458903, 37666.18945652, 43101.35042651, 55393.68057937],\n",
       "       [30798.23839187, 26880.88556688, 30762.24182939, 39531.26493088],\n",
       "       ...,\n",
       "       [33500.34142835, 29239.41337983, 33462.87969226, 42998.05233489],\n",
       "       [37532.74604428, 32757.37829064, 37482.92607878, 48178.46301811],\n",
       "       [30566.17758694, 26676.96608011, 30525.08999414, 39233.72519661]])"
      ]
     },
     "execution_count": 16,
     "metadata": {},
     "output_type": "execute_result"
    }
   ],
   "source": [
    "features_train_encrypted"
   ]
  },
  {
   "cell_type": "code",
   "execution_count": 17,
   "metadata": {},
   "outputs": [
    {
     "data": {
      "text/plain": [
       "array([[29226.12734297, 25509.30371592, 29193.90135559, 37515.14319577],\n",
       "       [32306.27910576, 28198.85155761, 32275.33141301, 41466.29200195],\n",
       "       [31552.0403324 , 27538.83418183, 31516.5934554 , 40496.69205572],\n",
       "       ...,\n",
       "       [31699.5507598 , 27667.16597719, 31662.27835918, 40686.34069455],\n",
       "       [30951.21184729, 27014.19165104, 30915.52806443, 39725.68713557],\n",
       "       [23318.82334203, 20355.31111831, 23301.49048352, 29929.30158079]])"
      ]
     },
     "execution_count": 17,
     "metadata": {},
     "output_type": "execute_result"
    }
   ],
   "source": [
    "features_valid_encrypted"
   ]
  },
  {
   "cell_type": "markdown",
   "metadata": {},
   "source": [
    "<div style=\"border-radius: 15px; border: 1px solid grey; padding: 15px;\">\n",
    "Дешефруем тренировочные признаки.\n",
    "</div>"
   ]
  },
  {
   "cell_type": "code",
   "execution_count": 18,
   "metadata": {},
   "outputs": [],
   "source": [
    "features_train_decrypted = decrypting(features_train_encrypted, 12345, features_train.columns)"
   ]
  },
  {
   "cell_type": "code",
   "execution_count": 19,
   "metadata": {},
   "outputs": [
    {
     "data": {
      "text/html": [
       "<div>\n",
       "<style scoped>\n",
       "    .dataframe tbody tr th:only-of-type {\n",
       "        vertical-align: middle;\n",
       "    }\n",
       "\n",
       "    .dataframe tbody tr th {\n",
       "        vertical-align: top;\n",
       "    }\n",
       "\n",
       "    .dataframe thead th {\n",
       "        text-align: right;\n",
       "    }\n",
       "</style>\n",
       "<table border=\"1\" class=\"dataframe\">\n",
       "  <thead>\n",
       "    <tr style=\"text-align: right;\">\n",
       "      <th></th>\n",
       "      <th>Пол</th>\n",
       "      <th>Возраст</th>\n",
       "      <th>Зарплата</th>\n",
       "      <th>Члены семьи</th>\n",
       "    </tr>\n",
       "  </thead>\n",
       "  <tbody>\n",
       "    <tr>\n",
       "      <td>0</td>\n",
       "      <td>1</td>\n",
       "      <td>43</td>\n",
       "      <td>36200</td>\n",
       "      <td>1</td>\n",
       "    </tr>\n",
       "    <tr>\n",
       "      <td>1</td>\n",
       "      <td>1</td>\n",
       "      <td>34</td>\n",
       "      <td>57600</td>\n",
       "      <td>0</td>\n",
       "    </tr>\n",
       "    <tr>\n",
       "      <td>2</td>\n",
       "      <td>0</td>\n",
       "      <td>32</td>\n",
       "      <td>41100</td>\n",
       "      <td>1</td>\n",
       "    </tr>\n",
       "    <tr>\n",
       "      <td>3</td>\n",
       "      <td>0</td>\n",
       "      <td>36</td>\n",
       "      <td>45100</td>\n",
       "      <td>1</td>\n",
       "    </tr>\n",
       "    <tr>\n",
       "      <td>4</td>\n",
       "      <td>0</td>\n",
       "      <td>33</td>\n",
       "      <td>50600</td>\n",
       "      <td>2</td>\n",
       "    </tr>\n",
       "  </tbody>\n",
       "</table>\n",
       "</div>"
      ],
      "text/plain": [
       "   Пол  Возраст  Зарплата  Члены семьи\n",
       "0    1       43     36200            1\n",
       "1    1       34     57600            0\n",
       "2    0       32     41100            1\n",
       "3    0       36     45100            1\n",
       "4    0       33     50600            2"
      ]
     },
     "execution_count": 19,
     "metadata": {},
     "output_type": "execute_result"
    }
   ],
   "source": [
    "features_train_decrypted.head()"
   ]
  },
  {
   "cell_type": "markdown",
   "metadata": {},
   "source": [
    "### Обучение модели на шифрованных данных"
   ]
  },
  {
   "cell_type": "code",
   "execution_count": 20,
   "metadata": {},
   "outputs": [],
   "source": [
    "model_n = LinearRegression()"
   ]
  },
  {
   "cell_type": "code",
   "execution_count": 21,
   "metadata": {},
   "outputs": [],
   "source": [
    "model_n.fit(features_train_encrypted, target_train)\n",
    "predictions = model_n.predict(features_valid_encrypted)\n",
    "r2 = r2_score(target_valid, predictions)"
   ]
  },
  {
   "cell_type": "code",
   "execution_count": 22,
   "metadata": {},
   "outputs": [
    {
     "name": "stdout",
     "output_type": "stream",
     "text": [
      "0.43522757127067413\n"
     ]
    }
   ],
   "source": [
    "print(r2)"
   ]
  },
  {
   "cell_type": "markdown",
   "metadata": {},
   "source": [
    "0.435227571270266 - R2 метрика без шифрования."
   ]
  },
  {
   "cell_type": "markdown",
   "metadata": {},
   "source": [
    "<div style=\"border-radius: 15px; border: 1px solid grey; padding: 15px;\">\n",
    "    \n",
    "**Заключение**    \n",
    "    \n",
    "Таким образом считаю поставленную задачу выполненной:\n",
    "    \n",
    "    - мы показали, что умножение признаков на обратимую матрицу не сказывается на качестве предсказания линейной регрессии (расхождения в мизерных долях обусловлены округлением при расчетах)\n",
    "    \n",
    "    - на основании выше сказанного, мы предложили и успешно реализовали алгоритм шифрования и дешефровки данных пользователей.\n",
    "    \n",
    "    \n",
    "</div>"
   ]
  }
 ],
 "metadata": {
  "ExecuteTimeLog": [
   {
    "duration": 1707,
    "start_time": "2021-07-22T09:39:02.545Z"
   },
   {
    "duration": 160,
    "start_time": "2021-07-22T09:39:05.109Z"
   },
   {
    "duration": 10,
    "start_time": "2021-07-22T09:39:05.956Z"
   },
   {
    "duration": 18,
    "start_time": "2021-07-22T09:39:06.756Z"
   },
   {
    "duration": 19,
    "start_time": "2021-07-22T09:39:07.395Z"
   },
   {
    "duration": 42,
    "start_time": "2021-07-22T09:39:18.140Z"
   },
   {
    "duration": 11,
    "start_time": "2021-07-22T09:40:11.605Z"
   },
   {
    "duration": 1519,
    "start_time": "2021-08-03T14:04:57.723Z"
   },
   {
    "duration": 195,
    "start_time": "2021-08-03T14:04:59.244Z"
   },
   {
    "duration": 9,
    "start_time": "2021-08-03T14:04:59.442Z"
   },
   {
    "duration": 40,
    "start_time": "2021-08-03T14:04:59.454Z"
   },
   {
    "duration": 21,
    "start_time": "2021-08-03T14:04:59.496Z"
   },
   {
    "duration": 12,
    "start_time": "2021-08-03T14:04:59.519Z"
   },
   {
    "duration": 556,
    "start_time": "2021-08-03T14:05:53.961Z"
   },
   {
    "duration": 4,
    "start_time": "2021-08-03T14:06:09.463Z"
   },
   {
    "duration": 362,
    "start_time": "2021-08-03T14:07:15.834Z"
   },
   {
    "duration": 5,
    "start_time": "2021-08-03T14:07:26.270Z"
   },
   {
    "duration": 3,
    "start_time": "2021-08-03T14:07:26.653Z"
   },
   {
    "duration": 26,
    "start_time": "2021-08-03T14:07:27.006Z"
   },
   {
    "duration": 4,
    "start_time": "2021-08-03T14:07:27.373Z"
   },
   {
    "duration": 542,
    "start_time": "2021-08-03T14:15:30.088Z"
   },
   {
    "duration": 6,
    "start_time": "2021-08-03T14:15:35.412Z"
   },
   {
    "duration": 7,
    "start_time": "2021-08-03T14:16:30.429Z"
   },
   {
    "duration": 4,
    "start_time": "2021-08-03T14:16:58.492Z"
   },
   {
    "duration": 11,
    "start_time": "2021-08-03T14:16:59.596Z"
   },
   {
    "duration": 4,
    "start_time": "2021-08-03T14:18:27.133Z"
   },
   {
    "duration": 629,
    "start_time": "2021-08-03T14:18:28.051Z"
   },
   {
    "duration": 5,
    "start_time": "2021-08-03T14:18:36.224Z"
   },
   {
    "duration": 6,
    "start_time": "2021-08-03T14:18:36.567Z"
   },
   {
    "duration": 367,
    "start_time": "2021-08-03T14:18:56.962Z"
   },
   {
    "duration": 388,
    "start_time": "2021-08-03T14:19:04.092Z"
   },
   {
    "duration": 388,
    "start_time": "2021-08-03T14:19:23.012Z"
   },
   {
    "duration": 4,
    "start_time": "2021-08-03T14:20:05.873Z"
   },
   {
    "duration": 6,
    "start_time": "2021-08-03T14:20:06.732Z"
   },
   {
    "duration": 8,
    "start_time": "2021-08-03T14:21:21.462Z"
   },
   {
    "duration": 580,
    "start_time": "2021-08-03T14:21:21.473Z"
   },
   {
    "duration": 147,
    "start_time": "2021-08-03T14:21:21.909Z"
   },
   {
    "duration": 112,
    "start_time": "2021-08-03T14:21:21.945Z"
   },
   {
    "duration": 109,
    "start_time": "2021-08-03T14:21:21.950Z"
   },
   {
    "duration": 106,
    "start_time": "2021-08-03T14:21:21.954Z"
   },
   {
    "duration": 102,
    "start_time": "2021-08-03T14:21:21.959Z"
   },
   {
    "duration": 99,
    "start_time": "2021-08-03T14:21:21.964Z"
   },
   {
    "duration": 96,
    "start_time": "2021-08-03T14:21:21.968Z"
   },
   {
    "duration": 93,
    "start_time": "2021-08-03T14:21:21.973Z"
   },
   {
    "duration": 70,
    "start_time": "2021-08-03T14:21:21.997Z"
   },
   {
    "duration": 70,
    "start_time": "2021-08-03T14:21:21.999Z"
   },
   {
    "duration": 4,
    "start_time": "2021-08-03T14:21:33.771Z"
   },
   {
    "duration": 5,
    "start_time": "2021-08-03T14:21:37.144Z"
   },
   {
    "duration": 11,
    "start_time": "2021-08-03T14:21:37.151Z"
   },
   {
    "duration": 99,
    "start_time": "2021-08-03T14:21:37.165Z"
   },
   {
    "duration": 9,
    "start_time": "2021-08-03T14:21:37.268Z"
   },
   {
    "duration": 61,
    "start_time": "2021-08-03T14:21:37.280Z"
   },
   {
    "duration": 18,
    "start_time": "2021-08-03T14:21:37.344Z"
   },
   {
    "duration": 8,
    "start_time": "2021-08-03T14:21:37.365Z"
   },
   {
    "duration": 6,
    "start_time": "2021-08-03T14:21:37.375Z"
   },
   {
    "duration": 59,
    "start_time": "2021-08-03T14:21:37.387Z"
   },
   {
    "duration": 91,
    "start_time": "2021-08-03T14:21:37.452Z"
   },
   {
    "duration": 56,
    "start_time": "2021-08-03T14:21:37.547Z"
   },
   {
    "duration": 32,
    "start_time": "2021-08-03T14:21:37.609Z"
   },
   {
    "duration": 4,
    "start_time": "2021-08-03T14:21:41.565Z"
   },
   {
    "duration": 8,
    "start_time": "2021-08-03T14:21:42.043Z"
   },
   {
    "duration": 5,
    "start_time": "2021-08-03T14:21:43.626Z"
   },
   {
    "duration": 6,
    "start_time": "2021-08-03T14:21:43.994Z"
   },
   {
    "duration": 5,
    "start_time": "2021-08-03T14:21:45.826Z"
   },
   {
    "duration": 24,
    "start_time": "2021-08-03T14:21:46.107Z"
   },
   {
    "duration": 459,
    "start_time": "2021-08-03T14:22:39.410Z"
   },
   {
    "duration": 380,
    "start_time": "2021-08-03T14:22:48.295Z"
   },
   {
    "duration": 8,
    "start_time": "2021-08-03T14:22:56.124Z"
   },
   {
    "duration": 11,
    "start_time": "2021-08-03T14:24:01.498Z"
   },
   {
    "duration": 3,
    "start_time": "2021-08-03T14:24:05.995Z"
   },
   {
    "duration": 7,
    "start_time": "2021-08-03T14:24:06.626Z"
   },
   {
    "duration": 7,
    "start_time": "2021-08-03T14:24:07.849Z"
   },
   {
    "duration": 5,
    "start_time": "2021-08-03T14:24:09.115Z"
   },
   {
    "duration": 22,
    "start_time": "2021-08-03T14:24:09.505Z"
   },
   {
    "duration": 4,
    "start_time": "2021-08-03T14:24:10.769Z"
   },
   {
    "duration": 19,
    "start_time": "2021-08-03T14:24:11.425Z"
   },
   {
    "duration": 385,
    "start_time": "2021-08-03T14:24:25.331Z"
   },
   {
    "duration": 5,
    "start_time": "2021-08-03T14:24:38.481Z"
   },
   {
    "duration": 364,
    "start_time": "2021-08-03T14:24:48.260Z"
   },
   {
    "duration": 4,
    "start_time": "2021-08-03T14:25:48.169Z"
   },
   {
    "duration": 11,
    "start_time": "2021-08-03T14:25:49.193Z"
   },
   {
    "duration": 7,
    "start_time": "2021-08-03T14:25:50.258Z"
   },
   {
    "duration": 5,
    "start_time": "2021-08-03T14:25:51.209Z"
   },
   {
    "duration": 7,
    "start_time": "2021-08-03T14:25:51.700Z"
   },
   {
    "duration": 5,
    "start_time": "2021-08-03T14:25:52.908Z"
   },
   {
    "duration": 7,
    "start_time": "2021-08-03T14:25:53.281Z"
   },
   {
    "duration": 4,
    "start_time": "2021-08-03T14:25:59.994Z"
   },
   {
    "duration": 9,
    "start_time": "2021-08-03T14:26:00.410Z"
   },
   {
    "duration": 4,
    "start_time": "2021-08-03T14:54:39.464Z"
   },
   {
    "duration": 6,
    "start_time": "2021-08-03T14:54:42.210Z"
   },
   {
    "duration": 5,
    "start_time": "2021-08-03T14:54:42.722Z"
   },
   {
    "duration": 6,
    "start_time": "2021-08-03T14:55:01.150Z"
   },
   {
    "duration": 4,
    "start_time": "2021-08-03T14:57:47.161Z"
   },
   {
    "duration": 5,
    "start_time": "2021-08-03T14:57:47.548Z"
   },
   {
    "duration": 6,
    "start_time": "2021-08-03T15:00:42.401Z"
   },
   {
    "duration": 4,
    "start_time": "2021-08-03T15:00:42.809Z"
   },
   {
    "duration": 10,
    "start_time": "2021-08-03T15:00:43.174Z"
   },
   {
    "duration": 5,
    "start_time": "2021-08-03T15:00:43.499Z"
   },
   {
    "duration": 4,
    "start_time": "2021-08-03T15:02:37.754Z"
   },
   {
    "duration": 4,
    "start_time": "2021-08-03T15:02:38.248Z"
   },
   {
    "duration": 60,
    "start_time": "2021-08-03T15:02:39.543Z"
   },
   {
    "duration": 4,
    "start_time": "2021-08-03T15:02:39.920Z"
   },
   {
    "duration": 1527,
    "start_time": "2021-08-05T07:50:00.977Z"
   },
   {
    "duration": 126,
    "start_time": "2021-08-05T07:50:02.507Z"
   },
   {
    "duration": 10,
    "start_time": "2021-08-05T07:50:02.636Z"
   },
   {
    "duration": 53,
    "start_time": "2021-08-05T07:50:02.648Z"
   },
   {
    "duration": 13,
    "start_time": "2021-08-05T07:50:02.704Z"
   },
   {
    "duration": 13,
    "start_time": "2021-08-05T07:50:02.719Z"
   },
   {
    "duration": 11,
    "start_time": "2021-08-05T07:50:02.735Z"
   },
   {
    "duration": 49,
    "start_time": "2021-08-05T07:50:02.749Z"
   },
   {
    "duration": 97,
    "start_time": "2021-08-05T07:50:02.890Z"
   },
   {
    "duration": 7,
    "start_time": "2021-08-05T07:50:02.991Z"
   },
   {
    "duration": 19,
    "start_time": "2021-08-05T07:50:03.002Z"
   },
   {
    "duration": 13,
    "start_time": "2021-08-05T07:50:03.024Z"
   },
   {
    "duration": 6,
    "start_time": "2021-08-05T07:50:03.085Z"
   },
   {
    "duration": 8,
    "start_time": "2021-08-05T07:50:03.094Z"
   },
   {
    "duration": 90,
    "start_time": "2021-08-05T07:50:03.105Z"
   },
   {
    "duration": 87,
    "start_time": "2021-08-05T07:50:03.200Z"
   },
   {
    "duration": 7,
    "start_time": "2021-08-05T07:58:40.987Z"
   },
   {
    "duration": 8,
    "start_time": "2021-08-05T08:00:24.873Z"
   },
   {
    "duration": 6,
    "start_time": "2021-08-05T08:00:25.241Z"
   },
   {
    "duration": 1078,
    "start_time": "2021-08-05T08:03:11.418Z"
   },
   {
    "duration": -636,
    "start_time": "2021-08-05T08:03:13.136Z"
   },
   {
    "duration": 6,
    "start_time": "2021-08-05T08:03:24.351Z"
   },
   {
    "duration": 7,
    "start_time": "2021-08-05T08:03:24.888Z"
   },
   {
    "duration": 5,
    "start_time": "2021-08-05T08:03:25.735Z"
   },
   {
    "duration": 8,
    "start_time": "2021-08-05T08:03:26.687Z"
   },
   {
    "duration": 7,
    "start_time": "2021-08-05T08:04:23.696Z"
   },
   {
    "duration": 6,
    "start_time": "2021-08-05T08:04:24.495Z"
   },
   {
    "duration": 5,
    "start_time": "2021-08-05T08:04:27.231Z"
   },
   {
    "duration": 6,
    "start_time": "2021-08-05T08:04:27.759Z"
   },
   {
    "duration": 4,
    "start_time": "2021-08-05T08:04:30.407Z"
   },
   {
    "duration": 6,
    "start_time": "2021-08-05T08:04:31.175Z"
   },
   {
    "duration": 517,
    "start_time": "2021-08-05T08:04:58.663Z"
   },
   {
    "duration": 399,
    "start_time": "2021-08-05T08:05:26.672Z"
   },
   {
    "duration": 445,
    "start_time": "2021-08-05T08:05:47.312Z"
   },
   {
    "duration": 5,
    "start_time": "2021-08-05T08:05:51.887Z"
   },
   {
    "duration": 15,
    "start_time": "2021-08-05T08:05:53.471Z"
   },
   {
    "duration": 397,
    "start_time": "2021-08-05T08:07:25.405Z"
   },
   {
    "duration": 12,
    "start_time": "2021-08-05T08:07:26.000Z"
   },
   {
    "duration": 419,
    "start_time": "2021-08-05T08:07:30.358Z"
   },
   {
    "duration": 423,
    "start_time": "2021-08-05T08:08:18.855Z"
   },
   {
    "duration": 6,
    "start_time": "2021-08-05T08:08:29.486Z"
   },
   {
    "duration": 14,
    "start_time": "2021-08-05T08:08:30.614Z"
   },
   {
    "duration": 5,
    "start_time": "2021-08-05T08:08:50.622Z"
   },
   {
    "duration": 15,
    "start_time": "2021-08-05T08:08:51.711Z"
   },
   {
    "duration": 423,
    "start_time": "2021-08-05T08:09:11.631Z"
   },
   {
    "duration": 14,
    "start_time": "2021-08-05T08:09:12.406Z"
   },
   {
    "duration": 5,
    "start_time": "2021-08-05T08:09:54.071Z"
   },
   {
    "duration": 11,
    "start_time": "2021-08-05T08:09:55.301Z"
   },
   {
    "duration": 7,
    "start_time": "2021-08-05T08:10:38.454Z"
   },
   {
    "duration": 17,
    "start_time": "2021-08-05T08:10:39.270Z"
   },
   {
    "duration": 5,
    "start_time": "2021-08-05T08:12:57.550Z"
   },
   {
    "duration": 5,
    "start_time": "2021-08-05T08:18:35.341Z"
   },
   {
    "duration": 8,
    "start_time": "2021-08-05T08:20:06.697Z"
   },
   {
    "duration": 6,
    "start_time": "2021-08-05T08:20:07.105Z"
   },
   {
    "duration": 6,
    "start_time": "2021-08-05T08:20:07.474Z"
   },
   {
    "duration": 5,
    "start_time": "2021-08-05T08:20:51.257Z"
   },
   {
    "duration": 4,
    "start_time": "2021-08-05T08:20:59.864Z"
   },
   {
    "duration": 10,
    "start_time": "2021-08-05T08:21:01.241Z"
   },
   {
    "duration": 5,
    "start_time": "2021-08-05T08:21:01.713Z"
   },
   {
    "duration": 5,
    "start_time": "2021-08-05T08:22:19.248Z"
   },
   {
    "duration": 6,
    "start_time": "2021-08-05T08:22:19.728Z"
   },
   {
    "duration": 413,
    "start_time": "2021-08-05T08:22:20.232Z"
   },
   {
    "duration": 7,
    "start_time": "2021-08-05T08:22:27.025Z"
   },
   {
    "duration": 100,
    "start_time": "2021-08-05T08:22:27.036Z"
   },
   {
    "duration": 8,
    "start_time": "2021-08-05T08:22:27.139Z"
   },
   {
    "duration": 55,
    "start_time": "2021-08-05T08:22:27.150Z"
   },
   {
    "duration": 12,
    "start_time": "2021-08-05T08:22:27.208Z"
   },
   {
    "duration": 12,
    "start_time": "2021-08-05T08:22:27.223Z"
   },
   {
    "duration": 11,
    "start_time": "2021-08-05T08:22:27.237Z"
   },
   {
    "duration": 34,
    "start_time": "2021-08-05T08:22:27.254Z"
   },
   {
    "duration": 13,
    "start_time": "2021-08-05T08:22:27.291Z"
   },
   {
    "duration": 8,
    "start_time": "2021-08-05T08:22:27.306Z"
   },
   {
    "duration": 13,
    "start_time": "2021-08-05T08:22:27.316Z"
   },
   {
    "duration": 5,
    "start_time": "2021-08-05T08:22:27.331Z"
   },
   {
    "duration": 6,
    "start_time": "2021-08-05T08:22:27.339Z"
   },
   {
    "duration": 44,
    "start_time": "2021-08-05T08:22:27.348Z"
   },
   {
    "duration": 10,
    "start_time": "2021-08-05T08:22:27.395Z"
   },
   {
    "duration": 77,
    "start_time": "2021-08-05T08:22:27.409Z"
   },
   {
    "duration": 12,
    "start_time": "2021-08-05T08:22:27.490Z"
   },
   {
    "duration": 91,
    "start_time": "2021-08-05T08:22:27.505Z"
   },
   {
    "duration": 14,
    "start_time": "2021-08-05T08:22:27.598Z"
   },
   {
    "duration": 6,
    "start_time": "2021-08-05T08:22:27.614Z"
   },
   {
    "duration": 22,
    "start_time": "2021-08-05T08:22:27.622Z"
   },
   {
    "duration": 5,
    "start_time": "2021-08-05T08:22:27.647Z"
   },
   {
    "duration": 5,
    "start_time": "2021-08-05T08:23:35.130Z"
   },
   {
    "duration": 5,
    "start_time": "2021-08-05T08:23:46.336Z"
   },
   {
    "duration": 8,
    "start_time": "2021-08-05T08:23:46.729Z"
   },
   {
    "duration": 7,
    "start_time": "2021-08-05T08:23:47.824Z"
   },
   {
    "duration": 4,
    "start_time": "2021-08-05T08:24:00.991Z"
   },
   {
    "duration": 8,
    "start_time": "2021-08-05T08:24:01.487Z"
   },
   {
    "duration": 5,
    "start_time": "2021-08-05T08:24:02.399Z"
   },
   {
    "duration": 5,
    "start_time": "2021-08-05T09:29:07.369Z"
   },
   {
    "duration": 6,
    "start_time": "2021-08-05T09:29:15.900Z"
   },
   {
    "duration": 5,
    "start_time": "2021-08-05T09:30:09.491Z"
   },
   {
    "duration": 3,
    "start_time": "2021-08-05T09:33:35.813Z"
   },
   {
    "duration": 5,
    "start_time": "2021-08-05T09:34:26.977Z"
   },
   {
    "duration": 5,
    "start_time": "2021-08-05T09:34:27.857Z"
   },
   {
    "duration": 6,
    "start_time": "2021-08-05T09:34:29.921Z"
   },
   {
    "duration": 5,
    "start_time": "2021-08-05T09:34:31.890Z"
   },
   {
    "duration": 5,
    "start_time": "2021-08-05T09:34:36.345Z"
   },
   {
    "duration": 5,
    "start_time": "2021-08-05T09:35:07.673Z"
   },
   {
    "duration": 11,
    "start_time": "2021-08-05T09:35:09.595Z"
   },
   {
    "duration": 3,
    "start_time": "2021-08-05T09:35:19.921Z"
   },
   {
    "duration": 7,
    "start_time": "2021-08-05T09:35:21.000Z"
   },
   {
    "duration": 5,
    "start_time": "2021-08-05T09:35:22.016Z"
   },
   {
    "duration": 5,
    "start_time": "2021-08-05T09:43:39.929Z"
   },
   {
    "duration": 5,
    "start_time": "2021-08-05T09:43:41.509Z"
   },
   {
    "duration": 6,
    "start_time": "2021-08-05T09:43:45.751Z"
   },
   {
    "duration": 6,
    "start_time": "2021-08-05T09:43:46.285Z"
   },
   {
    "duration": 5,
    "start_time": "2021-08-05T09:43:47.005Z"
   },
   {
    "duration": 920,
    "start_time": "2021-08-05T09:43:48.285Z"
   },
   {
    "duration": 406,
    "start_time": "2021-08-05T09:46:35.686Z"
   },
   {
    "duration": 5,
    "start_time": "2021-08-05T09:46:40.567Z"
   },
   {
    "duration": 880,
    "start_time": "2021-08-05T09:46:42.428Z"
   },
   {
    "duration": 10,
    "start_time": "2021-08-05T09:46:43.401Z"
   },
   {
    "duration": 5,
    "start_time": "2021-08-05T09:47:16.516Z"
   },
   {
    "duration": 5,
    "start_time": "2021-08-05T09:47:18.860Z"
   },
   {
    "duration": 10,
    "start_time": "2021-08-05T09:47:20.469Z"
   },
   {
    "duration": 1649,
    "start_time": "2021-08-05T09:58:40.976Z"
   },
   {
    "duration": 173,
    "start_time": "2021-08-05T09:58:42.628Z"
   },
   {
    "duration": 9,
    "start_time": "2021-08-05T09:58:42.804Z"
   },
   {
    "duration": 137,
    "start_time": "2021-08-05T09:58:42.816Z"
   },
   {
    "duration": 75,
    "start_time": "2021-08-05T09:58:42.955Z"
   },
   {
    "duration": 20,
    "start_time": "2021-08-05T09:58:43.033Z"
   },
   {
    "duration": 13,
    "start_time": "2021-08-05T09:58:43.055Z"
   },
   {
    "duration": 25,
    "start_time": "2021-08-05T09:58:43.072Z"
   },
   {
    "duration": 18,
    "start_time": "2021-08-05T09:58:43.100Z"
   },
   {
    "duration": 18,
    "start_time": "2021-08-05T09:58:43.121Z"
   },
   {
    "duration": 28,
    "start_time": "2021-08-05T09:58:43.141Z"
   },
   {
    "duration": 11,
    "start_time": "2021-08-05T09:58:43.172Z"
   },
   {
    "duration": 22,
    "start_time": "2021-08-05T09:58:43.185Z"
   },
   {
    "duration": 17,
    "start_time": "2021-08-05T09:58:43.210Z"
   },
   {
    "duration": 19,
    "start_time": "2021-08-05T09:58:43.229Z"
   },
   {
    "duration": 37,
    "start_time": "2021-08-05T09:58:43.250Z"
   },
   {
    "duration": 99,
    "start_time": "2021-08-05T09:58:43.289Z"
   },
   {
    "duration": 977,
    "start_time": "2021-08-05T09:58:43.391Z"
   },
   {
    "duration": 74,
    "start_time": "2021-08-05T09:58:44.297Z"
   },
   {
    "duration": 73,
    "start_time": "2021-08-05T09:58:44.300Z"
   },
   {
    "duration": 58,
    "start_time": "2021-08-05T09:58:44.316Z"
   },
   {
    "duration": 56,
    "start_time": "2021-08-05T09:58:44.320Z"
   },
   {
    "duration": 5,
    "start_time": "2021-08-05T09:59:41.466Z"
   },
   {
    "duration": 5,
    "start_time": "2021-08-05T09:59:44.585Z"
   },
   {
    "duration": 11,
    "start_time": "2021-08-05T09:59:46.553Z"
   },
   {
    "duration": 4,
    "start_time": "2021-08-05T09:59:50.649Z"
   },
   {
    "duration": 7,
    "start_time": "2021-08-05T09:59:51.081Z"
   },
   {
    "duration": 4,
    "start_time": "2021-08-05T09:59:51.481Z"
   },
   {
    "duration": 1491,
    "start_time": "2021-08-05T10:00:01.383Z"
   },
   {
    "duration": 84,
    "start_time": "2021-08-05T10:00:02.877Z"
   },
   {
    "duration": 9,
    "start_time": "2021-08-05T10:00:02.964Z"
   },
   {
    "duration": 52,
    "start_time": "2021-08-05T10:00:02.976Z"
   },
   {
    "duration": 11,
    "start_time": "2021-08-05T10:00:03.031Z"
   },
   {
    "duration": 22,
    "start_time": "2021-08-05T10:00:03.044Z"
   },
   {
    "duration": 20,
    "start_time": "2021-08-05T10:00:03.068Z"
   },
   {
    "duration": 15,
    "start_time": "2021-08-05T10:00:03.092Z"
   },
   {
    "duration": 28,
    "start_time": "2021-08-05T10:00:03.110Z"
   },
   {
    "duration": 22,
    "start_time": "2021-08-05T10:00:03.141Z"
   },
   {
    "duration": 17,
    "start_time": "2021-08-05T10:00:03.166Z"
   },
   {
    "duration": 17,
    "start_time": "2021-08-05T10:00:03.186Z"
   },
   {
    "duration": 16,
    "start_time": "2021-08-05T10:00:03.206Z"
   },
   {
    "duration": 28,
    "start_time": "2021-08-05T10:00:03.225Z"
   },
   {
    "duration": 23,
    "start_time": "2021-08-05T10:00:03.255Z"
   },
   {
    "duration": 17,
    "start_time": "2021-08-05T10:00:03.281Z"
   },
   {
    "duration": 88,
    "start_time": "2021-08-05T10:00:03.301Z"
   },
   {
    "duration": 95,
    "start_time": "2021-08-05T10:00:03.393Z"
   },
   {
    "duration": 97,
    "start_time": "2021-08-05T10:00:03.493Z"
   },
   {
    "duration": 93,
    "start_time": "2021-08-05T10:00:03.593Z"
   },
   {
    "duration": 27,
    "start_time": "2021-08-05T10:00:03.688Z"
   },
   {
    "duration": 23,
    "start_time": "2021-08-05T10:00:03.718Z"
   },
   {
    "duration": 4,
    "start_time": "2021-08-05T10:02:11.534Z"
   },
   {
    "duration": 7,
    "start_time": "2021-08-05T10:02:11.816Z"
   },
   {
    "duration": 4,
    "start_time": "2021-08-05T10:02:12.360Z"
   },
   {
    "duration": 1523,
    "start_time": "2021-08-05T10:02:22.105Z"
   },
   {
    "duration": 95,
    "start_time": "2021-08-05T10:02:23.630Z"
   },
   {
    "duration": 9,
    "start_time": "2021-08-05T10:02:23.728Z"
   },
   {
    "duration": 42,
    "start_time": "2021-08-05T10:02:23.740Z"
   },
   {
    "duration": 11,
    "start_time": "2021-08-05T10:02:23.784Z"
   },
   {
    "duration": 7,
    "start_time": "2021-08-05T10:02:23.798Z"
   },
   {
    "duration": 7,
    "start_time": "2021-08-05T10:02:23.808Z"
   },
   {
    "duration": 12,
    "start_time": "2021-08-05T10:02:23.817Z"
   },
   {
    "duration": 6,
    "start_time": "2021-08-05T10:02:23.834Z"
   },
   {
    "duration": 44,
    "start_time": "2021-08-05T10:02:23.843Z"
   },
   {
    "duration": 17,
    "start_time": "2021-08-05T10:02:23.889Z"
   },
   {
    "duration": 9,
    "start_time": "2021-08-05T10:02:23.908Z"
   },
   {
    "duration": 7,
    "start_time": "2021-08-05T10:02:23.920Z"
   },
   {
    "duration": 10,
    "start_time": "2021-08-05T10:02:23.929Z"
   },
   {
    "duration": 46,
    "start_time": "2021-08-05T10:02:23.942Z"
   },
   {
    "duration": 7,
    "start_time": "2021-08-05T10:02:23.990Z"
   },
   {
    "duration": 88,
    "start_time": "2021-08-05T10:02:24.000Z"
   },
   {
    "duration": 5,
    "start_time": "2021-08-05T10:02:24.090Z"
   },
   {
    "duration": 90,
    "start_time": "2021-08-05T10:02:24.098Z"
   },
   {
    "duration": 5,
    "start_time": "2021-08-05T10:02:24.191Z"
   },
   {
    "duration": 89,
    "start_time": "2021-08-05T10:02:24.199Z"
   },
   {
    "duration": 4,
    "start_time": "2021-08-05T10:02:24.291Z"
   },
   {
    "duration": 5,
    "start_time": "2021-08-09T11:47:06.054Z"
   },
   {
    "duration": 1438,
    "start_time": "2021-08-09T11:51:13.101Z"
   },
   {
    "duration": 72,
    "start_time": "2021-08-09T11:51:14.542Z"
   },
   {
    "duration": 9,
    "start_time": "2021-08-09T11:51:14.618Z"
   },
   {
    "duration": 37,
    "start_time": "2021-08-09T11:51:14.630Z"
   },
   {
    "duration": 11,
    "start_time": "2021-08-09T11:51:14.669Z"
   },
   {
    "duration": 8,
    "start_time": "2021-08-09T11:51:14.687Z"
   },
   {
    "duration": 6,
    "start_time": "2021-08-09T11:51:14.698Z"
   },
   {
    "duration": 8,
    "start_time": "2021-08-09T11:51:14.707Z"
   },
   {
    "duration": 8,
    "start_time": "2021-08-09T11:51:14.718Z"
   },
   {
    "duration": 7,
    "start_time": "2021-08-09T11:51:14.728Z"
   },
   {
    "duration": 10,
    "start_time": "2021-08-09T11:51:14.738Z"
   },
   {
    "duration": 10,
    "start_time": "2021-08-09T11:51:14.785Z"
   },
   {
    "duration": 6,
    "start_time": "2021-08-09T11:51:14.798Z"
   },
   {
    "duration": 6,
    "start_time": "2021-08-09T11:51:14.807Z"
   },
   {
    "duration": 16,
    "start_time": "2021-08-09T11:51:14.816Z"
   },
   {
    "duration": 61,
    "start_time": "2021-08-09T11:51:14.835Z"
   },
   {
    "duration": 7,
    "start_time": "2021-08-09T11:51:14.900Z"
   },
   {
    "duration": 89,
    "start_time": "2021-08-09T11:51:14.910Z"
   },
   {
    "duration": 99,
    "start_time": "2021-08-09T11:51:15.002Z"
   },
   {
    "duration": 4,
    "start_time": "2021-08-09T11:51:15.103Z"
   },
   {
    "duration": 84,
    "start_time": "2021-08-09T11:51:15.110Z"
   },
   {
    "duration": 5,
    "start_time": "2021-08-09T11:51:15.197Z"
   },
   {
    "duration": 1590,
    "start_time": "2021-08-09T11:51:30.163Z"
   },
   {
    "duration": 46,
    "start_time": "2021-08-09T11:51:31.755Z"
   },
   {
    "duration": 11,
    "start_time": "2021-08-09T11:51:31.804Z"
   },
   {
    "duration": 36,
    "start_time": "2021-08-09T11:51:31.818Z"
   },
   {
    "duration": 32,
    "start_time": "2021-08-09T11:51:31.856Z"
   },
   {
    "duration": 8,
    "start_time": "2021-08-09T11:51:31.891Z"
   },
   {
    "duration": 7,
    "start_time": "2021-08-09T11:51:31.901Z"
   },
   {
    "duration": 10,
    "start_time": "2021-08-09T11:51:31.912Z"
   },
   {
    "duration": 6,
    "start_time": "2021-08-09T11:51:31.925Z"
   },
   {
    "duration": 9,
    "start_time": "2021-08-09T11:51:31.934Z"
   },
   {
    "duration": 52,
    "start_time": "2021-08-09T11:51:31.945Z"
   },
   {
    "duration": 4,
    "start_time": "2021-08-09T11:51:31.999Z"
   },
   {
    "duration": 9,
    "start_time": "2021-08-09T11:51:32.005Z"
   },
   {
    "duration": 13,
    "start_time": "2021-08-09T11:51:32.017Z"
   },
   {
    "duration": 9,
    "start_time": "2021-08-09T11:51:32.032Z"
   },
   {
    "duration": 55,
    "start_time": "2021-08-09T11:51:32.043Z"
   },
   {
    "duration": 88,
    "start_time": "2021-08-09T11:51:32.101Z"
   },
   {
    "duration": 4,
    "start_time": "2021-08-09T11:51:32.196Z"
   },
   {
    "duration": 90,
    "start_time": "2021-08-09T11:51:32.203Z"
   },
   {
    "duration": 4,
    "start_time": "2021-08-09T11:51:32.296Z"
   },
   {
    "duration": 91,
    "start_time": "2021-08-09T11:51:32.303Z"
   },
   {
    "duration": 4,
    "start_time": "2021-08-09T11:51:32.397Z"
   }
  ],
  "kernelspec": {
   "display_name": "Python 3",
   "language": "python",
   "name": "python3"
  },
  "language_info": {
   "codemirror_mode": {
    "name": "ipython",
    "version": 3
   },
   "file_extension": ".py",
   "mimetype": "text/x-python",
   "name": "python",
   "nbconvert_exporter": "python",
   "pygments_lexer": "ipython3",
   "version": "3.8.8"
  },
  "toc": {
   "base_numbering": 1,
   "nav_menu": {},
   "number_sections": true,
   "sideBar": true,
   "skip_h1_title": true,
   "title_cell": "Содержание",
   "title_sidebar": "Contents",
   "toc_cell": true,
   "toc_position": {
    "height": "calc(100% - 180px)",
    "left": "10px",
    "top": "150px",
    "width": "267.988px"
   },
   "toc_section_display": true,
   "toc_window_display": false
  }
 },
 "nbformat": 4,
 "nbformat_minor": 2
}
