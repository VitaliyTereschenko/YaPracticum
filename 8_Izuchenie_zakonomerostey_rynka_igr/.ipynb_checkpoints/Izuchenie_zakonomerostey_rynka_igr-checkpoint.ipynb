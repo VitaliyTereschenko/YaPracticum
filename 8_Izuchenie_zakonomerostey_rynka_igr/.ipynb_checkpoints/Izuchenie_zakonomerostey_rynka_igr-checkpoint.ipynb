{
 "cells": [
  {
   "cell_type": "markdown",
   "metadata": {},
   "source": [
    "# Описание проекта\n",
    "<div style=\"border-radius: 15px; border: 2px solid green; padding: 15px;\">\n",
    "Вы работаете в интернет-магазине «Стримчик», который продаёт по всему миру компьютерные игры. Из открытых источников доступны исторические данные о продажах игр, оценки пользователей и экспертов, жанры и платформы (например, Xbox или PlayStation). Вам нужно выявить определяющие успешность игры закономерности. Это позволит сделать ставку на потенциально популярный продукт и спланировать рекламные кампании.\n",
    "Перед вами данные до 2016 года. Представим, что сейчас декабрь 2016 г., и вы планируете кампанию на 2017-й. Нужно отработать принцип работы с данными. Неважно, прогнозируете ли вы продажи на 2017 год по данным 2016-го или же 2027-й — по данным 2026 года.\n",
    "</div>"
   ]
  },
  {
   "cell_type": "markdown",
   "metadata": {},
   "source": [
    "## Открываем файл с данными"
   ]
  },
  {
   "cell_type": "code",
   "execution_count": 1,
   "metadata": {},
   "outputs": [],
   "source": [
    "from scipy import stats as st\n",
    "import matplotlib.pyplot as plt\n",
    "import numpy as np\n",
    "import pandas as pd\n",
    "pd.options.mode.chained_assignment = None\n",
    "\n",
    "df = pd.read_csv('/games.csv')"
   ]
  },
  {
   "cell_type": "markdown",
   "metadata": {},
   "source": [
    "<div style=\"border-radius: 15px; border: 1px solid grey; padding: 15px;\">\n",
    "Проверим содержимое:\n",
    "</div>"
   ]
  },
  {
   "cell_type": "code",
   "execution_count": 2,
   "metadata": {},
   "outputs": [
    {
     "name": "stdout",
     "output_type": "stream",
     "text": [
      "                       Name Platform  Year_of_Release         Genre  NA_sales  \\\n",
      "0                Wii Sports      Wii           2006.0        Sports     41.36   \n",
      "1         Super Mario Bros.      NES           1985.0      Platform     29.08   \n",
      "2            Mario Kart Wii      Wii           2008.0        Racing     15.68   \n",
      "3         Wii Sports Resort      Wii           2009.0        Sports     15.61   \n",
      "4  Pokemon Red/Pokemon Blue       GB           1996.0  Role-Playing     11.27   \n",
      "\n",
      "   EU_sales  JP_sales  Other_sales  Critic_Score User_Score Rating  \n",
      "0     28.96      3.77         8.45          76.0          8      E  \n",
      "1      3.58      6.81         0.77           NaN        NaN    NaN  \n",
      "2     12.76      3.79         3.29          82.0        8.3      E  \n",
      "3     10.93      3.28         2.95          80.0          8      E  \n",
      "4      8.89     10.22         1.00           NaN        NaN    NaN   \n",
      "\n",
      "<class 'pandas.core.frame.DataFrame'>\n",
      "RangeIndex: 16715 entries, 0 to 16714\n",
      "Data columns (total 11 columns):\n",
      "Name               16713 non-null object\n",
      "Platform           16715 non-null object\n",
      "Year_of_Release    16446 non-null float64\n",
      "Genre              16713 non-null object\n",
      "NA_sales           16715 non-null float64\n",
      "EU_sales           16715 non-null float64\n",
      "JP_sales           16715 non-null float64\n",
      "Other_sales        16715 non-null float64\n",
      "Critic_Score       8137 non-null float64\n",
      "User_Score         10014 non-null object\n",
      "Rating             9949 non-null object\n",
      "dtypes: float64(6), object(5)\n",
      "memory usage: 1.4+ MB\n"
     ]
    },
    {
     "data": {
      "text/html": [
       "<div>\n",
       "<style scoped>\n",
       "    .dataframe tbody tr th:only-of-type {\n",
       "        vertical-align: middle;\n",
       "    }\n",
       "\n",
       "    .dataframe tbody tr th {\n",
       "        vertical-align: top;\n",
       "    }\n",
       "\n",
       "    .dataframe thead th {\n",
       "        text-align: right;\n",
       "    }\n",
       "</style>\n",
       "<table border=\"1\" class=\"dataframe\">\n",
       "  <thead>\n",
       "    <tr style=\"text-align: right;\">\n",
       "      <th></th>\n",
       "      <th>Year_of_Release</th>\n",
       "      <th>NA_sales</th>\n",
       "      <th>EU_sales</th>\n",
       "      <th>JP_sales</th>\n",
       "      <th>Other_sales</th>\n",
       "      <th>Critic_Score</th>\n",
       "    </tr>\n",
       "  </thead>\n",
       "  <tbody>\n",
       "    <tr>\n",
       "      <td>count</td>\n",
       "      <td>16446.000000</td>\n",
       "      <td>16715.000000</td>\n",
       "      <td>16715.000000</td>\n",
       "      <td>16715.000000</td>\n",
       "      <td>16715.000000</td>\n",
       "      <td>8137.000000</td>\n",
       "    </tr>\n",
       "    <tr>\n",
       "      <td>mean</td>\n",
       "      <td>2006.484616</td>\n",
       "      <td>0.263377</td>\n",
       "      <td>0.145060</td>\n",
       "      <td>0.077617</td>\n",
       "      <td>0.047342</td>\n",
       "      <td>68.967679</td>\n",
       "    </tr>\n",
       "    <tr>\n",
       "      <td>std</td>\n",
       "      <td>5.877050</td>\n",
       "      <td>0.813604</td>\n",
       "      <td>0.503339</td>\n",
       "      <td>0.308853</td>\n",
       "      <td>0.186731</td>\n",
       "      <td>13.938165</td>\n",
       "    </tr>\n",
       "    <tr>\n",
       "      <td>min</td>\n",
       "      <td>1980.000000</td>\n",
       "      <td>0.000000</td>\n",
       "      <td>0.000000</td>\n",
       "      <td>0.000000</td>\n",
       "      <td>0.000000</td>\n",
       "      <td>13.000000</td>\n",
       "    </tr>\n",
       "    <tr>\n",
       "      <td>25%</td>\n",
       "      <td>2003.000000</td>\n",
       "      <td>0.000000</td>\n",
       "      <td>0.000000</td>\n",
       "      <td>0.000000</td>\n",
       "      <td>0.000000</td>\n",
       "      <td>60.000000</td>\n",
       "    </tr>\n",
       "    <tr>\n",
       "      <td>50%</td>\n",
       "      <td>2007.000000</td>\n",
       "      <td>0.080000</td>\n",
       "      <td>0.020000</td>\n",
       "      <td>0.000000</td>\n",
       "      <td>0.010000</td>\n",
       "      <td>71.000000</td>\n",
       "    </tr>\n",
       "    <tr>\n",
       "      <td>75%</td>\n",
       "      <td>2010.000000</td>\n",
       "      <td>0.240000</td>\n",
       "      <td>0.110000</td>\n",
       "      <td>0.040000</td>\n",
       "      <td>0.030000</td>\n",
       "      <td>79.000000</td>\n",
       "    </tr>\n",
       "    <tr>\n",
       "      <td>max</td>\n",
       "      <td>2016.000000</td>\n",
       "      <td>41.360000</td>\n",
       "      <td>28.960000</td>\n",
       "      <td>10.220000</td>\n",
       "      <td>10.570000</td>\n",
       "      <td>98.000000</td>\n",
       "    </tr>\n",
       "  </tbody>\n",
       "</table>\n",
       "</div>"
      ],
      "text/plain": [
       "       Year_of_Release      NA_sales      EU_sales      JP_sales  \\\n",
       "count     16446.000000  16715.000000  16715.000000  16715.000000   \n",
       "mean       2006.484616      0.263377      0.145060      0.077617   \n",
       "std           5.877050      0.813604      0.503339      0.308853   \n",
       "min        1980.000000      0.000000      0.000000      0.000000   \n",
       "25%        2003.000000      0.000000      0.000000      0.000000   \n",
       "50%        2007.000000      0.080000      0.020000      0.000000   \n",
       "75%        2010.000000      0.240000      0.110000      0.040000   \n",
       "max        2016.000000     41.360000     28.960000     10.220000   \n",
       "\n",
       "        Other_sales  Critic_Score  \n",
       "count  16715.000000   8137.000000  \n",
       "mean       0.047342     68.967679  \n",
       "std        0.186731     13.938165  \n",
       "min        0.000000     13.000000  \n",
       "25%        0.000000     60.000000  \n",
       "50%        0.010000     71.000000  \n",
       "75%        0.030000     79.000000  \n",
       "max       10.570000     98.000000  "
      ]
     },
     "execution_count": 2,
     "metadata": {},
     "output_type": "execute_result"
    }
   ],
   "source": [
    "print(df.head(5), '\\n')\n",
    "df.info()\n",
    "df.describe()"
   ]
  },
  {
   "cell_type": "markdown",
   "metadata": {},
   "source": [
    "<div style=\"border-radius: 15px; border: 1px solid grey; padding: 15px;\">\n",
    "16715 строк с пропусками в различных столбцах и наименованиями столбцов с заглавными буквами, пройдем по кажому столбцу в отдельности.\n",
    "</div>"
   ]
  },
  {
   "cell_type": "markdown",
   "metadata": {},
   "source": [
    "## Изучение и подготовка данных"
   ]
  },
  {
   "cell_type": "markdown",
   "metadata": {},
   "source": [
    "<div style=\"border-radius: 15px; border: 1px solid grey; padding: 15px;\">\n",
    "Начнем с приведения названий столбцов к стандарту, а именно к строчным буквам:\n",
    "</div>"
   ]
  },
  {
   "cell_type": "code",
   "execution_count": 3,
   "metadata": {},
   "outputs": [],
   "source": [
    "col = map(lambda x:x.lower(), df.columns.tolist())\n",
    "df.columns=col"
   ]
  },
  {
   "cell_type": "code",
   "execution_count": 4,
   "metadata": {},
   "outputs": [
    {
     "data": {
      "text/html": [
       "<div>\n",
       "<style scoped>\n",
       "    .dataframe tbody tr th:only-of-type {\n",
       "        vertical-align: middle;\n",
       "    }\n",
       "\n",
       "    .dataframe tbody tr th {\n",
       "        vertical-align: top;\n",
       "    }\n",
       "\n",
       "    .dataframe thead th {\n",
       "        text-align: right;\n",
       "    }\n",
       "</style>\n",
       "<table border=\"1\" class=\"dataframe\">\n",
       "  <thead>\n",
       "    <tr style=\"text-align: right;\">\n",
       "      <th></th>\n",
       "      <th>name</th>\n",
       "      <th>platform</th>\n",
       "      <th>year_of_release</th>\n",
       "      <th>genre</th>\n",
       "      <th>na_sales</th>\n",
       "      <th>eu_sales</th>\n",
       "      <th>jp_sales</th>\n",
       "      <th>other_sales</th>\n",
       "      <th>critic_score</th>\n",
       "      <th>user_score</th>\n",
       "      <th>rating</th>\n",
       "    </tr>\n",
       "  </thead>\n",
       "  <tbody>\n",
       "    <tr>\n",
       "      <td>0</td>\n",
       "      <td>Wii Sports</td>\n",
       "      <td>Wii</td>\n",
       "      <td>2006.0</td>\n",
       "      <td>Sports</td>\n",
       "      <td>41.36</td>\n",
       "      <td>28.96</td>\n",
       "      <td>3.77</td>\n",
       "      <td>8.45</td>\n",
       "      <td>76.0</td>\n",
       "      <td>8</td>\n",
       "      <td>E</td>\n",
       "    </tr>\n",
       "    <tr>\n",
       "      <td>1</td>\n",
       "      <td>Super Mario Bros.</td>\n",
       "      <td>NES</td>\n",
       "      <td>1985.0</td>\n",
       "      <td>Platform</td>\n",
       "      <td>29.08</td>\n",
       "      <td>3.58</td>\n",
       "      <td>6.81</td>\n",
       "      <td>0.77</td>\n",
       "      <td>NaN</td>\n",
       "      <td>NaN</td>\n",
       "      <td>NaN</td>\n",
       "    </tr>\n",
       "    <tr>\n",
       "      <td>2</td>\n",
       "      <td>Mario Kart Wii</td>\n",
       "      <td>Wii</td>\n",
       "      <td>2008.0</td>\n",
       "      <td>Racing</td>\n",
       "      <td>15.68</td>\n",
       "      <td>12.76</td>\n",
       "      <td>3.79</td>\n",
       "      <td>3.29</td>\n",
       "      <td>82.0</td>\n",
       "      <td>8.3</td>\n",
       "      <td>E</td>\n",
       "    </tr>\n",
       "    <tr>\n",
       "      <td>3</td>\n",
       "      <td>Wii Sports Resort</td>\n",
       "      <td>Wii</td>\n",
       "      <td>2009.0</td>\n",
       "      <td>Sports</td>\n",
       "      <td>15.61</td>\n",
       "      <td>10.93</td>\n",
       "      <td>3.28</td>\n",
       "      <td>2.95</td>\n",
       "      <td>80.0</td>\n",
       "      <td>8</td>\n",
       "      <td>E</td>\n",
       "    </tr>\n",
       "    <tr>\n",
       "      <td>4</td>\n",
       "      <td>Pokemon Red/Pokemon Blue</td>\n",
       "      <td>GB</td>\n",
       "      <td>1996.0</td>\n",
       "      <td>Role-Playing</td>\n",
       "      <td>11.27</td>\n",
       "      <td>8.89</td>\n",
       "      <td>10.22</td>\n",
       "      <td>1.00</td>\n",
       "      <td>NaN</td>\n",
       "      <td>NaN</td>\n",
       "      <td>NaN</td>\n",
       "    </tr>\n",
       "    <tr>\n",
       "      <td>5</td>\n",
       "      <td>Tetris</td>\n",
       "      <td>GB</td>\n",
       "      <td>1989.0</td>\n",
       "      <td>Puzzle</td>\n",
       "      <td>23.20</td>\n",
       "      <td>2.26</td>\n",
       "      <td>4.22</td>\n",
       "      <td>0.58</td>\n",
       "      <td>NaN</td>\n",
       "      <td>NaN</td>\n",
       "      <td>NaN</td>\n",
       "    </tr>\n",
       "    <tr>\n",
       "      <td>6</td>\n",
       "      <td>New Super Mario Bros.</td>\n",
       "      <td>DS</td>\n",
       "      <td>2006.0</td>\n",
       "      <td>Platform</td>\n",
       "      <td>11.28</td>\n",
       "      <td>9.14</td>\n",
       "      <td>6.50</td>\n",
       "      <td>2.88</td>\n",
       "      <td>89.0</td>\n",
       "      <td>8.5</td>\n",
       "      <td>E</td>\n",
       "    </tr>\n",
       "    <tr>\n",
       "      <td>7</td>\n",
       "      <td>Wii Play</td>\n",
       "      <td>Wii</td>\n",
       "      <td>2006.0</td>\n",
       "      <td>Misc</td>\n",
       "      <td>13.96</td>\n",
       "      <td>9.18</td>\n",
       "      <td>2.93</td>\n",
       "      <td>2.84</td>\n",
       "      <td>58.0</td>\n",
       "      <td>6.6</td>\n",
       "      <td>E</td>\n",
       "    </tr>\n",
       "    <tr>\n",
       "      <td>8</td>\n",
       "      <td>New Super Mario Bros. Wii</td>\n",
       "      <td>Wii</td>\n",
       "      <td>2009.0</td>\n",
       "      <td>Platform</td>\n",
       "      <td>14.44</td>\n",
       "      <td>6.94</td>\n",
       "      <td>4.70</td>\n",
       "      <td>2.24</td>\n",
       "      <td>87.0</td>\n",
       "      <td>8.4</td>\n",
       "      <td>E</td>\n",
       "    </tr>\n",
       "    <tr>\n",
       "      <td>9</td>\n",
       "      <td>Duck Hunt</td>\n",
       "      <td>NES</td>\n",
       "      <td>1984.0</td>\n",
       "      <td>Shooter</td>\n",
       "      <td>26.93</td>\n",
       "      <td>0.63</td>\n",
       "      <td>0.28</td>\n",
       "      <td>0.47</td>\n",
       "      <td>NaN</td>\n",
       "      <td>NaN</td>\n",
       "      <td>NaN</td>\n",
       "    </tr>\n",
       "  </tbody>\n",
       "</table>\n",
       "</div>"
      ],
      "text/plain": [
       "                        name platform  year_of_release         genre  \\\n",
       "0                 Wii Sports      Wii           2006.0        Sports   \n",
       "1          Super Mario Bros.      NES           1985.0      Platform   \n",
       "2             Mario Kart Wii      Wii           2008.0        Racing   \n",
       "3          Wii Sports Resort      Wii           2009.0        Sports   \n",
       "4   Pokemon Red/Pokemon Blue       GB           1996.0  Role-Playing   \n",
       "5                     Tetris       GB           1989.0        Puzzle   \n",
       "6      New Super Mario Bros.       DS           2006.0      Platform   \n",
       "7                   Wii Play      Wii           2006.0          Misc   \n",
       "8  New Super Mario Bros. Wii      Wii           2009.0      Platform   \n",
       "9                  Duck Hunt      NES           1984.0       Shooter   \n",
       "\n",
       "   na_sales  eu_sales  jp_sales  other_sales  critic_score user_score rating  \n",
       "0     41.36     28.96      3.77         8.45          76.0          8      E  \n",
       "1     29.08      3.58      6.81         0.77           NaN        NaN    NaN  \n",
       "2     15.68     12.76      3.79         3.29          82.0        8.3      E  \n",
       "3     15.61     10.93      3.28         2.95          80.0          8      E  \n",
       "4     11.27      8.89     10.22         1.00           NaN        NaN    NaN  \n",
       "5     23.20      2.26      4.22         0.58           NaN        NaN    NaN  \n",
       "6     11.28      9.14      6.50         2.88          89.0        8.5      E  \n",
       "7     13.96      9.18      2.93         2.84          58.0        6.6      E  \n",
       "8     14.44      6.94      4.70         2.24          87.0        8.4      E  \n",
       "9     26.93      0.63      0.28         0.47           NaN        NaN    NaN  "
      ]
     },
     "execution_count": 4,
     "metadata": {},
     "output_type": "execute_result"
    }
   ],
   "source": [
    "df.head(10)"
   ]
  },
  {
   "cell_type": "markdown",
   "metadata": {},
   "source": [
    "### Cтолбец 'name'"
   ]
  },
  {
   "cell_type": "code",
   "execution_count": 5,
   "metadata": {},
   "outputs": [
    {
     "name": "stdout",
     "output_type": "stream",
     "text": [
      "Need for Speed: Most Wanted                     12\n",
      "Ratatouille                                      9\n",
      "Madden NFL 07                                    9\n",
      "LEGO Marvel Super Heroes                         9\n",
      "FIFA 14                                          9\n",
      "                                                ..\n",
      "Memories Off: Sorekara Again                     1\n",
      "Alone in the Dark: One-Eyed Jack's Revenge       1\n",
      "Simple DS Series Vol. 42: The Haioku Byoutou     1\n",
      "Dragon Quest V: Hand of the Heavenly Bride       1\n",
      "Dragon Ball: Daimaou Fukkatsu                    1\n",
      "Name: name, Length: 11560, dtype: int64\n"
     ]
    }
   ],
   "source": [
    "print(df['name'].value_counts(dropna=False).sort_values(ascending=False))"
   ]
  },
  {
   "cell_type": "markdown",
   "metadata": {},
   "source": [
    "<div style=\"border-radius: 15px; border: 1px solid grey; padding: 15px;\">\n",
    "Вот и игра представленная на большем количестве платформ, а по данным есть пропуски, достоверно заполнить не представляется возможным, но удалять не будем, так как эти данные пригодятся при учете продаж по платформам:\n",
    "</div>"
   ]
  },
  {
   "cell_type": "code",
   "execution_count": 6,
   "metadata": {},
   "outputs": [
    {
     "name": "stdout",
     "output_type": "stream",
     "text": [
      "      name platform  year_of_release genre  na_sales  eu_sales  jp_sales  \\\n",
      "659    NaN      GEN           1993.0   NaN      1.78      0.53      0.00   \n",
      "14244  NaN      GEN           1993.0   NaN      0.00      0.00      0.03   \n",
      "\n",
      "       other_sales  critic_score user_score rating  \n",
      "659           0.08           NaN        NaN    NaN  \n",
      "14244         0.00           NaN        NaN    NaN  \n"
     ]
    }
   ],
   "source": [
    "print(df[df['name'].isna()])"
   ]
  },
  {
   "cell_type": "markdown",
   "metadata": {},
   "source": [
    "### Столбец 'platform'"
   ]
  },
  {
   "cell_type": "code",
   "execution_count": 7,
   "metadata": {},
   "outputs": [
    {
     "name": "stdout",
     "output_type": "stream",
     "text": [
      "PS2     2161\n",
      "DS      2151\n",
      "PS3     1331\n",
      "Wii     1320\n",
      "X360    1262\n",
      "PSP     1209\n",
      "PS      1197\n",
      "PC       974\n",
      "XB       824\n",
      "GBA      822\n",
      "GC       556\n",
      "3DS      520\n",
      "PSV      430\n",
      "PS4      392\n",
      "N64      319\n",
      "XOne     247\n",
      "SNES     239\n",
      "SAT      173\n",
      "WiiU     147\n",
      "2600     133\n",
      "GB        98\n",
      "NES       98\n",
      "DC        52\n",
      "GEN       29\n",
      "NG        12\n",
      "WS         6\n",
      "SCD        6\n",
      "3DO        3\n",
      "TG16       2\n",
      "GG         1\n",
      "PCFX       1\n",
      "Name: platform, dtype: int64\n"
     ]
    }
   ],
   "source": [
    "print(df['platform'].value_counts(dropna=False).sort_values(ascending=False))"
   ]
  },
  {
   "cell_type": "markdown",
   "metadata": {},
   "source": [
    "<div style=\"border-radius: 15px; border: 1px solid grey; padding: 15px;\">\n",
    "Вот и платформа с наибольшим количеством игр, а вот с данными все в порядке, пропусков нет.\n",
    "</div>"
   ]
  },
  {
   "cell_type": "markdown",
   "metadata": {},
   "source": [
    "### Столбец 'year_of_release'"
   ]
  },
  {
   "cell_type": "code",
   "execution_count": 8,
   "metadata": {},
   "outputs": [
    {
     "name": "stdout",
     "output_type": "stream",
     "text": [
      "1980.0       9\n",
      "1981.0      46\n",
      "1982.0      36\n",
      "1983.0      17\n",
      "1984.0      14\n",
      "1985.0      14\n",
      "1986.0      21\n",
      "1987.0      16\n",
      "1988.0      15\n",
      "1989.0      17\n",
      "1990.0      16\n",
      "1991.0      41\n",
      "1992.0      43\n",
      "1993.0      62\n",
      "1994.0     121\n",
      "1995.0     219\n",
      "1996.0     263\n",
      "1997.0     289\n",
      "1998.0     379\n",
      "1999.0     338\n",
      "2000.0     350\n",
      "2001.0     482\n",
      "2002.0     829\n",
      "2003.0     775\n",
      "2004.0     762\n",
      "2005.0     939\n",
      "2006.0    1006\n",
      "2007.0    1197\n",
      "2008.0    1427\n",
      "2009.0    1426\n",
      "2010.0    1255\n",
      "2011.0    1136\n",
      "2012.0     653\n",
      "2013.0     544\n",
      "2014.0     581\n",
      "2015.0     606\n",
      "2016.0     502\n",
      "NaN        269\n",
      "Name: year_of_release, dtype: int64\n"
     ]
    }
   ],
   "source": [
    "print(df['year_of_release'].value_counts(dropna=False).sort_index())"
   ]
  },
  {
   "cell_type": "markdown",
   "metadata": {},
   "source": [
    "<div style=\"border-radius: 15px; border: 1px solid grey; padding: 15px;\">\n",
    "Года выпуска в неверном формате, изменим:\n",
    "</div>"
   ]
  },
  {
   "cell_type": "code",
   "execution_count": 9,
   "metadata": {},
   "outputs": [
    {
     "data": {
      "text/plain": [
       "<bound method NDFrame.describe of 0        2006\n",
       "1        1985\n",
       "2        2008\n",
       "3        2009\n",
       "4        1996\n",
       "         ... \n",
       "16710    2016\n",
       "16711    2006\n",
       "16712    2016\n",
       "16713    2003\n",
       "16714    2016\n",
       "Name: year_of_release, Length: 16715, dtype: Int64>"
      ]
     },
     "execution_count": 9,
     "metadata": {},
     "output_type": "execute_result"
    }
   ],
   "source": [
    "df['year_of_release'] = df['year_of_release'].astype('Int64')\n",
    "#df['year_of_release'] = df['year_of_release'].values.astype('datetime64[Y]')\n",
    "df['year_of_release'].describe"
   ]
  },
  {
   "cell_type": "markdown",
   "metadata": {},
   "source": [
    "<div style=\"border-radius: 15px; border: 1px solid grey; padding: 15px;\">\n",
    "Так же мы видим пропуски, и даже можем сказать, что в списке с пропусками года есть повторяющиеся игры, на разных платформах:\n",
    "</div>"
   ]
  },
  {
   "cell_type": "code",
   "execution_count": 10,
   "metadata": {},
   "outputs": [],
   "source": [
    "cdf = df[df['year_of_release'].isna()].groupby('name', as_index=False)['platform'].count().sort_values(by='platform', ascending=False)"
   ]
  },
  {
   "cell_type": "code",
   "execution_count": 11,
   "metadata": {},
   "outputs": [
    {
     "data": {
      "text/html": [
       "<div>\n",
       "<style scoped>\n",
       "    .dataframe tbody tr th:only-of-type {\n",
       "        vertical-align: middle;\n",
       "    }\n",
       "\n",
       "    .dataframe tbody tr th {\n",
       "        vertical-align: top;\n",
       "    }\n",
       "\n",
       "    .dataframe thead th {\n",
       "        text-align: right;\n",
       "    }\n",
       "</style>\n",
       "<table border=\"1\" class=\"dataframe\">\n",
       "  <thead>\n",
       "    <tr style=\"text-align: right;\">\n",
       "      <th></th>\n",
       "      <th>name</th>\n",
       "      <th>platform</th>\n",
       "    </tr>\n",
       "  </thead>\n",
       "  <tbody>\n",
       "    <tr>\n",
       "      <td>95</td>\n",
       "      <td>LEGO Harry Potter: Years 5-7</td>\n",
       "      <td>7</td>\n",
       "    </tr>\n",
       "    <tr>\n",
       "      <td>149</td>\n",
       "      <td>Rock Band</td>\n",
       "      <td>4</td>\n",
       "    </tr>\n",
       "    <tr>\n",
       "      <td>77</td>\n",
       "      <td>Happy Feet Two</td>\n",
       "      <td>4</td>\n",
       "    </tr>\n",
       "    <tr>\n",
       "      <td>217</td>\n",
       "      <td>WRC: FIA World Rally Championship</td>\n",
       "      <td>3</td>\n",
       "    </tr>\n",
       "    <tr>\n",
       "      <td>186</td>\n",
       "      <td>Test Drive Unlimited 2</td>\n",
       "      <td>3</td>\n",
       "    </tr>\n",
       "    <tr>\n",
       "      <td>...</td>\n",
       "      <td>...</td>\n",
       "      <td>...</td>\n",
       "    </tr>\n",
       "    <tr>\n",
       "      <td>85</td>\n",
       "      <td>Indy 500</td>\n",
       "      <td>1</td>\n",
       "    </tr>\n",
       "    <tr>\n",
       "      <td>86</td>\n",
       "      <td>Inversion</td>\n",
       "      <td>1</td>\n",
       "    </tr>\n",
       "    <tr>\n",
       "      <td>87</td>\n",
       "      <td>James Cameron's Dark Angel</td>\n",
       "      <td>1</td>\n",
       "    </tr>\n",
       "    <tr>\n",
       "      <td>88</td>\n",
       "      <td>Jet Impulse</td>\n",
       "      <td>1</td>\n",
       "    </tr>\n",
       "    <tr>\n",
       "      <td>231</td>\n",
       "      <td>wwe Smackdown vs. Raw 2006</td>\n",
       "      <td>1</td>\n",
       "    </tr>\n",
       "  </tbody>\n",
       "</table>\n",
       "<p>232 rows × 2 columns</p>\n",
       "</div>"
      ],
      "text/plain": [
       "                                  name  platform\n",
       "95        LEGO Harry Potter: Years 5-7         7\n",
       "149                          Rock Band         4\n",
       "77                      Happy Feet Two         4\n",
       "217  WRC: FIA World Rally Championship         3\n",
       "186             Test Drive Unlimited 2         3\n",
       "..                                 ...       ...\n",
       "85                            Indy 500         1\n",
       "86                           Inversion         1\n",
       "87          James Cameron's Dark Angel         1\n",
       "88                         Jet Impulse         1\n",
       "231         wwe Smackdown vs. Raw 2006         1\n",
       "\n",
       "[232 rows x 2 columns]"
      ]
     },
     "execution_count": 11,
     "metadata": {},
     "output_type": "execute_result"
    }
   ],
   "source": [
    "cdf"
   ]
  },
  {
   "cell_type": "markdown",
   "metadata": {},
   "source": [
    "<div style=\"border-radius: 15px; border: 1px solid grey; padding: 15px;\">\n",
    "Но заполнить эти пропуски со 100%-ой уверенностью мы не можем, так как на разных платформах годы релиза могут отличаться. Не забываем все эти данные и так выборки из данных, так что мы обязаны будем использовать статистические методы анализа и теорию вероятности.\n",
    "</div>"
   ]
  },
  {
   "cell_type": "markdown",
   "metadata": {},
   "source": [
    "### Столбец 'genre'"
   ]
  },
  {
   "cell_type": "code",
   "execution_count": 12,
   "metadata": {},
   "outputs": [
    {
     "name": "stdout",
     "output_type": "stream",
     "text": [
      "Action          3369\n",
      "Sports          2348\n",
      "Misc            1750\n",
      "Role-Playing    1498\n",
      "Shooter         1323\n",
      "Adventure       1303\n",
      "Racing          1249\n",
      "Platform         888\n",
      "Simulation       873\n",
      "Fighting         849\n",
      "Strategy         683\n",
      "Puzzle           580\n",
      "NaN                2\n",
      "Name: genre, dtype: int64\n"
     ]
    }
   ],
   "source": [
    "print(df['genre'].value_counts(dropna=False).sort_values(ascending=False))"
   ]
  },
  {
   "cell_type": "markdown",
   "metadata": {},
   "source": [
    "<div style=\"border-radius: 15px; border: 1px solid grey; padding: 15px;\">\n",
    "Данные по жанрам выглядят нормально, пропуски в двух строках совпадают с пропусками в назвниях игр. Так же можно убедиться, что лидируют активные жангры.\n",
    "</div>"
   ]
  },
  {
   "cell_type": "markdown",
   "metadata": {},
   "source": [
    "### Столбец 'na_sales'"
   ]
  },
  {
   "cell_type": "code",
   "execution_count": 13,
   "metadata": {},
   "outputs": [
    {
     "name": "stdout",
     "output_type": "stream",
     "text": [
      "41.36       1\n",
      "29.08       1\n",
      "26.93       1\n",
      "23.20       1\n",
      "15.68       1\n",
      "         ... \n",
      "0.04      549\n",
      "0.03      561\n",
      "0.02      576\n",
      "0.01      545\n",
      "0.00     4508\n",
      "Name: na_sales, Length: 402, dtype: int64\n"
     ]
    }
   ],
   "source": [
    "print(df['na_sales'].value_counts(dropna=False).sort_index(ascending=False))"
   ]
  },
  {
   "cell_type": "markdown",
   "metadata": {},
   "source": [
    "<div style=\"border-radius: 15px; border: 1px solid grey; padding: 15px;\">\n",
    "Данные по продажам в миллионах проданных штук, 0 здесь вполне реалестичны, так как это говорит о том, что продано менее 5000 игр. А вот представление данных в миллионах штук мне не кажется удобным, да и хранить приходится в числах с плавающей запятой. Переведем данные в тысяци штук и в целочисленный формат:\n",
    "</div>"
   ]
  },
  {
   "cell_type": "code",
   "execution_count": 14,
   "metadata": {},
   "outputs": [],
   "source": [
    "df['na_sales'] = (df['na_sales'] * 1000).astype('int')"
   ]
  },
  {
   "cell_type": "code",
   "execution_count": 15,
   "metadata": {},
   "outputs": [
    {
     "name": "stdout",
     "output_type": "stream",
     "text": [
      "41360       1\n",
      "29080       1\n",
      "26930       1\n",
      "23200       1\n",
      "15680       1\n",
      "         ... \n",
      "40        549\n",
      "30        561\n",
      "20        576\n",
      "10        545\n",
      "0        4508\n",
      "Name: na_sales, Length: 402, dtype: int64\n"
     ]
    }
   ],
   "source": [
    "print(df['na_sales'].value_counts(dropna=False).sort_index(ascending=False))"
   ]
  },
  {
   "cell_type": "markdown",
   "metadata": {},
   "source": [
    "### Столбец 'eu_sales'"
   ]
  },
  {
   "cell_type": "code",
   "execution_count": 16,
   "metadata": {},
   "outputs": [
    {
     "name": "stdout",
     "output_type": "stream",
     "text": [
      "28.96       1\n",
      "12.76       1\n",
      "10.95       1\n",
      "10.93       1\n",
      "9.20        1\n",
      "         ... \n",
      "0.04      709\n",
      "0.03      926\n",
      "0.02     1308\n",
      "0.01     1494\n",
      "0.00     5870\n",
      "Name: eu_sales, Length: 307, dtype: int64\n"
     ]
    }
   ],
   "source": [
    "print(df['eu_sales'].value_counts(dropna=False).sort_index(ascending=False))"
   ]
  },
  {
   "cell_type": "markdown",
   "metadata": {},
   "source": [
    "<div style=\"border-radius: 15px; border: 1px solid grey; padding: 15px;\">\n",
    "Такая же ситуация как и в столбце с данными по NA региону, и набор действий будет аналогичным:\n",
    "</div>"
   ]
  },
  {
   "cell_type": "code",
   "execution_count": 17,
   "metadata": {},
   "outputs": [],
   "source": [
    "df['eu_sales'] = (df['eu_sales'] * 1000).astype('int')"
   ]
  },
  {
   "cell_type": "code",
   "execution_count": 18,
   "metadata": {},
   "outputs": [
    {
     "name": "stdout",
     "output_type": "stream",
     "text": [
      "28960       1\n",
      "12760       1\n",
      "10950       1\n",
      "10930       1\n",
      "9200        1\n",
      "         ... \n",
      "40        709\n",
      "30        926\n",
      "20       1308\n",
      "10       1494\n",
      "0        5870\n",
      "Name: eu_sales, Length: 307, dtype: int64\n"
     ]
    }
   ],
   "source": [
    "print(df['eu_sales'].value_counts(dropna=False).sort_index(ascending=False))"
   ]
  },
  {
   "cell_type": "markdown",
   "metadata": {},
   "source": [
    "### Столбец 'jp_sales'"
   ]
  },
  {
   "cell_type": "code",
   "execution_count": 19,
   "metadata": {},
   "outputs": [
    {
     "name": "stdout",
     "output_type": "stream",
     "text": [
      "10.22        1\n",
      "7.20         1\n",
      "6.81         1\n",
      "6.50         1\n",
      "6.04         1\n",
      "         ...  \n",
      "0.04       397\n",
      "0.03       546\n",
      "0.02       741\n",
      "0.01       706\n",
      "0.00     10514\n",
      "Name: jp_sales, Length: 244, dtype: int64\n"
     ]
    }
   ],
   "source": [
    "print(df['jp_sales'].value_counts(dropna=False).sort_index(ascending=False))"
   ]
  },
  {
   "cell_type": "markdown",
   "metadata": {},
   "source": [
    "<div style=\"border-radius: 15px; border: 1px solid grey; padding: 15px;\">\n",
    "Действуем по аналогии с двумя предыдущими регионами:\n",
    "</div>"
   ]
  },
  {
   "cell_type": "code",
   "execution_count": 20,
   "metadata": {},
   "outputs": [],
   "source": [
    "df['jp_sales'] = (df['jp_sales'] * 1000).astype('int')"
   ]
  },
  {
   "cell_type": "code",
   "execution_count": 21,
   "metadata": {},
   "outputs": [
    {
     "name": "stdout",
     "output_type": "stream",
     "text": [
      "10220        1\n",
      "7200         1\n",
      "6810         1\n",
      "6500         1\n",
      "6040         1\n",
      "         ...  \n",
      "40         397\n",
      "30         546\n",
      "20         741\n",
      "10         706\n",
      "0        10514\n",
      "Name: jp_sales, Length: 244, dtype: int64\n"
     ]
    }
   ],
   "source": [
    "print(df['jp_sales'].value_counts(dropna=False).sort_index(ascending=False))"
   ]
  },
  {
   "cell_type": "markdown",
   "metadata": {},
   "source": [
    "### Столбец 'other_sales'"
   ]
  },
  {
   "cell_type": "code",
   "execution_count": 22,
   "metadata": {},
   "outputs": [
    {
     "name": "stdout",
     "output_type": "stream",
     "text": [
      "10.57       1\n",
      "8.45        1\n",
      "7.53        1\n",
      "3.96        1\n",
      "3.29        1\n",
      "         ... \n",
      "0.04      654\n",
      "0.03      926\n",
      "0.02     1618\n",
      "0.01     3464\n",
      "0.00     6601\n",
      "Name: other_sales, Length: 155, dtype: int64\n"
     ]
    }
   ],
   "source": [
    "print(df['other_sales'].value_counts(dropna=False).sort_index(ascending=False))"
   ]
  },
  {
   "cell_type": "markdown",
   "metadata": {},
   "source": [
    "<div style=\"border-radius: 15px; border: 1px solid grey; padding: 15px;\">\n",
    "Действуем по аналогии с предыдущими регионами:\n",
    "</div>"
   ]
  },
  {
   "cell_type": "code",
   "execution_count": 23,
   "metadata": {},
   "outputs": [],
   "source": [
    "df['other_sales'] = (df['other_sales'] * 1000).astype('int')"
   ]
  },
  {
   "cell_type": "code",
   "execution_count": 24,
   "metadata": {},
   "outputs": [
    {
     "name": "stdout",
     "output_type": "stream",
     "text": [
      "10570       1\n",
      "8450        1\n",
      "7530        1\n",
      "3960        1\n",
      "3290        1\n",
      "         ... \n",
      "40        654\n",
      "30        926\n",
      "20       1618\n",
      "10       3464\n",
      "0        6601\n",
      "Name: other_sales, Length: 155, dtype: int64\n"
     ]
    }
   ],
   "source": [
    "print(df['other_sales'].value_counts(dropna=False).sort_index(ascending=False))"
   ]
  },
  {
   "cell_type": "markdown",
   "metadata": {},
   "source": [
    "### Столбец 'critic_score'"
   ]
  },
  {
   "cell_type": "code",
   "execution_count": 25,
   "metadata": {},
   "outputs": [
    {
     "name": "stdout",
     "output_type": "stream",
     "text": [
      "NaN     8578\n",
      "70.0     256\n",
      "71.0     254\n",
      "75.0     245\n",
      "78.0     240\n",
      "        ... \n",
      "20.0       3\n",
      "17.0       1\n",
      "22.0       1\n",
      "13.0       1\n",
      "21.0       1\n",
      "Name: critic_score, Length: 83, dtype: int64\n"
     ]
    }
   ],
   "source": [
    "print(df['critic_score'].value_counts(dropna=False).sort_values(ascending=False))"
   ]
  },
  {
   "cell_type": "markdown",
   "metadata": {},
   "source": [
    "<div style=\"border-radius: 15px; border: 1px solid grey; padding: 15px;\">\n",
    "Около половины игр не имеют оценки критиков, но и заполнить такие данные достоверно не представляется возможным, опять же если попробовать заполнить эти данные аналогичными данными с других платформ, то мы можем ошибиться, оценки одной и той же игры могут отличаться от платформы к платформе.  Не забываем все эти данные и так выборки из данных, так что мы обязаны будем использовать статистические методы анализа и теорию вероятности.\n",
    "</div>"
   ]
  },
  {
   "cell_type": "markdown",
   "metadata": {},
   "source": [
    "<div style=\"border-radius: 15px; border: 1px solid grey; padding: 15px;\">\n",
    "А вот тип данных мы заменим на целочисленный, оцентка находится в диапазоне от 0 до 100 и не может иметь дробных значений:\n",
    "</div>"
   ]
  },
  {
   "cell_type": "code",
   "execution_count": 26,
   "metadata": {},
   "outputs": [],
   "source": [
    "df['critic_score'] = df['critic_score'].astype('Int64')"
   ]
  },
  {
   "cell_type": "code",
   "execution_count": 27,
   "metadata": {},
   "outputs": [
    {
     "name": "stdout",
     "output_type": "stream",
     "text": [
      "NaN     8578\n",
      "70.0     256\n",
      "71.0     254\n",
      "75.0     245\n",
      "78.0     240\n",
      "        ... \n",
      "20.0       3\n",
      "22.0       1\n",
      "13.0       1\n",
      "17.0       1\n",
      "21.0       1\n",
      "Name: critic_score, Length: 83, dtype: int64\n"
     ]
    }
   ],
   "source": [
    "print(df['critic_score'].value_counts(dropna=False).sort_values(ascending=False))"
   ]
  },
  {
   "cell_type": "markdown",
   "metadata": {},
   "source": [
    "### Столбец 'user_score'"
   ]
  },
  {
   "cell_type": "code",
   "execution_count": 28,
   "metadata": {},
   "outputs": [
    {
     "name": "stdout",
     "output_type": "stream",
     "text": [
      "NaN    6701\n",
      "tbd    2424\n",
      "7.8     324\n",
      "8       290\n",
      "8.2     282\n",
      "       ... \n",
      "2.3       2\n",
      "0.7       2\n",
      "1         2\n",
      "9.7       1\n",
      "0         1\n",
      "Name: user_score, Length: 97, dtype: int64\n"
     ]
    }
   ],
   "source": [
    "print(df['user_score'].value_counts(dropna=False).sort_values(ascending=False))"
   ]
  },
  {
   "cell_type": "markdown",
   "metadata": {},
   "source": [
    "<div style=\"border-radius: 15px; border: 1px solid grey; padding: 15px;\">\n",
    "Большое количество игр не имеют оценки критиков, но как и ранее заполнить такие данные достоверно не представляется возможным, опять же если попробовать заполнить эти данные аналогичными данными с других платформ, то мы можем ошибиться, оценки одной и той же игры могут отличаться от платформы к платформе.  Повторяясь - все эти данные и так выборки из данных, так что мы обязаны будем использовать статистические методы анализа и теорию вероятности, искажать данные не верным заполнением не целесообразно, заполненных данных достаточно много.\n",
    "\n",
    "В данных присутствует значение TBD (to be defined), для нас отстуствие значения и декларация намерения заполненить значение равнозначны, произведем замену:\n",
    "</div>"
   ]
  },
  {
   "cell_type": "code",
   "execution_count": 29,
   "metadata": {},
   "outputs": [],
   "source": [
    "df.loc[df['user_score'] == 'tbd', 'user_score'] = np.nan\n",
    "df['user_score'] = df['user_score'].astype('float')"
   ]
  },
  {
   "cell_type": "code",
   "execution_count": 30,
   "metadata": {},
   "outputs": [
    {
     "name": "stdout",
     "output_type": "stream",
     "text": [
      "NaN    9125\n",
      "7.8     324\n",
      "8.0     290\n",
      "8.2     282\n",
      "8.3     254\n",
      "       ... \n",
      "1.3       2\n",
      "0.6       2\n",
      "2.3       2\n",
      "0.0       1\n",
      "9.7       1\n",
      "Name: user_score, Length: 96, dtype: int64\n"
     ]
    }
   ],
   "source": [
    "print(df['user_score'].value_counts(dropna=False).sort_values(ascending=False))"
   ]
  },
  {
   "cell_type": "markdown",
   "metadata": {},
   "source": [
    "### Столбец 'rating'"
   ]
  },
  {
   "cell_type": "code",
   "execution_count": 31,
   "metadata": {},
   "outputs": [
    {
     "name": "stdout",
     "output_type": "stream",
     "text": [
      "NaN     6766\n",
      "E       3990\n",
      "T       2961\n",
      "M       1563\n",
      "E10+    1420\n",
      "EC         8\n",
      "RP         3\n",
      "K-A        3\n",
      "AO         1\n",
      "Name: rating, dtype: int64\n"
     ]
    }
   ],
   "source": [
    "print(df['rating'].value_counts(dropna=False).sort_values(ascending=False))"
   ]
  },
  {
   "cell_type": "markdown",
   "metadata": {},
   "source": [
    "<div style=\"border-radius: 15px; border: 1px solid grey; padding: 15px;\">\n",
    "Рейтинги с большим количеством пропусков и устаревшими обозначениемя. Устаревшие обозначения поменяем на современные, а 3 игры без рейтинга изменим на NaN, так же не будем заполнять значения каким либо рейтингом по приведенным выше причинам, версии игр могут отличаться от платформы к платформе и, теоретически, могут иметь разный рейтинг. Но для дальнейшей работы с данными мы заполним пропуски занчением 'unrated', так игры без рейтинга будут присутствовать в анализе.\n",
    "</div>"
   ]
  },
  {
   "cell_type": "code",
   "execution_count": 32,
   "metadata": {},
   "outputs": [],
   "source": [
    "df.loc[df['rating'] == 'RP', 'rating'] = np.nan"
   ]
  },
  {
   "cell_type": "code",
   "execution_count": 33,
   "metadata": {},
   "outputs": [],
   "source": [
    "df.loc[df['rating'] == 'EC', 'rating'] = 'E'"
   ]
  },
  {
   "cell_type": "code",
   "execution_count": 34,
   "metadata": {},
   "outputs": [],
   "source": [
    "df.loc[df['rating'] == 'K-A', 'rating'] = 'E'"
   ]
  },
  {
   "cell_type": "code",
   "execution_count": 35,
   "metadata": {},
   "outputs": [],
   "source": [
    "df['rating'] = df['rating'].fillna('unrated')"
   ]
  },
  {
   "cell_type": "code",
   "execution_count": 36,
   "metadata": {},
   "outputs": [
    {
     "name": "stdout",
     "output_type": "stream",
     "text": [
      "unrated    6769\n",
      "E          4001\n",
      "T          2961\n",
      "M          1563\n",
      "E10+       1420\n",
      "AO            1\n",
      "Name: rating, dtype: int64\n"
     ]
    }
   ],
   "source": [
    "print(df['rating'].value_counts(dropna=False).sort_values(ascending=False))"
   ]
  },
  {
   "cell_type": "markdown",
   "metadata": {},
   "source": [
    "### Проверка наличия дубликатов"
   ]
  },
  {
   "cell_type": "code",
   "execution_count": 37,
   "metadata": {},
   "outputs": [
    {
     "data": {
      "text/plain": [
       "False    16715\n",
       "dtype: int64"
      ]
     },
     "execution_count": 37,
     "metadata": {},
     "output_type": "execute_result"
    }
   ],
   "source": [
    "df.duplicated().value_counts()"
   ]
  },
  {
   "cell_type": "markdown",
   "metadata": {},
   "source": [
    "<div style=\"border-radius: 15px; border: 1px solid grey; padding: 15px;\">\n",
    "Совпадения занчений в с толбцах это норма, так что проверили на полные будликаты строк и таковых не обнаружили, двигаемся дальше.\n",
    "</div>"
   ]
  },
  {
   "cell_type": "markdown",
   "metadata": {},
   "source": [
    "## Исследовательский анализ данных"
   ]
  },
  {
   "cell_type": "markdown",
   "metadata": {},
   "source": [
    "### Игр за год"
   ]
  },
  {
   "cell_type": "markdown",
   "metadata": {},
   "source": [
    "<div style=\"border-radius: 15px; border: 1px solid grey; padding: 15px;\">\n",
    "Представим данные в виде гистограммы и таблицы, после сделаем выводы:\n",
    "</div>"
   ]
  },
  {
   "cell_type": "code",
   "execution_count": 38,
   "metadata": {},
   "outputs": [
    {
     "data": {
      "text/plain": [
       "Text(0, 0.5, 'Количество проданых копий, тыс. шт.')"
      ]
     },
     "execution_count": 38,
     "metadata": {},
     "output_type": "execute_result"
    },
    {
     "data": {
      "image/png": "[encoded data removed]",
      "text/plain": [
       "<Figure size 1152x360 with 1 Axes>"
      ]
     },
     "metadata": {
      "needs_background": "light"
     },
     "output_type": "display_data"
    }
   ],
   "source": [
    "df['year_of_release'].plot(kind='hist', title='Игр в год', grid=True, bins=37, figsize=(16,5), fontsize=15)\n",
    "plt.xlabel('Год выпуска')\n",
    "plt.ylabel('Количество проданых копий, тыс. шт.')"
   ]
  },
  {
   "cell_type": "code",
   "execution_count": 39,
   "metadata": {},
   "outputs": [
    {
     "data": {
      "text/html": [
       "<div>\n",
       "<style scoped>\n",
       "    .dataframe tbody tr th:only-of-type {\n",
       "        vertical-align: middle;\n",
       "    }\n",
       "\n",
       "    .dataframe tbody tr th {\n",
       "        vertical-align: top;\n",
       "    }\n",
       "\n",
       "    .dataframe thead th {\n",
       "        text-align: right;\n",
       "    }\n",
       "</style>\n",
       "<table border=\"1\" class=\"dataframe\">\n",
       "  <thead>\n",
       "    <tr style=\"text-align: right;\">\n",
       "      <th></th>\n",
       "      <th>name</th>\n",
       "    </tr>\n",
       "    <tr>\n",
       "      <th>year_of_release</th>\n",
       "      <th></th>\n",
       "    </tr>\n",
       "  </thead>\n",
       "  <tbody>\n",
       "    <tr>\n",
       "      <td>1980</td>\n",
       "      <td>9</td>\n",
       "    </tr>\n",
       "    <tr>\n",
       "      <td>1981</td>\n",
       "      <td>46</td>\n",
       "    </tr>\n",
       "    <tr>\n",
       "      <td>1982</td>\n",
       "      <td>36</td>\n",
       "    </tr>\n",
       "    <tr>\n",
       "      <td>1983</td>\n",
       "      <td>17</td>\n",
       "    </tr>\n",
       "    <tr>\n",
       "      <td>1984</td>\n",
       "      <td>14</td>\n",
       "    </tr>\n",
       "    <tr>\n",
       "      <td>1985</td>\n",
       "      <td>14</td>\n",
       "    </tr>\n",
       "    <tr>\n",
       "      <td>1986</td>\n",
       "      <td>21</td>\n",
       "    </tr>\n",
       "    <tr>\n",
       "      <td>1987</td>\n",
       "      <td>16</td>\n",
       "    </tr>\n",
       "    <tr>\n",
       "      <td>1988</td>\n",
       "      <td>15</td>\n",
       "    </tr>\n",
       "    <tr>\n",
       "      <td>1989</td>\n",
       "      <td>17</td>\n",
       "    </tr>\n",
       "    <tr>\n",
       "      <td>1990</td>\n",
       "      <td>16</td>\n",
       "    </tr>\n",
       "    <tr>\n",
       "      <td>1991</td>\n",
       "      <td>41</td>\n",
       "    </tr>\n",
       "    <tr>\n",
       "      <td>1992</td>\n",
       "      <td>43</td>\n",
       "    </tr>\n",
       "    <tr>\n",
       "      <td>1993</td>\n",
       "      <td>60</td>\n",
       "    </tr>\n",
       "    <tr>\n",
       "      <td>1994</td>\n",
       "      <td>121</td>\n",
       "    </tr>\n",
       "    <tr>\n",
       "      <td>1995</td>\n",
       "      <td>219</td>\n",
       "    </tr>\n",
       "    <tr>\n",
       "      <td>1996</td>\n",
       "      <td>263</td>\n",
       "    </tr>\n",
       "    <tr>\n",
       "      <td>1997</td>\n",
       "      <td>289</td>\n",
       "    </tr>\n",
       "    <tr>\n",
       "      <td>1998</td>\n",
       "      <td>379</td>\n",
       "    </tr>\n",
       "    <tr>\n",
       "      <td>1999</td>\n",
       "      <td>338</td>\n",
       "    </tr>\n",
       "    <tr>\n",
       "      <td>2000</td>\n",
       "      <td>350</td>\n",
       "    </tr>\n",
       "    <tr>\n",
       "      <td>2001</td>\n",
       "      <td>482</td>\n",
       "    </tr>\n",
       "    <tr>\n",
       "      <td>2002</td>\n",
       "      <td>829</td>\n",
       "    </tr>\n",
       "    <tr>\n",
       "      <td>2003</td>\n",
       "      <td>775</td>\n",
       "    </tr>\n",
       "    <tr>\n",
       "      <td>2004</td>\n",
       "      <td>762</td>\n",
       "    </tr>\n",
       "    <tr>\n",
       "      <td>2005</td>\n",
       "      <td>939</td>\n",
       "    </tr>\n",
       "    <tr>\n",
       "      <td>2006</td>\n",
       "      <td>1006</td>\n",
       "    </tr>\n",
       "    <tr>\n",
       "      <td>2007</td>\n",
       "      <td>1197</td>\n",
       "    </tr>\n",
       "    <tr>\n",
       "      <td>2008</td>\n",
       "      <td>1427</td>\n",
       "    </tr>\n",
       "    <tr>\n",
       "      <td>2009</td>\n",
       "      <td>1426</td>\n",
       "    </tr>\n",
       "    <tr>\n",
       "      <td>2010</td>\n",
       "      <td>1255</td>\n",
       "    </tr>\n",
       "    <tr>\n",
       "      <td>2011</td>\n",
       "      <td>1136</td>\n",
       "    </tr>\n",
       "    <tr>\n",
       "      <td>2012</td>\n",
       "      <td>653</td>\n",
       "    </tr>\n",
       "    <tr>\n",
       "      <td>2013</td>\n",
       "      <td>544</td>\n",
       "    </tr>\n",
       "    <tr>\n",
       "      <td>2014</td>\n",
       "      <td>581</td>\n",
       "    </tr>\n",
       "    <tr>\n",
       "      <td>2015</td>\n",
       "      <td>606</td>\n",
       "    </tr>\n",
       "    <tr>\n",
       "      <td>2016</td>\n",
       "      <td>502</td>\n",
       "    </tr>\n",
       "  </tbody>\n",
       "</table>\n",
       "</div>"
      ],
      "text/plain": [
       "                 name\n",
       "year_of_release      \n",
       "1980                9\n",
       "1981               46\n",
       "1982               36\n",
       "1983               17\n",
       "1984               14\n",
       "1985               14\n",
       "1986               21\n",
       "1987               16\n",
       "1988               15\n",
       "1989               17\n",
       "1990               16\n",
       "1991               41\n",
       "1992               43\n",
       "1993               60\n",
       "1994              121\n",
       "1995              219\n",
       "1996              263\n",
       "1997              289\n",
       "1998              379\n",
       "1999              338\n",
       "2000              350\n",
       "2001              482\n",
       "2002              829\n",
       "2003              775\n",
       "2004              762\n",
       "2005              939\n",
       "2006             1006\n",
       "2007             1197\n",
       "2008             1427\n",
       "2009             1426\n",
       "2010             1255\n",
       "2011             1136\n",
       "2012              653\n",
       "2013              544\n",
       "2014              581\n",
       "2015              606\n",
       "2016              502"
      ]
     },
     "execution_count": 39,
     "metadata": {},
     "output_type": "execute_result"
    }
   ],
   "source": [
    "df.pivot_table(\n",
    "    index='year_of_release', values='name', aggfunc='count'\n",
    ")"
   ]
  },
  {
   "cell_type": "markdown",
   "metadata": {},
   "source": [
    "<div style=\"border-radius: 15px; border: 1px solid grey; padding: 15px;\">\n",
    "На заре игростроя количество игр выпускаемых в год неуклонно росло. А далее виден переломный момент, в 2008 году случился глобальный экономический кризись, который очень серьезно сказался на экспоненциально растущем рынке игр. В то время игры выпускало большое число различных студий очень разных размеров, именно тогда выходили массово игры категории Б, это средне бюджетные игры с небольшими командами разработки. После кризиса выжили крупные игроки с большими бюджетами и делающие ставки на блокбастеры, а их делать дольше, вот так и понизилось количество выпускаемых игр.\n",
    "    PS в наших текущих реалиях картина меняется снова ;)\n",
    "</div>"
   ]
  },
  {
   "cell_type": "markdown",
   "metadata": {},
   "source": [
    "### Платформы"
   ]
  },
  {
   "cell_type": "markdown",
   "metadata": {},
   "source": [
    "<div style=\"border-radius: 15px; border: 1px solid grey; padding: 15px;\">\n",
    "Посмотрим, как менялись продажи по платформам, для начала сумируем продажи по регионам:\n",
    "</div>"
   ]
  },
  {
   "cell_type": "code",
   "execution_count": 40,
   "metadata": {},
   "outputs": [],
   "source": [
    "df['total_sales'] = df['na_sales'] + df['eu_sales'] + df['jp_sales'] + df['other_sales']"
   ]
  },
  {
   "cell_type": "markdown",
   "metadata": {},
   "source": [
    "<div style=\"border-radius: 15px; border: 1px solid grey; padding: 15px;\">\n",
    "Далее отберем в отдельный фрейм данные по лучшим платформам в части продаж. Отбросим относительно маленькие по продажам платформы и порог выберем так, что бы не отбросить платформы имеющие значимые продажи в последний год.\n",
    "</div>"
   ]
  },
  {
   "cell_type": "code",
   "execution_count": 41,
   "metadata": {},
   "outputs": [],
   "source": [
    "top = df.groupby(['platform'], as_index=False)['total_sales'].sum()\\\n",
    "\n",
    "top = top[top['total_sales'] > 150000]\n",
    "\n",
    "top_platforms = top['platform'].reset_index().drop(['index'], axis=1)\n",
    "\n",
    "top_platforms = top_platforms['platform'].tolist()"
   ]
  },
  {
   "cell_type": "markdown",
   "metadata": {},
   "source": [
    "<div style=\"border-radius: 15px; border: 1px solid grey; padding: 15px;\">\n",
    "Берем топовые платформы и пересобираем фрейм подходящий для визуализации.\n",
    "</div>"
   ]
  },
  {
   "cell_type": "code",
   "execution_count": 42,
   "metadata": {},
   "outputs": [],
   "source": [
    "pltop = df.query('platform in @top_platforms').pivot_table(index='year_of_release', columns='platform', values='total_sales',\n",
    "              aggfunc='sum', fill_value=0)"
   ]
  },
  {
   "cell_type": "code",
   "execution_count": 43,
   "metadata": {},
   "outputs": [
    {
     "data": {
      "text/plain": [
       "Text(0, 0.5, 'Количество проданых копий, тыс. шт.')"
      ]
     },
     "execution_count": 43,
     "metadata": {},
     "output_type": "execute_result"
    },
    {
     "data": {
      "image/png": "[encoded data removed]",
      "text/plain": [
       "<Figure size 1152x720 with 1 Axes>"
      ]
     },
     "metadata": {
      "needs_background": "light"
     },
     "output_type": "display_data"
    }
   ],
   "source": [
    "pltop.plot.area(figsize=(16,10), title='Топовые платформы', grid=True, stacked=False)\n",
    "plt.xlabel('Год выпуска игр')\n",
    "plt.ylabel('Количество проданых копий, тыс. шт.')"
   ]
  },
  {
   "cell_type": "markdown",
   "metadata": {},
   "source": [
    "<div style=\"border-radius: 15px; border: 1px solid grey; padding: 15px;\">\n",
    "Даже отбросив отностиельно не успешные платформы, мы получаем не самый наглядный график, но смело можно судить о тенденциях. На примере самых популярных платформ (PS, PS2, PS3, Wii)видно, что присутствует такое понятие как поколения платформ, которые длятся 7-9 лет. А вот самая популярная консоль последних поколений PS2 пробыла актуальной все 10 лет.\n",
    "    \n",
    "На момент захваченный в нашем фрейме видно, что текущее поколений это PS4, XOne. Но на начало этого покаления показывали больщие продажи другие платформы, не актуальные на 2016 год, поэтому преиод нужно выбрать максимально узкий.\n",
    "</div>"
   ]
  },
  {
   "cell_type": "markdown",
   "metadata": {},
   "source": [
    "### Актуальный период"
   ]
  },
  {
   "cell_type": "markdown",
   "metadata": {},
   "source": [
    "<div style=\"border-radius: 15px; border: 1px solid grey; padding: 15px;\">\n",
    "Астрологи объявили годом начала актуального периода 2014 год, как начало последнего поколения.\n",
    "</div>"
   ]
  },
  {
   "cell_type": "code",
   "execution_count": 44,
   "metadata": {},
   "outputs": [],
   "source": [
    "pltop_actual = pltop.query('year_of_release >= 2014')"
   ]
  },
  {
   "cell_type": "code",
   "execution_count": 45,
   "metadata": {},
   "outputs": [],
   "source": [
    "df_2014 = df.query('year_of_release >= 2014')"
   ]
  },
  {
   "cell_type": "code",
   "execution_count": 46,
   "metadata": {},
   "outputs": [
    {
     "data": {
      "text/html": [
       "<div>\n",
       "<style scoped>\n",
       "    .dataframe tbody tr th:only-of-type {\n",
       "        vertical-align: middle;\n",
       "    }\n",
       "\n",
       "    .dataframe tbody tr th {\n",
       "        vertical-align: top;\n",
       "    }\n",
       "\n",
       "    .dataframe thead th {\n",
       "        text-align: right;\n",
       "    }\n",
       "</style>\n",
       "<table border=\"1\" class=\"dataframe\">\n",
       "  <thead>\n",
       "    <tr style=\"text-align: right;\">\n",
       "      <th>platform</th>\n",
       "      <th>3DS</th>\n",
       "      <th>DS</th>\n",
       "      <th>GB</th>\n",
       "      <th>GBA</th>\n",
       "      <th>GC</th>\n",
       "      <th>N64</th>\n",
       "      <th>NES</th>\n",
       "      <th>PC</th>\n",
       "      <th>PS</th>\n",
       "      <th>PS2</th>\n",
       "      <th>PS3</th>\n",
       "      <th>PS4</th>\n",
       "      <th>PSP</th>\n",
       "      <th>SNES</th>\n",
       "      <th>Wii</th>\n",
       "      <th>X360</th>\n",
       "      <th>XB</th>\n",
       "      <th>XOne</th>\n",
       "    </tr>\n",
       "    <tr>\n",
       "      <th>year_of_release</th>\n",
       "      <th></th>\n",
       "      <th></th>\n",
       "      <th></th>\n",
       "      <th></th>\n",
       "      <th></th>\n",
       "      <th></th>\n",
       "      <th></th>\n",
       "      <th></th>\n",
       "      <th></th>\n",
       "      <th></th>\n",
       "      <th></th>\n",
       "      <th></th>\n",
       "      <th></th>\n",
       "      <th></th>\n",
       "      <th></th>\n",
       "      <th></th>\n",
       "      <th></th>\n",
       "      <th></th>\n",
       "    </tr>\n",
       "  </thead>\n",
       "  <tbody>\n",
       "    <tr>\n",
       "      <td>2014</td>\n",
       "      <td>43760</td>\n",
       "      <td>0</td>\n",
       "      <td>0</td>\n",
       "      <td>0</td>\n",
       "      <td>0</td>\n",
       "      <td>0</td>\n",
       "      <td>0</td>\n",
       "      <td>13280</td>\n",
       "      <td>0</td>\n",
       "      <td>0</td>\n",
       "      <td>47759</td>\n",
       "      <td>100000</td>\n",
       "      <td>240</td>\n",
       "      <td>0</td>\n",
       "      <td>3750</td>\n",
       "      <td>34740</td>\n",
       "      <td>0</td>\n",
       "      <td>54070</td>\n",
       "    </tr>\n",
       "    <tr>\n",
       "      <td>2015</td>\n",
       "      <td>27780</td>\n",
       "      <td>0</td>\n",
       "      <td>0</td>\n",
       "      <td>0</td>\n",
       "      <td>0</td>\n",
       "      <td>0</td>\n",
       "      <td>0</td>\n",
       "      <td>8520</td>\n",
       "      <td>0</td>\n",
       "      <td>0</td>\n",
       "      <td>16820</td>\n",
       "      <td>118900</td>\n",
       "      <td>120</td>\n",
       "      <td>0</td>\n",
       "      <td>1140</td>\n",
       "      <td>11960</td>\n",
       "      <td>0</td>\n",
       "      <td>60140</td>\n",
       "    </tr>\n",
       "    <tr>\n",
       "      <td>2016</td>\n",
       "      <td>15140</td>\n",
       "      <td>0</td>\n",
       "      <td>0</td>\n",
       "      <td>0</td>\n",
       "      <td>0</td>\n",
       "      <td>0</td>\n",
       "      <td>0</td>\n",
       "      <td>5250</td>\n",
       "      <td>0</td>\n",
       "      <td>0</td>\n",
       "      <td>3600</td>\n",
       "      <td>69250</td>\n",
       "      <td>0</td>\n",
       "      <td>0</td>\n",
       "      <td>180</td>\n",
       "      <td>1520</td>\n",
       "      <td>0</td>\n",
       "      <td>26150</td>\n",
       "    </tr>\n",
       "  </tbody>\n",
       "</table>\n",
       "</div>"
      ],
      "text/plain": [
       "platform           3DS  DS  GB  GBA  GC  N64  NES     PC  PS  PS2    PS3  \\\n",
       "year_of_release                                                            \n",
       "2014             43760   0   0    0   0    0    0  13280   0    0  47759   \n",
       "2015             27780   0   0    0   0    0    0   8520   0    0  16820   \n",
       "2016             15140   0   0    0   0    0    0   5250   0    0   3600   \n",
       "\n",
       "platform            PS4  PSP  SNES   Wii   X360  XB   XOne  \n",
       "year_of_release                                             \n",
       "2014             100000  240     0  3750  34740   0  54070  \n",
       "2015             118900  120     0  1140  11960   0  60140  \n",
       "2016              69250    0     0   180   1520   0  26150  "
      ]
     },
     "execution_count": 46,
     "metadata": {},
     "output_type": "execute_result"
    }
   ],
   "source": [
    "pltop_actual"
   ]
  },
  {
   "cell_type": "markdown",
   "metadata": {},
   "source": [
    "<div style=\"border-radius: 15px; border: 1px solid grey; padding: 15px;\">\n",
    "Далее постараемся ответить на вопрос поставленный в задании: Какие платформы лидируют по продажам, растут или падают? Выберите несколько потенциально прибыльных платформ.\n",
    "\n",
    "</div>"
   ]
  },
  {
   "cell_type": "code",
   "execution_count": 47,
   "metadata": {},
   "outputs": [],
   "source": [
    "pltop_actual.columns=['3DS', 'DS', 'GB', 'GBA', 'GC', 'N64', 'NES', 'PC', 'PS', 'PS2', 'PS3','PS4','PSP', 'SNES', 'Wii', 'X360', 'XB', 'XOne']"
   ]
  },
  {
   "cell_type": "code",
   "execution_count": 48,
   "metadata": {},
   "outputs": [
    {
     "data": {
      "text/html": [
       "<div>\n",
       "<style scoped>\n",
       "    .dataframe tbody tr th:only-of-type {\n",
       "        vertical-align: middle;\n",
       "    }\n",
       "\n",
       "    .dataframe tbody tr th {\n",
       "        vertical-align: top;\n",
       "    }\n",
       "\n",
       "    .dataframe thead th {\n",
       "        text-align: right;\n",
       "    }\n",
       "</style>\n",
       "<table border=\"1\" class=\"dataframe\">\n",
       "  <thead>\n",
       "    <tr style=\"text-align: right;\">\n",
       "      <th></th>\n",
       "      <th>3DS</th>\n",
       "      <th>DS</th>\n",
       "      <th>GB</th>\n",
       "      <th>GBA</th>\n",
       "      <th>GC</th>\n",
       "      <th>N64</th>\n",
       "      <th>NES</th>\n",
       "      <th>PC</th>\n",
       "      <th>PS</th>\n",
       "      <th>PS2</th>\n",
       "      <th>PS3</th>\n",
       "      <th>PS4</th>\n",
       "      <th>PSP</th>\n",
       "      <th>SNES</th>\n",
       "      <th>Wii</th>\n",
       "      <th>X360</th>\n",
       "      <th>XB</th>\n",
       "      <th>XOne</th>\n",
       "    </tr>\n",
       "    <tr>\n",
       "      <th>year_of_release</th>\n",
       "      <th></th>\n",
       "      <th></th>\n",
       "      <th></th>\n",
       "      <th></th>\n",
       "      <th></th>\n",
       "      <th></th>\n",
       "      <th></th>\n",
       "      <th></th>\n",
       "      <th></th>\n",
       "      <th></th>\n",
       "      <th></th>\n",
       "      <th></th>\n",
       "      <th></th>\n",
       "      <th></th>\n",
       "      <th></th>\n",
       "      <th></th>\n",
       "      <th></th>\n",
       "      <th></th>\n",
       "    </tr>\n",
       "  </thead>\n",
       "  <tbody>\n",
       "    <tr>\n",
       "      <td>2014</td>\n",
       "      <td>43760</td>\n",
       "      <td>0</td>\n",
       "      <td>0</td>\n",
       "      <td>0</td>\n",
       "      <td>0</td>\n",
       "      <td>0</td>\n",
       "      <td>0</td>\n",
       "      <td>13280</td>\n",
       "      <td>0</td>\n",
       "      <td>0</td>\n",
       "      <td>47759</td>\n",
       "      <td>100000</td>\n",
       "      <td>240</td>\n",
       "      <td>0</td>\n",
       "      <td>3750</td>\n",
       "      <td>34740</td>\n",
       "      <td>0</td>\n",
       "      <td>54070</td>\n",
       "    </tr>\n",
       "    <tr>\n",
       "      <td>2015</td>\n",
       "      <td>27780</td>\n",
       "      <td>0</td>\n",
       "      <td>0</td>\n",
       "      <td>0</td>\n",
       "      <td>0</td>\n",
       "      <td>0</td>\n",
       "      <td>0</td>\n",
       "      <td>8520</td>\n",
       "      <td>0</td>\n",
       "      <td>0</td>\n",
       "      <td>16820</td>\n",
       "      <td>118900</td>\n",
       "      <td>120</td>\n",
       "      <td>0</td>\n",
       "      <td>1140</td>\n",
       "      <td>11960</td>\n",
       "      <td>0</td>\n",
       "      <td>60140</td>\n",
       "    </tr>\n",
       "    <tr>\n",
       "      <td>2016</td>\n",
       "      <td>15140</td>\n",
       "      <td>0</td>\n",
       "      <td>0</td>\n",
       "      <td>0</td>\n",
       "      <td>0</td>\n",
       "      <td>0</td>\n",
       "      <td>0</td>\n",
       "      <td>5250</td>\n",
       "      <td>0</td>\n",
       "      <td>0</td>\n",
       "      <td>3600</td>\n",
       "      <td>69250</td>\n",
       "      <td>0</td>\n",
       "      <td>0</td>\n",
       "      <td>180</td>\n",
       "      <td>1520</td>\n",
       "      <td>0</td>\n",
       "      <td>26150</td>\n",
       "    </tr>\n",
       "  </tbody>\n",
       "</table>\n",
       "</div>"
      ],
      "text/plain": [
       "                   3DS  DS  GB  GBA  GC  N64  NES     PC  PS  PS2    PS3  \\\n",
       "year_of_release                                                            \n",
       "2014             43760   0   0    0   0    0    0  13280   0    0  47759   \n",
       "2015             27780   0   0    0   0    0    0   8520   0    0  16820   \n",
       "2016             15140   0   0    0   0    0    0   5250   0    0   3600   \n",
       "\n",
       "                    PS4  PSP  SNES   Wii   X360  XB   XOne  \n",
       "year_of_release                                             \n",
       "2014             100000  240     0  3750  34740   0  54070  \n",
       "2015             118900  120     0  1140  11960   0  60140  \n",
       "2016              69250    0     0   180   1520   0  26150  "
      ]
     },
     "execution_count": 48,
     "metadata": {},
     "output_type": "execute_result"
    }
   ],
   "source": [
    "pltop_actual"
   ]
  },
  {
   "cell_type": "markdown",
   "metadata": {},
   "source": [
    "<div style=\"border-radius: 15px; border: 1px solid grey; padding: 15px;\">\n",
    "Много лишних платформ, которых нет в периоде, уберем:\n",
    "</div>"
   ]
  },
  {
   "cell_type": "code",
   "execution_count": 49,
   "metadata": {},
   "outputs": [
    {
     "data": {
      "text/html": [
       "<div>\n",
       "<style scoped>\n",
       "    .dataframe tbody tr th:only-of-type {\n",
       "        vertical-align: middle;\n",
       "    }\n",
       "\n",
       "    .dataframe tbody tr th {\n",
       "        vertical-align: top;\n",
       "    }\n",
       "\n",
       "    .dataframe thead th {\n",
       "        text-align: right;\n",
       "    }\n",
       "</style>\n",
       "<table border=\"1\" class=\"dataframe\">\n",
       "  <thead>\n",
       "    <tr style=\"text-align: right;\">\n",
       "      <th></th>\n",
       "      <th>3DS</th>\n",
       "      <th>PC</th>\n",
       "      <th>PS3</th>\n",
       "      <th>PS4</th>\n",
       "      <th>Wii</th>\n",
       "      <th>X360</th>\n",
       "      <th>XOne</th>\n",
       "    </tr>\n",
       "    <tr>\n",
       "      <th>year_of_release</th>\n",
       "      <th></th>\n",
       "      <th></th>\n",
       "      <th></th>\n",
       "      <th></th>\n",
       "      <th></th>\n",
       "      <th></th>\n",
       "      <th></th>\n",
       "    </tr>\n",
       "  </thead>\n",
       "  <tbody>\n",
       "    <tr>\n",
       "      <td>2014</td>\n",
       "      <td>43760</td>\n",
       "      <td>13280</td>\n",
       "      <td>47759</td>\n",
       "      <td>100000</td>\n",
       "      <td>3750</td>\n",
       "      <td>34740</td>\n",
       "      <td>54070</td>\n",
       "    </tr>\n",
       "    <tr>\n",
       "      <td>2015</td>\n",
       "      <td>27780</td>\n",
       "      <td>8520</td>\n",
       "      <td>16820</td>\n",
       "      <td>118900</td>\n",
       "      <td>1140</td>\n",
       "      <td>11960</td>\n",
       "      <td>60140</td>\n",
       "    </tr>\n",
       "    <tr>\n",
       "      <td>2016</td>\n",
       "      <td>15140</td>\n",
       "      <td>5250</td>\n",
       "      <td>3600</td>\n",
       "      <td>69250</td>\n",
       "      <td>180</td>\n",
       "      <td>1520</td>\n",
       "      <td>26150</td>\n",
       "    </tr>\n",
       "  </tbody>\n",
       "</table>\n",
       "</div>"
      ],
      "text/plain": [
       "                   3DS     PC    PS3     PS4   Wii   X360   XOne\n",
       "year_of_release                                                 \n",
       "2014             43760  13280  47759  100000  3750  34740  54070\n",
       "2015             27780   8520  16820  118900  1140  11960  60140\n",
       "2016             15140   5250   3600   69250   180   1520  26150"
      ]
     },
     "execution_count": 49,
     "metadata": {},
     "output_type": "execute_result"
    }
   ],
   "source": [
    "pltop_actual =  pltop_actual[['3DS', 'PC', 'PS3','PS4', 'Wii', 'X360', 'XOne']]\n",
    "pltop_actual"
   ]
  },
  {
   "cell_type": "code",
   "execution_count": 50,
   "metadata": {},
   "outputs": [
    {
     "data": {
      "text/plain": [
       "Text(0, 0.5, 'Количество проданых копий, тыс. шт.')"
      ]
     },
     "execution_count": 50,
     "metadata": {},
     "output_type": "execute_result"
    },
    {
     "data": {
      "image/png": "[encoded data removed]",
      "text/plain": [
       "<Figure size 1152x576 with 1 Axes>"
      ]
     },
     "metadata": {
      "needs_background": "light"
     },
     "output_type": "display_data"
    }
   ],
   "source": [
    "pltop_actual.plot.area(figsize=(16,8), title='Игр в год', grid=True, stacked=False)\n",
    "plt.xlabel('Год выпуска')\n",
    "plt.ylabel('Количество проданых копий, тыс. шт.')"
   ]
  },
  {
   "cell_type": "markdown",
   "metadata": {},
   "source": [
    "<div style=\"border-radius: 15px; border: 1px solid grey; padding: 15px;\">\n",
    "На графике выше уже нагляднее предсталяется картина предваряющая прогнозируемый год. PS3, X360, Wii, 3DS находятся на закате покаления и делать на них ставку было бы не верно. Ставку будем делать на PS4, XOne и PC, последняя стабильно присутствует на рынке и окончательного заката у неё не случится, хотя приоритет все же на первых двух платформах. PS4 и XOne находятся на середине цикла, пусть продажи не росли в 2016, но конкурентов у них в 2017 не предвидится, останавливаемся на них.\n",
    "</div>"
   ]
  },
  {
   "cell_type": "markdown",
   "metadata": {},
   "source": [
    "### Анализ по графикам «ящик с усами»"
   ]
  },
  {
   "cell_type": "markdown",
   "metadata": {},
   "source": [
    "<div style=\"border-radius: 15px; border: 1px solid grey; padding: 15px;\">\n",
    "График \"ящик с усами\" может характеризовать жизнинный цикл платформы в наблюдаемый период, построим эти графики для топовых платформ:\n",
    "</div>"
   ]
  },
  {
   "cell_type": "markdown",
   "metadata": {},
   "source": [
    "#### 3DS"
   ]
  },
  {
   "cell_type": "code",
   "execution_count": 52,
   "metadata": {},
   "outputs": [
    {
     "data": {
      "text/plain": [
       "Text(0, 0.5, 'Количество проданых копий, тыс. шт.')"
      ]
     },
     "execution_count": 52,
     "metadata": {},
     "output_type": "execute_result"
    },
    {
     "data": {
      "image/png": "[encoded data removed]",
      "text/plain": [
       "<Figure size 216x432 with 1 Axes>"
      ]
     },
     "metadata": {
      "needs_background": "light"
     },
     "output_type": "display_data"
    }
   ],
   "source": [
    "pltop_actual.boxplot(column='3DS', grid=True, figsize=(3, 6))\n",
    "plt.ylabel('Количество проданых копий, тыс. шт.')"
   ]
  },
  {
   "cell_type": "markdown",
   "metadata": {},
   "source": [
    "<div style=\"border-radius: 15px; border: 1px solid grey; padding: 15px;\">\n",
    "Длинный ящик типичных значений, близость верхнего уса и высоко расположенная отметка среднего значения, говорит о стабильности показателей продаж платформы в наблюдаемый период. 3DS стабильно хорошо показывала себя в последние годы. \n",
    "</div>"
   ]
  },
  {
   "cell_type": "markdown",
   "metadata": {},
   "source": [
    "#### PC"
   ]
  },
  {
   "cell_type": "code",
   "execution_count": 53,
   "metadata": {},
   "outputs": [
    {
     "data": {
      "text/plain": [
       "Text(0, 0.5, 'Количество проданых копий, тыс. шт.')"
      ]
     },
     "execution_count": 53,
     "metadata": {},
     "output_type": "execute_result"
    },
    {
     "data": {
      "image/png": "[encoded data removed]",
      "text/plain": [
       "<Figure size 216x432 with 1 Axes>"
      ]
     },
     "metadata": {
      "needs_background": "light"
     },
     "output_type": "display_data"
    }
   ],
   "source": [
    "pltop_actual.boxplot(column='PC', grid=True, figsize=(3, 6))\n",
    "plt.ylabel('Количество проданых копий, тыс. шт.')"
   ]
  },
  {
   "cell_type": "markdown",
   "metadata": {},
   "source": [
    "<div style=\"border-radius: 15px; border: 1px solid grey; padding: 15px;\">\n",
    "Не высокие цифры продаж, а так же короткий ящик типичных значений, не типичные значения за верхним усом и при этом высоко расположенная отметка среднего значения, говорит о серьезной не стабильности показателей продаж платформы в наблюдаемый период. PC хоть и вечен, но не стабилен.\n",
    "    \n",
    "PS я склонен преположить, что во фрейме нет информации из Steam...\n",
    "</div>"
   ]
  },
  {
   "cell_type": "markdown",
   "metadata": {},
   "source": [
    "#### PS3"
   ]
  },
  {
   "cell_type": "code",
   "execution_count": 54,
   "metadata": {},
   "outputs": [
    {
     "data": {
      "text/plain": [
       "Text(0, 0.5, 'Количество проданых копий, тыс. шт.')"
      ]
     },
     "execution_count": 54,
     "metadata": {},
     "output_type": "execute_result"
    },
    {
     "data": {
      "image/png": "[encoded data removed]",
      "text/plain": [
       "<Figure size 216x432 with 1 Axes>"
      ]
     },
     "metadata": {
      "needs_background": "light"
     },
     "output_type": "display_data"
    }
   ],
   "source": [
    "pltop_actual.boxplot(column='PS3', grid=True, figsize=(3, 6))\n",
    "plt.ylabel('Количество проданых копий, тыс. шт.')"
   ]
  },
  {
   "cell_type": "markdown",
   "metadata": {},
   "source": [
    "<div style=\"border-radius: 15px; border: 1px solid grey; padding: 15px;\">\n",
    "Длинный ящик типичных значений, крайняя близость верхнего уса и не высоко расположенная отметка среднего значения, говорит о высокой стабильности показателей продаж платформы в наблюдаемый период, но присутствуют низкие показатели в значимом количесве. PS3 стабильно хорошо показывала себя в последние годы, но показывает стабильно низки резкльтаты в последние годы.\n",
    "</div>"
   ]
  },
  {
   "cell_type": "markdown",
   "metadata": {},
   "source": [
    "#### PS4"
   ]
  },
  {
   "cell_type": "code",
   "execution_count": 55,
   "metadata": {},
   "outputs": [
    {
     "data": {
      "text/plain": [
       "Text(0, 0.5, 'Количество проданых копий, тыс. шт.')"
      ]
     },
     "execution_count": 55,
     "metadata": {},
     "output_type": "execute_result"
    },
    {
     "data": {
      "image/png": "[encoded data removed]",
      "text/plain": [
       "<Figure size 216x432 with 1 Axes>"
      ]
     },
     "metadata": {
      "needs_background": "light"
     },
     "output_type": "display_data"
    }
   ],
   "source": [
    "pltop_actual.boxplot(column='PS4', grid=True, figsize=(3, 6))\n",
    "plt.ylabel('Количество проданых копий, тыс. шт.')"
   ]
  },
  {
   "cell_type": "markdown",
   "metadata": {},
   "source": [
    "<div style=\"border-radius: 15px; border: 1px solid grey; padding: 15px;\">\n",
    "Длинный ящик типичных значений, крайняя близость верхнего уса и достаточно высоко расположенная отметка среднего значения, говорит о высокой стабильности показателей продаж платформы в наблюдаемый период, и тут как раз нет низких показателей в конце. PS4 стабильно хорошо показывала себя в последние годы, похоже самое сбалансированное распределение из приведенных в этом разделе.\n",
    "</div>"
   ]
  },
  {
   "cell_type": "markdown",
   "metadata": {},
   "source": [
    "#### Wii"
   ]
  },
  {
   "cell_type": "code",
   "execution_count": 56,
   "metadata": {},
   "outputs": [
    {
     "data": {
      "text/plain": [
       "Text(0, 0.5, 'Количество проданых копий, тыс. шт.')"
      ]
     },
     "execution_count": 56,
     "metadata": {},
     "output_type": "execute_result"
    },
    {
     "data": {
      "image/png": "[encoded data removed]",
      "text/plain": [
       "<Figure size 216x432 with 1 Axes>"
      ]
     },
     "metadata": {
      "needs_background": "light"
     },
     "output_type": "display_data"
    }
   ],
   "source": [
    "pltop_actual.boxplot(column='Wii', grid=True, figsize=(3, 6))\n",
    "plt.ylabel('Количество проданых копий, тыс. шт.')"
   ]
  },
  {
   "cell_type": "markdown",
   "metadata": {},
   "source": [
    "<div style=\"border-radius: 15px; border: 1px solid grey; padding: 15px;\">\n",
    "Тут типичная картина угасания поколения, выброс вверх, короткий ящик и низкое среднее, в любом случае типично для Wii, которое очень хорошо выстрелило в какойто момент, а потом довольно сильно просело, но долго затухало.\n",
    "</div>"
   ]
  },
  {
   "cell_type": "markdown",
   "metadata": {},
   "source": [
    "#### X360"
   ]
  },
  {
   "cell_type": "code",
   "execution_count": 57,
   "metadata": {},
   "outputs": [
    {
     "data": {
      "text/plain": [
       "Text(0, 0.5, 'Количество проданых копий, тыс. шт.')"
      ]
     },
     "execution_count": 57,
     "metadata": {},
     "output_type": "execute_result"
    },
    {
     "data": {
      "image/png": "[encoded data removed]",
      "text/plain": [
       "<Figure size 216x432 with 1 Axes>"
      ]
     },
     "metadata": {
      "needs_background": "light"
     },
     "output_type": "display_data"
    }
   ],
   "source": [
    "pltop_actual.boxplot(column='X360', grid=True, figsize=(3, 6))\n",
    "plt.ylabel('Количество проданых копий, тыс. шт.')"
   ]
  },
  {
   "cell_type": "markdown",
   "metadata": {},
   "source": [
    "<div style=\"border-radius: 15px; border: 1px solid grey; padding: 15px;\">\n",
    "Прямой конкурент PS3 показывает и схожий график, только абсолютные цифры меньше. Хороший показатель стабильности X360 и низкие показатели последних лет подвинули отметку среднего ниже.\n",
    "</div>"
   ]
  },
  {
   "cell_type": "markdown",
   "metadata": {},
   "source": [
    "#### XOne"
   ]
  },
  {
   "cell_type": "code",
   "execution_count": 58,
   "metadata": {},
   "outputs": [
    {
     "data": {
      "text/plain": [
       "Text(0, 0.5, 'Количество проданых копий, тыс. шт.')"
      ]
     },
     "execution_count": 58,
     "metadata": {},
     "output_type": "execute_result"
    },
    {
     "data": {
      "image/png": "[encoded data removed]",
      "text/plain": [
       "<Figure size 216x432 with 1 Axes>"
      ]
     },
     "metadata": {
      "needs_background": "light"
     },
     "output_type": "display_data"
    }
   ],
   "source": [
    "pltop_actual.boxplot(column='XOne', grid=True, figsize=(3, 6))\n",
    "plt.ylabel('Количество проданых копий, тыс. шт.')"
   ]
  },
  {
   "cell_type": "markdown",
   "metadata": {},
   "source": [
    "<div style=\"border-radius: 15px; border: 1px solid grey; padding: 15px;\">\n",
    "А прямой конкурент PS4 показывает схожий график, только и абсолютные цифры меньше и среднее ниже. PS4 во всем успешнее чем XOne, но от этого последгний не перестал быть второй платформой на рынке.\n",
    "</div>"
   ]
  },
  {
   "cell_type": "markdown",
   "metadata": {},
   "source": [
    "<div style=\"border-radius: 15px; border: 1px solid grey; padding: 15px;\">\n",
    "PS не покидает ощущение, что это было видно и без этих графиков, но дублируем анализ другим представлением данных.\n",
    "</div>"
   ]
  },
  {
   "cell_type": "markdown",
   "metadata": {},
   "source": [
    "### Влияние на продажи внутри одной платформы отзывов пользователей и критиков."
   ]
  },
  {
   "cell_type": "markdown",
   "metadata": {},
   "source": [
    "#### Отзывы критиков PS4"
   ]
  },
  {
   "cell_type": "markdown",
   "metadata": {},
   "source": [
    "<div style=\"border-radius: 15px; border: 1px solid grey; padding: 15px;\">\n",
    "Выделим из основного фрейма данные по платформе PS4, уберем пропуски и приведем к нужному типу:\n",
    "</div>"
   ]
  },
  {
   "cell_type": "code",
   "execution_count": 59,
   "metadata": {},
   "outputs": [],
   "source": [
    "df_ps4 = df_2014[df_2014['platform'] == 'PS4']"
   ]
  },
  {
   "cell_type": "code",
   "execution_count": 60,
   "metadata": {},
   "outputs": [],
   "source": [
    "df_ps4_cs = df_ps4.dropna(subset=['critic_score'])"
   ]
  },
  {
   "cell_type": "code",
   "execution_count": 61,
   "metadata": {},
   "outputs": [],
   "source": [
    "df_ps4_cs.loc[:,['critic_score']] = df_ps4_cs['critic_score'].astype('int')"
   ]
  },
  {
   "cell_type": "markdown",
   "metadata": {},
   "source": [
    "<div style=\"border-radius: 15px; border: 1px solid grey; padding: 15px;\">\n",
    "Построим диаграмму распределения и посмотрим коэффициент линейной зависимости:\n",
    "</div>"
   ]
  },
  {
   "cell_type": "code",
   "execution_count": 62,
   "metadata": {
    "scrolled": true
   },
   "outputs": [
    {
     "name": "stdout",
     "output_type": "stream",
     "text": [
      "Коэффициент Пирсона - 0.4026614106810412\n"
     ]
    },
    {
     "data": {
      "text/plain": [
       "Text(0, 0.5, 'Рейтинг критиков')"
      ]
     },
     "execution_count": 62,
     "metadata": {},
     "output_type": "execute_result"
    },
    {
     "data": {
      "image/png": "[encoded data removed]",
      "text/plain": [
       "<Figure size 432x288 with 1 Axes>"
      ]
     },
     "metadata": {
      "needs_background": "light"
     },
     "output_type": "display_data"
    }
   ],
   "source": [
    "df_ps4_cs.plot(x='total_sales', y='critic_score', kind='scatter', title='Зависимость от рейтинга критиков PS4', alpha=0.5)\n",
    "print('Коэффициент Пирсона -', df_ps4_cs['total_sales'].corr(df_ps4_cs['critic_score'])) \n",
    "plt.xlabel('Итоговые продажи, тыс. шт.')\n",
    "plt.ylabel('Рейтинг критиков')"
   ]
  },
  {
   "cell_type": "markdown",
   "metadata": {},
   "source": [
    "<div style=\"border-radius: 15px; border: 1px solid grey; padding: 15px;\">\n",
    "По цифре и диаграмме видно, что линейная зависимость присутствует, при этом значительная,но не максимальная. Делаем вывод, что рейтинг от критиков конечно сильно важен, но можно добиться успеха и не случшим рейтингом, обратное тоже верно.\n",
    "</div>"
   ]
  },
  {
   "cell_type": "markdown",
   "metadata": {},
   "source": [
    "#### Отзывы пользователей PS4"
   ]
  },
  {
   "cell_type": "markdown",
   "metadata": {},
   "source": [
    "<div style=\"border-radius: 15px; border: 1px solid grey; padding: 15px;\">\n",
    "Из данных по платформе выберем данные с рейтингом пользователей, уберем пропуски:\n",
    "</div>"
   ]
  },
  {
   "cell_type": "code",
   "execution_count": 63,
   "metadata": {},
   "outputs": [],
   "source": [
    "df_ps4_us = df_ps4.dropna(subset=['user_score'])"
   ]
  },
  {
   "cell_type": "markdown",
   "metadata": {},
   "source": [
    "<div style=\"border-radius: 15px; border: 1px solid grey; padding: 15px;\">\n",
    "Построим диаграмму распределения и посмотрим коэффициент линейной зависимости:\n",
    "</div>"
   ]
  },
  {
   "cell_type": "code",
   "execution_count": 64,
   "metadata": {},
   "outputs": [
    {
     "name": "stdout",
     "output_type": "stream",
     "text": [
      "Коэффициент Пирсона - -0.04013158947269736\n"
     ]
    },
    {
     "data": {
      "text/plain": [
       "Text(0, 0.5, 'Рейтинг пользователей')"
      ]
     },
     "execution_count": 64,
     "metadata": {},
     "output_type": "execute_result"
    },
    {
     "data": {
      "image/png": "[encoded data removed]",
      "text/plain": [
       "<Figure size 432x288 with 1 Axes>"
      ]
     },
     "metadata": {
      "needs_background": "light"
     },
     "output_type": "display_data"
    }
   ],
   "source": [
    "df_ps4_us.plot(x='total_sales', y='user_score', kind='scatter', alpha=0.5, title='Зависимость от рейтинга пользователей PS4')\n",
    "print('Коэффициент Пирсона -', df_ps4_us['total_sales'].corr(df_ps4_us['user_score'])) \n",
    "plt.xlabel('Итоговые продажи, тыс. шт.')\n",
    "plt.ylabel('Рейтинг пользователей')"
   ]
  },
  {
   "cell_type": "markdown",
   "metadata": {},
   "source": [
    "<div style=\"border-radius: 15px; border: 1px solid grey; padding: 15px;\">\n",
    "По цифре и диаграмме видно, что линейная зависимость вежду оценками пользователей и продажами нет, как и обратной зависимости, ибо отрицательное знгачение слишком мало. Делаем вывод, что отзывы пользователей не влияют на продажи на платформе PS4.\n",
    "</div>"
   ]
  },
  {
   "cell_type": "markdown",
   "metadata": {},
   "source": [
    "#### Отзывы критиков XOne"
   ]
  },
  {
   "cell_type": "markdown",
   "metadata": {},
   "source": [
    "<div style=\"border-radius: 15px; border: 1px solid grey; padding: 15px;\">\n",
    "Выделим из основного фрейма данные по платформе XOne, уберем пропуски и приведем к нужному типу:\n",
    "</div>"
   ]
  },
  {
   "cell_type": "code",
   "execution_count": 65,
   "metadata": {},
   "outputs": [],
   "source": [
    "df_xone = df_2014[df_2014['platform'] == 'XOne']"
   ]
  },
  {
   "cell_type": "code",
   "execution_count": 66,
   "metadata": {},
   "outputs": [],
   "source": [
    "df_xone_cs = df_xone.dropna(subset=['critic_score'])"
   ]
  },
  {
   "cell_type": "code",
   "execution_count": 67,
   "metadata": {},
   "outputs": [],
   "source": [
    "df_xone_cs.loc[:,['critic_score']] = df_xone_cs['critic_score'].astype('int')"
   ]
  },
  {
   "cell_type": "code",
   "execution_count": 68,
   "metadata": {},
   "outputs": [],
   "source": [
    "df_xone_cs.loc[:,['total_sales']] = df_xone_cs['total_sales'].astype('int')"
   ]
  },
  {
   "cell_type": "markdown",
   "metadata": {},
   "source": [
    "<div style=\"border-radius: 15px; border: 1px solid grey; padding: 15px;\">\n",
    "Построим диаграмму распределения и посмотрим коэффициент линейной зависимости:\n",
    "</div>"
   ]
  },
  {
   "cell_type": "code",
   "execution_count": 69,
   "metadata": {},
   "outputs": [
    {
     "name": "stdout",
     "output_type": "stream",
     "text": [
      "Коэффициент Пирсона - 0.4286769437033317\n"
     ]
    },
    {
     "data": {
      "text/plain": [
       "Text(0, 0.5, 'Рейтинг критиков')"
      ]
     },
     "execution_count": 69,
     "metadata": {},
     "output_type": "execute_result"
    },
    {
     "data": {
      "image/png": "[encoded data removed]",
      "text/plain": [
       "<Figure size 432x288 with 1 Axes>"
      ]
     },
     "metadata": {
      "needs_background": "light"
     },
     "output_type": "display_data"
    }
   ],
   "source": [
    "df_xone_cs.plot(x='total_sales', y='critic_score', kind='scatter', title='Зависимость от рейтинга критиков XOne', alpha=0.5)\n",
    "print('Коэффициент Пирсона -', df_xone_cs['total_sales'].corr(df_xone_cs['critic_score'])) \n",
    "plt.xlabel('Итоговые продажи, тыс. шт.')\n",
    "plt.ylabel('Рейтинг критиков')"
   ]
  },
  {
   "cell_type": "markdown",
   "metadata": {},
   "source": [
    "<div style=\"border-radius: 15px; border: 1px solid grey; padding: 15px;\">\n",
    "Результаты схожи с предыдущей платформой, и визульно и по коэффициенту видно, что рейтинг критиков врияет на продажи.\n",
    "</div>"
   ]
  },
  {
   "cell_type": "markdown",
   "metadata": {},
   "source": [
    "#### Отзывы пользователей XOne"
   ]
  },
  {
   "cell_type": "markdown",
   "metadata": {},
   "source": [
    "<div style=\"border-radius: 15px; border: 1px solid grey; padding: 15px;\">\n",
    "Из данных по платформе выберем данные с рейтингом пользователей, уберем пропуски:\n",
    "</div>"
   ]
  },
  {
   "cell_type": "code",
   "execution_count": 70,
   "metadata": {},
   "outputs": [],
   "source": [
    "df_xone_us = df_xone.dropna(subset=['user_score'])"
   ]
  },
  {
   "cell_type": "markdown",
   "metadata": {},
   "source": [
    "<div style=\"border-radius: 15px; border: 1px solid grey; padding: 15px;\">\n",
    "Построим диаграмму распределения и посмотрим коэффициент линейной зависимости:\n",
    "</div>"
   ]
  },
  {
   "cell_type": "code",
   "execution_count": 71,
   "metadata": {},
   "outputs": [
    {
     "name": "stdout",
     "output_type": "stream",
     "text": [
      "Коэффициент Пирсона - -0.07038392806475807\n"
     ]
    },
    {
     "data": {
      "text/plain": [
       "Text(0, 0.5, 'Рейтинг пользователей')"
      ]
     },
     "execution_count": 71,
     "metadata": {},
     "output_type": "execute_result"
    },
    {
     "data": {
      "image/png": "[encoded data removed]",
      "text/plain": [
       "<Figure size 432x288 with 1 Axes>"
      ]
     },
     "metadata": {
      "needs_background": "light"
     },
     "output_type": "display_data"
    }
   ],
   "source": [
    "df_xone_us.plot(x='total_sales', y='user_score', kind='scatter', alpha=0.5, title='Зависимость от рейтинга пользователей XOne')\n",
    "print('Коэффициент Пирсона -', df_xone_us['total_sales'].corr(df_xone_us['user_score'])) \n",
    "plt.xlabel('Итоговые продажи, тыс. шт.')\n",
    "plt.ylabel('Рейтинг пользователей')"
   ]
  },
  {
   "cell_type": "markdown",
   "metadata": {},
   "source": [
    "<div style=\"border-radius: 15px; border: 1px solid grey; padding: 15px;\">\n",
    "Ну что же, две актуальные платформы показывают одинаковый результат. И тут рейтинг пользоватлей и продажи не имеют линейной зависимости.\n",
    "    \n",
    "Будем ориентироваться на рейтинг критиков, им доверяют, а вот в отношении пользоватлей работает поговорка, что на вкус и цвет все фломастеры разные.\n",
    "</div>"
   ]
  },
  {
   "cell_type": "markdown",
   "metadata": {},
   "source": [
    "### Распределение игр по жанрам."
   ]
  },
  {
   "cell_type": "markdown",
   "metadata": {},
   "source": [
    "<div style=\"border-radius: 15px; border: 1px solid grey; padding: 15px;\">\n",
    "Создадим сводную таблицу по жанрам:\n",
    "</div>"
   ]
  },
  {
   "cell_type": "code",
   "execution_count": 72,
   "metadata": {},
   "outputs": [
    {
     "data": {
      "text/html": [
       "<div>\n",
       "<style scoped>\n",
       "    .dataframe tbody tr th:only-of-type {\n",
       "        vertical-align: middle;\n",
       "    }\n",
       "\n",
       "    .dataframe tbody tr th {\n",
       "        vertical-align: top;\n",
       "    }\n",
       "\n",
       "    .dataframe thead th {\n",
       "        text-align: right;\n",
       "    }\n",
       "</style>\n",
       "<table border=\"1\" class=\"dataframe\">\n",
       "  <thead>\n",
       "    <tr style=\"text-align: right;\">\n",
       "      <th></th>\n",
       "      <th>sum total_sales</th>\n",
       "      <th>count total_sales</th>\n",
       "      <th>mean total_sales</th>\n",
       "      <th>median total_sales</th>\n",
       "    </tr>\n",
       "    <tr>\n",
       "      <th>genre</th>\n",
       "      <th></th>\n",
       "      <th></th>\n",
       "      <th></th>\n",
       "      <th></th>\n",
       "    </tr>\n",
       "  </thead>\n",
       "  <tbody>\n",
       "    <tr>\n",
       "      <td>Action</td>\n",
       "      <td>199360</td>\n",
       "      <td>619</td>\n",
       "      <td>322.067851</td>\n",
       "      <td>90</td>\n",
       "    </tr>\n",
       "    <tr>\n",
       "      <td>Shooter</td>\n",
       "      <td>170940</td>\n",
       "      <td>128</td>\n",
       "      <td>1335.468750</td>\n",
       "      <td>515</td>\n",
       "    </tr>\n",
       "    <tr>\n",
       "      <td>Sports</td>\n",
       "      <td>109480</td>\n",
       "      <td>161</td>\n",
       "      <td>680.000000</td>\n",
       "      <td>180</td>\n",
       "    </tr>\n",
       "    <tr>\n",
       "      <td>Role-Playing</td>\n",
       "      <td>101440</td>\n",
       "      <td>221</td>\n",
       "      <td>459.004525</td>\n",
       "      <td>110</td>\n",
       "    </tr>\n",
       "    <tr>\n",
       "      <td>Misc</td>\n",
       "      <td>37549</td>\n",
       "      <td>113</td>\n",
       "      <td>332.292035</td>\n",
       "      <td>90</td>\n",
       "    </tr>\n",
       "    <tr>\n",
       "      <td>Fighting</td>\n",
       "      <td>28220</td>\n",
       "      <td>60</td>\n",
       "      <td>470.333333</td>\n",
       "      <td>125</td>\n",
       "    </tr>\n",
       "    <tr>\n",
       "      <td>Racing</td>\n",
       "      <td>27520</td>\n",
       "      <td>69</td>\n",
       "      <td>398.840580</td>\n",
       "      <td>90</td>\n",
       "    </tr>\n",
       "    <tr>\n",
       "      <td>Platform</td>\n",
       "      <td>18090</td>\n",
       "      <td>38</td>\n",
       "      <td>476.052632</td>\n",
       "      <td>140</td>\n",
       "    </tr>\n",
       "    <tr>\n",
       "      <td>Adventure</td>\n",
       "      <td>17550</td>\n",
       "      <td>185</td>\n",
       "      <td>94.864865</td>\n",
       "      <td>30</td>\n",
       "    </tr>\n",
       "    <tr>\n",
       "      <td>Simulation</td>\n",
       "      <td>13130</td>\n",
       "      <td>44</td>\n",
       "      <td>298.409091</td>\n",
       "      <td>100</td>\n",
       "    </tr>\n",
       "    <tr>\n",
       "      <td>Strategy</td>\n",
       "      <td>3960</td>\n",
       "      <td>37</td>\n",
       "      <td>107.027027</td>\n",
       "      <td>60</td>\n",
       "    </tr>\n",
       "    <tr>\n",
       "      <td>Puzzle</td>\n",
       "      <td>2210</td>\n",
       "      <td>14</td>\n",
       "      <td>157.857143</td>\n",
       "      <td>45</td>\n",
       "    </tr>\n",
       "  </tbody>\n",
       "</table>\n",
       "</div>"
      ],
      "text/plain": [
       "              sum total_sales  count total_sales  mean total_sales  \\\n",
       "genre                                                                \n",
       "Action                 199360                619        322.067851   \n",
       "Shooter                170940                128       1335.468750   \n",
       "Sports                 109480                161        680.000000   \n",
       "Role-Playing           101440                221        459.004525   \n",
       "Misc                    37549                113        332.292035   \n",
       "Fighting                28220                 60        470.333333   \n",
       "Racing                  27520                 69        398.840580   \n",
       "Platform                18090                 38        476.052632   \n",
       "Adventure               17550                185         94.864865   \n",
       "Simulation              13130                 44        298.409091   \n",
       "Strategy                 3960                 37        107.027027   \n",
       "Puzzle                   2210                 14        157.857143   \n",
       "\n",
       "              median total_sales  \n",
       "genre                             \n",
       "Action                        90  \n",
       "Shooter                      515  \n",
       "Sports                       180  \n",
       "Role-Playing                 110  \n",
       "Misc                          90  \n",
       "Fighting                     125  \n",
       "Racing                        90  \n",
       "Platform                     140  \n",
       "Adventure                     30  \n",
       "Simulation                   100  \n",
       "Strategy                      60  \n",
       "Puzzle                        45  "
      ]
     },
     "execution_count": 72,
     "metadata": {},
     "output_type": "execute_result"
    }
   ],
   "source": [
    "df_2014_g = df_2014.pivot_table(\n",
    "    index='genre', values='total_sales', aggfunc=['sum', 'count', 'mean', 'median']\n",
    ")\n",
    "df_2014_g.columns = [' '.join(col).strip() for col in df_2014_g.columns.values]\n",
    "df_2014_g.sort_values(by='sum total_sales', ascending=False)\n"
   ]
  },
  {
   "cell_type": "markdown",
   "metadata": {},
   "source": [
    "<div style=\"border-radius: 15px; border: 1px solid grey; padding: 15px;\">\n",
    "У нас есть лидер и это игры в жанре Action, в эту же лигу, можно отнести шутеры. А вот далее идет группа середняков в лице спортивных и ролевых игр. Ну и как же без нишевых жанров возглавляемых смешанным жанром и замыкаемые двумя аутсайдерами - стратегиями и пазлами.\n",
    "    \n",
    "Таким обрахом очевидно на какие жанры делать упор, и представлять игры верхних жанров в большем ассортименте, а вот игры в жанрах из нижнгей часьти таблицы, вероятно могут быть представлены только лидерами жанров.\n",
    "\n",
    "И ещё важно обратить внимание, что игры в жанре шутеров имеют в разы лучший средний показатель продаж, тоесть экшены захватили лидерство только благодаря количеству игр в жанре.\n",
    "</div>"
   ]
  },
  {
   "cell_type": "markdown",
   "metadata": {},
   "source": [
    "## Портрет пользователя по регионам"
   ]
  },
  {
   "cell_type": "markdown",
   "metadata": {},
   "source": [
    "### Топ-5 платформ"
   ]
  },
  {
   "cell_type": "markdown",
   "metadata": {},
   "source": [
    "#### Сводная таблица по NA:"
   ]
  },
  {
   "cell_type": "code",
   "execution_count": 73,
   "metadata": {},
   "outputs": [],
   "source": [
    "pf_na_pivot = df_2014.pivot_table(\n",
    "    index='platform', values='na_sales', aggfunc='sum'\n",
    ").sort_values(by='na_sales', ascending=False)"
   ]
  },
  {
   "cell_type": "code",
   "execution_count": 74,
   "metadata": {},
   "outputs": [
    {
     "name": "stdout",
     "output_type": "stream",
     "text": [
      "          na_sales  proportion\n",
      "platform                      \n",
      "PS4          98610    0.347146\n",
      "XOne         81270    0.286103\n",
      "X360         28300    0.099627\n",
      "3DS          22640    0.079702\n",
      "PS3          22049    0.077621\n"
     ]
    }
   ],
   "source": [
    "pf_na_pivot['proportion'] = pf_na_pivot['na_sales'] / pf_na_pivot['na_sales'].sum() \n",
    "print(pf_na_pivot.head())"
   ]
  },
  {
   "cell_type": "markdown",
   "metadata": {},
   "source": [
    "<div style=\"border-radius: 15px; border: 1px solid grey; padding: 15px;\">\n",
    "Что ж, вдими что в текущем поколении платформ идет серьезная борьба между PS4 и XOne, но пока первенство за PS4 в регионе NA\n",
    "</div>"
   ]
  },
  {
   "cell_type": "markdown",
   "metadata": {},
   "source": [
    "#### Сводная таблица по EU:"
   ]
  },
  {
   "cell_type": "code",
   "execution_count": 75,
   "metadata": {},
   "outputs": [],
   "source": [
    "pf_eu_pivot = df_2014.pivot_table(\n",
    "    index='platform', values='eu_sales', aggfunc='sum'\n",
    ").sort_values(by='eu_sales', ascending=False)"
   ]
  },
  {
   "cell_type": "code",
   "execution_count": 76,
   "metadata": {},
   "outputs": [
    {
     "name": "stdout",
     "output_type": "stream",
     "text": [
      "          eu_sales  proportion\n",
      "platform                      \n",
      "PS4         130040    0.480420\n",
      "XOne         46250    0.170866\n",
      "PS3          25540    0.094355\n",
      "PC           17970    0.066388\n",
      "3DS          16120    0.059554\n"
     ]
    }
   ],
   "source": [
    "pf_eu_pivot['proportion'] = pf_eu_pivot['eu_sales'] / pf_eu_pivot['eu_sales'].sum() \n",
    "print(pf_eu_pivot.head())"
   ]
  },
  {
   "cell_type": "markdown",
   "metadata": {},
   "source": [
    "<div style=\"border-radius: 15px; border: 1px solid grey; padding: 15px;\">\n",
    "А вот в EU доминирование PS платформ очевидно.\n",
    "</div>"
   ]
  },
  {
   "cell_type": "markdown",
   "metadata": {},
   "source": [
    "#### Сводная таблица по JP:"
   ]
  },
  {
   "cell_type": "code",
   "execution_count": 77,
   "metadata": {},
   "outputs": [],
   "source": [
    "pf_jp_pivot = df_2014.pivot_table(\n",
    "    index='platform', values='jp_sales', aggfunc='sum'\n",
    ").sort_values(by='jp_sales', ascending=False)"
   ]
  },
  {
   "cell_type": "code",
   "execution_count": 78,
   "metadata": {},
   "outputs": [
    {
     "name": "stdout",
     "output_type": "stream",
     "text": [
      "          jp_sales  proportion\n",
      "platform                      \n",
      "3DS          44240    0.475239\n",
      "PS4          15020    0.161349\n",
      "PSV          14540    0.156193\n",
      "PS3          11220    0.120529\n",
      "WiiU          7310    0.078526\n"
     ]
    }
   ],
   "source": [
    "pf_jp_pivot['proportion'] = pf_jp_pivot['jp_sales'] / pf_jp_pivot['jp_sales'].sum() \n",
    "print(pf_jp_pivot.head())"
   ]
  },
  {
   "cell_type": "markdown",
   "metadata": {},
   "source": [
    "<div style=\"border-radius: 15px; border: 1px solid grey; padding: 15px;\">\n",
    "В JP картина ещё интереснее, уверенное лидирование японских платформ, при этом новые платформы не смогли оботи по родажам 3DS, а это портативная платформа.Плюс в топе присутствует протативная PSV. Мобильный гейминг побеждал в JP уже тогда.\n",
    "</div>"
   ]
  },
  {
   "cell_type": "markdown",
   "metadata": {},
   "source": [
    "### Жанры"
   ]
  },
  {
   "cell_type": "markdown",
   "metadata": {},
   "source": [
    "#### Сводная таблица по NA:"
   ]
  },
  {
   "cell_type": "code",
   "execution_count": 79,
   "metadata": {},
   "outputs": [],
   "source": [
    "genre_na_pivot = df_2014.pivot_table(\n",
    "    index='genre', values='na_sales', aggfunc='sum'\n",
    ").sort_values(by='na_sales', ascending=False)"
   ]
  },
  {
   "cell_type": "code",
   "execution_count": 80,
   "metadata": {},
   "outputs": [
    {
     "data": {
      "text/html": [
       "<div>\n",
       "<style scoped>\n",
       "    .dataframe tbody tr th:only-of-type {\n",
       "        vertical-align: middle;\n",
       "    }\n",
       "\n",
       "    .dataframe tbody tr th {\n",
       "        vertical-align: top;\n",
       "    }\n",
       "\n",
       "    .dataframe thead th {\n",
       "        text-align: right;\n",
       "    }\n",
       "</style>\n",
       "<table border=\"1\" class=\"dataframe\">\n",
       "  <thead>\n",
       "    <tr style=\"text-align: right;\">\n",
       "      <th></th>\n",
       "      <th>na_sales</th>\n",
       "      <th>proportion</th>\n",
       "    </tr>\n",
       "    <tr>\n",
       "      <th>genre</th>\n",
       "      <th></th>\n",
       "      <th></th>\n",
       "    </tr>\n",
       "  </thead>\n",
       "  <tbody>\n",
       "    <tr>\n",
       "      <td>Shooter</td>\n",
       "      <td>79020</td>\n",
       "      <td>0.278182</td>\n",
       "    </tr>\n",
       "    <tr>\n",
       "      <td>Action</td>\n",
       "      <td>72530</td>\n",
       "      <td>0.255334</td>\n",
       "    </tr>\n",
       "    <tr>\n",
       "      <td>Sports</td>\n",
       "      <td>46130</td>\n",
       "      <td>0.162396</td>\n",
       "    </tr>\n",
       "    <tr>\n",
       "      <td>Role-Playing</td>\n",
       "      <td>33470</td>\n",
       "      <td>0.117828</td>\n",
       "    </tr>\n",
       "    <tr>\n",
       "      <td>Misc</td>\n",
       "      <td>15049</td>\n",
       "      <td>0.052978</td>\n",
       "    </tr>\n",
       "    <tr>\n",
       "      <td>Fighting</td>\n",
       "      <td>12430</td>\n",
       "      <td>0.043759</td>\n",
       "    </tr>\n",
       "    <tr>\n",
       "      <td>Racing</td>\n",
       "      <td>8740</td>\n",
       "      <td>0.030768</td>\n",
       "    </tr>\n",
       "    <tr>\n",
       "      <td>Platform</td>\n",
       "      <td>6790</td>\n",
       "      <td>0.023903</td>\n",
       "    </tr>\n",
       "    <tr>\n",
       "      <td>Adventure</td>\n",
       "      <td>5640</td>\n",
       "      <td>0.019855</td>\n",
       "    </tr>\n",
       "    <tr>\n",
       "      <td>Simulation</td>\n",
       "      <td>2630</td>\n",
       "      <td>0.009259</td>\n",
       "    </tr>\n",
       "    <tr>\n",
       "      <td>Strategy</td>\n",
       "      <td>980</td>\n",
       "      <td>0.003450</td>\n",
       "    </tr>\n",
       "    <tr>\n",
       "      <td>Puzzle</td>\n",
       "      <td>650</td>\n",
       "      <td>0.002288</td>\n",
       "    </tr>\n",
       "  </tbody>\n",
       "</table>\n",
       "</div>"
      ],
      "text/plain": [
       "              na_sales  proportion\n",
       "genre                             \n",
       "Shooter          79020    0.278182\n",
       "Action           72530    0.255334\n",
       "Sports           46130    0.162396\n",
       "Role-Playing     33470    0.117828\n",
       "Misc             15049    0.052978\n",
       "Fighting         12430    0.043759\n",
       "Racing            8740    0.030768\n",
       "Platform          6790    0.023903\n",
       "Adventure         5640    0.019855\n",
       "Simulation        2630    0.009259\n",
       "Strategy           980    0.003450\n",
       "Puzzle             650    0.002288"
      ]
     },
     "execution_count": 80,
     "metadata": {},
     "output_type": "execute_result"
    }
   ],
   "source": [
    "genre_na_pivot['proportion'] = genre_na_pivot['na_sales'] / genre_na_pivot['na_sales'].sum() \n",
    "genre_na_pivot"
   ]
  },
  {
   "cell_type": "markdown",
   "metadata": {},
   "source": [
    "<div style=\"border-radius: 15px; border: 1px solid grey; padding: 15px;\">\n",
    "Сопостовимые результаты с обще мировыми, что наверное и не удивительно, если учитывать, что NA крупнейший рынок в мире. Лидерство за  Шутерами и Экшнами, плюс на третье позиции Спортом.\n",
    "</div>"
   ]
  },
  {
   "cell_type": "markdown",
   "metadata": {},
   "source": [
    "#### Сводная таблица по EU:"
   ]
  },
  {
   "cell_type": "code",
   "execution_count": 81,
   "metadata": {},
   "outputs": [],
   "source": [
    "genre_eu_pivot = df_2014.pivot_table(\n",
    "    index='genre', values='eu_sales', aggfunc='sum'\n",
    ").sort_values(by='eu_sales', ascending=False)"
   ]
  },
  {
   "cell_type": "code",
   "execution_count": 82,
   "metadata": {},
   "outputs": [
    {
     "data": {
      "text/html": [
       "<div>\n",
       "<style scoped>\n",
       "    .dataframe tbody tr th:only-of-type {\n",
       "        vertical-align: middle;\n",
       "    }\n",
       "\n",
       "    .dataframe tbody tr th {\n",
       "        vertical-align: top;\n",
       "    }\n",
       "\n",
       "    .dataframe thead th {\n",
       "        text-align: right;\n",
       "    }\n",
       "</style>\n",
       "<table border=\"1\" class=\"dataframe\">\n",
       "  <thead>\n",
       "    <tr style=\"text-align: right;\">\n",
       "      <th></th>\n",
       "      <th>eu_sales</th>\n",
       "      <th>proportion</th>\n",
       "    </tr>\n",
       "    <tr>\n",
       "      <th>genre</th>\n",
       "      <th></th>\n",
       "      <th></th>\n",
       "    </tr>\n",
       "  </thead>\n",
       "  <tbody>\n",
       "    <tr>\n",
       "      <td>Action</td>\n",
       "      <td>74680</td>\n",
       "      <td>0.275898</td>\n",
       "    </tr>\n",
       "    <tr>\n",
       "      <td>Shooter</td>\n",
       "      <td>65520</td>\n",
       "      <td>0.242057</td>\n",
       "    </tr>\n",
       "    <tr>\n",
       "      <td>Sports</td>\n",
       "      <td>45730</td>\n",
       "      <td>0.168945</td>\n",
       "    </tr>\n",
       "    <tr>\n",
       "      <td>Role-Playing</td>\n",
       "      <td>28170</td>\n",
       "      <td>0.104071</td>\n",
       "    </tr>\n",
       "    <tr>\n",
       "      <td>Racing</td>\n",
       "      <td>14130</td>\n",
       "      <td>0.052202</td>\n",
       "    </tr>\n",
       "    <tr>\n",
       "      <td>Misc</td>\n",
       "      <td>12860</td>\n",
       "      <td>0.047510</td>\n",
       "    </tr>\n",
       "    <tr>\n",
       "      <td>Simulation</td>\n",
       "      <td>7300</td>\n",
       "      <td>0.026969</td>\n",
       "    </tr>\n",
       "    <tr>\n",
       "      <td>Platform</td>\n",
       "      <td>6800</td>\n",
       "      <td>0.025122</td>\n",
       "    </tr>\n",
       "    <tr>\n",
       "      <td>Fighting</td>\n",
       "      <td>6690</td>\n",
       "      <td>0.024716</td>\n",
       "    </tr>\n",
       "    <tr>\n",
       "      <td>Adventure</td>\n",
       "      <td>6490</td>\n",
       "      <td>0.023977</td>\n",
       "    </tr>\n",
       "    <tr>\n",
       "      <td>Strategy</td>\n",
       "      <td>1790</td>\n",
       "      <td>0.006613</td>\n",
       "    </tr>\n",
       "    <tr>\n",
       "      <td>Puzzle</td>\n",
       "      <td>520</td>\n",
       "      <td>0.001921</td>\n",
       "    </tr>\n",
       "  </tbody>\n",
       "</table>\n",
       "</div>"
      ],
      "text/plain": [
       "              eu_sales  proportion\n",
       "genre                             \n",
       "Action           74680    0.275898\n",
       "Shooter          65520    0.242057\n",
       "Sports           45730    0.168945\n",
       "Role-Playing     28170    0.104071\n",
       "Racing           14130    0.052202\n",
       "Misc             12860    0.047510\n",
       "Simulation        7300    0.026969\n",
       "Platform          6800    0.025122\n",
       "Fighting          6690    0.024716\n",
       "Adventure         6490    0.023977\n",
       "Strategy          1790    0.006613\n",
       "Puzzle             520    0.001921"
      ]
     },
     "execution_count": 82,
     "metadata": {},
     "output_type": "execute_result"
    }
   ],
   "source": [
    "genre_eu_pivot['proportion'] = genre_eu_pivot['eu_sales'] / genre_eu_pivot['eu_sales'].sum() \n",
    "genre_eu_pivot"
   ]
  },
  {
   "cell_type": "markdown",
   "metadata": {},
   "source": [
    "<div style=\"border-radius: 15px; border: 1px solid grey; padding: 15px;\">\n",
    "В EU наблюдается более равномерное распределение среди жанров, и экшены в лидерах. И да, в EU больше любят гонки.\n",
    "</div>"
   ]
  },
  {
   "cell_type": "markdown",
   "metadata": {},
   "source": [
    "#### Сводная таблица по JP:"
   ]
  },
  {
   "cell_type": "code",
   "execution_count": 83,
   "metadata": {},
   "outputs": [],
   "source": [
    "genre_jp_pivot = df_2014.pivot_table(\n",
    "    index='genre', values='jp_sales', aggfunc='sum'\n",
    ").sort_values(by='jp_sales', ascending=False)"
   ]
  },
  {
   "cell_type": "code",
   "execution_count": 84,
   "metadata": {},
   "outputs": [
    {
     "data": {
      "text/html": [
       "<div>\n",
       "<style scoped>\n",
       "    .dataframe tbody tr th:only-of-type {\n",
       "        vertical-align: middle;\n",
       "    }\n",
       "\n",
       "    .dataframe tbody tr th {\n",
       "        vertical-align: top;\n",
       "    }\n",
       "\n",
       "    .dataframe thead th {\n",
       "        text-align: right;\n",
       "    }\n",
       "</style>\n",
       "<table border=\"1\" class=\"dataframe\">\n",
       "  <thead>\n",
       "    <tr style=\"text-align: right;\">\n",
       "      <th></th>\n",
       "      <th>jp_sales</th>\n",
       "      <th>proportion</th>\n",
       "    </tr>\n",
       "    <tr>\n",
       "      <th>genre</th>\n",
       "      <th></th>\n",
       "      <th></th>\n",
       "    </tr>\n",
       "  </thead>\n",
       "  <tbody>\n",
       "    <tr>\n",
       "      <td>Role-Playing</td>\n",
       "      <td>31160</td>\n",
       "      <td>0.334730</td>\n",
       "    </tr>\n",
       "    <tr>\n",
       "      <td>Action</td>\n",
       "      <td>29580</td>\n",
       "      <td>0.317757</td>\n",
       "    </tr>\n",
       "    <tr>\n",
       "      <td>Fighting</td>\n",
       "      <td>6370</td>\n",
       "      <td>0.068428</td>\n",
       "    </tr>\n",
       "    <tr>\n",
       "      <td>Misc</td>\n",
       "      <td>5610</td>\n",
       "      <td>0.060264</td>\n",
       "    </tr>\n",
       "    <tr>\n",
       "      <td>Shooter</td>\n",
       "      <td>4870</td>\n",
       "      <td>0.052315</td>\n",
       "    </tr>\n",
       "    <tr>\n",
       "      <td>Adventure</td>\n",
       "      <td>3600</td>\n",
       "      <td>0.038672</td>\n",
       "    </tr>\n",
       "    <tr>\n",
       "      <td>Sports</td>\n",
       "      <td>3260</td>\n",
       "      <td>0.035020</td>\n",
       "    </tr>\n",
       "    <tr>\n",
       "      <td>Platform</td>\n",
       "      <td>2690</td>\n",
       "      <td>0.028897</td>\n",
       "    </tr>\n",
       "    <tr>\n",
       "      <td>Simulation</td>\n",
       "      <td>2310</td>\n",
       "      <td>0.024815</td>\n",
       "    </tr>\n",
       "    <tr>\n",
       "      <td>Racing</td>\n",
       "      <td>1760</td>\n",
       "      <td>0.018906</td>\n",
       "    </tr>\n",
       "    <tr>\n",
       "      <td>Strategy</td>\n",
       "      <td>950</td>\n",
       "      <td>0.010205</td>\n",
       "    </tr>\n",
       "    <tr>\n",
       "      <td>Puzzle</td>\n",
       "      <td>930</td>\n",
       "      <td>0.009990</td>\n",
       "    </tr>\n",
       "  </tbody>\n",
       "</table>\n",
       "</div>"
      ],
      "text/plain": [
       "              jp_sales  proportion\n",
       "genre                             \n",
       "Role-Playing     31160    0.334730\n",
       "Action           29580    0.317757\n",
       "Fighting          6370    0.068428\n",
       "Misc              5610    0.060264\n",
       "Shooter           4870    0.052315\n",
       "Adventure         3600    0.038672\n",
       "Sports            3260    0.035020\n",
       "Platform          2690    0.028897\n",
       "Simulation        2310    0.024815\n",
       "Racing            1760    0.018906\n",
       "Strategy           950    0.010205\n",
       "Puzzle             930    0.009990"
      ]
     },
     "execution_count": 84,
     "metadata": {},
     "output_type": "execute_result"
    }
   ],
   "source": [
    "genre_jp_pivot['proportion'] = genre_jp_pivot['jp_sales'] / genre_jp_pivot['jp_sales'].sum() \n",
    "genre_jp_pivot"
   ]
  },
  {
   "cell_type": "markdown",
   "metadata": {},
   "source": [
    "<div style=\"border-radius: 15px; border: 1px solid grey; padding: 15px;\">\n",
    "Вот и тут JP регион показывает серьезные отличия. В лидерах Ролевые игры, а следом идуть экшны, сумарно два лидера захватили 65 проценнтов рынка.\n",
    "</div>"
   ]
  },
  {
   "cell_type": "markdown",
   "metadata": {},
   "source": [
    "### ESRB"
   ]
  },
  {
   "cell_type": "markdown",
   "metadata": {},
   "source": [
    "#### Сводная таблица по NA:"
   ]
  },
  {
   "cell_type": "code",
   "execution_count": 85,
   "metadata": {},
   "outputs": [],
   "source": [
    "esrb_na_pivot = df_2014.pivot_table(\n",
    "    index='rating', values='na_sales', aggfunc='sum'\n",
    ").sort_values(by='na_sales', ascending=False)"
   ]
  },
  {
   "cell_type": "code",
   "execution_count": 86,
   "metadata": {},
   "outputs": [
    {
     "data": {
      "text/html": [
       "<div>\n",
       "<style scoped>\n",
       "    .dataframe tbody tr th:only-of-type {\n",
       "        vertical-align: middle;\n",
       "    }\n",
       "\n",
       "    .dataframe tbody tr th {\n",
       "        vertical-align: top;\n",
       "    }\n",
       "\n",
       "    .dataframe thead th {\n",
       "        text-align: right;\n",
       "    }\n",
       "</style>\n",
       "<table border=\"1\" class=\"dataframe\">\n",
       "  <thead>\n",
       "    <tr style=\"text-align: right;\">\n",
       "      <th></th>\n",
       "      <th>na_sales</th>\n",
       "      <th>proportion</th>\n",
       "    </tr>\n",
       "    <tr>\n",
       "      <th>rating</th>\n",
       "      <th></th>\n",
       "      <th></th>\n",
       "    </tr>\n",
       "  </thead>\n",
       "  <tbody>\n",
       "    <tr>\n",
       "      <td>M</td>\n",
       "      <td>96420</td>\n",
       "      <td>0.339437</td>\n",
       "    </tr>\n",
       "    <tr>\n",
       "      <td>unrated</td>\n",
       "      <td>64719</td>\n",
       "      <td>0.227836</td>\n",
       "    </tr>\n",
       "    <tr>\n",
       "      <td>E</td>\n",
       "      <td>50740</td>\n",
       "      <td>0.178625</td>\n",
       "    </tr>\n",
       "    <tr>\n",
       "      <td>T</td>\n",
       "      <td>38950</td>\n",
       "      <td>0.137119</td>\n",
       "    </tr>\n",
       "    <tr>\n",
       "      <td>E10+</td>\n",
       "      <td>33230</td>\n",
       "      <td>0.116983</td>\n",
       "    </tr>\n",
       "  </tbody>\n",
       "</table>\n",
       "</div>"
      ],
      "text/plain": [
       "         na_sales  proportion\n",
       "rating                       \n",
       "M           96420    0.339437\n",
       "unrated     64719    0.227836\n",
       "E           50740    0.178625\n",
       "T           38950    0.137119\n",
       "E10+        33230    0.116983"
      ]
     },
     "execution_count": 86,
     "metadata": {},
     "output_type": "execute_result"
    }
   ],
   "source": [
    "esrb_na_pivot['proportion'] = esrb_na_pivot['na_sales'] / esrb_na_pivot['na_sales'].sum() \n",
    "esrb_na_pivot"
   ]
  },
  {
   "cell_type": "markdown",
   "metadata": {},
   "source": [
    "<div style=\"border-radius: 15px; border: 1px solid grey; padding: 15px;\">\n",
    "В лидерах игры с рейтингм M, это взрослый рейтинг, таким образом убеждаемся, что игры уже давно развлечение не только для детей, взрослые игры в савокупности продались больше чем игры для детей. Так же достаточно в продаже игр не получивших рейтинг, это могут быть старые или мало популярные игры, которые вместе дали второй результат.\n",
    "</div>"
   ]
  },
  {
   "cell_type": "markdown",
   "metadata": {},
   "source": [
    "#### Сводная таблица по EU:"
   ]
  },
  {
   "cell_type": "code",
   "execution_count": 87,
   "metadata": {},
   "outputs": [],
   "source": [
    "esrb_eu_pivot = df_2014.pivot_table(\n",
    "    index='rating', values='eu_sales', aggfunc='sum'\n",
    ").sort_values(by='eu_sales', ascending=False)"
   ]
  },
  {
   "cell_type": "code",
   "execution_count": 88,
   "metadata": {},
   "outputs": [
    {
     "data": {
      "text/html": [
       "<div>\n",
       "<style scoped>\n",
       "    .dataframe tbody tr th:only-of-type {\n",
       "        vertical-align: middle;\n",
       "    }\n",
       "\n",
       "    .dataframe tbody tr th {\n",
       "        vertical-align: top;\n",
       "    }\n",
       "\n",
       "    .dataframe thead th {\n",
       "        text-align: right;\n",
       "    }\n",
       "</style>\n",
       "<table border=\"1\" class=\"dataframe\">\n",
       "  <thead>\n",
       "    <tr style=\"text-align: right;\">\n",
       "      <th></th>\n",
       "      <th>eu_sales</th>\n",
       "      <th>proportion</th>\n",
       "    </tr>\n",
       "    <tr>\n",
       "      <th>rating</th>\n",
       "      <th></th>\n",
       "      <th></th>\n",
       "    </tr>\n",
       "  </thead>\n",
       "  <tbody>\n",
       "    <tr>\n",
       "      <td>M</td>\n",
       "      <td>93440</td>\n",
       "      <td>0.345205</td>\n",
       "    </tr>\n",
       "    <tr>\n",
       "      <td>unrated</td>\n",
       "      <td>58950</td>\n",
       "      <td>0.217785</td>\n",
       "    </tr>\n",
       "    <tr>\n",
       "      <td>E</td>\n",
       "      <td>58060</td>\n",
       "      <td>0.214497</td>\n",
       "    </tr>\n",
       "    <tr>\n",
       "      <td>T</td>\n",
       "      <td>34070</td>\n",
       "      <td>0.125868</td>\n",
       "    </tr>\n",
       "    <tr>\n",
       "      <td>E10+</td>\n",
       "      <td>26160</td>\n",
       "      <td>0.096645</td>\n",
       "    </tr>\n",
       "  </tbody>\n",
       "</table>\n",
       "</div>"
      ],
      "text/plain": [
       "         eu_sales  proportion\n",
       "rating                       \n",
       "M           93440    0.345205\n",
       "unrated     58950    0.217785\n",
       "E           58060    0.214497\n",
       "T           34070    0.125868\n",
       "E10+        26160    0.096645"
      ]
     },
     "execution_count": 88,
     "metadata": {},
     "output_type": "execute_result"
    }
   ],
   "source": [
    "esrb_eu_pivot['proportion'] = esrb_eu_pivot['eu_sales'] / esrb_eu_pivot['eu_sales'].sum() \n",
    "esrb_eu_pivot"
   ]
  },
  {
   "cell_type": "markdown",
   "metadata": {},
   "source": [
    "<div style=\"border-radius: 15px; border: 1px solid grey; padding: 15px;\">\n",
    "В регионе EU практически идентичная картина с распредлением по рейтингам, взросление аудитории наблюдается и здесь. Игры без рейтинга находятся в том же положении.\n",
    "</div>"
   ]
  },
  {
   "cell_type": "markdown",
   "metadata": {},
   "source": [
    "#### Сводная таблица по JP:"
   ]
  },
  {
   "cell_type": "code",
   "execution_count": 89,
   "metadata": {},
   "outputs": [],
   "source": [
    "esrb_jp_pivot = df_2014.pivot_table(\n",
    "    index='rating', values='jp_sales', aggfunc='sum'\n",
    ").sort_values(by='jp_sales', ascending=False)"
   ]
  },
  {
   "cell_type": "code",
   "execution_count": 90,
   "metadata": {},
   "outputs": [
    {
     "data": {
      "text/html": [
       "<div>\n",
       "<style scoped>\n",
       "    .dataframe tbody tr th:only-of-type {\n",
       "        vertical-align: middle;\n",
       "    }\n",
       "\n",
       "    .dataframe tbody tr th {\n",
       "        vertical-align: top;\n",
       "    }\n",
       "\n",
       "    .dataframe thead th {\n",
       "        text-align: right;\n",
       "    }\n",
       "</style>\n",
       "<table border=\"1\" class=\"dataframe\">\n",
       "  <thead>\n",
       "    <tr style=\"text-align: right;\">\n",
       "      <th></th>\n",
       "      <th>jp_sales</th>\n",
       "      <th>proportion</th>\n",
       "    </tr>\n",
       "    <tr>\n",
       "      <th>rating</th>\n",
       "      <th></th>\n",
       "      <th></th>\n",
       "    </tr>\n",
       "  </thead>\n",
       "  <tbody>\n",
       "    <tr>\n",
       "      <td>unrated</td>\n",
       "      <td>56900</td>\n",
       "      <td>0.611236</td>\n",
       "    </tr>\n",
       "    <tr>\n",
       "      <td>T</td>\n",
       "      <td>14780</td>\n",
       "      <td>0.158771</td>\n",
       "    </tr>\n",
       "    <tr>\n",
       "      <td>E</td>\n",
       "      <td>8940</td>\n",
       "      <td>0.096036</td>\n",
       "    </tr>\n",
       "    <tr>\n",
       "      <td>M</td>\n",
       "      <td>8010</td>\n",
       "      <td>0.086046</td>\n",
       "    </tr>\n",
       "    <tr>\n",
       "      <td>E10+</td>\n",
       "      <td>4460</td>\n",
       "      <td>0.047911</td>\n",
       "    </tr>\n",
       "  </tbody>\n",
       "</table>\n",
       "</div>"
      ],
      "text/plain": [
       "         jp_sales  proportion\n",
       "rating                       \n",
       "unrated     56900    0.611236\n",
       "T           14780    0.158771\n",
       "E            8940    0.096036\n",
       "M            8010    0.086046\n",
       "E10+         4460    0.047911"
      ]
     },
     "execution_count": 90,
     "metadata": {},
     "output_type": "execute_result"
    }
   ],
   "source": [
    "esrb_jp_pivot['proportion'] = esrb_jp_pivot['jp_sales'] / esrb_jp_pivot['jp_sales'].sum() \n",
    "esrb_jp_pivot"
   ]
  },
  {
   "cell_type": "markdown",
   "metadata": {},
   "source": [
    "В свою очередь JP снова отличается. Здесь нет доменирования игр с рейтингом M. При доминировании портативных платформ это можно понять, ни них больше казуальных игр, а реже встречаются жестокие игры. Но итересно другое, на первом месте с огромным отрывыом игры без рейтинга, можно предположить, что в JP регионе продается много локальных игр, которые просто не участвуют в международной рейтинговой окредитации, 61% впечатляет."
   ]
  },
  {
   "cell_type": "markdown",
   "metadata": {},
   "source": [
    "## Проверка гипотез"
   ]
  },
  {
   "cell_type": "markdown",
   "metadata": {},
   "source": [
    "### Гипотеза о средних пользовательских рейтингах платформ Xbox One и PC\n",
    "\n"
   ]
  },
  {
   "cell_type": "markdown",
   "metadata": {},
   "source": [
    "<div style=\"border-radius: 15px; border: 1px solid grey; padding: 15px;\">\n",
    "Проверяем гипотезу: Средние пользовательские рейтинги платформ Xbox One и PC одинаковые.\n",
    "</div>"
   ]
  },
  {
   "cell_type": "code",
   "execution_count": 91,
   "metadata": {},
   "outputs": [],
   "source": [
    "xone_df = df_2014.query('platform == \"XOne\"').dropna()\n",
    "pc_df = df_2014.query('platform == \"PC\"').dropna()"
   ]
  },
  {
   "cell_type": "code",
   "execution_count": 92,
   "metadata": {},
   "outputs": [
    {
     "name": "stdout",
     "output_type": "stream",
     "text": [
      "6.620529801324504\n",
      "6.3417391304347825\n"
     ]
    }
   ],
   "source": [
    "print(xone_df['user_score'].mean())\n",
    "print(pc_df['user_score'].mean())"
   ]
  },
  {
   "cell_type": "markdown",
   "metadata": {},
   "source": [
    "<div style=\"border-radius: 15px; border: 1px solid grey; padding: 15px;\">\n",
    "В выборках среднее значение рейтинга отличается слабо, давайте проверим может ли появиться такая разница не случайно: Составим нулевую и альтернативную гипотезы и проверим: \n",
    "\n",
    "\n",
    "</div>"
   ]
  },
  {
   "cell_type": "markdown",
   "metadata": {},
   "source": [
    "<div style=\"border-radius: 15px; border: 1px solid grey; padding: 15px;\">\n",
    "Нулевая гипотеза: Средние пользовательские рейтинги платформ Xbox One и PC не отличаются, отличия средних значений в выборках статистически не значимы.\n",
    "    \n",
    "    \n",
    "Альтернативная гипотеза: Средние пользовательские рейтинги платформ Xbox One и PC отличаются, отличия средних в выборках значений статистически значимы.\n",
    "\n",
    "Воспользуемся t-тестом и будем принимать решение на основе p-значения, порого альфа для этого значения выставим в 1%, достаточно низкий порог для аналитической задачи, это не врачебное решение.\n",
    "</div>"
   ]
  },
  {
   "cell_type": "code",
   "execution_count": 93,
   "metadata": {},
   "outputs": [
    {
     "name": "stdout",
     "output_type": "stream",
     "text": [
      "p-значение: 0.12817793652639856\n",
      "Не получилось отвергнуть нулевую гипотезу. Верооятно среднее значение пользовательского рейтинга не отличается.\n"
     ]
    }
   ],
   "source": [
    "alpha = 0.01\n",
    "\n",
    "results = st.ttest_ind(xone_df['user_score'], pc_df['user_score'])\n",
    "\n",
    "print('p-значение:', results.pvalue)\n",
    "\n",
    "if results.pvalue < alpha:\n",
    "    print(\"Отвергаем нулевую гипотезу. Вероятно среднее значение пользовательского рейтинга отличается.\")\n",
    "else:\n",
    "    print(\"Не получилось отвергнуть нулевую гипотезу. Верооятно среднее значение пользовательского рейтинга не отличается.\")"
   ]
  },
  {
   "cell_type": "markdown",
   "metadata": {},
   "source": [
    "<div style=\"border-radius: 15px; border: 1px solid grey; padding: 15px;\">\n",
    "Мы не можем утверждать, что средние значения рейтингов отличаются на платформах XOne и PC, отличия средних значений в выборках статистически не значимы. Вероятность получения такой разницы средних в выборке равна ~13%, что достаточно много.\n",
    "</div>"
   ]
  },
  {
   "cell_type": "markdown",
   "metadata": {},
   "source": [
    "### Гипотеза о средних пользовательских рейтингах жанров Action и Sports"
   ]
  },
  {
   "cell_type": "markdown",
   "metadata": {},
   "source": [
    "<div style=\"border-radius: 15px; border: 1px solid grey; padding: 15px;\">\n",
    "Проверяем гипотезу: Средние пользовательских рейтингов жанров Action и Sports одинаковые.\n",
    "</div>"
   ]
  },
  {
   "cell_type": "code",
   "execution_count": 94,
   "metadata": {},
   "outputs": [],
   "source": [
    "action_df = df_2014.query('genre == \"Action\"').dropna()\n",
    "sport_df = df_2014.query('genre == \"Sports\"').dropna()"
   ]
  },
  {
   "cell_type": "code",
   "execution_count": 95,
   "metadata": {},
   "outputs": [
    {
     "name": "stdout",
     "output_type": "stream",
     "text": [
      "6.832599118942731\n",
      "5.68433734939759\n"
     ]
    }
   ],
   "source": [
    "print(action_df['user_score'].mean())\n",
    "print(sport_df['user_score'].mean())"
   ]
  },
  {
   "cell_type": "markdown",
   "metadata": {},
   "source": [
    "<div style=\"border-radius: 15px; border: 1px solid grey; padding: 15px;\">\n",
    "\n",
    "В выборках среднее значение рейтинга значительно отличается, давайте проверим может ли появиться такая разница случайно: Составим нулевую и альтернативную гипотезы и проверим: \n",
    "\n",
    "</div>"
   ]
  },
  {
   "cell_type": "markdown",
   "metadata": {},
   "source": [
    "<div style=\"border-radius: 15px; border: 1px solid grey; padding: 15px;\">\n",
    "Нулевая гипотеза: Средние пользовательские рейтинги жанров Action и Sports не отличаются, отличия средних значений в выборках статистически не значимы.\n",
    "    \n",
    "    \n",
    "Альтернативная гипотеза: Средние пользовательские рейтинги жанров Action и Sports отличаются, отличия средних в выборках значений статистически значимы.\n",
    "\n",
    "Воспользуемся t-тестом и будем принимать решение на основе p-значения, порого альфа для этого значения выставим в 1%, достаточно низкий порог для аналитической задачи, это не врачебное решение.\n",
    "</div>"
   ]
  },
  {
   "cell_type": "code",
   "execution_count": 96,
   "metadata": {},
   "outputs": [
    {
     "name": "stdout",
     "output_type": "stream",
     "text": [
      "p-значение: 4.0540895999943536e-10\n",
      "Отвергаем нулевую гипотезу. Верооятно среднее значение пользовательского рейтинга отличается.\n"
     ]
    }
   ],
   "source": [
    "alpha = 0.01\n",
    "\n",
    "results = st.ttest_ind(action_df['user_score'], sport_df['user_score'])\n",
    "\n",
    "print('p-значение:', results.pvalue)\n",
    "\n",
    "if results.pvalue < alpha:\n",
    "    print(\"Отвергаем нулевую гипотезу. Верооятно среднее значение пользовательского рейтинга отличается.\")\n",
    "else:\n",
    "    print(\"Не получилось отвергнуть нулевую гипотезу. Верооятно среднее значение пользовательского рейтинга не отличается.\")"
   ]
  },
  {
   "cell_type": "markdown",
   "metadata": {},
   "source": [
    "<div style=\"border-radius: 15px; border: 1px solid grey; padding: 15px;\">\n",
    "Мы можем утверждать, что с высокой вероятность средние значения рейтингов отличаются для жанров Action и Sport, отличия средних значений в выборках статистически значимы. Вероятность получения такой разницы средних в выборке случайно исчезающе мала, мы могли поставить альфа = 0.001 и с запасам отвергнуть нулевую гипотезу.\n",
    "</div>"
   ]
  },
  {
   "cell_type": "markdown",
   "metadata": {},
   "source": [
    "## Вывод"
   ]
  },
  {
   "cell_type": "markdown",
   "metadata": {},
   "source": [
    "<div style=\"border-radius: 15px; border: 1px solid grey; padding: 15px;\">\n",
    "Проведя анализ можем перейти к общему выводу:\n",
    "    \n",
    "    Основной акцент в продвижении в 2017 году стоит сделать на платформах PS4 и XOne, можно так же обратить внимание на PC, которая пусть и не большая но всегда актуальная.\n",
    "    \n",
    "    Опорой в продвижении конкретных игр должен служить рейтинг критиков, а не рейтинг ползователей. Пользователеи больше доверяют критикам, чем друг другу.\n",
    "    \n",
    "    У нас присутствуют три группы в жанрах игр, выбирая ассортимент даем предпочтение играм жанров из верхней части таблицы, а жанрах из нижней части таблицы должны быть сделаны акценты на лидерах жанра.\n",
    "    \n",
    "    Таргетируя предложение на пользователей из опредленных регионов можем воспользоваться чертвертым разделом нашего исследования. Например Приоритетнее предлагать Ролевые игры покупателям из JP региона, в EU регионе больше предлпгать гоночные симуляторы, а Action игры популярны везде.\n",
    "    \n",
    "    В платформах по регионам есть разница, например в NA лучше предлагать игры для обеих лидирующих платформ, а в EU деллать акцент на PS4. В JP все сложнее, там был серьезный успех портативных платформ, но в целом по ним видна тенденция к снижению, так что рекомендацие пудет упор на платформы из JP региона в целом.\n",
    "    Отностительно возрастного рейтинга важно помнить, например, что в JP регионе игры с рейтингом M куда менее популярны, игры без рейтинга на первом месте по продажам и на них стоит обратить внимание.\n",
    "    \n",
    "    Мы помним, что пользовательский рейтинг мало влияет на продажи, но в любом случае, по статистике мы получаем, что игроки по разному смотрят на игры разных жанров и в среднем по разному их оценвают.\n",
    "    А что касается оценки игр пользователями на разных платформах, то они вероятно очень схожи. Игры на разных платформах оставляют схожее впечатление у игрокв, таким образом платформы мало влияют на впечатление от игр как таковых.\n",
    "</div>"
   ]
  }
 ],
 "metadata": {
  "kernelspec": {
   "display_name": "Python 3",
   "language": "python",
   "name": "python3"
  },
  "language_info": {
   "codemirror_mode": {
    "name": "ipython",
    "version": 3
   },
   "file_extension": ".py",
   "mimetype": "text/x-python",
   "name": "python",
   "nbconvert_exporter": "python",
   "pygments_lexer": "ipython3",
   "version": "3.8.8"
  },
  "toc": {
   "base_numbering": 1,
   "nav_menu": {},
   "number_sections": true,
   "sideBar": true,
   "skip_h1_title": true,
   "title_cell": "Table of Contents",
   "title_sidebar": "Contents",
   "toc_cell": false,
   "toc_position": {},
   "toc_section_display": true,
   "toc_window_display": true
  }
 },
 "nbformat": 4,
 "nbformat_minor": 2
}
