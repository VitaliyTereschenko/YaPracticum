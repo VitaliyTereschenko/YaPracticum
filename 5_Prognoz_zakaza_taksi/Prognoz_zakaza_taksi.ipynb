{
 "cells": [
  {
   "cell_type": "markdown",
   "metadata": {
    "toc": true
   },
   "source": [
    "<h1>Содержание<span class=\"tocSkip\"></span></h1>\n",
    "<div class=\"toc\"><ul class=\"toc-item\"><li><span><a href=\"#Подготовка\" data-toc-modified-id=\"Подготовка-1\"><span class=\"toc-item-num\">1&nbsp;&nbsp;</span>Подготовка</a></span></li><li><span><a href=\"#Анализ\" data-toc-modified-id=\"Анализ-2\"><span class=\"toc-item-num\">2&nbsp;&nbsp;</span>Анализ</a></span></li><li><span><a href=\"#Обучение\" data-toc-modified-id=\"Обучение-3\"><span class=\"toc-item-num\">3&nbsp;&nbsp;</span>Обучение</a></span><ul class=\"toc-item\"><li><span><a href=\"#Linear-Regression\" data-toc-modified-id=\"Linear-Regression-3.1\"><span class=\"toc-item-num\">3.1&nbsp;&nbsp;</span>Linear Regression</a></span></li><li><span><a href=\"#Random-Forest-Regressor\" data-toc-modified-id=\"Random-Forest-Regressor-3.2\"><span class=\"toc-item-num\">3.2&nbsp;&nbsp;</span>Random Forest Regressor</a></span></li><li><span><a href=\"#ARIMA\" data-toc-modified-id=\"ARIMA-3.3\"><span class=\"toc-item-num\">3.3&nbsp;&nbsp;</span>ARIMA</a></span></li><li><span><a href=\"#GB\" data-toc-modified-id=\"GB-3.4\"><span class=\"toc-item-num\">3.4&nbsp;&nbsp;</span>GB</a></span></li></ul></li><li><span><a href=\"#Тестирование\" data-toc-modified-id=\"Тестирование-4\"><span class=\"toc-item-num\">4&nbsp;&nbsp;</span>Тестирование</a></span><ul class=\"toc-item\"><li><span><a href=\"#Тестирование-Linear-Regression\" data-toc-modified-id=\"Тестирование-Linear-Regression-4.1\"><span class=\"toc-item-num\">4.1&nbsp;&nbsp;</span>Тестирование Linear Regression</a></span></li><li><span><a href=\"#Тестирование-Random-Forest-Regressor\" data-toc-modified-id=\"Тестирование-Random-Forest-Regressor-4.2\"><span class=\"toc-item-num\">4.2&nbsp;&nbsp;</span>Тестирование Random Forest Regressor</a></span></li><li><span><a href=\"#Тестирование-ARIMA\" data-toc-modified-id=\"Тестирование-ARIMA-4.3\"><span class=\"toc-item-num\">4.3&nbsp;&nbsp;</span>Тестирование ARIMA</a></span></li><li><span><a href=\"#Тестирование-GB\" data-toc-modified-id=\"Тестирование-GB-4.4\"><span class=\"toc-item-num\">4.4&nbsp;&nbsp;</span>Тестирование GB</a></span></li><li><span><a href=\"#Итог\" data-toc-modified-id=\"Итог-4.5\"><span class=\"toc-item-num\">4.5&nbsp;&nbsp;</span>Итог</a></span></li></ul></li><li><span><a href=\"#Чек-лист-проверки\" data-toc-modified-id=\"Чек-лист-проверки-5\"><span class=\"toc-item-num\">5&nbsp;&nbsp;</span>Чек-лист проверки</a></span></li></ul></div>"
   ]
  },
  {
   "cell_type": "markdown",
   "metadata": {},
   "source": [
    "#  Прогнозирование заказов такси"
   ]
  },
  {
   "cell_type": "markdown",
   "metadata": {},
   "source": [
    "Компания «Чётенькое такси» собрала исторические данные о заказах такси в аэропортах. Чтобы привлекать больше водителей в период пиковой нагрузки, нужно спрогнозировать количество заказов такси на следующий час. Постройте модель для такого предсказания.\n",
    "\n",
    "Значение метрики *RMSE* на тестовой выборке должно быть не больше 48.\n",
    "\n",
    "Вам нужно:\n",
    "\n",
    "1. Загрузить данные и выполнить их ресемплирование по одному часу.\n",
    "2. Проанализировать данные.\n",
    "3. Обучить разные модели с различными гиперпараметрами. Сделать тестовую выборку размером 10% от исходных данных.\n",
    "4. Проверить данные на тестовой выборке и сделать выводы.\n",
    "\n",
    "\n",
    "Данные лежат в файле `taxi.csv`. Количество заказов находится в столбце `num_orders` (от англ. *number of orders*, «число заказов»)."
   ]
  },
  {
   "cell_type": "markdown",
   "metadata": {},
   "source": [
    "## Подготовка"
   ]
  },
  {
   "cell_type": "code",
   "execution_count": 1,
   "metadata": {},
   "outputs": [],
   "source": [
    "import pandas as pd\n",
    "import numpy as np\n",
    "import matplotlib.pyplot as plt\n",
    "pd.options.mode.chained_assignment = None\n",
    "from sklearn.ensemble import RandomForestRegressor\n",
    "from sklearn.linear_model import LinearRegression\n",
    "from statsmodels.tsa.arima_model import ARIMA\n",
    "import lightgbm as lgb\n",
    "import statsmodels.api as sm\n",
    "from sklearn.model_selection import train_test_split\n",
    "from sklearn.metrics import mean_squared_error\n",
    "from statsmodels.tsa.seasonal import seasonal_decompose"
   ]
  },
  {
   "cell_type": "code",
   "execution_count": 2,
   "metadata": {},
   "outputs": [],
   "source": [
    "df = pd.read_csv('/taxi.csv', index_col=[0], parse_dates=[0])"
   ]
  },
  {
   "cell_type": "markdown",
   "metadata": {},
   "source": [
    "<div style=\"border-radius: 15px; border: 1px solid grey; padding: 15px;\">\n",
    "Загрузили данные с преобразованием даты в индексы в соответствующем формате. Посмотрим содержимое.\n",
    "</div>"
   ]
  },
  {
   "cell_type": "code",
   "execution_count": 3,
   "metadata": {},
   "outputs": [
    {
     "data": {
      "text/plain": [
       "num_orders    0\n",
       "dtype: int64"
      ]
     },
     "execution_count": 3,
     "metadata": {},
     "output_type": "execute_result"
    }
   ],
   "source": [
    "df.isna().sum()"
   ]
  },
  {
   "cell_type": "code",
   "execution_count": 4,
   "metadata": {},
   "outputs": [
    {
     "data": {
      "text/html": [
       "<div>\n",
       "<style scoped>\n",
       "    .dataframe tbody tr th:only-of-type {\n",
       "        vertical-align: middle;\n",
       "    }\n",
       "\n",
       "    .dataframe tbody tr th {\n",
       "        vertical-align: top;\n",
       "    }\n",
       "\n",
       "    .dataframe thead th {\n",
       "        text-align: right;\n",
       "    }\n",
       "</style>\n",
       "<table border=\"1\" class=\"dataframe\">\n",
       "  <thead>\n",
       "    <tr style=\"text-align: right;\">\n",
       "      <th></th>\n",
       "      <th>num_orders</th>\n",
       "    </tr>\n",
       "    <tr>\n",
       "      <th>datetime</th>\n",
       "      <th></th>\n",
       "    </tr>\n",
       "  </thead>\n",
       "  <tbody>\n",
       "    <tr>\n",
       "      <td>2018-03-01 00:00:00</td>\n",
       "      <td>9</td>\n",
       "    </tr>\n",
       "    <tr>\n",
       "      <td>2018-03-01 00:10:00</td>\n",
       "      <td>14</td>\n",
       "    </tr>\n",
       "    <tr>\n",
       "      <td>2018-03-01 00:20:00</td>\n",
       "      <td>28</td>\n",
       "    </tr>\n",
       "    <tr>\n",
       "      <td>2018-03-01 00:30:00</td>\n",
       "      <td>20</td>\n",
       "    </tr>\n",
       "    <tr>\n",
       "      <td>2018-03-01 00:40:00</td>\n",
       "      <td>32</td>\n",
       "    </tr>\n",
       "  </tbody>\n",
       "</table>\n",
       "</div>"
      ],
      "text/plain": [
       "                     num_orders\n",
       "datetime                       \n",
       "2018-03-01 00:00:00           9\n",
       "2018-03-01 00:10:00          14\n",
       "2018-03-01 00:20:00          28\n",
       "2018-03-01 00:30:00          20\n",
       "2018-03-01 00:40:00          32"
      ]
     },
     "execution_count": 4,
     "metadata": {},
     "output_type": "execute_result"
    }
   ],
   "source": [
    "df.head()"
   ]
  },
  {
   "cell_type": "markdown",
   "metadata": {},
   "source": [
    "<div style=\"border-radius: 15px; border: 1px solid grey; padding: 15px;\">\n",
    "Пропусков нет. Количество заказов разбито по десяти минутным периодам. Для надежности выполним сортировку, а потом сумируем данные по заказам укрупниф ячейки до 1-го часа.\n",
    "</div>"
   ]
  },
  {
   "cell_type": "code",
   "execution_count": 5,
   "metadata": {},
   "outputs": [],
   "source": [
    "df.sort_index(inplace=True)"
   ]
  },
  {
   "cell_type": "code",
   "execution_count": 6,
   "metadata": {},
   "outputs": [],
   "source": [
    "df = df.resample('1H').sum()"
   ]
  },
  {
   "cell_type": "code",
   "execution_count": 7,
   "metadata": {},
   "outputs": [
    {
     "data": {
      "text/html": [
       "<div>\n",
       "<style scoped>\n",
       "    .dataframe tbody tr th:only-of-type {\n",
       "        vertical-align: middle;\n",
       "    }\n",
       "\n",
       "    .dataframe tbody tr th {\n",
       "        vertical-align: top;\n",
       "    }\n",
       "\n",
       "    .dataframe thead th {\n",
       "        text-align: right;\n",
       "    }\n",
       "</style>\n",
       "<table border=\"1\" class=\"dataframe\">\n",
       "  <thead>\n",
       "    <tr style=\"text-align: right;\">\n",
       "      <th></th>\n",
       "      <th>num_orders</th>\n",
       "    </tr>\n",
       "    <tr>\n",
       "      <th>datetime</th>\n",
       "      <th></th>\n",
       "    </tr>\n",
       "  </thead>\n",
       "  <tbody>\n",
       "    <tr>\n",
       "      <td>2018-03-01 00:00:00</td>\n",
       "      <td>124</td>\n",
       "    </tr>\n",
       "    <tr>\n",
       "      <td>2018-03-01 01:00:00</td>\n",
       "      <td>85</td>\n",
       "    </tr>\n",
       "    <tr>\n",
       "      <td>2018-03-01 02:00:00</td>\n",
       "      <td>71</td>\n",
       "    </tr>\n",
       "    <tr>\n",
       "      <td>2018-03-01 03:00:00</td>\n",
       "      <td>66</td>\n",
       "    </tr>\n",
       "    <tr>\n",
       "      <td>2018-03-01 04:00:00</td>\n",
       "      <td>43</td>\n",
       "    </tr>\n",
       "  </tbody>\n",
       "</table>\n",
       "</div>"
      ],
      "text/plain": [
       "                     num_orders\n",
       "datetime                       \n",
       "2018-03-01 00:00:00         124\n",
       "2018-03-01 01:00:00          85\n",
       "2018-03-01 02:00:00          71\n",
       "2018-03-01 03:00:00          66\n",
       "2018-03-01 04:00:00          43"
      ]
     },
     "execution_count": 7,
     "metadata": {},
     "output_type": "execute_result"
    }
   ],
   "source": [
    "df.head()"
   ]
  },
  {
   "cell_type": "markdown",
   "metadata": {},
   "source": [
    "<div style=\"border-radius: 15px; border: 1px solid grey; padding: 15px;\">\n",
    "Готово, переходим к анализу.\n",
    "</div>"
   ]
  },
  {
   "cell_type": "markdown",
   "metadata": {},
   "source": [
    "## Анализ"
   ]
  },
  {
   "cell_type": "markdown",
   "metadata": {},
   "source": [
    "<div style=\"border-radius: 15px; border: 1px solid grey; padding: 15px;\">\n",
    "Визуализируем данные.\n",
    "</div>"
   ]
  },
  {
   "cell_type": "code",
   "execution_count": 8,
   "metadata": {
    "scrolled": true
   },
   "outputs": [
    {
     "data": {
      "text/plain": [
       "<matplotlib.axes._subplots.AxesSubplot at 0x7f1509a593d0>"
      ]
     },
     "execution_count": 8,
     "metadata": {},
     "output_type": "execute_result"
    },
    {
     "data": {
      "image/png": "[encoded data removed]",
      "text/plain": [
       "<Figure size 1224x360 with 1 Axes>"
      ]
     },
     "metadata": {
      "needs_background": "light"
     },
     "output_type": "display_data"
    }
   ],
   "source": [
    "df['num_orders'].plot(figsize=[17,5])"
   ]
  },
  {
   "cell_type": "markdown",
   "metadata": {},
   "source": [
    "<div style=\"border-radius: 15px; border: 1px solid grey; padding: 15px;\">\n",
    "Визуально есть подозрение, что наш ряд не стационарен, построим график скользящего среднего.\n",
    "</div>"
   ]
  },
  {
   "cell_type": "code",
   "execution_count": 9,
   "metadata": {
    "scrolled": true
   },
   "outputs": [
    {
     "data": {
      "text/plain": [
       "<matplotlib.axes._subplots.AxesSubplot at 0x7f1509228bd0>"
      ]
     },
     "execution_count": 9,
     "metadata": {},
     "output_type": "execute_result"
    },
    {
     "data": {
      "image/png": "[encoded data removed]",
      "text/plain": [
       "<Figure size 432x288 with 1 Axes>"
      ]
     },
     "metadata": {
      "needs_background": "light"
     },
     "output_type": "display_data"
    }
   ],
   "source": [
    "df['num_orders'].rolling(200).mean().plot()"
   ]
  },
  {
   "cell_type": "markdown",
   "metadata": {},
   "source": [
    "<div style=\"border-radius: 15px; border: 1px solid grey; padding: 15px;\">\n",
    "Ряд однозначно не является стационарным, нужно будет учесть этот факт при обучении некоторых моделей. Визуально у нас есть тренд, подтвердим это и поищем сезонность.\n",
    "</div>"
   ]
  },
  {
   "cell_type": "code",
   "execution_count": 10,
   "metadata": {},
   "outputs": [
    {
     "data": {
      "image/png": "[encoded data removed]",
      "text/plain": [
       "<Figure size 432x288 with 4 Axes>"
      ]
     },
     "metadata": {
      "needs_background": "light"
     },
     "output_type": "display_data"
    }
   ],
   "source": [
    "result = seasonal_decompose(df)\n",
    "result.plot()\n",
    "\n",
    "plt.show()"
   ]
  },
  {
   "cell_type": "markdown",
   "metadata": {},
   "source": [
    "<div style=\"border-radius: 15px; border: 1px solid grey; padding: 15px;\">\n",
    "В масштабе всего набора данных у нас есть тренд на возростание, так как у нас данные ключают только пол года, мы ен знаем это сезонный тренд или свидетельство развития бизнеса. В любом случае у нас прогноз будет краткосрочный (час), нанаш прогноз этот тренд не повлияет.\n",
    "</div>"
   ]
  },
  {
   "cell_type": "code",
   "execution_count": 11,
   "metadata": {},
   "outputs": [
    {
     "data": {
      "image/png": "[encoded data removed]",
      "text/plain": [
       "<Figure size 432x288 with 4 Axes>"
      ]
     },
     "metadata": {
      "needs_background": "light"
     },
     "output_type": "display_data"
    }
   ],
   "source": [
    "temp = df['2018-08-06':'2018-08-20']\n",
    "temp['dayofweek'] = temp.index.dayofweek * 10\n",
    "result = seasonal_decompose(temp)\n",
    "result.plot()\n",
    "plt.show()"
   ]
  },
  {
   "cell_type": "markdown",
   "metadata": {},
   "source": [
    "<div style=\"border-radius: 15px; border: 1px solid grey; padding: 15px;\">\n",
    "Добавили информацию о дне недели (оранжева линия) и видим, что присутствует периодическое изменение количества заказов в масштабах недели. Присутствует увеличенние заказов к концу недел и при переходе на следующую неделю. Так же видна дневная сезонность, рассмотрим это в другом масштабе.\n",
    "</div>"
   ]
  },
  {
   "cell_type": "code",
   "execution_count": 12,
   "metadata": {},
   "outputs": [
    {
     "data": {
      "image/png": "[encoded data removed]",
      "text/plain": [
       "<Figure size 432x288 with 4 Axes>"
      ]
     },
     "metadata": {
      "needs_background": "light"
     },
     "output_type": "display_data"
    }
   ],
   "source": [
    "temp = df['2018-08-12':'2018-08-15']\n",
    "result = seasonal_decompose(temp) #, model='additive')\n",
    "result.plot()\n",
    "\n",
    "plt.show()"
   ]
  },
  {
   "cell_type": "markdown",
   "metadata": {},
   "source": [
    "<div style=\"border-radius: 15px; border: 1px solid grey; padding: 15px;\">\n",
    "Видна четкая зависимоть количества заказов от времени суток, при переходе на следующие сутки число заказов растет, а к утру идет снижение.\n",
    "</div>"
   ]
  },
  {
   "cell_type": "markdown",
   "metadata": {},
   "source": [
    "## Обучение"
   ]
  },
  {
   "cell_type": "markdown",
   "metadata": {},
   "source": [
    "Начнем с функции создания признаков."
   ]
  },
  {
   "cell_type": "code",
   "execution_count": 13,
   "metadata": {},
   "outputs": [],
   "source": [
    "def make_features(data, max_lag, rolling_mean_size):\n",
    "    data['hour'] = data.index.hour\n",
    "    data['dayofweek'] = data.index.dayofweek\n",
    "    \n",
    "    for lag in range(1, max_lag + 1):\n",
    "        data['lag_{}'.format(lag)] = data['num_orders'].shift(lag)\n",
    "\n",
    "    data['rolling_mean'] = data['num_orders'].shift().rolling(rolling_mean_size).mean()"
   ]
  },
  {
   "cell_type": "markdown",
   "metadata": {},
   "source": [
    "<div style=\"border-radius: 15px; border: 1px solid grey; padding: 15px;\">\n",
    "Наша функция создаст признаки: 'Час', 'День недели', 'Информация за N количество дней до', Скользящее среднее с определенным окном расчета среднего. На нашем промежутке времени нет смысла добавлять данные по году и месяцу, как и по дню, так как сезонность есть по неделе и по часам в сутках.\n",
    "</div>"
   ]
  },
  {
   "cell_type": "code",
   "execution_count": 14,
   "metadata": {},
   "outputs": [],
   "source": [
    "make_features(df, 48, 24)"
   ]
  },
  {
   "cell_type": "markdown",
   "metadata": {},
   "source": [
    "<div style=\"border-radius: 15px; border: 1px solid grey; padding: 15px;\">\n",
    "Создали признаки, каждая строка будет содержать информацию о 48 часах до и среднее с окном измерения 12 часов.\n",
    "</div>"
   ]
  },
  {
   "cell_type": "code",
   "execution_count": 15,
   "metadata": {
    "scrolled": true
   },
   "outputs": [
    {
     "data": {
      "text/html": [
       "<div>\n",
       "<style scoped>\n",
       "    .dataframe tbody tr th:only-of-type {\n",
       "        vertical-align: middle;\n",
       "    }\n",
       "\n",
       "    .dataframe tbody tr th {\n",
       "        vertical-align: top;\n",
       "    }\n",
       "\n",
       "    .dataframe thead th {\n",
       "        text-align: right;\n",
       "    }\n",
       "</style>\n",
       "<table border=\"1\" class=\"dataframe\">\n",
       "  <thead>\n",
       "    <tr style=\"text-align: right;\">\n",
       "      <th></th>\n",
       "      <th>num_orders</th>\n",
       "      <th>hour</th>\n",
       "      <th>dayofweek</th>\n",
       "      <th>lag_1</th>\n",
       "      <th>lag_2</th>\n",
       "      <th>lag_3</th>\n",
       "      <th>lag_4</th>\n",
       "      <th>lag_5</th>\n",
       "      <th>lag_6</th>\n",
       "      <th>lag_7</th>\n",
       "      <th>...</th>\n",
       "      <th>lag_40</th>\n",
       "      <th>lag_41</th>\n",
       "      <th>lag_42</th>\n",
       "      <th>lag_43</th>\n",
       "      <th>lag_44</th>\n",
       "      <th>lag_45</th>\n",
       "      <th>lag_46</th>\n",
       "      <th>lag_47</th>\n",
       "      <th>lag_48</th>\n",
       "      <th>rolling_mean</th>\n",
       "    </tr>\n",
       "    <tr>\n",
       "      <th>datetime</th>\n",
       "      <th></th>\n",
       "      <th></th>\n",
       "      <th></th>\n",
       "      <th></th>\n",
       "      <th></th>\n",
       "      <th></th>\n",
       "      <th></th>\n",
       "      <th></th>\n",
       "      <th></th>\n",
       "      <th></th>\n",
       "      <th></th>\n",
       "      <th></th>\n",
       "      <th></th>\n",
       "      <th></th>\n",
       "      <th></th>\n",
       "      <th></th>\n",
       "      <th></th>\n",
       "      <th></th>\n",
       "      <th></th>\n",
       "      <th></th>\n",
       "      <th></th>\n",
       "    </tr>\n",
       "  </thead>\n",
       "  <tbody>\n",
       "    <tr>\n",
       "      <td>2018-03-01 00:00:00</td>\n",
       "      <td>124</td>\n",
       "      <td>0</td>\n",
       "      <td>3</td>\n",
       "      <td>NaN</td>\n",
       "      <td>NaN</td>\n",
       "      <td>NaN</td>\n",
       "      <td>NaN</td>\n",
       "      <td>NaN</td>\n",
       "      <td>NaN</td>\n",
       "      <td>NaN</td>\n",
       "      <td>...</td>\n",
       "      <td>NaN</td>\n",
       "      <td>NaN</td>\n",
       "      <td>NaN</td>\n",
       "      <td>NaN</td>\n",
       "      <td>NaN</td>\n",
       "      <td>NaN</td>\n",
       "      <td>NaN</td>\n",
       "      <td>NaN</td>\n",
       "      <td>NaN</td>\n",
       "      <td>NaN</td>\n",
       "    </tr>\n",
       "    <tr>\n",
       "      <td>2018-03-01 01:00:00</td>\n",
       "      <td>85</td>\n",
       "      <td>1</td>\n",
       "      <td>3</td>\n",
       "      <td>124.0</td>\n",
       "      <td>NaN</td>\n",
       "      <td>NaN</td>\n",
       "      <td>NaN</td>\n",
       "      <td>NaN</td>\n",
       "      <td>NaN</td>\n",
       "      <td>NaN</td>\n",
       "      <td>...</td>\n",
       "      <td>NaN</td>\n",
       "      <td>NaN</td>\n",
       "      <td>NaN</td>\n",
       "      <td>NaN</td>\n",
       "      <td>NaN</td>\n",
       "      <td>NaN</td>\n",
       "      <td>NaN</td>\n",
       "      <td>NaN</td>\n",
       "      <td>NaN</td>\n",
       "      <td>NaN</td>\n",
       "    </tr>\n",
       "    <tr>\n",
       "      <td>2018-03-01 02:00:00</td>\n",
       "      <td>71</td>\n",
       "      <td>2</td>\n",
       "      <td>3</td>\n",
       "      <td>85.0</td>\n",
       "      <td>124.0</td>\n",
       "      <td>NaN</td>\n",
       "      <td>NaN</td>\n",
       "      <td>NaN</td>\n",
       "      <td>NaN</td>\n",
       "      <td>NaN</td>\n",
       "      <td>...</td>\n",
       "      <td>NaN</td>\n",
       "      <td>NaN</td>\n",
       "      <td>NaN</td>\n",
       "      <td>NaN</td>\n",
       "      <td>NaN</td>\n",
       "      <td>NaN</td>\n",
       "      <td>NaN</td>\n",
       "      <td>NaN</td>\n",
       "      <td>NaN</td>\n",
       "      <td>NaN</td>\n",
       "    </tr>\n",
       "    <tr>\n",
       "      <td>2018-03-01 03:00:00</td>\n",
       "      <td>66</td>\n",
       "      <td>3</td>\n",
       "      <td>3</td>\n",
       "      <td>71.0</td>\n",
       "      <td>85.0</td>\n",
       "      <td>124.0</td>\n",
       "      <td>NaN</td>\n",
       "      <td>NaN</td>\n",
       "      <td>NaN</td>\n",
       "      <td>NaN</td>\n",
       "      <td>...</td>\n",
       "      <td>NaN</td>\n",
       "      <td>NaN</td>\n",
       "      <td>NaN</td>\n",
       "      <td>NaN</td>\n",
       "      <td>NaN</td>\n",
       "      <td>NaN</td>\n",
       "      <td>NaN</td>\n",
       "      <td>NaN</td>\n",
       "      <td>NaN</td>\n",
       "      <td>NaN</td>\n",
       "    </tr>\n",
       "    <tr>\n",
       "      <td>2018-03-01 04:00:00</td>\n",
       "      <td>43</td>\n",
       "      <td>4</td>\n",
       "      <td>3</td>\n",
       "      <td>66.0</td>\n",
       "      <td>71.0</td>\n",
       "      <td>85.0</td>\n",
       "      <td>124.0</td>\n",
       "      <td>NaN</td>\n",
       "      <td>NaN</td>\n",
       "      <td>NaN</td>\n",
       "      <td>...</td>\n",
       "      <td>NaN</td>\n",
       "      <td>NaN</td>\n",
       "      <td>NaN</td>\n",
       "      <td>NaN</td>\n",
       "      <td>NaN</td>\n",
       "      <td>NaN</td>\n",
       "      <td>NaN</td>\n",
       "      <td>NaN</td>\n",
       "      <td>NaN</td>\n",
       "      <td>NaN</td>\n",
       "    </tr>\n",
       "    <tr>\n",
       "      <td>2018-03-01 05:00:00</td>\n",
       "      <td>6</td>\n",
       "      <td>5</td>\n",
       "      <td>3</td>\n",
       "      <td>43.0</td>\n",
       "      <td>66.0</td>\n",
       "      <td>71.0</td>\n",
       "      <td>85.0</td>\n",
       "      <td>124.0</td>\n",
       "      <td>NaN</td>\n",
       "      <td>NaN</td>\n",
       "      <td>...</td>\n",
       "      <td>NaN</td>\n",
       "      <td>NaN</td>\n",
       "      <td>NaN</td>\n",
       "      <td>NaN</td>\n",
       "      <td>NaN</td>\n",
       "      <td>NaN</td>\n",
       "      <td>NaN</td>\n",
       "      <td>NaN</td>\n",
       "      <td>NaN</td>\n",
       "      <td>NaN</td>\n",
       "    </tr>\n",
       "    <tr>\n",
       "      <td>2018-03-01 06:00:00</td>\n",
       "      <td>12</td>\n",
       "      <td>6</td>\n",
       "      <td>3</td>\n",
       "      <td>6.0</td>\n",
       "      <td>43.0</td>\n",
       "      <td>66.0</td>\n",
       "      <td>71.0</td>\n",
       "      <td>85.0</td>\n",
       "      <td>124.0</td>\n",
       "      <td>NaN</td>\n",
       "      <td>...</td>\n",
       "      <td>NaN</td>\n",
       "      <td>NaN</td>\n",
       "      <td>NaN</td>\n",
       "      <td>NaN</td>\n",
       "      <td>NaN</td>\n",
       "      <td>NaN</td>\n",
       "      <td>NaN</td>\n",
       "      <td>NaN</td>\n",
       "      <td>NaN</td>\n",
       "      <td>NaN</td>\n",
       "    </tr>\n",
       "    <tr>\n",
       "      <td>2018-03-01 07:00:00</td>\n",
       "      <td>15</td>\n",
       "      <td>7</td>\n",
       "      <td>3</td>\n",
       "      <td>12.0</td>\n",
       "      <td>6.0</td>\n",
       "      <td>43.0</td>\n",
       "      <td>66.0</td>\n",
       "      <td>71.0</td>\n",
       "      <td>85.0</td>\n",
       "      <td>124.0</td>\n",
       "      <td>...</td>\n",
       "      <td>NaN</td>\n",
       "      <td>NaN</td>\n",
       "      <td>NaN</td>\n",
       "      <td>NaN</td>\n",
       "      <td>NaN</td>\n",
       "      <td>NaN</td>\n",
       "      <td>NaN</td>\n",
       "      <td>NaN</td>\n",
       "      <td>NaN</td>\n",
       "      <td>NaN</td>\n",
       "    </tr>\n",
       "    <tr>\n",
       "      <td>2018-03-01 08:00:00</td>\n",
       "      <td>34</td>\n",
       "      <td>8</td>\n",
       "      <td>3</td>\n",
       "      <td>15.0</td>\n",
       "      <td>12.0</td>\n",
       "      <td>6.0</td>\n",
       "      <td>43.0</td>\n",
       "      <td>66.0</td>\n",
       "      <td>71.0</td>\n",
       "      <td>85.0</td>\n",
       "      <td>...</td>\n",
       "      <td>NaN</td>\n",
       "      <td>NaN</td>\n",
       "      <td>NaN</td>\n",
       "      <td>NaN</td>\n",
       "      <td>NaN</td>\n",
       "      <td>NaN</td>\n",
       "      <td>NaN</td>\n",
       "      <td>NaN</td>\n",
       "      <td>NaN</td>\n",
       "      <td>NaN</td>\n",
       "    </tr>\n",
       "    <tr>\n",
       "      <td>2018-03-01 09:00:00</td>\n",
       "      <td>69</td>\n",
       "      <td>9</td>\n",
       "      <td>3</td>\n",
       "      <td>34.0</td>\n",
       "      <td>15.0</td>\n",
       "      <td>12.0</td>\n",
       "      <td>6.0</td>\n",
       "      <td>43.0</td>\n",
       "      <td>66.0</td>\n",
       "      <td>71.0</td>\n",
       "      <td>...</td>\n",
       "      <td>NaN</td>\n",
       "      <td>NaN</td>\n",
       "      <td>NaN</td>\n",
       "      <td>NaN</td>\n",
       "      <td>NaN</td>\n",
       "      <td>NaN</td>\n",
       "      <td>NaN</td>\n",
       "      <td>NaN</td>\n",
       "      <td>NaN</td>\n",
       "      <td>NaN</td>\n",
       "    </tr>\n",
       "    <tr>\n",
       "      <td>2018-03-01 10:00:00</td>\n",
       "      <td>64</td>\n",
       "      <td>10</td>\n",
       "      <td>3</td>\n",
       "      <td>69.0</td>\n",
       "      <td>34.0</td>\n",
       "      <td>15.0</td>\n",
       "      <td>12.0</td>\n",
       "      <td>6.0</td>\n",
       "      <td>43.0</td>\n",
       "      <td>66.0</td>\n",
       "      <td>...</td>\n",
       "      <td>NaN</td>\n",
       "      <td>NaN</td>\n",
       "      <td>NaN</td>\n",
       "      <td>NaN</td>\n",
       "      <td>NaN</td>\n",
       "      <td>NaN</td>\n",
       "      <td>NaN</td>\n",
       "      <td>NaN</td>\n",
       "      <td>NaN</td>\n",
       "      <td>NaN</td>\n",
       "    </tr>\n",
       "    <tr>\n",
       "      <td>2018-03-01 11:00:00</td>\n",
       "      <td>96</td>\n",
       "      <td>11</td>\n",
       "      <td>3</td>\n",
       "      <td>64.0</td>\n",
       "      <td>69.0</td>\n",
       "      <td>34.0</td>\n",
       "      <td>15.0</td>\n",
       "      <td>12.0</td>\n",
       "      <td>6.0</td>\n",
       "      <td>43.0</td>\n",
       "      <td>...</td>\n",
       "      <td>NaN</td>\n",
       "      <td>NaN</td>\n",
       "      <td>NaN</td>\n",
       "      <td>NaN</td>\n",
       "      <td>NaN</td>\n",
       "      <td>NaN</td>\n",
       "      <td>NaN</td>\n",
       "      <td>NaN</td>\n",
       "      <td>NaN</td>\n",
       "      <td>NaN</td>\n",
       "    </tr>\n",
       "    <tr>\n",
       "      <td>2018-03-01 12:00:00</td>\n",
       "      <td>30</td>\n",
       "      <td>12</td>\n",
       "      <td>3</td>\n",
       "      <td>96.0</td>\n",
       "      <td>64.0</td>\n",
       "      <td>69.0</td>\n",
       "      <td>34.0</td>\n",
       "      <td>15.0</td>\n",
       "      <td>12.0</td>\n",
       "      <td>6.0</td>\n",
       "      <td>...</td>\n",
       "      <td>NaN</td>\n",
       "      <td>NaN</td>\n",
       "      <td>NaN</td>\n",
       "      <td>NaN</td>\n",
       "      <td>NaN</td>\n",
       "      <td>NaN</td>\n",
       "      <td>NaN</td>\n",
       "      <td>NaN</td>\n",
       "      <td>NaN</td>\n",
       "      <td>NaN</td>\n",
       "    </tr>\n",
       "    <tr>\n",
       "      <td>2018-03-01 13:00:00</td>\n",
       "      <td>32</td>\n",
       "      <td>13</td>\n",
       "      <td>3</td>\n",
       "      <td>30.0</td>\n",
       "      <td>96.0</td>\n",
       "      <td>64.0</td>\n",
       "      <td>69.0</td>\n",
       "      <td>34.0</td>\n",
       "      <td>15.0</td>\n",
       "      <td>12.0</td>\n",
       "      <td>...</td>\n",
       "      <td>NaN</td>\n",
       "      <td>NaN</td>\n",
       "      <td>NaN</td>\n",
       "      <td>NaN</td>\n",
       "      <td>NaN</td>\n",
       "      <td>NaN</td>\n",
       "      <td>NaN</td>\n",
       "      <td>NaN</td>\n",
       "      <td>NaN</td>\n",
       "      <td>NaN</td>\n",
       "    </tr>\n",
       "    <tr>\n",
       "      <td>2018-03-01 14:00:00</td>\n",
       "      <td>48</td>\n",
       "      <td>14</td>\n",
       "      <td>3</td>\n",
       "      <td>32.0</td>\n",
       "      <td>30.0</td>\n",
       "      <td>96.0</td>\n",
       "      <td>64.0</td>\n",
       "      <td>69.0</td>\n",
       "      <td>34.0</td>\n",
       "      <td>15.0</td>\n",
       "      <td>...</td>\n",
       "      <td>NaN</td>\n",
       "      <td>NaN</td>\n",
       "      <td>NaN</td>\n",
       "      <td>NaN</td>\n",
       "      <td>NaN</td>\n",
       "      <td>NaN</td>\n",
       "      <td>NaN</td>\n",
       "      <td>NaN</td>\n",
       "      <td>NaN</td>\n",
       "      <td>NaN</td>\n",
       "    </tr>\n",
       "    <tr>\n",
       "      <td>2018-03-01 15:00:00</td>\n",
       "      <td>66</td>\n",
       "      <td>15</td>\n",
       "      <td>3</td>\n",
       "      <td>48.0</td>\n",
       "      <td>32.0</td>\n",
       "      <td>30.0</td>\n",
       "      <td>96.0</td>\n",
       "      <td>64.0</td>\n",
       "      <td>69.0</td>\n",
       "      <td>34.0</td>\n",
       "      <td>...</td>\n",
       "      <td>NaN</td>\n",
       "      <td>NaN</td>\n",
       "      <td>NaN</td>\n",
       "      <td>NaN</td>\n",
       "      <td>NaN</td>\n",
       "      <td>NaN</td>\n",
       "      <td>NaN</td>\n",
       "      <td>NaN</td>\n",
       "      <td>NaN</td>\n",
       "      <td>NaN</td>\n",
       "    </tr>\n",
       "    <tr>\n",
       "      <td>2018-03-01 16:00:00</td>\n",
       "      <td>43</td>\n",
       "      <td>16</td>\n",
       "      <td>3</td>\n",
       "      <td>66.0</td>\n",
       "      <td>48.0</td>\n",
       "      <td>32.0</td>\n",
       "      <td>30.0</td>\n",
       "      <td>96.0</td>\n",
       "      <td>64.0</td>\n",
       "      <td>69.0</td>\n",
       "      <td>...</td>\n",
       "      <td>NaN</td>\n",
       "      <td>NaN</td>\n",
       "      <td>NaN</td>\n",
       "      <td>NaN</td>\n",
       "      <td>NaN</td>\n",
       "      <td>NaN</td>\n",
       "      <td>NaN</td>\n",
       "      <td>NaN</td>\n",
       "      <td>NaN</td>\n",
       "      <td>NaN</td>\n",
       "    </tr>\n",
       "    <tr>\n",
       "      <td>2018-03-01 17:00:00</td>\n",
       "      <td>44</td>\n",
       "      <td>17</td>\n",
       "      <td>3</td>\n",
       "      <td>43.0</td>\n",
       "      <td>66.0</td>\n",
       "      <td>48.0</td>\n",
       "      <td>32.0</td>\n",
       "      <td>30.0</td>\n",
       "      <td>96.0</td>\n",
       "      <td>64.0</td>\n",
       "      <td>...</td>\n",
       "      <td>NaN</td>\n",
       "      <td>NaN</td>\n",
       "      <td>NaN</td>\n",
       "      <td>NaN</td>\n",
       "      <td>NaN</td>\n",
       "      <td>NaN</td>\n",
       "      <td>NaN</td>\n",
       "      <td>NaN</td>\n",
       "      <td>NaN</td>\n",
       "      <td>NaN</td>\n",
       "    </tr>\n",
       "    <tr>\n",
       "      <td>2018-03-01 18:00:00</td>\n",
       "      <td>73</td>\n",
       "      <td>18</td>\n",
       "      <td>3</td>\n",
       "      <td>44.0</td>\n",
       "      <td>43.0</td>\n",
       "      <td>66.0</td>\n",
       "      <td>48.0</td>\n",
       "      <td>32.0</td>\n",
       "      <td>30.0</td>\n",
       "      <td>96.0</td>\n",
       "      <td>...</td>\n",
       "      <td>NaN</td>\n",
       "      <td>NaN</td>\n",
       "      <td>NaN</td>\n",
       "      <td>NaN</td>\n",
       "      <td>NaN</td>\n",
       "      <td>NaN</td>\n",
       "      <td>NaN</td>\n",
       "      <td>NaN</td>\n",
       "      <td>NaN</td>\n",
       "      <td>NaN</td>\n",
       "    </tr>\n",
       "    <tr>\n",
       "      <td>2018-03-01 19:00:00</td>\n",
       "      <td>45</td>\n",
       "      <td>19</td>\n",
       "      <td>3</td>\n",
       "      <td>73.0</td>\n",
       "      <td>44.0</td>\n",
       "      <td>43.0</td>\n",
       "      <td>66.0</td>\n",
       "      <td>48.0</td>\n",
       "      <td>32.0</td>\n",
       "      <td>30.0</td>\n",
       "      <td>...</td>\n",
       "      <td>NaN</td>\n",
       "      <td>NaN</td>\n",
       "      <td>NaN</td>\n",
       "      <td>NaN</td>\n",
       "      <td>NaN</td>\n",
       "      <td>NaN</td>\n",
       "      <td>NaN</td>\n",
       "      <td>NaN</td>\n",
       "      <td>NaN</td>\n",
       "      <td>NaN</td>\n",
       "    </tr>\n",
       "    <tr>\n",
       "      <td>2018-03-01 20:00:00</td>\n",
       "      <td>61</td>\n",
       "      <td>20</td>\n",
       "      <td>3</td>\n",
       "      <td>45.0</td>\n",
       "      <td>73.0</td>\n",
       "      <td>44.0</td>\n",
       "      <td>43.0</td>\n",
       "      <td>66.0</td>\n",
       "      <td>48.0</td>\n",
       "      <td>32.0</td>\n",
       "      <td>...</td>\n",
       "      <td>NaN</td>\n",
       "      <td>NaN</td>\n",
       "      <td>NaN</td>\n",
       "      <td>NaN</td>\n",
       "      <td>NaN</td>\n",
       "      <td>NaN</td>\n",
       "      <td>NaN</td>\n",
       "      <td>NaN</td>\n",
       "      <td>NaN</td>\n",
       "      <td>NaN</td>\n",
       "    </tr>\n",
       "    <tr>\n",
       "      <td>2018-03-01 21:00:00</td>\n",
       "      <td>66</td>\n",
       "      <td>21</td>\n",
       "      <td>3</td>\n",
       "      <td>61.0</td>\n",
       "      <td>45.0</td>\n",
       "      <td>73.0</td>\n",
       "      <td>44.0</td>\n",
       "      <td>43.0</td>\n",
       "      <td>66.0</td>\n",
       "      <td>48.0</td>\n",
       "      <td>...</td>\n",
       "      <td>NaN</td>\n",
       "      <td>NaN</td>\n",
       "      <td>NaN</td>\n",
       "      <td>NaN</td>\n",
       "      <td>NaN</td>\n",
       "      <td>NaN</td>\n",
       "      <td>NaN</td>\n",
       "      <td>NaN</td>\n",
       "      <td>NaN</td>\n",
       "      <td>NaN</td>\n",
       "    </tr>\n",
       "    <tr>\n",
       "      <td>2018-03-01 22:00:00</td>\n",
       "      <td>113</td>\n",
       "      <td>22</td>\n",
       "      <td>3</td>\n",
       "      <td>66.0</td>\n",
       "      <td>61.0</td>\n",
       "      <td>45.0</td>\n",
       "      <td>73.0</td>\n",
       "      <td>44.0</td>\n",
       "      <td>43.0</td>\n",
       "      <td>66.0</td>\n",
       "      <td>...</td>\n",
       "      <td>NaN</td>\n",
       "      <td>NaN</td>\n",
       "      <td>NaN</td>\n",
       "      <td>NaN</td>\n",
       "      <td>NaN</td>\n",
       "      <td>NaN</td>\n",
       "      <td>NaN</td>\n",
       "      <td>NaN</td>\n",
       "      <td>NaN</td>\n",
       "      <td>NaN</td>\n",
       "    </tr>\n",
       "    <tr>\n",
       "      <td>2018-03-01 23:00:00</td>\n",
       "      <td>58</td>\n",
       "      <td>23</td>\n",
       "      <td>3</td>\n",
       "      <td>113.0</td>\n",
       "      <td>66.0</td>\n",
       "      <td>61.0</td>\n",
       "      <td>45.0</td>\n",
       "      <td>73.0</td>\n",
       "      <td>44.0</td>\n",
       "      <td>43.0</td>\n",
       "      <td>...</td>\n",
       "      <td>NaN</td>\n",
       "      <td>NaN</td>\n",
       "      <td>NaN</td>\n",
       "      <td>NaN</td>\n",
       "      <td>NaN</td>\n",
       "      <td>NaN</td>\n",
       "      <td>NaN</td>\n",
       "      <td>NaN</td>\n",
       "      <td>NaN</td>\n",
       "      <td>NaN</td>\n",
       "    </tr>\n",
       "    <tr>\n",
       "      <td>2018-03-02 00:00:00</td>\n",
       "      <td>90</td>\n",
       "      <td>0</td>\n",
       "      <td>4</td>\n",
       "      <td>58.0</td>\n",
       "      <td>113.0</td>\n",
       "      <td>66.0</td>\n",
       "      <td>61.0</td>\n",
       "      <td>45.0</td>\n",
       "      <td>73.0</td>\n",
       "      <td>44.0</td>\n",
       "      <td>...</td>\n",
       "      <td>NaN</td>\n",
       "      <td>NaN</td>\n",
       "      <td>NaN</td>\n",
       "      <td>NaN</td>\n",
       "      <td>NaN</td>\n",
       "      <td>NaN</td>\n",
       "      <td>NaN</td>\n",
       "      <td>NaN</td>\n",
       "      <td>NaN</td>\n",
       "      <td>56.833333</td>\n",
       "    </tr>\n",
       "  </tbody>\n",
       "</table>\n",
       "<p>25 rows × 52 columns</p>\n",
       "</div>"
      ],
      "text/plain": [
       "                     num_orders  hour  dayofweek  lag_1  lag_2  lag_3  lag_4  \\\n",
       "datetime                                                                       \n",
       "2018-03-01 00:00:00         124     0          3    NaN    NaN    NaN    NaN   \n",
       "2018-03-01 01:00:00          85     1          3  124.0    NaN    NaN    NaN   \n",
       "2018-03-01 02:00:00          71     2          3   85.0  124.0    NaN    NaN   \n",
       "2018-03-01 03:00:00          66     3          3   71.0   85.0  124.0    NaN   \n",
       "2018-03-01 04:00:00          43     4          3   66.0   71.0   85.0  124.0   \n",
       "2018-03-01 05:00:00           6     5          3   43.0   66.0   71.0   85.0   \n",
       "2018-03-01 06:00:00          12     6          3    6.0   43.0   66.0   71.0   \n",
       "2018-03-01 07:00:00          15     7          3   12.0    6.0   43.0   66.0   \n",
       "2018-03-01 08:00:00          34     8          3   15.0   12.0    6.0   43.0   \n",
       "2018-03-01 09:00:00          69     9          3   34.0   15.0   12.0    6.0   \n",
       "2018-03-01 10:00:00          64    10          3   69.0   34.0   15.0   12.0   \n",
       "2018-03-01 11:00:00          96    11          3   64.0   69.0   34.0   15.0   \n",
       "2018-03-01 12:00:00          30    12          3   96.0   64.0   69.0   34.0   \n",
       "2018-03-01 13:00:00          32    13          3   30.0   96.0   64.0   69.0   \n",
       "2018-03-01 14:00:00          48    14          3   32.0   30.0   96.0   64.0   \n",
       "2018-03-01 15:00:00          66    15          3   48.0   32.0   30.0   96.0   \n",
       "2018-03-01 16:00:00          43    16          3   66.0   48.0   32.0   30.0   \n",
       "2018-03-01 17:00:00          44    17          3   43.0   66.0   48.0   32.0   \n",
       "2018-03-01 18:00:00          73    18          3   44.0   43.0   66.0   48.0   \n",
       "2018-03-01 19:00:00          45    19          3   73.0   44.0   43.0   66.0   \n",
       "2018-03-01 20:00:00          61    20          3   45.0   73.0   44.0   43.0   \n",
       "2018-03-01 21:00:00          66    21          3   61.0   45.0   73.0   44.0   \n",
       "2018-03-01 22:00:00         113    22          3   66.0   61.0   45.0   73.0   \n",
       "2018-03-01 23:00:00          58    23          3  113.0   66.0   61.0   45.0   \n",
       "2018-03-02 00:00:00          90     0          4   58.0  113.0   66.0   61.0   \n",
       "\n",
       "                     lag_5  lag_6  lag_7  ...  lag_40  lag_41  lag_42  lag_43  \\\n",
       "datetime                                  ...                                   \n",
       "2018-03-01 00:00:00    NaN    NaN    NaN  ...     NaN     NaN     NaN     NaN   \n",
       "2018-03-01 01:00:00    NaN    NaN    NaN  ...     NaN     NaN     NaN     NaN   \n",
       "2018-03-01 02:00:00    NaN    NaN    NaN  ...     NaN     NaN     NaN     NaN   \n",
       "2018-03-01 03:00:00    NaN    NaN    NaN  ...     NaN     NaN     NaN     NaN   \n",
       "2018-03-01 04:00:00    NaN    NaN    NaN  ...     NaN     NaN     NaN     NaN   \n",
       "2018-03-01 05:00:00  124.0    NaN    NaN  ...     NaN     NaN     NaN     NaN   \n",
       "2018-03-01 06:00:00   85.0  124.0    NaN  ...     NaN     NaN     NaN     NaN   \n",
       "2018-03-01 07:00:00   71.0   85.0  124.0  ...     NaN     NaN     NaN     NaN   \n",
       "2018-03-01 08:00:00   66.0   71.0   85.0  ...     NaN     NaN     NaN     NaN   \n",
       "2018-03-01 09:00:00   43.0   66.0   71.0  ...     NaN     NaN     NaN     NaN   \n",
       "2018-03-01 10:00:00    6.0   43.0   66.0  ...     NaN     NaN     NaN     NaN   \n",
       "2018-03-01 11:00:00   12.0    6.0   43.0  ...     NaN     NaN     NaN     NaN   \n",
       "2018-03-01 12:00:00   15.0   12.0    6.0  ...     NaN     NaN     NaN     NaN   \n",
       "2018-03-01 13:00:00   34.0   15.0   12.0  ...     NaN     NaN     NaN     NaN   \n",
       "2018-03-01 14:00:00   69.0   34.0   15.0  ...     NaN     NaN     NaN     NaN   \n",
       "2018-03-01 15:00:00   64.0   69.0   34.0  ...     NaN     NaN     NaN     NaN   \n",
       "2018-03-01 16:00:00   96.0   64.0   69.0  ...     NaN     NaN     NaN     NaN   \n",
       "2018-03-01 17:00:00   30.0   96.0   64.0  ...     NaN     NaN     NaN     NaN   \n",
       "2018-03-01 18:00:00   32.0   30.0   96.0  ...     NaN     NaN     NaN     NaN   \n",
       "2018-03-01 19:00:00   48.0   32.0   30.0  ...     NaN     NaN     NaN     NaN   \n",
       "2018-03-01 20:00:00   66.0   48.0   32.0  ...     NaN     NaN     NaN     NaN   \n",
       "2018-03-01 21:00:00   43.0   66.0   48.0  ...     NaN     NaN     NaN     NaN   \n",
       "2018-03-01 22:00:00   44.0   43.0   66.0  ...     NaN     NaN     NaN     NaN   \n",
       "2018-03-01 23:00:00   73.0   44.0   43.0  ...     NaN     NaN     NaN     NaN   \n",
       "2018-03-02 00:00:00   45.0   73.0   44.0  ...     NaN     NaN     NaN     NaN   \n",
       "\n",
       "                     lag_44  lag_45  lag_46  lag_47  lag_48  rolling_mean  \n",
       "datetime                                                                   \n",
       "2018-03-01 00:00:00     NaN     NaN     NaN     NaN     NaN           NaN  \n",
       "2018-03-01 01:00:00     NaN     NaN     NaN     NaN     NaN           NaN  \n",
       "2018-03-01 02:00:00     NaN     NaN     NaN     NaN     NaN           NaN  \n",
       "2018-03-01 03:00:00     NaN     NaN     NaN     NaN     NaN           NaN  \n",
       "2018-03-01 04:00:00     NaN     NaN     NaN     NaN     NaN           NaN  \n",
       "2018-03-01 05:00:00     NaN     NaN     NaN     NaN     NaN           NaN  \n",
       "2018-03-01 06:00:00     NaN     NaN     NaN     NaN     NaN           NaN  \n",
       "2018-03-01 07:00:00     NaN     NaN     NaN     NaN     NaN           NaN  \n",
       "2018-03-01 08:00:00     NaN     NaN     NaN     NaN     NaN           NaN  \n",
       "2018-03-01 09:00:00     NaN     NaN     NaN     NaN     NaN           NaN  \n",
       "2018-03-01 10:00:00     NaN     NaN     NaN     NaN     NaN           NaN  \n",
       "2018-03-01 11:00:00     NaN     NaN     NaN     NaN     NaN           NaN  \n",
       "2018-03-01 12:00:00     NaN     NaN     NaN     NaN     NaN           NaN  \n",
       "2018-03-01 13:00:00     NaN     NaN     NaN     NaN     NaN           NaN  \n",
       "2018-03-01 14:00:00     NaN     NaN     NaN     NaN     NaN           NaN  \n",
       "2018-03-01 15:00:00     NaN     NaN     NaN     NaN     NaN           NaN  \n",
       "2018-03-01 16:00:00     NaN     NaN     NaN     NaN     NaN           NaN  \n",
       "2018-03-01 17:00:00     NaN     NaN     NaN     NaN     NaN           NaN  \n",
       "2018-03-01 18:00:00     NaN     NaN     NaN     NaN     NaN           NaN  \n",
       "2018-03-01 19:00:00     NaN     NaN     NaN     NaN     NaN           NaN  \n",
       "2018-03-01 20:00:00     NaN     NaN     NaN     NaN     NaN           NaN  \n",
       "2018-03-01 21:00:00     NaN     NaN     NaN     NaN     NaN           NaN  \n",
       "2018-03-01 22:00:00     NaN     NaN     NaN     NaN     NaN           NaN  \n",
       "2018-03-01 23:00:00     NaN     NaN     NaN     NaN     NaN           NaN  \n",
       "2018-03-02 00:00:00     NaN     NaN     NaN     NaN     NaN     56.833333  \n",
       "\n",
       "[25 rows x 52 columns]"
      ]
     },
     "execution_count": 15,
     "metadata": {},
     "output_type": "execute_result"
    }
   ],
   "source": [
    "df.head(25)"
   ]
  },
  {
   "cell_type": "markdown",
   "metadata": {},
   "source": [
    "<div style=\"border-radius: 15px; border: 1px solid grey; padding: 15px;\">\n",
    "При формировании признаков образовались пропуски в первых 24 строках фрейма, данных у нас достаточно много, поэтому просто отбросим строки с пропусками.\n",
    "</div>"
   ]
  },
  {
   "cell_type": "code",
   "execution_count": 16,
   "metadata": {},
   "outputs": [],
   "source": [
    "df = df.dropna()"
   ]
  },
  {
   "cell_type": "markdown",
   "metadata": {},
   "source": [
    "<div style=\"border-radius: 15px; border: 1px solid grey; padding: 15px;\">\n",
    "Разделим фрейм на обучающую и тестовые выборки в соотношении 9:1. Важно убрать перемешивание из функции разделения.\n",
    "</div>"
   ]
  },
  {
   "cell_type": "code",
   "execution_count": 17,
   "metadata": {},
   "outputs": [],
   "source": [
    "train, test = train_test_split(df, shuffle=False, test_size=0.10)"
   ]
  },
  {
   "cell_type": "code",
   "execution_count": 18,
   "metadata": {},
   "outputs": [
    {
     "name": "stdout",
     "output_type": "stream",
     "text": [
      "Train: 2018-03-03 00:00:00 2018-08-13 18:00:00\n",
      "Test:  2018-08-13 19:00:00 2018-08-31 23:00:00\n"
     ]
    }
   ],
   "source": [
    "print('Train:', train.index.min(), train.index.max())\n",
    "print('Test: ', test.index.min(), test.index.max())"
   ]
  },
  {
   "cell_type": "markdown",
   "metadata": {},
   "source": [
    "<div style=\"border-radius: 15px; border: 1px solid grey; padding: 15px;\">\n",
    "Выборки не пересекаются, теперь разобьем подвыбокри на признаки и целевой признак.\n",
    "</div>"
   ]
  },
  {
   "cell_type": "code",
   "execution_count": 19,
   "metadata": {},
   "outputs": [],
   "source": [
    "features_train = train.drop(['num_orders'], axis=1)\n",
    "target_train = train['num_orders']"
   ]
  },
  {
   "cell_type": "code",
   "execution_count": 20,
   "metadata": {},
   "outputs": [],
   "source": [
    "features_test = test.drop(['num_orders'], axis=1)\n",
    "target_test = test['num_orders']"
   ]
  },
  {
   "cell_type": "markdown",
   "metadata": {},
   "source": [
    "<div style=\"border-radius: 15px; border: 1px solid grey; padding: 15px;\">\n",
    "Выборки подготовлены, можем переходить к обучению моделей.\n",
    "</div>"
   ]
  },
  {
   "cell_type": "markdown",
   "metadata": {},
   "source": [
    "### Linear Regression"
   ]
  },
  {
   "cell_type": "markdown",
   "metadata": {},
   "source": [
    "<div style=\"border-radius: 15px; border: 1px solid grey; padding: 15px;\">\n",
    "\n",
    "Создадим и обучим модель Линейной регрессии, мертикой качества у нас выступает RMSE, корень из среднеквадратичной ошибки, показывается непосредственно в количестве заказов.\n",
    "</div>\n"
   ]
  },
  {
   "cell_type": "code",
   "execution_count": 21,
   "metadata": {},
   "outputs": [
    {
     "data": {
      "text/plain": [
       "LinearRegression(copy_X=True, fit_intercept=True, n_jobs=None, normalize=False)"
      ]
     },
     "execution_count": 21,
     "metadata": {},
     "output_type": "execute_result"
    }
   ],
   "source": [
    "lr_model = LinearRegression()\n",
    "lr_model.fit(features_train, target_train)"
   ]
  },
  {
   "cell_type": "code",
   "execution_count": 22,
   "metadata": {},
   "outputs": [],
   "source": [
    "lr_pred = lr_model.predict(features_train)"
   ]
  },
  {
   "cell_type": "code",
   "execution_count": 23,
   "metadata": {},
   "outputs": [
    {
     "name": "stdout",
     "output_type": "stream",
     "text": [
      "RMSE Линейной регрессии обучающей выборки: 23.448938177689516\n"
     ]
    }
   ],
   "source": [
    "print(\"RMSE Линейной регрессии обучающей выборки:\", mean_squared_error(target_train, lr_pred) ** 0.5)"
   ]
  },
  {
   "cell_type": "markdown",
   "metadata": {},
   "source": [
    "<div style=\"border-radius: 15px; border: 1px solid grey; padding: 15px;\">\n",
    "RMSE на обучающей выборке не показатель, отдельно в дальнейшем измерим нашу метрику на тестовой выборке. \n",
    "</div>"
   ]
  },
  {
   "cell_type": "markdown",
   "metadata": {},
   "source": [
    "### Random Forest Regressor"
   ]
  },
  {
   "cell_type": "markdown",
   "metadata": {},
   "source": [
    "<div style=\"border-radius: 15px; border: 1px solid grey; padding: 15px;\">\n",
    "Следующей идет модель случайного леса. Для этого нам понадобится валидационная выборка.\n",
    "</div>"
   ]
  },
  {
   "cell_type": "code",
   "execution_count": 24,
   "metadata": {},
   "outputs": [],
   "source": [
    "rfgb_features_train, rfgb_features_valid = train_test_split(features_train, shuffle=False, test_size=0.10)\n",
    "rfgb_target_train, rfgb_target_valid = train_test_split(target_train, shuffle=False, test_size=0.10)"
   ]
  },
  {
   "cell_type": "markdown",
   "metadata": {},
   "source": [
    "<div style=\"border-radius: 15px; border: 1px solid grey; padding: 15px;\">\n",
    "Ниже код, котрорый использовался для поиска оптимальных гиперпараметров.\n",
    "</div>"
   ]
  },
  {
   "cell_type": "code",
   "execution_count": 25,
   "metadata": {},
   "outputs": [],
   "source": [
    "#%%time\n",
    "#rf_best_model = None\n",
    "#rf_rmse_best = 10000000\n",
    "#rf_best_depth = 0\n",
    "#rf_best_est = 0\n",
    "#for est in range(30, 121, 10):\n",
    "#    for depth in range(2, 14, 1):\n",
    "#        rf_model = RandomForestRegressor(n_estimators=est, max_depth=depth, random_state=12345)\n",
    "#        rf_model.fit(rfgb_features_train, rfgb_target_train)\n",
    "#        rf_prediction = rf_model.predict(rfgb_features_valid)\n",
    "#        rf_rmse = mean_squared_error(rfgb_target_valid, rf_prediction) ** 0.5\n",
    "#        if rf_rmse < rf_rmse_best:\n",
    "#            rf_best_model = rf_model\n",
    "#            rf_rmse_best = rf_rmse\n",
    "#            rf_best_depth = depth\n",
    "#            rf_best_est = est\n",
    "#        \n",
    "#\n",
    "#print(' RMSE =', rf_rmse_best, '\\n', 'Количество деревьев =', rf_best_est, '\\n', \"Максимальная глубина:\", rf_best_depth)"
   ]
  },
  {
   "cell_type": "markdown",
   "metadata": {},
   "source": [
    "<div style=\"border-radius: 15px; border: 1px solid grey; padding: 15px;\">\n",
    "Используем полученные параметры для обучения модели.\n",
    "</div>"
   ]
  },
  {
   "cell_type": "code",
   "execution_count": 26,
   "metadata": {},
   "outputs": [],
   "source": [
    "rf_model = RandomForestRegressor(n_estimators=80, max_depth=5, random_state=12345)"
   ]
  },
  {
   "cell_type": "code",
   "execution_count": 27,
   "metadata": {},
   "outputs": [
    {
     "name": "stdout",
     "output_type": "stream",
     "text": [
      "CPU times: user 3.39 s, sys: 0 ns, total: 3.39 s\n",
      "Wall time: 3.41 s\n"
     ]
    },
    {
     "data": {
      "text/plain": [
       "RandomForestRegressor(bootstrap=True, criterion='mse', max_depth=5,\n",
       "                      max_features='auto', max_leaf_nodes=None,\n",
       "                      min_impurity_decrease=0.0, min_impurity_split=None,\n",
       "                      min_samples_leaf=1, min_samples_split=2,\n",
       "                      min_weight_fraction_leaf=0.0, n_estimators=80,\n",
       "                      n_jobs=None, oob_score=False, random_state=12345,\n",
       "                      verbose=0, warm_start=False)"
      ]
     },
     "execution_count": 27,
     "metadata": {},
     "output_type": "execute_result"
    }
   ],
   "source": [
    "%%time \n",
    "rf_model.fit(features_train, target_train)"
   ]
  },
  {
   "cell_type": "code",
   "execution_count": 28,
   "metadata": {},
   "outputs": [
    {
     "name": "stdout",
     "output_type": "stream",
     "text": [
      "RMSE обучающей выборки: 22.14970631213338\n"
     ]
    }
   ],
   "source": [
    "rf_pred = rf_model.predict(features_train)\n",
    "\n",
    "print(\"RMSE обучающей выборки:\", mean_squared_error(target_train, rf_pred) ** 0.5)"
   ]
  },
  {
   "cell_type": "markdown",
   "metadata": {},
   "source": [
    "<div style=\"border-radius: 15px; border: 1px solid grey; padding: 15px;\">\n",
    "Опять же значение RMSE на обучающих данных не показательны, далее проверим модель на тестовой выборке.\n",
    "</div>"
   ]
  },
  {
   "cell_type": "markdown",
   "metadata": {},
   "source": [
    "### ARIMA"
   ]
  },
  {
   "cell_type": "markdown",
   "metadata": {},
   "source": [
    "<div style=\"border-radius: 15px; border: 1px solid grey; padding: 15px;\">\n",
    "Попробуем обучить модель ARIMA, она работает непомредственно с датами и целевым признаком, созданные нами признаки не будут использоваться с в на этом шаге.\n",
    "    \n",
    "Так же мы будем прогнозировать каждое значение для тестовой выборки отдельно и после каждого прогноза будем переобучать модель с добавлением настоящего значения ранее предсказанного времени.\n",
    "</div>"
   ]
  },
  {
   "cell_type": "code",
   "execution_count": 29,
   "metadata": {
    "scrolled": false
   },
   "outputs": [
    {
     "name": "stderr",
     "output_type": "stream",
     "text": [
      "/opt/conda/lib/python3.7/site-packages/statsmodels/base/model.py:512: ConvergenceWarning: Maximum Likelihood optimization failed to converge. Check mle_retvals\n",
      "  \"Check mle_retvals\", ConvergenceWarning)\n"
     ]
    },
    {
     "name": "stdout",
     "output_type": "stream",
     "text": [
      "CPU times: user 1min 53s, sys: 30.5 ms, total: 1min 53s\n",
      "Wall time: 1min 53s\n"
     ]
    }
   ],
   "source": [
    "%%time\n",
    "history = [x for x in target_train]\n",
    "predictions = list()\n",
    "counter = 0\n",
    "\n",
    "for t in range(len(target_test)):\n",
    "    counter += 1\n",
    "    model = ARIMA(history, order=(4, 1, 0))\n",
    "    model_fit = model.fit()\n",
    "    output = model_fit.forecast()\n",
    "    yhat = output[0]\n",
    "    predictions.append(yhat)\n",
    "    obs = target_test[t]\n",
    "    history.append(obs)\n",
    "    #print(counter, 'predicted=%f, expected=%f' % (yhat, obs))"
   ]
  },
  {
   "cell_type": "markdown",
   "metadata": {},
   "source": [
    "<div style=\"border-radius: 15px; border: 1px solid grey; padding: 15px;\">\n",
    "Вероятно существуют более оптимальные гиперпараметры, но в условиях ограниченных ресурсов были выбраны именно такие: 4 - количество предыдущих часов учитывающихся моделью, 1 - количество итераций по приведения ряда к стационарному, 0 - окно расчета среднего. Опять же проверим RMSE на тестовой выборке позднее.\n",
    "</div>"
   ]
  },
  {
   "cell_type": "markdown",
   "metadata": {},
   "source": [
    "### GB"
   ]
  },
  {
   "cell_type": "markdown",
   "metadata": {},
   "source": [
    "<div style=\"border-radius: 15px; border: 1px solid grey; padding: 15px;\">\n",
    "Любопытства ради в наше исследование попадает модель Градиентного бустинга, а именно LightGBM.\n",
    "</div>"
   ]
  },
  {
   "cell_type": "code",
   "execution_count": 30,
   "metadata": {},
   "outputs": [],
   "source": [
    "params = {\n",
    "    'boosting_type': 'dart',\n",
    "    'objective': 'regression',\n",
    "    'max_depth': 8,\n",
    "    'strategy': 'recursive',\n",
    "    'metric': 'rmse',\n",
    "    'learning_rate': 0.05,\n",
    "    \"n_estimators\": 500\n",
    "}"
   ]
  },
  {
   "cell_type": "markdown",
   "metadata": {},
   "source": [
    "<div style=\"border-radius: 15px; border: 1px solid grey; padding: 15px;\">\n",
    "Параметры определены ручным подбором.\n",
    "</div>"
   ]
  },
  {
   "cell_type": "code",
   "execution_count": 31,
   "metadata": {},
   "outputs": [],
   "source": [
    "gb_model = lgb.LGBMRegressor(**params)"
   ]
  },
  {
   "cell_type": "code",
   "execution_count": 32,
   "metadata": {},
   "outputs": [
    {
     "name": "stdout",
     "output_type": "stream",
     "text": [
      "[1]\tvalid_0's rmse: 56.3289\n",
      "[2]\tvalid_0's rmse: 54.7807\n",
      "[3]\tvalid_0's rmse: 53.4718\n",
      "[4]\tvalid_0's rmse: 52.1945\n",
      "[5]\tvalid_0's rmse: 51.0139\n",
      "[6]\tvalid_0's rmse: 49.804\n",
      "[7]\tvalid_0's rmse: 48.6378\n"
     ]
    },
    {
     "name": "stderr",
     "output_type": "stream",
     "text": [
      "/opt/conda/lib/python3.7/site-packages/lightgbm/callback.py:188: UserWarning: Early stopping is not available in dart mode\n",
      "  warnings.warn('Early stopping is not available in dart mode')\n"
     ]
    },
    {
     "name": "stdout",
     "output_type": "stream",
     "text": [
      "[8]\tvalid_0's rmse: 49.1086\n",
      "[9]\tvalid_0's rmse: 48.0578\n",
      "[10]\tvalid_0's rmse: 47.1317\n",
      "[11]\tvalid_0's rmse: 46.1549\n",
      "[12]\tvalid_0's rmse: 46.4929\n",
      "[13]\tvalid_0's rmse: 45.5927\n",
      "[14]\tvalid_0's rmse: 44.6651\n",
      "[15]\tvalid_0's rmse: 43.8457\n",
      "[16]\tvalid_0's rmse: 43.0825\n",
      "[17]\tvalid_0's rmse: 42.4111\n",
      "[18]\tvalid_0's rmse: 41.8468\n",
      "[19]\tvalid_0's rmse: 41.2806\n",
      "[20]\tvalid_0's rmse: 40.6767\n",
      "[21]\tvalid_0's rmse: 40.8556\n",
      "[22]\tvalid_0's rmse: 40.262\n",
      "[23]\tvalid_0's rmse: 39.6969\n",
      "[24]\tvalid_0's rmse: 39.2226\n",
      "[25]\tvalid_0's rmse: 38.7695\n",
      "[26]\tvalid_0's rmse: 38.3717\n",
      "[27]\tvalid_0's rmse: 38.0153\n",
      "[28]\tvalid_0's rmse: 38.2512\n",
      "[29]\tvalid_0's rmse: 37.808\n",
      "[30]\tvalid_0's rmse: 37.4297\n",
      "[31]\tvalid_0's rmse: 37.577\n",
      "[32]\tvalid_0's rmse: 37.2177\n",
      "[33]\tvalid_0's rmse: 36.8553\n",
      "[34]\tvalid_0's rmse: 36.5848\n",
      "[35]\tvalid_0's rmse: 36.8047\n",
      "[36]\tvalid_0's rmse: 37.2013\n",
      "[37]\tvalid_0's rmse: 36.8751\n",
      "[38]\tvalid_0's rmse: 36.5709\n",
      "[39]\tvalid_0's rmse: 36.2882\n",
      "[40]\tvalid_0's rmse: 36.2817\n",
      "[41]\tvalid_0's rmse: 36.5329\n",
      "[42]\tvalid_0's rmse: 36.2381\n",
      "[43]\tvalid_0's rmse: 36.4572\n",
      "[44]\tvalid_0's rmse: 36.1843\n",
      "[45]\tvalid_0's rmse: 35.9132\n",
      "[46]\tvalid_0's rmse: 40.4895\n",
      "[47]\tvalid_0's rmse: 39.9129\n",
      "[48]\tvalid_0's rmse: 39.8722\n",
      "[49]\tvalid_0's rmse: 40.1493\n",
      "[50]\tvalid_0's rmse: 40.4783\n",
      "[51]\tvalid_0's rmse: 39.8959\n",
      "[52]\tvalid_0's rmse: 39.3831\n",
      "[53]\tvalid_0's rmse: 39.6869\n",
      "[54]\tvalid_0's rmse: 39.1426\n",
      "[55]\tvalid_0's rmse: 38.6495\n",
      "[56]\tvalid_0's rmse: 38.9674\n",
      "[57]\tvalid_0's rmse: 38.4945\n",
      "[58]\tvalid_0's rmse: 44.0419\n",
      "[59]\tvalid_0's rmse: 44.3969\n",
      "[60]\tvalid_0's rmse: 43.6213\n",
      "[61]\tvalid_0's rmse: 49.1378\n",
      "[62]\tvalid_0's rmse: 48.0607\n",
      "[63]\tvalid_0's rmse: 46.9665\n",
      "[64]\tvalid_0's rmse: 47.1142\n",
      "[65]\tvalid_0's rmse: 47.361\n",
      "[66]\tvalid_0's rmse: 46.2405\n",
      "[67]\tvalid_0's rmse: 45.2522\n",
      "[68]\tvalid_0's rmse: 44.332\n",
      "[69]\tvalid_0's rmse: 44.5579\n",
      "[70]\tvalid_0's rmse: 44.6318\n",
      "[71]\tvalid_0's rmse: 44.8253\n",
      "[72]\tvalid_0's rmse: 43.9474\n",
      "[73]\tvalid_0's rmse: 43.1886\n",
      "[74]\tvalid_0's rmse: 43.3962\n",
      "[75]\tvalid_0's rmse: 42.5779\n",
      "[76]\tvalid_0's rmse: 42.6313\n",
      "[77]\tvalid_0's rmse: 42.8102\n",
      "[78]\tvalid_0's rmse: 43.0741\n",
      "[79]\tvalid_0's rmse: 42.2627\n",
      "[80]\tvalid_0's rmse: 41.5494\n",
      "[81]\tvalid_0's rmse: 41.8317\n",
      "[82]\tvalid_0's rmse: 41.1099\n",
      "[83]\tvalid_0's rmse: 41.4364\n",
      "[84]\tvalid_0's rmse: 41.6647\n",
      "[85]\tvalid_0's rmse: 42.0056\n",
      "[86]\tvalid_0's rmse: 41.2945\n",
      "[87]\tvalid_0's rmse: 40.6465\n",
      "[88]\tvalid_0's rmse: 40.9953\n",
      "[89]\tvalid_0's rmse: 41.1538\n",
      "[90]\tvalid_0's rmse: 41.4536\n",
      "[91]\tvalid_0's rmse: 45.8938\n",
      "[92]\tvalid_0's rmse: 45.0203\n",
      "[93]\tvalid_0's rmse: 44.098\n",
      "[94]\tvalid_0's rmse: 44.4646\n",
      "[95]\tvalid_0's rmse: 44.7064\n",
      "[96]\tvalid_0's rmse: 45.0033\n",
      "[97]\tvalid_0's rmse: 44.0523\n",
      "[98]\tvalid_0's rmse: 44.2863\n",
      "[99]\tvalid_0's rmse: 43.4423\n",
      "[100]\tvalid_0's rmse: 42.6674\n",
      "[101]\tvalid_0's rmse: 44.9301\n",
      "[102]\tvalid_0's rmse: 45.2388\n",
      "[103]\tvalid_0's rmse: 45.5899\n",
      "[104]\tvalid_0's rmse: 44.5248\n",
      "[105]\tvalid_0's rmse: 46.6126\n",
      "[106]\tvalid_0's rmse: 46.9289\n",
      "[107]\tvalid_0's rmse: 47.3176\n",
      "[108]\tvalid_0's rmse: 46.2052\n",
      "[109]\tvalid_0's rmse: 46.4733\n",
      "[110]\tvalid_0's rmse: 46.7707\n",
      "[111]\tvalid_0's rmse: 45.735\n",
      "[112]\tvalid_0's rmse: 44.8167\n",
      "[113]\tvalid_0's rmse: 43.9241\n",
      "[114]\tvalid_0's rmse: 43.109\n",
      "[115]\tvalid_0's rmse: 42.3251\n",
      "[116]\tvalid_0's rmse: 41.5662\n",
      "[117]\tvalid_0's rmse: 41.8319\n",
      "[118]\tvalid_0's rmse: 41.1441\n",
      "[119]\tvalid_0's rmse: 41.404\n",
      "[120]\tvalid_0's rmse: 41.7427\n",
      "[121]\tvalid_0's rmse: 42.0366\n",
      "[122]\tvalid_0's rmse: 42.3825\n",
      "[123]\tvalid_0's rmse: 41.5502\n",
      "[124]\tvalid_0's rmse: 40.8503\n",
      "[125]\tvalid_0's rmse: 41.114\n",
      "[126]\tvalid_0's rmse: 41.384\n",
      "[127]\tvalid_0's rmse: 40.7429\n",
      "[128]\tvalid_0's rmse: 41.0446\n",
      "[129]\tvalid_0's rmse: 40.3983\n",
      "[130]\tvalid_0's rmse: 39.7725\n",
      "[131]\tvalid_0's rmse: 40.0694\n",
      "[132]\tvalid_0's rmse: 39.4143\n",
      "[133]\tvalid_0's rmse: 38.8927\n",
      "[134]\tvalid_0's rmse: 40.4967\n",
      "[135]\tvalid_0's rmse: 39.8954\n",
      "[136]\tvalid_0's rmse: 42.0549\n",
      "[137]\tvalid_0's rmse: 42.3856\n",
      "[138]\tvalid_0's rmse: 41.6421\n",
      "[139]\tvalid_0's rmse: 40.906\n",
      "[140]\tvalid_0's rmse: 41.2839\n",
      "[141]\tvalid_0's rmse: 41.5783\n",
      "[142]\tvalid_0's rmse: 41.8892\n",
      "[143]\tvalid_0's rmse: 41.1672\n",
      "[144]\tvalid_0's rmse: 41.4152\n",
      "[145]\tvalid_0's rmse: 40.6893\n",
      "[146]\tvalid_0's rmse: 41.0686\n",
      "[147]\tvalid_0's rmse: 41.4228\n",
      "[148]\tvalid_0's rmse: 41.7815\n",
      "[149]\tvalid_0's rmse: 41.0026\n",
      "[150]\tvalid_0's rmse: 40.3827\n",
      "[151]\tvalid_0's rmse: 41.541\n",
      "[152]\tvalid_0's rmse: 42.7988\n",
      "[153]\tvalid_0's rmse: 42.0245\n",
      "[154]\tvalid_0's rmse: 42.282\n",
      "[155]\tvalid_0's rmse: 41.5758\n",
      "[156]\tvalid_0's rmse: 41.9551\n",
      "[157]\tvalid_0's rmse: 42.1671\n",
      "[158]\tvalid_0's rmse: 42.5336\n",
      "[159]\tvalid_0's rmse: 42.8947\n",
      "[160]\tvalid_0's rmse: 43.2288\n",
      "[161]\tvalid_0's rmse: 42.4892\n",
      "[162]\tvalid_0's rmse: 42.7192\n",
      "[163]\tvalid_0's rmse: 41.936\n",
      "[164]\tvalid_0's rmse: 41.2433\n",
      "[165]\tvalid_0's rmse: 40.5566\n",
      "[166]\tvalid_0's rmse: 39.9064\n",
      "[167]\tvalid_0's rmse: 39.2578\n",
      "[168]\tvalid_0's rmse: 38.6966\n",
      "[169]\tvalid_0's rmse: 38.1572\n",
      "[170]\tvalid_0's rmse: 39.1347\n",
      "[171]\tvalid_0's rmse: 38.5752\n",
      "[172]\tvalid_0's rmse: 39.5453\n",
      "[173]\tvalid_0's rmse: 38.9732\n",
      "[174]\tvalid_0's rmse: 38.4334\n",
      "[175]\tvalid_0's rmse: 37.9534\n",
      "[176]\tvalid_0's rmse: 38.2116\n",
      "[177]\tvalid_0's rmse: 38.5087\n",
      "[178]\tvalid_0's rmse: 38.7895\n",
      "[179]\tvalid_0's rmse: 38.3045\n",
      "[180]\tvalid_0's rmse: 38.5757\n",
      "[181]\tvalid_0's rmse: 38.0952\n",
      "[182]\tvalid_0's rmse: 37.6386\n",
      "[183]\tvalid_0's rmse: 37.1529\n",
      "[184]\tvalid_0's rmse: 36.7571\n",
      "[185]\tvalid_0's rmse: 37.0933\n",
      "[186]\tvalid_0's rmse: 36.7163\n",
      "[187]\tvalid_0's rmse: 36.3662\n",
      "[188]\tvalid_0's rmse: 36.0489\n",
      "[189]\tvalid_0's rmse: 36.323\n",
      "[190]\tvalid_0's rmse: 36.5946\n",
      "[191]\tvalid_0's rmse: 36.1878\n",
      "[192]\tvalid_0's rmse: 35.8505\n",
      "[193]\tvalid_0's rmse: 35.5068\n",
      "[194]\tvalid_0's rmse: 35.7548\n",
      "[195]\tvalid_0's rmse: 35.9833\n",
      "[196]\tvalid_0's rmse: 35.6679\n",
      "[197]\tvalid_0's rmse: 35.849\n",
      "[198]\tvalid_0's rmse: 36.095\n",
      "[199]\tvalid_0's rmse: 35.7708\n",
      "[200]\tvalid_0's rmse: 36.069\n",
      "[201]\tvalid_0's rmse: 36.3375\n",
      "[202]\tvalid_0's rmse: 36.6159\n",
      "[203]\tvalid_0's rmse: 36.2238\n",
      "[204]\tvalid_0's rmse: 36.4451\n",
      "[205]\tvalid_0's rmse: 37.2886\n",
      "[206]\tvalid_0's rmse: 36.8398\n",
      "[207]\tvalid_0's rmse: 37.0882\n",
      "[208]\tvalid_0's rmse: 36.7005\n",
      "[209]\tvalid_0's rmse: 36.9759\n",
      "[210]\tvalid_0's rmse: 37.2126\n",
      "[211]\tvalid_0's rmse: 37.4706\n",
      "[212]\tvalid_0's rmse: 37.0694\n",
      "[213]\tvalid_0's rmse: 36.6783\n",
      "[214]\tvalid_0's rmse: 36.305\n",
      "[215]\tvalid_0's rmse: 35.9613\n",
      "[216]\tvalid_0's rmse: 36.2068\n",
      "[217]\tvalid_0's rmse: 35.8818\n",
      "[218]\tvalid_0's rmse: 35.5741\n",
      "[219]\tvalid_0's rmse: 36.23\n",
      "[220]\tvalid_0's rmse: 35.9053\n",
      "[221]\tvalid_0's rmse: 36.1434\n",
      "[222]\tvalid_0's rmse: 35.8188\n",
      "[223]\tvalid_0's rmse: 35.48\n",
      "[224]\tvalid_0's rmse: 35.7278\n",
      "[225]\tvalid_0's rmse: 36.0091\n",
      "[226]\tvalid_0's rmse: 36.2333\n",
      "[227]\tvalid_0's rmse: 36.4065\n",
      "[228]\tvalid_0's rmse: 36.0391\n",
      "[229]\tvalid_0's rmse: 36.2616\n",
      "[230]\tvalid_0's rmse: 35.9089\n",
      "[231]\tvalid_0's rmse: 35.5675\n",
      "[232]\tvalid_0's rmse: 35.2704\n",
      "[233]\tvalid_0's rmse: 35.4833\n",
      "[234]\tvalid_0's rmse: 35.2097\n",
      "[235]\tvalid_0's rmse: 35.435\n",
      "[236]\tvalid_0's rmse: 35.1243\n",
      "[237]\tvalid_0's rmse: 34.8793\n",
      "[238]\tvalid_0's rmse: 34.6518\n",
      "[239]\tvalid_0's rmse: 34.4253\n",
      "[240]\tvalid_0's rmse: 34.2191\n",
      "[241]\tvalid_0's rmse: 34.4387\n",
      "[242]\tvalid_0's rmse: 34.2112\n",
      "[243]\tvalid_0's rmse: 34.4219\n",
      "[244]\tvalid_0's rmse: 34.9556\n",
      "[245]\tvalid_0's rmse: 34.7045\n",
      "[246]\tvalid_0's rmse: 34.4767\n",
      "[247]\tvalid_0's rmse: 34.2097\n",
      "[248]\tvalid_0's rmse: 34.4266\n",
      "[249]\tvalid_0's rmse: 34.6114\n",
      "[250]\tvalid_0's rmse: 34.3584\n",
      "[251]\tvalid_0's rmse: 34.5651\n",
      "[252]\tvalid_0's rmse: 34.753\n",
      "[253]\tvalid_0's rmse: 34.5013\n",
      "[254]\tvalid_0's rmse: 34.2618\n",
      "[255]\tvalid_0's rmse: 34.0459\n",
      "[256]\tvalid_0's rmse: 33.8652\n",
      "[257]\tvalid_0's rmse: 33.6948\n",
      "[258]\tvalid_0's rmse: 33.51\n",
      "[259]\tvalid_0's rmse: 33.7005\n",
      "[260]\tvalid_0's rmse: 33.8967\n",
      "[261]\tvalid_0's rmse: 34.0897\n",
      "[262]\tvalid_0's rmse: 33.87\n",
      "[263]\tvalid_0's rmse: 33.6565\n",
      "[264]\tvalid_0's rmse: 33.471\n",
      "[265]\tvalid_0's rmse: 33.2749\n",
      "[266]\tvalid_0's rmse: 33.1273\n",
      "[267]\tvalid_0's rmse: 33.297\n",
      "[268]\tvalid_0's rmse: 33.1124\n",
      "[269]\tvalid_0's rmse: 33.2981\n",
      "[270]\tvalid_0's rmse: 33.1437\n",
      "[271]\tvalid_0's rmse: 33.316\n",
      "[272]\tvalid_0's rmse: 33.127\n",
      "[273]\tvalid_0's rmse: 32.9908\n",
      "[274]\tvalid_0's rmse: 33.1333\n",
      "[275]\tvalid_0's rmse: 32.9706\n",
      "[276]\tvalid_0's rmse: 33.1386\n",
      "[277]\tvalid_0's rmse: 32.9961\n",
      "[278]\tvalid_0's rmse: 33.1458\n",
      "[279]\tvalid_0's rmse: 32.9749\n",
      "[280]\tvalid_0's rmse: 33.1402\n",
      "[281]\tvalid_0's rmse: 33.5768\n",
      "[282]\tvalid_0's rmse: 33.3669\n",
      "[283]\tvalid_0's rmse: 33.5301\n",
      "[284]\tvalid_0's rmse: 33.3418\n",
      "[285]\tvalid_0's rmse: 33.1793\n",
      "[286]\tvalid_0's rmse: 33.0271\n",
      "[287]\tvalid_0's rmse: 32.8737\n",
      "[288]\tvalid_0's rmse: 33.0415\n",
      "[289]\tvalid_0's rmse: 32.8945\n",
      "[290]\tvalid_0's rmse: 32.753\n",
      "[291]\tvalid_0's rmse: 32.6362\n",
      "[292]\tvalid_0's rmse: 32.7958\n",
      "[293]\tvalid_0's rmse: 32.9404\n",
      "[294]\tvalid_0's rmse: 32.7672\n",
      "[295]\tvalid_0's rmse: 32.917\n",
      "[296]\tvalid_0's rmse: 33.062\n",
      "[297]\tvalid_0's rmse: 32.8758\n",
      "[298]\tvalid_0's rmse: 33.0208\n",
      "[299]\tvalid_0's rmse: 32.8617\n",
      "[300]\tvalid_0's rmse: 32.9958\n",
      "[301]\tvalid_0's rmse: 33.3315\n",
      "[302]\tvalid_0's rmse: 33.1312\n",
      "[303]\tvalid_0's rmse: 33.2868\n",
      "[304]\tvalid_0's rmse: 33.4514\n",
      "[305]\tvalid_0's rmse: 33.6217\n",
      "[306]\tvalid_0's rmse: 33.7699\n",
      "[307]\tvalid_0's rmse: 33.9256\n",
      "[308]\tvalid_0's rmse: 33.7013\n",
      "[309]\tvalid_0's rmse: 33.8659\n",
      "[310]\tvalid_0's rmse: 33.6118\n",
      "[311]\tvalid_0's rmse: 33.45\n",
      "[312]\tvalid_0's rmse: 33.2581\n",
      "[313]\tvalid_0's rmse: 33.1356\n",
      "[314]\tvalid_0's rmse: 33.4855\n",
      "[315]\tvalid_0's rmse: 33.6412\n",
      "[316]\tvalid_0's rmse: 33.3839\n",
      "[317]\tvalid_0's rmse: 33.1987\n",
      "[318]\tvalid_0's rmse: 33.0373\n",
      "[319]\tvalid_0's rmse: 33.1844\n",
      "[320]\tvalid_0's rmse: 32.9667\n",
      "[321]\tvalid_0's rmse: 33.0874\n",
      "[322]\tvalid_0's rmse: 32.9193\n",
      "[323]\tvalid_0's rmse: 32.7469\n",
      "[324]\tvalid_0's rmse: 32.8916\n",
      "[325]\tvalid_0's rmse: 32.7548\n",
      "[326]\tvalid_0's rmse: 32.9021\n",
      "[327]\tvalid_0's rmse: 32.7573\n",
      "[328]\tvalid_0's rmse: 32.9004\n",
      "[329]\tvalid_0's rmse: 32.7645\n",
      "[330]\tvalid_0's rmse: 32.9044\n",
      "[331]\tvalid_0's rmse: 33.0516\n",
      "[332]\tvalid_0's rmse: 33.4011\n",
      "[333]\tvalid_0's rmse: 33.5519\n",
      "[334]\tvalid_0's rmse: 33.7056\n",
      "[335]\tvalid_0's rmse: 33.4716\n",
      "[336]\tvalid_0's rmse: 33.6198\n",
      "[337]\tvalid_0's rmse: 33.4559\n",
      "[338]\tvalid_0's rmse: 33.2747\n",
      "[339]\tvalid_0's rmse: 33.4172\n",
      "[340]\tvalid_0's rmse: 33.5677\n",
      "[341]\tvalid_0's rmse: 33.366\n",
      "[342]\tvalid_0's rmse: 33.1529\n",
      "[343]\tvalid_0's rmse: 32.9832\n",
      "[344]\tvalid_0's rmse: 33.1206\n",
      "[345]\tvalid_0's rmse: 32.9559\n",
      "[346]\tvalid_0's rmse: 32.7885\n",
      "[347]\tvalid_0's rmse: 32.9315\n",
      "[348]\tvalid_0's rmse: 32.766\n",
      "[349]\tvalid_0's rmse: 32.6431\n",
      "[350]\tvalid_0's rmse: 32.7816\n",
      "[351]\tvalid_0's rmse: 32.6286\n",
      "[352]\tvalid_0's rmse: 32.4943\n",
      "[353]\tvalid_0's rmse: 32.3792\n",
      "[354]\tvalid_0's rmse: 32.5004\n",
      "[355]\tvalid_0's rmse: 32.6307\n",
      "[356]\tvalid_0's rmse: 32.5144\n",
      "[357]\tvalid_0's rmse: 32.6315\n",
      "[358]\tvalid_0's rmse: 32.503\n",
      "[359]\tvalid_0's rmse: 32.8213\n",
      "[360]\tvalid_0's rmse: 32.6373\n",
      "[361]\tvalid_0's rmse: 32.5106\n",
      "[362]\tvalid_0's rmse: 32.3847\n",
      "[363]\tvalid_0's rmse: 32.5041\n",
      "[364]\tvalid_0's rmse: 32.6142\n",
      "[365]\tvalid_0's rmse: 32.4797\n",
      "[366]\tvalid_0's rmse: 32.5971\n",
      "[367]\tvalid_0's rmse: 32.7196\n",
      "[368]\tvalid_0's rmse: 32.5721\n",
      "[369]\tvalid_0's rmse: 32.69\n",
      "[370]\tvalid_0's rmse: 32.5506\n",
      "[371]\tvalid_0's rmse: 32.6725\n",
      "[372]\tvalid_0's rmse: 32.5316\n",
      "[373]\tvalid_0's rmse: 32.4179\n",
      "[374]\tvalid_0's rmse: 32.3087\n",
      "[375]\tvalid_0's rmse: 32.1825\n",
      "[376]\tvalid_0's rmse: 32.2913\n",
      "[377]\tvalid_0's rmse: 32.1723\n",
      "[378]\tvalid_0's rmse: 32.2932\n",
      "[379]\tvalid_0's rmse: 32.4077\n",
      "[380]\tvalid_0's rmse: 32.2739\n",
      "[381]\tvalid_0's rmse: 32.3854\n",
      "[382]\tvalid_0's rmse: 32.4993\n",
      "[383]\tvalid_0's rmse: 32.3926\n",
      "[384]\tvalid_0's rmse: 32.2447\n",
      "[385]\tvalid_0's rmse: 32.3647\n",
      "[386]\tvalid_0's rmse: 32.2155\n",
      "[387]\tvalid_0's rmse: 32.0979\n",
      "[388]\tvalid_0's rmse: 32.0089\n",
      "[389]\tvalid_0's rmse: 31.9359\n",
      "[390]\tvalid_0's rmse: 31.8433\n",
      "[391]\tvalid_0's rmse: 31.9446\n",
      "[392]\tvalid_0's rmse: 31.8321\n",
      "[393]\tvalid_0's rmse: 31.7569\n",
      "[394]\tvalid_0's rmse: 31.6855\n",
      "[395]\tvalid_0's rmse: 31.6136\n",
      "[396]\tvalid_0's rmse: 31.7147\n",
      "[397]\tvalid_0's rmse: 31.6392\n",
      "[398]\tvalid_0's rmse: 31.5633\n",
      "[399]\tvalid_0's rmse: 31.4946\n",
      "[400]\tvalid_0's rmse: 31.4505\n",
      "[401]\tvalid_0's rmse: 31.5378\n",
      "[402]\tvalid_0's rmse: 31.4438\n",
      "[403]\tvalid_0's rmse: 31.5378\n",
      "[404]\tvalid_0's rmse: 31.4654\n",
      "[405]\tvalid_0's rmse: 31.4145\n",
      "[406]\tvalid_0's rmse: 31.6207\n",
      "[407]\tvalid_0's rmse: 31.5619\n",
      "[408]\tvalid_0's rmse: 31.6503\n",
      "[409]\tvalid_0's rmse: 31.5563\n",
      "[410]\tvalid_0's rmse: 31.4674\n",
      "[411]\tvalid_0's rmse: 31.3825\n",
      "[412]\tvalid_0's rmse: 31.4656\n",
      "[413]\tvalid_0's rmse: 31.5545\n",
      "[414]\tvalid_0's rmse: 31.4668\n",
      "[415]\tvalid_0's rmse: 31.4006\n",
      "[416]\tvalid_0's rmse: 31.3176\n",
      "[417]\tvalid_0's rmse: 31.4019\n",
      "[418]\tvalid_0's rmse: 31.4886\n",
      "[419]\tvalid_0's rmse: 31.4259\n",
      "[420]\tvalid_0's rmse: 31.5125\n",
      "[421]\tvalid_0's rmse: 31.4228\n",
      "[422]\tvalid_0's rmse: 31.3627\n",
      "[423]\tvalid_0's rmse: 31.3049\n",
      "[424]\tvalid_0's rmse: 31.2434\n",
      "[425]\tvalid_0's rmse: 31.33\n",
      "[426]\tvalid_0's rmse: 31.2766\n",
      "[427]\tvalid_0's rmse: 31.2175\n",
      "[428]\tvalid_0's rmse: 31.2993\n",
      "[429]\tvalid_0's rmse: 31.2505\n",
      "[430]\tvalid_0's rmse: 31.4439\n",
      "[431]\tvalid_0's rmse: 31.3859\n",
      "[432]\tvalid_0's rmse: 31.3043\n",
      "[433]\tvalid_0's rmse: 31.2465\n",
      "[434]\tvalid_0's rmse: 31.3231\n",
      "[435]\tvalid_0's rmse: 31.4046\n",
      "[436]\tvalid_0's rmse: 31.346\n",
      "[437]\tvalid_0's rmse: 31.2825\n",
      "[438]\tvalid_0's rmse: 31.3612\n",
      "[439]\tvalid_0's rmse: 31.5419\n",
      "[440]\tvalid_0's rmse: 31.4345\n",
      "[441]\tvalid_0's rmse: 31.3705\n",
      "[442]\tvalid_0's rmse: 31.2853\n",
      "[443]\tvalid_0's rmse: 31.3586\n",
      "[444]\tvalid_0's rmse: 31.2887\n",
      "[445]\tvalid_0's rmse: 31.2444\n",
      "[446]\tvalid_0's rmse: 31.3289\n",
      "[447]\tvalid_0's rmse: 31.2695\n",
      "[448]\tvalid_0's rmse: 31.2236\n",
      "[449]\tvalid_0's rmse: 31.1702\n",
      "[450]\tvalid_0's rmse: 31.131\n",
      "[451]\tvalid_0's rmse: 31.0459\n",
      "[452]\tvalid_0's rmse: 31.1269\n",
      "[453]\tvalid_0's rmse: 31.2026\n",
      "[454]\tvalid_0's rmse: 31.3721\n",
      "[455]\tvalid_0's rmse: 31.312\n",
      "[456]\tvalid_0's rmse: 31.3991\n",
      "[457]\tvalid_0's rmse: 31.4699\n",
      "[458]\tvalid_0's rmse: 31.405\n",
      "[459]\tvalid_0's rmse: 31.3457\n",
      "[460]\tvalid_0's rmse: 31.4303\n",
      "[461]\tvalid_0's rmse: 31.3787\n",
      "[462]\tvalid_0's rmse: 31.4533\n",
      "[463]\tvalid_0's rmse: 31.5344\n",
      "[464]\tvalid_0's rmse: 31.4488\n",
      "[465]\tvalid_0's rmse: 31.386\n",
      "[466]\tvalid_0's rmse: 31.4646\n",
      "[467]\tvalid_0's rmse: 31.3892\n",
      "[468]\tvalid_0's rmse: 31.4798\n",
      "[469]\tvalid_0's rmse: 31.4187\n",
      "[470]\tvalid_0's rmse: 31.5998\n",
      "[471]\tvalid_0's rmse: 31.5373\n",
      "[472]\tvalid_0's rmse: 31.6238\n",
      "[473]\tvalid_0's rmse: 31.5467\n",
      "[474]\tvalid_0's rmse: 31.4704\n",
      "[475]\tvalid_0's rmse: 31.3876\n",
      "[476]\tvalid_0's rmse: 31.4764\n",
      "[477]\tvalid_0's rmse: 31.4158\n",
      "[478]\tvalid_0's rmse: 31.4932\n",
      "[479]\tvalid_0's rmse: 31.5708\n",
      "[480]\tvalid_0's rmse: 31.5019\n",
      "[481]\tvalid_0's rmse: 31.4287\n",
      "[482]\tvalid_0's rmse: 31.3562\n",
      "[483]\tvalid_0's rmse: 31.3079\n",
      "[484]\tvalid_0's rmse: 31.2458\n",
      "[485]\tvalid_0's rmse: 31.3222\n",
      "[486]\tvalid_0's rmse: 31.2556\n",
      "[487]\tvalid_0's rmse: 31.2154\n",
      "[488]\tvalid_0's rmse: 31.1305\n",
      "[489]\tvalid_0's rmse: 31.0794\n",
      "[490]\tvalid_0's rmse: 31.1471\n",
      "[491]\tvalid_0's rmse: 31.2211\n",
      "[492]\tvalid_0's rmse: 31.293\n",
      "[493]\tvalid_0's rmse: 31.368\n",
      "[494]\tvalid_0's rmse: 31.3255\n",
      "[495]\tvalid_0's rmse: 31.2713\n",
      "[496]\tvalid_0's rmse: 31.1969\n",
      "[497]\tvalid_0's rmse: 31.1334\n",
      "[498]\tvalid_0's rmse: 31.0794\n",
      "[499]\tvalid_0's rmse: 31.1447\n",
      "[500]\tvalid_0's rmse: 31.0728\n",
      "CPU times: user 27.1 s, sys: 249 ms, total: 27.4 s\n",
      "Wall time: 27.9 s\n"
     ]
    },
    {
     "data": {
      "text/plain": [
       "LGBMRegressor(boosting_type='dart', class_weight=None, colsample_bytree=1.0,\n",
       "              importance_type='split', learning_rate=0.05, max_depth=8,\n",
       "              metric='rmse', min_child_samples=20, min_child_weight=0.001,\n",
       "              min_split_gain=0.0, n_estimators=500, n_jobs=-1, num_leaves=31,\n",
       "              objective='regression', random_state=None, reg_alpha=0.0,\n",
       "              reg_lambda=0.0, silent=True, strategy='recursive', subsample=1.0,\n",
       "              subsample_for_bin=200000, subsample_freq=0)"
      ]
     },
     "execution_count": 32,
     "metadata": {},
     "output_type": "execute_result"
    }
   ],
   "source": [
    "%%time\n",
    "gb_model.fit(rfgb_features_train, rfgb_target_train, eval_set=[(rfgb_features_valid, rfgb_target_valid)], early_stopping_rounds=10)"
   ]
  },
  {
   "cell_type": "markdown",
   "metadata": {},
   "source": [
    "<div style=\"border-radius: 15px; border: 1px solid grey; padding: 15px;\">\n",
    "RMSE на валидационной выборке ~31.1, следующий шаг в нашем исследовании как раз тестирование, проверим как же хорошо прогнозируют наши модели в будущее.\n",
    "</div>"
   ]
  },
  {
   "cell_type": "markdown",
   "metadata": {},
   "source": [
    "## Тестирование"
   ]
  },
  {
   "cell_type": "markdown",
   "metadata": {},
   "source": [
    "<div style=\"border-radius: 15px; border: 1px solid grey; padding: 15px;\">\n",
    "У нас есть порог заданный в условиях задачи, который мы должны превзайти, но тем не мене мы зададим порог адекватности моделей. Для этого мы посчитаем RMSE на тестовой выбрке для предсказания сделанного предыдущим значением из этой же выборки.\n",
    "</div>"
   ]
  },
  {
   "cell_type": "code",
   "execution_count": 33,
   "metadata": {},
   "outputs": [
    {
     "name": "stdout",
     "output_type": "stream",
     "text": [
      "Среднее количество заказов в час: 84.69345238095238\n",
      "RMSE тестовой выборки:  59.01904048345839\n"
     ]
    }
   ],
   "source": [
    "print(\"Среднее количество заказов в час:\", df['num_orders'].mean())\n",
    "pred_previous = target_test.shift(fill_value = target_train.loc[target_train.index.max()])\n",
    "\n",
    "print(\"RMSE тестовой выборки: \", mean_squared_error(target_test, pred_previous) ** 0.5)"
   ]
  },
  {
   "cell_type": "markdown",
   "metadata": {},
   "source": [
    "<div style=\"border-radius: 15px; border: 1px solid grey; padding: 15px;\">\n",
    "Порог ошибки находится на уровне 59 заказов.\n",
    "</div>"
   ]
  },
  {
   "cell_type": "markdown",
   "metadata": {},
   "source": [
    "### Тестирование Linear Regression"
   ]
  },
  {
   "cell_type": "code",
   "execution_count": 34,
   "metadata": {},
   "outputs": [],
   "source": [
    "lr_pred_test = lr_model.predict(features_test)\n",
    "lr_rmse = mean_squared_error(target_test, lr_pred_test) ** 0.5"
   ]
  },
  {
   "cell_type": "code",
   "execution_count": 35,
   "metadata": {},
   "outputs": [
    {
     "name": "stdout",
     "output_type": "stream",
     "text": [
      "RMSE Линейной регрессии на тестовой выборке: 42.009308663282376\n"
     ]
    }
   ],
   "source": [
    "print(\"RMSE Линейной регрессии на тестовой выборке:\", lr_rmse)"
   ]
  },
  {
   "cell_type": "code",
   "execution_count": 36,
   "metadata": {},
   "outputs": [],
   "source": [
    "idx = pd.date_range('2018-08-13 19:00:00', periods=437, freq=\"H\")\n",
    "lr = pd.DataFrame(data=lr_pred_test, index=idx)"
   ]
  },
  {
   "cell_type": "code",
   "execution_count": 37,
   "metadata": {},
   "outputs": [
    {
     "data": {
      "image/png": "[encoded data removed]",
      "text/plain": [
       "<Figure size 1152x432 with 1 Axes>"
      ]
     },
     "metadata": {
      "needs_background": "light"
     },
     "output_type": "display_data"
    }
   ],
   "source": [
    "plt.figure(figsize=[16,6])\n",
    "plt.grid()\n",
    "\n",
    "plt.plot(target_test['2018-08-14':'2018-08-16'], label='True')\n",
    "plt.plot(lr['2018-08-14':'2018-08-16'], label='Prediction')\n",
    "plt.legend()\n",
    "\n",
    "plt.show()"
   ]
  },
  {
   "cell_type": "markdown",
   "metadata": {},
   "source": [
    "<div style=\"border-radius: 15px; border: 1px solid grey; padding: 15px;\">\n",
    "Выше график сравнения реальных данных и предсказания Линейной регрессии. Направления движения Линейная регрессия предсказывает хорошо, а вот со значениями часто ошибается.\n",
    "</div>"
   ]
  },
  {
   "cell_type": "markdown",
   "metadata": {},
   "source": [
    "### Тестирование Random Forest Regressor"
   ]
  },
  {
   "cell_type": "code",
   "execution_count": 38,
   "metadata": {},
   "outputs": [],
   "source": [
    "rf_pred_test = rf_model.predict(features_test)\n",
    "rf_rmse = mean_squared_error(target_test, rf_pred_test) ** 0.5"
   ]
  },
  {
   "cell_type": "code",
   "execution_count": 39,
   "metadata": {},
   "outputs": [
    {
     "name": "stdout",
     "output_type": "stream",
     "text": [
      "RMSE Случайного леса на тестовой выборке 46.60914238335045\n"
     ]
    }
   ],
   "source": [
    "print(\"RMSE Случайного леса на тестовой выборке\", rf_rmse)"
   ]
  },
  {
   "cell_type": "code",
   "execution_count": 40,
   "metadata": {},
   "outputs": [],
   "source": [
    "idx = pd.date_range('2018-08-13 19:00:00', periods=437, freq=\"H\")\n",
    "rf = pd.DataFrame(data=rf_pred_test, index=idx)"
   ]
  },
  {
   "cell_type": "code",
   "execution_count": 41,
   "metadata": {},
   "outputs": [
    {
     "data": {
      "image/png": "[encoded data removed]",
      "text/plain": [
       "<Figure size 1080x432 with 1 Axes>"
      ]
     },
     "metadata": {
      "needs_background": "light"
     },
     "output_type": "display_data"
    }
   ],
   "source": [
    "plt.figure(figsize=[15,6])\n",
    "plt.grid()\n",
    "\n",
    "plt.plot(target_test['2018-08-14':'2018-08-16'], label='True')\n",
    "plt.plot(rf['2018-08-14':'2018-08-16'], label='Prediction')\n",
    "plt.legend()\n",
    "\n",
    "plt.show()"
   ]
  },
  {
   "cell_type": "markdown",
   "metadata": {},
   "source": [
    "<div style=\"border-radius: 15px; border: 1px solid grey; padding: 15px;\">\n",
    "Выше график сравнения реальных данных и предсказания регрессии Случайного леса. Тут предсказание направления происходит немного хуже и значения почти всегда меньше реальных.\n",
    "</div>"
   ]
  },
  {
   "cell_type": "markdown",
   "metadata": {},
   "source": [
    "### Тестирование ARIMA"
   ]
  },
  {
   "cell_type": "code",
   "execution_count": 42,
   "metadata": {
    "scrolled": false
   },
   "outputs": [
    {
     "name": "stdout",
     "output_type": "stream",
     "text": [
      "RMSE ARIMA на тестовой выборке: 55.526\n"
     ]
    }
   ],
   "source": [
    "ARIMA_rmse = mean_squared_error(target_test, predictions) ** 0.5\n",
    "print('RMSE ARIMA на тестовой выборке: %.3f' % ARIMA_rmse)"
   ]
  },
  {
   "cell_type": "code",
   "execution_count": 43,
   "metadata": {},
   "outputs": [],
   "source": [
    "idx = pd.date_range('2018-08-13 19:00:00', periods=437, freq=\"H\")\n",
    "ar = pd.DataFrame(data=predictions, index=idx)"
   ]
  },
  {
   "cell_type": "code",
   "execution_count": 44,
   "metadata": {},
   "outputs": [
    {
     "data": {
      "image/png": "[encoded data removed]",
      "text/plain": [
       "<Figure size 1080x432 with 1 Axes>"
      ]
     },
     "metadata": {
      "needs_background": "light"
     },
     "output_type": "display_data"
    }
   ],
   "source": [
    "plt.figure(figsize=[15,6])\n",
    "plt.grid()\n",
    "\n",
    "plt.plot(target_test['2018-08-14':'2018-08-16'], label='True')\n",
    "plt.plot(ar['2018-08-14':'2018-08-16'], label='Prediction')\n",
    "plt.legend()\n",
    "\n",
    "plt.show()"
   ]
  },
  {
   "cell_type": "markdown",
   "metadata": {},
   "source": [
    "<div style=\"border-radius: 15px; border: 1px solid grey; padding: 15px;\">\n",
    "ARIMA с нашими параметрами плохо справляется с предсказанием направления графика. Направление больше похоже на попытку отреагировать на изменения реального значения.\n",
    "</div>"
   ]
  },
  {
   "cell_type": "markdown",
   "metadata": {},
   "source": [
    "### Тестирование GB"
   ]
  },
  {
   "cell_type": "code",
   "execution_count": 45,
   "metadata": {
    "scrolled": true
   },
   "outputs": [
    {
     "name": "stdout",
     "output_type": "stream",
     "text": [
      "CPU times: user 55.5 ms, sys: 0 ns, total: 55.5 ms\n",
      "Wall time: 66.9 ms\n"
     ]
    }
   ],
   "source": [
    "%%time\n",
    "gb_model_pred = gb_model.predict(features_test, num_iteration=gb_model.best_iteration_)"
   ]
  },
  {
   "cell_type": "code",
   "execution_count": 46,
   "metadata": {},
   "outputs": [
    {
     "name": "stdout",
     "output_type": "stream",
     "text": [
      "RMSE Градиентного бустинга на тестовой выборке 47.682111056362956\n"
     ]
    }
   ],
   "source": [
    "gb_rmse = mean_squared_error(target_test, gb_model_pred) ** 0.5\n",
    "print(\"RMSE Градиентного бустинга на тестовой выборке\", gb_rmse)"
   ]
  },
  {
   "cell_type": "code",
   "execution_count": 47,
   "metadata": {},
   "outputs": [],
   "source": [
    "idx = pd.date_range('2018-08-13 19:00:00', periods=437, freq=\"H\")\n",
    "gb = pd.DataFrame(data=gb_model_pred, index=idx)"
   ]
  },
  {
   "cell_type": "code",
   "execution_count": 48,
   "metadata": {},
   "outputs": [
    {
     "data": {
      "image/png": "[encoded data removed]",
      "text/plain": [
       "<Figure size 1080x432 with 1 Axes>"
      ]
     },
     "metadata": {
      "needs_background": "light"
     },
     "output_type": "display_data"
    }
   ],
   "source": [
    "plt.figure(figsize=[15,6])\n",
    "plt.grid()\n",
    "\n",
    "plt.plot(target_test['2018-08-14':'2018-08-16'], label='True')\n",
    "plt.plot(gb['2018-08-14':'2018-08-16'], label='Prediction')\n",
    "plt.legend()\n",
    "\n",
    "plt.show()"
   ]
  },
  {
   "cell_type": "markdown",
   "metadata": {},
   "source": [
    "<div style=\"border-radius: 15px; border: 1px solid grey; padding: 15px;\">\n",
    "Выше график сравнения реальных данных и предсказания Градиентного бустинга. Направления предсказния совпадают с направлениями изменения реальных значений, а вот конкретные значения совпадают редко.\n",
    "</div>"
   ]
  },
  {
   "cell_type": "markdown",
   "metadata": {},
   "source": [
    "### Итог"
   ]
  },
  {
   "cell_type": "code",
   "execution_count": 49,
   "metadata": {},
   "outputs": [],
   "source": [
    "results = {'RMSE': [lr_rmse, rf_rmse, ARIMA_rmse, gb_rmse]} \n",
    "\n",
    "df_results = pd.DataFrame(data=results, index=[\"lr_rmse\", \"rf_rmse\", \"ARIMA_rmse\", \"gb_rmse\"])"
   ]
  },
  {
   "cell_type": "code",
   "execution_count": 50,
   "metadata": {},
   "outputs": [
    {
     "data": {
      "text/plain": [
       "Text(0, 0.5, 'Показатели')"
      ]
     },
     "execution_count": 50,
     "metadata": {},
     "output_type": "execute_result"
    },
    {
     "data": {
      "image/png": "[encoded data removed]",
      "text/plain": [
       "<Figure size 720x432 with 1 Axes>"
      ]
     },
     "metadata": {
      "needs_background": "light"
     },
     "output_type": "display_data"
    }
   ],
   "source": [
    "df_results.plot(kind='line',\n",
    "        title='RMSE по моделям',\n",
    "        grid=True,\n",
    "        figsize=(10,6),\n",
    "        fontsize=15\n",
    "        )\n",
    "\n",
    "plt.xlabel('Модели')\n",
    "plt.ylabel(\"Показатели\")"
   ]
  },
  {
   "cell_type": "markdown",
   "metadata": {},
   "source": [
    "<div style=\"border-radius: 15px; border: 1px solid grey; padding: 15px;\">\n",
    "Вот так две модели из SKLearn показали самый убедительный результат на тестовой выборке, обе модели с запасом показали RMSE ниже заданного порога. В свою очередь специализированная ARIMA показала результат с трудом вписавшийся в порог адекватности модели, и не приблизиашись к заданным показателям качества. А вот градиентный бустинг вписался в заданные рамки, но результат в целом не конкурентный. В двух последних случаях допускаю улучшение качества предсказания модлей за счет изменения гиперпараметров, но в наших условиях ограниченных ресурсов провести более качественное исследование в разумные сроки сложно, да и задачи такой не стояло.\n",
    "    \n",
    "    \n",
    "    В целом, цель исследования считаю достигнутой, лучшая модель в исследовании Random Forest Regressor.\n",
    "</div>"
   ]
  }
 ],
 "metadata": {
  "ExecuteTimeLog": [
   {
    "duration": 1597,
    "start_time": "2021-08-21T20:01:15.876Z"
   },
   {
    "duration": 235,
    "start_time": "2021-08-21T20:01:19.026Z"
   },
   {
    "duration": 16,
    "start_time": "2021-08-21T20:01:26.917Z"
   },
   {
    "duration": 13,
    "start_time": "2021-08-21T20:02:43.207Z"
   },
   {
    "duration": 9,
    "start_time": "2021-08-21T20:03:02.169Z"
   },
   {
    "duration": 12,
    "start_time": "2021-08-21T20:03:14.023Z"
   },
   {
    "duration": 13,
    "start_time": "2021-08-21T20:05:16.189Z"
   },
   {
    "duration": 12,
    "start_time": "2021-08-21T20:05:21.859Z"
   },
   {
    "duration": 5,
    "start_time": "2021-08-21T20:05:37.256Z"
   },
   {
    "duration": 138,
    "start_time": "2021-08-21T20:05:37.266Z"
   },
   {
    "duration": 8,
    "start_time": "2021-08-21T20:05:37.407Z"
   },
   {
    "duration": 14,
    "start_time": "2021-08-21T20:05:37.419Z"
   },
   {
    "duration": 26,
    "start_time": "2021-08-21T20:05:37.435Z"
   },
   {
    "duration": 11,
    "start_time": "2021-08-21T20:05:40.527Z"
   },
   {
    "duration": 497,
    "start_time": "2021-08-21T20:07:15.926Z"
   },
   {
    "duration": 5,
    "start_time": "2021-08-21T20:07:26.934Z"
   },
   {
    "duration": 145,
    "start_time": "2021-08-21T20:07:26.941Z"
   },
   {
    "duration": 7,
    "start_time": "2021-08-21T20:07:27.089Z"
   },
   {
    "duration": 21,
    "start_time": "2021-08-21T20:07:27.098Z"
   },
   {
    "duration": 11,
    "start_time": "2021-08-21T20:07:27.121Z"
   },
   {
    "duration": 22,
    "start_time": "2021-08-21T20:07:27.134Z"
   },
   {
    "duration": 12,
    "start_time": "2021-08-21T20:07:31.689Z"
   },
   {
    "duration": 5,
    "start_time": "2021-08-21T20:08:58.572Z"
   },
   {
    "duration": 9418,
    "start_time": "2021-08-21T20:08:59.033Z"
   },
   {
    "duration": 5,
    "start_time": "2021-08-21T20:09:33.258Z"
   },
   {
    "duration": 15,
    "start_time": "2021-08-21T20:09:33.941Z"
   },
   {
    "duration": 26,
    "start_time": "2021-08-21T20:09:41.009Z"
   },
   {
    "duration": 973,
    "start_time": "2021-08-21T20:11:07.587Z"
   },
   {
    "duration": 424,
    "start_time": "2021-08-21T20:11:37.609Z"
   },
   {
    "duration": 137,
    "start_time": "2021-08-21T20:12:07.478Z"
   },
   {
    "duration": 664,
    "start_time": "2021-08-21T20:12:12.343Z"
   },
   {
    "duration": 629,
    "start_time": "2021-08-21T20:12:23.370Z"
   },
   {
    "duration": 653,
    "start_time": "2021-08-21T20:12:43.297Z"
   },
   {
    "duration": 31,
    "start_time": "2021-08-21T20:13:28.775Z"
   },
   {
    "duration": 39,
    "start_time": "2021-08-21T20:13:30.071Z"
   },
   {
    "duration": 733,
    "start_time": "2021-08-21T20:13:57.195Z"
   },
   {
    "duration": 432,
    "start_time": "2021-08-22T07:44:36.401Z"
   },
   {
    "duration": 1674,
    "start_time": "2021-08-22T07:44:41.445Z"
   },
   {
    "duration": 248,
    "start_time": "2021-08-22T07:44:43.121Z"
   },
   {
    "duration": 9,
    "start_time": "2021-08-22T07:44:43.372Z"
   },
   {
    "duration": 16,
    "start_time": "2021-08-22T07:44:43.383Z"
   },
   {
    "duration": 3,
    "start_time": "2021-08-22T07:44:43.401Z"
   },
   {
    "duration": 16,
    "start_time": "2021-08-22T07:44:43.407Z"
   },
   {
    "duration": 40,
    "start_time": "2021-08-22T07:44:43.425Z"
   },
   {
    "duration": 6,
    "start_time": "2021-08-22T07:44:43.468Z"
   },
   {
    "duration": 44,
    "start_time": "2021-08-22T07:44:43.476Z"
   },
   {
    "duration": 65,
    "start_time": "2021-08-22T07:44:43.522Z"
   },
   {
    "duration": 8763,
    "start_time": "2021-08-22T07:44:43.589Z"
   },
   {
    "duration": 673,
    "start_time": "2021-08-22T07:45:01.597Z"
   },
   {
    "duration": 375,
    "start_time": "2021-08-22T07:45:04.547Z"
   },
   {
    "duration": 429,
    "start_time": "2021-08-22T07:45:08.231Z"
   },
   {
    "duration": 590,
    "start_time": "2021-08-22T07:45:20.657Z"
   },
   {
    "duration": 417,
    "start_time": "2021-08-22T07:45:37.688Z"
   },
   {
    "duration": 398,
    "start_time": "2021-08-22T07:45:42.693Z"
   },
   {
    "duration": 25,
    "start_time": "2021-08-22T07:47:57.685Z"
   },
   {
    "duration": 439,
    "start_time": "2021-08-22T07:47:58.427Z"
   },
   {
    "duration": 41,
    "start_time": "2021-08-22T07:48:11.998Z"
   },
   {
    "duration": 5,
    "start_time": "2021-08-22T07:48:17.386Z"
   },
   {
    "duration": 134,
    "start_time": "2021-08-22T07:48:17.394Z"
   },
   {
    "duration": 7,
    "start_time": "2021-08-22T07:48:17.530Z"
   },
   {
    "duration": 12,
    "start_time": "2021-08-22T07:48:17.540Z"
   },
   {
    "duration": 4,
    "start_time": "2021-08-22T07:48:17.555Z"
   },
   {
    "duration": 13,
    "start_time": "2021-08-22T07:48:17.562Z"
   },
   {
    "duration": 11,
    "start_time": "2021-08-22T07:48:17.578Z"
   },
   {
    "duration": 690,
    "start_time": "2021-08-22T07:48:17.593Z"
   },
   {
    "duration": 432,
    "start_time": "2021-08-22T07:48:18.286Z"
   },
   {
    "duration": 6,
    "start_time": "2021-08-22T07:48:18.720Z"
   },
   {
    "duration": 537,
    "start_time": "2021-08-22T07:48:18.728Z"
   },
   {
    "duration": 13,
    "start_time": "2021-08-22T07:48:23.000Z"
   },
   {
    "duration": 9,
    "start_time": "2021-08-22T08:04:29.281Z"
   },
   {
    "duration": 6,
    "start_time": "2021-08-22T08:05:16.078Z"
   },
   {
    "duration": 161,
    "start_time": "2021-08-22T08:05:16.086Z"
   },
   {
    "duration": 8,
    "start_time": "2021-08-22T08:05:16.250Z"
   },
   {
    "duration": 14,
    "start_time": "2021-08-22T08:05:16.260Z"
   },
   {
    "duration": 5,
    "start_time": "2021-08-22T08:05:16.277Z"
   },
   {
    "duration": 17,
    "start_time": "2021-08-22T08:05:16.284Z"
   },
   {
    "duration": 9,
    "start_time": "2021-08-22T08:05:16.303Z"
   },
   {
    "duration": 679,
    "start_time": "2021-08-22T08:05:16.315Z"
   },
   {
    "duration": 397,
    "start_time": "2021-08-22T08:10:59.267Z"
   },
   {
    "duration": 7,
    "start_time": "2021-08-22T08:11:09.365Z"
   },
   {
    "duration": 137,
    "start_time": "2021-08-22T08:11:09.375Z"
   },
   {
    "duration": 7,
    "start_time": "2021-08-22T08:11:09.515Z"
   },
   {
    "duration": 23,
    "start_time": "2021-08-22T08:11:09.524Z"
   },
   {
    "duration": 10,
    "start_time": "2021-08-22T08:11:09.550Z"
   },
   {
    "duration": 23,
    "start_time": "2021-08-22T08:11:09.562Z"
   },
   {
    "duration": 17,
    "start_time": "2021-08-22T08:11:09.588Z"
   },
   {
    "duration": 690,
    "start_time": "2021-08-22T08:11:09.608Z"
   },
   {
    "duration": 437,
    "start_time": "2021-08-22T08:11:10.301Z"
   },
   {
    "duration": 15,
    "start_time": "2021-08-22T08:11:10.741Z"
   },
   {
    "duration": 60,
    "start_time": "2021-08-22T08:11:10.759Z"
   },
   {
    "duration": 75,
    "start_time": "2021-08-22T08:11:10.821Z"
   },
   {
    "duration": 11,
    "start_time": "2021-08-22T08:11:13.581Z"
   },
   {
    "duration": 9,
    "start_time": "2021-08-22T08:11:14.433Z"
   },
   {
    "duration": 6,
    "start_time": "2021-08-22T08:11:37.266Z"
   },
   {
    "duration": 6,
    "start_time": "2021-08-22T08:12:20.568Z"
   },
   {
    "duration": 7,
    "start_time": "2021-08-22T08:12:24.695Z"
   },
   {
    "duration": 41,
    "start_time": "2021-08-22T08:13:21.975Z"
   },
   {
    "duration": 5,
    "start_time": "2021-08-22T08:14:18.443Z"
   },
   {
    "duration": 140,
    "start_time": "2021-08-22T08:14:18.451Z"
   },
   {
    "duration": 10,
    "start_time": "2021-08-22T08:14:18.594Z"
   },
   {
    "duration": 17,
    "start_time": "2021-08-22T08:14:18.607Z"
   },
   {
    "duration": 10,
    "start_time": "2021-08-22T08:14:18.627Z"
   },
   {
    "duration": 18,
    "start_time": "2021-08-22T08:14:18.639Z"
   },
   {
    "duration": 23,
    "start_time": "2021-08-22T08:14:18.660Z"
   },
   {
    "duration": 672,
    "start_time": "2021-08-22T08:14:18.686Z"
   },
   {
    "duration": 525,
    "start_time": "2021-08-22T08:14:19.361Z"
   },
   {
    "duration": 6,
    "start_time": "2021-08-22T08:14:19.889Z"
   },
   {
    "duration": 39,
    "start_time": "2021-08-22T08:14:40.829Z"
   },
   {
    "duration": 45,
    "start_time": "2021-08-22T08:14:41.674Z"
   },
   {
    "duration": 13,
    "start_time": "2021-08-22T08:14:57.860Z"
   },
   {
    "duration": 6,
    "start_time": "2021-08-22T08:14:58.784Z"
   },
   {
    "duration": 6,
    "start_time": "2021-08-22T08:15:17.314Z"
   },
   {
    "duration": 6,
    "start_time": "2021-08-22T08:15:17.938Z"
   },
   {
    "duration": 5,
    "start_time": "2021-08-22T08:20:26.711Z"
   },
   {
    "duration": 17,
    "start_time": "2021-08-22T08:20:27.450Z"
   },
   {
    "duration": 12,
    "start_time": "2021-08-22T08:20:28.714Z"
   },
   {
    "duration": 9,
    "start_time": "2021-08-22T08:21:13.024Z"
   },
   {
    "duration": 5,
    "start_time": "2021-08-22T08:21:47.776Z"
   },
   {
    "duration": 124,
    "start_time": "2021-08-22T08:21:47.783Z"
   },
   {
    "duration": 6,
    "start_time": "2021-08-22T08:21:47.910Z"
   },
   {
    "duration": 12,
    "start_time": "2021-08-22T08:21:47.919Z"
   },
   {
    "duration": 10,
    "start_time": "2021-08-22T08:21:47.933Z"
   },
   {
    "duration": 20,
    "start_time": "2021-08-22T08:21:47.945Z"
   },
   {
    "duration": 12,
    "start_time": "2021-08-22T08:21:47.968Z"
   },
   {
    "duration": 682,
    "start_time": "2021-08-22T08:21:47.983Z"
   },
   {
    "duration": 420,
    "start_time": "2021-08-22T08:21:48.667Z"
   },
   {
    "duration": 6,
    "start_time": "2021-08-22T08:21:49.089Z"
   },
   {
    "duration": 36,
    "start_time": "2021-08-22T08:21:52.492Z"
   },
   {
    "duration": 45,
    "start_time": "2021-08-22T08:21:53.567Z"
   },
   {
    "duration": 13,
    "start_time": "2021-08-22T08:21:58.270Z"
   },
   {
    "duration": 6,
    "start_time": "2021-08-22T08:21:58.602Z"
   },
   {
    "duration": 6,
    "start_time": "2021-08-22T08:21:59.172Z"
   },
   {
    "duration": 6,
    "start_time": "2021-08-22T08:21:59.502Z"
   },
   {
    "duration": 16,
    "start_time": "2021-08-22T08:22:00.488Z"
   },
   {
    "duration": 8,
    "start_time": "2021-08-22T08:22:01.362Z"
   },
   {
    "duration": 5,
    "start_time": "2021-08-22T08:22:19.803Z"
   },
   {
    "duration": 134,
    "start_time": "2021-08-22T08:22:19.811Z"
   },
   {
    "duration": 7,
    "start_time": "2021-08-22T08:22:19.947Z"
   },
   {
    "duration": 14,
    "start_time": "2021-08-22T08:22:19.957Z"
   },
   {
    "duration": 9,
    "start_time": "2021-08-22T08:22:19.973Z"
   },
   {
    "duration": 21,
    "start_time": "2021-08-22T08:22:19.984Z"
   },
   {
    "duration": 30,
    "start_time": "2021-08-22T08:22:20.008Z"
   },
   {
    "duration": 674,
    "start_time": "2021-08-22T08:22:20.041Z"
   },
   {
    "duration": 408,
    "start_time": "2021-08-22T08:22:20.717Z"
   },
   {
    "duration": 6,
    "start_time": "2021-08-22T08:22:21.127Z"
   },
   {
    "duration": 80,
    "start_time": "2021-08-22T08:22:21.135Z"
   },
   {
    "duration": 50,
    "start_time": "2021-08-22T08:22:21.217Z"
   },
   {
    "duration": 14,
    "start_time": "2021-08-22T08:22:21.270Z"
   },
   {
    "duration": 8,
    "start_time": "2021-08-22T08:22:21.286Z"
   },
   {
    "duration": 7,
    "start_time": "2021-08-22T08:22:21.296Z"
   },
   {
    "duration": 10,
    "start_time": "2021-08-22T08:22:21.305Z"
   },
   {
    "duration": 139,
    "start_time": "2021-08-22T08:22:21.317Z"
   },
   {
    "duration": 48,
    "start_time": "2021-08-22T08:22:28.409Z"
   },
   {
    "duration": 8,
    "start_time": "2021-08-22T08:22:33.617Z"
   },
   {
    "duration": 9,
    "start_time": "2021-08-22T08:23:09.173Z"
   },
   {
    "duration": 4,
    "start_time": "2021-08-22T08:23:12.864Z"
   },
   {
    "duration": 133,
    "start_time": "2021-08-22T08:23:12.871Z"
   },
   {
    "duration": 7,
    "start_time": "2021-08-22T08:23:13.008Z"
   },
   {
    "duration": 18,
    "start_time": "2021-08-22T08:23:13.018Z"
   },
   {
    "duration": 6,
    "start_time": "2021-08-22T08:23:13.038Z"
   },
   {
    "duration": 20,
    "start_time": "2021-08-22T08:23:13.046Z"
   },
   {
    "duration": 10,
    "start_time": "2021-08-22T08:23:13.068Z"
   },
   {
    "duration": 674,
    "start_time": "2021-08-22T08:23:13.082Z"
   },
   {
    "duration": 448,
    "start_time": "2021-08-22T08:23:13.758Z"
   },
   {
    "duration": 5,
    "start_time": "2021-08-22T08:23:14.209Z"
   },
   {
    "duration": 85,
    "start_time": "2021-08-22T08:23:14.217Z"
   },
   {
    "duration": 55,
    "start_time": "2021-08-22T08:23:14.304Z"
   },
   {
    "duration": 12,
    "start_time": "2021-08-22T08:23:14.361Z"
   },
   {
    "duration": 9,
    "start_time": "2021-08-22T08:23:17.604Z"
   },
   {
    "duration": 5,
    "start_time": "2021-08-22T08:23:27.384Z"
   },
   {
    "duration": 135,
    "start_time": "2021-08-22T08:23:27.392Z"
   },
   {
    "duration": 6,
    "start_time": "2021-08-22T08:23:27.530Z"
   },
   {
    "duration": 19,
    "start_time": "2021-08-22T08:23:27.538Z"
   },
   {
    "duration": 8,
    "start_time": "2021-08-22T08:23:27.560Z"
   },
   {
    "duration": 15,
    "start_time": "2021-08-22T08:23:27.571Z"
   },
   {
    "duration": 9,
    "start_time": "2021-08-22T08:23:27.589Z"
   },
   {
    "duration": 705,
    "start_time": "2021-08-22T08:23:27.601Z"
   },
   {
    "duration": 525,
    "start_time": "2021-08-22T08:23:28.308Z"
   },
   {
    "duration": 5,
    "start_time": "2021-08-22T08:23:28.836Z"
   },
   {
    "duration": 67,
    "start_time": "2021-08-22T08:23:28.843Z"
   },
   {
    "duration": 47,
    "start_time": "2021-08-22T08:23:28.913Z"
   },
   {
    "duration": 10,
    "start_time": "2021-08-22T08:23:28.963Z"
   },
   {
    "duration": 11,
    "start_time": "2021-08-22T08:23:31.504Z"
   },
   {
    "duration": 5,
    "start_time": "2021-08-22T08:24:08.651Z"
   },
   {
    "duration": 381,
    "start_time": "2021-08-22T08:24:08.658Z"
   },
   {
    "duration": 7,
    "start_time": "2021-08-22T08:24:09.042Z"
   },
   {
    "duration": 14,
    "start_time": "2021-08-22T08:24:09.051Z"
   },
   {
    "duration": 9,
    "start_time": "2021-08-22T08:24:09.068Z"
   },
   {
    "duration": 13,
    "start_time": "2021-08-22T08:24:09.079Z"
   },
   {
    "duration": 9,
    "start_time": "2021-08-22T08:24:09.095Z"
   },
   {
    "duration": 674,
    "start_time": "2021-08-22T08:24:09.107Z"
   },
   {
    "duration": 430,
    "start_time": "2021-08-22T08:24:09.784Z"
   },
   {
    "duration": 5,
    "start_time": "2021-08-22T08:24:10.217Z"
   },
   {
    "duration": 79,
    "start_time": "2021-08-22T08:24:10.224Z"
   },
   {
    "duration": 53,
    "start_time": "2021-08-22T08:24:10.305Z"
   },
   {
    "duration": 11,
    "start_time": "2021-08-22T08:24:10.361Z"
   },
   {
    "duration": 12,
    "start_time": "2021-08-22T08:24:12.787Z"
   },
   {
    "duration": 5,
    "start_time": "2021-08-22T08:24:33.075Z"
   },
   {
    "duration": 144,
    "start_time": "2021-08-22T08:24:33.082Z"
   },
   {
    "duration": 7,
    "start_time": "2021-08-22T08:24:33.228Z"
   },
   {
    "duration": 13,
    "start_time": "2021-08-22T08:24:33.238Z"
   },
   {
    "duration": 7,
    "start_time": "2021-08-22T08:24:33.253Z"
   },
   {
    "duration": 14,
    "start_time": "2021-08-22T08:24:33.262Z"
   },
   {
    "duration": 14,
    "start_time": "2021-08-22T08:24:33.278Z"
   },
   {
    "duration": 670,
    "start_time": "2021-08-22T08:24:33.296Z"
   },
   {
    "duration": 423,
    "start_time": "2021-08-22T08:24:33.969Z"
   },
   {
    "duration": 6,
    "start_time": "2021-08-22T08:24:34.394Z"
   },
   {
    "duration": 83,
    "start_time": "2021-08-22T08:24:34.402Z"
   },
   {
    "duration": 41,
    "start_time": "2021-08-22T08:24:34.487Z"
   },
   {
    "duration": 9,
    "start_time": "2021-08-22T08:24:34.530Z"
   },
   {
    "duration": 8,
    "start_time": "2021-08-22T08:24:34.555Z"
   },
   {
    "duration": 5,
    "start_time": "2021-08-22T08:24:34.565Z"
   },
   {
    "duration": 7,
    "start_time": "2021-08-22T08:24:34.573Z"
   },
   {
    "duration": 11,
    "start_time": "2021-08-22T08:24:34.582Z"
   },
   {
    "duration": 165,
    "start_time": "2021-08-22T08:24:34.595Z"
   },
   {
    "duration": 9,
    "start_time": "2021-08-22T08:24:37.661Z"
   },
   {
    "duration": 406,
    "start_time": "2021-08-22T08:32:52.585Z"
   },
   {
    "duration": 4,
    "start_time": "2021-08-22T08:35:18.951Z"
   },
   {
    "duration": 434,
    "start_time": "2021-08-22T08:35:23.828Z"
   },
   {
    "duration": 8,
    "start_time": "2021-08-22T08:36:03.490Z"
   },
   {
    "duration": 11,
    "start_time": "2021-08-22T08:36:39.635Z"
   },
   {
    "duration": 4,
    "start_time": "2021-08-22T08:36:50.492Z"
   },
   {
    "duration": 610,
    "start_time": "2021-08-22T08:36:50.916Z"
   },
   {
    "duration": 11,
    "start_time": "2021-08-22T08:36:52.686Z"
   },
   {
    "duration": 10,
    "start_time": "2021-08-22T08:36:57.421Z"
   },
   {
    "duration": 3,
    "start_time": "2021-08-22T08:37:11.311Z"
   },
   {
    "duration": 6131,
    "start_time": "2021-08-22T08:37:12.215Z"
   },
   {
    "duration": 53,
    "start_time": "2021-08-22T08:37:18.348Z"
   },
   {
    "duration": 21,
    "start_time": "2021-08-22T08:37:25.455Z"
   },
   {
    "duration": 66,
    "start_time": "2021-08-22T08:45:40.824Z"
   },
   {
    "duration": 8,
    "start_time": "2021-08-22T08:47:00.686Z"
   },
   {
    "duration": 4854,
    "start_time": "2021-08-22T08:47:27.656Z"
   },
   {
    "duration": 4870,
    "start_time": "2021-08-22T08:47:52.134Z"
   },
   {
    "duration": 407,
    "start_time": "2021-08-22T08:48:46.656Z"
   },
   {
    "duration": 5838,
    "start_time": "2021-08-22T08:48:59.822Z"
   },
   {
    "duration": 5526,
    "start_time": "2021-08-22T08:49:24.078Z"
   },
   {
    "duration": 4506,
    "start_time": "2021-08-22T08:49:37.000Z"
   },
   {
    "duration": -689,
    "start_time": "2021-08-22T08:49:42.197Z"
   },
   {
    "duration": -732,
    "start_time": "2021-08-22T08:52:16.419Z"
   },
   {
    "duration": 43100,
    "start_time": "2021-08-22T08:52:17.765Z"
   },
   {
    "duration": 1101,
    "start_time": "2021-08-22T08:55:29.798Z"
   },
   {
    "duration": 8410,
    "start_time": "2021-08-22T08:55:33.256Z"
   },
   {
    "duration": 18925,
    "start_time": "2021-08-22T08:55:51.134Z"
   },
   {
    "duration": 9600,
    "start_time": "2021-08-22T08:56:18.158Z"
   },
   {
    "duration": 367,
    "start_time": "2021-08-22T08:56:32.255Z"
   },
   {
    "duration": 815,
    "start_time": "2021-08-22T08:56:41.929Z"
   },
   {
    "duration": 451,
    "start_time": "2021-08-22T08:57:42.427Z"
   },
   {
    "duration": 818,
    "start_time": "2021-08-22T08:58:56.684Z"
   },
   {
    "duration": 817,
    "start_time": "2021-08-22T08:59:40.782Z"
   },
   {
    "duration": 951,
    "start_time": "2021-08-22T08:59:53.695Z"
   },
   {
    "duration": 380,
    "start_time": "2021-08-22T09:00:11.526Z"
   },
   {
    "duration": 458,
    "start_time": "2021-08-22T09:01:05.974Z"
   },
   {
    "duration": 2596,
    "start_time": "2021-08-22T09:02:48.735Z"
   },
   {
    "duration": 357,
    "start_time": "2021-08-22T09:03:07.420Z"
   },
   {
    "duration": 2499,
    "start_time": "2021-08-22T09:03:29.785Z"
   },
   {
    "duration": 380,
    "start_time": "2021-08-22T09:03:46.043Z"
   },
   {
    "duration": 378,
    "start_time": "2021-08-22T09:06:31.153Z"
   },
   {
    "duration": 353,
    "start_time": "2021-08-22T09:07:08.090Z"
   },
   {
    "duration": 359,
    "start_time": "2021-08-22T09:08:23.019Z"
   },
   {
    "duration": 6801,
    "start_time": "2021-08-22T09:08:29.156Z"
   },
   {
    "duration": 6708,
    "start_time": "2021-08-22T09:09:50.206Z"
   },
   {
    "duration": 6,
    "start_time": "2021-08-22T09:10:36.309Z"
   },
   {
    "duration": 20,
    "start_time": "2021-08-22T09:16:25.327Z"
   },
   {
    "duration": 373,
    "start_time": "2021-08-22T09:18:14.395Z"
   },
   {
    "duration": 16,
    "start_time": "2021-08-22T09:18:31.200Z"
   },
   {
    "duration": 14,
    "start_time": "2021-08-22T09:18:41.720Z"
   },
   {
    "duration": 14,
    "start_time": "2021-08-22T09:19:19.699Z"
   },
   {
    "duration": 162,
    "start_time": "2021-08-22T09:19:37.802Z"
   },
   {
    "duration": 799,
    "start_time": "2021-08-22T09:19:40.518Z"
   },
   {
    "duration": 459,
    "start_time": "2021-08-22T09:19:44.061Z"
   },
   {
    "duration": 9,
    "start_time": "2021-08-22T09:19:47.934Z"
   },
   {
    "duration": 9,
    "start_time": "2021-08-22T09:19:50.876Z"
   },
   {
    "duration": 4,
    "start_time": "2021-08-22T09:20:37.840Z"
   },
   {
    "duration": 10,
    "start_time": "2021-08-22T09:20:39.047Z"
   },
   {
    "duration": 5,
    "start_time": "2021-08-22T09:21:11.106Z"
   },
   {
    "duration": 228,
    "start_time": "2021-08-22T09:21:11.114Z"
   },
   {
    "duration": 8,
    "start_time": "2021-08-22T09:21:11.345Z"
   },
   {
    "duration": 12,
    "start_time": "2021-08-22T09:21:11.357Z"
   },
   {
    "duration": 7,
    "start_time": "2021-08-22T09:21:11.372Z"
   },
   {
    "duration": 14,
    "start_time": "2021-08-22T09:21:11.381Z"
   },
   {
    "duration": 9,
    "start_time": "2021-08-22T09:21:11.398Z"
   },
   {
    "duration": 708,
    "start_time": "2021-08-22T09:21:11.411Z"
   },
   {
    "duration": 447,
    "start_time": "2021-08-22T09:21:12.122Z"
   },
   {
    "duration": 6,
    "start_time": "2021-08-22T09:21:12.571Z"
   },
   {
    "duration": 84,
    "start_time": "2021-08-22T09:21:12.580Z"
   },
   {
    "duration": 42,
    "start_time": "2021-08-22T09:21:12.666Z"
   },
   {
    "duration": 10,
    "start_time": "2021-08-22T09:21:12.710Z"
   },
   {
    "duration": 36,
    "start_time": "2021-08-22T09:21:12.723Z"
   },
   {
    "duration": 7,
    "start_time": "2021-08-22T09:21:12.761Z"
   },
   {
    "duration": 6,
    "start_time": "2021-08-22T09:21:12.770Z"
   },
   {
    "duration": 6,
    "start_time": "2021-08-22T09:21:12.779Z"
   },
   {
    "duration": 168,
    "start_time": "2021-08-22T09:21:12.787Z"
   },
   {
    "duration": 101,
    "start_time": "2021-08-22T09:21:12.959Z"
   },
   {
    "duration": 4,
    "start_time": "2021-08-22T09:21:13.155Z"
   },
   {
    "duration": 6147,
    "start_time": "2021-08-22T09:21:13.162Z"
   },
   {
    "duration": 60,
    "start_time": "2021-08-22T09:21:19.311Z"
   },
   {
    "duration": 181,
    "start_time": "2021-08-22T09:21:19.375Z"
   },
   {
    "duration": 909,
    "start_time": "2021-08-22T09:21:19.559Z"
   },
   {
    "duration": 507,
    "start_time": "2021-08-22T09:21:20.471Z"
   },
   {
    "duration": 5,
    "start_time": "2021-08-22T09:21:20.981Z"
   },
   {
    "duration": 36,
    "start_time": "2021-08-22T09:21:20.988Z"
   },
   {
    "duration": 9793,
    "start_time": "2021-08-22T09:21:21.026Z"
   },
   {
    "duration": -686,
    "start_time": "2021-08-22T09:21:31.508Z"
   },
   {
    "duration": -693,
    "start_time": "2021-08-22T09:21:31.516Z"
   },
   {
    "duration": 54,
    "start_time": "2021-08-22T09:21:54.802Z"
   },
   {
    "duration": 21,
    "start_time": "2021-08-22T09:21:55.573Z"
   },
   {
    "duration": 10,
    "start_time": "2021-08-22T09:21:56.613Z"
   },
   {
    "duration": 380,
    "start_time": "2021-08-22T09:22:21.169Z"
   },
   {
    "duration": 374,
    "start_time": "2021-08-22T09:22:50.989Z"
   },
   {
    "duration": 377,
    "start_time": "2021-08-22T09:23:02.570Z"
   },
   {
    "duration": 370,
    "start_time": "2021-08-22T09:23:33.985Z"
   },
   {
    "duration": 13,
    "start_time": "2021-08-22T09:23:49.272Z"
   },
   {
    "duration": 10,
    "start_time": "2021-08-22T09:24:03.196Z"
   },
   {
    "duration": 10,
    "start_time": "2021-08-22T09:24:06.005Z"
   },
   {
    "duration": 11,
    "start_time": "2021-08-22T09:24:29.607Z"
   },
   {
    "duration": 11,
    "start_time": "2021-08-22T09:24:46.299Z"
   },
   {
    "duration": 11,
    "start_time": "2021-08-22T09:25:06.474Z"
   },
   {
    "duration": 11,
    "start_time": "2021-08-22T09:25:13.105Z"
   },
   {
    "duration": 13,
    "start_time": "2021-08-22T09:25:15.815Z"
   },
   {
    "duration": 12,
    "start_time": "2021-08-22T09:25:20.555Z"
   },
   {
    "duration": 12,
    "start_time": "2021-08-22T09:25:26.395Z"
   },
   {
    "duration": 363,
    "start_time": "2021-08-22T09:30:08.819Z"
   },
   {
    "duration": 374,
    "start_time": "2021-08-22T09:30:16.635Z"
   },
   {
    "duration": 352,
    "start_time": "2021-08-22T09:30:22.416Z"
   },
   {
    "duration": 407,
    "start_time": "2021-08-22T09:34:32.840Z"
   },
   {
    "duration": 525,
    "start_time": "2021-08-22T09:34:39.298Z"
   },
   {
    "duration": 526,
    "start_time": "2021-08-22T09:34:56.465Z"
   },
   {
    "duration": 1092,
    "start_time": "2021-08-22T09:35:15.430Z"
   },
   {
    "duration": 592,
    "start_time": "2021-08-22T09:36:48.600Z"
   },
   {
    "duration": 2355,
    "start_time": "2021-08-22T09:36:57.551Z"
   },
   {
    "duration": 602,
    "start_time": "2021-08-22T09:38:20.995Z"
   },
   {
    "duration": 369,
    "start_time": "2021-08-22T09:39:16.091Z"
   },
   {
    "duration": 7,
    "start_time": "2021-08-22T09:39:23.459Z"
   },
   {
    "duration": 4,
    "start_time": "2021-08-22T09:40:11.048Z"
   },
   {
    "duration": 141,
    "start_time": "2021-08-22T09:40:11.055Z"
   },
   {
    "duration": 7,
    "start_time": "2021-08-22T09:40:11.199Z"
   },
   {
    "duration": 19,
    "start_time": "2021-08-22T09:40:11.208Z"
   },
   {
    "duration": 12,
    "start_time": "2021-08-22T09:40:11.229Z"
   },
   {
    "duration": 18,
    "start_time": "2021-08-22T09:40:11.243Z"
   },
   {
    "duration": 15,
    "start_time": "2021-08-22T09:40:11.263Z"
   },
   {
    "duration": 708,
    "start_time": "2021-08-22T09:40:11.280Z"
   },
   {
    "duration": 441,
    "start_time": "2021-08-22T09:40:11.991Z"
   },
   {
    "duration": 6,
    "start_time": "2021-08-22T09:40:12.435Z"
   },
   {
    "duration": 74,
    "start_time": "2021-08-22T09:40:12.443Z"
   },
   {
    "duration": 54,
    "start_time": "2021-08-22T09:40:12.519Z"
   },
   {
    "duration": 10,
    "start_time": "2021-08-22T09:40:12.575Z"
   },
   {
    "duration": 11,
    "start_time": "2021-08-22T09:40:12.587Z"
   },
   {
    "duration": 8,
    "start_time": "2021-08-22T09:40:12.600Z"
   },
   {
    "duration": 6,
    "start_time": "2021-08-22T09:40:12.611Z"
   },
   {
    "duration": 37,
    "start_time": "2021-08-22T09:40:12.620Z"
   },
   {
    "duration": 100,
    "start_time": "2021-08-22T09:40:12.660Z"
   },
   {
    "duration": 192,
    "start_time": "2021-08-22T09:40:12.763Z"
   },
   {
    "duration": 5,
    "start_time": "2021-08-22T09:40:12.959Z"
   },
   {
    "duration": 6292,
    "start_time": "2021-08-22T09:40:13.057Z"
   },
   {
    "duration": 49,
    "start_time": "2021-08-22T09:40:19.355Z"
   },
   {
    "duration": 178,
    "start_time": "2021-08-22T09:40:19.406Z"
   },
   {
    "duration": 941,
    "start_time": "2021-08-22T09:40:19.587Z"
   },
   {
    "duration": 654,
    "start_time": "2021-08-22T09:40:20.530Z"
   },
   {
    "duration": 5,
    "start_time": "2021-08-22T09:40:21.186Z"
   },
   {
    "duration": 35,
    "start_time": "2021-08-22T09:40:21.196Z"
   },
   {
    "duration": 46,
    "start_time": "2021-08-22T09:40:21.234Z"
   },
   {
    "duration": 46,
    "start_time": "2021-08-22T09:40:21.283Z"
   },
   {
    "duration": 117,
    "start_time": "2021-08-22T09:40:21.359Z"
   },
   {
    "duration": 621,
    "start_time": "2021-08-22T09:40:23.682Z"
   },
   {
    "duration": 8,
    "start_time": "2021-08-22T09:42:45.445Z"
   },
   {
    "duration": 4,
    "start_time": "2021-08-22T09:43:06.479Z"
   },
   {
    "duration": 599,
    "start_time": "2021-08-22T09:43:09.569Z"
   },
   {
    "duration": 13,
    "start_time": "2021-08-22T09:43:18.838Z"
   },
   {
    "duration": 389,
    "start_time": "2021-08-22T09:43:34.801Z"
   },
   {
    "duration": 4,
    "start_time": "2021-08-22T09:44:08.930Z"
   },
   {
    "duration": 6,
    "start_time": "2021-08-22T09:44:15.378Z"
   },
   {
    "duration": 605,
    "start_time": "2021-08-22T09:44:18.058Z"
   },
   {
    "duration": 137,
    "start_time": "2021-08-22T09:44:40.461Z"
   },
   {
    "duration": 178795,
    "start_time": "2021-08-22T09:44:43.799Z"
   },
   {
    "duration": 7,
    "start_time": "2021-08-22T09:48:02.166Z"
   },
   {
    "duration": 384,
    "start_time": "2021-08-22T09:48:46.987Z"
   },
   {
    "duration": 468,
    "start_time": "2021-08-22T09:49:02.016Z"
   },
   {
    "duration": 13,
    "start_time": "2021-08-22T09:49:30.701Z"
   },
   {
    "duration": 11,
    "start_time": "2021-08-22T09:49:47.244Z"
   },
   {
    "duration": 12,
    "start_time": "2021-08-22T09:50:14.894Z"
   },
   {
    "duration": 360,
    "start_time": "2021-08-22T09:54:05.295Z"
   },
   {
    "duration": 7,
    "start_time": "2021-08-22T09:54:29.939Z"
   },
   {
    "duration": 266,
    "start_time": "2021-08-22T09:54:29.950Z"
   },
   {
    "duration": 6,
    "start_time": "2021-08-22T09:54:30.219Z"
   },
   {
    "duration": 36,
    "start_time": "2021-08-22T09:54:30.228Z"
   },
   {
    "duration": 13,
    "start_time": "2021-08-22T09:54:30.266Z"
   },
   {
    "duration": 38,
    "start_time": "2021-08-22T09:54:30.282Z"
   },
   {
    "duration": 25,
    "start_time": "2021-08-22T09:54:30.323Z"
   },
   {
    "duration": 797,
    "start_time": "2021-08-22T09:54:30.350Z"
   },
   {
    "duration": 425,
    "start_time": "2021-08-22T09:54:31.156Z"
   },
   {
    "duration": 5,
    "start_time": "2021-08-22T09:54:31.584Z"
   },
   {
    "duration": 76,
    "start_time": "2021-08-22T09:54:31.591Z"
   },
   {
    "duration": 40,
    "start_time": "2021-08-22T09:54:31.669Z"
   },
   {
    "duration": 10,
    "start_time": "2021-08-22T09:54:31.711Z"
   },
   {
    "duration": 32,
    "start_time": "2021-08-22T09:54:31.723Z"
   },
   {
    "duration": 5,
    "start_time": "2021-08-22T09:54:31.758Z"
   },
   {
    "duration": 28,
    "start_time": "2021-08-22T09:54:31.765Z"
   },
   {
    "duration": 13,
    "start_time": "2021-08-22T09:54:31.795Z"
   },
   {
    "duration": 53,
    "start_time": "2021-08-22T09:54:31.810Z"
   },
   {
    "duration": 195,
    "start_time": "2021-08-22T09:54:31.865Z"
   },
   {
    "duration": 99,
    "start_time": "2021-08-22T09:54:32.064Z"
   },
   {
    "duration": 6406,
    "start_time": "2021-08-22T09:54:32.167Z"
   },
   {
    "duration": 49,
    "start_time": "2021-08-22T09:54:38.576Z"
   },
   {
    "duration": 230,
    "start_time": "2021-08-22T09:54:38.628Z"
   },
   {
    "duration": 860,
    "start_time": "2021-08-22T09:54:38.861Z"
   },
   {
    "duration": 465,
    "start_time": "2021-08-22T09:54:39.723Z"
   },
   {
    "duration": 6,
    "start_time": "2021-08-22T09:54:40.191Z"
   },
   {
    "duration": 10,
    "start_time": "2021-08-22T09:54:40.202Z"
   },
   {
    "duration": 5,
    "start_time": "2021-08-22T09:54:40.214Z"
   },
   {
    "duration": 43,
    "start_time": "2021-08-22T09:54:40.221Z"
   },
   {
    "duration": 198,
    "start_time": "2021-08-22T09:54:40.268Z"
   },
   {
    "duration": 5,
    "start_time": "2021-08-22T09:54:43.521Z"
   },
   {
    "duration": 113,
    "start_time": "2021-08-22T09:55:19.855Z"
   },
   {
    "duration": 409,
    "start_time": "2021-08-22T09:55:27.375Z"
   },
   {
    "duration": 14,
    "start_time": "2021-08-22T09:55:43.457Z"
   },
   {
    "duration": 13,
    "start_time": "2021-08-22T09:55:52.298Z"
   },
   {
    "duration": 16,
    "start_time": "2021-08-22T09:55:59.825Z"
   },
   {
    "duration": 13,
    "start_time": "2021-08-22T09:56:04.236Z"
   },
   {
    "duration": 374,
    "start_time": "2021-08-22T09:56:32.163Z"
   },
   {
    "duration": 13,
    "start_time": "2021-08-22T09:57:22.535Z"
   },
   {
    "duration": 13,
    "start_time": "2021-08-22T09:57:42.438Z"
   },
   {
    "duration": 14,
    "start_time": "2021-08-22T09:57:47.003Z"
   },
   {
    "duration": 3,
    "start_time": "2021-08-22T09:58:21.487Z"
   },
   {
    "duration": 411,
    "start_time": "2021-08-22T09:58:31.853Z"
   },
   {
    "duration": 798,
    "start_time": "2021-08-22T09:58:36.825Z"
   },
   {
    "duration": 456,
    "start_time": "2021-08-22T09:58:41.019Z"
   },
   {
    "duration": 16,
    "start_time": "2021-08-22T09:58:49.485Z"
   },
   {
    "duration": 395,
    "start_time": "2021-08-22T09:59:45.209Z"
   },
   {
    "duration": 374,
    "start_time": "2021-08-22T09:59:51.432Z"
   },
   {
    "duration": 171,
    "start_time": "2021-08-22T10:00:02.015Z"
   },
   {
    "duration": 127,
    "start_time": "2021-08-22T10:00:07.369Z"
   },
   {
    "duration": 379,
    "start_time": "2021-08-22T10:00:11.611Z"
   },
   {
    "duration": 408,
    "start_time": "2021-08-22T10:00:20.717Z"
   },
   {
    "duration": 370,
    "start_time": "2021-08-22T10:00:26.978Z"
   },
   {
    "duration": 372,
    "start_time": "2021-08-22T10:00:34.277Z"
   },
   {
    "duration": 37,
    "start_time": "2021-08-22T10:01:44.573Z"
   },
   {
    "duration": 377,
    "start_time": "2021-08-22T10:02:01.702Z"
   },
   {
    "duration": 391,
    "start_time": "2021-08-22T10:02:55.860Z"
   },
   {
    "duration": 375,
    "start_time": "2021-08-22T10:03:21.326Z"
   },
   {
    "duration": 380,
    "start_time": "2021-08-22T10:03:25.713Z"
   },
   {
    "duration": 382,
    "start_time": "2021-08-22T10:03:37.788Z"
   },
   {
    "duration": 381,
    "start_time": "2021-08-22T10:04:54.517Z"
   },
   {
    "duration": 809,
    "start_time": "2021-08-22T10:05:08.530Z"
   },
   {
    "duration": 369,
    "start_time": "2021-08-22T10:05:22.893Z"
   },
   {
    "duration": 2559,
    "start_time": "2021-08-22T10:05:39.561Z"
   },
   {
    "duration": 379,
    "start_time": "2021-08-22T10:05:55.086Z"
   },
   {
    "duration": 9121,
    "start_time": "2021-08-22T10:08:23.499Z"
   },
   {
    "duration": 118977,
    "start_time": "2021-08-22T10:08:57.282Z"
   },
   {
    "duration": 118846,
    "start_time": "2021-08-22T10:11:26.824Z"
   },
   {
    "duration": 439,
    "start_time": "2021-08-22T10:13:30.278Z"
   },
   {
    "duration": 5,
    "start_time": "2021-08-22T10:13:44.725Z"
   },
   {
    "duration": 836,
    "start_time": "2021-08-22T10:14:30.825Z"
   },
   {
    "duration": 810,
    "start_time": "2021-08-22T10:14:38.789Z"
   },
   {
    "duration": 845,
    "start_time": "2021-08-22T10:15:23.572Z"
   },
   {
    "duration": 832,
    "start_time": "2021-08-22T10:15:33.787Z"
   },
   {
    "duration": 1013,
    "start_time": "2021-08-22T10:15:43.531Z"
   },
   {
    "duration": 9261,
    "start_time": "2021-08-22T10:17:30.197Z"
   },
   {
    "duration": 119559,
    "start_time": "2021-08-22T10:18:01.042Z"
   },
   {
    "duration": 6,
    "start_time": "2021-08-22T10:20:04.993Z"
   },
   {
    "duration": 10580,
    "start_time": "2021-08-22T10:20:30.090Z"
   },
   {
    "duration": 149116,
    "start_time": "2021-08-22T10:20:49.341Z"
   },
   {
    "duration": 852,
    "start_time": "2021-08-22T10:24:22.506Z"
   },
   {
    "duration": 11899,
    "start_time": "2021-08-22T10:25:13.327Z"
   },
   {
    "duration": 1610002,
    "start_time": "2021-08-22T10:25:27.760Z"
   },
   {
    "duration": 6,
    "start_time": "2021-08-22T11:02:53.774Z"
   },
   {
    "duration": 155245,
    "start_time": "2021-08-22T11:03:14.011Z"
   },
   {
    "duration": 507,
    "start_time": "2021-08-22T11:06:02.322Z"
   },
   {
    "duration": 5,
    "start_time": "2021-08-22T11:06:15.339Z"
   },
   {
    "duration": 9,
    "start_time": "2021-08-22T11:06:19.668Z"
   },
   {
    "duration": 7,
    "start_time": "2021-08-22T11:06:45.714Z"
   },
   {
    "duration": 445,
    "start_time": "2021-08-22T11:07:04.612Z"
   },
   {
    "duration": 2525,
    "start_time": "2021-08-22T11:07:40.417Z"
   },
   {
    "duration": 19,
    "start_time": "2021-08-22T11:08:34.551Z"
   },
   {
    "duration": 120,
    "start_time": "2021-08-22T11:08:39.044Z"
   },
   {
    "duration": 75,
    "start_time": "2021-08-22T11:08:52.791Z"
   },
   {
    "duration": 355,
    "start_time": "2021-08-22T11:09:05.493Z"
   },
   {
    "duration": 364,
    "start_time": "2021-08-22T11:09:13.226Z"
   },
   {
    "duration": 367,
    "start_time": "2021-08-22T11:12:03.204Z"
   },
   {
    "duration": 359,
    "start_time": "2021-08-22T11:12:09.925Z"
   },
   {
    "duration": 171,
    "start_time": "2021-08-22T11:14:54.790Z"
   },
   {
    "duration": 1830,
    "start_time": "2021-08-22T11:16:14.526Z"
   },
   {
    "duration": 2699,
    "start_time": "2021-08-22T11:17:15.783Z"
   },
   {
    "duration": 2514,
    "start_time": "2021-08-22T11:17:59.210Z"
   },
   {
    "duration": 2533,
    "start_time": "2021-08-22T11:18:34.986Z"
   },
   {
    "duration": 1824,
    "start_time": "2021-08-22T11:19:10.521Z"
   },
   {
    "duration": 1866,
    "start_time": "2021-08-22T11:19:29.461Z"
   },
   {
    "duration": 8,
    "start_time": "2021-08-22T11:19:37.140Z"
   },
   {
    "duration": 17166,
    "start_time": "2021-08-22T11:19:48.593Z"
   },
   {
    "duration": 8,
    "start_time": "2021-08-22T11:20:13.456Z"
   },
   {
    "duration": 574623,
    "start_time": "2021-08-22T11:20:39.017Z"
   },
   {
    "duration": 673,
    "start_time": "2021-08-22T11:30:18.171Z"
   },
   {
    "duration": 165689,
    "start_time": "2021-08-22T11:30:25.888Z"
   },
   {
    "duration": 714,
    "start_time": "2021-08-22T11:33:13.323Z"
   },
   {
    "duration": 8,
    "start_time": "2021-08-22T11:33:17.552Z"
   },
   {
    "duration": 7,
    "start_time": "2021-08-22T11:33:20.806Z"
   },
   {
    "duration": 592,
    "start_time": "2021-08-22T11:34:06.882Z"
   },
   {
    "duration": 249,
    "start_time": "2021-08-22T11:34:13.335Z"
   },
   {
    "duration": 7,
    "start_time": "2021-08-22T11:34:13.958Z"
   },
   {
    "duration": 394,
    "start_time": "2021-08-22T11:34:23.368Z"
   },
   {
    "duration": 5,
    "start_time": "2021-08-22T11:34:24.317Z"
   },
   {
    "duration": 3231,
    "start_time": "2021-08-22T11:34:30.025Z"
   },
   {
    "duration": 6,
    "start_time": "2021-08-22T11:34:33.888Z"
   },
   {
    "duration": 8,
    "start_time": "2021-08-22T11:34:35.918Z"
   },
   {
    "duration": 27306,
    "start_time": "2021-08-22T11:34:43.659Z"
   },
   {
    "duration": 6,
    "start_time": "2021-08-22T11:35:11.801Z"
   },
   {
    "duration": 7,
    "start_time": "2021-08-22T11:35:15.416Z"
   },
   {
    "duration": 8711,
    "start_time": "2021-08-22T11:35:25.591Z"
   },
   {
    "duration": 6,
    "start_time": "2021-08-22T11:35:35.073Z"
   },
   {
    "duration": 9251,
    "start_time": "2021-08-22T11:36:08.405Z"
   },
   {
    "duration": 6,
    "start_time": "2021-08-22T11:36:19.614Z"
   },
   {
    "duration": 58999,
    "start_time": "2021-08-22T11:36:32.080Z"
   },
   {
    "duration": 6,
    "start_time": "2021-08-22T11:37:32.426Z"
   },
   {
    "duration": 3082,
    "start_time": "2021-08-22T11:37:40.279Z"
   },
   {
    "duration": 6,
    "start_time": "2021-08-22T11:37:44.409Z"
   },
   {
    "duration": 11395,
    "start_time": "2021-08-22T11:37:49.061Z"
   },
   {
    "duration": 6,
    "start_time": "2021-08-22T11:38:01.717Z"
   },
   {
    "duration": 18213,
    "start_time": "2021-08-22T11:38:07.543Z"
   },
   {
    "duration": 6,
    "start_time": "2021-08-22T11:38:26.627Z"
   },
   {
    "duration": 479,
    "start_time": "2021-08-22T11:38:34.149Z"
   },
   {
    "duration": 6,
    "start_time": "2021-08-22T11:38:35.350Z"
   },
   {
    "duration": 9551,
    "start_time": "2021-08-22T11:38:44.313Z"
   },
   {
    "duration": 6,
    "start_time": "2021-08-22T11:38:55.256Z"
   },
   {
    "duration": 483,
    "start_time": "2021-08-22T11:39:05.247Z"
   },
   {
    "duration": 6,
    "start_time": "2021-08-22T11:39:06.740Z"
   },
   {
    "duration": 871,
    "start_time": "2021-08-22T11:39:10.588Z"
   },
   {
    "duration": 6,
    "start_time": "2021-08-22T11:39:11.808Z"
   },
   {
    "duration": 470,
    "start_time": "2021-08-22T11:39:21.324Z"
   },
   {
    "duration": 6,
    "start_time": "2021-08-22T11:39:22.348Z"
   },
   {
    "duration": 40239,
    "start_time": "2021-08-22T11:39:49.777Z"
   },
   {
    "duration": 5624,
    "start_time": "2021-08-22T11:40:32.077Z"
   },
   {
    "duration": 4778,
    "start_time": "2021-08-22T11:40:49.726Z"
   },
   {
    "duration": 4616,
    "start_time": "2021-08-22T11:40:56.068Z"
   },
   {
    "duration": 4088,
    "start_time": "2021-08-22T11:41:03.124Z"
   },
   {
    "duration": 9480,
    "start_time": "2021-08-22T11:41:09.861Z"
   },
   {
    "duration": 32495,
    "start_time": "2021-08-22T11:41:21.955Z"
   },
   {
    "duration": 54290,
    "start_time": "2021-08-22T11:42:03.993Z"
   },
   {
    "duration": 5757,
    "start_time": "2021-08-22T11:42:59.071Z"
   },
   {
    "duration": 35797,
    "start_time": "2021-08-22T11:43:07.651Z"
   },
   {
    "duration": 7525,
    "start_time": "2021-08-22T11:43:45.241Z"
   },
   {
    "duration": 244703,
    "start_time": "2021-08-22T11:43:57.734Z"
   },
   {
    "duration": 85128,
    "start_time": "2021-08-22T11:48:03.912Z"
   },
   {
    "duration": 6,
    "start_time": "2021-08-22T11:49:32.041Z"
   },
   {
    "duration": 17188,
    "start_time": "2021-08-22T11:49:37.631Z"
   },
   {
    "duration": 7945,
    "start_time": "2021-08-22T11:49:56.452Z"
   },
   {
    "duration": 234116,
    "start_time": "2021-08-22T11:50:12.663Z"
   },
   {
    "duration": 6,
    "start_time": "2021-08-22T11:54:30.835Z"
   },
   {
    "duration": 449644,
    "start_time": "2021-08-22T11:54:37.853Z"
   },
   {
    "duration": 6,
    "start_time": "2021-08-22T12:02:35.087Z"
   },
   {
    "duration": 36675,
    "start_time": "2021-08-22T12:02:42.270Z"
   },
   {
    "duration": 120007,
    "start_time": "2021-08-22T12:03:23.418Z"
   },
   {
    "duration": 6,
    "start_time": "2021-08-22T12:07:03.896Z"
   },
   {
    "duration": 4,
    "start_time": "2021-08-22T12:09:04.830Z"
   },
   {
    "duration": 365,
    "start_time": "2021-08-22T12:09:05.798Z"
   },
   {
    "duration": 29,
    "start_time": "2021-08-22T12:09:45.865Z"
   },
   {
    "duration": 4,
    "start_time": "2021-08-22T12:09:59.785Z"
   },
   {
    "duration": 242,
    "start_time": "2021-08-22T12:10:00.785Z"
   },
   {
    "duration": 4935,
    "start_time": "2021-08-22T12:10:31.628Z"
   },
   {
    "duration": 24,
    "start_time": "2021-08-22T12:10:53.314Z"
   },
   {
    "duration": 6,
    "start_time": "2021-08-22T12:10:56.453Z"
   },
   {
    "duration": 4,
    "start_time": "2021-08-22T12:19:05.923Z"
   },
   {
    "duration": 8,
    "start_time": "2021-08-22T12:19:07.740Z"
   },
   {
    "duration": 4,
    "start_time": "2021-08-22T12:19:08.440Z"
   },
   {
    "duration": 4,
    "start_time": "2021-08-22T12:19:08.946Z"
   },
   {
    "duration": 9135,
    "start_time": "2021-08-22T12:19:09.623Z"
   },
   {
    "duration": 23,
    "start_time": "2021-08-22T12:19:56.162Z"
   },
   {
    "duration": 6,
    "start_time": "2021-08-22T12:19:59.810Z"
   },
   {
    "duration": 4,
    "start_time": "2021-08-22T12:20:33.340Z"
   },
   {
    "duration": 4,
    "start_time": "2021-08-22T12:20:34.868Z"
   },
   {
    "duration": 6091,
    "start_time": "2021-08-22T12:20:36.569Z"
   },
   {
    "duration": 25,
    "start_time": "2021-08-22T12:20:49.769Z"
   },
   {
    "duration": 6,
    "start_time": "2021-08-22T12:20:50.324Z"
   },
   {
    "duration": 3,
    "start_time": "2021-08-22T12:20:59.697Z"
   },
   {
    "duration": 4,
    "start_time": "2021-08-22T12:21:00.100Z"
   },
   {
    "duration": 3457,
    "start_time": "2021-08-22T12:21:01.205Z"
   },
   {
    "duration": 24,
    "start_time": "2021-08-22T12:21:31.498Z"
   },
   {
    "duration": 10,
    "start_time": "2021-08-22T12:21:32.217Z"
   },
   {
    "duration": 4,
    "start_time": "2021-08-22T12:21:40.911Z"
   },
   {
    "duration": 4,
    "start_time": "2021-08-22T12:21:41.929Z"
   },
   {
    "duration": 1900,
    "start_time": "2021-08-22T12:21:42.464Z"
   },
   {
    "duration": 22,
    "start_time": "2021-08-22T12:21:52.827Z"
   },
   {
    "duration": 8,
    "start_time": "2021-08-22T12:21:53.311Z"
   },
   {
    "duration": 4,
    "start_time": "2021-08-22T12:22:15.209Z"
   },
   {
    "duration": 4,
    "start_time": "2021-08-22T12:22:15.606Z"
   },
   {
    "duration": 12470,
    "start_time": "2021-08-22T12:22:15.993Z"
   },
   {
    "duration": 23,
    "start_time": "2021-08-22T12:22:35.984Z"
   },
   {
    "duration": 6,
    "start_time": "2021-08-22T12:22:36.449Z"
   },
   {
    "duration": 5,
    "start_time": "2021-08-22T12:23:45.963Z"
   },
   {
    "duration": 4,
    "start_time": "2021-08-22T12:23:46.369Z"
   },
   {
    "duration": 22913,
    "start_time": "2021-08-22T12:23:46.852Z"
   },
   {
    "duration": 27,
    "start_time": "2021-08-22T12:24:16.617Z"
   },
   {
    "duration": 7,
    "start_time": "2021-08-22T12:24:17.084Z"
   },
   {
    "duration": 8,
    "start_time": "2021-08-22T12:24:36.739Z"
   },
   {
    "duration": 4,
    "start_time": "2021-08-22T12:24:38.049Z"
   },
   {
    "duration": 4,
    "start_time": "2021-08-22T12:24:38.543Z"
   },
   {
    "duration": 5561,
    "start_time": "2021-08-22T12:24:39.198Z"
   },
   {
    "duration": 98,
    "start_time": "2021-08-22T12:24:49.964Z"
   },
   {
    "duration": 6,
    "start_time": "2021-08-22T12:24:50.367Z"
   },
   {
    "duration": 8,
    "start_time": "2021-08-22T13:47:37.597Z"
   },
   {
    "duration": 4,
    "start_time": "2021-08-22T13:47:38.461Z"
   },
   {
    "duration": 3,
    "start_time": "2021-08-22T13:47:39.165Z"
   },
   {
    "duration": 311,
    "start_time": "2021-08-22T13:47:39.934Z"
   },
   {
    "duration": 4,
    "start_time": "2021-08-22T13:48:53.901Z"
   },
   {
    "duration": 4,
    "start_time": "2021-08-22T13:48:54.570Z"
   },
   {
    "duration": 282,
    "start_time": "2021-08-22T13:48:54.890Z"
   },
   {
    "duration": 152,
    "start_time": "2021-08-22T13:49:35.133Z"
   },
   {
    "duration": 3,
    "start_time": "2021-08-22T13:49:42.704Z"
   },
   {
    "duration": 4,
    "start_time": "2021-08-22T13:49:44.336Z"
   },
   {
    "duration": 344,
    "start_time": "2021-08-22T13:49:44.681Z"
   },
   {
    "duration": 4,
    "start_time": "2021-08-22T13:50:06.646Z"
   },
   {
    "duration": 4,
    "start_time": "2021-08-22T13:50:07.233Z"
   },
   {
    "duration": 68087,
    "start_time": "2021-08-22T13:50:08.087Z"
   },
   {
    "duration": 100,
    "start_time": "2021-08-22T13:51:26.957Z"
   },
   {
    "duration": 6,
    "start_time": "2021-08-22T13:51:29.146Z"
   },
   {
    "duration": 5,
    "start_time": "2021-08-22T13:51:52.185Z"
   },
   {
    "duration": 4,
    "start_time": "2021-08-22T13:51:52.896Z"
   },
   {
    "duration": 69327,
    "start_time": "2021-08-22T13:51:53.442Z"
   },
   {
    "duration": 41,
    "start_time": "2021-08-22T13:53:09.516Z"
   },
   {
    "duration": 6,
    "start_time": "2021-08-22T13:53:10.616Z"
   },
   {
    "duration": 4,
    "start_time": "2021-08-22T13:53:35.319Z"
   },
   {
    "duration": 3,
    "start_time": "2021-08-22T13:53:36.521Z"
   },
   {
    "duration": 70717,
    "start_time": "2021-08-22T13:53:36.753Z"
   },
   {
    "duration": 55,
    "start_time": "2021-08-22T13:54:55.005Z"
   },
   {
    "duration": 7,
    "start_time": "2021-08-22T13:54:56.721Z"
   },
   {
    "duration": 4,
    "start_time": "2021-08-22T13:55:03.715Z"
   },
   {
    "duration": 3,
    "start_time": "2021-08-22T13:55:04.332Z"
   },
   {
    "duration": 68571,
    "start_time": "2021-08-22T13:55:04.693Z"
   },
   {
    "duration": 29,
    "start_time": "2021-08-22T13:56:23.665Z"
   },
   {
    "duration": 8,
    "start_time": "2021-08-22T13:56:24.436Z"
   },
   {
    "duration": 385,
    "start_time": "2021-08-22T14:02:25.349Z"
   },
   {
    "duration": 429,
    "start_time": "2021-08-22T14:06:39.304Z"
   },
   {
    "duration": 819,
    "start_time": "2021-08-22T14:08:46.849Z"
   },
   {
    "duration": 580,
    "start_time": "2021-08-22T14:08:51.507Z"
   },
   {
    "duration": 563,
    "start_time": "2021-08-22T14:08:56.907Z"
   },
   {
    "duration": 5,
    "start_time": "2021-08-22T14:09:09.021Z"
   },
   {
    "duration": 5,
    "start_time": "2021-08-22T14:09:26.513Z"
   },
   {
    "duration": 3,
    "start_time": "2021-08-22T14:16:15.873Z"
   },
   {
    "duration": 18,
    "start_time": "2021-08-22T14:16:16.260Z"
   },
   {
    "duration": 379,
    "start_time": "2021-08-22T14:16:29.301Z"
   },
   {
    "duration": 31,
    "start_time": "2021-08-22T14:16:34.433Z"
   },
   {
    "duration": 193,
    "start_time": "2021-08-22T14:16:44.183Z"
   },
   {
    "duration": 8,
    "start_time": "2021-08-22T14:16:45.266Z"
   },
   {
    "duration": 13,
    "start_time": "2021-08-22T14:16:45.582Z"
   },
   {
    "duration": 9,
    "start_time": "2021-08-22T14:16:52.906Z"
   },
   {
    "duration": 4,
    "start_time": "2021-08-22T14:16:55.597Z"
   },
   {
    "duration": 15,
    "start_time": "2021-08-22T14:16:56.054Z"
   },
   {
    "duration": 10,
    "start_time": "2021-08-22T14:16:56.815Z"
   },
   {
    "duration": 412,
    "start_time": "2021-08-22T14:20:00.991Z"
   },
   {
    "duration": 10,
    "start_time": "2021-08-22T14:25:49.529Z"
   },
   {
    "duration": 6,
    "start_time": "2021-08-22T14:26:02.464Z"
   },
   {
    "duration": 64,
    "start_time": "2021-08-22T14:26:03.374Z"
   },
   {
    "duration": 45,
    "start_time": "2021-08-22T14:26:04.840Z"
   },
   {
    "duration": 15,
    "start_time": "2021-08-22T14:27:33.000Z"
   },
   {
    "duration": 6,
    "start_time": "2021-08-22T14:29:08.585Z"
   },
   {
    "duration": 6,
    "start_time": "2021-08-22T14:29:12.748Z"
   },
   {
    "duration": 6,
    "start_time": "2021-08-22T14:30:02.038Z"
   },
   {
    "duration": 6,
    "start_time": "2021-08-22T14:30:02.284Z"
   },
   {
    "duration": 21,
    "start_time": "2021-08-22T14:31:31.197Z"
   },
   {
    "duration": 5,
    "start_time": "2021-08-22T14:31:31.488Z"
   },
   {
    "duration": 6,
    "start_time": "2021-08-22T14:31:31.902Z"
   },
   {
    "duration": 5,
    "start_time": "2021-08-22T14:31:50.276Z"
   },
   {
    "duration": 418,
    "start_time": "2021-08-22T14:39:52.476Z"
   },
   {
    "duration": 8,
    "start_time": "2021-08-22T14:41:34.364Z"
   },
   {
    "duration": 10,
    "start_time": "2021-08-22T14:42:07.991Z"
   },
   {
    "duration": 196469,
    "start_time": "2021-08-22T14:42:08.406Z"
   },
   {
    "duration": 4,
    "start_time": "2021-08-22T14:45:56.757Z"
   },
   {
    "duration": 5544,
    "start_time": "2021-08-22T14:45:57.620Z"
   },
   {
    "duration": 45,
    "start_time": "2021-08-22T14:46:05.401Z"
   },
   {
    "duration": 54368,
    "start_time": "2021-08-22T14:46:35.360Z"
   },
   {
    "duration": 4,
    "start_time": "2021-08-22T14:47:42.065Z"
   },
   {
    "duration": 6187,
    "start_time": "2021-08-22T14:47:42.733Z"
   },
   {
    "duration": 65,
    "start_time": "2021-08-22T14:47:48.923Z"
   },
   {
    "duration": 119051,
    "start_time": "2021-08-22T14:53:19.952Z"
   },
   {
    "duration": 117236,
    "start_time": "2021-08-22T14:55:55.881Z"
   },
   {
    "duration": 5,
    "start_time": "2021-08-22T14:59:52.425Z"
   },
   {
    "duration": 4,
    "start_time": "2021-08-22T14:59:53.783Z"
   },
   {
    "duration": 97238,
    "start_time": "2021-08-22T14:59:57.038Z"
   },
   {
    "duration": 8760,
    "start_time": "2021-08-22T15:02:26.405Z"
   },
   {
    "duration": 12136,
    "start_time": "2021-08-22T15:04:17.823Z"
   },
   {
    "duration": 7,
    "start_time": "2021-08-22T15:04:58.602Z"
   },
   {
    "duration": 8,
    "start_time": "2021-08-22T15:05:09.002Z"
   },
   {
    "duration": 7,
    "start_time": "2021-08-22T15:05:16.755Z"
   },
   {
    "duration": 12,
    "start_time": "2021-08-22T15:07:17.268Z"
   },
   {
    "duration": 8,
    "start_time": "2021-08-22T15:07:28.849Z"
   },
   {
    "duration": 7,
    "start_time": "2021-08-22T15:12:07.206Z"
   },
   {
    "duration": 6,
    "start_time": "2021-08-22T15:12:07.505Z"
   },
   {
    "duration": 18,
    "start_time": "2021-08-22T15:12:44.259Z"
   },
   {
    "duration": 6,
    "start_time": "2021-08-22T15:12:45.009Z"
   },
   {
    "duration": 6,
    "start_time": "2021-08-22T15:13:41.976Z"
   },
   {
    "duration": 6,
    "start_time": "2021-08-22T15:13:55.674Z"
   },
   {
    "duration": 5,
    "start_time": "2021-08-22T15:13:58.175Z"
   },
   {
    "duration": 6,
    "start_time": "2021-08-22T15:14:17.865Z"
   },
   {
    "duration": 7,
    "start_time": "2021-08-22T15:14:42.199Z"
   },
   {
    "duration": 7,
    "start_time": "2021-08-22T15:14:44.857Z"
   },
   {
    "duration": 46,
    "start_time": "2021-08-22T15:15:15.728Z"
   },
   {
    "duration": 6,
    "start_time": "2021-08-22T15:15:16.871Z"
   },
   {
    "duration": 5,
    "start_time": "2021-08-22T15:15:29.882Z"
   },
   {
    "duration": 4,
    "start_time": "2021-08-22T15:15:30.631Z"
   },
   {
    "duration": 133353,
    "start_time": "2021-08-22T15:15:31.120Z"
   },
   {
    "duration": 85,
    "start_time": "2021-08-22T15:17:44.476Z"
   },
   {
    "duration": 93,
    "start_time": "2021-08-22T15:17:44.565Z"
   },
   {
    "duration": 7,
    "start_time": "2021-08-22T15:17:51.269Z"
   },
   {
    "duration": 107,
    "start_time": "2021-08-22T15:17:55.052Z"
   },
   {
    "duration": 7,
    "start_time": "2021-08-22T15:17:55.837Z"
   },
   {
    "duration": 4,
    "start_time": "2021-08-22T15:18:06.309Z"
   },
   {
    "duration": 3,
    "start_time": "2021-08-22T15:18:07.059Z"
   },
   {
    "duration": 85084,
    "start_time": "2021-08-22T15:18:07.376Z"
   },
   {
    "duration": 19,
    "start_time": "2021-08-22T15:21:52.704Z"
   },
   {
    "duration": 5,
    "start_time": "2021-08-22T15:21:53.013Z"
   },
   {
    "duration": 6,
    "start_time": "2021-08-22T15:22:15.553Z"
   },
   {
    "duration": 6,
    "start_time": "2021-08-22T15:23:01.026Z"
   },
   {
    "duration": 5,
    "start_time": "2021-08-22T15:26:16.820Z"
   },
   {
    "duration": 429,
    "start_time": "2021-08-22T15:26:45.500Z"
   },
   {
    "duration": 12,
    "start_time": "2021-08-22T15:26:58.409Z"
   },
   {
    "duration": 15,
    "start_time": "2021-08-22T15:27:33.623Z"
   },
   {
    "duration": 390,
    "start_time": "2021-08-22T15:27:34.281Z"
   },
   {
    "duration": 382,
    "start_time": "2021-08-22T15:28:04.275Z"
   },
   {
    "duration": 10,
    "start_time": "2021-08-22T15:28:11.499Z"
   },
   {
    "duration": 13,
    "start_time": "2021-08-22T15:28:25.719Z"
   },
   {
    "duration": 431,
    "start_time": "2021-08-22T15:28:32.336Z"
   },
   {
    "duration": 549,
    "start_time": "2021-08-22T15:28:44.109Z"
   },
   {
    "duration": 787,
    "start_time": "2021-08-22T15:30:09.759Z"
   },
   {
    "duration": 427,
    "start_time": "2021-08-22T15:30:15.221Z"
   },
   {
    "duration": 420,
    "start_time": "2021-08-22T15:31:32.135Z"
   },
   {
    "duration": 383,
    "start_time": "2021-08-22T15:32:08.695Z"
   },
   {
    "duration": 382,
    "start_time": "2021-08-22T15:32:15.640Z"
   },
   {
    "duration": 376,
    "start_time": "2021-08-22T15:32:36.436Z"
   },
   {
    "duration": 583,
    "start_time": "2021-08-22T15:33:58.063Z"
   },
   {
    "duration": 165,
    "start_time": "2021-08-22T15:34:12.414Z"
   },
   {
    "duration": 3,
    "start_time": "2021-08-22T15:34:22.891Z"
   },
   {
    "duration": 363,
    "start_time": "2021-08-22T15:34:29.213Z"
   },
   {
    "duration": 317,
    "start_time": "2021-08-22T15:34:45.566Z"
   },
   {
    "duration": 374,
    "start_time": "2021-08-22T15:36:02.672Z"
   },
   {
    "duration": 14,
    "start_time": "2021-08-22T15:36:15.962Z"
   },
   {
    "duration": 393,
    "start_time": "2021-08-22T15:36:22.039Z"
   },
   {
    "duration": 372,
    "start_time": "2021-08-22T15:36:28.228Z"
   },
   {
    "duration": 6,
    "start_time": "2021-08-22T15:36:33.666Z"
   },
   {
    "duration": 8,
    "start_time": "2021-08-22T15:37:12.364Z"
   },
   {
    "duration": 11,
    "start_time": "2021-08-22T15:37:15.333Z"
   },
   {
    "duration": 12,
    "start_time": "2021-08-22T15:37:54.327Z"
   },
   {
    "duration": 14,
    "start_time": "2021-08-22T15:38:08.063Z"
   },
   {
    "duration": 379,
    "start_time": "2021-08-22T15:38:14.898Z"
   },
   {
    "duration": 16,
    "start_time": "2021-08-22T15:38:18.561Z"
   },
   {
    "duration": 330,
    "start_time": "2021-08-22T15:38:21.659Z"
   },
   {
    "duration": 775,
    "start_time": "2021-08-22T15:38:31.325Z"
   },
   {
    "duration": 658,
    "start_time": "2021-08-22T15:39:04.931Z"
   },
   {
    "duration": 487,
    "start_time": "2021-08-22T15:39:17.455Z"
   },
   {
    "duration": 608,
    "start_time": "2021-08-22T15:40:26.560Z"
   },
   {
    "duration": 127,
    "start_time": "2021-08-22T15:40:38.381Z"
   },
   {
    "duration": 773,
    "start_time": "2021-08-22T15:40:41.042Z"
   },
   {
    "duration": 931,
    "start_time": "2021-08-22T15:40:50.174Z"
   },
   {
    "duration": 818,
    "start_time": "2021-08-22T15:41:00.782Z"
   },
   {
    "duration": 463,
    "start_time": "2021-08-22T15:41:07.309Z"
   },
   {
    "duration": 10340,
    "start_time": "2021-08-22T15:41:19.775Z"
   },
   {
    "duration": 832,
    "start_time": "2021-08-22T15:41:36.280Z"
   },
   {
    "duration": 435,
    "start_time": "2021-08-22T15:41:41.529Z"
   },
   {
    "duration": 9686,
    "start_time": "2021-08-22T15:41:48.017Z"
   },
   {
    "duration": 11,
    "start_time": "2021-08-22T15:42:09.239Z"
   },
   {
    "duration": 413,
    "start_time": "2021-08-22T15:42:43.800Z"
   },
   {
    "duration": 392,
    "start_time": "2021-08-22T15:43:54.738Z"
   },
   {
    "duration": 10,
    "start_time": "2021-08-22T15:44:01.496Z"
   },
   {
    "duration": 11,
    "start_time": "2021-08-22T15:44:11.053Z"
   },
   {
    "duration": 403,
    "start_time": "2021-08-22T15:44:14.637Z"
   },
   {
    "duration": 114,
    "start_time": "2021-08-22T15:44:53.841Z"
   },
   {
    "duration": 15,
    "start_time": "2021-08-22T15:45:15.107Z"
   },
   {
    "duration": 359,
    "start_time": "2021-08-22T15:45:19.338Z"
   },
   {
    "duration": 422,
    "start_time": "2021-08-22T15:45:30.671Z"
   },
   {
    "duration": 351,
    "start_time": "2021-08-22T15:45:38.227Z"
   },
   {
    "duration": 122,
    "start_time": "2021-08-22T15:45:46.825Z"
   },
   {
    "duration": 396,
    "start_time": "2021-08-22T15:45:50.417Z"
   },
   {
    "duration": 400,
    "start_time": "2021-08-22T15:46:06.071Z"
   },
   {
    "duration": 376,
    "start_time": "2021-08-22T15:46:22.732Z"
   },
   {
    "duration": 376,
    "start_time": "2021-08-22T15:46:57.168Z"
   },
   {
    "duration": 5,
    "start_time": "2021-08-22T15:47:25.159Z"
   },
   {
    "duration": 357,
    "start_time": "2021-08-22T15:47:26.109Z"
   },
   {
    "duration": 1793,
    "start_time": "2021-08-22T15:53:38.667Z"
   },
   {
    "duration": 221,
    "start_time": "2021-08-22T15:53:40.462Z"
   },
   {
    "duration": 11,
    "start_time": "2021-08-22T15:53:40.686Z"
   },
   {
    "duration": 16,
    "start_time": "2021-08-22T15:53:40.700Z"
   },
   {
    "duration": 8,
    "start_time": "2021-08-22T15:53:40.719Z"
   },
   {
    "duration": 37,
    "start_time": "2021-08-22T15:53:40.729Z"
   },
   {
    "duration": 12,
    "start_time": "2021-08-22T15:53:40.770Z"
   },
   {
    "duration": 599,
    "start_time": "2021-08-22T15:53:40.784Z"
   },
   {
    "duration": 494,
    "start_time": "2021-08-22T15:53:41.387Z"
   },
   {
    "duration": 6,
    "start_time": "2021-08-22T15:53:41.884Z"
   },
   {
    "duration": 84,
    "start_time": "2021-08-22T15:53:41.892Z"
   },
   {
    "duration": 43,
    "start_time": "2021-08-22T15:53:41.978Z"
   },
   {
    "duration": 33,
    "start_time": "2021-08-22T15:53:42.023Z"
   },
   {
    "duration": 7,
    "start_time": "2021-08-22T15:53:42.058Z"
   },
   {
    "duration": 14,
    "start_time": "2021-08-22T15:53:42.067Z"
   },
   {
    "duration": 14,
    "start_time": "2021-08-22T15:53:42.084Z"
   },
   {
    "duration": 11,
    "start_time": "2021-08-22T15:53:42.101Z"
   },
   {
    "duration": 243,
    "start_time": "2021-08-22T15:53:42.115Z"
   },
   {
    "duration": 96,
    "start_time": "2021-08-22T15:53:42.362Z"
   },
   {
    "duration": 8,
    "start_time": "2021-08-22T15:53:42.556Z"
   },
   {
    "duration": 10,
    "start_time": "2021-08-22T15:53:42.655Z"
   },
   {
    "duration": 24,
    "start_time": "2021-08-22T15:53:42.668Z"
   },
   {
    "duration": 13,
    "start_time": "2021-08-22T15:53:42.694Z"
   },
   {
    "duration": 6074,
    "start_time": "2021-08-22T15:53:42.709Z"
   },
   {
    "duration": 49,
    "start_time": "2021-08-22T15:53:48.785Z"
   },
   {
    "duration": 114990,
    "start_time": "2021-08-22T15:53:48.836Z"
   },
   {
    "duration": 4,
    "start_time": "2021-08-22T15:55:43.832Z"
   },
   {
    "duration": 11,
    "start_time": "2021-08-22T15:55:43.838Z"
   },
   {
    "duration": 254219,
    "start_time": "2021-08-22T15:55:43.856Z"
   },
   {
    "duration": 8,
    "start_time": "2021-08-22T15:59:58.077Z"
   },
   {
    "duration": 73,
    "start_time": "2021-08-22T15:59:58.088Z"
   },
   {
    "duration": 88,
    "start_time": "2021-08-22T15:59:58.171Z"
   },
   {
    "duration": 19,
    "start_time": "2021-08-22T15:59:58.356Z"
   },
   {
    "duration": 4,
    "start_time": "2021-08-22T15:59:58.377Z"
   },
   {
    "duration": 9,
    "start_time": "2021-08-22T15:59:58.384Z"
   },
   {
    "duration": 69,
    "start_time": "2021-08-22T15:59:58.396Z"
   },
   {
    "duration": 6,
    "start_time": "2021-08-22T15:59:58.467Z"
   },
   {
    "duration": 86,
    "start_time": "2021-08-22T15:59:58.475Z"
   },
   {
    "duration": 352,
    "start_time": "2021-08-22T15:59:58.563Z"
   },
   {
    "duration": 1757,
    "start_time": "2021-08-22T21:50:23.779Z"
   },
   {
    "duration": 215,
    "start_time": "2021-08-22T21:50:25.539Z"
   },
   {
    "duration": 10,
    "start_time": "2021-08-22T21:50:25.757Z"
   },
   {
    "duration": 19,
    "start_time": "2021-08-22T21:50:25.769Z"
   },
   {
    "duration": 12,
    "start_time": "2021-08-22T21:50:25.790Z"
   },
   {
    "duration": 21,
    "start_time": "2021-08-22T21:50:25.804Z"
   },
   {
    "duration": 12,
    "start_time": "2021-08-22T21:50:26.342Z"
   },
   {
    "duration": 594,
    "start_time": "2021-08-22T21:51:03.614Z"
   },
   {
    "duration": 484,
    "start_time": "2021-08-22T21:51:04.516Z"
   },
   {
    "duration": 1588,
    "start_time": "2021-08-23T07:04:11.311Z"
   },
   {
    "duration": 6,
    "start_time": "2021-08-23T07:04:24.084Z"
   },
   {
    "duration": 178,
    "start_time": "2021-08-23T07:04:24.093Z"
   },
   {
    "duration": 13,
    "start_time": "2021-08-23T07:04:24.275Z"
   },
   {
    "duration": 27,
    "start_time": "2021-08-23T07:04:24.291Z"
   },
   {
    "duration": 15,
    "start_time": "2021-08-23T07:04:24.321Z"
   },
   {
    "duration": 38,
    "start_time": "2021-08-23T07:04:24.340Z"
   },
   {
    "duration": 15,
    "start_time": "2021-08-23T07:04:24.382Z"
   },
   {
    "duration": 600,
    "start_time": "2021-08-23T07:04:24.400Z"
   },
   {
    "duration": 512,
    "start_time": "2021-08-23T07:04:25.003Z"
   },
   {
    "duration": 3240,
    "start_time": "2021-08-23T07:04:57.901Z"
   },
   {
    "duration": 2881,
    "start_time": "2021-08-23T07:05:02.862Z"
   },
   {
    "duration": 101,
    "start_time": "2021-08-23T07:05:44.866Z"
   },
   {
    "duration": 2787,
    "start_time": "2021-08-23T07:05:49.406Z"
   },
   {
    "duration": 2735,
    "start_time": "2021-08-23T07:06:03.392Z"
   },
   {
    "duration": 276,
    "start_time": "2021-08-23T07:06:24.510Z"
   },
   {
    "duration": 3279,
    "start_time": "2021-08-23T07:06:32.436Z"
   },
   {
    "duration": 2818,
    "start_time": "2021-08-23T07:06:39.402Z"
   },
   {
    "duration": 2756,
    "start_time": "2021-08-23T07:07:59.091Z"
   },
   {
    "duration": 95,
    "start_time": "2021-08-23T07:15:11.074Z"
   },
   {
    "duration": 278,
    "start_time": "2021-08-23T07:15:38.129Z"
   },
   {
    "duration": 12,
    "start_time": "2021-08-23T07:16:07.337Z"
   },
   {
    "duration": 5,
    "start_time": "2021-08-23T07:16:19.091Z"
   },
   {
    "duration": 281,
    "start_time": "2021-08-23T07:16:25.211Z"
   },
   {
    "duration": 300,
    "start_time": "2021-08-23T07:16:42.036Z"
   },
   {
    "duration": 5,
    "start_time": "2021-08-23T07:18:08.258Z"
   },
   {
    "duration": 1417,
    "start_time": "2021-08-23T07:18:09.106Z"
   },
   {
    "duration": 3776,
    "start_time": "2021-08-23T07:18:39.698Z"
   },
   {
    "duration": 6,
    "start_time": "2021-08-23T07:18:44.394Z"
   },
   {
    "duration": 1633,
    "start_time": "2021-08-23T07:18:44.643Z"
   },
   {
    "duration": 6,
    "start_time": "2021-08-23T07:18:54.984Z"
   },
   {
    "duration": 1469,
    "start_time": "2021-08-23T07:18:55.425Z"
   },
   {
    "duration": 5,
    "start_time": "2021-08-23T07:19:20.489Z"
   },
   {
    "duration": 1558,
    "start_time": "2021-08-23T07:19:22.632Z"
   },
   {
    "duration": 6,
    "start_time": "2021-08-23T07:19:43.198Z"
   },
   {
    "duration": 1416,
    "start_time": "2021-08-23T07:19:46.055Z"
   },
   {
    "duration": 5,
    "start_time": "2021-08-23T07:20:23.274Z"
   },
   {
    "duration": 1314,
    "start_time": "2021-08-23T07:20:24.121Z"
   },
   {
    "duration": 1240,
    "start_time": "2021-08-23T07:20:36.004Z"
   },
   {
    "duration": 1331,
    "start_time": "2021-08-23T07:20:49.776Z"
   },
   {
    "duration": 1250,
    "start_time": "2021-08-23T07:21:04.498Z"
   },
   {
    "duration": 1394,
    "start_time": "2021-08-23T07:21:32.917Z"
   },
   {
    "duration": 1266,
    "start_time": "2021-08-23T07:21:38.077Z"
   },
   {
    "duration": 266,
    "start_time": "2021-08-23T07:23:36.487Z"
   },
   {
    "duration": 1316,
    "start_time": "2021-08-23T07:23:42.432Z"
   },
   {
    "duration": 2763,
    "start_time": "2021-08-23T07:24:07.128Z"
   },
   {
    "duration": 2979,
    "start_time": "2021-08-23T07:24:58.611Z"
   },
   {
    "duration": 2354,
    "start_time": "2021-08-23T07:25:30.074Z"
   },
   {
    "duration": 2664,
    "start_time": "2021-08-23T07:26:06.239Z"
   },
   {
    "duration": 2888,
    "start_time": "2021-08-23T07:27:08.560Z"
   },
   {
    "duration": 2226,
    "start_time": "2021-08-23T07:27:49.906Z"
   },
   {
    "duration": 1943,
    "start_time": "2021-08-23T07:28:06.899Z"
   },
   {
    "duration": 1347,
    "start_time": "2021-08-23T07:29:01.907Z"
   },
   {
    "duration": 1288,
    "start_time": "2021-08-23T07:29:30.000Z"
   },
   {
    "duration": 1124,
    "start_time": "2021-08-23T07:58:33.042Z"
   },
   {
    "duration": 7,
    "start_time": "2021-08-23T08:13:49.273Z"
   },
   {
    "duration": 166,
    "start_time": "2021-08-23T08:13:49.283Z"
   },
   {
    "duration": 8,
    "start_time": "2021-08-23T08:13:49.452Z"
   },
   {
    "duration": 14,
    "start_time": "2021-08-23T08:13:49.463Z"
   },
   {
    "duration": 12,
    "start_time": "2021-08-23T08:13:49.480Z"
   },
   {
    "duration": 15,
    "start_time": "2021-08-23T08:13:49.495Z"
   },
   {
    "duration": 46,
    "start_time": "2021-08-23T08:13:49.514Z"
   },
   {
    "duration": 774,
    "start_time": "2021-08-23T08:13:49.563Z"
   },
   {
    "duration": 531,
    "start_time": "2021-08-23T08:13:50.340Z"
   },
   {
    "duration": 4523,
    "start_time": "2021-08-23T08:13:50.874Z"
   },
   {
    "duration": 2650,
    "start_time": "2021-08-23T08:13:55.400Z"
   },
   {
    "duration": 1838,
    "start_time": "2021-08-23T08:13:58.055Z"
   },
   {
    "duration": 8,
    "start_time": "2021-08-23T08:13:59.895Z"
   },
   {
    "duration": 32,
    "start_time": "2021-08-23T08:13:59.906Z"
   },
   {
    "duration": 27,
    "start_time": "2021-08-23T08:14:06.055Z"
   },
   {
    "duration": 8,
    "start_time": "2021-08-23T08:14:47.390Z"
   },
   {
    "duration": 151,
    "start_time": "2021-08-23T08:14:47.402Z"
   },
   {
    "duration": 9,
    "start_time": "2021-08-23T08:14:47.558Z"
   },
   {
    "duration": 26,
    "start_time": "2021-08-23T08:14:47.570Z"
   },
   {
    "duration": 29,
    "start_time": "2021-08-23T08:14:47.598Z"
   },
   {
    "duration": 23,
    "start_time": "2021-08-23T08:14:47.629Z"
   },
   {
    "duration": 21,
    "start_time": "2021-08-23T08:14:47.655Z"
   },
   {
    "duration": 704,
    "start_time": "2021-08-23T08:14:47.682Z"
   },
   {
    "duration": 426,
    "start_time": "2021-08-23T08:14:48.389Z"
   },
   {
    "duration": 4503,
    "start_time": "2021-08-23T08:14:48.818Z"
   },
   {
    "duration": 1834,
    "start_time": "2021-08-23T08:14:53.324Z"
   },
   {
    "duration": 1152,
    "start_time": "2021-08-23T08:14:55.161Z"
   },
   {
    "duration": 6,
    "start_time": "2021-08-23T08:14:56.315Z"
   },
   {
    "duration": 31,
    "start_time": "2021-08-23T08:14:56.323Z"
   },
   {
    "duration": 22,
    "start_time": "2021-08-23T08:14:56.357Z"
   },
   {
    "duration": 11,
    "start_time": "2021-08-23T08:14:56.382Z"
   },
   {
    "duration": 11,
    "start_time": "2021-08-23T08:14:56.396Z"
   },
   {
    "duration": 11,
    "start_time": "2021-08-23T08:14:56.410Z"
   },
   {
    "duration": 31,
    "start_time": "2021-08-23T08:14:56.424Z"
   },
   {
    "duration": 9,
    "start_time": "2021-08-23T08:14:56.458Z"
   },
   {
    "duration": 16,
    "start_time": "2021-08-23T08:14:56.469Z"
   },
   {
    "duration": 14,
    "start_time": "2021-08-23T08:14:59.236Z"
   },
   {
    "duration": 6,
    "start_time": "2021-08-23T08:15:01.682Z"
   },
   {
    "duration": 7,
    "start_time": "2021-08-23T08:16:03.670Z"
   },
   {
    "duration": 4,
    "start_time": "2021-08-23T08:16:11.982Z"
   },
   {
    "duration": 4,
    "start_time": "2021-08-23T08:16:20.229Z"
   },
   {
    "duration": 676,
    "start_time": "2021-08-23T08:16:21.882Z"
   },
   {
    "duration": 44,
    "start_time": "2021-08-23T08:16:27.147Z"
   },
   {
    "duration": 19591,
    "start_time": "2021-08-23T08:17:06.910Z"
   },
   {
    "duration": 4,
    "start_time": "2021-08-23T08:18:30.278Z"
   },
   {
    "duration": 467,
    "start_time": "2021-08-23T08:18:30.796Z"
   },
   {
    "duration": 42,
    "start_time": "2021-08-23T08:18:32.027Z"
   },
   {
    "duration": 23526,
    "start_time": "2021-08-23T08:18:42.980Z"
   },
   {
    "duration": 28598,
    "start_time": "2021-08-23T08:19:58.566Z"
   },
   {
    "duration": 4,
    "start_time": "2021-08-23T08:21:30.919Z"
   },
   {
    "duration": 593,
    "start_time": "2021-08-23T08:21:32.236Z"
   },
   {
    "duration": 49,
    "start_time": "2021-08-23T08:21:33.427Z"
   },
   {
    "duration": 69436,
    "start_time": "2021-08-23T08:21:59.381Z"
   },
   {
    "duration": 5,
    "start_time": "2021-08-23T08:23:20.274Z"
   },
   {
    "duration": 130,
    "start_time": "2021-08-23T08:23:21.458Z"
   },
   {
    "duration": 13,
    "start_time": "2021-08-23T08:23:22.210Z"
   },
   {
    "duration": 6,
    "start_time": "2021-08-23T08:23:40.755Z"
   },
   {
    "duration": 656,
    "start_time": "2021-08-23T08:23:41.219Z"
   },
   {
    "duration": 33,
    "start_time": "2021-08-23T08:23:41.980Z"
   },
   {
    "duration": 69335,
    "start_time": "2021-08-23T08:23:49.333Z"
   },
   {
    "duration": 4,
    "start_time": "2021-08-23T08:25:42.748Z"
   },
   {
    "duration": 5,
    "start_time": "2021-08-23T08:25:49.425Z"
   },
   {
    "duration": 512,
    "start_time": "2021-08-23T08:25:50.995Z"
   },
   {
    "duration": 45,
    "start_time": "2021-08-23T08:25:54.953Z"
   },
   {
    "duration": 6280,
    "start_time": "2021-08-23T08:26:02.021Z"
   },
   {
    "duration": 35591,
    "start_time": "2021-08-23T08:26:11.469Z"
   },
   {
    "duration": 20582,
    "start_time": "2021-08-23T08:26:53.550Z"
   },
   {
    "duration": 49901,
    "start_time": "2021-08-23T08:27:17.085Z"
   },
   {
    "duration": 17120,
    "start_time": "2021-08-23T08:28:10.915Z"
   },
   {
    "duration": 13425,
    "start_time": "2021-08-23T08:28:31.916Z"
   },
   {
    "duration": 133344,
    "start_time": "2021-08-23T08:28:46.148Z"
   },
   {
    "duration": 5,
    "start_time": "2021-08-23T08:31:14.274Z"
   },
   {
    "duration": 4,
    "start_time": "2021-08-23T08:31:16.147Z"
   },
   {
    "duration": 108590,
    "start_time": "2021-08-23T08:31:16.981Z"
   },
   {
    "duration": 10,
    "start_time": "2021-08-23T08:33:09.169Z"
   },
   {
    "duration": 4,
    "start_time": "2021-08-23T08:33:10.711Z"
   },
   {
    "duration": 18258,
    "start_time": "2021-08-23T08:33:11.332Z"
   },
   {
    "duration": 4,
    "start_time": "2021-08-23T08:33:33.337Z"
   },
   {
    "duration": 4,
    "start_time": "2021-08-23T08:33:34.111Z"
   },
   {
    "duration": 18641,
    "start_time": "2021-08-23T08:33:34.704Z"
   },
   {
    "duration": 4,
    "start_time": "2021-08-23T08:33:58.313Z"
   },
   {
    "duration": 5,
    "start_time": "2021-08-23T08:33:59.337Z"
   },
   {
    "duration": 24816,
    "start_time": "2021-08-23T08:33:59.627Z"
   },
   {
    "duration": 4,
    "start_time": "2021-08-23T09:04:32.489Z"
   },
   {
    "duration": 10,
    "start_time": "2021-08-23T09:04:32.495Z"
   },
   {
    "duration": 91521,
    "start_time": "2021-08-23T09:04:33.726Z"
   },
   {
    "duration": 5,
    "start_time": "2021-08-23T09:06:11.163Z"
   },
   {
    "duration": 6,
    "start_time": "2021-08-23T09:06:12.873Z"
   },
   {
    "duration": 1001504,
    "start_time": "2021-08-23T09:06:12.882Z"
   },
   {
    "duration": 4,
    "start_time": "2021-08-23T09:23:02.274Z"
   },
   {
    "duration": 3,
    "start_time": "2021-08-23T09:23:03.806Z"
   },
   {
    "duration": 30934,
    "start_time": "2021-08-23T09:23:04.185Z"
   },
   {
    "duration": 4,
    "start_time": "2021-08-23T09:24:02.833Z"
   },
   {
    "duration": 4,
    "start_time": "2021-08-23T09:24:03.638Z"
   },
   {
    "duration": 1126112,
    "start_time": "2021-08-23T09:24:04.178Z"
   },
   {
    "duration": 8,
    "start_time": "2021-08-23T09:55:53.886Z"
   },
   {
    "duration": 7,
    "start_time": "2021-08-23T09:55:58.420Z"
   },
   {
    "duration": 5,
    "start_time": "2021-08-23T09:55:59.292Z"
   },
   {
    "duration": 16,
    "start_time": "2021-08-23T09:56:02.957Z"
   },
   {
    "duration": 4,
    "start_time": "2021-08-23T09:56:03.716Z"
   },
   {
    "duration": 6,
    "start_time": "2021-08-23T09:56:06.767Z"
   },
   {
    "duration": 103,
    "start_time": "2021-08-23T09:56:08.452Z"
   },
   {
    "duration": 6,
    "start_time": "2021-08-23T09:56:10.524Z"
   },
   {
    "duration": 8,
    "start_time": "2021-08-23T09:56:15.608Z"
   },
   {
    "duration": 370,
    "start_time": "2021-08-23T09:56:16.852Z"
   },
   {
    "duration": 6,
    "start_time": "2021-08-23T09:57:10.119Z"
   },
   {
    "duration": 248,
    "start_time": "2021-08-23T09:57:10.128Z"
   },
   {
    "duration": 7,
    "start_time": "2021-08-23T09:57:10.379Z"
   },
   {
    "duration": 23,
    "start_time": "2021-08-23T09:57:10.388Z"
   },
   {
    "duration": 20,
    "start_time": "2021-08-23T09:57:10.413Z"
   },
   {
    "duration": 20,
    "start_time": "2021-08-23T09:57:10.435Z"
   },
   {
    "duration": 16,
    "start_time": "2021-08-23T09:57:10.457Z"
   },
   {
    "duration": 562,
    "start_time": "2021-08-23T09:57:10.477Z"
   },
   {
    "duration": 558,
    "start_time": "2021-08-23T09:57:11.041Z"
   },
   {
    "duration": 2624,
    "start_time": "2021-08-23T09:57:11.602Z"
   },
   {
    "duration": 1781,
    "start_time": "2021-08-23T09:57:14.229Z"
   },
   {
    "duration": 1230,
    "start_time": "2021-08-23T09:57:16.012Z"
   },
   {
    "duration": 11,
    "start_time": "2021-08-23T09:57:17.244Z"
   },
   {
    "duration": 39,
    "start_time": "2021-08-23T09:57:17.257Z"
   },
   {
    "duration": 71,
    "start_time": "2021-08-23T09:57:17.298Z"
   },
   {
    "duration": 9,
    "start_time": "2021-08-23T09:57:17.372Z"
   },
   {
    "duration": 5,
    "start_time": "2021-08-23T09:57:17.384Z"
   },
   {
    "duration": 11,
    "start_time": "2021-08-23T09:57:17.392Z"
   },
   {
    "duration": 12,
    "start_time": "2021-08-23T09:57:17.406Z"
   },
   {
    "duration": 35,
    "start_time": "2021-08-23T09:57:17.420Z"
   },
   {
    "duration": 98,
    "start_time": "2021-08-23T09:57:17.458Z"
   },
   {
    "duration": 8,
    "start_time": "2021-08-23T09:57:20.420Z"
   },
   {
    "duration": 6,
    "start_time": "2021-08-23T09:57:21.236Z"
   },
   {
    "duration": 6,
    "start_time": "2021-08-23T09:57:27.037Z"
   },
   {
    "duration": 5,
    "start_time": "2021-08-23T09:57:27.571Z"
   },
   {
    "duration": 44,
    "start_time": "2021-08-23T09:59:33.211Z"
   },
   {
    "duration": 6,
    "start_time": "2021-08-23T09:59:49.547Z"
   },
   {
    "duration": 99,
    "start_time": "2021-08-23T09:59:49.556Z"
   },
   {
    "duration": 6,
    "start_time": "2021-08-23T09:59:49.659Z"
   },
   {
    "duration": 13,
    "start_time": "2021-08-23T09:59:49.669Z"
   },
   {
    "duration": 12,
    "start_time": "2021-08-23T09:59:49.684Z"
   },
   {
    "duration": 14,
    "start_time": "2021-08-23T09:59:49.699Z"
   },
   {
    "duration": 9,
    "start_time": "2021-08-23T09:59:49.716Z"
   },
   {
    "duration": 574,
    "start_time": "2021-08-23T09:59:49.757Z"
   },
   {
    "duration": 429,
    "start_time": "2021-08-23T09:59:50.335Z"
   },
   {
    "duration": 2676,
    "start_time": "2021-08-23T09:59:50.766Z"
   },
   {
    "duration": 2040,
    "start_time": "2021-08-23T09:59:53.445Z"
   },
   {
    "duration": 1164,
    "start_time": "2021-08-23T09:59:55.488Z"
   },
   {
    "duration": -318,
    "start_time": "2021-08-23T09:59:56.974Z"
   },
   {
    "duration": -321,
    "start_time": "2021-08-23T09:59:56.980Z"
   },
   {
    "duration": -324,
    "start_time": "2021-08-23T09:59:56.985Z"
   },
   {
    "duration": -330,
    "start_time": "2021-08-23T09:59:56.994Z"
   },
   {
    "duration": -334,
    "start_time": "2021-08-23T09:59:57.000Z"
   },
   {
    "duration": -338,
    "start_time": "2021-08-23T09:59:57.006Z"
   },
   {
    "duration": -342,
    "start_time": "2021-08-23T09:59:57.012Z"
   },
   {
    "duration": -344,
    "start_time": "2021-08-23T09:59:57.017Z"
   },
   {
    "duration": 7,
    "start_time": "2021-08-23T09:59:57.653Z"
   },
   {
    "duration": 121,
    "start_time": "2021-08-23T09:59:57.663Z"
   },
   {
    "duration": 7,
    "start_time": "2021-08-23T09:59:57.788Z"
   },
   {
    "duration": 25,
    "start_time": "2021-08-23T09:59:57.797Z"
   },
   {
    "duration": 22,
    "start_time": "2021-08-23T09:59:57.824Z"
   },
   {
    "duration": 17,
    "start_time": "2021-08-23T09:59:57.849Z"
   },
   {
    "duration": 9,
    "start_time": "2021-08-23T09:59:57.869Z"
   },
   {
    "duration": 581,
    "start_time": "2021-08-23T09:59:57.882Z"
   },
   {
    "duration": 426,
    "start_time": "2021-08-23T09:59:58.466Z"
   },
   {
    "duration": 2751,
    "start_time": "2021-08-23T09:59:58.895Z"
   },
   {
    "duration": 1905,
    "start_time": "2021-08-23T10:00:01.653Z"
   },
   {
    "duration": 1117,
    "start_time": "2021-08-23T10:00:03.560Z"
   },
   {
    "duration": 5,
    "start_time": "2021-08-23T10:00:04.679Z"
   },
   {
    "duration": 79,
    "start_time": "2021-08-23T10:00:04.687Z"
   },
   {
    "duration": 47,
    "start_time": "2021-08-23T10:00:04.768Z"
   },
   {
    "duration": 13,
    "start_time": "2021-08-23T10:00:04.817Z"
   },
   {
    "duration": 8,
    "start_time": "2021-08-23T10:00:04.855Z"
   },
   {
    "duration": 17,
    "start_time": "2021-08-23T10:00:04.865Z"
   },
   {
    "duration": 14,
    "start_time": "2021-08-23T10:00:04.885Z"
   },
   {
    "duration": 12,
    "start_time": "2021-08-23T10:00:04.902Z"
   },
   {
    "duration": 239,
    "start_time": "2021-08-23T10:00:04.916Z"
   },
   {
    "duration": 10,
    "start_time": "2021-08-23T10:00:06.780Z"
   },
   {
    "duration": 6,
    "start_time": "2021-08-23T10:00:07.363Z"
   },
   {
    "duration": 7,
    "start_time": "2021-08-23T10:00:14.692Z"
   },
   {
    "duration": 5,
    "start_time": "2021-08-23T10:00:15.083Z"
   },
   {
    "duration": 336,
    "start_time": "2021-08-23T10:00:22.531Z"
   },
   {
    "duration": 5,
    "start_time": "2021-08-23T10:00:27.852Z"
   },
   {
    "duration": 344,
    "start_time": "2021-08-23T10:00:28.378Z"
   },
   {
    "duration": 6,
    "start_time": "2021-08-23T10:01:06.015Z"
   },
   {
    "duration": 129,
    "start_time": "2021-08-23T10:01:06.023Z"
   },
   {
    "duration": 7,
    "start_time": "2021-08-23T10:01:06.155Z"
   },
   {
    "duration": 37,
    "start_time": "2021-08-23T10:01:06.165Z"
   },
   {
    "duration": 21,
    "start_time": "2021-08-23T10:01:06.204Z"
   },
   {
    "duration": 33,
    "start_time": "2021-08-23T10:01:06.227Z"
   },
   {
    "duration": 35,
    "start_time": "2021-08-23T10:01:06.262Z"
   },
   {
    "duration": 564,
    "start_time": "2021-08-23T10:01:06.301Z"
   },
   {
    "duration": 427,
    "start_time": "2021-08-23T10:01:06.869Z"
   },
   {
    "duration": 2680,
    "start_time": "2021-08-23T10:01:07.299Z"
   },
   {
    "duration": 2041,
    "start_time": "2021-08-23T10:01:09.983Z"
   },
   {
    "duration": 1166,
    "start_time": "2021-08-23T10:01:12.027Z"
   },
   {
    "duration": 5,
    "start_time": "2021-08-23T10:01:13.196Z"
   },
   {
    "duration": 56,
    "start_time": "2021-08-23T10:01:13.204Z"
   },
   {
    "duration": 44,
    "start_time": "2021-08-23T10:01:13.263Z"
   },
   {
    "duration": 9,
    "start_time": "2021-08-23T10:01:13.309Z"
   },
   {
    "duration": 34,
    "start_time": "2021-08-23T10:01:13.320Z"
   },
   {
    "duration": 29,
    "start_time": "2021-08-23T10:01:13.357Z"
   },
   {
    "duration": 27,
    "start_time": "2021-08-23T10:01:13.389Z"
   },
   {
    "duration": 39,
    "start_time": "2021-08-23T10:01:13.418Z"
   },
   {
    "duration": 27,
    "start_time": "2021-08-23T10:01:13.460Z"
   },
   {
    "duration": 170,
    "start_time": "2021-08-23T10:01:13.491Z"
   },
   {
    "duration": 90,
    "start_time": "2021-08-23T10:01:13.670Z"
   },
   {
    "duration": 104,
    "start_time": "2021-08-23T10:01:13.763Z"
   },
   {
    "duration": 20,
    "start_time": "2021-08-23T10:01:13.870Z"
   },
   {
    "duration": 21,
    "start_time": "2021-08-23T10:01:13.892Z"
   },
   {
    "duration": 1921,
    "start_time": "2021-08-23T10:01:13.916Z"
   },
   {
    "duration": 40,
    "start_time": "2021-08-23T10:01:15.840Z"
   },
   {
    "duration": 112749,
    "start_time": "2021-08-23T10:01:15.882Z"
   },
   {
    "duration": 4,
    "start_time": "2021-08-23T10:03:08.634Z"
   },
   {
    "duration": 17,
    "start_time": "2021-08-23T10:03:08.640Z"
   },
   {
    "duration": 23504,
    "start_time": "2021-08-23T10:03:08.660Z"
   },
   {
    "duration": 8,
    "start_time": "2021-08-23T10:03:32.167Z"
   },
   {
    "duration": 80,
    "start_time": "2021-08-23T10:03:32.178Z"
   },
   {
    "duration": 94,
    "start_time": "2021-08-23T10:03:32.262Z"
   },
   {
    "duration": 20,
    "start_time": "2021-08-23T10:03:32.359Z"
   },
   {
    "duration": 5,
    "start_time": "2021-08-23T10:03:32.381Z"
   },
   {
    "duration": 7,
    "start_time": "2021-08-23T10:03:32.389Z"
   },
   {
    "duration": 64,
    "start_time": "2021-08-23T10:03:32.398Z"
   },
   {
    "duration": 5,
    "start_time": "2021-08-23T10:03:32.465Z"
   },
   {
    "duration": 13,
    "start_time": "2021-08-23T10:03:32.472Z"
   },
   {
    "duration": 393,
    "start_time": "2021-08-23T10:03:32.488Z"
   },
   {
    "duration": 46,
    "start_time": "2021-08-23T10:31:52.984Z"
   },
   {
    "duration": 43,
    "start_time": "2021-08-23T10:31:58.678Z"
   },
   {
    "duration": 9,
    "start_time": "2021-08-23T10:31:58.724Z"
   },
   {
    "duration": 22,
    "start_time": "2021-08-23T10:31:58.736Z"
   },
   {
    "duration": 43,
    "start_time": "2021-08-23T10:31:58.761Z"
   },
   {
    "duration": 34,
    "start_time": "2021-08-23T10:31:58.807Z"
   },
   {
    "duration": 31,
    "start_time": "2021-08-23T10:31:58.844Z"
   },
   {
    "duration": 79,
    "start_time": "2021-08-23T10:31:58.878Z"
   },
   {
    "duration": 97,
    "start_time": "2021-08-23T10:31:58.963Z"
   },
   {
    "duration": 193,
    "start_time": "2021-08-23T10:31:59.064Z"
   },
   {
    "duration": 39,
    "start_time": "2021-08-23T10:31:59.260Z"
   },
   {
    "duration": 16,
    "start_time": "2021-08-23T10:31:59.301Z"
   },
   {
    "duration": 30,
    "start_time": "2021-08-23T10:31:59.319Z"
   },
   {
    "duration": 3518,
    "start_time": "2021-08-23T10:31:59.352Z"
   },
   {
    "duration": 41,
    "start_time": "2021-08-23T10:32:02.872Z"
   },
   {
    "duration": 88877,
    "start_time": "2021-08-23T10:32:02.916Z"
   },
   {
    "duration": 4,
    "start_time": "2021-08-23T10:33:31.796Z"
   },
   {
    "duration": 22,
    "start_time": "2021-08-23T10:33:31.802Z"
   },
   {
    "duration": -339,
    "start_time": "2021-08-23T10:34:06.948Z"
   },
   {
    "duration": -342,
    "start_time": "2021-08-23T10:34:06.952Z"
   },
   {
    "duration": -344,
    "start_time": "2021-08-23T10:34:06.956Z"
   },
   {
    "duration": -347,
    "start_time": "2021-08-23T10:34:06.960Z"
   },
   {
    "duration": -350,
    "start_time": "2021-08-23T10:34:06.964Z"
   },
   {
    "duration": -353,
    "start_time": "2021-08-23T10:34:06.968Z"
   },
   {
    "duration": -355,
    "start_time": "2021-08-23T10:34:06.972Z"
   },
   {
    "duration": -369,
    "start_time": "2021-08-23T10:34:06.987Z"
   },
   {
    "duration": -370,
    "start_time": "2021-08-23T10:34:06.990Z"
   },
   {
    "duration": -373,
    "start_time": "2021-08-23T10:34:06.995Z"
   },
   {
    "duration": -375,
    "start_time": "2021-08-23T10:34:06.998Z"
   },
   {
    "duration": -378,
    "start_time": "2021-08-23T10:34:07.003Z"
   },
   {
    "duration": -379,
    "start_time": "2021-08-23T10:34:07.006Z"
   },
   {
    "duration": -395,
    "start_time": "2021-08-23T10:34:07.023Z"
   },
   {
    "duration": 122091,
    "start_time": "2021-08-23T10:34:53.205Z"
   },
   {
    "duration": 4,
    "start_time": "2021-08-23T10:36:55.299Z"
   },
   {
    "duration": 14,
    "start_time": "2021-08-23T10:36:55.305Z"
   },
   {
    "duration": 147042,
    "start_time": "2021-08-23T10:36:55.321Z"
   },
   {
    "duration": 9,
    "start_time": "2021-08-23T10:39:22.366Z"
   },
   {
    "duration": 24,
    "start_time": "2021-08-23T10:39:22.378Z"
   },
   {
    "duration": 162,
    "start_time": "2021-08-23T10:39:22.405Z"
   },
   {
    "duration": 16,
    "start_time": "2021-08-23T10:39:22.570Z"
   },
   {
    "duration": 4,
    "start_time": "2021-08-23T10:39:22.589Z"
   },
   {
    "duration": 10,
    "start_time": "2021-08-23T10:39:22.596Z"
   },
   {
    "duration": 64,
    "start_time": "2021-08-23T10:39:22.609Z"
   },
   {
    "duration": 5,
    "start_time": "2021-08-23T10:39:22.676Z"
   },
   {
    "duration": 78,
    "start_time": "2021-08-23T10:39:22.684Z"
   },
   {
    "duration": 366,
    "start_time": "2021-08-23T10:39:22.764Z"
   },
   {
    "duration": 271,
    "start_time": "2021-08-23T10:59:29.559Z"
   },
   {
    "duration": 1950,
    "start_time": "2021-08-23T10:59:46.248Z"
   },
   {
    "duration": 655,
    "start_time": "2021-08-23T11:00:02.370Z"
   },
   {
    "duration": 383,
    "start_time": "2021-08-23T11:00:38.361Z"
   },
   {
    "duration": 259,
    "start_time": "2021-08-23T11:00:53.090Z"
   },
   {
    "duration": 555,
    "start_time": "2021-08-23T11:01:13.802Z"
   },
   {
    "duration": 10366,
    "start_time": "2021-08-23T11:01:32.384Z"
   },
   {
    "duration": 10548,
    "start_time": "2021-08-23T11:01:56.225Z"
   },
   {
    "duration": 7,
    "start_time": "2021-08-23T11:02:22.929Z"
   },
   {
    "duration": 21,
    "start_time": "2021-08-23T11:02:30.404Z"
   },
   {
    "duration": 121,
    "start_time": "2021-08-23T11:04:08.592Z"
   },
   {
    "duration": 296,
    "start_time": "2021-08-23T11:06:08.691Z"
   },
   {
    "duration": 5,
    "start_time": "2021-08-23T11:06:30.763Z"
   },
   {
    "duration": 13,
    "start_time": "2021-08-23T11:06:37.924Z"
   },
   {
    "duration": 9446,
    "start_time": "2021-08-23T11:06:49.410Z"
   },
   {
    "duration": 307,
    "start_time": "2021-08-23T11:07:06.521Z"
   },
   {
    "duration": 348,
    "start_time": "2021-08-23T11:07:54.513Z"
   },
   {
    "duration": 240,
    "start_time": "2021-08-23T11:08:03.282Z"
   },
   {
    "duration": 234,
    "start_time": "2021-08-23T11:08:22.479Z"
   },
   {
    "duration": 236,
    "start_time": "2021-08-23T11:08:38.800Z"
   },
   {
    "duration": 318,
    "start_time": "2021-08-23T11:08:53.056Z"
   },
   {
    "duration": 313,
    "start_time": "2021-08-23T11:09:38.955Z"
   },
   {
    "duration": 276,
    "start_time": "2021-08-23T11:09:51.289Z"
   },
   {
    "duration": 697,
    "start_time": "2021-08-23T11:11:01.961Z"
   },
   {
    "duration": 538,
    "start_time": "2021-08-23T11:11:08.648Z"
   },
   {
    "duration": 568,
    "start_time": "2021-08-23T11:11:37.904Z"
   },
   {
    "duration": 542,
    "start_time": "2021-08-23T11:11:48.616Z"
   },
   {
    "duration": 292,
    "start_time": "2021-08-23T11:12:00.863Z"
   },
   {
    "duration": 489,
    "start_time": "2021-08-23T11:12:09.999Z"
   },
   {
    "duration": 492,
    "start_time": "2021-08-23T11:12:45.649Z"
   },
   {
    "duration": 584,
    "start_time": "2021-08-23T11:13:04.079Z"
   },
   {
    "duration": 735,
    "start_time": "2021-08-23T11:13:10.038Z"
   },
   {
    "duration": 496,
    "start_time": "2021-08-23T11:13:48.720Z"
   },
   {
    "duration": 517,
    "start_time": "2021-08-23T11:14:06.056Z"
   },
   {
    "duration": 509,
    "start_time": "2021-08-23T11:14:25.302Z"
   },
   {
    "duration": 634,
    "start_time": "2021-08-23T11:31:09.498Z"
   },
   {
    "duration": 562,
    "start_time": "2021-08-23T11:33:39.329Z"
   },
   {
    "duration": 573,
    "start_time": "2021-08-23T11:33:59.549Z"
   },
   {
    "duration": 5,
    "start_time": "2021-08-23T11:34:47.021Z"
   },
   {
    "duration": 604,
    "start_time": "2021-08-23T11:34:47.821Z"
   },
   {
    "duration": 11,
    "start_time": "2021-08-23T11:39:26.737Z"
   },
   {
    "duration": 11,
    "start_time": "2021-08-23T11:39:51.912Z"
   },
   {
    "duration": 6,
    "start_time": "2021-08-23T11:41:33.702Z"
   },
   {
    "duration": 583,
    "start_time": "2021-08-23T11:41:34.831Z"
   },
   {
    "duration": 6,
    "start_time": "2021-08-23T11:42:26.367Z"
   },
   {
    "duration": 590,
    "start_time": "2021-08-23T11:42:27.013Z"
   },
   {
    "duration": 543,
    "start_time": "2021-08-23T11:42:51.822Z"
   },
   {
    "duration": 444,
    "start_time": "2021-08-23T11:43:03.908Z"
   },
   {
    "duration": 466,
    "start_time": "2021-08-23T11:43:29.935Z"
   },
   {
    "duration": 491,
    "start_time": "2021-08-23T11:43:38.376Z"
   },
   {
    "duration": 469,
    "start_time": "2021-08-23T11:43:46.485Z"
   },
   {
    "duration": 10812,
    "start_time": "2021-08-23T11:47:46.296Z"
   },
   {
    "duration": 5,
    "start_time": "2021-08-23T11:48:14.488Z"
   },
   {
    "duration": 165,
    "start_time": "2021-08-23T11:48:14.496Z"
   },
   {
    "duration": 9,
    "start_time": "2021-08-23T11:48:14.664Z"
   },
   {
    "duration": 11,
    "start_time": "2021-08-23T11:48:14.676Z"
   },
   {
    "duration": 9,
    "start_time": "2021-08-23T11:48:14.689Z"
   },
   {
    "duration": 13,
    "start_time": "2021-08-23T11:48:14.701Z"
   },
   {
    "duration": 51,
    "start_time": "2021-08-23T11:48:14.717Z"
   },
   {
    "duration": 694,
    "start_time": "2021-08-23T11:48:14.771Z"
   },
   {
    "duration": 543,
    "start_time": "2021-08-23T11:48:15.468Z"
   },
   {
    "duration": 3446,
    "start_time": "2021-08-23T11:48:16.015Z"
   },
   {
    "duration": 2028,
    "start_time": "2021-08-23T11:48:19.466Z"
   },
   {
    "duration": 1138,
    "start_time": "2021-08-23T11:48:21.496Z"
   },
   {
    "duration": 16,
    "start_time": "2021-08-23T11:48:22.638Z"
   },
   {
    "duration": 67,
    "start_time": "2021-08-23T11:48:22.659Z"
   },
   {
    "duration": 65,
    "start_time": "2021-08-23T11:48:22.730Z"
   },
   {
    "duration": 16,
    "start_time": "2021-08-23T11:48:22.798Z"
   },
   {
    "duration": 8,
    "start_time": "2021-08-23T11:48:22.817Z"
   },
   {
    "duration": 7,
    "start_time": "2021-08-23T11:48:22.865Z"
   },
   {
    "duration": 12,
    "start_time": "2021-08-23T11:48:22.876Z"
   },
   {
    "duration": 13,
    "start_time": "2021-08-23T11:48:22.891Z"
   },
   {
    "duration": 164,
    "start_time": "2021-08-23T11:48:22.907Z"
   },
   {
    "duration": 96,
    "start_time": "2021-08-23T11:48:23.159Z"
   },
   {
    "duration": 102,
    "start_time": "2021-08-23T11:48:23.259Z"
   },
   {
    "duration": 34,
    "start_time": "2021-08-23T11:48:23.364Z"
   },
   {
    "duration": 16,
    "start_time": "2021-08-23T11:48:23.400Z"
   },
   {
    "duration": 34,
    "start_time": "2021-08-23T11:48:23.418Z"
   },
   {
    "duration": 3656,
    "start_time": "2021-08-23T11:48:23.455Z"
   },
   {
    "duration": 47,
    "start_time": "2021-08-23T11:48:27.113Z"
   },
   {
    "duration": 121626,
    "start_time": "2021-08-23T11:48:27.163Z"
   },
   {
    "duration": 5,
    "start_time": "2021-08-23T11:50:28.792Z"
   },
   {
    "duration": 14,
    "start_time": "2021-08-23T11:50:28.799Z"
   },
   {
    "duration": 98355,
    "start_time": "2021-08-23T11:50:28.816Z"
   },
   {
    "duration": 9,
    "start_time": "2021-08-23T11:52:07.178Z"
   },
   {
    "duration": 67,
    "start_time": "2021-08-23T11:52:07.190Z"
   },
   {
    "duration": 5,
    "start_time": "2021-08-23T11:52:07.260Z"
   },
   {
    "duration": 379,
    "start_time": "2021-08-23T11:52:07.268Z"
   },
   {
    "duration": -337,
    "start_time": "2021-08-23T11:52:07.986Z"
   },
   {
    "duration": -343,
    "start_time": "2021-08-23T11:52:07.993Z"
   },
   {
    "duration": -363,
    "start_time": "2021-08-23T11:52:08.015Z"
   },
   {
    "duration": -370,
    "start_time": "2021-08-23T11:52:08.023Z"
   },
   {
    "duration": -376,
    "start_time": "2021-08-23T11:52:08.032Z"
   },
   {
    "duration": -381,
    "start_time": "2021-08-23T11:52:08.039Z"
   },
   {
    "duration": -388,
    "start_time": "2021-08-23T11:52:08.048Z"
   },
   {
    "duration": -392,
    "start_time": "2021-08-23T11:52:08.055Z"
   },
   {
    "duration": -400,
    "start_time": "2021-08-23T11:52:08.065Z"
   },
   {
    "duration": -429,
    "start_time": "2021-08-23T11:52:08.096Z"
   },
   {
    "duration": -436,
    "start_time": "2021-08-23T11:52:08.105Z"
   },
   {
    "duration": -442,
    "start_time": "2021-08-23T11:52:08.113Z"
   },
   {
    "duration": -448,
    "start_time": "2021-08-23T11:52:08.122Z"
   },
   {
    "duration": -453,
    "start_time": "2021-08-23T11:52:08.129Z"
   },
   {
    "duration": 4331,
    "start_time": "2021-08-23T11:54:00.473Z"
   },
   {
    "duration": 6,
    "start_time": "2021-08-23T11:54:15.257Z"
   },
   {
    "duration": 143,
    "start_time": "2021-08-23T11:54:15.266Z"
   },
   {
    "duration": 7,
    "start_time": "2021-08-23T11:54:15.412Z"
   },
   {
    "duration": 23,
    "start_time": "2021-08-23T11:54:15.422Z"
   },
   {
    "duration": 22,
    "start_time": "2021-08-23T11:54:15.447Z"
   },
   {
    "duration": 17,
    "start_time": "2021-08-23T11:54:15.471Z"
   },
   {
    "duration": 15,
    "start_time": "2021-08-23T11:54:15.492Z"
   },
   {
    "duration": 588,
    "start_time": "2021-08-23T11:54:15.510Z"
   },
   {
    "duration": 438,
    "start_time": "2021-08-23T11:54:16.101Z"
   },
   {
    "duration": 2761,
    "start_time": "2021-08-23T11:54:16.541Z"
   },
   {
    "duration": 2290,
    "start_time": "2021-08-23T11:54:22.515Z"
   },
   {
    "duration": 7912,
    "start_time": "2021-08-23T11:57:35.370Z"
   },
   {
    "duration": 7970,
    "start_time": "2021-08-23T11:58:20.074Z"
   },
   {
    "duration": 287,
    "start_time": "2021-08-23T11:58:48.841Z"
   },
   {
    "duration": 299,
    "start_time": "2021-08-23T11:59:11.063Z"
   },
   {
    "duration": 2334,
    "start_time": "2021-08-23T11:59:24.034Z"
   },
   {
    "duration": 286,
    "start_time": "2021-08-23T11:59:51.233Z"
   },
   {
    "duration": 2436,
    "start_time": "2021-08-23T12:00:22.192Z"
   },
   {
    "duration": 2323,
    "start_time": "2021-08-23T12:00:37.434Z"
   },
   {
    "duration": 1814,
    "start_time": "2021-08-23T12:00:54.793Z"
   },
   {
    "duration": 1809,
    "start_time": "2021-08-23T12:02:20.729Z"
   },
   {
    "duration": 397,
    "start_time": "2021-08-23T12:02:34.965Z"
   },
   {
    "duration": 416,
    "start_time": "2021-08-23T12:03:04.072Z"
   },
   {
    "duration": 399,
    "start_time": "2021-08-23T12:03:09.795Z"
   },
   {
    "duration": 384,
    "start_time": "2021-08-23T12:03:15.816Z"
   },
   {
    "duration": 390,
    "start_time": "2021-08-23T12:03:32.271Z"
   },
   {
    "duration": 384,
    "start_time": "2021-08-23T12:03:37.191Z"
   },
   {
    "duration": 401,
    "start_time": "2021-08-23T12:03:47.008Z"
   },
   {
    "duration": 427,
    "start_time": "2021-08-23T12:03:54.831Z"
   },
   {
    "duration": 383,
    "start_time": "2021-08-23T12:04:00.009Z"
   },
   {
    "duration": 475,
    "start_time": "2021-08-23T12:05:12.335Z"
   },
   {
    "duration": 1239,
    "start_time": "2021-08-23T12:10:47.759Z"
   },
   {
    "duration": 6,
    "start_time": "2021-08-23T12:37:15.658Z"
   },
   {
    "duration": 113,
    "start_time": "2021-08-23T12:37:15.666Z"
   },
   {
    "duration": 7,
    "start_time": "2021-08-23T12:37:15.782Z"
   },
   {
    "duration": 17,
    "start_time": "2021-08-23T12:37:15.792Z"
   },
   {
    "duration": 5,
    "start_time": "2021-08-23T12:37:15.811Z"
   },
   {
    "duration": 43,
    "start_time": "2021-08-23T12:37:15.818Z"
   },
   {
    "duration": 9,
    "start_time": "2021-08-23T12:37:15.864Z"
   },
   {
    "duration": 586,
    "start_time": "2021-08-23T12:37:15.876Z"
   },
   {
    "duration": 420,
    "start_time": "2021-08-23T12:37:16.465Z"
   },
   {
    "duration": 3027,
    "start_time": "2021-08-23T12:37:16.888Z"
   },
   {
    "duration": 1804,
    "start_time": "2021-08-23T12:37:19.917Z"
   },
   {
    "duration": 1161,
    "start_time": "2021-08-23T12:37:21.723Z"
   },
   {
    "duration": 5,
    "start_time": "2021-08-23T12:37:22.887Z"
   },
   {
    "duration": 29,
    "start_time": "2021-08-23T12:37:22.894Z"
   },
   {
    "duration": 18,
    "start_time": "2021-08-23T12:37:22.925Z"
   },
   {
    "duration": 20,
    "start_time": "2021-08-23T12:37:22.945Z"
   },
   {
    "duration": 8,
    "start_time": "2021-08-23T12:37:22.967Z"
   },
   {
    "duration": 34,
    "start_time": "2021-08-23T12:37:22.978Z"
   },
   {
    "duration": 11,
    "start_time": "2021-08-23T12:37:23.017Z"
   },
   {
    "duration": 14,
    "start_time": "2021-08-23T12:37:23.031Z"
   },
   {
    "duration": 12,
    "start_time": "2021-08-23T12:37:23.048Z"
   },
   {
    "duration": 8,
    "start_time": "2021-08-23T12:37:23.063Z"
   },
   {
    "duration": 83,
    "start_time": "2021-08-23T12:37:23.075Z"
   },
   {
    "duration": 96,
    "start_time": "2021-08-23T12:37:23.162Z"
   },
   {
    "duration": 7,
    "start_time": "2021-08-23T12:37:23.261Z"
   },
   {
    "duration": 13,
    "start_time": "2021-08-23T12:37:23.271Z"
   },
   {
    "duration": 495,
    "start_time": "2021-08-23T12:37:23.286Z"
   },
   {
    "duration": 28,
    "start_time": "2021-08-23T12:37:23.783Z"
   },
   {
    "duration": 109642,
    "start_time": "2021-08-23T12:37:23.814Z"
   },
   {
    "duration": 4,
    "start_time": "2021-08-23T12:39:13.459Z"
   },
   {
    "duration": 10,
    "start_time": "2021-08-23T12:39:13.466Z"
   },
   {
    "duration": 21287,
    "start_time": "2021-08-23T12:39:13.479Z"
   },
   {
    "duration": 9,
    "start_time": "2021-08-23T12:39:34.769Z"
   },
   {
    "duration": 14,
    "start_time": "2021-08-23T12:39:34.780Z"
   },
   {
    "duration": 58,
    "start_time": "2021-08-23T12:39:34.797Z"
   },
   {
    "duration": 476,
    "start_time": "2021-08-23T12:39:34.858Z"
   },
   {
    "duration": -306,
    "start_time": "2021-08-23T12:39:35.643Z"
   },
   {
    "duration": -315,
    "start_time": "2021-08-23T12:39:35.654Z"
   },
   {
    "duration": -332,
    "start_time": "2021-08-23T12:39:35.672Z"
   },
   {
    "duration": -346,
    "start_time": "2021-08-23T12:39:35.688Z"
   },
   {
    "duration": -351,
    "start_time": "2021-08-23T12:39:35.695Z"
   },
   {
    "duration": -357,
    "start_time": "2021-08-23T12:39:35.702Z"
   },
   {
    "duration": -366,
    "start_time": "2021-08-23T12:39:35.712Z"
   },
   {
    "duration": -387,
    "start_time": "2021-08-23T12:39:35.735Z"
   },
   {
    "duration": -393,
    "start_time": "2021-08-23T12:39:35.742Z"
   },
   {
    "duration": -398,
    "start_time": "2021-08-23T12:39:35.748Z"
   },
   {
    "duration": -404,
    "start_time": "2021-08-23T12:39:35.756Z"
   },
   {
    "duration": -408,
    "start_time": "2021-08-23T12:39:35.762Z"
   },
   {
    "duration": -420,
    "start_time": "2021-08-23T12:39:35.775Z"
   },
   {
    "duration": -427,
    "start_time": "2021-08-23T12:39:35.784Z"
   },
   {
    "duration": 5,
    "start_time": "2021-08-23T12:40:06.535Z"
   },
   {
    "duration": 25,
    "start_time": "2021-08-23T12:40:06.547Z"
   },
   {
    "duration": 446,
    "start_time": "2021-08-23T12:40:06.575Z"
   },
   {
    "duration": 16,
    "start_time": "2021-08-23T12:40:07.024Z"
   },
   {
    "duration": 15,
    "start_time": "2021-08-23T12:40:07.055Z"
   },
   {
    "duration": 473,
    "start_time": "2021-08-23T12:40:07.074Z"
   },
   {
    "duration": -653,
    "start_time": "2021-08-23T12:40:08.203Z"
   },
   {
    "duration": -658,
    "start_time": "2021-08-23T12:40:08.210Z"
   },
   {
    "duration": -662,
    "start_time": "2021-08-23T12:40:08.216Z"
   },
   {
    "duration": -665,
    "start_time": "2021-08-23T12:40:08.221Z"
   },
   {
    "duration": -669,
    "start_time": "2021-08-23T12:40:08.226Z"
   },
   {
    "duration": -672,
    "start_time": "2021-08-23T12:40:08.230Z"
   },
   {
    "duration": -677,
    "start_time": "2021-08-23T12:40:08.236Z"
   },
   {
    "duration": -679,
    "start_time": "2021-08-23T12:40:08.240Z"
   },
   {
    "duration": -683,
    "start_time": "2021-08-23T12:40:08.245Z"
   },
   {
    "duration": -707,
    "start_time": "2021-08-23T12:40:08.270Z"
   },
   {
    "duration": 5,
    "start_time": "2021-08-23T12:40:24.479Z"
   },
   {
    "duration": 59,
    "start_time": "2021-08-23T12:40:36.369Z"
   },
   {
    "duration": 29,
    "start_time": "2021-08-23T12:40:40.807Z"
   },
   {
    "duration": 7,
    "start_time": "2021-08-23T12:40:58.824Z"
   },
   {
    "duration": 133,
    "start_time": "2021-08-23T12:40:58.835Z"
   },
   {
    "duration": 7,
    "start_time": "2021-08-23T12:40:58.971Z"
   },
   {
    "duration": 28,
    "start_time": "2021-08-23T12:40:58.981Z"
   },
   {
    "duration": 29,
    "start_time": "2021-08-23T12:40:59.011Z"
   },
   {
    "duration": 35,
    "start_time": "2021-08-23T12:40:59.042Z"
   },
   {
    "duration": 24,
    "start_time": "2021-08-23T12:40:59.081Z"
   },
   {
    "duration": 668,
    "start_time": "2021-08-23T12:40:59.108Z"
   },
   {
    "duration": 478,
    "start_time": "2021-08-23T12:40:59.779Z"
   },
   {
    "duration": 3248,
    "start_time": "2021-08-23T12:41:00.259Z"
   },
   {
    "duration": 1796,
    "start_time": "2021-08-23T12:41:03.510Z"
   },
   {
    "duration": 1159,
    "start_time": "2021-08-23T12:41:05.309Z"
   },
   {
    "duration": 7,
    "start_time": "2021-08-23T12:41:06.472Z"
   },
   {
    "duration": 83,
    "start_time": "2021-08-23T12:41:06.482Z"
   },
   {
    "duration": 50,
    "start_time": "2021-08-23T12:41:06.568Z"
   },
   {
    "duration": 37,
    "start_time": "2021-08-23T12:41:06.621Z"
   },
   {
    "duration": 6,
    "start_time": "2021-08-23T12:41:06.661Z"
   },
   {
    "duration": 10,
    "start_time": "2021-08-23T12:41:06.670Z"
   },
   {
    "duration": 5,
    "start_time": "2021-08-23T12:41:06.686Z"
   },
   {
    "duration": 13,
    "start_time": "2021-08-23T12:41:06.694Z"
   },
   {
    "duration": 145,
    "start_time": "2021-08-23T12:41:06.710Z"
   },
   {
    "duration": 98,
    "start_time": "2021-08-23T12:41:06.858Z"
   },
   {
    "duration": 13,
    "start_time": "2021-08-23T12:41:06.960Z"
   },
   {
    "duration": 18,
    "start_time": "2021-08-23T12:41:06.976Z"
   },
   {
    "duration": 5,
    "start_time": "2021-08-23T12:41:07.057Z"
   },
   {
    "duration": 14,
    "start_time": "2021-08-23T12:41:07.065Z"
   },
   {
    "duration": 4038,
    "start_time": "2021-08-23T12:41:07.082Z"
   },
   {
    "duration": 48,
    "start_time": "2021-08-23T12:41:11.123Z"
   },
   {
    "duration": 116721,
    "start_time": "2021-08-23T12:41:11.174Z"
   },
   {
    "duration": 3,
    "start_time": "2021-08-23T12:43:07.898Z"
   },
   {
    "duration": 21,
    "start_time": "2021-08-23T12:43:07.903Z"
   },
   {
    "duration": 30538,
    "start_time": "2021-08-23T12:43:07.926Z"
   },
   {
    "duration": 9,
    "start_time": "2021-08-23T12:43:38.466Z"
   },
   {
    "duration": 78,
    "start_time": "2021-08-23T12:43:38.477Z"
   },
   {
    "duration": 7,
    "start_time": "2021-08-23T12:43:38.559Z"
   },
   {
    "duration": 536,
    "start_time": "2021-08-23T12:43:38.569Z"
   },
   {
    "duration": -321,
    "start_time": "2021-08-23T12:43:39.428Z"
   },
   {
    "duration": -325,
    "start_time": "2021-08-23T12:43:39.434Z"
   },
   {
    "duration": -329,
    "start_time": "2021-08-23T12:43:39.439Z"
   },
   {
    "duration": -343,
    "start_time": "2021-08-23T12:43:39.455Z"
   },
   {
    "duration": -353,
    "start_time": "2021-08-23T12:43:39.466Z"
   },
   {
    "duration": -356,
    "start_time": "2021-08-23T12:43:39.470Z"
   },
   {
    "duration": -360,
    "start_time": "2021-08-23T12:43:39.476Z"
   },
   {
    "duration": -362,
    "start_time": "2021-08-23T12:43:39.480Z"
   },
   {
    "duration": -428,
    "start_time": "2021-08-23T12:43:39.547Z"
   },
   {
    "duration": -432,
    "start_time": "2021-08-23T12:43:39.552Z"
   },
   {
    "duration": -435,
    "start_time": "2021-08-23T12:43:39.557Z"
   },
   {
    "duration": -439,
    "start_time": "2021-08-23T12:43:39.562Z"
   },
   {
    "duration": -444,
    "start_time": "2021-08-23T12:43:39.568Z"
   },
   {
    "duration": -447,
    "start_time": "2021-08-23T12:43:39.573Z"
   },
   {
    "duration": 5,
    "start_time": "2021-08-23T12:43:47.398Z"
   },
   {
    "duration": 405,
    "start_time": "2021-08-23T12:43:47.406Z"
   },
   {
    "duration": -471,
    "start_time": "2021-08-23T12:43:48.285Z"
   },
   {
    "duration": -503,
    "start_time": "2021-08-23T12:43:48.318Z"
   },
   {
    "duration": -507,
    "start_time": "2021-08-23T12:43:48.323Z"
   },
   {
    "duration": -511,
    "start_time": "2021-08-23T12:43:48.329Z"
   },
   {
    "duration": -516,
    "start_time": "2021-08-23T12:43:48.335Z"
   },
   {
    "duration": -538,
    "start_time": "2021-08-23T12:43:48.359Z"
   },
   {
    "duration": -550,
    "start_time": "2021-08-23T12:43:48.372Z"
   },
   {
    "duration": -555,
    "start_time": "2021-08-23T12:43:48.379Z"
   },
   {
    "duration": -561,
    "start_time": "2021-08-23T12:43:48.386Z"
   },
   {
    "duration": -564,
    "start_time": "2021-08-23T12:43:48.391Z"
   },
   {
    "duration": -587,
    "start_time": "2021-08-23T12:43:48.415Z"
   },
   {
    "duration": -598,
    "start_time": "2021-08-23T12:43:48.428Z"
   },
   {
    "duration": -601,
    "start_time": "2021-08-23T12:43:48.433Z"
   },
   {
    "duration": -606,
    "start_time": "2021-08-23T12:43:48.439Z"
   },
   {
    "duration": 4,
    "start_time": "2021-08-23T12:44:26.676Z"
   },
   {
    "duration": 17,
    "start_time": "2021-08-23T12:44:26.683Z"
   },
   {
    "duration": 420,
    "start_time": "2021-08-23T12:44:26.703Z"
   },
   {
    "duration": 28,
    "start_time": "2021-08-23T12:44:27.126Z"
   },
   {
    "duration": 7,
    "start_time": "2021-08-23T12:44:27.157Z"
   },
   {
    "duration": 419,
    "start_time": "2021-08-23T12:44:27.167Z"
   },
   {
    "duration": -241,
    "start_time": "2021-08-23T12:44:27.830Z"
   },
   {
    "duration": -245,
    "start_time": "2021-08-23T12:44:27.836Z"
   },
   {
    "duration": -248,
    "start_time": "2021-08-23T12:44:27.841Z"
   },
   {
    "duration": -292,
    "start_time": "2021-08-23T12:44:27.887Z"
   },
   {
    "duration": -298,
    "start_time": "2021-08-23T12:44:27.894Z"
   },
   {
    "duration": -302,
    "start_time": "2021-08-23T12:44:27.900Z"
   },
   {
    "duration": -307,
    "start_time": "2021-08-23T12:44:27.907Z"
   },
   {
    "duration": -309,
    "start_time": "2021-08-23T12:44:27.911Z"
   },
   {
    "duration": -313,
    "start_time": "2021-08-23T12:44:27.916Z"
   },
   {
    "duration": -316,
    "start_time": "2021-08-23T12:44:27.921Z"
   },
   {
    "duration": 5,
    "start_time": "2021-08-23T12:45:15.324Z"
   },
   {
    "duration": 24,
    "start_time": "2021-08-23T12:45:15.332Z"
   },
   {
    "duration": 438,
    "start_time": "2021-08-23T12:45:15.360Z"
   },
   {
    "duration": 6,
    "start_time": "2021-08-23T12:45:15.801Z"
   },
   {
    "duration": 438,
    "start_time": "2021-08-23T12:45:15.810Z"
   },
   {
    "duration": -492,
    "start_time": "2021-08-23T12:45:16.743Z"
   },
   {
    "duration": -497,
    "start_time": "2021-08-23T12:45:16.749Z"
   },
   {
    "duration": -501,
    "start_time": "2021-08-23T12:45:16.754Z"
   },
   {
    "duration": -504,
    "start_time": "2021-08-23T12:45:16.759Z"
   },
   {
    "duration": -508,
    "start_time": "2021-08-23T12:45:16.764Z"
   },
   {
    "duration": -512,
    "start_time": "2021-08-23T12:45:16.770Z"
   },
   {
    "duration": -524,
    "start_time": "2021-08-23T12:45:16.783Z"
   },
   {
    "duration": 7,
    "start_time": "2021-08-23T12:45:38.251Z"
   },
   {
    "duration": 21,
    "start_time": "2021-08-23T12:45:38.261Z"
   },
   {
    "duration": 434,
    "start_time": "2021-08-23T12:45:38.285Z"
   },
   {
    "duration": 43,
    "start_time": "2021-08-23T12:45:38.721Z"
   },
   {
    "duration": 11,
    "start_time": "2021-08-23T12:45:38.766Z"
   },
   {
    "duration": 477,
    "start_time": "2021-08-23T12:45:38.780Z"
   },
   {
    "duration": -257,
    "start_time": "2021-08-23T12:45:39.517Z"
   },
   {
    "duration": -265,
    "start_time": "2021-08-23T12:45:39.526Z"
   },
   {
    "duration": -268,
    "start_time": "2021-08-23T12:45:39.531Z"
   },
   {
    "duration": 6,
    "start_time": "2021-08-23T12:45:44.252Z"
   },
   {
    "duration": 10,
    "start_time": "2021-08-23T12:45:44.261Z"
   },
   {
    "duration": 443,
    "start_time": "2021-08-23T12:45:44.274Z"
   },
   {
    "duration": 5,
    "start_time": "2021-08-23T12:45:44.720Z"
   },
   {
    "duration": 367,
    "start_time": "2021-08-23T12:45:44.728Z"
   },
   {
    "duration": 409,
    "start_time": "2021-08-23T12:47:17.702Z"
   },
   {
    "duration": 433,
    "start_time": "2021-08-23T12:47:29.613Z"
   },
   {
    "duration": 412,
    "start_time": "2021-08-23T12:47:48.070Z"
   },
   {
    "duration": 413,
    "start_time": "2021-08-23T12:47:52.766Z"
   },
   {
    "duration": 408,
    "start_time": "2021-08-23T12:48:28.335Z"
   },
   {
    "duration": 7,
    "start_time": "2021-08-23T12:49:24.694Z"
   },
   {
    "duration": 161,
    "start_time": "2021-08-23T12:49:24.704Z"
   },
   {
    "duration": 8,
    "start_time": "2021-08-23T12:49:24.869Z"
   },
   {
    "duration": 13,
    "start_time": "2021-08-23T12:49:24.880Z"
   },
   {
    "duration": 5,
    "start_time": "2021-08-23T12:49:24.896Z"
   },
   {
    "duration": 15,
    "start_time": "2021-08-23T12:49:24.904Z"
   },
   {
    "duration": 10,
    "start_time": "2021-08-23T12:49:24.955Z"
   },
   {
    "duration": 578,
    "start_time": "2021-08-23T12:49:24.967Z"
   },
   {
    "duration": 716,
    "start_time": "2021-08-23T12:49:25.557Z"
   },
   {
    "duration": 2837,
    "start_time": "2021-08-23T12:49:26.277Z"
   },
   {
    "duration": 1861,
    "start_time": "2021-08-23T12:49:29.117Z"
   },
   {
    "duration": 1121,
    "start_time": "2021-08-23T12:49:30.981Z"
   },
   {
    "duration": 5,
    "start_time": "2021-08-23T12:49:32.105Z"
   },
   {
    "duration": 58,
    "start_time": "2021-08-23T12:49:32.113Z"
   },
   {
    "duration": 47,
    "start_time": "2021-08-23T12:49:32.173Z"
   },
   {
    "duration": 9,
    "start_time": "2021-08-23T12:49:32.222Z"
   },
   {
    "duration": 6,
    "start_time": "2021-08-23T12:49:32.254Z"
   },
   {
    "duration": 22,
    "start_time": "2021-08-23T12:49:32.262Z"
   },
   {
    "duration": 35,
    "start_time": "2021-08-23T12:49:32.287Z"
   },
   {
    "duration": 18,
    "start_time": "2021-08-23T12:49:32.325Z"
   },
   {
    "duration": 28,
    "start_time": "2021-08-23T12:49:32.345Z"
   },
   {
    "duration": 177,
    "start_time": "2021-08-23T12:49:32.379Z"
   },
   {
    "duration": 102,
    "start_time": "2021-08-23T12:49:32.560Z"
   },
   {
    "duration": 13,
    "start_time": "2021-08-23T12:49:32.756Z"
   },
   {
    "duration": 16,
    "start_time": "2021-08-23T12:49:32.772Z"
   },
   {
    "duration": 23,
    "start_time": "2021-08-23T12:49:32.790Z"
   },
   {
    "duration": 1905,
    "start_time": "2021-08-23T12:49:32.819Z"
   },
   {
    "duration": 47,
    "start_time": "2021-08-23T12:49:34.728Z"
   },
   {
    "duration": 22728,
    "start_time": "2021-08-23T12:49:34.778Z"
   },
   {
    "duration": 6,
    "start_time": "2021-08-23T12:49:57.509Z"
   },
   {
    "duration": 19,
    "start_time": "2021-08-23T12:49:57.518Z"
   },
   {
    "duration": 11810,
    "start_time": "2021-08-23T12:49:57.540Z"
   },
   {
    "duration": -347,
    "start_time": "2021-08-23T12:50:09.701Z"
   },
   {
    "duration": -352,
    "start_time": "2021-08-23T12:50:09.707Z"
   },
   {
    "duration": -356,
    "start_time": "2021-08-23T12:50:09.713Z"
   },
   {
    "duration": -358,
    "start_time": "2021-08-23T12:50:09.717Z"
   },
   {
    "duration": -363,
    "start_time": "2021-08-23T12:50:09.723Z"
   },
   {
    "duration": -369,
    "start_time": "2021-08-23T12:50:09.731Z"
   },
   {
    "duration": -372,
    "start_time": "2021-08-23T12:50:09.736Z"
   },
   {
    "duration": -377,
    "start_time": "2021-08-23T12:50:09.742Z"
   },
   {
    "duration": -389,
    "start_time": "2021-08-23T12:50:09.756Z"
   },
   {
    "duration": -398,
    "start_time": "2021-08-23T12:50:09.766Z"
   },
   {
    "duration": -403,
    "start_time": "2021-08-23T12:50:09.773Z"
   },
   {
    "duration": -407,
    "start_time": "2021-08-23T12:50:09.778Z"
   },
   {
    "duration": -410,
    "start_time": "2021-08-23T12:50:09.783Z"
   },
   {
    "duration": -414,
    "start_time": "2021-08-23T12:50:09.789Z"
   },
   {
    "duration": -420,
    "start_time": "2021-08-23T12:50:09.796Z"
   },
   {
    "duration": -423,
    "start_time": "2021-08-23T12:50:09.801Z"
   },
   {
    "duration": -429,
    "start_time": "2021-08-23T12:50:09.808Z"
   },
   {
    "duration": -432,
    "start_time": "2021-08-23T12:50:09.812Z"
   },
   {
    "duration": -440,
    "start_time": "2021-08-23T12:50:09.828Z"
   },
   {
    "duration": 4,
    "start_time": "2021-08-23T12:53:24.598Z"
   },
   {
    "duration": 28465,
    "start_time": "2021-08-23T12:53:24.604Z"
   },
   {
    "duration": 84,
    "start_time": "2021-08-23T12:53:53.072Z"
   },
   {
    "duration": 6,
    "start_time": "2021-08-23T12:53:53.159Z"
   },
   {
    "duration": 92,
    "start_time": "2021-08-23T12:53:53.168Z"
   },
   {
    "duration": 436,
    "start_time": "2021-08-23T12:53:53.263Z"
   },
   {
    "duration": -333,
    "start_time": "2021-08-23T12:53:54.035Z"
   },
   {
    "duration": -343,
    "start_time": "2021-08-23T12:53:54.047Z"
   },
   {
    "duration": -346,
    "start_time": "2021-08-23T12:53:54.052Z"
   },
   {
    "duration": -349,
    "start_time": "2021-08-23T12:53:54.056Z"
   },
   {
    "duration": -353,
    "start_time": "2021-08-23T12:53:54.061Z"
   },
   {
    "duration": -364,
    "start_time": "2021-08-23T12:53:54.074Z"
   },
   {
    "duration": -368,
    "start_time": "2021-08-23T12:53:54.079Z"
   },
   {
    "duration": -372,
    "start_time": "2021-08-23T12:53:54.084Z"
   },
   {
    "duration": -375,
    "start_time": "2021-08-23T12:53:54.089Z"
   },
   {
    "duration": -379,
    "start_time": "2021-08-23T12:53:54.094Z"
   },
   {
    "duration": -383,
    "start_time": "2021-08-23T12:53:54.099Z"
   },
   {
    "duration": -401,
    "start_time": "2021-08-23T12:53:54.119Z"
   },
   {
    "duration": -412,
    "start_time": "2021-08-23T12:53:54.131Z"
   },
   {
    "duration": -415,
    "start_time": "2021-08-23T12:53:54.135Z"
   },
   {
    "duration": 5,
    "start_time": "2021-08-23T12:54:15.946Z"
   },
   {
    "duration": 11,
    "start_time": "2021-08-23T12:54:15.955Z"
   },
   {
    "duration": 434,
    "start_time": "2021-08-23T12:54:15.969Z"
   },
   {
    "duration": 16,
    "start_time": "2021-08-23T12:54:16.406Z"
   },
   {
    "duration": 13,
    "start_time": "2021-08-23T12:54:16.424Z"
   },
   {
    "duration": 5,
    "start_time": "2021-08-23T12:54:16.455Z"
   },
   {
    "duration": 446,
    "start_time": "2021-08-23T12:54:16.463Z"
   },
   {
    "duration": 480,
    "start_time": "2021-08-23T12:54:16.912Z"
   },
   {
    "duration": -245,
    "start_time": "2021-08-23T12:54:17.639Z"
   },
   {
    "duration": -249,
    "start_time": "2021-08-23T12:54:17.645Z"
   },
   {
    "duration": -253,
    "start_time": "2021-08-23T12:54:17.650Z"
   },
   {
    "duration": -256,
    "start_time": "2021-08-23T12:54:17.655Z"
   },
   {
    "duration": -260,
    "start_time": "2021-08-23T12:54:17.660Z"
   },
   {
    "duration": -264,
    "start_time": "2021-08-23T12:54:17.665Z"
   },
   {
    "duration": -268,
    "start_time": "2021-08-23T12:54:17.671Z"
   },
   {
    "duration": -272,
    "start_time": "2021-08-23T12:54:17.676Z"
   },
   {
    "duration": 114466,
    "start_time": "2021-08-23T12:55:09.715Z"
   },
   {
    "duration": 6,
    "start_time": "2021-08-23T12:57:04.184Z"
   },
   {
    "duration": 14,
    "start_time": "2021-08-23T12:57:04.193Z"
   },
   {
    "duration": 436,
    "start_time": "2021-08-23T12:57:04.210Z"
   },
   {
    "duration": 28,
    "start_time": "2021-08-23T12:57:04.649Z"
   },
   {
    "duration": 74,
    "start_time": "2021-08-23T12:57:04.680Z"
   },
   {
    "duration": 7,
    "start_time": "2021-08-23T12:57:04.756Z"
   },
   {
    "duration": 448,
    "start_time": "2021-08-23T12:57:04.767Z"
   },
   {
    "duration": 5,
    "start_time": "2021-08-23T12:57:05.217Z"
   },
   {
    "duration": 361,
    "start_time": "2021-08-23T12:57:05.224Z"
   },
   {
    "duration": 1695,
    "start_time": "2021-08-23T12:58:55.668Z"
   },
   {
    "duration": 111,
    "start_time": "2021-08-23T12:58:57.366Z"
   },
   {
    "duration": 9,
    "start_time": "2021-08-23T12:58:57.480Z"
   },
   {
    "duration": 17,
    "start_time": "2021-08-23T12:58:57.492Z"
   },
   {
    "duration": 4,
    "start_time": "2021-08-23T12:58:57.511Z"
   },
   {
    "duration": 42,
    "start_time": "2021-08-23T12:58:57.517Z"
   },
   {
    "duration": 9,
    "start_time": "2021-08-23T12:58:57.561Z"
   },
   {
    "duration": 743,
    "start_time": "2021-08-23T12:58:57.574Z"
   },
   {
    "duration": 475,
    "start_time": "2021-08-23T12:58:58.320Z"
   },
   {
    "duration": 2697,
    "start_time": "2021-08-23T12:58:58.798Z"
   },
   {
    "duration": 1759,
    "start_time": "2021-08-23T12:59:01.498Z"
   },
   {
    "duration": 1215,
    "start_time": "2021-08-23T12:59:03.259Z"
   },
   {
    "duration": 6,
    "start_time": "2021-08-23T12:59:04.476Z"
   },
   {
    "duration": 80,
    "start_time": "2021-08-23T12:59:04.484Z"
   },
   {
    "duration": 44,
    "start_time": "2021-08-23T12:59:04.567Z"
   },
   {
    "duration": 40,
    "start_time": "2021-08-23T12:59:04.614Z"
   },
   {
    "duration": 9,
    "start_time": "2021-08-23T12:59:04.657Z"
   },
   {
    "duration": 37,
    "start_time": "2021-08-23T12:59:04.668Z"
   },
   {
    "duration": 22,
    "start_time": "2021-08-23T12:59:04.708Z"
   },
   {
    "duration": 25,
    "start_time": "2021-08-23T12:59:04.732Z"
   },
   {
    "duration": 98,
    "start_time": "2021-08-23T12:59:04.760Z"
   },
   {
    "duration": 103,
    "start_time": "2021-08-23T12:59:04.862Z"
   },
   {
    "duration": 101,
    "start_time": "2021-08-23T12:59:05.057Z"
   },
   {
    "duration": 14,
    "start_time": "2021-08-23T12:59:05.161Z"
   },
   {
    "duration": 18,
    "start_time": "2021-08-23T12:59:05.178Z"
   },
   {
    "duration": 31,
    "start_time": "2021-08-23T12:59:05.199Z"
   },
   {
    "duration": 4203,
    "start_time": "2021-08-23T12:59:05.232Z"
   },
   {
    "duration": 46,
    "start_time": "2021-08-23T12:59:09.439Z"
   },
   {
    "duration": 115546,
    "start_time": "2021-08-23T12:59:09.489Z"
   },
   {
    "duration": 4,
    "start_time": "2021-08-23T13:01:05.038Z"
   },
   {
    "duration": 14,
    "start_time": "2021-08-23T13:01:05.044Z"
   },
   {
    "duration": 30415,
    "start_time": "2021-08-23T13:01:05.060Z"
   },
   {
    "duration": 82,
    "start_time": "2021-08-23T13:01:35.477Z"
   },
   {
    "duration": 20,
    "start_time": "2021-08-23T13:01:35.562Z"
   },
   {
    "duration": 71,
    "start_time": "2021-08-23T13:01:35.585Z"
   },
   {
    "duration": 814,
    "start_time": "2021-08-23T13:01:35.660Z"
   },
   {
    "duration": -358,
    "start_time": "2021-08-23T13:01:36.835Z"
   },
   {
    "duration": -361,
    "start_time": "2021-08-23T13:01:36.840Z"
   },
   {
    "duration": -366,
    "start_time": "2021-08-23T13:01:36.846Z"
   },
   {
    "duration": -368,
    "start_time": "2021-08-23T13:01:36.850Z"
   },
   {
    "duration": -487,
    "start_time": "2021-08-23T13:01:36.971Z"
   },
   {
    "duration": -518,
    "start_time": "2021-08-23T13:01:37.004Z"
   },
   {
    "duration": -522,
    "start_time": "2021-08-23T13:01:37.009Z"
   },
   {
    "duration": -526,
    "start_time": "2021-08-23T13:01:37.014Z"
   },
   {
    "duration": -529,
    "start_time": "2021-08-23T13:01:37.019Z"
   },
   {
    "duration": -532,
    "start_time": "2021-08-23T13:01:37.023Z"
   },
   {
    "duration": -536,
    "start_time": "2021-08-23T13:01:37.029Z"
   },
   {
    "duration": -540,
    "start_time": "2021-08-23T13:01:37.034Z"
   },
   {
    "duration": -544,
    "start_time": "2021-08-23T13:01:37.039Z"
   },
   {
    "duration": -546,
    "start_time": "2021-08-23T13:01:37.044Z"
   },
   {
    "duration": 5,
    "start_time": "2021-08-23T13:02:02.707Z"
   },
   {
    "duration": 13,
    "start_time": "2021-08-23T13:02:02.714Z"
   },
   {
    "duration": 424,
    "start_time": "2021-08-23T13:02:02.730Z"
   },
   {
    "duration": 16,
    "start_time": "2021-08-23T13:02:03.157Z"
   },
   {
    "duration": 13,
    "start_time": "2021-08-23T13:02:03.175Z"
   },
   {
    "duration": 35,
    "start_time": "2021-08-23T13:02:03.191Z"
   },
   {
    "duration": 442,
    "start_time": "2021-08-23T13:02:03.229Z"
   },
   {
    "duration": 7,
    "start_time": "2021-08-23T13:02:03.673Z"
   },
   {
    "duration": 25,
    "start_time": "2021-08-23T13:02:03.682Z"
   },
   {
    "duration": 435,
    "start_time": "2021-08-23T13:02:03.710Z"
   },
   {
    "duration": 108,
    "start_time": "2021-08-23T13:02:04.147Z"
   },
   {
    "duration": 6,
    "start_time": "2021-08-23T13:02:04.257Z"
   },
   {
    "duration": 13,
    "start_time": "2021-08-23T13:02:04.266Z"
   },
   {
    "duration": 440,
    "start_time": "2021-08-23T13:02:04.281Z"
   },
   {
    "duration": 6,
    "start_time": "2021-08-23T13:02:04.723Z"
   },
   {
    "duration": 370,
    "start_time": "2021-08-23T13:02:04.731Z"
   },
   {
    "duration": 9,
    "start_time": "2021-08-23T13:03:29.755Z"
   },
   {
    "duration": 5,
    "start_time": "2021-08-23T13:04:04.026Z"
   },
   {
    "duration": 6,
    "start_time": "2021-08-23T13:04:08.489Z"
   },
   {
    "duration": 436,
    "start_time": "2021-08-23T13:04:08.497Z"
   },
   {
    "duration": 31,
    "start_time": "2021-08-23T13:04:08.936Z"
   },
   {
    "duration": 8,
    "start_time": "2021-08-23T13:04:08.970Z"
   },
   {
    "duration": 22,
    "start_time": "2021-08-23T13:04:08.981Z"
   },
   {
    "duration": 465,
    "start_time": "2021-08-23T13:04:09.005Z"
   },
   {
    "duration": 8,
    "start_time": "2021-08-23T13:04:09.475Z"
   },
   {
    "duration": 19,
    "start_time": "2021-08-23T13:04:09.487Z"
   },
   {
    "duration": 472,
    "start_time": "2021-08-23T13:04:09.509Z"
   },
   {
    "duration": 78,
    "start_time": "2021-08-23T13:04:09.984Z"
   },
   {
    "duration": 5,
    "start_time": "2021-08-23T13:04:10.065Z"
   },
   {
    "duration": 28,
    "start_time": "2021-08-23T13:04:10.073Z"
   },
   {
    "duration": 527,
    "start_time": "2021-08-23T13:04:10.105Z"
   },
   {
    "duration": 5,
    "start_time": "2021-08-23T13:04:10.635Z"
   },
   {
    "duration": 360,
    "start_time": "2021-08-23T13:04:10.654Z"
   },
   {
    "duration": 8,
    "start_time": "2021-08-23T13:05:48.513Z"
   },
   {
    "duration": 16,
    "start_time": "2021-08-23T13:05:48.525Z"
   },
   {
    "duration": 98,
    "start_time": "2021-08-23T13:05:48.558Z"
   },
   {
    "duration": 96,
    "start_time": "2021-08-23T13:05:48.662Z"
   },
   {
    "duration": 429,
    "start_time": "2021-08-23T13:05:48.760Z"
   },
   {
    "duration": 17,
    "start_time": "2021-08-23T13:05:49.191Z"
   },
   {
    "duration": 4,
    "start_time": "2021-08-23T13:05:49.211Z"
   },
   {
    "duration": 15,
    "start_time": "2021-08-23T13:05:49.218Z"
   },
   {
    "duration": 452,
    "start_time": "2021-08-23T13:05:49.235Z"
   },
   {
    "duration": 7,
    "start_time": "2021-08-23T13:05:49.689Z"
   },
   {
    "duration": 15,
    "start_time": "2021-08-23T13:05:49.698Z"
   },
   {
    "duration": 448,
    "start_time": "2021-08-23T13:05:49.715Z"
   },
   {
    "duration": 27,
    "start_time": "2021-08-23T13:05:50.165Z"
   },
   {
    "duration": 64,
    "start_time": "2021-08-23T13:05:50.194Z"
   },
   {
    "duration": 15,
    "start_time": "2021-08-23T13:05:50.260Z"
   },
   {
    "duration": 450,
    "start_time": "2021-08-23T13:05:50.277Z"
   },
   {
    "duration": 5,
    "start_time": "2021-08-23T13:05:50.730Z"
   },
   {
    "duration": 483,
    "start_time": "2021-08-23T13:05:50.737Z"
   },
   {
    "duration": 27975,
    "start_time": "2021-08-23T13:07:12.730Z"
   },
   {
    "duration": 60965,
    "start_time": "2021-08-23T13:07:43.610Z"
   },
   {
    "duration": 7,
    "start_time": "2021-08-23T13:08:50.490Z"
   },
   {
    "duration": 7,
    "start_time": "2021-08-23T13:08:51.273Z"
   },
   {
    "duration": 475,
    "start_time": "2021-08-23T13:08:51.873Z"
   },
   {
    "duration": 8,
    "start_time": "2021-08-23T13:09:06.259Z"
   },
   {
    "duration": 12,
    "start_time": "2021-08-23T13:09:22.460Z"
   },
   {
    "duration": 11274,
    "start_time": "2021-08-23T13:09:48.514Z"
   },
   {
    "duration": 16,
    "start_time": "2021-08-23T13:14:04.106Z"
   },
   {
    "duration": 4,
    "start_time": "2021-08-23T13:14:04.651Z"
   },
   {
    "duration": 5,
    "start_time": "2021-08-23T13:14:05.422Z"
   },
   {
    "duration": 529,
    "start_time": "2021-08-23T13:14:06.019Z"
   },
   {
    "duration": 5,
    "start_time": "2021-08-23T13:18:56.502Z"
   },
   {
    "duration": 7,
    "start_time": "2021-08-23T13:19:12.962Z"
   },
   {
    "duration": 117583,
    "start_time": "2021-08-23T13:38:32.207Z"
   },
   {
    "duration": 6,
    "start_time": "2021-08-23T13:43:36.925Z"
   },
   {
    "duration": 8,
    "start_time": "2021-08-23T13:43:38.214Z"
   },
   {
    "duration": 7,
    "start_time": "2021-08-23T13:43:40.473Z"
   },
   {
    "duration": 431,
    "start_time": "2021-08-23T13:43:41.123Z"
   },
   {
    "duration": 120,
    "start_time": "2021-08-23T13:44:30.939Z"
   },
   {
    "duration": 8,
    "start_time": "2021-08-23T13:44:43.106Z"
   },
   {
    "duration": 7,
    "start_time": "2021-08-23T13:47:06.507Z"
   },
   {
    "duration": 7,
    "start_time": "2021-08-23T13:47:48.228Z"
   },
   {
    "duration": 1658,
    "start_time": "2021-08-23T14:06:03.022Z"
   },
   {
    "duration": 179,
    "start_time": "2021-08-23T14:06:04.683Z"
   },
   {
    "duration": 9,
    "start_time": "2021-08-23T14:06:04.865Z"
   },
   {
    "duration": 27,
    "start_time": "2021-08-23T14:06:04.877Z"
   },
   {
    "duration": 24,
    "start_time": "2021-08-23T14:06:04.907Z"
   },
   {
    "duration": 34,
    "start_time": "2021-08-23T14:06:04.933Z"
   },
   {
    "duration": 24,
    "start_time": "2021-08-23T14:06:04.969Z"
   },
   {
    "duration": 917,
    "start_time": "2021-08-23T14:06:04.997Z"
   },
   {
    "duration": 516,
    "start_time": "2021-08-23T14:06:05.917Z"
   },
   {
    "duration": 2660,
    "start_time": "2021-08-23T14:06:06.435Z"
   },
   {
    "duration": 1747,
    "start_time": "2021-08-23T14:06:09.098Z"
   },
   {
    "duration": 1192,
    "start_time": "2021-08-23T14:06:10.848Z"
   },
   {
    "duration": 12,
    "start_time": "2021-08-23T14:06:12.043Z"
   },
   {
    "duration": 76,
    "start_time": "2021-08-23T14:06:12.057Z"
   },
   {
    "duration": 47,
    "start_time": "2021-08-23T14:06:12.136Z"
   },
   {
    "duration": 12,
    "start_time": "2021-08-23T14:06:12.186Z"
   },
   {
    "duration": 14,
    "start_time": "2021-08-23T14:06:12.200Z"
   },
   {
    "duration": 13,
    "start_time": "2021-08-23T14:06:12.217Z"
   },
   {
    "duration": 30,
    "start_time": "2021-08-23T14:06:12.232Z"
   },
   {
    "duration": 21,
    "start_time": "2021-08-23T14:06:12.265Z"
   },
   {
    "duration": 69,
    "start_time": "2021-08-23T14:06:12.289Z"
   },
   {
    "duration": 96,
    "start_time": "2021-08-23T14:06:12.361Z"
   },
   {
    "duration": 91,
    "start_time": "2021-08-23T14:06:12.466Z"
   },
   {
    "duration": 97,
    "start_time": "2021-08-23T14:06:12.562Z"
   },
   {
    "duration": 4,
    "start_time": "2021-08-23T14:06:12.661Z"
   },
   {
    "duration": 8,
    "start_time": "2021-08-23T14:06:12.667Z"
   },
   {
    "duration": 3426,
    "start_time": "2021-08-23T14:06:12.678Z"
   },
   {
    "duration": 31,
    "start_time": "2021-08-23T14:06:16.106Z"
   },
   {
    "duration": 113835,
    "start_time": "2021-08-23T14:06:16.155Z"
   },
   {
    "duration": 5,
    "start_time": "2021-08-23T14:08:09.993Z"
   },
   {
    "duration": 10,
    "start_time": "2021-08-23T14:08:10.001Z"
   },
   {
    "duration": 27951,
    "start_time": "2021-08-23T14:08:10.014Z"
   },
   {
    "duration": 8,
    "start_time": "2021-08-23T14:08:37.967Z"
   },
   {
    "duration": 80,
    "start_time": "2021-08-23T14:08:37.977Z"
   },
   {
    "duration": 93,
    "start_time": "2021-08-23T14:08:38.061Z"
   },
   {
    "duration": 16,
    "start_time": "2021-08-23T14:08:38.157Z"
   },
   {
    "duration": 431,
    "start_time": "2021-08-23T14:08:38.175Z"
   },
   {
    "duration": 17,
    "start_time": "2021-08-23T14:08:38.608Z"
   },
   {
    "duration": 27,
    "start_time": "2021-08-23T14:08:38.628Z"
   },
   {
    "duration": 13,
    "start_time": "2021-08-23T14:08:38.658Z"
   },
   {
    "duration": 422,
    "start_time": "2021-08-23T14:08:38.674Z"
   },
   {
    "duration": 5,
    "start_time": "2021-08-23T14:08:39.099Z"
   },
   {
    "duration": 15,
    "start_time": "2021-08-23T14:08:39.107Z"
   },
   {
    "duration": 460,
    "start_time": "2021-08-23T14:08:39.124Z"
   },
   {
    "duration": 73,
    "start_time": "2021-08-23T14:08:39.586Z"
   },
   {
    "duration": 5,
    "start_time": "2021-08-23T14:08:39.662Z"
   },
   {
    "duration": 17,
    "start_time": "2021-08-23T14:08:39.669Z"
   },
   {
    "duration": 466,
    "start_time": "2021-08-23T14:08:39.688Z"
   },
   {
    "duration": 6,
    "start_time": "2021-08-23T14:08:40.156Z"
   },
   {
    "duration": 367,
    "start_time": "2021-08-23T14:08:40.164Z"
   }
  ],
  "kernelspec": {
   "display_name": "Python 3",
   "language": "python",
   "name": "python3"
  },
  "language_info": {
   "codemirror_mode": {
    "name": "ipython",
    "version": 3
   },
   "file_extension": ".py",
   "mimetype": "text/x-python",
   "name": "python",
   "nbconvert_exporter": "python",
   "pygments_lexer": "ipython3",
   "version": "3.8.8"
  },
  "toc": {
   "base_numbering": 1,
   "nav_menu": {},
   "number_sections": true,
   "sideBar": true,
   "skip_h1_title": true,
   "title_cell": "Содержание",
   "title_sidebar": "Contents",
   "toc_cell": true,
   "toc_position": {
    "height": "calc(100% - 180px)",
    "left": "10px",
    "top": "150px",
    "width": "366.391px"
   },
   "toc_section_display": true,
   "toc_window_display": true
  }
 },
 "nbformat": 4,
 "nbformat_minor": 2
}
