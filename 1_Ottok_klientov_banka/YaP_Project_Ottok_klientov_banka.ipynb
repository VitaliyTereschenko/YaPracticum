{
 "cells": [
  {
   "cell_type": "markdown",
   "metadata": {
    "toc": true
   },
   "source": [
    "<h1>Содержание<span class=\"tocSkip\"></span></h1>\n",
    "<div class=\"toc\"><ul class=\"toc-item\"><li><span><a href=\"#Подготовка-данных\" data-toc-modified-id=\"Подготовка-данных-1\"><span class=\"toc-item-num\">1&nbsp;&nbsp;</span>Подготовка данных</a></span><ul class=\"toc-item\"><li><span><a href=\"#Отбрасываем-лишние-данные\" data-toc-modified-id=\"Отбрасываем-лишние-данные-1.1\"><span class=\"toc-item-num\">1.1&nbsp;&nbsp;</span>Отбрасываем лишние данные</a></span></li><li><span><a href=\"#Заполняем-пропуски\" data-toc-modified-id=\"Заполняем-пропуски-1.2\"><span class=\"toc-item-num\">1.2&nbsp;&nbsp;</span>Заполняем пропуски</a></span></li><li><span><a href=\"#Прямое-кодирование-категориальных-данных\" data-toc-modified-id=\"Прямое-кодирование-категориальных-данных-1.3\"><span class=\"toc-item-num\">1.3&nbsp;&nbsp;</span>Прямое кодирование категориальных данных</a></span></li><li><span><a href=\"#Разделение-данных-на-выборки\" data-toc-modified-id=\"Разделение-данных-на-выборки-1.4\"><span class=\"toc-item-num\">1.4&nbsp;&nbsp;</span>Разделение данных на выборки</a></span></li><li><span><a href=\"#Проверка-на-дисбаланс\" data-toc-modified-id=\"Проверка-на-дисбаланс-1.5\"><span class=\"toc-item-num\">1.5&nbsp;&nbsp;</span>Проверка на дисбаланс</a></span></li><li><span><a href=\"#Разделение-признаков\" data-toc-modified-id=\"Разделение-признаков-1.6\"><span class=\"toc-item-num\">1.6&nbsp;&nbsp;</span>Разделение признаков</a></span></li><li><span><a href=\"#Масштабирование-колличественных-признаков\" data-toc-modified-id=\"Масштабирование-колличественных-признаков-1.7\"><span class=\"toc-item-num\">1.7&nbsp;&nbsp;</span>Масштабирование колличественных признаков</a></span></li></ul></li><li><span><a href=\"#Исследование-задачи\" data-toc-modified-id=\"Исследование-задачи-2\"><span class=\"toc-item-num\">2&nbsp;&nbsp;</span>Исследование задачи</a></span><ul class=\"toc-item\"><li><span><a href=\"#Обучем-и-проверям-модели-на-данных-с-Дисбалансом\" data-toc-modified-id=\"Обучем-и-проверям-модели-на-данных-с-Дисбалансом-2.1\"><span class=\"toc-item-num\">2.1&nbsp;&nbsp;</span>Обучем и проверям модели на данных с Дисбалансом</a></span><ul class=\"toc-item\"><li><span><a href=\"#Логистическая-регресиия\" data-toc-modified-id=\"Логистическая-регресиия-2.1.1\"><span class=\"toc-item-num\">2.1.1&nbsp;&nbsp;</span>Логистическая регресиия</a></span></li><li><span><a href=\"#Дерево-принятия-решений\" data-toc-modified-id=\"Дерево-принятия-решений-2.1.2\"><span class=\"toc-item-num\">2.1.2&nbsp;&nbsp;</span>Дерево принятия решений</a></span></li><li><span><a href=\"#Случайный-лес\" data-toc-modified-id=\"Случайный-лес-2.1.3\"><span class=\"toc-item-num\">2.1.3&nbsp;&nbsp;</span>Случайный лес</a></span></li></ul></li></ul></li><li><span><a href=\"#Борьба-с-дисбалансом\" data-toc-modified-id=\"Борьба-с-дисбалансом-3\"><span class=\"toc-item-num\">3&nbsp;&nbsp;</span>Борьба с дисбалансом</a></span><ul class=\"toc-item\"><li><span><a href=\"#Upsample---увеличение-положительного-класса\" data-toc-modified-id=\"Upsample---увеличение-положительного-класса-3.1\"><span class=\"toc-item-num\">3.1&nbsp;&nbsp;</span>Upsample - увеличение положительного класса</a></span></li><li><span><a href=\"#Downsample---уменьшение-отрицательного-класса\" data-toc-modified-id=\"Downsample---уменьшение-отрицательного-класса-3.2\"><span class=\"toc-item-num\">3.2&nbsp;&nbsp;</span>Downsample - уменьшение отрицательного класса</a></span></li></ul></li><li><span><a href=\"#Тестирование-модели\" data-toc-modified-id=\"Тестирование-модели-4\"><span class=\"toc-item-num\">4&nbsp;&nbsp;</span>Тестирование модели</a></span><ul class=\"toc-item\"><li><span><a href=\"#Логистическая-регрессия\" data-toc-modified-id=\"Логистическая-регрессия-4.1\"><span class=\"toc-item-num\">4.1&nbsp;&nbsp;</span>Логистическая регрессия</a></span></li><li><span><a href=\"#Дерево-принятия-решений\" data-toc-modified-id=\"Дерево-принятия-решений-4.2\"><span class=\"toc-item-num\">4.2&nbsp;&nbsp;</span>Дерево принятия решений</a></span></li><li><span><a href=\"#Случайный-лес\" data-toc-modified-id=\"Случайный-лес-4.3\"><span class=\"toc-item-num\">4.3&nbsp;&nbsp;</span>Случайный лес</a></span></li><li><span><a href=\"#Прогноз-на-Тестовой-выборке:\" data-toc-modified-id=\"Прогноз-на-Тестовой-выборке:-4.4\"><span class=\"toc-item-num\">4.4&nbsp;&nbsp;</span>Прогноз на Тестовой выборке:</a></span><ul class=\"toc-item\"><li><span><a href=\"#Вариант-первый,-обучение-только-на-Train-выборке\" data-toc-modified-id=\"Вариант-первый,-обучение-только-на-Train-выборке-4.4.1\"><span class=\"toc-item-num\">4.4.1&nbsp;&nbsp;</span>Вариант первый, обучение только на Train выборке</a></span></li><li><span><a href=\"#Вариант-второй,-обучение-на-совмещенной-выборке-Train-и-Valid\" data-toc-modified-id=\"Вариант-второй,-обучение-на-совмещенной-выборке-Train-и-Valid-4.4.2\"><span class=\"toc-item-num\">4.4.2&nbsp;&nbsp;</span>Вариант второй, обучение на совмещенной выборке Train и Valid</a></span></li></ul></li><li><span><a href=\"#Вывод\" data-toc-modified-id=\"Вывод-4.5\"><span class=\"toc-item-num\">4.5&nbsp;&nbsp;</span>Вывод</a></span></li></ul></li><li><span><a href=\"#Чек-лист-готовности-проекта\" data-toc-modified-id=\"Чек-лист-готовности-проекта-5\"><span class=\"toc-item-num\">5&nbsp;&nbsp;</span>Чек-лист готовности проекта</a></span><ul class=\"toc-item\"><li><span><a href=\"#Чек-лист-доработок\" data-toc-modified-id=\"Чек-лист-доработок-5.1\"><span class=\"toc-item-num\">5.1&nbsp;&nbsp;</span>Чек-лист доработок</a></span></li><li><span><a href=\"#Чек-лист-доработок-v2\" data-toc-modified-id=\"Чек-лист-доработок-v2-5.2\"><span class=\"toc-item-num\">5.2&nbsp;&nbsp;</span>Чек-лист доработок v2</a></span></li></ul></li></ul></div>"
   ]
  },
  {
   "cell_type": "markdown",
   "metadata": {},
   "source": [
    "# Отток клиентов"
   ]
  },
  {
   "cell_type": "markdown",
   "metadata": {},
   "source": [
    "<div style=\"border-radius: 15px; border: 1px solid grey; padding: 15px;\">\n",
    "<b> Описание проекта</b>\n",
    "    \n",
    "Из «Бета-Банка» стали уходить клиенты. Каждый месяц. Немного, но заметно. Банковские маркетологи посчитали: сохранять текущих клиентов дешевле, чем привлекать новых.\n",
    "\n",
    "Источник данных: [https://www.kaggle.com/barelydedicated/bank-customer-churn-modeling](https://www.kaggle.com/barelydedicated/bank-customer-churn-modeling)\n",
    "    \n",
    "\n",
    "\n",
    "</div>\n",
    "\n"
   ]
  },
  {
   "cell_type": "markdown",
   "metadata": {},
   "source": [
    "<div style=\"border-radius: 15px; border: 1px solid grey; padding: 15px;\">\n",
    "<b> Описание данных </b>\n",
    "    \n",
    "   \n",
    " <b>  Признаки: </b>\n",
    "\n",
    "RowNumber — индекс строки в данных\n",
    "    \n",
    "CustomerId — уникальный идентификатор клиента\n",
    "    \n",
    "Surname — фамилия\n",
    "    \n",
    "CreditScore — кредитный рейтинг\n",
    "    \n",
    "Geography — страна проживания\n",
    "    \n",
    "Gender — пол\n",
    "    \n",
    "Age — возраст\n",
    "    \n",
    "Tenure — сколько лет человек является клиентом банка\n",
    "    \n",
    "Balance — баланс на счёте\n",
    "    \n",
    "NumOfProducts — количество продуктов банка, используемых клиентом\n",
    "    \n",
    "HasCrCard — наличие кредитной карты\n",
    "    \n",
    "IsActiveMember — активность клиента\n",
    "    \n",
    "EstimatedSalary — предполагаемая зарплата\n",
    "\n",
    " <b>Целевой признак:</b>\n",
    "\n",
    "Exited — факт ухода клиента\n",
    "\n",
    "</div>\n"
   ]
  },
  {
   "cell_type": "markdown",
   "metadata": {},
   "source": [
    "## Подготовка данных"
   ]
  },
  {
   "cell_type": "code",
   "execution_count": 1,
   "metadata": {},
   "outputs": [],
   "source": [
    "import pandas as pd\n",
    "import numpy as np\n",
    "import matplotlib.pyplot as plt\n",
    "pd.options.mode.chained_assignment = None\n",
    "from sklearn.preprocessing import StandardScaler \n",
    "from sklearn.model_selection import train_test_split\n",
    "from sklearn.linear_model import LogisticRegression\n",
    "from sklearn.tree import DecisionTreeClassifier\n",
    "from sklearn.ensemble import RandomForestClassifier\n",
    "from sklearn.metrics import precision_score, recall_score, roc_curve, roc_auc_score, f1_score\n",
    "from sklearn.utils import shuffle"
   ]
  },
  {
   "cell_type": "code",
   "execution_count": 2,
   "metadata": {},
   "outputs": [],
   "source": [
    "df = pd.read_csv('/Churn.csv')"
   ]
  },
  {
   "cell_type": "markdown",
   "metadata": {},
   "source": [
    "<div style=\"border-radius: 15px; border: 1px solid grey; padding: 15px;\">\n",
    "Открыли файл, проверим содержимое:\n",
    "</div>"
   ]
  },
  {
   "cell_type": "code",
   "execution_count": 3,
   "metadata": {},
   "outputs": [
    {
     "name": "stdout",
     "output_type": "stream",
     "text": [
      "<class 'pandas.core.frame.DataFrame'>\n",
      "RangeIndex: 10000 entries, 0 to 9999\n",
      "Data columns (total 14 columns):\n",
      "RowNumber          10000 non-null int64\n",
      "CustomerId         10000 non-null int64\n",
      "Surname            10000 non-null object\n",
      "CreditScore        10000 non-null int64\n",
      "Geography          10000 non-null object\n",
      "Gender             10000 non-null object\n",
      "Age                10000 non-null int64\n",
      "Tenure             9091 non-null float64\n",
      "Balance            10000 non-null float64\n",
      "NumOfProducts      10000 non-null int64\n",
      "HasCrCard          10000 non-null int64\n",
      "IsActiveMember     10000 non-null int64\n",
      "EstimatedSalary    10000 non-null float64\n",
      "Exited             10000 non-null int64\n",
      "dtypes: float64(3), int64(8), object(3)\n",
      "memory usage: 1.1+ MB\n"
     ]
    }
   ],
   "source": [
    "df.info()"
   ]
  },
  {
   "cell_type": "markdown",
   "metadata": {},
   "source": [
    "### Отбрасываем лишние данные"
   ]
  },
  {
   "cell_type": "markdown",
   "metadata": {},
   "source": [
    "<div style=\"border-radius: 15px; border: 1px solid grey; padding: 15px;\">\n",
    "Присутствуют данные которые не могу быть признаками для принятия решения по целевому признаку, такие как Имя, ID и номер строки, избавимся от них.\n",
    "</div>"
   ]
  },
  {
   "cell_type": "code",
   "execution_count": 4,
   "metadata": {},
   "outputs": [],
   "source": [
    "dfc = df.drop(['RowNumber', 'CustomerId', 'Surname'] , axis=1)"
   ]
  },
  {
   "cell_type": "code",
   "execution_count": 5,
   "metadata": {
    "scrolled": true
   },
   "outputs": [
    {
     "data": {
      "text/html": [
       "<div>\n",
       "<style scoped>\n",
       "    .dataframe tbody tr th:only-of-type {\n",
       "        vertical-align: middle;\n",
       "    }\n",
       "\n",
       "    .dataframe tbody tr th {\n",
       "        vertical-align: top;\n",
       "    }\n",
       "\n",
       "    .dataframe thead th {\n",
       "        text-align: right;\n",
       "    }\n",
       "</style>\n",
       "<table border=\"1\" class=\"dataframe\">\n",
       "  <thead>\n",
       "    <tr style=\"text-align: right;\">\n",
       "      <th></th>\n",
       "      <th>CreditScore</th>\n",
       "      <th>Age</th>\n",
       "      <th>Tenure</th>\n",
       "      <th>Balance</th>\n",
       "      <th>NumOfProducts</th>\n",
       "      <th>HasCrCard</th>\n",
       "      <th>IsActiveMember</th>\n",
       "      <th>EstimatedSalary</th>\n",
       "      <th>Exited</th>\n",
       "    </tr>\n",
       "  </thead>\n",
       "  <tbody>\n",
       "    <tr>\n",
       "      <td>count</td>\n",
       "      <td>10000.000000</td>\n",
       "      <td>10000.000000</td>\n",
       "      <td>9091.000000</td>\n",
       "      <td>10000.000000</td>\n",
       "      <td>10000.000000</td>\n",
       "      <td>10000.00000</td>\n",
       "      <td>10000.000000</td>\n",
       "      <td>10000.000000</td>\n",
       "      <td>10000.000000</td>\n",
       "    </tr>\n",
       "    <tr>\n",
       "      <td>mean</td>\n",
       "      <td>650.528800</td>\n",
       "      <td>38.921800</td>\n",
       "      <td>4.997690</td>\n",
       "      <td>76485.889288</td>\n",
       "      <td>1.530200</td>\n",
       "      <td>0.70550</td>\n",
       "      <td>0.515100</td>\n",
       "      <td>100090.239881</td>\n",
       "      <td>0.203700</td>\n",
       "    </tr>\n",
       "    <tr>\n",
       "      <td>std</td>\n",
       "      <td>96.653299</td>\n",
       "      <td>10.487806</td>\n",
       "      <td>2.894723</td>\n",
       "      <td>62397.405202</td>\n",
       "      <td>0.581654</td>\n",
       "      <td>0.45584</td>\n",
       "      <td>0.499797</td>\n",
       "      <td>57510.492818</td>\n",
       "      <td>0.402769</td>\n",
       "    </tr>\n",
       "    <tr>\n",
       "      <td>min</td>\n",
       "      <td>350.000000</td>\n",
       "      <td>18.000000</td>\n",
       "      <td>0.000000</td>\n",
       "      <td>0.000000</td>\n",
       "      <td>1.000000</td>\n",
       "      <td>0.00000</td>\n",
       "      <td>0.000000</td>\n",
       "      <td>11.580000</td>\n",
       "      <td>0.000000</td>\n",
       "    </tr>\n",
       "    <tr>\n",
       "      <td>25%</td>\n",
       "      <td>584.000000</td>\n",
       "      <td>32.000000</td>\n",
       "      <td>2.000000</td>\n",
       "      <td>0.000000</td>\n",
       "      <td>1.000000</td>\n",
       "      <td>0.00000</td>\n",
       "      <td>0.000000</td>\n",
       "      <td>51002.110000</td>\n",
       "      <td>0.000000</td>\n",
       "    </tr>\n",
       "    <tr>\n",
       "      <td>50%</td>\n",
       "      <td>652.000000</td>\n",
       "      <td>37.000000</td>\n",
       "      <td>5.000000</td>\n",
       "      <td>97198.540000</td>\n",
       "      <td>1.000000</td>\n",
       "      <td>1.00000</td>\n",
       "      <td>1.000000</td>\n",
       "      <td>100193.915000</td>\n",
       "      <td>0.000000</td>\n",
       "    </tr>\n",
       "    <tr>\n",
       "      <td>75%</td>\n",
       "      <td>718.000000</td>\n",
       "      <td>44.000000</td>\n",
       "      <td>7.000000</td>\n",
       "      <td>127644.240000</td>\n",
       "      <td>2.000000</td>\n",
       "      <td>1.00000</td>\n",
       "      <td>1.000000</td>\n",
       "      <td>149388.247500</td>\n",
       "      <td>0.000000</td>\n",
       "    </tr>\n",
       "    <tr>\n",
       "      <td>max</td>\n",
       "      <td>850.000000</td>\n",
       "      <td>92.000000</td>\n",
       "      <td>10.000000</td>\n",
       "      <td>250898.090000</td>\n",
       "      <td>4.000000</td>\n",
       "      <td>1.00000</td>\n",
       "      <td>1.000000</td>\n",
       "      <td>199992.480000</td>\n",
       "      <td>1.000000</td>\n",
       "    </tr>\n",
       "  </tbody>\n",
       "</table>\n",
       "</div>"
      ],
      "text/plain": [
       "        CreditScore           Age       Tenure        Balance  NumOfProducts  \\\n",
       "count  10000.000000  10000.000000  9091.000000   10000.000000   10000.000000   \n",
       "mean     650.528800     38.921800     4.997690   76485.889288       1.530200   \n",
       "std       96.653299     10.487806     2.894723   62397.405202       0.581654   \n",
       "min      350.000000     18.000000     0.000000       0.000000       1.000000   \n",
       "25%      584.000000     32.000000     2.000000       0.000000       1.000000   \n",
       "50%      652.000000     37.000000     5.000000   97198.540000       1.000000   \n",
       "75%      718.000000     44.000000     7.000000  127644.240000       2.000000   \n",
       "max      850.000000     92.000000    10.000000  250898.090000       4.000000   \n",
       "\n",
       "         HasCrCard  IsActiveMember  EstimatedSalary        Exited  \n",
       "count  10000.00000    10000.000000     10000.000000  10000.000000  \n",
       "mean       0.70550        0.515100    100090.239881      0.203700  \n",
       "std        0.45584        0.499797     57510.492818      0.402769  \n",
       "min        0.00000        0.000000        11.580000      0.000000  \n",
       "25%        0.00000        0.000000     51002.110000      0.000000  \n",
       "50%        1.00000        1.000000    100193.915000      0.000000  \n",
       "75%        1.00000        1.000000    149388.247500      0.000000  \n",
       "max        1.00000        1.000000    199992.480000      1.000000  "
      ]
     },
     "execution_count": 5,
     "metadata": {},
     "output_type": "execute_result"
    }
   ],
   "source": [
    "dfc.describe()"
   ]
  },
  {
   "cell_type": "markdown",
   "metadata": {},
   "source": [
    "### Заполняем пропуски"
   ]
  },
  {
   "cell_type": "markdown",
   "metadata": {},
   "source": [
    "<div style=\"border-radius: 15px; border: 1px solid grey; padding: 15px;\">\n",
    "В данных о том сколько лет человек является клиентом банка ('Tenure'), присутсвуют пропуски. Посмотрим на распределение этого признака.\n",
    "</div>"
   ]
  },
  {
   "cell_type": "code",
   "execution_count": 6,
   "metadata": {},
   "outputs": [
    {
     "data": {
      "text/plain": [
       "1.0     952\n",
       "2.0     950\n",
       "8.0     933\n",
       "3.0     928\n",
       "5.0     927\n",
       "7.0     925\n",
       "4.0     885\n",
       "9.0     882\n",
       "6.0     881\n",
       "10.0    446\n",
       "0.0     382\n",
       "Name: Tenure, dtype: int64"
      ]
     },
     "execution_count": 6,
     "metadata": {},
     "output_type": "execute_result"
    }
   ],
   "source": [
    "dfc['Tenure'].value_counts()"
   ]
  },
  {
   "cell_type": "code",
   "execution_count": 7,
   "metadata": {},
   "outputs": [
    {
     "data": {
      "text/plain": [
       "count    9091.000000\n",
       "mean        4.997690\n",
       "std         2.894723\n",
       "min         0.000000\n",
       "25%         2.000000\n",
       "50%         5.000000\n",
       "75%         7.000000\n",
       "max        10.000000\n",
       "Name: Tenure, dtype: float64"
      ]
     },
     "execution_count": 7,
     "metadata": {},
     "output_type": "execute_result"
    }
   ],
   "source": [
    "dfc['Tenure'].describe()"
   ]
  },
  {
   "cell_type": "markdown",
   "metadata": {},
   "source": [
    "<div style=\"border-radius: 15px; border: 1px solid grey; padding: 15px;\">\n",
    "Признак нормально распределен вокруг серднего 5.0. Если заполнить пропуски медианой или средним, мы получим пик значений в районе 5.0. Пойдем другим путем и попытаемся сохранить распределение заполнив пропуски значением из предыдущей строки.\n",
    "</div>"
   ]
  },
  {
   "cell_type": "code",
   "execution_count": 8,
   "metadata": {},
   "outputs": [
    {
     "data": {
      "text/plain": [
       "2.0     1063\n",
       "1.0     1039\n",
       "8.0     1032\n",
       "3.0     1029\n",
       "5.0     1028\n",
       "7.0     1028\n",
       "6.0      963\n",
       "9.0      955\n",
       "4.0      955\n",
       "10.0     489\n",
       "0.0      419\n",
       "Name: Tenure, dtype: int64"
      ]
     },
     "execution_count": 8,
     "metadata": {},
     "output_type": "execute_result"
    }
   ],
   "source": [
    "dfc['Tenure'].fillna(method='ffill', inplace=True)\n",
    "dfc['Tenure'].value_counts()"
   ]
  },
  {
   "cell_type": "code",
   "execution_count": 9,
   "metadata": {
    "scrolled": true
   },
   "outputs": [
    {
     "data": {
      "text/plain": [
       "count    10000.000000\n",
       "mean         4.992700\n",
       "std          2.891588\n",
       "min          0.000000\n",
       "25%          2.000000\n",
       "50%          5.000000\n",
       "75%          7.000000\n",
       "max         10.000000\n",
       "Name: Tenure, dtype: float64"
      ]
     },
     "execution_count": 9,
     "metadata": {},
     "output_type": "execute_result"
    }
   ],
   "source": [
    "dfc['Tenure'].describe()"
   ]
  },
  {
   "cell_type": "markdown",
   "metadata": {},
   "source": [
    "<div style=\"border-radius: 15px; border: 1px solid grey; padding: 15px;\">\n",
    "Пропуски заполнены, а распределение сохранено. Двигаемся дальше.\n",
    "</div>"
   ]
  },
  {
   "cell_type": "markdown",
   "metadata": {},
   "source": [
    "### Прямое кодирование категориальных данных"
   ]
  },
  {
   "cell_type": "markdown",
   "metadata": {},
   "source": [
    "<div style=\"border-radius: 15px; border: 1px solid grey; padding: 15px;\">\n",
    "Проверим содержимое не цифровых категориальных данных:\n",
    "</div>"
   ]
  },
  {
   "cell_type": "code",
   "execution_count": 10,
   "metadata": {},
   "outputs": [
    {
     "data": {
      "text/plain": [
       "Male      5457\n",
       "Female    4543\n",
       "Name: Gender, dtype: int64"
      ]
     },
     "execution_count": 10,
     "metadata": {},
     "output_type": "execute_result"
    }
   ],
   "source": [
    "dfc['Gender'].value_counts()"
   ]
  },
  {
   "cell_type": "code",
   "execution_count": 11,
   "metadata": {},
   "outputs": [
    {
     "data": {
      "text/plain": [
       "France     5014\n",
       "Germany    2509\n",
       "Spain      2477\n",
       "Name: Geography, dtype: int64"
      ]
     },
     "execution_count": 11,
     "metadata": {},
     "output_type": "execute_result"
    }
   ],
   "source": [
    "dfc['Geography'].value_counts() "
   ]
  },
  {
   "cell_type": "markdown",
   "metadata": {},
   "source": [
    "<div style=\"border-radius: 15px; border: 1px solid grey; padding: 15px;\">\n",
    "Произведем кодирование методом \"One-Hot Encoding\" с удалением первого избыточного признака, который востанавливается по остальным: \n",
    "</div>"
   ]
  },
  {
   "cell_type": "code",
   "execution_count": 12,
   "metadata": {},
   "outputs": [],
   "source": [
    "dfc_ohe = pd.get_dummies(dfc, drop_first=True)"
   ]
  },
  {
   "cell_type": "code",
   "execution_count": 13,
   "metadata": {},
   "outputs": [
    {
     "data": {
      "text/html": [
       "<div>\n",
       "<style scoped>\n",
       "    .dataframe tbody tr th:only-of-type {\n",
       "        vertical-align: middle;\n",
       "    }\n",
       "\n",
       "    .dataframe tbody tr th {\n",
       "        vertical-align: top;\n",
       "    }\n",
       "\n",
       "    .dataframe thead th {\n",
       "        text-align: right;\n",
       "    }\n",
       "</style>\n",
       "<table border=\"1\" class=\"dataframe\">\n",
       "  <thead>\n",
       "    <tr style=\"text-align: right;\">\n",
       "      <th></th>\n",
       "      <th>CreditScore</th>\n",
       "      <th>Age</th>\n",
       "      <th>Tenure</th>\n",
       "      <th>Balance</th>\n",
       "      <th>NumOfProducts</th>\n",
       "      <th>HasCrCard</th>\n",
       "      <th>IsActiveMember</th>\n",
       "      <th>EstimatedSalary</th>\n",
       "      <th>Exited</th>\n",
       "      <th>Geography_Germany</th>\n",
       "      <th>Geography_Spain</th>\n",
       "      <th>Gender_Male</th>\n",
       "    </tr>\n",
       "  </thead>\n",
       "  <tbody>\n",
       "    <tr>\n",
       "      <td>count</td>\n",
       "      <td>10000.000000</td>\n",
       "      <td>10000.000000</td>\n",
       "      <td>10000.000000</td>\n",
       "      <td>10000.000000</td>\n",
       "      <td>10000.000000</td>\n",
       "      <td>10000.00000</td>\n",
       "      <td>10000.000000</td>\n",
       "      <td>10000.000000</td>\n",
       "      <td>10000.000000</td>\n",
       "      <td>10000.000000</td>\n",
       "      <td>10000.000000</td>\n",
       "      <td>10000.000000</td>\n",
       "    </tr>\n",
       "    <tr>\n",
       "      <td>mean</td>\n",
       "      <td>650.528800</td>\n",
       "      <td>38.921800</td>\n",
       "      <td>4.992700</td>\n",
       "      <td>76485.889288</td>\n",
       "      <td>1.530200</td>\n",
       "      <td>0.70550</td>\n",
       "      <td>0.515100</td>\n",
       "      <td>100090.239881</td>\n",
       "      <td>0.203700</td>\n",
       "      <td>0.250900</td>\n",
       "      <td>0.247700</td>\n",
       "      <td>0.545700</td>\n",
       "    </tr>\n",
       "    <tr>\n",
       "      <td>std</td>\n",
       "      <td>96.653299</td>\n",
       "      <td>10.487806</td>\n",
       "      <td>2.891588</td>\n",
       "      <td>62397.405202</td>\n",
       "      <td>0.581654</td>\n",
       "      <td>0.45584</td>\n",
       "      <td>0.499797</td>\n",
       "      <td>57510.492818</td>\n",
       "      <td>0.402769</td>\n",
       "      <td>0.433553</td>\n",
       "      <td>0.431698</td>\n",
       "      <td>0.497932</td>\n",
       "    </tr>\n",
       "    <tr>\n",
       "      <td>min</td>\n",
       "      <td>350.000000</td>\n",
       "      <td>18.000000</td>\n",
       "      <td>0.000000</td>\n",
       "      <td>0.000000</td>\n",
       "      <td>1.000000</td>\n",
       "      <td>0.00000</td>\n",
       "      <td>0.000000</td>\n",
       "      <td>11.580000</td>\n",
       "      <td>0.000000</td>\n",
       "      <td>0.000000</td>\n",
       "      <td>0.000000</td>\n",
       "      <td>0.000000</td>\n",
       "    </tr>\n",
       "    <tr>\n",
       "      <td>25%</td>\n",
       "      <td>584.000000</td>\n",
       "      <td>32.000000</td>\n",
       "      <td>2.000000</td>\n",
       "      <td>0.000000</td>\n",
       "      <td>1.000000</td>\n",
       "      <td>0.00000</td>\n",
       "      <td>0.000000</td>\n",
       "      <td>51002.110000</td>\n",
       "      <td>0.000000</td>\n",
       "      <td>0.000000</td>\n",
       "      <td>0.000000</td>\n",
       "      <td>0.000000</td>\n",
       "    </tr>\n",
       "    <tr>\n",
       "      <td>50%</td>\n",
       "      <td>652.000000</td>\n",
       "      <td>37.000000</td>\n",
       "      <td>5.000000</td>\n",
       "      <td>97198.540000</td>\n",
       "      <td>1.000000</td>\n",
       "      <td>1.00000</td>\n",
       "      <td>1.000000</td>\n",
       "      <td>100193.915000</td>\n",
       "      <td>0.000000</td>\n",
       "      <td>0.000000</td>\n",
       "      <td>0.000000</td>\n",
       "      <td>1.000000</td>\n",
       "    </tr>\n",
       "    <tr>\n",
       "      <td>75%</td>\n",
       "      <td>718.000000</td>\n",
       "      <td>44.000000</td>\n",
       "      <td>7.000000</td>\n",
       "      <td>127644.240000</td>\n",
       "      <td>2.000000</td>\n",
       "      <td>1.00000</td>\n",
       "      <td>1.000000</td>\n",
       "      <td>149388.247500</td>\n",
       "      <td>0.000000</td>\n",
       "      <td>1.000000</td>\n",
       "      <td>0.000000</td>\n",
       "      <td>1.000000</td>\n",
       "    </tr>\n",
       "    <tr>\n",
       "      <td>max</td>\n",
       "      <td>850.000000</td>\n",
       "      <td>92.000000</td>\n",
       "      <td>10.000000</td>\n",
       "      <td>250898.090000</td>\n",
       "      <td>4.000000</td>\n",
       "      <td>1.00000</td>\n",
       "      <td>1.000000</td>\n",
       "      <td>199992.480000</td>\n",
       "      <td>1.000000</td>\n",
       "      <td>1.000000</td>\n",
       "      <td>1.000000</td>\n",
       "      <td>1.000000</td>\n",
       "    </tr>\n",
       "  </tbody>\n",
       "</table>\n",
       "</div>"
      ],
      "text/plain": [
       "        CreditScore           Age        Tenure        Balance  NumOfProducts  \\\n",
       "count  10000.000000  10000.000000  10000.000000   10000.000000   10000.000000   \n",
       "mean     650.528800     38.921800      4.992700   76485.889288       1.530200   \n",
       "std       96.653299     10.487806      2.891588   62397.405202       0.581654   \n",
       "min      350.000000     18.000000      0.000000       0.000000       1.000000   \n",
       "25%      584.000000     32.000000      2.000000       0.000000       1.000000   \n",
       "50%      652.000000     37.000000      5.000000   97198.540000       1.000000   \n",
       "75%      718.000000     44.000000      7.000000  127644.240000       2.000000   \n",
       "max      850.000000     92.000000     10.000000  250898.090000       4.000000   \n",
       "\n",
       "         HasCrCard  IsActiveMember  EstimatedSalary        Exited  \\\n",
       "count  10000.00000    10000.000000     10000.000000  10000.000000   \n",
       "mean       0.70550        0.515100    100090.239881      0.203700   \n",
       "std        0.45584        0.499797     57510.492818      0.402769   \n",
       "min        0.00000        0.000000        11.580000      0.000000   \n",
       "25%        0.00000        0.000000     51002.110000      0.000000   \n",
       "50%        1.00000        1.000000    100193.915000      0.000000   \n",
       "75%        1.00000        1.000000    149388.247500      0.000000   \n",
       "max        1.00000        1.000000    199992.480000      1.000000   \n",
       "\n",
       "       Geography_Germany  Geography_Spain   Gender_Male  \n",
       "count       10000.000000     10000.000000  10000.000000  \n",
       "mean            0.250900         0.247700      0.545700  \n",
       "std             0.433553         0.431698      0.497932  \n",
       "min             0.000000         0.000000      0.000000  \n",
       "25%             0.000000         0.000000      0.000000  \n",
       "50%             0.000000         0.000000      1.000000  \n",
       "75%             1.000000         0.000000      1.000000  \n",
       "max             1.000000         1.000000      1.000000  "
      ]
     },
     "execution_count": 13,
     "metadata": {},
     "output_type": "execute_result"
    }
   ],
   "source": [
    "dfc_ohe.describe()"
   ]
  },
  {
   "cell_type": "markdown",
   "metadata": {},
   "source": [
    "<div style=\"border-radius: 15px; border: 1px solid grey; padding: 15px;\">\n",
    "Получили три столбца с цифровыми данными, на этих данных уже можно обучать модели, двигаемся дальше.\n",
    "</div>"
   ]
  },
  {
   "cell_type": "markdown",
   "metadata": {},
   "source": [
    "### Разделение данных на выборки"
   ]
  },
  {
   "cell_type": "markdown",
   "metadata": {},
   "source": [
    "<div style=\"border-radius: 15px; border: 1px solid grey; padding: 15px;\">\n",
    "Разобъем наш основной фрейм на подвыборки - Обучающую, Валидационную и Тестовую:\n",
    "</div>"
   ]
  },
  {
   "cell_type": "code",
   "execution_count": 14,
   "metadata": {},
   "outputs": [],
   "source": [
    "dfc_ohe_t_v, dfc_ohe_test = train_test_split(dfc_ohe, test_size=0.25, random_state=12345)\n",
    "dfc_ohe_train, dfc_ohe_valid = train_test_split(dfc_ohe_t_v, test_size=0.25, random_state=12345)"
   ]
  },
  {
   "cell_type": "code",
   "execution_count": 15,
   "metadata": {},
   "outputs": [
    {
     "name": "stdout",
     "output_type": "stream",
     "text": [
      " Размер Обучающей выборки: 5625 \n",
      " Размер Валидационной выборки: 1875 \n",
      " Размер Тестовой выборки: 2500\n"
     ]
    }
   ],
   "source": [
    "print(' Размер Обучающей выборки:', dfc_ohe_train['Age'].count(), '\\n',\n",
    "      'Размер Валидационной выборки:', dfc_ohe_valid['Age'].count(), '\\n',\n",
    "      'Размер Тестовой выборки:', dfc_ohe_test['Age'].count())"
   ]
  },
  {
   "cell_type": "markdown",
   "metadata": {},
   "source": [
    "### Проверка на дисбаланс"
   ]
  },
  {
   "cell_type": "markdown",
   "metadata": {},
   "source": [
    "<div style=\"border-radius: 15px; border: 1px solid grey; padding: 15px;\">\n",
    "Проверим баланс классов в целевом признаке по всем выборкам.\n",
    "</div>"
   ]
  },
  {
   "cell_type": "code",
   "execution_count": 16,
   "metadata": {},
   "outputs": [
    {
     "data": {
      "text/plain": [
       "0    0.7963\n",
       "1    0.2037\n",
       "Name: Exited, dtype: float64"
      ]
     },
     "execution_count": 16,
     "metadata": {},
     "output_type": "execute_result"
    }
   ],
   "source": [
    "dfc_ohe['Exited'].value_counts() / len(dfc_ohe['Exited'])"
   ]
  },
  {
   "cell_type": "code",
   "execution_count": 17,
   "metadata": {},
   "outputs": [
    {
     "data": {
      "text/plain": [
       "0    0.800533\n",
       "1    0.199467\n",
       "Name: Exited, dtype: float64"
      ]
     },
     "execution_count": 17,
     "metadata": {},
     "output_type": "execute_result"
    }
   ],
   "source": [
    "dfc_ohe_train['Exited'].value_counts() / len(dfc_ohe_train['Exited'])"
   ]
  },
  {
   "cell_type": "code",
   "execution_count": 18,
   "metadata": {},
   "outputs": [
    {
     "data": {
      "text/plain": [
       "0    0.797333\n",
       "1    0.202667\n",
       "Name: Exited, dtype: float64"
      ]
     },
     "execution_count": 18,
     "metadata": {},
     "output_type": "execute_result"
    }
   ],
   "source": [
    "dfc_ohe_valid['Exited'].value_counts() / len(dfc_ohe_valid['Exited'])"
   ]
  },
  {
   "cell_type": "code",
   "execution_count": 19,
   "metadata": {},
   "outputs": [
    {
     "data": {
      "text/plain": [
       "0    0.786\n",
       "1    0.214\n",
       "Name: Exited, dtype: float64"
      ]
     },
     "execution_count": 19,
     "metadata": {},
     "output_type": "execute_result"
    }
   ],
   "source": [
    "dfc_ohe_test['Exited'].value_counts() / len(dfc_ohe_test['Exited'])"
   ]
  },
  {
   "cell_type": "markdown",
   "metadata": {},
   "source": [
    "<div style=\"border-radius: 15px; border: 1px solid grey; padding: 15px;\">\n",
    "Как и в основом наборе данных в наших подвыборках сохраняется дисбаланс целевого класса в пропорции 80\\20. Сильный дисбаланс, посмотрим каких результатов классификации мы сможем добиться на таких данных.\n",
    "</div>"
   ]
  },
  {
   "cell_type": "markdown",
   "metadata": {},
   "source": [
    "### Разделение признаков"
   ]
  },
  {
   "cell_type": "code",
   "execution_count": 20,
   "metadata": {},
   "outputs": [],
   "source": [
    "features_train = dfc_ohe_train.drop(['Exited'], axis=1)\n",
    "target_train = dfc_ohe_train['Exited']"
   ]
  },
  {
   "cell_type": "code",
   "execution_count": 21,
   "metadata": {},
   "outputs": [],
   "source": [
    "features_valid = dfc_ohe_valid.drop(['Exited'], axis=1)\n",
    "target_valid = dfc_ohe_valid['Exited']"
   ]
  },
  {
   "cell_type": "code",
   "execution_count": 22,
   "metadata": {},
   "outputs": [],
   "source": [
    "features_test = dfc_ohe_test.drop(['Exited'], axis=1)\n",
    "target_test = dfc_ohe_test['Exited']"
   ]
  },
  {
   "cell_type": "markdown",
   "metadata": {},
   "source": [
    "<div style=\"border-radius: 15px; border: 1px solid grey; padding: 15px;\">\n",
    "Разделили три подвыборки на признаки и целевые признаки. Осталось одно действие до перехода к моделям.\n",
    "</div>"
   ]
  },
  {
   "cell_type": "markdown",
   "metadata": {},
   "source": [
    "### Масштабирование колличественных признаков"
   ]
  },
  {
   "cell_type": "markdown",
   "metadata": {},
   "source": [
    "<div style=\"border-radius: 15px; border: 1px solid grey; padding: 15px;\">\n",
    "В фрейме присутствуют столбци с количественными данными разного порядка, модели будут востпринимать значимость таких данных по разному, избавимся от этого стандартизируя данные. \n",
    "</div>"
   ]
  },
  {
   "cell_type": "code",
   "execution_count": 23,
   "metadata": {},
   "outputs": [],
   "source": [
    "numeric = ['CreditScore', 'Age', 'Tenure', 'Balance', 'NumOfProducts', 'EstimatedSalary']"
   ]
  },
  {
   "cell_type": "markdown",
   "metadata": {},
   "source": [
    "<div style=\"border-radius: 15px; border: 1px solid grey; padding: 15px;\">\n",
    "Выделили столбцы с количественными данными и далее стандартизируем их:\n",
    "</div>"
   ]
  },
  {
   "cell_type": "code",
   "execution_count": 24,
   "metadata": {},
   "outputs": [
    {
     "data": {
      "text/plain": [
       "StandardScaler()"
      ]
     },
     "execution_count": 24,
     "metadata": {},
     "output_type": "execute_result"
    }
   ],
   "source": [
    "scaler = StandardScaler()\n",
    "scaler.fit(features_train[numeric]) "
   ]
  },
  {
   "cell_type": "code",
   "execution_count": 25,
   "metadata": {},
   "outputs": [],
   "source": [
    "features_train[numeric] = scaler.transform(features_train[numeric])\n",
    "features_valid[numeric] = scaler.transform(features_valid[numeric]) \n",
    "features_test[numeric] = scaler.transform(features_test[numeric]) "
   ]
  },
  {
   "cell_type": "code",
   "execution_count": 26,
   "metadata": {},
   "outputs": [
    {
     "data": {
      "text/html": [
       "<div>\n",
       "<style scoped>\n",
       "    .dataframe tbody tr th:only-of-type {\n",
       "        vertical-align: middle;\n",
       "    }\n",
       "\n",
       "    .dataframe tbody tr th {\n",
       "        vertical-align: top;\n",
       "    }\n",
       "\n",
       "    .dataframe thead th {\n",
       "        text-align: right;\n",
       "    }\n",
       "</style>\n",
       "<table border=\"1\" class=\"dataframe\">\n",
       "  <thead>\n",
       "    <tr style=\"text-align: right;\">\n",
       "      <th></th>\n",
       "      <th>CreditScore</th>\n",
       "      <th>Age</th>\n",
       "      <th>Tenure</th>\n",
       "      <th>Balance</th>\n",
       "      <th>NumOfProducts</th>\n",
       "      <th>HasCrCard</th>\n",
       "      <th>IsActiveMember</th>\n",
       "      <th>EstimatedSalary</th>\n",
       "      <th>Geography_Germany</th>\n",
       "      <th>Geography_Spain</th>\n",
       "      <th>Gender_Male</th>\n",
       "    </tr>\n",
       "  </thead>\n",
       "  <tbody>\n",
       "    <tr>\n",
       "      <td>9315</td>\n",
       "      <td>0.436123</td>\n",
       "      <td>0.302839</td>\n",
       "      <td>1.025936</td>\n",
       "      <td>0.932262</td>\n",
       "      <td>-0.904415</td>\n",
       "      <td>1</td>\n",
       "      <td>0</td>\n",
       "      <td>-1.121738</td>\n",
       "      <td>0</td>\n",
       "      <td>0</td>\n",
       "      <td>1</td>\n",
       "    </tr>\n",
       "    <tr>\n",
       "      <td>58</td>\n",
       "      <td>-1.458825</td>\n",
       "      <td>2.563332</td>\n",
       "      <td>-0.357141</td>\n",
       "      <td>-1.217770</td>\n",
       "      <td>-0.904415</td>\n",
       "      <td>1</td>\n",
       "      <td>0</td>\n",
       "      <td>-1.724514</td>\n",
       "      <td>0</td>\n",
       "      <td>1</td>\n",
       "      <td>0</td>\n",
       "    </tr>\n",
       "    <tr>\n",
       "      <td>4609</td>\n",
       "      <td>-0.733981</td>\n",
       "      <td>-0.450659</td>\n",
       "      <td>-1.394449</td>\n",
       "      <td>-1.217770</td>\n",
       "      <td>0.807340</td>\n",
       "      <td>0</td>\n",
       "      <td>1</td>\n",
       "      <td>-0.345423</td>\n",
       "      <td>0</td>\n",
       "      <td>1</td>\n",
       "      <td>1</td>\n",
       "    </tr>\n",
       "    <tr>\n",
       "      <td>9958</td>\n",
       "      <td>-1.189597</td>\n",
       "      <td>-0.168097</td>\n",
       "      <td>0.334397</td>\n",
       "      <td>-1.217770</td>\n",
       "      <td>-0.904415</td>\n",
       "      <td>1</td>\n",
       "      <td>1</td>\n",
       "      <td>-1.444311</td>\n",
       "      <td>0</td>\n",
       "      <td>0</td>\n",
       "      <td>1</td>\n",
       "    </tr>\n",
       "    <tr>\n",
       "      <td>16</td>\n",
       "      <td>0.011572</td>\n",
       "      <td>1.809834</td>\n",
       "      <td>-1.394449</td>\n",
       "      <td>0.913549</td>\n",
       "      <td>-0.904415</td>\n",
       "      <td>1</td>\n",
       "      <td>0</td>\n",
       "      <td>-1.664612</td>\n",
       "      <td>1</td>\n",
       "      <td>0</td>\n",
       "      <td>1</td>\n",
       "    </tr>\n",
       "  </tbody>\n",
       "</table>\n",
       "</div>"
      ],
      "text/plain": [
       "      CreditScore       Age    Tenure   Balance  NumOfProducts  HasCrCard  \\\n",
       "9315     0.436123  0.302839  1.025936  0.932262      -0.904415          1   \n",
       "58      -1.458825  2.563332 -0.357141 -1.217770      -0.904415          1   \n",
       "4609    -0.733981 -0.450659 -1.394449 -1.217770       0.807340          0   \n",
       "9958    -1.189597 -0.168097  0.334397 -1.217770      -0.904415          1   \n",
       "16       0.011572  1.809834 -1.394449  0.913549      -0.904415          1   \n",
       "\n",
       "      IsActiveMember  EstimatedSalary  Geography_Germany  Geography_Spain  \\\n",
       "9315               0        -1.121738                  0                0   \n",
       "58                 0        -1.724514                  0                1   \n",
       "4609               1        -0.345423                  0                1   \n",
       "9958               1        -1.444311                  0                0   \n",
       "16                 0        -1.664612                  1                0   \n",
       "\n",
       "      Gender_Male  \n",
       "9315            1  \n",
       "58              0  \n",
       "4609            1  \n",
       "9958            1  \n",
       "16              1  "
      ]
     },
     "execution_count": 26,
     "metadata": {},
     "output_type": "execute_result"
    }
   ],
   "source": [
    "features_train.head()"
   ]
  },
  {
   "cell_type": "markdown",
   "metadata": {},
   "source": [
    "<div style=\"border-radius: 15px; border: 1px solid grey; padding: 15px;\">\n",
    "Данные стандартизированы, переходим к моделям.\n",
    "</div>"
   ]
  },
  {
   "cell_type": "markdown",
   "metadata": {},
   "source": [
    "## Исследование задачи"
   ]
  },
  {
   "cell_type": "markdown",
   "metadata": {},
   "source": [
    "### Обучем и проверям модели на данных с Дисбалансом"
   ]
  },
  {
   "cell_type": "markdown",
   "metadata": {},
   "source": [
    "#### Логистическая регресиия"
   ]
  },
  {
   "cell_type": "markdown",
   "metadata": {},
   "source": [
    "<div style=\"border-radius: 15px; border: 1px solid grey; padding: 15px;\">\n",
    "Создаем и обучаем модель:\n",
    "</div>"
   ]
  },
  {
   "cell_type": "code",
   "execution_count": 27,
   "metadata": {},
   "outputs": [
    {
     "data": {
      "text/plain": [
       "LogisticRegression(random_state=12345, solver='liblinear')"
      ]
     },
     "execution_count": 27,
     "metadata": {},
     "output_type": "execute_result"
    }
   ],
   "source": [
    "lr_model = LogisticRegression(random_state=12345, solver='liblinear')\n",
    "lr_model.fit(features_train, target_train)"
   ]
  },
  {
   "cell_type": "markdown",
   "metadata": {},
   "source": [
    "<div style=\"border-radius: 15px; border: 1px solid grey; padding: 15px;\">\n",
    "Найдем оптимальный порог вероятности класса, оптимум будем определять по метрике F1:\n",
    "</div>"
   ]
  },
  {
   "cell_type": "code",
   "execution_count": 28,
   "metadata": {},
   "outputs": [
    {
     "name": "stdout",
     "output_type": "stream",
     "text": [
      "Порог = 0.10 || Точность = 0.282 || Полнота = 0.945 || F1 = 0.435\n",
      "Порог = 0.12 || Точность = 0.299 || Полнота = 0.892 || F1 = 0.448\n",
      "Порог = 0.14 || Точность = 0.322 || Полнота = 0.853 || F1 = 0.468\n",
      "Порог = 0.16 || Точность = 0.348 || Полнота = 0.813 || F1 = 0.487\n",
      "Порог = 0.18 || Точность = 0.376 || Полнота = 0.763 || F1 = 0.503\n",
      "Порог = 0.20 || Точность = 0.387 || Полнота = 0.711 || F1 = 0.501\n",
      "Порог = 0.22 || Точность = 0.407 || Полнота = 0.666 || F1 = 0.505\n",
      "Порог = 0.24 || Точность = 0.429 || Полнота = 0.624 || F1 = 0.508\n",
      "Порог = 0.26 || Точность = 0.445 || Полнота = 0.571 || F1 = 0.500\n",
      "Порог = 0.28 || Точность = 0.468 || Полнота = 0.539 || F1 = 0.501\n",
      "Порог = 0.30 || Точность = 0.495 || Полнота = 0.516 || F1 = 0.505\n",
      "Порог = 0.32 || Точность = 0.521 || Полнота = 0.489 || F1 = 0.505\n",
      "Порог = 0.34 || Точность = 0.528 || Полнота = 0.447 || F1 = 0.484\n",
      "Порог = 0.36 || Точность = 0.532 || Полнота = 0.413 || F1 = 0.465\n",
      "Порог = 0.38 || Точность = 0.536 || Полнота = 0.368 || F1 = 0.437\n",
      "Порог = 0.40 || Точность = 0.552 || Полнота = 0.337 || F1 = 0.418\n"
     ]
    }
   ],
   "source": [
    "probabilities_valid = lr_model.predict_proba(features_valid)\n",
    "probabilities_one_valid = probabilities_valid[:, 1]\n",
    "\n",
    "for threshold in np.arange(0.10, 0.40, 0.02):\n",
    "    predicted_valid = probabilities_one_valid > threshold\n",
    "    precision = precision_score(target_valid, predicted_valid)\n",
    "    recall = recall_score(target_valid, predicted_valid)\n",
    "    f1 = f1_score(target_valid, predicted_valid)\n",
    "\n",
    "    print(\"Порог = {:.2f} || Точность = {:.3f} || Полнота = {:.3f} || F1 = {:.3f}\".format(\n",
    "        threshold, precision, recall, f1))"
   ]
  },
  {
   "cell_type": "markdown",
   "metadata": {},
   "source": [
    "<div style=\"border-radius: 15px; border: 1px solid grey; padding: 15px;\">\n",
    "Оптимальным порогом для текущей модели является 0.30(30%), при таком значении порого достигается баланс между Точностью и Полнотой модели, оно же максимальное значение метрики F1. Модель работает на валидационной выбоке, посмотрим как покажет себя логистическая регрессия в сравнении со следующими модели.\n",
    "</div>"
   ]
  },
  {
   "cell_type": "markdown",
   "metadata": {},
   "source": [
    "<div style=\"border-radius: 15px; border: 1px solid grey; padding: 15px;\">\n",
    "Дополнительно зафиксируем метрику площади под ROC-кривой(AUC):\n",
    "</div>"
   ]
  },
  {
   "cell_type": "code",
   "execution_count": 29,
   "metadata": {},
   "outputs": [
    {
     "name": "stdout",
     "output_type": "stream",
     "text": [
      "0.7898503784544973\n"
     ]
    }
   ],
   "source": [
    "probabilities_valid = lr_model.predict_proba(features_valid)\n",
    "probabilities_one_valid = probabilities_valid[:, 1]\n",
    "\n",
    "auc_roc = roc_auc_score(target_valid, probabilities_one_valid)\n",
    "\n",
    "print(auc_roc)"
   ]
  },
  {
   "cell_type": "markdown",
   "metadata": {},
   "source": [
    "<div style=\"border-radius: 15px; border: 1px solid grey; padding: 15px;\">\n",
    "Данная метрика не зависит от Точности и Полноты как F1 и показывает отношение истино положительных и ложно положительных прогрнозов модели в зависимости от порога. Зафиксировали, переходим к селедующей модели.\n",
    "</div>"
   ]
  },
  {
   "cell_type": "markdown",
   "metadata": {},
   "source": [
    "#### Дерево принятия решений"
   ]
  },
  {
   "cell_type": "markdown",
   "metadata": {},
   "source": [
    "<div style=\"border-radius: 15px; border: 1px solid grey; padding: 15px;\">\n",
    "Пришло время модели Дерева принятия решений, проверим показатель F1 для различных максимальных уровней глубины дерева:\n",
    "</div>"
   ]
  },
  {
   "cell_type": "code",
   "execution_count": 30,
   "metadata": {},
   "outputs": [
    {
     "name": "stdout",
     "output_type": "stream",
     "text": [
      " Максимальная глубина = 7 \n",
      " F1 0.5585284280936454 \n",
      "\n",
      " Максимальная глубина = 8 \n",
      " F1 0.5792682926829268 \n",
      "\n",
      " Максимальная глубина = 9 \n",
      " F1 0.5682888540031398 \n",
      "\n"
     ]
    }
   ],
   "source": [
    "for i in range(7, 10):\n",
    "    dtc_model = DecisionTreeClassifier(random_state = 12345, max_depth = i)\n",
    "    dtc_model.fit(features_train, target_train)\n",
    "    dtc_prediction = dtc_model.predict(features_valid)\n",
    "    dtc_f1 = f1_score(target_valid, dtc_prediction)\n",
    "    print(' Максимальная глубина =', i, '\\n', 'F1', dtc_f1, '\\n')"
   ]
  },
  {
   "cell_type": "markdown",
   "metadata": {},
   "source": [
    "<div style=\"border-radius: 15px; border: 1px solid grey; padding: 15px;\">\n",
    "Метрика F1 была проверена для широкого диапазоны глубин от 1 до 15, в коде оставлены только лучший и два соседних варианта максимальной глубины.\n",
    "\n",
    "Метрика F1 равна ~0.58, что значительно лучше чем у Логистической регрессии. У нас новый лидер.\n",
    "</div>"
   ]
  },
  {
   "cell_type": "markdown",
   "metadata": {},
   "source": [
    "<div style=\"border-radius: 15px; border: 1px solid grey; padding: 15px;\">\n",
    "Обучим модель на с оптимальной максимальной глубиной и зафиксируем ROC-AUC:\n",
    "</div>"
   ]
  },
  {
   "cell_type": "code",
   "execution_count": 31,
   "metadata": {},
   "outputs": [
    {
     "data": {
      "text/plain": [
       "DecisionTreeClassifier(max_depth=8, random_state=12345)"
      ]
     },
     "execution_count": 31,
     "metadata": {},
     "output_type": "execute_result"
    }
   ],
   "source": [
    "dtc_model = DecisionTreeClassifier(random_state = 12345, max_depth = 8)\n",
    "dtc_model.fit(features_train, target_train)"
   ]
  },
  {
   "cell_type": "code",
   "execution_count": 32,
   "metadata": {},
   "outputs": [
    {
     "name": "stdout",
     "output_type": "stream",
     "text": [
      "0.8214451681042071\n"
     ]
    }
   ],
   "source": [
    "probabilities_valid = dtc_model.predict_proba(features_valid)\n",
    "probabilities_one_valid = probabilities_valid[:, 1]\n",
    "\n",
    "auc_roc = roc_auc_score(target_valid, probabilities_one_valid)\n",
    "\n",
    "print(auc_roc)"
   ]
  },
  {
   "cell_type": "markdown",
   "metadata": {},
   "source": [
    "<div style=\"border-radius: 15px; border: 1px solid grey; padding: 15px;\">\n",
    "Площадь под ROC-кривой у модели Дерева решений заметно больше, чем у модели Логистической регрессии.\n",
    "</div>"
   ]
  },
  {
   "cell_type": "markdown",
   "metadata": {},
   "source": [
    "#### Случайный лес"
   ]
  },
  {
   "cell_type": "markdown",
   "metadata": {},
   "source": [
    "<div style=\"border-radius: 15px; border: 1px solid grey; padding: 15px;\">\n",
    "Третьей моделью классификации в нашем исследовании будет модель Случайного леса. Обучим и проверим модель на разных количесвах деревьев и разной максимальной глубине деревьев:\n",
    "</div>"
   ]
  },
  {
   "cell_type": "code",
   "execution_count": 33,
   "metadata": {},
   "outputs": [
    {
     "name": "stdout",
     "output_type": "stream",
     "text": [
      " F1 = 0.5947712418300654 \n",
      " Количество деревьев = 110 \n",
      " Максимальная глубина: 13\n"
     ]
    }
   ],
   "source": [
    "rfc_best_model = None\n",
    "rfc_best_f1 = 0\n",
    "rfc_best_depth = 0\n",
    "rfc_best_est = 0\n",
    "for est in range(110, 120, 10):\n",
    "    for depth in range(13, 14, 1):\n",
    "        rfc_model = RandomForestClassifier(n_estimators=est, max_depth=depth, random_state=12345)\n",
    "        rfc_model.fit(features_train, target_train)\n",
    "        rfc_prediction = rfc_model.predict(features_valid)\n",
    "        rfc_f1 = f1_score(target_valid, rfc_prediction)\n",
    "        if rfc_f1 > rfc_best_f1:\n",
    "            rfc_best_model = rfc_model\n",
    "            rfc_best_f1 = rfc_f1\n",
    "            rfc_best_depth = depth\n",
    "            rfc_best_est = est\n",
    "        \n",
    "\n",
    "print(' F1 =', rfc_best_f1, '\\n', 'Количество деревьев =', rfc_best_est, '\\n',\n",
    "      \"Максимальная глубина:\", rfc_best_depth) "
   ]
  },
  {
   "cell_type": "markdown",
   "metadata": {},
   "source": [
    "<div style=\"border-radius: 15px; border: 1px solid grey; padding: 15px;\">\n",
    "Были провернеы широкие диапазоны гиперпараметров количества деревьев(10 - 150) и максимальной глубины (1 - 15), в коде оставлен только оптимальный вариант, а именно 110 деревьев с максимальнй глубиной равной 13.\n",
    "    \n",
    "Показатель F1 выше чем у двух предыдущих моделей.\n",
    "</div>"
   ]
  },
  {
   "cell_type": "markdown",
   "metadata": {},
   "source": [
    "<div style=\"border-radius: 15px; border: 1px solid grey; padding: 15px;\">\n",
    "Зафиксируем значение ROC-AUC:\n",
    "</div>"
   ]
  },
  {
   "cell_type": "code",
   "execution_count": 34,
   "metadata": {},
   "outputs": [
    {
     "name": "stdout",
     "output_type": "stream",
     "text": [
      "0.8677732793522268\n"
     ]
    }
   ],
   "source": [
    "probabilities_valid_rfc = rfc_best_model.predict_proba(features_valid)\n",
    "probabilities_one_valid_rfc = probabilities_valid_rfc[:, 1]\n",
    "\n",
    "auc_roc_rfc = roc_auc_score(target_valid, probabilities_one_valid_rfc)\n",
    "\n",
    "print(auc_roc_rfc)"
   ]
  },
  {
   "cell_type": "markdown",
   "metadata": {},
   "source": [
    "<div style=\"border-radius: 15px; border: 1px solid grey; padding: 15px;\">\n",
    "Для наглядности так же визуализируем нашу кривую для лидирующей модели Случайного леса.\n",
    "</div>"
   ]
  },
  {
   "cell_type": "code",
   "execution_count": 35,
   "metadata": {},
   "outputs": [
    {
     "data": {
      "image/png": "[encoded data removed]",
      "text/plain": [
       "<Figure size 432x432 with 1 Axes>"
      ]
     },
     "metadata": {
      "needs_background": "light"
     },
     "output_type": "display_data"
    }
   ],
   "source": [
    "probabilities_valid = rfc_model.predict_proba(features_valid)\n",
    "probabilities_one_valid = probabilities_valid[:, 1]\n",
    "\n",
    "fpr, tpr, thresholds = roc_curve(target_valid, probabilities_one_valid) \n",
    "\n",
    "plt.figure(figsize=(6, 6))\n",
    "\n",
    "plt.plot(fpr, tpr)\n",
    "plt.plot([0, 1], [0, 1], linestyle='--')\n",
    "\n",
    "plt.xlim([0.0, 1.0])\n",
    "plt.ylim([0.0, 1.0])\n",
    "\n",
    "plt.xlabel(\"False Positive Rate\") \n",
    "plt.ylabel(\"True Positive Rate\")\n",
    "\n",
    "plt.title(\"ROC-кривая\")\n",
    "plt.show()"
   ]
  },
  {
   "cell_type": "markdown",
   "metadata": {},
   "source": [
    "<div style=\"border-radius: 15px; border: 1px solid grey; padding: 15px;\">\n",
    "Пришло время попытаться улучшить показатели моделей поборов дисбаланс целевого класса, об этом далее.\n",
    "</div>"
   ]
  },
  {
   "cell_type": "markdown",
   "metadata": {},
   "source": [
    "## Борьба с дисбалансом"
   ]
  },
  {
   "cell_type": "markdown",
   "metadata": {},
   "source": [
    "<div style=\"border-radius: 15px; border: 1px solid grey; padding: 15px;\">\n",
    "Проверим текущее состояни целевого класса в обучающей выборке:\n",
    "</div>"
   ]
  },
  {
   "cell_type": "code",
   "execution_count": 36,
   "metadata": {},
   "outputs": [
    {
     "data": {
      "text/plain": [
       "(5625, 11)"
      ]
     },
     "execution_count": 36,
     "metadata": {},
     "output_type": "execute_result"
    }
   ],
   "source": [
    "features_train.shape"
   ]
  },
  {
   "cell_type": "code",
   "execution_count": 37,
   "metadata": {},
   "outputs": [
    {
     "data": {
      "text/plain": [
       "0    4503\n",
       "1    1122\n",
       "Name: Exited, dtype: int64"
      ]
     },
     "execution_count": 37,
     "metadata": {},
     "output_type": "execute_result"
    }
   ],
   "source": [
    "target_train.value_counts()"
   ]
  },
  {
   "cell_type": "code",
   "execution_count": 38,
   "metadata": {},
   "outputs": [
    {
     "data": {
      "text/plain": [
       "0    0.800533\n",
       "1    0.199467\n",
       "Name: Exited, dtype: float64"
      ]
     },
     "execution_count": 38,
     "metadata": {},
     "output_type": "execute_result"
    }
   ],
   "source": [
    "target_train.value_counts() / len(target_train)"
   ]
  },
  {
   "cell_type": "markdown",
   "metadata": {},
   "source": [
    "<div style=\"border-radius: 15px; border: 1px solid grey; padding: 15px;\">\n",
    "5625 значений с соотнашением 80 / 20.\n",
    "    \n",
    "Ну что же, будем стримиться к соотношению 50/50 не сильно изменяя размер выборки. Воспользуемся двумя методами:  \n",
    "</div>"
   ]
  },
  {
   "cell_type": "markdown",
   "metadata": {},
   "source": [
    "### Upsample - увеличение положительного класса"
   ]
  },
  {
   "cell_type": "markdown",
   "metadata": {},
   "source": [
    "<div style=\"border-radius: 15px; border: 1px solid grey; padding: 15px;\">\n",
    "Для подбора оптимального значения увеличения положительного класса создадим функцию 'Upsample', которая и будет увеличивать количество строк с целевым признаком равным '1'. \n",
    "</div>"
   ]
  },
  {
   "cell_type": "code",
   "execution_count": 39,
   "metadata": {},
   "outputs": [],
   "source": [
    "def upsample(features, target, repeat):\n",
    "    features_zeros = features[target == 0]\n",
    "    features_ones = features[target == 1]\n",
    "    target_zeros = target[target == 0]\n",
    "    target_ones = target[target == 1]\n",
    "\n",
    "    features_upsampled = pd.concat([features_zeros] + [features_ones] * repeat)\n",
    "    target_upsampled = pd.concat([target_zeros] + [target_ones] * repeat)\n",
    "    \n",
    "    features_upsampled, target_upsampled = shuffle(features_upsampled, target_upsampled, random_state=12345)\n",
    "    \n",
    "    return features_upsampled, target_upsampled"
   ]
  },
  {
   "cell_type": "markdown",
   "metadata": {},
   "source": [
    "<div style=\"border-radius: 15px; border: 1px solid grey; padding: 15px;\">\n",
    "Вызываем функцию для нашей тренировочной выборки:\n",
    "</div>"
   ]
  },
  {
   "cell_type": "code",
   "execution_count": 40,
   "metadata": {},
   "outputs": [],
   "source": [
    "features_train_upsampled, target_train_upsampled = upsample(features_train, target_train, 4)"
   ]
  },
  {
   "cell_type": "code",
   "execution_count": 41,
   "metadata": {},
   "outputs": [
    {
     "data": {
      "text/plain": [
       "CreditScore          8991\n",
       "Age                  8991\n",
       "Tenure               8991\n",
       "Balance              8991\n",
       "NumOfProducts        8991\n",
       "HasCrCard            8991\n",
       "IsActiveMember       8991\n",
       "EstimatedSalary      8991\n",
       "Geography_Germany    8991\n",
       "Geography_Spain      8991\n",
       "Gender_Male          8991\n",
       "dtype: int64"
      ]
     },
     "execution_count": 41,
     "metadata": {},
     "output_type": "execute_result"
    }
   ],
   "source": [
    "features_train_upsampled.count()"
   ]
  },
  {
   "cell_type": "code",
   "execution_count": 42,
   "metadata": {},
   "outputs": [
    {
     "data": {
      "text/plain": [
       "0    4503\n",
       "1    4488\n",
       "Name: Exited, dtype: int64"
      ]
     },
     "execution_count": 42,
     "metadata": {},
     "output_type": "execute_result"
    }
   ],
   "source": [
    "target_train_upsampled.value_counts()"
   ]
  },
  {
   "cell_type": "markdown",
   "metadata": {},
   "source": [
    "<div style=\"border-radius: 15px; border: 1px solid grey; padding: 15px;\">\n",
    "Мы подошли близко к балансу и будем обучать модели на этом наборе данных, переходим к следующему методу балансировки.\n",
    "</div>"
   ]
  },
  {
   "cell_type": "markdown",
   "metadata": {},
   "source": [
    "### Downsample - уменьшение отрицательного класса"
   ]
  },
  {
   "cell_type": "markdown",
   "metadata": {},
   "source": [
    "<div style=\"border-radius: 15px; border: 1px solid grey; padding: 15px;\">\n",
    "Для подбора оптимального значения уменьшения отрицательного класса создадим функцию 'Downsample', которая и будет уменьшать количество строк с целевым признаком равным '0'. \n",
    "</div>"
   ]
  },
  {
   "cell_type": "code",
   "execution_count": 43,
   "metadata": {},
   "outputs": [],
   "source": [
    "def downsample(features, target, fraction):\n",
    "    features_zeros = features[target == 0]\n",
    "    features_ones = features[target == 1]\n",
    "    target_zeros = target[target == 0]\n",
    "    target_ones = target[target == 1]\n",
    "\n",
    "    features_zeros = features_zeros.sample(frac=fraction, random_state=12345)\n",
    "    target_zeros = target_zeros.sample(frac=fraction, random_state=12345)\n",
    "    \n",
    "    features_downsampled = pd.concat([features_zeros] + [features_ones])\n",
    "    target_downsampled = pd.concat([target_zeros] + [target_ones])\n",
    "    \n",
    "    features_downsampled, target_downsampled = shuffle(features_downsampled, target_downsampled, random_state=12345)\n",
    "    \n",
    "    return features_downsampled, target_downsampled"
   ]
  },
  {
   "cell_type": "markdown",
   "metadata": {},
   "source": [
    "<div style=\"border-radius: 15px; border: 1px solid grey; padding: 15px;\">\n",
    "Вызываем функцию для ранее обработаной тестовой выборки с увеличенным количеством положительных целевых классов:\n",
    "</div>"
   ]
  },
  {
   "cell_type": "code",
   "execution_count": 44,
   "metadata": {},
   "outputs": [
    {
     "name": "stdout",
     "output_type": "stream",
     "text": [
      "(2248, 11)\n",
      "(2248,)\n"
     ]
    }
   ],
   "source": [
    "features_train_downsampled, target_train_downsampled = downsample(features_train, target_train, 0.25)\n",
    "\n",
    "print(features_train_downsampled.shape)\n",
    "print(target_train_downsampled.shape)"
   ]
  },
  {
   "cell_type": "markdown",
   "metadata": {},
   "source": [
    "<div style=\"border-radius: 15px; border: 1px solid grey; padding: 15px;\">\n",
    "Проверяем баланс классов:\n",
    "</div>"
   ]
  },
  {
   "cell_type": "code",
   "execution_count": 45,
   "metadata": {
    "scrolled": true
   },
   "outputs": [
    {
     "data": {
      "text/plain": [
       "0    1126\n",
       "1    1122\n",
       "Name: Exited, dtype: int64"
      ]
     },
     "execution_count": 45,
     "metadata": {},
     "output_type": "execute_result"
    }
   ],
   "source": [
    "target_train_downsampled.value_counts()"
   ]
  },
  {
   "cell_type": "code",
   "execution_count": 46,
   "metadata": {},
   "outputs": [
    {
     "data": {
      "text/plain": [
       "0    0.50089\n",
       "1    0.49911\n",
       "Name: Exited, dtype: float64"
      ]
     },
     "execution_count": 46,
     "metadata": {},
     "output_type": "execute_result"
    }
   ],
   "source": [
    "target_train_downsampled.value_counts() / len(target_train_downsampled)"
   ]
  },
  {
   "cell_type": "markdown",
   "metadata": {},
   "source": [
    "<div style=\"border-radius: 15px; border: 1px solid grey; padding: 15px;\">\n",
    "Выборка увеличилась чуть более чем на тысячу строк и баланс практический идеальный. Теперь переобучим наши модели на сбалансированных данных и сравним результаты прогнозов на валидационной выборке.\n",
    "</div>"
   ]
  },
  {
   "cell_type": "markdown",
   "metadata": {},
   "source": [
    "## Тестирование модели"
   ]
  },
  {
   "cell_type": "markdown",
   "metadata": {},
   "source": [
    "### Логистическая регрессия"
   ]
  },
  {
   "cell_type": "markdown",
   "metadata": {},
   "source": [
    "<div style=\"border-radius: 15px; border: 1px solid grey; padding: 15px;\">\n",
    "И в этот раз начнем с Логистической регресси - обучаем модель, подбираем оптимальный порог выбора класса, но теперь убучим модель на двух разных выборках полученных в результате применения двух алгортимов балансировки:\n",
    "</div>"
   ]
  },
  {
   "cell_type": "code",
   "execution_count": 47,
   "metadata": {},
   "outputs": [
    {
     "data": {
      "text/plain": [
       "LogisticRegression(random_state=12345, solver='liblinear')"
      ]
     },
     "execution_count": 47,
     "metadata": {},
     "output_type": "execute_result"
    }
   ],
   "source": [
    "lr_model_up = LogisticRegression(random_state=12345, solver='liblinear')\n",
    "lr_model_up.fit(features_train_upsampled, target_train_upsampled)"
   ]
  },
  {
   "cell_type": "code",
   "execution_count": 48,
   "metadata": {},
   "outputs": [
    {
     "data": {
      "text/plain": [
       "LogisticRegression(random_state=12345, solver='liblinear')"
      ]
     },
     "execution_count": 48,
     "metadata": {},
     "output_type": "execute_result"
    }
   ],
   "source": [
    "lr_model_down = LogisticRegression(random_state=12345, solver='liblinear')\n",
    "lr_model_down.fit(features_train_downsampled, target_train_downsampled)"
   ]
  },
  {
   "cell_type": "code",
   "execution_count": 49,
   "metadata": {},
   "outputs": [
    {
     "name": "stdout",
     "output_type": "stream",
     "text": [
      "Порог = 0.40 || Точность = 0.328 || Полнота = 0.847 || F1 = 0.473\n",
      "Порог = 0.42 || Точность = 0.348 || Полнота = 0.834 || F1 = 0.491\n",
      "Порог = 0.44 || Точность = 0.364 || Полнота = 0.816 || F1 = 0.503\n",
      "Порог = 0.46 || Точность = 0.374 || Полнота = 0.776 || F1 = 0.505\n",
      "Порог = 0.48 || Точность = 0.387 || Полнота = 0.745 || F1 = 0.509\n",
      "Порог = 0.50 || Точность = 0.406 || Полнота = 0.724 || F1 = 0.520\n",
      "Порог = 0.52 || Точность = 0.409 || Полнота = 0.689 || F1 = 0.513\n",
      "Порог = 0.54 || Точность = 0.428 || Полнота = 0.666 || F1 = 0.521\n",
      "Порог = 0.56 || Точность = 0.440 || Полнота = 0.629 || F1 = 0.518\n",
      "Порог = 0.58 || Точность = 0.458 || Полнота = 0.587 || F1 = 0.514\n",
      "Порог = 0.60 || Точность = 0.478 || Полнота = 0.555 || F1 = 0.514\n"
     ]
    }
   ],
   "source": [
    "probabilities_valid = lr_model_up.predict_proba(features_valid)\n",
    "probabilities_one_valid = probabilities_valid[:, 1]\n",
    "\n",
    "for threshold in np.arange(0.4, 0.61, 0.02):\n",
    "    predicted_valid = probabilities_one_valid > threshold\n",
    "    precision = precision_score(target_valid, predicted_valid)\n",
    "    recall = recall_score(target_valid, predicted_valid)\n",
    "    f1 = f1_score(target_valid, predicted_valid)\n",
    "\n",
    "    print(\"Порог = {:.2f} || Точность = {:.3f} || Полнота = {:.3f} || F1 = {:.3f}\".format(\n",
    "        threshold, precision, recall, f1))"
   ]
  },
  {
   "cell_type": "code",
   "execution_count": 50,
   "metadata": {},
   "outputs": [
    {
     "name": "stdout",
     "output_type": "stream",
     "text": [
      "Порог = 0.40 || Точность = 0.327 || Полнота = 0.842 || F1 = 0.471\n",
      "Порог = 0.42 || Точность = 0.340 || Полнота = 0.837 || F1 = 0.484\n",
      "Порог = 0.44 || Точность = 0.355 || Полнота = 0.792 || F1 = 0.490\n",
      "Порог = 0.46 || Точность = 0.373 || Полнота = 0.779 || F1 = 0.504\n",
      "Порог = 0.48 || Точность = 0.384 || Полнота = 0.750 || F1 = 0.508\n",
      "Порог = 0.50 || Точность = 0.395 || Полнота = 0.716 || F1 = 0.509\n",
      "Порог = 0.52 || Точность = 0.410 || Полнота = 0.687 || F1 = 0.513\n",
      "Порог = 0.54 || Точность = 0.417 || Полнота = 0.655 || F1 = 0.510\n",
      "Порог = 0.56 || Точность = 0.438 || Полнота = 0.626 || F1 = 0.516\n",
      "Порог = 0.58 || Точность = 0.448 || Полнота = 0.584 || F1 = 0.507\n",
      "Порог = 0.60 || Точность = 0.469 || Полнота = 0.542 || F1 = 0.503\n"
     ]
    }
   ],
   "source": [
    "probabilities_valid = lr_model_down.predict_proba(features_valid)\n",
    "probabilities_one_valid = probabilities_valid[:, 1]\n",
    "\n",
    "for threshold in np.arange(0.4, 0.61, 0.02):\n",
    "    predicted_valid = probabilities_one_valid > threshold\n",
    "    precision = precision_score(target_valid, predicted_valid)\n",
    "    recall = recall_score(target_valid, predicted_valid)\n",
    "    f1 = f1_score(target_valid, predicted_valid)\n",
    "\n",
    "    print(\"Порог = {:.2f} || Точность = {:.3f} || Полнота = {:.3f} || F1 = {:.3f}\".format(\n",
    "        threshold, precision, recall, f1))"
   ]
  },
  {
   "cell_type": "markdown",
   "metadata": {},
   "source": [
    "<div style=\"border-radius: 15px; border: 1px solid grey; padding: 15px;\">\n",
    "Оптимальный баланс в тренировочной выборке привел к изменению порога для логистической регрессии. Теперь порог чуть больше 0.50. Так же выросло значение метрики F1, но оно всё ещё меньше соответствующей метрики для модели Случайного леса на не сбалансированных классах. Модель обученная на выборке сбалансированной методом Upsample показала лучшее качество.\n",
    "</div>"
   ]
  },
  {
   "cell_type": "code",
   "execution_count": 51,
   "metadata": {},
   "outputs": [
    {
     "name": "stdout",
     "output_type": "stream",
     "text": [
      "0.794229889104031\n"
     ]
    }
   ],
   "source": [
    "probabilities_valid = lr_model_up.predict_proba(features_valid)\n",
    "probabilities_one_valid = probabilities_valid[:, 1]\n",
    "\n",
    "auc_roc = roc_auc_score(target_valid, probabilities_one_valid)\n",
    "\n",
    "print(auc_roc)"
   ]
  },
  {
   "cell_type": "markdown",
   "metadata": {},
   "source": [
    "<div style=\"border-radius: 15px; border: 1px solid grey; padding: 15px;\">\n",
    "Зафиксировали значение ROC-AUC, значение метрики изменилось не значительно.\n",
    "</div>"
   ]
  },
  {
   "cell_type": "markdown",
   "metadata": {},
   "source": [
    "### Дерево принятия решений"
   ]
  },
  {
   "cell_type": "markdown",
   "metadata": {},
   "source": [
    "<div style=\"border-radius: 15px; border: 1px solid grey; padding: 15px;\">\n",
    "Переходим к модели Дерева принятия решений - обучаем модель, подбираем оптимальную глубину дерева, испоьзуем два набора сбалансированных данных:\n",
    "</div>"
   ]
  },
  {
   "cell_type": "code",
   "execution_count": 52,
   "metadata": {},
   "outputs": [
    {
     "name": "stdout",
     "output_type": "stream",
     "text": [
      "Upsampled Максимальная глубина = 5 \n",
      " F1 0.5564444444444444 \n",
      "\n",
      "Upsampled Максимальная глубина = 6 \n",
      " F1 0.576735092864125 \n",
      "\n",
      "Upsampled Максимальная глубина = 7 \n",
      " F1 0.5676190476190476 \n",
      "\n"
     ]
    }
   ],
   "source": [
    "for i in range(5, 8):\n",
    "    dtc_model_up = DecisionTreeClassifier(random_state = 12345, max_depth = i)\n",
    "    dtc_model_up.fit(features_train_upsampled, target_train_upsampled)\n",
    "    dtc_prediction = dtc_model_up.predict(features_valid)\n",
    "    dtc_f1 = f1_score(target_valid, dtc_prediction)\n",
    "    print('Upsampled Максимальная глубина =', i, '\\n', 'F1', dtc_f1, '\\n')"
   ]
  },
  {
   "cell_type": "code",
   "execution_count": 53,
   "metadata": {},
   "outputs": [
    {
     "name": "stdout",
     "output_type": "stream",
     "text": [
      "Downsampled Максимальная глубина = 6 \n",
      " F1 0.569767441860465 \n",
      "\n",
      "Downsampled Максимальная глубина = 7 \n",
      " F1 0.5699588477366255 \n",
      "\n",
      "Downsampled Максимальная глубина = 8 \n",
      " F1 0.5435406698564593 \n",
      "\n"
     ]
    }
   ],
   "source": [
    "for i in range(6, 9):\n",
    "    dtc_model_down = DecisionTreeClassifier(random_state = 12345, max_depth = i)\n",
    "    dtc_model_down.fit(features_train_downsampled, target_train_downsampled)\n",
    "    dtc_prediction = dtc_model_down.predict(features_valid)\n",
    "    dtc_f1 = f1_score(target_valid, dtc_prediction)\n",
    "    print('Downsampled Максимальная глубина =', i, '\\n', 'F1', dtc_f1, '\\n')"
   ]
  },
  {
   "cell_type": "markdown",
   "metadata": {},
   "source": [
    "<div style=\"border-radius: 15px; border: 1px solid grey; padding: 15px;\">\n",
    "Был проверен диапазон максимальной глубины от 1 до 15, оставлен оптимальный уровень для двух наборов обучающих данных и снова сбаланыированные методом Upsample данные обучили модель лучше.\n",
    "</div>"
   ]
  },
  {
   "cell_type": "code",
   "execution_count": 54,
   "metadata": {},
   "outputs": [
    {
     "name": "stdout",
     "output_type": "stream",
     "text": [
      "0.8476166167928182\n"
     ]
    }
   ],
   "source": [
    "dtc_model = DecisionTreeClassifier(random_state = 12345, max_depth = 6)\n",
    "dtc_model.fit(features_train_upsampled, target_train_upsampled)\n",
    "probabilities_valid = dtc_model.predict_proba(features_valid)\n",
    "probabilities_one_valid = probabilities_valid[:, 1]\n",
    "\n",
    "auc_roc = roc_auc_score(target_valid, probabilities_one_valid)\n",
    "\n",
    "print(auc_roc)"
   ]
  },
  {
   "cell_type": "markdown",
   "metadata": {},
   "source": [
    "<div style=\"border-radius: 15px; border: 1px solid grey; padding: 15px;\">\n",
    "Интересный момент, так как согласно метрие F1 оптимальная глубина дерева изменилась с 8 на 6 на сбалансированной обучающей выборке, изменился и показатель ROC-AUC, если обучить модель на глубине дерева 8, то и показатель ROC-AUC будет идентичным перыдущему показателю модели Дерева решнеий.\n",
    "</div>"
   ]
  },
  {
   "cell_type": "markdown",
   "metadata": {},
   "source": [
    "### Случайный лес"
   ]
  },
  {
   "cell_type": "markdown",
   "metadata": {},
   "source": [
    "<div style=\"border-radius: 15px; border: 1px solid grey; padding: 15px;\">\n",
    "Обучаем модель Случайного леса на двух сбалансированных наборах данных и подбираем оптимальные гиперпараметры:\n",
    "</div>"
   ]
  },
  {
   "cell_type": "code",
   "execution_count": 55,
   "metadata": {},
   "outputs": [
    {
     "name": "stdout",
     "output_type": "stream",
     "text": [
      " F1 = 0.6352128883774454 \n",
      " Количество деревьев = 70 \n",
      " Максимальная глубина: 9\n"
     ]
    }
   ],
   "source": [
    "rfc_best_model_up = None\n",
    "rfc_best_f1_up = 0\n",
    "rfc_best_depth_up = 0\n",
    "rfc_best_est_up = 0\n",
    "for est in range(70, 80, 10):\n",
    "    for depth in range(9, 10, 1):\n",
    "        rfc_model = RandomForestClassifier(n_estimators=est, max_depth=depth, random_state=12345)\n",
    "        rfc_model.fit(features_train_upsampled, target_train_upsampled)\n",
    "        rfc_prediction = rfc_model.predict(features_valid)\n",
    "        rfc_f1 = f1_score(target_valid, rfc_prediction)\n",
    "        if rfc_f1 > rfc_best_f1_up:\n",
    "            rfc_best_model_up = rfc_model\n",
    "            rfc_best_f1_up = rfc_f1\n",
    "            rfc_best_depth_up = depth\n",
    "            rfc_best_est_up = est\n",
    "        \n",
    "\n",
    "print(' F1 =', rfc_best_f1_up, '\\n', 'Количество деревьев =', rfc_best_est_up, '\\n',\n",
    "      \"Максимальная глубина:\", rfc_best_depth_up) "
   ]
  },
  {
   "cell_type": "code",
   "execution_count": 56,
   "metadata": {},
   "outputs": [
    {
     "name": "stdout",
     "output_type": "stream",
     "text": [
      " F1 = 0.610655737704918 \n",
      " Количество деревьев = 120 \n",
      " Максимальная глубина: 7\n"
     ]
    }
   ],
   "source": [
    "rfc_best_model_down = None\n",
    "rfc_best_f1_down = 0\n",
    "rfc_best_depth_down = 0\n",
    "rfc_best_est_down = 0\n",
    "for est in range(120, 130, 10):\n",
    "    for depth in range(7, 8, 1):\n",
    "        rfc_model = RandomForestClassifier(n_estimators=est, max_depth=depth, random_state=12345)\n",
    "        rfc_model.fit(features_train_downsampled, target_train_downsampled)\n",
    "        rfc_prediction = rfc_model.predict(features_valid)\n",
    "        rfc_f1 = f1_score(target_valid, rfc_prediction)\n",
    "        if rfc_f1 > rfc_best_f1_down:\n",
    "            rfc_best_model_down = rfc_model\n",
    "            rfc_best_f1_down = rfc_f1\n",
    "            rfc_best_depth_down = depth\n",
    "            rfc_best_est_down = est\n",
    "        \n",
    "\n",
    "print(' F1 =', rfc_best_f1_down, '\\n', 'Количество деревьев =', rfc_best_est_down, '\\n',\n",
    "      \"Максимальная глубина:\", rfc_best_depth_down) "
   ]
  },
  {
   "cell_type": "markdown",
   "metadata": {},
   "source": [
    "<div style=\"border-radius: 15px; border: 1px solid grey; padding: 15px;\">\n",
    "Гиперпараметры модели скорректировались, в коде оставлены именно оптимальные. И на сбалансированных обучающих данных модель показала значительный прирост метрики F1, так же данные сбалансированные методом Upsample пока зали лучшее качество и модель Случайного леса осталась лидером серди протестированных нами моделей классификации. Фиксируем значение ROC-AUC:\n",
    "</div>"
   ]
  },
  {
   "cell_type": "code",
   "execution_count": 57,
   "metadata": {},
   "outputs": [
    {
     "name": "stdout",
     "output_type": "stream",
     "text": [
      "0.8697711670480549\n"
     ]
    }
   ],
   "source": [
    "probabilities_valid_rfc = rfc_best_model_up.predict_proba(features_valid)\n",
    "probabilities_one_valid_rfc = probabilities_valid_rfc[:, 1]\n",
    "\n",
    "auc_roc_rfc = roc_auc_score(target_valid, probabilities_one_valid_rfc)\n",
    "\n",
    "print(auc_roc_rfc)"
   ]
  },
  {
   "cell_type": "markdown",
   "metadata": {},
   "source": [
    "<div style=\"border-radius: 15px; border: 1px solid grey; padding: 15px;\">\n",
    "Ожидаемо метрика не изменилась, визуализируем ROC-кривые для моделей обученных на сбалансированных данных и не сбалансированных:\n",
    "</div>"
   ]
  },
  {
   "cell_type": "code",
   "execution_count": 58,
   "metadata": {},
   "outputs": [
    {
     "data": {
      "image/png": "[encoded data removed]",
      "text/plain": [
       "<Figure size 576x576 with 1 Axes>"
      ]
     },
     "metadata": {
      "needs_background": "light"
     },
     "output_type": "display_data"
    }
   ],
   "source": [
    "fpr_b, tpr_b, thresholds = roc_curve(target_valid, probabilities_one_valid_rfc) \n",
    "\n",
    "plt.figure(figsize=(8, 8))\n",
    "\n",
    "plt.plot(fpr, tpr, label='NotBalased')\n",
    "plt.plot(fpr_b, tpr_b, label='Balased')\n",
    "plt.plot([0, 1], [0, 1], linestyle='--', label='Random Model')\n",
    "plt.legend()\n",
    "\n",
    "plt.xlim([0.0, 1.0])\n",
    "plt.ylim([0.0, 1.0])\n",
    "\n",
    "plt.xlabel(\"False Positive Rate\") \n",
    "plt.ylabel(\"True Positive Rate\")\n",
    "\n",
    "plt.title(\"ROC-кривая\")\n",
    "plt.show()"
   ]
  },
  {
   "cell_type": "markdown",
   "metadata": {},
   "source": [
    "<div style=\"border-radius: 15px; border: 1px solid grey; padding: 15px;\">\n",
    "Этот график подтверждает нам, что показатель ROC_AUC как и ROC-кривая не имеют зависимости от сбалансированности целевого класса. А нам остается проверить нашу лидирующую модель Случайного леса на тестовой выборке и оценить её результат по средствам метрики F1.\n",
    "</div>"
   ]
  },
  {
   "cell_type": "markdown",
   "metadata": {},
   "source": [
    "### Прогноз на Тестовой выборке:"
   ]
  },
  {
   "cell_type": "markdown",
   "metadata": {},
   "source": [
    "#### Вариант первый, обучение только на Train выборке"
   ]
  },
  {
   "cell_type": "markdown",
   "metadata": {},
   "source": [
    "<div style=\"border-radius: 15px; border: 1px solid grey; padding: 15px;\">\n",
    "Для финальной проверки модели Случайного леса выполним предсказание целевого признака в тестовой выборке с ранее определенными гиперпараметрами в 70 деревьев и максимальной глубиной 9, сначала используем для обучения только тренировочную выборку сбалансированную методом Upsample:\n",
    "</div>"
   ]
  },
  {
   "cell_type": "code",
   "execution_count": 59,
   "metadata": {},
   "outputs": [],
   "source": [
    "rfc_model = RandomForestClassifier(n_estimators=70, max_depth=9, random_state=12345)\n",
    "rfc_model.fit(features_train_upsampled, target_train_upsampled)\n",
    "rfc_prediction = rfc_model.predict(features_test)"
   ]
  },
  {
   "cell_type": "markdown",
   "metadata": {},
   "source": [
    "<div style=\"border-radius: 15px; border: 1px solid grey; padding: 15px;\">\n",
    "Измеряем F1 и ROC-AUC:\n",
    "</div>"
   ]
  },
  {
   "cell_type": "code",
   "execution_count": 60,
   "metadata": {},
   "outputs": [
    {
     "data": {
      "text/plain": [
       "0.6447811447811449"
      ]
     },
     "execution_count": 60,
     "metadata": {},
     "output_type": "execute_result"
    }
   ],
   "source": [
    "rfc_f1 = f1_score(target_test, rfc_prediction)\n",
    "rfc_f1"
   ]
  },
  {
   "cell_type": "code",
   "execution_count": 61,
   "metadata": {},
   "outputs": [
    {
     "name": "stdout",
     "output_type": "stream",
     "text": [
      "0.860232574730684\n"
     ]
    }
   ],
   "source": [
    "probabilities_test_rfc = rfc_model.predict_proba(features_test)\n",
    "probabilities_one_test_rfc = probabilities_test_rfc[:, 1]\n",
    "\n",
    "auc_roc_rfc = roc_auc_score(target_test, probabilities_one_test_rfc)\n",
    "\n",
    "print(auc_roc_rfc)"
   ]
  },
  {
   "cell_type": "markdown",
   "metadata": {},
   "source": [
    "####  Вариант второй, обучение на совмещенной выборке Train и Valid"
   ]
  },
  {
   "cell_type": "markdown",
   "metadata": {},
   "source": [
    "<div style=\"border-radius: 15px; border: 1px solid grey; padding: 15px;\">\n",
    "Теперь в целях увеличения точности совместим тренировочную и валидационную выборки, так мы получим больше данных для обучения, так же используем ранее определенные гиперпараметры в 120 деревьев и максимальной глубиной 11.\n",
    "    \n",
    "    \n",
    "Начнем с объединеия выборок:\n",
    "</div>"
   ]
  },
  {
   "cell_type": "code",
   "execution_count": 62,
   "metadata": {},
   "outputs": [],
   "source": [
    "features_tv = pd.concat([features_train] + [features_valid])\n",
    "target_tv = pd.concat([target_train] + [target_valid])"
   ]
  },
  {
   "cell_type": "code",
   "execution_count": 63,
   "metadata": {},
   "outputs": [
    {
     "data": {
      "text/plain": [
       "0    5998\n",
       "1    1502\n",
       "Name: Exited, dtype: int64"
      ]
     },
     "execution_count": 63,
     "metadata": {},
     "output_type": "execute_result"
    }
   ],
   "source": [
    "target_tv.value_counts()"
   ]
  },
  {
   "cell_type": "markdown",
   "metadata": {},
   "source": [
    "<div style=\"border-radius: 15px; border: 1px solid grey; padding: 15px;\">\n",
    "Естественно так как валидационная выборка не была сбалансирована по целевому классу, воспользуемся Upsample'ом для балансировки нашей новой выборки, так как именно этот метод показал лучшие результаты ранее:\n",
    "</div>"
   ]
  },
  {
   "cell_type": "code",
   "execution_count": 64,
   "metadata": {},
   "outputs": [],
   "source": [
    "features_tv_upsampled, target_tv_upsampled = upsample(features_tv, target_tv, 4)"
   ]
  },
  {
   "cell_type": "code",
   "execution_count": 65,
   "metadata": {},
   "outputs": [
    {
     "data": {
      "text/plain": [
       "1    6008\n",
       "0    5998\n",
       "Name: Exited, dtype: int64"
      ]
     },
     "execution_count": 65,
     "metadata": {},
     "output_type": "execute_result"
    }
   ],
   "source": [
    "target_tv_upsampled.value_counts()"
   ]
  },
  {
   "cell_type": "markdown",
   "metadata": {},
   "source": [
    "<div style=\"border-radius: 15px; border: 1px solid grey; padding: 15px;\">\n",
    "Получили 50\\50, переходим к обучению и метрикам:\n",
    "</div>"
   ]
  },
  {
   "cell_type": "code",
   "execution_count": 66,
   "metadata": {},
   "outputs": [],
   "source": [
    "rfc_model = RandomForestClassifier(n_estimators=70, max_depth=9, random_state=12345)\n",
    "rfc_model.fit(features_tv_upsampled, target_tv_upsampled)\n",
    "rfc_prediction = rfc_model.predict(features_test)"
   ]
  },
  {
   "cell_type": "code",
   "execution_count": 67,
   "metadata": {},
   "outputs": [
    {
     "data": {
      "text/plain": [
       "0.6542207792207793"
      ]
     },
     "execution_count": 67,
     "metadata": {},
     "output_type": "execute_result"
    }
   ],
   "source": [
    "rfc_f1 = f1_score(target_test, rfc_prediction)\n",
    "rfc_f1"
   ]
  },
  {
   "cell_type": "code",
   "execution_count": 68,
   "metadata": {},
   "outputs": [
    {
     "name": "stdout",
     "output_type": "stream",
     "text": [
      "0.8671051818030486\n"
     ]
    }
   ],
   "source": [
    "probabilities_test_rfc = rfc_model.predict_proba(features_test)\n",
    "probabilities_one_test_rfc = probabilities_test_rfc[:, 1]\n",
    "\n",
    "auc_roc_rfc = roc_auc_score(target_test, probabilities_one_test_rfc)\n",
    "\n",
    "print(auc_roc_rfc)"
   ]
  },
  {
   "cell_type": "markdown",
   "metadata": {},
   "source": [
    "<div style=\"border-radius: 15px; border: 1px solid grey; padding: 15px;\">\n",
    "Всё не зря, получили сотую прироста метрики F1.\n",
    "</div>"
   ]
  },
  {
   "cell_type": "markdown",
   "metadata": {},
   "source": [
    "### Вывод"
   ]
  },
  {
   "cell_type": "markdown",
   "metadata": {},
   "source": [
    "<div style=\"border-radius: 15px; border: 1px solid grey; padding: 15px;\">\n",
    "Проведенная нами исследование закономерно показало, что предобработка данных и балансировка целевых классов в обучающих выборках, значительно сказывается на улучшении качества предсказания целевого признака. Мы пользовались метрикой F1 и она показала положительную динамику на всех моделях после устранения дисбаланса классов и качество модели было лучше, когда оа обучалась на данных сбалансированных методом Upsample. А вот метрика ROC-AUC не подвержена влиянию дисбаланса классов в целевом признаке.\n",
    "    \n",
    "В целом работу считаю успешной, показатель мертики F1 на тестовой выборке '>0.65', что выше обозначенного минимума, да и метрика ROC-AUC имеет высокое значение более '>0.86'.\n",
    "</div>"
   ]
  }
 ],
 "metadata": {
  "ExecuteTimeLog": [
   {
    "duration": 352,
    "start_time": "2021-06-12T14:55:00.048Z"
   },
   {
    "duration": 1384,
    "start_time": "2021-06-12T14:55:02.231Z"
   },
   {
    "duration": 362,
    "start_time": "2021-06-12T14:55:03.618Z"
   },
   {
    "duration": 29,
    "start_time": "2021-06-12T14:55:03.983Z"
   },
   {
    "duration": 12,
    "start_time": "2021-06-12T14:55:09.547Z"
   },
   {
    "duration": 11,
    "start_time": "2021-06-12T14:56:20.316Z"
   },
   {
    "duration": 5,
    "start_time": "2021-06-12T15:00:36.615Z"
   },
   {
    "duration": 13,
    "start_time": "2021-06-12T15:00:48.232Z"
   },
   {
    "duration": 67,
    "start_time": "2021-06-12T15:01:18.386Z"
   },
   {
    "duration": 4,
    "start_time": "2021-06-12T15:10:25.854Z"
   },
   {
    "duration": 128,
    "start_time": "2021-06-12T15:10:26.249Z"
   },
   {
    "duration": 13,
    "start_time": "2021-06-12T15:10:26.884Z"
   },
   {
    "duration": 7,
    "start_time": "2021-06-12T15:10:29.367Z"
   },
   {
    "duration": 55,
    "start_time": "2021-06-12T15:10:30.652Z"
   },
   {
    "duration": 13,
    "start_time": "2021-06-12T15:15:18.616Z"
   },
   {
    "duration": 12,
    "start_time": "2021-06-12T15:15:41.367Z"
   },
   {
    "duration": 393,
    "start_time": "2021-06-12T15:18:30.650Z"
   },
   {
    "duration": 9,
    "start_time": "2021-06-12T15:18:36.946Z"
   },
   {
    "duration": 11,
    "start_time": "2021-06-12T15:18:42.334Z"
   },
   {
    "duration": 7,
    "start_time": "2021-06-12T15:18:57.595Z"
   },
   {
    "duration": 8,
    "start_time": "2021-06-12T15:19:04.702Z"
   },
   {
    "duration": 8,
    "start_time": "2021-06-12T15:19:09.746Z"
   },
   {
    "duration": 8,
    "start_time": "2021-06-12T15:19:41.787Z"
   },
   {
    "duration": 13,
    "start_time": "2021-06-12T15:19:45.390Z"
   },
   {
    "duration": 10,
    "start_time": "2021-06-12T15:19:53.450Z"
   },
   {
    "duration": 9,
    "start_time": "2021-06-12T15:28:20.713Z"
   },
   {
    "duration": 8,
    "start_time": "2021-06-12T15:28:36.339Z"
   },
   {
    "duration": 12,
    "start_time": "2021-06-12T15:28:40.027Z"
   },
   {
    "duration": 10,
    "start_time": "2021-06-12T15:28:50.128Z"
   },
   {
    "duration": 13,
    "start_time": "2021-06-12T15:29:11.499Z"
   },
   {
    "duration": 8,
    "start_time": "2021-06-12T15:29:40.104Z"
   },
   {
    "duration": 5,
    "start_time": "2021-06-12T15:29:44.088Z"
   },
   {
    "duration": 144,
    "start_time": "2021-06-12T15:29:44.096Z"
   },
   {
    "duration": 12,
    "start_time": "2021-06-12T15:29:44.244Z"
   },
   {
    "duration": 5,
    "start_time": "2021-06-12T15:29:44.259Z"
   },
   {
    "duration": 62,
    "start_time": "2021-06-12T15:29:44.267Z"
   },
   {
    "duration": 8,
    "start_time": "2021-06-12T15:29:44.332Z"
   },
   {
    "duration": 11,
    "start_time": "2021-06-12T15:29:44.344Z"
   },
   {
    "duration": 37,
    "start_time": "2021-06-12T15:29:44.357Z"
   },
   {
    "duration": 12,
    "start_time": "2021-06-12T15:29:44.397Z"
   },
   {
    "duration": 13,
    "start_time": "2021-06-12T15:29:44.411Z"
   },
   {
    "duration": 468,
    "start_time": "2021-06-12T15:29:44.427Z"
   },
   {
    "duration": 9,
    "start_time": "2021-06-12T15:32:01.165Z"
   },
   {
    "duration": 9,
    "start_time": "2021-06-12T15:32:06.992Z"
   },
   {
    "duration": 5,
    "start_time": "2021-06-12T15:35:24.063Z"
   },
   {
    "duration": 123,
    "start_time": "2021-06-12T15:35:24.071Z"
   },
   {
    "duration": 12,
    "start_time": "2021-06-12T15:35:24.197Z"
   },
   {
    "duration": 11,
    "start_time": "2021-06-12T15:35:24.211Z"
   },
   {
    "duration": 70,
    "start_time": "2021-06-12T15:35:24.225Z"
   },
   {
    "duration": 9,
    "start_time": "2021-06-12T15:35:24.298Z"
   },
   {
    "duration": 17,
    "start_time": "2021-06-12T15:35:24.310Z"
   },
   {
    "duration": 9,
    "start_time": "2021-06-12T15:35:24.330Z"
   },
   {
    "duration": 45,
    "start_time": "2021-06-12T15:35:24.342Z"
   },
   {
    "duration": 9,
    "start_time": "2021-06-12T15:35:24.390Z"
   },
   {
    "duration": 20,
    "start_time": "2021-06-12T15:35:29.543Z"
   },
   {
    "duration": 20,
    "start_time": "2021-06-12T15:35:45.696Z"
   },
   {
    "duration": 20,
    "start_time": "2021-06-12T15:35:51.455Z"
   },
   {
    "duration": 66,
    "start_time": "2021-06-12T15:35:58.022Z"
   },
   {
    "duration": 5,
    "start_time": "2021-06-12T15:37:06.589Z"
   },
   {
    "duration": 145,
    "start_time": "2021-06-12T15:37:06.596Z"
   },
   {
    "duration": 11,
    "start_time": "2021-06-12T15:37:06.744Z"
   },
   {
    "duration": 12,
    "start_time": "2021-06-12T15:37:06.758Z"
   },
   {
    "duration": 65,
    "start_time": "2021-06-12T15:37:06.772Z"
   },
   {
    "duration": 8,
    "start_time": "2021-06-12T15:37:06.839Z"
   },
   {
    "duration": 17,
    "start_time": "2021-06-12T15:37:06.851Z"
   },
   {
    "duration": 33,
    "start_time": "2021-06-12T15:37:06.871Z"
   },
   {
    "duration": 24,
    "start_time": "2021-06-12T15:37:06.906Z"
   },
   {
    "duration": 9,
    "start_time": "2021-06-12T15:37:26.632Z"
   },
   {
    "duration": 9,
    "start_time": "2021-06-12T15:37:27.547Z"
   },
   {
    "duration": 19,
    "start_time": "2021-06-12T15:38:27.425Z"
   },
   {
    "duration": 70,
    "start_time": "2021-06-12T15:38:28.109Z"
   },
   {
    "duration": 11,
    "start_time": "2021-06-12T15:39:57.798Z"
   },
   {
    "duration": 23,
    "start_time": "2021-06-12T15:40:00.673Z"
   },
   {
    "duration": 296,
    "start_time": "2021-06-12T15:40:40.648Z"
   },
   {
    "duration": 4,
    "start_time": "2021-06-12T15:40:47.476Z"
   },
   {
    "duration": 131,
    "start_time": "2021-06-12T15:40:47.488Z"
   },
   {
    "duration": 12,
    "start_time": "2021-06-12T15:40:47.622Z"
   },
   {
    "duration": 6,
    "start_time": "2021-06-12T15:40:47.637Z"
   },
   {
    "duration": 72,
    "start_time": "2021-06-12T15:40:47.646Z"
   },
   {
    "duration": 9,
    "start_time": "2021-06-12T15:40:47.721Z"
   },
   {
    "duration": 13,
    "start_time": "2021-06-12T15:40:47.732Z"
   },
   {
    "duration": 8,
    "start_time": "2021-06-12T15:40:47.748Z"
   },
   {
    "duration": 13,
    "start_time": "2021-06-12T15:40:47.786Z"
   },
   {
    "duration": 9,
    "start_time": "2021-06-12T15:40:47.803Z"
   },
   {
    "duration": 11,
    "start_time": "2021-06-12T15:40:47.815Z"
   },
   {
    "duration": 63,
    "start_time": "2021-06-12T15:40:47.828Z"
   },
   {
    "duration": 63,
    "start_time": "2021-06-12T15:40:47.894Z"
   },
   {
    "duration": 26,
    "start_time": "2021-06-12T15:40:47.959Z"
   },
   {
    "duration": 68,
    "start_time": "2021-06-12T15:40:47.992Z"
   },
   {
    "duration": 68,
    "start_time": "2021-06-12T15:41:20.967Z"
   },
   {
    "duration": 417,
    "start_time": "2021-06-12T15:45:13.115Z"
   },
   {
    "duration": 5,
    "start_time": "2021-06-12T15:45:39.359Z"
   },
   {
    "duration": 5,
    "start_time": "2021-06-12T15:45:44.350Z"
   },
   {
    "duration": 140,
    "start_time": "2021-06-12T15:45:44.358Z"
   },
   {
    "duration": 12,
    "start_time": "2021-06-12T15:45:44.501Z"
   },
   {
    "duration": 5,
    "start_time": "2021-06-12T15:45:44.516Z"
   },
   {
    "duration": 86,
    "start_time": "2021-06-12T15:45:44.524Z"
   },
   {
    "duration": 10,
    "start_time": "2021-06-12T15:45:44.613Z"
   },
   {
    "duration": 11,
    "start_time": "2021-06-12T15:45:44.628Z"
   },
   {
    "duration": 44,
    "start_time": "2021-06-12T15:45:44.643Z"
   },
   {
    "duration": 17,
    "start_time": "2021-06-12T15:45:44.689Z"
   },
   {
    "duration": 9,
    "start_time": "2021-06-12T15:45:44.708Z"
   },
   {
    "duration": 11,
    "start_time": "2021-06-12T15:45:44.719Z"
   },
   {
    "duration": 59,
    "start_time": "2021-06-12T15:45:44.733Z"
   },
   {
    "duration": 63,
    "start_time": "2021-06-12T15:45:44.795Z"
   },
   {
    "duration": 11,
    "start_time": "2021-06-12T15:45:44.860Z"
   },
   {
    "duration": 107,
    "start_time": "2021-06-12T15:45:44.888Z"
   },
   {
    "duration": 106,
    "start_time": "2021-06-12T15:45:44.998Z"
   },
   {
    "duration": 454,
    "start_time": "2021-06-12T15:47:09.248Z"
   },
   {
    "duration": 114,
    "start_time": "2021-06-12T15:47:20.782Z"
   },
   {
    "duration": 5,
    "start_time": "2021-06-12T15:48:23.497Z"
   },
   {
    "duration": 168,
    "start_time": "2021-06-12T15:48:30.825Z"
   },
   {
    "duration": 6,
    "start_time": "2021-06-12T15:53:51.384Z"
   },
   {
    "duration": 412,
    "start_time": "2021-06-12T15:53:51.396Z"
   },
   {
    "duration": 14,
    "start_time": "2021-06-12T15:53:51.813Z"
   },
   {
    "duration": 6,
    "start_time": "2021-06-12T15:53:51.830Z"
   },
   {
    "duration": 79,
    "start_time": "2021-06-12T15:53:51.839Z"
   },
   {
    "duration": 8,
    "start_time": "2021-06-12T15:53:51.921Z"
   },
   {
    "duration": 16,
    "start_time": "2021-06-12T15:53:51.932Z"
   },
   {
    "duration": 41,
    "start_time": "2021-06-12T15:53:51.951Z"
   },
   {
    "duration": 16,
    "start_time": "2021-06-12T15:53:51.996Z"
   },
   {
    "duration": 9,
    "start_time": "2021-06-12T15:53:52.015Z"
   },
   {
    "duration": 11,
    "start_time": "2021-06-12T15:53:52.026Z"
   },
   {
    "duration": 62,
    "start_time": "2021-06-12T15:53:52.039Z"
   },
   {
    "duration": 66,
    "start_time": "2021-06-12T15:53:52.104Z"
   },
   {
    "duration": 29,
    "start_time": "2021-06-12T15:53:52.173Z"
   },
   {
    "duration": 9,
    "start_time": "2021-06-12T15:53:52.205Z"
   },
   {
    "duration": 353,
    "start_time": "2021-06-12T15:53:52.217Z"
   },
   {
    "duration": 541,
    "start_time": "2021-06-12T15:53:52.032Z"
   },
   {
    "duration": 531,
    "start_time": "2021-06-12T15:53:52.045Z"
   },
   {
    "duration": 516,
    "start_time": "2021-06-12T15:53:52.062Z"
   },
   {
    "duration": 511,
    "start_time": "2021-06-12T15:53:52.069Z"
   },
   {
    "duration": 6,
    "start_time": "2021-06-12T15:54:06.706Z"
   },
   {
    "duration": 5,
    "start_time": "2021-06-12T15:54:09.430Z"
   },
   {
    "duration": 6,
    "start_time": "2021-06-12T15:54:09.738Z"
   },
   {
    "duration": 72,
    "start_time": "2021-06-12T15:54:13.125Z"
   },
   {
    "duration": 14,
    "start_time": "2021-06-12T15:54:13.532Z"
   },
   {
    "duration": 407,
    "start_time": "2021-06-14T08:56:31.232Z"
   },
   {
    "duration": 1386,
    "start_time": "2021-06-14T08:56:37.653Z"
   },
   {
    "duration": 163,
    "start_time": "2021-06-14T08:56:39.042Z"
   },
   {
    "duration": 13,
    "start_time": "2021-06-14T08:56:39.208Z"
   },
   {
    "duration": 6,
    "start_time": "2021-06-14T08:56:39.223Z"
   },
   {
    "duration": 88,
    "start_time": "2021-06-14T08:56:39.231Z"
   },
   {
    "duration": 8,
    "start_time": "2021-06-14T08:56:39.321Z"
   },
   {
    "duration": 11,
    "start_time": "2021-06-14T08:56:39.331Z"
   },
   {
    "duration": 15,
    "start_time": "2021-06-14T08:56:39.344Z"
   },
   {
    "duration": 48,
    "start_time": "2021-06-14T08:56:39.362Z"
   },
   {
    "duration": 8,
    "start_time": "2021-06-14T08:56:39.413Z"
   },
   {
    "duration": 19,
    "start_time": "2021-06-14T08:56:39.423Z"
   },
   {
    "duration": 27,
    "start_time": "2021-06-14T08:56:39.444Z"
   },
   {
    "duration": 94,
    "start_time": "2021-06-14T08:56:39.474Z"
   },
   {
    "duration": 10,
    "start_time": "2021-06-14T08:56:39.570Z"
   },
   {
    "duration": 30,
    "start_time": "2021-06-14T08:56:39.583Z"
   },
   {
    "duration": 20,
    "start_time": "2021-06-14T08:56:39.615Z"
   },
   {
    "duration": 17,
    "start_time": "2021-06-14T08:56:39.637Z"
   },
   {
    "duration": 16,
    "start_time": "2021-06-14T08:56:39.656Z"
   },
   {
    "duration": 26,
    "start_time": "2021-06-14T08:56:39.675Z"
   },
   {
    "duration": 108,
    "start_time": "2021-06-14T08:56:39.704Z"
   },
   {
    "duration": 99,
    "start_time": "2021-06-14T08:56:39.816Z"
   },
   {
    "duration": 11,
    "start_time": "2021-06-14T08:58:34.829Z"
   },
   {
    "duration": 9,
    "start_time": "2021-06-14T08:58:56.806Z"
   },
   {
    "duration": 9,
    "start_time": "2021-06-14T08:58:57.113Z"
   },
   {
    "duration": 7,
    "start_time": "2021-06-14T08:58:57.386Z"
   },
   {
    "duration": 8,
    "start_time": "2021-06-14T08:58:57.659Z"
   },
   {
    "duration": 480,
    "start_time": "2021-06-14T09:05:06.626Z"
   },
   {
    "duration": 4,
    "start_time": "2021-06-14T09:05:15.695Z"
   },
   {
    "duration": 57,
    "start_time": "2021-06-14T09:05:15.702Z"
   },
   {
    "duration": 11,
    "start_time": "2021-06-14T09:05:15.762Z"
   },
   {
    "duration": 6,
    "start_time": "2021-06-14T09:05:15.776Z"
   },
   {
    "duration": 74,
    "start_time": "2021-06-14T09:05:15.784Z"
   },
   {
    "duration": 10,
    "start_time": "2021-06-14T09:05:15.861Z"
   },
   {
    "duration": 41,
    "start_time": "2021-06-14T09:05:15.874Z"
   },
   {
    "duration": 10,
    "start_time": "2021-06-14T09:05:15.921Z"
   },
   {
    "duration": 12,
    "start_time": "2021-06-14T09:05:15.935Z"
   },
   {
    "duration": 11,
    "start_time": "2021-06-14T09:05:15.950Z"
   },
   {
    "duration": 9,
    "start_time": "2021-06-14T09:05:16.008Z"
   },
   {
    "duration": 24,
    "start_time": "2021-06-14T09:05:16.020Z"
   },
   {
    "duration": 100,
    "start_time": "2021-06-14T09:05:16.046Z"
   },
   {
    "duration": 12,
    "start_time": "2021-06-14T09:05:16.149Z"
   },
   {
    "duration": 10,
    "start_time": "2021-06-14T09:05:16.164Z"
   },
   {
    "duration": 35,
    "start_time": "2021-06-14T09:05:16.176Z"
   },
   {
    "duration": 11,
    "start_time": "2021-06-14T09:05:16.213Z"
   },
   {
    "duration": 14,
    "start_time": "2021-06-14T09:05:16.226Z"
   },
   {
    "duration": 9,
    "start_time": "2021-06-14T09:05:16.242Z"
   },
   {
    "duration": 6,
    "start_time": "2021-06-14T09:05:16.253Z"
   },
   {
    "duration": 48,
    "start_time": "2021-06-14T09:05:16.261Z"
   },
   {
    "duration": 8,
    "start_time": "2021-06-14T09:05:16.312Z"
   },
   {
    "duration": 94,
    "start_time": "2021-06-14T09:05:16.326Z"
   },
   {
    "duration": 438,
    "start_time": "2021-06-14T09:05:16.509Z"
   },
   {
    "duration": -721,
    "start_time": "2021-06-14T09:05:17.671Z"
   },
   {
    "duration": 2835,
    "start_time": "2021-06-14T09:05:35.401Z"
   },
   {
    "duration": 39936,
    "start_time": "2021-06-14T09:06:08.393Z"
   },
   {
    "duration": 94,
    "start_time": "2021-06-14T09:07:23.716Z"
   },
   {
    "duration": 11,
    "start_time": "2021-06-14T09:07:24.320Z"
   },
   {
    "duration": 56,
    "start_time": "2021-06-14T09:08:27.282Z"
   },
   {
    "duration": 59,
    "start_time": "2021-06-14T09:08:42.173Z"
   },
   {
    "duration": 106575,
    "start_time": "2021-06-14T09:10:31.457Z"
   },
   {
    "duration": 12376,
    "start_time": "2021-06-14T09:13:01.191Z"
   },
   {
    "duration": 7628,
    "start_time": "2021-06-14T09:13:23.223Z"
   },
   {
    "duration": 79,
    "start_time": "2021-06-14T09:13:34.137Z"
   },
   {
    "duration": 14,
    "start_time": "2021-06-14T09:28:26.720Z"
   },
   {
    "duration": 9,
    "start_time": "2021-06-14T09:28:43.348Z"
   },
   {
    "duration": 8,
    "start_time": "2021-06-14T09:29:26.962Z"
   },
   {
    "duration": 8,
    "start_time": "2021-06-14T09:29:27.313Z"
   },
   {
    "duration": 9,
    "start_time": "2021-06-14T09:29:27.683Z"
   },
   {
    "duration": 9,
    "start_time": "2021-06-14T09:29:28.036Z"
   },
   {
    "duration": 636,
    "start_time": "2021-06-14T09:38:38.531Z"
   },
   {
    "duration": 5,
    "start_time": "2021-06-14T09:39:04.403Z"
   },
   {
    "duration": 67,
    "start_time": "2021-06-14T09:39:04.414Z"
   },
   {
    "duration": 13,
    "start_time": "2021-06-14T09:39:04.484Z"
   },
   {
    "duration": 6,
    "start_time": "2021-06-14T09:39:04.510Z"
   },
   {
    "duration": 62,
    "start_time": "2021-06-14T09:39:04.519Z"
   },
   {
    "duration": 9,
    "start_time": "2021-06-14T09:39:04.583Z"
   },
   {
    "duration": 11,
    "start_time": "2021-06-14T09:39:04.610Z"
   },
   {
    "duration": 10,
    "start_time": "2021-06-14T09:39:04.623Z"
   },
   {
    "duration": 14,
    "start_time": "2021-06-14T09:39:04.636Z"
   },
   {
    "duration": 9,
    "start_time": "2021-06-14T09:39:04.653Z"
   },
   {
    "duration": 53,
    "start_time": "2021-06-14T09:39:04.664Z"
   },
   {
    "duration": 23,
    "start_time": "2021-06-14T09:39:04.719Z"
   },
   {
    "duration": 88,
    "start_time": "2021-06-14T09:39:04.745Z"
   },
   {
    "duration": 10,
    "start_time": "2021-06-14T09:39:04.835Z"
   },
   {
    "duration": 7,
    "start_time": "2021-06-14T09:39:04.848Z"
   },
   {
    "duration": 10,
    "start_time": "2021-06-14T09:39:04.858Z"
   },
   {
    "duration": 43,
    "start_time": "2021-06-14T09:39:04.871Z"
   },
   {
    "duration": 9,
    "start_time": "2021-06-14T09:39:04.917Z"
   },
   {
    "duration": 11,
    "start_time": "2021-06-14T09:39:04.928Z"
   },
   {
    "duration": 11,
    "start_time": "2021-06-14T09:39:04.941Z"
   },
   {
    "duration": 8,
    "start_time": "2021-06-14T09:39:04.955Z"
   },
   {
    "duration": 43,
    "start_time": "2021-06-14T09:39:04.966Z"
   },
   {
    "duration": 103,
    "start_time": "2021-06-14T09:39:05.011Z"
   },
   {
    "duration": 11,
    "start_time": "2021-06-14T09:39:05.209Z"
   },
   {
    "duration": 7693,
    "start_time": "2021-06-14T09:39:05.224Z"
   },
   {
    "duration": 93,
    "start_time": "2021-06-14T09:39:12.919Z"
   },
   {
    "duration": 18,
    "start_time": "2021-06-14T09:39:13.014Z"
   },
   {
    "duration": 22,
    "start_time": "2021-06-14T09:39:13.034Z"
   },
   {
    "duration": 6122,
    "start_time": "2021-06-14T09:39:13.058Z"
   },
   {
    "duration": -747,
    "start_time": "2021-06-14T09:39:19.929Z"
   },
   {
    "duration": 30,
    "start_time": "2021-06-14T09:39:55.499Z"
   },
   {
    "duration": 5995,
    "start_time": "2021-06-14T09:40:32.012Z"
   },
   {
    "duration": 5228,
    "start_time": "2021-06-14T09:40:50.441Z"
   },
   {
    "duration": 5,
    "start_time": "2021-06-14T09:41:04.995Z"
   },
   {
    "duration": 5,
    "start_time": "2021-06-14T09:41:23.937Z"
   },
   {
    "duration": 21,
    "start_time": "2021-06-14T09:41:50.860Z"
   },
   {
    "duration": 5,
    "start_time": "2021-06-14T09:41:51.451Z"
   },
   {
    "duration": 5,
    "start_time": "2021-06-14T09:41:51.943Z"
   },
   {
    "duration": 18,
    "start_time": "2021-06-14T09:41:58.484Z"
   },
   {
    "duration": 21,
    "start_time": "2021-06-14T09:41:58.826Z"
   },
   {
    "duration": 5,
    "start_time": "2021-06-14T09:42:01.740Z"
   },
   {
    "duration": 5,
    "start_time": "2021-06-14T09:42:02.030Z"
   },
   {
    "duration": 19,
    "start_time": "2021-06-14T09:42:30.510Z"
   },
   {
    "duration": 22,
    "start_time": "2021-06-14T09:42:30.964Z"
   },
   {
    "duration": 5,
    "start_time": "2021-06-14T09:43:03.273Z"
   },
   {
    "duration": 5,
    "start_time": "2021-06-14T09:43:03.642Z"
   },
   {
    "duration": 21,
    "start_time": "2021-06-14T09:43:56.678Z"
   },
   {
    "duration": 23,
    "start_time": "2021-06-14T09:43:57.726Z"
   },
   {
    "duration": 352,
    "start_time": "2021-06-14T09:44:13.382Z"
   },
   {
    "duration": 8,
    "start_time": "2021-06-14T09:44:33.448Z"
   },
   {
    "duration": 363,
    "start_time": "2021-06-14T09:44:53.263Z"
   },
   {
    "duration": 4632,
    "start_time": "2021-06-14T09:45:04.851Z"
   },
   {
    "duration": 4471,
    "start_time": "2021-06-14T09:45:35.511Z"
   },
   {
    "duration": 8,
    "start_time": "2021-06-14T09:45:48.397Z"
   },
   {
    "duration": 22,
    "start_time": "2021-06-14T09:46:05.833Z"
   },
   {
    "duration": 8,
    "start_time": "2021-06-14T09:46:06.734Z"
   },
   {
    "duration": 10,
    "start_time": "2021-06-14T09:46:07.504Z"
   },
   {
    "duration": 8,
    "start_time": "2021-06-14T09:46:21.620Z"
   },
   {
    "duration": 8,
    "start_time": "2021-06-14T09:46:22.427Z"
   },
   {
    "duration": 17,
    "start_time": "2021-06-14T10:25:10.867Z"
   },
   {
    "duration": 9,
    "start_time": "2021-06-14T10:25:11.445Z"
   },
   {
    "duration": 7,
    "start_time": "2021-06-14T10:25:12.102Z"
   },
   {
    "duration": 22,
    "start_time": "2021-06-14T10:26:06.183Z"
   },
   {
    "duration": 8,
    "start_time": "2021-06-14T10:26:14.394Z"
   },
   {
    "duration": 8,
    "start_time": "2021-06-14T10:26:16.474Z"
   },
   {
    "duration": 22,
    "start_time": "2021-06-14T10:26:24.003Z"
   },
   {
    "duration": 8,
    "start_time": "2021-06-14T10:26:24.832Z"
   },
   {
    "duration": 8,
    "start_time": "2021-06-14T10:26:26.212Z"
   },
   {
    "duration": 5,
    "start_time": "2021-06-14T10:26:28.946Z"
   },
   {
    "duration": 6,
    "start_time": "2021-06-14T10:26:29.439Z"
   },
   {
    "duration": 5,
    "start_time": "2021-06-14T10:27:22.048Z"
   },
   {
    "duration": 5,
    "start_time": "2021-06-14T10:27:23.444Z"
   },
   {
    "duration": 8,
    "start_time": "2021-06-14T10:27:36.392Z"
   },
   {
    "duration": 5,
    "start_time": "2021-06-14T10:27:40.958Z"
   },
   {
    "duration": 5,
    "start_time": "2021-06-14T10:33:09.627Z"
   },
   {
    "duration": 427,
    "start_time": "2021-06-14T10:33:17.369Z"
   },
   {
    "duration": 446,
    "start_time": "2021-06-14T10:33:44.398Z"
   },
   {
    "duration": 219,
    "start_time": "2021-06-14T10:33:51.833Z"
   },
   {
    "duration": 209,
    "start_time": "2021-06-14T10:34:09.313Z"
   },
   {
    "duration": 216,
    "start_time": "2021-06-14T10:34:24.020Z"
   },
   {
    "duration": 210,
    "start_time": "2021-06-14T10:34:41.962Z"
   },
   {
    "duration": 215,
    "start_time": "2021-06-14T10:34:54.641Z"
   },
   {
    "duration": 360,
    "start_time": "2021-06-14T10:35:06.876Z"
   },
   {
    "duration": 291,
    "start_time": "2021-06-14T10:35:16.151Z"
   },
   {
    "duration": 468,
    "start_time": "2021-06-14T10:38:37.067Z"
   },
   {
    "duration": 4,
    "start_time": "2021-06-14T10:38:52.809Z"
   },
   {
    "duration": 418,
    "start_time": "2021-06-14T10:38:57.136Z"
   },
   {
    "duration": 5,
    "start_time": "2021-06-14T10:39:44.012Z"
   },
   {
    "duration": 250,
    "start_time": "2021-06-14T10:39:48.518Z"
   },
   {
    "duration": 331,
    "start_time": "2021-06-14T10:40:46.570Z"
   },
   {
    "duration": 309,
    "start_time": "2021-06-14T10:41:04.099Z"
   },
   {
    "duration": 300,
    "start_time": "2021-06-14T10:41:43.996Z"
   },
   {
    "duration": 306,
    "start_time": "2021-06-14T10:41:48.903Z"
   },
   {
    "duration": 344,
    "start_time": "2021-06-14T10:41:56.449Z"
   },
   {
    "duration": 310,
    "start_time": "2021-06-14T10:43:54.000Z"
   },
   {
    "duration": 11,
    "start_time": "2021-06-14T10:43:55.975Z"
   },
   {
    "duration": 293,
    "start_time": "2021-06-14T10:44:54.425Z"
   },
   {
    "duration": 7648,
    "start_time": "2021-06-14T10:45:30.894Z"
   },
   {
    "duration": 7445,
    "start_time": "2021-06-14T10:46:17.960Z"
   },
   {
    "duration": 7668,
    "start_time": "2021-06-14T10:47:04.512Z"
   },
   {
    "duration": 66818,
    "start_time": "2021-06-14T10:47:22.461Z"
   },
   {
    "duration": 8755,
    "start_time": "2021-06-14T10:49:01.575Z"
   },
   {
    "duration": 1000,
    "start_time": "2021-06-14T10:49:41.534Z"
   },
   {
    "duration": 63,
    "start_time": "2021-06-14T10:49:53.179Z"
   },
   {
    "duration": 336,
    "start_time": "2021-06-14T10:51:10.145Z"
   },
   {
    "duration": 34,
    "start_time": "2021-06-14T10:51:40.595Z"
   },
   {
    "duration": 22,
    "start_time": "2021-06-14T10:54:12.488Z"
   },
   {
    "duration": 8,
    "start_time": "2021-06-14T10:54:13.124Z"
   },
   {
    "duration": 7,
    "start_time": "2021-06-14T10:54:14.239Z"
   },
   {
    "duration": 5,
    "start_time": "2021-06-14T10:54:15.364Z"
   },
   {
    "duration": 6,
    "start_time": "2021-06-14T10:54:15.983Z"
   },
   {
    "duration": 301,
    "start_time": "2021-06-14T10:54:48.808Z"
   },
   {
    "duration": 13,
    "start_time": "2021-06-14T10:54:57.553Z"
   },
   {
    "duration": 361,
    "start_time": "2021-06-14T10:56:50.254Z"
   },
   {
    "duration": 22,
    "start_time": "2021-06-14T10:57:00.071Z"
   },
   {
    "duration": 8,
    "start_time": "2021-06-14T10:57:00.520Z"
   },
   {
    "duration": 7,
    "start_time": "2021-06-14T10:57:01.047Z"
   },
   {
    "duration": 7,
    "start_time": "2021-06-14T10:57:01.927Z"
   },
   {
    "duration": 6,
    "start_time": "2021-06-14T10:57:02.512Z"
   },
   {
    "duration": 301,
    "start_time": "2021-06-14T10:57:04.812Z"
   },
   {
    "duration": 12,
    "start_time": "2021-06-14T10:57:06.352Z"
   },
   {
    "duration": 230,
    "start_time": "2021-06-14T10:57:08.186Z"
   },
   {
    "duration": 35,
    "start_time": "2021-06-14T10:57:26.035Z"
   },
   {
    "duration": 28,
    "start_time": "2021-06-14T10:57:46.653Z"
   },
   {
    "duration": 1085,
    "start_time": "2021-06-14T10:57:49.418Z"
   },
   {
    "duration": 813,
    "start_time": "2021-06-14T10:58:00.408Z"
   },
   {
    "duration": 82503,
    "start_time": "2021-06-14T10:58:24.486Z"
   },
   {
    "duration": 41,
    "start_time": "2021-06-14T11:00:12.323Z"
   },
   {
    "duration": 22,
    "start_time": "2021-06-14T11:02:48.854Z"
   },
   {
    "duration": 7,
    "start_time": "2021-06-14T11:02:57.336Z"
   },
   {
    "duration": 187,
    "start_time": "2021-06-14T11:02:57.346Z"
   },
   {
    "duration": 17,
    "start_time": "2021-06-14T11:02:57.537Z"
   },
   {
    "duration": 8,
    "start_time": "2021-06-14T11:02:57.557Z"
   },
   {
    "duration": 104,
    "start_time": "2021-06-14T11:02:57.568Z"
   },
   {
    "duration": 11,
    "start_time": "2021-06-14T11:02:57.675Z"
   },
   {
    "duration": 28,
    "start_time": "2021-06-14T11:02:57.688Z"
   },
   {
    "duration": 36,
    "start_time": "2021-06-14T11:02:57.718Z"
   },
   {
    "duration": 17,
    "start_time": "2021-06-14T11:02:57.758Z"
   },
   {
    "duration": 12,
    "start_time": "2021-06-14T11:02:57.778Z"
   },
   {
    "duration": 27,
    "start_time": "2021-06-14T11:02:57.793Z"
   },
   {
    "duration": 42,
    "start_time": "2021-06-14T11:02:57.822Z"
   },
   {
    "duration": 81,
    "start_time": "2021-06-14T11:02:57.866Z"
   },
   {
    "duration": 11,
    "start_time": "2021-06-14T11:02:57.949Z"
   },
   {
    "duration": 12,
    "start_time": "2021-06-14T11:02:57.962Z"
   },
   {
    "duration": 11,
    "start_time": "2021-06-14T11:02:57.977Z"
   },
   {
    "duration": 9,
    "start_time": "2021-06-14T11:02:58.008Z"
   },
   {
    "duration": 15,
    "start_time": "2021-06-14T11:02:58.020Z"
   },
   {
    "duration": 14,
    "start_time": "2021-06-14T11:02:58.037Z"
   },
   {
    "duration": 15,
    "start_time": "2021-06-14T11:02:58.053Z"
   },
   {
    "duration": 42,
    "start_time": "2021-06-14T11:02:58.070Z"
   },
   {
    "duration": 8,
    "start_time": "2021-06-14T11:02:58.115Z"
   },
   {
    "duration": 376,
    "start_time": "2021-06-14T11:02:58.125Z"
   },
   {
    "duration": 107,
    "start_time": "2021-06-14T11:02:58.503Z"
   },
   {
    "duration": 396,
    "start_time": "2021-06-14T11:02:58.614Z"
   },
   {
    "duration": 36,
    "start_time": "2021-06-14T11:02:59.013Z"
   },
   {
    "duration": 1011,
    "start_time": "2021-06-14T11:02:59.056Z"
   },
   {
    "duration": 74,
    "start_time": "2021-06-14T11:03:00.070Z"
   },
   {
    "duration": 9,
    "start_time": "2021-06-14T11:03:00.146Z"
   },
   {
    "duration": 23,
    "start_time": "2021-06-14T11:03:00.157Z"
   },
   {
    "duration": 41,
    "start_time": "2021-06-14T11:03:00.182Z"
   },
   {
    "duration": 19,
    "start_time": "2021-06-14T11:03:00.225Z"
   },
   {
    "duration": 22,
    "start_time": "2021-06-14T11:03:00.247Z"
   },
   {
    "duration": 26,
    "start_time": "2021-06-14T11:03:00.271Z"
   },
   {
    "duration": 31,
    "start_time": "2021-06-14T11:03:00.300Z"
   },
   {
    "duration": 27,
    "start_time": "2021-06-14T11:03:00.334Z"
   },
   {
    "duration": 41,
    "start_time": "2021-06-14T11:03:00.364Z"
   },
   {
    "duration": 19,
    "start_time": "2021-06-14T11:03:00.408Z"
   },
   {
    "duration": 383,
    "start_time": "2021-06-14T11:03:00.430Z"
   },
   {
    "duration": 10,
    "start_time": "2021-06-14T11:03:00.815Z"
   },
   {
    "duration": 459,
    "start_time": "2021-06-14T11:03:00.828Z"
   },
   {
    "duration": 42,
    "start_time": "2021-06-14T11:03:01.290Z"
   },
   {
    "duration": 107667,
    "start_time": "2021-06-14T11:03:01.334Z"
   },
   {
    "duration": 35,
    "start_time": "2021-06-14T11:04:49.008Z"
   },
   {
    "duration": 8,
    "start_time": "2021-06-14T11:05:44.126Z"
   },
   {
    "duration": 9,
    "start_time": "2021-06-14T11:05:44.798Z"
   },
   {
    "duration": 9,
    "start_time": "2021-06-14T11:06:30.966Z"
   },
   {
    "duration": 21,
    "start_time": "2021-06-14T11:07:03.500Z"
   },
   {
    "duration": 5,
    "start_time": "2021-06-14T11:07:33.732Z"
   },
   {
    "duration": 63,
    "start_time": "2021-06-14T11:07:33.739Z"
   },
   {
    "duration": 14,
    "start_time": "2021-06-14T11:07:33.805Z"
   },
   {
    "duration": 6,
    "start_time": "2021-06-14T11:07:33.822Z"
   },
   {
    "duration": 57,
    "start_time": "2021-06-14T11:07:33.830Z"
   },
   {
    "duration": 9,
    "start_time": "2021-06-14T11:07:33.909Z"
   },
   {
    "duration": 25,
    "start_time": "2021-06-14T11:07:33.921Z"
   },
   {
    "duration": 12,
    "start_time": "2021-06-14T11:07:33.949Z"
   },
   {
    "duration": 48,
    "start_time": "2021-06-14T11:07:33.966Z"
   },
   {
    "duration": 10,
    "start_time": "2021-06-14T11:07:34.017Z"
   },
   {
    "duration": 10,
    "start_time": "2021-06-14T11:07:34.030Z"
   },
   {
    "duration": 23,
    "start_time": "2021-06-14T11:07:34.043Z"
   },
   {
    "duration": 99,
    "start_time": "2021-06-14T11:07:34.068Z"
   },
   {
    "duration": 11,
    "start_time": "2021-06-14T11:07:34.169Z"
   },
   {
    "duration": 29,
    "start_time": "2021-06-14T11:07:34.182Z"
   },
   {
    "duration": 18,
    "start_time": "2021-06-14T11:07:34.214Z"
   },
   {
    "duration": 10,
    "start_time": "2021-06-14T11:07:34.235Z"
   },
   {
    "duration": 10,
    "start_time": "2021-06-14T11:07:34.248Z"
   },
   {
    "duration": 9,
    "start_time": "2021-06-14T11:07:34.261Z"
   },
   {
    "duration": 40,
    "start_time": "2021-06-14T11:07:34.272Z"
   },
   {
    "duration": 13,
    "start_time": "2021-06-14T11:07:34.314Z"
   },
   {
    "duration": 10,
    "start_time": "2021-06-14T11:07:34.330Z"
   },
   {
    "duration": 372,
    "start_time": "2021-06-14T11:07:34.342Z"
   },
   {
    "duration": 13,
    "start_time": "2021-06-14T11:07:34.717Z"
   },
   {
    "duration": 406,
    "start_time": "2021-06-14T11:07:34.809Z"
   },
   {
    "duration": 34,
    "start_time": "2021-06-14T11:07:35.218Z"
   },
   {
    "duration": 1023,
    "start_time": "2021-06-14T11:07:35.259Z"
   },
   {
    "duration": 77,
    "start_time": "2021-06-14T11:07:36.285Z"
   },
   {
    "duration": 8,
    "start_time": "2021-06-14T11:07:36.365Z"
   },
   {
    "duration": 8,
    "start_time": "2021-06-14T11:07:36.375Z"
   },
   {
    "duration": 6,
    "start_time": "2021-06-14T11:07:36.408Z"
   },
   {
    "duration": 14,
    "start_time": "2021-06-14T11:07:36.416Z"
   },
   {
    "duration": 7,
    "start_time": "2021-06-14T11:07:36.433Z"
   },
   {
    "duration": 22,
    "start_time": "2021-06-14T11:07:36.442Z"
   },
   {
    "duration": 45,
    "start_time": "2021-06-14T11:07:36.467Z"
   },
   {
    "duration": 7,
    "start_time": "2021-06-14T11:07:36.514Z"
   },
   {
    "duration": 14,
    "start_time": "2021-06-14T11:07:36.523Z"
   },
   {
    "duration": 411,
    "start_time": "2021-06-14T11:07:36.540Z"
   },
   {
    "duration": 58,
    "start_time": "2021-06-14T11:07:36.954Z"
   },
   {
    "duration": 382,
    "start_time": "2021-06-14T11:07:37.016Z"
   },
   {
    "duration": 38,
    "start_time": "2021-06-14T11:07:37.400Z"
   },
   {
    "duration": 96454,
    "start_time": "2021-06-14T11:07:37.440Z"
   },
   {
    "duration": 26,
    "start_time": "2021-06-14T11:09:13.896Z"
   },
   {
    "duration": 5,
    "start_time": "2021-06-14T11:09:37.573Z"
   },
   {
    "duration": 62,
    "start_time": "2021-06-14T11:09:37.580Z"
   },
   {
    "duration": 13,
    "start_time": "2021-06-14T11:09:37.644Z"
   },
   {
    "duration": 22,
    "start_time": "2021-06-14T11:09:37.660Z"
   },
   {
    "duration": 63,
    "start_time": "2021-06-14T11:09:37.685Z"
   },
   {
    "duration": 8,
    "start_time": "2021-06-14T11:09:37.750Z"
   },
   {
    "duration": 24,
    "start_time": "2021-06-14T11:09:37.761Z"
   },
   {
    "duration": 22,
    "start_time": "2021-06-14T11:09:37.789Z"
   },
   {
    "duration": 12,
    "start_time": "2021-06-14T11:09:37.814Z"
   },
   {
    "duration": 9,
    "start_time": "2021-06-14T11:09:37.828Z"
   },
   {
    "duration": 16,
    "start_time": "2021-06-14T11:09:37.840Z"
   },
   {
    "duration": 59,
    "start_time": "2021-06-14T11:09:37.858Z"
   },
   {
    "duration": 103,
    "start_time": "2021-06-14T11:09:37.919Z"
   },
   {
    "duration": 11,
    "start_time": "2021-06-14T11:09:38.024Z"
   },
   {
    "duration": 11,
    "start_time": "2021-06-14T11:09:38.037Z"
   },
   {
    "duration": 11,
    "start_time": "2021-06-14T11:09:38.050Z"
   },
   {
    "duration": 48,
    "start_time": "2021-06-14T11:09:38.063Z"
   },
   {
    "duration": 9,
    "start_time": "2021-06-14T11:09:38.113Z"
   },
   {
    "duration": 16,
    "start_time": "2021-06-14T11:09:38.124Z"
   },
   {
    "duration": 24,
    "start_time": "2021-06-14T11:09:38.142Z"
   },
   {
    "duration": 11,
    "start_time": "2021-06-14T11:09:38.169Z"
   },
   {
    "duration": 8,
    "start_time": "2021-06-14T11:09:38.182Z"
   },
   {
    "duration": 315,
    "start_time": "2021-06-14T11:09:38.195Z"
   },
   {
    "duration": 14,
    "start_time": "2021-06-14T11:09:38.513Z"
   },
   {
    "duration": 404,
    "start_time": "2021-06-14T11:09:38.611Z"
   },
   {
    "duration": 33,
    "start_time": "2021-06-14T11:09:39.018Z"
   },
   {
    "duration": 1012,
    "start_time": "2021-06-14T11:09:39.053Z"
   },
   {
    "duration": 74,
    "start_time": "2021-06-14T11:09:40.067Z"
   },
   {
    "duration": 8,
    "start_time": "2021-06-14T11:09:40.143Z"
   },
   {
    "duration": 11,
    "start_time": "2021-06-14T11:09:40.153Z"
   },
   {
    "duration": 44,
    "start_time": "2021-06-14T11:09:40.167Z"
   },
   {
    "duration": 9,
    "start_time": "2021-06-14T11:09:40.213Z"
   },
   {
    "duration": 13,
    "start_time": "2021-06-14T11:09:40.224Z"
   },
   {
    "duration": 27,
    "start_time": "2021-06-14T11:09:40.240Z"
   },
   {
    "duration": 41,
    "start_time": "2021-06-14T11:09:40.269Z"
   },
   {
    "duration": 7,
    "start_time": "2021-06-14T11:09:40.313Z"
   },
   {
    "duration": 17,
    "start_time": "2021-06-14T11:09:40.323Z"
   },
   {
    "duration": 367,
    "start_time": "2021-06-14T11:09:40.343Z"
   },
   {
    "duration": 98,
    "start_time": "2021-06-14T11:09:40.712Z"
   },
   {
    "duration": 417,
    "start_time": "2021-06-14T11:09:40.813Z"
   },
   {
    "duration": 37,
    "start_time": "2021-06-14T11:09:41.233Z"
   },
   {
    "duration": 109788,
    "start_time": "2021-06-14T11:09:41.273Z"
   },
   {
    "duration": 76,
    "start_time": "2021-06-14T11:11:31.063Z"
   },
   {
    "duration": 24,
    "start_time": "2021-06-14T11:12:26.422Z"
   },
   {
    "duration": 5,
    "start_time": "2021-06-14T11:12:32.602Z"
   },
   {
    "duration": 62,
    "start_time": "2021-06-14T11:12:32.609Z"
   },
   {
    "duration": 37,
    "start_time": "2021-06-14T11:12:32.674Z"
   },
   {
    "duration": 6,
    "start_time": "2021-06-14T11:12:32.714Z"
   },
   {
    "duration": 67,
    "start_time": "2021-06-14T11:12:32.722Z"
   },
   {
    "duration": 21,
    "start_time": "2021-06-14T11:12:32.791Z"
   },
   {
    "duration": 18,
    "start_time": "2021-06-14T11:12:32.814Z"
   },
   {
    "duration": 9,
    "start_time": "2021-06-14T11:12:32.834Z"
   },
   {
    "duration": 30,
    "start_time": "2021-06-14T11:12:32.848Z"
   },
   {
    "duration": 30,
    "start_time": "2021-06-14T11:12:32.881Z"
   },
   {
    "duration": 20,
    "start_time": "2021-06-14T11:12:32.913Z"
   },
   {
    "duration": 23,
    "start_time": "2021-06-14T11:12:32.936Z"
   },
   {
    "duration": 86,
    "start_time": "2021-06-14T11:12:32.961Z"
   },
   {
    "duration": 12,
    "start_time": "2021-06-14T11:12:33.049Z"
   },
   {
    "duration": 7,
    "start_time": "2021-06-14T11:12:33.064Z"
   },
   {
    "duration": 42,
    "start_time": "2021-06-14T11:12:33.073Z"
   },
   {
    "duration": 10,
    "start_time": "2021-06-14T11:12:33.117Z"
   },
   {
    "duration": 14,
    "start_time": "2021-06-14T11:12:33.130Z"
   },
   {
    "duration": 12,
    "start_time": "2021-06-14T11:12:33.146Z"
   },
   {
    "duration": 50,
    "start_time": "2021-06-14T11:12:33.160Z"
   },
   {
    "duration": 19,
    "start_time": "2021-06-14T11:12:33.213Z"
   },
   {
    "duration": 18,
    "start_time": "2021-06-14T11:12:33.234Z"
   },
   {
    "duration": 365,
    "start_time": "2021-06-14T11:12:33.255Z"
   },
   {
    "duration": 87,
    "start_time": "2021-06-14T11:12:33.622Z"
   },
   {
    "duration": 400,
    "start_time": "2021-06-14T11:12:33.714Z"
   },
   {
    "duration": 33,
    "start_time": "2021-06-14T11:12:34.117Z"
   },
   {
    "duration": 1023,
    "start_time": "2021-06-14T11:12:34.155Z"
   },
   {
    "duration": 74,
    "start_time": "2021-06-14T11:12:35.181Z"
   },
   {
    "duration": 9,
    "start_time": "2021-06-14T11:12:35.257Z"
   },
   {
    "duration": 9,
    "start_time": "2021-06-14T11:12:35.268Z"
   },
   {
    "duration": 44,
    "start_time": "2021-06-14T11:12:35.279Z"
   },
   {
    "duration": 9,
    "start_time": "2021-06-14T11:12:35.325Z"
   },
   {
    "duration": 12,
    "start_time": "2021-06-14T11:12:35.336Z"
   },
   {
    "duration": 30,
    "start_time": "2021-06-14T11:12:35.351Z"
   },
   {
    "duration": 9,
    "start_time": "2021-06-14T11:12:35.410Z"
   },
   {
    "duration": 10,
    "start_time": "2021-06-14T11:12:35.421Z"
   },
   {
    "duration": 10,
    "start_time": "2021-06-14T11:12:35.433Z"
   },
   {
    "duration": 365,
    "start_time": "2021-06-14T11:12:35.445Z"
   },
   {
    "duration": 13,
    "start_time": "2021-06-14T11:12:35.813Z"
   },
   {
    "duration": 489,
    "start_time": "2021-06-14T11:12:35.829Z"
   },
   {
    "duration": 37,
    "start_time": "2021-06-14T11:12:36.321Z"
   },
   {
    "duration": 105293,
    "start_time": "2021-06-14T11:12:36.361Z"
   },
   {
    "duration": 99,
    "start_time": "2021-06-14T11:14:21.657Z"
   },
   {
    "duration": 20,
    "start_time": "2021-06-14T11:14:38.708Z"
   },
   {
    "duration": 8,
    "start_time": "2021-06-14T11:14:40.255Z"
   },
   {
    "duration": 8,
    "start_time": "2021-06-14T11:14:40.942Z"
   },
   {
    "duration": 22,
    "start_time": "2021-06-14T11:14:41.952Z"
   },
   {
    "duration": 8,
    "start_time": "2021-06-14T11:14:42.688Z"
   },
   {
    "duration": 8,
    "start_time": "2021-06-14T11:14:45.161Z"
   },
   {
    "duration": 8,
    "start_time": "2021-06-14T11:14:45.873Z"
   },
   {
    "duration": 4,
    "start_time": "2021-06-14T11:15:23.494Z"
   },
   {
    "duration": 71,
    "start_time": "2021-06-14T11:15:23.501Z"
   },
   {
    "duration": 13,
    "start_time": "2021-06-14T11:15:23.575Z"
   },
   {
    "duration": 24,
    "start_time": "2021-06-14T11:15:23.590Z"
   },
   {
    "duration": 66,
    "start_time": "2021-06-14T11:15:23.618Z"
   },
   {
    "duration": 29,
    "start_time": "2021-06-14T11:15:23.686Z"
   },
   {
    "duration": 17,
    "start_time": "2021-06-14T11:15:23.719Z"
   },
   {
    "duration": 14,
    "start_time": "2021-06-14T11:15:23.739Z"
   },
   {
    "duration": 13,
    "start_time": "2021-06-14T11:15:23.758Z"
   },
   {
    "duration": 44,
    "start_time": "2021-06-14T11:15:23.773Z"
   },
   {
    "duration": 29,
    "start_time": "2021-06-14T11:15:23.821Z"
   },
   {
    "duration": 30,
    "start_time": "2021-06-14T11:15:23.853Z"
   },
   {
    "duration": 91,
    "start_time": "2021-06-14T11:15:23.886Z"
   },
   {
    "duration": 10,
    "start_time": "2021-06-14T11:15:23.980Z"
   },
   {
    "duration": 17,
    "start_time": "2021-06-14T11:15:23.993Z"
   },
   {
    "duration": 17,
    "start_time": "2021-06-14T11:15:24.013Z"
   },
   {
    "duration": 16,
    "start_time": "2021-06-14T11:15:24.033Z"
   },
   {
    "duration": 15,
    "start_time": "2021-06-14T11:15:24.051Z"
   },
   {
    "duration": 23,
    "start_time": "2021-06-14T11:15:24.068Z"
   },
   {
    "duration": 8,
    "start_time": "2021-06-14T11:15:24.111Z"
   },
   {
    "duration": 17,
    "start_time": "2021-06-14T11:15:24.123Z"
   },
   {
    "duration": 14,
    "start_time": "2021-06-14T11:15:24.142Z"
   },
   {
    "duration": 355,
    "start_time": "2021-06-14T11:15:24.158Z"
   },
   {
    "duration": 89,
    "start_time": "2021-06-14T11:15:24.524Z"
   },
   {
    "duration": 406,
    "start_time": "2021-06-14T11:15:24.616Z"
   },
   {
    "duration": 34,
    "start_time": "2021-06-14T11:15:25.026Z"
   },
   {
    "duration": 1071,
    "start_time": "2021-06-14T11:15:25.065Z"
   },
   {
    "duration": 82,
    "start_time": "2021-06-14T11:15:26.138Z"
   },
   {
    "duration": 8,
    "start_time": "2021-06-14T11:15:26.224Z"
   },
   {
    "duration": 8,
    "start_time": "2021-06-14T11:15:26.234Z"
   },
   {
    "duration": 594,
    "start_time": "2021-06-14T11:15:26.244Z"
   },
   {
    "duration": -729,
    "start_time": "2021-06-14T11:15:27.570Z"
   },
   {
    "duration": -755,
    "start_time": "2021-06-14T11:15:27.597Z"
   },
   {
    "duration": -757,
    "start_time": "2021-06-14T11:15:27.600Z"
   },
   {
    "duration": -758,
    "start_time": "2021-06-14T11:15:27.602Z"
   },
   {
    "duration": -758,
    "start_time": "2021-06-14T11:15:27.604Z"
   },
   {
    "duration": -760,
    "start_time": "2021-06-14T11:15:27.607Z"
   },
   {
    "duration": -768,
    "start_time": "2021-06-14T11:15:27.616Z"
   },
   {
    "duration": -770,
    "start_time": "2021-06-14T11:15:27.619Z"
   },
   {
    "duration": -770,
    "start_time": "2021-06-14T11:15:27.621Z"
   },
   {
    "duration": -771,
    "start_time": "2021-06-14T11:15:27.623Z"
   },
   {
    "duration": -780,
    "start_time": "2021-06-14T11:15:27.633Z"
   },
   {
    "duration": -781,
    "start_time": "2021-06-14T11:15:27.635Z"
   },
   {
    "duration": 5,
    "start_time": "2021-06-14T11:15:58.345Z"
   },
   {
    "duration": 83,
    "start_time": "2021-06-14T11:15:58.352Z"
   },
   {
    "duration": 12,
    "start_time": "2021-06-14T11:15:58.438Z"
   },
   {
    "duration": 8,
    "start_time": "2021-06-14T11:15:58.453Z"
   },
   {
    "duration": 107,
    "start_time": "2021-06-14T11:15:58.464Z"
   },
   {
    "duration": 8,
    "start_time": "2021-06-14T11:15:58.574Z"
   },
   {
    "duration": 30,
    "start_time": "2021-06-14T11:15:58.585Z"
   },
   {
    "duration": 9,
    "start_time": "2021-06-14T11:15:58.620Z"
   },
   {
    "duration": 15,
    "start_time": "2021-06-14T11:15:58.632Z"
   },
   {
    "duration": 9,
    "start_time": "2021-06-14T11:15:58.649Z"
   },
   {
    "duration": 9,
    "start_time": "2021-06-14T11:15:58.660Z"
   },
   {
    "duration": 67,
    "start_time": "2021-06-14T11:15:58.671Z"
   },
   {
    "duration": 82,
    "start_time": "2021-06-14T11:15:58.740Z"
   },
   {
    "duration": 12,
    "start_time": "2021-06-14T11:15:58.825Z"
   },
   {
    "duration": 8,
    "start_time": "2021-06-14T11:15:58.839Z"
   },
   {
    "duration": 16,
    "start_time": "2021-06-14T11:15:58.849Z"
   },
   {
    "duration": 16,
    "start_time": "2021-06-14T11:15:58.867Z"
   },
   {
    "duration": 12,
    "start_time": "2021-06-14T11:15:58.913Z"
   },
   {
    "duration": 19,
    "start_time": "2021-06-14T11:15:58.928Z"
   },
   {
    "duration": 12,
    "start_time": "2021-06-14T11:15:58.950Z"
   },
   {
    "duration": 14,
    "start_time": "2021-06-14T11:15:58.965Z"
   },
   {
    "duration": 7,
    "start_time": "2021-06-14T11:15:58.981Z"
   },
   {
    "duration": 326,
    "start_time": "2021-06-14T11:15:58.994Z"
   },
   {
    "duration": 99,
    "start_time": "2021-06-14T11:15:59.325Z"
   },
   {
    "duration": 407,
    "start_time": "2021-06-14T11:15:59.430Z"
   },
   {
    "duration": 36,
    "start_time": "2021-06-14T11:15:59.840Z"
   },
   {
    "duration": 1076,
    "start_time": "2021-06-14T11:15:59.879Z"
   },
   {
    "duration": 83,
    "start_time": "2021-06-14T11:16:00.958Z"
   },
   {
    "duration": 11,
    "start_time": "2021-06-14T11:16:01.044Z"
   },
   {
    "duration": 13,
    "start_time": "2021-06-14T11:16:01.058Z"
   },
   {
    "duration": 54,
    "start_time": "2021-06-14T11:16:01.074Z"
   },
   {
    "duration": 9,
    "start_time": "2021-06-14T11:16:01.130Z"
   },
   {
    "duration": 13,
    "start_time": "2021-06-14T11:16:01.141Z"
   },
   {
    "duration": 26,
    "start_time": "2021-06-14T11:16:01.156Z"
   },
   {
    "duration": 42,
    "start_time": "2021-06-14T11:16:01.184Z"
   },
   {
    "duration": 9,
    "start_time": "2021-06-14T11:16:01.229Z"
   },
   {
    "duration": 27,
    "start_time": "2021-06-14T11:16:01.240Z"
   },
   {
    "duration": 345,
    "start_time": "2021-06-14T11:16:01.269Z"
   },
   {
    "duration": 11,
    "start_time": "2021-06-14T11:16:01.618Z"
   },
   {
    "duration": 513,
    "start_time": "2021-06-14T11:16:01.635Z"
   },
   {
    "duration": 39,
    "start_time": "2021-06-14T11:16:02.150Z"
   },
   {
    "duration": 119387,
    "start_time": "2021-06-14T11:16:02.191Z"
   },
   {
    "duration": 89,
    "start_time": "2021-06-14T11:18:01.581Z"
   },
   {
    "duration": 23,
    "start_time": "2021-06-14T11:18:16.876Z"
   },
   {
    "duration": 8,
    "start_time": "2021-06-14T11:18:19.239Z"
   },
   {
    "duration": 8,
    "start_time": "2021-06-14T11:18:19.917Z"
   },
   {
    "duration": 13,
    "start_time": "2021-06-14T11:18:20.607Z"
   },
   {
    "duration": 48,
    "start_time": "2021-06-14T11:18:31.308Z"
   },
   {
    "duration": 36,
    "start_time": "2021-06-14T11:18:31.360Z"
   },
   {
    "duration": 8,
    "start_time": "2021-06-14T11:18:32.054Z"
   },
   {
    "duration": 8,
    "start_time": "2021-06-14T11:18:32.684Z"
   },
   {
    "duration": 5,
    "start_time": "2021-06-14T11:18:49.332Z"
   },
   {
    "duration": 79,
    "start_time": "2021-06-14T11:18:49.340Z"
   },
   {
    "duration": 13,
    "start_time": "2021-06-14T11:18:49.423Z"
   },
   {
    "duration": 6,
    "start_time": "2021-06-14T11:18:49.439Z"
   },
   {
    "duration": 80,
    "start_time": "2021-06-14T11:18:49.447Z"
   },
   {
    "duration": 9,
    "start_time": "2021-06-14T11:18:49.529Z"
   },
   {
    "duration": 13,
    "start_time": "2021-06-14T11:18:49.540Z"
   },
   {
    "duration": 8,
    "start_time": "2021-06-14T11:18:49.556Z"
   },
   {
    "duration": 48,
    "start_time": "2021-06-14T11:18:49.567Z"
   },
   {
    "duration": 10,
    "start_time": "2021-06-14T11:18:49.618Z"
   },
   {
    "duration": 13,
    "start_time": "2021-06-14T11:18:49.630Z"
   },
   {
    "duration": 23,
    "start_time": "2021-06-14T11:18:49.645Z"
   },
   {
    "duration": 99,
    "start_time": "2021-06-14T11:18:49.670Z"
   },
   {
    "duration": 10,
    "start_time": "2021-06-14T11:18:49.771Z"
   },
   {
    "duration": 8,
    "start_time": "2021-06-14T11:18:49.784Z"
   },
   {
    "duration": 13,
    "start_time": "2021-06-14T11:18:49.814Z"
   },
   {
    "duration": 11,
    "start_time": "2021-06-14T11:18:49.829Z"
   },
   {
    "duration": 10,
    "start_time": "2021-06-14T11:18:49.843Z"
   },
   {
    "duration": 18,
    "start_time": "2021-06-14T11:18:49.855Z"
   },
   {
    "duration": 40,
    "start_time": "2021-06-14T11:18:49.875Z"
   },
   {
    "duration": 10,
    "start_time": "2021-06-14T11:18:49.919Z"
   },
   {
    "duration": 8,
    "start_time": "2021-06-14T11:18:49.931Z"
   },
   {
    "duration": 369,
    "start_time": "2021-06-14T11:18:49.944Z"
   },
   {
    "duration": 19,
    "start_time": "2021-06-14T11:18:50.318Z"
   },
   {
    "duration": 414,
    "start_time": "2021-06-14T11:18:50.410Z"
   },
   {
    "duration": 35,
    "start_time": "2021-06-14T11:18:50.827Z"
   },
   {
    "duration": 1064,
    "start_time": "2021-06-14T11:18:50.864Z"
   },
   {
    "duration": 60,
    "start_time": "2021-06-14T11:18:51.930Z"
   },
   {
    "duration": 9,
    "start_time": "2021-06-14T11:18:52.009Z"
   },
   {
    "duration": 17,
    "start_time": "2021-06-14T11:18:52.030Z"
   },
   {
    "duration": 18,
    "start_time": "2021-06-14T11:18:52.050Z"
   },
   {
    "duration": 8,
    "start_time": "2021-06-14T11:18:52.070Z"
   },
   {
    "duration": 45,
    "start_time": "2021-06-14T11:18:52.080Z"
   },
   {
    "duration": 30,
    "start_time": "2021-06-14T11:18:52.127Z"
   },
   {
    "duration": 8,
    "start_time": "2021-06-14T11:18:52.159Z"
   },
   {
    "duration": 7,
    "start_time": "2021-06-14T11:18:52.169Z"
   },
   {
    "duration": 47,
    "start_time": "2021-06-14T11:18:52.178Z"
   },
   {
    "duration": 403,
    "start_time": "2021-06-14T11:18:52.227Z"
   },
   {
    "duration": 13,
    "start_time": "2021-06-14T11:18:52.632Z"
   },
   {
    "duration": 448,
    "start_time": "2021-06-14T11:18:52.709Z"
   },
   {
    "duration": 36,
    "start_time": "2021-06-14T11:18:53.159Z"
   },
   {
    "duration": 116378,
    "start_time": "2021-06-14T11:18:53.198Z"
   },
   {
    "duration": 79,
    "start_time": "2021-06-14T11:20:49.578Z"
   },
   {
    "duration": 1300,
    "start_time": "2021-06-14T11:21:49.660Z"
   },
   {
    "duration": 1216,
    "start_time": "2021-06-14T11:22:57.820Z"
   },
   {
    "duration": 9,
    "start_time": "2021-06-14T11:23:27.095Z"
   },
   {
    "duration": 120,
    "start_time": "2021-06-14T11:25:16.598Z"
   },
   {
    "duration": 343,
    "start_time": "2021-06-14T11:25:23.590Z"
   },
   {
    "duration": 478,
    "start_time": "2021-06-14T11:29:10.400Z"
   },
   {
    "duration": 502,
    "start_time": "2021-06-14T11:29:48.645Z"
   },
   {
    "duration": 1274,
    "start_time": "2021-06-14T11:30:01.626Z"
   },
   {
    "duration": 465,
    "start_time": "2021-06-14T11:30:04.111Z"
   },
   {
    "duration": 77,
    "start_time": "2021-06-14T11:30:25.469Z"
   },
   {
    "duration": 1552,
    "start_time": "2021-06-14T11:32:19.930Z"
   },
   {
    "duration": 1153,
    "start_time": "2021-06-14T11:33:15.484Z"
   },
   {
    "duration": 1153,
    "start_time": "2021-06-14T11:34:11.306Z"
   },
   {
    "duration": 8,
    "start_time": "2021-06-14T11:34:12.462Z"
   },
   {
    "duration": 75,
    "start_time": "2021-06-14T11:34:13.458Z"
   },
   {
    "duration": 442,
    "start_time": "2021-06-14T11:34:14.481Z"
   },
   {
    "duration": 290,
    "start_time": "2021-06-14T11:34:49.942Z"
   },
   {
    "duration": 5,
    "start_time": "2021-06-14T11:34:58.601Z"
   },
   {
    "duration": 72,
    "start_time": "2021-06-14T11:34:58.609Z"
   },
   {
    "duration": 35,
    "start_time": "2021-06-14T11:34:58.684Z"
   },
   {
    "duration": 8,
    "start_time": "2021-06-14T11:34:58.722Z"
   },
   {
    "duration": 94,
    "start_time": "2021-06-14T11:34:58.733Z"
   },
   {
    "duration": 9,
    "start_time": "2021-06-14T11:34:58.829Z"
   },
   {
    "duration": 20,
    "start_time": "2021-06-14T11:34:58.840Z"
   },
   {
    "duration": 13,
    "start_time": "2021-06-14T11:34:58.863Z"
   },
   {
    "duration": 35,
    "start_time": "2021-06-14T11:34:58.880Z"
   },
   {
    "duration": 18,
    "start_time": "2021-06-14T11:34:58.918Z"
   },
   {
    "duration": 16,
    "start_time": "2021-06-14T11:34:58.939Z"
   },
   {
    "duration": 25,
    "start_time": "2021-06-14T11:34:58.957Z"
   },
   {
    "duration": 89,
    "start_time": "2021-06-14T11:34:58.985Z"
   },
   {
    "duration": 11,
    "start_time": "2021-06-14T11:34:59.076Z"
   },
   {
    "duration": 24,
    "start_time": "2021-06-14T11:34:59.090Z"
   },
   {
    "duration": 9,
    "start_time": "2021-06-14T11:34:59.116Z"
   },
   {
    "duration": 9,
    "start_time": "2021-06-14T11:34:59.128Z"
   },
   {
    "duration": 8,
    "start_time": "2021-06-14T11:34:59.139Z"
   },
   {
    "duration": 10,
    "start_time": "2021-06-14T11:34:59.149Z"
   },
   {
    "duration": 52,
    "start_time": "2021-06-14T11:34:59.161Z"
   },
   {
    "duration": 11,
    "start_time": "2021-06-14T11:34:59.215Z"
   },
   {
    "duration": 6,
    "start_time": "2021-06-14T11:34:59.228Z"
   },
   {
    "duration": 350,
    "start_time": "2021-06-14T11:34:59.237Z"
   },
   {
    "duration": 32,
    "start_time": "2021-06-14T11:34:59.589Z"
   },
   {
    "duration": 398,
    "start_time": "2021-06-14T11:34:59.711Z"
   },
   {
    "duration": 34,
    "start_time": "2021-06-14T11:35:00.112Z"
   },
   {
    "duration": 1128,
    "start_time": "2021-06-14T11:35:00.151Z"
   },
   {
    "duration": 74,
    "start_time": "2021-06-14T11:35:01.282Z"
   },
   {
    "duration": 359,
    "start_time": "2021-06-14T11:35:01.358Z"
   },
   {
    "duration": 9,
    "start_time": "2021-06-14T11:35:01.719Z"
   },
   {
    "duration": 45,
    "start_time": "2021-06-14T11:35:01.730Z"
   },
   {
    "duration": 92,
    "start_time": "2021-06-14T11:35:01.777Z"
   },
   {
    "duration": 172,
    "start_time": "2021-06-14T11:35:01.871Z"
   },
   {
    "duration": 128,
    "start_time": "2021-06-14T11:35:02.045Z"
   },
   {
    "duration": 130,
    "start_time": "2021-06-14T11:35:02.175Z"
   },
   {
    "duration": 8,
    "start_time": "2021-06-14T11:35:02.308Z"
   },
   {
    "duration": 138,
    "start_time": "2021-06-14T11:35:02.318Z"
   },
   {
    "duration": 70,
    "start_time": "2021-06-14T11:35:02.459Z"
   },
   {
    "duration": 344,
    "start_time": "2021-06-14T11:35:02.531Z"
   },
   {
    "duration": 37,
    "start_time": "2021-06-14T11:35:02.877Z"
   },
   {
    "duration": 461,
    "start_time": "2021-06-14T11:35:02.917Z"
   },
   {
    "duration": 57,
    "start_time": "2021-06-14T11:35:03.380Z"
   },
   {
    "duration": 1170,
    "start_time": "2021-06-14T11:35:03.440Z"
   },
   {
    "duration": 65,
    "start_time": "2021-06-14T11:35:04.613Z"
   },
   {
    "duration": 1182,
    "start_time": "2021-06-14T11:35:04.681Z"
   },
   {
    "duration": 418,
    "start_time": "2021-06-14T11:35:05.865Z"
   },
   {
    "duration": -764,
    "start_time": "2021-06-14T11:35:07.050Z"
   },
   {
    "duration": -767,
    "start_time": "2021-06-14T11:35:07.054Z"
   },
   {
    "duration": 8,
    "start_time": "2021-06-14T11:35:55.202Z"
   },
   {
    "duration": 74,
    "start_time": "2021-06-14T11:35:58.248Z"
   },
   {
    "duration": 304,
    "start_time": "2021-06-14T11:36:01.012Z"
   },
   {
    "duration": 75,
    "start_time": "2021-06-14T11:37:04.411Z"
   },
   {
    "duration": 1154,
    "start_time": "2021-06-14T11:37:08.510Z"
   },
   {
    "duration": 8,
    "start_time": "2021-06-14T11:37:10.282Z"
   },
   {
    "duration": 76,
    "start_time": "2021-06-14T11:37:11.402Z"
   },
   {
    "duration": 390,
    "start_time": "2021-06-14T11:37:12.477Z"
   },
   {
    "duration": 65,
    "start_time": "2021-06-14T11:37:59.562Z"
   },
   {
    "duration": 288,
    "start_time": "2021-06-14T11:39:43.780Z"
   },
   {
    "duration": 6,
    "start_time": "2021-06-14T11:40:03.156Z"
   },
   {
    "duration": 83,
    "start_time": "2021-06-14T11:40:03.166Z"
   },
   {
    "duration": 15,
    "start_time": "2021-06-14T11:40:03.253Z"
   },
   {
    "duration": 38,
    "start_time": "2021-06-14T11:40:03.271Z"
   },
   {
    "duration": 64,
    "start_time": "2021-06-14T11:40:03.312Z"
   },
   {
    "duration": 9,
    "start_time": "2021-06-14T11:40:03.378Z"
   },
   {
    "duration": 34,
    "start_time": "2021-06-14T11:40:03.390Z"
   },
   {
    "duration": 20,
    "start_time": "2021-06-14T11:40:03.426Z"
   },
   {
    "duration": 12,
    "start_time": "2021-06-14T11:40:03.450Z"
   },
   {
    "duration": 23,
    "start_time": "2021-06-14T11:40:03.464Z"
   },
   {
    "duration": 40,
    "start_time": "2021-06-14T11:40:03.489Z"
   },
   {
    "duration": 28,
    "start_time": "2021-06-14T11:40:03.531Z"
   },
   {
    "duration": 67,
    "start_time": "2021-06-14T11:40:03.561Z"
   },
   {
    "duration": 11,
    "start_time": "2021-06-14T11:40:03.630Z"
   },
   {
    "duration": 35,
    "start_time": "2021-06-14T11:40:03.643Z"
   },
   {
    "duration": 21,
    "start_time": "2021-06-14T11:40:03.680Z"
   },
   {
    "duration": 34,
    "start_time": "2021-06-14T11:40:03.704Z"
   },
   {
    "duration": 48,
    "start_time": "2021-06-14T11:40:03.740Z"
   },
   {
    "duration": 24,
    "start_time": "2021-06-14T11:40:03.790Z"
   },
   {
    "duration": 16,
    "start_time": "2021-06-14T11:40:03.816Z"
   },
   {
    "duration": 19,
    "start_time": "2021-06-14T11:40:03.835Z"
   },
   {
    "duration": 25,
    "start_time": "2021-06-14T11:40:03.856Z"
   },
   {
    "duration": 334,
    "start_time": "2021-06-14T11:40:03.884Z"
   },
   {
    "duration": 12,
    "start_time": "2021-06-14T11:40:04.220Z"
   },
   {
    "duration": 481,
    "start_time": "2021-06-14T11:40:04.235Z"
   },
   {
    "duration": 34,
    "start_time": "2021-06-14T11:40:04.718Z"
   },
   {
    "duration": 1017,
    "start_time": "2021-06-14T11:40:04.758Z"
   },
   {
    "duration": 69,
    "start_time": "2021-06-14T11:40:05.778Z"
   },
   {
    "duration": 365,
    "start_time": "2021-06-14T11:40:05.850Z"
   },
   {
    "duration": 10,
    "start_time": "2021-06-14T11:40:06.217Z"
   },
   {
    "duration": 12,
    "start_time": "2021-06-14T11:40:06.230Z"
   },
   {
    "duration": 41,
    "start_time": "2021-06-14T11:40:06.244Z"
   },
   {
    "duration": 23,
    "start_time": "2021-06-14T11:40:06.288Z"
   },
   {
    "duration": 9,
    "start_time": "2021-06-14T11:40:06.314Z"
   },
   {
    "duration": 23,
    "start_time": "2021-06-14T11:40:06.326Z"
   },
   {
    "duration": 8,
    "start_time": "2021-06-14T11:40:06.352Z"
   },
   {
    "duration": 47,
    "start_time": "2021-06-14T11:40:06.363Z"
   },
   {
    "duration": 8,
    "start_time": "2021-06-14T11:40:06.413Z"
   },
   {
    "duration": 249,
    "start_time": "2021-06-14T11:40:06.424Z"
   },
   {
    "duration": 45,
    "start_time": "2021-06-14T11:40:06.675Z"
   },
   {
    "duration": 492,
    "start_time": "2021-06-14T11:40:06.724Z"
   },
   {
    "duration": 36,
    "start_time": "2021-06-14T11:40:07.218Z"
   },
   {
    "duration": 1175,
    "start_time": "2021-06-14T11:40:07.257Z"
   },
   {
    "duration": 76,
    "start_time": "2021-06-14T11:40:08.434Z"
   },
   {
    "duration": 1143,
    "start_time": "2021-06-14T11:40:08.513Z"
   },
   {
    "duration": 8,
    "start_time": "2021-06-14T11:40:09.658Z"
   },
   {
    "duration": 96,
    "start_time": "2021-06-14T11:40:09.669Z"
   },
   {
    "duration": 309,
    "start_time": "2021-06-14T11:40:09.768Z"
   },
   {
    "duration": 513,
    "start_time": "2021-06-14T11:45:09.674Z"
   },
   {
    "duration": 607,
    "start_time": "2021-06-14T11:45:16.234Z"
   },
   {
    "duration": 382,
    "start_time": "2021-06-14T11:45:42.182Z"
   },
   {
    "duration": 348,
    "start_time": "2021-06-14T11:46:23.097Z"
   },
   {
    "duration": 584,
    "start_time": "2021-06-14T11:46:56.937Z"
   },
   {
    "duration": 62,
    "start_time": "2021-06-14T11:53:46.214Z"
   },
   {
    "duration": 411,
    "start_time": "2021-06-14T11:53:47.039Z"
   },
   {
    "duration": 5,
    "start_time": "2021-06-14T11:55:23.095Z"
   },
   {
    "duration": 59,
    "start_time": "2021-06-14T11:55:23.102Z"
   },
   {
    "duration": 11,
    "start_time": "2021-06-14T11:55:23.164Z"
   },
   {
    "duration": 9,
    "start_time": "2021-06-14T11:55:23.178Z"
   },
   {
    "duration": 148,
    "start_time": "2021-06-14T11:55:23.209Z"
   },
   {
    "duration": 8,
    "start_time": "2021-06-14T11:55:23.359Z"
   },
   {
    "duration": 17,
    "start_time": "2021-06-14T11:55:23.370Z"
   },
   {
    "duration": 9,
    "start_time": "2021-06-14T11:55:23.409Z"
   },
   {
    "duration": 12,
    "start_time": "2021-06-14T11:55:23.424Z"
   },
   {
    "duration": 10,
    "start_time": "2021-06-14T11:55:23.439Z"
   },
   {
    "duration": 59,
    "start_time": "2021-06-14T11:55:23.452Z"
   },
   {
    "duration": 24,
    "start_time": "2021-06-14T11:55:23.513Z"
   },
   {
    "duration": 85,
    "start_time": "2021-06-14T11:55:23.539Z"
   },
   {
    "duration": 10,
    "start_time": "2021-06-14T11:55:23.627Z"
   },
   {
    "duration": 16,
    "start_time": "2021-06-14T11:55:23.639Z"
   },
   {
    "duration": 12,
    "start_time": "2021-06-14T11:55:23.657Z"
   },
   {
    "duration": 9,
    "start_time": "2021-06-14T11:55:23.672Z"
   },
   {
    "duration": 34,
    "start_time": "2021-06-14T11:55:23.683Z"
   },
   {
    "duration": 12,
    "start_time": "2021-06-14T11:55:23.719Z"
   },
   {
    "duration": 8,
    "start_time": "2021-06-14T11:55:23.733Z"
   },
   {
    "duration": 15,
    "start_time": "2021-06-14T11:55:23.744Z"
   },
   {
    "duration": 12,
    "start_time": "2021-06-14T11:55:23.762Z"
   },
   {
    "duration": 333,
    "start_time": "2021-06-14T11:55:23.777Z"
   },
   {
    "duration": 96,
    "start_time": "2021-06-14T11:55:24.112Z"
   },
   {
    "duration": 411,
    "start_time": "2021-06-14T11:55:24.211Z"
   },
   {
    "duration": 35,
    "start_time": "2021-06-14T11:55:24.624Z"
   },
   {
    "duration": 1070,
    "start_time": "2021-06-14T11:55:24.664Z"
   },
   {
    "duration": 73,
    "start_time": "2021-06-14T11:55:25.737Z"
   },
   {
    "duration": 363,
    "start_time": "2021-06-14T11:55:25.812Z"
   },
   {
    "duration": 8,
    "start_time": "2021-06-14T11:55:26.177Z"
   },
   {
    "duration": 22,
    "start_time": "2021-06-14T11:55:26.188Z"
   },
   {
    "duration": 19,
    "start_time": "2021-06-14T11:55:26.213Z"
   },
   {
    "duration": 8,
    "start_time": "2021-06-14T11:55:26.235Z"
   },
   {
    "duration": 10,
    "start_time": "2021-06-14T11:55:26.249Z"
   },
   {
    "duration": 24,
    "start_time": "2021-06-14T11:55:26.310Z"
   },
   {
    "duration": 12,
    "start_time": "2021-06-14T11:55:26.337Z"
   },
   {
    "duration": 8,
    "start_time": "2021-06-14T11:55:26.351Z"
   },
   {
    "duration": 50,
    "start_time": "2021-06-14T11:55:26.361Z"
   },
   {
    "duration": 356,
    "start_time": "2021-06-14T11:55:26.413Z"
   },
   {
    "duration": 144,
    "start_time": "2021-06-14T11:55:26.771Z"
   },
   {
    "duration": 421,
    "start_time": "2021-06-14T11:55:26.917Z"
   },
   {
    "duration": 38,
    "start_time": "2021-06-14T11:55:27.341Z"
   },
   {
    "duration": 1186,
    "start_time": "2021-06-14T11:55:27.382Z"
   },
   {
    "duration": 80,
    "start_time": "2021-06-14T11:55:28.571Z"
   },
   {
    "duration": 403,
    "start_time": "2021-06-14T11:55:28.654Z"
   },
   {
    "duration": 1268,
    "start_time": "2021-06-14T11:55:29.060Z"
   },
   {
    "duration": 8,
    "start_time": "2021-06-14T11:55:30.330Z"
   },
   {
    "duration": 98,
    "start_time": "2021-06-14T11:55:30.341Z"
   },
   {
    "duration": 402,
    "start_time": "2021-06-14T11:55:30.442Z"
   },
   {
    "duration": 74,
    "start_time": "2021-06-14T12:00:54.776Z"
   },
   {
    "duration": 317,
    "start_time": "2021-06-14T12:02:45.565Z"
   },
   {
    "duration": 457,
    "start_time": "2021-06-14T13:10:48.219Z"
   },
   {
    "duration": 36,
    "start_time": "2021-06-14T13:10:52.380Z"
   },
   {
    "duration": 113,
    "start_time": "2021-06-14T13:13:07.054Z"
   },
   {
    "duration": 90,
    "start_time": "2021-06-14T13:13:12.478Z"
   },
   {
    "duration": 5,
    "start_time": "2021-06-14T13:26:51.225Z"
   },
   {
    "duration": 9,
    "start_time": "2021-06-14T13:28:08.898Z"
   },
   {
    "duration": 1595,
    "start_time": "2021-06-15T07:49:02.470Z"
   },
   {
    "duration": 132,
    "start_time": "2021-06-15T07:49:04.068Z"
   },
   {
    "duration": 14,
    "start_time": "2021-06-15T07:49:04.203Z"
   },
   {
    "duration": 7,
    "start_time": "2021-06-15T07:49:04.220Z"
   },
   {
    "duration": 81,
    "start_time": "2021-06-15T07:49:04.229Z"
   },
   {
    "duration": 8,
    "start_time": "2021-06-15T07:49:04.313Z"
   },
   {
    "duration": 20,
    "start_time": "2021-06-15T07:49:04.324Z"
   },
   {
    "duration": 36,
    "start_time": "2021-06-15T07:49:04.348Z"
   },
   {
    "duration": 14,
    "start_time": "2021-06-15T07:49:04.387Z"
   },
   {
    "duration": 4,
    "start_time": "2021-06-15T07:49:04.409Z"
   },
   {
    "duration": 45,
    "start_time": "2021-06-15T07:49:04.415Z"
   },
   {
    "duration": 9,
    "start_time": "2021-06-15T07:49:04.462Z"
   },
   {
    "duration": 25,
    "start_time": "2021-06-15T07:49:04.473Z"
   },
   {
    "duration": 29,
    "start_time": "2021-06-15T07:49:04.500Z"
   },
   {
    "duration": 84,
    "start_time": "2021-06-15T07:49:04.531Z"
   },
   {
    "duration": 11,
    "start_time": "2021-06-15T07:49:04.618Z"
   },
   {
    "duration": 20,
    "start_time": "2021-06-15T07:49:04.631Z"
   },
   {
    "duration": 33,
    "start_time": "2021-06-15T07:49:04.654Z"
   },
   {
    "duration": 19,
    "start_time": "2021-06-15T07:49:04.689Z"
   },
   {
    "duration": 23,
    "start_time": "2021-06-15T07:49:04.710Z"
   },
   {
    "duration": 15,
    "start_time": "2021-06-15T07:49:04.735Z"
   },
   {
    "duration": 17,
    "start_time": "2021-06-15T07:49:04.753Z"
   },
   {
    "duration": 37,
    "start_time": "2021-06-15T07:49:04.775Z"
   },
   {
    "duration": 10,
    "start_time": "2021-06-15T07:49:04.815Z"
   },
   {
    "duration": 46,
    "start_time": "2021-06-15T07:49:04.827Z"
   },
   {
    "duration": 284,
    "start_time": "2021-06-15T07:49:04.876Z"
   },
   {
    "duration": 50,
    "start_time": "2021-06-15T07:49:05.163Z"
   },
   {
    "duration": 180,
    "start_time": "2021-06-15T07:49:05.217Z"
   },
   {
    "duration": 31,
    "start_time": "2021-06-15T07:49:05.409Z"
   },
   {
    "duration": 8,
    "start_time": "2021-06-15T07:49:05.443Z"
   },
   {
    "duration": 1059,
    "start_time": "2021-06-15T07:49:05.454Z"
   },
   {
    "duration": 71,
    "start_time": "2021-06-15T07:49:06.516Z"
   },
   {
    "duration": 359,
    "start_time": "2021-06-15T07:49:06.610Z"
   },
   {
    "duration": 6,
    "start_time": "2021-06-15T07:49:06.972Z"
   },
   {
    "duration": 29,
    "start_time": "2021-06-15T07:49:06.982Z"
   },
   {
    "duration": 24,
    "start_time": "2021-06-15T07:49:07.013Z"
   },
   {
    "duration": 21,
    "start_time": "2021-06-15T07:49:07.039Z"
   },
   {
    "duration": 10,
    "start_time": "2021-06-15T07:49:07.062Z"
   },
   {
    "duration": 8,
    "start_time": "2021-06-15T07:49:07.074Z"
   },
   {
    "duration": 20,
    "start_time": "2021-06-15T07:49:07.110Z"
   },
   {
    "duration": 8,
    "start_time": "2021-06-15T07:49:07.132Z"
   },
   {
    "duration": 16,
    "start_time": "2021-06-15T07:49:07.142Z"
   },
   {
    "duration": 21,
    "start_time": "2021-06-15T07:49:07.161Z"
   },
   {
    "duration": 285,
    "start_time": "2021-06-15T07:49:07.185Z"
   },
   {
    "duration": 42,
    "start_time": "2021-06-15T07:49:07.473Z"
   },
   {
    "duration": 458,
    "start_time": "2021-06-15T07:49:07.518Z"
   },
   {
    "duration": 53,
    "start_time": "2021-06-15T07:49:07.982Z"
   },
   {
    "duration": 1162,
    "start_time": "2021-06-15T07:49:08.038Z"
   },
   {
    "duration": 67,
    "start_time": "2021-06-15T07:49:09.202Z"
   },
   {
    "duration": 392,
    "start_time": "2021-06-15T07:49:09.272Z"
   },
   {
    "duration": 1174,
    "start_time": "2021-06-15T07:49:09.666Z"
   },
   {
    "duration": 8,
    "start_time": "2021-06-15T07:49:10.842Z"
   },
   {
    "duration": 94,
    "start_time": "2021-06-15T07:49:10.853Z"
   },
   {
    "duration": 39987,
    "start_time": "2021-06-15T07:50:01.796Z"
   },
   {
    "duration": 289,
    "start_time": "2021-06-15T07:57:13.903Z"
   },
   {
    "duration": 5,
    "start_time": "2021-06-15T07:57:24.090Z"
   },
   {
    "duration": 60,
    "start_time": "2021-06-15T07:57:24.098Z"
   },
   {
    "duration": 12,
    "start_time": "2021-06-15T07:57:24.161Z"
   },
   {
    "duration": 5,
    "start_time": "2021-06-15T07:57:24.176Z"
   },
   {
    "duration": 77,
    "start_time": "2021-06-15T07:57:24.184Z"
   },
   {
    "duration": 8,
    "start_time": "2021-06-15T07:57:24.263Z"
   },
   {
    "duration": 39,
    "start_time": "2021-06-15T07:57:24.274Z"
   },
   {
    "duration": 11,
    "start_time": "2021-06-15T07:57:24.317Z"
   },
   {
    "duration": 11,
    "start_time": "2021-06-15T07:57:24.331Z"
   },
   {
    "duration": 4,
    "start_time": "2021-06-15T07:57:24.345Z"
   },
   {
    "duration": 75,
    "start_time": "2021-06-15T07:57:24.352Z"
   },
   {
    "duration": 9,
    "start_time": "2021-06-15T07:57:24.429Z"
   },
   {
    "duration": 13,
    "start_time": "2021-06-15T07:57:24.440Z"
   },
   {
    "duration": 21,
    "start_time": "2021-06-15T07:57:24.455Z"
   },
   {
    "duration": 94,
    "start_time": "2021-06-15T07:57:24.478Z"
   },
   {
    "duration": 34,
    "start_time": "2021-06-15T07:57:24.575Z"
   },
   {
    "duration": 7,
    "start_time": "2021-06-15T07:57:24.612Z"
   },
   {
    "duration": 12,
    "start_time": "2021-06-15T07:57:24.622Z"
   },
   {
    "duration": 12,
    "start_time": "2021-06-15T07:57:24.636Z"
   },
   {
    "duration": 9,
    "start_time": "2021-06-15T07:57:24.651Z"
   },
   {
    "duration": 49,
    "start_time": "2021-06-15T07:57:24.662Z"
   },
   {
    "duration": 10,
    "start_time": "2021-06-15T07:57:24.714Z"
   },
   {
    "duration": 6,
    "start_time": "2021-06-15T07:57:24.729Z"
   },
   {
    "duration": 12,
    "start_time": "2021-06-15T07:57:24.738Z"
   },
   {
    "duration": 30,
    "start_time": "2021-06-15T07:57:24.752Z"
   },
   {
    "duration": 324,
    "start_time": "2021-06-15T07:57:24.785Z"
   },
   {
    "duration": 99,
    "start_time": "2021-06-15T07:57:25.111Z"
   },
   {
    "duration": 200,
    "start_time": "2021-06-15T07:57:25.214Z"
   },
   {
    "duration": 30,
    "start_time": "2021-06-15T07:57:25.416Z"
   },
   {
    "duration": 8,
    "start_time": "2021-06-15T07:57:25.448Z"
   },
   {
    "duration": 1034,
    "start_time": "2021-06-15T07:57:25.459Z"
   },
   {
    "duration": 64,
    "start_time": "2021-06-15T07:57:26.495Z"
   },
   {
    "duration": 352,
    "start_time": "2021-06-15T07:57:26.561Z"
   },
   {
    "duration": 5,
    "start_time": "2021-06-15T07:57:26.915Z"
   },
   {
    "duration": 9,
    "start_time": "2021-06-15T07:57:26.923Z"
   },
   {
    "duration": 8,
    "start_time": "2021-06-15T07:57:26.934Z"
   },
   {
    "duration": 18,
    "start_time": "2021-06-15T07:57:26.945Z"
   },
   {
    "duration": 48,
    "start_time": "2021-06-15T07:57:26.966Z"
   },
   {
    "duration": 8,
    "start_time": "2021-06-15T07:57:27.016Z"
   },
   {
    "duration": 21,
    "start_time": "2021-06-15T07:57:27.026Z"
   },
   {
    "duration": 7,
    "start_time": "2021-06-15T07:57:27.050Z"
   },
   {
    "duration": 51,
    "start_time": "2021-06-15T07:57:27.060Z"
   },
   {
    "duration": 10,
    "start_time": "2021-06-15T07:57:27.113Z"
   },
   {
    "duration": 241,
    "start_time": "2021-06-15T07:57:27.125Z"
   },
   {
    "duration": 48,
    "start_time": "2021-06-15T07:57:27.368Z"
   },
   {
    "duration": 415,
    "start_time": "2021-06-15T07:57:27.420Z"
   },
   {
    "duration": 36,
    "start_time": "2021-06-15T07:57:27.838Z"
   },
   {
    "duration": 40438,
    "start_time": "2021-06-15T07:57:27.877Z"
   },
   {
    "duration": 62,
    "start_time": "2021-06-15T07:58:08.318Z"
   },
   {
    "duration": 391,
    "start_time": "2021-06-15T07:58:08.383Z"
   },
   {
    "duration": 1159,
    "start_time": "2021-06-15T07:58:08.776Z"
   },
   {
    "duration": 8,
    "start_time": "2021-06-15T07:58:09.937Z"
   },
   {
    "duration": 158,
    "start_time": "2021-06-15T07:58:09.947Z"
   },
   {
    "duration": 49551,
    "start_time": "2021-06-15T08:03:32.923Z"
   },
   {
    "duration": 968,
    "start_time": "2021-06-15T08:04:58.873Z"
   },
   {
    "duration": 118,
    "start_time": "2021-06-15T08:12:03.496Z"
   },
   {
    "duration": 17,
    "start_time": "2021-06-15T08:12:08.295Z"
   },
   {
    "duration": 17,
    "start_time": "2021-06-15T08:12:49.470Z"
   },
   {
    "duration": 34,
    "start_time": "2021-06-15T08:41:39.074Z"
   },
   {
    "duration": 387,
    "start_time": "2021-06-15T08:42:00.352Z"
   },
   {
    "duration": 89,
    "start_time": "2021-06-15T08:42:13.367Z"
   },
   {
    "duration": 9,
    "start_time": "2021-06-15T08:46:29.793Z"
   },
   {
    "duration": 30,
    "start_time": "2021-06-15T08:46:48.630Z"
   },
   {
    "duration": 9,
    "start_time": "2021-06-15T08:46:49.382Z"
   },
   {
    "duration": 37,
    "start_time": "2021-06-15T08:47:24.679Z"
   },
   {
    "duration": 34,
    "start_time": "2021-06-15T08:47:31.230Z"
   },
   {
    "duration": 1646,
    "start_time": "2021-06-15T09:47:18.001Z"
   },
   {
    "duration": 159,
    "start_time": "2021-06-15T09:47:19.650Z"
   },
   {
    "duration": 19,
    "start_time": "2021-06-15T09:47:19.812Z"
   },
   {
    "duration": 7,
    "start_time": "2021-06-15T09:47:19.834Z"
   },
   {
    "duration": 87,
    "start_time": "2021-06-15T09:47:19.845Z"
   },
   {
    "duration": 8,
    "start_time": "2021-06-15T09:47:19.934Z"
   },
   {
    "duration": 13,
    "start_time": "2021-06-15T09:47:19.945Z"
   },
   {
    "duration": 9,
    "start_time": "2021-06-15T09:47:19.963Z"
   },
   {
    "duration": 47,
    "start_time": "2021-06-15T09:47:19.975Z"
   },
   {
    "duration": 5,
    "start_time": "2021-06-15T09:47:20.025Z"
   },
   {
    "duration": 33,
    "start_time": "2021-06-15T09:47:20.032Z"
   },
   {
    "duration": 18,
    "start_time": "2021-06-15T09:47:20.067Z"
   },
   {
    "duration": 16,
    "start_time": "2021-06-15T09:47:20.111Z"
   },
   {
    "duration": 15,
    "start_time": "2021-06-15T09:47:20.129Z"
   },
   {
    "duration": 26,
    "start_time": "2021-06-15T09:47:20.146Z"
   },
   {
    "duration": 95,
    "start_time": "2021-06-15T09:47:20.175Z"
   },
   {
    "duration": 11,
    "start_time": "2021-06-15T09:47:20.272Z"
   },
   {
    "duration": 26,
    "start_time": "2021-06-15T09:47:20.285Z"
   },
   {
    "duration": 19,
    "start_time": "2021-06-15T09:47:20.314Z"
   },
   {
    "duration": 9,
    "start_time": "2021-06-15T09:47:20.336Z"
   },
   {
    "duration": 11,
    "start_time": "2021-06-15T09:47:20.348Z"
   },
   {
    "duration": 57,
    "start_time": "2021-06-15T09:47:20.362Z"
   },
   {
    "duration": 6,
    "start_time": "2021-06-15T09:47:20.427Z"
   },
   {
    "duration": 10,
    "start_time": "2021-06-15T09:47:20.436Z"
   },
   {
    "duration": 9,
    "start_time": "2021-06-15T09:47:20.449Z"
   },
   {
    "duration": 58,
    "start_time": "2021-06-15T09:47:20.460Z"
   },
   {
    "duration": 279,
    "start_time": "2021-06-15T09:47:20.521Z"
   },
   {
    "duration": 14,
    "start_time": "2021-06-15T09:47:20.802Z"
   },
   {
    "duration": 178,
    "start_time": "2021-06-15T09:47:20.912Z"
   },
   {
    "duration": 44,
    "start_time": "2021-06-15T09:47:21.093Z"
   },
   {
    "duration": 9,
    "start_time": "2021-06-15T09:47:21.140Z"
   },
   {
    "duration": 1176,
    "start_time": "2021-06-15T09:47:21.151Z"
   },
   {
    "duration": 61,
    "start_time": "2021-06-15T09:47:22.330Z"
   },
   {
    "duration": 372,
    "start_time": "2021-06-15T09:47:22.409Z"
   },
   {
    "duration": 5,
    "start_time": "2021-06-15T09:47:22.783Z"
   },
   {
    "duration": 31,
    "start_time": "2021-06-15T09:47:22.790Z"
   },
   {
    "duration": 9,
    "start_time": "2021-06-15T09:47:22.824Z"
   },
   {
    "duration": 6,
    "start_time": "2021-06-15T09:47:22.836Z"
   },
   {
    "duration": 21,
    "start_time": "2021-06-15T09:47:22.844Z"
   },
   {
    "duration": 43,
    "start_time": "2021-06-15T09:47:22.867Z"
   },
   {
    "duration": 10,
    "start_time": "2021-06-15T09:47:22.913Z"
   },
   {
    "duration": 10,
    "start_time": "2021-06-15T09:47:22.926Z"
   },
   {
    "duration": 23,
    "start_time": "2021-06-15T09:47:22.939Z"
   },
   {
    "duration": 7,
    "start_time": "2021-06-15T09:47:22.964Z"
   },
   {
    "duration": 45,
    "start_time": "2021-06-15T09:47:22.973Z"
   },
   {
    "duration": 253,
    "start_time": "2021-06-15T09:47:23.022Z"
   },
   {
    "duration": 36,
    "start_time": "2021-06-15T09:47:23.277Z"
   },
   {
    "duration": 229,
    "start_time": "2021-06-15T09:47:23.317Z"
   },
   {
    "duration": 33,
    "start_time": "2021-06-15T09:47:23.549Z"
   },
   {
    "duration": 1215,
    "start_time": "2021-06-15T09:47:23.584Z"
   },
   {
    "duration": 71,
    "start_time": "2021-06-15T09:47:24.801Z"
   },
   {
    "duration": 409,
    "start_time": "2021-06-15T09:47:24.875Z"
   },
   {
    "duration": 1211,
    "start_time": "2021-06-15T09:47:25.287Z"
   },
   {
    "duration": 13,
    "start_time": "2021-06-15T09:47:26.501Z"
   },
   {
    "duration": 100,
    "start_time": "2021-06-15T09:47:26.518Z"
   },
   {
    "duration": 1545,
    "start_time": "2021-06-16T05:52:25.952Z"
   },
   {
    "duration": 297,
    "start_time": "2021-06-16T05:52:27.500Z"
   },
   {
    "duration": 12,
    "start_time": "2021-06-16T05:52:27.800Z"
   },
   {
    "duration": 12,
    "start_time": "2021-06-16T05:52:27.815Z"
   },
   {
    "duration": 67,
    "start_time": "2021-06-16T05:52:27.830Z"
   },
   {
    "duration": 10,
    "start_time": "2021-06-16T05:52:27.900Z"
   },
   {
    "duration": 13,
    "start_time": "2021-06-16T05:52:27.913Z"
   },
   {
    "duration": 11,
    "start_time": "2021-06-16T05:52:27.928Z"
   },
   {
    "duration": 10,
    "start_time": "2021-06-16T05:52:27.986Z"
   },
   {
    "duration": 3,
    "start_time": "2021-06-16T05:52:27.999Z"
   },
   {
    "duration": 28,
    "start_time": "2021-06-16T05:52:28.005Z"
   },
   {
    "duration": 16,
    "start_time": "2021-06-16T05:52:28.035Z"
   },
   {
    "duration": 31,
    "start_time": "2021-06-16T05:52:28.054Z"
   },
   {
    "duration": 13,
    "start_time": "2021-06-16T05:52:28.087Z"
   },
   {
    "duration": 21,
    "start_time": "2021-06-16T05:52:28.102Z"
   },
   {
    "duration": 104,
    "start_time": "2021-06-16T05:52:28.126Z"
   },
   {
    "duration": 11,
    "start_time": "2021-06-16T05:52:28.233Z"
   },
   {
    "duration": 7,
    "start_time": "2021-06-16T05:52:28.247Z"
   },
   {
    "duration": 15,
    "start_time": "2021-06-16T05:52:28.284Z"
   },
   {
    "duration": 10,
    "start_time": "2021-06-16T05:52:28.302Z"
   },
   {
    "duration": 9,
    "start_time": "2021-06-16T05:52:28.315Z"
   },
   {
    "duration": 11,
    "start_time": "2021-06-16T05:52:28.327Z"
   },
   {
    "duration": 7,
    "start_time": "2021-06-16T05:52:28.384Z"
   },
   {
    "duration": 8,
    "start_time": "2021-06-16T05:52:28.394Z"
   },
   {
    "duration": 9,
    "start_time": "2021-06-16T05:52:28.404Z"
   },
   {
    "duration": 27,
    "start_time": "2021-06-16T05:52:28.415Z"
   },
   {
    "duration": 287,
    "start_time": "2021-06-16T05:52:28.484Z"
   },
   {
    "duration": 12,
    "start_time": "2021-06-16T05:52:28.782Z"
   },
   {
    "duration": 270,
    "start_time": "2021-06-16T05:52:28.797Z"
   },
   {
    "duration": 41,
    "start_time": "2021-06-16T05:52:29.069Z"
   },
   {
    "duration": 8,
    "start_time": "2021-06-16T05:52:29.112Z"
   },
   {
    "duration": 901,
    "start_time": "2021-06-16T05:52:29.123Z"
   },
   {
    "duration": 62,
    "start_time": "2021-06-16T05:52:30.027Z"
   },
   {
    "duration": 320,
    "start_time": "2021-06-16T05:52:30.092Z"
   },
   {
    "duration": 5,
    "start_time": "2021-06-16T05:52:30.415Z"
   },
   {
    "duration": 11,
    "start_time": "2021-06-16T05:52:30.422Z"
   },
   {
    "duration": 12,
    "start_time": "2021-06-16T05:52:30.436Z"
   },
   {
    "duration": 32,
    "start_time": "2021-06-16T05:52:30.451Z"
   },
   {
    "duration": 29,
    "start_time": "2021-06-16T05:52:30.486Z"
   },
   {
    "duration": 8,
    "start_time": "2021-06-16T05:52:30.517Z"
   },
   {
    "duration": 7,
    "start_time": "2021-06-16T05:52:30.527Z"
   },
   {
    "duration": 10,
    "start_time": "2021-06-16T05:52:30.536Z"
   },
   {
    "duration": 37,
    "start_time": "2021-06-16T05:52:30.549Z"
   },
   {
    "duration": 8,
    "start_time": "2021-06-16T05:52:30.588Z"
   },
   {
    "duration": 18,
    "start_time": "2021-06-16T05:52:30.598Z"
   },
   {
    "duration": 220,
    "start_time": "2021-06-16T05:52:30.618Z"
   },
   {
    "duration": 44,
    "start_time": "2021-06-16T05:52:30.841Z"
   },
   {
    "duration": 178,
    "start_time": "2021-06-16T05:52:30.888Z"
   },
   {
    "duration": 31,
    "start_time": "2021-06-16T05:52:31.083Z"
   },
   {
    "duration": 1004,
    "start_time": "2021-06-16T05:52:31.116Z"
   },
   {
    "duration": 66,
    "start_time": "2021-06-16T05:52:32.122Z"
   },
   {
    "duration": 351,
    "start_time": "2021-06-16T05:52:32.190Z"
   },
   {
    "duration": 1007,
    "start_time": "2021-06-16T05:52:32.544Z"
   },
   {
    "duration": 8,
    "start_time": "2021-06-16T05:52:33.553Z"
   },
   {
    "duration": 87,
    "start_time": "2021-06-16T05:52:33.564Z"
   },
   {
    "duration": 1642,
    "start_time": "2021-06-16T07:36:27.965Z"
   },
   {
    "duration": 82,
    "start_time": "2021-06-16T07:36:29.609Z"
   },
   {
    "duration": 18,
    "start_time": "2021-06-16T07:36:30.834Z"
   },
   {
    "duration": 9,
    "start_time": "2021-06-16T07:36:35.665Z"
   },
   {
    "duration": 83,
    "start_time": "2021-06-16T07:36:36.314Z"
   },
   {
    "duration": 11,
    "start_time": "2021-06-16T07:36:39.612Z"
   },
   {
    "duration": 14,
    "start_time": "2021-06-16T07:36:40.793Z"
   },
   {
    "duration": 13,
    "start_time": "2021-06-16T07:36:42.649Z"
   },
   {
    "duration": 16,
    "start_time": "2021-06-16T07:36:44.408Z"
   },
   {
    "duration": 13,
    "start_time": "2021-06-16T07:36:46.649Z"
   },
   {
    "duration": 12,
    "start_time": "2021-06-16T07:36:49.904Z"
   },
   {
    "duration": 19,
    "start_time": "2021-06-16T07:36:52.817Z"
   },
   {
    "duration": 65,
    "start_time": "2021-06-16T07:36:57.362Z"
   },
   {
    "duration": 13,
    "start_time": "2021-06-16T07:37:14.104Z"
   },
   {
    "duration": 7,
    "start_time": "2021-06-16T07:37:15.490Z"
   },
   {
    "duration": 13,
    "start_time": "2021-06-16T07:37:17.943Z"
   },
   {
    "duration": 9,
    "start_time": "2021-06-16T07:37:19.112Z"
   },
   {
    "duration": 10,
    "start_time": "2021-06-16T07:37:19.863Z"
   },
   {
    "duration": 9,
    "start_time": "2021-06-16T07:37:20.423Z"
   },
   {
    "duration": 6,
    "start_time": "2021-06-16T07:37:22.551Z"
   },
   {
    "duration": 5,
    "start_time": "2021-06-16T07:37:24.836Z"
   },
   {
    "duration": 6,
    "start_time": "2021-06-16T07:37:25.683Z"
   },
   {
    "duration": 3,
    "start_time": "2021-06-16T07:37:30.394Z"
   },
   {
    "duration": 13,
    "start_time": "2021-06-16T07:37:34.767Z"
   },
   {
    "duration": 23,
    "start_time": "2021-06-16T07:37:40.400Z"
   },
   {
    "duration": 16,
    "start_time": "2021-06-16T07:37:41.677Z"
   },
   {
    "duration": 28,
    "start_time": "2021-06-16T07:38:00.159Z"
   },
   {
    "duration": 258,
    "start_time": "2021-06-16T07:38:08.485Z"
   },
   {
    "duration": 13,
    "start_time": "2021-06-16T07:38:12.613Z"
   },
   {
    "duration": 93,
    "start_time": "2021-06-16T07:38:18.896Z"
   },
   {
    "duration": 30,
    "start_time": "2021-06-16T07:38:22.806Z"
   },
   {
    "duration": 10,
    "start_time": "2021-06-16T07:38:24.583Z"
   },
   {
    "duration": 960,
    "start_time": "2021-06-16T07:38:26.662Z"
   },
   {
    "duration": 59,
    "start_time": "2021-06-16T07:38:33.681Z"
   },
   {
    "duration": 333,
    "start_time": "2021-06-16T07:38:36.821Z"
   },
   {
    "duration": 5,
    "start_time": "2021-06-16T07:38:47.604Z"
   },
   {
    "duration": 8,
    "start_time": "2021-06-16T07:38:49.213Z"
   },
   {
    "duration": 9,
    "start_time": "2021-06-16T07:38:50.301Z"
   },
   {
    "duration": 6,
    "start_time": "2021-06-16T07:38:53.401Z"
   },
   {
    "duration": 14,
    "start_time": "2021-06-16T07:38:56.911Z"
   },
   {
    "duration": 8,
    "start_time": "2021-06-16T07:38:59.128Z"
   },
   {
    "duration": 8,
    "start_time": "2021-06-16T07:39:00.399Z"
   },
   {
    "duration": 10,
    "start_time": "2021-06-16T07:39:02.297Z"
   },
   {
    "duration": 19,
    "start_time": "2021-06-16T07:39:03.456Z"
   },
   {
    "duration": 7,
    "start_time": "2021-06-16T07:39:06.056Z"
   },
   {
    "duration": 9,
    "start_time": "2021-06-16T07:39:07.439Z"
   },
   {
    "duration": 256,
    "start_time": "2021-06-16T07:39:19.455Z"
   },
   {
    "duration": 9,
    "start_time": "2021-06-16T07:39:21.551Z"
   },
   {
    "duration": 101,
    "start_time": "2021-06-16T07:39:24.762Z"
   },
   {
    "duration": 35,
    "start_time": "2021-06-16T07:39:27.662Z"
   },
   {
    "duration": 1110,
    "start_time": "2021-06-16T07:39:30.630Z"
   },
   {
    "duration": 63,
    "start_time": "2021-06-16T07:39:40.407Z"
   },
   {
    "duration": 368,
    "start_time": "2021-06-16T07:39:45.432Z"
   },
   {
    "duration": 1102,
    "start_time": "2021-06-16T07:39:50.831Z"
   },
   {
    "duration": 9,
    "start_time": "2021-06-16T07:39:52.838Z"
   },
   {
    "duration": 58,
    "start_time": "2021-06-16T07:40:04.775Z"
   },
   {
    "duration": 6,
    "start_time": "2021-06-16T07:40:22.198Z"
   },
   {
    "duration": 281,
    "start_time": "2021-06-16T07:40:22.208Z"
   },
   {
    "duration": 10,
    "start_time": "2021-06-16T07:40:22.492Z"
   },
   {
    "duration": 7,
    "start_time": "2021-06-16T07:40:22.505Z"
   },
   {
    "duration": 78,
    "start_time": "2021-06-16T07:40:22.514Z"
   },
   {
    "duration": 8,
    "start_time": "2021-06-16T07:40:22.595Z"
   },
   {
    "duration": 17,
    "start_time": "2021-06-16T07:40:22.607Z"
   },
   {
    "duration": 36,
    "start_time": "2021-06-16T07:40:22.628Z"
   },
   {
    "duration": 14,
    "start_time": "2021-06-16T07:40:22.667Z"
   },
   {
    "duration": 10,
    "start_time": "2021-06-16T07:40:22.685Z"
   },
   {
    "duration": 11,
    "start_time": "2021-06-16T07:40:22.698Z"
   },
   {
    "duration": 70,
    "start_time": "2021-06-16T07:40:22.712Z"
   },
   {
    "duration": 110,
    "start_time": "2021-06-16T07:40:22.785Z"
   },
   {
    "duration": 14,
    "start_time": "2021-06-16T07:40:22.898Z"
   },
   {
    "duration": 8,
    "start_time": "2021-06-16T07:40:22.915Z"
   },
   {
    "duration": 39,
    "start_time": "2021-06-16T07:40:22.926Z"
   },
   {
    "duration": 12,
    "start_time": "2021-06-16T07:40:22.968Z"
   },
   {
    "duration": 15,
    "start_time": "2021-06-16T07:40:22.983Z"
   },
   {
    "duration": 21,
    "start_time": "2021-06-16T07:40:23.003Z"
   },
   {
    "duration": 8,
    "start_time": "2021-06-16T07:40:23.027Z"
   },
   {
    "duration": 25,
    "start_time": "2021-06-16T07:40:23.037Z"
   },
   {
    "duration": 13,
    "start_time": "2021-06-16T07:40:23.064Z"
   },
   {
    "duration": 13,
    "start_time": "2021-06-16T07:40:23.079Z"
   },
   {
    "duration": 14,
    "start_time": "2021-06-16T07:40:23.094Z"
   },
   {
    "duration": 23,
    "start_time": "2021-06-16T07:40:23.110Z"
   },
   {
    "duration": 35,
    "start_time": "2021-06-16T07:40:23.135Z"
   },
   {
    "duration": 28,
    "start_time": "2021-06-16T07:40:23.172Z"
   },
   {
    "duration": 248,
    "start_time": "2021-06-16T07:40:23.202Z"
   },
   {
    "duration": 10,
    "start_time": "2021-06-16T07:40:23.462Z"
   },
   {
    "duration": 271,
    "start_time": "2021-06-16T07:40:23.475Z"
   },
   {
    "duration": 43,
    "start_time": "2021-06-16T07:40:23.749Z"
   },
   {
    "duration": 10,
    "start_time": "2021-06-16T07:40:23.795Z"
   },
   {
    "duration": 1002,
    "start_time": "2021-06-16T07:40:23.807Z"
   },
   {
    "duration": 78,
    "start_time": "2021-06-16T07:40:24.811Z"
   },
   {
    "duration": 344,
    "start_time": "2021-06-16T07:40:24.891Z"
   },
   {
    "duration": 5,
    "start_time": "2021-06-16T07:40:25.237Z"
   },
   {
    "duration": 23,
    "start_time": "2021-06-16T07:40:25.244Z"
   },
   {
    "duration": 24,
    "start_time": "2021-06-16T07:40:25.270Z"
   },
   {
    "duration": 14,
    "start_time": "2021-06-16T07:40:25.296Z"
   },
   {
    "duration": 28,
    "start_time": "2021-06-16T07:40:25.312Z"
   },
   {
    "duration": 8,
    "start_time": "2021-06-16T07:40:25.343Z"
   },
   {
    "duration": 8,
    "start_time": "2021-06-16T07:40:25.362Z"
   },
   {
    "duration": 11,
    "start_time": "2021-06-16T07:40:25.372Z"
   },
   {
    "duration": 34,
    "start_time": "2021-06-16T07:40:25.386Z"
   },
   {
    "duration": 7,
    "start_time": "2021-06-16T07:40:25.422Z"
   },
   {
    "duration": 32,
    "start_time": "2021-06-16T07:40:25.431Z"
   },
   {
    "duration": 276,
    "start_time": "2021-06-16T07:40:25.467Z"
   },
   {
    "duration": 103,
    "start_time": "2021-06-16T07:40:25.762Z"
   },
   {
    "duration": 188,
    "start_time": "2021-06-16T07:40:25.874Z"
   },
   {
    "duration": 34,
    "start_time": "2021-06-16T07:40:26.064Z"
   },
   {
    "duration": 1142,
    "start_time": "2021-06-16T07:40:26.100Z"
   },
   {
    "duration": 69,
    "start_time": "2021-06-16T07:40:27.245Z"
   },
   {
    "duration": 385,
    "start_time": "2021-06-16T07:40:27.316Z"
   },
   {
    "duration": 1106,
    "start_time": "2021-06-16T07:40:27.703Z"
   },
   {
    "duration": 8,
    "start_time": "2021-06-16T07:40:28.815Z"
   },
   {
    "duration": 77,
    "start_time": "2021-06-16T07:40:28.826Z"
   },
   {
    "duration": 5,
    "start_time": "2021-06-16T07:41:35.467Z"
   },
   {
    "duration": 95,
    "start_time": "2021-06-16T07:41:35.475Z"
   },
   {
    "duration": 11,
    "start_time": "2021-06-16T07:41:35.573Z"
   },
   {
    "duration": 14,
    "start_time": "2021-06-16T07:41:35.586Z"
   },
   {
    "duration": 80,
    "start_time": "2021-06-16T07:41:35.602Z"
   },
   {
    "duration": 8,
    "start_time": "2021-06-16T07:41:35.684Z"
   },
   {
    "duration": 10,
    "start_time": "2021-06-16T07:41:35.696Z"
   },
   {
    "duration": 12,
    "start_time": "2021-06-16T07:41:35.709Z"
   },
   {
    "duration": 52,
    "start_time": "2021-06-16T07:41:35.724Z"
   },
   {
    "duration": 10,
    "start_time": "2021-06-16T07:41:35.778Z"
   },
   {
    "duration": 15,
    "start_time": "2021-06-16T07:41:35.790Z"
   },
   {
    "duration": 30,
    "start_time": "2021-06-16T07:41:35.808Z"
   },
   {
    "duration": 65,
    "start_time": "2021-06-16T07:41:35.862Z"
   },
   {
    "duration": 35,
    "start_time": "2021-06-16T07:41:35.930Z"
   },
   {
    "duration": 6,
    "start_time": "2021-06-16T07:41:35.968Z"
   },
   {
    "duration": 14,
    "start_time": "2021-06-16T07:41:35.976Z"
   },
   {
    "duration": 8,
    "start_time": "2021-06-16T07:41:35.993Z"
   },
   {
    "duration": 16,
    "start_time": "2021-06-16T07:41:36.003Z"
   },
   {
    "duration": 42,
    "start_time": "2021-06-16T07:41:36.025Z"
   },
   {
    "duration": 5,
    "start_time": "2021-06-16T07:41:36.071Z"
   },
   {
    "duration": 16,
    "start_time": "2021-06-16T07:41:36.079Z"
   },
   {
    "duration": 14,
    "start_time": "2021-06-16T07:41:36.098Z"
   },
   {
    "duration": 24,
    "start_time": "2021-06-16T07:41:36.114Z"
   },
   {
    "duration": 21,
    "start_time": "2021-06-16T07:41:36.141Z"
   },
   {
    "duration": 36,
    "start_time": "2021-06-16T07:41:36.164Z"
   },
   {
    "duration": 17,
    "start_time": "2021-06-16T07:41:36.202Z"
   },
   {
    "duration": 50,
    "start_time": "2021-06-16T07:41:36.222Z"
   },
   {
    "duration": 290,
    "start_time": "2021-06-16T07:41:36.274Z"
   },
   {
    "duration": 16,
    "start_time": "2021-06-16T07:41:36.566Z"
   },
   {
    "duration": 179,
    "start_time": "2021-06-16T07:41:36.663Z"
   },
   {
    "duration": 31,
    "start_time": "2021-06-16T07:41:36.862Z"
   },
   {
    "duration": 9,
    "start_time": "2021-06-16T07:41:36.896Z"
   },
   {
    "duration": 995,
    "start_time": "2021-06-16T07:41:36.908Z"
   },
   {
    "duration": 72,
    "start_time": "2021-06-16T07:41:37.906Z"
   },
   {
    "duration": 353,
    "start_time": "2021-06-16T07:41:37.981Z"
   },
   {
    "duration": 6,
    "start_time": "2021-06-16T07:41:38.337Z"
   },
   {
    "duration": 26,
    "start_time": "2021-06-16T07:41:38.346Z"
   },
   {
    "duration": 15,
    "start_time": "2021-06-16T07:41:38.375Z"
   },
   {
    "duration": 14,
    "start_time": "2021-06-16T07:41:38.393Z"
   },
   {
    "duration": 39,
    "start_time": "2021-06-16T07:41:38.410Z"
   },
   {
    "duration": 16,
    "start_time": "2021-06-16T07:41:38.451Z"
   },
   {
    "duration": 18,
    "start_time": "2021-06-16T07:41:38.469Z"
   },
   {
    "duration": 17,
    "start_time": "2021-06-16T07:41:38.490Z"
   },
   {
    "duration": 27,
    "start_time": "2021-06-16T07:41:38.510Z"
   },
   {
    "duration": 8,
    "start_time": "2021-06-16T07:41:38.540Z"
   },
   {
    "duration": 17,
    "start_time": "2021-06-16T07:41:38.550Z"
   },
   {
    "duration": 258,
    "start_time": "2021-06-16T07:41:38.570Z"
   },
   {
    "duration": 34,
    "start_time": "2021-06-16T07:41:38.830Z"
   },
   {
    "duration": 242,
    "start_time": "2021-06-16T07:41:38.868Z"
   },
   {
    "duration": 34,
    "start_time": "2021-06-16T07:41:39.112Z"
   },
   {
    "duration": 1123,
    "start_time": "2021-06-16T07:41:39.148Z"
   },
   {
    "duration": 63,
    "start_time": "2021-06-16T07:41:40.273Z"
   },
   {
    "duration": 389,
    "start_time": "2021-06-16T07:41:40.338Z"
   },
   {
    "duration": 1210,
    "start_time": "2021-06-16T07:41:40.729Z"
   },
   {
    "duration": 18,
    "start_time": "2021-06-16T07:41:41.945Z"
   },
   {
    "duration": 74,
    "start_time": "2021-06-16T07:41:41.965Z"
   },
   {
    "duration": 376,
    "start_time": "2021-06-17T14:09:10.986Z"
   },
   {
    "duration": 1486,
    "start_time": "2021-06-17T14:09:19.063Z"
   },
   {
    "duration": 216,
    "start_time": "2021-06-17T14:09:20.552Z"
   },
   {
    "duration": 13,
    "start_time": "2021-06-17T14:09:20.771Z"
   },
   {
    "duration": 9,
    "start_time": "2021-06-17T14:09:20.786Z"
   },
   {
    "duration": 58,
    "start_time": "2021-06-17T14:09:20.797Z"
   },
   {
    "duration": 8,
    "start_time": "2021-06-17T14:09:20.858Z"
   },
   {
    "duration": 13,
    "start_time": "2021-06-17T14:09:20.868Z"
   },
   {
    "duration": 30,
    "start_time": "2021-06-17T14:09:20.885Z"
   },
   {
    "duration": 10,
    "start_time": "2021-06-17T14:09:20.919Z"
   },
   {
    "duration": 9,
    "start_time": "2021-06-17T14:09:20.932Z"
   },
   {
    "duration": 10,
    "start_time": "2021-06-17T14:09:20.944Z"
   },
   {
    "duration": 62,
    "start_time": "2021-06-17T14:09:20.957Z"
   },
   {
    "duration": 65,
    "start_time": "2021-06-17T14:09:21.022Z"
   },
   {
    "duration": 25,
    "start_time": "2021-06-17T14:09:21.090Z"
   },
   {
    "duration": 8,
    "start_time": "2021-06-17T14:09:21.117Z"
   },
   {
    "duration": 9,
    "start_time": "2021-06-17T14:09:21.127Z"
   },
   {
    "duration": 8,
    "start_time": "2021-06-17T14:09:21.139Z"
   },
   {
    "duration": 13,
    "start_time": "2021-06-17T14:09:21.149Z"
   },
   {
    "duration": 52,
    "start_time": "2021-06-17T14:09:21.164Z"
   },
   {
    "duration": 11,
    "start_time": "2021-06-17T14:09:21.218Z"
   },
   {
    "duration": 7,
    "start_time": "2021-06-17T14:09:21.231Z"
   },
   {
    "duration": 8,
    "start_time": "2021-06-17T14:09:21.241Z"
   },
   {
    "duration": 7,
    "start_time": "2021-06-17T14:09:21.255Z"
   },
   {
    "duration": 45,
    "start_time": "2021-06-17T14:09:21.265Z"
   },
   {
    "duration": 31,
    "start_time": "2021-06-17T14:09:21.312Z"
   },
   {
    "duration": 19,
    "start_time": "2021-06-17T14:09:21.345Z"
   },
   {
    "duration": 58,
    "start_time": "2021-06-17T14:09:21.366Z"
   },
   {
    "duration": 283,
    "start_time": "2021-06-17T14:09:21.426Z"
   },
   {
    "duration": 101,
    "start_time": "2021-06-17T14:09:21.711Z"
   },
   {
    "duration": 192,
    "start_time": "2021-06-17T14:09:21.816Z"
   },
   {
    "duration": 30,
    "start_time": "2021-06-17T14:09:22.011Z"
   },
   {
    "duration": 8,
    "start_time": "2021-06-17T14:09:22.043Z"
   },
   {
    "duration": 1028,
    "start_time": "2021-06-17T14:09:22.054Z"
   },
   {
    "duration": 71,
    "start_time": "2021-06-17T14:09:23.085Z"
   },
   {
    "duration": 356,
    "start_time": "2021-06-17T14:09:23.159Z"
   },
   {
    "duration": 6,
    "start_time": "2021-06-17T14:09:23.518Z"
   },
   {
    "duration": 11,
    "start_time": "2021-06-17T14:09:23.528Z"
   },
   {
    "duration": 11,
    "start_time": "2021-06-17T14:09:23.541Z"
   },
   {
    "duration": 55,
    "start_time": "2021-06-17T14:09:23.554Z"
   },
   {
    "duration": 18,
    "start_time": "2021-06-17T14:09:23.612Z"
   },
   {
    "duration": 8,
    "start_time": "2021-06-17T14:09:23.633Z"
   },
   {
    "duration": 9,
    "start_time": "2021-06-17T14:09:23.644Z"
   },
   {
    "duration": 6,
    "start_time": "2021-06-17T14:09:23.655Z"
   },
   {
    "duration": 60,
    "start_time": "2021-06-17T14:09:23.663Z"
   },
   {
    "duration": 8,
    "start_time": "2021-06-17T14:09:23.725Z"
   },
   {
    "duration": 17,
    "start_time": "2021-06-17T14:09:23.735Z"
   },
   {
    "duration": 309,
    "start_time": "2021-06-17T14:09:23.754Z"
   },
   {
    "duration": 145,
    "start_time": "2021-06-17T14:09:24.066Z"
   },
   {
    "duration": 153,
    "start_time": "2021-06-17T14:09:24.214Z"
   },
   {
    "duration": 41,
    "start_time": "2021-06-17T14:09:24.369Z"
   },
   {
    "duration": 1125,
    "start_time": "2021-06-17T14:09:24.413Z"
   },
   {
    "duration": 73,
    "start_time": "2021-06-17T14:09:25.540Z"
   },
   {
    "duration": 377,
    "start_time": "2021-06-17T14:09:25.615Z"
   },
   {
    "duration": 1218,
    "start_time": "2021-06-17T14:09:25.995Z"
   },
   {
    "duration": 8,
    "start_time": "2021-06-17T14:09:27.216Z"
   },
   {
    "duration": 92,
    "start_time": "2021-06-17T14:09:27.226Z"
   },
   {
    "duration": 7,
    "start_time": "2021-06-17T14:09:27.321Z"
   },
   {
    "duration": 14,
    "start_time": "2021-06-17T14:09:27.330Z"
   },
   {
    "duration": 1445,
    "start_time": "2021-06-17T14:09:27.347Z"
   },
   {
    "duration": 19,
    "start_time": "2021-06-17T14:10:28.377Z"
   },
   {
    "duration": 8,
    "start_time": "2021-06-17T14:10:28.792Z"
   },
   {
    "duration": 8,
    "start_time": "2021-06-17T14:10:39.373Z"
   },
   {
    "duration": 8,
    "start_time": "2021-06-17T14:10:48.419Z"
   },
   {
    "duration": 9,
    "start_time": "2021-06-17T14:10:48.849Z"
   },
   {
    "duration": 17,
    "start_time": "2021-06-17T14:10:49.376Z"
   },
   {
    "duration": 9,
    "start_time": "2021-06-17T14:10:49.785Z"
   },
   {
    "duration": 16,
    "start_time": "2021-06-17T14:10:59.697Z"
   },
   {
    "duration": 7,
    "start_time": "2021-06-17T14:10:59.985Z"
   },
   {
    "duration": 1431,
    "start_time": "2021-06-17T14:11:39.579Z"
   },
   {
    "duration": 8,
    "start_time": "2021-06-17T14:11:41.719Z"
   },
   {
    "duration": 78,
    "start_time": "2021-06-17T14:11:43.072Z"
   },
   {
    "duration": 460,
    "start_time": "2021-06-18T07:28:31.841Z"
   },
   {
    "duration": 1567,
    "start_time": "2021-06-18T07:28:37.208Z"
   },
   {
    "duration": 230,
    "start_time": "2021-06-18T07:28:38.777Z"
   },
   {
    "duration": 13,
    "start_time": "2021-06-18T07:28:39.010Z"
   },
   {
    "duration": 6,
    "start_time": "2021-06-18T07:28:39.026Z"
   },
   {
    "duration": 66,
    "start_time": "2021-06-18T07:28:39.035Z"
   },
   {
    "duration": 27,
    "start_time": "2021-06-18T07:28:39.103Z"
   },
   {
    "duration": 11,
    "start_time": "2021-06-18T07:28:39.132Z"
   },
   {
    "duration": 9,
    "start_time": "2021-06-18T07:28:39.147Z"
   },
   {
    "duration": 11,
    "start_time": "2021-06-18T07:28:39.159Z"
   },
   {
    "duration": 9,
    "start_time": "2021-06-18T07:28:39.172Z"
   },
   {
    "duration": 9,
    "start_time": "2021-06-18T07:28:39.226Z"
   },
   {
    "duration": 19,
    "start_time": "2021-06-18T07:28:39.238Z"
   },
   {
    "duration": 98,
    "start_time": "2021-06-18T07:28:39.260Z"
   },
   {
    "duration": 10,
    "start_time": "2021-06-18T07:28:39.361Z"
   },
   {
    "duration": 8,
    "start_time": "2021-06-18T07:28:39.374Z"
   },
   {
    "duration": 41,
    "start_time": "2021-06-18T07:28:39.384Z"
   },
   {
    "duration": 10,
    "start_time": "2021-06-18T07:28:39.428Z"
   },
   {
    "duration": 9,
    "start_time": "2021-06-18T07:28:39.440Z"
   },
   {
    "duration": 10,
    "start_time": "2021-06-18T07:28:39.451Z"
   },
   {
    "duration": 10,
    "start_time": "2021-06-18T07:28:39.464Z"
   },
   {
    "duration": 49,
    "start_time": "2021-06-18T07:28:39.476Z"
   },
   {
    "duration": 9,
    "start_time": "2021-06-18T07:28:39.528Z"
   },
   {
    "duration": 4,
    "start_time": "2021-06-18T07:28:39.545Z"
   },
   {
    "duration": 13,
    "start_time": "2021-06-18T07:28:39.553Z"
   },
   {
    "duration": 69,
    "start_time": "2021-06-18T07:28:39.569Z"
   },
   {
    "duration": 18,
    "start_time": "2021-06-18T07:28:39.640Z"
   },
   {
    "duration": 28,
    "start_time": "2021-06-18T07:28:39.661Z"
   },
   {
    "duration": 317,
    "start_time": "2021-06-18T07:28:39.691Z"
   },
   {
    "duration": 11,
    "start_time": "2021-06-18T07:28:40.025Z"
   },
   {
    "duration": 186,
    "start_time": "2021-06-18T07:28:40.124Z"
   },
   {
    "duration": 42,
    "start_time": "2021-06-18T07:28:40.313Z"
   },
   {
    "duration": 10,
    "start_time": "2021-06-18T07:28:40.358Z"
   },
   {
    "duration": 1021,
    "start_time": "2021-06-18T07:28:40.370Z"
   },
   {
    "duration": 72,
    "start_time": "2021-06-18T07:28:41.393Z"
   },
   {
    "duration": 348,
    "start_time": "2021-06-18T07:28:41.467Z"
   },
   {
    "duration": 10,
    "start_time": "2021-06-18T07:28:41.817Z"
   },
   {
    "duration": 9,
    "start_time": "2021-06-18T07:28:41.829Z"
   },
   {
    "duration": 15,
    "start_time": "2021-06-18T07:28:41.840Z"
   },
   {
    "duration": 5,
    "start_time": "2021-06-18T07:28:41.858Z"
   },
   {
    "duration": 20,
    "start_time": "2021-06-18T07:28:41.865Z"
   },
   {
    "duration": 40,
    "start_time": "2021-06-18T07:28:41.887Z"
   },
   {
    "duration": 8,
    "start_time": "2021-06-18T07:28:41.929Z"
   },
   {
    "duration": 8,
    "start_time": "2021-06-18T07:28:41.939Z"
   },
   {
    "duration": 23,
    "start_time": "2021-06-18T07:28:41.949Z"
   },
   {
    "duration": 7,
    "start_time": "2021-06-18T07:28:41.974Z"
   },
   {
    "duration": 47,
    "start_time": "2021-06-18T07:28:41.983Z"
   },
   {
    "duration": 257,
    "start_time": "2021-06-18T07:28:42.032Z"
   },
   {
    "duration": 41,
    "start_time": "2021-06-18T07:28:42.292Z"
   },
   {
    "duration": 265,
    "start_time": "2021-06-18T07:28:42.335Z"
   },
   {
    "duration": 44,
    "start_time": "2021-06-18T07:28:42.602Z"
   },
   {
    "duration": 1259,
    "start_time": "2021-06-18T07:28:42.648Z"
   },
   {
    "duration": 69,
    "start_time": "2021-06-18T07:28:43.910Z"
   },
   {
    "duration": 383,
    "start_time": "2021-06-18T07:28:43.982Z"
   },
   {
    "duration": 1257,
    "start_time": "2021-06-18T07:28:44.368Z"
   },
   {
    "duration": 9,
    "start_time": "2021-06-18T07:28:45.627Z"
   },
   {
    "duration": 94,
    "start_time": "2021-06-18T07:28:45.639Z"
   },
   {
    "duration": 7,
    "start_time": "2021-06-18T07:28:45.736Z"
   },
   {
    "duration": 9,
    "start_time": "2021-06-18T07:28:45.746Z"
   },
   {
    "duration": 18,
    "start_time": "2021-06-18T07:28:45.757Z"
   },
   {
    "duration": 7,
    "start_time": "2021-06-18T07:28:45.778Z"
   },
   {
    "duration": 1549,
    "start_time": "2021-06-18T07:28:45.826Z"
   },
   {
    "duration": 8,
    "start_time": "2021-06-18T07:28:47.378Z"
   },
   {
    "duration": 92,
    "start_time": "2021-06-18T07:28:47.388Z"
   },
   {
    "duration": 1563,
    "start_time": "2021-06-18T07:30:38.095Z"
   },
   {
    "duration": 67,
    "start_time": "2021-06-18T07:30:39.661Z"
   },
   {
    "duration": 12,
    "start_time": "2021-06-18T07:30:39.731Z"
   },
   {
    "duration": 5,
    "start_time": "2021-06-18T07:30:39.746Z"
   },
   {
    "duration": 77,
    "start_time": "2021-06-18T07:30:39.753Z"
   },
   {
    "duration": 9,
    "start_time": "2021-06-18T07:30:39.832Z"
   },
   {
    "duration": 12,
    "start_time": "2021-06-18T07:30:39.844Z"
   },
   {
    "duration": 10,
    "start_time": "2021-06-18T07:30:39.861Z"
   },
   {
    "duration": 57,
    "start_time": "2021-06-18T07:30:39.875Z"
   },
   {
    "duration": 10,
    "start_time": "2021-06-18T07:30:39.935Z"
   },
   {
    "duration": 10,
    "start_time": "2021-06-18T07:30:39.948Z"
   },
   {
    "duration": 21,
    "start_time": "2021-06-18T07:30:39.961Z"
   },
   {
    "duration": 103,
    "start_time": "2021-06-18T07:30:39.985Z"
   },
   {
    "duration": 10,
    "start_time": "2021-06-18T07:30:40.091Z"
   },
   {
    "duration": 27,
    "start_time": "2021-06-18T07:30:40.104Z"
   },
   {
    "duration": 18,
    "start_time": "2021-06-18T07:30:40.134Z"
   },
   {
    "duration": 8,
    "start_time": "2021-06-18T07:30:40.154Z"
   },
   {
    "duration": 8,
    "start_time": "2021-06-18T07:30:40.165Z"
   },
   {
    "duration": 8,
    "start_time": "2021-06-18T07:30:40.176Z"
   },
   {
    "duration": 6,
    "start_time": "2021-06-18T07:30:40.226Z"
   },
   {
    "duration": 8,
    "start_time": "2021-06-18T07:30:40.234Z"
   },
   {
    "duration": 7,
    "start_time": "2021-06-18T07:30:40.245Z"
   },
   {
    "duration": 4,
    "start_time": "2021-06-18T07:30:40.259Z"
   },
   {
    "duration": 12,
    "start_time": "2021-06-18T07:30:40.266Z"
   },
   {
    "duration": 69,
    "start_time": "2021-06-18T07:30:40.280Z"
   },
   {
    "duration": 18,
    "start_time": "2021-06-18T07:30:40.351Z"
   },
   {
    "duration": 28,
    "start_time": "2021-06-18T07:30:40.371Z"
   },
   {
    "duration": 287,
    "start_time": "2021-06-18T07:30:40.426Z"
   },
   {
    "duration": 12,
    "start_time": "2021-06-18T07:30:40.725Z"
   },
   {
    "duration": 262,
    "start_time": "2021-06-18T07:30:40.740Z"
   },
   {
    "duration": 43,
    "start_time": "2021-06-18T07:30:41.004Z"
   },
   {
    "duration": 10,
    "start_time": "2021-06-18T07:30:41.049Z"
   },
   {
    "duration": 1113,
    "start_time": "2021-06-18T07:30:41.061Z"
   },
   {
    "duration": 73,
    "start_time": "2021-06-18T07:30:42.177Z"
   },
   {
    "duration": 376,
    "start_time": "2021-06-18T07:30:42.252Z"
   },
   {
    "duration": 5,
    "start_time": "2021-06-18T07:30:42.630Z"
   },
   {
    "duration": 9,
    "start_time": "2021-06-18T07:30:42.638Z"
   },
   {
    "duration": 9,
    "start_time": "2021-06-18T07:30:42.649Z"
   },
   {
    "duration": 7,
    "start_time": "2021-06-18T07:30:42.660Z"
   },
   {
    "duration": 17,
    "start_time": "2021-06-18T07:30:42.669Z"
   },
   {
    "duration": 8,
    "start_time": "2021-06-18T07:30:42.725Z"
   },
   {
    "duration": 8,
    "start_time": "2021-06-18T07:30:42.735Z"
   },
   {
    "duration": 7,
    "start_time": "2021-06-18T07:30:42.745Z"
   },
   {
    "duration": 19,
    "start_time": "2021-06-18T07:30:42.754Z"
   },
   {
    "duration": 7,
    "start_time": "2021-06-18T07:30:42.776Z"
   },
   {
    "duration": 8,
    "start_time": "2021-06-18T07:30:42.826Z"
   },
   {
    "duration": 250,
    "start_time": "2021-06-18T07:30:42.837Z"
   },
   {
    "duration": 43,
    "start_time": "2021-06-18T07:30:43.089Z"
   },
   {
    "duration": 208,
    "start_time": "2021-06-18T07:30:43.136Z"
   },
   {
    "duration": 34,
    "start_time": "2021-06-18T07:30:43.347Z"
   },
   {
    "duration": 1171,
    "start_time": "2021-06-18T07:30:43.383Z"
   },
   {
    "duration": 96,
    "start_time": "2021-06-18T07:30:44.556Z"
   },
   {
    "duration": 412,
    "start_time": "2021-06-18T07:30:44.655Z"
   },
   {
    "duration": 1149,
    "start_time": "2021-06-18T07:30:45.069Z"
   },
   {
    "duration": 10,
    "start_time": "2021-06-18T07:30:46.221Z"
   },
   {
    "duration": 92,
    "start_time": "2021-06-18T07:30:46.233Z"
   },
   {
    "duration": 6,
    "start_time": "2021-06-18T07:30:46.328Z"
   },
   {
    "duration": 15,
    "start_time": "2021-06-18T07:30:46.337Z"
   },
   {
    "duration": 20,
    "start_time": "2021-06-18T07:30:46.354Z"
   },
   {
    "duration": 8,
    "start_time": "2021-06-18T07:30:46.376Z"
   },
   {
    "duration": 1439,
    "start_time": "2021-06-18T07:30:46.386Z"
   },
   {
    "duration": 9,
    "start_time": "2021-06-18T07:30:47.827Z"
   },
   {
    "duration": 92,
    "start_time": "2021-06-18T07:30:47.838Z"
   },
   {
    "duration": 1495,
    "start_time": "2021-06-18T08:16:19.483Z"
   },
   {
    "duration": 365,
    "start_time": "2021-06-18T08:16:20.981Z"
   },
   {
    "duration": 12,
    "start_time": "2021-06-18T08:16:21.349Z"
   },
   {
    "duration": 6,
    "start_time": "2021-06-18T08:16:21.364Z"
   },
   {
    "duration": 113,
    "start_time": "2021-06-18T08:16:21.373Z"
   },
   {
    "duration": 9,
    "start_time": "2021-06-18T08:16:21.488Z"
   },
   {
    "duration": 12,
    "start_time": "2021-06-18T08:16:21.500Z"
   },
   {
    "duration": 45,
    "start_time": "2021-06-18T08:16:21.517Z"
   },
   {
    "duration": 15,
    "start_time": "2021-06-18T08:16:21.567Z"
   },
   {
    "duration": 12,
    "start_time": "2021-06-18T08:16:21.585Z"
   },
   {
    "duration": 10,
    "start_time": "2021-06-18T08:16:21.600Z"
   },
   {
    "duration": 20,
    "start_time": "2021-06-18T08:16:21.656Z"
   },
   {
    "duration": 122,
    "start_time": "2021-06-18T08:16:21.678Z"
   },
   {
    "duration": 14,
    "start_time": "2021-06-18T08:16:21.804Z"
   },
   {
    "duration": 8,
    "start_time": "2021-06-18T08:16:21.821Z"
   },
   {
    "duration": 40,
    "start_time": "2021-06-18T08:16:21.831Z"
   },
   {
    "duration": 12,
    "start_time": "2021-06-18T08:16:21.874Z"
   },
   {
    "duration": 11,
    "start_time": "2021-06-18T08:16:21.890Z"
   },
   {
    "duration": 52,
    "start_time": "2021-06-18T08:16:21.904Z"
   },
   {
    "duration": 8,
    "start_time": "2021-06-18T08:16:21.960Z"
   },
   {
    "duration": 22,
    "start_time": "2021-06-18T08:16:21.971Z"
   },
   {
    "duration": 10,
    "start_time": "2021-06-18T08:16:21.997Z"
   },
   {
    "duration": 21,
    "start_time": "2021-06-18T08:16:22.015Z"
   },
   {
    "duration": 23,
    "start_time": "2021-06-18T08:16:22.040Z"
   },
   {
    "duration": 48,
    "start_time": "2021-06-18T08:16:22.066Z"
   },
   {
    "duration": 43,
    "start_time": "2021-06-18T08:16:22.117Z"
   },
   {
    "duration": 28,
    "start_time": "2021-06-18T08:16:22.163Z"
   },
   {
    "duration": 265,
    "start_time": "2021-06-18T08:16:22.194Z"
   },
   {
    "duration": 15,
    "start_time": "2021-06-18T08:16:22.462Z"
   },
   {
    "duration": 288,
    "start_time": "2021-06-18T08:16:22.480Z"
   },
   {
    "duration": 32,
    "start_time": "2021-06-18T08:16:22.771Z"
   },
   {
    "duration": 12,
    "start_time": "2021-06-18T08:16:22.806Z"
   },
   {
    "duration": 1004,
    "start_time": "2021-06-18T08:16:22.821Z"
   },
   {
    "duration": 72,
    "start_time": "2021-06-18T08:16:23.828Z"
   },
   {
    "duration": 351,
    "start_time": "2021-06-18T08:16:23.903Z"
   },
   {
    "duration": 7,
    "start_time": "2021-06-18T08:16:24.257Z"
   },
   {
    "duration": 11,
    "start_time": "2021-06-18T08:16:24.267Z"
   },
   {
    "duration": 10,
    "start_time": "2021-06-18T08:16:24.281Z"
   },
   {
    "duration": 6,
    "start_time": "2021-06-18T08:16:24.295Z"
   },
   {
    "duration": 70,
    "start_time": "2021-06-18T08:16:24.304Z"
   },
   {
    "duration": 11,
    "start_time": "2021-06-18T08:16:24.377Z"
   },
   {
    "duration": 7,
    "start_time": "2021-06-18T08:16:24.391Z"
   },
   {
    "duration": 7,
    "start_time": "2021-06-18T08:16:24.401Z"
   },
   {
    "duration": 54,
    "start_time": "2021-06-18T08:16:24.410Z"
   },
   {
    "duration": 9,
    "start_time": "2021-06-18T08:16:24.466Z"
   },
   {
    "duration": 12,
    "start_time": "2021-06-18T08:16:24.478Z"
   },
   {
    "duration": 501,
    "start_time": "2021-06-18T08:16:24.493Z"
   },
   {
    "duration": 17,
    "start_time": "2021-06-18T08:16:24.981Z"
   },
   {
    "duration": 11,
    "start_time": "2021-06-18T08:16:24.988Z"
   },
   {
    "duration": 6,
    "start_time": "2021-06-18T08:16:24.996Z"
   },
   {
    "duration": 3,
    "start_time": "2021-06-18T08:16:25.001Z"
   },
   {
    "duration": -2,
    "start_time": "2021-06-18T08:16:25.007Z"
   },
   {
    "duration": -6,
    "start_time": "2021-06-18T08:16:25.014Z"
   },
   {
    "duration": -10,
    "start_time": "2021-06-18T08:16:25.020Z"
   },
   {
    "duration": -14,
    "start_time": "2021-06-18T08:16:25.026Z"
   },
   {
    "duration": -19,
    "start_time": "2021-06-18T08:16:25.032Z"
   },
   {
    "duration": -23,
    "start_time": "2021-06-18T08:16:25.038Z"
   },
   {
    "duration": -27,
    "start_time": "2021-06-18T08:16:25.044Z"
   },
   {
    "duration": -31,
    "start_time": "2021-06-18T08:16:25.050Z"
   },
   {
    "duration": -36,
    "start_time": "2021-06-18T08:16:25.057Z"
   },
   {
    "duration": -66,
    "start_time": "2021-06-18T08:16:25.089Z"
   },
   {
    "duration": -71,
    "start_time": "2021-06-18T08:16:25.097Z"
   },
   {
    "duration": -76,
    "start_time": "2021-06-18T08:16:25.104Z"
   },
   {
    "duration": -81,
    "start_time": "2021-06-18T08:16:25.110Z"
   },
   {
    "duration": -86,
    "start_time": "2021-06-18T08:16:25.117Z"
   },
   {
    "duration": 5,
    "start_time": "2021-06-18T08:17:13.898Z"
   },
   {
    "duration": 160,
    "start_time": "2021-06-18T08:17:13.906Z"
   },
   {
    "duration": 15,
    "start_time": "2021-06-18T08:17:14.070Z"
   },
   {
    "duration": 7,
    "start_time": "2021-06-18T08:17:14.089Z"
   },
   {
    "duration": 109,
    "start_time": "2021-06-18T08:17:14.100Z"
   },
   {
    "duration": 11,
    "start_time": "2021-06-18T08:17:14.214Z"
   },
   {
    "duration": 39,
    "start_time": "2021-06-18T08:17:14.230Z"
   },
   {
    "duration": 12,
    "start_time": "2021-06-18T08:17:14.274Z"
   },
   {
    "duration": 22,
    "start_time": "2021-06-18T08:17:14.290Z"
   },
   {
    "duration": 44,
    "start_time": "2021-06-18T08:17:14.315Z"
   },
   {
    "duration": 13,
    "start_time": "2021-06-18T08:17:14.363Z"
   },
   {
    "duration": 34,
    "start_time": "2021-06-18T08:17:14.379Z"
   },
   {
    "duration": 112,
    "start_time": "2021-06-18T08:17:14.417Z"
   },
   {
    "duration": 26,
    "start_time": "2021-06-18T08:17:14.532Z"
   },
   {
    "duration": 8,
    "start_time": "2021-06-18T08:17:14.561Z"
   },
   {
    "duration": 9,
    "start_time": "2021-06-18T08:17:14.572Z"
   },
   {
    "duration": 15,
    "start_time": "2021-06-18T08:17:14.583Z"
   },
   {
    "duration": 55,
    "start_time": "2021-06-18T08:17:14.601Z"
   },
   {
    "duration": 10,
    "start_time": "2021-06-18T08:17:14.661Z"
   },
   {
    "duration": 14,
    "start_time": "2021-06-18T08:17:14.675Z"
   },
   {
    "duration": 16,
    "start_time": "2021-06-18T08:17:14.691Z"
   },
   {
    "duration": 12,
    "start_time": "2021-06-18T08:17:14.710Z"
   },
   {
    "duration": 10,
    "start_time": "2021-06-18T08:17:14.725Z"
   },
   {
    "duration": 25,
    "start_time": "2021-06-18T08:17:14.738Z"
   },
   {
    "duration": 33,
    "start_time": "2021-06-18T08:17:14.765Z"
   },
   {
    "duration": 18,
    "start_time": "2021-06-18T08:17:14.801Z"
   },
   {
    "duration": 58,
    "start_time": "2021-06-18T08:17:14.822Z"
   },
   {
    "duration": 324,
    "start_time": "2021-06-18T08:17:14.883Z"
   },
   {
    "duration": 48,
    "start_time": "2021-06-18T08:17:15.209Z"
   },
   {
    "duration": 170,
    "start_time": "2021-06-18T08:17:15.261Z"
   },
   {
    "duration": 45,
    "start_time": "2021-06-18T08:17:15.433Z"
   },
   {
    "duration": 9,
    "start_time": "2021-06-18T08:17:15.481Z"
   },
   {
    "duration": 1138,
    "start_time": "2021-06-18T08:17:15.493Z"
   },
   {
    "duration": 88,
    "start_time": "2021-06-18T08:17:16.634Z"
   },
   {
    "duration": 564,
    "start_time": "2021-06-18T08:17:16.726Z"
   },
   {
    "duration": 6,
    "start_time": "2021-06-18T08:17:17.293Z"
   },
   {
    "duration": 12,
    "start_time": "2021-06-18T08:17:17.303Z"
   },
   {
    "duration": 48,
    "start_time": "2021-06-18T08:17:17.318Z"
   },
   {
    "duration": 8,
    "start_time": "2021-06-18T08:17:17.370Z"
   },
   {
    "duration": 26,
    "start_time": "2021-06-18T08:17:17.381Z"
   },
   {
    "duration": 12,
    "start_time": "2021-06-18T08:17:17.411Z"
   },
   {
    "duration": 12,
    "start_time": "2021-06-18T08:17:17.457Z"
   },
   {
    "duration": 8,
    "start_time": "2021-06-18T08:17:17.472Z"
   },
   {
    "duration": 22,
    "start_time": "2021-06-18T08:17:17.482Z"
   },
   {
    "duration": 53,
    "start_time": "2021-06-18T08:17:17.507Z"
   },
   {
    "duration": 14,
    "start_time": "2021-06-18T08:17:17.562Z"
   },
   {
    "duration": 34,
    "start_time": "2021-06-18T08:17:17.578Z"
   },
   {
    "duration": 48,
    "start_time": "2021-06-18T08:17:17.615Z"
   },
   {
    "duration": 295,
    "start_time": "2021-06-18T08:17:17.666Z"
   },
   {
    "duration": 281,
    "start_time": "2021-06-18T08:17:17.964Z"
   },
   {
    "duration": 113,
    "start_time": "2021-06-18T08:17:18.249Z"
   },
   {
    "duration": 350,
    "start_time": "2021-06-18T08:17:18.365Z"
   },
   {
    "duration": 106,
    "start_time": "2021-06-18T08:17:18.613Z"
   },
   {
    "duration": 65,
    "start_time": "2021-06-18T08:17:18.655Z"
   },
   {
    "duration": 60,
    "start_time": "2021-06-18T08:17:18.661Z"
   },
   {
    "duration": 52,
    "start_time": "2021-06-18T08:17:18.671Z"
   },
   {
    "duration": 46,
    "start_time": "2021-06-18T08:17:18.678Z"
   },
   {
    "duration": 37,
    "start_time": "2021-06-18T08:17:18.688Z"
   },
   {
    "duration": 32,
    "start_time": "2021-06-18T08:17:18.695Z"
   },
   {
    "duration": 15,
    "start_time": "2021-06-18T08:17:18.713Z"
   },
   {
    "duration": 6,
    "start_time": "2021-06-18T08:17:18.723Z"
   },
   {
    "duration": 1,
    "start_time": "2021-06-18T08:17:18.729Z"
   },
   {
    "duration": -23,
    "start_time": "2021-06-18T08:17:18.755Z"
   },
   {
    "duration": -28,
    "start_time": "2021-06-18T08:17:18.761Z"
   },
   {
    "duration": -34,
    "start_time": "2021-06-18T08:17:18.768Z"
   },
   {
    "duration": -47,
    "start_time": "2021-06-18T08:17:18.782Z"
   },
   {
    "duration": 20,
    "start_time": "2021-06-18T08:21:40.295Z"
   },
   {
    "duration": 108,
    "start_time": "2021-06-18T08:24:51.331Z"
   },
   {
    "duration": 419,
    "start_time": "2021-06-18T08:25:03.224Z"
   },
   {
    "duration": 100,
    "start_time": "2021-06-18T08:25:32.488Z"
   },
   {
    "duration": 48,
    "start_time": "2021-06-18T08:25:37.635Z"
   },
   {
    "duration": 169,
    "start_time": "2021-06-18T08:25:46.015Z"
   },
   {
    "duration": 66,
    "start_time": "2021-06-18T08:26:05.219Z"
   },
   {
    "duration": 37,
    "start_time": "2021-06-18T08:29:07.571Z"
   },
   {
    "duration": 1474,
    "start_time": "2021-06-18T08:33:16.891Z"
   },
   {
    "duration": 537,
    "start_time": "2021-06-18T08:33:19.756Z"
   },
   {
    "duration": 107340,
    "start_time": "2021-06-18T08:33:49.500Z"
   },
   {
    "duration": 34085,
    "start_time": "2021-06-18T08:36:41.563Z"
   },
   {
    "duration": 738,
    "start_time": "2021-06-18T08:38:22.418Z"
   },
   {
    "duration": 443,
    "start_time": "2021-06-18T08:38:40.707Z"
   },
   {
    "duration": 37,
    "start_time": "2021-06-18T08:40:22.603Z"
   },
   {
    "duration": 529,
    "start_time": "2021-06-18T08:40:49.027Z"
   },
   {
    "duration": 1408,
    "start_time": "2021-06-18T08:41:59.252Z"
   },
   {
    "duration": 834,
    "start_time": "2021-06-18T08:42:45.946Z"
   },
   {
    "duration": 11,
    "start_time": "2021-06-18T08:42:49.178Z"
   },
   {
    "duration": 55,
    "start_time": "2021-06-18T08:43:02.034Z"
   },
   {
    "duration": 8,
    "start_time": "2021-06-18T08:44:01.995Z"
   },
   {
    "duration": 10,
    "start_time": "2021-06-18T08:44:04.066Z"
   },
   {
    "duration": 16,
    "start_time": "2021-06-18T08:44:28.970Z"
   },
   {
    "duration": 9,
    "start_time": "2021-06-18T08:44:29.969Z"
   },
   {
    "duration": 79,
    "start_time": "2021-06-18T08:44:35.241Z"
   },
   {
    "duration": 8,
    "start_time": "2021-06-18T08:44:35.937Z"
   },
   {
    "duration": 8,
    "start_time": "2021-06-18T08:44:39.369Z"
   },
   {
    "duration": 8,
    "start_time": "2021-06-18T08:44:39.857Z"
   },
   {
    "duration": 19,
    "start_time": "2021-06-18T08:44:42.089Z"
   },
   {
    "duration": 8,
    "start_time": "2021-06-18T08:44:42.641Z"
   },
   {
    "duration": 24,
    "start_time": "2021-06-18T08:45:51.114Z"
   },
   {
    "duration": 11,
    "start_time": "2021-06-18T08:45:51.753Z"
   },
   {
    "duration": 977,
    "start_time": "2021-06-18T08:46:02.921Z"
   },
   {
    "duration": 11,
    "start_time": "2021-06-18T08:46:04.634Z"
   },
   {
    "duration": 17,
    "start_time": "2021-06-18T08:47:07.938Z"
   },
   {
    "duration": 8,
    "start_time": "2021-06-18T08:47:08.752Z"
   },
   {
    "duration": 950,
    "start_time": "2021-06-18T08:47:37.305Z"
   },
   {
    "duration": 11,
    "start_time": "2021-06-18T08:47:38.914Z"
   },
   {
    "duration": 56,
    "start_time": "2021-06-18T08:47:40.328Z"
   },
   {
    "duration": 7,
    "start_time": "2021-06-18T08:55:57.177Z"
   },
   {
    "duration": 138,
    "start_time": "2021-06-18T08:55:57.187Z"
   },
   {
    "duration": 16,
    "start_time": "2021-06-18T08:55:57.330Z"
   },
   {
    "duration": 8,
    "start_time": "2021-06-18T08:55:57.350Z"
   },
   {
    "duration": 54,
    "start_time": "2021-06-18T08:55:57.361Z"
   },
   {
    "duration": 41,
    "start_time": "2021-06-18T08:55:57.417Z"
   },
   {
    "duration": 20,
    "start_time": "2021-06-18T08:55:57.461Z"
   },
   {
    "duration": 11,
    "start_time": "2021-06-18T08:55:57.486Z"
   },
   {
    "duration": 59,
    "start_time": "2021-06-18T08:55:57.501Z"
   },
   {
    "duration": 11,
    "start_time": "2021-06-18T08:55:57.563Z"
   },
   {
    "duration": 17,
    "start_time": "2021-06-18T08:55:57.577Z"
   },
   {
    "duration": 63,
    "start_time": "2021-06-18T08:55:57.597Z"
   },
   {
    "duration": 70,
    "start_time": "2021-06-18T08:55:57.663Z"
   },
   {
    "duration": 31,
    "start_time": "2021-06-18T08:55:57.736Z"
   },
   {
    "duration": 9,
    "start_time": "2021-06-18T08:55:57.770Z"
   },
   {
    "duration": 13,
    "start_time": "2021-06-18T08:55:57.782Z"
   },
   {
    "duration": 17,
    "start_time": "2021-06-18T08:55:57.798Z"
   },
   {
    "duration": 43,
    "start_time": "2021-06-18T08:55:57.818Z"
   },
   {
    "duration": 10,
    "start_time": "2021-06-18T08:55:57.864Z"
   },
   {
    "duration": 7,
    "start_time": "2021-06-18T08:55:57.877Z"
   },
   {
    "duration": 7,
    "start_time": "2021-06-18T08:55:57.887Z"
   },
   {
    "duration": 8,
    "start_time": "2021-06-18T08:55:57.897Z"
   },
   {
    "duration": 4,
    "start_time": "2021-06-18T08:55:57.957Z"
   },
   {
    "duration": 16,
    "start_time": "2021-06-18T08:55:57.967Z"
   },
   {
    "duration": 34,
    "start_time": "2021-06-18T08:55:57.986Z"
   },
   {
    "duration": 43,
    "start_time": "2021-06-18T08:55:58.022Z"
   },
   {
    "duration": 38,
    "start_time": "2021-06-18T08:55:58.068Z"
   },
   {
    "duration": 296,
    "start_time": "2021-06-18T08:55:58.109Z"
   },
   {
    "duration": 60,
    "start_time": "2021-06-18T08:55:58.408Z"
   },
   {
    "duration": 143,
    "start_time": "2021-06-18T08:55:58.557Z"
   },
   {
    "duration": 55,
    "start_time": "2021-06-18T08:55:58.702Z"
   },
   {
    "duration": 9,
    "start_time": "2021-06-18T08:55:58.760Z"
   },
   {
    "duration": 985,
    "start_time": "2021-06-18T08:55:58.772Z"
   },
   {
    "duration": 63,
    "start_time": "2021-06-18T08:55:59.759Z"
   },
   {
    "duration": 358,
    "start_time": "2021-06-18T08:55:59.825Z"
   },
   {
    "duration": 6,
    "start_time": "2021-06-18T08:56:00.185Z"
   },
   {
    "duration": 16,
    "start_time": "2021-06-18T08:56:00.193Z"
   },
   {
    "duration": 15,
    "start_time": "2021-06-18T08:56:00.211Z"
   },
   {
    "duration": 7,
    "start_time": "2021-06-18T08:56:00.257Z"
   },
   {
    "duration": 30,
    "start_time": "2021-06-18T08:56:00.267Z"
   },
   {
    "duration": 11,
    "start_time": "2021-06-18T08:56:00.301Z"
   },
   {
    "duration": 11,
    "start_time": "2021-06-18T08:56:00.314Z"
   },
   {
    "duration": 8,
    "start_time": "2021-06-18T08:56:00.357Z"
   },
   {
    "duration": 44,
    "start_time": "2021-06-18T08:56:00.368Z"
   },
   {
    "duration": 9,
    "start_time": "2021-06-18T08:56:00.415Z"
   },
   {
    "duration": 29,
    "start_time": "2021-06-18T08:56:00.427Z"
   },
   {
    "duration": 41,
    "start_time": "2021-06-18T08:56:00.458Z"
   },
   {
    "duration": 18,
    "start_time": "2021-06-18T08:56:00.502Z"
   },
   {
    "duration": 288,
    "start_time": "2021-06-18T08:56:00.523Z"
   },
   {
    "duration": 207,
    "start_time": "2021-06-18T08:56:00.813Z"
   },
   {
    "duration": 45,
    "start_time": "2021-06-18T08:56:01.022Z"
   },
   {
    "duration": 203,
    "start_time": "2021-06-18T08:56:01.156Z"
   },
   {
    "duration": 50,
    "start_time": "2021-06-18T08:56:01.362Z"
   },
   {
    "duration": 63,
    "start_time": "2021-06-18T08:56:01.414Z"
   },
   {
    "duration": 760,
    "start_time": "2021-06-18T08:56:01.479Z"
   },
   {
    "duration": 714,
    "start_time": "2021-06-18T08:56:02.242Z"
   },
   {
    "duration": 39,
    "start_time": "2021-06-18T08:56:02.959Z"
   },
   {
    "duration": 382,
    "start_time": "2021-06-18T08:56:03.001Z"
   },
   {
    "duration": 738,
    "start_time": "2021-06-18T08:56:03.385Z"
   },
   {
    "duration": 7,
    "start_time": "2021-06-18T08:56:04.126Z"
   },
   {
    "duration": 59,
    "start_time": "2021-06-18T08:56:04.136Z"
   },
   {
    "duration": 7,
    "start_time": "2021-06-18T08:56:04.197Z"
   },
   {
    "duration": 19,
    "start_time": "2021-06-18T08:56:04.206Z"
   },
   {
    "duration": 43,
    "start_time": "2021-06-18T08:56:04.228Z"
   },
   {
    "duration": 8,
    "start_time": "2021-06-18T08:56:04.273Z"
   },
   {
    "duration": 1085,
    "start_time": "2021-06-18T08:56:04.283Z"
   },
   {
    "duration": 8,
    "start_time": "2021-06-18T08:56:05.370Z"
   },
   {
    "duration": 43,
    "start_time": "2021-06-18T08:56:05.385Z"
   }
  ],
  "kernelspec": {
   "display_name": "Python 3",
   "language": "python",
   "name": "python3"
  },
  "language_info": {
   "codemirror_mode": {
    "name": "ipython",
    "version": 3
   },
   "file_extension": ".py",
   "mimetype": "text/x-python",
   "name": "python",
   "nbconvert_exporter": "python",
   "pygments_lexer": "ipython3",
   "version": "3.8.8"
  },
  "toc": {
   "base_numbering": 1,
   "nav_menu": {},
   "number_sections": true,
   "sideBar": true,
   "skip_h1_title": true,
   "title_cell": "Содержание",
   "title_sidebar": "Contents",
   "toc_cell": true,
   "toc_position": {
    "height": "calc(100% - 180px)",
    "left": "10px",
    "top": "150px",
    "width": "409.097px"
   },
   "toc_section_display": true,
   "toc_window_display": true
  }
 },
 "nbformat": 4,
 "nbformat_minor": 2
}
