{
 "cells": [
  {
   "cell_type": "markdown",
   "metadata": {},
   "source": [
    "# Рекомендация тарифов"
   ]
  },
  {
   "cell_type": "markdown",
   "metadata": {},
   "source": [
    "<div style=\"border-radius: 15px; border: 1px solid grey; padding: 15px;\">\n",
    "<b> Описание проекта</b>\n",
    "    \n",
    "Оператор мобильной связи «Мегалайн» выяснил: многие клиенты пользуются архивными тарифами. Они хотят построить систему, способную проанализировать поведение клиентов и предложить пользователям новый тариф: «Смарт» или «Ультра».\n",
    "В вашем распоряжении данные о поведении клиентов, которые уже перешли на эти тарифы (из проекта курса «Статистический анализ данных»). Нужно построить модель для задачи классификации, которая выберет подходящий тариф. Предобработка данных не понадобится — вы её уже сделали.\n",
    "Постройте модель с максимально большим значением accuracy.\n",
    "\n",
    "\n",
    "</div>"
   ]
  },
  {
   "cell_type": "markdown",
   "metadata": {},
   "source": [
    "<div style=\"border-radius: 15px; border: 1px solid grey; padding: 15px;\">\n",
    "<b> Описание данных </b> \n",
    " \n",
    "\n",
    "Каждый объект в наборе данных — это информация о поведении одного пользователя за месяц.\n",
    "\n",
    "Известно:\n",
    "\n",
    "сalls — количество звонков,\n",
    "\n",
    "minutes — суммарная длительность звонков в минутах,\n",
    "\n",
    "messages — количество sms-сообщений,\n",
    "\n",
    "mb_used — израсходованный интернет-трафик в Мб,\n",
    "\n",
    "is_ultra — каким тарифом пользовался в течение месяца («Ультра» — 1, «Смарт» — 0).\n",
    "\n",
    "</div>\n",
    "\n",
    "\n",
    " \n"
   ]
  },
  {
   "cell_type": "markdown",
   "metadata": {},
   "source": [
    "## Открываем и изучаем файл"
   ]
  },
  {
   "cell_type": "code",
   "execution_count": 1,
   "metadata": {},
   "outputs": [],
   "source": [
    "import pandas as pd\n",
    "import numpy as np\n",
    "from sklearn.tree import DecisionTreeClassifier \n",
    "from sklearn.ensemble import RandomForestClassifier\n",
    "from sklearn.linear_model import LogisticRegression\n",
    "from sklearn.model_selection import train_test_split\n",
    "from sklearn.metrics import accuracy_score"
   ]
  },
  {
   "cell_type": "code",
   "execution_count": 2,
   "metadata": {},
   "outputs": [],
   "source": [
    "df = pd.read_csv('/users_behavior.csv')"
   ]
  },
  {
   "cell_type": "markdown",
   "metadata": {},
   "source": [
    "<div style=\"border-radius: 15px; border: 1px solid grey; padding: 15px;\">\n",
    "Открыли файл, проверим содержимое:\n",
    "</div>"
   ]
  },
  {
   "cell_type": "code",
   "execution_count": 3,
   "metadata": {},
   "outputs": [
    {
     "name": "stdout",
     "output_type": "stream",
     "text": [
      "<class 'pandas.core.frame.DataFrame'>\n",
      "RangeIndex: 3214 entries, 0 to 3213\n",
      "Data columns (total 5 columns):\n",
      "calls       3214 non-null float64\n",
      "minutes     3214 non-null float64\n",
      "messages    3214 non-null float64\n",
      "mb_used     3214 non-null float64\n",
      "is_ultra    3214 non-null int64\n",
      "dtypes: float64(4), int64(1)\n",
      "memory usage: 125.7 KB\n"
     ]
    }
   ],
   "source": [
    "df.info()"
   ]
  },
  {
   "cell_type": "code",
   "execution_count": 4,
   "metadata": {},
   "outputs": [
    {
     "data": {
      "text/html": [
       "<div>\n",
       "<style scoped>\n",
       "    .dataframe tbody tr th:only-of-type {\n",
       "        vertical-align: middle;\n",
       "    }\n",
       "\n",
       "    .dataframe tbody tr th {\n",
       "        vertical-align: top;\n",
       "    }\n",
       "\n",
       "    .dataframe thead th {\n",
       "        text-align: right;\n",
       "    }\n",
       "</style>\n",
       "<table border=\"1\" class=\"dataframe\">\n",
       "  <thead>\n",
       "    <tr style=\"text-align: right;\">\n",
       "      <th></th>\n",
       "      <th>calls</th>\n",
       "      <th>minutes</th>\n",
       "      <th>messages</th>\n",
       "      <th>mb_used</th>\n",
       "      <th>is_ultra</th>\n",
       "    </tr>\n",
       "  </thead>\n",
       "  <tbody>\n",
       "    <tr>\n",
       "      <td>3165</td>\n",
       "      <td>79.0</td>\n",
       "      <td>505.50</td>\n",
       "      <td>105.0</td>\n",
       "      <td>12406.00</td>\n",
       "      <td>0</td>\n",
       "    </tr>\n",
       "    <tr>\n",
       "      <td>426</td>\n",
       "      <td>36.0</td>\n",
       "      <td>198.96</td>\n",
       "      <td>32.0</td>\n",
       "      <td>21596.86</td>\n",
       "      <td>0</td>\n",
       "    </tr>\n",
       "    <tr>\n",
       "      <td>329</td>\n",
       "      <td>52.0</td>\n",
       "      <td>399.87</td>\n",
       "      <td>81.0</td>\n",
       "      <td>14055.95</td>\n",
       "      <td>1</td>\n",
       "    </tr>\n",
       "    <tr>\n",
       "      <td>232</td>\n",
       "      <td>42.0</td>\n",
       "      <td>260.94</td>\n",
       "      <td>79.0</td>\n",
       "      <td>17519.93</td>\n",
       "      <td>1</td>\n",
       "    </tr>\n",
       "    <tr>\n",
       "      <td>1525</td>\n",
       "      <td>58.0</td>\n",
       "      <td>403.84</td>\n",
       "      <td>2.0</td>\n",
       "      <td>13700.20</td>\n",
       "      <td>1</td>\n",
       "    </tr>\n",
       "    <tr>\n",
       "      <td>2440</td>\n",
       "      <td>62.0</td>\n",
       "      <td>466.60</td>\n",
       "      <td>0.0</td>\n",
       "      <td>17353.48</td>\n",
       "      <td>0</td>\n",
       "    </tr>\n",
       "    <tr>\n",
       "      <td>2033</td>\n",
       "      <td>78.0</td>\n",
       "      <td>398.25</td>\n",
       "      <td>82.0</td>\n",
       "      <td>17359.52</td>\n",
       "      <td>0</td>\n",
       "    </tr>\n",
       "    <tr>\n",
       "      <td>2366</td>\n",
       "      <td>37.0</td>\n",
       "      <td>263.57</td>\n",
       "      <td>0.0</td>\n",
       "      <td>18802.26</td>\n",
       "      <td>0</td>\n",
       "    </tr>\n",
       "    <tr>\n",
       "      <td>2226</td>\n",
       "      <td>10.0</td>\n",
       "      <td>69.79</td>\n",
       "      <td>14.0</td>\n",
       "      <td>31506.71</td>\n",
       "      <td>1</td>\n",
       "    </tr>\n",
       "    <tr>\n",
       "      <td>1435</td>\n",
       "      <td>76.0</td>\n",
       "      <td>585.56</td>\n",
       "      <td>30.0</td>\n",
       "      <td>22165.13</td>\n",
       "      <td>0</td>\n",
       "    </tr>\n",
       "  </tbody>\n",
       "</table>\n",
       "</div>"
      ],
      "text/plain": [
       "      calls  minutes  messages   mb_used  is_ultra\n",
       "3165   79.0   505.50     105.0  12406.00         0\n",
       "426    36.0   198.96      32.0  21596.86         0\n",
       "329    52.0   399.87      81.0  14055.95         1\n",
       "232    42.0   260.94      79.0  17519.93         1\n",
       "1525   58.0   403.84       2.0  13700.20         1\n",
       "2440   62.0   466.60       0.0  17353.48         0\n",
       "2033   78.0   398.25      82.0  17359.52         0\n",
       "2366   37.0   263.57       0.0  18802.26         0\n",
       "2226   10.0    69.79      14.0  31506.71         1\n",
       "1435   76.0   585.56      30.0  22165.13         0"
      ]
     },
     "execution_count": 4,
     "metadata": {},
     "output_type": "execute_result"
    }
   ],
   "source": [
    "df.sample(10, random_state=5)"
   ]
  },
  {
   "cell_type": "code",
   "execution_count": 5,
   "metadata": {},
   "outputs": [
    {
     "data": {
      "text/html": [
       "<div>\n",
       "<style scoped>\n",
       "    .dataframe tbody tr th:only-of-type {\n",
       "        vertical-align: middle;\n",
       "    }\n",
       "\n",
       "    .dataframe tbody tr th {\n",
       "        vertical-align: top;\n",
       "    }\n",
       "\n",
       "    .dataframe thead th {\n",
       "        text-align: right;\n",
       "    }\n",
       "</style>\n",
       "<table border=\"1\" class=\"dataframe\">\n",
       "  <thead>\n",
       "    <tr style=\"text-align: right;\">\n",
       "      <th></th>\n",
       "      <th>calls</th>\n",
       "      <th>minutes</th>\n",
       "      <th>messages</th>\n",
       "      <th>mb_used</th>\n",
       "      <th>is_ultra</th>\n",
       "    </tr>\n",
       "  </thead>\n",
       "  <tbody>\n",
       "    <tr>\n",
       "      <td>count</td>\n",
       "      <td>3214.000000</td>\n",
       "      <td>3214.000000</td>\n",
       "      <td>3214.000000</td>\n",
       "      <td>3214.000000</td>\n",
       "      <td>3214.000000</td>\n",
       "    </tr>\n",
       "    <tr>\n",
       "      <td>mean</td>\n",
       "      <td>63.038892</td>\n",
       "      <td>438.208787</td>\n",
       "      <td>38.281269</td>\n",
       "      <td>17207.673836</td>\n",
       "      <td>0.306472</td>\n",
       "    </tr>\n",
       "    <tr>\n",
       "      <td>std</td>\n",
       "      <td>33.236368</td>\n",
       "      <td>234.569872</td>\n",
       "      <td>36.148326</td>\n",
       "      <td>7570.968246</td>\n",
       "      <td>0.461100</td>\n",
       "    </tr>\n",
       "    <tr>\n",
       "      <td>min</td>\n",
       "      <td>0.000000</td>\n",
       "      <td>0.000000</td>\n",
       "      <td>0.000000</td>\n",
       "      <td>0.000000</td>\n",
       "      <td>0.000000</td>\n",
       "    </tr>\n",
       "    <tr>\n",
       "      <td>25%</td>\n",
       "      <td>40.000000</td>\n",
       "      <td>274.575000</td>\n",
       "      <td>9.000000</td>\n",
       "      <td>12491.902500</td>\n",
       "      <td>0.000000</td>\n",
       "    </tr>\n",
       "    <tr>\n",
       "      <td>50%</td>\n",
       "      <td>62.000000</td>\n",
       "      <td>430.600000</td>\n",
       "      <td>30.000000</td>\n",
       "      <td>16943.235000</td>\n",
       "      <td>0.000000</td>\n",
       "    </tr>\n",
       "    <tr>\n",
       "      <td>75%</td>\n",
       "      <td>82.000000</td>\n",
       "      <td>571.927500</td>\n",
       "      <td>57.000000</td>\n",
       "      <td>21424.700000</td>\n",
       "      <td>1.000000</td>\n",
       "    </tr>\n",
       "    <tr>\n",
       "      <td>max</td>\n",
       "      <td>244.000000</td>\n",
       "      <td>1632.060000</td>\n",
       "      <td>224.000000</td>\n",
       "      <td>49745.730000</td>\n",
       "      <td>1.000000</td>\n",
       "    </tr>\n",
       "  </tbody>\n",
       "</table>\n",
       "</div>"
      ],
      "text/plain": [
       "             calls      minutes     messages       mb_used     is_ultra\n",
       "count  3214.000000  3214.000000  3214.000000   3214.000000  3214.000000\n",
       "mean     63.038892   438.208787    38.281269  17207.673836     0.306472\n",
       "std      33.236368   234.569872    36.148326   7570.968246     0.461100\n",
       "min       0.000000     0.000000     0.000000      0.000000     0.000000\n",
       "25%      40.000000   274.575000     9.000000  12491.902500     0.000000\n",
       "50%      62.000000   430.600000    30.000000  16943.235000     0.000000\n",
       "75%      82.000000   571.927500    57.000000  21424.700000     1.000000\n",
       "max     244.000000  1632.060000   224.000000  49745.730000     1.000000"
      ]
     },
     "execution_count": 5,
     "metadata": {},
     "output_type": "execute_result"
    }
   ],
   "source": [
    "df.describe()"
   ]
  },
  {
   "cell_type": "markdown",
   "metadata": {},
   "source": [
    "<div style=\"border-radius: 15px; border: 1px solid grey; padding: 15px;\">\n",
    "3214 записи со статистикой по абонентам, без пропусков. Нам прямо говорят, что предобработка данных не нужна, но я бы заменил типы данных 'calls' и 'messages' на целочисленные.\n",
    "\n",
    "Переходм к следующему разделу.\n",
    "</div>"
   ]
  },
  {
   "cell_type": "markdown",
   "metadata": {},
   "source": [
    "## Разбиваем данные на выборки"
   ]
  },
  {
   "cell_type": "markdown",
   "metadata": {},
   "source": [
    "<div style=\"border-radius: 15px; border: 1px solid grey; padding: 15px;\">\n",
    "Выделим из основног фрейма 25% строк на тестовую выборку, а из оставшихся данных выделим 25% строк на валидационную выборку, оставшиеся данные станут обучающей выборкой. Для этого используем функцию train_test_split из sklearn:\n",
    "</div>"
   ]
  },
  {
   "cell_type": "code",
   "execution_count": 6,
   "metadata": {},
   "outputs": [],
   "source": [
    "df_t_v, df_test = train_test_split(df, test_size=0.25, random_state=12345)\n",
    "df_train, df_valid = train_test_split(df_t_v, test_size=0.25, random_state=12345)"
   ]
  },
  {
   "cell_type": "code",
   "execution_count": 7,
   "metadata": {},
   "outputs": [
    {
     "name": "stdout",
     "output_type": "stream",
     "text": [
      " Размер Обучающей выборки: 1807 \n",
      " Размер Валидационной выборки: 603 \n",
      " Размер Тестовой выборки: 804\n"
     ]
    }
   ],
   "source": [
    "print(' Размер Обучающей выборки:', df_train['is_ultra'].count(), '\\n',\n",
    "      'Размер Валидационной выборки:', df_valid['is_ultra'].count(), '\\n',\n",
    "      'Размер Тестовой выборки:', df_test['is_ultra'].count())"
   ]
  },
  {
   "cell_type": "markdown",
   "metadata": {},
   "source": [
    "<div style=\"border-radius: 15px; border: 1px solid grey; padding: 15px;\">\n",
    "Теперь разобъем каждую выборку на признаки и целевой признак 'is_ultra':\n",
    "</div>"
   ]
  },
  {
   "cell_type": "code",
   "execution_count": 8,
   "metadata": {},
   "outputs": [],
   "source": [
    "features_train = df_train.drop(['is_ultra'], axis=1)\n",
    "target_train = df_train['is_ultra']"
   ]
  },
  {
   "cell_type": "code",
   "execution_count": 9,
   "metadata": {},
   "outputs": [],
   "source": [
    "features_valid = df_valid.drop(['is_ultra'], axis=1)\n",
    "target_valid = df_valid['is_ultra']"
   ]
  },
  {
   "cell_type": "code",
   "execution_count": 10,
   "metadata": {},
   "outputs": [],
   "source": [
    "features_test = df_test.drop(['is_ultra'], axis=1)\n",
    "target_test = df_test['is_ultra']"
   ]
  },
  {
   "cell_type": "markdown",
   "metadata": {},
   "source": [
    "<div style=\"border-radius: 15px; border: 1px solid grey; padding: 15px;\">\n",
    "Мы подготовили данные для обучения моделей и их исследования, переходим к следующему шагу.\n",
    "</div>"
   ]
  },
  {
   "cell_type": "markdown",
   "metadata": {},
   "source": [
    "## Обучаем и иследуем модели"
   ]
  },
  {
   "cell_type": "markdown",
   "metadata": {},
   "source": [
    "### Дерево решений"
   ]
  },
  {
   "cell_type": "markdown",
   "metadata": {},
   "source": [
    "<div style=\"border-radius: 15px; border: 1px solid grey; padding: 15px;\">\n",
    "Начнем с самой простой модели, а именно с Древа Решений. Для оптимизации пройдемся по уровням максимальной глубины дерева, обучим модель с глубиной от 1 до 10 и посмотрим показатель Accuracy для кажого из них. Помним, что при увеличении глубины Дерева решений мы увеличиваем склонность модели к переобучению, то есть к простому зазубриванию ответов, а не составлению модели предсказания. \n",
    "</div>"
   ]
  },
  {
   "cell_type": "code",
   "execution_count": 11,
   "metadata": {},
   "outputs": [
    {
     "name": "stdout",
     "output_type": "stream",
     "text": [
      "max_depth = 1 : 0.7495854063018242\n",
      "max_depth = 2 : 0.7761194029850746\n",
      "max_depth = 3 : 0.7943615257048093\n",
      "max_depth = 4 : 0.7893864013266998\n",
      "max_depth = 5 : 0.7877280265339967\n",
      "max_depth = 6 : 0.7910447761194029\n",
      "max_depth = 7 : 0.7827529021558872\n",
      "max_depth = 8 : 0.7910447761194029\n",
      "max_depth = 9 : 0.7744610281923715\n",
      "max_depth = 10 : 0.7844112769485904\n"
     ]
    }
   ],
   "source": [
    "for i in range(1, 11):\n",
    "    dtc_model = DecisionTreeClassifier(random_state = 12345, max_depth = i)\n",
    "    dtc_model.fit(features_train, target_train)\n",
    "    dtc_prediction = dtc_model.predict(features_valid)\n",
    "    dtc_accuracy = accuracy_score(target_valid, dtc_prediction)\n",
    "    print('max_depth =', i, ':', dtc_accuracy)"
   ]
  },
  {
   "cell_type": "markdown",
   "metadata": {},
   "source": [
    "<div style=\"border-radius: 15px; border: 1px solid grey; padding: 15px;\">\n",
    "Показатель Accuracy максимален при глубине дерева равном 3-м уровням. Именно это значение гиперпараметра используем как основное на тестовой выборке позднее, но так же можно обратить внимание на уровни 6 и 8, как очень близкие по резельтатам.\n",
    "</div>"
   ]
  },
  {
   "cell_type": "markdown",
   "metadata": {},
   "source": [
    "### Случайный лес"
   ]
  },
  {
   "cell_type": "markdown",
   "metadata": {},
   "source": [
    "\n",
    "<div style=\"border-radius: 15px; border: 1px solid grey; padding: 15px;\">\n",
    "\n",
    "Воторой моделью будет Случайный лес, логическое продолжение модели Дерева решений. Тут добавляется ещё один гипрер параметр - количество деревьев. Обучим модель на различном количестве деревьев и максимальных уровней глубины дерева:\n",
    "    \n",
    "    \n",
    "- от 10 до 50 деревьев, с шагом 10;\n",
    "    \n",
    "- от 1 до 10 уровней глубины, с шагом 1.\n",
    "    \n",
    "Не станем выводить все 5 * 10 = 50 вариантов значения Accuracy, выведем только лучший.\n",
    "\n",
    "</div>\n"
   ]
  },
  {
   "cell_type": "code",
   "execution_count": 12,
   "metadata": {},
   "outputs": [
    {
     "name": "stdout",
     "output_type": "stream",
     "text": [
      " Accuracy наилучшей модели на валидационной выборке: 0.8374792703150912 \n",
      " Количество деревьев: 20 \n",
      " Максимальная глубина: 9\n"
     ]
    }
   ],
   "source": [
    "rfc_best_model = None\n",
    "rfc_best_accuracy = 0\n",
    "rfc_best_est = 0\n",
    "rfc_best_depth = 0\n",
    "for est in range(10, 51, 10):\n",
    "    for depth in range (1, 11):\n",
    "        rfc_model = RandomForestClassifier(random_state=12345, max_depth=depth, n_estimators=est)\n",
    "        rfc_model.fit(features_train, target_train)\n",
    "        rfc_prediction = rfc_model.predict(features_valid)\n",
    "        rfc_accuracy = accuracy_score(target_valid, rfc_prediction)\n",
    "        if rfc_accuracy > rfc_best_accuracy:\n",
    "            rfc_best_model = rfc_model\n",
    "            rfc_best_accuracy = rfc_accuracy\n",
    "            rfc_best_est = est\n",
    "            rfc_best_depth = depth\n",
    "print(\" Accuracy наилучшей модели на валидационной выборке:\", rfc_best_accuracy, '\\n',\n",
    "      \"Количество деревьев:\", rfc_best_est, '\\n', \"Максимальная глубина:\", rfc_best_depth)            "
   ]
  },
  {
   "cell_type": "markdown",
   "metadata": {},
   "source": [
    "<div style=\"border-radius: 15px; border: 1px solid grey; padding: 15px;\">\n",
    "Показатель Accuracy максимален при количистве деревьев 20 и глубине дерева 9. Именно это значение гиперпараметров используем на тестовой выборке позднее.\n",
    "</div>"
   ]
  },
  {
   "cell_type": "markdown",
   "metadata": {},
   "source": [
    "### Логистическая регрессия"
   ]
  },
  {
   "cell_type": "markdown",
   "metadata": {},
   "source": [
    "\n",
    "<div style=\"border-radius: 15px; border: 1px solid grey; padding: 15px;\">\n",
    "\n",
    "Третье моделью будет не склонная к переобучению Логистическая регрессия, которая не смотря на название выполняет классификацию, по весам признаков определяя к какому классу отнести каждый из наборов признаков.\n",
    "</div>\n"
   ]
  },
  {
   "cell_type": "code",
   "execution_count": 13,
   "metadata": {},
   "outputs": [
    {
     "name": "stdout",
     "output_type": "stream",
     "text": [
      "Accuracy модели логистической регрессии на валидационной выборке: 0.7412935323383084\n"
     ]
    }
   ],
   "source": [
    "lr_model = LogisticRegression(random_state=12345, solver='lbfgs')\n",
    "lr_model.fit(features_train, target_train)\n",
    "lr_result = lr_model.score(features_valid, target_valid)\n",
    "\n",
    "print(\"Accuracy модели логистической регрессии на валидационной выборке:\", lr_result)"
   ]
  },
  {
   "cell_type": "markdown",
   "metadata": {},
   "source": [
    "\n",
    "<div style=\"border-radius: 15px; border: 1px solid grey; padding: 15px;\">\n",
    "\n",
    "Параметр 'solver' добавлен для устранения предупреждения, которое предостерегает нас от проблем наследования в будущих версиях этой модели.\n",
    "    \n",
    "А вот Accuracy на валидационной выборе ниже чем у предыдущих двух моделей, в дальнейшем сравним показатели на тестовой выборке.\n",
    "\n",
    "</div>\n"
   ]
  },
  {
   "cell_type": "markdown",
   "metadata": {},
   "source": [
    "\n",
    "<div style=\"border-radius: 15px; border: 1px solid grey; padding: 15px;\">\n",
    "\n",
    "Обучение и исследование завершили, переходим к проверке на тестовой выборке и выбору лучшей модели.\n",
    "\n",
    "</div>\n"
   ]
  },
  {
   "cell_type": "markdown",
   "metadata": {},
   "source": [
    "## Проверяем модель на тестовой выборке"
   ]
  },
  {
   "cell_type": "markdown",
   "metadata": {},
   "source": [
    "### Дерево решений"
   ]
  },
  {
   "cell_type": "markdown",
   "metadata": {},
   "source": [
    "<div style=\"border-radius: 15px; border: 1px solid grey; padding: 15px;\">\n",
    "\n",
    "Как решили выше к проверим модель на тестовой выборке не только с глубиной дерева равной 3-м, но и с близкими по Accuracy уровнями 6 и 8. Так же помним, что при проверке на валидационной выборе лидирует модель Случайного леса с максимальным уровнем 9. \n",
    "    \n",
    "</div>"
   ]
  },
  {
   "cell_type": "code",
   "execution_count": 14,
   "metadata": {},
   "outputs": [
    {
     "name": "stdout",
     "output_type": "stream",
     "text": [
      "max_depth = 3 : 0.7910447761194029\n"
     ]
    }
   ],
   "source": [
    "dtc_model = DecisionTreeClassifier(random_state = 12345, max_depth = 3)\n",
    "dtc_model.fit(features_train, target_train)\n",
    "dtc_prediction = dtc_model.predict(features_test)\n",
    "dtc_accuracy = accuracy_score(target_test, dtc_prediction)\n",
    "print('max_depth =', 3, ':', dtc_accuracy)"
   ]
  },
  {
   "cell_type": "code",
   "execution_count": 15,
   "metadata": {},
   "outputs": [
    {
     "name": "stdout",
     "output_type": "stream",
     "text": [
      "max_depth = 6 : 0.7898009950248757\n"
     ]
    }
   ],
   "source": [
    "dtc_model = DecisionTreeClassifier(random_state = 12345, max_depth = 6)\n",
    "dtc_model.fit(features_train, target_train)\n",
    "dtc_prediction = dtc_model.predict(features_test)\n",
    "dtc_accuracy = accuracy_score(target_test, dtc_prediction)\n",
    "print('max_depth =', 6, ':', dtc_accuracy)"
   ]
  },
  {
   "cell_type": "code",
   "execution_count": 16,
   "metadata": {},
   "outputs": [
    {
     "name": "stdout",
     "output_type": "stream",
     "text": [
      "max_depth = 8 : 0.7922885572139303\n"
     ]
    }
   ],
   "source": [
    "dtc_model = DecisionTreeClassifier(random_state = 12345, max_depth = 8)\n",
    "dtc_model.fit(features_train, target_train)\n",
    "dtc_prediction = dtc_model.predict(features_test)\n",
    "dtc_accuracy = accuracy_score(target_test, dtc_prediction)\n",
    "print('max_depth =', 8, ':', dtc_accuracy)"
   ]
  },
  {
   "cell_type": "markdown",
   "metadata": {},
   "source": [
    "<div style=\"border-radius: 15px; border: 1px solid grey; padding: 15px;\">\n",
    "\n",
    "Такой подход себя оправдал, видимо при большом количестве уровней переобучение модели не наступает, на тестовой выборке модель с параметром 8 показала даже лучший результат на 0.1%. Переходим к следующей модели.\n",
    "    \n",
    "</div>"
   ]
  },
  {
   "cell_type": "markdown",
   "metadata": {},
   "source": [
    "### Случайный лес"
   ]
  },
  {
   "cell_type": "markdown",
   "metadata": {},
   "source": [
    "<div style=\"border-radius: 15px; border: 1px solid grey; padding: 15px;\">\n",
    "\n",
    "Переходим к лидеру по Accuracy на валидационной выборке Случайному лесу, имея опыт из предыдущего шага, добавим ещё одну проверку модели с гиперпараметром максимальной глубины деревьев равной 8.\n",
    "    \n",
    "</div>"
   ]
  },
  {
   "cell_type": "code",
   "execution_count": 17,
   "metadata": {},
   "outputs": [
    {
     "name": "stdout",
     "output_type": "stream",
     "text": [
      " Accuracy наилучшей модели на тестовой выборке: 0.7997512437810945 \n",
      " Количество деревьев: 20 \n",
      " Максимальная глубина: 8\n"
     ]
    }
   ],
   "source": [
    "rfc_model = RandomForestClassifier(random_state=12345, max_depth=8, n_estimators=20)\n",
    "rfc_model.fit(features_train, target_train)\n",
    "rfc_prediction = rfc_model.predict(features_test)\n",
    "rfc_accuracy = accuracy_score(target_test, rfc_prediction)\n",
    "print(\" Accuracy наилучшей модели на тестовой выборке:\", rfc_accuracy, '\\n',\n",
    "      \"Количество деревьев:\", 20, '\\n', \"Максимальная глубина:\", 8)"
   ]
  },
  {
   "cell_type": "code",
   "execution_count": 18,
   "metadata": {},
   "outputs": [
    {
     "name": "stdout",
     "output_type": "stream",
     "text": [
      " Accuracy наилучшей модели на тестовой выборке: 0.8034825870646766 \n",
      " Количество деревьев: 20 \n",
      " Максимальная глубина: 9\n"
     ]
    }
   ],
   "source": [
    "rfc_model = RandomForestClassifier(random_state=12345, max_depth=9, n_estimators=20)\n",
    "rfc_model.fit(features_train, target_train)\n",
    "rfc_prediction = rfc_model.predict(features_test)\n",
    "rfc_accuracy = accuracy_score(target_test, rfc_prediction)\n",
    "print(\" Accuracy наилучшей модели на тестовой выборке:\", rfc_accuracy, '\\n',\n",
    "      \"Количество деревьев:\", 20, '\\n', \"Максимальная глубина:\", 9)  "
   ]
  },
  {
   "cell_type": "markdown",
   "metadata": {},
   "source": [
    "<div style=\"border-radius: 15px; border: 1px solid grey; padding: 15px;\">\n",
    "\n",
    "Для начала, занчение гиперпараметра максимальной глудины полученной на валидационной выборке подтвердилось и на тестовой, показав лучшую точность.\n",
    "    \n",
    "А вот тончоность предсказания по сравнению на таестовой выборке по сравнению с валидационной снизилась, но в любом случае Accuracy более чем на 1% выше чем у модели Дерева решений.\n",
    "    \n",
    "Пока нашим лидером становится модель Случайного леса с количеством деревьев - 20 и максимальнйо глубиной дерева - 9.\n",
    "    \n",
    "</div>"
   ]
  },
  {
   "cell_type": "markdown",
   "metadata": {},
   "source": [
    "### Логистическая регрессия"
   ]
  },
  {
   "cell_type": "markdown",
   "metadata": {},
   "source": [
    "<div style=\"border-radius: 15px; border: 1px solid grey; padding: 15px;\">\n",
    "\n",
    "Переходим к показавшей самый скромный результат на валидаценной выборке Логистической регрессии. \n",
    "    \n",
    "</div>"
   ]
  },
  {
   "cell_type": "code",
   "execution_count": 19,
   "metadata": {},
   "outputs": [
    {
     "name": "stdout",
     "output_type": "stream",
     "text": [
      "Accuracy модели логистической регрессии на тестовой выборке: 0.7611940298507462\n"
     ]
    }
   ],
   "source": [
    "lr_model = LogisticRegression(random_state=12345, solver='lbfgs')\n",
    "lr_model.fit(features_train, target_train)\n",
    "lr_result = lr_model.score(features_test, target_test)\n",
    "\n",
    "print(\"Accuracy модели логистической регрессии на тестовой выборке:\", lr_result)"
   ]
  },
  {
   "cell_type": "markdown",
   "metadata": {},
   "source": [
    "<div style=\"border-radius: 15px; border: 1px solid grey; padding: 15px;\">\n",
    "\n",
    "Как и ранее Логистическая регрессия показала результат вписывающийся в обозначеный задачей минимум по точности, но уступает лидирующему Случайному лесу почти 5%.\n",
    "    \n",
    "</div>"
   ]
  },
  {
   "cell_type": "markdown",
   "metadata": {},
   "source": [
    "### Вывод"
   ]
  },
  {
   "cell_type": "markdown",
   "metadata": {},
   "source": [
    "<div style=\"border-radius: 15px; border: 1px solid grey; padding: 15px;\">\n",
    "\n",
    "Наше исследование показало, что предпочтительной моделью предсказания подходящего тарифа является Случайный лес с количеством деревьев равным 20 и максимальной глубиной деревьев раной 9.\n",
    "    \n",
    "Количество обучающих данных не вынуждает нас заботится о времени и ресурсах затраченных на обучение и исследовании моделей, но если такой вопрос встанет в дальнейшем, мы смело можем использовать модель Дерева предсказаний с максимальной глубиной дерева 8, мы выиграем в ресурсах и  с большой вероятностью не много потеряем в точности предсказаний.\n",
    "    \n",
    "А вот Логистическая регрессия не показала конкерентных результатов, в связи с чем отнесем эту модель к не подходящим к нашей задаче.\n",
    "    \n",
    "</div>"
   ]
  },
  {
   "cell_type": "markdown",
   "metadata": {},
   "source": [
    "## (бонус) Проверьте модели на адекватность"
   ]
  },
  {
   "cell_type": "markdown",
   "metadata": {},
   "source": [
    "<div style=\"border-radius: 15px; border: 1px solid grey; padding: 15px;\">\n",
    "    \n",
    "Адекватность классификаций проверяется в сравнении с пропорционально случайно заполненными целевыми признаками, например если целевой признак имеет всего два класса и вероятность встретить каждый из классов в исторических данных равно 50%, то адекватной будет модель которая предсказывает значения целевого признака лучше чем случайность, а именно с показателем Accuracy более 0.50\n",
    "    \n",
    "Найдем на сколько часто встречаются наши классы (тарифы \"Смарт\" и  \"Ультра\") в фрейме:\n",
    "\n",
    "</div>"
   ]
  },
  {
   "cell_type": "code",
   "execution_count": 20,
   "metadata": {},
   "outputs": [
    {
     "data": {
      "text/plain": [
       "0    0.693528\n",
       "1    0.306472\n",
       "Name: is_ultra, dtype: float64"
      ]
     },
     "execution_count": 20,
     "metadata": {},
     "output_type": "execute_result"
    }
   ],
   "source": [
    "df['is_ultra'].value_counts() / len(df)"
   ]
  },
  {
   "cell_type": "markdown",
   "metadata": {},
   "source": [
    "<div style=\"border-radius: 15px; border: 1px solid grey; padding: 15px;\">\n",
    "    \n",
    "Получаем, что случйно заполенный целевой признак будет имеет соотношение ~(70\\30), а все наши модели и, в первую очередь выбранная в финале, модель Случайного леса имеют точность предсказания выше 75%, таким образом все наши модели, проходившие проверку на тестовой выборке, можно признать адекватными.\n",
    "\n",
    "</div>"
   ]
  }
 ],
 "metadata": {
  "kernelspec": {
   "display_name": "Python 3",
   "language": "python",
   "name": "python3"
  },
  "language_info": {
   "codemirror_mode": {
    "name": "ipython",
    "version": 3
   },
   "file_extension": ".py",
   "mimetype": "text/x-python",
   "name": "python",
   "nbconvert_exporter": "python",
   "pygments_lexer": "ipython3",
   "version": "3.8.8"
  },
  "toc": {
   "base_numbering": 1,
   "nav_menu": {},
   "number_sections": true,
   "sideBar": true,
   "skip_h1_title": true,
   "title_cell": "Table of Contents",
   "title_sidebar": "Contents",
   "toc_cell": false,
   "toc_position": {},
   "toc_section_display": true,
   "toc_window_display": false
  }
 },
 "nbformat": 4,
 "nbformat_minor": 2
}
