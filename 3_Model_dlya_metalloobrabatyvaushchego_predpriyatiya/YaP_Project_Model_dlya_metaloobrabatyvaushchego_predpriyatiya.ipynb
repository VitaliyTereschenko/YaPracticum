{
 "cells": [
  {
   "cell_type": "markdown",
   "metadata": {
    "toc": true
   },
   "source": [
    "<h1>Содержание<span class=\"tocSkip\"></span></h1>\n",
    "<div class=\"toc\"><ul class=\"toc-item\"><li><span><a href=\"#Подготовка-данных\" data-toc-modified-id=\"Подготовка-данных-1\"><span class=\"toc-item-num\">1&nbsp;&nbsp;</span>Подготовка данных</a></span><ul class=\"toc-item\"><li><span><a href=\"#Проверка-правильности-расчета-эффективность-обогащения.\" data-toc-modified-id=\"Проверка-правильности-расчета-эффективность-обогащения.-1.1\"><span class=\"toc-item-num\">1.1&nbsp;&nbsp;</span>Проверка правильности расчета эффективность обогащения.</a></span></li><li><span><a href=\"#Анализ-признаков-недоступных-в-тестовой-выборке\" data-toc-modified-id=\"Анализ-признаков-недоступных-в-тестовой-выборке-1.2\"><span class=\"toc-item-num\">1.2&nbsp;&nbsp;</span>Анализ признаков недоступных в тестовой выборке</a></span></li><li><span><a href=\"#Заполение-пропусков\" data-toc-modified-id=\"Заполение-пропусков-1.3\"><span class=\"toc-item-num\">1.3&nbsp;&nbsp;</span>Заполение пропусков</a></span></li><li><span><a href=\"#Разделение-признаков\" data-toc-modified-id=\"Разделение-признаков-1.4\"><span class=\"toc-item-num\">1.4&nbsp;&nbsp;</span>Разделение признаков</a></span></li><li><span><a href=\"#Скалирование\" data-toc-modified-id=\"Скалирование-1.5\"><span class=\"toc-item-num\">1.5&nbsp;&nbsp;</span>Скалирование</a></span></li></ul></li><li><span><a href=\"#Анализ-данных\" data-toc-modified-id=\"Анализ-данных-2\"><span class=\"toc-item-num\">2&nbsp;&nbsp;</span>Анализ данных</a></span><ul class=\"toc-item\"><li><span><a href=\"#Изменение-концентрации-металлов-(Au,-Ag,-Pb)-на-различных-этапах-очистки\" data-toc-modified-id=\"Изменение-концентрации-металлов-(Au,-Ag,-Pb)-на-различных-этапах-очистки-2.1\"><span class=\"toc-item-num\">2.1&nbsp;&nbsp;</span>Изменение концентрации металлов (Au, Ag, Pb) на различных этапах очистки</a></span></li><li><span><a href=\"#Сравните-распределения-размеров-гранул-сырья\" data-toc-modified-id=\"Сравните-распределения-размеров-гранул-сырья-2.2\"><span class=\"toc-item-num\">2.2&nbsp;&nbsp;</span>Сравните распределения размеров гранул сырья</a></span></li><li><span><a href=\"#Сумарная-концентрация-всех-веществ-на-разных-стадиях.\" data-toc-modified-id=\"Сумарная-концентрация-всех-веществ-на-разных-стадиях.-2.3\"><span class=\"toc-item-num\">2.3&nbsp;&nbsp;</span>Сумарная концентрация всех веществ на разных стадиях.</a></span></li></ul></li><li><span><a href=\"#Модели-предсказания\" data-toc-modified-id=\"Модели-предсказания-3\"><span class=\"toc-item-num\">3&nbsp;&nbsp;</span>Модели предсказания</a></span><ul class=\"toc-item\"><li><span><a href=\"#Функция-для-вычисления-итоговой-sMAPE.\" data-toc-modified-id=\"Функция-для-вычисления-итоговой-sMAPE.-3.1\"><span class=\"toc-item-num\">3.1&nbsp;&nbsp;</span>Функция для вычисления итоговой sMAPE.</a></span></li><li><span><a href=\"#Обучаем-разные-модели-и-оцениваем-их-качество-кросс-валидацией.\" data-toc-modified-id=\"Обучаем-разные-модели-и-оцениваем-их-качество-кросс-валидацией.-3.2\"><span class=\"toc-item-num\">3.2&nbsp;&nbsp;</span>Обучаем разные модели и оцениваем их качество кросс-валидацией.</a></span><ul class=\"toc-item\"><li><span><a href=\"#Модель-регрессии-Случаного-леса\" data-toc-modified-id=\"Модель-регрессии-Случаного-леса-3.2.1\"><span class=\"toc-item-num\">3.2.1&nbsp;&nbsp;</span>Модель регрессии Случаного леса</a></span></li><li><span><a href=\"#Модель-Линейной-регрессии\" data-toc-modified-id=\"Модель-Линейной-регрессии-3.2.2\"><span class=\"toc-item-num\">3.2.2&nbsp;&nbsp;</span>Модель Линейной регрессии</a></span></li></ul></li><li><span><a href=\"#Проверка-на-тестовой-выборке\" data-toc-modified-id=\"Проверка-на-тестовой-выборке-3.3\"><span class=\"toc-item-num\">3.3&nbsp;&nbsp;</span>Проверка на тестовой выборке</a></span></li></ul></li><li><span><a href=\"#Чек-лист-готовности-проекта\" data-toc-modified-id=\"Чек-лист-готовности-проекта-4\"><span class=\"toc-item-num\">4&nbsp;&nbsp;</span>Чек-лист готовности проекта</a></span></li></ul></div>"
   ]
  },
  {
   "cell_type": "markdown",
   "metadata": {},
   "source": [
    "# Восстановление золота из руды"
   ]
  },
  {
   "cell_type": "markdown",
   "metadata": {},
   "source": [
    "Подготовьте прототип модели машинного обучения для «Цифры». Компания разрабатывает решения для эффективной работы промышленных предприятий.\n",
    "\n",
    "Модель должна предсказать коэффициент восстановления золота из золотосодержащей руды. Используйте данные с параметрами добычи и очистки. \n",
    "\n",
    "Модель поможет оптимизировать производство, чтобы не запускать предприятие с убыточными характеристиками."
   ]
  },
  {
   "cell_type": "markdown",
   "metadata": {},
   "source": [
    "# Описание данных\n",
    "\n",
    "<b> Технологический процесс</b>\n",
    "\n",
    "Rougher feed — исходное сырье\n",
    "\n",
    "Rougher additions (или reagent additions) — флотационные реагенты: Xanthate, Sulphate, Depressant\n",
    "\n",
    "Xanthate **— ксантогенат (промотер, или активатор флотации);\n",
    "\n",
    "Sulphate — сульфат (на данном производстве сульфид натрия);\n",
    "\n",
    "Depressant — депрессант (силикат натрия).\n",
    "\n",
    "Rougher process (англ. «грубый процесс») — флотация\n",
    "\n",
    "Rougher tails — отвальные хвосты\n",
    "\n",
    "Float banks — флотационная установка\n",
    "\n",
    "Cleaner process — очистка\n",
    "\n",
    "Rougher Au — черновой концентрат золота\n",
    "\n",
    "Final Au — финальный концентрат золота"
   ]
  },
  {
   "cell_type": "markdown",
   "metadata": {},
   "source": [
    "<b> Параметры этапов</b>\n",
    "\n",
    "air amount — объём воздуха\n",
    "\n",
    "fluid levels — уровень жидкости\n",
    "\n",
    "feed size — размер гранул сырья\n",
    "\n",
    "feed rate — скорость подачи"
   ]
  },
  {
   "cell_type": "markdown",
   "metadata": {},
   "source": [
    "<b>Наименование признаков</b>\n",
    "\n",
    "Наименование признаков должно быть такое:\n",
    "\n",
    "[этап].[тип_параметра].[название_параметра]\n",
    "\n",
    "Пример: rougher.input.feed_ag\n",
    "\n",
    "Возможные значения для блока [этап]:\n",
    "\n",
    "rougher — флотация\n",
    "\n",
    "primary_cleaner — первичная очистка\n",
    "\n",
    "secondary_cleaner — вторичная очистка\n",
    "\n",
    "final — финальные характеристики\n",
    "\n",
    "Возможные значения для блока [тип_параметра]:\n",
    "\n",
    "input — параметры сырья\n",
    "\n",
    "output — параметры продукта\n",
    "\n",
    "state — параметры, характеризующие текущее состояние этапа\n",
    "\n",
    "calculation — расчётные характеристики"
   ]
  },
  {
   "cell_type": "markdown",
   "metadata": {},
   "source": [
    "# Расчёт эффективности\n",
    "Эффективность обогащения рассчитывается по формуле"
   ]
  },
  {
   "cell_type": "markdown",
   "metadata": {},
   "source": [
    "<img src=\"https://pictures.s3.yandex.net/resources/Recovery_1576238822.jpg\">"
   ]
  },
  {
   "cell_type": "markdown",
   "metadata": {},
   "source": [
    "# Метрика качества\n",
    "Для решения задачи используется метрика качества — sMAPE (англ. Symmetric Mean Absolute Percentage Error, «симметричное среднее абсолютное процентное отклонение»).\n",
    "\n",
    "Метрика sMAPE вычисляется так:"
   ]
  },
  {
   "cell_type": "markdown",
   "metadata": {},
   "source": [
    "<img src=\"https://pictures.s3.yandex.net/resources/smape_1576238825.jpg\">"
   ]
  },
  {
   "cell_type": "markdown",
   "metadata": {},
   "source": [
    "Итоговая метрика складывается из двух величин:"
   ]
  },
  {
   "cell_type": "markdown",
   "metadata": {},
   "source": [
    "<img src=\"https://pictures.s3.yandex.net/resources/_smape_1576238814.jpg\">"
   ]
  },
  {
   "cell_type": "markdown",
   "metadata": {},
   "source": [
    "## Подготовка данных"
   ]
  },
  {
   "cell_type": "code",
   "execution_count": 63,
   "metadata": {},
   "outputs": [],
   "source": [
    "import pandas as pd\n",
    "import numpy as np\n",
    "import matplotlib.pyplot as plt\n",
    "pd.options.mode.chained_assignment = None\n",
    "from sklearn.ensemble import RandomForestRegressor\n",
    "from sklearn.linear_model import LinearRegression\n",
    "from sklearn.preprocessing import StandardScaler \n",
    "from sklearn.model_selection import train_test_split, GridSearchCV\n",
    "from sklearn.metrics import mean_absolute_error\n",
    "from sklearn.metrics import make_scorer\n",
    "from sklearn.dummy import DummyRegressor"
   ]
  },
  {
   "cell_type": "code",
   "execution_count": 2,
   "metadata": {},
   "outputs": [],
   "source": [
    "df_train = pd.read_csv('https://code.s3.yandex.net/datasets/gold_recovery_train_new.csv')\n",
    "df_test = pd.read_csv('https://code.s3.yandex.net/datasets/gold_recovery_test_new.csv')\n",
    "df = pd.read_csv('https://code.s3.yandex.net/datasets/gold_recovery_full_new.csv')"
   ]
  },
  {
   "cell_type": "markdown",
   "metadata": {},
   "source": [
    "<div style=\"border-radius: 15px; border: 1px solid grey; padding: 15px;\">\n",
    "Проверяем содержимое файлов.\n",
    "</div>"
   ]
  },
  {
   "cell_type": "code",
   "execution_count": 3,
   "metadata": {
    "scrolled": true
   },
   "outputs": [
    {
     "name": "stdout",
     "output_type": "stream",
     "text": [
      "<class 'pandas.core.frame.DataFrame'>\n",
      "RangeIndex: 14149 entries, 0 to 14148\n",
      "Data columns (total 87 columns):\n",
      "date                                                  14149 non-null object\n",
      "final.output.concentrate_ag                           14148 non-null float64\n",
      "final.output.concentrate_pb                           14148 non-null float64\n",
      "final.output.concentrate_sol                          13938 non-null float64\n",
      "final.output.concentrate_au                           14149 non-null float64\n",
      "final.output.recovery                                 14149 non-null float64\n",
      "final.output.tail_ag                                  14149 non-null float64\n",
      "final.output.tail_pb                                  14049 non-null float64\n",
      "final.output.tail_sol                                 14144 non-null float64\n",
      "final.output.tail_au                                  14149 non-null float64\n",
      "primary_cleaner.input.sulfate                         14129 non-null float64\n",
      "primary_cleaner.input.depressant                      14117 non-null float64\n",
      "primary_cleaner.input.feed_size                       14149 non-null float64\n",
      "primary_cleaner.input.xanthate                        14049 non-null float64\n",
      "primary_cleaner.output.concentrate_ag                 14149 non-null float64\n",
      "primary_cleaner.output.concentrate_pb                 14063 non-null float64\n",
      "primary_cleaner.output.concentrate_sol                13863 non-null float64\n",
      "primary_cleaner.output.concentrate_au                 14149 non-null float64\n",
      "primary_cleaner.output.tail_ag                        14148 non-null float64\n",
      "primary_cleaner.output.tail_pb                        14134 non-null float64\n",
      "primary_cleaner.output.tail_sol                       14103 non-null float64\n",
      "primary_cleaner.output.tail_au                        14149 non-null float64\n",
      "primary_cleaner.state.floatbank8_a_air                14145 non-null float64\n",
      "primary_cleaner.state.floatbank8_a_level              14148 non-null float64\n",
      "primary_cleaner.state.floatbank8_b_air                14145 non-null float64\n",
      "primary_cleaner.state.floatbank8_b_level              14148 non-null float64\n",
      "primary_cleaner.state.floatbank8_c_air                14147 non-null float64\n",
      "primary_cleaner.state.floatbank8_c_level              14148 non-null float64\n",
      "primary_cleaner.state.floatbank8_d_air                14146 non-null float64\n",
      "primary_cleaner.state.floatbank8_d_level              14148 non-null float64\n",
      "rougher.calculation.sulfate_to_au_concentrate         14148 non-null float64\n",
      "rougher.calculation.floatbank10_sulfate_to_au_feed    14148 non-null float64\n",
      "rougher.calculation.floatbank11_sulfate_to_au_feed    14148 non-null float64\n",
      "rougher.calculation.au_pb_ratio                       14149 non-null float64\n",
      "rougher.input.feed_ag                                 14149 non-null float64\n",
      "rougher.input.feed_pb                                 14049 non-null float64\n",
      "rougher.input.feed_rate                               14141 non-null float64\n",
      "rougher.input.feed_size                               14005 non-null float64\n",
      "rougher.input.feed_sol                                14071 non-null float64\n",
      "rougher.input.feed_au                                 14149 non-null float64\n",
      "rougher.input.floatbank10_sulfate                     14120 non-null float64\n",
      "rougher.input.floatbank10_xanthate                    14141 non-null float64\n",
      "rougher.input.floatbank11_sulfate                     14113 non-null float64\n",
      "rougher.input.floatbank11_xanthate                    13721 non-null float64\n",
      "rougher.output.concentrate_ag                         14149 non-null float64\n",
      "rougher.output.concentrate_pb                         14149 non-null float64\n",
      "rougher.output.concentrate_sol                        14127 non-null float64\n",
      "rougher.output.concentrate_au                         14149 non-null float64\n",
      "rougher.output.recovery                               14149 non-null float64\n",
      "rougher.output.tail_ag                                14148 non-null float64\n",
      "rougher.output.tail_pb                                14149 non-null float64\n",
      "rougher.output.tail_sol                               14149 non-null float64\n",
      "rougher.output.tail_au                                14149 non-null float64\n",
      "rougher.state.floatbank10_a_air                       14148 non-null float64\n",
      "rougher.state.floatbank10_a_level                     14148 non-null float64\n",
      "rougher.state.floatbank10_b_air                       14148 non-null float64\n",
      "rougher.state.floatbank10_b_level                     14148 non-null float64\n",
      "rougher.state.floatbank10_c_air                       14148 non-null float64\n",
      "rougher.state.floatbank10_c_level                     14148 non-null float64\n",
      "rougher.state.floatbank10_d_air                       14149 non-null float64\n",
      "rougher.state.floatbank10_d_level                     14149 non-null float64\n",
      "rougher.state.floatbank10_e_air                       13713 non-null float64\n",
      "rougher.state.floatbank10_e_level                     14149 non-null float64\n",
      "rougher.state.floatbank10_f_air                       14149 non-null float64\n",
      "rougher.state.floatbank10_f_level                     14149 non-null float64\n",
      "secondary_cleaner.output.tail_ag                      14147 non-null float64\n",
      "secondary_cleaner.output.tail_pb                      14139 non-null float64\n",
      "secondary_cleaner.output.tail_sol                     12544 non-null float64\n",
      "secondary_cleaner.output.tail_au                      14149 non-null float64\n",
      "secondary_cleaner.state.floatbank2_a_air              13932 non-null float64\n",
      "secondary_cleaner.state.floatbank2_a_level            14148 non-null float64\n",
      "secondary_cleaner.state.floatbank2_b_air              14128 non-null float64\n",
      "secondary_cleaner.state.floatbank2_b_level            14148 non-null float64\n",
      "secondary_cleaner.state.floatbank3_a_air              14145 non-null float64\n",
      "secondary_cleaner.state.floatbank3_a_level            14148 non-null float64\n",
      "secondary_cleaner.state.floatbank3_b_air              14148 non-null float64\n",
      "secondary_cleaner.state.floatbank3_b_level            14148 non-null float64\n",
      "secondary_cleaner.state.floatbank4_a_air              14143 non-null float64\n",
      "secondary_cleaner.state.floatbank4_a_level            14148 non-null float64\n",
      "secondary_cleaner.state.floatbank4_b_air              14148 non-null float64\n",
      "secondary_cleaner.state.floatbank4_b_level            14148 non-null float64\n",
      "secondary_cleaner.state.floatbank5_a_air              14148 non-null float64\n",
      "secondary_cleaner.state.floatbank5_a_level            14148 non-null float64\n",
      "secondary_cleaner.state.floatbank5_b_air              14148 non-null float64\n",
      "secondary_cleaner.state.floatbank5_b_level            14148 non-null float64\n",
      "secondary_cleaner.state.floatbank6_a_air              14147 non-null float64\n",
      "secondary_cleaner.state.floatbank6_a_level            14148 non-null float64\n",
      "dtypes: float64(86), object(1)\n",
      "memory usage: 9.4+ MB\n"
     ]
    }
   ],
   "source": [
    "df_train.info()"
   ]
  },
  {
   "cell_type": "code",
   "execution_count": 4,
   "metadata": {},
   "outputs": [
    {
     "name": "stdout",
     "output_type": "stream",
     "text": [
      "<class 'pandas.core.frame.DataFrame'>\n",
      "RangeIndex: 5290 entries, 0 to 5289\n",
      "Data columns (total 53 columns):\n",
      "date                                          5290 non-null object\n",
      "primary_cleaner.input.sulfate                 5286 non-null float64\n",
      "primary_cleaner.input.depressant              5285 non-null float64\n",
      "primary_cleaner.input.feed_size               5290 non-null float64\n",
      "primary_cleaner.input.xanthate                5286 non-null float64\n",
      "primary_cleaner.state.floatbank8_a_air        5290 non-null float64\n",
      "primary_cleaner.state.floatbank8_a_level      5290 non-null float64\n",
      "primary_cleaner.state.floatbank8_b_air        5290 non-null float64\n",
      "primary_cleaner.state.floatbank8_b_level      5290 non-null float64\n",
      "primary_cleaner.state.floatbank8_c_air        5290 non-null float64\n",
      "primary_cleaner.state.floatbank8_c_level      5290 non-null float64\n",
      "primary_cleaner.state.floatbank8_d_air        5290 non-null float64\n",
      "primary_cleaner.state.floatbank8_d_level      5290 non-null float64\n",
      "rougher.input.feed_ag                         5290 non-null float64\n",
      "rougher.input.feed_pb                         5290 non-null float64\n",
      "rougher.input.feed_rate                       5287 non-null float64\n",
      "rougher.input.feed_size                       5289 non-null float64\n",
      "rougher.input.feed_sol                        5269 non-null float64\n",
      "rougher.input.feed_au                         5290 non-null float64\n",
      "rougher.input.floatbank10_sulfate             5285 non-null float64\n",
      "rougher.input.floatbank10_xanthate            5290 non-null float64\n",
      "rougher.input.floatbank11_sulfate             5282 non-null float64\n",
      "rougher.input.floatbank11_xanthate            5265 non-null float64\n",
      "rougher.state.floatbank10_a_air               5290 non-null float64\n",
      "rougher.state.floatbank10_a_level             5290 non-null float64\n",
      "rougher.state.floatbank10_b_air               5290 non-null float64\n",
      "rougher.state.floatbank10_b_level             5290 non-null float64\n",
      "rougher.state.floatbank10_c_air               5290 non-null float64\n",
      "rougher.state.floatbank10_c_level             5290 non-null float64\n",
      "rougher.state.floatbank10_d_air               5290 non-null float64\n",
      "rougher.state.floatbank10_d_level             5290 non-null float64\n",
      "rougher.state.floatbank10_e_air               5290 non-null float64\n",
      "rougher.state.floatbank10_e_level             5290 non-null float64\n",
      "rougher.state.floatbank10_f_air               5290 non-null float64\n",
      "rougher.state.floatbank10_f_level             5290 non-null float64\n",
      "secondary_cleaner.state.floatbank2_a_air      5287 non-null float64\n",
      "secondary_cleaner.state.floatbank2_a_level    5290 non-null float64\n",
      "secondary_cleaner.state.floatbank2_b_air      5288 non-null float64\n",
      "secondary_cleaner.state.floatbank2_b_level    5290 non-null float64\n",
      "secondary_cleaner.state.floatbank3_a_air      5281 non-null float64\n",
      "secondary_cleaner.state.floatbank3_a_level    5290 non-null float64\n",
      "secondary_cleaner.state.floatbank3_b_air      5290 non-null float64\n",
      "secondary_cleaner.state.floatbank3_b_level    5290 non-null float64\n",
      "secondary_cleaner.state.floatbank4_a_air      5290 non-null float64\n",
      "secondary_cleaner.state.floatbank4_a_level    5290 non-null float64\n",
      "secondary_cleaner.state.floatbank4_b_air      5290 non-null float64\n",
      "secondary_cleaner.state.floatbank4_b_level    5290 non-null float64\n",
      "secondary_cleaner.state.floatbank5_a_air      5290 non-null float64\n",
      "secondary_cleaner.state.floatbank5_a_level    5290 non-null float64\n",
      "secondary_cleaner.state.floatbank5_b_air      5290 non-null float64\n",
      "secondary_cleaner.state.floatbank5_b_level    5290 non-null float64\n",
      "secondary_cleaner.state.floatbank6_a_air      5290 non-null float64\n",
      "secondary_cleaner.state.floatbank6_a_level    5290 non-null float64\n",
      "dtypes: float64(52), object(1)\n",
      "memory usage: 2.1+ MB\n"
     ]
    }
   ],
   "source": [
    "df_test.info()"
   ]
  },
  {
   "cell_type": "code",
   "execution_count": 5,
   "metadata": {},
   "outputs": [
    {
     "name": "stdout",
     "output_type": "stream",
     "text": [
      "<class 'pandas.core.frame.DataFrame'>\n",
      "RangeIndex: 19439 entries, 0 to 19438\n",
      "Data columns (total 87 columns):\n",
      "date                                                  19439 non-null object\n",
      "final.output.concentrate_ag                           19438 non-null float64\n",
      "final.output.concentrate_pb                           19438 non-null float64\n",
      "final.output.concentrate_sol                          19228 non-null float64\n",
      "final.output.concentrate_au                           19439 non-null float64\n",
      "final.output.recovery                                 19439 non-null float64\n",
      "final.output.tail_ag                                  19438 non-null float64\n",
      "final.output.tail_pb                                  19338 non-null float64\n",
      "final.output.tail_sol                                 19433 non-null float64\n",
      "final.output.tail_au                                  19439 non-null float64\n",
      "primary_cleaner.input.sulfate                         19415 non-null float64\n",
      "primary_cleaner.input.depressant                      19402 non-null float64\n",
      "primary_cleaner.input.feed_size                       19439 non-null float64\n",
      "primary_cleaner.input.xanthate                        19335 non-null float64\n",
      "primary_cleaner.output.concentrate_ag                 19439 non-null float64\n",
      "primary_cleaner.output.concentrate_pb                 19323 non-null float64\n",
      "primary_cleaner.output.concentrate_sol                19069 non-null float64\n",
      "primary_cleaner.output.concentrate_au                 19439 non-null float64\n",
      "primary_cleaner.output.tail_ag                        19435 non-null float64\n",
      "primary_cleaner.output.tail_pb                        19418 non-null float64\n",
      "primary_cleaner.output.tail_sol                       19377 non-null float64\n",
      "primary_cleaner.output.tail_au                        19439 non-null float64\n",
      "primary_cleaner.state.floatbank8_a_air                19435 non-null float64\n",
      "primary_cleaner.state.floatbank8_a_level              19438 non-null float64\n",
      "primary_cleaner.state.floatbank8_b_air                19435 non-null float64\n",
      "primary_cleaner.state.floatbank8_b_level              19438 non-null float64\n",
      "primary_cleaner.state.floatbank8_c_air                19437 non-null float64\n",
      "primary_cleaner.state.floatbank8_c_level              19438 non-null float64\n",
      "primary_cleaner.state.floatbank8_d_air                19436 non-null float64\n",
      "primary_cleaner.state.floatbank8_d_level              19438 non-null float64\n",
      "rougher.calculation.sulfate_to_au_concentrate         19437 non-null float64\n",
      "rougher.calculation.floatbank10_sulfate_to_au_feed    19437 non-null float64\n",
      "rougher.calculation.floatbank11_sulfate_to_au_feed    19437 non-null float64\n",
      "rougher.calculation.au_pb_ratio                       19439 non-null float64\n",
      "rougher.input.feed_ag                                 19439 non-null float64\n",
      "rougher.input.feed_pb                                 19339 non-null float64\n",
      "rougher.input.feed_rate                               19428 non-null float64\n",
      "rougher.input.feed_size                               19294 non-null float64\n",
      "rougher.input.feed_sol                                19340 non-null float64\n",
      "rougher.input.feed_au                                 19439 non-null float64\n",
      "rougher.input.floatbank10_sulfate                     19405 non-null float64\n",
      "rougher.input.floatbank10_xanthate                    19431 non-null float64\n",
      "rougher.input.floatbank11_sulfate                     19395 non-null float64\n",
      "rougher.input.floatbank11_xanthate                    18986 non-null float64\n",
      "rougher.output.concentrate_ag                         19439 non-null float64\n",
      "rougher.output.concentrate_pb                         19439 non-null float64\n",
      "rougher.output.concentrate_sol                        19416 non-null float64\n",
      "rougher.output.concentrate_au                         19439 non-null float64\n",
      "rougher.output.recovery                               19439 non-null float64\n",
      "rougher.output.tail_ag                                19438 non-null float64\n",
      "rougher.output.tail_pb                                19439 non-null float64\n",
      "rougher.output.tail_sol                               19439 non-null float64\n",
      "rougher.output.tail_au                                19439 non-null float64\n",
      "rougher.state.floatbank10_a_air                       19438 non-null float64\n",
      "rougher.state.floatbank10_a_level                     19438 non-null float64\n",
      "rougher.state.floatbank10_b_air                       19438 non-null float64\n",
      "rougher.state.floatbank10_b_level                     19438 non-null float64\n",
      "rougher.state.floatbank10_c_air                       19438 non-null float64\n",
      "rougher.state.floatbank10_c_level                     19438 non-null float64\n",
      "rougher.state.floatbank10_d_air                       19439 non-null float64\n",
      "rougher.state.floatbank10_d_level                     19439 non-null float64\n",
      "rougher.state.floatbank10_e_air                       19003 non-null float64\n",
      "rougher.state.floatbank10_e_level                     19439 non-null float64\n",
      "rougher.state.floatbank10_f_air                       19439 non-null float64\n",
      "rougher.state.floatbank10_f_level                     19439 non-null float64\n",
      "secondary_cleaner.output.tail_ag                      19437 non-null float64\n",
      "secondary_cleaner.output.tail_pb                      19427 non-null float64\n",
      "secondary_cleaner.output.tail_sol                     17691 non-null float64\n",
      "secondary_cleaner.output.tail_au                      19439 non-null float64\n",
      "secondary_cleaner.state.floatbank2_a_air              19219 non-null float64\n",
      "secondary_cleaner.state.floatbank2_a_level            19438 non-null float64\n",
      "secondary_cleaner.state.floatbank2_b_air              19416 non-null float64\n",
      "secondary_cleaner.state.floatbank2_b_level            19438 non-null float64\n",
      "secondary_cleaner.state.floatbank3_a_air              19426 non-null float64\n",
      "secondary_cleaner.state.floatbank3_a_level            19438 non-null float64\n",
      "secondary_cleaner.state.floatbank3_b_air              19438 non-null float64\n",
      "secondary_cleaner.state.floatbank3_b_level            19438 non-null float64\n",
      "secondary_cleaner.state.floatbank4_a_air              19433 non-null float64\n",
      "secondary_cleaner.state.floatbank4_a_level            19438 non-null float64\n",
      "secondary_cleaner.state.floatbank4_b_air              19438 non-null float64\n",
      "secondary_cleaner.state.floatbank4_b_level            19438 non-null float64\n",
      "secondary_cleaner.state.floatbank5_a_air              19438 non-null float64\n",
      "secondary_cleaner.state.floatbank5_a_level            19438 non-null float64\n",
      "secondary_cleaner.state.floatbank5_b_air              19438 non-null float64\n",
      "secondary_cleaner.state.floatbank5_b_level            19438 non-null float64\n",
      "secondary_cleaner.state.floatbank6_a_air              19437 non-null float64\n",
      "secondary_cleaner.state.floatbank6_a_level            19438 non-null float64\n",
      "dtypes: float64(86), object(1)\n",
      "memory usage: 12.9+ MB\n"
     ]
    }
   ],
   "source": [
    "df.info()"
   ]
  },
  {
   "cell_type": "code",
   "execution_count": 6,
   "metadata": {},
   "outputs": [
    {
     "data": {
      "text/plain": [
       "19439"
      ]
     },
     "execution_count": 6,
     "metadata": {},
     "output_type": "execute_result"
    }
   ],
   "source": [
    "len(df_train) + len(df_test)"
   ]
  },
  {
   "cell_type": "markdown",
   "metadata": {},
   "source": [
    "<div style=\"border-radius: 15px; border: 1px solid grey; padding: 15px;\">\n",
    "Данные разбиты на подвыборки - обучающую и тестовую, сумма строк подвыборок совпадает с количеством строк в основном фрейме. В данных присутствуют пропуски, разберемся с этим позже.\n",
    "</div>"
   ]
  },
  {
   "cell_type": "markdown",
   "metadata": {},
   "source": [
    "<div style=\"border-radius: 15px; border: 1px solid grey; padding: 15px;\">\n",
    "Проверим данные в столбцах разбив их по этапам тез процесса.\n",
    "</div>"
   ]
  },
  {
   "cell_type": "code",
   "execution_count": 7,
   "metadata": {},
   "outputs": [
    {
     "data": {
      "text/html": [
       "<div>\n",
       "<style scoped>\n",
       "    .dataframe tbody tr th:only-of-type {\n",
       "        vertical-align: middle;\n",
       "    }\n",
       "\n",
       "    .dataframe tbody tr th {\n",
       "        vertical-align: top;\n",
       "    }\n",
       "\n",
       "    .dataframe thead th {\n",
       "        text-align: right;\n",
       "    }\n",
       "</style>\n",
       "<table border=\"1\" class=\"dataframe\">\n",
       "  <thead>\n",
       "    <tr style=\"text-align: right;\">\n",
       "      <th></th>\n",
       "      <th>final.output.concentrate_ag</th>\n",
       "      <th>final.output.concentrate_pb</th>\n",
       "      <th>final.output.concentrate_sol</th>\n",
       "      <th>final.output.concentrate_au</th>\n",
       "      <th>final.output.recovery</th>\n",
       "      <th>final.output.tail_ag</th>\n",
       "      <th>final.output.tail_pb</th>\n",
       "      <th>final.output.tail_sol</th>\n",
       "      <th>final.output.tail_au</th>\n",
       "    </tr>\n",
       "  </thead>\n",
       "  <tbody>\n",
       "    <tr>\n",
       "      <td>count</td>\n",
       "      <td>19438.000000</td>\n",
       "      <td>19438.000000</td>\n",
       "      <td>19228.000000</td>\n",
       "      <td>19439.000000</td>\n",
       "      <td>19439.000000</td>\n",
       "      <td>19438.000000</td>\n",
       "      <td>19338.000000</td>\n",
       "      <td>19433.000000</td>\n",
       "      <td>19439.000000</td>\n",
       "    </tr>\n",
       "    <tr>\n",
       "      <td>mean</td>\n",
       "      <td>5.168470</td>\n",
       "      <td>9.978895</td>\n",
       "      <td>9.501224</td>\n",
       "      <td>44.076513</td>\n",
       "      <td>67.050208</td>\n",
       "      <td>9.688589</td>\n",
       "      <td>2.705795</td>\n",
       "      <td>10.583728</td>\n",
       "      <td>3.042467</td>\n",
       "    </tr>\n",
       "    <tr>\n",
       "      <td>std</td>\n",
       "      <td>1.372348</td>\n",
       "      <td>1.669240</td>\n",
       "      <td>2.787537</td>\n",
       "      <td>5.129784</td>\n",
       "      <td>10.125840</td>\n",
       "      <td>2.328642</td>\n",
       "      <td>0.949077</td>\n",
       "      <td>2.868782</td>\n",
       "      <td>0.922808</td>\n",
       "    </tr>\n",
       "    <tr>\n",
       "      <td>min</td>\n",
       "      <td>0.000000</td>\n",
       "      <td>0.000000</td>\n",
       "      <td>0.000000</td>\n",
       "      <td>0.000000</td>\n",
       "      <td>0.000000</td>\n",
       "      <td>0.000000</td>\n",
       "      <td>0.000000</td>\n",
       "      <td>0.000000</td>\n",
       "      <td>0.000000</td>\n",
       "    </tr>\n",
       "    <tr>\n",
       "      <td>25%</td>\n",
       "      <td>4.251240</td>\n",
       "      <td>9.137262</td>\n",
       "      <td>7.722820</td>\n",
       "      <td>43.402215</td>\n",
       "      <td>63.299712</td>\n",
       "      <td>8.062878</td>\n",
       "      <td>2.040119</td>\n",
       "      <td>8.938947</td>\n",
       "      <td>2.461138</td>\n",
       "    </tr>\n",
       "    <tr>\n",
       "      <td>50%</td>\n",
       "      <td>5.066094</td>\n",
       "      <td>10.102433</td>\n",
       "      <td>9.218961</td>\n",
       "      <td>45.011244</td>\n",
       "      <td>68.172738</td>\n",
       "      <td>9.743623</td>\n",
       "      <td>2.748730</td>\n",
       "      <td>10.622456</td>\n",
       "      <td>2.984909</td>\n",
       "    </tr>\n",
       "    <tr>\n",
       "      <td>75%</td>\n",
       "      <td>5.895527</td>\n",
       "      <td>11.035769</td>\n",
       "      <td>10.947813</td>\n",
       "      <td>46.275313</td>\n",
       "      <td>72.686642</td>\n",
       "      <td>11.134294</td>\n",
       "      <td>3.333216</td>\n",
       "      <td>12.104271</td>\n",
       "      <td>3.571351</td>\n",
       "    </tr>\n",
       "    <tr>\n",
       "      <td>max</td>\n",
       "      <td>16.001945</td>\n",
       "      <td>17.031899</td>\n",
       "      <td>19.615720</td>\n",
       "      <td>52.756638</td>\n",
       "      <td>100.000000</td>\n",
       "      <td>19.552149</td>\n",
       "      <td>5.804178</td>\n",
       "      <td>22.317730</td>\n",
       "      <td>8.245022</td>\n",
       "    </tr>\n",
       "  </tbody>\n",
       "</table>\n",
       "</div>"
      ],
      "text/plain": [
       "       final.output.concentrate_ag  final.output.concentrate_pb  \\\n",
       "count                 19438.000000                 19438.000000   \n",
       "mean                      5.168470                     9.978895   \n",
       "std                       1.372348                     1.669240   \n",
       "min                       0.000000                     0.000000   \n",
       "25%                       4.251240                     9.137262   \n",
       "50%                       5.066094                    10.102433   \n",
       "75%                       5.895527                    11.035769   \n",
       "max                      16.001945                    17.031899   \n",
       "\n",
       "       final.output.concentrate_sol  final.output.concentrate_au  \\\n",
       "count                  19228.000000                 19439.000000   \n",
       "mean                       9.501224                    44.076513   \n",
       "std                        2.787537                     5.129784   \n",
       "min                        0.000000                     0.000000   \n",
       "25%                        7.722820                    43.402215   \n",
       "50%                        9.218961                    45.011244   \n",
       "75%                       10.947813                    46.275313   \n",
       "max                       19.615720                    52.756638   \n",
       "\n",
       "       final.output.recovery  final.output.tail_ag  final.output.tail_pb  \\\n",
       "count           19439.000000          19438.000000          19338.000000   \n",
       "mean               67.050208              9.688589              2.705795   \n",
       "std                10.125840              2.328642              0.949077   \n",
       "min                 0.000000              0.000000              0.000000   \n",
       "25%                63.299712              8.062878              2.040119   \n",
       "50%                68.172738              9.743623              2.748730   \n",
       "75%                72.686642             11.134294              3.333216   \n",
       "max               100.000000             19.552149              5.804178   \n",
       "\n",
       "       final.output.tail_sol  final.output.tail_au  \n",
       "count           19433.000000          19439.000000  \n",
       "mean               10.583728              3.042467  \n",
       "std                 2.868782              0.922808  \n",
       "min                 0.000000              0.000000  \n",
       "25%                 8.938947              2.461138  \n",
       "50%                10.622456              2.984909  \n",
       "75%                12.104271              3.571351  \n",
       "max                22.317730              8.245022  "
      ]
     },
     "execution_count": 7,
     "metadata": {},
     "output_type": "execute_result"
    }
   ],
   "source": [
    "final_col = [col for col in df if col.startswith('final')]\n",
    "\n",
    "df[final_col].describe()"
   ]
  },
  {
   "cell_type": "code",
   "execution_count": 8,
   "metadata": {},
   "outputs": [
    {
     "data": {
      "text/html": [
       "<div>\n",
       "<style scoped>\n",
       "    .dataframe tbody tr th:only-of-type {\n",
       "        vertical-align: middle;\n",
       "    }\n",
       "\n",
       "    .dataframe tbody tr th {\n",
       "        vertical-align: top;\n",
       "    }\n",
       "\n",
       "    .dataframe thead th {\n",
       "        text-align: right;\n",
       "    }\n",
       "</style>\n",
       "<table border=\"1\" class=\"dataframe\">\n",
       "  <thead>\n",
       "    <tr style=\"text-align: right;\">\n",
       "      <th></th>\n",
       "      <th>primary_cleaner.input.sulfate</th>\n",
       "      <th>primary_cleaner.input.depressant</th>\n",
       "      <th>primary_cleaner.input.feed_size</th>\n",
       "      <th>primary_cleaner.input.xanthate</th>\n",
       "      <th>primary_cleaner.output.concentrate_ag</th>\n",
       "      <th>primary_cleaner.output.concentrate_pb</th>\n",
       "      <th>primary_cleaner.output.concentrate_sol</th>\n",
       "      <th>primary_cleaner.output.concentrate_au</th>\n",
       "      <th>primary_cleaner.output.tail_ag</th>\n",
       "      <th>primary_cleaner.output.tail_pb</th>\n",
       "      <th>primary_cleaner.output.tail_sol</th>\n",
       "      <th>primary_cleaner.output.tail_au</th>\n",
       "      <th>primary_cleaner.state.floatbank8_a_air</th>\n",
       "      <th>primary_cleaner.state.floatbank8_a_level</th>\n",
       "      <th>primary_cleaner.state.floatbank8_b_air</th>\n",
       "      <th>primary_cleaner.state.floatbank8_b_level</th>\n",
       "      <th>primary_cleaner.state.floatbank8_c_air</th>\n",
       "      <th>primary_cleaner.state.floatbank8_c_level</th>\n",
       "      <th>primary_cleaner.state.floatbank8_d_air</th>\n",
       "      <th>primary_cleaner.state.floatbank8_d_level</th>\n",
       "    </tr>\n",
       "  </thead>\n",
       "  <tbody>\n",
       "    <tr>\n",
       "      <td>count</td>\n",
       "      <td>19415.000000</td>\n",
       "      <td>19402.000000</td>\n",
       "      <td>19439.000000</td>\n",
       "      <td>19335.000000</td>\n",
       "      <td>19439.000000</td>\n",
       "      <td>19323.000000</td>\n",
       "      <td>19069.000000</td>\n",
       "      <td>19439.000000</td>\n",
       "      <td>19435.000000</td>\n",
       "      <td>19418.000000</td>\n",
       "      <td>19377.000000</td>\n",
       "      <td>19439.000000</td>\n",
       "      <td>1.943500e+04</td>\n",
       "      <td>19438.000000</td>\n",
       "      <td>1.943500e+04</td>\n",
       "      <td>19438.000000</td>\n",
       "      <td>1.943700e+04</td>\n",
       "      <td>19438.000000</td>\n",
       "      <td>1.943600e+04</td>\n",
       "      <td>19438.000000</td>\n",
       "    </tr>\n",
       "    <tr>\n",
       "      <td>mean</td>\n",
       "      <td>144.624774</td>\n",
       "      <td>8.817039</td>\n",
       "      <td>7.307078</td>\n",
       "      <td>1.021795</td>\n",
       "      <td>8.442408</td>\n",
       "      <td>9.829530</td>\n",
       "      <td>10.489499</td>\n",
       "      <td>32.119400</td>\n",
       "      <td>16.145826</td>\n",
       "      <td>3.435656</td>\n",
       "      <td>7.973209</td>\n",
       "      <td>3.914179</td>\n",
       "      <td>1.589354e+03</td>\n",
       "      <td>-491.195012</td>\n",
       "      <td>1.591344e+03</td>\n",
       "      <td>-492.192978</td>\n",
       "      <td>1.586669e+03</td>\n",
       "      <td>-491.980070</td>\n",
       "      <td>1.542912e+03</td>\n",
       "      <td>-488.017382</td>\n",
       "    </tr>\n",
       "    <tr>\n",
       "      <td>std</td>\n",
       "      <td>44.464071</td>\n",
       "      <td>3.286186</td>\n",
       "      <td>0.613509</td>\n",
       "      <td>0.513254</td>\n",
       "      <td>2.054465</td>\n",
       "      <td>2.556843</td>\n",
       "      <td>3.909639</td>\n",
       "      <td>5.627611</td>\n",
       "      <td>3.548598</td>\n",
       "      <td>1.392536</td>\n",
       "      <td>2.212677</td>\n",
       "      <td>1.593034</td>\n",
       "      <td>1.289968e+02</td>\n",
       "      <td>32.431842</td>\n",
       "      <td>1.318109e+02</td>\n",
       "      <td>33.794822</td>\n",
       "      <td>1.361114e+02</td>\n",
       "      <td>32.711455</td>\n",
       "      <td>2.461996e+02</td>\n",
       "      <td>43.959780</td>\n",
       "    </tr>\n",
       "    <tr>\n",
       "      <td>min</td>\n",
       "      <td>0.003112</td>\n",
       "      <td>0.000000</td>\n",
       "      <td>1.080000</td>\n",
       "      <td>0.000005</td>\n",
       "      <td>0.000000</td>\n",
       "      <td>0.000000</td>\n",
       "      <td>0.000000</td>\n",
       "      <td>0.000000</td>\n",
       "      <td>0.000000</td>\n",
       "      <td>0.000000</td>\n",
       "      <td>0.000000</td>\n",
       "      <td>0.000000</td>\n",
       "      <td>5.445860e-32</td>\n",
       "      <td>-798.641662</td>\n",
       "      <td>6.647490e-32</td>\n",
       "      <td>-799.997015</td>\n",
       "      <td>4.033736e-32</td>\n",
       "      <td>-799.960571</td>\n",
       "      <td>4.039220e-32</td>\n",
       "      <td>-799.794250</td>\n",
       "    </tr>\n",
       "    <tr>\n",
       "      <td>25%</td>\n",
       "      <td>114.107029</td>\n",
       "      <td>6.076909</td>\n",
       "      <td>6.940000</td>\n",
       "      <td>0.697224</td>\n",
       "      <td>7.263288</td>\n",
       "      <td>8.702328</td>\n",
       "      <td>7.893893</td>\n",
       "      <td>30.463140</td>\n",
       "      <td>14.017742</td>\n",
       "      <td>2.504365</td>\n",
       "      <td>6.747483</td>\n",
       "      <td>2.924844</td>\n",
       "      <td>1.505063e+03</td>\n",
       "      <td>-500.308544</td>\n",
       "      <td>1.503630e+03</td>\n",
       "      <td>-500.437171</td>\n",
       "      <td>1.500927e+03</td>\n",
       "      <td>-500.703932</td>\n",
       "      <td>1.494219e+03</td>\n",
       "      <td>-500.458365</td>\n",
       "    </tr>\n",
       "    <tr>\n",
       "      <td>50%</td>\n",
       "      <td>143.232103</td>\n",
       "      <td>8.038311</td>\n",
       "      <td>7.280000</td>\n",
       "      <td>0.940863</td>\n",
       "      <td>8.507298</td>\n",
       "      <td>10.152433</td>\n",
       "      <td>10.314632</td>\n",
       "      <td>32.841295</td>\n",
       "      <td>15.842836</td>\n",
       "      <td>3.271153</td>\n",
       "      <td>8.183673</td>\n",
       "      <td>3.623234</td>\n",
       "      <td>1.600597e+03</td>\n",
       "      <td>-499.926134</td>\n",
       "      <td>1.600521e+03</td>\n",
       "      <td>-499.956767</td>\n",
       "      <td>1.600254e+03</td>\n",
       "      <td>-499.909524</td>\n",
       "      <td>1.599447e+03</td>\n",
       "      <td>-499.905974</td>\n",
       "    </tr>\n",
       "    <tr>\n",
       "      <td>75%</td>\n",
       "      <td>175.075656</td>\n",
       "      <td>11.013521</td>\n",
       "      <td>7.670000</td>\n",
       "      <td>1.210990</td>\n",
       "      <td>9.809001</td>\n",
       "      <td>11.424971</td>\n",
       "      <td>13.446702</td>\n",
       "      <td>35.048006</td>\n",
       "      <td>18.013975</td>\n",
       "      <td>4.181748</td>\n",
       "      <td>9.548586</td>\n",
       "      <td>4.585705</td>\n",
       "      <td>1.697658e+03</td>\n",
       "      <td>-499.433950</td>\n",
       "      <td>1.699218e+03</td>\n",
       "      <td>-499.373336</td>\n",
       "      <td>1.699483e+03</td>\n",
       "      <td>-498.857643</td>\n",
       "      <td>1.698525e+03</td>\n",
       "      <td>-499.064695</td>\n",
       "    </tr>\n",
       "    <tr>\n",
       "      <td>max</td>\n",
       "      <td>265.983123</td>\n",
       "      <td>40.000000</td>\n",
       "      <td>15.500000</td>\n",
       "      <td>4.102454</td>\n",
       "      <td>16.081632</td>\n",
       "      <td>17.081278</td>\n",
       "      <td>22.458114</td>\n",
       "      <td>45.933934</td>\n",
       "      <td>29.459575</td>\n",
       "      <td>9.634565</td>\n",
       "      <td>22.276364</td>\n",
       "      <td>17.788925</td>\n",
       "      <td>2.103104e+03</td>\n",
       "      <td>-57.195404</td>\n",
       "      <td>2.114907e+03</td>\n",
       "      <td>-142.527229</td>\n",
       "      <td>2.013156e+03</td>\n",
       "      <td>-150.937035</td>\n",
       "      <td>2.398904e+03</td>\n",
       "      <td>-30.601828</td>\n",
       "    </tr>\n",
       "  </tbody>\n",
       "</table>\n",
       "</div>"
      ],
      "text/plain": [
       "       primary_cleaner.input.sulfate  primary_cleaner.input.depressant  \\\n",
       "count                   19415.000000                      19402.000000   \n",
       "mean                      144.624774                          8.817039   \n",
       "std                        44.464071                          3.286186   \n",
       "min                         0.003112                          0.000000   \n",
       "25%                       114.107029                          6.076909   \n",
       "50%                       143.232103                          8.038311   \n",
       "75%                       175.075656                         11.013521   \n",
       "max                       265.983123                         40.000000   \n",
       "\n",
       "       primary_cleaner.input.feed_size  primary_cleaner.input.xanthate  \\\n",
       "count                     19439.000000                    19335.000000   \n",
       "mean                          7.307078                        1.021795   \n",
       "std                           0.613509                        0.513254   \n",
       "min                           1.080000                        0.000005   \n",
       "25%                           6.940000                        0.697224   \n",
       "50%                           7.280000                        0.940863   \n",
       "75%                           7.670000                        1.210990   \n",
       "max                          15.500000                        4.102454   \n",
       "\n",
       "       primary_cleaner.output.concentrate_ag  \\\n",
       "count                           19439.000000   \n",
       "mean                                8.442408   \n",
       "std                                 2.054465   \n",
       "min                                 0.000000   \n",
       "25%                                 7.263288   \n",
       "50%                                 8.507298   \n",
       "75%                                 9.809001   \n",
       "max                                16.081632   \n",
       "\n",
       "       primary_cleaner.output.concentrate_pb  \\\n",
       "count                           19323.000000   \n",
       "mean                                9.829530   \n",
       "std                                 2.556843   \n",
       "min                                 0.000000   \n",
       "25%                                 8.702328   \n",
       "50%                                10.152433   \n",
       "75%                                11.424971   \n",
       "max                                17.081278   \n",
       "\n",
       "       primary_cleaner.output.concentrate_sol  \\\n",
       "count                            19069.000000   \n",
       "mean                                10.489499   \n",
       "std                                  3.909639   \n",
       "min                                  0.000000   \n",
       "25%                                  7.893893   \n",
       "50%                                 10.314632   \n",
       "75%                                 13.446702   \n",
       "max                                 22.458114   \n",
       "\n",
       "       primary_cleaner.output.concentrate_au  primary_cleaner.output.tail_ag  \\\n",
       "count                           19439.000000                    19435.000000   \n",
       "mean                               32.119400                       16.145826   \n",
       "std                                 5.627611                        3.548598   \n",
       "min                                 0.000000                        0.000000   \n",
       "25%                                30.463140                       14.017742   \n",
       "50%                                32.841295                       15.842836   \n",
       "75%                                35.048006                       18.013975   \n",
       "max                                45.933934                       29.459575   \n",
       "\n",
       "       primary_cleaner.output.tail_pb  primary_cleaner.output.tail_sol  \\\n",
       "count                    19418.000000                     19377.000000   \n",
       "mean                         3.435656                         7.973209   \n",
       "std                          1.392536                         2.212677   \n",
       "min                          0.000000                         0.000000   \n",
       "25%                          2.504365                         6.747483   \n",
       "50%                          3.271153                         8.183673   \n",
       "75%                          4.181748                         9.548586   \n",
       "max                          9.634565                        22.276364   \n",
       "\n",
       "       primary_cleaner.output.tail_au  primary_cleaner.state.floatbank8_a_air  \\\n",
       "count                    19439.000000                            1.943500e+04   \n",
       "mean                         3.914179                            1.589354e+03   \n",
       "std                          1.593034                            1.289968e+02   \n",
       "min                          0.000000                            5.445860e-32   \n",
       "25%                          2.924844                            1.505063e+03   \n",
       "50%                          3.623234                            1.600597e+03   \n",
       "75%                          4.585705                            1.697658e+03   \n",
       "max                         17.788925                            2.103104e+03   \n",
       "\n",
       "       primary_cleaner.state.floatbank8_a_level  \\\n",
       "count                              19438.000000   \n",
       "mean                                -491.195012   \n",
       "std                                   32.431842   \n",
       "min                                 -798.641662   \n",
       "25%                                 -500.308544   \n",
       "50%                                 -499.926134   \n",
       "75%                                 -499.433950   \n",
       "max                                  -57.195404   \n",
       "\n",
       "       primary_cleaner.state.floatbank8_b_air  \\\n",
       "count                            1.943500e+04   \n",
       "mean                             1.591344e+03   \n",
       "std                              1.318109e+02   \n",
       "min                              6.647490e-32   \n",
       "25%                              1.503630e+03   \n",
       "50%                              1.600521e+03   \n",
       "75%                              1.699218e+03   \n",
       "max                              2.114907e+03   \n",
       "\n",
       "       primary_cleaner.state.floatbank8_b_level  \\\n",
       "count                              19438.000000   \n",
       "mean                                -492.192978   \n",
       "std                                   33.794822   \n",
       "min                                 -799.997015   \n",
       "25%                                 -500.437171   \n",
       "50%                                 -499.956767   \n",
       "75%                                 -499.373336   \n",
       "max                                 -142.527229   \n",
       "\n",
       "       primary_cleaner.state.floatbank8_c_air  \\\n",
       "count                            1.943700e+04   \n",
       "mean                             1.586669e+03   \n",
       "std                              1.361114e+02   \n",
       "min                              4.033736e-32   \n",
       "25%                              1.500927e+03   \n",
       "50%                              1.600254e+03   \n",
       "75%                              1.699483e+03   \n",
       "max                              2.013156e+03   \n",
       "\n",
       "       primary_cleaner.state.floatbank8_c_level  \\\n",
       "count                              19438.000000   \n",
       "mean                                -491.980070   \n",
       "std                                   32.711455   \n",
       "min                                 -799.960571   \n",
       "25%                                 -500.703932   \n",
       "50%                                 -499.909524   \n",
       "75%                                 -498.857643   \n",
       "max                                 -150.937035   \n",
       "\n",
       "       primary_cleaner.state.floatbank8_d_air  \\\n",
       "count                            1.943600e+04   \n",
       "mean                             1.542912e+03   \n",
       "std                              2.461996e+02   \n",
       "min                              4.039220e-32   \n",
       "25%                              1.494219e+03   \n",
       "50%                              1.599447e+03   \n",
       "75%                              1.698525e+03   \n",
       "max                              2.398904e+03   \n",
       "\n",
       "       primary_cleaner.state.floatbank8_d_level  \n",
       "count                              19438.000000  \n",
       "mean                                -488.017382  \n",
       "std                                   43.959780  \n",
       "min                                 -799.794250  \n",
       "25%                                 -500.458365  \n",
       "50%                                 -499.905974  \n",
       "75%                                 -499.064695  \n",
       "max                                  -30.601828  "
      ]
     },
     "execution_count": 8,
     "metadata": {},
     "output_type": "execute_result"
    }
   ],
   "source": [
    "primary_cleaner_col = [col for col in df if col.startswith('primary_cleaner')]\n",
    "\n",
    "df[primary_cleaner_col].describe()"
   ]
  },
  {
   "cell_type": "code",
   "execution_count": 9,
   "metadata": {},
   "outputs": [
    {
     "data": {
      "text/html": [
       "<div>\n",
       "<style scoped>\n",
       "    .dataframe tbody tr th:only-of-type {\n",
       "        vertical-align: middle;\n",
       "    }\n",
       "\n",
       "    .dataframe tbody tr th {\n",
       "        vertical-align: top;\n",
       "    }\n",
       "\n",
       "    .dataframe thead th {\n",
       "        text-align: right;\n",
       "    }\n",
       "</style>\n",
       "<table border=\"1\" class=\"dataframe\">\n",
       "  <thead>\n",
       "    <tr style=\"text-align: right;\">\n",
       "      <th></th>\n",
       "      <th>rougher.calculation.sulfate_to_au_concentrate</th>\n",
       "      <th>rougher.calculation.floatbank10_sulfate_to_au_feed</th>\n",
       "      <th>rougher.calculation.floatbank11_sulfate_to_au_feed</th>\n",
       "      <th>rougher.calculation.au_pb_ratio</th>\n",
       "      <th>rougher.input.feed_ag</th>\n",
       "      <th>rougher.input.feed_pb</th>\n",
       "      <th>rougher.input.feed_rate</th>\n",
       "      <th>rougher.input.feed_size</th>\n",
       "      <th>rougher.input.feed_sol</th>\n",
       "      <th>rougher.input.feed_au</th>\n",
       "      <th>...</th>\n",
       "      <th>rougher.state.floatbank10_b_air</th>\n",
       "      <th>rougher.state.floatbank10_b_level</th>\n",
       "      <th>rougher.state.floatbank10_c_air</th>\n",
       "      <th>rougher.state.floatbank10_c_level</th>\n",
       "      <th>rougher.state.floatbank10_d_air</th>\n",
       "      <th>rougher.state.floatbank10_d_level</th>\n",
       "      <th>rougher.state.floatbank10_e_air</th>\n",
       "      <th>rougher.state.floatbank10_e_level</th>\n",
       "      <th>rougher.state.floatbank10_f_air</th>\n",
       "      <th>rougher.state.floatbank10_f_level</th>\n",
       "    </tr>\n",
       "  </thead>\n",
       "  <tbody>\n",
       "    <tr>\n",
       "      <td>count</td>\n",
       "      <td>1.943700e+04</td>\n",
       "      <td>19437.000000</td>\n",
       "      <td>19437.000000</td>\n",
       "      <td>19439.000000</td>\n",
       "      <td>19439.000000</td>\n",
       "      <td>19339.000000</td>\n",
       "      <td>19428.000000</td>\n",
       "      <td>19294.000000</td>\n",
       "      <td>19340.000000</td>\n",
       "      <td>19439.000000</td>\n",
       "      <td>...</td>\n",
       "      <td>19438.000000</td>\n",
       "      <td>19438.000000</td>\n",
       "      <td>19438.000000</td>\n",
       "      <td>19438.000000</td>\n",
       "      <td>19439.000000</td>\n",
       "      <td>19439.000000</td>\n",
       "      <td>19003.000000</td>\n",
       "      <td>19439.000000</td>\n",
       "      <td>19439.000000</td>\n",
       "      <td>19439.000000</td>\n",
       "    </tr>\n",
       "    <tr>\n",
       "      <td>mean</td>\n",
       "      <td>4.217119e+04</td>\n",
       "      <td>3393.052498</td>\n",
       "      <td>3256.854171</td>\n",
       "      <td>2.420119</td>\n",
       "      <td>8.794927</td>\n",
       "      <td>3.598085</td>\n",
       "      <td>478.320042</td>\n",
       "      <td>58.970310</td>\n",
       "      <td>36.695114</td>\n",
       "      <td>8.266097</td>\n",
       "      <td>...</td>\n",
       "      <td>1320.221139</td>\n",
       "      <td>-467.247826</td>\n",
       "      <td>1299.968799</td>\n",
       "      <td>-467.716946</td>\n",
       "      <td>1211.563299</td>\n",
       "      <td>-468.239912</td>\n",
       "      <td>1080.869685</td>\n",
       "      <td>-466.037742</td>\n",
       "      <td>1025.274256</td>\n",
       "      <td>-466.265327</td>\n",
       "    </tr>\n",
       "    <tr>\n",
       "      <td>std</td>\n",
       "      <td>3.243621e+05</td>\n",
       "      <td>4943.845943</td>\n",
       "      <td>5781.423659</td>\n",
       "      <td>0.814935</td>\n",
       "      <td>1.936847</td>\n",
       "      <td>1.049486</td>\n",
       "      <td>105.373758</td>\n",
       "      <td>21.634478</td>\n",
       "      <td>5.145445</td>\n",
       "      <td>1.955092</td>\n",
       "      <td>...</td>\n",
       "      <td>176.287095</td>\n",
       "      <td>54.673142</td>\n",
       "      <td>202.804325</td>\n",
       "      <td>53.534825</td>\n",
       "      <td>204.019326</td>\n",
       "      <td>53.921458</td>\n",
       "      <td>172.149992</td>\n",
       "      <td>57.384424</td>\n",
       "      <td>164.487837</td>\n",
       "      <td>57.850263</td>\n",
       "    </tr>\n",
       "    <tr>\n",
       "      <td>min</td>\n",
       "      <td>-4.223520e+07</td>\n",
       "      <td>-486.598675</td>\n",
       "      <td>-264.982785</td>\n",
       "      <td>-0.010548</td>\n",
       "      <td>0.010000</td>\n",
       "      <td>0.010000</td>\n",
       "      <td>0.002986</td>\n",
       "      <td>0.046369</td>\n",
       "      <td>0.010000</td>\n",
       "      <td>0.010000</td>\n",
       "      <td>...</td>\n",
       "      <td>-0.721806</td>\n",
       "      <td>-650.260008</td>\n",
       "      <td>-0.056636</td>\n",
       "      <td>-647.544439</td>\n",
       "      <td>-0.992219</td>\n",
       "      <td>-648.390665</td>\n",
       "      <td>-1.982295</td>\n",
       "      <td>-649.443911</td>\n",
       "      <td>-2.593390</td>\n",
       "      <td>-649.949283</td>\n",
       "    </tr>\n",
       "    <tr>\n",
       "      <td>25%</td>\n",
       "      <td>4.070095e+04</td>\n",
       "      <td>2611.425833</td>\n",
       "      <td>2551.437587</td>\n",
       "      <td>2.035434</td>\n",
       "      <td>7.237967</td>\n",
       "      <td>2.887280</td>\n",
       "      <td>416.525453</td>\n",
       "      <td>47.435103</td>\n",
       "      <td>34.207799</td>\n",
       "      <td>6.854384</td>\n",
       "      <td>...</td>\n",
       "      <td>1199.626115</td>\n",
       "      <td>-500.201130</td>\n",
       "      <td>1151.076301</td>\n",
       "      <td>-500.217218</td>\n",
       "      <td>1061.051788</td>\n",
       "      <td>-500.386386</td>\n",
       "      <td>998.675263</td>\n",
       "      <td>-500.232191</td>\n",
       "      <td>900.995511</td>\n",
       "      <td>-500.522553</td>\n",
       "    </tr>\n",
       "    <tr>\n",
       "      <td>50%</td>\n",
       "      <td>4.469648e+04</td>\n",
       "      <td>3018.353876</td>\n",
       "      <td>2997.218088</td>\n",
       "      <td>2.309665</td>\n",
       "      <td>8.593574</td>\n",
       "      <td>3.534895</td>\n",
       "      <td>499.416120</td>\n",
       "      <td>54.610197</td>\n",
       "      <td>37.202650</td>\n",
       "      <td>8.125839</td>\n",
       "      <td>...</td>\n",
       "      <td>1301.579988</td>\n",
       "      <td>-499.784045</td>\n",
       "      <td>1300.211537</td>\n",
       "      <td>-499.713364</td>\n",
       "      <td>1201.569141</td>\n",
       "      <td>-499.532412</td>\n",
       "      <td>1050.029461</td>\n",
       "      <td>-499.663089</td>\n",
       "      <td>999.924821</td>\n",
       "      <td>-499.471777</td>\n",
       "    </tr>\n",
       "    <tr>\n",
       "      <td>75%</td>\n",
       "      <td>4.816821e+04</td>\n",
       "      <td>3676.769750</td>\n",
       "      <td>3601.998911</td>\n",
       "      <td>2.731794</td>\n",
       "      <td>10.213771</td>\n",
       "      <td>4.244161</td>\n",
       "      <td>550.172183</td>\n",
       "      <td>65.023044</td>\n",
       "      <td>40.039133</td>\n",
       "      <td>9.769917</td>\n",
       "      <td>...</td>\n",
       "      <td>1448.630789</td>\n",
       "      <td>-400.615589</td>\n",
       "      <td>1449.464001</td>\n",
       "      <td>-400.985743</td>\n",
       "      <td>1352.880320</td>\n",
       "      <td>-401.638550</td>\n",
       "      <td>1199.425140</td>\n",
       "      <td>-401.161191</td>\n",
       "      <td>1099.719692</td>\n",
       "      <td>-401.511042</td>\n",
       "    </tr>\n",
       "    <tr>\n",
       "      <td>max</td>\n",
       "      <td>3.428099e+06</td>\n",
       "      <td>629638.977914</td>\n",
       "      <td>718684.955855</td>\n",
       "      <td>39.379272</td>\n",
       "      <td>14.596026</td>\n",
       "      <td>7.142594</td>\n",
       "      <td>717.508837</td>\n",
       "      <td>484.967466</td>\n",
       "      <td>53.477742</td>\n",
       "      <td>13.731330</td>\n",
       "      <td>...</td>\n",
       "      <td>1809.194008</td>\n",
       "      <td>-296.383080</td>\n",
       "      <td>2499.129174</td>\n",
       "      <td>-292.155509</td>\n",
       "      <td>1817.199290</td>\n",
       "      <td>-76.397327</td>\n",
       "      <td>1922.636637</td>\n",
       "      <td>-139.753025</td>\n",
       "      <td>1706.307502</td>\n",
       "      <td>-191.718480</td>\n",
       "    </tr>\n",
       "  </tbody>\n",
       "</table>\n",
       "<p>8 rows × 35 columns</p>\n",
       "</div>"
      ],
      "text/plain": [
       "       rougher.calculation.sulfate_to_au_concentrate  \\\n",
       "count                                   1.943700e+04   \n",
       "mean                                    4.217119e+04   \n",
       "std                                     3.243621e+05   \n",
       "min                                    -4.223520e+07   \n",
       "25%                                     4.070095e+04   \n",
       "50%                                     4.469648e+04   \n",
       "75%                                     4.816821e+04   \n",
       "max                                     3.428099e+06   \n",
       "\n",
       "       rougher.calculation.floatbank10_sulfate_to_au_feed  \\\n",
       "count                                       19437.000000    \n",
       "mean                                         3393.052498    \n",
       "std                                          4943.845943    \n",
       "min                                          -486.598675    \n",
       "25%                                          2611.425833    \n",
       "50%                                          3018.353876    \n",
       "75%                                          3676.769750    \n",
       "max                                        629638.977914    \n",
       "\n",
       "       rougher.calculation.floatbank11_sulfate_to_au_feed  \\\n",
       "count                                       19437.000000    \n",
       "mean                                         3256.854171    \n",
       "std                                          5781.423659    \n",
       "min                                          -264.982785    \n",
       "25%                                          2551.437587    \n",
       "50%                                          2997.218088    \n",
       "75%                                          3601.998911    \n",
       "max                                        718684.955855    \n",
       "\n",
       "       rougher.calculation.au_pb_ratio  rougher.input.feed_ag  \\\n",
       "count                     19439.000000           19439.000000   \n",
       "mean                          2.420119               8.794927   \n",
       "std                           0.814935               1.936847   \n",
       "min                          -0.010548               0.010000   \n",
       "25%                           2.035434               7.237967   \n",
       "50%                           2.309665               8.593574   \n",
       "75%                           2.731794              10.213771   \n",
       "max                          39.379272              14.596026   \n",
       "\n",
       "       rougher.input.feed_pb  rougher.input.feed_rate  \\\n",
       "count           19339.000000             19428.000000   \n",
       "mean                3.598085               478.320042   \n",
       "std                 1.049486               105.373758   \n",
       "min                 0.010000                 0.002986   \n",
       "25%                 2.887280               416.525453   \n",
       "50%                 3.534895               499.416120   \n",
       "75%                 4.244161               550.172183   \n",
       "max                 7.142594               717.508837   \n",
       "\n",
       "       rougher.input.feed_size  rougher.input.feed_sol  rougher.input.feed_au  \\\n",
       "count             19294.000000            19340.000000           19439.000000   \n",
       "mean                 58.970310               36.695114               8.266097   \n",
       "std                  21.634478                5.145445               1.955092   \n",
       "min                   0.046369                0.010000               0.010000   \n",
       "25%                  47.435103               34.207799               6.854384   \n",
       "50%                  54.610197               37.202650               8.125839   \n",
       "75%                  65.023044               40.039133               9.769917   \n",
       "max                 484.967466               53.477742              13.731330   \n",
       "\n",
       "       ...  rougher.state.floatbank10_b_air  \\\n",
       "count  ...                     19438.000000   \n",
       "mean   ...                      1320.221139   \n",
       "std    ...                       176.287095   \n",
       "min    ...                        -0.721806   \n",
       "25%    ...                      1199.626115   \n",
       "50%    ...                      1301.579988   \n",
       "75%    ...                      1448.630789   \n",
       "max    ...                      1809.194008   \n",
       "\n",
       "       rougher.state.floatbank10_b_level  rougher.state.floatbank10_c_air  \\\n",
       "count                       19438.000000                     19438.000000   \n",
       "mean                         -467.247826                      1299.968799   \n",
       "std                            54.673142                       202.804325   \n",
       "min                          -650.260008                        -0.056636   \n",
       "25%                          -500.201130                      1151.076301   \n",
       "50%                          -499.784045                      1300.211537   \n",
       "75%                          -400.615589                      1449.464001   \n",
       "max                          -296.383080                      2499.129174   \n",
       "\n",
       "       rougher.state.floatbank10_c_level  rougher.state.floatbank10_d_air  \\\n",
       "count                       19438.000000                     19439.000000   \n",
       "mean                         -467.716946                      1211.563299   \n",
       "std                            53.534825                       204.019326   \n",
       "min                          -647.544439                        -0.992219   \n",
       "25%                          -500.217218                      1061.051788   \n",
       "50%                          -499.713364                      1201.569141   \n",
       "75%                          -400.985743                      1352.880320   \n",
       "max                          -292.155509                      1817.199290   \n",
       "\n",
       "       rougher.state.floatbank10_d_level  rougher.state.floatbank10_e_air  \\\n",
       "count                       19439.000000                     19003.000000   \n",
       "mean                         -468.239912                      1080.869685   \n",
       "std                            53.921458                       172.149992   \n",
       "min                          -648.390665                        -1.982295   \n",
       "25%                          -500.386386                       998.675263   \n",
       "50%                          -499.532412                      1050.029461   \n",
       "75%                          -401.638550                      1199.425140   \n",
       "max                           -76.397327                      1922.636637   \n",
       "\n",
       "       rougher.state.floatbank10_e_level  rougher.state.floatbank10_f_air  \\\n",
       "count                       19439.000000                     19439.000000   \n",
       "mean                         -466.037742                      1025.274256   \n",
       "std                            57.384424                       164.487837   \n",
       "min                          -649.443911                        -2.593390   \n",
       "25%                          -500.232191                       900.995511   \n",
       "50%                          -499.663089                       999.924821   \n",
       "75%                          -401.161191                      1099.719692   \n",
       "max                          -139.753025                      1706.307502   \n",
       "\n",
       "       rougher.state.floatbank10_f_level  \n",
       "count                       19439.000000  \n",
       "mean                         -466.265327  \n",
       "std                            57.850263  \n",
       "min                          -649.949283  \n",
       "25%                          -500.522553  \n",
       "50%                          -499.471777  \n",
       "75%                          -401.511042  \n",
       "max                          -191.718480  \n",
       "\n",
       "[8 rows x 35 columns]"
      ]
     },
     "execution_count": 9,
     "metadata": {},
     "output_type": "execute_result"
    }
   ],
   "source": [
    "rougher_col = [col for col in df if col.startswith('rougher')]\n",
    "\n",
    "df[rougher_col].describe()"
   ]
  },
  {
   "cell_type": "code",
   "execution_count": 10,
   "metadata": {},
   "outputs": [
    {
     "data": {
      "text/html": [
       "<div>\n",
       "<style scoped>\n",
       "    .dataframe tbody tr th:only-of-type {\n",
       "        vertical-align: middle;\n",
       "    }\n",
       "\n",
       "    .dataframe tbody tr th {\n",
       "        vertical-align: top;\n",
       "    }\n",
       "\n",
       "    .dataframe thead th {\n",
       "        text-align: right;\n",
       "    }\n",
       "</style>\n",
       "<table border=\"1\" class=\"dataframe\">\n",
       "  <thead>\n",
       "    <tr style=\"text-align: right;\">\n",
       "      <th></th>\n",
       "      <th>secondary_cleaner.output.tail_ag</th>\n",
       "      <th>secondary_cleaner.output.tail_pb</th>\n",
       "      <th>secondary_cleaner.output.tail_sol</th>\n",
       "      <th>secondary_cleaner.output.tail_au</th>\n",
       "      <th>secondary_cleaner.state.floatbank2_a_air</th>\n",
       "      <th>secondary_cleaner.state.floatbank2_a_level</th>\n",
       "      <th>secondary_cleaner.state.floatbank2_b_air</th>\n",
       "      <th>secondary_cleaner.state.floatbank2_b_level</th>\n",
       "      <th>secondary_cleaner.state.floatbank3_a_air</th>\n",
       "      <th>secondary_cleaner.state.floatbank3_a_level</th>\n",
       "      <th>...</th>\n",
       "      <th>secondary_cleaner.state.floatbank4_a_air</th>\n",
       "      <th>secondary_cleaner.state.floatbank4_a_level</th>\n",
       "      <th>secondary_cleaner.state.floatbank4_b_air</th>\n",
       "      <th>secondary_cleaner.state.floatbank4_b_level</th>\n",
       "      <th>secondary_cleaner.state.floatbank5_a_air</th>\n",
       "      <th>secondary_cleaner.state.floatbank5_a_level</th>\n",
       "      <th>secondary_cleaner.state.floatbank5_b_air</th>\n",
       "      <th>secondary_cleaner.state.floatbank5_b_level</th>\n",
       "      <th>secondary_cleaner.state.floatbank6_a_air</th>\n",
       "      <th>secondary_cleaner.state.floatbank6_a_level</th>\n",
       "    </tr>\n",
       "  </thead>\n",
       "  <tbody>\n",
       "    <tr>\n",
       "      <td>count</td>\n",
       "      <td>19437.000000</td>\n",
       "      <td>19427.000000</td>\n",
       "      <td>17691.000000</td>\n",
       "      <td>19439.000000</td>\n",
       "      <td>19219.000000</td>\n",
       "      <td>19438.000000</td>\n",
       "      <td>19416.000000</td>\n",
       "      <td>19438.000000</td>\n",
       "      <td>19426.000000</td>\n",
       "      <td>19438.000000</td>\n",
       "      <td>...</td>\n",
       "      <td>19433.000000</td>\n",
       "      <td>19438.000000</td>\n",
       "      <td>19438.000000</td>\n",
       "      <td>19438.000000</td>\n",
       "      <td>19438.000000</td>\n",
       "      <td>19438.000000</td>\n",
       "      <td>19438.000000</td>\n",
       "      <td>19438.000000</td>\n",
       "      <td>19437.000000</td>\n",
       "      <td>19438.000000</td>\n",
       "    </tr>\n",
       "    <tr>\n",
       "      <td>mean</td>\n",
       "      <td>14.586833</td>\n",
       "      <td>5.777703</td>\n",
       "      <td>7.167247</td>\n",
       "      <td>4.339625</td>\n",
       "      <td>28.705564</td>\n",
       "      <td>-502.367331</td>\n",
       "      <td>24.106800</td>\n",
       "      <td>-503.230712</td>\n",
       "      <td>28.199338</td>\n",
       "      <td>-486.203350</td>\n",
       "      <td>...</td>\n",
       "      <td>18.987674</td>\n",
       "      <td>-485.894516</td>\n",
       "      <td>15.010366</td>\n",
       "      <td>-461.078636</td>\n",
       "      <td>15.694452</td>\n",
       "      <td>-488.684065</td>\n",
       "      <td>12.198224</td>\n",
       "      <td>-487.149827</td>\n",
       "      <td>18.959024</td>\n",
       "      <td>-505.436305</td>\n",
       "    </tr>\n",
       "    <tr>\n",
       "      <td>std</td>\n",
       "      <td>4.265202</td>\n",
       "      <td>2.774598</td>\n",
       "      <td>3.916079</td>\n",
       "      <td>2.326751</td>\n",
       "      <td>5.458789</td>\n",
       "      <td>53.571950</td>\n",
       "      <td>5.749616</td>\n",
       "      <td>56.567724</td>\n",
       "      <td>6.134908</td>\n",
       "      <td>54.412349</td>\n",
       "      <td>...</td>\n",
       "      <td>5.411058</td>\n",
       "      <td>47.758570</td>\n",
       "      <td>4.890228</td>\n",
       "      <td>67.405524</td>\n",
       "      <td>5.510974</td>\n",
       "      <td>34.533396</td>\n",
       "      <td>5.333024</td>\n",
       "      <td>38.347312</td>\n",
       "      <td>5.550498</td>\n",
       "      <td>37.689057</td>\n",
       "    </tr>\n",
       "    <tr>\n",
       "      <td>min</td>\n",
       "      <td>0.000000</td>\n",
       "      <td>0.000000</td>\n",
       "      <td>0.000000</td>\n",
       "      <td>0.000000</td>\n",
       "      <td>0.077503</td>\n",
       "      <td>-799.606441</td>\n",
       "      <td>0.000000</td>\n",
       "      <td>-799.873878</td>\n",
       "      <td>0.000000</td>\n",
       "      <td>-799.755798</td>\n",
       "      <td>...</td>\n",
       "      <td>0.000000</td>\n",
       "      <td>-799.798523</td>\n",
       "      <td>0.000000</td>\n",
       "      <td>-800.836914</td>\n",
       "      <td>-0.372054</td>\n",
       "      <td>-797.323986</td>\n",
       "      <td>0.528083</td>\n",
       "      <td>-800.220337</td>\n",
       "      <td>-0.079426</td>\n",
       "      <td>-809.741464</td>\n",
       "    </tr>\n",
       "    <tr>\n",
       "      <td>25%</td>\n",
       "      <td>12.640239</td>\n",
       "      <td>3.864733</td>\n",
       "      <td>3.845475</td>\n",
       "      <td>3.182770</td>\n",
       "      <td>25.048462</td>\n",
       "      <td>-500.233700</td>\n",
       "      <td>20.919853</td>\n",
       "      <td>-500.253794</td>\n",
       "      <td>24.949227</td>\n",
       "      <td>-500.213546</td>\n",
       "      <td>...</td>\n",
       "      <td>14.975734</td>\n",
       "      <td>-500.704892</td>\n",
       "      <td>11.940294</td>\n",
       "      <td>-500.187742</td>\n",
       "      <td>10.988606</td>\n",
       "      <td>-500.458467</td>\n",
       "      <td>8.971105</td>\n",
       "      <td>-500.129462</td>\n",
       "      <td>14.983037</td>\n",
       "      <td>-500.728067</td>\n",
       "    </tr>\n",
       "    <tr>\n",
       "      <td>50%</td>\n",
       "      <td>15.641902</td>\n",
       "      <td>5.344073</td>\n",
       "      <td>7.685827</td>\n",
       "      <td>4.072412</td>\n",
       "      <td>29.099943</td>\n",
       "      <td>-499.973250</td>\n",
       "      <td>25.043289</td>\n",
       "      <td>-500.015439</td>\n",
       "      <td>27.982129</td>\n",
       "      <td>-499.930680</td>\n",
       "      <td>...</td>\n",
       "      <td>18.017481</td>\n",
       "      <td>-499.837793</td>\n",
       "      <td>14.971014</td>\n",
       "      <td>-499.459786</td>\n",
       "      <td>15.000036</td>\n",
       "      <td>-499.802605</td>\n",
       "      <td>11.019433</td>\n",
       "      <td>-499.935317</td>\n",
       "      <td>19.960541</td>\n",
       "      <td>-500.048400</td>\n",
       "    </tr>\n",
       "    <tr>\n",
       "      <td>75%</td>\n",
       "      <td>17.358217</td>\n",
       "      <td>7.788467</td>\n",
       "      <td>10.411296</td>\n",
       "      <td>5.063081</td>\n",
       "      <td>33.012536</td>\n",
       "      <td>-499.671261</td>\n",
       "      <td>28.008197</td>\n",
       "      <td>-499.785698</td>\n",
       "      <td>33.002798</td>\n",
       "      <td>-499.325739</td>\n",
       "      <td>...</td>\n",
       "      <td>23.012470</td>\n",
       "      <td>-498.249730</td>\n",
       "      <td>19.034162</td>\n",
       "      <td>-400.118106</td>\n",
       "      <td>18.026190</td>\n",
       "      <td>-498.384187</td>\n",
       "      <td>14.019088</td>\n",
       "      <td>-499.436708</td>\n",
       "      <td>24.003170</td>\n",
       "      <td>-499.495378</td>\n",
       "    </tr>\n",
       "    <tr>\n",
       "      <td>max</td>\n",
       "      <td>23.264738</td>\n",
       "      <td>17.042505</td>\n",
       "      <td>26.000772</td>\n",
       "      <td>26.811643</td>\n",
       "      <td>52.651399</td>\n",
       "      <td>-127.875565</td>\n",
       "      <td>35.152122</td>\n",
       "      <td>-211.999273</td>\n",
       "      <td>44.260464</td>\n",
       "      <td>-191.678810</td>\n",
       "      <td>...</td>\n",
       "      <td>30.115735</td>\n",
       "      <td>-245.239184</td>\n",
       "      <td>31.269706</td>\n",
       "      <td>-6.506986</td>\n",
       "      <td>43.709931</td>\n",
       "      <td>-244.483566</td>\n",
       "      <td>27.926001</td>\n",
       "      <td>-137.740004</td>\n",
       "      <td>32.188906</td>\n",
       "      <td>-104.427459</td>\n",
       "    </tr>\n",
       "  </tbody>\n",
       "</table>\n",
       "<p>8 rows × 22 columns</p>\n",
       "</div>"
      ],
      "text/plain": [
       "       secondary_cleaner.output.tail_ag  secondary_cleaner.output.tail_pb  \\\n",
       "count                      19437.000000                      19427.000000   \n",
       "mean                          14.586833                          5.777703   \n",
       "std                            4.265202                          2.774598   \n",
       "min                            0.000000                          0.000000   \n",
       "25%                           12.640239                          3.864733   \n",
       "50%                           15.641902                          5.344073   \n",
       "75%                           17.358217                          7.788467   \n",
       "max                           23.264738                         17.042505   \n",
       "\n",
       "       secondary_cleaner.output.tail_sol  secondary_cleaner.output.tail_au  \\\n",
       "count                       17691.000000                      19439.000000   \n",
       "mean                            7.167247                          4.339625   \n",
       "std                             3.916079                          2.326751   \n",
       "min                             0.000000                          0.000000   \n",
       "25%                             3.845475                          3.182770   \n",
       "50%                             7.685827                          4.072412   \n",
       "75%                            10.411296                          5.063081   \n",
       "max                            26.000772                         26.811643   \n",
       "\n",
       "       secondary_cleaner.state.floatbank2_a_air  \\\n",
       "count                              19219.000000   \n",
       "mean                                  28.705564   \n",
       "std                                    5.458789   \n",
       "min                                    0.077503   \n",
       "25%                                   25.048462   \n",
       "50%                                   29.099943   \n",
       "75%                                   33.012536   \n",
       "max                                   52.651399   \n",
       "\n",
       "       secondary_cleaner.state.floatbank2_a_level  \\\n",
       "count                                19438.000000   \n",
       "mean                                  -502.367331   \n",
       "std                                     53.571950   \n",
       "min                                   -799.606441   \n",
       "25%                                   -500.233700   \n",
       "50%                                   -499.973250   \n",
       "75%                                   -499.671261   \n",
       "max                                   -127.875565   \n",
       "\n",
       "       secondary_cleaner.state.floatbank2_b_air  \\\n",
       "count                              19416.000000   \n",
       "mean                                  24.106800   \n",
       "std                                    5.749616   \n",
       "min                                    0.000000   \n",
       "25%                                   20.919853   \n",
       "50%                                   25.043289   \n",
       "75%                                   28.008197   \n",
       "max                                   35.152122   \n",
       "\n",
       "       secondary_cleaner.state.floatbank2_b_level  \\\n",
       "count                                19438.000000   \n",
       "mean                                  -503.230712   \n",
       "std                                     56.567724   \n",
       "min                                   -799.873878   \n",
       "25%                                   -500.253794   \n",
       "50%                                   -500.015439   \n",
       "75%                                   -499.785698   \n",
       "max                                   -211.999273   \n",
       "\n",
       "       secondary_cleaner.state.floatbank3_a_air  \\\n",
       "count                              19426.000000   \n",
       "mean                                  28.199338   \n",
       "std                                    6.134908   \n",
       "min                                    0.000000   \n",
       "25%                                   24.949227   \n",
       "50%                                   27.982129   \n",
       "75%                                   33.002798   \n",
       "max                                   44.260464   \n",
       "\n",
       "       secondary_cleaner.state.floatbank3_a_level  ...  \\\n",
       "count                                19438.000000  ...   \n",
       "mean                                  -486.203350  ...   \n",
       "std                                     54.412349  ...   \n",
       "min                                   -799.755798  ...   \n",
       "25%                                   -500.213546  ...   \n",
       "50%                                   -499.930680  ...   \n",
       "75%                                   -499.325739  ...   \n",
       "max                                   -191.678810  ...   \n",
       "\n",
       "       secondary_cleaner.state.floatbank4_a_air  \\\n",
       "count                              19433.000000   \n",
       "mean                                  18.987674   \n",
       "std                                    5.411058   \n",
       "min                                    0.000000   \n",
       "25%                                   14.975734   \n",
       "50%                                   18.017481   \n",
       "75%                                   23.012470   \n",
       "max                                   30.115735   \n",
       "\n",
       "       secondary_cleaner.state.floatbank4_a_level  \\\n",
       "count                                19438.000000   \n",
       "mean                                  -485.894516   \n",
       "std                                     47.758570   \n",
       "min                                   -799.798523   \n",
       "25%                                   -500.704892   \n",
       "50%                                   -499.837793   \n",
       "75%                                   -498.249730   \n",
       "max                                   -245.239184   \n",
       "\n",
       "       secondary_cleaner.state.floatbank4_b_air  \\\n",
       "count                              19438.000000   \n",
       "mean                                  15.010366   \n",
       "std                                    4.890228   \n",
       "min                                    0.000000   \n",
       "25%                                   11.940294   \n",
       "50%                                   14.971014   \n",
       "75%                                   19.034162   \n",
       "max                                   31.269706   \n",
       "\n",
       "       secondary_cleaner.state.floatbank4_b_level  \\\n",
       "count                                19438.000000   \n",
       "mean                                  -461.078636   \n",
       "std                                     67.405524   \n",
       "min                                   -800.836914   \n",
       "25%                                   -500.187742   \n",
       "50%                                   -499.459786   \n",
       "75%                                   -400.118106   \n",
       "max                                     -6.506986   \n",
       "\n",
       "       secondary_cleaner.state.floatbank5_a_air  \\\n",
       "count                              19438.000000   \n",
       "mean                                  15.694452   \n",
       "std                                    5.510974   \n",
       "min                                   -0.372054   \n",
       "25%                                   10.988606   \n",
       "50%                                   15.000036   \n",
       "75%                                   18.026190   \n",
       "max                                   43.709931   \n",
       "\n",
       "       secondary_cleaner.state.floatbank5_a_level  \\\n",
       "count                                19438.000000   \n",
       "mean                                  -488.684065   \n",
       "std                                     34.533396   \n",
       "min                                   -797.323986   \n",
       "25%                                   -500.458467   \n",
       "50%                                   -499.802605   \n",
       "75%                                   -498.384187   \n",
       "max                                   -244.483566   \n",
       "\n",
       "       secondary_cleaner.state.floatbank5_b_air  \\\n",
       "count                              19438.000000   \n",
       "mean                                  12.198224   \n",
       "std                                    5.333024   \n",
       "min                                    0.528083   \n",
       "25%                                    8.971105   \n",
       "50%                                   11.019433   \n",
       "75%                                   14.019088   \n",
       "max                                   27.926001   \n",
       "\n",
       "       secondary_cleaner.state.floatbank5_b_level  \\\n",
       "count                                19438.000000   \n",
       "mean                                  -487.149827   \n",
       "std                                     38.347312   \n",
       "min                                   -800.220337   \n",
       "25%                                   -500.129462   \n",
       "50%                                   -499.935317   \n",
       "75%                                   -499.436708   \n",
       "max                                   -137.740004   \n",
       "\n",
       "       secondary_cleaner.state.floatbank6_a_air  \\\n",
       "count                              19437.000000   \n",
       "mean                                  18.959024   \n",
       "std                                    5.550498   \n",
       "min                                   -0.079426   \n",
       "25%                                   14.983037   \n",
       "50%                                   19.960541   \n",
       "75%                                   24.003170   \n",
       "max                                   32.188906   \n",
       "\n",
       "       secondary_cleaner.state.floatbank6_a_level  \n",
       "count                                19438.000000  \n",
       "mean                                  -505.436305  \n",
       "std                                     37.689057  \n",
       "min                                   -809.741464  \n",
       "25%                                   -500.728067  \n",
       "50%                                   -500.048400  \n",
       "75%                                   -499.495378  \n",
       "max                                   -104.427459  \n",
       "\n",
       "[8 rows x 22 columns]"
      ]
     },
     "execution_count": 10,
     "metadata": {},
     "output_type": "execute_result"
    }
   ],
   "source": [
    "secondary_cleaner_col = [col for col in df if col.startswith('secondary_cleaner')]\n",
    "\n",
    "df[secondary_cleaner_col].describe()"
   ]
  },
  {
   "cell_type": "markdown",
   "metadata": {},
   "source": [
    "<div style=\"border-radius: 15px; border: 1px solid grey; padding: 15px;\">\n",
    "Данные достаточно разнородны и потребуют скалирования перед обучением моделе. Переходим к первому заданию из плана.\n",
    "</div>"
   ]
  },
  {
   "cell_type": "markdown",
   "metadata": {},
   "source": [
    "### Проверка правильности расчета эффективность обогащения."
   ]
  },
  {
   "cell_type": "markdown",
   "metadata": {},
   "source": [
    "<div style=\"border-radius: 15px; border: 1px solid grey; padding: 15px;\">\n",
    "Расчитаем эффективность обогащения после этапа флотации, воспользовавшись формулой из условий.\n",
    "</div>"
   ]
  },
  {
   "cell_type": "code",
   "execution_count": 11,
   "metadata": {},
   "outputs": [],
   "source": [
    "df_train['rougher.output.recovery_calculated'] = ((df_train['rougher.output.concentrate_au'] \n",
    "                                                   * (df_train['rougher.input.feed_au'] - df_train['rougher.output.tail_au'])) \n",
    "                                                   / (df_train['rougher.input.feed_au'] \n",
    "                                                   * (df_train['rougher.output.concentrate_au'] - df_train['rougher.output.tail_au']))) * 100\n"
   ]
  },
  {
   "cell_type": "markdown",
   "metadata": {},
   "source": [
    "<div style=\"border-radius: 15px; border: 1px solid grey; padding: 15px;\">\n",
    "Полученый расчет поместим в отдельный столбец, проверим результат визуально.\n",
    "</div>"
   ]
  },
  {
   "cell_type": "code",
   "execution_count": 12,
   "metadata": {},
   "outputs": [
    {
     "data": {
      "text/html": [
       "<div>\n",
       "<style scoped>\n",
       "    .dataframe tbody tr th:only-of-type {\n",
       "        vertical-align: middle;\n",
       "    }\n",
       "\n",
       "    .dataframe tbody tr th {\n",
       "        vertical-align: top;\n",
       "    }\n",
       "\n",
       "    .dataframe thead th {\n",
       "        text-align: right;\n",
       "    }\n",
       "</style>\n",
       "<table border=\"1\" class=\"dataframe\">\n",
       "  <thead>\n",
       "    <tr style=\"text-align: right;\">\n",
       "      <th></th>\n",
       "      <th>rougher.output.recovery</th>\n",
       "      <th>rougher.output.recovery_calculated</th>\n",
       "    </tr>\n",
       "  </thead>\n",
       "  <tbody>\n",
       "    <tr>\n",
       "      <td>0</td>\n",
       "      <td>87.107763</td>\n",
       "      <td>87.107763</td>\n",
       "    </tr>\n",
       "    <tr>\n",
       "      <td>1</td>\n",
       "      <td>86.843261</td>\n",
       "      <td>86.843261</td>\n",
       "    </tr>\n",
       "    <tr>\n",
       "      <td>2</td>\n",
       "      <td>86.842308</td>\n",
       "      <td>86.842308</td>\n",
       "    </tr>\n",
       "    <tr>\n",
       "      <td>3</td>\n",
       "      <td>87.226430</td>\n",
       "      <td>87.226430</td>\n",
       "    </tr>\n",
       "    <tr>\n",
       "      <td>4</td>\n",
       "      <td>86.688794</td>\n",
       "      <td>86.688794</td>\n",
       "    </tr>\n",
       "  </tbody>\n",
       "</table>\n",
       "</div>"
      ],
      "text/plain": [
       "   rougher.output.recovery  rougher.output.recovery_calculated\n",
       "0                87.107763                           87.107763\n",
       "1                86.843261                           86.843261\n",
       "2                86.842308                           86.842308\n",
       "3                87.226430                           87.226430\n",
       "4                86.688794                           86.688794"
      ]
     },
     "execution_count": 12,
     "metadata": {},
     "output_type": "execute_result"
    }
   ],
   "source": [
    "df_train[['rougher.output.recovery' ,'rougher.output.recovery_calculated']].head()"
   ]
  },
  {
   "cell_type": "markdown",
   "metadata": {},
   "source": [
    "<div style=\"border-radius: 15px; border: 1px solid grey; padding: 15px;\">\n",
    "Теперь проверим отклонение имеющихся данных с расчетными.\n",
    "</div>"
   ]
  },
  {
   "cell_type": "code",
   "execution_count": 13,
   "metadata": {},
   "outputs": [
    {
     "data": {
      "text/plain": [
       "9.682896147825551e-15"
      ]
     },
     "execution_count": 13,
     "metadata": {},
     "output_type": "execute_result"
    }
   ],
   "source": [
    "mean_absolute_error(df_train['rougher.output.recovery'], df_train['rougher.output.recovery_calculated'])"
   ]
  },
  {
   "cell_type": "markdown",
   "metadata": {},
   "source": [
    "<div style=\"border-radius: 15px; border: 1px solid grey; padding: 15px;\">\n",
    "Видим минимальные отличия в абсолютных цифрах, но помним, что в данных присутствую пропуски, верояно они и дают эту разницу, а в целом делаем вывод, что расчет эффективности правилен. Уберем созданый столбец, он нам больше не пригодится.\n",
    "</div>"
   ]
  },
  {
   "cell_type": "code",
   "execution_count": 14,
   "metadata": {},
   "outputs": [],
   "source": [
    "df_train = df_train.drop(['rougher.output.recovery_calculated'], axis=1)"
   ]
  },
  {
   "cell_type": "markdown",
   "metadata": {},
   "source": [
    "### Анализ признаков недоступных в тестовой выборке"
   ]
  },
  {
   "cell_type": "markdown",
   "metadata": {},
   "source": [
    "<div style=\"border-radius: 15px; border: 1px solid grey; padding: 15px;\">\n",
    "Получим список признаков из обучающей и тестовой выборок.\n",
    "</div>"
   ]
  },
  {
   "cell_type": "code",
   "execution_count": 15,
   "metadata": {},
   "outputs": [],
   "source": [
    "train_columns = df_train.columns.tolist()\n",
    "test_columns = df_test.columns.tolist()"
   ]
  },
  {
   "cell_type": "markdown",
   "metadata": {},
   "source": [
    "<div style=\"border-radius: 15px; border: 1px solid grey; padding: 15px;\">\n",
    "И найдем разницу в получинах списках.\n",
    "</div>"
   ]
  },
  {
   "cell_type": "code",
   "execution_count": 16,
   "metadata": {},
   "outputs": [
    {
     "data": {
      "text/plain": [
       "['final.output.concentrate_ag',\n",
       " 'final.output.concentrate_au',\n",
       " 'final.output.concentrate_pb',\n",
       " 'final.output.concentrate_sol',\n",
       " 'final.output.recovery',\n",
       " 'final.output.tail_ag',\n",
       " 'final.output.tail_au',\n",
       " 'final.output.tail_pb',\n",
       " 'final.output.tail_sol',\n",
       " 'primary_cleaner.output.concentrate_ag',\n",
       " 'primary_cleaner.output.concentrate_au',\n",
       " 'primary_cleaner.output.concentrate_pb',\n",
       " 'primary_cleaner.output.concentrate_sol',\n",
       " 'primary_cleaner.output.tail_ag',\n",
       " 'primary_cleaner.output.tail_au',\n",
       " 'primary_cleaner.output.tail_pb',\n",
       " 'primary_cleaner.output.tail_sol',\n",
       " 'rougher.calculation.au_pb_ratio',\n",
       " 'rougher.calculation.floatbank10_sulfate_to_au_feed',\n",
       " 'rougher.calculation.floatbank11_sulfate_to_au_feed',\n",
       " 'rougher.calculation.sulfate_to_au_concentrate',\n",
       " 'rougher.output.concentrate_ag',\n",
       " 'rougher.output.concentrate_au',\n",
       " 'rougher.output.concentrate_pb',\n",
       " 'rougher.output.concentrate_sol',\n",
       " 'rougher.output.recovery',\n",
       " 'rougher.output.tail_ag',\n",
       " 'rougher.output.tail_au',\n",
       " 'rougher.output.tail_pb',\n",
       " 'rougher.output.tail_sol',\n",
       " 'secondary_cleaner.output.tail_ag',\n",
       " 'secondary_cleaner.output.tail_au',\n",
       " 'secondary_cleaner.output.tail_pb',\n",
       " 'secondary_cleaner.output.tail_sol']"
      ]
     },
     "execution_count": 16,
     "metadata": {},
     "output_type": "execute_result"
    }
   ],
   "source": [
    "differences = np.setdiff1d(train_columns,test_columns).tolist()\n",
    "differences"
   ]
  },
  {
   "cell_type": "markdown",
   "metadata": {},
   "source": [
    "<div style=\"border-radius: 15px; border: 1px solid grey; padding: 15px;\">\n",
    "В тестовой выборке отсутвуют данные о концентрации веществ в выходных продуктах на каждой стадии и расчеты на базе этих данных. Тестовые данные без целевых признаков бесполезны, поэтому добавим наши целевые признаки из основного фрейма в тестовую выборку.\n",
    "</div>"
   ]
  },
  {
   "cell_type": "code",
   "execution_count": 17,
   "metadata": {},
   "outputs": [],
   "source": [
    "df_test_merged = df_test.merge(df[['date','final.output.recovery','rougher.output.recovery']], left_on='date', right_on='date')"
   ]
  },
  {
   "cell_type": "markdown",
   "metadata": {},
   "source": [
    "<div style=\"border-radius: 15px; border: 1px solid grey; padding: 15px;\">\n",
    "Проверим оставшуюся разницу признаков.\n",
    "</div>"
   ]
  },
  {
   "cell_type": "code",
   "execution_count": 18,
   "metadata": {},
   "outputs": [
    {
     "data": {
      "text/plain": [
       "['final.output.concentrate_ag',\n",
       " 'final.output.concentrate_au',\n",
       " 'final.output.concentrate_pb',\n",
       " 'final.output.concentrate_sol',\n",
       " 'final.output.tail_ag',\n",
       " 'final.output.tail_au',\n",
       " 'final.output.tail_pb',\n",
       " 'final.output.tail_sol',\n",
       " 'primary_cleaner.output.concentrate_ag',\n",
       " 'primary_cleaner.output.concentrate_au',\n",
       " 'primary_cleaner.output.concentrate_pb',\n",
       " 'primary_cleaner.output.concentrate_sol',\n",
       " 'primary_cleaner.output.tail_ag',\n",
       " 'primary_cleaner.output.tail_au',\n",
       " 'primary_cleaner.output.tail_pb',\n",
       " 'primary_cleaner.output.tail_sol',\n",
       " 'rougher.calculation.au_pb_ratio',\n",
       " 'rougher.calculation.floatbank10_sulfate_to_au_feed',\n",
       " 'rougher.calculation.floatbank11_sulfate_to_au_feed',\n",
       " 'rougher.calculation.sulfate_to_au_concentrate',\n",
       " 'rougher.output.concentrate_ag',\n",
       " 'rougher.output.concentrate_au',\n",
       " 'rougher.output.concentrate_pb',\n",
       " 'rougher.output.concentrate_sol',\n",
       " 'rougher.output.tail_ag',\n",
       " 'rougher.output.tail_au',\n",
       " 'rougher.output.tail_pb',\n",
       " 'rougher.output.tail_sol',\n",
       " 'secondary_cleaner.output.tail_ag',\n",
       " 'secondary_cleaner.output.tail_au',\n",
       " 'secondary_cleaner.output.tail_pb',\n",
       " 'secondary_cleaner.output.tail_sol']"
      ]
     },
     "execution_count": 18,
     "metadata": {},
     "output_type": "execute_result"
    }
   ],
   "source": [
    "train_columns = df_train.columns.tolist()\n",
    "test_columns = df_test_merged.columns.tolist()\n",
    "differences = np.setdiff1d(train_columns,test_columns).tolist()\n",
    "differences"
   ]
  },
  {
   "cell_type": "markdown",
   "metadata": {},
   "source": [
    "<div style=\"border-radius: 15px; border: 1px solid grey; padding: 15px;\">\n",
    "Теперь в тестовой выборке не хватает тех даннх которые, по всей видимости, не возможно получить на момент формирования выборки на которой будет производиться прогноз, поэтому в дальнйшем мы убирем эти данные и из обучющих признков, но об этом позже, сейчас перейдем к заполению пропуков.\n",
    "</div>"
   ]
  },
  {
   "cell_type": "markdown",
   "metadata": {},
   "source": [
    "### Заполение пропусков"
   ]
  },
  {
   "cell_type": "markdown",
   "metadata": {},
   "source": [
    "<div style=\"border-radius: 15px; border: 1px solid grey; padding: 15px;\">\n",
    "Данные в фреймах раположены по столбцу 'date' в которых содержится информаци я времени снятия показаний. Таким образом, с большой вероятностью данные в следующем шаге не радикально отличаются от шага предыдущего, воспользуемся методом Front Fill для заполненения пропусков в обучающей выборке, таким образом с большой вероятностью получим наименьшие оискажения и  сохраним часть информации.\n",
    "</div>"
   ]
  },
  {
   "cell_type": "code",
   "execution_count": 19,
   "metadata": {},
   "outputs": [],
   "source": [
    "df_train.fillna(method='ffill', inplace=True)"
   ]
  },
  {
   "cell_type": "code",
   "execution_count": 20,
   "metadata": {},
   "outputs": [
    {
     "name": "stdout",
     "output_type": "stream",
     "text": [
      "<class 'pandas.core.frame.DataFrame'>\n",
      "RangeIndex: 14149 entries, 0 to 14148\n",
      "Data columns (total 87 columns):\n",
      "date                                                  14149 non-null object\n",
      "final.output.concentrate_ag                           14149 non-null float64\n",
      "final.output.concentrate_pb                           14149 non-null float64\n",
      "final.output.concentrate_sol                          14149 non-null float64\n",
      "final.output.concentrate_au                           14149 non-null float64\n",
      "final.output.recovery                                 14149 non-null float64\n",
      "final.output.tail_ag                                  14149 non-null float64\n",
      "final.output.tail_pb                                  14149 non-null float64\n",
      "final.output.tail_sol                                 14149 non-null float64\n",
      "final.output.tail_au                                  14149 non-null float64\n",
      "primary_cleaner.input.sulfate                         14149 non-null float64\n",
      "primary_cleaner.input.depressant                      14149 non-null float64\n",
      "primary_cleaner.input.feed_size                       14149 non-null float64\n",
      "primary_cleaner.input.xanthate                        14149 non-null float64\n",
      "primary_cleaner.output.concentrate_ag                 14149 non-null float64\n",
      "primary_cleaner.output.concentrate_pb                 14149 non-null float64\n",
      "primary_cleaner.output.concentrate_sol                14149 non-null float64\n",
      "primary_cleaner.output.concentrate_au                 14149 non-null float64\n",
      "primary_cleaner.output.tail_ag                        14149 non-null float64\n",
      "primary_cleaner.output.tail_pb                        14149 non-null float64\n",
      "primary_cleaner.output.tail_sol                       14149 non-null float64\n",
      "primary_cleaner.output.tail_au                        14149 non-null float64\n",
      "primary_cleaner.state.floatbank8_a_air                14149 non-null float64\n",
      "primary_cleaner.state.floatbank8_a_level              14149 non-null float64\n",
      "primary_cleaner.state.floatbank8_b_air                14149 non-null float64\n",
      "primary_cleaner.state.floatbank8_b_level              14149 non-null float64\n",
      "primary_cleaner.state.floatbank8_c_air                14149 non-null float64\n",
      "primary_cleaner.state.floatbank8_c_level              14149 non-null float64\n",
      "primary_cleaner.state.floatbank8_d_air                14149 non-null float64\n",
      "primary_cleaner.state.floatbank8_d_level              14149 non-null float64\n",
      "rougher.calculation.sulfate_to_au_concentrate         14149 non-null float64\n",
      "rougher.calculation.floatbank10_sulfate_to_au_feed    14149 non-null float64\n",
      "rougher.calculation.floatbank11_sulfate_to_au_feed    14149 non-null float64\n",
      "rougher.calculation.au_pb_ratio                       14149 non-null float64\n",
      "rougher.input.feed_ag                                 14149 non-null float64\n",
      "rougher.input.feed_pb                                 14149 non-null float64\n",
      "rougher.input.feed_rate                               14149 non-null float64\n",
      "rougher.input.feed_size                               14149 non-null float64\n",
      "rougher.input.feed_sol                                14149 non-null float64\n",
      "rougher.input.feed_au                                 14149 non-null float64\n",
      "rougher.input.floatbank10_sulfate                     14149 non-null float64\n",
      "rougher.input.floatbank10_xanthate                    14149 non-null float64\n",
      "rougher.input.floatbank11_sulfate                     14149 non-null float64\n",
      "rougher.input.floatbank11_xanthate                    14149 non-null float64\n",
      "rougher.output.concentrate_ag                         14149 non-null float64\n",
      "rougher.output.concentrate_pb                         14149 non-null float64\n",
      "rougher.output.concentrate_sol                        14149 non-null float64\n",
      "rougher.output.concentrate_au                         14149 non-null float64\n",
      "rougher.output.recovery                               14149 non-null float64\n",
      "rougher.output.tail_ag                                14149 non-null float64\n",
      "rougher.output.tail_pb                                14149 non-null float64\n",
      "rougher.output.tail_sol                               14149 non-null float64\n",
      "rougher.output.tail_au                                14149 non-null float64\n",
      "rougher.state.floatbank10_a_air                       14149 non-null float64\n",
      "rougher.state.floatbank10_a_level                     14149 non-null float64\n",
      "rougher.state.floatbank10_b_air                       14149 non-null float64\n",
      "rougher.state.floatbank10_b_level                     14149 non-null float64\n",
      "rougher.state.floatbank10_c_air                       14149 non-null float64\n",
      "rougher.state.floatbank10_c_level                     14149 non-null float64\n",
      "rougher.state.floatbank10_d_air                       14149 non-null float64\n",
      "rougher.state.floatbank10_d_level                     14149 non-null float64\n",
      "rougher.state.floatbank10_e_air                       14149 non-null float64\n",
      "rougher.state.floatbank10_e_level                     14149 non-null float64\n",
      "rougher.state.floatbank10_f_air                       14149 non-null float64\n",
      "rougher.state.floatbank10_f_level                     14149 non-null float64\n",
      "secondary_cleaner.output.tail_ag                      14149 non-null float64\n",
      "secondary_cleaner.output.tail_pb                      14149 non-null float64\n",
      "secondary_cleaner.output.tail_sol                     14149 non-null float64\n",
      "secondary_cleaner.output.tail_au                      14149 non-null float64\n",
      "secondary_cleaner.state.floatbank2_a_air              14149 non-null float64\n",
      "secondary_cleaner.state.floatbank2_a_level            14149 non-null float64\n",
      "secondary_cleaner.state.floatbank2_b_air              14149 non-null float64\n",
      "secondary_cleaner.state.floatbank2_b_level            14149 non-null float64\n",
      "secondary_cleaner.state.floatbank3_a_air              14149 non-null float64\n",
      "secondary_cleaner.state.floatbank3_a_level            14149 non-null float64\n",
      "secondary_cleaner.state.floatbank3_b_air              14149 non-null float64\n",
      "secondary_cleaner.state.floatbank3_b_level            14149 non-null float64\n",
      "secondary_cleaner.state.floatbank4_a_air              14149 non-null float64\n",
      "secondary_cleaner.state.floatbank4_a_level            14149 non-null float64\n",
      "secondary_cleaner.state.floatbank4_b_air              14149 non-null float64\n",
      "secondary_cleaner.state.floatbank4_b_level            14149 non-null float64\n",
      "secondary_cleaner.state.floatbank5_a_air              14149 non-null float64\n",
      "secondary_cleaner.state.floatbank5_a_level            14149 non-null float64\n",
      "secondary_cleaner.state.floatbank5_b_air              14149 non-null float64\n",
      "secondary_cleaner.state.floatbank5_b_level            14149 non-null float64\n",
      "secondary_cleaner.state.floatbank6_a_air              14149 non-null float64\n",
      "secondary_cleaner.state.floatbank6_a_level            14149 non-null float64\n",
      "dtypes: float64(86), object(1)\n",
      "memory usage: 9.4+ MB\n"
     ]
    }
   ],
   "source": [
    "df_train.info()"
   ]
  },
  {
   "cell_type": "markdown",
   "metadata": {},
   "source": [
    "<div style=\"border-radius: 15px; border: 1px solid grey; padding: 15px;\">\n",
    "Очередь тестовой выборки:\n",
    "</div>"
   ]
  },
  {
   "cell_type": "code",
   "execution_count": 21,
   "metadata": {},
   "outputs": [
    {
     "name": "stdout",
     "output_type": "stream",
     "text": [
      "<class 'pandas.core.frame.DataFrame'>\n",
      "Int64Index: 5290 entries, 0 to 5289\n",
      "Data columns (total 55 columns):\n",
      "date                                          5290 non-null object\n",
      "primary_cleaner.input.sulfate                 5286 non-null float64\n",
      "primary_cleaner.input.depressant              5285 non-null float64\n",
      "primary_cleaner.input.feed_size               5290 non-null float64\n",
      "primary_cleaner.input.xanthate                5286 non-null float64\n",
      "primary_cleaner.state.floatbank8_a_air        5290 non-null float64\n",
      "primary_cleaner.state.floatbank8_a_level      5290 non-null float64\n",
      "primary_cleaner.state.floatbank8_b_air        5290 non-null float64\n",
      "primary_cleaner.state.floatbank8_b_level      5290 non-null float64\n",
      "primary_cleaner.state.floatbank8_c_air        5290 non-null float64\n",
      "primary_cleaner.state.floatbank8_c_level      5290 non-null float64\n",
      "primary_cleaner.state.floatbank8_d_air        5290 non-null float64\n",
      "primary_cleaner.state.floatbank8_d_level      5290 non-null float64\n",
      "rougher.input.feed_ag                         5290 non-null float64\n",
      "rougher.input.feed_pb                         5290 non-null float64\n",
      "rougher.input.feed_rate                       5287 non-null float64\n",
      "rougher.input.feed_size                       5289 non-null float64\n",
      "rougher.input.feed_sol                        5269 non-null float64\n",
      "rougher.input.feed_au                         5290 non-null float64\n",
      "rougher.input.floatbank10_sulfate             5285 non-null float64\n",
      "rougher.input.floatbank10_xanthate            5290 non-null float64\n",
      "rougher.input.floatbank11_sulfate             5282 non-null float64\n",
      "rougher.input.floatbank11_xanthate            5265 non-null float64\n",
      "rougher.state.floatbank10_a_air               5290 non-null float64\n",
      "rougher.state.floatbank10_a_level             5290 non-null float64\n",
      "rougher.state.floatbank10_b_air               5290 non-null float64\n",
      "rougher.state.floatbank10_b_level             5290 non-null float64\n",
      "rougher.state.floatbank10_c_air               5290 non-null float64\n",
      "rougher.state.floatbank10_c_level             5290 non-null float64\n",
      "rougher.state.floatbank10_d_air               5290 non-null float64\n",
      "rougher.state.floatbank10_d_level             5290 non-null float64\n",
      "rougher.state.floatbank10_e_air               5290 non-null float64\n",
      "rougher.state.floatbank10_e_level             5290 non-null float64\n",
      "rougher.state.floatbank10_f_air               5290 non-null float64\n",
      "rougher.state.floatbank10_f_level             5290 non-null float64\n",
      "secondary_cleaner.state.floatbank2_a_air      5287 non-null float64\n",
      "secondary_cleaner.state.floatbank2_a_level    5290 non-null float64\n",
      "secondary_cleaner.state.floatbank2_b_air      5288 non-null float64\n",
      "secondary_cleaner.state.floatbank2_b_level    5290 non-null float64\n",
      "secondary_cleaner.state.floatbank3_a_air      5281 non-null float64\n",
      "secondary_cleaner.state.floatbank3_a_level    5290 non-null float64\n",
      "secondary_cleaner.state.floatbank3_b_air      5290 non-null float64\n",
      "secondary_cleaner.state.floatbank3_b_level    5290 non-null float64\n",
      "secondary_cleaner.state.floatbank4_a_air      5290 non-null float64\n",
      "secondary_cleaner.state.floatbank4_a_level    5290 non-null float64\n",
      "secondary_cleaner.state.floatbank4_b_air      5290 non-null float64\n",
      "secondary_cleaner.state.floatbank4_b_level    5290 non-null float64\n",
      "secondary_cleaner.state.floatbank5_a_air      5290 non-null float64\n",
      "secondary_cleaner.state.floatbank5_a_level    5290 non-null float64\n",
      "secondary_cleaner.state.floatbank5_b_air      5290 non-null float64\n",
      "secondary_cleaner.state.floatbank5_b_level    5290 non-null float64\n",
      "secondary_cleaner.state.floatbank6_a_air      5290 non-null float64\n",
      "secondary_cleaner.state.floatbank6_a_level    5290 non-null float64\n",
      "final.output.recovery                         5290 non-null float64\n",
      "rougher.output.recovery                       5290 non-null float64\n",
      "dtypes: float64(54), object(1)\n",
      "memory usage: 2.3+ MB\n"
     ]
    }
   ],
   "source": [
    "df_test_merged.info()"
   ]
  },
  {
   "cell_type": "markdown",
   "metadata": {},
   "source": [
    "<div style=\"border-radius: 15px; border: 1px solid grey; padding: 15px;\">\n",
    "Искажать данные в тестовой выборке считаю не возможным, поэтому отбросим данные с пропусками, так как они помешают предсказаниям, к тому же строк с пропусками не много.\n",
    "</div>"
   ]
  },
  {
   "cell_type": "code",
   "execution_count": 22,
   "metadata": {},
   "outputs": [
    {
     "data": {
      "text/plain": [
       "(5229, 55)"
      ]
     },
     "execution_count": 22,
     "metadata": {},
     "output_type": "execute_result"
    }
   ],
   "source": [
    "df_test_merged.dropna(inplace=True)\n",
    "df_test_merged.reset_index(drop=True, inplace=True)\n",
    "df_test_merged.shape"
   ]
  },
  {
   "cell_type": "markdown",
   "metadata": {},
   "source": [
    "###  Разделение признаков "
   ]
  },
  {
   "cell_type": "markdown",
   "metadata": {},
   "source": [
    "<div style=\"border-radius: 15px; border: 1px solid grey; padding: 15px;\">\n",
    "Разделим признаки и целевые признаки, при этом необходимо убрать из обучающей выборки признаки которых нет в тестовой, мы не можем операться на данные которых нге будет в дальнейших предсказаниях.\n",
    "</div>"
   ]
  },
  {
   "cell_type": "code",
   "execution_count": 23,
   "metadata": {},
   "outputs": [],
   "source": [
    "features_train = df_train.drop(['rougher.output.recovery', 'final.output.recovery'], axis=1)\n",
    "features_train = features_train.drop(differences, axis=1)\n",
    "target_train = df_train[['rougher.output.recovery', 'final.output.recovery']]\n"
   ]
  },
  {
   "cell_type": "code",
   "execution_count": 24,
   "metadata": {},
   "outputs": [],
   "source": [
    "features_test = df_test_merged.drop(['rougher.output.recovery', 'final.output.recovery'], axis=1)\n",
    "target_test = df_test_merged[['rougher.output.recovery', 'final.output.recovery']]"
   ]
  },
  {
   "cell_type": "code",
   "execution_count": 25,
   "metadata": {},
   "outputs": [
    {
     "data": {
      "text/plain": [
       "(14149, 53)"
      ]
     },
     "execution_count": 25,
     "metadata": {},
     "output_type": "execute_result"
    }
   ],
   "source": [
    "features_train.shape"
   ]
  },
  {
   "cell_type": "code",
   "execution_count": 26,
   "metadata": {},
   "outputs": [
    {
     "data": {
      "text/plain": [
       "(5229, 53)"
      ]
     },
     "execution_count": 26,
     "metadata": {},
     "output_type": "execute_result"
    }
   ],
   "source": [
    "features_test.shape"
   ]
  },
  {
   "cell_type": "markdown",
   "metadata": {},
   "source": [
    "<div style=\"border-radius: 15px; border: 1px solid grey; padding: 15px;\">\n",
    "Готово, количество признаков совпадает.\n",
    "</div>"
   ]
  },
  {
   "cell_type": "markdown",
   "metadata": {},
   "source": [
    "### Скалирование"
   ]
  },
  {
   "cell_type": "markdown",
   "metadata": {},
   "source": [
    "<div style=\"border-radius: 15px; border: 1px solid grey; padding: 15px;\">\n",
    "Пришло время нормировать цифровые признаки, чтобы при обучении модель выдавала сопостовимые веса признакам и не опералась на порядок цифр в признаке. Скалирование будет стандартным, со средним значением 0.\n",
    "</div>"
   ]
  },
  {
   "cell_type": "code",
   "execution_count": 27,
   "metadata": {},
   "outputs": [],
   "source": [
    "numeric = features_train.columns.tolist()\n",
    "numeric.remove('date')"
   ]
  },
  {
   "cell_type": "code",
   "execution_count": 28,
   "metadata": {},
   "outputs": [],
   "source": [
    "features_train = features_train.drop('date', axis=1)\n",
    "features_test = features_test.drop('date', axis=1)"
   ]
  },
  {
   "cell_type": "markdown",
   "metadata": {},
   "source": [
    "<div style=\"border-radius: 15px; border: 1px solid grey; padding: 15px;\">\n",
    "Убрали информацию о дате, переходим непосредственно к нормализации.\n",
    "</div>"
   ]
  },
  {
   "cell_type": "code",
   "execution_count": 29,
   "metadata": {},
   "outputs": [
    {
     "data": {
      "text/plain": [
       "StandardScaler(copy=True, with_mean=True, with_std=True)"
      ]
     },
     "execution_count": 29,
     "metadata": {},
     "output_type": "execute_result"
    }
   ],
   "source": [
    "scaler = StandardScaler()\n",
    "scaler.fit(features_train[numeric]) "
   ]
  },
  {
   "cell_type": "code",
   "execution_count": 30,
   "metadata": {},
   "outputs": [],
   "source": [
    "features_train[numeric] = scaler.transform(features_train[numeric])\n",
    "\n",
    "features_test[numeric] = scaler.transform(features_test[numeric]) "
   ]
  },
  {
   "cell_type": "code",
   "execution_count": 31,
   "metadata": {},
   "outputs": [
    {
     "data": {
      "text/html": [
       "<div>\n",
       "<style scoped>\n",
       "    .dataframe tbody tr th:only-of-type {\n",
       "        vertical-align: middle;\n",
       "    }\n",
       "\n",
       "    .dataframe tbody tr th {\n",
       "        vertical-align: top;\n",
       "    }\n",
       "\n",
       "    .dataframe thead th {\n",
       "        text-align: right;\n",
       "    }\n",
       "</style>\n",
       "<table border=\"1\" class=\"dataframe\">\n",
       "  <thead>\n",
       "    <tr style=\"text-align: right;\">\n",
       "      <th></th>\n",
       "      <th>primary_cleaner.input.sulfate</th>\n",
       "      <th>primary_cleaner.input.depressant</th>\n",
       "      <th>primary_cleaner.input.feed_size</th>\n",
       "      <th>primary_cleaner.input.xanthate</th>\n",
       "      <th>primary_cleaner.state.floatbank8_a_air</th>\n",
       "      <th>primary_cleaner.state.floatbank8_a_level</th>\n",
       "      <th>primary_cleaner.state.floatbank8_b_air</th>\n",
       "      <th>primary_cleaner.state.floatbank8_b_level</th>\n",
       "      <th>primary_cleaner.state.floatbank8_c_air</th>\n",
       "      <th>primary_cleaner.state.floatbank8_c_level</th>\n",
       "      <th>...</th>\n",
       "      <th>secondary_cleaner.state.floatbank4_a_air</th>\n",
       "      <th>secondary_cleaner.state.floatbank4_a_level</th>\n",
       "      <th>secondary_cleaner.state.floatbank4_b_air</th>\n",
       "      <th>secondary_cleaner.state.floatbank4_b_level</th>\n",
       "      <th>secondary_cleaner.state.floatbank5_a_air</th>\n",
       "      <th>secondary_cleaner.state.floatbank5_a_level</th>\n",
       "      <th>secondary_cleaner.state.floatbank5_b_air</th>\n",
       "      <th>secondary_cleaner.state.floatbank5_b_level</th>\n",
       "      <th>secondary_cleaner.state.floatbank6_a_air</th>\n",
       "      <th>secondary_cleaner.state.floatbank6_a_level</th>\n",
       "    </tr>\n",
       "  </thead>\n",
       "  <tbody>\n",
       "    <tr>\n",
       "      <td>0</td>\n",
       "      <td>-0.154580</td>\n",
       "      <td>0.377154</td>\n",
       "      <td>-0.117761</td>\n",
       "      <td>0.285633</td>\n",
       "      <td>-0.453621</td>\n",
       "      <td>-0.283904</td>\n",
       "      <td>-0.436246</td>\n",
       "      <td>-0.810391</td>\n",
       "      <td>-0.439519</td>\n",
       "      <td>-0.254349</td>\n",
       "      <td>...</td>\n",
       "      <td>-1.052891</td>\n",
       "      <td>-0.468787</td>\n",
       "      <td>-0.644461</td>\n",
       "      <td>-0.755839</td>\n",
       "      <td>-1.174433</td>\n",
       "      <td>-0.378783</td>\n",
       "      <td>-0.864572</td>\n",
       "      <td>-0.420943</td>\n",
       "      <td>-0.941197</td>\n",
       "      <td>-2.670558</td>\n",
       "    </tr>\n",
       "    <tr>\n",
       "      <td>1</td>\n",
       "      <td>-0.191516</td>\n",
       "      <td>0.426914</td>\n",
       "      <td>-0.117761</td>\n",
       "      <td>0.322644</td>\n",
       "      <td>-0.248048</td>\n",
       "      <td>-0.339722</td>\n",
       "      <td>-0.249235</td>\n",
       "      <td>-0.318234</td>\n",
       "      <td>-0.244963</td>\n",
       "      <td>-0.272554</td>\n",
       "      <td>...</td>\n",
       "      <td>-1.057226</td>\n",
       "      <td>-0.528215</td>\n",
       "      <td>-0.672889</td>\n",
       "      <td>-0.698327</td>\n",
       "      <td>-1.154951</td>\n",
       "      <td>-0.427866</td>\n",
       "      <td>-0.881034</td>\n",
       "      <td>-0.423780</td>\n",
       "      <td>-0.967738</td>\n",
       "      <td>-2.507288</td>\n",
       "    </tr>\n",
       "    <tr>\n",
       "      <td>2</td>\n",
       "      <td>-0.237204</td>\n",
       "      <td>0.729117</td>\n",
       "      <td>-0.117761</td>\n",
       "      <td>0.292305</td>\n",
       "      <td>-0.050275</td>\n",
       "      <td>-0.314313</td>\n",
       "      <td>-0.062837</td>\n",
       "      <td>-0.340312</td>\n",
       "      <td>-0.051233</td>\n",
       "      <td>-0.316207</td>\n",
       "      <td>...</td>\n",
       "      <td>-1.053212</td>\n",
       "      <td>-0.469435</td>\n",
       "      <td>-0.680072</td>\n",
       "      <td>-0.694960</td>\n",
       "      <td>-1.149521</td>\n",
       "      <td>-0.426788</td>\n",
       "      <td>-0.875983</td>\n",
       "      <td>-0.422132</td>\n",
       "      <td>-0.962479</td>\n",
       "      <td>-2.551516</td>\n",
       "    </tr>\n",
       "    <tr>\n",
       "      <td>3</td>\n",
       "      <td>-0.276332</td>\n",
       "      <td>0.730853</td>\n",
       "      <td>-0.117761</td>\n",
       "      <td>0.306874</td>\n",
       "      <td>-0.062640</td>\n",
       "      <td>-0.341034</td>\n",
       "      <td>-0.060758</td>\n",
       "      <td>-0.312616</td>\n",
       "      <td>-0.063891</td>\n",
       "      <td>-0.312218</td>\n",
       "      <td>...</td>\n",
       "      <td>-1.049417</td>\n",
       "      <td>-0.436647</td>\n",
       "      <td>-0.663562</td>\n",
       "      <td>-0.695985</td>\n",
       "      <td>-1.166762</td>\n",
       "      <td>-0.402310</td>\n",
       "      <td>-0.882323</td>\n",
       "      <td>-0.415458</td>\n",
       "      <td>-0.966489</td>\n",
       "      <td>-2.512923</td>\n",
       "    </tr>\n",
       "    <tr>\n",
       "      <td>4</td>\n",
       "      <td>-0.384454</td>\n",
       "      <td>0.906088</td>\n",
       "      <td>-0.117761</td>\n",
       "      <td>0.341826</td>\n",
       "      <td>-0.051961</td>\n",
       "      <td>-0.285677</td>\n",
       "      <td>-0.054819</td>\n",
       "      <td>-0.331845</td>\n",
       "      <td>-0.069271</td>\n",
       "      <td>-0.316714</td>\n",
       "      <td>...</td>\n",
       "      <td>-1.051043</td>\n",
       "      <td>-0.416569</td>\n",
       "      <td>-0.672406</td>\n",
       "      <td>-0.693609</td>\n",
       "      <td>-1.174420</td>\n",
       "      <td>-0.467895</td>\n",
       "      <td>-0.896733</td>\n",
       "      <td>-0.418012</td>\n",
       "      <td>-0.968033</td>\n",
       "      <td>-2.553386</td>\n",
       "    </tr>\n",
       "    <tr>\n",
       "      <td>...</td>\n",
       "      <td>...</td>\n",
       "      <td>...</td>\n",
       "      <td>...</td>\n",
       "      <td>...</td>\n",
       "      <td>...</td>\n",
       "      <td>...</td>\n",
       "      <td>...</td>\n",
       "      <td>...</td>\n",
       "      <td>...</td>\n",
       "      <td>...</td>\n",
       "      <td>...</td>\n",
       "      <td>...</td>\n",
       "      <td>...</td>\n",
       "      <td>...</td>\n",
       "      <td>...</td>\n",
       "      <td>...</td>\n",
       "      <td>...</td>\n",
       "      <td>...</td>\n",
       "      <td>...</td>\n",
       "      <td>...</td>\n",
       "      <td>...</td>\n",
       "    </tr>\n",
       "    <tr>\n",
       "      <td>14144</td>\n",
       "      <td>-0.248264</td>\n",
       "      <td>-0.244823</td>\n",
       "      <td>-1.339178</td>\n",
       "      <td>1.125395</td>\n",
       "      <td>0.314783</td>\n",
       "      <td>2.475902</td>\n",
       "      <td>0.306016</td>\n",
       "      <td>2.643068</td>\n",
       "      <td>0.295677</td>\n",
       "      <td>2.533370</td>\n",
       "      <td>...</td>\n",
       "      <td>0.538846</td>\n",
       "      <td>-0.442769</td>\n",
       "      <td>0.860217</td>\n",
       "      <td>-0.671282</td>\n",
       "      <td>0.211150</td>\n",
       "      <td>-0.419008</td>\n",
       "      <td>-0.010948</td>\n",
       "      <td>-0.412902</td>\n",
       "      <td>0.074799</td>\n",
       "      <td>0.148540</td>\n",
       "    </tr>\n",
       "    <tr>\n",
       "      <td>14145</td>\n",
       "      <td>-0.311481</td>\n",
       "      <td>-0.264463</td>\n",
       "      <td>-1.339178</td>\n",
       "      <td>1.120567</td>\n",
       "      <td>0.325681</td>\n",
       "      <td>2.488540</td>\n",
       "      <td>0.310711</td>\n",
       "      <td>2.662068</td>\n",
       "      <td>0.296257</td>\n",
       "      <td>2.481934</td>\n",
       "      <td>...</td>\n",
       "      <td>0.526239</td>\n",
       "      <td>-0.451537</td>\n",
       "      <td>0.865562</td>\n",
       "      <td>-0.679971</td>\n",
       "      <td>0.209864</td>\n",
       "      <td>-0.433809</td>\n",
       "      <td>-0.019112</td>\n",
       "      <td>-0.406256</td>\n",
       "      <td>0.067974</td>\n",
       "      <td>0.155412</td>\n",
       "    </tr>\n",
       "    <tr>\n",
       "      <td>14146</td>\n",
       "      <td>-0.695589</td>\n",
       "      <td>-0.266692</td>\n",
       "      <td>-1.339178</td>\n",
       "      <td>1.156521</td>\n",
       "      <td>0.320591</td>\n",
       "      <td>2.489726</td>\n",
       "      <td>0.309486</td>\n",
       "      <td>2.663367</td>\n",
       "      <td>0.290602</td>\n",
       "      <td>2.515834</td>\n",
       "      <td>...</td>\n",
       "      <td>0.536060</td>\n",
       "      <td>-0.453484</td>\n",
       "      <td>0.849497</td>\n",
       "      <td>-0.673271</td>\n",
       "      <td>0.213466</td>\n",
       "      <td>-0.435286</td>\n",
       "      <td>-0.007078</td>\n",
       "      <td>-0.406747</td>\n",
       "      <td>0.071858</td>\n",
       "      <td>0.142553</td>\n",
       "    </tr>\n",
       "    <tr>\n",
       "      <td>14147</td>\n",
       "      <td>-0.866926</td>\n",
       "      <td>-0.258085</td>\n",
       "      <td>-1.339178</td>\n",
       "      <td>0.959654</td>\n",
       "      <td>0.300190</td>\n",
       "      <td>2.515259</td>\n",
       "      <td>0.301975</td>\n",
       "      <td>2.642365</td>\n",
       "      <td>0.298203</td>\n",
       "      <td>2.528942</td>\n",
       "      <td>...</td>\n",
       "      <td>0.537693</td>\n",
       "      <td>-0.442483</td>\n",
       "      <td>0.869075</td>\n",
       "      <td>-0.681048</td>\n",
       "      <td>0.206602</td>\n",
       "      <td>-0.404189</td>\n",
       "      <td>-0.012459</td>\n",
       "      <td>-0.408325</td>\n",
       "      <td>0.075866</td>\n",
       "      <td>0.166633</td>\n",
       "    </tr>\n",
       "    <tr>\n",
       "      <td>14148</td>\n",
       "      <td>-0.958638</td>\n",
       "      <td>-0.230000</td>\n",
       "      <td>-1.339178</td>\n",
       "      <td>1.068995</td>\n",
       "      <td>0.317422</td>\n",
       "      <td>2.490471</td>\n",
       "      <td>0.316644</td>\n",
       "      <td>2.655041</td>\n",
       "      <td>0.297566</td>\n",
       "      <td>2.499051</td>\n",
       "      <td>...</td>\n",
       "      <td>0.536573</td>\n",
       "      <td>-0.429461</td>\n",
       "      <td>0.862621</td>\n",
       "      <td>-0.679444</td>\n",
       "      <td>0.203858</td>\n",
       "      <td>-0.421783</td>\n",
       "      <td>-0.012823</td>\n",
       "      <td>-0.410996</td>\n",
       "      <td>0.071763</td>\n",
       "      <td>0.205298</td>\n",
       "    </tr>\n",
       "  </tbody>\n",
       "</table>\n",
       "<p>14149 rows × 52 columns</p>\n",
       "</div>"
      ],
      "text/plain": [
       "       primary_cleaner.input.sulfate  primary_cleaner.input.depressant  \\\n",
       "0                          -0.154580                          0.377154   \n",
       "1                          -0.191516                          0.426914   \n",
       "2                          -0.237204                          0.729117   \n",
       "3                          -0.276332                          0.730853   \n",
       "4                          -0.384454                          0.906088   \n",
       "...                              ...                               ...   \n",
       "14144                      -0.248264                         -0.244823   \n",
       "14145                      -0.311481                         -0.264463   \n",
       "14146                      -0.695589                         -0.266692   \n",
       "14147                      -0.866926                         -0.258085   \n",
       "14148                      -0.958638                         -0.230000   \n",
       "\n",
       "       primary_cleaner.input.feed_size  primary_cleaner.input.xanthate  \\\n",
       "0                            -0.117761                        0.285633   \n",
       "1                            -0.117761                        0.322644   \n",
       "2                            -0.117761                        0.292305   \n",
       "3                            -0.117761                        0.306874   \n",
       "4                            -0.117761                        0.341826   \n",
       "...                                ...                             ...   \n",
       "14144                        -1.339178                        1.125395   \n",
       "14145                        -1.339178                        1.120567   \n",
       "14146                        -1.339178                        1.156521   \n",
       "14147                        -1.339178                        0.959654   \n",
       "14148                        -1.339178                        1.068995   \n",
       "\n",
       "       primary_cleaner.state.floatbank8_a_air  \\\n",
       "0                                   -0.453621   \n",
       "1                                   -0.248048   \n",
       "2                                   -0.050275   \n",
       "3                                   -0.062640   \n",
       "4                                   -0.051961   \n",
       "...                                       ...   \n",
       "14144                                0.314783   \n",
       "14145                                0.325681   \n",
       "14146                                0.320591   \n",
       "14147                                0.300190   \n",
       "14148                                0.317422   \n",
       "\n",
       "       primary_cleaner.state.floatbank8_a_level  \\\n",
       "0                                     -0.283904   \n",
       "1                                     -0.339722   \n",
       "2                                     -0.314313   \n",
       "3                                     -0.341034   \n",
       "4                                     -0.285677   \n",
       "...                                         ...   \n",
       "14144                                  2.475902   \n",
       "14145                                  2.488540   \n",
       "14146                                  2.489726   \n",
       "14147                                  2.515259   \n",
       "14148                                  2.490471   \n",
       "\n",
       "       primary_cleaner.state.floatbank8_b_air  \\\n",
       "0                                   -0.436246   \n",
       "1                                   -0.249235   \n",
       "2                                   -0.062837   \n",
       "3                                   -0.060758   \n",
       "4                                   -0.054819   \n",
       "...                                       ...   \n",
       "14144                                0.306016   \n",
       "14145                                0.310711   \n",
       "14146                                0.309486   \n",
       "14147                                0.301975   \n",
       "14148                                0.316644   \n",
       "\n",
       "       primary_cleaner.state.floatbank8_b_level  \\\n",
       "0                                     -0.810391   \n",
       "1                                     -0.318234   \n",
       "2                                     -0.340312   \n",
       "3                                     -0.312616   \n",
       "4                                     -0.331845   \n",
       "...                                         ...   \n",
       "14144                                  2.643068   \n",
       "14145                                  2.662068   \n",
       "14146                                  2.663367   \n",
       "14147                                  2.642365   \n",
       "14148                                  2.655041   \n",
       "\n",
       "       primary_cleaner.state.floatbank8_c_air  \\\n",
       "0                                   -0.439519   \n",
       "1                                   -0.244963   \n",
       "2                                   -0.051233   \n",
       "3                                   -0.063891   \n",
       "4                                   -0.069271   \n",
       "...                                       ...   \n",
       "14144                                0.295677   \n",
       "14145                                0.296257   \n",
       "14146                                0.290602   \n",
       "14147                                0.298203   \n",
       "14148                                0.297566   \n",
       "\n",
       "       primary_cleaner.state.floatbank8_c_level  ...  \\\n",
       "0                                     -0.254349  ...   \n",
       "1                                     -0.272554  ...   \n",
       "2                                     -0.316207  ...   \n",
       "3                                     -0.312218  ...   \n",
       "4                                     -0.316714  ...   \n",
       "...                                         ...  ...   \n",
       "14144                                  2.533370  ...   \n",
       "14145                                  2.481934  ...   \n",
       "14146                                  2.515834  ...   \n",
       "14147                                  2.528942  ...   \n",
       "14148                                  2.499051  ...   \n",
       "\n",
       "       secondary_cleaner.state.floatbank4_a_air  \\\n",
       "0                                     -1.052891   \n",
       "1                                     -1.057226   \n",
       "2                                     -1.053212   \n",
       "3                                     -1.049417   \n",
       "4                                     -1.051043   \n",
       "...                                         ...   \n",
       "14144                                  0.538846   \n",
       "14145                                  0.526239   \n",
       "14146                                  0.536060   \n",
       "14147                                  0.537693   \n",
       "14148                                  0.536573   \n",
       "\n",
       "       secondary_cleaner.state.floatbank4_a_level  \\\n",
       "0                                       -0.468787   \n",
       "1                                       -0.528215   \n",
       "2                                       -0.469435   \n",
       "3                                       -0.436647   \n",
       "4                                       -0.416569   \n",
       "...                                           ...   \n",
       "14144                                   -0.442769   \n",
       "14145                                   -0.451537   \n",
       "14146                                   -0.453484   \n",
       "14147                                   -0.442483   \n",
       "14148                                   -0.429461   \n",
       "\n",
       "       secondary_cleaner.state.floatbank4_b_air  \\\n",
       "0                                     -0.644461   \n",
       "1                                     -0.672889   \n",
       "2                                     -0.680072   \n",
       "3                                     -0.663562   \n",
       "4                                     -0.672406   \n",
       "...                                         ...   \n",
       "14144                                  0.860217   \n",
       "14145                                  0.865562   \n",
       "14146                                  0.849497   \n",
       "14147                                  0.869075   \n",
       "14148                                  0.862621   \n",
       "\n",
       "       secondary_cleaner.state.floatbank4_b_level  \\\n",
       "0                                       -0.755839   \n",
       "1                                       -0.698327   \n",
       "2                                       -0.694960   \n",
       "3                                       -0.695985   \n",
       "4                                       -0.693609   \n",
       "...                                           ...   \n",
       "14144                                   -0.671282   \n",
       "14145                                   -0.679971   \n",
       "14146                                   -0.673271   \n",
       "14147                                   -0.681048   \n",
       "14148                                   -0.679444   \n",
       "\n",
       "       secondary_cleaner.state.floatbank5_a_air  \\\n",
       "0                                     -1.174433   \n",
       "1                                     -1.154951   \n",
       "2                                     -1.149521   \n",
       "3                                     -1.166762   \n",
       "4                                     -1.174420   \n",
       "...                                         ...   \n",
       "14144                                  0.211150   \n",
       "14145                                  0.209864   \n",
       "14146                                  0.213466   \n",
       "14147                                  0.206602   \n",
       "14148                                  0.203858   \n",
       "\n",
       "       secondary_cleaner.state.floatbank5_a_level  \\\n",
       "0                                       -0.378783   \n",
       "1                                       -0.427866   \n",
       "2                                       -0.426788   \n",
       "3                                       -0.402310   \n",
       "4                                       -0.467895   \n",
       "...                                           ...   \n",
       "14144                                   -0.419008   \n",
       "14145                                   -0.433809   \n",
       "14146                                   -0.435286   \n",
       "14147                                   -0.404189   \n",
       "14148                                   -0.421783   \n",
       "\n",
       "       secondary_cleaner.state.floatbank5_b_air  \\\n",
       "0                                     -0.864572   \n",
       "1                                     -0.881034   \n",
       "2                                     -0.875983   \n",
       "3                                     -0.882323   \n",
       "4                                     -0.896733   \n",
       "...                                         ...   \n",
       "14144                                 -0.010948   \n",
       "14145                                 -0.019112   \n",
       "14146                                 -0.007078   \n",
       "14147                                 -0.012459   \n",
       "14148                                 -0.012823   \n",
       "\n",
       "       secondary_cleaner.state.floatbank5_b_level  \\\n",
       "0                                       -0.420943   \n",
       "1                                       -0.423780   \n",
       "2                                       -0.422132   \n",
       "3                                       -0.415458   \n",
       "4                                       -0.418012   \n",
       "...                                           ...   \n",
       "14144                                   -0.412902   \n",
       "14145                                   -0.406256   \n",
       "14146                                   -0.406747   \n",
       "14147                                   -0.408325   \n",
       "14148                                   -0.410996   \n",
       "\n",
       "       secondary_cleaner.state.floatbank6_a_air  \\\n",
       "0                                     -0.941197   \n",
       "1                                     -0.967738   \n",
       "2                                     -0.962479   \n",
       "3                                     -0.966489   \n",
       "4                                     -0.968033   \n",
       "...                                         ...   \n",
       "14144                                  0.074799   \n",
       "14145                                  0.067974   \n",
       "14146                                  0.071858   \n",
       "14147                                  0.075866   \n",
       "14148                                  0.071763   \n",
       "\n",
       "       secondary_cleaner.state.floatbank6_a_level  \n",
       "0                                       -2.670558  \n",
       "1                                       -2.507288  \n",
       "2                                       -2.551516  \n",
       "3                                       -2.512923  \n",
       "4                                       -2.553386  \n",
       "...                                           ...  \n",
       "14144                                    0.148540  \n",
       "14145                                    0.155412  \n",
       "14146                                    0.142553  \n",
       "14147                                    0.166633  \n",
       "14148                                    0.205298  \n",
       "\n",
       "[14149 rows x 52 columns]"
      ]
     },
     "execution_count": 31,
     "metadata": {},
     "output_type": "execute_result"
    }
   ],
   "source": [
    "features_train"
   ]
  },
  {
   "cell_type": "code",
   "execution_count": 32,
   "metadata": {},
   "outputs": [
    {
     "data": {
      "text/html": [
       "<div>\n",
       "<style scoped>\n",
       "    .dataframe tbody tr th:only-of-type {\n",
       "        vertical-align: middle;\n",
       "    }\n",
       "\n",
       "    .dataframe tbody tr th {\n",
       "        vertical-align: top;\n",
       "    }\n",
       "\n",
       "    .dataframe thead th {\n",
       "        text-align: right;\n",
       "    }\n",
       "</style>\n",
       "<table border=\"1\" class=\"dataframe\">\n",
       "  <thead>\n",
       "    <tr style=\"text-align: right;\">\n",
       "      <th></th>\n",
       "      <th>primary_cleaner.input.sulfate</th>\n",
       "      <th>primary_cleaner.input.depressant</th>\n",
       "      <th>primary_cleaner.input.feed_size</th>\n",
       "      <th>primary_cleaner.input.xanthate</th>\n",
       "      <th>primary_cleaner.state.floatbank8_a_air</th>\n",
       "      <th>primary_cleaner.state.floatbank8_a_level</th>\n",
       "      <th>primary_cleaner.state.floatbank8_b_air</th>\n",
       "      <th>primary_cleaner.state.floatbank8_b_level</th>\n",
       "      <th>primary_cleaner.state.floatbank8_c_air</th>\n",
       "      <th>primary_cleaner.state.floatbank8_c_level</th>\n",
       "      <th>...</th>\n",
       "      <th>secondary_cleaner.state.floatbank4_a_air</th>\n",
       "      <th>secondary_cleaner.state.floatbank4_a_level</th>\n",
       "      <th>secondary_cleaner.state.floatbank4_b_air</th>\n",
       "      <th>secondary_cleaner.state.floatbank4_b_level</th>\n",
       "      <th>secondary_cleaner.state.floatbank5_a_air</th>\n",
       "      <th>secondary_cleaner.state.floatbank5_a_level</th>\n",
       "      <th>secondary_cleaner.state.floatbank5_b_air</th>\n",
       "      <th>secondary_cleaner.state.floatbank5_b_level</th>\n",
       "      <th>secondary_cleaner.state.floatbank6_a_air</th>\n",
       "      <th>secondary_cleaner.state.floatbank6_a_level</th>\n",
       "    </tr>\n",
       "  </thead>\n",
       "  <tbody>\n",
       "    <tr>\n",
       "      <td>0</td>\n",
       "      <td>1.959089</td>\n",
       "      <td>1.818448</td>\n",
       "      <td>1.233941</td>\n",
       "      <td>0.328922</td>\n",
       "      <td>-1.628244</td>\n",
       "      <td>-0.320693</td>\n",
       "      <td>-1.597904</td>\n",
       "      <td>-0.319837</td>\n",
       "      <td>-1.555083</td>\n",
       "      <td>-0.311555</td>\n",
       "      <td>...</td>\n",
       "      <td>-1.404848</td>\n",
       "      <td>-0.376307</td>\n",
       "      <td>-1.421433</td>\n",
       "      <td>-0.697607</td>\n",
       "      <td>-1.513793</td>\n",
       "      <td>1.362866</td>\n",
       "      <td>-1.420851</td>\n",
       "      <td>-0.409885</td>\n",
       "      <td>1.236789</td>\n",
       "      <td>0.191335</td>\n",
       "    </tr>\n",
       "    <tr>\n",
       "      <td>1</td>\n",
       "      <td>2.075027</td>\n",
       "      <td>1.816775</td>\n",
       "      <td>1.233941</td>\n",
       "      <td>0.290185</td>\n",
       "      <td>-1.629828</td>\n",
       "      <td>-0.315983</td>\n",
       "      <td>-1.606215</td>\n",
       "      <td>-0.315624</td>\n",
       "      <td>-1.584519</td>\n",
       "      <td>-0.270451</td>\n",
       "      <td>...</td>\n",
       "      <td>-1.398742</td>\n",
       "      <td>-0.394044</td>\n",
       "      <td>-1.399680</td>\n",
       "      <td>-0.669484</td>\n",
       "      <td>-1.511785</td>\n",
       "      <td>-1.105331</td>\n",
       "      <td>-1.419752</td>\n",
       "      <td>-0.413072</td>\n",
       "      <td>0.944308</td>\n",
       "      <td>0.188368</td>\n",
       "    </tr>\n",
       "    <tr>\n",
       "      <td>2</td>\n",
       "      <td>2.071681</td>\n",
       "      <td>1.193859</td>\n",
       "      <td>0.756231</td>\n",
       "      <td>0.305022</td>\n",
       "      <td>-1.632043</td>\n",
       "      <td>-0.338697</td>\n",
       "      <td>-1.600074</td>\n",
       "      <td>-0.315218</td>\n",
       "      <td>-1.570183</td>\n",
       "      <td>-0.352180</td>\n",
       "      <td>...</td>\n",
       "      <td>-1.415653</td>\n",
       "      <td>-0.395458</td>\n",
       "      <td>-1.406166</td>\n",
       "      <td>-0.689761</td>\n",
       "      <td>-1.492446</td>\n",
       "      <td>-0.444537</td>\n",
       "      <td>-1.415195</td>\n",
       "      <td>-0.404556</td>\n",
       "      <td>0.939957</td>\n",
       "      <td>0.166711</td>\n",
       "    </tr>\n",
       "    <tr>\n",
       "      <td>3</td>\n",
       "      <td>2.073608</td>\n",
       "      <td>0.933697</td>\n",
       "      <td>0.517376</td>\n",
       "      <td>-0.047757</td>\n",
       "      <td>-1.623284</td>\n",
       "      <td>-0.282543</td>\n",
       "      <td>-1.610908</td>\n",
       "      <td>-0.298745</td>\n",
       "      <td>-1.554887</td>\n",
       "      <td>-0.245626</td>\n",
       "      <td>...</td>\n",
       "      <td>-1.403165</td>\n",
       "      <td>-0.387248</td>\n",
       "      <td>-1.410342</td>\n",
       "      <td>-0.666769</td>\n",
       "      <td>-1.522277</td>\n",
       "      <td>-0.446301</td>\n",
       "      <td>-1.410637</td>\n",
       "      <td>-0.408003</td>\n",
       "      <td>0.931987</td>\n",
       "      <td>0.218284</td>\n",
       "    </tr>\n",
       "    <tr>\n",
       "      <td>4</td>\n",
       "      <td>1.663622</td>\n",
       "      <td>0.541357</td>\n",
       "      <td>0.338235</td>\n",
       "      <td>-0.201986</td>\n",
       "      <td>-1.610431</td>\n",
       "      <td>-0.337015</td>\n",
       "      <td>-1.605655</td>\n",
       "      <td>-0.307481</td>\n",
       "      <td>-1.539670</td>\n",
       "      <td>-0.314537</td>\n",
       "      <td>...</td>\n",
       "      <td>-1.404528</td>\n",
       "      <td>-0.435251</td>\n",
       "      <td>-1.414198</td>\n",
       "      <td>-0.682455</td>\n",
       "      <td>-1.486129</td>\n",
       "      <td>-0.674806</td>\n",
       "      <td>-1.406080</td>\n",
       "      <td>-0.418113</td>\n",
       "      <td>0.941426</td>\n",
       "      <td>0.160408</td>\n",
       "    </tr>\n",
       "    <tr>\n",
       "      <td>...</td>\n",
       "      <td>...</td>\n",
       "      <td>...</td>\n",
       "      <td>...</td>\n",
       "      <td>...</td>\n",
       "      <td>...</td>\n",
       "      <td>...</td>\n",
       "      <td>...</td>\n",
       "      <td>...</td>\n",
       "      <td>...</td>\n",
       "      <td>...</td>\n",
       "      <td>...</td>\n",
       "      <td>...</td>\n",
       "      <td>...</td>\n",
       "      <td>...</td>\n",
       "      <td>...</td>\n",
       "      <td>...</td>\n",
       "      <td>...</td>\n",
       "      <td>...</td>\n",
       "      <td>...</td>\n",
       "      <td>...</td>\n",
       "      <td>...</td>\n",
       "    </tr>\n",
       "    <tr>\n",
       "      <td>5224</td>\n",
       "      <td>1.028791</td>\n",
       "      <td>2.105912</td>\n",
       "      <td>1.217655</td>\n",
       "      <td>0.040583</td>\n",
       "      <td>-1.605271</td>\n",
       "      <td>-0.306780</td>\n",
       "      <td>-1.580386</td>\n",
       "      <td>-0.298222</td>\n",
       "      <td>-1.557263</td>\n",
       "      <td>-0.280528</td>\n",
       "      <td>...</td>\n",
       "      <td>-1.056577</td>\n",
       "      <td>-0.422853</td>\n",
       "      <td>-0.650317</td>\n",
       "      <td>-0.670148</td>\n",
       "      <td>-1.508529</td>\n",
       "      <td>-0.410609</td>\n",
       "      <td>-1.236855</td>\n",
       "      <td>-0.408062</td>\n",
       "      <td>-1.837087</td>\n",
       "      <td>0.190081</td>\n",
       "    </tr>\n",
       "    <tr>\n",
       "      <td>5225</td>\n",
       "      <td>1.002342</td>\n",
       "      <td>2.117527</td>\n",
       "      <td>1.217655</td>\n",
       "      <td>0.040098</td>\n",
       "      <td>-1.253610</td>\n",
       "      <td>-0.166394</td>\n",
       "      <td>-1.218741</td>\n",
       "      <td>0.690714</td>\n",
       "      <td>-1.228934</td>\n",
       "      <td>-0.392499</td>\n",
       "      <td>...</td>\n",
       "      <td>-0.570329</td>\n",
       "      <td>-0.341534</td>\n",
       "      <td>-0.403671</td>\n",
       "      <td>-0.660792</td>\n",
       "      <td>-1.283676</td>\n",
       "      <td>-0.341380</td>\n",
       "      <td>-0.987160</td>\n",
       "      <td>-0.407475</td>\n",
       "      <td>-1.837145</td>\n",
       "      <td>0.186094</td>\n",
       "    </tr>\n",
       "    <tr>\n",
       "      <td>5226</td>\n",
       "      <td>0.957534</td>\n",
       "      <td>2.114880</td>\n",
       "      <td>1.217655</td>\n",
       "      <td>0.757421</td>\n",
       "      <td>-0.850418</td>\n",
       "      <td>-0.363963</td>\n",
       "      <td>-0.831846</td>\n",
       "      <td>-0.188792</td>\n",
       "      <td>-0.790526</td>\n",
       "      <td>-0.871975</td>\n",
       "      <td>...</td>\n",
       "      <td>0.002532</td>\n",
       "      <td>-0.415637</td>\n",
       "      <td>-0.073332</td>\n",
       "      <td>-0.674617</td>\n",
       "      <td>-0.992062</td>\n",
       "      <td>-0.379778</td>\n",
       "      <td>-0.701307</td>\n",
       "      <td>-0.409962</td>\n",
       "      <td>-1.837977</td>\n",
       "      <td>0.243095</td>\n",
       "    </tr>\n",
       "    <tr>\n",
       "      <td>5227</td>\n",
       "      <td>1.173712</td>\n",
       "      <td>1.950543</td>\n",
       "      <td>1.217655</td>\n",
       "      <td>1.649353</td>\n",
       "      <td>-0.853300</td>\n",
       "      <td>-0.327931</td>\n",
       "      <td>-0.843939</td>\n",
       "      <td>-0.893627</td>\n",
       "      <td>-0.836559</td>\n",
       "      <td>0.059703</td>\n",
       "      <td>...</td>\n",
       "      <td>-0.003713</td>\n",
       "      <td>-0.418937</td>\n",
       "      <td>-0.087522</td>\n",
       "      <td>-0.670995</td>\n",
       "      <td>-0.988216</td>\n",
       "      <td>-0.422985</td>\n",
       "      <td>-0.703243</td>\n",
       "      <td>-0.407346</td>\n",
       "      <td>-1.832665</td>\n",
       "      <td>0.179338</td>\n",
       "    </tr>\n",
       "    <tr>\n",
       "      <td>5228</td>\n",
       "      <td>1.220670</td>\n",
       "      <td>1.819257</td>\n",
       "      <td>1.217655</td>\n",
       "      <td>1.975135</td>\n",
       "      <td>-0.856182</td>\n",
       "      <td>-0.308686</td>\n",
       "      <td>-0.815283</td>\n",
       "      <td>-0.475398</td>\n",
       "      <td>-0.814460</td>\n",
       "      <td>-0.079220</td>\n",
       "      <td>...</td>\n",
       "      <td>0.009699</td>\n",
       "      <td>-0.434110</td>\n",
       "      <td>-0.108958</td>\n",
       "      <td>-0.674825</td>\n",
       "      <td>-0.992503</td>\n",
       "      <td>-0.440746</td>\n",
       "      <td>-0.706762</td>\n",
       "      <td>-0.417541</td>\n",
       "      <td>-1.836833</td>\n",
       "      <td>0.162872</td>\n",
       "    </tr>\n",
       "  </tbody>\n",
       "</table>\n",
       "<p>5229 rows × 52 columns</p>\n",
       "</div>"
      ],
      "text/plain": [
       "      primary_cleaner.input.sulfate  primary_cleaner.input.depressant  \\\n",
       "0                          1.959089                          1.818448   \n",
       "1                          2.075027                          1.816775   \n",
       "2                          2.071681                          1.193859   \n",
       "3                          2.073608                          0.933697   \n",
       "4                          1.663622                          0.541357   \n",
       "...                             ...                               ...   \n",
       "5224                       1.028791                          2.105912   \n",
       "5225                       1.002342                          2.117527   \n",
       "5226                       0.957534                          2.114880   \n",
       "5227                       1.173712                          1.950543   \n",
       "5228                       1.220670                          1.819257   \n",
       "\n",
       "      primary_cleaner.input.feed_size  primary_cleaner.input.xanthate  \\\n",
       "0                            1.233941                        0.328922   \n",
       "1                            1.233941                        0.290185   \n",
       "2                            0.756231                        0.305022   \n",
       "3                            0.517376                       -0.047757   \n",
       "4                            0.338235                       -0.201986   \n",
       "...                               ...                             ...   \n",
       "5224                         1.217655                        0.040583   \n",
       "5225                         1.217655                        0.040098   \n",
       "5226                         1.217655                        0.757421   \n",
       "5227                         1.217655                        1.649353   \n",
       "5228                         1.217655                        1.975135   \n",
       "\n",
       "      primary_cleaner.state.floatbank8_a_air  \\\n",
       "0                                  -1.628244   \n",
       "1                                  -1.629828   \n",
       "2                                  -1.632043   \n",
       "3                                  -1.623284   \n",
       "4                                  -1.610431   \n",
       "...                                      ...   \n",
       "5224                               -1.605271   \n",
       "5225                               -1.253610   \n",
       "5226                               -0.850418   \n",
       "5227                               -0.853300   \n",
       "5228                               -0.856182   \n",
       "\n",
       "      primary_cleaner.state.floatbank8_a_level  \\\n",
       "0                                    -0.320693   \n",
       "1                                    -0.315983   \n",
       "2                                    -0.338697   \n",
       "3                                    -0.282543   \n",
       "4                                    -0.337015   \n",
       "...                                        ...   \n",
       "5224                                 -0.306780   \n",
       "5225                                 -0.166394   \n",
       "5226                                 -0.363963   \n",
       "5227                                 -0.327931   \n",
       "5228                                 -0.308686   \n",
       "\n",
       "      primary_cleaner.state.floatbank8_b_air  \\\n",
       "0                                  -1.597904   \n",
       "1                                  -1.606215   \n",
       "2                                  -1.600074   \n",
       "3                                  -1.610908   \n",
       "4                                  -1.605655   \n",
       "...                                      ...   \n",
       "5224                               -1.580386   \n",
       "5225                               -1.218741   \n",
       "5226                               -0.831846   \n",
       "5227                               -0.843939   \n",
       "5228                               -0.815283   \n",
       "\n",
       "      primary_cleaner.state.floatbank8_b_level  \\\n",
       "0                                    -0.319837   \n",
       "1                                    -0.315624   \n",
       "2                                    -0.315218   \n",
       "3                                    -0.298745   \n",
       "4                                    -0.307481   \n",
       "...                                        ...   \n",
       "5224                                 -0.298222   \n",
       "5225                                  0.690714   \n",
       "5226                                 -0.188792   \n",
       "5227                                 -0.893627   \n",
       "5228                                 -0.475398   \n",
       "\n",
       "      primary_cleaner.state.floatbank8_c_air  \\\n",
       "0                                  -1.555083   \n",
       "1                                  -1.584519   \n",
       "2                                  -1.570183   \n",
       "3                                  -1.554887   \n",
       "4                                  -1.539670   \n",
       "...                                      ...   \n",
       "5224                               -1.557263   \n",
       "5225                               -1.228934   \n",
       "5226                               -0.790526   \n",
       "5227                               -0.836559   \n",
       "5228                               -0.814460   \n",
       "\n",
       "      primary_cleaner.state.floatbank8_c_level  ...  \\\n",
       "0                                    -0.311555  ...   \n",
       "1                                    -0.270451  ...   \n",
       "2                                    -0.352180  ...   \n",
       "3                                    -0.245626  ...   \n",
       "4                                    -0.314537  ...   \n",
       "...                                        ...  ...   \n",
       "5224                                 -0.280528  ...   \n",
       "5225                                 -0.392499  ...   \n",
       "5226                                 -0.871975  ...   \n",
       "5227                                  0.059703  ...   \n",
       "5228                                 -0.079220  ...   \n",
       "\n",
       "      secondary_cleaner.state.floatbank4_a_air  \\\n",
       "0                                    -1.404848   \n",
       "1                                    -1.398742   \n",
       "2                                    -1.415653   \n",
       "3                                    -1.403165   \n",
       "4                                    -1.404528   \n",
       "...                                        ...   \n",
       "5224                                 -1.056577   \n",
       "5225                                 -0.570329   \n",
       "5226                                  0.002532   \n",
       "5227                                 -0.003713   \n",
       "5228                                  0.009699   \n",
       "\n",
       "      secondary_cleaner.state.floatbank4_a_level  \\\n",
       "0                                      -0.376307   \n",
       "1                                      -0.394044   \n",
       "2                                      -0.395458   \n",
       "3                                      -0.387248   \n",
       "4                                      -0.435251   \n",
       "...                                          ...   \n",
       "5224                                   -0.422853   \n",
       "5225                                   -0.341534   \n",
       "5226                                   -0.415637   \n",
       "5227                                   -0.418937   \n",
       "5228                                   -0.434110   \n",
       "\n",
       "      secondary_cleaner.state.floatbank4_b_air  \\\n",
       "0                                    -1.421433   \n",
       "1                                    -1.399680   \n",
       "2                                    -1.406166   \n",
       "3                                    -1.410342   \n",
       "4                                    -1.414198   \n",
       "...                                        ...   \n",
       "5224                                 -0.650317   \n",
       "5225                                 -0.403671   \n",
       "5226                                 -0.073332   \n",
       "5227                                 -0.087522   \n",
       "5228                                 -0.108958   \n",
       "\n",
       "      secondary_cleaner.state.floatbank4_b_level  \\\n",
       "0                                      -0.697607   \n",
       "1                                      -0.669484   \n",
       "2                                      -0.689761   \n",
       "3                                      -0.666769   \n",
       "4                                      -0.682455   \n",
       "...                                          ...   \n",
       "5224                                   -0.670148   \n",
       "5225                                   -0.660792   \n",
       "5226                                   -0.674617   \n",
       "5227                                   -0.670995   \n",
       "5228                                   -0.674825   \n",
       "\n",
       "      secondary_cleaner.state.floatbank5_a_air  \\\n",
       "0                                    -1.513793   \n",
       "1                                    -1.511785   \n",
       "2                                    -1.492446   \n",
       "3                                    -1.522277   \n",
       "4                                    -1.486129   \n",
       "...                                        ...   \n",
       "5224                                 -1.508529   \n",
       "5225                                 -1.283676   \n",
       "5226                                 -0.992062   \n",
       "5227                                 -0.988216   \n",
       "5228                                 -0.992503   \n",
       "\n",
       "      secondary_cleaner.state.floatbank5_a_level  \\\n",
       "0                                       1.362866   \n",
       "1                                      -1.105331   \n",
       "2                                      -0.444537   \n",
       "3                                      -0.446301   \n",
       "4                                      -0.674806   \n",
       "...                                          ...   \n",
       "5224                                   -0.410609   \n",
       "5225                                   -0.341380   \n",
       "5226                                   -0.379778   \n",
       "5227                                   -0.422985   \n",
       "5228                                   -0.440746   \n",
       "\n",
       "      secondary_cleaner.state.floatbank5_b_air  \\\n",
       "0                                    -1.420851   \n",
       "1                                    -1.419752   \n",
       "2                                    -1.415195   \n",
       "3                                    -1.410637   \n",
       "4                                    -1.406080   \n",
       "...                                        ...   \n",
       "5224                                 -1.236855   \n",
       "5225                                 -0.987160   \n",
       "5226                                 -0.701307   \n",
       "5227                                 -0.703243   \n",
       "5228                                 -0.706762   \n",
       "\n",
       "      secondary_cleaner.state.floatbank5_b_level  \\\n",
       "0                                      -0.409885   \n",
       "1                                      -0.413072   \n",
       "2                                      -0.404556   \n",
       "3                                      -0.408003   \n",
       "4                                      -0.418113   \n",
       "...                                          ...   \n",
       "5224                                   -0.408062   \n",
       "5225                                   -0.407475   \n",
       "5226                                   -0.409962   \n",
       "5227                                   -0.407346   \n",
       "5228                                   -0.417541   \n",
       "\n",
       "      secondary_cleaner.state.floatbank6_a_air  \\\n",
       "0                                     1.236789   \n",
       "1                                     0.944308   \n",
       "2                                     0.939957   \n",
       "3                                     0.931987   \n",
       "4                                     0.941426   \n",
       "...                                        ...   \n",
       "5224                                 -1.837087   \n",
       "5225                                 -1.837145   \n",
       "5226                                 -1.837977   \n",
       "5227                                 -1.832665   \n",
       "5228                                 -1.836833   \n",
       "\n",
       "      secondary_cleaner.state.floatbank6_a_level  \n",
       "0                                       0.191335  \n",
       "1                                       0.188368  \n",
       "2                                       0.166711  \n",
       "3                                       0.218284  \n",
       "4                                       0.160408  \n",
       "...                                          ...  \n",
       "5224                                    0.190081  \n",
       "5225                                    0.186094  \n",
       "5226                                    0.243095  \n",
       "5227                                    0.179338  \n",
       "5228                                    0.162872  \n",
       "\n",
       "[5229 rows x 52 columns]"
      ]
     },
     "execution_count": 32,
     "metadata": {},
     "output_type": "execute_result"
    }
   ],
   "source": [
    "features_test"
   ]
  },
  {
   "cell_type": "markdown",
   "metadata": {},
   "source": [
    "<div style=\"border-radius: 15px; border: 1px solid grey; padding: 15px;\">\n",
    "Готов, проверили визульно и двигаемся дальше.\n",
    "</div>"
   ]
  },
  {
   "cell_type": "markdown",
   "metadata": {},
   "source": [
    "## Анализ данных"
   ]
  },
  {
   "cell_type": "markdown",
   "metadata": {},
   "source": [
    "### Изменение концентрации металлов (Au, Ag, Pb) на различных этапах очистки"
   ]
  },
  {
   "cell_type": "markdown",
   "metadata": {},
   "source": [
    "<div style=\"border-radius: 15px; border: 1px solid grey; padding: 15px;\">\n",
    "Возьмем данные из основного фрейма и визуализироем их. У нас 4 этапа - до флотации - после флотации - после первичной очистки - после второй очистки\\финальный.\n",
    "</div>"
   ]
  },
  {
   "cell_type": "code",
   "execution_count": 33,
   "metadata": {},
   "outputs": [
    {
     "data": {
      "image/png": "[encoded data removed]",
      "text/plain": [
       "<Figure size 1152x576 with 1 Axes>"
      ]
     },
     "metadata": {
      "needs_background": "light"
     },
     "output_type": "display_data"
    }
   ],
   "source": [
    "plt.figure(figsize=(16, 8))\n",
    "plt.plot( ['Rougher Input','Rougher Output','Primary Cleaner Output','Final Output'], \n",
    "         [df['rougher.input.feed_ag'].mean(),\n",
    "          df['rougher.output.concentrate_ag'].mean(),\n",
    "          df['primary_cleaner.output.concentrate_ag'].mean(),\n",
    "          df['final.output.concentrate_ag'].mean()],\n",
    "        label='AG')\n",
    "\n",
    "plt.plot( ['Rougher Input','Rougher Output','Primary Cleaner Output','Final Output'],\n",
    "         [df['rougher.input.feed_pb'].mean(),\n",
    "          df['rougher.output.concentrate_pb'].mean(),\n",
    "          df['primary_cleaner.output.concentrate_pb'].mean(),\n",
    "          df['final.output.concentrate_pb'].mean()],\n",
    "        label='PB')\n",
    "\n",
    "plt.plot( ['Rougher Input','Rougher Output','Primary Cleaner Output','Final Output'],\n",
    "         [df['rougher.input.feed_au'].mean(),\n",
    "          df['rougher.output.concentrate_au'].mean(),\n",
    "          df['primary_cleaner.output.concentrate_au'].mean(),\n",
    "          df['final.output.concentrate_au'].mean()],\n",
    "        label='AU')\n",
    "\n",
    "plt.grid(True)\n",
    "\n",
    "plt.legend()\n",
    "plt.xlabel(\"Stages\") \n",
    "plt.ylabel(\"Concentrates\")\n",
    "\n",
    "plt.title(\"Concentrates per Stages\")\n",
    "plt.show()"
   ]
  },
  {
   "cell_type": "markdown",
   "metadata": {},
   "source": [
    "<div style=\"border-radius: 15px; border: 1px solid grey; padding: 15px;\">\n",
    "    <b>Вывод</b>\n",
    "    \n",
    "Концентрация величина отностительная, а так как целью ташего технологического процесса является получение золота из золотонесущих пород, то повышение концентрации золота в в общем объеме веществ выглядит логичным. В свою очередь общяя концентрация серебра повышается после флотации, но снижается в дальнейшем, преполагаю, что в процессе очистки часть серебра уходит в хвосты. А вот свинец не повторяет показатели серебра и его концентрация в среднгем повышается в масе обрабатываемых веществ, по всей видимости флотация с последующей очисткой не так эффективно справляется с этим отностиельно тяжелым металом.\n",
    "</div>"
   ]
  },
  {
   "cell_type": "markdown",
   "metadata": {},
   "source": [
    "### Сравните распределения размеров гранул сырья"
   ]
  },
  {
   "cell_type": "markdown",
   "metadata": {},
   "source": [
    "<div style=\"border-radius: 15px; border: 1px solid grey; padding: 15px;\">\n",
    "Нам необходимо сравнить размер гранул в тестовой и обучающих выборках. Сравнивать будем на этапе выхода из процесса флотации и поступленгия на первичную очистку. Наложим две гистаграммы расперделения признака размера гранул.\n",
    "</div>"
   ]
  },
  {
   "cell_type": "code",
   "execution_count": 34,
   "metadata": {},
   "outputs": [
    {
     "data": {
      "image/png": "[encoded data removed]",
      "text/plain": [
       "<Figure size 1152x576 with 1 Axes>"
      ]
     },
     "metadata": {
      "needs_background": "light"
     },
     "output_type": "display_data"
    }
   ],
   "source": [
    "plt.figure(figsize=(16, 8))\n",
    "plt.hist(df_train['primary_cleaner.input.feed_size'], 100, density=1, facecolor='r', alpha=0.40, label = 'Feed size in Train')\n",
    "plt.hist(df_test['primary_cleaner.input.feed_size'], 100, density=1, facecolor='b', alpha=0.40, label = 'Feed size in Test')\n",
    "\n",
    "plt.grid(True)\n",
    "\n",
    "plt.legend()\n",
    "plt.xlabel(\"Bins\") \n",
    "plt.ylabel(\"Size\")\n",
    "\n",
    "plt.title(\"Feed Sizes\")\n",
    "plt.show()"
   ]
  },
  {
   "cell_type": "markdown",
   "metadata": {},
   "source": [
    "<div style=\"border-radius: 15px; border: 1px solid grey; padding: 15px;\">\n",
    "       <b>Вывод</b>\n",
    "    \n",
    "За счет прозрачности видим площадь совпадения распределений в двух наших подвыборках, распределения схожи, на основе чего делаем вывод, что размеры гранул близки, можем продолжать наше исследование.\n",
    "</div>"
   ]
  },
  {
   "cell_type": "markdown",
   "metadata": {},
   "source": [
    "### Сумарная концентрация всех веществ на разных стадиях."
   ]
  },
  {
   "cell_type": "markdown",
   "metadata": {},
   "source": [
    "<div style=\"border-radius: 15px; border: 1px solid grey; padding: 15px;\">\n",
    "Для анализа сумируем концентрации всех значимых веществ в общем объеме, посмотрим количество максимальных и минемальных значений и построим гистограмму - ящик с усами, для оценки распределния.\n",
    "</div>"
   ]
  },
  {
   "cell_type": "markdown",
   "metadata": {},
   "source": [
    "<div style=\"border-radius: 15px; border: 1px solid grey; padding: 15px;\">\n",
    "Rougher Input:\n",
    "</div>"
   ]
  },
  {
   "cell_type": "code",
   "execution_count": 35,
   "metadata": {},
   "outputs": [],
   "source": [
    "df['rougher_input_concentrate_sum'] = df['rougher.input.feed_ag'] + df['rougher.input.feed_pb'] + df['rougher.input.feed_sol'] + df['rougher.input.feed_au']"
   ]
  },
  {
   "cell_type": "code",
   "execution_count": 36,
   "metadata": {},
   "outputs": [
    {
     "data": {
      "text/plain": [
       "0.040000     5\n",
       "4.501868     1\n",
       "8.072476     1\n",
       "8.217984     1\n",
       "8.219283     1\n",
       "            ..\n",
       "75.760801    1\n",
       "76.088616    1\n",
       "76.100011    1\n",
       "76.912967    1\n",
       "76.978947    1\n",
       "Name: rougher_input_concentrate_sum, Length: 19224, dtype: int64"
      ]
     },
     "execution_count": 36,
     "metadata": {},
     "output_type": "execute_result"
    }
   ],
   "source": [
    "df['rougher_input_concentrate_sum'].value_counts().sort_index()"
   ]
  },
  {
   "cell_type": "code",
   "execution_count": 37,
   "metadata": {},
   "outputs": [
    {
     "data": {
      "text/plain": [
       "<matplotlib.axes._subplots.AxesSubplot at 0x7f71d93119d0>"
      ]
     },
     "execution_count": 37,
     "metadata": {},
     "output_type": "execute_result"
    },
    {
     "data": {
      "image/png": "[encoded data removed]",
      "text/plain": [
       "<Figure size 216x432 with 1 Axes>"
      ]
     },
     "metadata": {
      "needs_background": "light"
     },
     "output_type": "display_data"
    }
   ],
   "source": [
    "df.boxplot(column='rougher_input_concentrate_sum', grid=True, figsize=(3, 6))"
   ]
  },
  {
   "cell_type": "markdown",
   "metadata": {},
   "source": [
    "<div style=\"border-radius: 15px; border: 1px solid grey; padding: 15px;\">\n",
    "Rougher Output:\n",
    "</div>"
   ]
  },
  {
   "cell_type": "code",
   "execution_count": 38,
   "metadata": {},
   "outputs": [],
   "source": [
    "df['rougher_output_concentrate_sum'] = df['rougher.output.concentrate_ag'] + df['rougher.output.concentrate_pb'] + df['rougher.output.concentrate_sol'] + df['rougher.output.concentrate_au']"
   ]
  },
  {
   "cell_type": "code",
   "execution_count": 39,
   "metadata": {},
   "outputs": [
    {
     "data": {
      "text/plain": [
       "0.000000     394\n",
       "0.040000       5\n",
       "2.016647       1\n",
       "5.577864       1\n",
       "6.829975       1\n",
       "            ... \n",
       "86.994951      1\n",
       "87.273435      1\n",
       "87.656661      1\n",
       "87.918479      1\n",
       "88.140119      1\n",
       "Name: rougher_output_concentrate_sum, Length: 18992, dtype: int64"
      ]
     },
     "execution_count": 39,
     "metadata": {},
     "output_type": "execute_result"
    }
   ],
   "source": [
    "df['rougher_output_concentrate_sum'].value_counts().sort_index()"
   ]
  },
  {
   "cell_type": "code",
   "execution_count": 40,
   "metadata": {},
   "outputs": [
    {
     "data": {
      "text/plain": [
       "<matplotlib.axes._subplots.AxesSubplot at 0x7f7154754450>"
      ]
     },
     "execution_count": 40,
     "metadata": {},
     "output_type": "execute_result"
    },
    {
     "data": {
      "image/png": "[encoded data removed]",
      "text/plain": [
       "<Figure size 216x432 with 1 Axes>"
      ]
     },
     "metadata": {
      "needs_background": "light"
     },
     "output_type": "display_data"
    }
   ],
   "source": [
    "df.boxplot(column='rougher_output_concentrate_sum', grid=True, figsize=(3, 6))"
   ]
  },
  {
   "cell_type": "markdown",
   "metadata": {},
   "source": [
    "<div style=\"border-radius: 15px; border: 1px solid grey; padding: 15px;\">\n",
    "Primary Cleaner Output:\n",
    "</div>"
   ]
  },
  {
   "cell_type": "code",
   "execution_count": 41,
   "metadata": {},
   "outputs": [],
   "source": [
    "df['primary_cleaner_output_concentrate_sum'] = df['primary_cleaner.output.concentrate_ag'] + df['primary_cleaner.output.concentrate_pb'] + df['primary_cleaner.output.concentrate_sol'] + df['primary_cleaner.output.concentrate_au']"
   ]
  },
  {
   "cell_type": "code",
   "execution_count": 42,
   "metadata": {},
   "outputs": [
    {
     "data": {
      "text/plain": [
       "0.000000     108\n",
       "0.040000     117\n",
       "0.113023       1\n",
       "0.282661       1\n",
       "0.774000       1\n",
       "            ... \n",
       "77.597009      1\n",
       "77.898137      1\n",
       "78.060719      1\n",
       "78.255313      1\n",
       "80.749343      1\n",
       "Name: primary_cleaner_output_concentrate_sum, Length: 18829, dtype: int64"
      ]
     },
     "execution_count": 42,
     "metadata": {},
     "output_type": "execute_result"
    }
   ],
   "source": [
    "df['primary_cleaner_output_concentrate_sum'].value_counts().sort_index()"
   ]
  },
  {
   "cell_type": "code",
   "execution_count": 43,
   "metadata": {},
   "outputs": [
    {
     "data": {
      "text/plain": [
       "<matplotlib.axes._subplots.AxesSubplot at 0x7f71547e95d0>"
      ]
     },
     "execution_count": 43,
     "metadata": {},
     "output_type": "execute_result"
    },
    {
     "data": {
      "image/png": "[encoded data removed]",
      "text/plain": [
       "<Figure size 216x432 with 1 Axes>"
      ]
     },
     "metadata": {
      "needs_background": "light"
     },
     "output_type": "display_data"
    }
   ],
   "source": [
    "df.boxplot(column='primary_cleaner_output_concentrate_sum', grid=True, figsize=(3, 6))"
   ]
  },
  {
   "cell_type": "markdown",
   "metadata": {},
   "source": [
    "<div style=\"border-radius: 15px; border: 1px solid grey; padding: 15px;\">\n",
    "Final Output:\n",
    "</div>"
   ]
  },
  {
   "cell_type": "code",
   "execution_count": 44,
   "metadata": {},
   "outputs": [],
   "source": [
    "df['final_output_concentrate_sum'] = df['final.output.concentrate_ag'] + df['final.output.concentrate_pb'] + df['final.output.concentrate_sol'] + df['final.output.concentrate_au']"
   ]
  },
  {
   "cell_type": "code",
   "execution_count": 45,
   "metadata": {},
   "outputs": [
    {
     "data": {
      "text/plain": [
       "0.000000     98\n",
       "0.040000      1\n",
       "1.976540      1\n",
       "2.229927      1\n",
       "4.759584      1\n",
       "             ..\n",
       "79.677243     1\n",
       "79.706640     1\n",
       "79.912473     1\n",
       "79.977670     1\n",
       "80.210644     1\n",
       "Name: final_output_concentrate_sum, Length: 19096, dtype: int64"
      ]
     },
     "execution_count": 45,
     "metadata": {},
     "output_type": "execute_result"
    }
   ],
   "source": [
    "df['final_output_concentrate_sum'].value_counts().sort_index()"
   ]
  },
  {
   "cell_type": "code",
   "execution_count": 46,
   "metadata": {},
   "outputs": [
    {
     "data": {
      "text/plain": [
       "<matplotlib.axes._subplots.AxesSubplot at 0x7f7154abf450>"
      ]
     },
     "execution_count": 46,
     "metadata": {},
     "output_type": "execute_result"
    },
    {
     "data": {
      "image/png": "[encoded data removed]",
      "text/plain": [
       "<Figure size 216x432 with 1 Axes>"
      ]
     },
     "metadata": {
      "needs_background": "light"
     },
     "output_type": "display_data"
    }
   ],
   "source": [
    "df.boxplot(column='final_output_concentrate_sum', grid=True, figsize=(3, 6))"
   ]
  },
  {
   "cell_type": "markdown",
   "metadata": {},
   "source": [
    "<div style=\"border-radius: 15px; border: 1px solid grey; padding: 15px;\">\n",
    "Мы видим значительное количество выбросов находящихся за пределами трех стандартных откланений о среднего значения, это свойственно сумарной концентрации на всех этапах обработки руды. Посмотрим на примере нулевых значений в финальном веществе, что происходло с сумарной концентрацие до этого этапа.\n",
    "</div>"
   ]
  },
  {
   "cell_type": "code",
   "execution_count": 47,
   "metadata": {},
   "outputs": [
    {
     "data": {
      "text/html": [
       "<div>\n",
       "<style scoped>\n",
       "    .dataframe tbody tr th:only-of-type {\n",
       "        vertical-align: middle;\n",
       "    }\n",
       "\n",
       "    .dataframe tbody tr th {\n",
       "        vertical-align: top;\n",
       "    }\n",
       "\n",
       "    .dataframe thead th {\n",
       "        text-align: right;\n",
       "    }\n",
       "</style>\n",
       "<table border=\"1\" class=\"dataframe\">\n",
       "  <thead>\n",
       "    <tr style=\"text-align: right;\">\n",
       "      <th></th>\n",
       "      <th>rougher_input_concentrate_sum</th>\n",
       "      <th>rougher_output_concentrate_sum</th>\n",
       "      <th>primary_cleaner_output_concentrate_sum</th>\n",
       "      <th>final_output_concentrate_sum</th>\n",
       "    </tr>\n",
       "  </thead>\n",
       "  <tbody>\n",
       "    <tr>\n",
       "      <td>644</td>\n",
       "      <td>46.703740</td>\n",
       "      <td>56.574778</td>\n",
       "      <td>53.725613</td>\n",
       "      <td>0.0</td>\n",
       "    </tr>\n",
       "    <tr>\n",
       "      <td>1193</td>\n",
       "      <td>53.368945</td>\n",
       "      <td>61.681632</td>\n",
       "      <td>61.254172</td>\n",
       "      <td>0.0</td>\n",
       "    </tr>\n",
       "    <tr>\n",
       "      <td>1194</td>\n",
       "      <td>51.963364</td>\n",
       "      <td>60.214950</td>\n",
       "      <td>60.410868</td>\n",
       "      <td>0.0</td>\n",
       "    </tr>\n",
       "    <tr>\n",
       "      <td>1195</td>\n",
       "      <td>48.892687</td>\n",
       "      <td>58.592426</td>\n",
       "      <td>60.154484</td>\n",
       "      <td>0.0</td>\n",
       "    </tr>\n",
       "    <tr>\n",
       "      <td>1196</td>\n",
       "      <td>49.265736</td>\n",
       "      <td>58.363177</td>\n",
       "      <td>59.909714</td>\n",
       "      <td>0.0</td>\n",
       "    </tr>\n",
       "    <tr>\n",
       "      <td>...</td>\n",
       "      <td>...</td>\n",
       "      <td>...</td>\n",
       "      <td>...</td>\n",
       "      <td>...</td>\n",
       "    </tr>\n",
       "    <tr>\n",
       "      <td>14951</td>\n",
       "      <td>70.195851</td>\n",
       "      <td>74.356346</td>\n",
       "      <td>63.650614</td>\n",
       "      <td>0.0</td>\n",
       "    </tr>\n",
       "    <tr>\n",
       "      <td>14952</td>\n",
       "      <td>69.677719</td>\n",
       "      <td>69.414486</td>\n",
       "      <td>66.086057</td>\n",
       "      <td>0.0</td>\n",
       "    </tr>\n",
       "    <tr>\n",
       "      <td>15183</td>\n",
       "      <td>52.381155</td>\n",
       "      <td>NaN</td>\n",
       "      <td>NaN</td>\n",
       "      <td>0.0</td>\n",
       "    </tr>\n",
       "    <tr>\n",
       "      <td>15184</td>\n",
       "      <td>59.410599</td>\n",
       "      <td>79.597733</td>\n",
       "      <td>NaN</td>\n",
       "      <td>0.0</td>\n",
       "    </tr>\n",
       "    <tr>\n",
       "      <td>15310</td>\n",
       "      <td>33.929636</td>\n",
       "      <td>49.797341</td>\n",
       "      <td>15.124596</td>\n",
       "      <td>0.0</td>\n",
       "    </tr>\n",
       "  </tbody>\n",
       "</table>\n",
       "<p>98 rows × 4 columns</p>\n",
       "</div>"
      ],
      "text/plain": [
       "       rougher_input_concentrate_sum  rougher_output_concentrate_sum  \\\n",
       "644                        46.703740                       56.574778   \n",
       "1193                       53.368945                       61.681632   \n",
       "1194                       51.963364                       60.214950   \n",
       "1195                       48.892687                       58.592426   \n",
       "1196                       49.265736                       58.363177   \n",
       "...                              ...                             ...   \n",
       "14951                      70.195851                       74.356346   \n",
       "14952                      69.677719                       69.414486   \n",
       "15183                      52.381155                             NaN   \n",
       "15184                      59.410599                       79.597733   \n",
       "15310                      33.929636                       49.797341   \n",
       "\n",
       "       primary_cleaner_output_concentrate_sum  final_output_concentrate_sum  \n",
       "644                                 53.725613                           0.0  \n",
       "1193                                61.254172                           0.0  \n",
       "1194                                60.410868                           0.0  \n",
       "1195                                60.154484                           0.0  \n",
       "1196                                59.909714                           0.0  \n",
       "...                                       ...                           ...  \n",
       "14951                               63.650614                           0.0  \n",
       "14952                               66.086057                           0.0  \n",
       "15183                                     NaN                           0.0  \n",
       "15184                                     NaN                           0.0  \n",
       "15310                               15.124596                           0.0  \n",
       "\n",
       "[98 rows x 4 columns]"
      ]
     },
     "execution_count": 47,
     "metadata": {},
     "output_type": "execute_result"
    }
   ],
   "source": [
    "df.loc[df['final_output_concentrate_sum'] == 0, ['rougher_input_concentrate_sum', 'rougher_output_concentrate_sum', 'primary_cleaner_output_concentrate_sum', 'final_output_concentrate_sum']]"
   ]
  },
  {
   "cell_type": "markdown",
   "metadata": {},
   "source": [
    "<div style=\"border-radius: 15px; border: 1px solid grey; padding: 15px;\">\n",
    "Мы видим, что часто получается так, что до нулевого значения на финальном этапе процесс шел нормально, но потом, по всей видимости всё вещество было сброшено, либо система замеров дала сбой. В любом случае, я не готов отбрасывать подобные значения, наша задача прямо преписывает предсказание целевых признаков, для исключения использования убыточных производств, так вот эти нулевые и низкие значения тоже должны быть предсказаны, как часть не эффективных производст.\n",
    "</div>"
   ]
  },
  {
   "cell_type": "markdown",
   "metadata": {},
   "source": [
    "<div style=\"border-radius: 15px; border: 1px solid grey; padding: 15px;\">\n",
    "Для иллюстрации процесса обраблотки построим ещё одну гистограмму сумарных концентраций. \n",
    "</div>"
   ]
  },
  {
   "cell_type": "code",
   "execution_count": 48,
   "metadata": {},
   "outputs": [],
   "source": [
    "substances_ag = [df['rougher.input.feed_ag'].mean(), df['rougher.output.concentrate_ag'].mean(),\n",
    "                 df['primary_cleaner.output.concentrate_ag'].mean(), df['final.output.concentrate_ag'].mean()]"
   ]
  },
  {
   "cell_type": "code",
   "execution_count": 49,
   "metadata": {},
   "outputs": [],
   "source": [
    "substances_pb = [df['rougher.input.feed_pb'].median(), df['rougher.output.concentrate_pb'].median(),\n",
    "                 df['primary_cleaner.output.concentrate_pb'].median(), df['final.output.concentrate_pb'].median()]"
   ]
  },
  {
   "cell_type": "code",
   "execution_count": 50,
   "metadata": {},
   "outputs": [],
   "source": [
    "substances_sol = [df['rougher.input.feed_sol'].median(), df['rougher.output.concentrate_sol'].median(),\n",
    "                 df['primary_cleaner.output.concentrate_sol'].median(), df['final.output.concentrate_sol'].median()]"
   ]
  },
  {
   "cell_type": "code",
   "execution_count": 51,
   "metadata": {},
   "outputs": [],
   "source": [
    "substances_au = [df['rougher.input.feed_au'].median(), df['rougher.output.concentrate_au'].median(),\n",
    "                 df['primary_cleaner.output.concentrate_au'].median(), df['final.output.concentrate_au'].median()]"
   ]
  },
  {
   "cell_type": "code",
   "execution_count": 52,
   "metadata": {},
   "outputs": [],
   "source": [
    "bottom_au_sol = [x + y for x, y in zip(substances_au, substances_sol)]\n",
    "bottom_au_sol_pb = [x + y + z for x, y, z in zip(substances_au, substances_sol, substances_pb)]"
   ]
  },
  {
   "cell_type": "code",
   "execution_count": 53,
   "metadata": {},
   "outputs": [
    {
     "data": {
      "image/png": "[encoded data removed]",
      "text/plain": [
       "<Figure size 720x432 with 1 Axes>"
      ]
     },
     "metadata": {
      "needs_background": "light"
     },
     "output_type": "display_data"
    }
   ],
   "source": [
    "ind = ['Rougher Input','Rougher Output','Primary Cleaner Output','Final Output']\n",
    "width = 0.5\n",
    "\n",
    "fig = plt.figure(figsize=(10, 6))\n",
    "ax = fig.add_axes([0,0,1,1])\n",
    "\n",
    "ax.bar(ind, substances_au, width, color='gold', label = 'AU')\n",
    "ax.bar(ind, substances_sol, width, bottom=substances_au, color='c', label = 'SOL')\n",
    "ax.bar(ind, substances_pb, width, bottom=bottom_au_sol, color='0.3', label = 'PB')\n",
    "ax.bar(ind, substances_ag, width, bottom=bottom_au_sol_pb, color='silver', label = 'AG')\n",
    "\n",
    "plt.legend()\n",
    "ax.set_ylabel('Concentrate')\n",
    "ax.set_xlabel('Stages')\n",
    "plt.title(\"Concentrates by Stages\")\n",
    "\n",
    "plt.show()"
   ]
  },
  {
   "cell_type": "markdown",
   "metadata": {},
   "source": [
    "<div style=\"border-radius: 15px; border: 1px solid grey; padding: 15px;\">\n",
    "Подтверждается информация из пунката 2.1, концентрация золота растет, как и свинца, а серебро и Sol снижается, средняя общая концентрация отслеживаемых веществ в тенденции растет, разве что высокий показатель Sol нарушил эту тенденции после флотации.\n",
    "</div>"
   ]
  },
  {
   "cell_type": "markdown",
   "metadata": {},
   "source": [
    "## Модели предсказания"
   ]
  },
  {
   "cell_type": "markdown",
   "metadata": {},
   "source": [
    "### Функция для вычисления итоговой sMAPE."
   ]
  },
  {
   "cell_type": "markdown",
   "metadata": {},
   "source": [
    "<div style=\"border-radius: 15px; border: 1px solid grey; padding: 15px;\">\n",
    "На основе формулы в описании создадим нашу функцию для расчкета ключевой метрики sMAPE.\n",
    "</div>"
   ]
  },
  {
   "cell_type": "code",
   "execution_count": 54,
   "metadata": {},
   "outputs": [],
   "source": [
    "def smape(targets, prediction):\n",
    "    \n",
    "    prediction = pd.DataFrame(prediction, columns=['rougher.output.recovery', 'final.output.recovery'])\n",
    "    \n",
    "    targets['rougher.output.recovery_predicted'] = prediction['rougher.output.recovery']\n",
    "    targets['final.output.recovery_predicted'] = prediction['final.output.recovery']\n",
    "    \n",
    "    n = targets['rougher.output.recovery'].count()\n",
    "    \n",
    "    smape_rougher = (targets.apply(\n",
    "        lambda x: ((np.abs(x['rougher.output.recovery'] - x['rougher.output.recovery_predicted'])) / \n",
    "                   ((np.abs(x['rougher.output.recovery']) + np.abs(x['rougher.output.recovery_predicted'])) / 2)), axis=1)).sum() / n * 100\n",
    "    \n",
    "    smape_final = (targets.apply(\n",
    "        lambda x: ((np.abs(x['final.output.recovery'] - x['final.output.recovery_predicted'])) / \n",
    "                   ((np.abs(x['final.output.recovery']) + np.abs(x['final.output.recovery_predicted'])) / 2)), axis=1)).sum() / n * 100\n",
    "   \n",
    "    \n",
    "    smape = 0.25 * smape_rougher + 0.75 * smape_final\n",
    "    return smape"
   ]
  },
  {
   "cell_type": "markdown",
   "metadata": {},
   "source": [
    "<div style=\"border-radius: 15px; border: 1px solid grey; padding: 15px;\">\n",
    "Функция принемает целевые признаки и предсказания, а возвращает нашу уникальную ключевую метрику. Наша модель тем лучше, чем меньше наша ключевая метроика.\n",
    "</div>"
   ]
  },
  {
   "cell_type": "markdown",
   "metadata": {},
   "source": [
    "### Обучаем разные модели и оцениваем их качество кросс-валидацией."
   ]
  },
  {
   "cell_type": "markdown",
   "metadata": {},
   "source": [
    "<div style=\"border-radius: 15px; border: 1px solid grey; padding: 15px;\">\n",
    "Нашу метрику необходимо будет использовать в кросвалидации, для этого воспользуемся функцией make_scorer.\n",
    "</div>"
   ]
  },
  {
   "cell_type": "code",
   "execution_count": 55,
   "metadata": {},
   "outputs": [],
   "source": [
    "scorer = make_scorer(smape, greater_is_better=False)"
   ]
  },
  {
   "cell_type": "markdown",
   "metadata": {},
   "source": [
    "#### Модель регрессии Случаного леса"
   ]
  },
  {
   "cell_type": "markdown",
   "metadata": {},
   "source": [
    "<div style=\"border-radius: 15px; border: 1px solid grey; padding: 15px;\">\n",
    "Первой нашей моделью для тестирования будем модель Случайного леса, нашим методом кросвалидации будет GridSearchCV.\n",
    "Создадим модель, выставим набор гиперпараметров и проведем кросвалидацию с 5ю выборками.\n",
    "</div>"
   ]
  },
  {
   "cell_type": "code",
   "execution_count": 56,
   "metadata": {},
   "outputs": [],
   "source": [
    "rf_model = RandomForestRegressor()"
   ]
  },
  {
   "cell_type": "code",
   "execution_count": 57,
   "metadata": {},
   "outputs": [
    {
     "name": "stdout",
     "output_type": "stream",
     "text": [
      "sMAPE :  1.9773579914953\n"
     ]
    }
   ],
   "source": [
    "rf_parameters = {'n_estimators':[50], 'max_depth':[4], 'random_state':[12345]}\n",
    "grid = GridSearchCV(rf_model, rf_parameters, scoring=scorer, cv=5)\n",
    "grid.fit(features_train, target_train)\n",
    "print(\"sMAPE : \", grid.best_score_ * -1)"
   ]
  },
  {
   "cell_type": "code",
   "execution_count": 58,
   "metadata": {},
   "outputs": [
    {
     "name": "stdout",
     "output_type": "stream",
     "text": [
      "Best Params {'max_depth': 4, 'n_estimators': 50, 'random_state': 12345}\n"
     ]
    }
   ],
   "source": [
    "print('Best Params', grid.best_params_)"
   ]
  },
  {
   "cell_type": "markdown",
   "metadata": {},
   "source": [
    "<div style=\"border-radius: 15px; border: 1px solid grey; padding: 15px;\">\n",
    "Модель Случайного леса показала достаточно низкий показатель метрики sMAPE, было проверено множество наборов гипер параметров,  в коде оставлены только финальные параметры, если их увеличивать, то уменшение метрики происходит медлено, а риск переобучения модели растет. Перейдем к следующей модели.\n",
    "</div>"
   ]
  },
  {
   "cell_type": "markdown",
   "metadata": {},
   "source": [
    "#### Модель Линейной регрессии"
   ]
  },
  {
   "cell_type": "markdown",
   "metadata": {},
   "source": [
    "<div style=\"border-radius: 15px; border: 1px solid grey; padding: 15px;\">\n",
    "Процесс обучения и кросвалидации Линейной регрессии будет идентичным.\n",
    "</div>"
   ]
  },
  {
   "cell_type": "code",
   "execution_count": 59,
   "metadata": {},
   "outputs": [],
   "source": [
    "lr_model = LinearRegression()"
   ]
  },
  {
   "cell_type": "code",
   "execution_count": 60,
   "metadata": {},
   "outputs": [
    {
     "name": "stdout",
     "output_type": "stream",
     "text": [
      "sMAPE :  2.8807319224509405\n"
     ]
    }
   ],
   "source": [
    "parameters = {'normalize':[False]}\n",
    "grid = GridSearchCV(lr_model, parameters, scoring=scorer, cv=5)\n",
    "grid.fit(features_train, target_train)\n",
    "print(\"sMAPE : \", grid.best_score_ * -1)"
   ]
  },
  {
   "cell_type": "markdown",
   "metadata": {},
   "source": [
    "<div style=\"border-radius: 15px; border: 1px solid grey; padding: 15px;\">\n",
    "Результат на нашей метрике у Линейной регрессии скромнее, выбор очевиден, на тестовой выборке будем проверять модель Случайного Леса.\n",
    "</div>"
   ]
  },
  {
   "cell_type": "markdown",
   "metadata": {},
   "source": [
    "### Проверка на тестовой выборке"
   ]
  },
  {
   "cell_type": "code",
   "execution_count": 69,
   "metadata": {},
   "outputs": [
    {
     "name": "stdout",
     "output_type": "stream",
     "text": [
      "sMAPE :  8.697557661369355\n"
     ]
    }
   ],
   "source": [
    "rf_model = RandomForestRegressor(n_estimators=50, max_depth=4, random_state=12345)\n",
    "rf_model.fit(features_train, target_train)\n",
    "rf_prediction = rf_model.predict(features_test)\n",
    "rf_smape = smape(target_test, rf_prediction)\n",
    "print(\"sMAPE : \", rf_smape)"
   ]
  },
  {
   "cell_type": "markdown",
   "metadata": {},
   "source": [
    "<div style=\"border-radius: 15px; border: 1px solid grey; padding: 15px;\">\n",
    "А теперь сравним резултаты нашей модели с заполнением наших целевых признаков медианой.\n",
    "</div>"
   ]
  },
  {
   "cell_type": "code",
   "execution_count": 67,
   "metadata": {},
   "outputs": [
    {
     "name": "stdout",
     "output_type": "stream",
     "text": [
      "9.051936174870905\n"
     ]
    }
   ],
   "source": [
    "dummy_regressor_rougher = DummyRegressor(strategy=\"median\")\n",
    "dummy_regressor_rougher.fit(features_train, target_train)\n",
    "dummy_rougher_pred = dummy_regressor_rougher.predict(features_test)\n",
    "smape_dummy_rougher = smape(target_test, dummy_rougher_pred)\n",
    "print(smape_dummy_rougher)"
   ]
  },
  {
   "cell_type": "markdown",
   "metadata": {},
   "source": [
    "<div style=\"border-radius: 15px; border: 1px solid grey; padding: 15px;\">\n",
    "<b> Вывод</b>\n",
    "    \n",
    "Мы провели предобработку и анализ наших данных, нашли закономерности в данных и процессах.\n",
    "А в этом финальном шаге с помощью нашей спецальной метрики и кросвалидации выбирали лучшую модель регрессии, в нашем случае это модель Случайного леса. При проверке на тестовой выборке наша метрика значительно выросла, что может говорить о том, что мы переобучили нашу модель Случайного леса. Наша метрика синтетическая и понять разницу между заполнением медианой и нашим предсказанием в абсолютных цифрах сложно, то мы уверенно можем сказать, что наша модель адекватна и действительно предсказывает значения целевого признака. \n",
    "    \n",
    "Уверен, что можно поробовать ещё несколько моделей или проверить гипотезу о переобученности нашей лучшей модели и получить значение метрики ниже, но в целом основную цель считаю достигнутой.\n",
    "</div>"
   ]
  }
 ],
 "metadata": {
  "ExecuteTimeLog": [
   {
    "duration": 223,
    "start_time": "2021-07-03T16:32:59.740Z"
   },
   {
    "duration": 1060,
    "start_time": "2021-07-03T16:33:01.547Z"
   },
   {
    "duration": 2659,
    "start_time": "2021-07-03T16:33:02.609Z"
   },
   {
    "duration": 19,
    "start_time": "2021-07-03T16:33:05.270Z"
   },
   {
    "duration": 241,
    "start_time": "2021-07-03T16:34:23.969Z"
   },
   {
    "duration": 238,
    "start_time": "2021-07-03T16:35:36.921Z"
   },
   {
    "duration": 23,
    "start_time": "2021-07-03T16:36:11.790Z"
   },
   {
    "duration": 203,
    "start_time": "2021-07-03T16:37:12.953Z"
   },
   {
    "duration": 177,
    "start_time": "2021-07-03T16:37:17.020Z"
   },
   {
    "duration": 3,
    "start_time": "2021-07-03T16:37:20.605Z"
   },
   {
    "duration": 4477,
    "start_time": "2021-07-03T16:37:21.874Z"
   },
   {
    "duration": 41,
    "start_time": "2021-07-03T16:37:26.353Z"
   },
   {
    "duration": 13,
    "start_time": "2021-07-03T16:39:31.679Z"
   },
   {
    "duration": 16,
    "start_time": "2021-07-03T16:39:50.604Z"
   },
   {
    "duration": 4384,
    "start_time": "2021-07-03T16:45:47.493Z"
   },
   {
    "duration": 11,
    "start_time": "2021-07-03T16:45:58.823Z"
   },
   {
    "duration": 190,
    "start_time": "2021-07-03T16:46:54.455Z"
   },
   {
    "duration": 174,
    "start_time": "2021-07-03T16:47:04.341Z"
   },
   {
    "duration": 11,
    "start_time": "2021-07-03T16:47:08.876Z"
   },
   {
    "duration": 20,
    "start_time": "2021-07-03T16:58:19.748Z"
   },
   {
    "duration": 17,
    "start_time": "2021-07-03T16:58:50.112Z"
   },
   {
    "duration": 4878,
    "start_time": "2021-07-03T17:00:19.406Z"
   },
   {
    "duration": 4652,
    "start_time": "2021-07-03T17:00:40.876Z"
   },
   {
    "duration": 5579,
    "start_time": "2021-07-03T17:01:04.237Z"
   },
   {
    "duration": 12,
    "start_time": "2021-07-03T17:01:39.569Z"
   },
   {
    "duration": 10,
    "start_time": "2021-07-03T17:02:44.147Z"
   },
   {
    "duration": 16,
    "start_time": "2021-07-03T17:04:15.445Z"
   },
   {
    "duration": 351,
    "start_time": "2021-07-07T07:28:13.596Z"
   },
   {
    "duration": 1566,
    "start_time": "2021-07-07T07:28:17.847Z"
   },
   {
    "duration": 3072,
    "start_time": "2021-07-07T07:28:19.416Z"
   },
   {
    "duration": 18,
    "start_time": "2021-07-07T07:28:22.492Z"
   },
   {
    "duration": 16,
    "start_time": "2021-07-07T07:28:22.513Z"
   },
   {
    "duration": 26,
    "start_time": "2021-07-07T07:28:22.532Z"
   },
   {
    "duration": 47,
    "start_time": "2021-07-07T07:28:22.560Z"
   },
   {
    "duration": 22,
    "start_time": "2021-07-07T07:28:22.610Z"
   },
   {
    "duration": 24,
    "start_time": "2021-07-07T07:28:22.635Z"
   },
   {
    "duration": 519,
    "start_time": "2021-07-07T07:28:22.663Z"
   },
   {
    "duration": 100,
    "start_time": "2021-07-07T07:33:50.097Z"
   },
   {
    "duration": 86,
    "start_time": "2021-07-07T07:34:11.976Z"
   },
   {
    "duration": 16,
    "start_time": "2021-07-07T07:34:44.807Z"
   },
   {
    "duration": 8,
    "start_time": "2021-07-07T07:34:54.359Z"
   },
   {
    "duration": 20,
    "start_time": "2021-07-07T07:35:19.448Z"
   },
   {
    "duration": 7,
    "start_time": "2021-07-07T07:37:48.888Z"
   },
   {
    "duration": 15,
    "start_time": "2021-07-07T07:37:49.584Z"
   },
   {
    "duration": 6,
    "start_time": "2021-07-07T07:40:38.030Z"
   },
   {
    "duration": 4,
    "start_time": "2021-07-07T07:43:04.885Z"
   },
   {
    "duration": 7,
    "start_time": "2021-07-07T07:44:01.836Z"
   },
   {
    "duration": 85,
    "start_time": "2021-07-07T07:52:12.481Z"
   },
   {
    "duration": 7,
    "start_time": "2021-07-07T07:52:24.328Z"
   },
   {
    "duration": 6,
    "start_time": "2021-07-07T07:52:29.234Z"
   },
   {
    "duration": 3322,
    "start_time": "2021-07-07T07:52:29.243Z"
   },
   {
    "duration": 13,
    "start_time": "2021-07-07T07:52:32.569Z"
   },
   {
    "duration": 35,
    "start_time": "2021-07-07T07:52:32.585Z"
   },
   {
    "duration": 34,
    "start_time": "2021-07-07T07:52:32.622Z"
   },
   {
    "duration": 43,
    "start_time": "2021-07-07T07:52:32.659Z"
   },
   {
    "duration": 30,
    "start_time": "2021-07-07T07:52:32.705Z"
   },
   {
    "duration": 35,
    "start_time": "2021-07-07T07:52:32.739Z"
   },
   {
    "duration": 32,
    "start_time": "2021-07-07T07:52:32.777Z"
   },
   {
    "duration": 25,
    "start_time": "2021-07-07T07:52:32.812Z"
   },
   {
    "duration": 6,
    "start_time": "2021-07-07T07:52:32.840Z"
   },
   {
    "duration": 4,
    "start_time": "2021-07-07T07:55:31.138Z"
   },
   {
    "duration": 5,
    "start_time": "2021-07-07T07:57:25.143Z"
   },
   {
    "duration": 7,
    "start_time": "2021-07-07T08:00:43.006Z"
   },
   {
    "duration": 8,
    "start_time": "2021-07-07T08:54:46.646Z"
   },
   {
    "duration": 24,
    "start_time": "2021-07-07T08:54:53.998Z"
   },
   {
    "duration": 40,
    "start_time": "2021-07-07T09:05:07.836Z"
   },
   {
    "duration": 634,
    "start_time": "2021-07-07T09:05:11.556Z"
   },
   {
    "duration": 69,
    "start_time": "2021-07-07T09:07:57.857Z"
   },
   {
    "duration": 31,
    "start_time": "2021-07-07T09:08:11.861Z"
   },
   {
    "duration": 41,
    "start_time": "2021-07-07T09:08:55.867Z"
   },
   {
    "duration": 11,
    "start_time": "2021-07-07T09:09:43.252Z"
   },
   {
    "duration": 24,
    "start_time": "2021-07-07T09:09:49.930Z"
   },
   {
    "duration": 14,
    "start_time": "2021-07-07T09:09:56.762Z"
   },
   {
    "duration": 6,
    "start_time": "2021-07-07T09:10:31.261Z"
   },
   {
    "duration": 3591,
    "start_time": "2021-07-07T09:10:31.270Z"
   },
   {
    "duration": 14,
    "start_time": "2021-07-07T09:10:34.864Z"
   },
   {
    "duration": 36,
    "start_time": "2021-07-07T09:10:34.881Z"
   },
   {
    "duration": 27,
    "start_time": "2021-07-07T09:10:34.920Z"
   },
   {
    "duration": 14,
    "start_time": "2021-07-07T09:10:34.949Z"
   },
   {
    "duration": 23,
    "start_time": "2021-07-07T09:10:35.001Z"
   },
   {
    "duration": 25,
    "start_time": "2021-07-07T09:10:35.027Z"
   },
   {
    "duration": 7,
    "start_time": "2021-07-07T09:10:35.055Z"
   },
   {
    "duration": 50,
    "start_time": "2021-07-07T09:10:35.064Z"
   },
   {
    "duration": 8,
    "start_time": "2021-07-07T09:10:35.116Z"
   },
   {
    "duration": 4,
    "start_time": "2021-07-07T09:10:35.127Z"
   },
   {
    "duration": 8,
    "start_time": "2021-07-07T09:10:35.134Z"
   },
   {
    "duration": 1311,
    "start_time": "2021-07-07T09:10:35.145Z"
   },
   {
    "duration": -446,
    "start_time": "2021-07-07T09:10:36.904Z"
   },
   {
    "duration": -453,
    "start_time": "2021-07-07T09:10:36.913Z"
   },
   {
    "duration": -483,
    "start_time": "2021-07-07T09:10:36.944Z"
   },
   {
    "duration": 359,
    "start_time": "2021-07-07T09:10:53.947Z"
   },
   {
    "duration": 476,
    "start_time": "2021-07-07T09:11:08.801Z"
   },
   {
    "duration": 299,
    "start_time": "2021-07-07T09:13:55.585Z"
   },
   {
    "duration": 5,
    "start_time": "2021-07-07T09:14:38.497Z"
   },
   {
    "duration": 11,
    "start_time": "2021-07-07T09:14:46.356Z"
   },
   {
    "duration": 84,
    "start_time": "2021-07-07T09:14:54.971Z"
   },
   {
    "duration": 294,
    "start_time": "2021-07-07T09:15:02.033Z"
   },
   {
    "duration": 5,
    "start_time": "2021-07-07T09:15:31.888Z"
   },
   {
    "duration": 8,
    "start_time": "2021-07-07T09:15:36.256Z"
   },
   {
    "duration": 46,
    "start_time": "2021-07-07T09:15:40.066Z"
   },
   {
    "duration": 26,
    "start_time": "2021-07-07T09:15:42.897Z"
   },
   {
    "duration": 24,
    "start_time": "2021-07-07T09:15:45.080Z"
   },
   {
    "duration": 9,
    "start_time": "2021-07-07T09:16:44.664Z"
   },
   {
    "duration": 8,
    "start_time": "2021-07-07T09:17:06.328Z"
   },
   {
    "duration": 7,
    "start_time": "2021-07-07T09:17:19.447Z"
   },
   {
    "duration": 318,
    "start_time": "2021-07-07T09:17:48.727Z"
   },
   {
    "duration": 5,
    "start_time": "2021-07-07T09:22:29.546Z"
   },
   {
    "duration": 4014,
    "start_time": "2021-07-07T09:22:29.554Z"
   },
   {
    "duration": 12,
    "start_time": "2021-07-07T09:22:33.571Z"
   },
   {
    "duration": 30,
    "start_time": "2021-07-07T09:22:33.585Z"
   },
   {
    "duration": 25,
    "start_time": "2021-07-07T09:22:33.617Z"
   },
   {
    "duration": 13,
    "start_time": "2021-07-07T09:22:33.644Z"
   },
   {
    "duration": 59,
    "start_time": "2021-07-07T09:22:33.659Z"
   },
   {
    "duration": 27,
    "start_time": "2021-07-07T09:22:33.720Z"
   },
   {
    "duration": 7,
    "start_time": "2021-07-07T09:22:33.751Z"
   },
   {
    "duration": 50,
    "start_time": "2021-07-07T09:22:33.761Z"
   },
   {
    "duration": 9,
    "start_time": "2021-07-07T09:22:33.814Z"
   },
   {
    "duration": 5,
    "start_time": "2021-07-07T09:22:33.825Z"
   },
   {
    "duration": 16,
    "start_time": "2021-07-07T09:22:33.832Z"
   },
   {
    "duration": 82,
    "start_time": "2021-07-07T09:22:33.851Z"
   },
   {
    "duration": 24,
    "start_time": "2021-07-07T09:22:33.936Z"
   },
   {
    "duration": 49,
    "start_time": "2021-07-07T09:22:33.963Z"
   },
   {
    "duration": 9,
    "start_time": "2021-07-07T09:22:34.015Z"
   },
   {
    "duration": 341,
    "start_time": "2021-07-07T09:22:34.026Z"
   },
   {
    "duration": 8,
    "start_time": "2021-07-07T09:22:34.369Z"
   },
   {
    "duration": 37,
    "start_time": "2021-07-07T09:22:34.379Z"
   },
   {
    "duration": 1923189,
    "start_time": "2021-07-07T11:04:37.104Z"
   },
   {
    "duration": 424,
    "start_time": "2021-07-07T18:17:07.397Z"
   },
   {
    "duration": 1490,
    "start_time": "2021-07-07T18:17:13.289Z"
   },
   {
    "duration": 4517,
    "start_time": "2021-07-07T18:17:14.782Z"
   },
   {
    "duration": 19,
    "start_time": "2021-07-07T18:17:19.303Z"
   },
   {
    "duration": 47,
    "start_time": "2021-07-07T18:17:19.325Z"
   },
   {
    "duration": 26,
    "start_time": "2021-07-07T18:17:19.375Z"
   },
   {
    "duration": 17,
    "start_time": "2021-07-07T18:17:19.404Z"
   },
   {
    "duration": 57,
    "start_time": "2021-07-07T18:17:19.424Z"
   },
   {
    "duration": 24,
    "start_time": "2021-07-07T18:17:19.484Z"
   },
   {
    "duration": 12,
    "start_time": "2021-07-07T18:17:19.510Z"
   },
   {
    "duration": 54,
    "start_time": "2021-07-07T18:17:19.524Z"
   },
   {
    "duration": 8,
    "start_time": "2021-07-07T18:17:19.581Z"
   },
   {
    "duration": 9,
    "start_time": "2021-07-07T18:17:19.592Z"
   },
   {
    "duration": 12,
    "start_time": "2021-07-07T18:17:19.603Z"
   },
   {
    "duration": 64,
    "start_time": "2021-07-07T18:17:19.617Z"
   },
   {
    "duration": 23,
    "start_time": "2021-07-07T18:17:19.685Z"
   },
   {
    "duration": 7,
    "start_time": "2021-07-07T18:17:19.710Z"
   },
   {
    "duration": 41,
    "start_time": "2021-07-07T18:17:19.720Z"
   },
   {
    "duration": 29,
    "start_time": "2021-07-07T18:17:19.764Z"
   },
   {
    "duration": 544410,
    "start_time": "2021-07-07T18:17:19.796Z"
   },
   {
    "duration": 7,
    "start_time": "2021-07-07T18:26:42.345Z"
   },
   {
    "duration": 3096,
    "start_time": "2021-07-07T18:26:42.356Z"
   },
   {
    "duration": 15,
    "start_time": "2021-07-07T18:26:45.457Z"
   },
   {
    "duration": 23,
    "start_time": "2021-07-07T18:26:45.475Z"
   },
   {
    "duration": 60,
    "start_time": "2021-07-07T18:26:45.501Z"
   },
   {
    "duration": 18,
    "start_time": "2021-07-07T18:26:45.565Z"
   },
   {
    "duration": 30,
    "start_time": "2021-07-07T18:26:45.588Z"
   },
   {
    "duration": 55,
    "start_time": "2021-07-07T18:26:45.621Z"
   },
   {
    "duration": 10,
    "start_time": "2021-07-07T18:26:45.679Z"
   },
   {
    "duration": 25,
    "start_time": "2021-07-07T18:26:45.692Z"
   },
   {
    "duration": 44,
    "start_time": "2021-07-07T18:26:45.720Z"
   },
   {
    "duration": 17,
    "start_time": "2021-07-07T18:26:45.769Z"
   },
   {
    "duration": 16,
    "start_time": "2021-07-07T18:26:45.789Z"
   },
   {
    "duration": 34,
    "start_time": "2021-07-07T18:26:45.807Z"
   },
   {
    "duration": 39,
    "start_time": "2021-07-07T18:26:45.844Z"
   },
   {
    "duration": 9,
    "start_time": "2021-07-07T18:26:45.887Z"
   },
   {
    "duration": 32,
    "start_time": "2021-07-07T18:26:45.899Z"
   },
   {
    "duration": 49,
    "start_time": "2021-07-07T18:26:45.934Z"
   },
   {
    "duration": 6,
    "start_time": "2021-07-07T18:26:45.987Z"
   },
   {
    "duration": 103,
    "start_time": "2021-07-07T18:26:45.997Z"
   },
   {
    "duration": 337,
    "start_time": "2021-07-07T18:27:00.817Z"
   },
   {
    "duration": 239,
    "start_time": "2021-07-07T18:33:31.755Z"
   },
   {
    "duration": 234,
    "start_time": "2021-07-07T18:34:19.059Z"
   },
   {
    "duration": 234,
    "start_time": "2021-07-07T18:34:32.128Z"
   },
   {
    "duration": 225,
    "start_time": "2021-07-07T18:35:04.262Z"
   },
   {
    "duration": 236,
    "start_time": "2021-07-07T18:35:42.742Z"
   },
   {
    "duration": 352,
    "start_time": "2021-07-07T18:36:00.039Z"
   },
   {
    "duration": 288,
    "start_time": "2021-07-07T18:36:48.117Z"
   },
   {
    "duration": 280,
    "start_time": "2021-07-07T18:36:54.350Z"
   },
   {
    "duration": 280,
    "start_time": "2021-07-07T18:38:14.579Z"
   },
   {
    "duration": 279,
    "start_time": "2021-07-07T18:38:20.153Z"
   },
   {
    "duration": 271,
    "start_time": "2021-07-07T18:39:18.945Z"
   },
   {
    "duration": 279,
    "start_time": "2021-07-07T18:40:37.654Z"
   },
   {
    "duration": 82,
    "start_time": "2021-07-07T18:40:47.648Z"
   },
   {
    "duration": 302,
    "start_time": "2021-07-07T18:40:55.661Z"
   },
   {
    "duration": 284,
    "start_time": "2021-07-07T18:41:51.359Z"
   },
   {
    "duration": 256,
    "start_time": "2021-07-07T18:46:48.593Z"
   },
   {
    "duration": 314,
    "start_time": "2021-07-07T18:47:06.113Z"
   },
   {
    "duration": 446,
    "start_time": "2021-07-07T18:47:41.604Z"
   },
   {
    "duration": 386,
    "start_time": "2021-07-07T18:47:46.834Z"
   },
   {
    "duration": 328,
    "start_time": "2021-07-07T18:47:52.228Z"
   },
   {
    "duration": 552,
    "start_time": "2021-07-07T18:47:58.923Z"
   },
   {
    "duration": 929,
    "start_time": "2021-07-07T18:48:40.280Z"
   },
   {
    "duration": 834,
    "start_time": "2021-07-07T18:49:39.422Z"
   },
   {
    "duration": 886,
    "start_time": "2021-07-07T18:50:50.109Z"
   },
   {
    "duration": 1461,
    "start_time": "2021-07-07T18:51:08.433Z"
   },
   {
    "duration": 1187,
    "start_time": "2021-07-07T18:52:26.336Z"
   },
   {
    "duration": 1469,
    "start_time": "2021-07-07T18:52:46.826Z"
   },
   {
    "duration": 1513,
    "start_time": "2021-07-07T18:52:57.094Z"
   },
   {
    "duration": 1213,
    "start_time": "2021-07-07T18:53:12.677Z"
   },
   {
    "duration": 903,
    "start_time": "2021-07-07T18:54:12.552Z"
   },
   {
    "duration": 898,
    "start_time": "2021-07-07T18:54:27.317Z"
   },
   {
    "duration": 1043,
    "start_time": "2021-07-07T18:54:34.508Z"
   },
   {
    "duration": 1062,
    "start_time": "2021-07-07T18:54:47.118Z"
   },
   {
    "duration": 1067,
    "start_time": "2021-07-07T18:54:53.961Z"
   },
   {
    "duration": 1621,
    "start_time": "2021-07-07T18:55:36.480Z"
   },
   {
    "duration": 1091,
    "start_time": "2021-07-07T18:55:47.558Z"
   },
   {
    "duration": 1172,
    "start_time": "2021-07-07T18:56:04.149Z"
   },
   {
    "duration": 1172,
    "start_time": "2021-07-07T18:56:19.958Z"
   },
   {
    "duration": 1150,
    "start_time": "2021-07-07T18:57:21.892Z"
   },
   {
    "duration": 1444,
    "start_time": "2021-07-07T18:57:33.582Z"
   },
   {
    "duration": 1163,
    "start_time": "2021-07-07T18:57:48.864Z"
   },
   {
    "duration": 444,
    "start_time": "2021-07-08T06:50:20.746Z"
   },
   {
    "duration": 1576,
    "start_time": "2021-07-08T06:50:23.815Z"
   },
   {
    "duration": 3514,
    "start_time": "2021-07-08T06:50:25.393Z"
   },
   {
    "duration": 15,
    "start_time": "2021-07-08T06:50:28.910Z"
   },
   {
    "duration": 46,
    "start_time": "2021-07-08T06:50:28.929Z"
   },
   {
    "duration": 30,
    "start_time": "2021-07-08T06:50:28.979Z"
   },
   {
    "duration": 15,
    "start_time": "2021-07-08T06:50:29.012Z"
   },
   {
    "duration": 58,
    "start_time": "2021-07-08T06:50:29.030Z"
   },
   {
    "duration": 23,
    "start_time": "2021-07-08T06:50:29.092Z"
   },
   {
    "duration": 12,
    "start_time": "2021-07-08T06:50:29.118Z"
   },
   {
    "duration": 49,
    "start_time": "2021-07-08T06:50:29.132Z"
   },
   {
    "duration": 6,
    "start_time": "2021-07-08T06:50:29.184Z"
   },
   {
    "duration": 4,
    "start_time": "2021-07-08T06:50:29.193Z"
   },
   {
    "duration": 10,
    "start_time": "2021-07-08T06:50:29.199Z"
   },
   {
    "duration": 66,
    "start_time": "2021-07-08T06:50:29.211Z"
   },
   {
    "duration": 24,
    "start_time": "2021-07-08T06:50:29.280Z"
   },
   {
    "duration": 7,
    "start_time": "2021-07-08T06:50:29.306Z"
   },
   {
    "duration": 9,
    "start_time": "2021-07-08T06:50:29.315Z"
   },
   {
    "duration": 65,
    "start_time": "2021-07-08T06:50:29.326Z"
   },
   {
    "duration": 3,
    "start_time": "2021-07-08T06:50:29.393Z"
   },
   {
    "duration": 528,
    "start_time": "2021-07-08T06:50:29.399Z"
   },
   {
    "duration": 1273,
    "start_time": "2021-07-08T06:50:29.930Z"
   },
   {
    "duration": 1275,
    "start_time": "2021-07-08T06:53:59.942Z"
   },
   {
    "duration": 1306,
    "start_time": "2021-07-08T06:54:15.046Z"
   },
   {
    "duration": 1623,
    "start_time": "2021-07-08T06:54:24.102Z"
   },
   {
    "duration": 1376,
    "start_time": "2021-07-08T06:54:28.791Z"
   },
   {
    "duration": 1321,
    "start_time": "2021-07-08T06:54:33.687Z"
   },
   {
    "duration": 1072,
    "start_time": "2021-07-08T06:54:43.781Z"
   },
   {
    "duration": 1107,
    "start_time": "2021-07-08T06:54:56.942Z"
   },
   {
    "duration": 1230,
    "start_time": "2021-07-08T06:55:01.576Z"
   },
   {
    "duration": 113,
    "start_time": "2021-07-08T07:00:48.358Z"
   },
   {
    "duration": 127,
    "start_time": "2021-07-08T07:00:57.260Z"
   },
   {
    "duration": 9,
    "start_time": "2021-07-08T07:01:04.660Z"
   },
   {
    "duration": 495,
    "start_time": "2021-07-08T07:05:37.019Z"
   },
   {
    "duration": 8,
    "start_time": "2021-07-08T07:08:11.235Z"
   },
   {
    "duration": 12,
    "start_time": "2021-07-08T07:08:11.977Z"
   },
   {
    "duration": 9,
    "start_time": "2021-07-08T07:08:12.697Z"
   },
   {
    "duration": 8,
    "start_time": "2021-07-08T07:08:13.313Z"
   },
   {
    "duration": 853,
    "start_time": "2021-07-08T07:18:34.888Z"
   },
   {
    "duration": 466,
    "start_time": "2021-07-08T07:19:18.534Z"
   },
   {
    "duration": 126,
    "start_time": "2021-07-08T07:19:46.998Z"
   },
   {
    "duration": 967,
    "start_time": "2021-07-08T07:19:52.925Z"
   },
   {
    "duration": 107,
    "start_time": "2021-07-08T07:21:07.853Z"
   },
   {
    "duration": 562,
    "start_time": "2021-07-08T07:21:20.965Z"
   },
   {
    "duration": 330,
    "start_time": "2021-07-08T07:22:15.861Z"
   },
   {
    "duration": 360,
    "start_time": "2021-07-08T07:22:50.371Z"
   },
   {
    "duration": 509,
    "start_time": "2021-07-08T07:23:06.189Z"
   },
   {
    "duration": 534,
    "start_time": "2021-07-08T07:23:49.852Z"
   },
   {
    "duration": 607,
    "start_time": "2021-07-08T07:24:25.997Z"
   },
   {
    "duration": 555,
    "start_time": "2021-07-08T07:25:18.285Z"
   },
   {
    "duration": 561,
    "start_time": "2021-07-08T07:25:23.373Z"
   },
   {
    "duration": 599,
    "start_time": "2021-07-08T07:27:06.834Z"
   },
   {
    "duration": 6,
    "start_time": "2021-07-08T07:29:19.540Z"
   },
   {
    "duration": 7,
    "start_time": "2021-07-08T07:30:06.786Z"
   },
   {
    "duration": 6,
    "start_time": "2021-07-08T07:30:52.499Z"
   },
   {
    "duration": 565,
    "start_time": "2021-07-08T07:31:03.546Z"
   },
   {
    "duration": 6,
    "start_time": "2021-07-08T07:31:33.009Z"
   },
   {
    "duration": 8,
    "start_time": "2021-07-08T07:32:32.403Z"
   },
   {
    "duration": 574,
    "start_time": "2021-07-08T07:33:05.651Z"
   },
   {
    "duration": 593,
    "start_time": "2021-07-08T07:34:35.393Z"
   },
   {
    "duration": 1114,
    "start_time": "2021-07-08T07:51:49.339Z"
   },
   {
    "duration": 872,
    "start_time": "2021-07-08T07:54:02.361Z"
   },
   {
    "duration": 106,
    "start_time": "2021-07-08T07:54:13.354Z"
   },
   {
    "duration": 870,
    "start_time": "2021-07-08T07:54:17.000Z"
   },
   {
    "duration": 601,
    "start_time": "2021-07-08T07:54:30.515Z"
   },
   {
    "duration": 611,
    "start_time": "2021-07-08T07:57:24.585Z"
   },
   {
    "duration": 599,
    "start_time": "2021-07-08T07:57:29.295Z"
   },
   {
    "duration": 632,
    "start_time": "2021-07-08T07:57:33.695Z"
   },
   {
    "duration": 595,
    "start_time": "2021-07-08T07:57:39.302Z"
   },
   {
    "duration": 640,
    "start_time": "2021-07-08T07:57:55.662Z"
   },
   {
    "duration": 605,
    "start_time": "2021-07-08T07:58:16.230Z"
   },
   {
    "duration": 687,
    "start_time": "2021-07-08T07:58:25.325Z"
   },
   {
    "duration": 866,
    "start_time": "2021-07-08T07:58:38.093Z"
   },
   {
    "duration": 622,
    "start_time": "2021-07-08T07:59:25.229Z"
   },
   {
    "duration": 805,
    "start_time": "2021-07-08T07:59:51.895Z"
   },
   {
    "duration": 604,
    "start_time": "2021-07-08T08:00:51.229Z"
   },
   {
    "duration": 600,
    "start_time": "2021-07-08T08:01:01.756Z"
   },
   {
    "duration": 611,
    "start_time": "2021-07-08T08:01:24.260Z"
   },
   {
    "duration": 612,
    "start_time": "2021-07-08T08:02:06.923Z"
   },
   {
    "duration": 592,
    "start_time": "2021-07-08T08:02:23.291Z"
   },
   {
    "duration": 616,
    "start_time": "2021-07-08T08:02:54.563Z"
   },
   {
    "duration": 597,
    "start_time": "2021-07-08T08:03:26.213Z"
   },
   {
    "duration": 919,
    "start_time": "2021-07-08T08:03:46.779Z"
   },
   {
    "duration": 710,
    "start_time": "2021-07-08T08:03:58.380Z"
   },
   {
    "duration": 612,
    "start_time": "2021-07-08T08:04:07.410Z"
   },
   {
    "duration": 172,
    "start_time": "2021-07-08T08:05:42.754Z"
   },
   {
    "duration": 121,
    "start_time": "2021-07-08T08:05:55.643Z"
   },
   {
    "duration": 1188,
    "start_time": "2021-07-08T08:06:02.483Z"
   },
   {
    "duration": 1137,
    "start_time": "2021-07-08T08:06:41.731Z"
   },
   {
    "duration": 576,
    "start_time": "2021-07-08T08:08:52.113Z"
   },
   {
    "duration": 622,
    "start_time": "2021-07-08T08:11:24.746Z"
   },
   {
    "duration": 1371,
    "start_time": "2021-07-08T08:11:50.672Z"
   },
   {
    "duration": 5,
    "start_time": "2021-07-08T08:13:49.863Z"
   },
   {
    "duration": 6,
    "start_time": "2021-07-08T08:14:03.654Z"
   },
   {
    "duration": 4,
    "start_time": "2021-07-08T08:16:41.414Z"
   },
   {
    "duration": 5,
    "start_time": "2021-07-08T08:16:42.453Z"
   },
   {
    "duration": 4,
    "start_time": "2021-07-08T08:17:18.205Z"
   },
   {
    "duration": 12,
    "start_time": "2021-07-08T08:17:25.481Z"
   },
   {
    "duration": 5,
    "start_time": "2021-07-08T08:17:30.453Z"
   },
   {
    "duration": 5,
    "start_time": "2021-07-08T08:17:40.351Z"
   },
   {
    "duration": 11,
    "start_time": "2021-07-08T08:17:40.876Z"
   },
   {
    "duration": 656,
    "start_time": "2021-07-08T08:18:05.760Z"
   },
   {
    "duration": 661,
    "start_time": "2021-07-08T08:18:54.025Z"
   },
   {
    "duration": 646,
    "start_time": "2021-07-08T08:19:00.671Z"
   },
   {
    "duration": 573,
    "start_time": "2021-07-08T08:20:00.783Z"
   },
   {
    "duration": 678,
    "start_time": "2021-07-08T08:20:13.724Z"
   },
   {
    "duration": 565,
    "start_time": "2021-07-08T08:20:39.069Z"
   },
   {
    "duration": 400,
    "start_time": "2021-07-08T08:20:51.304Z"
   },
   {
    "duration": 562,
    "start_time": "2021-07-08T08:20:59.262Z"
   },
   {
    "duration": 691,
    "start_time": "2021-07-08T08:21:33.280Z"
   },
   {
    "duration": 5,
    "start_time": "2021-07-08T08:22:34.965Z"
   },
   {
    "duration": 509,
    "start_time": "2021-07-08T08:22:37.783Z"
   },
   {
    "duration": 515,
    "start_time": "2021-07-08T08:22:51.382Z"
   },
   {
    "duration": 548,
    "start_time": "2021-07-08T08:23:32.236Z"
   },
   {
    "duration": 440,
    "start_time": "2021-07-08T08:23:42.244Z"
   },
   {
    "duration": 494,
    "start_time": "2021-07-08T08:23:49.165Z"
   },
   {
    "duration": 393,
    "start_time": "2021-07-08T08:23:58.309Z"
   },
   {
    "duration": 489,
    "start_time": "2021-07-08T08:27:02.124Z"
   },
   {
    "duration": 392,
    "start_time": "2021-07-08T08:27:08.661Z"
   },
   {
    "duration": 925,
    "start_time": "2021-07-08T08:29:40.395Z"
   },
   {
    "duration": 707,
    "start_time": "2021-07-08T08:29:52.875Z"
   },
   {
    "duration": 798,
    "start_time": "2021-07-08T08:33:03.420Z"
   },
   {
    "duration": 1109,
    "start_time": "2021-07-08T08:33:23.506Z"
   },
   {
    "duration": 3046,
    "start_time": "2021-07-08T08:33:50.049Z"
   },
   {
    "duration": 1108,
    "start_time": "2021-07-08T08:34:07.114Z"
   },
   {
    "duration": 760,
    "start_time": "2021-07-08T08:34:46.131Z"
   },
   {
    "duration": 732,
    "start_time": "2021-07-08T08:34:55.007Z"
   },
   {
    "duration": 798,
    "start_time": "2021-07-08T08:36:13.847Z"
   },
   {
    "duration": 148,
    "start_time": "2021-07-08T08:36:22.678Z"
   },
   {
    "duration": 375,
    "start_time": "2021-07-08T08:36:25.854Z"
   },
   {
    "duration": 397,
    "start_time": "2021-07-08T08:38:34.697Z"
   },
   {
    "duration": 391,
    "start_time": "2021-07-08T08:38:44.156Z"
   },
   {
    "duration": 412,
    "start_time": "2021-07-08T08:39:16.773Z"
   },
   {
    "duration": 434,
    "start_time": "2021-07-08T08:41:00.569Z"
   },
   {
    "duration": 457,
    "start_time": "2021-07-08T08:41:17.541Z"
   },
   {
    "duration": 384,
    "start_time": "2021-07-08T08:42:59.991Z"
   },
   {
    "duration": 672,
    "start_time": "2021-07-08T08:43:46.979Z"
   },
   {
    "duration": 496,
    "start_time": "2021-07-08T08:44:06.340Z"
   },
   {
    "duration": 413,
    "start_time": "2021-07-08T08:45:00.063Z"
   },
   {
    "duration": 510,
    "start_time": "2021-07-08T08:51:35.178Z"
   },
   {
    "duration": 436,
    "start_time": "2021-07-08T08:51:53.346Z"
   },
   {
    "duration": 418,
    "start_time": "2021-07-08T08:52:12.498Z"
   },
   {
    "duration": 447,
    "start_time": "2021-07-08T08:52:45.306Z"
   },
   {
    "duration": 478,
    "start_time": "2021-07-08T08:54:24.745Z"
   },
   {
    "duration": 457,
    "start_time": "2021-07-08T08:54:31.138Z"
   },
   {
    "duration": 475,
    "start_time": "2021-07-08T08:54:40.553Z"
   },
   {
    "duration": 452,
    "start_time": "2021-07-08T08:54:47.720Z"
   },
   {
    "duration": 544,
    "start_time": "2021-07-08T08:54:54.091Z"
   },
   {
    "duration": 448,
    "start_time": "2021-07-08T08:55:13.195Z"
   },
   {
    "duration": 446,
    "start_time": "2021-07-08T08:55:26.577Z"
   },
   {
    "duration": 558,
    "start_time": "2021-07-08T08:55:35.809Z"
   },
   {
    "duration": 460,
    "start_time": "2021-07-08T08:55:46.707Z"
   },
   {
    "duration": 1070,
    "start_time": "2021-07-08T08:56:27.392Z"
   },
   {
    "duration": 750,
    "start_time": "2021-07-08T08:56:31.188Z"
   },
   {
    "duration": 450,
    "start_time": "2021-07-08T08:56:40.650Z"
   },
   {
    "duration": 493,
    "start_time": "2021-07-08T08:56:56.633Z"
   },
   {
    "duration": 5,
    "start_time": "2021-07-08T08:58:45.217Z"
   },
   {
    "duration": 6,
    "start_time": "2021-07-08T08:58:46.101Z"
   },
   {
    "duration": 7,
    "start_time": "2021-07-08T08:59:09.428Z"
   },
   {
    "duration": 3110,
    "start_time": "2021-07-08T08:59:09.438Z"
   },
   {
    "duration": 20,
    "start_time": "2021-07-08T08:59:12.551Z"
   },
   {
    "duration": 23,
    "start_time": "2021-07-08T08:59:12.575Z"
   },
   {
    "duration": 25,
    "start_time": "2021-07-08T08:59:12.601Z"
   },
   {
    "duration": 46,
    "start_time": "2021-07-08T08:59:12.628Z"
   },
   {
    "duration": 30,
    "start_time": "2021-07-08T08:59:12.678Z"
   },
   {
    "duration": 59,
    "start_time": "2021-07-08T08:59:12.713Z"
   },
   {
    "duration": 10,
    "start_time": "2021-07-08T08:59:12.777Z"
   },
   {
    "duration": 20,
    "start_time": "2021-07-08T08:59:12.791Z"
   },
   {
    "duration": 6,
    "start_time": "2021-07-08T08:59:12.814Z"
   },
   {
    "duration": 44,
    "start_time": "2021-07-08T08:59:12.823Z"
   },
   {
    "duration": 17,
    "start_time": "2021-07-08T08:59:12.870Z"
   },
   {
    "duration": 30,
    "start_time": "2021-07-08T08:59:12.891Z"
   },
   {
    "duration": 54,
    "start_time": "2021-07-08T08:59:12.924Z"
   },
   {
    "duration": 10,
    "start_time": "2021-07-08T08:59:12.981Z"
   },
   {
    "duration": 11,
    "start_time": "2021-07-08T08:59:12.994Z"
   },
   {
    "duration": 30,
    "start_time": "2021-07-08T08:59:13.008Z"
   },
   {
    "duration": 28,
    "start_time": "2021-07-08T08:59:13.040Z"
   },
   {
    "duration": 553,
    "start_time": "2021-07-08T08:59:13.071Z"
   },
   {
    "duration": 1325,
    "start_time": "2021-07-08T08:59:13.627Z"
   },
   {
    "duration": 15,
    "start_time": "2021-07-08T08:59:14.954Z"
   },
   {
    "duration": 11,
    "start_time": "2021-07-08T08:59:14.976Z"
   },
   {
    "duration": 12,
    "start_time": "2021-07-08T08:59:14.990Z"
   },
   {
    "duration": 9,
    "start_time": "2021-07-08T08:59:15.004Z"
   },
   {
    "duration": 9,
    "start_time": "2021-07-08T08:59:15.015Z"
   },
   {
    "duration": 10,
    "start_time": "2021-07-08T08:59:15.026Z"
   },
   {
    "duration": 39,
    "start_time": "2021-07-08T08:59:15.038Z"
   },
   {
    "duration": 551,
    "start_time": "2021-07-08T08:59:15.081Z"
   },
   {
    "duration": 6,
    "start_time": "2021-07-08T09:03:47.188Z"
   },
   {
    "duration": 3479,
    "start_time": "2021-07-08T09:03:47.197Z"
   },
   {
    "duration": 14,
    "start_time": "2021-07-08T09:03:50.681Z"
   },
   {
    "duration": 25,
    "start_time": "2021-07-08T09:03:50.700Z"
   },
   {
    "duration": 51,
    "start_time": "2021-07-08T09:03:50.728Z"
   },
   {
    "duration": 31,
    "start_time": "2021-07-08T09:03:50.782Z"
   },
   {
    "duration": 7,
    "start_time": "2021-07-08T09:03:50.815Z"
   },
   {
    "duration": 58,
    "start_time": "2021-07-08T09:03:50.828Z"
   },
   {
    "duration": 9,
    "start_time": "2021-07-08T09:03:50.891Z"
   },
   {
    "duration": 7,
    "start_time": "2021-07-08T09:03:50.903Z"
   },
   {
    "duration": 15,
    "start_time": "2021-07-08T09:03:50.913Z"
   },
   {
    "duration": 41,
    "start_time": "2021-07-08T09:03:50.931Z"
   },
   {
    "duration": 2135,
    "start_time": "2021-07-08T09:03:50.976Z"
   },
   {
    "duration": -302,
    "start_time": "2021-07-08T09:03:53.416Z"
   },
   {
    "duration": -315,
    "start_time": "2021-07-08T09:03:53.430Z"
   },
   {
    "duration": -317,
    "start_time": "2021-07-08T09:03:53.433Z"
   },
   {
    "duration": -329,
    "start_time": "2021-07-08T09:03:53.447Z"
   },
   {
    "duration": -335,
    "start_time": "2021-07-08T09:03:53.454Z"
   },
   {
    "duration": -345,
    "start_time": "2021-07-08T09:03:53.466Z"
   },
   {
    "duration": -360,
    "start_time": "2021-07-08T09:03:53.482Z"
   },
   {
    "duration": -373,
    "start_time": "2021-07-08T09:03:53.496Z"
   },
   {
    "duration": -378,
    "start_time": "2021-07-08T09:03:53.503Z"
   },
   {
    "duration": -388,
    "start_time": "2021-07-08T09:03:53.514Z"
   },
   {
    "duration": -393,
    "start_time": "2021-07-08T09:03:53.520Z"
   },
   {
    "duration": -425,
    "start_time": "2021-07-08T09:03:53.554Z"
   },
   {
    "duration": -439,
    "start_time": "2021-07-08T09:03:53.569Z"
   },
   {
    "duration": 26,
    "start_time": "2021-07-08T09:04:03.790Z"
   },
   {
    "duration": 22,
    "start_time": "2021-07-08T09:04:06.813Z"
   },
   {
    "duration": 7,
    "start_time": "2021-07-08T09:04:08.854Z"
   },
   {
    "duration": 9,
    "start_time": "2021-07-08T09:04:11.317Z"
   },
   {
    "duration": 34,
    "start_time": "2021-07-08T09:04:12.157Z"
   },
   {
    "duration": 8,
    "start_time": "2021-07-08T09:04:16.787Z"
   },
   {
    "duration": 5122,
    "start_time": "2021-07-08T09:04:16.799Z"
   },
   {
    "duration": 11,
    "start_time": "2021-07-08T09:04:21.925Z"
   },
   {
    "duration": 6,
    "start_time": "2021-07-08T09:04:22.411Z"
   },
   {
    "duration": 3695,
    "start_time": "2021-07-08T09:04:22.420Z"
   },
   {
    "duration": 12,
    "start_time": "2021-07-08T09:04:26.117Z"
   },
   {
    "duration": 51,
    "start_time": "2021-07-08T09:04:26.131Z"
   },
   {
    "duration": 20,
    "start_time": "2021-07-08T09:04:26.185Z"
   },
   {
    "duration": 25,
    "start_time": "2021-07-08T09:04:26.211Z"
   },
   {
    "duration": 34,
    "start_time": "2021-07-08T09:04:26.239Z"
   },
   {
    "duration": 29,
    "start_time": "2021-07-08T09:04:26.278Z"
   },
   {
    "duration": 7,
    "start_time": "2021-07-08T09:04:26.310Z"
   },
   {
    "duration": 10,
    "start_time": "2021-07-08T09:04:26.319Z"
   },
   {
    "duration": 49,
    "start_time": "2021-07-08T09:04:26.332Z"
   },
   {
    "duration": 7,
    "start_time": "2021-07-08T09:04:26.384Z"
   },
   {
    "duration": 34,
    "start_time": "2021-07-08T09:04:26.394Z"
   },
   {
    "duration": 47,
    "start_time": "2021-07-08T09:04:26.430Z"
   },
   {
    "duration": 9,
    "start_time": "2021-07-08T09:04:26.480Z"
   },
   {
    "duration": 20,
    "start_time": "2021-07-08T09:04:26.493Z"
   },
   {
    "duration": 27,
    "start_time": "2021-07-08T09:04:26.516Z"
   },
   {
    "duration": 8,
    "start_time": "2021-07-08T09:04:26.567Z"
   },
   {
    "duration": 549,
    "start_time": "2021-07-08T09:04:26.578Z"
   },
   {
    "duration": 1313,
    "start_time": "2021-07-08T09:04:27.129Z"
   },
   {
    "duration": 6,
    "start_time": "2021-07-08T09:04:28.444Z"
   },
   {
    "duration": 23,
    "start_time": "2021-07-08T09:04:28.452Z"
   },
   {
    "duration": 12,
    "start_time": "2021-07-08T09:04:28.480Z"
   },
   {
    "duration": 10,
    "start_time": "2021-07-08T09:04:28.496Z"
   },
   {
    "duration": 8,
    "start_time": "2021-07-08T09:04:28.508Z"
   },
   {
    "duration": 477,
    "start_time": "2021-07-08T09:04:28.519Z"
   },
   {
    "duration": 466,
    "start_time": "2021-07-08T09:11:29.354Z"
   },
   {
    "duration": 20,
    "start_time": "2021-07-08T09:12:09.683Z"
   },
   {
    "duration": 36,
    "start_time": "2021-07-08T09:12:35.760Z"
   },
   {
    "duration": 8,
    "start_time": "2021-07-08T09:12:54.457Z"
   },
   {
    "duration": 13,
    "start_time": "2021-07-08T09:12:58.649Z"
   },
   {
    "duration": 8,
    "start_time": "2021-07-08T09:13:37.649Z"
   },
   {
    "duration": 404,
    "start_time": "2021-07-08T09:33:07.191Z"
   },
   {
    "duration": 412,
    "start_time": "2021-07-08T09:33:34.957Z"
   },
   {
    "duration": 431,
    "start_time": "2021-07-08T09:33:44.788Z"
   },
   {
    "duration": 212,
    "start_time": "2021-07-08T09:37:15.373Z"
   },
   {
    "duration": 79,
    "start_time": "2021-07-08T09:38:15.239Z"
   },
   {
    "duration": 147,
    "start_time": "2021-07-08T09:38:39.445Z"
   },
   {
    "duration": 193,
    "start_time": "2021-07-08T09:39:49.620Z"
   },
   {
    "duration": 136,
    "start_time": "2021-07-08T09:40:42.204Z"
   },
   {
    "duration": 8,
    "start_time": "2021-07-08T11:41:43.511Z"
   },
   {
    "duration": 6,
    "start_time": "2021-07-08T11:41:50.065Z"
   },
   {
    "duration": 6613,
    "start_time": "2021-07-08T11:41:50.075Z"
   },
   {
    "duration": 11,
    "start_time": "2021-07-08T11:41:56.691Z"
   },
   {
    "duration": 25,
    "start_time": "2021-07-08T11:41:56.705Z"
   },
   {
    "duration": 40,
    "start_time": "2021-07-08T11:41:56.733Z"
   },
   {
    "duration": 25,
    "start_time": "2021-07-08T11:41:56.775Z"
   },
   {
    "duration": 90,
    "start_time": "2021-07-08T11:41:56.802Z"
   },
   {
    "duration": 141,
    "start_time": "2021-07-08T11:41:56.897Z"
   },
   {
    "duration": 195,
    "start_time": "2021-07-08T11:41:57.041Z"
   },
   {
    "duration": 146,
    "start_time": "2021-07-08T11:41:57.239Z"
   },
   {
    "duration": 9,
    "start_time": "2021-07-08T11:41:57.389Z"
   },
   {
    "duration": 23,
    "start_time": "2021-07-08T11:41:57.401Z"
   },
   {
    "duration": 7,
    "start_time": "2021-07-08T11:41:57.427Z"
   },
   {
    "duration": 4,
    "start_time": "2021-07-08T11:41:57.468Z"
   },
   {
    "duration": 9,
    "start_time": "2021-07-08T11:41:57.474Z"
   },
   {
    "duration": 5,
    "start_time": "2021-07-08T11:41:57.485Z"
   },
   {
    "duration": 33,
    "start_time": "2021-07-08T11:41:57.492Z"
   },
   {
    "duration": 6,
    "start_time": "2021-07-08T11:41:57.528Z"
   },
   {
    "duration": 8,
    "start_time": "2021-07-08T11:41:57.568Z"
   },
   {
    "duration": 18,
    "start_time": "2021-07-08T11:41:57.579Z"
   },
   {
    "duration": 25,
    "start_time": "2021-07-08T11:41:57.599Z"
   },
   {
    "duration": 10,
    "start_time": "2021-07-08T11:41:57.627Z"
   },
   {
    "duration": 10,
    "start_time": "2021-07-08T11:41:57.669Z"
   },
   {
    "duration": 4,
    "start_time": "2021-07-08T11:41:57.682Z"
   },
   {
    "duration": 423,
    "start_time": "2021-07-08T11:41:57.688Z"
   },
   {
    "duration": -370,
    "start_time": "2021-07-08T11:41:58.484Z"
   },
   {
    "duration": -375,
    "start_time": "2021-07-08T11:41:58.490Z"
   },
   {
    "duration": -377,
    "start_time": "2021-07-08T11:41:58.494Z"
   },
   {
    "duration": -379,
    "start_time": "2021-07-08T11:41:58.497Z"
   },
   {
    "duration": -381,
    "start_time": "2021-07-08T11:41:58.500Z"
   },
   {
    "duration": -382,
    "start_time": "2021-07-08T11:41:58.503Z"
   },
   {
    "duration": -383,
    "start_time": "2021-07-08T11:41:58.506Z"
   },
   {
    "duration": -385,
    "start_time": "2021-07-08T11:41:58.509Z"
   },
   {
    "duration": -387,
    "start_time": "2021-07-08T11:41:58.512Z"
   },
   {
    "duration": 4,
    "start_time": "2021-07-08T11:43:13.732Z"
   },
   {
    "duration": 4,
    "start_time": "2021-07-08T11:43:25.986Z"
   },
   {
    "duration": 5,
    "start_time": "2021-07-08T11:43:39.138Z"
   },
   {
    "duration": 4,
    "start_time": "2021-07-08T11:43:50.714Z"
   },
   {
    "duration": 4,
    "start_time": "2021-07-08T11:44:09.850Z"
   },
   {
    "duration": 4,
    "start_time": "2021-07-08T11:44:25.282Z"
   },
   {
    "duration": 33,
    "start_time": "2021-07-08T11:44:31.878Z"
   },
   {
    "duration": 347,
    "start_time": "2021-07-08T11:44:39.944Z"
   },
   {
    "duration": 27,
    "start_time": "2021-07-08T11:44:58.986Z"
   },
   {
    "duration": 33,
    "start_time": "2021-07-08T11:45:02.306Z"
   },
   {
    "duration": 13,
    "start_time": "2021-07-08T12:01:08.891Z"
   },
   {
    "duration": 9,
    "start_time": "2021-07-08T12:01:10.091Z"
   },
   {
    "duration": 7,
    "start_time": "2021-07-08T12:01:10.980Z"
   },
   {
    "duration": 8,
    "start_time": "2021-07-08T12:01:11.891Z"
   },
   {
    "duration": 412,
    "start_time": "2021-07-08T12:01:37.698Z"
   },
   {
    "duration": 340,
    "start_time": "2021-07-08T12:01:48.819Z"
   },
   {
    "duration": 6,
    "start_time": "2021-07-08T12:01:53.680Z"
   },
   {
    "duration": 3644,
    "start_time": "2021-07-08T12:01:53.689Z"
   },
   {
    "duration": 11,
    "start_time": "2021-07-08T12:01:57.335Z"
   },
   {
    "duration": 42,
    "start_time": "2021-07-08T12:01:57.349Z"
   },
   {
    "duration": 17,
    "start_time": "2021-07-08T12:01:57.393Z"
   },
   {
    "duration": 25,
    "start_time": "2021-07-08T12:01:57.412Z"
   },
   {
    "duration": 68,
    "start_time": "2021-07-08T12:01:57.468Z"
   },
   {
    "duration": 148,
    "start_time": "2021-07-08T12:01:57.540Z"
   },
   {
    "duration": 202,
    "start_time": "2021-07-08T12:01:57.692Z"
   },
   {
    "duration": 143,
    "start_time": "2021-07-08T12:01:57.897Z"
   },
   {
    "duration": 7,
    "start_time": "2021-07-08T12:01:58.042Z"
   },
   {
    "duration": 39,
    "start_time": "2021-07-08T12:01:58.052Z"
   },
   {
    "duration": 7,
    "start_time": "2021-07-08T12:01:58.093Z"
   },
   {
    "duration": 17,
    "start_time": "2021-07-08T12:01:58.102Z"
   },
   {
    "duration": 29,
    "start_time": "2021-07-08T12:01:58.122Z"
   },
   {
    "duration": 18,
    "start_time": "2021-07-08T12:01:58.153Z"
   },
   {
    "duration": 33,
    "start_time": "2021-07-08T12:01:58.174Z"
   },
   {
    "duration": 10,
    "start_time": "2021-07-08T12:01:58.210Z"
   },
   {
    "duration": 22,
    "start_time": "2021-07-08T12:01:58.223Z"
   },
   {
    "duration": 20,
    "start_time": "2021-07-08T12:01:58.248Z"
   },
   {
    "duration": 39,
    "start_time": "2021-07-08T12:01:58.271Z"
   },
   {
    "duration": 13,
    "start_time": "2021-07-08T12:01:58.313Z"
   },
   {
    "duration": 13,
    "start_time": "2021-07-08T12:01:58.330Z"
   },
   {
    "duration": 26,
    "start_time": "2021-07-08T12:01:58.345Z"
   },
   {
    "duration": 24,
    "start_time": "2021-07-08T12:01:58.374Z"
   },
   {
    "duration": 381,
    "start_time": "2021-07-08T12:01:58.400Z"
   },
   {
    "duration": -338,
    "start_time": "2021-07-08T12:01:59.122Z"
   },
   {
    "duration": -350,
    "start_time": "2021-07-08T12:01:59.135Z"
   },
   {
    "duration": -363,
    "start_time": "2021-07-08T12:01:59.150Z"
   },
   {
    "duration": -373,
    "start_time": "2021-07-08T12:01:59.161Z"
   },
   {
    "duration": -376,
    "start_time": "2021-07-08T12:01:59.166Z"
   },
   {
    "duration": -378,
    "start_time": "2021-07-08T12:01:59.169Z"
   },
   {
    "duration": -380,
    "start_time": "2021-07-08T12:01:59.173Z"
   },
   {
    "duration": -383,
    "start_time": "2021-07-08T12:01:59.177Z"
   },
   {
    "duration": -384,
    "start_time": "2021-07-08T12:01:59.180Z"
   },
   {
    "duration": -388,
    "start_time": "2021-07-08T12:01:59.185Z"
   },
   {
    "duration": -390,
    "start_time": "2021-07-08T12:01:59.188Z"
   },
   {
    "duration": -391,
    "start_time": "2021-07-08T12:01:59.191Z"
   },
   {
    "duration": -393,
    "start_time": "2021-07-08T12:01:59.195Z"
   },
   {
    "duration": 47,
    "start_time": "2021-07-08T12:02:14.891Z"
   },
   {
    "duration": 355,
    "start_time": "2021-07-08T12:02:36.989Z"
   },
   {
    "duration": 6,
    "start_time": "2021-07-08T12:02:41.691Z"
   },
   {
    "duration": 5,
    "start_time": "2021-07-08T12:02:59.589Z"
   },
   {
    "duration": 6,
    "start_time": "2021-07-08T12:03:05.778Z"
   },
   {
    "duration": 4,
    "start_time": "2021-07-08T12:03:06.017Z"
   },
   {
    "duration": 11,
    "start_time": "2021-07-08T12:03:15.265Z"
   },
   {
    "duration": 7,
    "start_time": "2021-07-08T12:03:16.146Z"
   },
   {
    "duration": 8,
    "start_time": "2021-07-08T12:03:16.728Z"
   },
   {
    "duration": 6,
    "start_time": "2021-07-08T12:03:25.098Z"
   },
   {
    "duration": 7,
    "start_time": "2021-07-08T12:04:35.864Z"
   },
   {
    "duration": 3345,
    "start_time": "2021-07-08T12:04:35.875Z"
   },
   {
    "duration": 11,
    "start_time": "2021-07-08T12:04:39.223Z"
   },
   {
    "duration": 50,
    "start_time": "2021-07-08T12:04:39.236Z"
   },
   {
    "duration": 15,
    "start_time": "2021-07-08T12:04:39.288Z"
   },
   {
    "duration": 24,
    "start_time": "2021-07-08T12:04:39.306Z"
   },
   {
    "duration": 92,
    "start_time": "2021-07-08T12:04:39.333Z"
   },
   {
    "duration": 155,
    "start_time": "2021-07-08T12:04:39.429Z"
   },
   {
    "duration": 200,
    "start_time": "2021-07-08T12:04:39.588Z"
   },
   {
    "duration": 145,
    "start_time": "2021-07-08T12:04:39.791Z"
   },
   {
    "duration": 7,
    "start_time": "2021-07-08T12:04:39.938Z"
   },
   {
    "duration": 38,
    "start_time": "2021-07-08T12:04:39.948Z"
   },
   {
    "duration": 7,
    "start_time": "2021-07-08T12:04:39.988Z"
   },
   {
    "duration": 9,
    "start_time": "2021-07-08T12:04:39.997Z"
   },
   {
    "duration": 17,
    "start_time": "2021-07-08T12:04:40.008Z"
   },
   {
    "duration": 7,
    "start_time": "2021-07-08T12:04:40.027Z"
   },
   {
    "duration": 54,
    "start_time": "2021-07-08T12:04:40.037Z"
   },
   {
    "duration": 7,
    "start_time": "2021-07-08T12:04:40.093Z"
   },
   {
    "duration": 14,
    "start_time": "2021-07-08T12:04:40.103Z"
   },
   {
    "duration": 16,
    "start_time": "2021-07-08T12:04:40.120Z"
   },
   {
    "duration": 47,
    "start_time": "2021-07-08T12:04:40.139Z"
   },
   {
    "duration": 13,
    "start_time": "2021-07-08T12:04:40.189Z"
   },
   {
    "duration": 6,
    "start_time": "2021-07-08T12:04:40.207Z"
   },
   {
    "duration": 8,
    "start_time": "2021-07-08T12:04:40.215Z"
   },
   {
    "duration": 48,
    "start_time": "2021-07-08T12:04:40.225Z"
   },
   {
    "duration": 13,
    "start_time": "2021-07-08T12:04:40.276Z"
   },
   {
    "duration": 12,
    "start_time": "2021-07-08T12:04:40.291Z"
   },
   {
    "duration": 4,
    "start_time": "2021-07-08T12:04:40.306Z"
   },
   {
    "duration": 32,
    "start_time": "2021-07-08T12:04:40.312Z"
   },
   {
    "duration": 321,
    "start_time": "2021-07-08T12:04:40.346Z"
   },
   {
    "duration": 41,
    "start_time": "2021-07-08T12:04:40.671Z"
   },
   {
    "duration": 557,
    "start_time": "2021-07-08T12:04:40.715Z"
   },
   {
    "duration": 1359,
    "start_time": "2021-07-08T12:04:41.275Z"
   },
   {
    "duration": 6,
    "start_time": "2021-07-08T12:04:42.637Z"
   },
   {
    "duration": 26,
    "start_time": "2021-07-08T12:04:42.645Z"
   },
   {
    "duration": 15,
    "start_time": "2021-07-08T12:04:42.675Z"
   },
   {
    "duration": 32,
    "start_time": "2021-07-08T12:04:42.693Z"
   },
   {
    "duration": 12,
    "start_time": "2021-07-08T12:04:42.727Z"
   },
   {
    "duration": 435,
    "start_time": "2021-07-08T12:04:42.742Z"
   },
   {
    "duration": 463,
    "start_time": "2021-07-08T12:04:43.182Z"
   },
   {
    "duration": 39,
    "start_time": "2021-07-08T12:09:20.968Z"
   },
   {
    "duration": 416,
    "start_time": "2021-07-08T12:38:32.705Z"
   },
   {
    "duration": 6,
    "start_time": "2021-07-08T12:38:41.317Z"
   },
   {
    "duration": 3593,
    "start_time": "2021-07-08T12:38:41.327Z"
   },
   {
    "duration": 10,
    "start_time": "2021-07-08T12:38:44.923Z"
   },
   {
    "duration": 53,
    "start_time": "2021-07-08T12:38:44.936Z"
   },
   {
    "duration": 17,
    "start_time": "2021-07-08T12:38:44.991Z"
   },
   {
    "duration": 26,
    "start_time": "2021-07-08T12:38:45.010Z"
   },
   {
    "duration": 63,
    "start_time": "2021-07-08T12:38:45.068Z"
   },
   {
    "duration": 132,
    "start_time": "2021-07-08T12:38:45.135Z"
   },
   {
    "duration": 184,
    "start_time": "2021-07-08T12:38:45.271Z"
   },
   {
    "duration": 144,
    "start_time": "2021-07-08T12:38:45.457Z"
   },
   {
    "duration": 8,
    "start_time": "2021-07-08T12:38:45.603Z"
   },
   {
    "duration": 27,
    "start_time": "2021-07-08T12:38:45.614Z"
   },
   {
    "duration": 7,
    "start_time": "2021-07-08T12:38:45.643Z"
   },
   {
    "duration": 7,
    "start_time": "2021-07-08T12:38:45.653Z"
   },
   {
    "duration": 12,
    "start_time": "2021-07-08T12:38:45.662Z"
   },
   {
    "duration": 6,
    "start_time": "2021-07-08T12:38:45.677Z"
   },
   {
    "duration": 25,
    "start_time": "2021-07-08T12:38:45.686Z"
   },
   {
    "duration": 6,
    "start_time": "2021-07-08T12:38:45.714Z"
   },
   {
    "duration": 10,
    "start_time": "2021-07-08T12:38:45.723Z"
   },
   {
    "duration": 17,
    "start_time": "2021-07-08T12:38:45.735Z"
   },
   {
    "duration": 32,
    "start_time": "2021-07-08T12:38:45.754Z"
   },
   {
    "duration": 10,
    "start_time": "2021-07-08T12:38:45.789Z"
   },
   {
    "duration": 1933,
    "start_time": "2021-07-08T12:38:45.804Z"
   },
   {
    "duration": -1517,
    "start_time": "2021-07-08T12:38:49.256Z"
   },
   {
    "duration": -1520,
    "start_time": "2021-07-08T12:38:49.261Z"
   },
   {
    "duration": -1522,
    "start_time": "2021-07-08T12:38:49.264Z"
   },
   {
    "duration": -1552,
    "start_time": "2021-07-08T12:38:49.295Z"
   },
   {
    "duration": -1599,
    "start_time": "2021-07-08T12:38:49.344Z"
   },
   {
    "duration": -1601,
    "start_time": "2021-07-08T12:38:49.348Z"
   },
   {
    "duration": -1605,
    "start_time": "2021-07-08T12:38:49.353Z"
   },
   {
    "duration": -1608,
    "start_time": "2021-07-08T12:38:49.357Z"
   },
   {
    "duration": -1611,
    "start_time": "2021-07-08T12:38:49.361Z"
   },
   {
    "duration": -1612,
    "start_time": "2021-07-08T12:38:49.364Z"
   },
   {
    "duration": -1614,
    "start_time": "2021-07-08T12:38:49.367Z"
   },
   {
    "duration": -1617,
    "start_time": "2021-07-08T12:38:49.372Z"
   },
   {
    "duration": -1619,
    "start_time": "2021-07-08T12:38:49.376Z"
   },
   {
    "duration": -1621,
    "start_time": "2021-07-08T12:38:49.379Z"
   },
   {
    "duration": 6,
    "start_time": "2021-07-08T12:49:57.184Z"
   },
   {
    "duration": 8588,
    "start_time": "2021-07-08T12:49:57.192Z"
   },
   {
    "duration": 12,
    "start_time": "2021-07-08T12:50:05.783Z"
   },
   {
    "duration": 36,
    "start_time": "2021-07-08T12:50:05.797Z"
   },
   {
    "duration": 36,
    "start_time": "2021-07-08T12:50:05.836Z"
   },
   {
    "duration": 41,
    "start_time": "2021-07-08T12:50:05.875Z"
   },
   {
    "duration": 68,
    "start_time": "2021-07-08T12:50:05.919Z"
   },
   {
    "duration": 141,
    "start_time": "2021-07-08T12:50:05.990Z"
   },
   {
    "duration": 227,
    "start_time": "2021-07-08T12:50:06.134Z"
   },
   {
    "duration": 130,
    "start_time": "2021-07-08T12:50:06.363Z"
   },
   {
    "duration": 7,
    "start_time": "2021-07-08T12:50:06.495Z"
   },
   {
    "duration": 32,
    "start_time": "2021-07-08T12:50:06.504Z"
   },
   {
    "duration": 7,
    "start_time": "2021-07-08T12:50:06.538Z"
   },
   {
    "duration": 27,
    "start_time": "2021-07-08T12:50:06.547Z"
   },
   {
    "duration": 16,
    "start_time": "2021-07-08T12:50:06.576Z"
   },
   {
    "duration": 8,
    "start_time": "2021-07-08T12:50:11.952Z"
   },
   {
    "duration": 392,
    "start_time": "2021-07-08T12:51:44.579Z"
   },
   {
    "duration": 21,
    "start_time": "2021-07-08T12:52:06.498Z"
   },
   {
    "duration": 9,
    "start_time": "2021-07-08T12:52:08.427Z"
   },
   {
    "duration": 17,
    "start_time": "2021-07-08T12:53:46.473Z"
   },
   {
    "duration": 11,
    "start_time": "2021-07-08T12:54:59.300Z"
   },
   {
    "duration": 377,
    "start_time": "2021-07-08T12:55:00.432Z"
   },
   {
    "duration": 7,
    "start_time": "2021-07-08T12:55:23.440Z"
   },
   {
    "duration": 2599,
    "start_time": "2021-07-08T12:56:33.848Z"
   },
   {
    "duration": 321,
    "start_time": "2021-07-08T12:57:06.328Z"
   },
   {
    "duration": 9,
    "start_time": "2021-07-08T12:57:15.152Z"
   },
   {
    "duration": 5,
    "start_time": "2021-07-08T12:58:07.161Z"
   },
   {
    "duration": 2638,
    "start_time": "2021-07-08T12:58:07.171Z"
   },
   {
    "duration": 13,
    "start_time": "2021-07-08T12:58:09.812Z"
   },
   {
    "duration": 49,
    "start_time": "2021-07-08T12:58:09.829Z"
   },
   {
    "duration": 22,
    "start_time": "2021-07-08T12:58:09.881Z"
   },
   {
    "duration": 26,
    "start_time": "2021-07-08T12:58:09.905Z"
   },
   {
    "duration": 73,
    "start_time": "2021-07-08T12:58:09.969Z"
   },
   {
    "duration": 148,
    "start_time": "2021-07-08T12:58:10.045Z"
   },
   {
    "duration": 200,
    "start_time": "2021-07-08T12:58:10.195Z"
   },
   {
    "duration": 147,
    "start_time": "2021-07-08T12:58:10.397Z"
   },
   {
    "duration": 6,
    "start_time": "2021-07-08T12:58:10.547Z"
   },
   {
    "duration": 33,
    "start_time": "2021-07-08T12:58:10.555Z"
   },
   {
    "duration": 6,
    "start_time": "2021-07-08T12:58:10.591Z"
   },
   {
    "duration": 10,
    "start_time": "2021-07-08T12:58:10.600Z"
   },
   {
    "duration": 6,
    "start_time": "2021-07-08T12:58:10.613Z"
   },
   {
    "duration": 49,
    "start_time": "2021-07-08T12:58:10.622Z"
   },
   {
    "duration": 22,
    "start_time": "2021-07-08T12:58:10.674Z"
   },
   {
    "duration": 8,
    "start_time": "2021-07-08T12:58:10.698Z"
   },
   {
    "duration": 7,
    "start_time": "2021-07-08T12:58:10.711Z"
   },
   {
    "duration": 64,
    "start_time": "2021-07-08T12:58:10.721Z"
   },
   {
    "duration": 20,
    "start_time": "2021-07-08T12:58:10.788Z"
   },
   {
    "duration": 14,
    "start_time": "2021-07-08T12:58:10.810Z"
   },
   {
    "duration": 40,
    "start_time": "2021-07-08T12:58:10.827Z"
   },
   {
    "duration": 376,
    "start_time": "2021-07-08T12:58:36.727Z"
   },
   {
    "duration": 6,
    "start_time": "2021-07-08T12:58:40.207Z"
   },
   {
    "duration": 6,
    "start_time": "2021-07-08T12:58:47.754Z"
   },
   {
    "duration": 20,
    "start_time": "2021-07-08T13:00:25.694Z"
   },
   {
    "duration": 26,
    "start_time": "2021-07-08T13:00:30.879Z"
   },
   {
    "duration": 17,
    "start_time": "2021-07-08T13:00:52.327Z"
   },
   {
    "duration": 25,
    "start_time": "2021-07-08T13:00:54.614Z"
   },
   {
    "duration": 13,
    "start_time": "2021-07-08T13:00:58.046Z"
   },
   {
    "duration": 6,
    "start_time": "2021-07-08T13:01:10.324Z"
   },
   {
    "duration": 2690,
    "start_time": "2021-07-08T13:01:10.332Z"
   },
   {
    "duration": 11,
    "start_time": "2021-07-08T13:01:13.025Z"
   },
   {
    "duration": 40,
    "start_time": "2021-07-08T13:01:13.039Z"
   },
   {
    "duration": 17,
    "start_time": "2021-07-08T13:01:13.082Z"
   },
   {
    "duration": 25,
    "start_time": "2021-07-08T13:01:13.102Z"
   },
   {
    "duration": 103,
    "start_time": "2021-07-08T13:01:13.129Z"
   },
   {
    "duration": 157,
    "start_time": "2021-07-08T13:01:13.236Z"
   },
   {
    "duration": 200,
    "start_time": "2021-07-08T13:01:13.396Z"
   },
   {
    "duration": 147,
    "start_time": "2021-07-08T13:01:13.599Z"
   },
   {
    "duration": 19,
    "start_time": "2021-07-08T13:01:13.749Z"
   },
   {
    "duration": 23,
    "start_time": "2021-07-08T13:01:13.772Z"
   },
   {
    "duration": 7,
    "start_time": "2021-07-08T13:01:13.798Z"
   },
   {
    "duration": 9,
    "start_time": "2021-07-08T13:01:13.807Z"
   },
   {
    "duration": 22,
    "start_time": "2021-07-08T13:01:13.818Z"
   },
   {
    "duration": 8,
    "start_time": "2021-07-08T13:01:13.868Z"
   },
   {
    "duration": 36,
    "start_time": "2021-07-08T13:01:13.878Z"
   },
   {
    "duration": 15,
    "start_time": "2021-07-08T13:01:13.916Z"
   },
   {
    "duration": 12,
    "start_time": "2021-07-08T13:01:13.933Z"
   },
   {
    "duration": 44,
    "start_time": "2021-07-08T13:01:13.947Z"
   },
   {
    "duration": 17,
    "start_time": "2021-07-08T13:01:13.994Z"
   },
   {
    "duration": 14,
    "start_time": "2021-07-08T13:01:14.013Z"
   },
   {
    "duration": 40,
    "start_time": "2021-07-08T13:01:14.034Z"
   },
   {
    "duration": 15,
    "start_time": "2021-07-08T13:01:14.079Z"
   },
   {
    "duration": 9,
    "start_time": "2021-07-08T13:01:14.097Z"
   },
   {
    "duration": 4,
    "start_time": "2021-07-08T13:02:04.663Z"
   },
   {
    "duration": 21,
    "start_time": "2021-07-08T13:02:05.590Z"
   },
   {
    "duration": 210,
    "start_time": "2021-07-08T13:02:06.718Z"
   },
   {
    "duration": 32,
    "start_time": "2021-07-08T13:02:07.614Z"
   },
   {
    "duration": 1212,
    "start_time": "2021-07-08T13:03:37.645Z"
   },
   {
    "duration": 501,
    "start_time": "2021-07-08T13:03:51.009Z"
   },
   {
    "duration": 9437,
    "start_time": "2021-07-08T13:12:22.958Z"
   },
   {
    "duration": -372,
    "start_time": "2021-07-08T13:12:32.771Z"
   },
   {
    "duration": 11,
    "start_time": "2021-07-08T13:12:35.493Z"
   },
   {
    "duration": 411,
    "start_time": "2021-07-08T13:12:38.189Z"
   },
   {
    "duration": 9253,
    "start_time": "2021-07-08T13:13:31.390Z"
   },
   {
    "duration": 12,
    "start_time": "2021-07-08T13:15:05.892Z"
   },
   {
    "duration": 316,
    "start_time": "2021-07-08T13:15:08.043Z"
   },
   {
    "duration": 340,
    "start_time": "2021-07-08T13:15:27.915Z"
   },
   {
    "duration": 16,
    "start_time": "2021-07-08T13:15:48.564Z"
   },
   {
    "duration": 12,
    "start_time": "2021-07-08T13:15:59.459Z"
   },
   {
    "duration": 12,
    "start_time": "2021-07-08T13:16:21.780Z"
   },
   {
    "duration": 12,
    "start_time": "2021-07-08T13:16:22.554Z"
   },
   {
    "duration": 7,
    "start_time": "2021-07-08T13:17:15.382Z"
   },
   {
    "duration": 12,
    "start_time": "2021-07-08T13:17:17.043Z"
   },
   {
    "duration": 5,
    "start_time": "2021-07-08T13:17:28.451Z"
   },
   {
    "duration": 14,
    "start_time": "2021-07-08T13:17:30.906Z"
   },
   {
    "duration": 310,
    "start_time": "2021-07-08T13:17:49.986Z"
   },
   {
    "duration": 250,
    "start_time": "2021-07-08T13:22:16.972Z"
   },
   {
    "duration": 6,
    "start_time": "2021-07-08T13:37:53.559Z"
   },
   {
    "duration": 12,
    "start_time": "2021-07-08T13:37:54.126Z"
   },
   {
    "duration": 205,
    "start_time": "2021-07-08T13:37:54.999Z"
   },
   {
    "duration": 7,
    "start_time": "2021-07-08T13:39:10.085Z"
   },
   {
    "duration": 12,
    "start_time": "2021-07-08T13:39:30.518Z"
   },
   {
    "duration": 239,
    "start_time": "2021-07-08T13:39:33.166Z"
   },
   {
    "duration": 33,
    "start_time": "2021-07-08T13:45:54.043Z"
   },
   {
    "duration": 7,
    "start_time": "2021-07-08T13:46:19.141Z"
   },
   {
    "duration": 312,
    "start_time": "2021-07-08T13:46:40.458Z"
   },
   {
    "duration": 8,
    "start_time": "2021-07-08T13:46:45.332Z"
   },
   {
    "duration": 8,
    "start_time": "2021-07-08T13:46:53.587Z"
   },
   {
    "duration": 25,
    "start_time": "2021-07-08T13:47:03.426Z"
   },
   {
    "duration": 12,
    "start_time": "2021-07-08T13:47:06.757Z"
   },
   {
    "duration": 2957,
    "start_time": "2021-07-08T13:47:28.645Z"
   },
   {
    "duration": 11,
    "start_time": "2021-07-08T13:47:37.402Z"
   },
   {
    "duration": 8,
    "start_time": "2021-07-08T13:47:57.548Z"
   },
   {
    "duration": 33,
    "start_time": "2021-07-08T13:48:09.332Z"
   },
   {
    "duration": 2727,
    "start_time": "2021-07-08T13:50:08.132Z"
   },
   {
    "duration": 32,
    "start_time": "2021-07-08T13:50:17.799Z"
   },
   {
    "duration": 10,
    "start_time": "2021-07-08T13:52:30.938Z"
   },
   {
    "duration": 7,
    "start_time": "2021-07-08T13:52:35.858Z"
   },
   {
    "duration": 321,
    "start_time": "2021-07-08T13:52:42.585Z"
   },
   {
    "duration": 22,
    "start_time": "2021-07-08T13:53:48.169Z"
   },
   {
    "duration": 368,
    "start_time": "2021-07-08T13:54:19.377Z"
   },
   {
    "duration": 8,
    "start_time": "2021-07-08T13:54:23.113Z"
   },
   {
    "duration": 19,
    "start_time": "2021-07-08T13:54:31.106Z"
   },
   {
    "duration": 7,
    "start_time": "2021-07-08T14:41:32.256Z"
   },
   {
    "duration": 6,
    "start_time": "2021-07-08T14:41:32.874Z"
   },
   {
    "duration": 6,
    "start_time": "2021-07-08T14:41:33.242Z"
   },
   {
    "duration": 6,
    "start_time": "2021-07-08T14:41:33.603Z"
   },
   {
    "duration": 5,
    "start_time": "2021-07-08T14:41:34.130Z"
   },
   {
    "duration": 425,
    "start_time": "2021-07-08T14:41:34.467Z"
   },
   {
    "duration": 7,
    "start_time": "2021-07-08T14:42:12.973Z"
   },
   {
    "duration": 7,
    "start_time": "2021-07-08T14:42:13.474Z"
   },
   {
    "duration": 10,
    "start_time": "2021-07-08T14:42:13.907Z"
   },
   {
    "duration": 8,
    "start_time": "2021-07-08T14:42:14.362Z"
   },
   {
    "duration": 5,
    "start_time": "2021-07-08T14:42:14.809Z"
   },
   {
    "duration": 403,
    "start_time": "2021-07-08T14:42:15.450Z"
   },
   {
    "duration": 6,
    "start_time": "2021-07-08T14:42:51.523Z"
   },
   {
    "duration": 416,
    "start_time": "2021-07-08T14:42:56.930Z"
   },
   {
    "duration": 335,
    "start_time": "2021-07-08T14:43:54.664Z"
   },
   {
    "duration": 11,
    "start_time": "2021-07-08T14:44:25.128Z"
   },
   {
    "duration": 12,
    "start_time": "2021-07-08T14:44:36.647Z"
   },
   {
    "duration": 12,
    "start_time": "2021-07-08T14:45:08.063Z"
   },
   {
    "duration": 12,
    "start_time": "2021-07-08T14:45:24.423Z"
   },
   {
    "duration": 13,
    "start_time": "2021-07-08T14:46:09.192Z"
   },
   {
    "duration": 14,
    "start_time": "2021-07-08T14:46:47.168Z"
   },
   {
    "duration": 13,
    "start_time": "2021-07-08T14:47:04.408Z"
   },
   {
    "duration": 960,
    "start_time": "2021-07-08T14:47:04.497Z"
   },
   {
    "duration": 15,
    "start_time": "2021-07-08T14:47:11.490Z"
   },
   {
    "duration": 13,
    "start_time": "2021-07-08T14:47:20.431Z"
   },
   {
    "duration": 6,
    "start_time": "2021-07-08T15:00:21.304Z"
   },
   {
    "duration": 7,
    "start_time": "2021-07-09T09:05:29.845Z"
   },
   {
    "duration": 1635,
    "start_time": "2021-07-09T09:08:01.185Z"
   },
   {
    "duration": 2319,
    "start_time": "2021-07-09T09:08:02.822Z"
   },
   {
    "duration": 22,
    "start_time": "2021-07-09T09:08:05.145Z"
   },
   {
    "duration": 54,
    "start_time": "2021-07-09T09:08:05.171Z"
   },
   {
    "duration": 26,
    "start_time": "2021-07-09T09:08:05.228Z"
   },
   {
    "duration": 69,
    "start_time": "2021-07-09T09:08:05.257Z"
   },
   {
    "duration": 62,
    "start_time": "2021-07-09T09:08:05.329Z"
   },
   {
    "duration": 157,
    "start_time": "2021-07-09T09:08:05.394Z"
   },
   {
    "duration": 209,
    "start_time": "2021-07-09T09:08:05.555Z"
   },
   {
    "duration": 157,
    "start_time": "2021-07-09T09:08:05.766Z"
   },
   {
    "duration": 18,
    "start_time": "2021-07-09T09:08:05.926Z"
   },
   {
    "duration": 53,
    "start_time": "2021-07-09T09:08:05.946Z"
   },
   {
    "duration": 56,
    "start_time": "2021-07-09T09:08:06.002Z"
   },
   {
    "duration": 36,
    "start_time": "2021-07-09T09:08:06.061Z"
   },
   {
    "duration": 41,
    "start_time": "2021-07-09T09:08:06.099Z"
   },
   {
    "duration": 26,
    "start_time": "2021-07-09T09:08:06.143Z"
   },
   {
    "duration": 28,
    "start_time": "2021-07-09T09:08:06.171Z"
   },
   {
    "duration": 18,
    "start_time": "2021-07-09T09:08:06.202Z"
   },
   {
    "duration": 21,
    "start_time": "2021-07-09T09:08:06.223Z"
   },
   {
    "duration": 41,
    "start_time": "2021-07-09T09:08:06.247Z"
   },
   {
    "duration": 26,
    "start_time": "2021-07-09T09:08:06.291Z"
   },
   {
    "duration": 15,
    "start_time": "2021-07-09T09:08:06.322Z"
   },
   {
    "duration": 17,
    "start_time": "2021-07-09T09:08:06.344Z"
   },
   {
    "duration": 15,
    "start_time": "2021-07-09T09:08:06.364Z"
   },
   {
    "duration": 29,
    "start_time": "2021-07-09T09:08:06.382Z"
   },
   {
    "duration": 33,
    "start_time": "2021-07-09T09:08:06.414Z"
   },
   {
    "duration": 43,
    "start_time": "2021-07-09T09:08:06.450Z"
   },
   {
    "duration": 253,
    "start_time": "2021-07-09T09:08:06.495Z"
   },
   {
    "duration": 29,
    "start_time": "2021-07-09T09:08:06.750Z"
   },
   {
    "duration": 552,
    "start_time": "2021-07-09T09:08:06.781Z"
   },
   {
    "duration": 1227,
    "start_time": "2021-07-09T09:08:07.336Z"
   },
   {
    "duration": 6,
    "start_time": "2021-07-09T09:08:08.565Z"
   },
   {
    "duration": 21,
    "start_time": "2021-07-09T09:08:08.573Z"
   },
   {
    "duration": 264,
    "start_time": "2021-07-09T09:08:08.614Z"
   },
   {
    "duration": 7,
    "start_time": "2021-07-09T09:08:08.880Z"
   },
   {
    "duration": 36,
    "start_time": "2021-07-09T09:08:08.890Z"
   },
   {
    "duration": 391,
    "start_time": "2021-07-09T09:08:08.929Z"
   },
   {
    "duration": 8,
    "start_time": "2021-07-09T09:08:09.323Z"
   },
   {
    "duration": 21,
    "start_time": "2021-07-09T09:08:09.334Z"
   },
   {
    "duration": 406,
    "start_time": "2021-07-09T09:08:09.359Z"
   },
   {
    "duration": 9,
    "start_time": "2021-07-09T09:08:09.768Z"
   },
   {
    "duration": 276,
    "start_time": "2021-07-09T09:08:09.780Z"
   },
   {
    "duration": 14,
    "start_time": "2021-07-09T09:08:10.059Z"
   },
   {
    "duration": 55,
    "start_time": "2021-07-09T09:08:10.075Z"
   },
   {
    "duration": 19,
    "start_time": "2021-07-09T09:08:10.133Z"
   },
   {
    "duration": 10,
    "start_time": "2021-07-09T09:08:10.155Z"
   },
   {
    "duration": 8,
    "start_time": "2021-07-09T09:08:10.168Z"
   },
   {
    "duration": 11,
    "start_time": "2021-07-09T09:08:10.179Z"
   },
   {
    "duration": 16,
    "start_time": "2021-07-09T09:08:10.193Z"
   },
   {
    "duration": 645,
    "start_time": "2021-07-09T09:08:10.213Z"
   },
   {
    "duration": 8,
    "start_time": "2021-07-09T09:08:10.860Z"
   },
   {
    "duration": 615,
    "start_time": "2021-07-09T09:08:10.871Z"
   },
   {
    "duration": 3,
    "start_time": "2021-07-09T09:08:54.933Z"
   },
   {
    "duration": 8761,
    "start_time": "2021-07-09T09:08:55.310Z"
   },
   {
    "duration": -867,
    "start_time": "2021-07-09T09:09:04.941Z"
   },
   {
    "duration": -871,
    "start_time": "2021-07-09T09:09:04.946Z"
   },
   {
    "duration": 6,
    "start_time": "2021-07-09T09:09:06.645Z"
   },
   {
    "duration": 1935,
    "start_time": "2021-07-09T09:09:06.654Z"
   },
   {
    "duration": 20,
    "start_time": "2021-07-09T09:09:08.593Z"
   },
   {
    "duration": 38,
    "start_time": "2021-07-09T09:09:08.617Z"
   },
   {
    "duration": 50,
    "start_time": "2021-07-09T09:09:08.659Z"
   },
   {
    "duration": 40,
    "start_time": "2021-07-09T09:09:08.715Z"
   },
   {
    "duration": 115,
    "start_time": "2021-07-09T09:09:08.759Z"
   },
   {
    "duration": 202,
    "start_time": "2021-07-09T09:09:08.879Z"
   },
   {
    "duration": 200,
    "start_time": "2021-07-09T09:09:09.085Z"
   },
   {
    "duration": 146,
    "start_time": "2021-07-09T09:09:09.287Z"
   },
   {
    "duration": 7,
    "start_time": "2021-07-09T09:09:09.435Z"
   },
   {
    "duration": 25,
    "start_time": "2021-07-09T09:09:09.444Z"
   },
   {
    "duration": 7,
    "start_time": "2021-07-09T09:09:09.471Z"
   },
   {
    "duration": 22,
    "start_time": "2021-07-09T09:09:09.509Z"
   },
   {
    "duration": 8,
    "start_time": "2021-07-09T09:09:09.533Z"
   },
   {
    "duration": 20,
    "start_time": "2021-07-09T09:09:09.543Z"
   },
   {
    "duration": 32,
    "start_time": "2021-07-09T09:09:09.566Z"
   },
   {
    "duration": 21,
    "start_time": "2021-07-09T09:09:09.601Z"
   },
   {
    "duration": 17,
    "start_time": "2021-07-09T09:09:09.626Z"
   },
   {
    "duration": 50,
    "start_time": "2021-07-09T09:09:09.646Z"
   },
   {
    "duration": 40,
    "start_time": "2021-07-09T09:09:09.699Z"
   },
   {
    "duration": 18,
    "start_time": "2021-07-09T09:09:09.742Z"
   },
   {
    "duration": 8,
    "start_time": "2021-07-09T09:09:09.767Z"
   },
   {
    "duration": 31,
    "start_time": "2021-07-09T09:09:09.778Z"
   },
   {
    "duration": 7,
    "start_time": "2021-07-09T09:09:09.815Z"
   },
   {
    "duration": 10,
    "start_time": "2021-07-09T09:09:09.824Z"
   },
   {
    "duration": 9010,
    "start_time": "2021-07-09T09:09:09.836Z"
   },
   {
    "duration": -864,
    "start_time": "2021-07-09T09:09:19.712Z"
   },
   {
    "duration": -867,
    "start_time": "2021-07-09T09:09:19.717Z"
   },
   {
    "duration": -870,
    "start_time": "2021-07-09T09:09:19.721Z"
   },
   {
    "duration": -875,
    "start_time": "2021-07-09T09:09:19.727Z"
   },
   {
    "duration": -877,
    "start_time": "2021-07-09T09:09:19.731Z"
   },
   {
    "duration": -881,
    "start_time": "2021-07-09T09:09:19.736Z"
   },
   {
    "duration": -902,
    "start_time": "2021-07-09T09:09:19.758Z"
   },
   {
    "duration": -906,
    "start_time": "2021-07-09T09:09:19.763Z"
   },
   {
    "duration": -909,
    "start_time": "2021-07-09T09:09:19.767Z"
   },
   {
    "duration": -912,
    "start_time": "2021-07-09T09:09:19.771Z"
   },
   {
    "duration": -921,
    "start_time": "2021-07-09T09:09:19.782Z"
   },
   {
    "duration": -923,
    "start_time": "2021-07-09T09:09:19.786Z"
   },
   {
    "duration": -925,
    "start_time": "2021-07-09T09:09:19.789Z"
   },
   {
    "duration": -930,
    "start_time": "2021-07-09T09:09:19.795Z"
   },
   {
    "duration": -932,
    "start_time": "2021-07-09T09:09:19.798Z"
   },
   {
    "duration": -934,
    "start_time": "2021-07-09T09:09:19.802Z"
   },
   {
    "duration": -937,
    "start_time": "2021-07-09T09:09:19.806Z"
   },
   {
    "duration": -939,
    "start_time": "2021-07-09T09:09:19.810Z"
   },
   {
    "duration": -942,
    "start_time": "2021-07-09T09:09:19.814Z"
   },
   {
    "duration": -944,
    "start_time": "2021-07-09T09:09:19.818Z"
   },
   {
    "duration": -946,
    "start_time": "2021-07-09T09:09:19.821Z"
   },
   {
    "duration": -949,
    "start_time": "2021-07-09T09:09:19.825Z"
   },
   {
    "duration": -950,
    "start_time": "2021-07-09T09:09:19.828Z"
   },
   {
    "duration": -953,
    "start_time": "2021-07-09T09:09:19.832Z"
   },
   {
    "duration": -955,
    "start_time": "2021-07-09T09:09:19.835Z"
   },
   {
    "duration": 4,
    "start_time": "2021-07-09T09:13:50.749Z"
   },
   {
    "duration": 4,
    "start_time": "2021-07-09T09:14:03.675Z"
   },
   {
    "duration": 8,
    "start_time": "2021-07-09T09:14:06.125Z"
   },
   {
    "duration": 4,
    "start_time": "2021-07-09T09:14:17.332Z"
   },
   {
    "duration": 6,
    "start_time": "2021-07-09T09:14:37.724Z"
   },
   {
    "duration": 6,
    "start_time": "2021-07-09T09:14:46.388Z"
   },
   {
    "duration": 4,
    "start_time": "2021-07-09T09:14:52.622Z"
   },
   {
    "duration": 4,
    "start_time": "2021-07-09T09:15:03.237Z"
   },
   {
    "duration": 27,
    "start_time": "2021-07-09T09:15:08.807Z"
   },
   {
    "duration": 44,
    "start_time": "2021-07-09T09:16:34.084Z"
   },
   {
    "duration": 9,
    "start_time": "2021-07-09T09:18:28.973Z"
   },
   {
    "duration": 23,
    "start_time": "2021-07-09T09:18:29.476Z"
   },
   {
    "duration": 12,
    "start_time": "2021-07-09T09:18:29.845Z"
   },
   {
    "duration": 403,
    "start_time": "2021-07-09T09:18:30.181Z"
   },
   {
    "duration": 6,
    "start_time": "2021-07-09T09:18:30.761Z"
   },
   {
    "duration": 6,
    "start_time": "2021-07-09T09:19:42.975Z"
   },
   {
    "duration": 5,
    "start_time": "2021-07-09T09:20:23.971Z"
   },
   {
    "duration": 1933,
    "start_time": "2021-07-09T09:20:23.978Z"
   },
   {
    "duration": 13,
    "start_time": "2021-07-09T09:20:25.915Z"
   },
   {
    "duration": 35,
    "start_time": "2021-07-09T09:20:25.930Z"
   },
   {
    "duration": 15,
    "start_time": "2021-07-09T09:20:25.968Z"
   },
   {
    "duration": 49,
    "start_time": "2021-07-09T09:20:25.986Z"
   },
   {
    "duration": 89,
    "start_time": "2021-07-09T09:20:26.038Z"
   },
   {
    "duration": 204,
    "start_time": "2021-07-09T09:20:26.130Z"
   },
   {
    "duration": 388,
    "start_time": "2021-07-09T09:20:26.337Z"
   },
   {
    "duration": 297,
    "start_time": "2021-07-09T09:20:26.728Z"
   },
   {
    "duration": 10,
    "start_time": "2021-07-09T09:20:27.028Z"
   },
   {
    "duration": 75,
    "start_time": "2021-07-09T09:20:27.041Z"
   },
   {
    "duration": 6,
    "start_time": "2021-07-09T09:20:27.118Z"
   },
   {
    "duration": 29,
    "start_time": "2021-07-09T09:20:27.126Z"
   },
   {
    "duration": 8,
    "start_time": "2021-07-09T09:20:27.158Z"
   },
   {
    "duration": 47,
    "start_time": "2021-07-09T09:20:27.168Z"
   },
   {
    "duration": 24,
    "start_time": "2021-07-09T09:20:27.222Z"
   },
   {
    "duration": 11,
    "start_time": "2021-07-09T09:20:27.248Z"
   },
   {
    "duration": 15,
    "start_time": "2021-07-09T09:20:27.310Z"
   },
   {
    "duration": 87,
    "start_time": "2021-07-09T09:20:27.330Z"
   },
   {
    "duration": 27,
    "start_time": "2021-07-09T09:20:27.420Z"
   },
   {
    "duration": 74,
    "start_time": "2021-07-09T09:20:27.449Z"
   },
   {
    "duration": 8,
    "start_time": "2021-07-09T09:20:27.529Z"
   },
   {
    "duration": 11,
    "start_time": "2021-07-09T09:20:27.540Z"
   },
   {
    "duration": 58,
    "start_time": "2021-07-09T09:20:27.553Z"
   },
   {
    "duration": 9,
    "start_time": "2021-07-09T09:20:27.615Z"
   },
   {
    "duration": 395,
    "start_time": "2021-07-09T09:20:27.629Z"
   },
   {
    "duration": -1066,
    "start_time": "2021-07-09T09:20:29.092Z"
   },
   {
    "duration": -1069,
    "start_time": "2021-07-09T09:20:29.097Z"
   },
   {
    "duration": -1071,
    "start_time": "2021-07-09T09:20:29.100Z"
   },
   {
    "duration": -1073,
    "start_time": "2021-07-09T09:20:29.104Z"
   },
   {
    "duration": -1076,
    "start_time": "2021-07-09T09:20:29.108Z"
   },
   {
    "duration": -1077,
    "start_time": "2021-07-09T09:20:29.111Z"
   },
   {
    "duration": -1079,
    "start_time": "2021-07-09T09:20:29.114Z"
   },
   {
    "duration": -1082,
    "start_time": "2021-07-09T09:20:29.118Z"
   },
   {
    "duration": -1083,
    "start_time": "2021-07-09T09:20:29.121Z"
   },
   {
    "duration": -1086,
    "start_time": "2021-07-09T09:20:29.125Z"
   },
   {
    "duration": -1088,
    "start_time": "2021-07-09T09:20:29.128Z"
   },
   {
    "duration": -1090,
    "start_time": "2021-07-09T09:20:29.132Z"
   },
   {
    "duration": -1092,
    "start_time": "2021-07-09T09:20:29.135Z"
   },
   {
    "duration": -1093,
    "start_time": "2021-07-09T09:20:29.138Z"
   },
   {
    "duration": -1096,
    "start_time": "2021-07-09T09:20:29.142Z"
   },
   {
    "duration": -1098,
    "start_time": "2021-07-09T09:20:29.145Z"
   },
   {
    "duration": -1100,
    "start_time": "2021-07-09T09:20:29.149Z"
   },
   {
    "duration": -1102,
    "start_time": "2021-07-09T09:20:29.152Z"
   },
   {
    "duration": -1104,
    "start_time": "2021-07-09T09:20:29.156Z"
   },
   {
    "duration": -1107,
    "start_time": "2021-07-09T09:20:29.160Z"
   },
   {
    "duration": -1109,
    "start_time": "2021-07-09T09:20:29.163Z"
   },
   {
    "duration": -1111,
    "start_time": "2021-07-09T09:20:29.166Z"
   },
   {
    "duration": -1113,
    "start_time": "2021-07-09T09:20:29.170Z"
   },
   {
    "duration": -1141,
    "start_time": "2021-07-09T09:20:29.199Z"
   },
   {
    "duration": -1148,
    "start_time": "2021-07-09T09:20:29.207Z"
   },
   {
    "duration": -1152,
    "start_time": "2021-07-09T09:20:29.212Z"
   },
   {
    "duration": -1154,
    "start_time": "2021-07-09T09:20:29.216Z"
   },
   {
    "duration": -1097,
    "start_time": "2021-07-09T09:20:29.219Z"
   },
   {
    "duration": 9,
    "start_time": "2021-07-09T09:20:40.932Z"
   },
   {
    "duration": 64,
    "start_time": "2021-07-09T09:20:42.162Z"
   },
   {
    "duration": 20,
    "start_time": "2021-07-09T09:20:43.923Z"
   },
   {
    "duration": 12,
    "start_time": "2021-07-09T09:20:44.442Z"
   },
   {
    "duration": 392,
    "start_time": "2021-07-09T09:20:46.729Z"
   },
   {
    "duration": 6,
    "start_time": "2021-07-09T09:20:57.068Z"
   },
   {
    "duration": 17,
    "start_time": "2021-07-09T09:21:06.579Z"
   },
   {
    "duration": 11,
    "start_time": "2021-07-09T09:21:07.180Z"
   },
   {
    "duration": 7,
    "start_time": "2021-07-09T09:21:07.715Z"
   },
   {
    "duration": 7,
    "start_time": "2021-07-09T09:21:14.106Z"
   },
   {
    "duration": 2040,
    "start_time": "2021-07-09T09:21:14.116Z"
   },
   {
    "duration": 11,
    "start_time": "2021-07-09T09:21:16.159Z"
   },
   {
    "duration": 49,
    "start_time": "2021-07-09T09:21:16.173Z"
   },
   {
    "duration": 21,
    "start_time": "2021-07-09T09:21:16.229Z"
   },
   {
    "duration": 26,
    "start_time": "2021-07-09T09:21:16.252Z"
   },
   {
    "duration": 94,
    "start_time": "2021-07-09T09:21:16.281Z"
   },
   {
    "duration": 138,
    "start_time": "2021-07-09T09:21:16.378Z"
   },
   {
    "duration": 207,
    "start_time": "2021-07-09T09:21:16.522Z"
   },
   {
    "duration": 150,
    "start_time": "2021-07-09T09:21:16.732Z"
   },
   {
    "duration": 7,
    "start_time": "2021-07-09T09:21:16.885Z"
   },
   {
    "duration": 27,
    "start_time": "2021-07-09T09:21:16.908Z"
   },
   {
    "duration": 7,
    "start_time": "2021-07-09T09:21:16.938Z"
   },
   {
    "duration": 11,
    "start_time": "2021-07-09T09:21:16.948Z"
   },
   {
    "duration": 12,
    "start_time": "2021-07-09T09:21:16.962Z"
   },
   {
    "duration": 40,
    "start_time": "2021-07-09T09:21:16.977Z"
   },
   {
    "duration": 27,
    "start_time": "2021-07-09T09:21:17.019Z"
   },
   {
    "duration": 7,
    "start_time": "2021-07-09T09:21:17.048Z"
   },
   {
    "duration": 14,
    "start_time": "2021-07-09T09:21:17.057Z"
   },
   {
    "duration": 57,
    "start_time": "2021-07-09T09:21:17.074Z"
   },
   {
    "duration": 18,
    "start_time": "2021-07-09T09:21:17.133Z"
   },
   {
    "duration": 14,
    "start_time": "2021-07-09T09:21:17.153Z"
   },
   {
    "duration": 10,
    "start_time": "2021-07-09T09:21:17.172Z"
   },
   {
    "duration": 30,
    "start_time": "2021-07-09T09:21:17.186Z"
   },
   {
    "duration": 16,
    "start_time": "2021-07-09T09:21:17.218Z"
   },
   {
    "duration": 13,
    "start_time": "2021-07-09T09:21:17.237Z"
   },
   {
    "duration": 12,
    "start_time": "2021-07-09T09:21:17.252Z"
   },
   {
    "duration": 73,
    "start_time": "2021-07-09T09:21:17.267Z"
   },
   {
    "duration": 17,
    "start_time": "2021-07-09T09:21:17.342Z"
   },
   {
    "duration": 14,
    "start_time": "2021-07-09T09:21:17.362Z"
   },
   {
    "duration": 34,
    "start_time": "2021-07-09T09:21:17.379Z"
   },
   {
    "duration": 13,
    "start_time": "2021-07-09T09:21:17.417Z"
   },
   {
    "duration": 515,
    "start_time": "2021-07-09T09:21:17.432Z"
   },
   {
    "duration": 1724,
    "start_time": "2021-07-09T09:21:17.950Z"
   },
   {
    "duration": 6,
    "start_time": "2021-07-09T09:21:19.677Z"
   },
   {
    "duration": 35,
    "start_time": "2021-07-09T09:21:19.686Z"
   },
   {
    "duration": 260,
    "start_time": "2021-07-09T09:21:19.729Z"
   },
   {
    "duration": 6,
    "start_time": "2021-07-09T09:21:19.991Z"
   },
   {
    "duration": 38,
    "start_time": "2021-07-09T09:21:19.999Z"
   },
   {
    "duration": 334,
    "start_time": "2021-07-09T09:21:20.039Z"
   },
   {
    "duration": 7,
    "start_time": "2021-07-09T09:21:20.375Z"
   },
   {
    "duration": 49,
    "start_time": "2021-07-09T09:21:20.385Z"
   },
   {
    "duration": 247,
    "start_time": "2021-07-09T09:21:20.437Z"
   },
   {
    "duration": 6,
    "start_time": "2021-07-09T09:21:20.686Z"
   },
   {
    "duration": 272,
    "start_time": "2021-07-09T09:21:20.694Z"
   },
   {
    "duration": 15,
    "start_time": "2021-07-09T09:21:20.968Z"
   },
   {
    "duration": 47,
    "start_time": "2021-07-09T09:21:20.985Z"
   },
   {
    "duration": 8,
    "start_time": "2021-07-09T09:21:21.034Z"
   },
   {
    "duration": 10,
    "start_time": "2021-07-09T09:21:21.045Z"
   },
   {
    "duration": 8,
    "start_time": "2021-07-09T09:21:21.057Z"
   },
   {
    "duration": 42,
    "start_time": "2021-07-09T09:21:21.067Z"
   },
   {
    "duration": 6,
    "start_time": "2021-07-09T09:21:21.114Z"
   },
   {
    "duration": 445,
    "start_time": "2021-07-09T09:21:21.123Z"
   },
   {
    "duration": 6,
    "start_time": "2021-07-09T09:21:21.571Z"
   },
   {
    "duration": 3092,
    "start_time": "2021-07-09T09:21:21.580Z"
   },
   {
    "duration": 6,
    "start_time": "2021-07-09T09:22:56.179Z"
   },
   {
    "duration": 1584,
    "start_time": "2021-07-09T09:22:56.187Z"
   },
   {
    "duration": 11,
    "start_time": "2021-07-09T09:22:57.774Z"
   },
   {
    "duration": 47,
    "start_time": "2021-07-09T09:22:57.788Z"
   },
   {
    "duration": 17,
    "start_time": "2021-07-09T09:22:57.841Z"
   },
   {
    "duration": 57,
    "start_time": "2021-07-09T09:22:57.860Z"
   },
   {
    "duration": 65,
    "start_time": "2021-07-09T09:22:57.922Z"
   },
   {
    "duration": 186,
    "start_time": "2021-07-09T09:22:57.991Z"
   },
   {
    "duration": 190,
    "start_time": "2021-07-09T09:22:58.180Z"
   },
   {
    "duration": 157,
    "start_time": "2021-07-09T09:22:58.373Z"
   },
   {
    "duration": 8,
    "start_time": "2021-07-09T09:22:58.533Z"
   },
   {
    "duration": 28,
    "start_time": "2021-07-09T09:22:58.543Z"
   },
   {
    "duration": 7,
    "start_time": "2021-07-09T09:22:58.574Z"
   },
   {
    "duration": 39,
    "start_time": "2021-07-09T09:22:58.583Z"
   },
   {
    "duration": 9,
    "start_time": "2021-07-09T09:22:58.624Z"
   },
   {
    "duration": 13,
    "start_time": "2021-07-09T09:22:58.636Z"
   },
   {
    "duration": 19,
    "start_time": "2021-07-09T09:22:58.652Z"
   },
   {
    "duration": 7,
    "start_time": "2021-07-09T09:22:58.673Z"
   },
   {
    "duration": 41,
    "start_time": "2021-07-09T09:22:58.683Z"
   },
   {
    "duration": 25,
    "start_time": "2021-07-09T09:22:58.727Z"
   },
   {
    "duration": 18,
    "start_time": "2021-07-09T09:22:58.754Z"
   },
   {
    "duration": 42,
    "start_time": "2021-07-09T09:22:58.775Z"
   },
   {
    "duration": 14,
    "start_time": "2021-07-09T09:22:58.822Z"
   },
   {
    "duration": 16,
    "start_time": "2021-07-09T09:22:58.839Z"
   },
   {
    "duration": 7,
    "start_time": "2021-07-09T09:22:58.858Z"
   },
   {
    "duration": 6,
    "start_time": "2021-07-09T09:22:58.867Z"
   },
   {
    "duration": 14,
    "start_time": "2021-07-09T09:22:58.875Z"
   },
   {
    "duration": 60,
    "start_time": "2021-07-09T09:22:58.892Z"
   },
   {
    "duration": 20,
    "start_time": "2021-07-09T09:22:58.954Z"
   },
   {
    "duration": 37,
    "start_time": "2021-07-09T09:22:58.976Z"
   },
   {
    "duration": 6,
    "start_time": "2021-07-09T09:22:59.016Z"
   },
   {
    "duration": 5,
    "start_time": "2021-07-09T09:23:56.588Z"
   },
   {
    "duration": 1596,
    "start_time": "2021-07-09T09:23:56.595Z"
   },
   {
    "duration": 24,
    "start_time": "2021-07-09T09:23:58.195Z"
   },
   {
    "duration": 25,
    "start_time": "2021-07-09T09:23:58.223Z"
   },
   {
    "duration": 16,
    "start_time": "2021-07-09T09:23:58.251Z"
   },
   {
    "duration": 59,
    "start_time": "2021-07-09T09:23:58.269Z"
   },
   {
    "duration": 87,
    "start_time": "2021-07-09T09:23:58.331Z"
   },
   {
    "duration": 140,
    "start_time": "2021-07-09T09:23:58.422Z"
   },
   {
    "duration": 207,
    "start_time": "2021-07-09T09:23:58.566Z"
   },
   {
    "duration": 150,
    "start_time": "2021-07-09T09:23:58.776Z"
   },
   {
    "duration": 8,
    "start_time": "2021-07-09T09:23:58.928Z"
   },
   {
    "duration": 32,
    "start_time": "2021-07-09T09:23:58.939Z"
   },
   {
    "duration": 40,
    "start_time": "2021-07-09T09:23:58.974Z"
   },
   {
    "duration": 30,
    "start_time": "2021-07-09T09:23:59.017Z"
   },
   {
    "duration": 8,
    "start_time": "2021-07-09T09:23:59.050Z"
   },
   {
    "duration": 23,
    "start_time": "2021-07-09T09:23:59.061Z"
   },
   {
    "duration": 29,
    "start_time": "2021-07-09T09:23:59.087Z"
   },
   {
    "duration": 8,
    "start_time": "2021-07-09T09:23:59.119Z"
   },
   {
    "duration": 11,
    "start_time": "2021-07-09T09:23:59.130Z"
   },
   {
    "duration": 27,
    "start_time": "2021-07-09T09:23:59.144Z"
   },
   {
    "duration": 52,
    "start_time": "2021-07-09T09:23:59.174Z"
   },
   {
    "duration": 13,
    "start_time": "2021-07-09T09:23:59.230Z"
   },
   {
    "duration": 10,
    "start_time": "2021-07-09T09:23:59.248Z"
   },
   {
    "duration": 52,
    "start_time": "2021-07-09T09:23:59.261Z"
   },
   {
    "duration": 6,
    "start_time": "2021-07-09T09:23:59.315Z"
   },
   {
    "duration": 6,
    "start_time": "2021-07-09T09:23:59.324Z"
   },
   {
    "duration": 21,
    "start_time": "2021-07-09T09:23:59.332Z"
   },
   {
    "duration": 75,
    "start_time": "2021-07-09T09:23:59.355Z"
   },
   {
    "duration": 21,
    "start_time": "2021-07-09T09:23:59.433Z"
   },
   {
    "duration": 25,
    "start_time": "2021-07-09T09:23:59.456Z"
   },
   {
    "duration": 65,
    "start_time": "2021-07-09T09:23:59.484Z"
   },
   {
    "duration": 42,
    "start_time": "2021-07-09T09:24:05.868Z"
   },
   {
    "duration": 5,
    "start_time": "2021-07-09T09:24:29.889Z"
   },
   {
    "duration": 1497,
    "start_time": "2021-07-09T09:24:29.897Z"
   },
   {
    "duration": 18,
    "start_time": "2021-07-09T09:24:31.397Z"
   },
   {
    "duration": 24,
    "start_time": "2021-07-09T09:24:31.422Z"
   },
   {
    "duration": 23,
    "start_time": "2021-07-09T09:24:31.448Z"
   },
   {
    "duration": 29,
    "start_time": "2021-07-09T09:24:31.512Z"
   },
   {
    "duration": 109,
    "start_time": "2021-07-09T09:24:31.544Z"
   },
   {
    "duration": 291,
    "start_time": "2021-07-09T09:24:31.657Z"
   },
   {
    "duration": 409,
    "start_time": "2021-07-09T09:24:31.951Z"
   },
   {
    "duration": 174,
    "start_time": "2021-07-09T09:24:32.362Z"
   },
   {
    "duration": 8,
    "start_time": "2021-07-09T09:24:32.538Z"
   },
   {
    "duration": 24,
    "start_time": "2021-07-09T09:24:32.548Z"
   },
   {
    "duration": 39,
    "start_time": "2021-07-09T09:24:32.574Z"
   },
   {
    "duration": 11,
    "start_time": "2021-07-09T09:24:32.616Z"
   },
   {
    "duration": 9,
    "start_time": "2021-07-09T09:24:32.630Z"
   },
   {
    "duration": 14,
    "start_time": "2021-07-09T09:24:32.643Z"
   },
   {
    "duration": 53,
    "start_time": "2021-07-09T09:24:32.660Z"
   },
   {
    "duration": 10,
    "start_time": "2021-07-09T09:24:32.716Z"
   },
   {
    "duration": 12,
    "start_time": "2021-07-09T09:24:32.728Z"
   },
   {
    "duration": 28,
    "start_time": "2021-07-09T09:24:32.742Z"
   },
   {
    "duration": 43,
    "start_time": "2021-07-09T09:24:32.773Z"
   },
   {
    "duration": 16,
    "start_time": "2021-07-09T09:24:32.819Z"
   },
   {
    "duration": 15,
    "start_time": "2021-07-09T09:24:32.852Z"
   },
   {
    "duration": 16,
    "start_time": "2021-07-09T09:24:32.871Z"
   },
   {
    "duration": 28,
    "start_time": "2021-07-09T09:24:32.889Z"
   },
   {
    "duration": 9,
    "start_time": "2021-07-09T09:24:32.919Z"
   },
   {
    "duration": 16,
    "start_time": "2021-07-09T09:24:32.931Z"
   },
   {
    "duration": 30,
    "start_time": "2021-07-09T09:24:32.949Z"
   },
   {
    "duration": 45,
    "start_time": "2021-07-09T09:24:32.981Z"
   },
   {
    "duration": 37,
    "start_time": "2021-07-09T09:24:33.028Z"
   },
   {
    "duration": 64,
    "start_time": "2021-07-09T09:24:33.067Z"
   },
   {
    "duration": 551,
    "start_time": "2021-07-09T09:24:33.134Z"
   },
   {
    "duration": 1213,
    "start_time": "2021-07-09T09:24:33.688Z"
   },
   {
    "duration": 9,
    "start_time": "2021-07-09T09:24:34.908Z"
   },
   {
    "duration": 29,
    "start_time": "2021-07-09T09:24:34.919Z"
   },
   {
    "duration": 265,
    "start_time": "2021-07-09T09:24:34.950Z"
   },
   {
    "duration": 7,
    "start_time": "2021-07-09T09:24:35.220Z"
   },
   {
    "duration": 18,
    "start_time": "2021-07-09T09:24:35.230Z"
   },
   {
    "duration": 461,
    "start_time": "2021-07-09T09:24:35.250Z"
   },
   {
    "duration": 7,
    "start_time": "2021-07-09T09:24:35.714Z"
   },
   {
    "duration": 18,
    "start_time": "2021-07-09T09:24:35.724Z"
   },
   {
    "duration": 271,
    "start_time": "2021-07-09T09:24:35.744Z"
   },
   {
    "duration": 7,
    "start_time": "2021-07-09T09:24:36.017Z"
   },
   {
    "duration": 349,
    "start_time": "2021-07-09T09:24:36.026Z"
   },
   {
    "duration": 14,
    "start_time": "2021-07-09T09:24:36.377Z"
   },
   {
    "duration": 29,
    "start_time": "2021-07-09T09:24:36.394Z"
   },
   {
    "duration": 7,
    "start_time": "2021-07-09T09:24:36.427Z"
   },
   {
    "duration": 8,
    "start_time": "2021-07-09T09:24:36.437Z"
   },
   {
    "duration": 7,
    "start_time": "2021-07-09T09:24:36.447Z"
   },
   {
    "duration": 10,
    "start_time": "2021-07-09T09:24:36.456Z"
   },
   {
    "duration": 4,
    "start_time": "2021-07-09T09:24:36.468Z"
   },
   {
    "duration": 537,
    "start_time": "2021-07-09T09:24:36.475Z"
   },
   {
    "duration": 12,
    "start_time": "2021-07-09T09:24:37.016Z"
   },
   {
    "duration": 3429,
    "start_time": "2021-07-09T09:24:37.031Z"
   },
   {
    "duration": 50,
    "start_time": "2021-07-09T09:28:22.583Z"
   },
   {
    "duration": 17,
    "start_time": "2021-07-09T09:28:37.436Z"
   },
   {
    "duration": 40,
    "start_time": "2021-07-09T09:29:24.328Z"
   },
   {
    "duration": 7,
    "start_time": "2021-07-09T09:29:49.015Z"
   },
   {
    "duration": 2039,
    "start_time": "2021-07-09T09:29:49.030Z"
   },
   {
    "duration": 10,
    "start_time": "2021-07-09T09:29:51.072Z"
   },
   {
    "duration": 47,
    "start_time": "2021-07-09T09:29:51.086Z"
   },
   {
    "duration": 16,
    "start_time": "2021-07-09T09:29:51.136Z"
   },
   {
    "duration": 26,
    "start_time": "2021-07-09T09:29:51.155Z"
   },
   {
    "duration": 131,
    "start_time": "2021-07-09T09:29:51.183Z"
   },
   {
    "duration": 225,
    "start_time": "2021-07-09T09:29:51.318Z"
   },
   {
    "duration": 398,
    "start_time": "2021-07-09T09:29:51.546Z"
   },
   {
    "duration": 362,
    "start_time": "2021-07-09T09:29:51.949Z"
   },
   {
    "duration": 9,
    "start_time": "2021-07-09T09:29:52.315Z"
   },
   {
    "duration": 27,
    "start_time": "2021-07-09T09:29:52.329Z"
   },
   {
    "duration": 8,
    "start_time": "2021-07-09T09:29:52.409Z"
   },
   {
    "duration": 14,
    "start_time": "2021-07-09T09:29:52.420Z"
   },
   {
    "duration": 26,
    "start_time": "2021-07-09T09:29:52.436Z"
   },
   {
    "duration": 17,
    "start_time": "2021-07-09T09:29:52.511Z"
   },
   {
    "duration": 19,
    "start_time": "2021-07-09T09:29:52.530Z"
   },
   {
    "duration": 57,
    "start_time": "2021-07-09T09:29:52.552Z"
   },
   {
    "duration": 13,
    "start_time": "2021-07-09T09:29:52.611Z"
   },
   {
    "duration": 32,
    "start_time": "2021-07-09T09:29:52.627Z"
   },
   {
    "duration": 17,
    "start_time": "2021-07-09T09:29:52.661Z"
   },
   {
    "duration": 25,
    "start_time": "2021-07-09T09:29:52.714Z"
   },
   {
    "duration": 13,
    "start_time": "2021-07-09T09:29:52.742Z"
   },
   {
    "duration": 22,
    "start_time": "2021-07-09T09:29:52.757Z"
   },
   {
    "duration": 35,
    "start_time": "2021-07-09T09:29:52.782Z"
   },
   {
    "duration": 25,
    "start_time": "2021-07-09T09:29:52.819Z"
   },
   {
    "duration": 8,
    "start_time": "2021-07-09T09:29:52.846Z"
   },
   {
    "duration": 11,
    "start_time": "2021-07-09T09:29:52.860Z"
   },
   {
    "duration": 36,
    "start_time": "2021-07-09T09:29:52.874Z"
   },
   {
    "duration": 25,
    "start_time": "2021-07-09T09:29:52.912Z"
   },
   {
    "duration": 39,
    "start_time": "2021-07-09T09:29:52.940Z"
   },
   {
    "duration": 63,
    "start_time": "2021-07-09T09:29:53.010Z"
   },
   {
    "duration": 718,
    "start_time": "2021-07-09T09:29:53.077Z"
   },
   {
    "duration": 1968,
    "start_time": "2021-07-09T09:29:53.798Z"
   },
   {
    "duration": 9,
    "start_time": "2021-07-09T09:29:55.769Z"
   },
   {
    "duration": 40,
    "start_time": "2021-07-09T09:29:55.781Z"
   },
   {
    "duration": 341,
    "start_time": "2021-07-09T09:29:55.824Z"
   },
   {
    "duration": 8,
    "start_time": "2021-07-09T09:29:56.168Z"
   },
   {
    "duration": 33,
    "start_time": "2021-07-09T09:29:56.178Z"
   },
   {
    "duration": 223,
    "start_time": "2021-07-09T09:29:56.222Z"
   },
   {
    "duration": 9,
    "start_time": "2021-07-09T09:29:56.448Z"
   },
   {
    "duration": 21,
    "start_time": "2021-07-09T09:29:56.460Z"
   },
   {
    "duration": 595,
    "start_time": "2021-07-09T09:29:56.484Z"
   },
   {
    "duration": 7,
    "start_time": "2021-07-09T09:29:57.082Z"
   },
   {
    "duration": 257,
    "start_time": "2021-07-09T09:29:57.091Z"
   },
   {
    "duration": 14,
    "start_time": "2021-07-09T09:29:57.350Z"
   },
   {
    "duration": 43,
    "start_time": "2021-07-09T09:29:57.367Z"
   },
   {
    "duration": 8,
    "start_time": "2021-07-09T09:29:57.413Z"
   },
   {
    "duration": 12,
    "start_time": "2021-07-09T09:29:57.424Z"
   },
   {
    "duration": 10,
    "start_time": "2021-07-09T09:29:57.441Z"
   },
   {
    "duration": 10,
    "start_time": "2021-07-09T09:29:57.454Z"
   },
   {
    "duration": 44,
    "start_time": "2021-07-09T09:29:57.467Z"
   },
   {
    "duration": 447,
    "start_time": "2021-07-09T09:29:57.520Z"
   },
   {
    "duration": 7,
    "start_time": "2021-07-09T09:29:57.971Z"
   },
   {
    "duration": 3459,
    "start_time": "2021-07-09T09:29:57.982Z"
   },
   {
    "duration": 34,
    "start_time": "2021-07-09T09:33:57.657Z"
   },
   {
    "duration": 400,
    "start_time": "2021-07-09T09:34:56.879Z"
   },
   {
    "duration": 1942,
    "start_time": "2021-07-09T09:35:34.000Z"
   },
   {
    "duration": 806,
    "start_time": "2021-07-09T09:36:15.628Z"
   },
   {
    "duration": 8,
    "start_time": "2021-07-09T09:37:29.086Z"
   },
   {
    "duration": 733,
    "start_time": "2021-07-09T09:37:30.062Z"
   },
   {
    "duration": 7,
    "start_time": "2021-07-09T09:38:41.788Z"
   },
   {
    "duration": 789,
    "start_time": "2021-07-09T09:38:42.308Z"
   },
   {
    "duration": 9,
    "start_time": "2021-07-09T09:39:04.972Z"
   },
   {
    "duration": 803,
    "start_time": "2021-07-09T09:39:06.084Z"
   },
   {
    "duration": 120,
    "start_time": "2021-07-09T09:41:45.278Z"
   },
   {
    "duration": 1997,
    "start_time": "2021-07-09T09:41:50.453Z"
   },
   {
    "duration": 12,
    "start_time": "2021-07-09T09:41:59.458Z"
   },
   {
    "duration": 7,
    "start_time": "2021-07-09T09:42:05.226Z"
   },
   {
    "duration": 876,
    "start_time": "2021-07-09T09:42:09.502Z"
   },
   {
    "duration": 8,
    "start_time": "2021-07-09T09:46:31.290Z"
   },
   {
    "duration": 7,
    "start_time": "2021-07-09T09:46:49.298Z"
   },
   {
    "duration": 5650,
    "start_time": "2021-07-09T09:46:50.202Z"
   },
   {
    "duration": 41,
    "start_time": "2021-07-09T09:48:30.670Z"
   },
   {
    "duration": 15,
    "start_time": "2021-07-09T09:48:41.788Z"
   },
   {
    "duration": 5,
    "start_time": "2021-07-09T09:48:58.102Z"
   },
   {
    "duration": 1776,
    "start_time": "2021-07-09T09:48:58.110Z"
   },
   {
    "duration": 22,
    "start_time": "2021-07-09T09:48:59.889Z"
   },
   {
    "duration": 26,
    "start_time": "2021-07-09T09:48:59.914Z"
   },
   {
    "duration": 16,
    "start_time": "2021-07-09T09:48:59.943Z"
   },
   {
    "duration": 56,
    "start_time": "2021-07-09T09:48:59.962Z"
   },
   {
    "duration": 60,
    "start_time": "2021-07-09T09:49:00.024Z"
   },
   {
    "duration": 169,
    "start_time": "2021-07-09T09:49:00.087Z"
   },
   {
    "duration": 185,
    "start_time": "2021-07-09T09:49:00.259Z"
   },
   {
    "duration": 142,
    "start_time": "2021-07-09T09:49:00.446Z"
   },
   {
    "duration": 7,
    "start_time": "2021-07-09T09:49:00.590Z"
   },
   {
    "duration": 35,
    "start_time": "2021-07-09T09:49:00.609Z"
   },
   {
    "duration": 7,
    "start_time": "2021-07-09T09:49:00.647Z"
   },
   {
    "duration": 28,
    "start_time": "2021-07-09T09:49:00.656Z"
   },
   {
    "duration": 10,
    "start_time": "2021-07-09T09:49:00.687Z"
   },
   {
    "duration": 14,
    "start_time": "2021-07-09T09:49:00.700Z"
   },
   {
    "duration": 26,
    "start_time": "2021-07-09T09:49:00.717Z"
   },
   {
    "duration": 9,
    "start_time": "2021-07-09T09:49:00.746Z"
   },
   {
    "duration": 12,
    "start_time": "2021-07-09T09:49:00.762Z"
   },
   {
    "duration": 52,
    "start_time": "2021-07-09T09:49:00.778Z"
   },
   {
    "duration": 17,
    "start_time": "2021-07-09T09:49:00.832Z"
   },
   {
    "duration": 19,
    "start_time": "2021-07-09T09:49:00.851Z"
   },
   {
    "duration": 47,
    "start_time": "2021-07-09T09:49:00.873Z"
   },
   {
    "duration": 16,
    "start_time": "2021-07-09T09:49:00.923Z"
   },
   {
    "duration": 23,
    "start_time": "2021-07-09T09:49:00.941Z"
   },
   {
    "duration": 29,
    "start_time": "2021-07-09T09:49:00.966Z"
   },
   {
    "duration": 20,
    "start_time": "2021-07-09T09:49:00.998Z"
   },
   {
    "duration": 16,
    "start_time": "2021-07-09T09:49:01.020Z"
   },
   {
    "duration": 29,
    "start_time": "2021-07-09T09:49:01.038Z"
   },
   {
    "duration": 23,
    "start_time": "2021-07-09T09:49:01.069Z"
   },
   {
    "duration": 46,
    "start_time": "2021-07-09T09:49:01.095Z"
   },
   {
    "duration": 37,
    "start_time": "2021-07-09T09:49:01.144Z"
   },
   {
    "duration": 525,
    "start_time": "2021-07-09T09:49:01.184Z"
   },
   {
    "duration": 1212,
    "start_time": "2021-07-09T09:49:01.713Z"
   },
   {
    "duration": 6,
    "start_time": "2021-07-09T09:49:02.927Z"
   },
   {
    "duration": 44,
    "start_time": "2021-07-09T09:49:02.936Z"
   },
   {
    "duration": 245,
    "start_time": "2021-07-09T09:49:02.982Z"
   },
   {
    "duration": 6,
    "start_time": "2021-07-09T09:49:03.230Z"
   },
   {
    "duration": 28,
    "start_time": "2021-07-09T09:49:03.238Z"
   },
   {
    "duration": 261,
    "start_time": "2021-07-09T09:49:03.269Z"
   },
   {
    "duration": 7,
    "start_time": "2021-07-09T09:49:03.532Z"
   },
   {
    "duration": 35,
    "start_time": "2021-07-09T09:49:03.541Z"
   },
   {
    "duration": 263,
    "start_time": "2021-07-09T09:49:03.578Z"
   },
   {
    "duration": 6,
    "start_time": "2021-07-09T09:49:03.844Z"
   },
   {
    "duration": 385,
    "start_time": "2021-07-09T09:49:03.852Z"
   },
   {
    "duration": 14,
    "start_time": "2021-07-09T09:49:04.240Z"
   },
   {
    "duration": 27,
    "start_time": "2021-07-09T09:49:04.256Z"
   },
   {
    "duration": 32,
    "start_time": "2021-07-09T09:49:04.285Z"
   },
   {
    "duration": 27,
    "start_time": "2021-07-09T09:49:04.320Z"
   },
   {
    "duration": 26,
    "start_time": "2021-07-09T09:49:04.350Z"
   },
   {
    "duration": 16,
    "start_time": "2021-07-09T09:49:04.378Z"
   },
   {
    "duration": 16,
    "start_time": "2021-07-09T09:49:04.396Z"
   },
   {
    "duration": 430,
    "start_time": "2021-07-09T09:49:04.415Z"
   },
   {
    "duration": 1919,
    "start_time": "2021-07-09T09:49:04.848Z"
   },
   {
    "duration": 50,
    "start_time": "2021-07-09T09:49:06.773Z"
   },
   {
    "duration": 12,
    "start_time": "2021-07-09T09:49:06.825Z"
   },
   {
    "duration": 13,
    "start_time": "2021-07-09T09:49:35.562Z"
   },
   {
    "duration": 377,
    "start_time": "2021-07-09T09:52:15.768Z"
   },
   {
    "duration": 50,
    "start_time": "2021-07-09T09:52:34.600Z"
   },
   {
    "duration": 8,
    "start_time": "2021-07-09T09:52:44.098Z"
   },
   {
    "duration": 2199,
    "start_time": "2021-07-09T09:52:44.110Z"
   },
   {
    "duration": 26,
    "start_time": "2021-07-09T09:52:46.312Z"
   },
   {
    "duration": 24,
    "start_time": "2021-07-09T09:52:46.342Z"
   },
   {
    "duration": 16,
    "start_time": "2021-07-09T09:52:46.369Z"
   },
   {
    "duration": 34,
    "start_time": "2021-07-09T09:52:46.413Z"
   },
   {
    "duration": 118,
    "start_time": "2021-07-09T09:52:46.450Z"
   },
   {
    "duration": 167,
    "start_time": "2021-07-09T09:52:46.572Z"
   },
   {
    "duration": 203,
    "start_time": "2021-07-09T09:52:46.747Z"
   },
   {
    "duration": 155,
    "start_time": "2021-07-09T09:52:46.953Z"
   },
   {
    "duration": 11,
    "start_time": "2021-07-09T09:52:47.111Z"
   },
   {
    "duration": 24,
    "start_time": "2021-07-09T09:52:47.126Z"
   },
   {
    "duration": 8,
    "start_time": "2021-07-09T09:52:47.153Z"
   },
   {
    "duration": 9,
    "start_time": "2021-07-09T09:52:47.164Z"
   },
   {
    "duration": 6,
    "start_time": "2021-07-09T09:52:47.214Z"
   },
   {
    "duration": 21,
    "start_time": "2021-07-09T09:52:47.223Z"
   },
   {
    "duration": 25,
    "start_time": "2021-07-09T09:52:47.252Z"
   },
   {
    "duration": 10,
    "start_time": "2021-07-09T09:52:47.280Z"
   },
   {
    "duration": 18,
    "start_time": "2021-07-09T09:52:47.294Z"
   },
   {
    "duration": 44,
    "start_time": "2021-07-09T09:52:47.315Z"
   },
   {
    "duration": 60,
    "start_time": "2021-07-09T09:52:47.363Z"
   },
   {
    "duration": 39,
    "start_time": "2021-07-09T09:52:47.426Z"
   },
   {
    "duration": 20,
    "start_time": "2021-07-09T09:52:47.469Z"
   },
   {
    "duration": 24,
    "start_time": "2021-07-09T09:52:47.510Z"
   },
   {
    "duration": 12,
    "start_time": "2021-07-09T09:52:47.536Z"
   },
   {
    "duration": 7,
    "start_time": "2021-07-09T09:52:47.550Z"
   },
   {
    "duration": 4,
    "start_time": "2021-07-09T09:52:47.563Z"
   },
   {
    "duration": 41,
    "start_time": "2021-07-09T09:52:47.572Z"
   },
   {
    "duration": 26,
    "start_time": "2021-07-09T09:52:47.619Z"
   },
   {
    "duration": 24,
    "start_time": "2021-07-09T09:52:47.647Z"
   },
   {
    "duration": 64,
    "start_time": "2021-07-09T09:52:47.674Z"
   },
   {
    "duration": 38,
    "start_time": "2021-07-09T09:52:47.741Z"
   },
   {
    "duration": 531,
    "start_time": "2021-07-09T09:52:47.782Z"
   },
   {
    "duration": 1252,
    "start_time": "2021-07-09T09:52:48.317Z"
   },
   {
    "duration": 6,
    "start_time": "2021-07-09T09:52:49.572Z"
   },
   {
    "duration": 44,
    "start_time": "2021-07-09T09:52:49.581Z"
   },
   {
    "duration": 298,
    "start_time": "2021-07-09T09:52:49.629Z"
   },
   {
    "duration": 10,
    "start_time": "2021-07-09T09:52:49.931Z"
   },
   {
    "duration": 14,
    "start_time": "2021-07-09T09:52:49.944Z"
   },
   {
    "duration": 254,
    "start_time": "2021-07-09T09:52:49.961Z"
   },
   {
    "duration": 15,
    "start_time": "2021-07-09T09:52:50.218Z"
   },
   {
    "duration": 23,
    "start_time": "2021-07-09T09:52:50.235Z"
   },
   {
    "duration": 254,
    "start_time": "2021-07-09T09:52:50.261Z"
   },
   {
    "duration": 9,
    "start_time": "2021-07-09T09:52:50.525Z"
   },
   {
    "duration": 265,
    "start_time": "2021-07-09T09:52:50.539Z"
   },
   {
    "duration": 20,
    "start_time": "2021-07-09T09:52:50.807Z"
   },
   {
    "duration": 30,
    "start_time": "2021-07-09T09:52:50.831Z"
   },
   {
    "duration": 9,
    "start_time": "2021-07-09T09:52:50.865Z"
   },
   {
    "duration": 38,
    "start_time": "2021-07-09T09:52:50.877Z"
   },
   {
    "duration": 14,
    "start_time": "2021-07-09T09:52:50.920Z"
   },
   {
    "duration": 29,
    "start_time": "2021-07-09T09:52:50.936Z"
   },
   {
    "duration": 24,
    "start_time": "2021-07-09T09:52:50.967Z"
   },
   {
    "duration": 767,
    "start_time": "2021-07-09T09:52:50.993Z"
   },
   {
    "duration": 2022,
    "start_time": "2021-07-09T09:52:51.763Z"
   },
   {
    "duration": 57,
    "start_time": "2021-07-09T09:52:53.787Z"
   },
   {
    "duration": 12,
    "start_time": "2021-07-09T09:52:53.846Z"
   },
   {
    "duration": 23,
    "start_time": "2021-07-09T09:52:53.860Z"
   },
   {
    "duration": 23,
    "start_time": "2021-07-09T09:53:25.447Z"
   },
   {
    "duration": 46,
    "start_time": "2021-07-09T09:53:32.343Z"
   },
   {
    "duration": 567,
    "start_time": "2021-07-09T09:54:43.722Z"
   },
   {
    "duration": 554,
    "start_time": "2021-07-09T09:54:54.178Z"
   },
   {
    "duration": 383,
    "start_time": "2021-07-09T09:55:02.330Z"
   },
   {
    "duration": 118,
    "start_time": "2021-07-09T09:55:49.826Z"
   },
   {
    "duration": 47,
    "start_time": "2021-07-09T09:55:54.450Z"
   },
   {
    "duration": 51,
    "start_time": "2021-07-09T09:56:33.714Z"
   },
   {
    "duration": 7,
    "start_time": "2021-07-09T09:58:24.358Z"
   },
   {
    "duration": 2341,
    "start_time": "2021-07-09T09:58:24.368Z"
   },
   {
    "duration": 20,
    "start_time": "2021-07-09T09:58:26.712Z"
   },
   {
    "duration": 40,
    "start_time": "2021-07-09T09:58:26.735Z"
   },
   {
    "duration": 46,
    "start_time": "2021-07-09T09:58:26.779Z"
   },
   {
    "duration": 27,
    "start_time": "2021-07-09T09:58:26.828Z"
   },
   {
    "duration": 95,
    "start_time": "2021-07-09T09:58:26.858Z"
   },
   {
    "duration": 147,
    "start_time": "2021-07-09T09:58:26.956Z"
   },
   {
    "duration": 242,
    "start_time": "2021-07-09T09:58:27.106Z"
   },
   {
    "duration": 165,
    "start_time": "2021-07-09T09:58:27.352Z"
   },
   {
    "duration": 12,
    "start_time": "2021-07-09T09:58:27.520Z"
   },
   {
    "duration": 28,
    "start_time": "2021-07-09T09:58:27.535Z"
   },
   {
    "duration": 46,
    "start_time": "2021-07-09T09:58:27.566Z"
   },
   {
    "duration": 17,
    "start_time": "2021-07-09T09:58:27.614Z"
   },
   {
    "duration": 13,
    "start_time": "2021-07-09T09:58:27.635Z"
   },
   {
    "duration": 17,
    "start_time": "2021-07-09T09:58:27.651Z"
   },
   {
    "duration": 43,
    "start_time": "2021-07-09T09:58:27.671Z"
   },
   {
    "duration": 9,
    "start_time": "2021-07-09T09:58:27.726Z"
   },
   {
    "duration": 10,
    "start_time": "2021-07-09T09:58:27.738Z"
   },
   {
    "duration": 31,
    "start_time": "2021-07-09T09:58:27.750Z"
   },
   {
    "duration": 49,
    "start_time": "2021-07-09T09:58:27.783Z"
   },
   {
    "duration": 47,
    "start_time": "2021-07-09T09:58:27.835Z"
   },
   {
    "duration": 6,
    "start_time": "2021-07-09T09:58:49.118Z"
   },
   {
    "duration": 2022,
    "start_time": "2021-07-09T09:58:49.128Z"
   },
   {
    "duration": 16,
    "start_time": "2021-07-09T09:58:51.154Z"
   },
   {
    "duration": 63,
    "start_time": "2021-07-09T09:58:51.174Z"
   },
   {
    "duration": 26,
    "start_time": "2021-07-09T09:58:51.241Z"
   },
   {
    "duration": 74,
    "start_time": "2021-07-09T09:58:51.271Z"
   },
   {
    "duration": 83,
    "start_time": "2021-07-09T09:58:51.348Z"
   },
   {
    "duration": 136,
    "start_time": "2021-07-09T09:58:51.436Z"
   },
   {
    "duration": 204,
    "start_time": "2021-07-09T09:58:51.575Z"
   },
   {
    "duration": 153,
    "start_time": "2021-07-09T09:58:51.782Z"
   },
   {
    "duration": 9,
    "start_time": "2021-07-09T09:58:51.938Z"
   },
   {
    "duration": 28,
    "start_time": "2021-07-09T09:58:51.950Z"
   },
   {
    "duration": 32,
    "start_time": "2021-07-09T09:58:51.981Z"
   },
   {
    "duration": 20,
    "start_time": "2021-07-09T09:58:52.016Z"
   },
   {
    "duration": 15,
    "start_time": "2021-07-09T09:58:52.039Z"
   },
   {
    "duration": 13,
    "start_time": "2021-07-09T09:58:52.056Z"
   },
   {
    "duration": 43,
    "start_time": "2021-07-09T09:58:52.071Z"
   },
   {
    "duration": 17,
    "start_time": "2021-07-09T09:58:52.117Z"
   },
   {
    "duration": 13,
    "start_time": "2021-07-09T09:58:52.137Z"
   },
   {
    "duration": 61,
    "start_time": "2021-07-09T09:58:52.153Z"
   },
   {
    "duration": 22,
    "start_time": "2021-07-09T09:58:52.216Z"
   },
   {
    "duration": 71,
    "start_time": "2021-07-09T09:58:52.240Z"
   },
   {
    "duration": 14,
    "start_time": "2021-07-09T09:58:52.318Z"
   },
   {
    "duration": 18,
    "start_time": "2021-07-09T09:58:52.337Z"
   },
   {
    "duration": 10,
    "start_time": "2021-07-09T09:58:52.358Z"
   },
   {
    "duration": 38,
    "start_time": "2021-07-09T09:58:52.371Z"
   },
   {
    "duration": 6,
    "start_time": "2021-07-09T09:58:52.412Z"
   },
   {
    "duration": 12,
    "start_time": "2021-07-09T09:58:52.424Z"
   },
   {
    "duration": 31,
    "start_time": "2021-07-09T09:58:52.439Z"
   },
   {
    "duration": 50,
    "start_time": "2021-07-09T09:58:52.473Z"
   },
   {
    "duration": 43,
    "start_time": "2021-07-09T09:58:52.526Z"
   },
   {
    "duration": 89,
    "start_time": "2021-07-09T09:58:52.572Z"
   },
   {
    "duration": 501,
    "start_time": "2021-07-09T09:58:52.663Z"
   },
   {
    "duration": 1268,
    "start_time": "2021-07-09T09:58:53.167Z"
   },
   {
    "duration": 6,
    "start_time": "2021-07-09T09:58:54.438Z"
   },
   {
    "duration": 18,
    "start_time": "2021-07-09T09:58:54.446Z"
   },
   {
    "duration": 288,
    "start_time": "2021-07-09T09:58:54.467Z"
   },
   {
    "duration": 6,
    "start_time": "2021-07-09T09:58:54.758Z"
   },
   {
    "duration": 20,
    "start_time": "2021-07-09T09:58:54.766Z"
   },
   {
    "duration": 241,
    "start_time": "2021-07-09T09:58:54.812Z"
   },
   {
    "duration": 6,
    "start_time": "2021-07-09T09:58:55.056Z"
   },
   {
    "duration": 33,
    "start_time": "2021-07-09T09:58:55.064Z"
   },
   {
    "duration": 360,
    "start_time": "2021-07-09T09:58:55.100Z"
   },
   {
    "duration": 8,
    "start_time": "2021-07-09T09:58:55.464Z"
   },
   {
    "duration": 264,
    "start_time": "2021-07-09T09:58:55.475Z"
   },
   {
    "duration": 15,
    "start_time": "2021-07-09T09:58:55.741Z"
   },
   {
    "duration": 19,
    "start_time": "2021-07-09T09:58:55.758Z"
   },
   {
    "duration": 38,
    "start_time": "2021-07-09T09:58:55.779Z"
   },
   {
    "duration": 8,
    "start_time": "2021-07-09T09:58:55.820Z"
   },
   {
    "duration": 12,
    "start_time": "2021-07-09T09:58:55.830Z"
   },
   {
    "duration": 20,
    "start_time": "2021-07-09T09:58:55.845Z"
   },
   {
    "duration": 6,
    "start_time": "2021-07-09T09:58:55.868Z"
   },
   {
    "duration": 437,
    "start_time": "2021-07-09T09:58:55.909Z"
   },
   {
    "duration": 1939,
    "start_time": "2021-07-09T09:58:56.349Z"
   },
   {
    "duration": 68,
    "start_time": "2021-07-09T09:58:58.291Z"
   },
   {
    "duration": 17,
    "start_time": "2021-07-09T09:58:58.362Z"
   },
   {
    "duration": 44,
    "start_time": "2021-07-09T09:58:58.382Z"
   },
   {
    "duration": 11,
    "start_time": "2021-07-09T09:59:11.024Z"
   },
   {
    "duration": 5378,
    "start_time": "2021-07-09T09:59:17.873Z"
   },
   {
    "duration": 8,
    "start_time": "2021-07-09T10:01:03.390Z"
   },
   {
    "duration": 5512,
    "start_time": "2021-07-09T10:01:06.430Z"
   },
   {
    "duration": 124,
    "start_time": "2021-07-09T10:05:21.270Z"
   },
   {
    "duration": 5,
    "start_time": "2021-07-09T10:05:22.764Z"
   },
   {
    "duration": 240,
    "start_time": "2021-07-09T10:05:23.412Z"
   },
   {
    "duration": 5182,
    "start_time": "2021-07-09T10:05:42.101Z"
   },
   {
    "duration": 115,
    "start_time": "2021-07-09T10:07:43.525Z"
   },
   {
    "duration": 4635,
    "start_time": "2021-07-09T10:07:51.172Z"
   },
   {
    "duration": 141,
    "start_time": "2021-07-09T10:09:00.980Z"
   },
   {
    "duration": 124,
    "start_time": "2021-07-09T10:09:27.763Z"
   },
   {
    "duration": 5437,
    "start_time": "2021-07-09T10:10:07.195Z"
   },
   {
    "duration": 5065,
    "start_time": "2021-07-09T10:10:25.499Z"
   },
   {
    "duration": 5159,
    "start_time": "2021-07-09T10:11:34.814Z"
   },
   {
    "duration": 15,
    "start_time": "2021-07-09T10:12:48.353Z"
   },
   {
    "duration": 4691,
    "start_time": "2021-07-09T10:42:29.599Z"
   },
   {
    "duration": 5455,
    "start_time": "2021-07-09T10:42:53.703Z"
   },
   {
    "duration": 5224,
    "start_time": "2021-07-09T11:16:55.922Z"
   },
   {
    "duration": 365,
    "start_time": "2021-07-09T11:18:50.168Z"
   },
   {
    "duration": 116,
    "start_time": "2021-07-09T11:19:48.543Z"
   },
   {
    "duration": 6252,
    "start_time": "2021-07-09T11:19:49.485Z"
   },
   {
    "duration": 115,
    "start_time": "2021-07-09T11:20:30.314Z"
   },
   {
    "duration": 6226,
    "start_time": "2021-07-09T11:20:30.941Z"
   },
   {
    "duration": 173,
    "start_time": "2021-07-09T11:22:38.928Z"
   },
   {
    "duration": 9,
    "start_time": "2021-07-09T11:22:55.513Z"
   },
   {
    "duration": 700,
    "start_time": "2021-07-09T11:22:59.320Z"
   },
   {
    "duration": 11235,
    "start_time": "2021-07-09T11:24:33.362Z"
   },
   {
    "duration": 6,
    "start_time": "2021-07-09T11:24:58.489Z"
   },
   {
    "duration": 2331,
    "start_time": "2021-07-09T11:24:58.497Z"
   },
   {
    "duration": 13,
    "start_time": "2021-07-09T11:25:00.831Z"
   },
   {
    "duration": 43,
    "start_time": "2021-07-09T11:25:00.847Z"
   },
   {
    "duration": 33,
    "start_time": "2021-07-09T11:25:00.892Z"
   },
   {
    "duration": 35,
    "start_time": "2021-07-09T11:25:00.927Z"
   },
   {
    "duration": 80,
    "start_time": "2021-07-09T11:25:00.968Z"
   },
   {
    "duration": 137,
    "start_time": "2021-07-09T11:25:01.052Z"
   },
   {
    "duration": 220,
    "start_time": "2021-07-09T11:25:01.192Z"
   },
   {
    "duration": 163,
    "start_time": "2021-07-09T11:25:01.415Z"
   },
   {
    "duration": 8,
    "start_time": "2021-07-09T11:25:01.581Z"
   },
   {
    "duration": 46,
    "start_time": "2021-07-09T11:25:01.591Z"
   },
   {
    "duration": 18,
    "start_time": "2021-07-09T11:25:01.640Z"
   },
   {
    "duration": 34,
    "start_time": "2021-07-09T11:25:01.661Z"
   },
   {
    "duration": 37,
    "start_time": "2021-07-09T11:25:01.698Z"
   },
   {
    "duration": 18,
    "start_time": "2021-07-09T11:25:01.738Z"
   },
   {
    "duration": 90,
    "start_time": "2021-07-09T11:25:01.759Z"
   },
   {
    "duration": 29,
    "start_time": "2021-07-09T11:25:01.851Z"
   },
   {
    "duration": 50,
    "start_time": "2021-07-09T11:25:01.887Z"
   },
   {
    "duration": 62,
    "start_time": "2021-07-09T11:25:01.941Z"
   },
   {
    "duration": 37,
    "start_time": "2021-07-09T11:25:02.005Z"
   },
   {
    "duration": 52,
    "start_time": "2021-07-09T11:25:02.045Z"
   },
   {
    "duration": 16,
    "start_time": "2021-07-09T11:25:02.100Z"
   },
   {
    "duration": 30,
    "start_time": "2021-07-09T11:25:02.119Z"
   },
   {
    "duration": 11,
    "start_time": "2021-07-09T11:25:02.153Z"
   },
   {
    "duration": 16,
    "start_time": "2021-07-09T11:25:02.167Z"
   },
   {
    "duration": 14,
    "start_time": "2021-07-09T11:25:02.185Z"
   },
   {
    "duration": 37,
    "start_time": "2021-07-09T11:25:02.201Z"
   },
   {
    "duration": 52,
    "start_time": "2021-07-09T11:25:02.241Z"
   },
   {
    "duration": 31,
    "start_time": "2021-07-09T11:25:02.296Z"
   },
   {
    "duration": 62,
    "start_time": "2021-07-09T11:25:02.332Z"
   },
   {
    "duration": 52,
    "start_time": "2021-07-09T11:25:02.396Z"
   },
   {
    "duration": 509,
    "start_time": "2021-07-09T11:25:02.450Z"
   },
   {
    "duration": 1274,
    "start_time": "2021-07-09T11:25:02.961Z"
   },
   {
    "duration": 7,
    "start_time": "2021-07-09T11:25:04.239Z"
   },
   {
    "duration": 33,
    "start_time": "2021-07-09T11:25:04.249Z"
   },
   {
    "duration": 275,
    "start_time": "2021-07-09T11:25:04.285Z"
   },
   {
    "duration": 6,
    "start_time": "2021-07-09T11:25:04.563Z"
   },
   {
    "duration": 24,
    "start_time": "2021-07-09T11:25:04.571Z"
   },
   {
    "duration": 236,
    "start_time": "2021-07-09T11:25:04.622Z"
   },
   {
    "duration": 7,
    "start_time": "2021-07-09T11:25:04.861Z"
   },
   {
    "duration": 28,
    "start_time": "2021-07-09T11:25:04.870Z"
   },
   {
    "duration": 270,
    "start_time": "2021-07-09T11:25:04.900Z"
   },
   {
    "duration": 7,
    "start_time": "2021-07-09T11:25:05.172Z"
   },
   {
    "duration": 282,
    "start_time": "2021-07-09T11:25:05.181Z"
   },
   {
    "duration": 13,
    "start_time": "2021-07-09T11:25:05.466Z"
   },
   {
    "duration": 56,
    "start_time": "2021-07-09T11:25:05.482Z"
   },
   {
    "duration": 11,
    "start_time": "2021-07-09T11:25:05.541Z"
   },
   {
    "duration": 23,
    "start_time": "2021-07-09T11:25:05.554Z"
   },
   {
    "duration": 13,
    "start_time": "2021-07-09T11:25:05.580Z"
   },
   {
    "duration": 21,
    "start_time": "2021-07-09T11:25:05.596Z"
   },
   {
    "duration": 8,
    "start_time": "2021-07-09T11:25:05.619Z"
   },
   {
    "duration": 453,
    "start_time": "2021-07-09T11:25:05.629Z"
   },
   {
    "duration": 1972,
    "start_time": "2021-07-09T11:25:06.085Z"
   },
   {
    "duration": 59,
    "start_time": "2021-07-09T11:25:08.064Z"
   },
   {
    "duration": 14,
    "start_time": "2021-07-09T11:25:08.126Z"
   },
   {
    "duration": 33,
    "start_time": "2021-07-09T11:25:08.143Z"
   },
   {
    "duration": 9,
    "start_time": "2021-07-09T11:25:08.179Z"
   },
   {
    "duration": 34,
    "start_time": "2021-07-09T11:25:08.191Z"
   },
   {
    "duration": 12,
    "start_time": "2021-07-09T11:25:08.228Z"
   },
   {
    "duration": 17,
    "start_time": "2021-07-09T11:25:08.242Z"
   },
   {
    "duration": 714,
    "start_time": "2021-07-09T11:25:08.262Z"
   },
   {
    "duration": 2512285,
    "start_time": "2021-07-09T11:25:08.979Z"
   },
   {
    "duration": 7,
    "start_time": "2021-07-09T12:07:52.686Z"
   },
   {
    "duration": 692002,
    "start_time": "2021-07-09T12:09:06.353Z"
   },
   {
    "duration": 6,
    "start_time": "2021-07-09T12:22:19.383Z"
   },
   {
    "duration": 114012,
    "start_time": "2021-07-09T12:23:19.295Z"
   },
   {
    "duration": -1025,
    "start_time": "2021-07-09T12:25:14.336Z"
   },
   {
    "duration": -1030,
    "start_time": "2021-07-09T12:25:14.342Z"
   },
   {
    "duration": -1048,
    "start_time": "2021-07-09T12:25:14.362Z"
   },
   {
    "duration": -1053,
    "start_time": "2021-07-09T12:25:14.369Z"
   },
   {
    "duration": 372,
    "start_time": "2021-07-09T12:30:24.571Z"
   },
   {
    "duration": 6,
    "start_time": "2021-07-09T12:30:35.136Z"
   },
   {
    "duration": 2802,
    "start_time": "2021-07-09T12:30:35.145Z"
   },
   {
    "duration": 12,
    "start_time": "2021-07-09T12:30:37.950Z"
   },
   {
    "duration": 48,
    "start_time": "2021-07-09T12:30:37.965Z"
   },
   {
    "duration": 26,
    "start_time": "2021-07-09T12:30:38.016Z"
   },
   {
    "duration": 40,
    "start_time": "2021-07-09T12:30:38.044Z"
   },
   {
    "duration": 106,
    "start_time": "2021-07-09T12:30:38.109Z"
   },
   {
    "duration": 195,
    "start_time": "2021-07-09T12:30:38.223Z"
   },
   {
    "duration": 211,
    "start_time": "2021-07-09T12:30:38.421Z"
   },
   {
    "duration": 138,
    "start_time": "2021-07-09T12:30:38.642Z"
   },
   {
    "duration": 9,
    "start_time": "2021-07-09T12:30:38.783Z"
   },
   {
    "duration": 40,
    "start_time": "2021-07-09T12:30:38.794Z"
   },
   {
    "duration": 10,
    "start_time": "2021-07-09T12:30:38.836Z"
   },
   {
    "duration": 8,
    "start_time": "2021-07-09T12:30:38.848Z"
   },
   {
    "duration": 9,
    "start_time": "2021-07-09T12:30:38.859Z"
   },
   {
    "duration": 9,
    "start_time": "2021-07-09T12:30:38.870Z"
   },
   {
    "duration": 50,
    "start_time": "2021-07-09T12:30:38.881Z"
   },
   {
    "duration": 12,
    "start_time": "2021-07-09T12:30:38.934Z"
   },
   {
    "duration": 8,
    "start_time": "2021-07-09T12:30:38.949Z"
   },
   {
    "duration": 68,
    "start_time": "2021-07-09T12:30:38.960Z"
   },
   {
    "duration": 18,
    "start_time": "2021-07-09T12:30:39.036Z"
   },
   {
    "duration": 62,
    "start_time": "2021-07-09T12:30:39.057Z"
   },
   {
    "duration": 15,
    "start_time": "2021-07-09T12:30:39.127Z"
   },
   {
    "duration": 9,
    "start_time": "2021-07-09T12:30:39.146Z"
   },
   {
    "duration": 14,
    "start_time": "2021-07-09T12:30:39.157Z"
   },
   {
    "duration": 41,
    "start_time": "2021-07-09T12:30:39.173Z"
   },
   {
    "duration": 16,
    "start_time": "2021-07-09T12:30:39.217Z"
   },
   {
    "duration": 11,
    "start_time": "2021-07-09T12:30:39.238Z"
   },
   {
    "duration": 24,
    "start_time": "2021-07-09T12:30:39.251Z"
   },
   {
    "duration": 42,
    "start_time": "2021-07-09T12:30:39.277Z"
   },
   {
    "duration": 42,
    "start_time": "2021-07-09T12:30:39.321Z"
   },
   {
    "duration": 78,
    "start_time": "2021-07-09T12:30:39.365Z"
   },
   {
    "duration": 503,
    "start_time": "2021-07-09T12:30:39.446Z"
   },
   {
    "duration": 1269,
    "start_time": "2021-07-09T12:30:39.951Z"
   },
   {
    "duration": 10,
    "start_time": "2021-07-09T12:30:41.222Z"
   },
   {
    "duration": 20,
    "start_time": "2021-07-09T12:30:41.237Z"
   },
   {
    "duration": 282,
    "start_time": "2021-07-09T12:30:41.261Z"
   },
   {
    "duration": 6,
    "start_time": "2021-07-09T12:30:41.546Z"
   },
   {
    "duration": 18,
    "start_time": "2021-07-09T12:30:41.554Z"
   },
   {
    "duration": 260,
    "start_time": "2021-07-09T12:30:41.575Z"
   },
   {
    "duration": 6,
    "start_time": "2021-07-09T12:30:41.838Z"
   },
   {
    "duration": 18,
    "start_time": "2021-07-09T12:30:41.847Z"
   },
   {
    "duration": 274,
    "start_time": "2021-07-09T12:30:41.867Z"
   },
   {
    "duration": 6,
    "start_time": "2021-07-09T12:30:42.144Z"
   },
   {
    "duration": 279,
    "start_time": "2021-07-09T12:30:42.152Z"
   },
   {
    "duration": 17,
    "start_time": "2021-07-09T12:30:42.433Z"
   },
   {
    "duration": 20,
    "start_time": "2021-07-09T12:30:42.453Z"
   },
   {
    "duration": 17,
    "start_time": "2021-07-09T12:30:42.476Z"
   },
   {
    "duration": 11,
    "start_time": "2021-07-09T12:30:42.509Z"
   },
   {
    "duration": 12,
    "start_time": "2021-07-09T12:30:42.526Z"
   },
   {
    "duration": 9,
    "start_time": "2021-07-09T12:30:42.541Z"
   },
   {
    "duration": 7,
    "start_time": "2021-07-09T12:30:42.553Z"
   },
   {
    "duration": 477,
    "start_time": "2021-07-09T12:30:42.562Z"
   },
   {
    "duration": 1985,
    "start_time": "2021-07-09T12:30:43.042Z"
   },
   {
    "duration": 46,
    "start_time": "2021-07-09T12:30:45.029Z"
   },
   {
    "duration": 32,
    "start_time": "2021-07-09T12:30:45.078Z"
   },
   {
    "duration": 21,
    "start_time": "2021-07-09T12:30:45.113Z"
   },
   {
    "duration": 6,
    "start_time": "2021-07-09T12:30:45.137Z"
   },
   {
    "duration": 36,
    "start_time": "2021-07-09T12:30:45.145Z"
   },
   {
    "duration": 7,
    "start_time": "2021-07-09T12:30:45.183Z"
   },
   {
    "duration": 27,
    "start_time": "2021-07-09T12:30:45.192Z"
   },
   {
    "duration": 700,
    "start_time": "2021-07-09T12:30:45.222Z"
   },
   {
    "duration": 3,
    "start_time": "2021-07-09T12:30:50.378Z"
   },
   {
    "duration": 5,
    "start_time": "2021-07-09T12:30:52.236Z"
   },
   {
    "duration": 395,
    "start_time": "2021-07-09T12:30:54.780Z"
   },
   {
    "duration": 1254,
    "start_time": "2021-07-09T12:33:10.420Z"
   },
   {
    "duration": 10,
    "start_time": "2021-07-09T12:46:46.629Z"
   },
   {
    "duration": 1843,
    "start_time": "2021-07-09T12:46:50.992Z"
   },
   {
    "duration": 10,
    "start_time": "2021-07-09T12:47:25.618Z"
   },
   {
    "duration": 1922,
    "start_time": "2021-07-09T12:47:32.207Z"
   },
   {
    "duration": 8,
    "start_time": "2021-07-09T12:48:13.040Z"
   },
   {
    "duration": 1718,
    "start_time": "2021-07-09T12:48:16.118Z"
   },
   {
    "duration": 4,
    "start_time": "2021-07-09T12:48:25.142Z"
   },
   {
    "duration": 3,
    "start_time": "2021-07-09T12:48:25.670Z"
   },
   {
    "duration": 7335,
    "start_time": "2021-07-09T12:48:26.087Z"
   },
   {
    "duration": 2407,
    "start_time": "2021-07-09T12:51:37.232Z"
   },
   {
    "duration": 2291,
    "start_time": "2021-07-09T12:51:46.792Z"
   },
   {
    "duration": 1995,
    "start_time": "2021-07-09T12:53:49.398Z"
   },
   {
    "duration": 51,
    "start_time": "2021-07-09T12:53:51.396Z"
   },
   {
    "duration": 15,
    "start_time": "2021-07-09T12:53:52.741Z"
   },
   {
    "duration": 13,
    "start_time": "2021-07-09T12:53:54.667Z"
   },
   {
    "duration": 14,
    "start_time": "2021-07-09T12:54:01.021Z"
   },
   {
    "duration": 789,
    "start_time": "2021-07-09T12:54:03.660Z"
   },
   {
    "duration": 16645,
    "start_time": "2021-07-09T12:54:20.565Z"
   },
   {
    "duration": 50,
    "start_time": "2021-07-09T12:54:37.214Z"
   },
   {
    "duration": 16,
    "start_time": "2021-07-09T12:54:37.266Z"
   },
   {
    "duration": 48,
    "start_time": "2021-07-09T12:54:37.284Z"
   },
   {
    "duration": 25,
    "start_time": "2021-07-09T12:54:37.340Z"
   },
   {
    "duration": 18,
    "start_time": "2021-07-09T12:54:37.368Z"
   },
   {
    "duration": 678,
    "start_time": "2021-07-09T12:54:41.543Z"
   },
   {
    "duration": 697964,
    "start_time": "2021-07-09T12:55:21.441Z"
   },
   {
    "duration": 6,
    "start_time": "2021-07-09T13:07:41.228Z"
   },
   {
    "duration": 513613,
    "start_time": "2021-07-09T13:08:12.986Z"
   },
   {
    "duration": 7,
    "start_time": "2021-07-09T13:16:50.144Z"
   },
   {
    "duration": 18169,
    "start_time": "2021-07-09T13:17:20.281Z"
   },
   {
    "duration": 8,
    "start_time": "2021-07-09T13:17:55.406Z"
   },
   {
    "duration": 4,
    "start_time": "2021-07-09T13:18:58.929Z"
   },
   {
    "duration": 5588,
    "start_time": "2021-07-09T13:18:59.846Z"
   },
   {
    "duration": 6,
    "start_time": "2021-07-09T13:19:16.726Z"
   },
   {
    "duration": 6975,
    "start_time": "2021-07-09T13:19:23.342Z"
   },
   {
    "duration": 118,
    "start_time": "2021-07-09T13:20:57.297Z"
   },
   {
    "duration": 287059,
    "start_time": "2021-07-09T13:21:21.781Z"
   },
   {
    "duration": 6,
    "start_time": "2021-07-09T13:26:31.668Z"
   },
   {
    "duration": 1724,
    "start_time": "2021-07-09T13:26:31.678Z"
   },
   {
    "duration": 15,
    "start_time": "2021-07-09T13:26:33.404Z"
   },
   {
    "duration": 33,
    "start_time": "2021-07-09T13:26:33.423Z"
   },
   {
    "duration": 17,
    "start_time": "2021-07-09T13:26:33.459Z"
   },
   {
    "duration": 62,
    "start_time": "2021-07-09T13:26:33.478Z"
   },
   {
    "duration": 87,
    "start_time": "2021-07-09T13:26:33.545Z"
   },
   {
    "duration": 134,
    "start_time": "2021-07-09T13:26:33.635Z"
   },
   {
    "duration": 209,
    "start_time": "2021-07-09T13:26:33.772Z"
   },
   {
    "duration": 161,
    "start_time": "2021-07-09T13:26:33.983Z"
   },
   {
    "duration": 8,
    "start_time": "2021-07-09T13:26:34.147Z"
   },
   {
    "duration": 21,
    "start_time": "2021-07-09T13:26:34.158Z"
   },
   {
    "duration": 14,
    "start_time": "2021-07-09T13:26:34.212Z"
   },
   {
    "duration": 11,
    "start_time": "2021-07-09T13:26:34.229Z"
   },
   {
    "duration": 11,
    "start_time": "2021-07-09T13:26:34.243Z"
   },
   {
    "duration": 10,
    "start_time": "2021-07-09T13:26:34.257Z"
   },
   {
    "duration": 52,
    "start_time": "2021-07-09T13:26:34.270Z"
   },
   {
    "duration": 23,
    "start_time": "2021-07-09T13:26:34.325Z"
   },
   {
    "duration": 9,
    "start_time": "2021-07-09T13:26:34.354Z"
   },
   {
    "duration": 45,
    "start_time": "2021-07-09T13:26:34.366Z"
   },
   {
    "duration": 23,
    "start_time": "2021-07-09T13:26:34.416Z"
   },
   {
    "duration": 47,
    "start_time": "2021-07-09T13:26:34.442Z"
   },
   {
    "duration": 20,
    "start_time": "2021-07-09T13:26:34.509Z"
   },
   {
    "duration": 8,
    "start_time": "2021-07-09T13:26:34.532Z"
   },
   {
    "duration": 19,
    "start_time": "2021-07-09T13:26:34.543Z"
   },
   {
    "duration": 8,
    "start_time": "2021-07-09T13:26:34.565Z"
   },
   {
    "duration": 6,
    "start_time": "2021-07-09T13:26:34.575Z"
   },
   {
    "duration": 42,
    "start_time": "2021-07-09T13:26:34.584Z"
   },
   {
    "duration": 25,
    "start_time": "2021-07-09T13:26:34.629Z"
   },
   {
    "duration": 27,
    "start_time": "2021-07-09T13:26:34.656Z"
   },
   {
    "duration": 71,
    "start_time": "2021-07-09T13:26:34.685Z"
   },
   {
    "duration": 60,
    "start_time": "2021-07-09T13:26:34.758Z"
   },
   {
    "duration": 519,
    "start_time": "2021-07-09T13:26:34.821Z"
   },
   {
    "duration": 1434,
    "start_time": "2021-07-09T13:26:35.343Z"
   },
   {
    "duration": 6,
    "start_time": "2021-07-09T13:26:36.779Z"
   },
   {
    "duration": 32,
    "start_time": "2021-07-09T13:26:36.788Z"
   },
   {
    "duration": 267,
    "start_time": "2021-07-09T13:26:36.822Z"
   },
   {
    "duration": 7,
    "start_time": "2021-07-09T13:26:37.092Z"
   },
   {
    "duration": 29,
    "start_time": "2021-07-09T13:26:37.101Z"
   },
   {
    "duration": 378,
    "start_time": "2021-07-09T13:26:37.136Z"
   },
   {
    "duration": 6,
    "start_time": "2021-07-09T13:26:37.517Z"
   },
   {
    "duration": 30,
    "start_time": "2021-07-09T13:26:37.528Z"
   },
   {
    "duration": 416,
    "start_time": "2021-07-09T13:26:37.560Z"
   },
   {
    "duration": 7,
    "start_time": "2021-07-09T13:26:37.979Z"
   },
   {
    "duration": 664,
    "start_time": "2021-07-09T13:26:37.989Z"
   },
   {
    "duration": 15,
    "start_time": "2021-07-09T13:26:38.655Z"
   },
   {
    "duration": 39,
    "start_time": "2021-07-09T13:26:38.672Z"
   },
   {
    "duration": 20,
    "start_time": "2021-07-09T13:26:38.718Z"
   },
   {
    "duration": 22,
    "start_time": "2021-07-09T13:26:38.741Z"
   },
   {
    "duration": 12,
    "start_time": "2021-07-09T13:26:38.766Z"
   },
   {
    "duration": 14,
    "start_time": "2021-07-09T13:26:38.780Z"
   },
   {
    "duration": 25,
    "start_time": "2021-07-09T13:26:38.796Z"
   },
   {
    "duration": 452,
    "start_time": "2021-07-09T13:26:38.823Z"
   },
   {
    "duration": 15900,
    "start_time": "2021-07-09T13:26:39.277Z"
   },
   {
    "duration": 62,
    "start_time": "2021-07-09T13:26:55.183Z"
   },
   {
    "duration": 12,
    "start_time": "2021-07-09T13:26:55.248Z"
   },
   {
    "duration": 13,
    "start_time": "2021-07-09T13:26:55.263Z"
   },
   {
    "duration": 32,
    "start_time": "2021-07-09T13:26:55.278Z"
   },
   {
    "duration": 28,
    "start_time": "2021-07-09T13:26:55.312Z"
   },
   {
    "duration": 11,
    "start_time": "2021-07-09T13:26:55.342Z"
   },
   {
    "duration": 10,
    "start_time": "2021-07-09T13:26:55.356Z"
   },
   {
    "duration": 712,
    "start_time": "2021-07-09T13:26:55.369Z"
   },
   {
    "duration": 3,
    "start_time": "2021-07-09T13:26:56.083Z"
   },
   {
    "duration": 6165,
    "start_time": "2021-07-09T13:26:56.090Z"
   },
   {
    "duration": 5,
    "start_time": "2021-07-09T13:27:02.258Z"
   },
   {
    "duration": 47,
    "start_time": "2021-07-09T13:27:02.265Z"
   },
   {
    "duration": 309516,
    "start_time": "2021-07-09T13:27:02.319Z"
   },
   {
    "duration": 5,
    "start_time": "2021-07-09T13:32:11.837Z"
   },
   {
    "duration": 3,
    "start_time": "2021-07-09T13:33:44.146Z"
   },
   {
    "duration": 8004,
    "start_time": "2021-07-09T13:33:45.315Z"
   },
   {
    "duration": 370816,
    "start_time": "2021-07-09T13:44:58.027Z"
   },
   {
    "duration": 6,
    "start_time": "2021-07-09T14:24:50.056Z"
   },
   {
    "duration": 357,
    "start_time": "2021-07-09T14:35:18.947Z"
   },
   {
    "duration": 5,
    "start_time": "2021-07-09T14:35:49.238Z"
   },
   {
    "duration": 67715,
    "start_time": "2021-07-09T14:38:04.508Z"
   },
   {
    "duration": 1769,
    "start_time": "2021-07-09T14:40:03.222Z"
   },
   {
    "duration": 4801,
    "start_time": "2021-07-09T14:40:04.993Z"
   },
   {
    "duration": 41,
    "start_time": "2021-07-09T14:40:09.797Z"
   },
   {
    "duration": 17,
    "start_time": "2021-07-09T14:40:09.841Z"
   },
   {
    "duration": 62,
    "start_time": "2021-07-09T14:40:09.860Z"
   },
   {
    "duration": 12,
    "start_time": "2021-07-09T14:40:09.927Z"
   },
   {
    "duration": 90,
    "start_time": "2021-07-09T14:40:09.941Z"
   },
   {
    "duration": 128,
    "start_time": "2021-07-09T14:40:10.038Z"
   },
   {
    "duration": 205,
    "start_time": "2021-07-09T14:40:10.172Z"
   },
   {
    "duration": 160,
    "start_time": "2021-07-09T14:40:10.382Z"
   },
   {
    "duration": 12,
    "start_time": "2021-07-09T14:40:10.544Z"
   },
   {
    "duration": 21,
    "start_time": "2021-07-09T14:40:10.558Z"
   },
   {
    "duration": 497,
    "start_time": "2021-07-09T14:40:10.582Z"
   },
   {
    "duration": -940,
    "start_time": "2021-07-09T14:40:12.023Z"
   },
   {
    "duration": -946,
    "start_time": "2021-07-09T14:40:12.030Z"
   },
   {
    "duration": -948,
    "start_time": "2021-07-09T14:40:12.034Z"
   },
   {
    "duration": -953,
    "start_time": "2021-07-09T14:40:12.041Z"
   },
   {
    "duration": -958,
    "start_time": "2021-07-09T14:40:12.047Z"
   },
   {
    "duration": -965,
    "start_time": "2021-07-09T14:40:12.055Z"
   },
   {
    "duration": -969,
    "start_time": "2021-07-09T14:40:12.061Z"
   },
   {
    "duration": -973,
    "start_time": "2021-07-09T14:40:12.066Z"
   },
   {
    "duration": -986,
    "start_time": "2021-07-09T14:40:12.081Z"
   },
   {
    "duration": -990,
    "start_time": "2021-07-09T14:40:12.086Z"
   },
   {
    "duration": -994,
    "start_time": "2021-07-09T14:40:12.091Z"
   },
   {
    "duration": -999,
    "start_time": "2021-07-09T14:40:12.097Z"
   },
   {
    "duration": -1003,
    "start_time": "2021-07-09T14:40:12.102Z"
   },
   {
    "duration": -1006,
    "start_time": "2021-07-09T14:40:12.107Z"
   },
   {
    "duration": -1009,
    "start_time": "2021-07-09T14:40:12.111Z"
   },
   {
    "duration": -1014,
    "start_time": "2021-07-09T14:40:12.117Z"
   },
   {
    "duration": -1016,
    "start_time": "2021-07-09T14:40:12.121Z"
   },
   {
    "duration": -1021,
    "start_time": "2021-07-09T14:40:12.127Z"
   },
   {
    "duration": -1022,
    "start_time": "2021-07-09T14:40:12.130Z"
   },
   {
    "duration": -1019,
    "start_time": "2021-07-09T14:40:12.135Z"
   },
   {
    "duration": -1022,
    "start_time": "2021-07-09T14:40:12.140Z"
   },
   {
    "duration": -1024,
    "start_time": "2021-07-09T14:40:12.144Z"
   },
   {
    "duration": -1028,
    "start_time": "2021-07-09T14:40:12.150Z"
   },
   {
    "duration": -1028,
    "start_time": "2021-07-09T14:40:12.155Z"
   },
   {
    "duration": -1067,
    "start_time": "2021-07-09T14:40:12.195Z"
   },
   {
    "duration": -1070,
    "start_time": "2021-07-09T14:40:12.200Z"
   },
   {
    "duration": -1071,
    "start_time": "2021-07-09T14:40:12.204Z"
   },
   {
    "duration": -1074,
    "start_time": "2021-07-09T14:40:12.209Z"
   },
   {
    "duration": -1074,
    "start_time": "2021-07-09T14:40:12.213Z"
   },
   {
    "duration": -1115,
    "start_time": "2021-07-09T14:40:12.256Z"
   },
   {
    "duration": -1151,
    "start_time": "2021-07-09T14:40:12.294Z"
   },
   {
    "duration": -1153,
    "start_time": "2021-07-09T14:40:12.299Z"
   },
   {
    "duration": -1155,
    "start_time": "2021-07-09T14:40:12.303Z"
   },
   {
    "duration": -1159,
    "start_time": "2021-07-09T14:40:12.309Z"
   },
   {
    "duration": -1184,
    "start_time": "2021-07-09T14:40:12.337Z"
   },
   {
    "duration": -1187,
    "start_time": "2021-07-09T14:40:12.342Z"
   },
   {
    "duration": -1302,
    "start_time": "2021-07-09T14:40:12.459Z"
   },
   {
    "duration": -1314,
    "start_time": "2021-07-09T14:40:12.473Z"
   },
   {
    "duration": -1259,
    "start_time": "2021-07-09T14:40:12.477Z"
   },
   {
    "duration": -1257,
    "start_time": "2021-07-09T14:40:12.481Z"
   },
   {
    "duration": -1259,
    "start_time": "2021-07-09T14:40:12.485Z"
   },
   {
    "duration": -1263,
    "start_time": "2021-07-09T14:40:12.490Z"
   },
   {
    "duration": -1264,
    "start_time": "2021-07-09T14:40:12.493Z"
   },
   {
    "duration": -1267,
    "start_time": "2021-07-09T14:40:12.498Z"
   },
   {
    "duration": -1269,
    "start_time": "2021-07-09T14:40:12.502Z"
   },
   {
    "duration": -1280,
    "start_time": "2021-07-09T14:40:12.515Z"
   },
   {
    "duration": -1283,
    "start_time": "2021-07-09T14:40:12.519Z"
   },
   {
    "duration": -1286,
    "start_time": "2021-07-09T14:40:12.524Z"
   },
   {
    "duration": 6,
    "start_time": "2021-07-09T14:40:44.070Z"
   },
   {
    "duration": 2348,
    "start_time": "2021-07-09T14:40:44.078Z"
   },
   {
    "duration": 35,
    "start_time": "2021-07-09T14:40:46.430Z"
   },
   {
    "duration": 29,
    "start_time": "2021-07-09T14:40:46.509Z"
   },
   {
    "duration": 95,
    "start_time": "2021-07-09T14:40:46.541Z"
   },
   {
    "duration": 8,
    "start_time": "2021-07-09T14:40:46.639Z"
   },
   {
    "duration": 164,
    "start_time": "2021-07-09T14:40:46.650Z"
   },
   {
    "duration": 300,
    "start_time": "2021-07-09T14:40:46.824Z"
   },
   {
    "duration": 342,
    "start_time": "2021-07-09T14:40:47.130Z"
   },
   {
    "duration": 160,
    "start_time": "2021-07-09T14:40:47.475Z"
   },
   {
    "duration": 7,
    "start_time": "2021-07-09T14:40:47.638Z"
   },
   {
    "duration": 33,
    "start_time": "2021-07-09T14:40:47.647Z"
   },
   {
    "duration": 15,
    "start_time": "2021-07-09T14:40:47.683Z"
   },
   {
    "duration": 29,
    "start_time": "2021-07-09T14:40:47.700Z"
   },
   {
    "duration": 22,
    "start_time": "2021-07-09T14:40:47.732Z"
   },
   {
    "duration": 19,
    "start_time": "2021-07-09T14:40:47.756Z"
   },
   {
    "duration": 29,
    "start_time": "2021-07-09T14:40:47.777Z"
   },
   {
    "duration": 10,
    "start_time": "2021-07-09T14:40:47.811Z"
   },
   {
    "duration": 22,
    "start_time": "2021-07-09T14:40:47.823Z"
   },
   {
    "duration": 32,
    "start_time": "2021-07-09T14:40:47.848Z"
   },
   {
    "duration": 26,
    "start_time": "2021-07-09T14:40:47.883Z"
   },
   {
    "duration": 47,
    "start_time": "2021-07-09T14:40:47.925Z"
   },
   {
    "duration": 14,
    "start_time": "2021-07-09T14:40:47.977Z"
   },
   {
    "duration": 33,
    "start_time": "2021-07-09T14:40:47.994Z"
   },
   {
    "duration": 14,
    "start_time": "2021-07-09T14:40:48.030Z"
   },
   {
    "duration": 14,
    "start_time": "2021-07-09T14:40:48.046Z"
   },
   {
    "duration": 16,
    "start_time": "2021-07-09T14:40:48.062Z"
   },
   {
    "duration": 19,
    "start_time": "2021-07-09T14:40:48.081Z"
   },
   {
    "duration": 44,
    "start_time": "2021-07-09T14:40:48.103Z"
   },
   {
    "duration": 25,
    "start_time": "2021-07-09T14:40:48.150Z"
   },
   {
    "duration": 48,
    "start_time": "2021-07-09T14:40:48.177Z"
   },
   {
    "duration": 39,
    "start_time": "2021-07-09T14:40:48.227Z"
   },
   {
    "duration": 608,
    "start_time": "2021-07-09T14:40:48.268Z"
   },
   {
    "duration": 1309,
    "start_time": "2021-07-09T14:40:48.879Z"
   },
   {
    "duration": 20,
    "start_time": "2021-07-09T14:40:50.191Z"
   },
   {
    "duration": 24,
    "start_time": "2021-07-09T14:40:50.213Z"
   },
   {
    "duration": 275,
    "start_time": "2021-07-09T14:40:50.239Z"
   },
   {
    "duration": 12,
    "start_time": "2021-07-09T14:40:50.522Z"
   },
   {
    "duration": 20,
    "start_time": "2021-07-09T14:40:50.536Z"
   },
   {
    "duration": 324,
    "start_time": "2021-07-09T14:40:50.558Z"
   },
   {
    "duration": 6,
    "start_time": "2021-07-09T14:40:50.884Z"
   },
   {
    "duration": 35,
    "start_time": "2021-07-09T14:40:50.892Z"
   },
   {
    "duration": 261,
    "start_time": "2021-07-09T14:40:50.930Z"
   },
   {
    "duration": 15,
    "start_time": "2021-07-09T14:40:51.194Z"
   },
   {
    "duration": 265,
    "start_time": "2021-07-09T14:40:51.211Z"
   },
   {
    "duration": 15,
    "start_time": "2021-07-09T14:40:51.478Z"
   },
   {
    "duration": 21,
    "start_time": "2021-07-09T14:40:51.518Z"
   },
   {
    "duration": 5,
    "start_time": "2021-07-09T14:40:51.542Z"
   },
   {
    "duration": 19,
    "start_time": "2021-07-09T14:40:51.550Z"
   },
   {
    "duration": 7,
    "start_time": "2021-07-09T14:40:51.572Z"
   },
   {
    "duration": 35,
    "start_time": "2021-07-09T14:40:51.582Z"
   },
   {
    "duration": 5,
    "start_time": "2021-07-09T14:40:51.620Z"
   },
   {
    "duration": 442,
    "start_time": "2021-07-09T14:40:51.629Z"
   },
   {
    "duration": 7,
    "start_time": "2021-07-09T14:40:52.073Z"
   },
   {
    "duration": 364,
    "start_time": "2021-07-09T14:40:52.083Z"
   },
   {
    "duration": -939,
    "start_time": "2021-07-09T14:40:53.389Z"
   },
   {
    "duration": -943,
    "start_time": "2021-07-09T14:40:53.394Z"
   },
   {
    "duration": -947,
    "start_time": "2021-07-09T14:40:53.399Z"
   },
   {
    "duration": -960,
    "start_time": "2021-07-09T14:40:53.414Z"
   },
   {
    "duration": -968,
    "start_time": "2021-07-09T14:40:53.423Z"
   },
   {
    "duration": -971,
    "start_time": "2021-07-09T14:40:53.427Z"
   },
   {
    "duration": 438,
    "start_time": "2021-07-09T16:54:29.111Z"
   },
   {
    "duration": 123,
    "start_time": "2021-07-09T16:54:34.910Z"
   },
   {
    "duration": 383,
    "start_time": "2021-07-09T16:54:37.918Z"
   },
   {
    "duration": 1563,
    "start_time": "2021-07-09T16:54:55.463Z"
   },
   {
    "duration": 2711,
    "start_time": "2021-07-09T16:54:57.028Z"
   },
   {
    "duration": 38,
    "start_time": "2021-07-09T16:54:59.742Z"
   },
   {
    "duration": 17,
    "start_time": "2021-07-09T16:54:59.783Z"
   },
   {
    "duration": 25,
    "start_time": "2021-07-09T16:54:59.802Z"
   },
   {
    "duration": 40,
    "start_time": "2021-07-09T16:54:59.829Z"
   },
   {
    "duration": 64,
    "start_time": "2021-07-09T16:54:59.871Z"
   },
   {
    "duration": 157,
    "start_time": "2021-07-09T16:54:59.938Z"
   },
   {
    "duration": 204,
    "start_time": "2021-07-09T16:55:00.098Z"
   },
   {
    "duration": 149,
    "start_time": "2021-07-09T16:55:00.305Z"
   },
   {
    "duration": 18,
    "start_time": "2021-07-09T16:55:00.457Z"
   },
   {
    "duration": 19,
    "start_time": "2021-07-09T16:55:00.478Z"
   },
   {
    "duration": 6,
    "start_time": "2021-07-09T16:55:00.499Z"
   },
   {
    "duration": 18,
    "start_time": "2021-07-09T16:55:00.508Z"
   },
   {
    "duration": 11,
    "start_time": "2021-07-09T16:55:00.528Z"
   },
   {
    "duration": 32,
    "start_time": "2021-07-09T16:55:00.541Z"
   },
   {
    "duration": 29,
    "start_time": "2021-07-09T16:55:00.575Z"
   },
   {
    "duration": 13,
    "start_time": "2021-07-09T16:55:00.607Z"
   },
   {
    "duration": 16,
    "start_time": "2021-07-09T16:55:00.622Z"
   },
   {
    "duration": 47,
    "start_time": "2021-07-09T16:55:00.640Z"
   },
   {
    "duration": 17,
    "start_time": "2021-07-09T16:55:00.689Z"
   },
   {
    "duration": 36,
    "start_time": "2021-07-09T16:55:00.709Z"
   },
   {
    "duration": 31,
    "start_time": "2021-07-09T16:55:00.751Z"
   },
   {
    "duration": 23,
    "start_time": "2021-07-09T16:55:00.786Z"
   },
   {
    "duration": 12,
    "start_time": "2021-07-09T16:55:00.812Z"
   },
   {
    "duration": 10,
    "start_time": "2021-07-09T16:55:00.826Z"
   },
   {
    "duration": 19,
    "start_time": "2021-07-09T16:55:00.838Z"
   },
   {
    "duration": 19,
    "start_time": "2021-07-09T16:55:00.860Z"
   },
   {
    "duration": 43,
    "start_time": "2021-07-09T16:55:00.882Z"
   },
   {
    "duration": 26,
    "start_time": "2021-07-09T16:55:00.927Z"
   },
   {
    "duration": 53,
    "start_time": "2021-07-09T16:55:00.956Z"
   },
   {
    "duration": 57,
    "start_time": "2021-07-09T16:55:01.012Z"
   },
   {
    "duration": 512,
    "start_time": "2021-07-09T16:55:01.072Z"
   },
   {
    "duration": 1255,
    "start_time": "2021-07-09T16:55:01.586Z"
   },
   {
    "duration": 6,
    "start_time": "2021-07-09T16:55:02.843Z"
   },
   {
    "duration": 33,
    "start_time": "2021-07-09T16:55:02.851Z"
   },
   {
    "duration": 270,
    "start_time": "2021-07-09T16:55:02.887Z"
   },
   {
    "duration": 7,
    "start_time": "2021-07-09T16:55:03.167Z"
   },
   {
    "duration": 21,
    "start_time": "2021-07-09T16:55:03.177Z"
   },
   {
    "duration": 317,
    "start_time": "2021-07-09T16:55:03.200Z"
   },
   {
    "duration": 6,
    "start_time": "2021-07-09T16:55:03.520Z"
   },
   {
    "duration": 16,
    "start_time": "2021-07-09T16:55:03.529Z"
   },
   {
    "duration": 269,
    "start_time": "2021-07-09T16:55:03.547Z"
   },
   {
    "duration": 6,
    "start_time": "2021-07-09T16:55:03.818Z"
   },
   {
    "duration": 262,
    "start_time": "2021-07-09T16:55:03.827Z"
   },
   {
    "duration": 15,
    "start_time": "2021-07-09T16:55:04.091Z"
   },
   {
    "duration": 19,
    "start_time": "2021-07-09T16:55:04.109Z"
   },
   {
    "duration": 41,
    "start_time": "2021-07-09T16:55:04.130Z"
   },
   {
    "duration": 18,
    "start_time": "2021-07-09T16:55:04.173Z"
   },
   {
    "duration": 8,
    "start_time": "2021-07-09T16:55:04.193Z"
   },
   {
    "duration": 7,
    "start_time": "2021-07-09T16:55:04.203Z"
   },
   {
    "duration": 5,
    "start_time": "2021-07-09T16:55:04.213Z"
   },
   {
    "duration": 443,
    "start_time": "2021-07-09T16:55:04.220Z"
   },
   {
    "duration": 9,
    "start_time": "2021-07-09T16:55:04.668Z"
   },
   {
    "duration": 470,
    "start_time": "2021-07-09T16:55:04.679Z"
   },
   {
    "duration": -796,
    "start_time": "2021-07-09T16:55:05.947Z"
   },
   {
    "duration": -807,
    "start_time": "2021-07-09T16:55:05.960Z"
   },
   {
    "duration": -817,
    "start_time": "2021-07-09T16:55:05.971Z"
   },
   {
    "duration": -825,
    "start_time": "2021-07-09T16:55:05.980Z"
   },
   {
    "duration": -833,
    "start_time": "2021-07-09T16:55:05.989Z"
   },
   {
    "duration": -840,
    "start_time": "2021-07-09T16:55:05.998Z"
   },
   {
    "duration": 111,
    "start_time": "2021-07-09T17:03:02.808Z"
   },
   {
    "duration": 461,
    "start_time": "2021-07-09T17:08:58.216Z"
   },
   {
    "duration": 6,
    "start_time": "2021-07-09T17:33:52.776Z"
   },
   {
    "duration": 407,
    "start_time": "2021-07-09T17:48:01.716Z"
   },
   {
    "duration": 7,
    "start_time": "2021-07-09T17:49:00.879Z"
   },
   {
    "duration": 347,
    "start_time": "2021-07-09T17:49:05.412Z"
   },
   {
    "duration": 3,
    "start_time": "2021-07-09T17:56:27.015Z"
   },
   {
    "duration": 338,
    "start_time": "2021-07-09T18:00:06.022Z"
   },
   {
    "duration": 3,
    "start_time": "2021-07-09T18:00:10.652Z"
   },
   {
    "duration": 61023,
    "start_time": "2021-07-09T18:00:11.195Z"
   },
   {
    "duration": 4,
    "start_time": "2021-07-09T18:02:34.424Z"
   },
   {
    "duration": 4,
    "start_time": "2021-07-09T18:11:12.374Z"
   },
   {
    "duration": 3435,
    "start_time": "2021-07-09T18:11:13.346Z"
   },
   {
    "duration": 12729,
    "start_time": "2021-07-09T18:16:56.250Z"
   },
   {
    "duration": 1075,
    "start_time": "2021-07-09T18:18:02.350Z"
   },
   {
    "duration": 12773,
    "start_time": "2021-07-09T18:18:06.325Z"
   },
   {
    "duration": 1579,
    "start_time": "2021-07-09T18:28:12.020Z"
   },
   {
    "duration": 3520,
    "start_time": "2021-07-09T18:28:13.601Z"
   },
   {
    "duration": 27,
    "start_time": "2021-07-09T18:28:17.124Z"
   },
   {
    "duration": 30,
    "start_time": "2021-07-09T18:28:17.153Z"
   },
   {
    "duration": 25,
    "start_time": "2021-07-09T18:28:17.185Z"
   },
   {
    "duration": 7,
    "start_time": "2021-07-09T18:28:17.213Z"
   },
   {
    "duration": 100,
    "start_time": "2021-07-09T18:28:17.222Z"
   },
   {
    "duration": 141,
    "start_time": "2021-07-09T18:28:17.326Z"
   },
   {
    "duration": 190,
    "start_time": "2021-07-09T18:28:17.470Z"
   },
   {
    "duration": 138,
    "start_time": "2021-07-09T18:28:17.662Z"
   },
   {
    "duration": 1124,
    "start_time": "2021-07-09T18:28:17.802Z"
   },
   {
    "duration": 20,
    "start_time": "2021-07-09T18:28:18.928Z"
   },
   {
    "duration": 9,
    "start_time": "2021-07-09T18:28:18.951Z"
   },
   {
    "duration": 14,
    "start_time": "2021-07-09T18:28:18.963Z"
   },
   {
    "duration": 18,
    "start_time": "2021-07-09T18:28:18.980Z"
   },
   {
    "duration": 10,
    "start_time": "2021-07-09T18:28:19.001Z"
   },
   {
    "duration": 19,
    "start_time": "2021-07-09T18:28:19.013Z"
   },
   {
    "duration": 7,
    "start_time": "2021-07-09T18:28:19.035Z"
   },
   {
    "duration": 28,
    "start_time": "2021-07-09T18:28:19.044Z"
   },
   {
    "duration": 30,
    "start_time": "2021-07-09T18:28:19.074Z"
   },
   {
    "duration": 38,
    "start_time": "2021-07-09T18:28:19.107Z"
   },
   {
    "duration": 24,
    "start_time": "2021-07-09T18:28:19.147Z"
   },
   {
    "duration": 14,
    "start_time": "2021-07-09T18:28:19.177Z"
   },
   {
    "duration": 8,
    "start_time": "2021-07-09T18:28:19.196Z"
   },
   {
    "duration": 7,
    "start_time": "2021-07-09T18:28:19.207Z"
   },
   {
    "duration": 7,
    "start_time": "2021-07-09T18:28:19.217Z"
   },
   {
    "duration": 42,
    "start_time": "2021-07-09T18:28:19.226Z"
   },
   {
    "duration": 13,
    "start_time": "2021-07-09T18:28:19.271Z"
   },
   {
    "duration": 32,
    "start_time": "2021-07-09T18:28:19.286Z"
   },
   {
    "duration": 50,
    "start_time": "2021-07-09T18:28:19.320Z"
   },
   {
    "duration": 39,
    "start_time": "2021-07-09T18:28:19.372Z"
   },
   {
    "duration": 59,
    "start_time": "2021-07-09T18:28:19.413Z"
   },
   {
    "duration": 500,
    "start_time": "2021-07-09T18:28:19.474Z"
   },
   {
    "duration": 1350,
    "start_time": "2021-07-09T18:28:19.977Z"
   },
   {
    "duration": 6,
    "start_time": "2021-07-09T18:28:21.330Z"
   },
   {
    "duration": 34,
    "start_time": "2021-07-09T18:28:21.338Z"
   },
   {
    "duration": 266,
    "start_time": "2021-07-09T18:28:21.375Z"
   },
   {
    "duration": 7,
    "start_time": "2021-07-09T18:28:21.643Z"
   },
   {
    "duration": 17,
    "start_time": "2021-07-09T18:28:21.667Z"
   },
   {
    "duration": 396,
    "start_time": "2021-07-09T18:28:21.687Z"
   },
   {
    "duration": 7,
    "start_time": "2021-07-09T18:28:22.086Z"
   },
   {
    "duration": 19,
    "start_time": "2021-07-09T18:28:22.096Z"
   },
   {
    "duration": 353,
    "start_time": "2021-07-09T18:28:22.118Z"
   },
   {
    "duration": 6,
    "start_time": "2021-07-09T18:28:22.474Z"
   },
   {
    "duration": 19,
    "start_time": "2021-07-09T18:28:22.482Z"
   },
   {
    "duration": 281,
    "start_time": "2021-07-09T18:28:22.503Z"
   },
   {
    "duration": 20,
    "start_time": "2021-07-09T18:28:22.786Z"
   },
   {
    "duration": 7,
    "start_time": "2021-07-09T18:28:22.809Z"
   },
   {
    "duration": 8,
    "start_time": "2021-07-09T18:28:22.818Z"
   },
   {
    "duration": 8,
    "start_time": "2021-07-09T18:28:22.829Z"
   },
   {
    "duration": 9,
    "start_time": "2021-07-09T18:28:22.841Z"
   },
   {
    "duration": 15,
    "start_time": "2021-07-09T18:28:22.853Z"
   },
   {
    "duration": 417,
    "start_time": "2021-07-09T18:28:22.871Z"
   },
   {
    "duration": 9,
    "start_time": "2021-07-09T18:28:23.290Z"
   },
   {
    "duration": 9,
    "start_time": "2021-07-09T18:28:23.301Z"
   },
   {
    "duration": 13,
    "start_time": "2021-07-09T18:28:23.313Z"
   },
   {
    "duration": 62262,
    "start_time": "2021-07-09T18:28:23.329Z"
   },
   {
    "duration": 5,
    "start_time": "2021-07-09T18:29:25.593Z"
   },
   {
    "duration": 7,
    "start_time": "2021-07-09T18:29:25.600Z"
   },
   {
    "duration": 3858,
    "start_time": "2021-07-09T18:29:25.609Z"
   },
   {
    "duration": 12759,
    "start_time": "2021-07-09T18:29:29.471Z"
   },
   {
    "duration": 1669,
    "start_time": "2021-07-10T04:33:43.942Z"
   },
   {
    "duration": 6236,
    "start_time": "2021-07-10T04:33:45.614Z"
   },
   {
    "duration": 25,
    "start_time": "2021-07-10T04:34:12.903Z"
   },
   {
    "duration": 20,
    "start_time": "2021-07-10T04:34:13.462Z"
   },
   {
    "duration": 27,
    "start_time": "2021-07-10T04:34:13.942Z"
   },
   {
    "duration": 8,
    "start_time": "2021-07-10T04:34:14.752Z"
   },
   {
    "duration": 65,
    "start_time": "2021-07-10T04:35:31.590Z"
   },
   {
    "duration": 131,
    "start_time": "2021-07-10T04:35:32.164Z"
   },
   {
    "duration": 191,
    "start_time": "2021-07-10T04:35:32.652Z"
   },
   {
    "duration": 131,
    "start_time": "2021-07-10T04:35:33.331Z"
   },
   {
    "duration": 12,
    "start_time": "2021-07-10T04:36:37.613Z"
   },
   {
    "duration": 19,
    "start_time": "2021-07-10T04:36:38.487Z"
   },
   {
    "duration": 8,
    "start_time": "2021-07-10T04:36:39.914Z"
   },
   {
    "duration": 9,
    "start_time": "2021-07-10T04:36:46.334Z"
   },
   {
    "duration": 4,
    "start_time": "2021-07-10T04:37:28.224Z"
   },
   {
    "duration": 8,
    "start_time": "2021-07-10T04:37:29.468Z"
   },
   {
    "duration": 20,
    "start_time": "2021-07-10T04:37:32.631Z"
   },
   {
    "duration": 7,
    "start_time": "2021-07-10T04:37:34.426Z"
   },
   {
    "duration": 10,
    "start_time": "2021-07-10T04:39:01.866Z"
   },
   {
    "duration": 24,
    "start_time": "2021-07-10T04:39:01.906Z"
   },
   {
    "duration": 18,
    "start_time": "2021-07-10T04:39:03.823Z"
   },
   {
    "duration": 12,
    "start_time": "2021-07-10T04:39:13.451Z"
   },
   {
    "duration": 15,
    "start_time": "2021-07-10T04:41:02.959Z"
   },
   {
    "duration": 8,
    "start_time": "2021-07-10T04:41:03.497Z"
   },
   {
    "duration": 5,
    "start_time": "2021-07-10T04:41:05.380Z"
   },
   {
    "duration": 8,
    "start_time": "2021-07-10T04:41:05.388Z"
   },
   {
    "duration": 4,
    "start_time": "2021-07-10T04:41:24.603Z"
   },
   {
    "duration": 8,
    "start_time": "2021-07-10T04:41:25.220Z"
   },
   {
    "duration": 23,
    "start_time": "2021-07-10T04:41:27.612Z"
   },
   {
    "duration": 24,
    "start_time": "2021-07-10T04:41:27.841Z"
   },
   {
    "duration": 46,
    "start_time": "2021-07-10T04:41:29.334Z"
   },
   {
    "duration": 44,
    "start_time": "2021-07-10T04:41:30.231Z"
   },
   {
    "duration": 506,
    "start_time": "2021-07-10T04:42:01.118Z"
   },
   {
    "duration": 1196,
    "start_time": "2021-07-10T04:43:07.532Z"
   },
   {
    "duration": 6,
    "start_time": "2021-07-10T04:43:35.142Z"
   },
   {
    "duration": 14,
    "start_time": "2021-07-10T04:43:35.605Z"
   },
   {
    "duration": 265,
    "start_time": "2021-07-10T04:43:35.839Z"
   },
   {
    "duration": 6,
    "start_time": "2021-07-10T04:43:36.254Z"
   },
   {
    "duration": 15,
    "start_time": "2021-07-10T04:43:36.417Z"
   },
   {
    "duration": 314,
    "start_time": "2021-07-10T04:43:36.804Z"
   },
   {
    "duration": 7,
    "start_time": "2021-07-10T04:43:37.298Z"
   },
   {
    "duration": 15,
    "start_time": "2021-07-10T04:43:37.543Z"
   },
   {
    "duration": 252,
    "start_time": "2021-07-10T04:43:37.785Z"
   },
   {
    "duration": 7,
    "start_time": "2021-07-10T04:43:38.342Z"
   },
   {
    "duration": 15,
    "start_time": "2021-07-10T04:43:38.815Z"
   },
   {
    "duration": 231,
    "start_time": "2021-07-10T04:43:39.304Z"
   },
   {
    "duration": 20,
    "start_time": "2021-07-10T04:43:39.746Z"
   },
   {
    "duration": 7,
    "start_time": "2021-07-10T04:43:49.308Z"
   },
   {
    "duration": 9,
    "start_time": "2021-07-10T04:43:53.550Z"
   },
   {
    "duration": 8,
    "start_time": "2021-07-10T04:43:54.100Z"
   },
   {
    "duration": 11,
    "start_time": "2021-07-10T04:43:54.364Z"
   },
   {
    "duration": 4,
    "start_time": "2021-07-10T04:43:54.523Z"
   },
   {
    "duration": 425,
    "start_time": "2021-07-10T04:43:54.925Z"
   },
   {
    "duration": 9,
    "start_time": "2021-07-10T04:47:20.579Z"
   },
   {
    "duration": 4,
    "start_time": "2021-07-10T04:47:30.770Z"
   },
   {
    "duration": 3,
    "start_time": "2021-07-10T04:47:32.859Z"
   },
   {
    "duration": 63775,
    "start_time": "2021-07-10T04:47:47.841Z"
   },
   {
    "duration": 4,
    "start_time": "2021-07-10T04:48:51.618Z"
   },
   {
    "duration": 1108,
    "start_time": "2021-07-11T07:36:31.605Z"
   },
   {
    "duration": 1964,
    "start_time": "2021-07-11T07:36:32.715Z"
   },
   {
    "duration": 15,
    "start_time": "2021-07-11T07:36:34.681Z"
   },
   {
    "duration": 9,
    "start_time": "2021-07-11T07:36:34.697Z"
   },
   {
    "duration": 14,
    "start_time": "2021-07-11T07:36:34.707Z"
   },
   {
    "duration": 4,
    "start_time": "2021-07-11T07:36:34.723Z"
   },
   {
    "duration": 37,
    "start_time": "2021-07-11T07:36:34.728Z"
   },
   {
    "duration": 66,
    "start_time": "2021-07-11T07:36:34.792Z"
   },
   {
    "duration": 113,
    "start_time": "2021-07-11T07:36:34.860Z"
   },
   {
    "duration": 76,
    "start_time": "2021-07-11T07:36:34.974Z"
   },
   {
    "duration": 8,
    "start_time": "2021-07-11T07:36:35.051Z"
   },
   {
    "duration": 14,
    "start_time": "2021-07-11T07:36:35.061Z"
   },
   {
    "duration": 18,
    "start_time": "2021-07-11T07:36:35.076Z"
   },
   {
    "duration": 8,
    "start_time": "2021-07-11T07:36:35.095Z"
   },
   {
    "duration": 6,
    "start_time": "2021-07-11T07:36:35.104Z"
   },
   {
    "duration": 9,
    "start_time": "2021-07-11T07:36:35.112Z"
   },
   {
    "duration": 15,
    "start_time": "2021-07-11T07:36:35.122Z"
   },
   {
    "duration": 5,
    "start_time": "2021-07-11T07:36:35.138Z"
   },
   {
    "duration": 9,
    "start_time": "2021-07-11T07:36:35.144Z"
   },
   {
    "duration": 17,
    "start_time": "2021-07-11T07:36:35.154Z"
   },
   {
    "duration": 9,
    "start_time": "2021-07-11T07:36:35.192Z"
   },
   {
    "duration": 6,
    "start_time": "2021-07-11T07:36:35.203Z"
   },
   {
    "duration": 9,
    "start_time": "2021-07-11T07:36:35.213Z"
   },
   {
    "duration": 8,
    "start_time": "2021-07-11T07:36:35.224Z"
   },
   {
    "duration": 10,
    "start_time": "2021-07-11T07:36:35.233Z"
   },
   {
    "duration": 9,
    "start_time": "2021-07-11T07:36:35.244Z"
   },
   {
    "duration": 8,
    "start_time": "2021-07-11T07:36:35.254Z"
   },
   {
    "duration": 28,
    "start_time": "2021-07-11T07:36:35.264Z"
   },
   {
    "duration": 30,
    "start_time": "2021-07-11T07:36:35.293Z"
   },
   {
    "duration": 17,
    "start_time": "2021-07-11T07:36:35.324Z"
   },
   {
    "duration": 21,
    "start_time": "2021-07-11T07:36:35.342Z"
   },
   {
    "duration": 33,
    "start_time": "2021-07-11T07:36:35.365Z"
   },
   {
    "duration": 264,
    "start_time": "2021-07-11T07:36:35.399Z"
   },
   {
    "duration": 602,
    "start_time": "2021-07-11T07:36:35.665Z"
   },
   {
    "duration": 4,
    "start_time": "2021-07-11T07:36:36.268Z"
   },
   {
    "duration": 19,
    "start_time": "2021-07-11T07:36:36.274Z"
   },
   {
    "duration": 138,
    "start_time": "2021-07-11T07:36:36.294Z"
   },
   {
    "duration": 4,
    "start_time": "2021-07-11T07:36:36.433Z"
   },
   {
    "duration": 11,
    "start_time": "2021-07-11T07:36:36.439Z"
   },
   {
    "duration": 195,
    "start_time": "2021-07-11T07:36:36.452Z"
   },
   {
    "duration": 4,
    "start_time": "2021-07-11T07:36:36.648Z"
   },
   {
    "duration": 10,
    "start_time": "2021-07-11T07:36:36.654Z"
   },
   {
    "duration": 140,
    "start_time": "2021-07-11T07:36:36.665Z"
   },
   {
    "duration": 4,
    "start_time": "2021-07-11T07:36:36.807Z"
   },
   {
    "duration": 12,
    "start_time": "2021-07-11T07:36:36.812Z"
   },
   {
    "duration": 139,
    "start_time": "2021-07-11T07:36:36.826Z"
   },
   {
    "duration": 12,
    "start_time": "2021-07-11T07:36:36.966Z"
   },
   {
    "duration": 14,
    "start_time": "2021-07-11T07:36:36.980Z"
   },
   {
    "duration": 6,
    "start_time": "2021-07-11T07:36:36.995Z"
   },
   {
    "duration": 5,
    "start_time": "2021-07-11T07:36:37.003Z"
   },
   {
    "duration": 4,
    "start_time": "2021-07-11T07:36:37.009Z"
   },
   {
    "duration": 2,
    "start_time": "2021-07-11T07:36:37.015Z"
   },
   {
    "duration": 229,
    "start_time": "2021-07-11T07:36:37.019Z"
   },
   {
    "duration": 4,
    "start_time": "2021-07-11T07:36:37.250Z"
   },
   {
    "duration": 4,
    "start_time": "2021-07-11T07:36:37.256Z"
   },
   {
    "duration": 5,
    "start_time": "2021-07-11T07:36:37.261Z"
   },
   {
    "duration": 42311,
    "start_time": "2021-07-11T07:36:37.267Z"
   },
   {
    "duration": 3,
    "start_time": "2021-07-11T07:37:19.579Z"
   },
   {
    "duration": 2,
    "start_time": "2021-07-11T07:37:19.591Z"
   },
   {
    "duration": 2106,
    "start_time": "2021-07-11T07:37:19.594Z"
   },
   {
    "duration": 8475,
    "start_time": "2021-07-11T07:37:21.793Z"
   },
   {
    "duration": 319,
    "start_time": "2021-07-11T07:37:30.269Z"
   },
   {
    "duration": 4,
    "start_time": "2021-07-11T07:38:30.296Z"
   },
   {
    "duration": 232,
    "start_time": "2021-07-11T07:38:36.522Z"
   },
   {
    "duration": 314,
    "start_time": "2021-07-11T07:38:46.663Z"
   },
   {
    "duration": 315,
    "start_time": "2021-07-11T07:39:17.800Z"
   },
   {
    "duration": 315,
    "start_time": "2021-07-11T07:39:35.243Z"
   },
   {
    "duration": 5535,
    "start_time": "2021-07-11T07:39:54.896Z"
   },
   {
    "duration": 8475,
    "start_time": "2021-07-11T07:40:09.807Z"
   }
  ],
  "kernelspec": {
   "display_name": "Python 3",
   "language": "python",
   "name": "python3"
  },
  "language_info": {
   "codemirror_mode": {
    "name": "ipython",
    "version": 3
   },
   "file_extension": ".py",
   "mimetype": "text/x-python",
   "name": "python",
   "nbconvert_exporter": "python",
   "pygments_lexer": "ipython3",
   "version": "3.8.8"
  },
  "toc": {
   "base_numbering": 1,
   "nav_menu": {},
   "number_sections": true,
   "sideBar": true,
   "skip_h1_title": true,
   "title_cell": "Содержание",
   "title_sidebar": "Contents",
   "toc_cell": true,
   "toc_position": {
    "height": "calc(100% - 180px)",
    "left": "10px",
    "top": "150px",
    "width": "271.51px"
   },
   "toc_section_display": true,
   "toc_window_display": true
  }
 },
 "nbformat": 4,
 "nbformat_minor": 2
}
